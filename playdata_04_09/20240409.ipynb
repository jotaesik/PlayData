{
 "cells": [
  {
   "cell_type": "code",
   "execution_count": 1,
   "id": "d98eb996-e600-431f-a59d-92f649d51f0b",
   "metadata": {},
   "outputs": [],
   "source": [
    "import pickle\n",
    "import pandas as pd\n",
    "import numpy as np"
   ]
  },
  {
   "cell_type": "code",
   "execution_count": 2,
   "id": "0186c082-3522-40e7-9650-12390652e82b",
   "metadata": {},
   "outputs": [],
   "source": [
    "with open(\"./cu.pkl\", \"rb\") as f:\n",
    "    cu_df = pickle.load(f)"
   ]
  },
  {
   "cell_type": "code",
   "execution_count": 4,
   "id": "888eb78e-abcc-4176-9557-de6a4120cc0d",
   "metadata": {},
   "outputs": [
    {
     "data": {
      "text/plain": [
       "(19550, 4)"
      ]
     },
     "execution_count": 4,
     "metadata": {},
     "output_type": "execute_result"
    }
   ],
   "source": [
    "cu_df.shape"
   ]
  },
  {
   "cell_type": "code",
   "execution_count": 11,
   "id": "1657c49e-175d-4f20-b44b-55a7b6d65098",
   "metadata": {},
   "outputs": [
    {
     "data": {
      "text/plain": [
       "1917"
      ]
     },
     "execution_count": 11,
     "metadata": {},
     "output_type": "execute_result"
    }
   ],
   "source": [
    "cu_df['store_name'].duplicated().sum()"
   ]
  },
  {
   "cell_type": "code",
   "execution_count": 13,
   "id": "9e6d4b0c-d5b5-4c24-996c-1a578d990f24",
   "metadata": {},
   "outputs": [
    {
     "data": {
      "text/html": [
       "<div>\n",
       "<style scoped>\n",
       "    .dataframe tbody tr th:only-of-type {\n",
       "        vertical-align: middle;\n",
       "    }\n",
       "\n",
       "    .dataframe tbody tr th {\n",
       "        vertical-align: top;\n",
       "    }\n",
       "\n",
       "    .dataframe thead th {\n",
       "        text-align: right;\n",
       "    }\n",
       "</style>\n",
       "<table border=\"1\" class=\"dataframe\">\n",
       "  <thead>\n",
       "    <tr style=\"text-align: right;\">\n",
       "      <th></th>\n",
       "      <th>store_name</th>\n",
       "      <th>store_tel</th>\n",
       "      <th>store_address</th>\n",
       "      <th>store_service</th>\n",
       "    </tr>\n",
       "  </thead>\n",
       "  <tbody>\n",
       "    <tr>\n",
       "      <th>67</th>\n",
       "      <td>고양내유점</td>\n",
       "      <td></td>\n",
       "      <td>경기도 고양시 덕양구 유산길 22, (내유동)</td>\n",
       "      <td>[hour, delivery, fried, coffee, cash]</td>\n",
       "    </tr>\n",
       "    <tr>\n",
       "      <th>68</th>\n",
       "      <td>내유무지개점</td>\n",
       "      <td>031</td>\n",
       "      <td>경기도 고양시 덕양구 유산길 46, (내유동) 1층</td>\n",
       "      <td>[hour, delivery, fried, coffee, cash]</td>\n",
       "    </tr>\n",
       "    <tr>\n",
       "      <th>69</th>\n",
       "      <td>내유희망점</td>\n",
       "      <td>0319625273</td>\n",
       "      <td>경기도 고양시 덕양구 내유길 81, (내유동) 1층 101,102,103호</td>\n",
       "      <td>[hour, delivery, bakery, fried, coffee, cash]</td>\n",
       "    </tr>\n",
       "  </tbody>\n",
       "</table>\n",
       "</div>"
      ],
      "text/plain": [
       "   store_name   store_tel                              store_address  \\\n",
       "67      고양내유점                              경기도 고양시 덕양구 유산길 22, (내유동)   \n",
       "68     내유무지개점         031               경기도 고양시 덕양구 유산길 46, (내유동) 1층   \n",
       "69      내유희망점  0319625273  경기도 고양시 덕양구 내유길 81, (내유동) 1층 101,102,103호   \n",
       "\n",
       "                                    store_service  \n",
       "67          [hour, delivery, fried, coffee, cash]  \n",
       "68          [hour, delivery, fried, coffee, cash]  \n",
       "69  [hour, delivery, bakery, fried, coffee, cash]  "
      ]
     },
     "execution_count": 13,
     "metadata": {},
     "output_type": "execute_result"
    }
   ],
   "source": [
    "cu_df[cu_df['store_name'].duplicated()].head(3)"
   ]
  },
  {
   "cell_type": "code",
   "execution_count": 14,
   "id": "07fc11fe-a576-46e1-bf71-2093227243cc",
   "metadata": {},
   "outputs": [
    {
     "data": {
      "text/html": [
       "<div>\n",
       "<style scoped>\n",
       "    .dataframe tbody tr th:only-of-type {\n",
       "        vertical-align: middle;\n",
       "    }\n",
       "\n",
       "    .dataframe tbody tr th {\n",
       "        vertical-align: top;\n",
       "    }\n",
       "\n",
       "    .dataframe thead th {\n",
       "        text-align: right;\n",
       "    }\n",
       "</style>\n",
       "<table border=\"1\" class=\"dataframe\">\n",
       "  <thead>\n",
       "    <tr style=\"text-align: right;\">\n",
       "      <th></th>\n",
       "      <th>store_name</th>\n",
       "      <th>store_tel</th>\n",
       "      <th>store_address</th>\n",
       "      <th>store_service</th>\n",
       "    </tr>\n",
       "  </thead>\n",
       "  <tbody>\n",
       "    <tr>\n",
       "      <th>56</th>\n",
       "      <td>고양내유점</td>\n",
       "      <td></td>\n",
       "      <td>경기도 고양시 덕양구 유산길 22, (내유동)</td>\n",
       "      <td>[hour, delivery, fried, coffee, cash]</td>\n",
       "    </tr>\n",
       "    <tr>\n",
       "      <th>67</th>\n",
       "      <td>고양내유점</td>\n",
       "      <td></td>\n",
       "      <td>경기도 고양시 덕양구 유산길 22, (내유동)</td>\n",
       "      <td>[hour, delivery, fried, coffee, cash]</td>\n",
       "    </tr>\n",
       "  </tbody>\n",
       "</table>\n",
       "</div>"
      ],
      "text/plain": [
       "   store_name store_tel              store_address  \\\n",
       "56      고양내유점            경기도 고양시 덕양구 유산길 22, (내유동)   \n",
       "67      고양내유점            경기도 고양시 덕양구 유산길 22, (내유동)   \n",
       "\n",
       "                            store_service  \n",
       "56  [hour, delivery, fried, coffee, cash]  \n",
       "67  [hour, delivery, fried, coffee, cash]  "
      ]
     },
     "execution_count": 14,
     "metadata": {},
     "output_type": "execute_result"
    }
   ],
   "source": [
    "cu_df[cu_df.store_name == \"고양내유점\"]"
   ]
  },
  {
   "cell_type": "code",
   "execution_count": 18,
   "id": "ec40986b-2795-4202-9f43-34e60411e81d",
   "metadata": {},
   "outputs": [],
   "source": [
    "unique_cu = cu_df[~cu_df['store_name'].duplicated()].copy()"
   ]
  },
  {
   "cell_type": "code",
   "execution_count": 19,
   "id": "bd9f5e3e-a77a-4a0b-a5ff-e2d7f8d9bb92",
   "metadata": {},
   "outputs": [
    {
     "data": {
      "text/plain": [
       "(17633, 4)"
      ]
     },
     "execution_count": 19,
     "metadata": {},
     "output_type": "execute_result"
    }
   ],
   "source": [
    "unique_cu.shape"
   ]
  },
  {
   "cell_type": "code",
   "execution_count": 20,
   "id": "2e53de31-37f1-4649-96d1-aac3ce0f67c7",
   "metadata": {},
   "outputs": [
    {
     "data": {
      "text/plain": [
       "store_name       0\n",
       "store_tel        0\n",
       "store_address    0\n",
       "store_service    0\n",
       "dtype: int64"
      ]
     },
     "execution_count": 20,
     "metadata": {},
     "output_type": "execute_result"
    }
   ],
   "source": [
    "unique_cu.isnull().sum()"
   ]
  },
  {
   "cell_type": "code",
   "execution_count": 24,
   "id": "13972b66-dc0c-420a-af2e-622570d41bb2",
   "metadata": {},
   "outputs": [
    {
     "data": {
      "text/plain": [
       "(17633, 4)"
      ]
     },
     "execution_count": 24,
     "metadata": {},
     "output_type": "execute_result"
    }
   ],
   "source": [
    "unique_cu.shape"
   ]
  },
  {
   "cell_type": "code",
   "execution_count": 27,
   "id": "e19b5844-5336-4067-a357-9c62aaef32b2",
   "metadata": {},
   "outputs": [],
   "source": [
    "unique_cu['sido'] = unique_cu.store_address.apply(lambda  x : x.split()[0])"
   ]
  },
  {
   "cell_type": "code",
   "execution_count": 29,
   "id": "ed0d0b25-e012-45ae-b956-ed2d58f09188",
   "metadata": {},
   "outputs": [
    {
     "data": {
      "text/plain": [
       "sido\n",
       "경기도        4770\n",
       "서울특별시      2859\n",
       "경상남도       1208\n",
       "부산광역시      1000\n",
       "충청남도        922\n",
       "인천광역시       915\n",
       "경상북도        905\n",
       "강원도         824\n",
       "충청북도        683\n",
       "제주특별자치도     618\n",
       "대구광역시       606\n",
       "전라북도        574\n",
       "전라남도        515\n",
       "대전광역시       427\n",
       "광주광역시       403\n",
       "울산광역시       370\n",
       "경남            5\n",
       "전북특별자치도       4\n",
       "충북            2\n",
       "전남            2\n",
       "서울시           2\n",
       "서울            2\n",
       "대구시           2\n",
       "경북            2\n",
       "아산시           1\n",
       "울산시           1\n",
       "인천            1\n",
       "경기            1\n",
       "인천광영시         1\n",
       "부산시           1\n",
       "부산광영시         1\n",
       "부산            1\n",
       "대구            1\n",
       "충천남도          1\n",
       "충청남남          1\n",
       "광주            1\n",
       "포천시           1\n",
       "Name: count, dtype: int64"
      ]
     },
     "execution_count": 29,
     "metadata": {},
     "output_type": "execute_result"
    }
   ],
   "source": [
    "unique_cu.value_counts('sido')"
   ]
  },
  {
   "cell_type": "code",
   "execution_count": 32,
   "id": "4eb2be32-6f0e-4019-9200-3238ad7b2d28",
   "metadata": {},
   "outputs": [],
   "source": [
    "tmp = set()"
   ]
  },
  {
   "cell_type": "code",
   "execution_count": 34,
   "id": "cab423af-a1d2-4476-8675-4c7ce2c9ef86",
   "metadata": {},
   "outputs": [],
   "source": [
    "tmp.add('a')"
   ]
  },
  {
   "cell_type": "code",
   "execution_count": 36,
   "id": "a461507d-19bc-44b4-ab54-e56a1cebccbf",
   "metadata": {},
   "outputs": [],
   "source": [
    "tmp.add('a')"
   ]
  },
  {
   "cell_type": "code",
   "execution_count": 37,
   "id": "2379cfc3-1187-45f2-80e1-1cfd987637bc",
   "metadata": {},
   "outputs": [
    {
     "data": {
      "text/plain": [
       "{'a'}"
      ]
     },
     "execution_count": 37,
     "metadata": {},
     "output_type": "execute_result"
    }
   ],
   "source": [
    "tmp"
   ]
  },
  {
   "cell_type": "code",
   "execution_count": 38,
   "id": "f9cedb17-992d-4edf-96c4-b7e771f5c814",
   "metadata": {},
   "outputs": [
    {
     "data": {
      "text/plain": [
       "0              [None, None, None, None, None]\n",
       "1                          [None, None, None]\n",
       "2                    [None, None, None, None]\n",
       "3                    [None, None, None, None]\n",
       "4                    [None, None, None, None]\n",
       "                         ...                 \n",
       "19545                [None, None, None, None]\n",
       "19546    [None, None, None, None, None, None]\n",
       "19547    [None, None, None, None, None, None]\n",
       "19548          [None, None, None, None, None]\n",
       "19549                      [None, None, None]\n",
       "Name: store_service, Length: 17633, dtype: object"
      ]
     },
     "execution_count": 38,
     "metadata": {},
     "output_type": "execute_result"
    }
   ],
   "source": [
    "service_set = set()\n",
    "unique_cu['store_service'].apply(lambda x :  [service_set.add(y) for y in x])"
   ]
  },
  {
   "cell_type": "code",
   "execution_count": 47,
   "id": "50a2c8a2-9d50-443f-a9f3-7277da21f71e",
   "metadata": {},
   "outputs": [
    {
     "name": "stdout",
     "output_type": "stream",
     "text": [
      "fried\n",
      "toto\n",
      "mix\n",
      "hour\n",
      "pos\n",
      "coffee\n",
      "lotto\n",
      "bakery\n",
      "cash\n",
      "battery\n",
      "delivery\n"
     ]
    }
   ],
   "source": [
    "for service in service_set:\n",
    "    unique_cu[service] = unique_cu.store_service.apply(lambda x : True if service in x else False)"
   ]
  },
  {
   "cell_type": "code",
   "execution_count": 50,
   "id": "2554c3f0-2b3e-4e1c-b702-b57f7a29d5ed",
   "metadata": {},
   "outputs": [
    {
     "data": {
      "text/plain": [
       "14533"
      ]
     },
     "execution_count": 50,
     "metadata": {},
     "output_type": "execute_result"
    }
   ],
   "source": [
    "unique_cu.delivery.sum()"
   ]
  },
  {
   "cell_type": "code",
   "execution_count": 52,
   "id": "fc7864b5-be5b-4bb3-b5be-17fb44f0779b",
   "metadata": {},
   "outputs": [
    {
     "data": {
      "text/plain": [
       "hour\n",
       "True     0.832757\n",
       "False    0.167243\n",
       "Name: proportion, dtype: float64"
      ]
     },
     "execution_count": 52,
     "metadata": {},
     "output_type": "execute_result"
    }
   ],
   "source": [
    "unique_cu.value_counts('hour', normalize=True)"
   ]
  },
  {
   "cell_type": "code",
   "execution_count": 69,
   "id": "0ee809e6-86ee-4c35-8ea4-c0902b1666d2",
   "metadata": {},
   "outputs": [
    {
     "data": {
      "text/html": [
       "<div>\n",
       "<style scoped>\n",
       "    .dataframe tbody tr th:only-of-type {\n",
       "        vertical-align: middle;\n",
       "    }\n",
       "\n",
       "    .dataframe tbody tr th {\n",
       "        vertical-align: top;\n",
       "    }\n",
       "\n",
       "    .dataframe thead th {\n",
       "        text-align: right;\n",
       "    }\n",
       "</style>\n",
       "<table border=\"1\" class=\"dataframe\">\n",
       "  <thead>\n",
       "    <tr style=\"text-align: right;\">\n",
       "      <th></th>\n",
       "      <th>store_name</th>\n",
       "      <th>store_tel</th>\n",
       "      <th>store_address</th>\n",
       "      <th>store_service</th>\n",
       "      <th>sido</th>\n",
       "      <th>bakery</th>\n",
       "      <th>fried</th>\n",
       "      <th>toto</th>\n",
       "      <th>mix</th>\n",
       "      <th>hour</th>\n",
       "      <th>pos</th>\n",
       "      <th>coffee</th>\n",
       "      <th>lotto</th>\n",
       "      <th>cash</th>\n",
       "      <th>battery</th>\n",
       "      <th>delivery</th>\n",
       "    </tr>\n",
       "  </thead>\n",
       "  <tbody>\n",
       "    <tr>\n",
       "      <th>7254</th>\n",
       "      <td>방배제일점</td>\n",
       "      <td>025888232</td>\n",
       "      <td>서울특별시 서초구 효령로23길 90, (방배동)</td>\n",
       "      <td>[hour, delivery, coffee]</td>\n",
       "      <td>서울특별시</td>\n",
       "      <td>False</td>\n",
       "      <td>False</td>\n",
       "      <td>False</td>\n",
       "      <td>False</td>\n",
       "      <td>True</td>\n",
       "      <td>False</td>\n",
       "      <td>True</td>\n",
       "      <td>False</td>\n",
       "      <td>False</td>\n",
       "      <td>False</td>\n",
       "      <td>True</td>\n",
       "    </tr>\n",
       "    <tr>\n",
       "      <th>7260</th>\n",
       "      <td>서울백석대점</td>\n",
       "      <td>025259811</td>\n",
       "      <td>서울특별시 서초구 효령로28길 3 RNC빌딩</td>\n",
       "      <td>[hour, delivery, fried, coffee, cash, battery]</td>\n",
       "      <td>서울특별시</td>\n",
       "      <td>False</td>\n",
       "      <td>True</td>\n",
       "      <td>False</td>\n",
       "      <td>False</td>\n",
       "      <td>True</td>\n",
       "      <td>False</td>\n",
       "      <td>True</td>\n",
       "      <td>False</td>\n",
       "      <td>True</td>\n",
       "      <td>True</td>\n",
       "      <td>True</td>\n",
       "    </tr>\n",
       "    <tr>\n",
       "      <th>7264</th>\n",
       "      <td>서초그랑자이점</td>\n",
       "      <td></td>\n",
       "      <td>서울특별시 서초구 효령로403 서초그랑자이 1층 상가동 101, 110호</td>\n",
       "      <td>[hour, delivery, coffee]</td>\n",
       "      <td>서울특별시</td>\n",
       "      <td>False</td>\n",
       "      <td>False</td>\n",
       "      <td>False</td>\n",
       "      <td>False</td>\n",
       "      <td>True</td>\n",
       "      <td>False</td>\n",
       "      <td>True</td>\n",
       "      <td>False</td>\n",
       "      <td>False</td>\n",
       "      <td>False</td>\n",
       "      <td>True</td>\n",
       "    </tr>\n",
       "    <tr>\n",
       "      <th>7269</th>\n",
       "      <td>남부터미널역점</td>\n",
       "      <td>025975601</td>\n",
       "      <td>서울특별시 서초구 효령로 279, (서초동)</td>\n",
       "      <td>[hour, delivery, coffee, cash]</td>\n",
       "      <td>서울특별시</td>\n",
       "      <td>False</td>\n",
       "      <td>False</td>\n",
       "      <td>False</td>\n",
       "      <td>False</td>\n",
       "      <td>True</td>\n",
       "      <td>False</td>\n",
       "      <td>True</td>\n",
       "      <td>False</td>\n",
       "      <td>True</td>\n",
       "      <td>False</td>\n",
       "      <td>True</td>\n",
       "    </tr>\n",
       "    <tr>\n",
       "      <th>7313</th>\n",
       "      <td>아크로텔강남역점</td>\n",
       "      <td>0234871577</td>\n",
       "      <td>서울특별시 서초구 효령로77길 34 아크로텔강남역 (서초동) 아크로텔강남역</td>\n",
       "      <td>[hour, delivery, coffee]</td>\n",
       "      <td>서울특별시</td>\n",
       "      <td>False</td>\n",
       "      <td>False</td>\n",
       "      <td>False</td>\n",
       "      <td>False</td>\n",
       "      <td>True</td>\n",
       "      <td>False</td>\n",
       "      <td>True</td>\n",
       "      <td>False</td>\n",
       "      <td>False</td>\n",
       "      <td>False</td>\n",
       "      <td>True</td>\n",
       "    </tr>\n",
       "  </tbody>\n",
       "</table>\n",
       "</div>"
      ],
      "text/plain": [
       "     store_name   store_tel                              store_address  \\\n",
       "7254      방배제일점   025888232                 서울특별시 서초구 효령로23길 90, (방배동)   \n",
       "7260     서울백석대점   025259811                   서울특별시 서초구 효령로28길 3 RNC빌딩   \n",
       "7264    서초그랑자이점               서울특별시 서초구 효령로403 서초그랑자이 1층 상가동 101, 110호   \n",
       "7269    남부터미널역점   025975601                   서울특별시 서초구 효령로 279, (서초동)   \n",
       "7313   아크로텔강남역점  0234871577  서울특별시 서초구 효령로77길 34 아크로텔강남역 (서초동) 아크로텔강남역   \n",
       "\n",
       "                                       store_service   sido  bakery  fried  \\\n",
       "7254                        [hour, delivery, coffee]  서울특별시   False  False   \n",
       "7260  [hour, delivery, fried, coffee, cash, battery]  서울특별시   False   True   \n",
       "7264                        [hour, delivery, coffee]  서울특별시   False  False   \n",
       "7269                  [hour, delivery, coffee, cash]  서울특별시   False  False   \n",
       "7313                        [hour, delivery, coffee]  서울특별시   False  False   \n",
       "\n",
       "       toto    mix  hour    pos  coffee  lotto   cash  battery  delivery  \n",
       "7254  False  False  True  False    True  False  False    False      True  \n",
       "7260  False  False  True  False    True  False   True     True      True  \n",
       "7264  False  False  True  False    True  False  False    False      True  \n",
       "7269  False  False  True  False    True  False   True    False      True  \n",
       "7313  False  False  True  False    True  False  False    False      True  "
      ]
     },
     "execution_count": 69,
     "metadata": {},
     "output_type": "execute_result"
    }
   ],
   "source": [
    "unique_cu[ (unique_cu.delivery) & (unique_cu.store_address.str.find(\"효령로\") > -1) \\\n",
    "& (unique_cu.store_address.str.find(\"서울\") > -1)]"
   ]
  },
  {
   "cell_type": "code",
   "execution_count": 72,
   "id": "27789c8a-3b7b-4e23-95d7-4612d86b9a27",
   "metadata": {},
   "outputs": [],
   "source": [
    "unique_cu.drop(['store_service'], axis=1, inplace=True)"
   ]
  },
  {
   "cell_type": "code",
   "execution_count": 73,
   "id": "e1db6a7e-4709-4ed4-a621-6abb37f505a3",
   "metadata": {},
   "outputs": [
    {
     "data": {
      "text/html": [
       "<div>\n",
       "<style scoped>\n",
       "    .dataframe tbody tr th:only-of-type {\n",
       "        vertical-align: middle;\n",
       "    }\n",
       "\n",
       "    .dataframe tbody tr th {\n",
       "        vertical-align: top;\n",
       "    }\n",
       "\n",
       "    .dataframe thead th {\n",
       "        text-align: right;\n",
       "    }\n",
       "</style>\n",
       "<table border=\"1\" class=\"dataframe\">\n",
       "  <thead>\n",
       "    <tr style=\"text-align: right;\">\n",
       "      <th></th>\n",
       "      <th>store_name</th>\n",
       "      <th>store_tel</th>\n",
       "      <th>store_address</th>\n",
       "      <th>sido</th>\n",
       "      <th>bakery</th>\n",
       "      <th>fried</th>\n",
       "      <th>toto</th>\n",
       "      <th>mix</th>\n",
       "      <th>hour</th>\n",
       "      <th>pos</th>\n",
       "      <th>coffee</th>\n",
       "      <th>lotto</th>\n",
       "      <th>cash</th>\n",
       "      <th>battery</th>\n",
       "      <th>delivery</th>\n",
       "    </tr>\n",
       "  </thead>\n",
       "  <tbody>\n",
       "    <tr>\n",
       "      <th>0</th>\n",
       "      <td>가평군청점</td>\n",
       "      <td>0315817570</td>\n",
       "      <td>경기도 가평군 가평읍 석봉로 175, (읍내리) 1호</td>\n",
       "      <td>경기도</td>\n",
       "      <td>False</td>\n",
       "      <td>True</td>\n",
       "      <td>False</td>\n",
       "      <td>False</td>\n",
       "      <td>True</td>\n",
       "      <td>False</td>\n",
       "      <td>True</td>\n",
       "      <td>False</td>\n",
       "      <td>True</td>\n",
       "      <td>False</td>\n",
       "      <td>True</td>\n",
       "    </tr>\n",
       "    <tr>\n",
       "      <th>1</th>\n",
       "      <td>가평레일파크점</td>\n",
       "      <td></td>\n",
       "      <td>경기도 가평군 가평읍 연인길 2 (읍내리)</td>\n",
       "      <td>경기도</td>\n",
       "      <td>False</td>\n",
       "      <td>False</td>\n",
       "      <td>False</td>\n",
       "      <td>False</td>\n",
       "      <td>False</td>\n",
       "      <td>True</td>\n",
       "      <td>True</td>\n",
       "      <td>False</td>\n",
       "      <td>False</td>\n",
       "      <td>False</td>\n",
       "      <td>True</td>\n",
       "    </tr>\n",
       "    <tr>\n",
       "      <th>2</th>\n",
       "      <td>가평본점</td>\n",
       "      <td></td>\n",
       "      <td>경기도 가평군 가화로 110-1 (가평읍) 1층</td>\n",
       "      <td>경기도</td>\n",
       "      <td>False</td>\n",
       "      <td>False</td>\n",
       "      <td>False</td>\n",
       "      <td>False</td>\n",
       "      <td>True</td>\n",
       "      <td>False</td>\n",
       "      <td>True</td>\n",
       "      <td>False</td>\n",
       "      <td>True</td>\n",
       "      <td>False</td>\n",
       "      <td>True</td>\n",
       "    </tr>\n",
       "    <tr>\n",
       "      <th>3</th>\n",
       "      <td>가평센타점</td>\n",
       "      <td>0315817470</td>\n",
       "      <td>경기도 가평군 가평읍 오리나무길 9 1층</td>\n",
       "      <td>경기도</td>\n",
       "      <td>False</td>\n",
       "      <td>False</td>\n",
       "      <td>False</td>\n",
       "      <td>False</td>\n",
       "      <td>True</td>\n",
       "      <td>False</td>\n",
       "      <td>True</td>\n",
       "      <td>False</td>\n",
       "      <td>True</td>\n",
       "      <td>False</td>\n",
       "      <td>True</td>\n",
       "    </tr>\n",
       "    <tr>\n",
       "      <th>4</th>\n",
       "      <td>가평오렌지점</td>\n",
       "      <td></td>\n",
       "      <td>경기도 가평군 가평읍 가화로 174, (읍내리)</td>\n",
       "      <td>경기도</td>\n",
       "      <td>False</td>\n",
       "      <td>False</td>\n",
       "      <td>False</td>\n",
       "      <td>False</td>\n",
       "      <td>True</td>\n",
       "      <td>False</td>\n",
       "      <td>True</td>\n",
       "      <td>False</td>\n",
       "      <td>True</td>\n",
       "      <td>False</td>\n",
       "      <td>True</td>\n",
       "    </tr>\n",
       "    <tr>\n",
       "      <th>...</th>\n",
       "      <td>...</td>\n",
       "      <td>...</td>\n",
       "      <td>...</td>\n",
       "      <td>...</td>\n",
       "      <td>...</td>\n",
       "      <td>...</td>\n",
       "      <td>...</td>\n",
       "      <td>...</td>\n",
       "      <td>...</td>\n",
       "      <td>...</td>\n",
       "      <td>...</td>\n",
       "      <td>...</td>\n",
       "      <td>...</td>\n",
       "      <td>...</td>\n",
       "      <td>...</td>\n",
       "    </tr>\n",
       "    <tr>\n",
       "      <th>19545</th>\n",
       "      <td>울산학산옥교점</td>\n",
       "      <td></td>\n",
       "      <td>울산광역시 중구 옥교3길 76 (학산동)</td>\n",
       "      <td>울산광역시</td>\n",
       "      <td>False</td>\n",
       "      <td>True</td>\n",
       "      <td>False</td>\n",
       "      <td>False</td>\n",
       "      <td>True</td>\n",
       "      <td>False</td>\n",
       "      <td>True</td>\n",
       "      <td>False</td>\n",
       "      <td>False</td>\n",
       "      <td>False</td>\n",
       "      <td>True</td>\n",
       "    </tr>\n",
       "    <tr>\n",
       "      <th>19546</th>\n",
       "      <td>울산학성점</td>\n",
       "      <td>0522971245</td>\n",
       "      <td>울산광역시 중구 학성4길 65, (학성동)</td>\n",
       "      <td>울산광역시</td>\n",
       "      <td>True</td>\n",
       "      <td>True</td>\n",
       "      <td>False</td>\n",
       "      <td>False</td>\n",
       "      <td>True</td>\n",
       "      <td>False</td>\n",
       "      <td>True</td>\n",
       "      <td>False</td>\n",
       "      <td>True</td>\n",
       "      <td>False</td>\n",
       "      <td>True</td>\n",
       "    </tr>\n",
       "    <tr>\n",
       "      <th>19547</th>\n",
       "      <td>울산학성중앙점</td>\n",
       "      <td></td>\n",
       "      <td>울산광역시 중구 학성공원12길 20 (학성동)</td>\n",
       "      <td>울산광역시</td>\n",
       "      <td>True</td>\n",
       "      <td>True</td>\n",
       "      <td>False</td>\n",
       "      <td>False</td>\n",
       "      <td>True</td>\n",
       "      <td>False</td>\n",
       "      <td>True</td>\n",
       "      <td>False</td>\n",
       "      <td>True</td>\n",
       "      <td>False</td>\n",
       "      <td>True</td>\n",
       "    </tr>\n",
       "    <tr>\n",
       "      <th>19548</th>\n",
       "      <td>학성동UBC점</td>\n",
       "      <td>0522431329</td>\n",
       "      <td>울산광역시 중구 구역전1길 37-9</td>\n",
       "      <td>울산광역시</td>\n",
       "      <td>False</td>\n",
       "      <td>False</td>\n",
       "      <td>False</td>\n",
       "      <td>False</td>\n",
       "      <td>True</td>\n",
       "      <td>False</td>\n",
       "      <td>True</td>\n",
       "      <td>False</td>\n",
       "      <td>True</td>\n",
       "      <td>True</td>\n",
       "      <td>True</td>\n",
       "    </tr>\n",
       "    <tr>\n",
       "      <th>19549</th>\n",
       "      <td>학성드림점</td>\n",
       "      <td></td>\n",
       "      <td>울산광역시 중구 구교로 83</td>\n",
       "      <td>울산광역시</td>\n",
       "      <td>False</td>\n",
       "      <td>False</td>\n",
       "      <td>False</td>\n",
       "      <td>False</td>\n",
       "      <td>True</td>\n",
       "      <td>False</td>\n",
       "      <td>True</td>\n",
       "      <td>False</td>\n",
       "      <td>False</td>\n",
       "      <td>False</td>\n",
       "      <td>True</td>\n",
       "    </tr>\n",
       "  </tbody>\n",
       "</table>\n",
       "<p>17633 rows × 15 columns</p>\n",
       "</div>"
      ],
      "text/plain": [
       "      store_name   store_tel                  store_address   sido  bakery  \\\n",
       "0          가평군청점  0315817570  경기도 가평군 가평읍 석봉로 175, (읍내리) 1호    경기도   False   \n",
       "1        가평레일파크점                    경기도 가평군 가평읍 연인길 2 (읍내리)    경기도   False   \n",
       "2           가평본점                 경기도 가평군 가화로 110-1 (가평읍) 1층    경기도   False   \n",
       "3          가평센타점  0315817470         경기도 가평군 가평읍 오리나무길 9 1층    경기도   False   \n",
       "4         가평오렌지점                 경기도 가평군 가평읍 가화로 174, (읍내리)    경기도   False   \n",
       "...          ...         ...                            ...    ...     ...   \n",
       "19545    울산학산옥교점                     울산광역시 중구 옥교3길 76 (학산동)  울산광역시   False   \n",
       "19546      울산학성점  0522971245        울산광역시 중구 학성4길 65, (학성동)  울산광역시    True   \n",
       "19547    울산학성중앙점                  울산광역시 중구 학성공원12길 20 (학성동)  울산광역시    True   \n",
       "19548    학성동UBC점  0522431329            울산광역시 중구 구역전1길 37-9  울산광역시   False   \n",
       "19549      학성드림점                            울산광역시 중구 구교로 83  울산광역시   False   \n",
       "\n",
       "       fried   toto    mix   hour    pos  coffee  lotto   cash  battery  \\\n",
       "0       True  False  False   True  False    True  False   True    False   \n",
       "1      False  False  False  False   True    True  False  False    False   \n",
       "2      False  False  False   True  False    True  False   True    False   \n",
       "3      False  False  False   True  False    True  False   True    False   \n",
       "4      False  False  False   True  False    True  False   True    False   \n",
       "...      ...    ...    ...    ...    ...     ...    ...    ...      ...   \n",
       "19545   True  False  False   True  False    True  False  False    False   \n",
       "19546   True  False  False   True  False    True  False   True    False   \n",
       "19547   True  False  False   True  False    True  False   True    False   \n",
       "19548  False  False  False   True  False    True  False   True     True   \n",
       "19549  False  False  False   True  False    True  False  False    False   \n",
       "\n",
       "       delivery  \n",
       "0          True  \n",
       "1          True  \n",
       "2          True  \n",
       "3          True  \n",
       "4          True  \n",
       "...         ...  \n",
       "19545      True  \n",
       "19546      True  \n",
       "19547      True  \n",
       "19548      True  \n",
       "19549      True  \n",
       "\n",
       "[17633 rows x 15 columns]"
      ]
     },
     "execution_count": 73,
     "metadata": {},
     "output_type": "execute_result"
    }
   ],
   "source": [
    "unique_cu"
   ]
  }
 ],
 "metadata": {
  "kernelspec": {
   "display_name": "Python 3 (ipykernel)",
   "language": "python",
   "name": "python3"
  },
  "language_info": {
   "codemirror_mode": {
    "name": "ipython",
    "version": 3
   },
   "file_extension": ".py",
   "mimetype": "text/x-python",
   "name": "python",
   "nbconvert_exporter": "python",
   "pygments_lexer": "ipython3",
   "version": "3.11.7"
  }
 },
 "nbformat": 4,
 "nbformat_minor": 5
}
