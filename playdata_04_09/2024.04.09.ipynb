{
 "cells": [
  {
   "cell_type": "code",
   "execution_count": null,
   "id": "a7be2f4a-a16e-473b-9e20-cb3c25821648",
   "metadata": {},
   "outputs": [],
   "source": [
    "from bs4 import BeautifulSoup\n",
    "# BeautifulSoup.find(\"div\",class_ _붙이는 이유는 class와 헷갈리지않기위해서\n",
    "# a=10\n",
    "# id(a) 메모리주소가나온다"
   ]
  },
  {
   "cell_type": "code",
   "execution_count": null,
   "id": "9bb0be3f-b966-4ac5-aca8-9344c00d45c9",
   "metadata": {},
   "outputs": [],
   "source": [
    "class #예약어"
   ]
  },
  {
   "cell_type": "code",
   "execution_count": 4,
   "id": "20853b75-e172-4f30-9302-e62902c88159",
   "metadata": {},
   "outputs": [],
   "source": [
    "# a=10\n",
    "# id(a)\n",
    "# b=20\n",
    "# id(b)"
   ]
  },
  {
   "cell_type": "code",
   "execution_count": 5,
   "id": "579bcf41-e440-450a-a2d9-7a471c576483",
   "metadata": {},
   "outputs": [],
   "source": [
    "a=10"
   ]
  },
  {
   "cell_type": "code",
   "execution_count": 6,
   "id": "ac172c68-4438-47ed-bcf4-dd219f2320e6",
   "metadata": {},
   "outputs": [
    {
     "data": {
      "text/plain": [
       "139936123568656"
      ]
     },
     "execution_count": 6,
     "metadata": {},
     "output_type": "execute_result"
    }
   ],
   "source": [
    "id(a)"
   ]
  },
  {
   "cell_type": "code",
   "execution_count": 7,
   "id": "b9cf319a-fd7a-4543-842c-5bf355547dd6",
   "metadata": {},
   "outputs": [],
   "source": [
    "b=20"
   ]
  },
  {
   "cell_type": "code",
   "execution_count": 8,
   "id": "cd27781a-a9eb-4fd7-99a8-cc12127f4c7e",
   "metadata": {},
   "outputs": [
    {
     "data": {
      "text/plain": [
       "139936123568976"
      ]
     },
     "execution_count": 8,
     "metadata": {},
     "output_type": "execute_result"
    }
   ],
   "source": [
    "id(b)"
   ]
  },
  {
   "cell_type": "code",
   "execution_count": 9,
   "id": "dbfe1789-5f42-4cc2-9edd-22b7c7443da9",
   "metadata": {},
   "outputs": [],
   "source": [
    "c=a"
   ]
  },
  {
   "cell_type": "code",
   "execution_count": 10,
   "id": "0dd61c24-7e14-421f-9752-a62d280462e3",
   "metadata": {},
   "outputs": [
    {
     "data": {
      "text/plain": [
       "139936123568656"
      ]
     },
     "execution_count": 10,
     "metadata": {},
     "output_type": "execute_result"
    }
   ],
   "source": [
    "id(c) #얇은복사 깊은복사"
   ]
  },
  {
   "cell_type": "code",
   "execution_count": null,
   "id": "888c6b7a-b00c-4772-8b46-8e793cad6c1e",
   "metadata": {},
   "outputs": [],
   "source": [
    "# __함수명__ 내부적으로 사용\n",
    "# getitem을 가지고있다 [ ] index로 꺼낼수있다.\n",
    "# 시퀀스형 for문안에 없어도 error가 발생안하게 해놨다 __iter__"
   ]
  },
  {
   "cell_type": "code",
   "execution_count": 12,
   "id": "b21db12b-ce93-44b5-bb86-b7f7973bb313",
   "metadata": {},
   "outputs": [],
   "source": [
    "# dir(a)"
   ]
  },
  {
   "cell_type": "code",
   "execution_count": 13,
   "id": "b5e30c6d-21f3-4b5d-aa8f-a3e95e5386f5",
   "metadata": {},
   "outputs": [],
   "source": [
    "class car(): #class 안에 들어가는 method는 기본적으로 self가 들어간다\n",
    "    #object라는 걸 default로 상속받는다 car() 괄호안에는 상속을 누구한테 받는지가들어간다\n",
    "    def __init__(self): #초기함수\n",
    "        pass\n",
    "    def up(self):\n",
    "        pass #\n",
    "    def down(self):\n",
    "        pass\n",
    "    def stop(self):\n",
    "        pass"
   ]
  },
  {
   "cell_type": "code",
   "execution_count": null,
   "id": "4664684a-a7cb-42df-9005-9bc20f4872f6",
   "metadata": {},
   "outputs": [],
   "source": [
    "# wsl->cd workspace-> mkdir django->cd djange->\n",
    "# python3 -m virtualenv venv 가상환경생성\n",
    "# cd venv-> cd bin->ls -al | grep activate\n",
    "# . ./activate 가상환경시작\n",
    "# restapi 모델서빙 모델을 만든\n",
    "# pip install django\n",
    "# cd ../../\n",
    "# django-admin startproject encore #encore폴더를 새롭게 생성\n",
    "# ls encore란 폴더생성됨\n",
    "# cd encore\n",
    "# ls->manage.py\n",
    "# python manage.py runserver #장고를 연결하는 매개체\n",
    "# 인터넷에서 주소들어가기\n",
    "# 프레이머? 이미기능을 할수있도록 만들어놓은 틀 장고는 웹프레이\n",
    "# 웹서버 마스서버 asgi.py wsgi.py\n",
    "# 정적인건 웹서버가 서비스를 해준다\n",
    "# 로그인을 하면 마스한테 왜냐면 웹서버는 정적인거밖에못하므로 web application server was라고한다 마스가 아니라 was\n",
    "# tomcat 웹서버에서 jsp관린안된다 그러므로 tomcat에서함\n",
    "# webserver는 apache,nginx\n",
    "# user->web->was->model server\n",
    "# load balancing 부하를 분산시켜준다, user가 들오오면 바로 web이 아니라 load bancing을 들어간다, 그래서 매번 webserver를 보면서 안바쁜server에보냄\n",
    "# tomcat springboot nigix\n",
    "# web과 was가 source code를 바라봐야하는데 안에 내 include\n",
    "# container 가상의환경-devops-docker\n",
    "# nvida-coda-딥러닝\n",
    "# https://pypi.org/search/?q=mysqlclient linux ubuntu\n",
    "# pip install mysqlclient base에 깔았다\n",
    "# data->Eda전처리->training->모델서빙\n",
    "# 자동화하는 에어플로우"
   ]
  }
 ],
 "metadata": {
  "kernelspec": {
   "display_name": "Python 3 (ipykernel)",
   "language": "python",
   "name": "python3"
  },
  "language_info": {
   "codemirror_mode": {
    "name": "ipython",
    "version": 3
   },
   "file_extension": ".py",
   "mimetype": "text/x-python",
   "name": "python",
   "nbconvert_exporter": "python",
   "pygments_lexer": "ipython3",
   "version": "3.10.12"
  }
 },
 "nbformat": 4,
 "nbformat_minor": 5
}
