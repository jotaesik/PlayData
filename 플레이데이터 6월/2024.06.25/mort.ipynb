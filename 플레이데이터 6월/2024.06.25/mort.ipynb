{
 "cells": [
  {
   "cell_type": "code",
   "execution_count": 3,
   "id": "f0a2bdd8-f21c-4761-b0de-fd6b7b1f18ac",
   "metadata": {},
   "outputs": [
    {
     "name": "stderr",
     "output_type": "stream",
     "text": [
      "24/06/25 07:15:41 WARN Utils: Service 'SparkUI' could not bind on port 4040. Attempting port 4041.\n",
      "24/06/25 07:15:41 WARN Utils: Service 'SparkUI' could not bind on port 4041. Attempting port 4042.\n"
     ]
    }
   ],
   "source": [
    "import pyspark\n",
    "from pyspark.sql import SparkSession\n",
    "\n",
    "conf = pyspark.SparkConf().setAppName(\"mort1\").\\\n",
    "        setMaster(\"spark://client:7077\").\\\n",
    "        set(\"spark.executor.instances\", \"1\") .\\\n",
    "        set(\"spark.executor.cores\", \"1\").\\\n",
    "        set(\"spark.cores.max\", \"1\").\\\n",
    "        set(\"spark.driver.cores\", \"1\") \n",
    "spark = SparkSession.builder.config(conf=conf).getOrCreate()\n"
   ]
  },
  {
   "cell_type": "code",
   "execution_count": 6,
   "id": "04c138e7-880d-4321-97a4-18347da71f21",
   "metadata": {},
   "outputs": [],
   "source": []
  },
  {
   "cell_type": "code",
   "execution_count": 4,
   "id": "6b8d119a-6b9a-4b16-95d6-8d888c614452",
   "metadata": {},
   "outputs": [
    {
     "data": {
      "text/html": [
       "\n",
       "            <div>\n",
       "                <p><b>SparkSession - in-memory</b></p>\n",
       "                \n",
       "        <div>\n",
       "            <p><b>SparkContext</b></p>\n",
       "\n",
       "            <p><a href=\"http://client:4042\">Spark UI</a></p>\n",
       "\n",
       "            <dl>\n",
       "              <dt>Version</dt>\n",
       "                <dd><code>v3.4.3</code></dd>\n",
       "              <dt>Master</dt>\n",
       "                <dd><code>spark://client:7077</code></dd>\n",
       "              <dt>AppName</dt>\n",
       "                <dd><code>mort1</code></dd>\n",
       "            </dl>\n",
       "        </div>\n",
       "        \n",
       "            </div>\n",
       "        "
      ],
      "text/plain": [
       "<pyspark.sql.session.SparkSession at 0x7f7f602c37f0>"
      ]
     },
     "execution_count": 4,
     "metadata": {},
     "output_type": "execute_result"
    }
   ],
   "source": [
    "spark"
   ]
  },
  {
   "cell_type": "code",
   "execution_count": 2,
   "id": "d57449e7-d541-4f82-a676-eecd141c400a",
   "metadata": {},
   "outputs": [],
   "source": [
    "spark.stop()"
   ]
  },
  {
   "cell_type": "code",
   "execution_count": 5,
   "id": "c6cd9e2c-d9c5-4286-91e0-13da8e233e44",
   "metadata": {},
   "outputs": [
    {
     "name": "stderr",
     "output_type": "stream",
     "text": [
      "                                                                                \r"
     ]
    }
   ],
   "source": [
    "spark_df = spark.read.csv(\"hdfs:///encore/tpss_bcycl_od_statnhm_202001.csv\", \n",
    "               encoding='cp949', header=True)\n"
   ]
  },
  {
   "cell_type": "code",
   "execution_count": 7,
   "id": "4140e0b1-2f3b-4048-b952-a9ea260b7e35",
   "metadata": {},
   "outputs": [
    {
     "name": "stderr",
     "output_type": "stream",
     "text": [
      "                                                                                \r"
     ]
    },
    {
     "data": {
      "text/plain": [
       "[Row(기준_날짜='20200101', 구분코드='0', 기준_시간='0000', 시작_대여소ID='ST-443', 시작_대여소명='성산2동_041_2', 종료_대여소ID='ST-82', 종료_대여소명='성산2동_041_3', 전체건수='1', 전체이용시간(분)='2', 전체이용거리(m)='450'),\n",
       " Row(기준_날짜='20200101', 구분코드='0', 기준_시간='0000', 시작_대여소ID='ST-56', 시작_대여소명='여의동_005_10', 종료_대여소ID='ST-1321', 종료_대여소명='영등포동_036_1', 전체건수='1', 전체이용시간(분)='10', 전체이용거리(m)='1460'),\n",
       " Row(기준_날짜='20200101', 구분코드='0', 기준_시간='0000', 시작_대여소ID='ST-1546', 시작_대여소명='조원동_004_1', 종료_대여소ID='ST-703', 종료_대여소명='신사동_023_1', 전체건수='1', 전체이용시간(분)='5', 전체이용거리(m)='700'),\n",
       " Row(기준_날짜='20200101', 구분코드='1', 기준_시간='0000', 시작_대여소ID='ST-1701', 시작_대여소명='당산2동_065_1', 종료_대여소ID='ST-1701', 종료_대여소명='당산2동_065_1', 전체건수='1', 전체이용시간(분)='28', 전체이용거리(m)='70670'),\n",
       " Row(기준_날짜='20200101', 구분코드='1', 기준_시간='0000', 시작_대여소ID='ST-1390', 시작_대여소명='수유2동_030_1', 종료_대여소ID='ST-1101', 종료_대여소명='미아동_010_1', 전체건수='1', 전체이용시간(분)='14', 전체이용거리(m)='59030'),\n",
       " Row(기준_날짜='20200101', 구분코드='1', 기준_시간='0000', 시작_대여소ID='ST-1128', 시작_대여소명='하계1동_008_1', 종료_대여소ID='ST-1473', 종료_대여소명='중계본동_032_1', 전체건수='1', 전체이용시간(분)='11', 전체이용거리(m)='1170'),\n",
       " Row(기준_날짜='20200101', 구분코드='0', 기준_시간='0000', 시작_대여소ID='ST-26', 시작_대여소명='대흥동_015_1', 종료_대여소ID='ST-202', 종료_대여소명='공덕동_076_1', 전체건수='1', 전체이용시간(분)='11', 전체이용거리(m)='1670'),\n",
       " Row(기준_날짜='20200101', 구분코드='1', 기준_시간='0000', 시작_대여소ID='ST-118', 시작_대여소명='사직동_004_1', 종료_대여소ID='ST-978', 종료_대여소명='청운효자동_023_1', 전체건수='1', 전체이용시간(분)='98', 전체이용거리(m)='1160'),\n",
       " Row(기준_날짜='20200101', 구분코드='1', 기준_시간='0000', 시작_대여소ID='ST-517', 시작_대여소명='염창동_009_1', 종료_대여소ID='ST-1509', 종료_대여소명='가양3동_015_1', 전체건수='1', 전체이용시간(분)='4', 전체이용거리(m)='1180'),\n",
       " Row(기준_날짜='20200101', 구분코드='1', 기준_시간='0000', 시작_대여소ID='ST-31', 시작_대여소명='대흥동_005_2', 종료_대여소ID='ST-207', 종료_대여소명='대흥동_016_1', 전체건수='1', 전체이용시간(분)='3', 전체이용거리(m)='390')]"
      ]
     },
     "execution_count": 7,
     "metadata": {},
     "output_type": "execute_result"
    }
   ],
   "source": [
    "spark_df.head(10)"
   ]
  }
 ],
 "metadata": {
  "kernelspec": {
   "display_name": "Python 3 (ipykernel)",
   "language": "python",
   "name": "python3"
  },
  "language_info": {
   "codemirror_mode": {
    "name": "ipython",
    "version": 3
   },
   "file_extension": ".py",
   "mimetype": "text/x-python",
   "name": "python",
   "nbconvert_exporter": "python",
   "pygments_lexer": "ipython3",
   "version": "3.10.14"
  }
 },
 "nbformat": 4,
 "nbformat_minor": 5
}
