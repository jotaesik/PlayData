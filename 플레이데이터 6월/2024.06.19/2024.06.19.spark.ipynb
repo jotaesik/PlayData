{
 "cells": [
  {
   "cell_type": "code",
   "execution_count": 1,
   "id": "351c4f7a-5008-44b7-819e-725c7e197562",
   "metadata": {},
   "outputs": [],
   "source": [
    "from pyspark.sql import SparkSession\n",
    "spark = SparkSession.builder.getOrCreate()"
   ]
  },
  {
   "cell_type": "code",
   "execution_count": 2,
   "id": "e7074903-161f-48ed-85c0-7e189131e331",
   "metadata": {},
   "outputs": [
    {
     "data": {
      "text/html": [
       "\n",
       "            <div>\n",
       "                <p><b>SparkSession - hive</b></p>\n",
       "                \n",
       "        <div>\n",
       "            <p><b>SparkContext</b></p>\n",
       "\n",
       "            <p><a href=\"http://producer:4040\">Spark UI</a></p>\n",
       "\n",
       "            <dl>\n",
       "              <dt>Version</dt>\n",
       "                <dd><code>v3.4.3</code></dd>\n",
       "              <dt>Master</dt>\n",
       "                <dd><code>local[*]</code></dd>\n",
       "              <dt>AppName</dt>\n",
       "                <dd><code>PySparkShell</code></dd>\n",
       "            </dl>\n",
       "        </div>\n",
       "        \n",
       "            </div>\n",
       "        "
      ],
      "text/plain": [
       "<pyspark.sql.session.SparkSession at 0x7f17e1fd39d0>"
      ]
     },
     "execution_count": 2,
     "metadata": {},
     "output_type": "execute_result"
    }
   ],
   "source": [
    "spark"
   ]
  },
  {
   "cell_type": "code",
   "execution_count": 63,
   "id": "f4c83e7f-42cb-4011-8656-5c8183595556",
   "metadata": {},
   "outputs": [
    {
     "data": {
      "text/plain": [
       "'/home/hadoop'"
      ]
     },
     "execution_count": 63,
     "metadata": {},
     "output_type": "execute_result"
    }
   ],
   "source": [
    "pwd"
   ]
  },
  {
   "cell_type": "code",
   "execution_count": 3,
   "id": "9151dda2-5659-42f2-95bd-e2a0b0d83215",
   "metadata": {},
   "outputs": [
    {
     "name": "stderr",
     "output_type": "stream",
     "text": [
      "                                                                                \r"
     ]
    }
   ],
   "source": [
    "hflight = spark.read.option('inferSchema','true').\\\n",
    "    option('header','true').\\\n",
    "    csv(\"file:///home/hadoop/hflight.csv\")"
   ]
  },
  {
   "cell_type": "code",
   "execution_count": 65,
   "id": "d0da61d4-e2f2-42a2-9e88-5dd7d6d1fbf9",
   "metadata": {},
   "outputs": [
    {
     "name": "stdout",
     "output_type": "stream",
     "text": [
      "+----+-----+----------+---------+-------+-------+-------------+---------+-------+-----------------+-------+--------+--------+------+----+--------+------+-------+---------+----------------+--------+\n",
      "|Year|Month|DayofMonth|DayOfWeek|DepTime|ArrTime|UniqueCarrier|FlightNum|TailNum|ActualElapsedTime|AirTime|ArrDelay|DepDelay|Origin|Dest|Distance|TaxiIn|TaxiOut|Cancelled|CancellationCode|Diverted|\n",
      "+----+-----+----------+---------+-------+-------+-------------+---------+-------+-----------------+-------+--------+--------+------+----+--------+------+-------+---------+----------------+--------+\n",
      "|2011|    1|         1|        6|   1400|   1500|           AA|      428| N576AA|               60|     40|     -10|       0|   IAH| DFW|     224|     7|     13|        0|            null|       0|\n",
      "|2011|    1|         2|        7|   1401|   1501|           AA|      428| N557AA|               60|     45|      -9|       1|   IAH| DFW|     224|     6|      9|        0|            null|       0|\n",
      "+----+-----+----------+---------+-------+-------+-------------+---------+-------+-----------------+-------+--------+--------+------+----+--------+------+-------+---------+----------------+--------+\n",
      "\n"
     ]
    }
   ],
   "source": [
    "hflight.limit(2).show()"
   ]
  },
  {
   "cell_type": "code",
   "execution_count": 66,
   "id": "1eac8d17-a162-422e-b608-3577bc6d67dd",
   "metadata": {},
   "outputs": [
    {
     "data": {
      "text/plain": [
       "227496"
      ]
     },
     "execution_count": 66,
     "metadata": {},
     "output_type": "execute_result"
    }
   ],
   "source": [
    "hflight.count()"
   ]
  },
  {
   "cell_type": "code",
   "execution_count": 67,
   "id": "158bc901-ce6b-4280-8edd-12eafa70c16f",
   "metadata": {},
   "outputs": [],
   "source": [
    "from pyspark.sql.functions import avg, stddev,col"
   ]
  },
  {
   "cell_type": "code",
   "execution_count": 68,
   "id": "bc41f17a-2738-4e81-8b2a-635f4ba017de",
   "metadata": {},
   "outputs": [
    {
     "name": "stdout",
     "output_type": "stream",
     "text": [
      "root\n",
      " |-- Year: integer (nullable = true)\n",
      " |-- Month: integer (nullable = true)\n",
      " |-- DayofMonth: integer (nullable = true)\n",
      " |-- DayOfWeek: integer (nullable = true)\n",
      " |-- DepTime: string (nullable = true)\n",
      " |-- ArrTime: string (nullable = true)\n",
      " |-- UniqueCarrier: string (nullable = true)\n",
      " |-- FlightNum: integer (nullable = true)\n",
      " |-- TailNum: string (nullable = true)\n",
      " |-- ActualElapsedTime: string (nullable = true)\n",
      " |-- AirTime: string (nullable = true)\n",
      " |-- ArrDelay: string (nullable = true)\n",
      " |-- DepDelay: string (nullable = true)\n",
      " |-- Origin: string (nullable = true)\n",
      " |-- Dest: string (nullable = true)\n",
      " |-- Distance: integer (nullable = true)\n",
      " |-- TaxiIn: string (nullable = true)\n",
      " |-- TaxiOut: string (nullable = true)\n",
      " |-- Cancelled: integer (nullable = true)\n",
      " |-- CancellationCode: string (nullable = true)\n",
      " |-- Diverted: integer (nullable = true)\n",
      "\n"
     ]
    }
   ],
   "source": [
    "hflight.printSchema()"
   ]
  },
  {
   "cell_type": "code",
   "execution_count": 69,
   "id": "cb4f6eb5-26b5-4012-ad9f-d37741e78d78",
   "metadata": {},
   "outputs": [],
   "source": [
    "hflight  = hflight.withColumn(\"ArrDelay\",col(\"ArrDelay\").cast(\"Integer\"))\n",
    "hflight = hflight.withColumn(\"DepDelay\",col(\"DepDelay\").cast(\"Integer\"))\n",
    "# agg에 자동적으로 변환해주는게 있지않을까요?"
   ]
  },
  {
   "cell_type": "code",
   "execution_count": 70,
   "id": "63e02d33-c2f2-4f7e-bacb-843ddf237d4c",
   "metadata": {},
   "outputs": [
    {
     "name": "stderr",
     "output_type": "stream",
     "text": [
      "[Stage 51:=============================>                            (1 + 1) / 2]\r"
     ]
    },
    {
     "name": "stdout",
     "output_type": "stream",
     "text": [
      "+------+----+------------------+------------------+\n",
      "|Origin|Dest|     avg(ArrDelay)|     avg(DepDelay)|\n",
      "+------+----+------------------+------------------+\n",
      "|   HOU| PHL|23.541666666666668| 33.19124423963134|\n",
      "|   IAH| LIT| 6.764063811922754| 7.740771812080537|\n",
      "|   IAH| GSP| 9.617359413202934|  9.08272506082725|\n",
      "|   IAH| DEN| 7.441828254847645| 10.37734288864388|\n",
      "|   IAH| TUS| 7.801679586563307| 7.783870967741936|\n",
      "|   IAH| ABQ| 7.928692699490663| 6.703891708967851|\n",
      "|   HOU| LIT| 3.533333333333333|7.4404432132963985|\n",
      "|   IAH| ANC|26.080645161290324|            24.952|\n",
      "|   IAH| SMF|  4.66271018793274| 9.093966369930762|\n",
      "|   HOU| TUL| 7.855238095238096|11.208174904942966|\n",
      "|   HOU| MDW|3.8126815101645692|13.204150579150578|\n",
      "|   HOU| OKC| 9.441897233201582|12.509865824782953|\n",
      "|   IAH| DSM|15.951104100946372|12.796850393700787|\n",
      "|   IAH| DFW| 5.510741008930727| 8.764620938628159|\n",
      "|   IAH| BOS| 6.559045956951716|10.519141531322505|\n",
      "|   HOU| MAF| 6.918367346938775|10.507042253521126|\n",
      "|   IAH| RIC|12.301231802911534|11.040313549832026|\n",
      "|   HOU| BNA| 5.394160583941606|11.395331874544128|\n",
      "|   IAH| CLE|1.0408067542213884| 5.868198874296435|\n",
      "|   HOU| MSY| 7.040394973070018|10.635058330840563|\n",
      "+------+----+------------------+------------------+\n",
      "only showing top 20 rows\n",
      "\n"
     ]
    },
    {
     "name": "stderr",
     "output_type": "stream",
     "text": [
      "                                                                                \r"
     ]
    }
   ],
   "source": [
    "hflight.groupby(\"Origin\",\"Dest\").avg(\"ArrDelay\",\"DepDelay\").show()\n",
    "# 순수한 RDD 보다 DF를 사용하는게 더 빠르다 하지만 내부적으론 다 RDD를 사용된다"
   ]
  },
  {
   "cell_type": "code",
   "execution_count": 71,
   "id": "72bc0f40-3976-4bee-a9c3-84ddd7994b2f",
   "metadata": {},
   "outputs": [],
   "source": [
    "# hflight.groupby(\"Origin\", \"Dest\").agg( avg(\"ArrDelay\").alias(\"출발 지연 평균\"),\\\n",
    "#                                        avg(\"DepDelay\").alias(\"도착 지연 평균\")).\\\n",
    "#     show()"
   ]
  },
  {
   "cell_type": "code",
   "execution_count": 72,
   "id": "ef028fc1-50d4-4e0c-b4cc-6529933450c1",
   "metadata": {},
   "outputs": [],
   "source": [
    "# hflight.groupby(\"Origin\",\"Dest\").agg(avg(\"ArrDelay\").alias(\"출발 지연 평균\")).\\\n",
    "#     agg(avg(\"DepDelay\").alias(\"도착 지연 평균\")).\\\n",
    "#     show()"
   ]
  },
  {
   "cell_type": "code",
   "execution_count": 73,
   "id": "0294be36-e4c1-4a96-b230-b64301f4420b",
   "metadata": {},
   "outputs": [
    {
     "name": "stdout",
     "output_type": "stream",
     "text": [
      "+----+\n",
      "|지연|\n",
      "+----+\n",
      "| -10|\n",
      "|  -9|\n",
      "|  -8|\n",
      "|   3|\n",
      "|  -3|\n",
      "|  -7|\n",
      "|  -1|\n",
      "| -16|\n",
      "|  44|\n",
      "|  43|\n",
      "|  29|\n",
      "|   5|\n",
      "|  -9|\n",
      "|  -6|\n",
      "| -11|\n",
      "|  -1|\n",
      "|  84|\n",
      "|  -2|\n",
      "|  -7|\n",
      "|  72|\n",
      "+----+\n",
      "only showing top 20 rows\n",
      "\n"
     ]
    }
   ],
   "source": [
    "hflight.selectExpr(\"ArrDelay as `지연`\").show()"
   ]
  },
  {
   "cell_type": "code",
   "execution_count": 93,
   "id": "620d6dcb-2d94-45f6-92ee-79d904f47303",
   "metadata": {},
   "outputs": [],
   "source": [
    "# hflight[hflight[\"ArrDelay\"]>=5].groupby(\"Dest\").count().sort('count', ascending=False).show()\n",
    "# hflight[hflight[\"ArrDelay\"]>=5].groupby(\"Dest\").count().filter('count'>2000).show()"
   ]
  },
  {
   "cell_type": "code",
   "execution_count": 5,
   "id": "dcf9a2f1-b140-414b-9d39-fbd54e4deac9",
   "metadata": {},
   "outputs": [],
   "source": [
    "from pyspark.sql.functions import *"
   ]
  },
  {
   "cell_type": "code",
   "execution_count": 6,
   "id": "7b5b0b57-c3f1-4be3-93c8-b1f65ae88c7f",
   "metadata": {},
   "outputs": [
    {
     "name": "stderr",
     "output_type": "stream",
     "text": [
      "[Stage 2:>                                                          (0 + 2) / 2]\r"
     ]
    },
    {
     "name": "stdout",
     "output_type": "stream",
     "text": [
      "+----+-----+\n",
      "|Dest|count|\n",
      "+----+-----+\n",
      "| MSY| 2361|\n",
      "| DEN| 2315|\n",
      "| DAL| 3360|\n",
      "| ATL| 2657|\n",
      "| ORD| 2220|\n",
      "| LAX| 2641|\n",
      "+----+-----+\n",
      "\n"
     ]
    },
    {
     "name": "stderr",
     "output_type": "stream",
     "text": [
      "                                                                                \r"
     ]
    }
   ],
   "source": [
    "hflight.filter(col(\"ArrDelay\")>=5).groupby(\"Dest\").count().filter(col('count')>=2000).show()"
   ]
  },
  {
   "cell_type": "code",
   "execution_count": 7,
   "id": "c4707f3e-335a-4c6d-9640-16017db6593f",
   "metadata": {},
   "outputs": [],
   "source": [
    "from pyspark.sql import SparkSession\n",
    "\n",
    "# spark = SparkSession.builder.getOrCreate()\n",
    "df = spark.read \\\n",
    "    .format(\"jdbc\") \\\n",
    "    .option(\"driver\",\"com.mysql.cj.jdbc.Driver\") \\\n",
    "    .option(\"url\", \"jdbc:mysql://ip:port/encore_web\") \\\n",
    "    .option(\"dbtable\",\"encore_question\") \\\n",
    "    .option(\"numPartitions\",5) \\\n",
    "    .option(\"user\", \"id\") \\\n",
    "    .option(\"password\", 'password') \\\n",
    "    .load()\n",
    "\n",
    "\n"
   ]
  },
  {
   "cell_type": "markdown",
   "id": "4598acf4-64ed-45cd-9a41-4bd3be306468",
   "metadata": {},
   "source": [
    "# 문제 2\n",
    "-  목적지 공항에 대해 연착 건수를 구하고, \n",
    "-  연착 건수가 2000회 이상인 공항에 대한 데이터만 추출 \n",
    "-  col -> Dest :목적지 공항 ArrDelay (연착은 5분이상)\n",
    "\n",
    "\n",
    "hdfs -> 저장까지!!! \n",
    "csv, parquet"
   ]
  },
  {
   "cell_type": "code",
   "execution_count": 18,
   "id": "71b4b987-b372-4328-beb5-0f78fe1f61b2",
   "metadata": {},
   "outputs": [],
   "source": [
    "from pyspark.sql.functions import expr\n",
    "# hflight.withColumn(\"ArrDelay\", expr(\"ArrDelay == 0\")).show()\n",
    "# hflight.where(expr(\"ArrDelay == 0\")).show()"
   ]
  },
  {
   "cell_type": "code",
   "execution_count": 8,
   "id": "95ace344-70a6-4eef-aed2-442a6701ed24",
   "metadata": {},
   "outputs": [
    {
     "name": "stderr",
     "output_type": "stream",
     "text": [
      "2024-06-19 02:06:41,980 WARN util.NativeCodeLoader: Unable to load native-hadoop library for your platform... using builtin-java classes where applicable\n"
     ]
    }
   ],
   "source": [
    "from pyarrow import fs\n",
    "import pyarrow as pa\n",
    "import subprocess\n",
    "\n",
    "classpath = subprocess.Popen([\"/home/hadoop/hadoop/bin/hdfs\", \"classpath\", \"--glob\"], stdout=subprocess.PIPE).communicate()[0]\n",
    "os.environ[\"CLASSPATH\"] = classpath.decode(\"utf-8\")\n",
    "hdfs = fs.HadoopFileSystem(host='ip', port=port, user='hadoop')\n"
   ]
  },
  {
   "cell_type": "code",
   "execution_count": 14,
   "id": "8653d337-b80c-4f87-ad21-c2e78c4072f9",
   "metadata": {},
   "outputs": [],
   "source": [
    "df3 = hflight.filter(col(\"ArrDelay\")>=5).groupby(\"Dest\").count().filter(col('count')>=2000)"
   ]
  },
  {
   "cell_type": "code",
   "execution_count": 15,
   "id": "34560802-54b3-48f7-897c-00197c69881f",
   "metadata": {},
   "outputs": [
    {
     "data": {
      "text/plain": [
       "DataFrame[Dest: string, count: bigint]"
      ]
     },
     "execution_count": 15,
     "metadata": {},
     "output_type": "execute_result"
    }
   ],
   "source": [
    "df3"
   ]
  },
  {
   "cell_type": "code",
   "execution_count": 19,
   "id": "a3b231e3-dec3-41f9-8cc0-228e28ee4b37",
   "metadata": {},
   "outputs": [
    {
     "name": "stderr",
     "output_type": "stream",
     "text": [
      "[Stage 22:=============================>                            (1 + 1) / 2]\r"
     ]
    },
    {
     "name": "stdout",
     "output_type": "stream",
     "text": [
      "+----+-----+\n",
      "|Dest|count|\n",
      "+----+-----+\n",
      "| MSY| 2361|\n",
      "| DEN| 2315|\n",
      "| DAL| 3360|\n",
      "| ATL| 2657|\n",
      "| ORD| 2220|\n",
      "| LAX| 2641|\n",
      "+----+-----+\n",
      "\n"
     ]
    },
    {
     "name": "stderr",
     "output_type": "stream",
     "text": [
      "                                                                                \r"
     ]
    }
   ],
   "source": [
    "df3.show()"
   ]
  },
  {
   "cell_type": "code",
   "execution_count": 16,
   "id": "23d0cdce-34bb-401e-a40f-03ad2fdfd6e3",
   "metadata": {},
   "outputs": [
    {
     "name": "stderr",
     "output_type": "stream",
     "text": [
      "                                                                                \r"
     ]
    }
   ],
   "source": [
    "df3.write.csv(\"hdfs://namenode:port/20240619/mort/my3.csv\")"
   ]
  },
  {
   "cell_type": "code",
   "execution_count": 20,
   "id": "39234864-fc64-4162-a6e1-028c92506eb5",
   "metadata": {},
   "outputs": [
    {
     "name": "stderr",
     "output_type": "stream",
     "text": [
      "                                                                                \r"
     ]
    }
   ],
   "source": [
    "target = hflight.withColumn(\"count\", expr(\"ArrDelay >=5\")).\\\n",
    "    where(expr(\"count == True\")).\\\n",
    "    groupby(\"Dest\").\\\n",
    "    count().\\\n",
    "    filter(expr(\"count >= 2000\")).select(\"Dest\").rdd.flatMap(lambda x : x).collect()\n",
    "\n",
    "\n",
    "hflight2 = hflight.where(col('Dest').isin(target))\n"
   ]
  },
  {
   "cell_type": "code",
   "execution_count": 23,
   "id": "e0f9d541-2d4a-4540-a080-e3669ab6255b",
   "metadata": {},
   "outputs": [
    {
     "name": "stderr",
     "output_type": "stream",
     "text": [
      "                                                                                \r"
     ]
    }
   ],
   "source": [
    "# hflight2.show()\n",
    "hflight2.write.csv(\"hdfs://namenode:port/20240619/mort/hflight2.csv\")"
   ]
  },
  {
   "cell_type": "code",
   "execution_count": 27,
   "id": "5f9790f8-c70b-46a4-9aff-a318e27f4b38",
   "metadata": {},
   "outputs": [
    {
     "name": "stderr",
     "output_type": "stream",
     "text": [
      "                                                                                \r"
     ]
    }
   ],
   "source": [
    "# hflight2.show()\n",
    "hflight2.write.parquet(\"hdfs://namenode:port/20240619/mort/hflight3.csv\")"
   ]
  },
  {
   "cell_type": "code",
   "execution_count": 150,
   "id": "c053ef0b-edef-4852-b76c-4add714e5b33",
   "metadata": {},
   "outputs": [
    {
     "name": "stdout",
     "output_type": "stream",
     "text": [
      "+----+\n",
      "|Dest|\n",
      "+----+\n",
      "| MSY|\n",
      "| DEN|\n",
      "| DAL|\n",
      "| ATL|\n",
      "| ORD|\n",
      "| LAX|\n",
      "+----+\n",
      "\n"
     ]
    }
   ],
   "source": [
    "\n",
    "hflight2.select(\"Dest\").distinct().show()\n"
   ]
  },
  {
   "cell_type": "code",
   "execution_count": 28,
   "id": "d39dc82a-04ab-4487-a2ec-4e7cedd7350e",
   "metadata": {},
   "outputs": [
    {
     "name": "stdout",
     "output_type": "stream",
     "text": [
      "root\n",
      " |-- emp_id: long (nullable = true)\n",
      " |-- name: string (nullable = true)\n",
      " |-- superior_emp_id: long (nullable = true)\n",
      " |-- year_joined: string (nullable = true)\n",
      " |-- emp_dept_id: string (nullable = true)\n",
      " |-- gender: string (nullable = true)\n",
      " |-- salary: long (nullable = true)\n",
      "\n",
      "+------+--------+---------------+-----------+-----------+------+------+\n",
      "|emp_id|name    |superior_emp_id|year_joined|emp_dept_id|gender|salary|\n",
      "+------+--------+---------------+-----------+-----------+------+------+\n",
      "|1     |Smith   |-1             |2018       |10         |M     |3000  |\n",
      "|2     |Rose    |1              |2010       |20         |M     |4000  |\n",
      "|3     |Williams|1              |2010       |10         |M     |1000  |\n",
      "|4     |Jones   |2              |2005       |10         |F     |2000  |\n",
      "|5     |Brown   |2              |2010       |40         |      |-1    |\n",
      "|6     |Brown   |2              |2010       |50         |      |-1    |\n",
      "+------+--------+---------------+-----------+-----------+------+------+\n",
      "\n",
      "root\n",
      " |-- dept_name: string (nullable = true)\n",
      " |-- dept_id: long (nullable = true)\n",
      "\n",
      "+---------+-------+\n",
      "|dept_name|dept_id|\n",
      "+---------+-------+\n",
      "|Finance  |10     |\n",
      "|Marketing|20     |\n",
      "|Sales    |30     |\n",
      "|IT       |40     |\n",
      "+---------+-------+\n",
      "\n"
     ]
    }
   ],
   "source": [
    "emp = [(1,\"Smith\",-1,\"2018\",\"10\",\"M\",3000), \\\n",
    "    (2,\"Rose\",1,\"2010\",\"20\",\"M\",4000), \\\n",
    "    (3,\"Williams\",1,\"2010\",\"10\",\"M\",1000), \\\n",
    "    (4,\"Jones\",2,\"2005\",\"10\",\"F\",2000), \\\n",
    "    (5,\"Brown\",2,\"2010\",\"40\",\"\",-1), \\\n",
    "      (6,\"Brown\",2,\"2010\",\"50\",\"\",-1) \\\n",
    "  ]\n",
    "empColumns = [\"emp_id\",\"name\",\"superior_emp_id\",\"year_joined\", \\\n",
    "       \"emp_dept_id\",\"gender\",\"salary\"]\n",
    "\n",
    "empDF = spark.createDataFrame(data=emp, schema = empColumns)\n",
    "empDF.printSchema()\n",
    "empDF.show(truncate=False)\n",
    "\n",
    "dept = [(\"Finance\",10), \\\n",
    "    (\"Marketing\",20), \\\n",
    "    (\"Sales\",30), \\\n",
    "    (\"IT\",40) \\\n",
    "  ]\n",
    "deptColumns = [\"dept_name\",\"dept_id\"]\n",
    "deptDF = spark.createDataFrame(data=dept, schema = deptColumns)\n",
    "deptDF.printSchema()\n",
    "deptDF.show(truncate=False)\n"
   ]
  },
  {
   "cell_type": "code",
   "execution_count": 30,
   "id": "9cdad8c8-8a1e-4070-9b04-43adc204affa",
   "metadata": {},
   "outputs": [
    {
     "name": "stdout",
     "output_type": "stream",
     "text": [
      "+------+--------+---------------+-----------+-----------+------+------+---------+-------+\n",
      "|emp_id|    name|superior_emp_id|year_joined|emp_dept_id|gender|salary|dept_name|dept_id|\n",
      "+------+--------+---------------+-----------+-----------+------+------+---------+-------+\n",
      "|     1|   Smith|             -1|       2018|         10|     M|  3000|  Finance|     10|\n",
      "|     3|Williams|              1|       2010|         10|     M|  1000|  Finance|     10|\n",
      "|     4|   Jones|              2|       2005|         10|     F|  2000|  Finance|     10|\n",
      "|     2|    Rose|              1|       2010|         20|     M|  4000|Marketing|     20|\n",
      "|     5|   Brown|              2|       2010|         40|      |    -1|       IT|     40|\n",
      "+------+--------+---------------+-----------+-----------+------+------+---------+-------+\n",
      "\n"
     ]
    }
   ],
   "source": [
    "empDF.join(deptDF,empDF.emp_dept_id == deptDF.dept_id , \"inner\").show()"
   ]
  },
  {
   "cell_type": "markdown",
   "id": "e10c0984-26e9-4717-bf20-86db99dcb2f8",
   "metadata": {},
   "source": [
    "## 문제 3 \n",
    "-  위의 결과를 바탕으로 목적지 공항 별 결항 횟수, 회항 횟수\n",
    "-  운항 횟수를 구하시오 (Cancelled, Diverted, Air)\n",
    "-  운항 횟수는 결항과 회항을 제외한 것 \n"
   ]
  },
  {
   "cell_type": "code",
   "execution_count": 31,
   "id": "a3a6f1c2-fed9-4aa1-a97b-6adb56b444f6",
   "metadata": {},
   "outputs": [
    {
     "name": "stdout",
     "output_type": "stream",
     "text": [
      "+----+-----+----------+---------+-------+-------+-------------+---------+-------+-----------------+-------+--------+--------+------+----+--------+------+-------+---------+----------------+--------+\n",
      "|Year|Month|DayofMonth|DayOfWeek|DepTime|ArrTime|UniqueCarrier|FlightNum|TailNum|ActualElapsedTime|AirTime|ArrDelay|DepDelay|Origin|Dest|Distance|TaxiIn|TaxiOut|Cancelled|CancellationCode|Diverted|\n",
      "+----+-----+----------+---------+-------+-------+-------------+---------+-------+-----------------+-------+--------+--------+------+----+--------+------+-------+---------+----------------+--------+\n",
      "|2011|    1|         1|        6|   1400|   1500|           AA|      428| N576AA|               60|     40|     -10|       0|   IAH| DFW|     224|     7|     13|        0|            null|       0|\n",
      "+----+-----+----------+---------+-------+-------+-------------+---------+-------+-----------------+-------+--------+--------+------+----+--------+------+-------+---------+----------------+--------+\n",
      "\n"
     ]
    }
   ],
   "source": [
    "hflight.limit(1).show()"
   ]
  },
  {
   "cell_type": "code",
   "execution_count": 148,
   "id": "e8c43a62-87eb-431b-b4af-9451ac925f5b",
   "metadata": {},
   "outputs": [
    {
     "name": "stdout",
     "output_type": "stream",
     "text": [
      "root\n",
      " |-- Year: integer (nullable = true)\n",
      " |-- Month: integer (nullable = true)\n",
      " |-- DayofMonth: integer (nullable = true)\n",
      " |-- DayOfWeek: integer (nullable = true)\n",
      " |-- DepTime: string (nullable = true)\n",
      " |-- ArrTime: string (nullable = true)\n",
      " |-- UniqueCarrier: string (nullable = true)\n",
      " |-- FlightNum: integer (nullable = true)\n",
      " |-- TailNum: string (nullable = true)\n",
      " |-- ActualElapsedTime: string (nullable = true)\n",
      " |-- AirTime: string (nullable = true)\n",
      " |-- ArrDelay: string (nullable = true)\n",
      " |-- DepDelay: string (nullable = true)\n",
      " |-- Origin: string (nullable = true)\n",
      " |-- Dest: string (nullable = true)\n",
      " |-- Distance: integer (nullable = true)\n",
      " |-- TaxiIn: string (nullable = true)\n",
      " |-- TaxiOut: string (nullable = true)\n",
      " |-- Cancelled: integer (nullable = true)\n",
      " |-- CancellationCode: string (nullable = true)\n",
      " |-- Diverted: integer (nullable = true)\n",
      "\n"
     ]
    }
   ],
   "source": [
    "hflight.printSchema()"
   ]
  },
  {
   "cell_type": "code",
   "execution_count": 154,
   "id": "a5927256-e149-4815-843a-6da1dd4c4928",
   "metadata": {},
   "outputs": [
    {
     "name": "stderr",
     "output_type": "stream",
     "text": [
      "                                                                                \r"
     ]
    }
   ],
   "source": [
    "hflight4 = spark.read.parquet(\"hdfs://namenode:port/20240619/scw/hflight_ex3.parquet\")"
   ]
  },
  {
   "cell_type": "code",
   "execution_count": 155,
   "id": "adea89db-dfbd-4292-b25e-d2b9df0287a1",
   "metadata": {},
   "outputs": [],
   "source": [
    "# hflight.groupby(\"Dest\").count().limit(1).show()\n",
    "a = hflight4.groupby(\"Dest\").count()"
   ]
  },
  {
   "cell_type": "code",
   "execution_count": 156,
   "id": "9415fffd-ae6b-4458-b9a7-ca74f1b93037",
   "metadata": {},
   "outputs": [],
   "source": [
    "# hflight.groupby(\"Dest\").sum().select(\"Dest\",\"sum(Cancelled)\" ,\"sum(Diverted)\").limit(1).show()\n",
    "b = hflight4.groupby(\"Dest\").sum().select(\"Dest\",\"sum(Cancelled)\" ,\"sum(Diverted)\").withColumn(\"Dest1\",col(\"Dest\")).drop(\"Dest\")\n",
    "# b = b.withColumn(\"Dest1\",col(\"Dest\"))\n",
    "# b = b.drop(\"Dest\")"
   ]
  },
  {
   "cell_type": "code",
   "execution_count": 158,
   "id": "fd0fe8ce-340b-43f1-a452-ad844623d51c",
   "metadata": {},
   "outputs": [],
   "source": [
    "# hflight4.printSchema()"
   ]
  },
  {
   "cell_type": "code",
   "execution_count": 132,
   "id": "c89880df-e298-4206-a807-7287d958bcaf",
   "metadata": {},
   "outputs": [],
   "source": [
    "# hflight.groupby(\"Dest\").sum().select(\"Dest\",\"sum(Cancelled)\" ,\"sum(Diverted)\").limit(1).show()\n",
    "# b = hflight.groupby(\"Dest\").sum().select(\"Dest\",\"sum(Cancelled)\" ,\"sum(Diverted)\").withColumn(\"Dest1\",col(\"Dest\")).drop(\"Dest\")\n",
    "# b = b.withColumn(\"Dest1\",col(\"Dest\"))\n",
    "# b = b.drop(\"Dest\")"
   ]
  },
  {
   "cell_type": "code",
   "execution_count": 159,
   "id": "1d5a10f3-5676-410f-a4d3-c93bdf31d7d0",
   "metadata": {},
   "outputs": [
    {
     "name": "stderr",
     "output_type": "stream",
     "text": [
      "                                                                                \r"
     ]
    },
    {
     "name": "stdout",
     "output_type": "stream",
     "text": [
      "+----+------+\n",
      "|Dest|answer|\n",
      "+----+------+\n",
      "| MSY|  6780|\n",
      "| DEN|  5868|\n",
      "| DAL|  9351|\n",
      "| ATL|  7717|\n",
      "| ORD|  5634|\n",
      "| LAX|  6017|\n",
      "+----+------+\n",
      "\n"
     ]
    }
   ],
   "source": [
    "c = a.join( b, a.Dest == b.Dest1, \"inner\").withColumn(\"answer\",col(\"count\") - col(\"sum(Diverted)\") - col(\"sum(Cancelled)\")).select(\"Dest\",\"answer\").show()\n",
    "# c.show()"
   ]
  },
  {
   "cell_type": "code",
   "execution_count": 73,
   "id": "9281d680-b9e5-45fa-896a-1dcefba0782b",
   "metadata": {},
   "outputs": [],
   "source": [
    "# c.printSchema()"
   ]
  },
  {
   "cell_type": "code",
   "execution_count": 77,
   "id": "9957c71b-f49c-4728-90f7-14a7a6b4ac87",
   "metadata": {},
   "outputs": [],
   "source": [
    "# c  = c.withColumn(\"count\",col(\"count\").cast(\"Integer\"))\n",
    "# c = c.withColumn(\"sum(Cancelled)\",col(\"sum(Cancelled)\").cast(\"Integer\"))\n",
    "# c = c.withColumn(\"sum(Diverted)\",col(\"sum(Diverted)\").cast(\"Integer\"))"
   ]
  },
  {
   "cell_type": "code",
   "execution_count": 78,
   "id": "80ad0ca0-0f51-43f3-b8b1-a9c1138e1a60",
   "metadata": {},
   "outputs": [],
   "source": [
    "# c.printSchema()"
   ]
  },
  {
   "cell_type": "code",
   "execution_count": 143,
   "id": "4e9ee565-290b-43e9-b24d-612161960b33",
   "metadata": {},
   "outputs": [],
   "source": [
    "# c = c.withColumn(\"answer\",col(\"count\").cast(\"Integer\") - col(\"sum(Diverted)\").cast(\"Integer\") - col(\"sum(Cancelled)\").cast(\"Integer\")).select(\"Dest\",\"answer\").show()"
   ]
  },
  {
   "cell_type": "code",
   "execution_count": 144,
   "id": "a54d5be9-f787-4f61-892b-2154b48f0c5b",
   "metadata": {},
   "outputs": [],
   "source": [
    "# c.select(\"Dest\",\"answer\").show()"
   ]
  },
  {
   "cell_type": "code",
   "execution_count": 166,
   "id": "e6d8735a-0f50-468a-b345-3269d29fa60d",
   "metadata": {},
   "outputs": [],
   "source": [
    "from pyspark.sql.functions import expr\n",
    "url = \"jdbc:mysql://ip:port/encore_web\"\n",
    "properties = {\n",
    "    \"user\": \"id\",\n",
    "    \"password\": 'password',\n",
    "    \"driver\": \"com.mysql.cj.jdbc.Driver\"\n",
    "}\n",
    "\n",
    "a = hflight4.groupby(\"Dest\").sum(\"Cancelled\")\n",
    "b = hflight4.groupby(\"Dest\").sum(\"Diverted\")\n",
    "c = hflight4.groupby(\"Dest\").count() \n",
    "\n"
   ]
  },
  {
   "cell_type": "code",
   "execution_count": 168,
   "id": "4f5d9452-03aa-40bd-975c-429d0eb393fc",
   "metadata": {},
   "outputs": [
    {
     "name": "stderr",
     "output_type": "stream",
     "text": [
      "                                                                                \r"
     ]
    }
   ],
   "source": [
    "a.join(b, on=\"Dest\", how='left').\\\n",
    "    join(c, on=\"Dest\", how='left').\\\n",
    "    withColumnRenamed(\"sum(Cancelled)\", \"Cancelled\").\\\n",
    "    withColumnRenamed(\"sum(Diverted)\", \"Diverted\").\\\n",
    "    withColumn(\"air\", expr(\"count - Cancelled - Diverted\")).\\\n",
    "    drop(\"count\").\\\n",
    "    write.jdbc(url=url, table='mort', mode='append', properties=properties)\n"
   ]
  }
 ],
 "metadata": {
  "kernelspec": {
   "display_name": "Python 3 (ipykernel)",
   "language": "python",
   "name": "python3"
  },
  "language_info": {
   "codemirror_mode": {
    "name": "ipython",
    "version": 3
   },
   "file_extension": ".py",
   "mimetype": "text/x-python",
   "name": "python",
   "nbconvert_exporter": "python",
   "pygments_lexer": "ipython3",
   "version": "3.10.14"
  }
 },
 "nbformat": 4,
 "nbformat_minor": 5
}
