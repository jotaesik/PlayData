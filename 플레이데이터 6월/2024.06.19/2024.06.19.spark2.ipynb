{
 "cells": [
  {
   "cell_type": "code",
   "execution_count": 2,
   "id": "5fa1956d-1087-4601-9b6a-7921cc65e6eb",
   "metadata": {},
   "outputs": [],
   "source": [
    "from pyspark.sql import SparkSession\n",
    "\n",
    "spark = SparkSession.builder.getOrCreate()\n",
    "\n",
    "\n",
    "df = spark.read \\\n",
    "    .format(\"jdbc\") \\\n",
    "    .option(\"driver\",\"com.mysql.cj.jdbc.Driver\") \\\n",
    "    .option(\"url\", \"jdbc:mysql://ip:port/encore_web\") \\\n",
    "    .option(\"dbtable\",\"encore_question\") \\\n",
    "    .option(\"numPartitions\",5) \\\n",
    "    .option(\"user\", \"id\") \\\n",
    "    .option(\"password\", 'password') \\\n",
    "    .load()\n",
    "\n",
    "\n"
   ]
  },
  {
   "cell_type": "code",
   "execution_count": 3,
   "id": "e48b08f5-577f-4603-b247-7de70f35c4e3",
   "metadata": {},
   "outputs": [
    {
     "name": "stderr",
     "output_type": "stream",
     "text": [
      "[Stage 0:>                                                          (0 + 1) / 1]\r"
     ]
    },
    {
     "name": "stdout",
     "output_type": "stream",
     "text": [
      "+---+------------------------+-----------------------+--------------------+---------+\n",
      "| id|                 subject|                content|         create_date|quthor_id|\n",
      "+---+------------------------+-----------------------+--------------------+---------+\n",
      "|  1|                       d|                      d|2024-05-14 06:37:...|        1|\n",
      "|  2|                       d|                      d|2024-05-14 06:37:...|        1|\n",
      "|  3|                       d|                      d|2024-05-14 06:37:...|        1|\n",
      "|  4|                 sdfasdf|                 fasadf|2024-05-14 06:38:...|        1|\n",
      "|  5|                    우와|                   우와|2024-05-14 06:38:...|        1|\n",
      "|  6|                 sdfasdf|                 fasadf|2024-05-14 06:38:...|        1|\n",
      "|  8|                    으오|                   ㅇㅇ|2024-05-14 06:39:...|        1|\n",
      "|  9|    첫글을 빼앗겼네요...|                   ㅠㅠ|2024-05-14 06:39:...|        1|\n",
      "| 10|                    집에|          가고싶어요...|2024-05-14 06:39:...|        1|\n",
      "| 11|    첫글을 빼앗겼네요...|                   ㅠㅠ|2024-05-14 06:39:...|        1|\n",
      "| 12|                    으오|                   ㅇㅇ|2024-05-14 06:39:...|        1|\n",
      "| 13|                     qqq|                     qq|2024-05-14 06:40:...|        1|\n",
      "| 15|내일은 부처님 오시는 날~|               쉬어요~~|2024-05-14 06:40:...|        1|\n",
      "| 16|                    집에|          가고싶어요...|2024-05-14 06:40:...|        1|\n",
      "| 17|                가나다라|                 마바사|2024-05-14 06:41:...|        1|\n",
      "| 18|               'wefopfew|   efjiow;joiwefefjiwo;|2024-05-14 06:41:...|        1|\n",
      "| 19| 오늘은 집에 일찍 가는날|오늘은 집에 일찍 가는날|2024-05-14 06:41:...|        1|\n",
      "| 20|  저녁 메뉴 추천해주세요|                뭐 먹징|2024-05-14 06:41:...|        1|\n",
      "| 21|                     휴~|      드디어 들어옴ㅜㅜ|2024-05-14 06:12:...|        1|\n",
      "| 22|              ㅎㅎㅎㅎㅎ|               하하하하|2024-05-14 06:42:...|        1|\n",
      "+---+------------------------+-----------------------+--------------------+---------+\n",
      "only showing top 20 rows\n",
      "\n"
     ]
    },
    {
     "name": "stderr",
     "output_type": "stream",
     "text": [
      "                                                                                \r"
     ]
    }
   ],
   "source": [
    "df.show()"
   ]
  },
  {
   "cell_type": "code",
   "execution_count": 4,
   "id": "7313f871-9f18-45ac-921d-4055ac6a176a",
   "metadata": {},
   "outputs": [],
   "source": [
    "from pyarrow import fs\n",
    "import pyarrow as pa\n",
    "import subprocess\n",
    "\n",
    "classpath = subprocess.Popen([\"/home/hadoop/hadoop/bin/hdfs\", \"classpath\", \"--glob\"], stdout=subprocess.PIPE).communicate()[0]\n",
    "os.environ[\"CLASSPATH\"] = classpath.decode(\"utf-8\")\n",
    "hdfs = fs.HadoopFileSystem(host='ip', port=port, user='hadoop')\n"
   ]
  },
  {
   "cell_type": "code",
   "execution_count": 18,
   "id": "36e69a59-21e9-4073-9e0e-a641b5d529b5",
   "metadata": {},
   "outputs": [],
   "source": [
    "hdfs.create_dir(\"/20240619\")"
   ]
  },
  {
   "cell_type": "code",
   "execution_count": 19,
   "id": "a0abc968-26bb-46a5-a943-247cdb26a0d9",
   "metadata": {},
   "outputs": [],
   "source": [
    "hdfs.create_dir(\"/20240619/mort\")"
   ]
  },
  {
   "cell_type": "code",
   "execution_count": 20,
   "id": "3faa1818-7a31-4dcc-9398-f84bc61e619b",
   "metadata": {},
   "outputs": [],
   "source": [
    "from pyspark.sql.functions import lit\n",
    "df2 = df.withColumn(\"dummy\",lit(\"하하\"))"
   ]
  },
  {
   "cell_type": "code",
   "execution_count": 21,
   "id": "2bf70afe-9295-43c4-be52-5c3d12bd0efc",
   "metadata": {},
   "outputs": [
    {
     "name": "stderr",
     "output_type": "stream",
     "text": [
      "                                                                                \r"
     ]
    }
   ],
   "source": [
    "df.write.csv(\"hdfs://namenode:port/20240619/mort/my.csv\")"
   ]
  },
  {
   "cell_type": "code",
   "execution_count": 22,
   "id": "ad5e3bc5-5f1f-4690-8eb7-38e32e277b71",
   "metadata": {},
   "outputs": [
    {
     "name": "stderr",
     "output_type": "stream",
     "text": [
      "                                                                                \r"
     ]
    }
   ],
   "source": [
    "df2.write.csv(\"hdfs://namenode:port/20240619/mort/my2.csv\")"
   ]
  },
  {
   "cell_type": "code",
   "execution_count": null,
   "id": "851d64e4-cc3d-4360-a923-2b376bde9438",
   "metadata": {},
   "outputs": [],
   "source": []
  }
 ],
 "metadata": {
  "kernelspec": {
   "display_name": "Python 3 (ipykernel)",
   "language": "python",
   "name": "python3"
  },
  "language_info": {
   "codemirror_mode": {
    "name": "ipython",
    "version": 3
   },
   "file_extension": ".py",
   "mimetype": "text/x-python",
   "name": "python",
   "nbconvert_exporter": "python",
   "pygments_lexer": "ipython3",
   "version": "3.10.14"
  }
 },
 "nbformat": 4,
 "nbformat_minor": 5
}
