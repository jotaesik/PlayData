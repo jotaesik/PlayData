{
 "cells": [
  {
   "cell_type": "code",
   "execution_count": 4,
   "id": "a21dd5bf-cad0-4f96-aad7-7fcccaa9a169",
   "metadata": {},
   "outputs": [
    {
     "name": "stdout",
     "output_type": "stream",
     "text": [
      "Requirement already satisfied: numpy in /home/hadoop/miniconda3/lib/python3.10/site-packages (2.0.0)\n",
      "Note: you may need to restart the kernel to use updated packages.\n"
     ]
    }
   ],
   "source": [
    "pip install numpy"
   ]
  },
  {
   "cell_type": "code",
   "execution_count": 5,
   "id": "9381757a-7201-43f1-9db2-bd24d6095393",
   "metadata": {},
   "outputs": [
    {
     "name": "stderr",
     "output_type": "stream",
     "text": [
      "24/06/27 06:20:19 WARN SparkSession: Using an existing Spark session; only runtime SQL configurations will take effect.\n"
     ]
    }
   ],
   "source": [
    "from pyspark.sql import SparkSession\n",
    "spark = SparkSession.builder.appName(\"20240627\").getOrCreate()\n",
    "# winter_df = spark.read.csv(\"hdfs:////encore/tpss_bcycl_od_statnhm_202001.csv\", encoding='cp949', header=True, schema=schema)"
   ]
  },
  {
   "cell_type": "code",
   "execution_count": 6,
   "id": "ec885d25-a3bd-4011-9fcc-b46a34fb5e8f",
   "metadata": {},
   "outputs": [
    {
     "data": {
      "text/html": [
       "\n",
       "            <div>\n",
       "                <p><b>SparkSession - hive</b></p>\n",
       "                \n",
       "        <div>\n",
       "            <p><b>SparkContext</b></p>\n",
       "\n",
       "            <p><a href=\"http://broker1:4040\">Spark UI</a></p>\n",
       "\n",
       "            <dl>\n",
       "              <dt>Version</dt>\n",
       "                <dd><code>v3.4.3</code></dd>\n",
       "              <dt>Master</dt>\n",
       "                <dd><code>local[*]</code></dd>\n",
       "              <dt>AppName</dt>\n",
       "                <dd><code>PySparkShell</code></dd>\n",
       "            </dl>\n",
       "        </div>\n",
       "        \n",
       "            </div>\n",
       "        "
      ],
      "text/plain": [
       "<pyspark.sql.session.SparkSession at 0x7f263c36e9e0>"
      ]
     },
     "execution_count": 6,
     "metadata": {},
     "output_type": "execute_result"
    }
   ],
   "source": [
    "spark"
   ]
  },
  {
   "cell_type": "code",
   "execution_count": 7,
   "id": "9ddc88c3-fe31-49ea-99b8-18bd79041313",
   "metadata": {},
   "outputs": [
    {
     "data": {
      "text/plain": [
       "'/home/hadoop/workspace'"
      ]
     },
     "execution_count": 7,
     "metadata": {},
     "output_type": "execute_result"
    }
   ],
   "source": [
    "pwd"
   ]
  },
  {
   "cell_type": "code",
   "execution_count": null,
   "id": "de5fa63a-fed6-4993-ac04-3ce13af25f6c",
   "metadata": {},
   "outputs": [],
   "source": []
  },
  {
   "cell_type": "code",
   "execution_count": 8,
   "id": "98f4bf03-9aae-484e-bcee-8950e6c5523b",
   "metadata": {},
   "outputs": [
    {
     "name": "stderr",
     "output_type": "stream",
     "text": [
      "                                                                                \r"
     ]
    }
   ],
   "source": [
    "winter_df = spark.read.csv(\"file:///home/hadoop/workspace/tpss_bcycl_od_statnhm_202001.csv\", \n",
    "               encoding='cp949', header=True)\n"
   ]
  },
  {
   "cell_type": "code",
   "execution_count": 9,
   "id": "225d1610-7f26-4efe-8364-c261f6a2192a",
   "metadata": {},
   "outputs": [],
   "source": [
    "from pyspark.sql.types import StructType, IntegerType, StringType, FloatType\n",
    "schema = StructType().\\\n",
    "      add('기준_날짜',  StringType(), True ).\\\n",
    "        add('구분코드',  StringType(), True ).\\\n",
    "        add('기준_시간',  StringType(), True ).\\\n",
    "        add('시작_대여소ID',  StringType(), True ).\\\n",
    "        add('시작_대여소명',  StringType(), True ).\\\n",
    "        add('종료_대여소ID',  StringType(), True ).\\\n",
    "        add('종료_대여소명',  StringType(), True ).\\\n",
    "        add('전체건수',  IntegerType(), True ).\\\n",
    "        add('전체이용시간(분)',  IntegerType(), True ).\\\n",
    "        add('전체이용거리(m)' , FloatType(), True )\n"
   ]
  },
  {
   "cell_type": "code",
   "execution_count": 10,
   "id": "f82bea25-f303-42ff-b8a7-57dc2bca96e4",
   "metadata": {},
   "outputs": [
    {
     "name": "stdout",
     "output_type": "stream",
     "text": [
      "root\n",
      " |-- 기준_날짜: string (nullable = true)\n",
      " |-- 구분코드: string (nullable = true)\n",
      " |-- 기준_시간: string (nullable = true)\n",
      " |-- 시작_대여소ID: string (nullable = true)\n",
      " |-- 시작_대여소명: string (nullable = true)\n",
      " |-- 종료_대여소ID: string (nullable = true)\n",
      " |-- 종료_대여소명: string (nullable = true)\n",
      " |-- 전체건수: string (nullable = true)\n",
      " |-- 전체이용시간(분): string (nullable = true)\n",
      " |-- 전체이용거리(m): string (nullable = true)\n",
      "\n"
     ]
    }
   ],
   "source": [
    "winter_df.printSchema()"
   ]
  },
  {
   "cell_type": "code",
   "execution_count": 11,
   "id": "76907a50-943b-47aa-91a9-fc52ae675910",
   "metadata": {},
   "outputs": [],
   "source": [
    "winter_df = spark.read.format(\"csv\").\\\n",
    "            option(\"header\", True).\\\n",
    "            option(\"encoding\", \"cp949\").\\\n",
    "            schema(schema).csv(\"file:///home/hadoop/workspace/tpss_bcycl_od_statnhm_202001.csv\")\n"
   ]
  },
  {
   "cell_type": "code",
   "execution_count": 12,
   "id": "87303370-f073-4493-bf4d-fa70695e3871",
   "metadata": {},
   "outputs": [],
   "source": [
    "summer = spark.read.format(\"csv\").\\\n",
    "            option(\"header\", True).\\\n",
    "            option(\"encoding\", \"cp949\").\\\n",
    "            schema(schema).csv(\"file:///home/hadoop/workspace/tpss_bcycl_od_statnhm_202007.csv\")\n"
   ]
  },
  {
   "cell_type": "code",
   "execution_count": 13,
   "id": "24cf2b3a-4157-4c06-8db3-a5962ad05dbe",
   "metadata": {},
   "outputs": [
    {
     "name": "stdout",
     "output_type": "stream",
     "text": [
      "root\n",
      " |-- 기준_날짜: string (nullable = true)\n",
      " |-- 구분코드: string (nullable = true)\n",
      " |-- 기준_시간: string (nullable = true)\n",
      " |-- 시작_대여소ID: string (nullable = true)\n",
      " |-- 시작_대여소명: string (nullable = true)\n",
      " |-- 종료_대여소ID: string (nullable = true)\n",
      " |-- 종료_대여소명: string (nullable = true)\n",
      " |-- 전체건수: integer (nullable = true)\n",
      " |-- 전체이용시간(분): integer (nullable = true)\n",
      " |-- 전체이용거리(m): float (nullable = true)\n",
      "\n"
     ]
    }
   ],
   "source": [
    "summer.printSchema()"
   ]
  },
  {
   "cell_type": "code",
   "execution_count": 14,
   "id": "2c4e620d-ef0c-4755-9607-18cf1ecaf0bd",
   "metadata": {
    "scrolled": true
   },
   "outputs": [
    {
     "name": "stderr",
     "output_type": "stream",
     "text": [
      "[Stage 1:=======================================>                   (2 + 1) / 3]\r"
     ]
    },
    {
     "name": "stdout",
     "output_type": "stream",
     "text": [
      "+---------+--------+---------+-------------+-------------+-------------+-------------+--------+----------------+---------------+\n",
      "|기준_날짜|구분코드|기준_시간|시작_대여소ID|시작_대여소명|종료_대여소ID|종료_대여소명|전체건수|전체이용시간(분)|전체이용거리(m)|\n",
      "+---------+--------+---------+-------------+-------------+-------------+-------------+--------+----------------+---------------+\n",
      "|        0|       0|        0|            0|            0|            0|            0|       0|               0|              0|\n",
      "+---------+--------+---------+-------------+-------------+-------------+-------------+--------+----------------+---------------+\n",
      "\n"
     ]
    },
    {
     "name": "stderr",
     "output_type": "stream",
     "text": [
      "                                                                                \r"
     ]
    }
   ],
   "source": [
    "import pyspark.sql.functions as fn \n",
    "summer.agg(*[\n",
    "    fn.count(fn.when(fn.isnull(x), x)).\\\n",
    "             alias(x) \n",
    "             for x in summer.columns \n",
    "]).show()\n",
    "\n",
    "\n",
    "\n",
    "winter_df= winter_df.withColumn(\"기준_날짜\", fn.to_date(fn.col(\"기준_날짜\"), \"yyyyMMdd\"))\n"
   ]
  },
  {
   "cell_type": "code",
   "execution_count": 15,
   "id": "19c9917c-0ae7-498a-a379-a7c3b770ee0a",
   "metadata": {},
   "outputs": [],
   "source": [
    "winter_df= winter_df.withColumn(\"기준_날짜\", fn.to_date(fn.col(\"기준_날짜\"), \"yyyyMMdd\"))"
   ]
  },
  {
   "cell_type": "code",
   "execution_count": 16,
   "id": "f48d3424-fd81-4d21-9bd3-928ea6db1793",
   "metadata": {},
   "outputs": [
    {
     "data": {
      "text/plain": [
       "Row(기준_날짜=datetime.date(2020, 1, 1), 구분코드='0', 기준_시간='0000', 시작_대여소ID='ST-443', 시작_대여소명='성산2동_041_2', 종료_대여소ID='ST-82', 종료_대여소명='성산2동_041_3', 전체건수=1, 전체이용시간(분)=2, 전체이용거리(m)=450.0)"
      ]
     },
     "execution_count": 16,
     "metadata": {},
     "output_type": "execute_result"
    }
   ],
   "source": [
    "winter_df.first()"
   ]
  },
  {
   "cell_type": "code",
   "execution_count": 17,
   "id": "2bb121cf-8243-44dd-9d10-b69c21a64101",
   "metadata": {},
   "outputs": [],
   "source": [
    "winter_df = winter_df.withColumn(\"요일\", fn.date_format(fn.col(\"기준_날짜\"), \"E\"))"
   ]
  },
  {
   "cell_type": "code",
   "execution_count": 18,
   "id": "741e6a81-c773-4703-90a0-ce132c77b0d3",
   "metadata": {},
   "outputs": [
    {
     "name": "stdout",
     "output_type": "stream",
     "text": [
      "+----------+--------+---------+-------------+----------------+-------------+----------------+--------+----------------+---------------+----+\n",
      "| 기준_날짜|구분코드|기준_시간|시작_대여소ID|   시작_대여소명|종료_대여소ID|   종료_대여소명|전체건수|전체이용시간(분)|전체이용거리(m)|요일|\n",
      "+----------+--------+---------+-------------+----------------+-------------+----------------+--------+----------------+---------------+----+\n",
      "|2020-01-01|       0|     0000|       ST-443|   성산2동_041_2|        ST-82|   성산2동_041_3|       1|               2|          450.0| Wed|\n",
      "|2020-01-01|       0|     0000|        ST-56|   여의동_005_10|      ST-1321|  영등포동_036_1|       1|              10|         1460.0| Wed|\n",
      "|2020-01-01|       0|     0000|      ST-1546|    조원동_004_1|       ST-703|    신사동_023_1|       1|               5|          700.0| Wed|\n",
      "|2020-01-01|       1|     0000|      ST-1701|   당산2동_065_1|      ST-1701|   당산2동_065_1|       1|              28|        70670.0| Wed|\n",
      "|2020-01-01|       1|     0000|      ST-1390|   수유2동_030_1|      ST-1101|    미아동_010_1|       1|              14|        59030.0| Wed|\n",
      "|2020-01-01|       1|     0000|      ST-1128|   하계1동_008_1|      ST-1473|  중계본동_032_1|       1|              11|         1170.0| Wed|\n",
      "|2020-01-01|       0|     0000|        ST-26|    대흥동_015_1|       ST-202|    공덕동_076_1|       1|              11|         1670.0| Wed|\n",
      "|2020-01-01|       1|     0000|       ST-118|    사직동_004_1|       ST-978|청운효자동_023_1|       1|              98|         1160.0| Wed|\n",
      "|2020-01-01|       1|     0000|       ST-517|    염창동_009_1|      ST-1509|   가양3동_015_1|       1|               4|         1180.0| Wed|\n",
      "|2020-01-01|       1|     0000|        ST-31|    대흥동_005_2|       ST-207|    대흥동_016_1|       1|               3|          390.0| Wed|\n",
      "|2020-01-01|       0|     0000|      ST-1377|    사근동_007_1|       ST-243|    용답동_003_1|       1|               7|         1710.0| Wed|\n",
      "|2020-01-01|       1|     0000|      ST-1464|   방학1동_008_1|      ST-1726|   쌍문1동_040_1|       1|              28|         3680.0| Wed|\n",
      "|2020-01-01|       1|     0000|       ST-611|상계6・7동_029_2|      ST-1124|   상계2동_039_1|       1|               1|          350.0| Wed|\n",
      "|2020-01-01|       1|     0000|        ST-77|    상암동_001_2|        ST-84|    상암동_025_7|       1|              10|         1200.0| Wed|\n",
      "|2020-01-01|       1|     0000|      ST-1425|  중계본동_007_1|      ST-1425|  중계본동_007_1|       1|              39|            0.0| Wed|\n",
      "|2020-01-01|       0|     0000|      ST-1691|    대흥동_021_1|        ST-28|    대흥동_007_2|       1|               2|            0.0| Wed|\n",
      "|2020-01-01|       0|     0000|      ST-1723|   월곡1동_019_1|      ST-1633|   길음2동_004_1|       1|               6|         1210.0| Wed|\n",
      "|2020-01-01|       1|     0000|      ST-1560|   개포2동_030_3|       ST-803|   대치1동_024_1|       1|               5|         1620.0| Wed|\n",
      "|2020-01-01|       1|     0000|        ST-73|    여의동_009_1|        ST-73|    여의동_009_1|       1|              24|            0.0| Wed|\n",
      "|2020-01-01|       1|     0000|       ST-663|  신도림동_008_1|      ST-1733|  신도림동_033_1|       1|               1|          430.0| Wed|\n",
      "+----------+--------+---------+-------------+----------------+-------------+----------------+--------+----------------+---------------+----+\n",
      "only showing top 20 rows\n",
      "\n"
     ]
    }
   ],
   "source": [
    "winter_df.show()"
   ]
  },
  {
   "cell_type": "code",
   "execution_count": 19,
   "id": "96d9766d-4a4a-4396-a175-d84e58d896e3",
   "metadata": {},
   "outputs": [
    {
     "name": "stdout",
     "output_type": "stream",
     "text": [
      "root\n",
      " |-- employee_name: string (nullable = true)\n",
      " |-- department: string (nullable = true)\n",
      " |-- state: string (nullable = true)\n",
      " |-- salary: long (nullable = true)\n",
      " |-- age: long (nullable = true)\n",
      " |-- bonus: long (nullable = true)\n",
      "\n"
     ]
    },
    {
     "name": "stderr",
     "output_type": "stream",
     "text": [
      "                                                                                \r"
     ]
    },
    {
     "name": "stdout",
     "output_type": "stream",
     "text": [
      "+-------------+----------+-----+------+---+-----+\n",
      "|employee_name|department|state|salary|age|bonus|\n",
      "+-------------+----------+-----+------+---+-----+\n",
      "|James        |Sales     |NY   |90000 |34 |10000|\n",
      "|Michael      |Sales     |NY   |86000 |56 |20000|\n",
      "|Robert       |Sales     |CA   |81000 |30 |23000|\n",
      "|Maria        |Finance   |CA   |90000 |24 |23000|\n",
      "|Raman        |Finance   |CA   |99000 |40 |24000|\n",
      "|Scott        |Finance   |NY   |83000 |36 |19000|\n",
      "|Jen          |Finance   |NY   |79000 |53 |15000|\n",
      "|Jeff         |Marketing |CA   |80000 |25 |18000|\n",
      "|Kumar        |Marketing |NY   |91000 |50 |21000|\n",
      "+-------------+----------+-----+------+---+-----+\n",
      "\n",
      "+----------+-----+\n",
      "|department|count|\n",
      "+----------+-----+\n",
      "|Sales     |3    |\n",
      "|Finance   |4    |\n",
      "|Marketing |2    |\n",
      "+----------+-----+\n",
      "\n"
     ]
    }
   ],
   "source": [
    "simpleData = [(\"James\",\"Sales\",\"NY\",90000,34,10000),\n",
    "    (\"Michael\",\"Sales\",\"NY\",86000,56,20000),\n",
    "    (\"Robert\",\"Sales\",\"CA\",81000,30,23000),\n",
    "    (\"Maria\",\"Finance\",\"CA\",90000,24,23000),\n",
    "    (\"Raman\",\"Finance\",\"CA\",99000,40,24000),\n",
    "    (\"Scott\",\"Finance\",\"NY\",83000,36,19000),\n",
    "    (\"Jen\",\"Finance\",\"NY\",79000,53,15000),\n",
    "    (\"Jeff\",\"Marketing\",\"CA\",80000,25,18000),\n",
    "    (\"Kumar\",\"Marketing\",\"NY\",91000,50,21000)\n",
    "  ]\n",
    "\n",
    "# Create DataFrame\n",
    "schema = [\"employee_name\",\"department\",\"state\",\"salary\",\"age\",\"bonus\"]\n",
    "df = spark.createDataFrame(data=simpleData, schema = schema)\n",
    "df.printSchema()\n",
    "df.show(truncate=False)\n",
    "df.groupBy(\"department\").count().show(truncate=False)\n"
   ]
  },
  {
   "cell_type": "code",
   "execution_count": 20,
   "id": "83256207-7e93-48ca-85eb-40c97427b65b",
   "metadata": {},
   "outputs": [
    {
     "name": "stdout",
     "output_type": "stream",
     "text": [
      "root\n",
      " |-- 기준_날짜: date (nullable = true)\n",
      " |-- 구분코드: string (nullable = true)\n",
      " |-- 기준_시간: string (nullable = true)\n",
      " |-- 시작_대여소ID: string (nullable = true)\n",
      " |-- 시작_대여소명: string (nullable = true)\n",
      " |-- 종료_대여소ID: string (nullable = true)\n",
      " |-- 종료_대여소명: string (nullable = true)\n",
      " |-- 전체건수: integer (nullable = true)\n",
      " |-- 전체이용시간(분): integer (nullable = true)\n",
      " |-- 전체이용거리(m): float (nullable = true)\n",
      " |-- 요일: string (nullable = true)\n",
      "\n"
     ]
    }
   ],
   "source": [
    "winter_df.printSchema()"
   ]
  },
  {
   "cell_type": "code",
   "execution_count": 21,
   "id": "f13f6218-3f52-49e9-950a-5779ff8ffbbf",
   "metadata": {},
   "outputs": [
    {
     "name": "stderr",
     "output_type": "stream",
     "text": [
      "[Stage 11:=============================>                            (1 + 1) / 2]\r"
     ]
    },
    {
     "name": "stdout",
     "output_type": "stream",
     "text": [
      "+----+------+\n",
      "|요일|count |\n",
      "+----+------+\n",
      "|Sun |170925|\n",
      "|Sat |184020|\n",
      "|Mon |185929|\n",
      "|Tue |197435|\n",
      "|Wed |289054|\n",
      "|Fri |305148|\n",
      "|Thu |336492|\n",
      "+----+------+\n",
      "\n"
     ]
    },
    {
     "name": "stderr",
     "output_type": "stream",
     "text": [
      "                                                                                \r"
     ]
    }
   ],
   "source": [
    "winter_df.groupby(\"요일\").count().orderBy(\"count\",ascending=True).show(truncate=False)"
   ]
  },
  {
   "cell_type": "code",
   "execution_count": 22,
   "id": "3e0e4b3d-4afc-42f1-9c7a-2bfe2f4f1d46",
   "metadata": {},
   "outputs": [
    {
     "name": "stdout",
     "output_type": "stream",
     "text": [
      "root\n",
      " |-- 기준_날짜: string (nullable = true)\n",
      " |-- 구분코드: string (nullable = true)\n",
      " |-- 기준_시간: string (nullable = true)\n",
      " |-- 시작_대여소ID: string (nullable = true)\n",
      " |-- 시작_대여소명: string (nullable = true)\n",
      " |-- 종료_대여소ID: string (nullable = true)\n",
      " |-- 종료_대여소명: string (nullable = true)\n",
      " |-- 전체건수: integer (nullable = true)\n",
      " |-- 전체이용시간(분): integer (nullable = true)\n",
      " |-- 전체이용거리(m): float (nullable = true)\n",
      "\n"
     ]
    }
   ],
   "source": [
    "summer.printSchema()"
   ]
  },
  {
   "cell_type": "code",
   "execution_count": 23,
   "id": "b0169ccb-231f-4b15-89e0-7dbbf87da7e5",
   "metadata": {},
   "outputs": [],
   "source": [
    "summer= summer.withColumn(\"기준_날짜\", fn.to_date(fn.col(\"기준_날짜\"), \"yyyyMMdd\"))\n",
    "summer = summer.withColumn(\"요일\", fn.date_format(fn.col(\"기준_날짜\"), \"E\"))"
   ]
  },
  {
   "cell_type": "code",
   "execution_count": 24,
   "id": "9642eb1e-1cdd-428e-891d-28f2ed020746",
   "metadata": {},
   "outputs": [
    {
     "name": "stdout",
     "output_type": "stream",
     "text": [
      "+----------+--------+---------+-------------+-------------+-------------+-------------+--------+----------------+---------------+----+\n",
      "| 기준_날짜|구분코드|기준_시간|시작_대여소ID|시작_대여소명|종료_대여소ID|종료_대여소명|전체건수|전체이용시간(분)|전체이용거리(m)|요일|\n",
      "+----------+--------+---------+-------------+-------------+-------------+-------------+--------+----------------+---------------+----+\n",
      "|2020-07-01|       1|     0000|       ST-883| 조원동_034_1|      ST-1265| 조원동_014_1|       1|               7|            0.0| Wed|\n",
      "+----------+--------+---------+-------------+-------------+-------------+-------------+--------+----------------+---------------+----+\n",
      "\n"
     ]
    }
   ],
   "source": [
    "summer.limit(1).show()"
   ]
  },
  {
   "cell_type": "code",
   "execution_count": 25,
   "id": "d3c6d6f4-cd30-49ea-8770-9dfceb0e33b2",
   "metadata": {},
   "outputs": [
    {
     "name": "stderr",
     "output_type": "stream",
     "text": [
      "[Stage 15:======================================>                   (2 + 1) / 3]\r"
     ]
    },
    {
     "name": "stdout",
     "output_type": "stream",
     "text": [
      "+----+------+\n",
      "|요일|count |\n",
      "+----+------+\n",
      "|Mon |466809|\n",
      "|Sun |597415|\n",
      "|Tue |682796|\n",
      "|Sat |747857|\n",
      "|Wed |781305|\n",
      "|Thu |820097|\n",
      "|Fri |914310|\n",
      "+----+------+\n",
      "\n"
     ]
    },
    {
     "name": "stderr",
     "output_type": "stream",
     "text": [
      "                                                                                \r"
     ]
    }
   ],
   "source": [
    "summer.groupby(\"요일\").count().orderBy(\"count\",ascending=True).show(truncate=False)\n",
    "# winter_df.groupby(\"요일\").count().sort('count').show()"
   ]
  },
  {
   "cell_type": "code",
   "execution_count": 26,
   "id": "6ee318ce-06e9-417d-964b-a011c73db149",
   "metadata": {},
   "outputs": [],
   "source": [
    "summer_fri = summer.filter(fn.col(\"요일\")==\"Fri\")"
   ]
  },
  {
   "cell_type": "code",
   "execution_count": 27,
   "id": "519266a8-e380-461b-8137-6e22e98e6f90",
   "metadata": {},
   "outputs": [
    {
     "name": "stderr",
     "output_type": "stream",
     "text": [
      "                                                                                \r"
     ]
    },
    {
     "data": {
      "text/plain": [
       "Row(기준_날짜=datetime.date(2020, 7, 3), 구분코드='0', 기준_시간='0000', 시작_대여소ID='ST-1037', 시작_대여소명='갈현1동_044_1', 종료_대여소ID='ST-460', 종료_대여소명='응암3동_017_1', 전체건수=1, 전체이용시간(분)=24, 전체이용거리(m)=0.0, 요일='Fri')"
      ]
     },
     "execution_count": 27,
     "metadata": {},
     "output_type": "execute_result"
    }
   ],
   "source": [
    "summer_fri.first()"
   ]
  },
  {
   "cell_type": "code",
   "execution_count": 28,
   "id": "a68d52bd-8998-4151-bd4f-57246b5f9a81",
   "metadata": {},
   "outputs": [
    {
     "name": "stderr",
     "output_type": "stream",
     "text": [
      "[Stage 19:======================================>                   (2 + 1) / 3]\r"
     ]
    },
    {
     "name": "stdout",
     "output_type": "stream",
     "text": [
      "+---------+\n",
      "|기준_시간|\n",
      "+---------+\n",
      "|     0000|\n",
      "|     0005|\n",
      "|     0010|\n",
      "|     0015|\n",
      "|     0020|\n",
      "|     0025|\n",
      "|     0030|\n",
      "|     0035|\n",
      "|     0040|\n",
      "|     0045|\n",
      "|     0050|\n",
      "|     0055|\n",
      "|     0100|\n",
      "|     0105|\n",
      "|     0110|\n",
      "|     0115|\n",
      "|     0120|\n",
      "|     0125|\n",
      "|     0130|\n",
      "|     0135|\n",
      "+---------+\n",
      "only showing top 20 rows\n",
      "\n"
     ]
    },
    {
     "name": "stderr",
     "output_type": "stream",
     "text": [
      "                                                                                \r"
     ]
    }
   ],
   "source": [
    "summer_fri.select(fn.col(\"기준_시간\")).distinct().sort(\"기준_시간\").show()"
   ]
  },
  {
   "cell_type": "code",
   "execution_count": 29,
   "id": "2516f4fb-0e9b-4178-8108-b0d90f20193f",
   "metadata": {},
   "outputs": [
    {
     "name": "stderr",
     "output_type": "stream",
     "text": [
      "[Stage 22:======================================>                   (2 + 1) / 3]\r"
     ]
    },
    {
     "name": "stdout",
     "output_type": "stream",
     "text": [
      "+---------+-----+\n",
      "|기준_시간|count|\n",
      "+---------+-----+\n",
      "|     1805| 8694|\n",
      "|     1810| 8636|\n",
      "|     1815| 8265|\n",
      "|     1820| 7980|\n",
      "|     1825| 7753|\n",
      "|     1835| 7568|\n",
      "|     1830| 7556|\n",
      "|     1840| 7508|\n",
      "|     1845| 7454|\n",
      "|     1800| 7451|\n",
      "|     1850| 7401|\n",
      "|     1855| 7297|\n",
      "|     1905| 7036|\n",
      "|     1900| 7027|\n",
      "|     1910| 6727|\n",
      "|     1915| 6664|\n",
      "|     1755| 6629|\n",
      "|     1920| 6486|\n",
      "|     1750| 6427|\n",
      "|     1745| 6399|\n",
      "+---------+-----+\n",
      "only showing top 20 rows\n",
      "\n"
     ]
    },
    {
     "name": "stderr",
     "output_type": "stream",
     "text": [
      "                                                                                \r"
     ]
    }
   ],
   "source": [
    "summer_fri.groupby(\"기준_시간\").count().orderBy(\"count\",ascending=False).show()"
   ]
  },
  {
   "cell_type": "code",
   "execution_count": 30,
   "id": "7ed8719d-0898-49a3-8ee2-35d2eb5520a4",
   "metadata": {},
   "outputs": [],
   "source": [
    "summer_fri_peek = summer_fri.filter((fn.col(\"기준_시간\")>=\"1800\") & (fn.col(\"기준_시간\")<=\"1900\") )"
   ]
  },
  {
   "cell_type": "code",
   "execution_count": 31,
   "id": "f3691707-cc11-48f6-9bda-52f9dd3a054b",
   "metadata": {},
   "outputs": [
    {
     "name": "stderr",
     "output_type": "stream",
     "text": [
      "[Stage 25:>                                                         (0 + 1) / 1]\r"
     ]
    },
    {
     "name": "stdout",
     "output_type": "stream",
     "text": [
      "+----------+--------+---------+-------------+----------------+-------------+----------------+--------+----------------+---------------+----+\n",
      "| 기준_날짜|구분코드|기준_시간|시작_대여소ID|   시작_대여소명|종료_대여소ID|   종료_대여소명|전체건수|전체이용시간(분)|전체이용거리(m)|요일|\n",
      "+----------+--------+---------+-------------+----------------+-------------+----------------+--------+----------------+---------------+----+\n",
      "|2020-07-03|       0|     1800|       ST-506|성수2가3동_021_2|      ST-1660|   자양3동_025_1|       1|              12|        1490.58| Fri|\n",
      "|2020-07-03|       0|     1800|      ST-2206| 북가좌1동_019_1|       ST-210|   성산1동_009_1|       1|               9|            0.0| Fri|\n",
      "|2020-07-03|       0|     1800|       ST-231|   홍은2동_036_1|       ST-231|   홍은2동_036_1|       1|              64|         8920.0| Fri|\n",
      "|2020-07-03|       0|     1800|        ST-57|   여의동_005_11|      ST-1751|    수색동_031_1|       1|              46|            0.0| Fri|\n",
      "|2020-07-03|       0|     1800|      ST-1694|   화곡3동_003_1|      ST-1064|   발산1동_060_1|       1|              10|            0.0| Fri|\n",
      "|2020-07-03|       0|     1800|       ST-733| 신대방2동_027_3|       ST-300|   신길6동_030_1|       1|               4|         573.03| Fri|\n",
      "|2020-07-03|       0|     1800|      ST-1419|    장지동_003_1|       ST-839|   송파2동_032_1|       1|              17|         2470.0| Fri|\n",
      "|2020-07-03|       0|     1800|       ST-769|   양재1동_026_1|      ST-1654|   양재1동_020_1|       1|               4|            0.0| Fri|\n",
      "|2020-07-03|       0|     1800|      ST-1101|    미아동_010_1|      ST-1109|   수유3동_016_1|       1|               4|          900.0| Fri|\n",
      "|2020-07-03|       0|     1800|       ST-934|    조원동_011_1|      ST-2016|     목1동_044_1|       1|              29|        5991.67| Fri|\n",
      "|2020-07-03|       0|     1800|       ST-605|   하계2동_041_1|      ST-1095|   면목4동_032_1|       1|              54|        8262.46| Fri|\n",
      "|2020-07-03|       0|     1800|       ST-366|    옥수동_036_1|       ST-366|    옥수동_036_1|       1|              51|            0.0| Fri|\n",
      "|2020-07-03|       0|     1800|       ST-988|   자양3동_029_1|        ST-98|   자양3동_025_2|       1|              26|        2665.51| Fri|\n",
      "|2020-07-03|       0|     1800|       ST-577|     묵1동_034_1|       ST-850|   상봉2동_001_1|       1|              37|            0.0| Fri|\n",
      "|2020-07-03|       0|     1800|       ST-286| 신대방2동_028_1|      ST-1151| 신대방2동_027_1|       1|             108|       24165.87| Fri|\n",
      "|2020-07-03|       0|     1800|       ST-106|성수2가1동_001_1|       ST-506|성수2가3동_021_2|       1|               3|          670.0| Fri|\n",
      "|2020-07-03|       0|     1800|      ST-1317|    안암동_004_1|       ST-825|    성북동_015_2|       1|              31|            0.0| Fri|\n",
      "|2020-07-03|       0|     1800|       ST-165|    사직동_003_1|       ST-169|    가회동_008_1|       1|              17|         1830.0| Fri|\n",
      "|2020-07-03|       0|     1800|      ST-2177|  한강로동_008_1|      ST-2160|   성산2동_044_1|       1|              74|       11441.83| Fri|\n",
      "|2020-07-03|       0|     1800|       ST-241|    사근동_001_1|      ST-1343| 원효로2동_027_1|       1|              64|            0.0| Fri|\n",
      "+----------+--------+---------+-------------+----------------+-------------+----------------+--------+----------------+---------------+----+\n",
      "only showing top 20 rows\n",
      "\n"
     ]
    },
    {
     "name": "stderr",
     "output_type": "stream",
     "text": [
      "                                                                                \r"
     ]
    }
   ],
   "source": [
    "summer_fri_peek.show()"
   ]
  },
  {
   "cell_type": "code",
   "execution_count": 32,
   "id": "d45b4b71-343b-4d12-92f0-c58af7dfafc4",
   "metadata": {},
   "outputs": [],
   "source": [
    "temp = summer_fri.filter((fn.col(\"기준_시간\")>=\"1200\") & (fn.col(\"기준_시간\")<=\"1300\") )"
   ]
  },
  {
   "cell_type": "code",
   "execution_count": 33,
   "id": "d227dca7-fc0c-4979-b838-bae09cd893ff",
   "metadata": {},
   "outputs": [
    {
     "name": "stderr",
     "output_type": "stream",
     "text": [
      "[Stage 26:======================================>                   (2 + 1) / 3]\r"
     ]
    },
    {
     "name": "stdout",
     "output_type": "stream",
     "text": [
      "+------------------+------+--------+\n",
      "|          평균거리|중앙값|  최댓값|\n",
      "+------------------+------+--------+\n",
      "|1601.6666854104033|   0.0|226480.0|\n",
      "+------------------+------+--------+\n",
      "\n"
     ]
    },
    {
     "name": "stderr",
     "output_type": "stream",
     "text": [
      "                                                                                \r"
     ]
    }
   ],
   "source": [
    "temp.select(fn.mean(fn.col('전체이용거리(m)')).alias(\"평균거리\"),\n",
    "                      fn.median(fn.col('전체이용거리(m)')).alias(\"중앙값\"),\n",
    "                       fn.max(fn.col('전체이용거리(m)')).alias(\"최댓값\"),\n",
    "                      ).show()\n"
   ]
  },
  {
   "cell_type": "code",
   "execution_count": 34,
   "id": "9d597b0e-a235-46f7-9f74-22645f9bd768",
   "metadata": {},
   "outputs": [
    {
     "name": "stderr",
     "output_type": "stream",
     "text": [
      "                                                                                \r"
     ]
    },
    {
     "name": "stdout",
     "output_type": "stream",
     "text": [
      "+----------------+----------------+-----+\n",
      "|시작_대여소명   |종료_대여소명   |count|\n",
      "+----------------+----------------+-----+\n",
      "|자양3동_050_1   |자양3동_050_1   |4637 |\n",
      "|여의동_009_1    |여의동_009_1    |4400 |\n",
      "|망원2동_031_1   |망원2동_031_1   |3816 |\n",
      "|신림동_029_1    |신림동_029_1    |3555 |\n",
      "|옥수동_036_1    |옥수동_036_1    |3301 |\n",
      "|마장동_032_1    |마장동_032_1    |2932 |\n",
      "|독산1동_031_2   |독산1동_031_2   |2819 |\n",
      "|당산2동_017_1   |당산2동_017_1   |2759 |\n",
      "|흑석동_028_1    |흑석동_028_1    |2537 |\n",
      "|반포3동_001_2   |반포3동_001_2   |2483 |\n",
      "|응봉동_026_1    |응봉동_026_1    |2467 |\n",
      "|성산2동_078_2   |성산2동_078_2   |2441 |\n",
      "|삼성동_003_1    |삼성동_003_1    |2354 |\n",
      "|조원동_004_1    |조원동_004_1    |2285 |\n",
      "|잠원동_005_1    |잠원동_005_1    |2255 |\n",
      "|응암1동_032_1   |응암1동_032_1   |2245 |\n",
      "|노량진1동_001_3 |노량진1동_001_3 |2239 |\n",
      "|성수1가1동_014_3|성수1가1동_014_3|2122 |\n",
      "|오륜동_001_4    |오륜동_001_4    |2037 |\n",
      "|홍은2동_001_1   |홍은2동_001_1   |1905 |\n",
      "+----------------+----------------+-----+\n",
      "only showing top 20 rows\n",
      "\n"
     ]
    }
   ],
   "source": [
    "summer.groupby(\"시작_대여소명\",\"종료_대여소명\").count().sort(\"count\",ascending=False).show(truncate=False)"
   ]
  },
  {
   "cell_type": "code",
   "execution_count": 35,
   "id": "6aa58217-9381-40a9-8829-252ce096d5a3",
   "metadata": {},
   "outputs": [
    {
     "name": "stderr",
     "output_type": "stream",
     "text": [
      "                                                                                \r"
     ]
    },
    {
     "name": "stdout",
     "output_type": "stream",
     "text": [
      "+------------------+------+------+------+\n",
      "|              평균|중앙값|최댓값| count|\n",
      "+------------------+------+------+------+\n",
      "|29.404135599960235|  18.0|  1580|100590|\n",
      "+------------------+------+------+------+\n",
      "\n"
     ]
    },
    {
     "name": "stderr",
     "output_type": "stream",
     "text": [
      "                                                                                \r"
     ]
    },
    {
     "data": {
      "text/plain": [
       "334460"
      ]
     },
     "execution_count": 35,
     "metadata": {},
     "output_type": "execute_result"
    }
   ],
   "source": [
    "summer_fri_peek.select(fn.mean(fn.col('전체이용시간(분)')).alias(\"평균\"),\n",
    "                      fn.median(fn.col('전체이용시간(분)')).alias(\"중앙값\"),\n",
    "                       fn.max(fn.col('전체이용시간(분)')).alias(\"최댓값\"),\n",
    "                       fn.count(fn.col('전체이용시간(분)')).alias(\"count\")\n",
    "                      ).show()\n",
    "\n",
    "\n",
    "# summer_fri_0000.select(fn.mean(fn.col('전체이용시간(분)')).alias(\"평균\"),\n",
    "#                       fn.median(fn.col('전체이용시간(분)')).alias(\"중앙값\"),\n",
    "#                        fn.max(fn.col('전체이용시간(분)')).alias(\"최댓값\"),\n",
    "#                        fn.count(fn.col('전체이용시간(분)')).alias(\"count\")\n",
    "#                       ).show()\n",
    "\n",
    "\n",
    "\n",
    "\n",
    "\n",
    "summer.groupby(\"시작_대여소명\", \"종료_대여소명\").count().sort('count', ascending=True).count()\n"
   ]
  },
  {
   "cell_type": "code",
   "execution_count": 36,
   "id": "1285c038-8dd9-44bd-8386-e4a4bf3c6414",
   "metadata": {},
   "outputs": [
    {
     "data": {
      "text/plain": [
       "Row(기준_날짜=datetime.date(2020, 7, 1), 구분코드='1', 기준_시간='0000', 시작_대여소ID='ST-883', 시작_대여소명='조원동_034_1', 종료_대여소ID='ST-1265', 종료_대여소명='조원동_014_1', 전체건수=1, 전체이용시간(분)=7, 전체이용거리(m)=0.0, 요일='Wed', 동='조원동')"
      ]
     },
     "execution_count": 36,
     "metadata": {},
     "output_type": "execute_result"
    }
   ],
   "source": [
    "summer.withColumn(\"동\", fn.split(\"시작_대여소명\",\"_\")[0]).first()"
   ]
  },
  {
   "cell_type": "code",
   "execution_count": 37,
   "id": "d295d23d-fe05-47e1-8f77-7a1e2874723a",
   "metadata": {},
   "outputs": [],
   "source": [
    "summer = summer.withColumn(\"동\", fn.split(\"시작_대여소명\",\"_\")[0])"
   ]
  },
  {
   "cell_type": "code",
   "execution_count": 38,
   "id": "773edf9a-f495-4781-ace4-434f9a3066fc",
   "metadata": {},
   "outputs": [
    {
     "name": "stdout",
     "output_type": "stream",
     "text": [
      "root\n",
      " |-- 기준_날짜: date (nullable = true)\n",
      " |-- 구분코드: string (nullable = true)\n",
      " |-- 기준_시간: string (nullable = true)\n",
      " |-- 시작_대여소ID: string (nullable = true)\n",
      " |-- 시작_대여소명: string (nullable = true)\n",
      " |-- 종료_대여소ID: string (nullable = true)\n",
      " |-- 종료_대여소명: string (nullable = true)\n",
      " |-- 전체건수: integer (nullable = true)\n",
      " |-- 전체이용시간(분): integer (nullable = true)\n",
      " |-- 전체이용거리(m): float (nullable = true)\n",
      " |-- 요일: string (nullable = true)\n",
      " |-- 동: string (nullable = true)\n",
      "\n"
     ]
    }
   ],
   "source": [
    "summer.printSchema()"
   ]
  },
  {
   "cell_type": "code",
   "execution_count": null,
   "id": "fb16bdfe-dec4-4173-8f92-f325306ae57f",
   "metadata": {},
   "outputs": [],
   "source": []
  },
  {
   "cell_type": "code",
   "execution_count": 39,
   "id": "9982d332-6df3-4efe-8d25-76c96f786516",
   "metadata": {},
   "outputs": [
    {
     "name": "stderr",
     "output_type": "stream",
     "text": [
      "[Stage 42:======================================>                   (2 + 1) / 3]\r"
     ]
    },
    {
     "name": "stdout",
     "output_type": "stream",
     "text": [
      "+------------------+-----+\n",
      "|                동|count|\n",
      "+------------------+-----+\n",
      "|            여의동|   34|\n",
      "|           가양1동|   33|\n",
      "|            상암동|   27|\n",
      "|            진관동|   25|\n",
      "|           오류2동|   25|\n",
      "|종로1・2・3・4가동|   24|\n",
      "|            가산동|   18|\n",
      "|           발산1동|   17|\n",
      "|           독산1동|   17|\n",
      "|           양재1동|   15|\n",
      "|            내곡동|   15|\n",
      "|          한강로동|   14|\n",
      "|            신촌동|   14|\n",
      "|           문정2동|   14|\n",
      "|           성산2동|   13|\n",
      "|             목1동|   13|\n",
      "|            사직동|   13|\n",
      "|           삼성1동|   12|\n",
      "|           양재2동|   12|\n",
      "|           역삼1동|   12|\n",
      "+------------------+-----+\n",
      "only showing top 20 rows\n",
      "\n"
     ]
    },
    {
     "name": "stderr",
     "output_type": "stream",
     "text": [
      "                                                                                \r"
     ]
    }
   ],
   "source": [
    "summer.select(\"시작_대여소ID\",\"동\").distinct().groupby(\"동\").count().sort(\"count\",ascending=False).show()"
   ]
  },
  {
   "cell_type": "code",
   "execution_count": 40,
   "id": "f040027f-cfa0-439d-9c3f-270d3a0d3180",
   "metadata": {},
   "outputs": [],
   "source": [
    "master = spark.read.csv(\"file:///home/hadoop/workspace/서울시 따릉이대여소 마스터 정보.csv\",\n",
    "                        encoding='cp949', header=True)"
   ]
  },
  {
   "cell_type": "code",
   "execution_count": 41,
   "id": "8fee8693-2132-4e0a-837d-ecb5b5b7d110",
   "metadata": {},
   "outputs": [
    {
     "data": {
      "text/plain": [
       "Row(대여소_ID='ST-999', 주소1='서울특별시 양천구 목동서로 280', 주소2='목동아파트 8단지 상가동', 위도='0.000000', 경도='0.000000')"
      ]
     },
     "execution_count": 41,
     "metadata": {},
     "output_type": "execute_result"
    }
   ],
   "source": [
    "master.first()"
   ]
  },
  {
   "cell_type": "code",
   "execution_count": 42,
   "id": "815523f5-d622-4be0-93dd-89274cf49313",
   "metadata": {},
   "outputs": [],
   "source": [
    "new_summer = summer.join(master,summer[\"시작_대여소ID\"]==master[\"대여소_ID\"],\"left\")"
   ]
  },
  {
   "cell_type": "code",
   "execution_count": 43,
   "id": "a1c0fef1-5e07-4443-97a9-8aa2758e6cfe",
   "metadata": {},
   "outputs": [],
   "source": [
    "# summer.filter(fn.col(\"시작_대여소ID\")==\"ST-1262\").show()"
   ]
  },
  {
   "cell_type": "code",
   "execution_count": 44,
   "id": "a6ad8912-fda8-4e8b-8183-c377f8919ceb",
   "metadata": {},
   "outputs": [
    {
     "name": "stdout",
     "output_type": "stream",
     "text": [
      "+---------+------------------------------+-----------------------+--------+--------+\n",
      "|대여소_ID|                         주소1|                  주소2|    위도|    경도|\n",
      "+---------+------------------------------+-----------------------+--------+--------+\n",
      "|   ST-999|서울특별시 양천구 목동서로 280|목동아파트 8단지 상가동|0.000000|0.000000|\n",
      "+---------+------------------------------+-----------------------+--------+--------+\n",
      "\n"
     ]
    }
   ],
   "source": [
    "master.limit(1).show()"
   ]
  },
  {
   "cell_type": "code",
   "execution_count": 45,
   "id": "785e80cb-e584-4d59-ac45-9c648bdee1d2",
   "metadata": {},
   "outputs": [],
   "source": [
    "# 구 컬럼 생성\n",
    "# 구별 따릉이 대여소 개수"
   ]
  },
  {
   "cell_type": "code",
   "execution_count": 46,
   "id": "708e33d7-3010-4272-9680-dc2a40425b4f",
   "metadata": {},
   "outputs": [
    {
     "name": "stdout",
     "output_type": "stream",
     "text": [
      "root\n",
      " |-- 기준_날짜: date (nullable = true)\n",
      " |-- 구분코드: string (nullable = true)\n",
      " |-- 기준_시간: string (nullable = true)\n",
      " |-- 시작_대여소ID: string (nullable = true)\n",
      " |-- 시작_대여소명: string (nullable = true)\n",
      " |-- 종료_대여소ID: string (nullable = true)\n",
      " |-- 종료_대여소명: string (nullable = true)\n",
      " |-- 전체건수: integer (nullable = true)\n",
      " |-- 전체이용시간(분): integer (nullable = true)\n",
      " |-- 전체이용거리(m): float (nullable = true)\n",
      " |-- 요일: string (nullable = true)\n",
      " |-- 동: string (nullable = true)\n",
      " |-- 대여소_ID: string (nullable = true)\n",
      " |-- 주소1: string (nullable = true)\n",
      " |-- 주소2: string (nullable = true)\n",
      " |-- 위도: string (nullable = true)\n",
      " |-- 경도: string (nullable = true)\n",
      "\n"
     ]
    }
   ],
   "source": [
    "new_summer.printSchema()"
   ]
  },
  {
   "cell_type": "code",
   "execution_count": 47,
   "id": "c470f4af-f28b-4a58-8ea3-44ff5dc8abdd",
   "metadata": {},
   "outputs": [
    {
     "name": "stdout",
     "output_type": "stream",
     "text": [
      "+---------------------------------+\n",
      "|                            주소1|\n",
      "+---------------------------------+\n",
      "|서울특별시 관악구 남부순환로 1369|\n",
      "+---------------------------------+\n",
      "\n"
     ]
    }
   ],
   "source": [
    "new_summer.select(\"주소1\").limit(1).show()"
   ]
  },
  {
   "cell_type": "code",
   "execution_count": 48,
   "id": "f0431a5b-9fa9-4d42-b965-2218c5a23c2c",
   "metadata": {},
   "outputs": [],
   "source": [
    "new_summer = new_summer.withColumn(\"구\", fn.split(\"주소1\",\" \")[1])"
   ]
  },
  {
   "cell_type": "code",
   "execution_count": 49,
   "id": "6a926795-6b6b-426d-a02f-197700c05f0e",
   "metadata": {},
   "outputs": [
    {
     "name": "stdout",
     "output_type": "stream",
     "text": [
      "+------+\n",
      "|    구|\n",
      "+------+\n",
      "|관악구|\n",
      "|광진구|\n",
      "|송파구|\n",
      "|강서구|\n",
      "|강북구|\n",
      "|관악구|\n",
      "|노원구|\n",
      "|도봉구|\n",
      "|노원구|\n",
      "|양천구|\n",
      "+------+\n",
      "\n"
     ]
    }
   ],
   "source": [
    "new_summer.select(\"구\").limit(10).show()"
   ]
  },
  {
   "cell_type": "code",
   "execution_count": 50,
   "id": "f5b41b29-21b3-4e32-bca2-67691e2a8a5f",
   "metadata": {},
   "outputs": [
    {
     "name": "stderr",
     "output_type": "stream",
     "text": [
      "[Stage 56:======================================>                   (2 + 1) / 3]\r"
     ]
    },
    {
     "name": "stdout",
     "output_type": "stream",
     "text": [
      "+--------+-----+\n",
      "|      구|count|\n",
      "+--------+-----+\n",
      "|  송파구|  131|\n",
      "|  강서구|  125|\n",
      "|  강남구|  118|\n",
      "|  서초구|  113|\n",
      "|영등포구|  111|\n",
      "|  마포구|   97|\n",
      "|  종로구|   94|\n",
      "|  노원구|   89|\n",
      "|  구로구|   87|\n",
      "|  강동구|   83|\n",
      "|  양천구|   80|\n",
      "|  성동구|   77|\n",
      "|  광진구|   76|\n",
      "|서대문구|   74|\n",
      "|  성북구|   74|\n",
      "|  은평구|   68|\n",
      "|동대문구|   68|\n",
      "|    중구|   66|\n",
      "|  관악구|   65|\n",
      "|  중랑구|   64|\n",
      "+--------+-----+\n",
      "only showing top 20 rows\n",
      "\n"
     ]
    },
    {
     "name": "stderr",
     "output_type": "stream",
     "text": [
      "                                                                                \r"
     ]
    }
   ],
   "source": [
    "new_summer.select(\"시작_대여소ID\",\"구\").distinct().groupby(\"구\").count().sort(\"count\",ascending=False).show()"
   ]
  },
  {
   "cell_type": "code",
   "execution_count": 51,
   "id": "ef0c1f54-861b-49f7-b1c8-57878e198e84",
   "metadata": {},
   "outputs": [],
   "source": [
    "k = new_summer.filter(fn.col(\"구\") == \"강남구\")\n",
    "d = new_summer.filter(fn.col(\"구\") == \"도봉구\")"
   ]
  },
  {
   "cell_type": "code",
   "execution_count": 52,
   "id": "58b8284c-c02c-4bc2-9d58-3e581641e216",
   "metadata": {},
   "outputs": [
    {
     "name": "stdout",
     "output_type": "stream",
     "text": [
      "+----------+--------+---------+-------------+-------------+-------------+-------------+--------+----------------+---------------+----+-------+---------+--------------------------------+-----+---------+----------+------+\n",
      "| 기준_날짜|구분코드|기준_시간|시작_대여소ID|시작_대여소명|종료_대여소ID|종료_대여소명|전체건수|전체이용시간(분)|전체이용거리(m)|요일|     동|대여소_ID|                           주소1|주소2|     위도|      경도|    구|\n",
      "+----------+--------+---------+-------------+-------------+-------------+-------------+--------+----------------+---------------+----+-------+---------+--------------------------------+-----+---------+----------+------+\n",
      "|2020-07-01|       1|     0000|      ST-1880|도곡2동_042_1|       ST-548|잠실2동_035_1|       1|              79|       10263.59| Wed|도곡2동|  ST-1880|서울특별시 강남구 언주로30길 ...| null|37.488972|127.051826|강남구|\n",
      "+----------+--------+---------+-------------+-------------+-------------+-------------+--------+----------------+---------------+----+-------+---------+--------------------------------+-----+---------+----------+------+\n",
      "\n"
     ]
    }
   ],
   "source": [
    "k.limit(1).show()"
   ]
  },
  {
   "cell_type": "code",
   "execution_count": 53,
   "id": "e419ef4a-b30f-4e49-8607-26c007115d6f",
   "metadata": {},
   "outputs": [
    {
     "name": "stdout",
     "output_type": "stream",
     "text": [
      "Requirement already satisfied: numpy in /home/hadoop/miniconda3/lib/python3.10/site-packages (2.0.0)\n",
      "Note: you may need to restart the kernel to use updated packages.\n"
     ]
    }
   ],
   "source": [
    "pip install --trusted-host pypi.org --trusted-host pypi.python.org --trusted-host=files.pythonhosted.org numpy"
   ]
  },
  {
   "cell_type": "code",
   "execution_count": 54,
   "id": "ce909358-e1f9-4153-8136-5d6d065502a9",
   "metadata": {},
   "outputs": [
    {
     "name": "stdout",
     "output_type": "stream",
     "text": [
      "Requirement already satisfied: numpy in /home/hadoop/miniconda3/lib/python3.10/site-packages (2.0.0)\n",
      "Note: you may need to restart the kernel to use updated packages.\n"
     ]
    }
   ],
   "source": [
    "pip install \"numpy\""
   ]
  },
  {
   "cell_type": "code",
   "execution_count": null,
   "id": "8af7eed1-44ae-4849-825a-12422b26ee4f",
   "metadata": {},
   "outputs": [],
   "source": []
  },
  {
   "cell_type": "code",
   "execution_count": 55,
   "id": "6bce86a0-ac4d-4c8b-8f38-49b571bb29f0",
   "metadata": {},
   "outputs": [],
   "source": [
    "import pyspark.ml.stat as st\n",
    "from pyspark.ml.feature import VectorAssembler\n",
    "summary = st.Summarizer.metrics(\"mean\", \"std\", \"count\")\n",
    "assembler = VectorAssembler(inputCols=['전체이용시간(분)'], outputCol=\"features\")\n",
    "\n",
    "\n",
    "d_vec = assembler.transform(d)\n",
    "k_vec = assembler.transform(k)\n",
    "\n",
    "\n",
    "summary1 = d_vec.select(summary.summary(d_vec['features']))\n",
    "summary2 = k_vec.select(summary.summary(k_vec['features']))\n"
   ]
  },
  {
   "cell_type": "code",
   "execution_count": 57,
   "id": "ec7e2ba4-5d3d-4879-925a-47c0e4050bdd",
   "metadata": {},
   "outputs": [
    {
     "name": "stdout",
     "output_type": "stream",
     "text": [
      "Collecting scipy\n",
      "  Downloading scipy-1.14.0-cp310-cp310-manylinux_2_17_x86_64.manylinux2014_x86_64.whl.metadata (60 kB)\n",
      "\u001b[2K     \u001b[90m━━━━━━━━━━━━━━━━━━━━━━━━━━━━━━━━━━━━━━━━\u001b[0m \u001b[32m60.8/60.8 kB\u001b[0m \u001b[31m1.1 MB/s\u001b[0m eta \u001b[36m0:00:00\u001b[0ma \u001b[36m0:00:01\u001b[0m\n",
      "\u001b[?25hRequirement already satisfied: numpy<2.3,>=1.23.5 in /home/hadoop/miniconda3/lib/python3.10/site-packages (from scipy) (2.0.0)\n",
      "Downloading scipy-1.14.0-cp310-cp310-manylinux_2_17_x86_64.manylinux2014_x86_64.whl (41.1 MB)\n",
      "\u001b[2K   \u001b[90m━━━━━━━━━━━━━━━━━━━━━━━━━━━━━━━━━━━━━━━━\u001b[0m \u001b[32m41.1/41.1 MB\u001b[0m \u001b[31m14.9 MB/s\u001b[0m eta \u001b[36m0:00:00\u001b[0m00:01\u001b[0m00:01\u001b[0m\n",
      "\u001b[?25hInstalling collected packages: scipy\n",
      "Successfully installed scipy-1.14.0\n",
      "Note: you may need to restart the kernel to use updated packages.\n"
     ]
    }
   ],
   "source": [
    "pip install scipy"
   ]
  },
  {
   "cell_type": "code",
   "execution_count": 58,
   "id": "eedf4ca9-ccb2-4874-965f-d768a4de926b",
   "metadata": {},
   "outputs": [
    {
     "name": "stderr",
     "output_type": "stream",
     "text": [
      "                                                                                \r"
     ]
    }
   ],
   "source": [
    "new_summer.approxQuantile(\"전체이용시간(분)\", [0.0, 0.25, 0.5, 0.75, 1.0], 0.5)\n",
    "\n",
    "\n",
    "rdd1 = k_vec.select(\"전체이용시간(분)\").rdd.map(lambda x : x[0])\n",
    "rdd2 = d_vec.select(\"전체이용시간(분)\").rdd.map(lambda x : x[0])\n",
    "\n",
    "\n",
    "강남구 = rdd1.collect()\n",
    "도봉구 = rdd2.collect()\n",
    "\n",
    "\n",
    "from scipy import stats\n"
   ]
  },
  {
   "cell_type": "code",
   "execution_count": 59,
   "id": "7e130e3b-4ed7-4a11-8eb3-f325f7f08492",
   "metadata": {},
   "outputs": [
    {
     "data": {
      "text/plain": [
       "LeveneResult(statistic=np.float64(2178.0436282949113), pvalue=np.float64(0.0))"
      ]
     },
     "execution_count": 59,
     "metadata": {},
     "output_type": "execute_result"
    }
   ],
   "source": [
    "stats.levene(강남구,도봉구)"
   ]
  },
  {
   "cell_type": "code",
   "execution_count": 60,
   "id": "cb4d28b6-ac73-4f42-9147-49fd20f98031",
   "metadata": {},
   "outputs": [
    {
     "data": {
      "text/plain": [
       "TtestResult(statistic=np.float64(-54.85483451011352), pvalue=np.float64(0.0), df=np.float64(255877.60839043205))"
      ]
     },
     "execution_count": 60,
     "metadata": {},
     "output_type": "execute_result"
    }
   ],
   "source": [
    "stats.ttest_ind(도봉구,강남구,equal_var=False)"
   ]
  }
 ],
 "metadata": {
  "kernelspec": {
   "display_name": "Python 3 (ipykernel)",
   "language": "python",
   "name": "python3"
  },
  "language_info": {
   "codemirror_mode": {
    "name": "ipython",
    "version": 3
   },
   "file_extension": ".py",
   "mimetype": "text/x-python",
   "name": "python",
   "nbconvert_exporter": "python",
   "pygments_lexer": "ipython3",
   "version": "3.10.14"
  }
 },
 "nbformat": 4,
 "nbformat_minor": 5
}
