{
 "cells": [
  {
   "cell_type": "code",
   "execution_count": 1,
   "id": "537b9a80-a537-4858-bf6b-d1a669c49d5e",
   "metadata": {},
   "outputs": [
    {
     "name": "stdout",
     "output_type": "stream",
     "text": [
      "Requirement already satisfied: pyspark in /opt/spark/python (3.4.3)\n",
      "Collecting py4j==0.10.9.7 (from pyspark)\n",
      "  Downloading py4j-0.10.9.7-py2.py3-none-any.whl.metadata (1.5 kB)\n",
      "Downloading py4j-0.10.9.7-py2.py3-none-any.whl (200 kB)\n",
      "\u001b[2K   \u001b[90m━━━━━━━━━━━━━━━━━━━━━━━━━━━━━━━━━━━━━━━━\u001b[0m \u001b[32m200.5/200.5 kB\u001b[0m \u001b[31m6.6 MB/s\u001b[0m eta \u001b[36m0:00:00\u001b[0m\n",
      "\u001b[?25hInstalling collected packages: py4j\n",
      "Successfully installed py4j-0.10.9.7\n"
     ]
    },
    {
     "data": {
      "text/html": [
       "\n",
       "        <div>\n",
       "            <p><b>SparkContext</b></p>\n",
       "\n",
       "            <p><a href=\"http://producer:4040\">Spark UI</a></p>\n",
       "\n",
       "            <dl>\n",
       "              <dt>Version</dt>\n",
       "                <dd><code>v3.4.3</code></dd>\n",
       "              <dt>Master</dt>\n",
       "                <dd><code>local[*]</code></dd>\n",
       "              <dt>AppName</dt>\n",
       "                <dd><code>PySparkShell</code></dd>\n",
       "            </dl>\n",
       "        </div>\n",
       "        "
      ],
      "text/plain": [
       "<SparkContext master=local[*] appName=PySparkShell>"
      ]
     },
     "execution_count": 1,
     "metadata": {},
     "output_type": "execute_result"
    }
   ],
   "source": [
    "!pip install pyspark\n",
    "# connect to local sparkContext\n",
    "from pyspark import SparkContext\n",
    "sc = SparkContext.getOrCreate()\n",
    "scb"
   ]
  },
  {
   "cell_type": "code",
   "execution_count": 4,
   "id": "9de12bc5-8d8c-4f6d-9ffe-007da608ce90",
   "metadata": {},
   "outputs": [],
   "source": [
    "from pyspark.sql import SparkSession\n",
    "spark = SparkSession.builder.getOrCreate()"
   ]
  },
  {
   "cell_type": "code",
   "execution_count": 8,
   "id": "cd8f33cc-ca17-48e7-ba32-361b9acbe37f",
   "metadata": {},
   "outputs": [],
   "source": [
    "df = spark.\\\n",
    "        read.\\\n",
    "            csv(\"hdfs://ip:port/encore/20240614/civilian_force.csv\",header=True)"
   ]
  },
  {
   "cell_type": "code",
   "execution_count": 9,
   "id": "44d01e32-5e8a-4f86-99b7-c3c67d6c8870",
   "metadata": {},
   "outputs": [
    {
     "name": "stdout",
     "output_type": "stream",
     "text": [
      "== Physical Plan ==\n",
      "FileScan csv [date#106,values#107,realtime_start#108,realtime_end#109,state#110,id#111,title#112,frequency_short#113,units_short#114,seasonal_adjustment_short#115] Batched: false, DataFilters: [], Format: CSV, Location: InMemoryFileIndex(1 paths)[hdfs://192.168.0.160:8020/encore/20240614/civilian_force.csv], PartitionFilters: [], PushedFilters: [], ReadSchema: struct<date:string,values:string,realtime_start:string,realtime_end:string,state:string,id:string...\n",
      "\n",
      "\n"
     ]
    }
   ],
   "source": [
    "df.explain() #읽을 계획만 "
   ]
  },
  {
   "cell_type": "code",
   "execution_count": 10,
   "id": "ccc820db-4178-4052-b081-ee0acd4019b0",
   "metadata": {},
   "outputs": [
    {
     "name": "stdout",
     "output_type": "stream",
     "text": [
      "+----------+--------+--------------+------------+------+--------------------+--------------------+---------------+-----------+-------------------------+\n",
      "|      date|  values|realtime_start|realtime_end| state|                  id|               title|frequency_short|units_short|seasonal_adjustment_short|\n",
      "+----------+--------+--------------+------------+------+--------------------+--------------------+---------------+-----------+-------------------------+\n",
      "|1976-01-01|164014.0|    2023-01-21|  2023-01-21|Alaska|LAUST020000000000...|Civilian Labor Fo...|              A|    Persons|                      NSA|\n",
      "|1977-01-01|173460.0|    2023-01-21|  2023-01-21|Alaska|LAUST020000000000...|Civilian Labor Fo...|              A|    Persons|                      NSA|\n",
      "|1978-01-01|182114.0|    2023-01-21|  2023-01-21|Alaska|LAUST020000000000...|Civilian Labor Fo...|              A|    Persons|                      NSA|\n",
      "|1979-01-01|184638.0|    2023-01-21|  2023-01-21|Alaska|LAUST020000000000...|Civilian Labor Fo...|              A|    Persons|                      NSA|\n",
      "|1980-01-01|188828.0|    2023-01-21|  2023-01-21|Alaska|LAUST020000000000...|Civilian Labor Fo...|              A|    Persons|                      NSA|\n",
      "|1981-01-01|198021.0|    2023-01-21|  2023-01-21|Alaska|LAUST020000000000...|Civilian Labor Fo...|              A|    Persons|                      NSA|\n",
      "|1982-01-01|213405.0|    2023-01-21|  2023-01-21|Alaska|LAUST020000000000...|Civilian Labor Fo...|              A|    Persons|                      NSA|\n",
      "|1983-01-01|230474.0|    2023-01-21|  2023-01-21|Alaska|LAUST020000000000...|Civilian Labor Fo...|              A|    Persons|                      NSA|\n",
      "|1984-01-01|243254.0|    2023-01-21|  2023-01-21|Alaska|LAUST020000000000...|Civilian Labor Fo...|              A|    Persons|                      NSA|\n",
      "|1985-01-01|249601.0|    2023-01-21|  2023-01-21|Alaska|LAUST020000000000...|Civilian Labor Fo...|              A|    Persons|                      NSA|\n",
      "|1986-01-01|254814.0|    2023-01-21|  2023-01-21|Alaska|LAUST020000000000...|Civilian Labor Fo...|              A|    Persons|                      NSA|\n",
      "|1987-01-01|249574.0|    2023-01-21|  2023-01-21|Alaska|LAUST020000000000...|Civilian Labor Fo...|              A|    Persons|                      NSA|\n",
      "|1988-01-01|250991.0|    2023-01-21|  2023-01-21|Alaska|LAUST020000000000...|Civilian Labor Fo...|              A|    Persons|                      NSA|\n",
      "|1989-01-01|257917.0|    2023-01-21|  2023-01-21|Alaska|LAUST020000000000...|Civilian Labor Fo...|              A|    Persons|                      NSA|\n",
      "|1990-01-01|270484.0|    2023-01-21|  2023-01-21|Alaska|LAUST020000000000...|Civilian Labor Fo...|              A|    Persons|                      NSA|\n",
      "|1991-01-01|276211.0|    2023-01-21|  2023-01-21|Alaska|LAUST020000000000...|Civilian Labor Fo...|              A|    Persons|                      NSA|\n",
      "|1992-01-01|286421.0|    2023-01-21|  2023-01-21|Alaska|LAUST020000000000...|Civilian Labor Fo...|              A|    Persons|                      NSA|\n",
      "|1993-01-01|294093.0|    2023-01-21|  2023-01-21|Alaska|LAUST020000000000...|Civilian Labor Fo...|              A|    Persons|                      NSA|\n",
      "|1994-01-01|300786.0|    2023-01-21|  2023-01-21|Alaska|LAUST020000000000...|Civilian Labor Fo...|              A|    Persons|                      NSA|\n",
      "|1995-01-01|302756.0|    2023-01-21|  2023-01-21|Alaska|LAUST020000000000...|Civilian Labor Fo...|              A|    Persons|                      NSA|\n",
      "+----------+--------+--------------+------------+------+--------------------+--------------------+---------------+-----------+-------------------------+\n",
      "only showing top 20 rows\n",
      "\n"
     ]
    }
   ],
   "source": [
    "df.show()"
   ]
  },
  {
   "cell_type": "code",
   "execution_count": 11,
   "id": "bcb3f317-2296-4ce5-b920-0814ddc1a93e",
   "metadata": {},
   "outputs": [
    {
     "data": {
      "text/plain": [
       "StructType([StructField('date', StringType(), True), StructField('values', StringType(), True), StructField('realtime_start', StringType(), True), StructField('realtime_end', StringType(), True), StructField('state', StringType(), True), StructField('id', StringType(), True), StructField('title', StringType(), True), StructField('frequency_short', StringType(), True), StructField('units_short', StringType(), True), StructField('seasonal_adjustment_short', StringType(), True)])"
      ]
     },
     "execution_count": 11,
     "metadata": {},
     "output_type": "execute_result"
    }
   ],
   "source": [
    "df.schema"
   ]
  },
  {
   "cell_type": "code",
   "execution_count": 12,
   "id": "454b2222-3494-412a-8ed1-74b6d6750861",
   "metadata": {},
   "outputs": [
    {
     "name": "stderr",
     "output_type": "stream",
     "text": [
      "                                                                                \r"
     ]
    }
   ],
   "source": [
    "df2 = spark.\\\n",
    "        read.\\\n",
    "            csv(\"hdfs://ip:port/encore/20240614/civilian_force.csv\",header=True, inferSchema=True)"
   ]
  }
 ],
 "metadata": {
  "kernelspec": {
   "display_name": "Python 3 (ipykernel)",
   "language": "python",
   "name": "python3"
  },
  "language_info": {
   "codemirror_mode": {
    "name": "ipython",
    "version": 3
   },
   "file_extension": ".py",
   "mimetype": "text/x-python",
   "name": "python",
   "nbconvert_exporter": "python",
   "pygments_lexer": "ipython3",
   "version": "3.10.14"
  }
 },
 "nbformat": 4,
 "nbformat_minor": 5
}
