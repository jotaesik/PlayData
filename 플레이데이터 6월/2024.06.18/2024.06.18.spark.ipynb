{
 "cells": [
  {
   "cell_type": "code",
   "execution_count": 1,
   "id": "32736a17-50fb-42d1-a800-3212a78f8d57",
   "metadata": {},
   "outputs": [
    {
     "name": "stderr",
     "output_type": "stream",
     "text": [
      "                                                                                \r"
     ]
    },
    {
     "name": "stdout",
     "output_type": "stream",
     "text": [
      "+---------+-------+\n",
      "|dept_name|dept_id|\n",
      "+---------+-------+\n",
      "|Finance  |10     |\n",
      "|Marketing|20     |\n",
      "|Sales    |30     |\n",
      "|IT       |40     |\n",
      "+---------+-------+\n",
      "\n"
     ]
    }
   ],
   "source": [
    "from pyspark.sql import SparkSession\n",
    "\n",
    "spark = SparkSession.builder.getOrCreate()\n",
    "\n",
    "\n",
    "dept = [(\"Finance\",10), \\\n",
    "    (\"Marketing\",20), \\\n",
    "    (\"Sales\",30), \\\n",
    "    (\"IT\",40) \\\n",
    "  ]\n",
    "deptColumns = [\"dept_name\",\"dept_id\"]\n",
    "deptDF = spark.createDataFrame(data=dept, schema = deptColumns)\n",
    "deptDF.show(truncate=False)\n"
   ]
  },
  {
   "cell_type": "code",
   "execution_count": 2,
   "id": "09220fd5-9c0f-4262-bedd-d45ceb96cde0",
   "metadata": {},
   "outputs": [
    {
     "data": {
      "text/html": [
       "\n",
       "        <div>\n",
       "            <p><b>SparkContext</b></p>\n",
       "\n",
       "            <p><a href=\"http://producer:4040\">Spark UI</a></p>\n",
       "\n",
       "            <dl>\n",
       "              <dt>Version</dt>\n",
       "                <dd><code>v3.4.3</code></dd>\n",
       "              <dt>Master</dt>\n",
       "                <dd><code>local[*]</code></dd>\n",
       "              <dt>AppName</dt>\n",
       "                <dd><code>PySparkShell</code></dd>\n",
       "            </dl>\n",
       "        </div>\n",
       "        "
      ],
      "text/plain": [
       "<SparkContext master=local[*] appName=PySparkShell>"
      ]
     },
     "execution_count": 2,
     "metadata": {},
     "output_type": "execute_result"
    }
   ],
   "source": [
    "sc"
   ]
  },
  {
   "cell_type": "code",
   "execution_count": 3,
   "id": "3715c9a1-a8bf-4170-9f9f-b232e0d224d3",
   "metadata": {},
   "outputs": [
    {
     "data": {
      "text/plain": [
       "[Row(dept_name='Finance', dept_id=10),\n",
       " Row(dept_name='Marketing', dept_id=20),\n",
       " Row(dept_name='Sales', dept_id=30),\n",
       " Row(dept_name='IT', dept_id=40)]"
      ]
     },
     "execution_count": 3,
     "metadata": {},
     "output_type": "execute_result"
    }
   ],
   "source": [
    "deptDF.collect()"
   ]
  },
  {
   "cell_type": "code",
   "execution_count": 4,
   "id": "a2e3431d-e304-4bd3-ba8f-c25b6da4f141",
   "metadata": {},
   "outputs": [
    {
     "data": {
      "text/plain": [
       "[Row(dept_name='Finance'),\n",
       " Row(dept_name='Marketing'),\n",
       " Row(dept_name='Sales'),\n",
       " Row(dept_name='IT')]"
      ]
     },
     "execution_count": 4,
     "metadata": {},
     "output_type": "execute_result"
    }
   ],
   "source": [
    "deptDF.select('dept_name').collect() #collect는 액션에 관한 거다"
   ]
  },
  {
   "cell_type": "markdown",
   "id": "5b94891e-5c2a-4f5e-ae4d-08e707faffc7",
   "metadata": {},
   "source": [
    "# withColum"
   ]
  },
  {
   "cell_type": "code",
   "execution_count": 5,
   "id": "32774c83-8a4f-4f77-ba43-e25425c59a8a",
   "metadata": {},
   "outputs": [
    {
     "name": "stdout",
     "output_type": "stream",
     "text": [
      "+---------+----------+--------+----------+------+------+\n",
      "|firstname|middlename|lastname|dob       |gender|salary|\n",
      "+---------+----------+--------+----------+------+------+\n",
      "|James    |          |Smith   |1991-04-01|M     |3000  |\n",
      "|Michael  |Rose      |        |2000-05-19|M     |4000  |\n",
      "|Robert   |          |Williams|1978-09-05|M     |4000  |\n",
      "|Maria    |Anne      |Jones   |1967-12-01|F     |4000  |\n",
      "|Jen      |Mary      |Brown   |1980-02-17|F     |-1    |\n",
      "+---------+----------+--------+----------+------+------+\n",
      "\n"
     ]
    }
   ],
   "source": [
    "data = [('James','','Smith','1991-04-01','M',3000),\n",
    "  ('Michael','Rose','','2000-05-19','M',4000),\n",
    "  ('Robert','','Williams','1978-09-05','M',4000),\n",
    "  ('Maria','Anne','Jones','1967-12-01','F',4000),\n",
    "  ('Jen','Mary','Brown','1980-02-17','F',-1)\n",
    "]\n",
    "\n",
    "columns = [\"firstname\",\"middlename\",\"lastname\",\"dob\",\"gender\",\"salary\"]\n",
    "\n",
    "df = spark.createDataFrame(data=data, schema = columns)\n",
    "df.show(truncate=False)\n"
   ]
  },
  {
   "cell_type": "code",
   "execution_count": 6,
   "id": "e9ed50e7-df68-41ea-b54c-76f0de9e3324",
   "metadata": {},
   "outputs": [],
   "source": [
    "from pyspark.sql.functions import col, lit"
   ]
  },
  {
   "cell_type": "code",
   "execution_count": 7,
   "id": "77dbe606-85a2-4278-9ae7-9658f8e3a175",
   "metadata": {},
   "outputs": [
    {
     "name": "stdout",
     "output_type": "stream",
     "text": [
      "root\n",
      " |-- firstname: string (nullable = true)\n",
      " |-- middlename: string (nullable = true)\n",
      " |-- lastname: string (nullable = true)\n",
      " |-- dob: string (nullable = true)\n",
      " |-- gender: string (nullable = true)\n",
      " |-- salary: integer (nullable = true)\n",
      "\n"
     ]
    }
   ],
   "source": [
    "df.withColumn(\"salary\",col(\"salary\").cast(\"Integer\")).printSchema()\n",
    "# 원래는 LONG이었는데 INTEGER로 바뀜"
   ]
  },
  {
   "cell_type": "code",
   "execution_count": 8,
   "id": "0d9d33da-f788-4836-a51d-04d11dd79241",
   "metadata": {},
   "outputs": [
    {
     "name": "stdout",
     "output_type": "stream",
     "text": [
      "+---------+----------+--------+----------+------+------+\n",
      "|firstname|middlename|lastname|       dob|gender|salary|\n",
      "+---------+----------+--------+----------+------+------+\n",
      "|    James|          |   Smith|1991-04-01|     M|  3000|\n",
      "|  Michael|      Rose|        |2000-05-19|     M|  4000|\n",
      "|   Robert|          |Williams|1978-09-05|     M|  4000|\n",
      "|    Maria|      Anne|   Jones|1967-12-01|     F|  4000|\n",
      "|      Jen|      Mary|   Brown|1980-02-17|     F|    -1|\n",
      "+---------+----------+--------+----------+------+------+\n",
      "\n"
     ]
    }
   ],
   "source": [
    "df.withColumn(\"salary\",col(\"salary\").cast(\"Integer\")).show()"
   ]
  },
  {
   "cell_type": "code",
   "execution_count": 9,
   "id": "3cebacb6-58f1-4538-b7ae-2260169efb82",
   "metadata": {},
   "outputs": [
    {
     "name": "stdout",
     "output_type": "stream",
     "text": [
      "root\n",
      " |-- firstname: string (nullable = true)\n",
      " |-- middlename: string (nullable = true)\n",
      " |-- lastname: string (nullable = true)\n",
      " |-- dob: string (nullable = true)\n",
      " |-- gender: string (nullable = true)\n",
      " |-- salary: long (nullable = true)\n",
      " |-- salary_t: integer (nullable = true)\n",
      "\n"
     ]
    }
   ],
   "source": [
    "df.withColumn(\"salary_t\",col(\"salary\").cast(\"Integer\")).printSchema()\n",
    "# 새로운 커럼 생성한다"
   ]
  },
  {
   "cell_type": "code",
   "execution_count": 10,
   "id": "94e832f5-fac6-4337-9a3b-d13a5b0c550b",
   "metadata": {},
   "outputs": [
    {
     "name": "stdout",
     "output_type": "stream",
     "text": [
      "+---------+----------+--------+----------+------+------+--------+\n",
      "|firstname|middlename|lastname|       dob|gender|salary|salary_t|\n",
      "+---------+----------+--------+----------+------+------+--------+\n",
      "|    James|          |   Smith|1991-04-01|     M|  3000| 4200000|\n",
      "|  Michael|      Rose|        |2000-05-19|     M|  4000| 5600000|\n",
      "|   Robert|          |Williams|1978-09-05|     M|  4000| 5600000|\n",
      "|    Maria|      Anne|   Jones|1967-12-01|     F|  4000| 5600000|\n",
      "|      Jen|      Mary|   Brown|1980-02-17|     F|    -1|   -1400|\n",
      "+---------+----------+--------+----------+------+------+--------+\n",
      "\n"
     ]
    }
   ],
   "source": [
    "df.withColumn(\"salary_t\",col(\"salary\").cast(\"Integer\")*1400).show()\n",
    "# collect와 show는 액션"
   ]
  },
  {
   "cell_type": "code",
   "execution_count": null,
   "id": "f5bb3ea4-a653-41e3-be80-0b1460e34220",
   "metadata": {},
   "outputs": [],
   "source": []
  },
  {
   "cell_type": "code",
   "execution_count": 11,
   "id": "42220ea0-17a2-4ced-88b3-41e105e3a467",
   "metadata": {},
   "outputs": [
    {
     "data": {
      "text/plain": [
       "DataFrame[firstname: string, middlename: string, lastname: string, dob: string, gender: string, salary: bigint, country: string]"
      ]
     },
     "execution_count": 11,
     "metadata": {},
     "output_type": "execute_result"
    }
   ],
   "source": [
    "df.withColumn(\"country\", lit(\"korea\"))\n",
    "# 파생변수 생성"
   ]
  },
  {
   "cell_type": "code",
   "execution_count": 12,
   "id": "5d2333e9-6c91-4b9b-ad6b-44d14234648a",
   "metadata": {},
   "outputs": [
    {
     "name": "stdout",
     "output_type": "stream",
     "text": [
      "+---------+----------+--------+----------+------+------+-------+\n",
      "|firstname|middlename|lastname|       dob|gender|salary|country|\n",
      "+---------+----------+--------+----------+------+------+-------+\n",
      "|    James|          |   Smith|1991-04-01|     M|  3000|  korea|\n",
      "|  Michael|      Rose|        |2000-05-19|     M|  4000|  korea|\n",
      "|   Robert|          |Williams|1978-09-05|     M|  4000|  korea|\n",
      "|    Maria|      Anne|   Jones|1967-12-01|     F|  4000|  korea|\n",
      "|      Jen|      Mary|   Brown|1980-02-17|     F|    -1|  korea|\n",
      "+---------+----------+--------+----------+------+------+-------+\n",
      "\n"
     ]
    }
   ],
   "source": [
    "df.withColumn(\"country\", lit(\"korea\")).show()\n",
    "# 앞서 취소하덜라도 qeue에 들어가있으므로 실행 x"
   ]
  },
  {
   "cell_type": "code",
   "execution_count": 13,
   "id": "51b4b765-fd74-478d-a359-3a55201671a4",
   "metadata": {},
   "outputs": [
    {
     "name": "stdout",
     "output_type": "stream",
     "text": [
      "+---------+----------+--------+----------+------+------+\n",
      "|firstname|middlename|lastname|       dob|gender|salary|\n",
      "+---------+----------+--------+----------+------+------+\n",
      "|    James|          |   Smith|1991-04-01|     M|  3000|\n",
      "|  Michael|      Rose|        |2000-05-19|     M|  4000|\n",
      "|   Robert|          |Williams|1978-09-05|     M|  4000|\n",
      "|    Maria|      Anne|   Jones|1967-12-01|     F|  4000|\n",
      "|      Jen|      Mary|   Brown|1980-02-17|     F|    -1|\n",
      "+---------+----------+--------+----------+------+------+\n",
      "\n"
     ]
    }
   ],
   "source": [
    "df.show()"
   ]
  },
  {
   "cell_type": "code",
   "execution_count": 14,
   "id": "f7ee936b-14cd-4a48-b310-9714e6166af6",
   "metadata": {},
   "outputs": [],
   "source": [
    "df2 = df.withColumn(\"country\", lit(\"korea\"))"
   ]
  },
  {
   "cell_type": "code",
   "execution_count": 15,
   "id": "9f6b4a3b-b1df-40f8-b24f-690f9a3c91a1",
   "metadata": {},
   "outputs": [
    {
     "name": "stdout",
     "output_type": "stream",
     "text": [
      "+---------+----------+--------+----------+------+------+-------+\n",
      "|firstname|middlename|lastname|       dob|gender|salary|country|\n",
      "+---------+----------+--------+----------+------+------+-------+\n",
      "|    James|          |   Smith|1991-04-01|     M|  3000|  korea|\n",
      "|  Michael|      Rose|        |2000-05-19|     M|  4000|  korea|\n",
      "|   Robert|          |Williams|1978-09-05|     M|  4000|  korea|\n",
      "|    Maria|      Anne|   Jones|1967-12-01|     F|  4000|  korea|\n",
      "|      Jen|      Mary|   Brown|1980-02-17|     F|    -1|  korea|\n",
      "+---------+----------+--------+----------+------+------+-------+\n",
      "\n"
     ]
    }
   ],
   "source": [
    "df2.show()"
   ]
  },
  {
   "cell_type": "code",
   "execution_count": 16,
   "id": "55a9fdbb-24b8-484d-b7e5-ba8013242a98",
   "metadata": {},
   "outputs": [],
   "source": [
    "df2 = df.withColumnRenamed(\"salary\",\"월급\")"
   ]
  },
  {
   "cell_type": "code",
   "execution_count": 17,
   "id": "79b5f686-7bc9-4d1a-9f84-c1624be1ccac",
   "metadata": {},
   "outputs": [
    {
     "name": "stdout",
     "output_type": "stream",
     "text": [
      "+---------+----------+--------+----------+------+----+\n",
      "|firstname|middlename|lastname|       dob|gender|월급|\n",
      "+---------+----------+--------+----------+------+----+\n",
      "|    James|          |   Smith|1991-04-01|     M|3000|\n",
      "|  Michael|      Rose|        |2000-05-19|     M|4000|\n",
      "|   Robert|          |Williams|1978-09-05|     M|4000|\n",
      "|    Maria|      Anne|   Jones|1967-12-01|     F|4000|\n",
      "|      Jen|      Mary|   Brown|1980-02-17|     F|  -1|\n",
      "+---------+----------+--------+----------+------+----+\n",
      "\n"
     ]
    }
   ],
   "source": [
    "df2.show()"
   ]
  },
  {
   "cell_type": "code",
   "execution_count": 18,
   "id": "b9151984-b5d8-49dc-8467-807390f1378e",
   "metadata": {},
   "outputs": [
    {
     "name": "stdout",
     "output_type": "stream",
     "text": [
      "+---------+----------+--------+----------+------+----+\n",
      "|firstname|middlename|lastname|       dob|gender|월급|\n",
      "+---------+----------+--------+----------+------+----+\n",
      "|    James|          |   Smith|1991-04-01|     M|3000|\n",
      "|  Michael|      Rose|        |2000-05-19|     M|4000|\n",
      "|   Robert|          |Williams|1978-09-05|     M|4000|\n",
      "|    Maria|      Anne|   Jones|1967-12-01|     F|4000|\n",
      "|      Jen|      Mary|   Brown|1980-02-17|     F|  -1|\n",
      "+---------+----------+--------+----------+------+----+\n",
      "\n"
     ]
    }
   ],
   "source": [
    "df2.drop(\"country\").show()"
   ]
  },
  {
   "cell_type": "code",
   "execution_count": 19,
   "id": "f5ce0301-b8b3-49cf-a71c-e3102cffd73f",
   "metadata": {},
   "outputs": [],
   "source": [
    "df2 = df2.drop(\"country\")"
   ]
  },
  {
   "cell_type": "code",
   "execution_count": 20,
   "id": "e3fd6564-d30d-42bb-905a-29e319dc1965",
   "metadata": {},
   "outputs": [
    {
     "name": "stdout",
     "output_type": "stream",
     "text": [
      "+---------+----------+--------+----------+------+----+\n",
      "|firstname|middlename|lastname|       dob|gender|월급|\n",
      "+---------+----------+--------+----------+------+----+\n",
      "|    James|          |   Smith|1991-04-01|     M|3000|\n",
      "|  Michael|      Rose|        |2000-05-19|     M|4000|\n",
      "|   Robert|          |Williams|1978-09-05|     M|4000|\n",
      "|    Maria|      Anne|   Jones|1967-12-01|     F|4000|\n",
      "|      Jen|      Mary|   Brown|1980-02-17|     F|  -1|\n",
      "+---------+----------+--------+----------+------+----+\n",
      "\n"
     ]
    }
   ],
   "source": [
    "df2.show()"
   ]
  },
  {
   "cell_type": "code",
   "execution_count": 21,
   "id": "43b1f3f0-db42-440e-857a-03359bb643f9",
   "metadata": {},
   "outputs": [
    {
     "name": "stdout",
     "output_type": "stream",
     "text": [
      "Requirement already satisfied: pandas in ./miniconda3/lib/python3.10/site-packages (2.2.2)\n",
      "Requirement already satisfied: numpy>=1.22.4 in ./miniconda3/lib/python3.10/site-packages (from pandas) (1.26.4)\n",
      "Requirement already satisfied: python-dateutil>=2.8.2 in ./miniconda3/lib/python3.10/site-packages (from pandas) (2.9.0.post0)\n",
      "Requirement already satisfied: pytz>=2020.1 in ./miniconda3/lib/python3.10/site-packages (from pandas) (2024.1)\n",
      "Requirement already satisfied: tzdata>=2022.7 in ./miniconda3/lib/python3.10/site-packages (from pandas) (2024.1)\n",
      "Requirement already satisfied: six>=1.5 in ./miniconda3/lib/python3.10/site-packages (from python-dateutil>=2.8.2->pandas) (1.16.0)\n",
      "Note: you may need to restart the kernel to use updated packages.\n"
     ]
    }
   ],
   "source": [
    "pip install pandas"
   ]
  },
  {
   "cell_type": "code",
   "execution_count": 22,
   "id": "776c8e93-31d9-4b76-aaec-60f62e49ff64",
   "metadata": {},
   "outputs": [],
   "source": [
    "import pandas as pd"
   ]
  },
  {
   "cell_type": "code",
   "execution_count": 23,
   "id": "e72efdd2-4dc6-4e34-9787-13a7cb89888b",
   "metadata": {},
   "outputs": [],
   "source": [
    "pandas_df = pd.DataFrame({'a' : [1,2,3], 'b' :[2,3,4]})\n"
   ]
  },
  {
   "cell_type": "code",
   "execution_count": 24,
   "id": "00e756a0-94cc-43c5-a6ef-738c5bb5a99e",
   "metadata": {},
   "outputs": [],
   "source": [
    "spark_df = spark.createDataFrame(pandas_df)"
   ]
  },
  {
   "cell_type": "code",
   "execution_count": 25,
   "id": "1cc4fa25-13ed-483a-8763-f6ae08fd57ee",
   "metadata": {},
   "outputs": [
    {
     "name": "stdout",
     "output_type": "stream",
     "text": [
      "+---+---+\n",
      "|  a|  b|\n",
      "+---+---+\n",
      "|  1|  2|\n",
      "|  2|  3|\n",
      "|  3|  4|\n",
      "+---+---+\n",
      "\n"
     ]
    }
   ],
   "source": [
    "spark_df.show()"
   ]
  },
  {
   "cell_type": "code",
   "execution_count": 26,
   "id": "0f47d27e-b9dc-43c0-9cc8-4934c6b82978",
   "metadata": {},
   "outputs": [],
   "source": [
    "import requests\n",
    "\n",
    "url = \"https://www.starbucks.co.kr/store/getStore.do?r=3PS46TOGMA\"\n",
    "\n",
    "\n",
    "payload = {\"in_biz_cds\": \"0\",\n",
    "\"in_scodes\": \"0\",\n",
    "\"ins_lat\": \"37.56682\",\n",
    "\"ins_lng\": \"126.97865\",\n",
    "\"search_text\": \"\",\n",
    "\"p_sido_cd\": \"01\",\n",
    "\"p_gugun_cd\": \"\",\n",
    "\"isError\": \"true\",\n",
    "\"in_distance\": \"0\",\n",
    "\"in_biz_cd\": \"\",\n",
    "\"iend\": \"1000\",\n",
    "\"searchType\": \"C\",\n",
    "\"set_date\": \"\",\n",
    "\"rndCod\": \"NTM40TCD0S\",\n",
    "\"all_store\": \"0\",\n",
    "\"T03\": \"0\",\n",
    "\"T01\": \"0\",\n",
    "\"T27\": \"0\",\n",
    "\"T12\": \"0\",\n",
    "\"T09\": \"0\",\n",
    "\"T30\": \"0\",\n",
    "\"T05\": \"0\",\n",
    "\"T22\": \"0\",\n",
    "\"T21\": \"0\",\n",
    "\"T10\": \"0\",\n",
    "\"T36\": \"0\",\n",
    "\"T43\": \"0\",\n",
    "\"T48\": \"0\",\n",
    "\"Z9999\": \"0\",\n",
    "\"P02\": \"0\",\n",
    "\"P10\": \"0\",\n",
    "\"P50\": \"0\",\n",
    "\"P20\": \"0\",\n",
    "\"P60\": \"0\",\n",
    "\"P30\": \"0\",\n",
    "\"P70\": \"0\",\n",
    "\"P40\": \"0\",\n",
    "\"P80\": \"0\",\n",
    "\"whcroad_yn\": \"0\",\n",
    "\"P90\": \"0\",\n",
    "\"P01\": \"0\",\n",
    "\"new_bool\": \"0\",}\n",
    "\n"
   ]
  },
  {
   "cell_type": "code",
   "execution_count": 27,
   "id": "58fd9050-b8cc-4ea8-981b-9929364f4f65",
   "metadata": {},
   "outputs": [],
   "source": [
    "r = requests.post(url,data=payload)\n",
    "# r.json()[\"list\"]"
   ]
  },
  {
   "cell_type": "code",
   "execution_count": 28,
   "id": "5012f41f-fa83-4c29-9fc5-aa7aee705ff7",
   "metadata": {},
   "outputs": [],
   "source": [
    "star = pd.DataFrame(r.json()[\"list\"])"
   ]
  },
  {
   "cell_type": "code",
   "execution_count": 29,
   "id": "30da7c4d-cf15-4d3d-b0c9-169366929bd0",
   "metadata": {},
   "outputs": [
    {
     "data": {
      "text/plain": [
       "0"
      ]
     },
     "execution_count": 29,
     "metadata": {},
     "output_type": "execute_result"
    }
   ],
   "source": [
    "star['s_name'].isnull().sum()"
   ]
  },
  {
   "cell_type": "code",
   "execution_count": 30,
   "id": "c5a0d0f9-3200-4586-b86d-d66f4ccd0b55",
   "metadata": {},
   "outputs": [],
   "source": [
    "star2 = star.copy()"
   ]
  },
  {
   "cell_type": "code",
   "execution_count": 31,
   "id": "323a94bc-03f5-4598-9788-b21be3f9b64c",
   "metadata": {},
   "outputs": [],
   "source": [
    "star2.loc[1,'s_name'] = None"
   ]
  },
  {
   "cell_type": "code",
   "execution_count": 32,
   "id": "b25e148b-131f-4b5e-91ef-2909feea7875",
   "metadata": {},
   "outputs": [
    {
     "data": {
      "text/plain": [
       "1"
      ]
     },
     "execution_count": 32,
     "metadata": {},
     "output_type": "execute_result"
    }
   ],
   "source": [
    "star2['s_name'].isnull().sum()"
   ]
  },
  {
   "cell_type": "code",
   "execution_count": 33,
   "id": "ccb96667-152a-49d6-a046-838a9b761c03",
   "metadata": {},
   "outputs": [],
   "source": [
    "# star.dropna()\n",
    "#결측치가 하나라도 있으면 닷"
   ]
  },
  {
   "cell_type": "code",
   "execution_count": 34,
   "id": "05771977-e400-495f-a1bc-8d093896e7bc",
   "metadata": {},
   "outputs": [
    {
     "data": {
      "text/plain": [
       "0"
      ]
     },
     "execution_count": 34,
     "metadata": {},
     "output_type": "execute_result"
    }
   ],
   "source": [
    "star.dropna(axis=1).isnull().sum().sum()"
   ]
  },
  {
   "cell_type": "code",
   "execution_count": 35,
   "id": "9976ac85-4b5d-4dc2-8067-388521f3d7f3",
   "metadata": {},
   "outputs": [
    {
     "data": {
      "text/html": [
       "<div>\n",
       "<style scoped>\n",
       "    .dataframe tbody tr th:only-of-type {\n",
       "        vertical-align: middle;\n",
       "    }\n",
       "\n",
       "    .dataframe tbody tr th {\n",
       "        vertical-align: top;\n",
       "    }\n",
       "\n",
       "    .dataframe thead th {\n",
       "        text-align: right;\n",
       "    }\n",
       "</style>\n",
       "<table border=\"1\" class=\"dataframe\">\n",
       "  <thead>\n",
       "    <tr style=\"text-align: right;\">\n",
       "      <th></th>\n",
       "      <th>seq</th>\n",
       "      <th>p_pro_seq</th>\n",
       "      <th>p_sido_cd</th>\n",
       "      <th>p_gugun_cd</th>\n",
       "      <th>s_code</th>\n",
       "      <th>s_name</th>\n",
       "      <th>tel</th>\n",
       "      <th>fax</th>\n",
       "      <th>sido_code</th>\n",
       "      <th>sido_name</th>\n",
       "      <th>...</th>\n",
       "      <th>p01</th>\n",
       "      <th>t05</th>\n",
       "      <th>t30</th>\n",
       "      <th>t36</th>\n",
       "      <th>t27</th>\n",
       "      <th>t29</th>\n",
       "      <th>t43</th>\n",
       "      <th>t48</th>\n",
       "      <th>z9999</th>\n",
       "      <th>p02</th>\n",
       "    </tr>\n",
       "  </thead>\n",
       "  <tbody>\n",
       "    <tr>\n",
       "      <th>0</th>\n",
       "      <td>0</td>\n",
       "      <td>0</td>\n",
       "      <td></td>\n",
       "      <td></td>\n",
       "      <td>1509</td>\n",
       "      <td>역삼아레나빌딩</td>\n",
       "      <td>1522-3232</td>\n",
       "      <td>02-568-3763</td>\n",
       "      <td>01</td>\n",
       "      <td>서울</td>\n",
       "      <td>...</td>\n",
       "      <td>0</td>\n",
       "      <td>0</td>\n",
       "      <td>0</td>\n",
       "      <td>0</td>\n",
       "      <td>0</td>\n",
       "      <td>0</td>\n",
       "      <td>0</td>\n",
       "      <td>0</td>\n",
       "      <td>0</td>\n",
       "      <td>0</td>\n",
       "    </tr>\n",
       "    <tr>\n",
       "      <th>1</th>\n",
       "      <td>0</td>\n",
       "      <td>0</td>\n",
       "      <td></td>\n",
       "      <td></td>\n",
       "      <td>1434</td>\n",
       "      <td>논현역사거리</td>\n",
       "      <td>1522-3232</td>\n",
       "      <td>02-3442-3673</td>\n",
       "      <td>01</td>\n",
       "      <td>서울</td>\n",
       "      <td>...</td>\n",
       "      <td>0</td>\n",
       "      <td>0</td>\n",
       "      <td>0</td>\n",
       "      <td>0</td>\n",
       "      <td>0</td>\n",
       "      <td>0</td>\n",
       "      <td>0</td>\n",
       "      <td>0</td>\n",
       "      <td>0</td>\n",
       "      <td>0</td>\n",
       "    </tr>\n",
       "    <tr>\n",
       "      <th>2</th>\n",
       "      <td>0</td>\n",
       "      <td>0</td>\n",
       "      <td></td>\n",
       "      <td></td>\n",
       "      <td>1595</td>\n",
       "      <td>신사역성일빌딩</td>\n",
       "      <td>1522-3232</td>\n",
       "      <td>02-547-3859</td>\n",
       "      <td>01</td>\n",
       "      <td>서울</td>\n",
       "      <td>...</td>\n",
       "      <td>0</td>\n",
       "      <td>0</td>\n",
       "      <td>0</td>\n",
       "      <td>0</td>\n",
       "      <td>0</td>\n",
       "      <td>0</td>\n",
       "      <td>0</td>\n",
       "      <td>0</td>\n",
       "      <td>0</td>\n",
       "      <td>0</td>\n",
       "    </tr>\n",
       "    <tr>\n",
       "      <th>3</th>\n",
       "      <td>0</td>\n",
       "      <td>0</td>\n",
       "      <td></td>\n",
       "      <td></td>\n",
       "      <td>1527</td>\n",
       "      <td>국기원사거리</td>\n",
       "      <td>1522-3232</td>\n",
       "      <td>02-568-3669</td>\n",
       "      <td>01</td>\n",
       "      <td>서울</td>\n",
       "      <td>...</td>\n",
       "      <td>0</td>\n",
       "      <td>0</td>\n",
       "      <td>0</td>\n",
       "      <td>0</td>\n",
       "      <td>0</td>\n",
       "      <td>0</td>\n",
       "      <td>0</td>\n",
       "      <td>0</td>\n",
       "      <td>0</td>\n",
       "      <td>0</td>\n",
       "    </tr>\n",
       "    <tr>\n",
       "      <th>4</th>\n",
       "      <td>0</td>\n",
       "      <td>0</td>\n",
       "      <td></td>\n",
       "      <td></td>\n",
       "      <td>1468</td>\n",
       "      <td>대치재경빌딩</td>\n",
       "      <td>1522-3232</td>\n",
       "      <td>02-568-3705</td>\n",
       "      <td>01</td>\n",
       "      <td>서울</td>\n",
       "      <td>...</td>\n",
       "      <td>0</td>\n",
       "      <td>0</td>\n",
       "      <td>0</td>\n",
       "      <td>0</td>\n",
       "      <td>0</td>\n",
       "      <td>0</td>\n",
       "      <td>0</td>\n",
       "      <td>0</td>\n",
       "      <td>0</td>\n",
       "      <td>0</td>\n",
       "    </tr>\n",
       "    <tr>\n",
       "      <th>...</th>\n",
       "      <td>...</td>\n",
       "      <td>...</td>\n",
       "      <td>...</td>\n",
       "      <td>...</td>\n",
       "      <td>...</td>\n",
       "      <td>...</td>\n",
       "      <td>...</td>\n",
       "      <td>...</td>\n",
       "      <td>...</td>\n",
       "      <td>...</td>\n",
       "      <td>...</td>\n",
       "      <td>...</td>\n",
       "      <td>...</td>\n",
       "      <td>...</td>\n",
       "      <td>...</td>\n",
       "      <td>...</td>\n",
       "      <td>...</td>\n",
       "      <td>...</td>\n",
       "      <td>...</td>\n",
       "      <td>...</td>\n",
       "      <td>...</td>\n",
       "    </tr>\n",
       "    <tr>\n",
       "      <th>607</th>\n",
       "      <td>0</td>\n",
       "      <td>0</td>\n",
       "      <td></td>\n",
       "      <td></td>\n",
       "      <td>838</td>\n",
       "      <td>사가정역</td>\n",
       "      <td>1522-3232</td>\n",
       "      <td>02-435-8823</td>\n",
       "      <td>01</td>\n",
       "      <td>서울</td>\n",
       "      <td>...</td>\n",
       "      <td>0</td>\n",
       "      <td>0</td>\n",
       "      <td>0</td>\n",
       "      <td>0</td>\n",
       "      <td>0</td>\n",
       "      <td>0</td>\n",
       "      <td>0</td>\n",
       "      <td>0</td>\n",
       "      <td>0</td>\n",
       "      <td>0</td>\n",
       "    </tr>\n",
       "    <tr>\n",
       "      <th>608</th>\n",
       "      <td>0</td>\n",
       "      <td>0</td>\n",
       "      <td></td>\n",
       "      <td></td>\n",
       "      <td>493</td>\n",
       "      <td>상봉역</td>\n",
       "      <td>1522-3232</td>\n",
       "      <td>02-433-8486</td>\n",
       "      <td>01</td>\n",
       "      <td>서울</td>\n",
       "      <td>...</td>\n",
       "      <td>0</td>\n",
       "      <td>0</td>\n",
       "      <td>0</td>\n",
       "      <td>0</td>\n",
       "      <td>0</td>\n",
       "      <td>0</td>\n",
       "      <td>0</td>\n",
       "      <td>0</td>\n",
       "      <td>0</td>\n",
       "      <td>0</td>\n",
       "    </tr>\n",
       "    <tr>\n",
       "      <th>609</th>\n",
       "      <td>0</td>\n",
       "      <td>0</td>\n",
       "      <td></td>\n",
       "      <td></td>\n",
       "      <td>1668</td>\n",
       "      <td>묵동</td>\n",
       "      <td>1522-3232</td>\n",
       "      <td>02-971-3937</td>\n",
       "      <td>01</td>\n",
       "      <td>서울</td>\n",
       "      <td>...</td>\n",
       "      <td>0</td>\n",
       "      <td>0</td>\n",
       "      <td>0</td>\n",
       "      <td>0</td>\n",
       "      <td>0</td>\n",
       "      <td>0</td>\n",
       "      <td>0</td>\n",
       "      <td>0</td>\n",
       "      <td>0</td>\n",
       "      <td>0</td>\n",
       "    </tr>\n",
       "    <tr>\n",
       "      <th>610</th>\n",
       "      <td>0</td>\n",
       "      <td>0</td>\n",
       "      <td></td>\n",
       "      <td></td>\n",
       "      <td>2002</td>\n",
       "      <td>양원역</td>\n",
       "      <td>1522-3232</td>\n",
       "      <td>02-433-4308</td>\n",
       "      <td>01</td>\n",
       "      <td>서울</td>\n",
       "      <td>...</td>\n",
       "      <td>0</td>\n",
       "      <td>0</td>\n",
       "      <td>0</td>\n",
       "      <td>0</td>\n",
       "      <td>0</td>\n",
       "      <td>0</td>\n",
       "      <td>0</td>\n",
       "      <td>0</td>\n",
       "      <td>0</td>\n",
       "      <td>0</td>\n",
       "    </tr>\n",
       "    <tr>\n",
       "      <th>611</th>\n",
       "      <td>0</td>\n",
       "      <td>0</td>\n",
       "      <td></td>\n",
       "      <td></td>\n",
       "      <td>1749</td>\n",
       "      <td>중화역</td>\n",
       "      <td>1522-3232</td>\n",
       "      <td>02-435-3802</td>\n",
       "      <td>01</td>\n",
       "      <td>서울</td>\n",
       "      <td>...</td>\n",
       "      <td>0</td>\n",
       "      <td>0</td>\n",
       "      <td>0</td>\n",
       "      <td>0</td>\n",
       "      <td>0</td>\n",
       "      <td>0</td>\n",
       "      <td>0</td>\n",
       "      <td>0</td>\n",
       "      <td>0</td>\n",
       "      <td>0</td>\n",
       "    </tr>\n",
       "  </tbody>\n",
       "</table>\n",
       "<p>612 rows × 84 columns</p>\n",
       "</div>"
      ],
      "text/plain": [
       "     seq  p_pro_seq p_sido_cd p_gugun_cd s_code   s_name        tel  \\\n",
       "0      0          0                        1509  역삼아레나빌딩  1522-3232   \n",
       "1      0          0                        1434   논현역사거리  1522-3232   \n",
       "2      0          0                        1595  신사역성일빌딩  1522-3232   \n",
       "3      0          0                        1527   국기원사거리  1522-3232   \n",
       "4      0          0                        1468   대치재경빌딩  1522-3232   \n",
       "..   ...        ...       ...        ...    ...      ...        ...   \n",
       "607    0          0                         838     사가정역  1522-3232   \n",
       "608    0          0                         493      상봉역  1522-3232   \n",
       "609    0          0                        1668       묵동  1522-3232   \n",
       "610    0          0                        2002      양원역  1522-3232   \n",
       "611    0          0                        1749      중화역  1522-3232   \n",
       "\n",
       "              fax sido_code sido_name  ... p01 t05 t30 t36 t27  t29 t43 t48  \\\n",
       "0     02-568-3763        01        서울  ...   0   0   0   0   0    0   0   0   \n",
       "1    02-3442-3673        01        서울  ...   0   0   0   0   0    0   0   0   \n",
       "2     02-547-3859        01        서울  ...   0   0   0   0   0    0   0   0   \n",
       "3     02-568-3669        01        서울  ...   0   0   0   0   0    0   0   0   \n",
       "4     02-568-3705        01        서울  ...   0   0   0   0   0    0   0   0   \n",
       "..            ...       ...       ...  ...  ..  ..  ..  ..  ..  ...  ..  ..   \n",
       "607   02-435-8823        01        서울  ...   0   0   0   0   0    0   0   0   \n",
       "608   02-433-8486        01        서울  ...   0   0   0   0   0    0   0   0   \n",
       "609   02-971-3937        01        서울  ...   0   0   0   0   0    0   0   0   \n",
       "610   02-433-4308        01        서울  ...   0   0   0   0   0    0   0   0   \n",
       "611   02-435-3802        01        서울  ...   0   0   0   0   0    0   0   0   \n",
       "\n",
       "    z9999  p02  \n",
       "0       0    0  \n",
       "1       0    0  \n",
       "2       0    0  \n",
       "3       0    0  \n",
       "4       0    0  \n",
       "..    ...  ...  \n",
       "607     0    0  \n",
       "608     0    0  \n",
       "609     0    0  \n",
       "610     0    0  \n",
       "611     0    0  \n",
       "\n",
       "[612 rows x 84 columns]"
      ]
     },
     "execution_count": 35,
     "metadata": {},
     "output_type": "execute_result"
    }
   ],
   "source": [
    "star.dropna(axis=1, thresh=100)"
   ]
  },
  {
   "cell_type": "code",
   "execution_count": 36,
   "id": "b6a21c16-178e-4eab-a95a-5dcc54ff2e6f",
   "metadata": {},
   "outputs": [],
   "source": [
    "starbucks_df = spark.createDataFrame(star[['s_name']])\n",
    "# 결측가 1개있어도된다"
   ]
  },
  {
   "cell_type": "code",
   "execution_count": 37,
   "id": "29a5e797-d994-4323-8b94-8eef9c4bb906",
   "metadata": {},
   "outputs": [
    {
     "name": "stdout",
     "output_type": "stream",
     "text": [
      "+-----------------+\n",
      "|           s_name|\n",
      "+-----------------+\n",
      "|   역삼아레나빌딩|\n",
      "|     논현역사거리|\n",
      "|   신사역성일빌딩|\n",
      "|     국기원사거리|\n",
      "|     대치재경빌딩|\n",
      "|         봉은사역|\n",
      "|   압구정윤성빌딩|\n",
      "|     코엑스별마당|\n",
      "|  삼성역섬유센터R|\n",
      "|          압구정R|\n",
      "|          수서역R|\n",
      "|    양재강남빌딩R|\n",
      "|    선릉동신빌딩R|\n",
      "|   봉은사로선정릉|\n",
      "|       강남오거리|\n",
      "|스타필드코엑스몰R|\n",
      "|     강남구청정문|\n",
      "|         도곡공원|\n",
      "|            강남R|\n",
      "|   대치은마사거리|\n",
      "+-----------------+\n",
      "only showing top 20 rows\n",
      "\n"
     ]
    }
   ],
   "source": [
    "starbucks_df.show()"
   ]
  },
  {
   "cell_type": "code",
   "execution_count": 38,
   "id": "2a18863f-24e8-4017-a3d8-7d5bc2f078e6",
   "metadata": {},
   "outputs": [],
   "source": [
    "star = pd.DataFrame(r.json()['list'])\n",
    "starbucks_df = spark.createDataFrame(star.dropna(axis=1))\n"
   ]
  },
  {
   "cell_type": "code",
   "execution_count": 39,
   "id": "06dfc74d-7d12-48d8-861c-67db1a07db4a",
   "metadata": {},
   "outputs": [
    {
     "name": "stderr",
     "output_type": "stream",
     "text": [
      "24/06/18 03:13:03 WARN package: Truncated the string representation of a plan since it was too large. This behavior can be adjusted by setting 'spark.sql.debug.maxToStringFields'.\n"
     ]
    },
    {
     "name": "stdout",
     "output_type": "stream",
     "text": [
      "+---+---------+---------+----------+------+--------------+---------+-----------+---------+---------+----------+----------+-------------------------------+--------------------+--------+-----------+-------+-------+-----------+------------+--------------+---------------+----------------+--------+--------+--------+----------+--------+--------+---------+--------------------+----------+---------+----+------+----+--------+---------+------+-------+--------+---------+-------------+-------------------------------+---------+-----------------------+----------+-----+-------+---------+-----------+---------------+---------+----------+---+---+---+---+---+---+---+---+---+---+---+---+---+---+---+---+---+---+---+---+---+---+---+---+---+---+---+-----+---+\n",
      "|seq|p_pro_seq|p_sido_cd|p_gugun_cd|s_code|        s_name|      tel|        fax|sido_code|sido_name|gugun_code|gugun_name|                           addr|         theme_state|new_bool|search_text|ins_lat|ins_lng|in_distance|out_distance|all_search_cnt|addr_search_cnt|store_search_cnt|rowCount|store_nm|store_cd|s_biz_code|new_icon|set_user|favorites|        defaultimage|in_biz_cds|in_scodes|vSal|istart|iend| open_dt|gold_card|ip_lat|ip_long|espresso|new_store|premiere_food|                   doro_address|cold_blew|my_siren_order_store_yn|whcroad_yn|skuNo|skuName|skuImgUrl|stock_count|store_area_code|      lat|       lot|t20|t04|t03|t01|t12|t09|t06|t10|p10|p50|p20|p60|p30|p70|p40|p80|t22|t21|p90|p01|t05|t30|t36|t27|t29|t43|t48|z9999|p02|\n",
      "+---+---------+---------+----------+------+--------------+---------+-----------+---------+---------+----------+----------+-------------------------------+--------------------+--------+-----------+-------+-------+-----------+------------+--------------+---------------+----------------+--------+--------+--------+----------+--------+--------+---------+--------------------+----------+---------+----+------+----+--------+---------+------+-------+--------+---------+-------------+-------------------------------+---------+-----------------------+----------+-----+-------+---------+-----------+---------------+---------+----------+---+---+---+---+---+---+---+---+---+---+---+---+---+---+---+---+---+---+---+---+---+---+---+---+---+---+---+-----+---+\n",
      "|  0|        0|         |          |  1509|역삼아레나빌딩|1522-3232|02-568-3763|       01|     서울|      0101|    강남구|서울특별시 강남구 역삼동 721...|Z9999@T05@T08@T16...|       0|           |       |       |          0|        9.26|            -1|             -1|              -1|      30|        |       0|      3762|       N|        |        0|/upload/store/201...|         0|        0|    |     1|  60|20190613|        0|      |       |        |         |             |서울특별시 강남구 언주로 425...|         |                      N|   WHCROAD|     |       |         |          0|            A01|37.501087|127.043069|  0|  0|  0|  0|  0|  0|  0|  0|  0|  0|  0|  0|  0|  0|  0|  0|  0|  0|  0|  0|  0|  0|  0|  0|  0|  0|  0|    0|  0|\n",
      "+---+---------+---------+----------+------+--------------+---------+-----------+---------+---------+----------+----------+-------------------------------+--------------------+--------+-----------+-------+-------+-----------+------------+--------------+---------------+----------------+--------+--------+--------+----------+--------+--------+---------+--------------------+----------+---------+----+------+----+--------+---------+------+-------+--------+---------+-------------+-------------------------------+---------+-----------------------+----------+-----+-------+---------+-----------+---------------+---------+----------+---+---+---+---+---+---+---+---+---+---+---+---+---+---+---+---+---+---+---+---+---+---+---+---+---+---+---+-----+---+\n",
      "\n"
     ]
    }
   ],
   "source": [
    "starbucks_df.limit(1).show()"
   ]
  },
  {
   "cell_type": "code",
   "execution_count": 40,
   "id": "c542f777-e507-44d4-88de-9610bf89148e",
   "metadata": {},
   "outputs": [],
   "source": [
    "# star"
   ]
  },
  {
   "cell_type": "code",
   "execution_count": 41,
   "id": "0a69da92-ce14-4962-b517-3ac8efbe491e",
   "metadata": {},
   "outputs": [
    {
     "name": "stdout",
     "output_type": "stream",
     "text": [
      "+------+--------------+--------+--------+-------------------------------+\n",
      "|s_code|        s_name| open_dt|espresso|                           addr|\n",
      "+------+--------------+--------+--------+-------------------------------+\n",
      "|  1509|역삼아레나빌딩|20190613|        |서울특별시 강남구 역삼동 721...|\n",
      "|  1434|  논현역사거리|20181123|        |서울특별시 강남구 논현동 142...|\n",
      "|  1595|신사역성일빌딩|20191219|        |서울특별시 강남구 논현동 18-...|\n",
      "+------+--------------+--------+--------+-------------------------------+\n",
      "\n"
     ]
    }
   ],
   "source": [
    "# columns = [\"s_code\",\"s_name\",\"open_dt\",\"espresso\",\"addr\"]\n",
    "# temp = spark.createDataFrame(data=starbucks_df, schema = columns)\n",
    "starbucks_df.select(\"s_code\",\"s_name\",\"open_dt\",\"espresso\",\"addr\").limit(3).show()"
   ]
  },
  {
   "cell_type": "code",
   "execution_count": 42,
   "id": "5a17a088-3bcf-445a-a2d2-f5f5bec3753c",
   "metadata": {},
   "outputs": [],
   "source": [
    "star_df = starbucks_df.select(\"s_code\",\"s_name\",\"open_dt\",\"espresso\",\"addr\")"
   ]
  },
  {
   "cell_type": "code",
   "execution_count": 43,
   "id": "1531406a-3029-404f-b265-d71939aab75b",
   "metadata": {},
   "outputs": [
    {
     "data": {
      "text/plain": [
       "DataFrame[s_code: string, s_name: string, open_dt: string, espresso: string, addr: string]"
      ]
     },
     "execution_count": 43,
     "metadata": {},
     "output_type": "execute_result"
    }
   ],
   "source": [
    "star_df"
   ]
  },
  {
   "cell_type": "code",
   "execution_count": 44,
   "id": "c3e3b405-0349-4c5f-87d3-30c7bc9d0e95",
   "metadata": {},
   "outputs": [
    {
     "name": "stdout",
     "output_type": "stream",
     "text": [
      "+------+--------------+--------+--------+-------------------------------+\n",
      "|s_code|        s_name| open_dt|espresso|                           addr|\n",
      "+------+--------------+--------+--------+-------------------------------+\n",
      "|  1509|역삼아레나빌딩|20190613|        |서울특별시 강남구 역삼동 721...|\n",
      "|  1434|  논현역사거리|20181123|        |서울특별시 강남구 논현동 142...|\n",
      "+------+--------------+--------+--------+-------------------------------+\n",
      "\n"
     ]
    }
   ],
   "source": [
    "star_df.limit(2).show()"
   ]
  },
  {
   "cell_type": "markdown",
   "id": "d3609499-2f37-4a30-b7d4-0084e5255e2a",
   "metadata": {},
   "source": [
    "s_name = 매장이름\n",
    "s_code = 매장코드\n",
    "open_dt = 개장일\n",
    "addr = 주소\n"
   ]
  },
  {
   "cell_type": "code",
   "execution_count": 45,
   "id": "2746a402-b17b-45a2-bbdd-08cb2ae42603",
   "metadata": {},
   "outputs": [],
   "source": [
    "star_df = star_df.withColumnsRenamed({\"s_name\" : \"매장이름\",\"s_code\":\"매장코드\" , \"open_dt\" : \"개장일\" , \"addr\" :\"주소\"})\n",
    "# df2 = df.withColumnRenamed(\"salary\",\"월급\")\n",
    "# star_df.withColumnsRenamed"
   ]
  },
  {
   "cell_type": "code",
   "execution_count": 46,
   "id": "baebbda4-4194-4d49-b49c-d890fe244550",
   "metadata": {},
   "outputs": [
    {
     "name": "stdout",
     "output_type": "stream",
     "text": [
      "+--------+--------------+--------+---------+-------------------------------+\n",
      "|매장이름|      매장코드|  개장일|espresson|                           주소|\n",
      "+--------+--------------+--------+---------+-------------------------------+\n",
      "|    1509|역삼아레나빌딩|20190613|         |서울특별시 강남구 역삼동 721...|\n",
      "|    1434|  논현역사거리|20181123|         |서울특별시 강남구 논현동 142...|\n",
      "+--------+--------------+--------+---------+-------------------------------+\n",
      "\n"
     ]
    }
   ],
   "source": [
    "star_df.toDF(*['매장이름','매장코드','개장일','espresson','주소']).limit(2).show()"
   ]
  },
  {
   "cell_type": "code",
   "execution_count": 79,
   "id": "c5ca168e-0342-4169-8632-139ded59e6f4",
   "metadata": {},
   "outputs": [],
   "source": [
    "star_df2 = star_df.toDF(*['매장이름','매장코드','개장일','espresso','주소'])"
   ]
  },
  {
   "cell_type": "code",
   "execution_count": 48,
   "id": "1b34104a-b2fe-4546-b996-83bcc8e444bd",
   "metadata": {},
   "outputs": [],
   "source": [
    "from pyspark.sql.functions import split"
   ]
  },
  {
   "cell_type": "code",
   "execution_count": 66,
   "id": "7b1b5d87-6b50-4286-af11-38373f78d823",
   "metadata": {},
   "outputs": [
    {
     "name": "stdout",
     "output_type": "stream",
     "text": [
      "+--------+-----------------+--------+--------+-------------------------------+\n",
      "|매장이름|         매장코드|  개장일|espresso|                           주소|\n",
      "+--------+-----------------+--------+--------+-------------------------------+\n",
      "|    1509|   역삼아레나빌딩|20190613|        |서울특별시 강남구 역삼동 721...|\n",
      "|    1434|     논현역사거리|20181123|        |서울특별시 강남구 논현동 142...|\n",
      "|    1595|   신사역성일빌딩|20191219|        |서울특별시 강남구 논현동 18-...|\n",
      "|    1527|     국기원사거리|20190731|        |서울특별시 강남구 역삼동 648...|\n",
      "|    1468|     대치재경빌딩|20190214|        |서울특별시 강남구 대치동 599...|\n",
      "|    1640|         봉은사역|20200528|        |서울특별시 강남구 삼성동 108...|\n",
      "|    1650|   압구정윤성빌딩|20200529|        |서울특별시 강남구 신사동 592...|\n",
      "|    1626|     코엑스별마당|20200416|        |서울특별시 강남구 삼성동 159...|\n",
      "|    1438|  삼성역섬유센터R|20181123|        |서울특별시 강남구 대치동 944...|\n",
      "|    1411|          압구정R|20180831|        | 서울특별시 강남구 신사동 621-1|\n",
      "|    1389|          수서역R|20180627|        |서울특별시 강남구 수서동 715...|\n",
      "|    1404|    양재강남빌딩R|20180824|        |서울특별시 강남구 도곡동 956...|\n",
      "|    1355|    선릉동신빌딩R|20180330|        |서울특별시 강남구 삼성동 141...|\n",
      "|    1348|   봉은사로선정릉|20180306|        |서울특별시 강남구 삼성동 114...|\n",
      "|    1255|       강남오거리|20170818|        |서울특별시 강남구 역삼동 813...|\n",
      "|    1211|스타필드코엑스몰R|20170502|        |서울특별시 강남구 삼성동 159...|\n",
      "|    1188|     강남구청정문|20170323|        |서울특별시 강남구 청담동 44-...|\n",
      "|    1263|         도곡공원|20170825|        |서울특별시 강남구 역삼동 788-10|\n",
      "|    1258|            강남R|20170816|        |서울특별시 강남구 역삼동 825...|\n",
      "|    1099|   대치은마사거리|20160812|        |서울특별시 강남구 대치동 941...|\n",
      "+--------+-----------------+--------+--------+-------------------------------+\n",
      "only showing top 20 rows\n",
      "\n"
     ]
    }
   ],
   "source": [
    "star_df2.show()"
   ]
  },
  {
   "cell_type": "code",
   "execution_count": 67,
   "id": "febd69f9-c831-4a8e-be23-7e8523b1a78f",
   "metadata": {},
   "outputs": [
    {
     "name": "stdout",
     "output_type": "stream",
     "text": [
      "+--------+--------------+--------+--------+-------------------------------+-------------------------------+\n",
      "|매장이름|      매장코드|  개장일|espresso|                           주소|                      split_col|\n",
      "+--------+--------------+--------+--------+-------------------------------+-------------------------------+\n",
      "|    1509|역삼아레나빌딩|20190613|        |서울특별시 강남구 역삼동 721...|[서울특별시, 강남구, 역삼동,...|\n",
      "|    1434|  논현역사거리|20181123|        |서울특별시 강남구 논현동 142...|[서울특별시, 강남구, 논현동,...|\n",
      "+--------+--------------+--------+--------+-------------------------------+-------------------------------+\n",
      "\n"
     ]
    }
   ],
   "source": [
    "star_df2.withColumn('split_col', split(star_df2['주소'],\" \")).limit(2).show()"
   ]
  },
  {
   "cell_type": "code",
   "execution_count": 68,
   "id": "0fc23016-c016-4466-8d7b-e5e15091cc42",
   "metadata": {},
   "outputs": [],
   "source": [
    "star_df2 = star_df2.withColumn('split_col', split(star_df2['주소'],\" \"))"
   ]
  },
  {
   "cell_type": "code",
   "execution_count": 69,
   "id": "0c6bae15-77d1-4e18-a86f-c04cf7ff721f",
   "metadata": {},
   "outputs": [
    {
     "name": "stdout",
     "output_type": "stream",
     "text": [
      "+--------+-----------------+--------+--------+-------------------------------+-------------------------------+\n",
      "|매장이름|         매장코드|  개장일|espresso|                           주소|                      split_col|\n",
      "+--------+-----------------+--------+--------+-------------------------------+-------------------------------+\n",
      "|    1509|   역삼아레나빌딩|20190613|        |서울특별시 강남구 역삼동 721...|[서울특별시, 강남구, 역삼동,...|\n",
      "|    1434|     논현역사거리|20181123|        |서울특별시 강남구 논현동 142...|[서울특별시, 강남구, 논현동,...|\n",
      "|    1595|   신사역성일빌딩|20191219|        |서울특별시 강남구 논현동 18-...|[서울특별시, 강남구, 논현동,...|\n",
      "|    1527|     국기원사거리|20190731|        |서울특별시 강남구 역삼동 648...|[서울특별시, 강남구, 역삼동,...|\n",
      "|    1468|     대치재경빌딩|20190214|        |서울특별시 강남구 대치동 599...|[서울특별시, 강남구, 대치동,...|\n",
      "|    1640|         봉은사역|20200528|        |서울특별시 강남구 삼성동 108...|[서울특별시, 강남구, 삼성동,...|\n",
      "|    1650|   압구정윤성빌딩|20200529|        |서울특별시 강남구 신사동 592...|[서울특별시, 강남구, 신사동,...|\n",
      "|    1626|     코엑스별마당|20200416|        |서울특별시 강남구 삼성동 159...|[서울특별시, 강남구, 삼성동,...|\n",
      "|    1438|  삼성역섬유센터R|20181123|        |서울특별시 강남구 대치동 944...|[서울특별시, 강남구, 대치동,...|\n",
      "|    1411|          압구정R|20180831|        | 서울특별시 강남구 신사동 621-1|[서울특별시, 강남구, 신사동,...|\n",
      "|    1389|          수서역R|20180627|        |서울특별시 강남구 수서동 715...|[서울특별시, 강남구, 수서동,...|\n",
      "|    1404|    양재강남빌딩R|20180824|        |서울특별시 강남구 도곡동 956...|[서울특별시, 강남구, 도곡동,...|\n",
      "|    1355|    선릉동신빌딩R|20180330|        |서울특별시 강남구 삼성동 141...|[서울특별시, 강남구, 삼성동,...|\n",
      "|    1348|   봉은사로선정릉|20180306|        |서울특별시 강남구 삼성동 114...|[서울특별시, 강남구, 삼성동,...|\n",
      "|    1255|       강남오거리|20170818|        |서울특별시 강남구 역삼동 813...|[서울특별시, 강남구, 역삼동,...|\n",
      "|    1211|스타필드코엑스몰R|20170502|        |서울특별시 강남구 삼성동 159...|[서울특별시, 강남구, 삼성동,...|\n",
      "|    1188|     강남구청정문|20170323|        |서울특별시 강남구 청담동 44-...|[서울특별시, 강남구, 청담동,...|\n",
      "|    1263|         도곡공원|20170825|        |서울특별시 강남구 역삼동 788-10|[서울특별시, 강남구, 역삼동,...|\n",
      "|    1258|            강남R|20170816|        |서울특별시 강남구 역삼동 825...|[서울특별시, 강남구, 역삼동,...|\n",
      "|    1099|   대치은마사거리|20160812|        |서울특별시 강남구 대치동 941...|[서울특별시, 강남구, 대치동,...|\n",
      "+--------+-----------------+--------+--------+-------------------------------+-------------------------------+\n",
      "only showing top 20 rows\n",
      "\n"
     ]
    }
   ],
   "source": [
    "star_df2.show()"
   ]
  },
  {
   "cell_type": "code",
   "execution_count": 70,
   "id": "4d9d4a69-9723-4e2a-892a-ff8d836c7c1f",
   "metadata": {},
   "outputs": [],
   "source": [
    "star_df2 = star_df2.withColumn('구', star_df2[\"split_col\"][1])"
   ]
  },
  {
   "cell_type": "code",
   "execution_count": 71,
   "id": "9ca06aea-8fc4-4da7-9e79-91e7c6afb480",
   "metadata": {},
   "outputs": [
    {
     "name": "stdout",
     "output_type": "stream",
     "text": [
      "+-------------------------------+\n",
      "|                      split_col|\n",
      "+-------------------------------+\n",
      "|[서울특별시, 강남구, 역삼동,...|\n",
      "|[서울특별시, 강남구, 논현동,...|\n",
      "|[서울특별시, 강남구, 논현동,...|\n",
      "|[서울특별시, 강남구, 역삼동,...|\n",
      "|[서울특별시, 강남구, 대치동,...|\n",
      "|[서울특별시, 강남구, 삼성동,...|\n",
      "|[서울특별시, 강남구, 신사동,...|\n",
      "|[서울특별시, 강남구, 삼성동,...|\n",
      "|[서울특별시, 강남구, 대치동,...|\n",
      "|[서울특별시, 강남구, 신사동,...|\n",
      "|[서울특별시, 강남구, 수서동,...|\n",
      "|[서울특별시, 강남구, 도곡동,...|\n",
      "|[서울특별시, 강남구, 삼성동,...|\n",
      "|[서울특별시, 강남구, 삼성동,...|\n",
      "|[서울특별시, 강남구, 역삼동,...|\n",
      "|[서울특별시, 강남구, 삼성동,...|\n",
      "|[서울특별시, 강남구, 청담동,...|\n",
      "|[서울특별시, 강남구, 역삼동,...|\n",
      "|[서울특별시, 강남구, 역삼동,...|\n",
      "|[서울특별시, 강남구, 대치동,...|\n",
      "+-------------------------------+\n",
      "only showing top 20 rows\n",
      "\n"
     ]
    }
   ],
   "source": [
    "star_df2[['split_col']].show()"
   ]
  },
  {
   "cell_type": "code",
   "execution_count": 72,
   "id": "c80424df-8cfc-49d2-a02d-7e3c8d720a1a",
   "metadata": {},
   "outputs": [
    {
     "name": "stdout",
     "output_type": "stream",
     "text": [
      "root\n",
      " |-- 매장이름: string (nullable = true)\n",
      " |-- 매장코드: string (nullable = true)\n",
      " |-- 개장일: string (nullable = true)\n",
      " |-- espresso: string (nullable = true)\n",
      " |-- 주소: string (nullable = true)\n",
      " |-- split_col: array (nullable = true)\n",
      " |    |-- element: string (containsNull = false)\n",
      " |-- 구: string (nullable = true)\n",
      "\n"
     ]
    }
   ],
   "source": [
    "star_df2.printSchema()"
   ]
  },
  {
   "cell_type": "code",
   "execution_count": 73,
   "id": "384fa6b4-0806-454c-922a-48f6e862a051",
   "metadata": {},
   "outputs": [
    {
     "name": "stdout",
     "output_type": "stream",
     "text": [
      "+--------+-----+\n",
      "|      구|count|\n",
      "+--------+-----+\n",
      "|  도봉구|    7|\n",
      "|  마포구|   36|\n",
      "|  강서구|   27|\n",
      "|  강남구|   91|\n",
      "|  광진구|   19|\n",
      "|  관악구|   12|\n",
      "|  동작구|   11|\n",
      "|  노원구|   14|\n",
      "|서대문구|   21|\n",
      "|  금천구|   13|\n",
      "|  성북구|   15|\n",
      "|  강북구|    6|\n",
      "|  서초구|   48|\n",
      "|  송파구|   37|\n",
      "|  은평구|   14|\n",
      "|  양천구|   17|\n",
      "|  중랑구|    8|\n",
      "|  강동구|   17|\n",
      "|  용산구|   24|\n",
      "|  구로구|   14|\n",
      "+--------+-----+\n",
      "only showing top 20 rows\n",
      "\n"
     ]
    }
   ],
   "source": [
    "star_df2.groupby(\"구\").count().show()"
   ]
  },
  {
   "cell_type": "code",
   "execution_count": 74,
   "id": "46182bec-4fcd-4343-a527-b4b4ddee7fd4",
   "metadata": {},
   "outputs": [
    {
     "name": "stdout",
     "output_type": "stream",
     "text": [
      "+--------+-----+\n",
      "|      구|count|\n",
      "+--------+-----+\n",
      "|  강남구|   91|\n",
      "|    중구|   52|\n",
      "|  서초구|   48|\n",
      "|영등포구|   43|\n",
      "|  종로구|   39|\n",
      "|  송파구|   37|\n",
      "|  마포구|   36|\n",
      "|  강서구|   27|\n",
      "|  용산구|   24|\n",
      "|서대문구|   21|\n",
      "|  광진구|   19|\n",
      "|  양천구|   17|\n",
      "|  강동구|   17|\n",
      "|  성북구|   15|\n",
      "|  노원구|   14|\n",
      "|  은평구|   14|\n",
      "|  구로구|   14|\n",
      "|  성동구|   14|\n",
      "|  금천구|   13|\n",
      "|동대문구|   13|\n",
      "+--------+-----+\n",
      "only showing top 20 rows\n",
      "\n"
     ]
    }
   ],
   "source": [
    "star_df2.groupby(\"구\")\\\n",
    "    .count()\\\n",
    "    .sort(\"count\",ascending=False)\\\n",
    "    .show()"
   ]
  },
  {
   "cell_type": "code",
   "execution_count": 58,
   "id": "ee230ec4-cf21-42d7-b493-8b2430aab8ce",
   "metadata": {},
   "outputs": [],
   "source": [
    "# espresso 컬럼삭제"
   ]
  },
  {
   "cell_type": "code",
   "execution_count": 75,
   "id": "94a3c048-b855-4e26-841c-2d9efb655145",
   "metadata": {},
   "outputs": [
    {
     "name": "stdout",
     "output_type": "stream",
     "text": [
      "+--------+-----------------+--------+-------------------------------+------+\n",
      "|매장이름|         매장코드|  개장일|                           주소|    구|\n",
      "+--------+-----------------+--------+-------------------------------+------+\n",
      "|    1509|   역삼아레나빌딩|20190613|서울특별시 강남구 역삼동 721...|강남구|\n",
      "|    1434|     논현역사거리|20181123|서울특별시 강남구 논현동 142...|강남구|\n",
      "|    1595|   신사역성일빌딩|20191219|서울특별시 강남구 논현동 18-...|강남구|\n",
      "|    1527|     국기원사거리|20190731|서울특별시 강남구 역삼동 648...|강남구|\n",
      "|    1468|     대치재경빌딩|20190214|서울특별시 강남구 대치동 599...|강남구|\n",
      "|    1640|         봉은사역|20200528|서울특별시 강남구 삼성동 108...|강남구|\n",
      "|    1650|   압구정윤성빌딩|20200529|서울특별시 강남구 신사동 592...|강남구|\n",
      "|    1626|     코엑스별마당|20200416|서울특별시 강남구 삼성동 159...|강남구|\n",
      "|    1438|  삼성역섬유센터R|20181123|서울특별시 강남구 대치동 944...|강남구|\n",
      "|    1411|          압구정R|20180831| 서울특별시 강남구 신사동 621-1|강남구|\n",
      "|    1389|          수서역R|20180627|서울특별시 강남구 수서동 715...|강남구|\n",
      "|    1404|    양재강남빌딩R|20180824|서울특별시 강남구 도곡동 956...|강남구|\n",
      "|    1355|    선릉동신빌딩R|20180330|서울특별시 강남구 삼성동 141...|강남구|\n",
      "|    1348|   봉은사로선정릉|20180306|서울특별시 강남구 삼성동 114...|강남구|\n",
      "|    1255|       강남오거리|20170818|서울특별시 강남구 역삼동 813...|강남구|\n",
      "|    1211|스타필드코엑스몰R|20170502|서울특별시 강남구 삼성동 159...|강남구|\n",
      "|    1188|     강남구청정문|20170323|서울특별시 강남구 청담동 44-...|강남구|\n",
      "|    1263|         도곡공원|20170825|서울특별시 강남구 역삼동 788-10|강남구|\n",
      "|    1258|            강남R|20170816|서울특별시 강남구 역삼동 825...|강남구|\n",
      "|    1099|   대치은마사거리|20160812|서울특별시 강남구 대치동 941...|강남구|\n",
      "+--------+-----------------+--------+-------------------------------+------+\n",
      "only showing top 20 rows\n",
      "\n"
     ]
    }
   ],
   "source": [
    "star_df2 = star_df2.drop(\"espresso\",\"split_col\").show()"
   ]
  },
  {
   "cell_type": "code",
   "execution_count": 80,
   "id": "cfd6eb04-7c6d-45ca-8475-d6fb248c6cf0",
   "metadata": {},
   "outputs": [
    {
     "name": "stdout",
     "output_type": "stream",
     "text": [
      "+--------+-----+\n",
      "|      구|count|\n",
      "+--------+-----+\n",
      "|  강남구|   91|\n",
      "|    중구|   52|\n",
      "|  서초구|   48|\n",
      "|영등포구|   43|\n",
      "|  종로구|   39|\n",
      "|  송파구|   37|\n",
      "|  마포구|   36|\n",
      "|  강서구|   27|\n",
      "|  용산구|   24|\n",
      "|서대문구|   21|\n",
      "|  광진구|   19|\n",
      "|  양천구|   17|\n",
      "|  강동구|   17|\n",
      "|  성북구|   15|\n",
      "|  노원구|   14|\n",
      "|  은평구|   14|\n",
      "|  구로구|   14|\n",
      "|  성동구|   14|\n",
      "|  금천구|   13|\n",
      "|동대문구|   13|\n",
      "+--------+-----+\n",
      "only showing top 20 rows\n",
      "\n"
     ]
    }
   ],
   "source": [
    "url = \"https://www.starbucks.co.kr/store/getStore.do?r=3PS46TOGMA\"\n",
    "\n",
    "\n",
    "payload = {\"in_biz_cds\": \"0\",\n",
    "\"in_scodes\": \"0\",\n",
    "\"ins_lat\": \"37.56682\",\n",
    "\"ins_lng\": \"126.97865\",\n",
    "\"search_text\": \"\",\n",
    "\"p_sido_cd\": \"01\",\n",
    "\"p_gugun_cd\": \"\",\n",
    "\"isError\": \"true\",\n",
    "\"in_distance\": \"0\",\n",
    "\"in_biz_cd\": \"\",\n",
    "\"iend\": \"1000\",\n",
    "\"searchType\": \"C\",\n",
    "\"set_date\": \"\",\n",
    "\"rndCod\": \"NTM40TCD0S\",\n",
    "\"all_store\": \"0\",\n",
    "\"T03\": \"0\",\n",
    "\"T01\": \"0\",\n",
    "\"T27\": \"0\",\n",
    "\"T12\": \"0\",\n",
    "\"T09\": \"0\",\n",
    "\"T30\": \"0\",\n",
    "\"T05\": \"0\",\n",
    "\"T22\": \"0\",\n",
    "\"T21\": \"0\",\n",
    "\"T10\": \"0\",\n",
    "\"T36\": \"0\",\n",
    "\"T43\": \"0\",\n",
    "\"T48\": \"0\",\n",
    "\"Z9999\": \"0\",\n",
    "\"P02\": \"0\",\n",
    "\"P10\": \"0\",\n",
    "\"P50\": \"0\",\n",
    "\"P20\": \"0\",\n",
    "\"P60\": \"0\",\n",
    "\"P30\": \"0\",\n",
    "\"P70\": \"0\",\n",
    "\"P40\": \"0\",\n",
    "\"P80\": \"0\",\n",
    "\"whcroad_yn\": \"0\",\n",
    "\"P90\": \"0\",\n",
    "\"P01\": \"0\",\n",
    "\"new_bool\": \"0\",}\n",
    "\n",
    "\n",
    "\n",
    "\n",
    "star = pd.DataFrame(r.json()['list'])\n",
    "starbucks_df = spark.createDataFrame(star.dropna(axis=1))\n",
    "\n",
    "\n",
    "star_df = starbucks_df.select('s_name', \"s_code\", \"open_dt\", \"espresso\", \"addr\")\n",
    "\n",
    "\n",
    "# 컬럼명 변경 - 첫번째 방법 \n",
    "star_df.withColumnRenamed('s_name', '매장이름').\\\n",
    "    withColumnRenamed('s_code', '매장코드').\\\n",
    "    withColumnRenamed('open_dt', '개장일').\\\n",
    "    withColumnRenamed('addr', '주소')\n",
    "\n",
    "# 두번째 방법 \n",
    "star_df2= star_df.toDF(*['매장이름', '매장코드', '개장일','espresso', '주소'])\n",
    "\n",
    "\n",
    "from pyspark.sql.functions import split\n",
    "\n",
    "star_df2 = star_df2.withColumn('split_col', split(star_df2['주소'], \" \"))\n",
    "\n",
    "star_df2 = star_df2.withColumn('구', star_df2[\"split_col\"][1])\n",
    "\n",
    "star_df2.groupby('구')\\\n",
    "    .count()\\\n",
    "    .sort('count', ascending=False)\\\n",
    "    .show()\n",
    "\n",
    "\n",
    "star_df2 = star_df2.drop('espresso', 'split_col')\n"
   ]
  },
  {
   "cell_type": "code",
   "execution_count": 81,
   "id": "a6fc3870-7d55-49bc-a924-c4a5cdf695f5",
   "metadata": {},
   "outputs": [],
   "source": [
    "star_df2.createOrReplaceTempView(\"starbucks\")"
   ]
  },
  {
   "cell_type": "code",
   "execution_count": null,
   "id": "c8bdcc56-17c9-448c-a122-e23ccec9311f",
   "metadata": {},
   "outputs": [],
   "source": []
  },
  {
   "cell_type": "code",
   "execution_count": 82,
   "id": "4ae029a4-b921-431f-8bd2-b0a6fdfd374d",
   "metadata": {},
   "outputs": [
    {
     "name": "stdout",
     "output_type": "stream",
     "text": [
      "+-----------------+--------+--------+-------------------------------+------+\n",
      "|         매장이름|매장코드|  개장일|                           주소|    구|\n",
      "+-----------------+--------+--------+-------------------------------+------+\n",
      "|   역삼아레나빌딩|    1509|20190613|서울특별시 강남구 역삼동 721...|강남구|\n",
      "|     논현역사거리|    1434|20181123|서울특별시 강남구 논현동 142...|강남구|\n",
      "|   신사역성일빌딩|    1595|20191219|서울특별시 강남구 논현동 18-...|강남구|\n",
      "|     국기원사거리|    1527|20190731|서울특별시 강남구 역삼동 648...|강남구|\n",
      "|     대치재경빌딩|    1468|20190214|서울특별시 강남구 대치동 599...|강남구|\n",
      "|         봉은사역|    1640|20200528|서울특별시 강남구 삼성동 108...|강남구|\n",
      "|   압구정윤성빌딩|    1650|20200529|서울특별시 강남구 신사동 592...|강남구|\n",
      "|     코엑스별마당|    1626|20200416|서울특별시 강남구 삼성동 159...|강남구|\n",
      "|  삼성역섬유센터R|    1438|20181123|서울특별시 강남구 대치동 944...|강남구|\n",
      "|          압구정R|    1411|20180831| 서울특별시 강남구 신사동 621-1|강남구|\n",
      "|          수서역R|    1389|20180627|서울특별시 강남구 수서동 715...|강남구|\n",
      "|    양재강남빌딩R|    1404|20180824|서울특별시 강남구 도곡동 956...|강남구|\n",
      "|    선릉동신빌딩R|    1355|20180330|서울특별시 강남구 삼성동 141...|강남구|\n",
      "|   봉은사로선정릉|    1348|20180306|서울특별시 강남구 삼성동 114...|강남구|\n",
      "|       강남오거리|    1255|20170818|서울특별시 강남구 역삼동 813...|강남구|\n",
      "|스타필드코엑스몰R|    1211|20170502|서울특별시 강남구 삼성동 159...|강남구|\n",
      "|     강남구청정문|    1188|20170323|서울특별시 강남구 청담동 44-...|강남구|\n",
      "|         도곡공원|    1263|20170825|서울특별시 강남구 역삼동 788-10|강남구|\n",
      "|            강남R|    1258|20170816|서울특별시 강남구 역삼동 825...|강남구|\n",
      "|   대치은마사거리|    1099|20160812|서울특별시 강남구 대치동 941...|강남구|\n",
      "+-----------------+--------+--------+-------------------------------+------+\n",
      "only showing top 20 rows\n",
      "\n"
     ]
    }
   ],
   "source": [
    "spark.sql(\"select * from starbucks\").show()"
   ]
  },
  {
   "cell_type": "code",
   "execution_count": 87,
   "id": "e9cdeea0-c364-4961-8fae-d7dd920db164",
   "metadata": {},
   "outputs": [
    {
     "data": {
      "text/plain": [
       "<bound method DataFrame.printSchema of DataFrame[매장이름: string, 매장코드: string, 개장일: string, 주소: string, 구: string]>"
      ]
     },
     "execution_count": 87,
     "metadata": {},
     "output_type": "execute_result"
    }
   ],
   "source": [
    "star_df2.printSchema"
   ]
  },
  {
   "cell_type": "code",
   "execution_count": 91,
   "id": "433aeeed-4129-4f4f-867a-b2ee1e3fd3e7",
   "metadata": {},
   "outputs": [
    {
     "name": "stdout",
     "output_type": "stream",
     "text": [
      "+--------+-----+\n",
      "|      구|count|\n",
      "+--------+-----+\n",
      "|  도봉구|    7|\n",
      "|  마포구|   36|\n",
      "|  강서구|   27|\n",
      "|  강남구|   91|\n",
      "|  광진구|   19|\n",
      "|  관악구|   12|\n",
      "|  동작구|   11|\n",
      "|  노원구|   14|\n",
      "|서대문구|   21|\n",
      "|  금천구|   13|\n",
      "|  성북구|   15|\n",
      "|  강북구|    6|\n",
      "|  서초구|   48|\n",
      "|  송파구|   37|\n",
      "|  은평구|   14|\n",
      "|  양천구|   17|\n",
      "|  중랑구|    8|\n",
      "|  강동구|   17|\n",
      "|  용산구|   24|\n",
      "|  구로구|   14|\n",
      "+--------+-----+\n",
      "only showing top 20 rows\n",
      "\n"
     ]
    }
   ],
   "source": [
    "spark.sql(\"SELECT `구`, COUNT(*) AS count FROM starbucks GROUP BY `구`\").show()"
   ]
  },
  {
   "cell_type": "code",
   "execution_count": null,
   "id": "d1de9337-7b4d-4f3e-96aa-546c2ab9fdde",
   "metadata": {},
   "outputs": [],
   "source": []
  },
  {
   "cell_type": "code",
   "execution_count": null,
   "id": "8ac6a50f-c1f8-45f4-b553-9137367988df",
   "metadata": {},
   "outputs": [],
   "source": []
  },
  {
   "cell_type": "code",
   "execution_count": null,
   "id": "c7e21e0a-362d-4c72-9c78-c412a8f1bfac",
   "metadata": {},
   "outputs": [],
   "source": [
    "starbucks_df = spark.createDataFrame(star[['addr','s_name','sido_cd']])"
   ]
  },
  {
   "cell_type": "code",
   "execution_count": null,
   "id": "f7a9a15a-3bc0-4ea3-964d-c0ab5f7af2cb",
   "metadata": {},
   "outputs": [],
   "source": [
    "# spark_json_df = spark.read.json(r.json()[\"list\"])\n",
    "# Py4JJavaError \n",
    "# 파이썬과 자바를 연결시켜주는데 원래는 자바로 도는데 우리는 파이썬으로하고있다."
   ]
  },
  {
   "cell_type": "code",
   "execution_count": null,
   "id": "01ad5655-a278-4287-b4d7-ee18dc6dbe4f",
   "metadata": {},
   "outputs": [],
   "source": []
  },
  {
   "cell_type": "code",
   "execution_count": null,
   "id": "b6d7a0e9-0e6d-4fa9-96fa-576d665699f3",
   "metadata": {},
   "outputs": [],
   "source": []
  }
 ],
 "metadata": {
  "kernelspec": {
   "display_name": "Python 3 (ipykernel)",
   "language": "python",
   "name": "python3"
  },
  "language_info": {
   "codemirror_mode": {
    "name": "ipython",
    "version": 3
   },
   "file_extension": ".py",
   "mimetype": "text/x-python",
   "name": "python",
   "nbconvert_exporter": "python",
   "pygments_lexer": "ipython3",
   "version": "3.10.14"
  }
 },
 "nbformat": 4,
 "nbformat_minor": 5
}
