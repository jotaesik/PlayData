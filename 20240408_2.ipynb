{
 "cells": [
  {
   "cell_type": "code",
   "execution_count": 33,
   "id": "6267d6e2-0482-454d-906f-92491b30d470",
   "metadata": {},
   "outputs": [],
   "source": [
    "import zipfile\n",
    "import os \n",
    "import pandas as pd\n",
    "import shutil"
   ]
  },
  {
   "cell_type": "code",
   "execution_count": null,
   "id": "0c9b4b60-a02f-4b4f-a459-4fa88df5cd1b",
   "metadata": {},
   "outputs": [],
   "source": [
    "with zipfile.Zipfile(\"./이름_생년_성별_10000.zip\", \"r\") as f:\n",
    "    f.extractall('./data/')"
   ]
  },
  {
   "cell_type": "code",
   "execution_count": 12,
   "id": "d4b74d09-1082-4333-b0c8-948a37ffbb6e",
   "metadata": {
    "scrolled": true
   },
   "outputs": [
    {
     "data": {
      "text/plain": [
       "'3'"
      ]
     },
     "execution_count": 12,
     "metadata": {},
     "output_type": "execute_result"
    }
   ],
   "source": [
    "gender = os.listdir(\"./data\")[0].split(\"_\")[-1][0] "
   ]
  },
  {
   "cell_type": "code",
   "execution_count": 18,
   "id": "3a0cc32c-f5de-4dab-b616-f4383d12005f",
   "metadata": {},
   "outputs": [
    {
     "data": {
      "text/plain": [
       "'┴ñ┐╣┴╓_19880710_2xxxxxx.txt'"
      ]
     },
     "execution_count": 18,
     "metadata": {},
     "output_type": "execute_result"
    }
   ],
   "source": [
    "file"
   ]
  },
  {
   "cell_type": "code",
   "execution_count": 35,
   "id": "50104b06-5f25-45d5-a767-88ee5ffc1086",
   "metadata": {
    "scrolled": true
   },
   "outputs": [],
   "source": [
    "male_list = []\n",
    "female_list = list()\n",
    "\n",
    "if not os.path.isdir(\"./남성\"):\n",
    "    os.mkdir(\"./남성\")\n",
    "if os.path.isdir(\"./여성\")  == False:\n",
    "    os.mkdir(\"./여성\")\n",
    "    \n",
    "for file in os.listdir(\"./data\"):\n",
    "    gender = file.split(\"_\")[-1][0]\n",
    "    #if gender == '1' or gender == '3':\n",
    "    #    print(gender)\n",
    "    if gender in ['1', '3']:\n",
    "        #print(\"남성\", end= \" ,\")\n",
    "        with open(f\"./data/{file}\", 'r', encoding='utf-8') as f:\n",
    "            male_list.append(['남성', f.read().replace(\",\",\"\")])\n",
    "        shutil.move(f\"./data/{file}\", f\"./남성/{file}\")\n",
    "    else:\n",
    "        #print(\"여성\", end=' ,')\n",
    "        with open(f\"./data/{file}\", 'r', encoding='utf-8') as f:\n",
    "            female_list.append(['여성', f.read().replace(\",\",\"\")])\n",
    "        shutil.move(f\"./data/{file}\", f\"./여성/{file}\")"
   ]
  },
  {
   "cell_type": "code",
   "execution_count": 36,
   "id": "4cbf55f0-4b18-4a06-b16b-d8d58b238557",
   "metadata": {},
   "outputs": [],
   "source": [
    "male_df = pd.DataFrame(male_list, columns=['성별', '금액'])\n",
    "female_df = pd.DataFrame(female_list, columns=['성별', '금액'])"
   ]
  },
  {
   "cell_type": "code",
   "execution_count": 41,
   "id": "952ecf50-1afc-42f4-9e0c-9ef24085dc30",
   "metadata": {},
   "outputs": [],
   "source": [
    "df = pd.concat([male_df, female_df])"
   ]
  },
  {
   "cell_type": "code",
   "execution_count": 47,
   "id": "cba25544-6fb7-4778-927d-27b067d4d7ff",
   "metadata": {},
   "outputs": [],
   "source": [
    "df['금액'] = df['금액'].astype(int)"
   ]
  },
  {
   "cell_type": "code",
   "execution_count": 52,
   "id": "212b8254-d5b9-4f47-a5c3-521138098416",
   "metadata": {},
   "outputs": [],
   "source": [
    "df['금액2'] = list(map(int, df['금액']))"
   ]
  },
  {
   "cell_type": "code",
   "execution_count": 58,
   "id": "e05e7a69-00da-49ac-aa87-b5dee24d7ef2",
   "metadata": {},
   "outputs": [
    {
     "data": {
      "text/plain": [
       "성별\n",
       "남성    1.190018e+07\n",
       "여성    1.280237e+07\n",
       "Name: 금액, dtype: float64"
      ]
     },
     "execution_count": 58,
     "metadata": {},
     "output_type": "execute_result"
    }
   ],
   "source": [
    "df.groupby(['성별'])['금액'].mean()"
   ]
  },
  {
   "cell_type": "code",
   "execution_count": 63,
   "id": "de7e0b04-e1c0-4032-88fa-335848a58381",
   "metadata": {},
   "outputs": [
    {
     "data": {
      "text/plain": [
       "금액    1.280237e+07\n",
       "Name: 여성, dtype: float64"
      ]
     },
     "execution_count": 63,
     "metadata": {},
     "output_type": "execute_result"
    }
   ],
   "source": [
    "df.groupby(['성별'])[['금액']].mean().loc['여성']"
   ]
  },
  {
   "cell_type": "code",
   "execution_count": 65,
   "id": "fada7fe2-5fca-4f71-a4b4-5ddc32015f2e",
   "metadata": {},
   "outputs": [
    {
     "data": {
      "text/plain": [
       "성별                 여성\n",
       "금액    12802368.483323\n",
       "Name: 1, dtype: object"
      ]
     },
     "execution_count": 65,
     "metadata": {},
     "output_type": "execute_result"
    }
   ],
   "source": [
    "df.groupby(['성별'])[['금액']].mean().reset_index().loc[1]"
   ]
  },
  {
   "cell_type": "code",
   "execution_count": 66,
   "id": "a649a75f-3ec2-412a-971d-eea62d12627b",
   "metadata": {},
   "outputs": [
    {
     "data": {
      "text/html": [
       "<div>\n",
       "<style scoped>\n",
       "    .dataframe tbody tr th:only-of-type {\n",
       "        vertical-align: middle;\n",
       "    }\n",
       "\n",
       "    .dataframe tbody tr th {\n",
       "        vertical-align: top;\n",
       "    }\n",
       "\n",
       "    .dataframe thead th {\n",
       "        text-align: right;\n",
       "    }\n",
       "</style>\n",
       "<table border=\"1\" class=\"dataframe\">\n",
       "  <thead>\n",
       "    <tr style=\"text-align: right;\">\n",
       "      <th></th>\n",
       "      <th>금액</th>\n",
       "    </tr>\n",
       "    <tr>\n",
       "      <th>성별</th>\n",
       "      <th></th>\n",
       "    </tr>\n",
       "  </thead>\n",
       "  <tbody>\n",
       "    <tr>\n",
       "      <th>남성</th>\n",
       "      <td>1.190018e+07</td>\n",
       "    </tr>\n",
       "    <tr>\n",
       "      <th>여성</th>\n",
       "      <td>1.280237e+07</td>\n",
       "    </tr>\n",
       "  </tbody>\n",
       "</table>\n",
       "</div>"
      ],
      "text/plain": [
       "              금액\n",
       "성별              \n",
       "남성  1.190018e+07\n",
       "여성  1.280237e+07"
      ]
     },
     "execution_count": 66,
     "metadata": {},
     "output_type": "execute_result"
    }
   ],
   "source": [
    "df.groupby(['성별'])[['금액']].mean()"
   ]
  },
  {
   "cell_type": "code",
   "execution_count": 67,
   "id": "ff924d4f-5dd2-4000-89c1-64dfd6d57713",
   "metadata": {},
   "outputs": [
    {
     "data": {
      "text/plain": [
       "금액    1.280237e+07\n",
       "Name: 여성, dtype: float64"
      ]
     },
     "execution_count": 67,
     "metadata": {},
     "output_type": "execute_result"
    }
   ],
   "source": [
    "df.groupby(['성별'])[['금액']].mean().iloc[1]"
   ]
  },
  {
   "cell_type": "code",
   "execution_count": 61,
   "id": "ce87c613-28f8-4274-86b6-deff2737926a",
   "metadata": {},
   "outputs": [
    {
     "data": {
      "text/html": [
       "<div>\n",
       "<style scoped>\n",
       "    .dataframe tbody tr th:only-of-type {\n",
       "        vertical-align: middle;\n",
       "    }\n",
       "\n",
       "    .dataframe tbody tr th {\n",
       "        vertical-align: top;\n",
       "    }\n",
       "\n",
       "    .dataframe thead th {\n",
       "        text-align: right;\n",
       "    }\n",
       "</style>\n",
       "<table border=\"1\" class=\"dataframe\">\n",
       "  <thead>\n",
       "    <tr style=\"text-align: right;\">\n",
       "      <th></th>\n",
       "      <th>성별</th>\n",
       "      <th>금액</th>\n",
       "    </tr>\n",
       "  </thead>\n",
       "  <tbody>\n",
       "    <tr>\n",
       "      <th>0</th>\n",
       "      <td>남성</td>\n",
       "      <td>1.190018e+07</td>\n",
       "    </tr>\n",
       "    <tr>\n",
       "      <th>1</th>\n",
       "      <td>여성</td>\n",
       "      <td>1.280237e+07</td>\n",
       "    </tr>\n",
       "  </tbody>\n",
       "</table>\n",
       "</div>"
      ],
      "text/plain": [
       "   성별            금액\n",
       "0  남성  1.190018e+07\n",
       "1  여성  1.280237e+07"
      ]
     },
     "execution_count": 61,
     "metadata": {},
     "output_type": "execute_result"
    }
   ],
   "source": [
    "df.groupby(['성별'], as_index=False)[['금액']].mean()"
   ]
  },
  {
   "cell_type": "code",
   "execution_count": 70,
   "id": "cc3630fa-959a-4cd6-bf4c-327d957a9bce",
   "metadata": {},
   "outputs": [
    {
     "data": {
      "text/html": [
       "<div>\n",
       "<style scoped>\n",
       "    .dataframe tbody tr th:only-of-type {\n",
       "        vertical-align: middle;\n",
       "    }\n",
       "\n",
       "    .dataframe tbody tr th {\n",
       "        vertical-align: top;\n",
       "    }\n",
       "\n",
       "    .dataframe thead tr th {\n",
       "        text-align: left;\n",
       "    }\n",
       "</style>\n",
       "<table border=\"1\" class=\"dataframe\">\n",
       "  <thead>\n",
       "    <tr>\n",
       "      <th></th>\n",
       "      <th>성별</th>\n",
       "      <th colspan=\"5\" halign=\"left\">금액</th>\n",
       "    </tr>\n",
       "    <tr>\n",
       "      <th></th>\n",
       "      <th></th>\n",
       "      <th>mean</th>\n",
       "      <th>median</th>\n",
       "      <th>var</th>\n",
       "      <th>std</th>\n",
       "      <th>count</th>\n",
       "    </tr>\n",
       "  </thead>\n",
       "  <tbody>\n",
       "    <tr>\n",
       "      <th>0</th>\n",
       "      <td>남성</td>\n",
       "      <td>1.190018e+07</td>\n",
       "      <td>90329.0</td>\n",
       "      <td>6.400252e+14</td>\n",
       "      <td>2.529872e+07</td>\n",
       "      <td>4993</td>\n",
       "    </tr>\n",
       "    <tr>\n",
       "      <th>1</th>\n",
       "      <td>여성</td>\n",
       "      <td>1.280237e+07</td>\n",
       "      <td>96714.0</td>\n",
       "      <td>6.834308e+14</td>\n",
       "      <td>2.614251e+07</td>\n",
       "      <td>5007</td>\n",
       "    </tr>\n",
       "  </tbody>\n",
       "</table>\n",
       "</div>"
      ],
      "text/plain": [
       "   성별            금액                                           \n",
       "               mean   median           var           std count\n",
       "0  남성  1.190018e+07  90329.0  6.400252e+14  2.529872e+07  4993\n",
       "1  여성  1.280237e+07  96714.0  6.834308e+14  2.614251e+07  5007"
      ]
     },
     "execution_count": 70,
     "metadata": {},
     "output_type": "execute_result"
    }
   ],
   "source": [
    "# agg -> aggregate\n",
    "# avg -> mean \n",
    "df.groupby(['성별'], as_index=False)[['금액']].agg(['mean','median', 'var', 'std', 'count'])"
   ]
  },
  {
   "cell_type": "code",
   "execution_count": 78,
   "id": "88cfea4b-7d4e-46f6-9a2c-6a246c327b9e",
   "metadata": {},
   "outputs": [],
   "source": [
    "import pickle\n",
    "with open(\"./kbo_detail.pkl\", \"rb\") as f:\n",
    "    kbo = pickle.load(f)"
   ]
  },
  {
   "cell_type": "code",
   "execution_count": 74,
   "id": "03c59abf-7dde-45be-9ef4-a3147d4433e7",
   "metadata": {},
   "outputs": [],
   "source": [
    "data = {'df' : df ,\n",
    " 'kbo' : kbo}"
   ]
  },
  {
   "cell_type": "code",
   "execution_count": 76,
   "id": "627c2b27-28b2-45a9-b9f8-fc6e0ef5a412",
   "metadata": {},
   "outputs": [],
   "source": [
    "import pickle\n",
    "with open(\"./tmp.pkl\", \"wb\") as f:\n",
    "    pickle.dump(data, f)"
   ]
  },
  {
   "cell_type": "code",
   "execution_count": 84,
   "id": "edfbe524-346a-4cab-aa57-5705d57f68b6",
   "metadata": {},
   "outputs": [],
   "source": [
    "kbo['초등'] = kbo['경력'].apply(lambda x : x.split(\"-\")[0])"
   ]
  },
  {
   "cell_type": "code",
   "execution_count": 89,
   "id": "2dc3de6f-b12d-4279-bd34-f51fcf72cada",
   "metadata": {},
   "outputs": [
    {
     "data": {
      "text/plain": [
       "초등\n",
       "부산수영초    19\n",
       "가동초      14\n",
       "양정초      14\n",
       "본리초      13\n",
       "광주대성초    13\n",
       "성동초      13\n",
       "송정동초     12\n",
       "광주수창초    12\n",
       "화곡초      11\n",
       "광주서석초    11\n",
       "Name: 선수명, dtype: int64"
      ]
     },
     "execution_count": 89,
     "metadata": {},
     "output_type": "execute_result"
    }
   ],
   "source": [
    "kbo.groupby(['초등'])['선수명'].count().sort_values()[::-1].head(10)"
   ]
  },
  {
   "cell_type": "code",
   "execution_count": 96,
   "id": "af6fdaa2-783e-4afa-a518-02234b708f2b",
   "metadata": {},
   "outputs": [
    {
     "data": {
      "text/plain": [
       "초등\n",
       "부산수영초           19\n",
       "가동초             14\n",
       "양정초             14\n",
       "광주대성초           13\n",
       "본리초             13\n",
       "                ..\n",
       "부산대연초(남구리틀)      1\n",
       "부산대연초(사상구리틀)     1\n",
       "부산안락초(해운대리틀)     1\n",
       "부산인지초(해운대리틀)     1\n",
       "서울온곡초(광진구리틀)     1\n",
       "Name: 선수명, Length: 350, dtype: int64"
      ]
     },
     "execution_count": 96,
     "metadata": {},
     "output_type": "execute_result"
    }
   ],
   "source": [
    "kbo.groupby(['초등'])['선수명'].count().sort_values(ascending=False) "
   ]
  },
  {
   "cell_type": "code",
   "execution_count": 98,
   "id": "bdf6e3ed-a17e-4a48-a6d7-c7b7c7146152",
   "metadata": {},
   "outputs": [
    {
     "data": {
      "text/plain": [
       "초등          \n",
       "부산수영초           0.022512\n",
       "가동초             0.016588\n",
       "양정초             0.016588\n",
       "광주대성초           0.015403\n",
       "본리초             0.015403\n",
       "                  ...   \n",
       "부산대연초(남구리틀)     0.001185\n",
       "부산대연초(사상구리틀)    0.001185\n",
       "부산안락초(해운대리틀)    0.001185\n",
       "부산인지초(해운대리틀)    0.001185\n",
       "서울온곡초(광진구리틀)    0.001185\n",
       "Name: proportion, Length: 350, dtype: float64"
      ]
     },
     "execution_count": 98,
     "metadata": {},
     "output_type": "execute_result"
    }
   ],
   "source": [
    "kbo.value_counts(['초등'], normalize=True)"
   ]
  },
  {
   "cell_type": "code",
   "execution_count": 103,
   "id": "31e79f86-cefc-4339-8367-77a4c8d1da75",
   "metadata": {},
   "outputs": [],
   "source": [
    "from datetime import date, datetime "
   ]
  },
  {
   "cell_type": "code",
   "execution_count": 107,
   "id": "293c6725-bd86-442e-9c24-d57b779c88fd",
   "metadata": {},
   "outputs": [
    {
     "data": {
      "text/plain": [
       "datetime.datetime(1997, 4, 3, 0, 0)"
      ]
     },
     "execution_count": 107,
     "metadata": {},
     "output_type": "execute_result"
    }
   ],
   "source": [
    "datetime.strptime(\"1997년 04월 03일\", \"%Y년 %m월 %d일\")"
   ]
  },
  {
   "cell_type": "code",
   "execution_count": 110,
   "id": "04ec17bf-c267-406e-8b5c-079dba1df754",
   "metadata": {},
   "outputs": [],
   "source": [
    "kbo['생년월일'] = kbo['생년월일'].apply(lambda x : datetime.strptime(x.strip(), \"%Y년 %m월 %d일\"))"
   ]
  },
  {
   "cell_type": "code",
   "execution_count": 118,
   "id": "6350d73c-2be5-416c-9eb2-b49cb9ac79b4",
   "metadata": {},
   "outputs": [],
   "source": [
    "kbo['생존일'] = kbo['생년월일'].apply(lambda x : (datetime.now() - x).days)"
   ]
  },
  {
   "cell_type": "code",
   "execution_count": 123,
   "id": "a642d026-2d58-4d0c-8e2f-4651c7132b88",
   "metadata": {},
   "outputs": [
    {
     "data": {
      "text/html": [
       "<div>\n",
       "<style scoped>\n",
       "    .dataframe tbody tr th:only-of-type {\n",
       "        vertical-align: middle;\n",
       "    }\n",
       "\n",
       "    .dataframe tbody tr th {\n",
       "        vertical-align: top;\n",
       "    }\n",
       "\n",
       "    .dataframe thead th {\n",
       "        text-align: right;\n",
       "    }\n",
       "</style>\n",
       "<table border=\"1\" class=\"dataframe\">\n",
       "  <thead>\n",
       "    <tr style=\"text-align: right;\">\n",
       "      <th></th>\n",
       "      <th>선수명</th>\n",
       "      <th>등번호</th>\n",
       "      <th>생년월일</th>\n",
       "      <th>포지션</th>\n",
       "      <th>신장/체중</th>\n",
       "      <th>경력</th>\n",
       "      <th>입단 계약금</th>\n",
       "      <th>연봉</th>\n",
       "      <th>지명순위</th>\n",
       "      <th>입단년도</th>\n",
       "      <th>team</th>\n",
       "      <th>초등</th>\n",
       "      <th>생존일</th>\n",
       "    </tr>\n",
       "  </thead>\n",
       "  <tbody>\n",
       "    <tr>\n",
       "      <th>251</th>\n",
       "      <td>추신수</td>\n",
       "      <td>No.17</td>\n",
       "      <td>1982-07-13</td>\n",
       "      <td>외야수(좌투좌타)</td>\n",
       "      <td>180cm/97kg</td>\n",
       "      <td>부산수영초-부산중-부산고-SK</td>\n",
       "      <td></td>\n",
       "      <td>3000만원</td>\n",
       "      <td>07 해외진출선수 특별지명</td>\n",
       "      <td>00시애틀</td>\n",
       "      <td>SSG 랜더스</td>\n",
       "      <td>부산수영초</td>\n",
       "      <td>15245</td>\n",
       "    </tr>\n",
       "    <tr>\n",
       "      <th>718</th>\n",
       "      <td>오승환</td>\n",
       "      <td>No.21</td>\n",
       "      <td>1982-07-15</td>\n",
       "      <td>투수(우투우타)</td>\n",
       "      <td>178cm/93kg</td>\n",
       "      <td>도신초-우신중-경기고-단국대-삼성-한신-세인트루이스-토론토-콜로라도</td>\n",
       "      <td>18000만원</td>\n",
       "      <td>40000만원</td>\n",
       "      <td>05 삼성 2차 1라운드 5순위</td>\n",
       "      <td>05삼성</td>\n",
       "      <td>삼성 라이온즈</td>\n",
       "      <td>도신초</td>\n",
       "      <td>15243</td>\n",
       "    </tr>\n",
       "    <tr>\n",
       "      <th>4</th>\n",
       "      <td>김강민</td>\n",
       "      <td>No.9</td>\n",
       "      <td>1982-09-13</td>\n",
       "      <td>외야수(우투우타)</td>\n",
       "      <td>182cm/87kg</td>\n",
       "      <td>본리초-대구중-경북고-SK-SSG</td>\n",
       "      <td>11000만원</td>\n",
       "      <td>11000만원</td>\n",
       "      <td>01 SK 2차 2라운드 18순위</td>\n",
       "      <td>01SK</td>\n",
       "      <td>한화 이글스</td>\n",
       "      <td>본리초</td>\n",
       "      <td>15183</td>\n",
       "    </tr>\n",
       "  </tbody>\n",
       "</table>\n",
       "</div>"
      ],
      "text/plain": [
       "      선수명     등번호       생년월일         포지션        신장/체중  \\\n",
       "251   추신수   No.17 1982-07-13   외야수(좌투좌타)   180cm/97kg   \n",
       "718   오승환   No.21 1982-07-15    투수(우투우타)   178cm/93kg   \n",
       "4     김강민    No.9 1982-09-13   외야수(우투우타)   182cm/87kg   \n",
       "\n",
       "                                         경력    입단 계약금        연봉  \\\n",
       "251                        부산수영초-부산중-부산고-SK              3000만원   \n",
       "718   도신초-우신중-경기고-단국대-삼성-한신-세인트루이스-토론토-콜로라도   18000만원   40000만원   \n",
       "4                        본리초-대구중-경북고-SK-SSG   11000만원   11000만원   \n",
       "\n",
       "                    지명순위    입단년도     team      초등    생존일  \n",
       "251       07 해외진출선수 특별지명   00시애틀  SSG 랜더스   부산수영초  15245  \n",
       "718    05 삼성 2차 1라운드 5순위    05삼성  삼성 라이온즈     도신초  15243  \n",
       "4     01 SK 2차 2라운드 18순위    01SK   한화 이글스     본리초  15183  "
      ]
     },
     "execution_count": 123,
     "metadata": {},
     "output_type": "execute_result"
    }
   ],
   "source": [
    "kbo.sort_values(by=['생존일', '선수명'], ascending=[False, True]).head(3)"
   ]
  },
  {
   "cell_type": "code",
   "execution_count": 126,
   "id": "0f73900d-7509-4ef7-9aa0-582bf83f38b9",
   "metadata": {},
   "outputs": [],
   "source": [
    "kbo['나이'] = kbo['생년월일'].apply(lambda x : datetime.now().year - x.year)"
   ]
  },
  {
   "cell_type": "code",
   "execution_count": 129,
   "id": "771b44d8-1cd2-4bd4-a45c-655023ae7b2e",
   "metadata": {},
   "outputs": [
    {
     "data": {
      "text/plain": [
       "array(['한화 이글스', 'KIA 타이거즈', 'SSG 랜더스', 'NC 다이노스', 'LG 트윈스', '키움 히어로즈',\n",
       "       '고양 히어로즈', '두산 베어스', '롯데 자이언츠', '삼성 라이온즈', 'KT 위즈'], dtype=object)"
      ]
     },
     "execution_count": 129,
     "metadata": {},
     "output_type": "execute_result"
    }
   ],
   "source": [
    "kbo.team.unique()"
   ]
  },
  {
   "cell_type": "code",
   "execution_count": 135,
   "id": "7bb30926-751a-422f-90c6-228afaf0e221",
   "metadata": {},
   "outputs": [],
   "source": [
    "kbo.loc[kbo.team == \"고양 히어로즈\", 'team']  = '키움 히어로즈'"
   ]
  },
  {
   "cell_type": "code",
   "execution_count": 138,
   "id": "9c6eb810-8056-46ba-ae51-6797dd2fe7ab",
   "metadata": {},
   "outputs": [
    {
     "data": {
      "text/html": [
       "<div>\n",
       "<style scoped>\n",
       "    .dataframe tbody tr th:only-of-type {\n",
       "        vertical-align: middle;\n",
       "    }\n",
       "\n",
       "    .dataframe tbody tr th {\n",
       "        vertical-align: top;\n",
       "    }\n",
       "\n",
       "    .dataframe thead th {\n",
       "        text-align: right;\n",
       "    }\n",
       "</style>\n",
       "<table border=\"1\" class=\"dataframe\">\n",
       "  <thead>\n",
       "    <tr style=\"text-align: right;\">\n",
       "      <th></th>\n",
       "      <th>mean</th>\n",
       "      <th>median</th>\n",
       "      <th>var</th>\n",
       "    </tr>\n",
       "    <tr>\n",
       "      <th>team</th>\n",
       "      <th></th>\n",
       "      <th></th>\n",
       "      <th></th>\n",
       "    </tr>\n",
       "  </thead>\n",
       "  <tbody>\n",
       "    <tr>\n",
       "      <th>KIA 타이거즈</th>\n",
       "      <td>25.988095</td>\n",
       "      <td>25.0</td>\n",
       "      <td>25.698652</td>\n",
       "    </tr>\n",
       "    <tr>\n",
       "      <th>KT 위즈</th>\n",
       "      <td>26.275862</td>\n",
       "      <td>25.0</td>\n",
       "      <td>28.504411</td>\n",
       "    </tr>\n",
       "    <tr>\n",
       "      <th>LG 트윈스</th>\n",
       "      <td>26.013514</td>\n",
       "      <td>25.0</td>\n",
       "      <td>23.027212</td>\n",
       "    </tr>\n",
       "    <tr>\n",
       "      <th>NC 다이노스</th>\n",
       "      <td>25.112360</td>\n",
       "      <td>24.0</td>\n",
       "      <td>20.214505</td>\n",
       "    </tr>\n",
       "    <tr>\n",
       "      <th>SSG 랜더스</th>\n",
       "      <td>26.259259</td>\n",
       "      <td>25.0</td>\n",
       "      <td>34.419444</td>\n",
       "    </tr>\n",
       "    <tr>\n",
       "      <th>두산 베어스</th>\n",
       "      <td>25.678571</td>\n",
       "      <td>25.0</td>\n",
       "      <td>23.064114</td>\n",
       "    </tr>\n",
       "    <tr>\n",
       "      <th>롯데 자이언츠</th>\n",
       "      <td>26.152941</td>\n",
       "      <td>25.0</td>\n",
       "      <td>30.131092</td>\n",
       "    </tr>\n",
       "    <tr>\n",
       "      <th>삼성 라이온즈</th>\n",
       "      <td>26.329412</td>\n",
       "      <td>25.0</td>\n",
       "      <td>32.961625</td>\n",
       "    </tr>\n",
       "    <tr>\n",
       "      <th>키움 히어로즈</th>\n",
       "      <td>24.719512</td>\n",
       "      <td>24.0</td>\n",
       "      <td>25.191960</td>\n",
       "    </tr>\n",
       "    <tr>\n",
       "      <th>한화 이글스</th>\n",
       "      <td>25.892473</td>\n",
       "      <td>24.0</td>\n",
       "      <td>26.118747</td>\n",
       "    </tr>\n",
       "  </tbody>\n",
       "</table>\n",
       "</div>"
      ],
      "text/plain": [
       "               mean  median        var\n",
       "team                                  \n",
       "KIA 타이거즈  25.988095    25.0  25.698652\n",
       "KT 위즈     26.275862    25.0  28.504411\n",
       "LG 트윈스    26.013514    25.0  23.027212\n",
       "NC 다이노스   25.112360    24.0  20.214505\n",
       "SSG 랜더스   26.259259    25.0  34.419444\n",
       "두산 베어스    25.678571    25.0  23.064114\n",
       "롯데 자이언츠   26.152941    25.0  30.131092\n",
       "삼성 라이온즈   26.329412    25.0  32.961625\n",
       "키움 히어로즈   24.719512    24.0  25.191960\n",
       "한화 이글스    25.892473    24.0  26.118747"
      ]
     },
     "execution_count": 138,
     "metadata": {},
     "output_type": "execute_result"
    }
   ],
   "source": [
    "kbo.groupby(['team'])['나이'].agg(['mean', 'median', 'var'])"
   ]
  },
  {
   "cell_type": "code",
   "execution_count": 141,
   "id": "472cda4f-9a15-4877-a21a-3a5121cba9d2",
   "metadata": {},
   "outputs": [
    {
     "data": {
      "text/plain": [
       "나이\n",
       "23    10\n",
       "25     9\n",
       "21     8\n",
       "20     7\n",
       "22     6\n",
       "Name: count, dtype: int64"
      ]
     },
     "execution_count": 141,
     "metadata": {},
     "output_type": "execute_result"
    }
   ],
   "source": [
    "kbo[kbo.team == \"삼성 라이온즈\"].value_counts(\"나이\").head(5)"
   ]
  },
  {
   "cell_type": "code",
   "execution_count": 146,
   "id": "e0acedec-4acb-4e8d-9508-5585814606d1",
   "metadata": {},
   "outputs": [
    {
     "data": {
      "text/plain": [
       "나이\n",
       "20    0.195122\n",
       "19    0.292683\n",
       "24    0.390244\n",
       "23    0.475610\n",
       "25    0.548780\n",
       "Name: proportion, dtype: float64"
      ]
     },
     "execution_count": 146,
     "metadata": {},
     "output_type": "execute_result"
    }
   ],
   "source": [
    "kbo[kbo.team == \"키움 히어로즈\"].value_counts(\"나이\", normalize=True).head(5).cumsum()"
   ]
  },
  {
   "cell_type": "code",
   "execution_count": 147,
   "id": "b4054f2e-6fa0-44ec-a357-5526718ea9f6",
   "metadata": {
    "scrolled": true
   },
   "outputs": [
    {
     "data": {
      "text/html": [
       "<div>\n",
       "<style scoped>\n",
       "    .dataframe tbody tr th:only-of-type {\n",
       "        vertical-align: middle;\n",
       "    }\n",
       "\n",
       "    .dataframe tbody tr th {\n",
       "        vertical-align: top;\n",
       "    }\n",
       "\n",
       "    .dataframe thead th {\n",
       "        text-align: right;\n",
       "    }\n",
       "</style>\n",
       "<table border=\"1\" class=\"dataframe\">\n",
       "  <thead>\n",
       "    <tr style=\"text-align: right;\">\n",
       "      <th></th>\n",
       "      <th>선수명</th>\n",
       "      <th>등번호</th>\n",
       "      <th>생년월일</th>\n",
       "      <th>포지션</th>\n",
       "      <th>신장/체중</th>\n",
       "      <th>경력</th>\n",
       "      <th>입단 계약금</th>\n",
       "      <th>연봉</th>\n",
       "      <th>지명순위</th>\n",
       "      <th>입단년도</th>\n",
       "      <th>team</th>\n",
       "      <th>초등</th>\n",
       "      <th>생존일</th>\n",
       "      <th>나이</th>\n",
       "    </tr>\n",
       "  </thead>\n",
       "  <tbody>\n",
       "    <tr>\n",
       "      <th>0</th>\n",
       "      <td>강재민</td>\n",
       "      <td>No.</td>\n",
       "      <td>1997-04-03</td>\n",
       "      <td>투수(우언우타)</td>\n",
       "      <td>180cm/89kg</td>\n",
       "      <td>양덕초-마산중-용마고-단국대</td>\n",
       "      <td>8000만원</td>\n",
       "      <td>14500만원</td>\n",
       "      <td>20 한화 2차 4라운드 38순위</td>\n",
       "      <td>20한화</td>\n",
       "      <td>한화 이글스</td>\n",
       "      <td>양덕초</td>\n",
       "      <td>9867</td>\n",
       "      <td>27</td>\n",
       "    </tr>\n",
       "    <tr>\n",
       "      <th>1</th>\n",
       "      <td>권광민</td>\n",
       "      <td>No.17</td>\n",
       "      <td>1997-12-12</td>\n",
       "      <td>외야수(좌투좌타)</td>\n",
       "      <td>189cm/102kg</td>\n",
       "      <td>서울청구초-홍은중-장충고</td>\n",
       "      <td></td>\n",
       "      <td>3300만원</td>\n",
       "      <td>22 한화 2차 5라운드 41순위</td>\n",
       "      <td>16시카고컵스</td>\n",
       "      <td>한화 이글스</td>\n",
       "      <td>서울청구초</td>\n",
       "      <td>9614</td>\n",
       "      <td>27</td>\n",
       "    </tr>\n",
       "    <tr>\n",
       "      <th>2</th>\n",
       "      <td>권동욱</td>\n",
       "      <td>No.02</td>\n",
       "      <td>2001-01-08</td>\n",
       "      <td>외야수(우투우타)</td>\n",
       "      <td>173cm/85kg</td>\n",
       "      <td>가동초-휘문중-배명고-동국대</td>\n",
       "      <td></td>\n",
       "      <td>3000만원</td>\n",
       "      <td>24 한화 육성선수</td>\n",
       "      <td></td>\n",
       "      <td>한화 이글스</td>\n",
       "      <td>가동초</td>\n",
       "      <td>8491</td>\n",
       "      <td>23</td>\n",
       "    </tr>\n",
       "    <tr>\n",
       "      <th>3</th>\n",
       "      <td>권현</td>\n",
       "      <td>No.111</td>\n",
       "      <td>2005-02-23</td>\n",
       "      <td>외야수(우투우타)</td>\n",
       "      <td>182cm/88kg</td>\n",
       "      <td>사당초-언북중-장충고</td>\n",
       "      <td>3000만원</td>\n",
       "      <td>3000만원</td>\n",
       "      <td>24 한화 10라운드 91순위</td>\n",
       "      <td></td>\n",
       "      <td>한화 이글스</td>\n",
       "      <td>사당초</td>\n",
       "      <td>6984</td>\n",
       "      <td>19</td>\n",
       "    </tr>\n",
       "    <tr>\n",
       "      <th>4</th>\n",
       "      <td>김강민</td>\n",
       "      <td>No.9</td>\n",
       "      <td>1982-09-13</td>\n",
       "      <td>외야수(우투우타)</td>\n",
       "      <td>182cm/87kg</td>\n",
       "      <td>본리초-대구중-경북고-SK-SSG</td>\n",
       "      <td>11000만원</td>\n",
       "      <td>11000만원</td>\n",
       "      <td>01 SK 2차 2라운드 18순위</td>\n",
       "      <td>01SK</td>\n",
       "      <td>한화 이글스</td>\n",
       "      <td>본리초</td>\n",
       "      <td>15183</td>\n",
       "      <td>42</td>\n",
       "    </tr>\n",
       "    <tr>\n",
       "      <th>...</th>\n",
       "      <td>...</td>\n",
       "      <td>...</td>\n",
       "      <td>...</td>\n",
       "      <td>...</td>\n",
       "      <td>...</td>\n",
       "      <td>...</td>\n",
       "      <td>...</td>\n",
       "      <td>...</td>\n",
       "      <td>...</td>\n",
       "      <td>...</td>\n",
       "      <td>...</td>\n",
       "      <td>...</td>\n",
       "      <td>...</td>\n",
       "      <td>...</td>\n",
       "    </tr>\n",
       "    <tr>\n",
       "      <th>839</th>\n",
       "      <td>한민우</td>\n",
       "      <td>No.96</td>\n",
       "      <td>1999-04-27</td>\n",
       "      <td>투수(좌투좌타)</td>\n",
       "      <td>177cm/82kg</td>\n",
       "      <td>동일중앙초-경남중-경남고</td>\n",
       "      <td>1000만원</td>\n",
       "      <td>3000만원</td>\n",
       "      <td>23 KT 육성선수</td>\n",
       "      <td></td>\n",
       "      <td>KT 위즈</td>\n",
       "      <td>동일중앙초</td>\n",
       "      <td>9113</td>\n",
       "      <td>25</td>\n",
       "    </tr>\n",
       "    <tr>\n",
       "      <th>840</th>\n",
       "      <td>한차현</td>\n",
       "      <td>No.59</td>\n",
       "      <td>1998-11-30</td>\n",
       "      <td>투수(우투우타)</td>\n",
       "      <td>180cm/80kg</td>\n",
       "      <td>사능초(남양주리틀)-청원중-포항제철고-성균관대</td>\n",
       "      <td>10000만원</td>\n",
       "      <td>3100만원</td>\n",
       "      <td>21 KT 2차 2라운드 15순위</td>\n",
       "      <td>21KT</td>\n",
       "      <td>KT 위즈</td>\n",
       "      <td>사능초(남양주리틀)</td>\n",
       "      <td>9261</td>\n",
       "      <td>26</td>\n",
       "    </tr>\n",
       "    <tr>\n",
       "      <th>841</th>\n",
       "      <td>홍현빈</td>\n",
       "      <td>No.31</td>\n",
       "      <td>1997-08-29</td>\n",
       "      <td>외야수(우투좌타)</td>\n",
       "      <td>174cm/70kg</td>\n",
       "      <td>수원신곡초-매송중-유신고-KT-상무</td>\n",
       "      <td>9000만원</td>\n",
       "      <td>4500만원</td>\n",
       "      <td>17 KT 2차 3라운드 21순위</td>\n",
       "      <td>17KT</td>\n",
       "      <td>KT 위즈</td>\n",
       "      <td>수원신곡초</td>\n",
       "      <td>9719</td>\n",
       "      <td>27</td>\n",
       "    </tr>\n",
       "    <tr>\n",
       "      <th>842</th>\n",
       "      <td>황의준</td>\n",
       "      <td>No.103</td>\n",
       "      <td>2002-04-06</td>\n",
       "      <td>외야수(우투좌타)</td>\n",
       "      <td>185cm/95kg</td>\n",
       "      <td>칠성초-경복중-경북고-수성대</td>\n",
       "      <td>4000만원</td>\n",
       "      <td>3000만원</td>\n",
       "      <td>23 KT 8라운드 80순위</td>\n",
       "      <td></td>\n",
       "      <td>KT 위즈</td>\n",
       "      <td>칠성초</td>\n",
       "      <td>8038</td>\n",
       "      <td>22</td>\n",
       "    </tr>\n",
       "    <tr>\n",
       "      <th>843</th>\n",
       "      <td>황재균</td>\n",
       "      <td>No.10</td>\n",
       "      <td>1987-07-28</td>\n",
       "      <td>내야수(우투우타)</td>\n",
       "      <td>183cm/96kg</td>\n",
       "      <td>사당초-서울이수중-경기고-현대-히어로즈-롯데-샌프란시스코</td>\n",
       "      <td>6000만원</td>\n",
       "      <td>100000만원</td>\n",
       "      <td>06 현대 2차 3라운드 24순위</td>\n",
       "      <td>06현대</td>\n",
       "      <td>KT 위즈</td>\n",
       "      <td>사당초</td>\n",
       "      <td>13404</td>\n",
       "      <td>37</td>\n",
       "    </tr>\n",
       "  </tbody>\n",
       "</table>\n",
       "<p>844 rows × 14 columns</p>\n",
       "</div>"
      ],
      "text/plain": [
       "      선수명      등번호       생년월일         포지션         신장/체중  \\\n",
       "0     강재민      No. 1997-04-03    투수(우언우타)    180cm/89kg   \n",
       "1     권광민    No.17 1997-12-12   외야수(좌투좌타)   189cm/102kg   \n",
       "2     권동욱    No.02 2001-01-08   외야수(우투우타)    173cm/85kg   \n",
       "3      권현   No.111 2005-02-23   외야수(우투우타)    182cm/88kg   \n",
       "4     김강민     No.9 1982-09-13   외야수(우투우타)    182cm/87kg   \n",
       "..    ...      ...        ...         ...           ...   \n",
       "839   한민우    No.96 1999-04-27    투수(좌투좌타)    177cm/82kg   \n",
       "840   한차현    No.59 1998-11-30    투수(우투우타)    180cm/80kg   \n",
       "841   홍현빈    No.31 1997-08-29   외야수(우투좌타)    174cm/70kg   \n",
       "842   황의준   No.103 2002-04-06   외야수(우투좌타)    185cm/95kg   \n",
       "843   황재균    No.10 1987-07-28   내야수(우투우타)    183cm/96kg   \n",
       "\n",
       "                                   경력    입단 계약금         연봉  \\\n",
       "0                     양덕초-마산중-용마고-단국대    8000만원    14500만원   \n",
       "1                       서울청구초-홍은중-장충고               3300만원   \n",
       "2                     가동초-휘문중-배명고-동국대               3000만원   \n",
       "3                         사당초-언북중-장충고    3000만원     3000만원   \n",
       "4                  본리초-대구중-경북고-SK-SSG   11000만원    11000만원   \n",
       "..                                ...       ...        ...   \n",
       "839                     동일중앙초-경남중-경남고    1000만원     3000만원   \n",
       "840         사능초(남양주리틀)-청원중-포항제철고-성균관대   10000만원     3100만원   \n",
       "841               수원신곡초-매송중-유신고-KT-상무    9000만원     4500만원   \n",
       "842                   칠성초-경복중-경북고-수성대    4000만원     3000만원   \n",
       "843   사당초-서울이수중-경기고-현대-히어로즈-롯데-샌프란시스코    6000만원   100000만원   \n",
       "\n",
       "                    지명순위      입단년도    team           초등    생존일  나이  \n",
       "0     20 한화 2차 4라운드 38순위      20한화  한화 이글스          양덕초   9867  27  \n",
       "1     22 한화 2차 5라운드 41순위   16시카고컵스  한화 이글스        서울청구초   9614  27  \n",
       "2             24 한화 육성선수            한화 이글스          가동초   8491  23  \n",
       "3       24 한화 10라운드 91순위            한화 이글스          사당초   6984  19  \n",
       "4     01 SK 2차 2라운드 18순위      01SK  한화 이글스          본리초  15183  42  \n",
       "..                   ...       ...     ...          ...    ...  ..  \n",
       "839           23 KT 육성선수             KT 위즈        동일중앙초   9113  25  \n",
       "840   21 KT 2차 2라운드 15순위      21KT   KT 위즈   사능초(남양주리틀)   9261  26  \n",
       "841   17 KT 2차 3라운드 21순위      17KT   KT 위즈        수원신곡초   9719  27  \n",
       "842      23 KT 8라운드 80순위             KT 위즈          칠성초   8038  22  \n",
       "843   06 현대 2차 3라운드 24순위      06현대   KT 위즈          사당초  13404  37  \n",
       "\n",
       "[844 rows x 14 columns]"
      ]
     },
     "execution_count": 147,
     "metadata": {},
     "output_type": "execute_result"
    }
   ],
   "source": [
    "kbo"
   ]
  },
  {
   "cell_type": "code",
   "execution_count": 166,
   "id": "f8880944-e21b-4d28-943e-0021160437bd",
   "metadata": {},
   "outputs": [
    {
     "data": {
      "text/plain": [
       "<input name=\"CSRFToken\" type=\"hidden\" value=\"90492b27-2a5c-46dc-8c91-d21c7b9b7c6e\"/>"
      ]
     },
     "execution_count": 166,
     "metadata": {},
     "output_type": "execute_result"
    }
   ],
   "source": [
    "import requests \n",
    "from bs4 import BeautifulSoup as BS \n",
    "\n",
    "r= requests.get(\"http://gs25.gsretail.com/gscvs/ko/store-services/locations\")\n",
    "\n",
    "bs = BS(r.text)\n",
    "\n",
    "#<form id=\"CSRFForm\" action=\"/gscvs/ko/store-services/locations\" method=\"post\"><input type=\"hidden\" name=\"CSRFToken\" value=\"406690e8-0340-4931-b372-4b5519577c3c\" />\n",
    "bs.find(\"input\", {'name': \"CSRFToken\"})"
   ]
  },
  {
   "cell_type": "code",
   "execution_count": 207,
   "id": "bc61639d-0041-4dd1-9cf1-7a502b92c6db",
   "metadata": {},
   "outputs": [
    {
     "data": {
      "text/plain": [
       "173.8"
      ]
     },
     "execution_count": 207,
     "metadata": {},
     "output_type": "execute_result"
    }
   ],
   "source": [
    "3476 * 5 / 100"
   ]
  },
  {
   "cell_type": "code",
   "execution_count": 208,
   "id": "a416d1de-cdaf-4aa2-ae87-7f9b1b4aa547",
   "metadata": {},
   "outputs": [
    {
     "name": "stdout",
     "output_type": "stream",
     "text": [
      "10\n",
      "20\n",
      "30\n",
      "40\n",
      "50\n",
      "60\n",
      "70\n",
      "80\n",
      "90\n",
      "100\n",
      "110\n",
      "120\n",
      "130\n",
      "140\n",
      "150\n",
      "160\n",
      "170\n"
     ]
    }
   ],
   "source": [
    "payload = {\"pageNum\": \"1\",\n",
    "\"pageSize\": \"5\",\n",
    "\"searchShopName\": \"\",\n",
    "\"searchSido\": \"\",\n",
    "\"searchGugun\": \"\",\n",
    "\"searchDong\": \"\",\n",
    "\"searchType\": \"\",\n",
    "\"searchTypeService\": \"0\",\n",
    "\"searchTypeToto\": \"0\",\n",
    "\"searchTypeCafe25\": \"0\",\n",
    "\"searchTypeInstant\": \"0\",\n",
    "\"searchTypeDrug\": \"0\",\n",
    "\"searchTypeSelf25\": \"0\",\n",
    "\"searchTypePost\": \"0\",\n",
    "\"searchTypeATM\": \"0\",\n",
    "\"searchTypeWithdrawal\": \"0\",\n",
    "\"searchTypeTaxrefund\": \"0\",\n",
    "\"searchTypeSmartAtm\": \"0\",\n",
    "\"searchTypeSelfCookingUtensils\": \"0\",\n",
    "\"searchTypeDeliveryService\": \"0\",\n",
    "\"searchTypeParcelService\": \"0\",\n",
    "\"searchTypePotatoes\": \"0\",\n",
    "\"searchTypeCardiacDefi\": \"0\",\n",
    "\"searchTypeFishShapedBun\": \"0\",}\n",
    "total = []\n",
    "with requests.Session() as s:\n",
    "    r = s.get(\"http://gs25.gsretail.com/gscvs/ko/store-services/locations\")\n",
    "    bs = BS(r.text)\n",
    "    token = bs.find(\"input\", {'name': \"CSRFToken\"})['value']\n",
    "    #print(bs.find(\"input\", {'name': \"CSRFToken\"}))\n",
    "    target = f\"http://gs25.gsretail.com/gscvs/ko/store-services/locationList?CSRFToken={token}\"\n",
    "    for x in range(1,3):\n",
    "        if x % 10 == 0: print(x)\n",
    "        payload['pageNum'] = x \n",
    "        r2 = s.post(target, data=payload)\n",
    "        total.append( pd.DataFrame(eval(r2.json())['results']))"
   ]
  },
  {
   "cell_type": "code",
   "execution_count": 210,
   "id": "5a6fc513-0c2e-4f4d-aa3d-e2eec83b3339",
   "metadata": {},
   "outputs": [],
   "source": [
    "gs25 = pd.concat(total)"
   ]
  },
  {
   "cell_type": "code",
   "execution_count": 212,
   "id": "7afbb4c2-4969-49eb-a3b6-0a72af2daa9b",
   "metadata": {},
   "outputs": [],
   "source": [
    "with open(\"./gs25.pkl\", \"wb\") as f:\n",
    "    pickle.dump(gs25, f)"
   ]
  },
  {
   "cell_type": "code",
   "execution_count": null,
   "id": "1a992f6d-feb7-4cc2-b506-c1825ff19bbd",
   "metadata": {},
   "outputs": [],
   "source": [
    "with open(\"./gs25.pkl\", \"rb\") as f:\n",
    "    gs25 = pickle.load(f)"
   ]
  },
  {
   "cell_type": "code",
   "execution_count": 214,
   "id": "ada7c503-d610-4574-8a5e-88cbe6048bf5",
   "metadata": {},
   "outputs": [
    {
     "data": {
      "text/plain": [
       "17378"
      ]
     },
     "execution_count": 214,
     "metadata": {},
     "output_type": "execute_result"
    }
   ],
   "source": [
    "gs25.shopCode.unique().size"
   ]
  },
  {
   "cell_type": "code",
   "execution_count": 220,
   "id": "1557a542-5a35-47a1-be85-9758f91d7f88",
   "metadata": {},
   "outputs": [],
   "source": [
    "gs25.reset_index(drop=True, inplace=True)"
   ]
  },
  {
   "cell_type": "code",
   "execution_count": 221,
   "id": "60d28089-4680-434c-b226-95fc41630a51",
   "metadata": {},
   "outputs": [
    {
     "data": {
      "text/html": [
       "<div>\n",
       "<style scoped>\n",
       "    .dataframe tbody tr th:only-of-type {\n",
       "        vertical-align: middle;\n",
       "    }\n",
       "\n",
       "    .dataframe tbody tr th {\n",
       "        vertical-align: top;\n",
       "    }\n",
       "\n",
       "    .dataframe thead th {\n",
       "        text-align: right;\n",
       "    }\n",
       "</style>\n",
       "<table border=\"1\" class=\"dataframe\">\n",
       "  <thead>\n",
       "    <tr style=\"text-align: right;\">\n",
       "      <th></th>\n",
       "      <th>offeringService</th>\n",
       "      <th>shopCode</th>\n",
       "      <th>longs</th>\n",
       "      <th>address</th>\n",
       "      <th>shopName</th>\n",
       "      <th>lat</th>\n",
       "    </tr>\n",
       "  </thead>\n",
       "  <tbody>\n",
       "    <tr>\n",
       "      <th>0</th>\n",
       "      <td>[toto, cafe25, post, withdrawal, parcel_service]</td>\n",
       "      <td>V3414</td>\n",
       "      <td>37.51826292</td>\n",
       "      <td>경기 부천시 오정구 석천로345,  300동 114호(삼정동 365)</td>\n",
       "      <td>GS252테크노파크점</td>\n",
       "      <td>126.76388845</td>\n",
       "    </tr>\n",
       "    <tr>\n",
       "      <th>1</th>\n",
       "      <td>[cafe25, drug, post, atm, withdrawal, smart_at...</td>\n",
       "      <td>VX815</td>\n",
       "      <td>38.00414846</td>\n",
       "      <td>강원 양양군 현북면 동해대로1242, 38선휴게소 (잔교리 41-10, 38휴게소)</td>\n",
       "      <td>GS2538선휴게소점</td>\n",
       "      <td>128.73283627</td>\n",
       "    </tr>\n",
       "    <tr>\n",
       "      <th>2</th>\n",
       "      <td>[post, parcel_service]</td>\n",
       "      <td>VQ037</td>\n",
       "      <td>37.52831065</td>\n",
       "      <td>서울 양천구 목동서로159-1 (목1동 917-1, CBS방송국1층)</td>\n",
       "      <td>GS25CBS점</td>\n",
       "      <td>126.87486792</td>\n",
       "    </tr>\n",
       "    <tr>\n",
       "      <th>3</th>\n",
       "      <td>[cafe25, potatoes, fish_shaped_bun]</td>\n",
       "      <td>V7W76</td>\n",
       "      <td>36.44932895</td>\n",
       "      <td>대전 대덕구 대덕대로1447번길39, 1층 (문평동 140)</td>\n",
       "      <td>GS25CJ대전HUB점</td>\n",
       "      <td>127.40708036</td>\n",
       "    </tr>\n",
       "    <tr>\n",
       "      <th>4</th>\n",
       "      <td>NaN</td>\n",
       "      <td>V6Z47</td>\n",
       "      <td>37.69488283</td>\n",
       "      <td>경기 고양시 일산동구 성현로615 (사리현동 151-1, CJ대한통운)</td>\n",
       "      <td>GS25CJ덕양SUB점</td>\n",
       "      <td>126.84958684</td>\n",
       "    </tr>\n",
       "    <tr>\n",
       "      <th>...</th>\n",
       "      <td>...</td>\n",
       "      <td>...</td>\n",
       "      <td>...</td>\n",
       "      <td>...</td>\n",
       "      <td>...</td>\n",
       "      <td>...</td>\n",
       "    </tr>\n",
       "    <tr>\n",
       "      <th>17374</th>\n",
       "      <td>NaN</td>\n",
       "      <td>V1880</td>\n",
       "      <td>37.56433789</td>\n",
       "      <td>서울 성동구 왕십리로지하 374, 207-02호  (하왕십리동 946-14, 상왕십리역)</td>\n",
       "      <td>S2상왕십리역점</td>\n",
       "      <td>127.02961475</td>\n",
       "    </tr>\n",
       "    <tr>\n",
       "      <th>17375</th>\n",
       "      <td>NaN</td>\n",
       "      <td>V1882</td>\n",
       "      <td>37.50287602</td>\n",
       "      <td>서울 동작구 현충로257, 431-02호 (동작동 327-1)</td>\n",
       "      <td>S4동작역점</td>\n",
       "      <td>126.9802623</td>\n",
       "    </tr>\n",
       "    <tr>\n",
       "      <th>17376</th>\n",
       "      <td>[drug, post, withdrawal, tax, parcel_service]</td>\n",
       "      <td>VW993</td>\n",
       "      <td>37.59431984</td>\n",
       "      <td>서울 동대문구 경희대로23, 문화복지시설 101호 (회기동 1-5, 전면플라자)</td>\n",
       "      <td>경희프라자점</td>\n",
       "      <td>127.05231488</td>\n",
       "    </tr>\n",
       "    <tr>\n",
       "      <th>17377</th>\n",
       "      <td>NaN</td>\n",
       "      <td>V1355</td>\n",
       "      <td>37.50208899</td>\n",
       "      <td>서울 강남구 논현로508 (역삼동 679)</td>\n",
       "      <td>나만의냉장고</td>\n",
       "      <td>127.03678844</td>\n",
       "    </tr>\n",
       "    <tr>\n",
       "      <th>17378</th>\n",
       "      <td>NaN</td>\n",
       "      <td>V9A20</td>\n",
       "      <td>37.2775307</td>\n",
       "      <td>경기 이천시 부발읍 죽당로286-90, 제이영상촬영소 (죽당리 98-11)</td>\n",
       "      <td>샛별이PPL점</td>\n",
       "      <td>127.52197076</td>\n",
       "    </tr>\n",
       "  </tbody>\n",
       "</table>\n",
       "<p>17379 rows × 6 columns</p>\n",
       "</div>"
      ],
      "text/plain": [
       "                                         offeringService shopCode  \\\n",
       "0       [toto, cafe25, post, withdrawal, parcel_service]    V3414   \n",
       "1      [cafe25, drug, post, atm, withdrawal, smart_at...    VX815   \n",
       "2                                 [post, parcel_service]    VQ037   \n",
       "3                    [cafe25, potatoes, fish_shaped_bun]    V7W76   \n",
       "4                                                    NaN    V6Z47   \n",
       "...                                                  ...      ...   \n",
       "17374                                                NaN    V1880   \n",
       "17375                                                NaN    V1882   \n",
       "17376      [drug, post, withdrawal, tax, parcel_service]    VW993   \n",
       "17377                                                NaN    V1355   \n",
       "17378                                                NaN    V9A20   \n",
       "\n",
       "             longs                                            address  \\\n",
       "0      37.51826292             경기 부천시 오정구 석천로345,  300동 114호(삼정동 365)   \n",
       "1      38.00414846     강원 양양군 현북면 동해대로1242, 38선휴게소 (잔교리 41-10, 38휴게소)   \n",
       "2      37.52831065             서울 양천구 목동서로159-1 (목1동 917-1, CBS방송국1층)   \n",
       "3      36.44932895                  대전 대덕구 대덕대로1447번길39, 1층 (문평동 140)   \n",
       "4      37.69488283            경기 고양시 일산동구 성현로615 (사리현동 151-1, CJ대한통운)   \n",
       "...            ...                                                ...   \n",
       "17374  37.56433789  서울 성동구 왕십리로지하 374, 207-02호  (하왕십리동 946-14, 상왕십리역)   \n",
       "17375  37.50287602                 서울 동작구 현충로257, 431-02호 (동작동 327-1)   \n",
       "17376  37.59431984       서울 동대문구 경희대로23, 문화복지시설 101호 (회기동 1-5, 전면플라자)   \n",
       "17377  37.50208899                            서울 강남구 논현로508 (역삼동 679)   \n",
       "17378   37.2775307          경기 이천시 부발읍 죽당로286-90, 제이영상촬영소 (죽당리 98-11)   \n",
       "\n",
       "           shopName           lat  \n",
       "0       GS252테크노파크점  126.76388845  \n",
       "1       GS2538선휴게소점  128.73283627  \n",
       "2          GS25CBS점  126.87486792  \n",
       "3      GS25CJ대전HUB점  127.40708036  \n",
       "4      GS25CJ덕양SUB점  126.84958684  \n",
       "...             ...           ...  \n",
       "17374      S2상왕십리역점  127.02961475  \n",
       "17375        S4동작역점   126.9802623  \n",
       "17376        경희프라자점  127.05231488  \n",
       "17377        나만의냉장고  127.03678844  \n",
       "17378       샛별이PPL점  127.52197076  \n",
       "\n",
       "[17379 rows x 6 columns]"
      ]
     },
     "execution_count": 221,
     "metadata": {},
     "output_type": "execute_result"
    }
   ],
   "source": [
    "gs25"
   ]
  }
 ],
 "metadata": {
  "kernelspec": {
   "display_name": "Python 3 (ipykernel)",
   "language": "python",
   "name": "python3"
  },
  "language_info": {
   "codemirror_mode": {
    "name": "ipython",
    "version": 3
   },
   "file_extension": ".py",
   "mimetype": "text/x-python",
   "name": "python",
   "nbconvert_exporter": "python",
   "pygments_lexer": "ipython3",
   "version": "3.10.12"
  }
 },
 "nbformat": 4,
 "nbformat_minor": 5
}
