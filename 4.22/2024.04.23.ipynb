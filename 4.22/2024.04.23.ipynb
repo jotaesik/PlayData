{
 "cells": [
  {
   "cell_type": "code",
   "execution_count": 183,
   "id": "247ae2b4-c963-4446-9938-96e8f9619b2c",
   "metadata": {},
   "outputs": [],
   "source": [
    "import pandas as pd\n",
    "import numpy as np\n",
    "import scipy as sc"
   ]
  },
  {
   "cell_type": "code",
   "execution_count": 184,
   "id": "e2376775-19bb-444f-838f-5978d5b79d7e",
   "metadata": {},
   "outputs": [],
   "source": [
    "상반기 = pd.read_csv(\"./상반기 주유소 판매가격.csv\",encoding='cp949')\n",
    "하반기 = pd.read_csv(\"./하반기 주유소 판매가격.csv\",encoding='cp949')"
   ]
  },
  {
   "cell_type": "code",
   "execution_count": 185,
   "id": "1f675ad8-c2b3-487e-b6cb-236b17990292",
   "metadata": {},
   "outputs": [
    {
     "data": {
      "text/html": [
       "<div>\n",
       "<style scoped>\n",
       "    .dataframe tbody tr th:only-of-type {\n",
       "        vertical-align: middle;\n",
       "    }\n",
       "\n",
       "    .dataframe tbody tr th {\n",
       "        vertical-align: top;\n",
       "    }\n",
       "\n",
       "    .dataframe thead th {\n",
       "        text-align: right;\n",
       "    }\n",
       "</style>\n",
       "<table border=\"1\" class=\"dataframe\">\n",
       "  <thead>\n",
       "    <tr style=\"text-align: right;\">\n",
       "      <th></th>\n",
       "      <th>번호</th>\n",
       "      <th>지역</th>\n",
       "      <th>상호</th>\n",
       "      <th>주소</th>\n",
       "      <th>기간</th>\n",
       "      <th>상표</th>\n",
       "      <th>셀프여부</th>\n",
       "      <th>고급휘발유</th>\n",
       "      <th>휘발유</th>\n",
       "      <th>경유</th>\n",
       "      <th>실내등유</th>\n",
       "    </tr>\n",
       "  </thead>\n",
       "  <tbody>\n",
       "    <tr>\n",
       "      <th>0</th>\n",
       "      <td>A0006039</td>\n",
       "      <td>서울 강남구</td>\n",
       "      <td>(주)동하힐탑셀프주유소</td>\n",
       "      <td>서울 강남구 논현로 640</td>\n",
       "      <td>20190101</td>\n",
       "      <td>SK에너지</td>\n",
       "      <td>셀프</td>\n",
       "      <td>1673</td>\n",
       "      <td>1465</td>\n",
       "      <td>1365</td>\n",
       "      <td>0</td>\n",
       "    </tr>\n",
       "  </tbody>\n",
       "</table>\n",
       "</div>"
      ],
      "text/plain": [
       "         번호      지역            상호              주소        기간     상표 셀프여부  \\\n",
       "0  A0006039  서울 강남구  (주)동하힐탑셀프주유소  서울 강남구 논현로 640  20190101  SK에너지   셀프   \n",
       "\n",
       "   고급휘발유   휘발유    경유  실내등유  \n",
       "0   1673  1465  1365     0  "
      ]
     },
     "execution_count": 185,
     "metadata": {},
     "output_type": "execute_result"
    }
   ],
   "source": [
    "상반기.head(1)"
   ]
  },
  {
   "cell_type": "code",
   "execution_count": 186,
   "id": "ecf20cbb-333a-4487-a529-f4f345d4556f",
   "metadata": {},
   "outputs": [
    {
     "data": {
      "text/html": [
       "<div>\n",
       "<style scoped>\n",
       "    .dataframe tbody tr th:only-of-type {\n",
       "        vertical-align: middle;\n",
       "    }\n",
       "\n",
       "    .dataframe tbody tr th {\n",
       "        vertical-align: top;\n",
       "    }\n",
       "\n",
       "    .dataframe thead th {\n",
       "        text-align: right;\n",
       "    }\n",
       "</style>\n",
       "<table border=\"1\" class=\"dataframe\">\n",
       "  <thead>\n",
       "    <tr style=\"text-align: right;\">\n",
       "      <th></th>\n",
       "      <th>번호</th>\n",
       "      <th>지역</th>\n",
       "      <th>상호</th>\n",
       "      <th>주소</th>\n",
       "      <th>기간</th>\n",
       "      <th>상표</th>\n",
       "      <th>셀프여부</th>\n",
       "      <th>고급휘발유</th>\n",
       "      <th>휘발유</th>\n",
       "      <th>경유</th>\n",
       "      <th>실내등유</th>\n",
       "    </tr>\n",
       "  </thead>\n",
       "  <tbody>\n",
       "    <tr>\n",
       "      <th>0</th>\n",
       "      <td>A0006039</td>\n",
       "      <td>서울 강남구</td>\n",
       "      <td>(주)동하힐탑셀프주유소</td>\n",
       "      <td>서울 강남구 논현로 640</td>\n",
       "      <td>20190701</td>\n",
       "      <td>SK에너지</td>\n",
       "      <td>셀프</td>\n",
       "      <td>1777</td>\n",
       "      <td>1577</td>\n",
       "      <td>1477</td>\n",
       "      <td>0</td>\n",
       "    </tr>\n",
       "  </tbody>\n",
       "</table>\n",
       "</div>"
      ],
      "text/plain": [
       "         번호      지역            상호              주소        기간     상표 셀프여부  \\\n",
       "0  A0006039  서울 강남구  (주)동하힐탑셀프주유소  서울 강남구 논현로 640  20190701  SK에너지   셀프   \n",
       "\n",
       "   고급휘발유   휘발유    경유  실내등유  \n",
       "0   1777  1577  1477     0  "
      ]
     },
     "execution_count": 186,
     "metadata": {},
     "output_type": "execute_result"
    }
   ],
   "source": [
    "하반기.head(1)"
   ]
  },
  {
   "cell_type": "code",
   "execution_count": 187,
   "id": "4fb348ec-9153-40bb-8eb8-4c9af445583c",
   "metadata": {},
   "outputs": [],
   "source": [
    "주유소 = pd.concat([상반기,하반기])"
   ]
  },
  {
   "cell_type": "code",
   "execution_count": 188,
   "id": "a23e78a4-d88d-47e9-ad23-4a9fcec09641",
   "metadata": {},
   "outputs": [
    {
     "data": {
      "text/plain": [
       "(181714, 11)"
      ]
     },
     "execution_count": 188,
     "metadata": {},
     "output_type": "execute_result"
    }
   ],
   "source": [
    "주유소.shape"
   ]
  },
  {
   "cell_type": "code",
   "execution_count": 189,
   "id": "80c48b75-960b-433b-af07-6bbe5a0ab238",
   "metadata": {},
   "outputs": [
    {
     "data": {
      "text/plain": [
       "0"
      ]
     },
     "execution_count": 189,
     "metadata": {},
     "output_type": "execute_result"
    }
   ],
   "source": [
    "주유소.duplicated().sum()"
   ]
  },
  {
   "cell_type": "code",
   "execution_count": 190,
   "id": "f9066c36-157a-46da-bcd6-10ecbed990b5",
   "metadata": {},
   "outputs": [],
   "source": [
    "집계결과 = 주유소[['지역', '상호', '상표']].drop_duplicates().groupby(['지역', '상표'])[['상표']].count().rename(columns={\"상표\" : \"집계\"}).reset_index()"
   ]
  },
  {
   "cell_type": "code",
   "execution_count": 191,
   "id": "61903b03-7458-48e6-943f-95a1ff34071d",
   "metadata": {},
   "outputs": [
    {
     "data": {
      "text/html": [
       "<div>\n",
       "<style scoped>\n",
       "    .dataframe tbody tr th:only-of-type {\n",
       "        vertical-align: middle;\n",
       "    }\n",
       "\n",
       "    .dataframe tbody tr th {\n",
       "        vertical-align: top;\n",
       "    }\n",
       "\n",
       "    .dataframe thead th {\n",
       "        text-align: right;\n",
       "    }\n",
       "</style>\n",
       "<table border=\"1\" class=\"dataframe\">\n",
       "  <thead>\n",
       "    <tr style=\"text-align: right;\">\n",
       "      <th></th>\n",
       "      <th>지역</th>\n",
       "      <th>상표</th>\n",
       "      <th>집계</th>\n",
       "    </tr>\n",
       "  </thead>\n",
       "  <tbody>\n",
       "    <tr>\n",
       "      <th>0</th>\n",
       "      <td>서울 강남구</td>\n",
       "      <td>GS칼텍스</td>\n",
       "      <td>12</td>\n",
       "    </tr>\n",
       "    <tr>\n",
       "      <th>1</th>\n",
       "      <td>서울 강남구</td>\n",
       "      <td>S-OIL</td>\n",
       "      <td>6</td>\n",
       "    </tr>\n",
       "    <tr>\n",
       "      <th>2</th>\n",
       "      <td>서울 강남구</td>\n",
       "      <td>SK에너지</td>\n",
       "      <td>19</td>\n",
       "    </tr>\n",
       "    <tr>\n",
       "      <th>3</th>\n",
       "      <td>서울 강남구</td>\n",
       "      <td>현대오일뱅크</td>\n",
       "      <td>5</td>\n",
       "    </tr>\n",
       "    <tr>\n",
       "      <th>4</th>\n",
       "      <td>서울 강동구</td>\n",
       "      <td>GS칼텍스</td>\n",
       "      <td>5</td>\n",
       "    </tr>\n",
       "    <tr>\n",
       "      <th>...</th>\n",
       "      <td>...</td>\n",
       "      <td>...</td>\n",
       "      <td>...</td>\n",
       "    </tr>\n",
       "    <tr>\n",
       "      <th>109</th>\n",
       "      <td>서울 중랑구</td>\n",
       "      <td>GS칼텍스</td>\n",
       "      <td>5</td>\n",
       "    </tr>\n",
       "    <tr>\n",
       "      <th>110</th>\n",
       "      <td>서울 중랑구</td>\n",
       "      <td>S-OIL</td>\n",
       "      <td>6</td>\n",
       "    </tr>\n",
       "    <tr>\n",
       "      <th>111</th>\n",
       "      <td>서울 중랑구</td>\n",
       "      <td>SK에너지</td>\n",
       "      <td>5</td>\n",
       "    </tr>\n",
       "    <tr>\n",
       "      <th>112</th>\n",
       "      <td>서울 중랑구</td>\n",
       "      <td>알뜰주유소</td>\n",
       "      <td>1</td>\n",
       "    </tr>\n",
       "    <tr>\n",
       "      <th>113</th>\n",
       "      <td>서울 중랑구</td>\n",
       "      <td>현대오일뱅크</td>\n",
       "      <td>1</td>\n",
       "    </tr>\n",
       "  </tbody>\n",
       "</table>\n",
       "<p>114 rows × 3 columns</p>\n",
       "</div>"
      ],
      "text/plain": [
       "         지역      상표  집계\n",
       "0    서울 강남구   GS칼텍스  12\n",
       "1    서울 강남구   S-OIL   6\n",
       "2    서울 강남구   SK에너지  19\n",
       "3    서울 강남구  현대오일뱅크   5\n",
       "4    서울 강동구   GS칼텍스   5\n",
       "..      ...     ...  ..\n",
       "109  서울 중랑구   GS칼텍스   5\n",
       "110  서울 중랑구   S-OIL   6\n",
       "111  서울 중랑구   SK에너지   5\n",
       "112  서울 중랑구   알뜰주유소   1\n",
       "113  서울 중랑구  현대오일뱅크   1\n",
       "\n",
       "[114 rows x 3 columns]"
      ]
     },
     "execution_count": 191,
     "metadata": {},
     "output_type": "execute_result"
    }
   ],
   "source": [
    "집계결과"
   ]
  },
  {
   "cell_type": "code",
   "execution_count": 192,
   "id": "5a655c07-42c3-485f-9ab8-92dcfa72225f",
   "metadata": {},
   "outputs": [
    {
     "data": {
      "text/plain": [
       "상표\n",
       "SK에너지     0.72\n",
       "GS칼텍스     0.16\n",
       "S-OIL     0.08\n",
       "현대오일뱅크    0.04\n",
       "Name: proportion, dtype: float64"
      ]
     },
     "execution_count": 192,
     "metadata": {},
     "output_type": "execute_result"
    }
   ],
   "source": [
    "집계결과.sort_values(by=[\"집계\"],ascending=False).groupby([\"지역\"]).first().value_counts(\"상표\", normalize=True)"
   ]
  },
  {
   "cell_type": "code",
   "execution_count": null,
   "id": "0c2a1863-507a-41b7-bf90-b9f922f93f69",
   "metadata": {},
   "outputs": [],
   "source": []
  },
  {
   "cell_type": "code",
   "execution_count": 73,
   "id": "47589111-a561-471d-8551-0bc6e43fb5e3",
   "metadata": {},
   "outputs": [
    {
     "data": {
      "text/plain": [
       "512"
      ]
     },
     "execution_count": 73,
     "metadata": {},
     "output_type": "execute_result"
    }
   ],
   "source": [
    "주유소[\"번호\"].unique().size"
   ]
  },
  {
   "cell_type": "code",
   "execution_count": 78,
   "id": "7862e64f-8573-4cde-a7b8-68b587c21a78",
   "metadata": {},
   "outputs": [
    {
     "data": {
      "text/html": [
       "<div>\n",
       "<style scoped>\n",
       "    .dataframe tbody tr th:only-of-type {\n",
       "        vertical-align: middle;\n",
       "    }\n",
       "\n",
       "    .dataframe tbody tr th {\n",
       "        vertical-align: top;\n",
       "    }\n",
       "\n",
       "    .dataframe thead th {\n",
       "        text-align: right;\n",
       "    }\n",
       "</style>\n",
       "<table border=\"1\" class=\"dataframe\">\n",
       "  <thead>\n",
       "    <tr style=\"text-align: right;\">\n",
       "      <th></th>\n",
       "      <th>번호</th>\n",
       "      <th>지역</th>\n",
       "      <th>상호</th>\n",
       "      <th>주소</th>\n",
       "      <th>기간</th>\n",
       "      <th>상표</th>\n",
       "      <th>셀프여부</th>\n",
       "      <th>고급휘발유</th>\n",
       "      <th>휘발유</th>\n",
       "      <th>경유</th>\n",
       "      <th>실내등유</th>\n",
       "    </tr>\n",
       "  </thead>\n",
       "  <tbody>\n",
       "    <tr>\n",
       "      <th>0</th>\n",
       "      <td>A0006039</td>\n",
       "      <td>서울 강남구</td>\n",
       "      <td>(주)동하힐탑셀프주유소</td>\n",
       "      <td>서울 강남구 논현로 640</td>\n",
       "      <td>20190101</td>\n",
       "      <td>SK에너지</td>\n",
       "      <td>셀프</td>\n",
       "      <td>1673</td>\n",
       "      <td>1465</td>\n",
       "      <td>1365</td>\n",
       "      <td>0</td>\n",
       "    </tr>\n",
       "    <tr>\n",
       "      <th>1</th>\n",
       "      <td>A0006039</td>\n",
       "      <td>서울 강남구</td>\n",
       "      <td>(주)동하힐탑셀프주유소</td>\n",
       "      <td>서울 강남구 논현로 640</td>\n",
       "      <td>20190102</td>\n",
       "      <td>SK에너지</td>\n",
       "      <td>셀프</td>\n",
       "      <td>1673</td>\n",
       "      <td>1465</td>\n",
       "      <td>1365</td>\n",
       "      <td>0</td>\n",
       "    </tr>\n",
       "    <tr>\n",
       "      <th>2</th>\n",
       "      <td>A0006039</td>\n",
       "      <td>서울 강남구</td>\n",
       "      <td>(주)동하힐탑셀프주유소</td>\n",
       "      <td>서울 강남구 논현로 640</td>\n",
       "      <td>20190103</td>\n",
       "      <td>SK에너지</td>\n",
       "      <td>셀프</td>\n",
       "      <td>1673</td>\n",
       "      <td>1465</td>\n",
       "      <td>1365</td>\n",
       "      <td>0</td>\n",
       "    </tr>\n",
       "    <tr>\n",
       "      <th>3</th>\n",
       "      <td>A0006039</td>\n",
       "      <td>서울 강남구</td>\n",
       "      <td>(주)동하힐탑셀프주유소</td>\n",
       "      <td>서울 강남구 논현로 640</td>\n",
       "      <td>20190104</td>\n",
       "      <td>SK에너지</td>\n",
       "      <td>셀프</td>\n",
       "      <td>1673</td>\n",
       "      <td>1465</td>\n",
       "      <td>1365</td>\n",
       "      <td>0</td>\n",
       "    </tr>\n",
       "    <tr>\n",
       "      <th>4</th>\n",
       "      <td>A0006039</td>\n",
       "      <td>서울 강남구</td>\n",
       "      <td>(주)동하힐탑셀프주유소</td>\n",
       "      <td>서울 강남구 논현로 640</td>\n",
       "      <td>20190105</td>\n",
       "      <td>SK에너지</td>\n",
       "      <td>셀프</td>\n",
       "      <td>1673</td>\n",
       "      <td>1465</td>\n",
       "      <td>1365</td>\n",
       "      <td>0</td>\n",
       "    </tr>\n",
       "    <tr>\n",
       "      <th>...</th>\n",
       "      <td>...</td>\n",
       "      <td>...</td>\n",
       "      <td>...</td>\n",
       "      <td>...</td>\n",
       "      <td>...</td>\n",
       "      <td>...</td>\n",
       "      <td>...</td>\n",
       "      <td>...</td>\n",
       "      <td>...</td>\n",
       "      <td>...</td>\n",
       "      <td>...</td>\n",
       "    </tr>\n",
       "    <tr>\n",
       "      <th>91119</th>\n",
       "      <td>A0032659</td>\n",
       "      <td>서울 중랑구</td>\n",
       "      <td>지에스칼텍스㈜ 소망주유소</td>\n",
       "      <td>서울 중랑구 망우로 475</td>\n",
       "      <td>20191227</td>\n",
       "      <td>GS칼텍스</td>\n",
       "      <td>셀프</td>\n",
       "      <td>0</td>\n",
       "      <td>1540</td>\n",
       "      <td>1389</td>\n",
       "      <td>1100</td>\n",
       "    </tr>\n",
       "    <tr>\n",
       "      <th>91120</th>\n",
       "      <td>A0032659</td>\n",
       "      <td>서울 중랑구</td>\n",
       "      <td>지에스칼텍스㈜ 소망주유소</td>\n",
       "      <td>서울 중랑구 망우로 475</td>\n",
       "      <td>20191228</td>\n",
       "      <td>GS칼텍스</td>\n",
       "      <td>셀프</td>\n",
       "      <td>0</td>\n",
       "      <td>1540</td>\n",
       "      <td>1389</td>\n",
       "      <td>1100</td>\n",
       "    </tr>\n",
       "    <tr>\n",
       "      <th>91121</th>\n",
       "      <td>A0032659</td>\n",
       "      <td>서울 중랑구</td>\n",
       "      <td>지에스칼텍스㈜ 소망주유소</td>\n",
       "      <td>서울 중랑구 망우로 475</td>\n",
       "      <td>20191229</td>\n",
       "      <td>GS칼텍스</td>\n",
       "      <td>셀프</td>\n",
       "      <td>0</td>\n",
       "      <td>1540</td>\n",
       "      <td>1389</td>\n",
       "      <td>1100</td>\n",
       "    </tr>\n",
       "    <tr>\n",
       "      <th>91122</th>\n",
       "      <td>A0032659</td>\n",
       "      <td>서울 중랑구</td>\n",
       "      <td>지에스칼텍스㈜ 소망주유소</td>\n",
       "      <td>서울 중랑구 망우로 475</td>\n",
       "      <td>20191230</td>\n",
       "      <td>GS칼텍스</td>\n",
       "      <td>셀프</td>\n",
       "      <td>0</td>\n",
       "      <td>1540</td>\n",
       "      <td>1389</td>\n",
       "      <td>1100</td>\n",
       "    </tr>\n",
       "    <tr>\n",
       "      <th>91123</th>\n",
       "      <td>A0032659</td>\n",
       "      <td>서울 중랑구</td>\n",
       "      <td>지에스칼텍스㈜ 소망주유소</td>\n",
       "      <td>서울 중랑구 망우로 475</td>\n",
       "      <td>20191231</td>\n",
       "      <td>GS칼텍스</td>\n",
       "      <td>셀프</td>\n",
       "      <td>0</td>\n",
       "      <td>1540</td>\n",
       "      <td>1389</td>\n",
       "      <td>1100</td>\n",
       "    </tr>\n",
       "  </tbody>\n",
       "</table>\n",
       "<p>181714 rows × 11 columns</p>\n",
       "</div>"
      ],
      "text/plain": [
       "             번호      지역             상호              주소        기간     상표 셀프여부  \\\n",
       "0      A0006039  서울 강남구   (주)동하힐탑셀프주유소  서울 강남구 논현로 640  20190101  SK에너지   셀프   \n",
       "1      A0006039  서울 강남구   (주)동하힐탑셀프주유소  서울 강남구 논현로 640  20190102  SK에너지   셀프   \n",
       "2      A0006039  서울 강남구   (주)동하힐탑셀프주유소  서울 강남구 논현로 640  20190103  SK에너지   셀프   \n",
       "3      A0006039  서울 강남구   (주)동하힐탑셀프주유소  서울 강남구 논현로 640  20190104  SK에너지   셀프   \n",
       "4      A0006039  서울 강남구   (주)동하힐탑셀프주유소  서울 강남구 논현로 640  20190105  SK에너지   셀프   \n",
       "...         ...     ...            ...             ...       ...    ...  ...   \n",
       "91119  A0032659  서울 중랑구  지에스칼텍스㈜ 소망주유소  서울 중랑구 망우로 475  20191227  GS칼텍스   셀프   \n",
       "91120  A0032659  서울 중랑구  지에스칼텍스㈜ 소망주유소  서울 중랑구 망우로 475  20191228  GS칼텍스   셀프   \n",
       "91121  A0032659  서울 중랑구  지에스칼텍스㈜ 소망주유소  서울 중랑구 망우로 475  20191229  GS칼텍스   셀프   \n",
       "91122  A0032659  서울 중랑구  지에스칼텍스㈜ 소망주유소  서울 중랑구 망우로 475  20191230  GS칼텍스   셀프   \n",
       "91123  A0032659  서울 중랑구  지에스칼텍스㈜ 소망주유소  서울 중랑구 망우로 475  20191231  GS칼텍스   셀프   \n",
       "\n",
       "       고급휘발유   휘발유    경유  실내등유  \n",
       "0       1673  1465  1365     0  \n",
       "1       1673  1465  1365     0  \n",
       "2       1673  1465  1365     0  \n",
       "3       1673  1465  1365     0  \n",
       "4       1673  1465  1365     0  \n",
       "...      ...   ...   ...   ...  \n",
       "91119      0  1540  1389  1100  \n",
       "91120      0  1540  1389  1100  \n",
       "91121      0  1540  1389  1100  \n",
       "91122      0  1540  1389  1100  \n",
       "91123      0  1540  1389  1100  \n",
       "\n",
       "[181714 rows x 11 columns]"
      ]
     },
     "execution_count": 78,
     "metadata": {},
     "output_type": "execute_result"
    }
   ],
   "source": [
    "주유소"
   ]
  },
  {
   "cell_type": "code",
   "execution_count": 82,
   "id": "b8b0db36-ff69-4dfc-ac50-da12a7645ed8",
   "metadata": {},
   "outputs": [],
   "source": [
    "주유소_365 = 주유소.groupby(['상호'])['번호'].count()[주유소.groupby(['상호'])['번호'].count() == 365].index"
   ]
  },
  {
   "cell_type": "code",
   "execution_count": 86,
   "id": "8ad71a65-58cb-4e54-bb30-31a65bf0d430",
   "metadata": {},
   "outputs": [
    {
     "data": {
      "text/plain": [
       "Index([' 현대오일뱅크㈜직영 구로셀프주유소', '(주)MS주유소', '(주)가재울뉴타운주유소', '(주)강서오일', '(주)기지에너지',\n",
       "       '(주)남경주유소', '(주)뉴명성산업 남성주유소', '(주)대농석유 남태령주유소', '(주)대양씨앤씨 사직주유소',\n",
       "       '(주)대청에너지 대청주유소',\n",
       "       ...\n",
       "       '현대오일뱅크(주)직영 중곡현대주유소', '현대오일뱅크(주)직영 한양주유소', '현대오일뱅크㈜직영 고대셀프주유소',\n",
       "       '현대오일뱅크㈜직영 목동셀프주유소', '형산석유(주)원주유소', '홍능주유소', '화곡역주유소', '화랑대주유소',\n",
       "       '화성주유소', '흥국주유소'],\n",
       "      dtype='object', name='상호', length=403)"
      ]
     },
     "execution_count": 86,
     "metadata": {},
     "output_type": "execute_result"
    }
   ],
   "source": [
    "주유소_365"
   ]
  },
  {
   "cell_type": "code",
   "execution_count": 84,
   "id": "502eb7ff-5653-48ce-bcd2-a61f0ae220bc",
   "metadata": {},
   "outputs": [],
   "source": [
    "주유소_ = 주유소[~주유소.상호.isin(주유소_365)].copy()"
   ]
  },
  {
   "cell_type": "code",
   "execution_count": 85,
   "id": "66ab8cab-72bd-407a-ae1e-323cbb434f2e",
   "metadata": {},
   "outputs": [
    {
     "data": {
      "text/plain": [
       "(34619, 11)"
      ]
     },
     "execution_count": 85,
     "metadata": {},
     "output_type": "execute_result"
    }
   ],
   "source": [
    "주유소_.shape"
   ]
  },
  {
   "cell_type": "code",
   "execution_count": 88,
   "id": "34cde82f-368c-4c84-9a3d-ff7177a862fd",
   "metadata": {},
   "outputs": [
    {
     "data": {
      "text/html": [
       "<div>\n",
       "<style scoped>\n",
       "    .dataframe tbody tr th:only-of-type {\n",
       "        vertical-align: middle;\n",
       "    }\n",
       "\n",
       "    .dataframe tbody tr th {\n",
       "        vertical-align: top;\n",
       "    }\n",
       "\n",
       "    .dataframe thead th {\n",
       "        text-align: right;\n",
       "    }\n",
       "</style>\n",
       "<table border=\"1\" class=\"dataframe\">\n",
       "  <thead>\n",
       "    <tr style=\"text-align: right;\">\n",
       "      <th></th>\n",
       "      <th>번호</th>\n",
       "      <th>지역</th>\n",
       "      <th>상호</th>\n",
       "      <th>주소</th>\n",
       "      <th>기간</th>\n",
       "      <th>상표</th>\n",
       "      <th>셀프여부</th>\n",
       "      <th>고급휘발유</th>\n",
       "      <th>휘발유</th>\n",
       "      <th>경유</th>\n",
       "      <th>실내등유</th>\n",
       "    </tr>\n",
       "  </thead>\n",
       "  <tbody>\n",
       "    <tr>\n",
       "      <th>1086</th>\n",
       "      <td>A0009838</td>\n",
       "      <td>서울 강남구</td>\n",
       "      <td>GS칼텍스(주)직영 산성주유소</td>\n",
       "      <td>서울 강남구 헌릉로 730 (세곡동)</td>\n",
       "      <td>20190101</td>\n",
       "      <td>GS칼텍스</td>\n",
       "      <td>셀프</td>\n",
       "      <td>0</td>\n",
       "      <td>1458</td>\n",
       "      <td>1319</td>\n",
       "      <td>0</td>\n",
       "    </tr>\n",
       "    <tr>\n",
       "      <th>1087</th>\n",
       "      <td>A0009838</td>\n",
       "      <td>서울 강남구</td>\n",
       "      <td>GS칼텍스(주)직영 산성주유소</td>\n",
       "      <td>서울 강남구 헌릉로 730 (세곡동)</td>\n",
       "      <td>20190102</td>\n",
       "      <td>GS칼텍스</td>\n",
       "      <td>셀프</td>\n",
       "      <td>0</td>\n",
       "      <td>1458</td>\n",
       "      <td>1319</td>\n",
       "      <td>0</td>\n",
       "    </tr>\n",
       "    <tr>\n",
       "      <th>1088</th>\n",
       "      <td>A0009838</td>\n",
       "      <td>서울 강남구</td>\n",
       "      <td>GS칼텍스(주)직영 산성주유소</td>\n",
       "      <td>서울 강남구 헌릉로 730 (세곡동)</td>\n",
       "      <td>20190103</td>\n",
       "      <td>GS칼텍스</td>\n",
       "      <td>셀프</td>\n",
       "      <td>0</td>\n",
       "      <td>1458</td>\n",
       "      <td>1319</td>\n",
       "      <td>0</td>\n",
       "    </tr>\n",
       "    <tr>\n",
       "      <th>1089</th>\n",
       "      <td>A0009838</td>\n",
       "      <td>서울 강남구</td>\n",
       "      <td>GS칼텍스(주)직영 산성주유소</td>\n",
       "      <td>서울 강남구 헌릉로 730 (세곡동)</td>\n",
       "      <td>20190104</td>\n",
       "      <td>GS칼텍스</td>\n",
       "      <td>셀프</td>\n",
       "      <td>0</td>\n",
       "      <td>1438</td>\n",
       "      <td>1298</td>\n",
       "      <td>0</td>\n",
       "    </tr>\n",
       "    <tr>\n",
       "      <th>1090</th>\n",
       "      <td>A0009838</td>\n",
       "      <td>서울 강남구</td>\n",
       "      <td>GS칼텍스(주)직영 산성주유소</td>\n",
       "      <td>서울 강남구 헌릉로 730 (세곡동)</td>\n",
       "      <td>20190105</td>\n",
       "      <td>GS칼텍스</td>\n",
       "      <td>셀프</td>\n",
       "      <td>0</td>\n",
       "      <td>1398</td>\n",
       "      <td>1298</td>\n",
       "      <td>0</td>\n",
       "    </tr>\n",
       "    <tr>\n",
       "      <th>...</th>\n",
       "      <td>...</td>\n",
       "      <td>...</td>\n",
       "      <td>...</td>\n",
       "      <td>...</td>\n",
       "      <td>...</td>\n",
       "      <td>...</td>\n",
       "      <td>...</td>\n",
       "      <td>...</td>\n",
       "      <td>...</td>\n",
       "      <td>...</td>\n",
       "      <td>...</td>\n",
       "    </tr>\n",
       "    <tr>\n",
       "      <th>90383</th>\n",
       "      <td>A0009138</td>\n",
       "      <td>서울 중랑구</td>\n",
       "      <td>우림주유소</td>\n",
       "      <td>서울 중랑구 용마산로 487 (망우동)</td>\n",
       "      <td>20191227</td>\n",
       "      <td>GS칼텍스</td>\n",
       "      <td>셀프</td>\n",
       "      <td>0</td>\n",
       "      <td>1535</td>\n",
       "      <td>1355</td>\n",
       "      <td>0</td>\n",
       "    </tr>\n",
       "    <tr>\n",
       "      <th>90384</th>\n",
       "      <td>A0009138</td>\n",
       "      <td>서울 중랑구</td>\n",
       "      <td>우림주유소</td>\n",
       "      <td>서울 중랑구 용마산로 487 (망우동)</td>\n",
       "      <td>20191228</td>\n",
       "      <td>GS칼텍스</td>\n",
       "      <td>셀프</td>\n",
       "      <td>0</td>\n",
       "      <td>1535</td>\n",
       "      <td>1355</td>\n",
       "      <td>0</td>\n",
       "    </tr>\n",
       "    <tr>\n",
       "      <th>90385</th>\n",
       "      <td>A0009138</td>\n",
       "      <td>서울 중랑구</td>\n",
       "      <td>우림주유소</td>\n",
       "      <td>서울 중랑구 용마산로 487 (망우동)</td>\n",
       "      <td>20191229</td>\n",
       "      <td>GS칼텍스</td>\n",
       "      <td>셀프</td>\n",
       "      <td>0</td>\n",
       "      <td>1535</td>\n",
       "      <td>1355</td>\n",
       "      <td>0</td>\n",
       "    </tr>\n",
       "    <tr>\n",
       "      <th>90386</th>\n",
       "      <td>A0009138</td>\n",
       "      <td>서울 중랑구</td>\n",
       "      <td>우림주유소</td>\n",
       "      <td>서울 중랑구 용마산로 487 (망우동)</td>\n",
       "      <td>20191230</td>\n",
       "      <td>GS칼텍스</td>\n",
       "      <td>셀프</td>\n",
       "      <td>0</td>\n",
       "      <td>1535</td>\n",
       "      <td>1355</td>\n",
       "      <td>0</td>\n",
       "    </tr>\n",
       "    <tr>\n",
       "      <th>90387</th>\n",
       "      <td>A0009138</td>\n",
       "      <td>서울 중랑구</td>\n",
       "      <td>우림주유소</td>\n",
       "      <td>서울 중랑구 용마산로 487 (망우동)</td>\n",
       "      <td>20191231</td>\n",
       "      <td>GS칼텍스</td>\n",
       "      <td>셀프</td>\n",
       "      <td>0</td>\n",
       "      <td>1535</td>\n",
       "      <td>1355</td>\n",
       "      <td>0</td>\n",
       "    </tr>\n",
       "  </tbody>\n",
       "</table>\n",
       "<p>34619 rows × 11 columns</p>\n",
       "</div>"
      ],
      "text/plain": [
       "             번호      지역                상호                     주소        기간  \\\n",
       "1086   A0009838  서울 강남구  GS칼텍스(주)직영 산성주유소   서울 강남구 헌릉로 730 (세곡동)  20190101   \n",
       "1087   A0009838  서울 강남구  GS칼텍스(주)직영 산성주유소   서울 강남구 헌릉로 730 (세곡동)  20190102   \n",
       "1088   A0009838  서울 강남구  GS칼텍스(주)직영 산성주유소   서울 강남구 헌릉로 730 (세곡동)  20190103   \n",
       "1089   A0009838  서울 강남구  GS칼텍스(주)직영 산성주유소   서울 강남구 헌릉로 730 (세곡동)  20190104   \n",
       "1090   A0009838  서울 강남구  GS칼텍스(주)직영 산성주유소   서울 강남구 헌릉로 730 (세곡동)  20190105   \n",
       "...         ...     ...               ...                    ...       ...   \n",
       "90383  A0009138  서울 중랑구             우림주유소  서울 중랑구 용마산로 487 (망우동)  20191227   \n",
       "90384  A0009138  서울 중랑구             우림주유소  서울 중랑구 용마산로 487 (망우동)  20191228   \n",
       "90385  A0009138  서울 중랑구             우림주유소  서울 중랑구 용마산로 487 (망우동)  20191229   \n",
       "90386  A0009138  서울 중랑구             우림주유소  서울 중랑구 용마산로 487 (망우동)  20191230   \n",
       "90387  A0009138  서울 중랑구             우림주유소  서울 중랑구 용마산로 487 (망우동)  20191231   \n",
       "\n",
       "          상표 셀프여부  고급휘발유   휘발유    경유  실내등유  \n",
       "1086   GS칼텍스   셀프      0  1458  1319     0  \n",
       "1087   GS칼텍스   셀프      0  1458  1319     0  \n",
       "1088   GS칼텍스   셀프      0  1458  1319     0  \n",
       "1089   GS칼텍스   셀프      0  1438  1298     0  \n",
       "1090   GS칼텍스   셀프      0  1398  1298     0  \n",
       "...      ...  ...    ...   ...   ...   ...  \n",
       "90383  GS칼텍스   셀프      0  1535  1355     0  \n",
       "90384  GS칼텍스   셀프      0  1535  1355     0  \n",
       "90385  GS칼텍스   셀프      0  1535  1355     0  \n",
       "90386  GS칼텍스   셀프      0  1535  1355     0  \n",
       "90387  GS칼텍스   셀프      0  1535  1355     0  \n",
       "\n",
       "[34619 rows x 11 columns]"
      ]
     },
     "execution_count": 88,
     "metadata": {},
     "output_type": "execute_result"
    }
   ],
   "source": [
    "주유소_ #364이하 데이터 "
   ]
  },
  {
   "cell_type": "code",
   "execution_count": 89,
   "id": "b294b9db-790e-4437-a5b6-7dfc02561b37",
   "metadata": {},
   "outputs": [],
   "source": [
    "tmp = pd.DataFrame(주유소.groupby(['상호'])['번호'].count() == 365)"
   ]
  },
  {
   "cell_type": "code",
   "execution_count": 90,
   "id": "62cbbb30-0056-452f-bc4e-3bb75d9c22c8",
   "metadata": {},
   "outputs": [
    {
     "data": {
      "text/plain": [
       "104"
      ]
     },
     "execution_count": 90,
     "metadata": {},
     "output_type": "execute_result"
    }
   ],
   "source": [
    "tmp[~tmp.번호].index.size"
   ]
  },
  {
   "cell_type": "code",
   "execution_count": 98,
   "id": "1670fb2f-9f35-4009-ba51-583bbe2800a5",
   "metadata": {},
   "outputs": [],
   "source": [
    "주유소_[\"월\"] = 주유소_[\"기간\"].apply(lambda x : str(x)[4:6])"
   ]
  },
  {
   "cell_type": "code",
   "execution_count": 110,
   "id": "ec8b71ef-a123-4fd0-b16d-d60d6359feae",
   "metadata": {},
   "outputs": [],
   "source": [
    "폐업 = 주유소_[[\"주소\",\"월\"]].drop_duplicates().groupby([\"월\"])[[\"주소\"]].count()"
   ]
  },
  {
   "cell_type": "code",
   "execution_count": 111,
   "id": "4875a41a-0f33-46af-811f-a4ab14bb9a19",
   "metadata": {},
   "outputs": [],
   "source": [
    "폐업[\"현황\"] = 폐업.주소 - 폐업.주소.shift(1)"
   ]
  },
  {
   "cell_type": "code",
   "execution_count": 116,
   "id": "11db0e1e-ffc4-4780-9125-236a0491773c",
   "metadata": {},
   "outputs": [
    {
     "data": {
      "text/html": [
       "<div>\n",
       "<style scoped>\n",
       "    .dataframe tbody tr th:only-of-type {\n",
       "        vertical-align: middle;\n",
       "    }\n",
       "\n",
       "    .dataframe tbody tr th {\n",
       "        vertical-align: top;\n",
       "    }\n",
       "\n",
       "    .dataframe thead th {\n",
       "        text-align: right;\n",
       "    }\n",
       "</style>\n",
       "<table border=\"1\" class=\"dataframe\">\n",
       "  <thead>\n",
       "    <tr style=\"text-align: right;\">\n",
       "      <th></th>\n",
       "      <th>월</th>\n",
       "      <th>집계</th>\n",
       "      <th>폐업갯수</th>\n",
       "    </tr>\n",
       "  </thead>\n",
       "  <tbody>\n",
       "    <tr>\n",
       "      <th>0</th>\n",
       "      <td>01</td>\n",
       "      <td>105</td>\n",
       "      <td>0.0</td>\n",
       "    </tr>\n",
       "    <tr>\n",
       "      <th>1</th>\n",
       "      <td>02</td>\n",
       "      <td>105</td>\n",
       "      <td>0.0</td>\n",
       "    </tr>\n",
       "    <tr>\n",
       "      <th>2</th>\n",
       "      <td>03</td>\n",
       "      <td>100</td>\n",
       "      <td>-5.0</td>\n",
       "    </tr>\n",
       "    <tr>\n",
       "      <th>3</th>\n",
       "      <td>04</td>\n",
       "      <td>98</td>\n",
       "      <td>-2.0</td>\n",
       "    </tr>\n",
       "    <tr>\n",
       "      <th>4</th>\n",
       "      <td>05</td>\n",
       "      <td>98</td>\n",
       "      <td>0.0</td>\n",
       "    </tr>\n",
       "    <tr>\n",
       "      <th>5</th>\n",
       "      <td>06</td>\n",
       "      <td>96</td>\n",
       "      <td>-2.0</td>\n",
       "    </tr>\n",
       "    <tr>\n",
       "      <th>6</th>\n",
       "      <td>07</td>\n",
       "      <td>97</td>\n",
       "      <td>1.0</td>\n",
       "    </tr>\n",
       "    <tr>\n",
       "      <th>7</th>\n",
       "      <td>08</td>\n",
       "      <td>96</td>\n",
       "      <td>-1.0</td>\n",
       "    </tr>\n",
       "    <tr>\n",
       "      <th>8</th>\n",
       "      <td>09</td>\n",
       "      <td>96</td>\n",
       "      <td>0.0</td>\n",
       "    </tr>\n",
       "    <tr>\n",
       "      <th>9</th>\n",
       "      <td>10</td>\n",
       "      <td>96</td>\n",
       "      <td>0.0</td>\n",
       "    </tr>\n",
       "    <tr>\n",
       "      <th>10</th>\n",
       "      <td>11</td>\n",
       "      <td>93</td>\n",
       "      <td>-3.0</td>\n",
       "    </tr>\n",
       "    <tr>\n",
       "      <th>11</th>\n",
       "      <td>12</td>\n",
       "      <td>92</td>\n",
       "      <td>-1.0</td>\n",
       "    </tr>\n",
       "  </tbody>\n",
       "</table>\n",
       "</div>"
      ],
      "text/plain": [
       "     월   집계  폐업갯수\n",
       "0   01  105   0.0\n",
       "1   02  105   0.0\n",
       "2   03  100  -5.0\n",
       "3   04   98  -2.0\n",
       "4   05   98   0.0\n",
       "5   06   96  -2.0\n",
       "6   07   97   1.0\n",
       "7   08   96  -1.0\n",
       "8   09   96   0.0\n",
       "9   10   96   0.0\n",
       "10  11   93  -3.0\n",
       "11  12   92  -1.0"
      ]
     },
     "execution_count": 116,
     "metadata": {},
     "output_type": "execute_result"
    }
   ],
   "source": [
    "폐업.fillna(0).rename(columns={\"주소\":\"집계\", \"현황\":\"폐업갯수\"}).reset_index()"
   ]
  },
  {
   "cell_type": "code",
   "execution_count": 117,
   "id": "b3d88e45-b88c-4796-b88b-a6841de44b9f",
   "metadata": {},
   "outputs": [
    {
     "data": {
      "text/html": [
       "<div>\n",
       "<style scoped>\n",
       "    .dataframe tbody tr th:only-of-type {\n",
       "        vertical-align: middle;\n",
       "    }\n",
       "\n",
       "    .dataframe tbody tr th {\n",
       "        vertical-align: top;\n",
       "    }\n",
       "\n",
       "    .dataframe thead th {\n",
       "        text-align: right;\n",
       "    }\n",
       "</style>\n",
       "<table border=\"1\" class=\"dataframe\">\n",
       "  <thead>\n",
       "    <tr style=\"text-align: right;\">\n",
       "      <th></th>\n",
       "      <th>집계</th>\n",
       "      <th>폐업갯수</th>\n",
       "    </tr>\n",
       "  </thead>\n",
       "  <tbody>\n",
       "    <tr>\n",
       "      <th>0</th>\n",
       "      <td>105</td>\n",
       "      <td>0.0</td>\n",
       "    </tr>\n",
       "    <tr>\n",
       "      <th>1</th>\n",
       "      <td>105</td>\n",
       "      <td>0.0</td>\n",
       "    </tr>\n",
       "    <tr>\n",
       "      <th>2</th>\n",
       "      <td>100</td>\n",
       "      <td>-5.0</td>\n",
       "    </tr>\n",
       "    <tr>\n",
       "      <th>3</th>\n",
       "      <td>98</td>\n",
       "      <td>-2.0</td>\n",
       "    </tr>\n",
       "    <tr>\n",
       "      <th>4</th>\n",
       "      <td>98</td>\n",
       "      <td>0.0</td>\n",
       "    </tr>\n",
       "    <tr>\n",
       "      <th>5</th>\n",
       "      <td>96</td>\n",
       "      <td>-2.0</td>\n",
       "    </tr>\n",
       "    <tr>\n",
       "      <th>6</th>\n",
       "      <td>97</td>\n",
       "      <td>1.0</td>\n",
       "    </tr>\n",
       "    <tr>\n",
       "      <th>7</th>\n",
       "      <td>96</td>\n",
       "      <td>-1.0</td>\n",
       "    </tr>\n",
       "    <tr>\n",
       "      <th>8</th>\n",
       "      <td>96</td>\n",
       "      <td>0.0</td>\n",
       "    </tr>\n",
       "    <tr>\n",
       "      <th>9</th>\n",
       "      <td>96</td>\n",
       "      <td>0.0</td>\n",
       "    </tr>\n",
       "    <tr>\n",
       "      <th>10</th>\n",
       "      <td>93</td>\n",
       "      <td>-3.0</td>\n",
       "    </tr>\n",
       "    <tr>\n",
       "      <th>11</th>\n",
       "      <td>92</td>\n",
       "      <td>-1.0</td>\n",
       "    </tr>\n",
       "  </tbody>\n",
       "</table>\n",
       "</div>"
      ],
      "text/plain": [
       "     집계  폐업갯수\n",
       "0   105   0.0\n",
       "1   105   0.0\n",
       "2   100  -5.0\n",
       "3    98  -2.0\n",
       "4    98   0.0\n",
       "5    96  -2.0\n",
       "6    97   1.0\n",
       "7    96  -1.0\n",
       "8    96   0.0\n",
       "9    96   0.0\n",
       "10   93  -3.0\n",
       "11   92  -1.0"
      ]
     },
     "execution_count": 117,
     "metadata": {},
     "output_type": "execute_result"
    }
   ],
   "source": [
    "폐업.fillna(0).rename(columns={\"주소\":\"집계\", \"현황\":\"폐업갯수\"}).reset_index(drop=True)"
   ]
  },
  {
   "cell_type": "code",
   "execution_count": 119,
   "id": "9ac66eca-8092-482a-9138-3d9579dfc05f",
   "metadata": {},
   "outputs": [
    {
     "data": {
      "text/plain": [
       "지역\n",
       "서울 강남구     1713.093581\n",
       "서울 강동구     1576.685264\n",
       "서울 강북구     1453.517525\n",
       "서울 강서구     1488.818088\n",
       "서울 관악구     1518.128564\n",
       "서울 광진구     1490.597054\n",
       "서울 구로구     1525.410383\n",
       "서울 금천구     1477.121992\n",
       "서울 노원구     1531.221551\n",
       "서울 도봉구     1494.171062\n",
       "서울 동대문구    1506.833542\n",
       "서울 동작구     1512.470911\n",
       "서울 마포구     1689.755616\n",
       "서울 서대문구    1528.943332\n",
       "서울 서초구     1577.131304\n",
       "서울 성동구     1583.659561\n",
       "서울 성북구     1507.948267\n",
       "서울 송파구     1518.957954\n",
       "서울 양천구     1512.890261\n",
       "서울 영등포구    1568.279506\n",
       "서울 용산구     1882.049825\n",
       "서울 은평구     1481.964026\n",
       "서울 종로구     1838.554945\n",
       "서울 중구      1976.948052\n",
       "서울 중랑구     1469.009092\n",
       "Name: 휘발유, dtype: float64"
      ]
     },
     "execution_count": 119,
     "metadata": {},
     "output_type": "execute_result"
    }
   ],
   "source": [
    "주유소.groupby([\"지역\"])[\"휘발유\"].mean()"
   ]
  },
  {
   "cell_type": "code",
   "execution_count": 121,
   "id": "a13043c6-80b2-4f58-b357-8d03b9289ada",
   "metadata": {},
   "outputs": [],
   "source": [
    "강남구 = 주유소_.query(\"지역=='서울 강남구'\")\n",
    "도봉구 = 주유소_.query(\"지역=='서울 도봉구'\")"
   ]
  },
  {
   "cell_type": "code",
   "execution_count": 124,
   "id": "93c51d7d-3237-4a90-93cb-6b73a9ba7e13",
   "metadata": {},
   "outputs": [
    {
     "data": {
      "text/html": [
       "<div>\n",
       "<style scoped>\n",
       "    .dataframe tbody tr th:only-of-type {\n",
       "        vertical-align: middle;\n",
       "    }\n",
       "\n",
       "    .dataframe tbody tr th {\n",
       "        vertical-align: top;\n",
       "    }\n",
       "\n",
       "    .dataframe thead th {\n",
       "        text-align: right;\n",
       "    }\n",
       "</style>\n",
       "<table border=\"1\" class=\"dataframe\">\n",
       "  <thead>\n",
       "    <tr style=\"text-align: right;\">\n",
       "      <th></th>\n",
       "      <th>휘발유</th>\n",
       "    </tr>\n",
       "    <tr>\n",
       "      <th>상호</th>\n",
       "      <th></th>\n",
       "    </tr>\n",
       "  </thead>\n",
       "  <tbody>\n",
       "    <tr>\n",
       "      <th>GS칼텍스(주)직영 산성주유소</th>\n",
       "      <td>1497.730769</td>\n",
       "    </tr>\n",
       "    <tr>\n",
       "      <th>SK에너지㈜ 진달래주유소</th>\n",
       "      <td>1604.279330</td>\n",
       "    </tr>\n",
       "    <tr>\n",
       "      <th>삼성주유소</th>\n",
       "      <td>1767.592593</td>\n",
       "    </tr>\n",
       "    <tr>\n",
       "      <th>에스제이에너지(주) 개포주유소</th>\n",
       "      <td>1574.289256</td>\n",
       "    </tr>\n",
       "    <tr>\n",
       "      <th>오일프러스 셀프</th>\n",
       "      <td>1972.141618</td>\n",
       "    </tr>\n",
       "    <tr>\n",
       "      <th>자곡셀프주유소</th>\n",
       "      <td>1556.203297</td>\n",
       "    </tr>\n",
       "  </tbody>\n",
       "</table>\n",
       "</div>"
      ],
      "text/plain": [
       "                          휘발유\n",
       "상호                           \n",
       "GS칼텍스(주)직영 산성주유소  1497.730769\n",
       "SK에너지㈜ 진달래주유소     1604.279330\n",
       "삼성주유소             1767.592593\n",
       "에스제이에너지(주) 개포주유소  1574.289256\n",
       "오일프러스 셀프          1972.141618\n",
       "자곡셀프주유소           1556.203297"
      ]
     },
     "execution_count": 124,
     "metadata": {},
     "output_type": "execute_result"
    }
   ],
   "source": [
    "강남구.groupby([\"상호\"])[['휘발유']].mean()"
   ]
  },
  {
   "cell_type": "code",
   "execution_count": 125,
   "id": "ea287f8b-f50d-4b9f-b1c3-4188c8ee0382",
   "metadata": {},
   "outputs": [
    {
     "data": {
      "text/html": [
       "<div>\n",
       "<style scoped>\n",
       "    .dataframe tbody tr th:only-of-type {\n",
       "        vertical-align: middle;\n",
       "    }\n",
       "\n",
       "    .dataframe tbody tr th {\n",
       "        vertical-align: top;\n",
       "    }\n",
       "\n",
       "    .dataframe thead th {\n",
       "        text-align: right;\n",
       "    }\n",
       "</style>\n",
       "<table border=\"1\" class=\"dataframe\">\n",
       "  <thead>\n",
       "    <tr style=\"text-align: right;\">\n",
       "      <th></th>\n",
       "      <th>휘발유</th>\n",
       "    </tr>\n",
       "    <tr>\n",
       "      <th>상호</th>\n",
       "      <th></th>\n",
       "    </tr>\n",
       "  </thead>\n",
       "  <tbody>\n",
       "    <tr>\n",
       "      <th>(주)소모에너지엔테크놀러지 신중계주유소</th>\n",
       "      <td>1534.026936</td>\n",
       "    </tr>\n",
       "    <tr>\n",
       "      <th>SK네트웍스(주)도봉행복주유소</th>\n",
       "      <td>1459.862637</td>\n",
       "    </tr>\n",
       "    <tr>\n",
       "      <th>극동유화(주)대안주유소</th>\n",
       "      <td>1454.660377</td>\n",
       "    </tr>\n",
       "    <tr>\n",
       "      <th>창동제일주유소</th>\n",
       "      <td>1533.909341</td>\n",
       "    </tr>\n",
       "    <tr>\n",
       "      <th>해와달주유소</th>\n",
       "      <td>1884.365385</td>\n",
       "    </tr>\n",
       "  </tbody>\n",
       "</table>\n",
       "</div>"
      ],
      "text/plain": [
       "                               휘발유\n",
       "상호                                \n",
       "(주)소모에너지엔테크놀러지 신중계주유소  1534.026936\n",
       "SK네트웍스(주)도봉행복주유소       1459.862637\n",
       "극동유화(주)대안주유소           1454.660377\n",
       "창동제일주유소                1533.909341\n",
       "해와달주유소                 1884.365385"
      ]
     },
     "execution_count": 125,
     "metadata": {},
     "output_type": "execute_result"
    }
   ],
   "source": [
    "도봉구.groupby([\"상호\"])[['휘발유']].mean()"
   ]
  },
  {
   "cell_type": "code",
   "execution_count": 128,
   "id": "79ef0209-446e-45f1-b73e-2635001b4654",
   "metadata": {},
   "outputs": [],
   "source": [
    "import scipy.stats"
   ]
  },
  {
   "cell_type": "code",
   "execution_count": null,
   "id": "69269918-869d-4158-983e-af754ae8d010",
   "metadata": {},
   "outputs": [],
   "source": [
    "# 귀무가설 두집단간의 평균 동일 0.05보다 작으면 귀무가설 기각 \n",
    "# 대립가설 두집다간의 평균 차이"
   ]
  },
  {
   "cell_type": "code",
   "execution_count": 130,
   "id": "d6c1ac8e-43dd-4d34-8a37-a02b3cc0cdad",
   "metadata": {},
   "outputs": [
    {
     "data": {
      "text/plain": [
       "TtestResult(statistic=0.825337249962133, pvalue=0.43051270565562705, df=9.0)"
      ]
     },
     "execution_count": 130,
     "metadata": {},
     "output_type": "execute_result"
    }
   ],
   "source": [
    "sc.stats.ttest_ind(a = 강남구.groupby([\"상호\"])['휘발유'].mean().values,\n",
    "                   b=도봉구.groupby([\"상호\"])['휘발유'].mean().values)"
   ]
  },
  {
   "cell_type": "code",
   "execution_count": 93,
   "id": "25dabad4-4f06-4a0b-a3be-df9d177a74ac",
   "metadata": {},
   "outputs": [
    {
     "data": {
      "text/plain": [
       "104"
      ]
     },
     "execution_count": 93,
     "metadata": {},
     "output_type": "execute_result"
    }
   ],
   "source": [
    "주유소_[주유소_.기간==20190101].주소.unique().size"
   ]
  },
  {
   "cell_type": "code",
   "execution_count": 83,
   "id": "9e37490e-02af-4256-b1fa-81bb5defccb4",
   "metadata": {},
   "outputs": [],
   "source": [
    "# 주유소[~주유소.상호.isin(주유소.groupby([\"상호\"])[\"번호\"].count().index)]"
   ]
  },
  {
   "cell_type": "code",
   "execution_count": 20,
   "id": "7bfeecec-f8a0-4611-8c8e-7388176835b6",
   "metadata": {},
   "outputs": [],
   "source": [
    "# 주유소[\"구군\"] = 주유소.주소.apply(lambda x : x.split(\" \")[1])"
   ]
  },
  {
   "cell_type": "code",
   "execution_count": 35,
   "id": "e9a36d1b-f152-4f8f-add3-d40331b84173",
   "metadata": {},
   "outputs": [],
   "source": [
    "# temp = 주유소.groupby(['지역'],as_index=False)['상표'].value_counts()"
   ]
  },
  {
   "cell_type": "code",
   "execution_count": 42,
   "id": "430de9b6-e325-4c59-9940-fcc1d91ebd25",
   "metadata": {},
   "outputs": [
    {
     "data": {
      "text/plain": [
       "array(['서울 강남구', '서울 강동구', '서울 강북구', '서울 강서구', '서울 관악구', '서울 광진구',\n",
       "       '서울 구로구', '서울 금천구', '서울 노원구', '서울 도봉구', '서울 동대문구', '서울 동작구',\n",
       "       '서울 마포구', '서울 서대문구', '서울 서초구', '서울 성동구', '서울 성북구', '서울 송파구',\n",
       "       '서울 양천구', '서울 영등포구', '서울 용산구', '서울 은평구', '서울 종로구', '서울 중구',\n",
       "       '서울 중랑구'], dtype=object)"
      ]
     },
     "execution_count": 42,
     "metadata": {},
     "output_type": "execute_result"
    }
   ],
   "source": [
    "# temp[\"지역\"].unique()"
   ]
  },
  {
   "cell_type": "code",
   "execution_count": 44,
   "id": "772abbb2-ba5d-49c5-b8bc-f26c46bb5d51",
   "metadata": {},
   "outputs": [
    {
     "data": {
      "text/plain": [
       "상표\n",
       "GS칼텍스     5379\n",
       "SK에너지     5043\n",
       "S-OIL     1553\n",
       "현대오일뱅크    1242\n",
       "알뜰(ex)     365\n",
       "NH-OIL     180\n",
       "Name: count, dtype: int64"
      ]
     },
     "execution_count": 44,
     "metadata": {},
     "output_type": "execute_result"
    }
   ],
   "source": [
    "# 주유소[주유소.지역 == '서울 서초구']['상표'].value_counts()"
   ]
  },
  {
   "cell_type": "code",
   "execution_count": 131,
   "id": "e638bf19-df7d-49c1-bee1-b63b9fcb5bf4",
   "metadata": {},
   "outputs": [],
   "source": [
    "import sqlalchemy\n",
    "from urllib import parse\n",
    "user = 'id'\n",
    "password = 'pw'\n",
    "host='ip'\n",
    "port = port\n",
    "database = 'db'\n",
    "password = parse.quote_plus(password)\n",
    "engine = sqlalchemy.create_engine(f\"mysql://{user}:{password}@{host}:{port}/{database}\")"
   ]
  },
  {
   "cell_type": "code",
   "execution_count": 135,
   "id": "e29ef290-0419-4c3d-a9f4-6c94acd12c87",
   "metadata": {},
   "outputs": [],
   "source": [
    "# 테이블 설명 \n",
    "# aisles, departments는 삼품의 카테고리를 의미 \n",
    "# order_products__prior는 각 주문 번호의 상세 구매 내역 \n",
    "# oders는 주문 대표 정보 \n",
    "# products 상품 정보를 포함 "
   ]
  },
  {
   "cell_type": "code",
   "execution_count": 155,
   "id": "00a7f07a-cbe1-450c-9eef-6d12c35d626b",
   "metadata": {},
   "outputs": [],
   "source": [
    "df = pd.read_sql_query(\"select * from order_products__prior\", con=engine)"
   ]
  },
  {
   "cell_type": "code",
   "execution_count": 152,
   "id": "5bccf804-1773-47a9-8c55-e3c9fa756e7e",
   "metadata": {},
   "outputs": [
    {
     "data": {
      "text/plain": [
       "pandas.core.series.Series"
      ]
     },
     "execution_count": 152,
     "metadata": {},
     "output_type": "execute_result"
    }
   ],
   "source": [
    "type(order_products__prior.head(1).add_to_cart_order)"
   ]
  },
  {
   "cell_type": "code",
   "execution_count": 164,
   "id": "aab3de53-1812-496d-adce-3c18c38bf659",
   "metadata": {},
   "outputs": [],
   "source": [
    "df['first']= df.add_to_cart_order.apply(lambda x :  1 if x == \"1\" else 0)\n",
    "df2 = df.groupby(['product_id'], as_index=False)[['first']].sum()"
   ]
  },
  {
   "cell_type": "code",
   "execution_count": 163,
   "id": "505c8f0f-ea5f-4836-a16c-c81504af92de",
   "metadata": {},
   "outputs": [
    {
     "data": {
      "text/html": [
       "<div>\n",
       "<style scoped>\n",
       "    .dataframe tbody tr th:only-of-type {\n",
       "        vertical-align: middle;\n",
       "    }\n",
       "\n",
       "    .dataframe tbody tr th {\n",
       "        vertical-align: top;\n",
       "    }\n",
       "\n",
       "    .dataframe thead th {\n",
       "        text-align: right;\n",
       "    }\n",
       "</style>\n",
       "<table border=\"1\" class=\"dataframe\">\n",
       "  <thead>\n",
       "    <tr style=\"text-align: right;\">\n",
       "      <th></th>\n",
       "      <th>product_id</th>\n",
       "      <th>first</th>\n",
       "    </tr>\n",
       "  </thead>\n",
       "  <tbody>\n",
       "    <tr>\n",
       "      <th>12</th>\n",
       "      <td>47</td>\n",
       "      <td>1</td>\n",
       "    </tr>\n",
       "    <tr>\n",
       "      <th>19</th>\n",
       "      <td>93</td>\n",
       "      <td>1</td>\n",
       "    </tr>\n",
       "    <tr>\n",
       "      <th>20</th>\n",
       "      <td>95</td>\n",
       "      <td>1</td>\n",
       "    </tr>\n",
       "    <tr>\n",
       "      <th>24</th>\n",
       "      <td>116</td>\n",
       "      <td>1</td>\n",
       "    </tr>\n",
       "    <tr>\n",
       "      <th>33</th>\n",
       "      <td>141</td>\n",
       "      <td>1</td>\n",
       "    </tr>\n",
       "    <tr>\n",
       "      <th>...</th>\n",
       "      <td>...</td>\n",
       "      <td>...</td>\n",
       "    </tr>\n",
       "    <tr>\n",
       "      <th>9254</th>\n",
       "      <td>49519</td>\n",
       "      <td>1</td>\n",
       "    </tr>\n",
       "    <tr>\n",
       "      <th>9266</th>\n",
       "      <td>49587</td>\n",
       "      <td>1</td>\n",
       "    </tr>\n",
       "    <tr>\n",
       "      <th>9270</th>\n",
       "      <td>49608</td>\n",
       "      <td>1</td>\n",
       "    </tr>\n",
       "    <tr>\n",
       "      <th>9271</th>\n",
       "      <td>49610</td>\n",
       "      <td>1</td>\n",
       "    </tr>\n",
       "    <tr>\n",
       "      <th>9276</th>\n",
       "      <td>49634</td>\n",
       "      <td>1</td>\n",
       "    </tr>\n",
       "  </tbody>\n",
       "</table>\n",
       "<p>1437 rows × 2 columns</p>\n",
       "</div>"
      ],
      "text/plain": [
       "      product_id  first\n",
       "12            47      1\n",
       "19            93      1\n",
       "20            95      1\n",
       "24           116      1\n",
       "33           141      1\n",
       "...          ...    ...\n",
       "9254       49519      1\n",
       "9266       49587      1\n",
       "9270       49608      1\n",
       "9271       49610      1\n",
       "9276       49634      1\n",
       "\n",
       "[1437 rows x 2 columns]"
      ]
     },
     "execution_count": 163,
     "metadata": {},
     "output_type": "execute_result"
    }
   ],
   "source": [
    "df2[df2[\"first\"]==1]"
   ]
  },
  {
   "cell_type": "code",
   "execution_count": 166,
   "id": "3210b524-d924-4864-88ef-b6ae43c547bd",
   "metadata": {},
   "outputs": [
    {
     "data": {
      "text/plain": [
       "117"
      ]
     },
     "execution_count": 166,
     "metadata": {},
     "output_type": "execute_result"
    }
   ],
   "source": [
    "df2[\"first\"].max()"
   ]
  },
  {
   "cell_type": "code",
   "execution_count": 173,
   "id": "70be3e84-f1a8-4c8b-be9d-7adbb602ed44",
   "metadata": {},
   "outputs": [
    {
     "data": {
      "text/html": [
       "<div>\n",
       "<style scoped>\n",
       "    .dataframe tbody tr th:only-of-type {\n",
       "        vertical-align: middle;\n",
       "    }\n",
       "\n",
       "    .dataframe tbody tr th {\n",
       "        vertical-align: top;\n",
       "    }\n",
       "\n",
       "    .dataframe thead th {\n",
       "        text-align: right;\n",
       "    }\n",
       "</style>\n",
       "<table border=\"1\" class=\"dataframe\">\n",
       "  <thead>\n",
       "    <tr style=\"text-align: right;\">\n",
       "      <th></th>\n",
       "      <th>product_id</th>\n",
       "      <th>first</th>\n",
       "    </tr>\n",
       "  </thead>\n",
       "  <tbody>\n",
       "    <tr>\n",
       "      <th>4637</th>\n",
       "      <td>24852</td>\n",
       "      <td>117</td>\n",
       "    </tr>\n",
       "  </tbody>\n",
       "</table>\n",
       "</div>"
      ],
      "text/plain": [
       "      product_id  first\n",
       "4637       24852    117"
      ]
     },
     "execution_count": 173,
     "metadata": {},
     "output_type": "execute_result"
    }
   ],
   "source": [
    "df2[df2[\"first\"]==117]"
   ]
  },
  {
   "cell_type": "code",
   "execution_count": 175,
   "id": "7645fae8-1710-43b5-964e-840a6140148d",
   "metadata": {},
   "outputs": [],
   "source": [
    "df3 = df2.sort_values(by=[\"first\"],ascending=False).reset_index(drop=True)"
   ]
  },
  {
   "cell_type": "code",
   "execution_count": 179,
   "id": "82760686-a4bd-481e-b3a8-af0463ec4721",
   "metadata": {},
   "outputs": [],
   "source": [
    "df3[\"rank\"] = df3[\"first\"].rank(ascending=False)"
   ]
  },
  {
   "cell_type": "code",
   "execution_count": 180,
   "id": "bb965dda-8d70-4f52-9be6-3a0137ec600f",
   "metadata": {},
   "outputs": [],
   "source": [
    "df3[\"rank\"]=df3[\"rank\"].astype(int)"
   ]
  },
  {
   "cell_type": "code",
   "execution_count": 182,
   "id": "add16e92-8e80-40b4-9e9a-3a2840d12653",
   "metadata": {},
   "outputs": [
    {
     "data": {
      "text/html": [
       "<div>\n",
       "<style scoped>\n",
       "    .dataframe tbody tr th:only-of-type {\n",
       "        vertical-align: middle;\n",
       "    }\n",
       "\n",
       "    .dataframe tbody tr th {\n",
       "        vertical-align: top;\n",
       "    }\n",
       "\n",
       "    .dataframe thead th {\n",
       "        text-align: right;\n",
       "    }\n",
       "</style>\n",
       "<table border=\"1\" class=\"dataframe\">\n",
       "  <thead>\n",
       "    <tr style=\"text-align: right;\">\n",
       "      <th></th>\n",
       "      <th>product_id</th>\n",
       "      <th>first</th>\n",
       "      <th>rank</th>\n",
       "    </tr>\n",
       "  </thead>\n",
       "  <tbody>\n",
       "    <tr>\n",
       "      <th>0</th>\n",
       "      <td>24852</td>\n",
       "      <td>117</td>\n",
       "      <td>1</td>\n",
       "    </tr>\n",
       "    <tr>\n",
       "      <th>1</th>\n",
       "      <td>13176</td>\n",
       "      <td>62</td>\n",
       "      <td>2</td>\n",
       "    </tr>\n",
       "    <tr>\n",
       "      <th>2</th>\n",
       "      <td>27845</td>\n",
       "      <td>37</td>\n",
       "      <td>3</td>\n",
       "    </tr>\n",
       "    <tr>\n",
       "      <th>3</th>\n",
       "      <td>21137</td>\n",
       "      <td>31</td>\n",
       "      <td>4</td>\n",
       "    </tr>\n",
       "    <tr>\n",
       "      <th>4</th>\n",
       "      <td>21903</td>\n",
       "      <td>27</td>\n",
       "      <td>5</td>\n",
       "    </tr>\n",
       "    <tr>\n",
       "      <th>5</th>\n",
       "      <td>47209</td>\n",
       "      <td>24</td>\n",
       "      <td>6</td>\n",
       "    </tr>\n",
       "    <tr>\n",
       "      <th>6</th>\n",
       "      <td>19660</td>\n",
       "      <td>18</td>\n",
       "      <td>7</td>\n",
       "    </tr>\n",
       "    <tr>\n",
       "      <th>7</th>\n",
       "      <td>16797</td>\n",
       "      <td>17</td>\n",
       "      <td>8</td>\n",
       "    </tr>\n",
       "    <tr>\n",
       "      <th>8</th>\n",
       "      <td>12341</td>\n",
       "      <td>16</td>\n",
       "      <td>9</td>\n",
       "    </tr>\n",
       "    <tr>\n",
       "      <th>9</th>\n",
       "      <td>5785</td>\n",
       "      <td>16</td>\n",
       "      <td>9</td>\n",
       "    </tr>\n",
       "  </tbody>\n",
       "</table>\n",
       "</div>"
      ],
      "text/plain": [
       "   product_id  first  rank\n",
       "0       24852    117     1\n",
       "1       13176     62     2\n",
       "2       27845     37     3\n",
       "3       21137     31     4\n",
       "4       21903     27     5\n",
       "5       47209     24     6\n",
       "6       19660     18     7\n",
       "7       16797     17     8\n",
       "8       12341     16     9\n",
       "9        5785     16     9"
      ]
     },
     "execution_count": 182,
     "metadata": {},
     "output_type": "execute_result"
    }
   ],
   "source": [
    "df3.head(10)"
   ]
  },
  {
   "cell_type": "code",
   "execution_count": null,
   "id": "2b44e4f2-8e45-4a32-a2b5-13b6a89c8e35",
   "metadata": {},
   "outputs": [],
   "source": [
    "# SELECT A.product_id, A.cnt, RANK() OVER(ORDER BY A.cnt desc) AS rnk\n",
    "# FROM (SELECT product_id, COUNT(*) AS cnt \n",
    "# FROM order_products__prior\n",
    "# WHERE add_to_cart_order = 1\n",
    "# group by product_id\n",
    "# ORDER BY cnt DESC) A LIMIT 10;\n",
    "\n",
    "\n",
    "# SELECT *, \n",
    "# ROW_NUMBER() OVER(ORDER BY FIRST DESC) rnk\n",
    "# FROM \n",
    "# (SELECT  product_id,  SUM(CASE WHEN ADD_TO_CART_ORDER = 1 THEN 1 ELSE 0 END) FIRST\n",
    "# FROM order_products__prior\n",
    "# GROUP BY 1) A LIMIT 10;\n",
    "\n"
   ]
  },
  {
   "cell_type": "code",
   "execution_count": null,
   "id": "49609458-33fd-45d1-8efb-dae3c0dfabed",
   "metadata": {},
   "outputs": [],
   "source": []
  }
 ],
 "metadata": {
  "kernelspec": {
   "display_name": "Python 3 (ipykernel)",
   "language": "python",
   "name": "python3"
  },
  "language_info": {
   "codemirror_mode": {
    "name": "ipython",
    "version": 3
   },
   "file_extension": ".py",
   "mimetype": "text/x-python",
   "name": "python",
   "nbconvert_exporter": "python",
   "pygments_lexer": "ipython3",
   "version": "3.10.12"
  }
 },
 "nbformat": 4,
 "nbformat_minor": 5
}
