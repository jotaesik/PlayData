{
 "cells": [
  {
   "cell_type": "code",
   "execution_count": 17,
   "id": "0bd038db-c436-4011-8774-2e48775cd063",
   "metadata": {},
   "outputs": [],
   "source": [
    "from PIL import Image\n",
    "import scipy as sp\n",
    "import numpy as np\n",
    "import pandas as pd\n",
    "from numpy.random import rand\n",
    "import matplotlib.pyplot as plt\n",
    "import tensorflow as tf"
   ]
  },
  {
   "cell_type": "code",
   "execution_count": 19,
   "id": "558f901c-bfac-4022-a6c8-6042667184ab",
   "metadata": {},
   "outputs": [
    {
     "name": "stdout",
     "output_type": "stream",
     "text": [
      "1/1 [==============================] - 0s 135ms/step\n"
     ]
    },
    {
     "data": {
      "text/plain": [
       "'frog'"
      ]
     },
     "execution_count": 19,
     "metadata": {},
     "output_type": "execute_result"
    }
   ],
   "source": [
    "label_dict = {0:'airplane',\n",
    "             1:'automobile',\n",
    "             2:'bird',\n",
    "             3:'cat',\n",
    "             4:'deer',\n",
    "             5:'dog',\n",
    "             6:'frog',\n",
    "             7:'horse',\n",
    "             8:'ship',\n",
    "             9:'truck'}\n",
    "model = tf.keras.models.load_model('vgg_trasfer_ci10.h5')\n",
    "pil = Image.open(\"./개구리.jpeg\")\n",
    "# plt.imshow(pil)\n",
    "plt.show()\n",
    "image_arr = np.array(pil)\n",
    "image_scale = Image.fromarray(image_arr).resize((48, 48), Image.BICUBIC)\n",
    "label_dict[model.predict(np.array(image_scale).reshape(-1, 48, 48, 3)/255.).argmax(axis=1)[0]]\n"
   ]
  }
 ],
 "metadata": {
  "kernelspec": {
   "display_name": "Python 3 (ipykernel)",
   "language": "python",
   "name": "python3"
  },
  "language_info": {
   "codemirror_mode": {
    "name": "ipython",
    "version": 3
   },
   "file_extension": ".py",
   "mimetype": "text/x-python",
   "name": "python",
   "nbconvert_exporter": "python",
   "pygments_lexer": "ipython3",
   "version": "3.10.12"
  }
 },
 "nbformat": 4,
 "nbformat_minor": 5
}
