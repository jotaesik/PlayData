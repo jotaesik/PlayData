{
 "cells": [
  {
   "cell_type": "code",
   "execution_count": 1,
   "id": "da6fb90d-433d-4b50-a4d2-7a7da15df3ba",
   "metadata": {},
   "outputs": [],
   "source": [
    "# db backup \n",
    "# sudo mysqldump -uroot classicmodels > ~/backup.sql\n",
    "# mysqldump\n",
    "# root로 들어가면 pw지정안하므로 그냥 저장한다\n",
    "# >와 >>차이 >는 기존에있던 내용을 덮어씌운다. 기존내용 삭제\n",
    "# >> 기존에 있던 내용 그대로, 이어쓰기\n",
    "# cd ~/.ssh\n",
    "# cat id_rsa.pub >> authorized_keys #공개키 등록하고 여기에 키가있으면 등록없이 들어감 >>주의!!\n",
    "# authorized_keys 나만읽고쓸수있게\n",
    "# chmod 600 authorized_keys\n",
    "\n",
    "# cmd에서\n",
    "# ping ip github\n",
    "# ssh id@ip\n",
    "\n",
    "# error 시\n",
    "# wsl에서\n",
    "# sudo service ssh status\n",
    "# sudo service ssh start\n",
    "\n",
    "# cmd에서 \n",
    "# ssh id@ip 연결됨\n",
    "\n",
    "# root면 cd/home을가서 ll쳐서 계정확인\n",
    "# su 계정\n",
    "# passwd 계정\n",
    "\n",
    "# 계정 비밀번호 설정\n",
    "# sudo passwd 계정\n",
    "# C:\\Users\\Playdata2 \n",
    "\n",
    "# 윈도우의 터미널에\n",
    "# ssh-keygen -t rsa\n",
    "# 그냥 엔터엔터\n",
    "# id_rsa파일조심, id_rsa.pub 파일올리지않기\n",
    "# 몇일전에도 200만원 \n",
    "# 보안쪽이니조심\n",
    "\n",
    "# 1. 윈도우 .ssh 폴더에서 \n",
    "# 2. id_rsa.pub 메모장 열기 -> 내용 복사 \n",
    "# 3. wsl(서버) authorized_key \n",
    "# vim authorized_key \n",
    "# 마지막줄에 복사한 내용 붙여넣기, 저장하기 \n",
    "# 4. 윈도우에서 \n",
    "# ssh id@ip \n",
    "\n",
    "\n",
    "# 깃허브 공개키 등록해보기"
   ]
  }
 ],
 "metadata": {
  "kernelspec": {
   "display_name": "Python 3 (ipykernel)",
   "language": "python",
   "name": "python3"
  },
  "language_info": {
   "codemirror_mode": {
    "name": "ipython",
    "version": 3
   },
   "file_extension": ".py",
   "mimetype": "text/x-python",
   "name": "python",
   "nbconvert_exporter": "python",
   "pygments_lexer": "ipython3",
   "version": "3.10.12"
  }
 },
 "nbformat": 4,
 "nbformat_minor": 5
}
