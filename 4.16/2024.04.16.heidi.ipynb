{
 "cells": [
  {
   "cell_type": "code",
   "execution_count": 122,
   "id": "bc939c5b-a66c-4acc-a163-aebfc1e80dd8",
   "metadata": {},
   "outputs": [],
   "source": [
    "# db 복원 \n",
    "# mysql -uroot [db명] < ~/backup.sql \n"
   ]
  },
  {
   "cell_type": "code",
   "execution_count": 123,
   "id": "49460de4-d2d8-4436-bf98-ca0f509e01cc",
   "metadata": {},
   "outputs": [],
   "source": [
    "# 1) 일별 매출액 조회 \n",
    "# SELECT *\n",
    "# FROM ORDERS A \n",
    "# SELECT A.orderDate,B.priceEach* B.quantityOrdered AS RESULT\n",
    "# FROM orders A \n",
    "# LEFT JOIN orderdetails B\n",
    "# ON A.orderNumber = B.orderNumber\n",
    "\n",
    "# 날짜별합계\n",
    "# SELECT A.orderDate,SUM(B.priceEach* B.quantityOrdered) AS SALES\n",
    "# FROM orders A \n",
    "# LEFT JOIN orderdetails B\n",
    "# ON A.orderNumber = B.orderNumber\n",
    "# GROUP BY A.orderDate\n",
    "\n",
    "# SELECT A.orderDate, B.priceEach * B.quantityOrdered\n",
    "# FROM orders A\n",
    "# LEFT JOIN orderdetails B\n",
    "# ON A.orderNumber = B.orderNumber;\n",
    "\n",
    "# SELECT orders.orderDate, orderdetails.priceEach * orderdetails.quantityOrdered\n",
    "# FROM orders \n",
    "# LEFT JOIN orderdetails \n",
    "# ON orders.orderNumber = orderdetails.orderNumber;\n",
    "\n",
    "# SELECT A.orderDate, B.priceEach * B.quantityOrdered AS RESULT\n",
    "# FROM orders A\n",
    "# LEFT JOIN orderdetails B\n",
    "# ON A.orderNumber = B.orderNumber;\n",
    "\n",
    "# SELECT A.orderDate, SUM(B.priceEach * B.quantityOrdered) AS SALES\n",
    "# FROM orders A\n",
    "# LEFT JOIN orderdetails B\n",
    "# ON A.orderNumber = B.orderNumber\n",
    "# GROUP BY A.orderDate;\n",
    "\n",
    "# SELECT A.orderDate, SUM(B.priceEach * B.quantityOrdered) AS SALES\n",
    "# FROM orders A\n",
    "# LEFT JOIN orderdetails B\n",
    "# ON A.orderNumber = B.orderNumber\n",
    "# GROUP BY 1\n",
    "\n",
    "# SALES 내림차순으로 정렬\n",
    "# SELECT A.orderDate,SUM(B.priceEach* B.quantityOrdered) AS SALES\n",
    "# FROM orders A \n",
    "# LEFT JOIN orderdetails B\n",
    "# ON A.orderNumber = B.orderNumber\n",
    "# GROUP BY 1\n",
    "# ORDER BY 2 DESC\n",
    "\n",
    "# SELECT SUBSTR('ABCDEF',2,3)\n",
    "# 배열INDEX 1부터 시작"
   ]
  },
  {
   "cell_type": "code",
   "execution_count": 124,
   "id": "39875f0c-f906-4e00-ba32-2595bdc9babb",
   "metadata": {},
   "outputs": [],
   "source": [
    "# 월별 매출 합계 구하기\n",
    " # -> 정렬은 날짜순으로....\n",
    "# SELECT SUBSTR(A.orderDate,1,7)  ,SUM(B.priceEach* B.quantityOrdered) AS SALES\n",
    "# FROM orders A \n",
    "# LEFT JOIN orderdetails B\n",
    "# ON A.orderNumber = B.orderNumber\n",
    "# GROUP BY 1\n",
    "# ORDER BY 1\n"
   ]
  },
  {
   "cell_type": "code",
   "execution_count": 125,
   "id": "ffdbcbac-7133-43d3-9f1a-36d4749b7e16",
   "metadata": {},
   "outputs": [
    {
     "ename": "SyntaxError",
     "evalue": "invalid syntax (3091577148.py, line 3)",
     "output_type": "error",
     "traceback": [
      "\u001b[0;36m  Cell \u001b[0;32mIn[125], line 3\u001b[0;36m\u001b[0m\n\u001b[0;31m    건당 구매 금액(ATV, Average Transaction Value)\u001b[0m\n\u001b[0m       ^\u001b[0m\n\u001b[0;31mSyntaxError\u001b[0m\u001b[0;31m:\u001b[0m invalid syntax\n"
     ]
    }
   ],
   "source": [
    "# 건당 구매 금액(ATV, Average Transaction Value) \n",
    "# 매출 / 구매 건수 ->ATV\n",
    "# 건당 구매 금액(ATV, Average Transaction Value) \n",
    "# https://blog.naver.com/PostView.nhn?blogId=insidecompany&logNo=222030886283&parentCategoryNo=&categoryNo=24&viewDate=&isShowPopularPosts=true&from=search\n",
    "# Q : 1건의 거래는 평균적으로 얼마의 매출을 발생시키는가? \n",
    "# YY , cnt_purchaser, sales, atv\n",
    "\n",
    "# MY \n",
    "# SELECT SUBSTR(A.orderDate,1,4) AS YY , COUNT(*) AS cnt_purchaser, SUM(B.priceEach* B.quantityOrdered) AS SALES , SUM(B.priceEach* B.quantityOrdered)/COUNT(*) AS ATV\n",
    "# FROM orders A \n",
    "# LEFT JOIN orderdetails B\n",
    "# ON A.orderNumber = B.orderNumber\n",
    "# GROUP BY 1\n",
    "\n",
    "# PROFESSOR\n",
    "# SELECT SUBSTR(A.orderDate,1,4) AS YY , COUNT(DISTINCT (A.orderNumber)) AS cnt_purchaser, SUM(B.priceEach* B.quantityOrdered) AS SALES , SUM(B.priceEach* B.quantityOrdered)/COUNT(*) AS ATV\n",
    "# FROM orders A \n",
    "# LEFT JOIN orderdetails B\n",
    "# ON A.orderNumber = B.orderNumber\n",
    "# GROUP BY 1"
   ]
  },
  {
   "cell_type": "code",
   "execution_count": null,
   "id": "78cf944f-40da-43b2-8c3f-234256eb6f8e",
   "metadata": {},
   "outputs": [],
   "source": [
    "# 국가별, 도시별 매출액 \n",
    "# SELECT C.country, C.city, SUM(B.priceEach* B.quantityOrdered) AS SALES\n",
    "# FROM orders A \n",
    "# LEFT JOIN orderdetails B\n",
    "# ON A.orderNumber = B.orderNumber\n",
    "# LEFT JOIN customers C\n",
    "# ON A.customerNumber=C.customerNumber \n",
    "# GROUP BY C.country, C.city\n",
    "# ORDER BY 1"
   ]
  },
  {
   "cell_type": "code",
   "execution_count": null,
   "id": "fef26df4-fdf6-4057-9ba0-d7c828116869",
   "metadata": {},
   "outputs": [],
   "source": [
    "import sqlalchemy\n",
    "from urllib import parse\n",
    "import pandas as pd\n",
    "user = 'id'\n",
    "password = 'pw'\n",
    "host='ip'\n",
    "port = port\n",
    "database = 'classicmodels'\n",
    "password = parse.quote_plus(password)\n",
    "engine = sqlalchemy.create_engine(f\"mysql://{user}:{password}@{host}:{port}/{database}\")"
   ]
  },
  {
   "cell_type": "code",
   "execution_count": null,
   "id": "961d1f4d-d695-4c09-91b8-3df450faed46",
   "metadata": {},
   "outputs": [],
   "source": [
    "order = pd.read_sql_query(\"select * from orders\", con=engine)\n",
    "orderdetails = pd.read_sql_query(\"select * from orderdetails\", con=engine)\n",
    "customers = pd.read_sql_query(\"select * from customers\", con=engine)"
   ]
  },
  {
   "cell_type": "code",
   "execution_count": null,
   "id": "a8df21c2-b01c-4276-b775-c644ad156de9",
   "metadata": {},
   "outputs": [],
   "source": [
    "pd_rt1 = pd.merge(order, orderdetails, on=['orderNumber'], how='left')"
   ]
  },
  {
   "cell_type": "code",
   "execution_count": null,
   "id": "bd00d65b-da4a-4329-96dc-de84ec41a1e5",
   "metadata": {},
   "outputs": [],
   "source": [
    "df = pd.merge(pd_rt1, customers, on=['customerNumber'],how='left')\n",
    "# df = pd.merge(pd.merge(order, orderdetails, on='orderNumber', how='left'), customers, on=\"customerNumber\", how='left')"
   ]
  },
  {
   "cell_type": "code",
   "execution_count": null,
   "id": "d5c45392-2a78-4472-929e-337e832fe27d",
   "metadata": {},
   "outputs": [],
   "source": [
    "df['tmp']=df['priceEach']*df['quantityOrdered']"
   ]
  },
  {
   "cell_type": "code",
   "execution_count": null,
   "id": "b2d600d9-8adc-4b2d-a5e3-513ccd0732dc",
   "metadata": {},
   "outputs": [],
   "source": [
    "df2 = df.groupby(['country','city'],as_index=False)[['tmp']].sum().sort_values(by=['country','city']).rename(columns={\"tmp\":\"atv\"})"
   ]
  },
  {
   "cell_type": "code",
   "execution_count": null,
   "id": "c63841b1-4d6f-4edd-ac1c-e0057e49424e",
   "metadata": {},
   "outputs": [],
   "source": [
    "\n",
    "df2 = df.groupby(['country', 'city'],as_index=False)[['tmp']].sum().sort_values(by=['country', \\\n",
    "                                        'city']).rename(columns={'tmp' : 'sales'})\n"
   ]
  },
  {
   "cell_type": "code",
   "execution_count": null,
   "id": "779dbbca-05d9-4fc4-b137-da5c6915f314",
   "metadata": {},
   "outputs": [],
   "source": []
  },
  {
   "cell_type": "code",
   "execution_count": null,
   "id": "bfbc7201-6228-4523-9333-2438c4ea9791",
   "metadata": {},
   "outputs": [],
   "source": [
    "df2['rank'] = df2['sales'].rank(method=\"min\",ascending=False)"
   ]
  },
  {
   "cell_type": "code",
   "execution_count": null,
   "id": "e1ae0c84-6110-4cb1-9551-81dc8997f778",
   "metadata": {},
   "outputs": [],
   "source": [
    "df2"
   ]
  },
  {
   "cell_type": "code",
   "execution_count": null,
   "id": "3bd72caa-74b5-4da8-9704-604cd51bf1f5",
   "metadata": {},
   "outputs": [],
   "source": [
    "df2.sort_values(by=['sales'],ascending=False)"
   ]
  },
  {
   "cell_type": "code",
   "execution_count": null,
   "id": "6b511f07-4ca6-4cba-9e34-e7d20d98de3b",
   "metadata": {},
   "outputs": [],
   "source": [
    "# CASE WHEN 조건 THEN 결과\n",
    "# SELECT CASE WHEN COUNTRY IN (\"Cnada\",\"USA\") THEN 'North America' \n",
    "# ELSE 'Others'  END COUNTRY_GRP\n",
    "# FROM customers \n",
    "\n",
    "# DENSE_RANK() 1 1 2 2 3\n",
    "# RANK() 1 1 3 3 5"
   ]
  },
  {
   "cell_type": "code",
   "execution_count": null,
   "id": "a662f8a9-84ff-4e39-bf9d-bddb819820f7",
   "metadata": {},
   "outputs": [],
   "source": [
    "# SELECT COUNT(*) FROM\n",
    "# (SELECT C.country, C.city, \n",
    "# SUM(B.priceEach * B.quantityOrdered) AS sales\n",
    "# FROM orders A\n",
    "# LEFT JOIN orderdetails B\n",
    "# ON A.orderNumber = B.orderNumber\n",
    "# LEFT JOIN customers C\n",
    "# ON A.customerNumber = C.customerNumber\n",
    "# GROUP BY 1, 2 \n",
    "# ORDER BY 1) D\n",
    "\n",
    "# 괄호로 감싸주고 무조건 이름있어야한다"
   ]
  },
  {
   "cell_type": "code",
   "execution_count": null,
   "id": "dcc42d4c-6b80-4ed5-a9b6-3a321300b8e1",
   "metadata": {},
   "outputs": [],
   "source": [
    "pwd"
   ]
  },
  {
   "cell_type": "code",
   "execution_count": null,
   "id": "116575a8-5cd5-4f6f-98ea-da40d34668bb",
   "metadata": {},
   "outputs": [],
   "source": [
    "data = pd.read_csv(\"./dataset2.csv\",delimiter=\";\")"
   ]
  },
  {
   "cell_type": "code",
   "execution_count": null,
   "id": "f27d80e1-36dc-47ac-a592-a9e46ce382b9",
   "metadata": {},
   "outputs": [],
   "source": [
    "data.shape"
   ]
  },
  {
   "cell_type": "code",
   "execution_count": null,
   "id": "65facbbe-92aa-426c-ab8b-6fdd91b4e053",
   "metadata": {},
   "outputs": [],
   "source": [
    "display(data.head(1))\n",
    "print(data.columns)"
   ]
  },
  {
   "cell_type": "code",
   "execution_count": null,
   "id": "39b1ebba-38a2-4971-ac79-2fe9ba831669",
   "metadata": {},
   "outputs": [],
   "source": [
    "for x in data.columns:\n",
    "    print(f\"`{x}`\")"
   ]
  },
  {
   "cell_type": "code",
   "execution_count": null,
   "id": "21dcc11a-29c0-4494-9bd0-c80c87b7e480",
   "metadata": {},
   "outputs": [],
   "source": []
  },
  {
   "cell_type": "code",
   "execution_count": null,
   "id": "e15b4153-7215-4279-a1a3-5c930dd02f34",
   "metadata": {},
   "outputs": [],
   "source": [
    "# user = 'id'\n",
    "# password = 'pw'\n",
    "# host='ip'\n",
    "# port = port\n",
    "# database = 'classicmodels'\n",
    "# password = parse.quote_plus(password)"
   ]
  },
  {
   "cell_type": "code",
   "execution_count": null,
   "id": "db1e5053-e167-4231-b762-defdf6a28fa7",
   "metadata": {},
   "outputs": [],
   "source": [
    "import pymysql\n",
    "con =pymysql.connect(host='ip', user='id', password='pw', db='classicmodels', charset='utf8')\n",
    "cur = con.cursor()"
   ]
  },
  {
   "cell_type": "code",
   "execution_count": null,
   "id": "91c2ceae-d61e-46b8-85f3-a603ded8aa34",
   "metadata": {},
   "outputs": [],
   "source": [
    "cur.execute(\"show tables\")"
   ]
  },
  {
   "cell_type": "code",
   "execution_count": null,
   "id": "f431c711-ec86-46b3-886b-8bbbc58d5a3d",
   "metadata": {},
   "outputs": [],
   "source": [
    "for x in cur.fetchall(): #한번보여주고 메모리 날림 \n",
    "    print(x[0])"
   ]
  },
  {
   "cell_type": "code",
   "execution_count": null,
   "id": "47b39555-a4af-45c0-b2dc-d46f060f1c73",
   "metadata": {},
   "outputs": [],
   "source": [
    "cur.execute(sql)"
   ]
  },
  {
   "cell_type": "code",
   "execution_count": null,
   "id": "310e1105-d097-4d42-8bbe-558e4406ed92",
   "metadata": {},
   "outputs": [],
   "source": [
    "con.commit()"
   ]
  },
  {
   "cell_type": "code",
   "execution_count": null,
   "id": "e756a834-6631-4215-bfc5-0fba485cd338",
   "metadata": {},
   "outputs": [],
   "source": [
    "sql= \"\"\"CREATE Table dataset2\n",
    "(\n",
    "    `Clothing ID` INT,\n",
    "    `Age` INT,\n",
    "    `Title` VARCHAR(30),\n",
    "    `Review Text` TEXT,\n",
    "    `Rating` INT,\n",
    "    `Recommended IND` INT,\n",
    "    `Positive Feedback Count`INT,\n",
    "    `Division Name` VARCHAR(30),\n",
    "    `Department Name` VARCHAR(30),\n",
    "    `Class Name` VARCHAR(30)\n",
    ")\"\"\""
   ]
  },
  {
   "cell_type": "code",
   "execution_count": null,
   "id": "5aa53701-3b8a-42ed-a508-5b56b47268a6",
   "metadata": {},
   "outputs": [],
   "source": [
    "def tmp(x):\n",
    "    global var_x \n",
    "    var_x = x\n",
    "    cur.execute(\"INSERT  INTO dataset2 VALUES (%s, %s, %s, %s, %s,%s, %s, %s, %s, %s)\", x.tolist())\n",
    "    return 0"
   ]
  },
  {
   "cell_type": "code",
   "execution_count": null,
   "id": "16bbc351-89d3-4de7-8c8d-a47f1559ac87",
   "metadata": {},
   "outputs": [],
   "source": [
    "data=  data.where(pd.notnull(data), None)\n"
   ]
  },
  {
   "cell_type": "code",
   "execution_count": 126,
   "id": "b8bdf789-572f-49f5-bf67-4e0799d1025b",
   "metadata": {},
   "outputs": [
    {
     "data": {
      "text/html": [
       "<div>\n",
       "<style scoped>\n",
       "    .dataframe tbody tr th:only-of-type {\n",
       "        vertical-align: middle;\n",
       "    }\n",
       "\n",
       "    .dataframe tbody tr th {\n",
       "        vertical-align: top;\n",
       "    }\n",
       "\n",
       "    .dataframe thead th {\n",
       "        text-align: right;\n",
       "    }\n",
       "</style>\n",
       "<table border=\"1\" class=\"dataframe\">\n",
       "  <thead>\n",
       "    <tr style=\"text-align: right;\">\n",
       "      <th></th>\n",
       "      <th>Clothing ID</th>\n",
       "      <th>Age</th>\n",
       "      <th>Title</th>\n",
       "      <th>Review Text</th>\n",
       "      <th>Rating</th>\n",
       "      <th>Recommended IND</th>\n",
       "      <th>Positive Feedback Count</th>\n",
       "      <th>Division Name</th>\n",
       "      <th>Department Name</th>\n",
       "      <th>Class Name</th>\n",
       "    </tr>\n",
       "  </thead>\n",
       "  <tbody>\n",
       "    <tr>\n",
       "      <th>0</th>\n",
       "      <td>767</td>\n",
       "      <td>33</td>\n",
       "      <td>None</td>\n",
       "      <td>Absolutely wonderful - silky and sexy and comf...</td>\n",
       "      <td>4</td>\n",
       "      <td>1</td>\n",
       "      <td>0</td>\n",
       "      <td>Initmates</td>\n",
       "      <td>Intimate</td>\n",
       "      <td>Intimates</td>\n",
       "    </tr>\n",
       "  </tbody>\n",
       "</table>\n",
       "</div>"
      ],
      "text/plain": [
       "   Clothing ID  Age Title                                        Review Text  \\\n",
       "0          767   33  None  Absolutely wonderful - silky and sexy and comf...   \n",
       "\n",
       "   Rating  Recommended IND  Positive Feedback Count Division Name  \\\n",
       "0       4                1                        0     Initmates   \n",
       "\n",
       "  Department Name Class Name  \n",
       "0        Intimate  Intimates  "
      ]
     },
     "execution_count": 126,
     "metadata": {},
     "output_type": "execute_result"
    }
   ],
   "source": [
    "data.head(1)"
   ]
  },
  {
   "cell_type": "code",
   "execution_count": 127,
   "id": "31f32cec-c380-4cdf-9dcc-6ff24eb16fd8",
   "metadata": {},
   "outputs": [],
   "source": [
    "# data.iloc["
   ]
  },
  {
   "cell_type": "code",
   "execution_count": 128,
   "id": "2ea7f9f6-0c44-4d03-a5ee-8788b40648c7",
   "metadata": {},
   "outputs": [
    {
     "data": {
      "text/plain": [
       "0        0\n",
       "1        0\n",
       "2        0\n",
       "3        0\n",
       "4        0\n",
       "        ..\n",
       "20598    0\n",
       "20599    0\n",
       "20600    0\n",
       "20601    0\n",
       "20602    0\n",
       "Length: 20603, dtype: int64"
      ]
     },
     "execution_count": 128,
     "metadata": {},
     "output_type": "execute_result"
    }
   ],
   "source": [
    "data.apply(tmp,axis=1)"
   ]
  },
  {
   "cell_type": "code",
   "execution_count": 129,
   "id": "b63c713f-fea9-447b-9a93-0580892a4136",
   "metadata": {},
   "outputs": [],
   "source": [
    "con.commit()"
   ]
  },
  {
   "cell_type": "code",
   "execution_count": 130,
   "id": "d819a240-f0f0-4845-98e4-89624d42a390",
   "metadata": {},
   "outputs": [
    {
     "data": {
      "text/plain": [
       "(20603, 10)"
      ]
     },
     "execution_count": 130,
     "metadata": {},
     "output_type": "execute_result"
    }
   ],
   "source": [
    "data.shape"
   ]
  },
  {
   "cell_type": "code",
   "execution_count": 131,
   "id": "1fd51b69-a42e-4486-9935-3a90c83c9126",
   "metadata": {},
   "outputs": [
    {
     "data": {
      "text/plain": [
       "1"
      ]
     },
     "execution_count": 131,
     "metadata": {},
     "output_type": "execute_result"
    }
   ],
   "source": [
    "cur.execute(\"select count(*) from dataset2\")"
   ]
  },
  {
   "cell_type": "code",
   "execution_count": 132,
   "id": "2e13dc47-97e0-4cae-9a27-404469c1b09c",
   "metadata": {},
   "outputs": [
    {
     "data": {
      "text/plain": [
       "((41206,),)"
      ]
     },
     "execution_count": 132,
     "metadata": {},
     "output_type": "execute_result"
    }
   ],
   "source": [
    "cur.fetchall()"
   ]
  },
  {
   "cell_type": "code",
   "execution_count": 133,
   "id": "8d2b3e30-721d-4a91-aadc-8fe85f37e1e8",
   "metadata": {},
   "outputs": [
    {
     "data": {
      "text/plain": [
       "0"
      ]
     },
     "execution_count": 133,
     "metadata": {},
     "output_type": "execute_result"
    }
   ],
   "source": [
    "cur.execute(\"truncate table dataset2\")"
   ]
  },
  {
   "cell_type": "code",
   "execution_count": 134,
   "id": "88126bb4-c372-4681-8d16-a0abc23a8431",
   "metadata": {},
   "outputs": [],
   "source": [
    "con.commit() #heide autocommit 파이썬은 autocommit x"
   ]
  },
  {
   "cell_type": "code",
   "execution_count": 135,
   "id": "80dc3c60-2b23-4ca4-93c0-56b734c27ac4",
   "metadata": {},
   "outputs": [],
   "source": [
    "def tmp(x):\n",
    "    global var_x \n",
    "    var_x = x\n",
    "    cur.execute(\"INSERT  INTO dataset2 VALUES (%s, %s, %s, %s, %s,%s, %s, %s, %s, %s)\", x.tolist())\n",
    "    return 0"
   ]
  },
  {
   "cell_type": "code",
   "execution_count": 136,
   "id": "4788125e-c24f-400a-a4b0-83916e5e1a6a",
   "metadata": {},
   "outputs": [],
   "source": [
    "insert_sql=\"INSERT  INTO dataset2 VALUES (%s, %s, %s, %s, %s,%s, %s, %s, %s, %s)\""
   ]
  },
  {
   "cell_type": "code",
   "execution_count": 137,
   "id": "4c84eaac-b48a-47da-b6cb-aaad0a53674b",
   "metadata": {},
   "outputs": [
    {
     "data": {
      "text/plain": [
       "0        1\n",
       "1        1\n",
       "2        1\n",
       "3        1\n",
       "4        1\n",
       "        ..\n",
       "20598    1\n",
       "20599    1\n",
       "20600    1\n",
       "20601    1\n",
       "20602    1\n",
       "Length: 20603, dtype: int64"
      ]
     },
     "execution_count": 137,
     "metadata": {},
     "output_type": "execute_result"
    }
   ],
   "source": [
    "data.apply(lambda x : cur.execute(insert_sql,x.tolist()),axis=1)"
   ]
  },
  {
   "cell_type": "code",
   "execution_count": 138,
   "id": "790b9b8a-23f2-42f1-bbb3-a639c442d8a6",
   "metadata": {},
   "outputs": [],
   "source": [
    "con.commit()"
   ]
  },
  {
   "cell_type": "code",
   "execution_count": 139,
   "id": "2bd5129b-29a0-495d-ac67-b25b5e1effa2",
   "metadata": {},
   "outputs": [],
   "source": [
    "con.rollback() #commit하기전에는 기회가있지만 commit하면 되돌릴수없다"
   ]
  },
  {
   "cell_type": "code",
   "execution_count": 140,
   "id": "48769805-9330-45cd-8b21-55a29548263a",
   "metadata": {},
   "outputs": [],
   "source": [
    "# • Clothing ID: 상품 번호(Unique Value) \n",
    "# • Age: 리뷰작성자의 연령 \n",
    "# • Title: 리뷰 제목 \n",
    "# • ReviewText: 리뷰내용 \n",
    "# • Rating: 리뷰 작성자가 제출한 평점 \n",
    "# • Recommended IND: 리뷰어에 의한 상품 추천 여부 \n",
    "# • Positive Feedback Count: 긍정 적 피드백 수 \n",
    "# • Division Name: 상품이 속한 Division \n",
    "# • Department Name: 상품이 속한 Department \n",
    "# • Class Name: 상품의 타입\n",
    "\n",
    "#Division name별 평균 평점 "
   ]
  },
  {
   "cell_type": "code",
   "execution_count": null,
   "id": "4a203fdf-d33b-4488-99cf-907058910d39",
   "metadata": {},
   "outputs": [],
   "source": [
    "# SELECT `Division Name` , AVG(Rating) AS AVG_RATE\n",
    "# FROM dataset2\n",
    "# GROUP BY `Division Name`\n",
    "# ORDER BY 2"
   ]
  },
  {
   "cell_type": "code",
   "execution_count": 141,
   "id": "1c256a4f-50de-4be6-ad7d-2491336503bc",
   "metadata": {},
   "outputs": [
    {
     "data": {
      "text/plain": [
       "pandas.core.frame.DataFrame"
      ]
     },
     "execution_count": 141,
     "metadata": {},
     "output_type": "execute_result"
    }
   ],
   "source": [
    "type(data)"
   ]
  },
  {
   "cell_type": "code",
   "execution_count": 148,
   "id": "121e4add-556b-4591-935c-d57323124130",
   "metadata": {},
   "outputs": [
    {
     "data": {
      "text/html": [
       "<div>\n",
       "<style scoped>\n",
       "    .dataframe tbody tr th:only-of-type {\n",
       "        vertical-align: middle;\n",
       "    }\n",
       "\n",
       "    .dataframe tbody tr th {\n",
       "        vertical-align: top;\n",
       "    }\n",
       "\n",
       "    .dataframe thead th {\n",
       "        text-align: right;\n",
       "    }\n",
       "</style>\n",
       "<table border=\"1\" class=\"dataframe\">\n",
       "  <thead>\n",
       "    <tr style=\"text-align: right;\">\n",
       "      <th></th>\n",
       "      <th>Division Name</th>\n",
       "      <th>avg_rate</th>\n",
       "    </tr>\n",
       "  </thead>\n",
       "  <tbody>\n",
       "    <tr>\n",
       "      <th>2</th>\n",
       "      <td>Initmates</td>\n",
       "      <td>4.294985</td>\n",
       "    </tr>\n",
       "    <tr>\n",
       "      <th>1</th>\n",
       "      <td>General Petite</td>\n",
       "      <td>4.208867</td>\n",
       "    </tr>\n",
       "    <tr>\n",
       "      <th>0</th>\n",
       "      <td>General</td>\n",
       "      <td>4.172644</td>\n",
       "    </tr>\n",
       "  </tbody>\n",
       "</table>\n",
       "</div>"
      ],
      "text/plain": [
       "    Division Name  avg_rate\n",
       "2       Initmates  4.294985\n",
       "1  General Petite  4.208867\n",
       "0         General  4.172644"
      ]
     },
     "execution_count": 148,
     "metadata": {},
     "output_type": "execute_result"
    }
   ],
   "source": [
    "data.groupby(['Division Name'],as_index=False)[['Rating']].mean().sort_values(by=['Rating'],ascending=False).rename(columns={\"Rating\" : \"avg_rate\"})"
   ]
  },
  {
   "cell_type": "code",
   "execution_count": 156,
   "id": "463a63ab-1d6d-4371-ba24-68645f09c9e0",
   "metadata": {},
   "outputs": [],
   "source": [
    "def tmp(x):\n",
    "    if x<20:\n",
    "        return \"청소년\"\n",
    "    elif x<50:\n",
    "        return \"청년\"\n",
    "    else:\n",
    "        return \"중년\""
   ]
  },
  {
   "cell_type": "code",
   "execution_count": 157,
   "id": "336d2462-0d67-408d-89de-24e35d71470f",
   "metadata": {},
   "outputs": [
    {
     "data": {
      "text/plain": [
       "0        청년\n",
       "1        청년\n",
       "2        중년\n",
       "3        중년\n",
       "4        청년\n",
       "         ..\n",
       "20598    청년\n",
       "20599    청년\n",
       "20600    청년\n",
       "20601    청년\n",
       "20602    중년\n",
       "Name: Age, Length: 20603, dtype: object"
      ]
     },
     "execution_count": 157,
     "metadata": {},
     "output_type": "execute_result"
    }
   ],
   "source": [
    "data[\"Age\"].apply(tmp)"
   ]
  },
  {
   "cell_type": "code",
   "execution_count": 160,
   "id": "a5b8d387-2a64-4191-bd14-a27d6ec40cd3",
   "metadata": {},
   "outputs": [],
   "source": [
    "data[\"age_class\"] = data[\"Age\"].apply(lambda x : '청소년' if x<20 else (\"청년\" if x<50 else \"중년\" ) )"
   ]
  },
  {
   "cell_type": "code",
   "execution_count": 161,
   "id": "e1591dbb-c3de-4aa2-8d4a-f65d94230c04",
   "metadata": {},
   "outputs": [
    {
     "data": {
      "text/plain": [
       "age_class\n",
       "청년     14730\n",
       "중년      5833\n",
       "청소년       40\n",
       "Name: count, dtype: int64"
      ]
     },
     "execution_count": 161,
     "metadata": {},
     "output_type": "execute_result"
    }
   ],
   "source": [
    "data['age_class'].value_counts()"
   ]
  },
  {
   "cell_type": "code",
   "execution_count": 158,
   "id": "66351f38-6a20-45b0-908e-ff9c7a0091ac",
   "metadata": {},
   "outputs": [],
   "source": [
    "# for i in range(len(data)):\n",
    "#     age_temp=data.loc[i,\"Age\"]\n",
    "#     if age_temp<20:\n",
    "#         data.loc[i,\"age_class\"]=\"청년\"\n",
    "#     elsif \n",
    "#     # print(data.loc[i,'Age'])\n",
    "#     # break;"
   ]
  },
  {
   "cell_type": "code",
   "execution_count": 150,
   "id": "93e28ecf-e1d4-4b35-84eb-cbc92a8a8be4",
   "metadata": {},
   "outputs": [
    {
     "data": {
      "text/html": [
       "<div>\n",
       "<style scoped>\n",
       "    .dataframe tbody tr th:only-of-type {\n",
       "        vertical-align: middle;\n",
       "    }\n",
       "\n",
       "    .dataframe tbody tr th {\n",
       "        vertical-align: top;\n",
       "    }\n",
       "\n",
       "    .dataframe thead th {\n",
       "        text-align: right;\n",
       "    }\n",
       "</style>\n",
       "<table border=\"1\" class=\"dataframe\">\n",
       "  <thead>\n",
       "    <tr style=\"text-align: right;\">\n",
       "      <th></th>\n",
       "      <th>Age</th>\n",
       "      <th>Rating</th>\n",
       "    </tr>\n",
       "  </thead>\n",
       "  <tbody>\n",
       "    <tr>\n",
       "      <th>0</th>\n",
       "      <td>18</td>\n",
       "      <td>4.666667</td>\n",
       "    </tr>\n",
       "    <tr>\n",
       "      <th>1</th>\n",
       "      <td>19</td>\n",
       "      <td>4.162162</td>\n",
       "    </tr>\n",
       "    <tr>\n",
       "      <th>2</th>\n",
       "      <td>20</td>\n",
       "      <td>4.432990</td>\n",
       "    </tr>\n",
       "    <tr>\n",
       "      <th>3</th>\n",
       "      <td>21</td>\n",
       "      <td>4.432990</td>\n",
       "    </tr>\n",
       "    <tr>\n",
       "      <th>4</th>\n",
       "      <td>22</td>\n",
       "      <td>4.488189</td>\n",
       "    </tr>\n",
       "    <tr>\n",
       "      <th>...</th>\n",
       "      <td>...</td>\n",
       "      <td>...</td>\n",
       "    </tr>\n",
       "    <tr>\n",
       "      <th>72</th>\n",
       "      <td>91</td>\n",
       "      <td>2.750000</td>\n",
       "    </tr>\n",
       "    <tr>\n",
       "      <th>73</th>\n",
       "      <td>92</td>\n",
       "      <td>5.000000</td>\n",
       "    </tr>\n",
       "    <tr>\n",
       "      <th>74</th>\n",
       "      <td>93</td>\n",
       "      <td>4.500000</td>\n",
       "    </tr>\n",
       "    <tr>\n",
       "      <th>75</th>\n",
       "      <td>94</td>\n",
       "      <td>3.333333</td>\n",
       "    </tr>\n",
       "    <tr>\n",
       "      <th>76</th>\n",
       "      <td>99</td>\n",
       "      <td>4.500000</td>\n",
       "    </tr>\n",
       "  </tbody>\n",
       "</table>\n",
       "<p>77 rows × 2 columns</p>\n",
       "</div>"
      ],
      "text/plain": [
       "    Age    Rating\n",
       "0    18  4.666667\n",
       "1    19  4.162162\n",
       "2    20  4.432990\n",
       "3    21  4.432990\n",
       "4    22  4.488189\n",
       "..  ...       ...\n",
       "72   91  2.750000\n",
       "73   92  5.000000\n",
       "74   93  4.500000\n",
       "75   94  3.333333\n",
       "76   99  4.500000\n",
       "\n",
       "[77 rows x 2 columns]"
      ]
     },
     "execution_count": 150,
     "metadata": {},
     "output_type": "execute_result"
    }
   ],
   "source": [
    "data['age_div']= \n",
    "\n",
    "for i in range():\n",
    "    if data[i] \n",
    "# 20살 미만 청년 20~40 중년 40이상은 노년"
   ]
  },
  {
   "cell_type": "code",
   "execution_count": null,
   "id": "f42431c5-fb95-4e04-a3e7-dbf7c7121ee4",
   "metadata": {},
   "outputs": [],
   "source": [
    "SELECT CASE WHEN AGE BETWEEN 0 AND 19 THEN \"청소년\"\n",
    "WHEN AGE BETWEEN 20 AND 49 THEN \"청년\"\n",
    "WHEN AGE BETWEEN 49 AND 99 THEN \"중년\" END age_class\n",
    "from dataset2"
   ]
  },
  {
   "cell_type": "code",
   "execution_count": null,
   "id": "2e1e5331-c32e-4bd3-9077-bbd98b539ae3",
   "metadata": {},
   "outputs": [],
   "source": [
    " # git pull origin master"
   ]
  }
 ],
 "metadata": {
  "kernelspec": {
   "display_name": "Python 3 (ipykernel)",
   "language": "python",
   "name": "python3"
  },
  "language_info": {
   "codemirror_mode": {
    "name": "ipython",
    "version": 3
   },
   "file_extension": ".py",
   "mimetype": "text/x-python",
   "name": "python",
   "nbconvert_exporter": "python",
   "pygments_lexer": "ipython3",
   "version": "3.10.12"
  }
 },
 "nbformat": 4,
 "nbformat_minor": 5
}
