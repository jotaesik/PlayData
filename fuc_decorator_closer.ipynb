{
 "cells": [
  {
   "cell_type": "markdown",
   "id": "c107e43f-2d89-4130-afcd-b1695323b664",
   "metadata": {},
   "source": [
    "# 함수 데커레이터와 클로저 \n",
    "* 함수 데커레이터는 소스 코드에 있는 함수를 '표시'해서 함수의 작동을 개선할 수 있게 해줍니다. 강력한 기능이지만, 데커레이더를 자유롭게 사용하기 위해서는 클로저 것을 먼저 알아야 합니다. \n",
    "* nonlocal 키워드 "
   ]
  },
  {
   "cell_type": "markdown",
   "id": "c7704346-f841-423f-b8ab-d9f0a5dcbc5b",
   "metadata": {},
   "source": [
    "## 살펴볼 내용\n",
    "* 파이썬이 데커레이터 구문을 평가하는 방식 \n",
    "* 변수가 지역 변수인지 파있너이 판단하는 방식 \n",
    "* 클로저의 존재 이유와 작동 방식 \n",
    "* nonlocal로 해결할 수 있는 문제 \n",
    "\n",
    "## 주제 \n",
    "* 잘 작동하는 데커레이터 구현하기 \n",
    "* 표준 라이브러리에서 제공하는 재미있는 데커레이터들 \n",
    "* 매개변수화된 데커레이터 구현하기 "
   ]
  },
  {
   "cell_type": "markdown",
   "id": "6b324b6d-7428-4d4c-b862-105fc2876729",
   "metadata": {},
   "source": [
    "## 데커레이터 기본 지식 \n",
    "* 데커레이터는 다른 함수를 인수로 받는 callable이다. \n",
    "* 데커레이터는 데커레이트된 함수에 어떤 처리를 수행하고, 함수를 반환하거나 함수를 다른 함수나 callable 객체로 대체한다. "
   ]
  },
  {
   "cell_type": "markdown",
   "id": "9aea9683-2e74-47b3-814f-19fa9fb64ddf",
   "metadata": {},
   "source": [
    "* 아래 코드에서처럼 decorate라는 이름의 데커레이터가 있다고 가정해보자 "
   ]
  },
  {
   "cell_type": "code",
   "execution_count": 1,
   "id": "3e903b44-1275-48b4-b911-227535129d41",
   "metadata": {},
   "outputs": [],
   "source": [
    "import decorator"
   ]
  },
  {
   "cell_type": "code",
   "execution_count": 3,
   "id": "be69859c-72c0-408d-beea-3a848e0a9f06",
   "metadata": {},
   "outputs": [],
   "source": [
    "def deco(func):\n",
    "    def inner(): #함수안에 함수 선언가능 객체이므로\n",
    "        print (\"running inner()\")\n",
    "    return inner"
   ]
  },
  {
   "cell_type": "markdown",
   "id": "eeb62388-1e1d-48d2-a44f-269a30b6f3dd",
   "metadata": {},
   "source": [
    "* deco()가 inner() 함수 객체를 반환한다. "
   ]
  },
  {
   "cell_type": "code",
   "execution_count": 4,
   "id": "9b3825e6-89b0-457a-baad-39226fb0db64",
   "metadata": {},
   "outputs": [],
   "source": [
    "@deco\n",
    "def target():\n",
    "    print ('running target()')"
   ]
  },
  {
   "cell_type": "markdown",
   "id": "b791f1fd-f45b-413d-8b13-b89ccd0e7f40",
   "metadata": {},
   "source": [
    "* target()을 deco로 데커레이트했다"
   ]
  },
  {
   "cell_type": "code",
   "execution_count": 5,
   "id": "07d1c098-2898-4400-b8df-db4c987b2e1e",
   "metadata": {},
   "outputs": [
    {
     "name": "stdout",
     "output_type": "stream",
     "text": [
      "running inner()\n"
     ]
    }
   ],
   "source": [
    "target()\n",
    "#기능을 추가하고싶을때 @deco 를 적고 함수를 입력한다\n",
    "# 모듈추가하고싶을때 기존함수에서"
   ]
  },
  {
   "cell_type": "markdown",
   "id": "97a2a3e2-fafb-4bee-98c4-cd4a8e2835a5",
   "metadata": {},
   "source": [
    "* target의 값을 조사해보면 inner()를 가리키고 있음을 알 수 있음"
   ]
  },
  {
   "cell_type": "code",
   "execution_count": 5,
   "id": "a914d6be-a24b-485f-8118-ad8c532807e2",
   "metadata": {},
   "outputs": [
    {
     "data": {
      "text/plain": [
       "<function __main__.deco.<locals>.inner()>"
      ]
     },
     "execution_count": 5,
     "metadata": {},
     "output_type": "execute_result"
    }
   ],
   "source": [
    "target "
   ]
  },
  {
   "cell_type": "markdown",
   "id": "a9c17dc5-e3ba-4943-959a-c9260435921c",
   "metadata": {},
   "source": [
    "* 데커레이터는는 다른 함수를 인수로 전달해서 호출하는 일반적인 콜러블과 동일함 \n",
    "* 그렇지만 런타임에 프로그램 행위를 변경하는 메타프로그래밍을 할 때 데커레이터가 상당히 편리함 \n",
    "* 1. 데커레이터는 데커레이트된 함수를 다른 함수로 대체하는 능력이 있음 \n",
    "* 2. 데커레이터는 모듈이 로딩될 때 바로 실행 "
   ]
  },
  {
   "cell_type": "markdown",
   "id": "57d30c52-cdb5-4b7c-b5fd-32e2fa3f7d74",
   "metadata": {},
   "source": [
    "## 데커레이터를 실행하는 시점"
   ]
  },
  {
   "cell_type": "code",
   "execution_count": 6,
   "id": "a6c83ec0-e651-4418-b436-e7f011da1352",
   "metadata": {},
   "outputs": [
    {
     "name": "stdout",
     "output_type": "stream",
     "text": [
      "running register(<function f1 at 0x00000222D68E3B80>)\n",
      "running register(<function f2 at 0x00000222D68E3DC0>)\n",
      "running main()\n",
      "registry -> [<function f1 at 0x00000222D68E3B80>, <function f2 at 0x00000222D68E3DC0>]\n",
      "running f1()\n",
      "running f2()\n",
      "running f3()\n"
     ]
    }
   ],
   "source": [
    "%run registration.py"
   ]
  },
  {
   "cell_type": "markdown",
   "id": "843261af-ef6e-48b8-8960-788390553dff",
   "metadata": {},
   "source": [
    "* register()는 모듈 내의 다른 어떠한 함수보다 먼저 실행(두번) 된다. \n",
    "* register()가 호출될 때 데커레이된 함수를 인수로 받는다. \n",
    "* 모듈이 로딩된 후 registry는 데커레이터된 두 개의 함수 f1()와 f2()에 대한 참조를 가진다."
   ]
  },
  {
   "cell_type": "code",
   "execution_count": 7,
   "id": "ec4be1a4-3d56-42b4-b1af-5723a80ac8c0",
   "metadata": {},
   "outputs": [
    {
     "name": "stdout",
     "output_type": "stream",
     "text": [
      "running register(<function f1 at 0x00000222D68E3D30>)\n",
      "running register(<function f2 at 0x00000222D68F3430>)\n"
     ]
    }
   ],
   "source": [
    "import registration"
   ]
  },
  {
   "cell_type": "code",
   "execution_count": 8,
   "id": "433d08e4-b680-458c-9618-5040f32c39dd",
   "metadata": {},
   "outputs": [
    {
     "data": {
      "text/plain": [
       "[<function registration.f1()>, <function registration.f2()>]"
      ]
     },
     "execution_count": 8,
     "metadata": {},
     "output_type": "execute_result"
    }
   ],
   "source": [
    "registration.registry"
   ]
  },
  {
   "cell_type": "markdown",
   "id": "e9043739-3d62-4ee9-b569-7c687a0de2ce",
   "metadata": {},
   "source": [
    "* 함수 데커레이터는 모듈이 임포트되자마자 실행되지만, 데커레이트된 함수는 명시적으로 호출될 때만 실행됨을 알 수 있음 "
   ]
  },
  {
   "cell_type": "markdown",
   "id": "664e1e41-05b3-424d-b91c-3813c772022c",
   "metadata": {},
   "source": [
    "## 데커레이터로 개선한 전략 패턴 \n",
    "#### 디자인 패턴 \n",
    "* 일련의 알고리즘을 정의하고 각각을 하나의 클래스 안에 넣어서 교체하기 쉽게 만든다. 전략을 이용하면 사용하는 클라이언트에 따라 알고리즘을 독립적으로 변경할 수 있다. "
   ]
  },
  {
   "cell_type": "markdown",
   "id": "a0d0bc66-4a13-49bc-a9e0-59d990d59169",
   "metadata": {},
   "source": [
    "### namedtuple\n",
    "* 튜플의 특징은 한번 만들어진 데이터는 변경되지 않은 특징을 가지고 있습니다. 이런 특징을 바탕으로 인덱스가 아닌 키값을 사용해서 데이터를 접근할 수 있습니다. \n",
    "* 아래 예제를 보시면 Customer라는 튜플의 이름으로 name과 fidelity라는 두 키값을 설정하여 값을 매핑시키는 예제입니다. "
   ]
  },
  {
   "cell_type": "code",
   "execution_count": 79,
   "id": "edfb1c0f-3480-43f0-997f-ed1c75569c0d",
   "metadata": {},
   "outputs": [],
   "source": [
    "from collections import namedtuple"
   ]
  },
  {
   "cell_type": "code",
   "execution_count": 80,
   "id": "94452241-c080-4c4b-82b9-50cc752e74d4",
   "metadata": {},
   "outputs": [],
   "source": [
    "Customer = namedtuple(\"Customer\", \"name fidelity\")"
   ]
  },
  {
   "cell_type": "code",
   "execution_count": 81,
   "id": "081295da-0d1f-417e-ace2-084f987daf7e",
   "metadata": {},
   "outputs": [],
   "source": [
    "joe = Customer(\"John Doe\", 0)"
   ]
  },
  {
   "cell_type": "code",
   "execution_count": 82,
   "id": "5abd160b-a3b6-4ac4-b7ca-de1e6c322dca",
   "metadata": {},
   "outputs": [
    {
     "data": {
      "text/plain": [
       "Customer(name='John Doe', fidelity=0)"
      ]
     },
     "execution_count": 82,
     "metadata": {},
     "output_type": "execute_result"
    }
   ],
   "source": [
    "joe"
   ]
  },
  {
   "cell_type": "markdown",
   "id": "951afd6c-29d1-4f93-8ddc-8a327937a428",
   "metadata": {},
   "source": [
    "### 예제 "
   ]
  },
  {
   "cell_type": "code",
   "execution_count": 6,
   "id": "fcfb6673-0a65-4084-8d7d-1ec739d9385e",
   "metadata": {},
   "outputs": [],
   "source": [
    "promos = []\n",
    "\n",
    "def promotion(promo_func):\n",
    "    promos.append(promo_func)\n",
    "    return promo_func"
   ]
  },
  {
   "cell_type": "code",
   "execution_count": 7,
   "id": "50bf45a3-2b63-4878-b1fd-eb90aafad679",
   "metadata": {},
   "outputs": [],
   "source": [
    "@promotion\n",
    "def fidelity(order):\n",
    "    \"\"\"충성도 포인트가 1000점 이상인 고객에게 전체 5% 할인 적용\"\"\"\n",
    "    return order.total() * 0.05 if order.customer.fidelity >= 100 else 0"
   ]
  },
  {
   "cell_type": "code",
   "execution_count": 8,
   "id": "6cd56793-14d9-4c3e-9f26-d323f5960e54",
   "metadata": {},
   "outputs": [
    {
     "name": "stdout",
     "output_type": "stream",
     "text": [
      "Help on function fidelity in module __main__:\n",
      "\n",
      "fidelity(order)\n",
      "    충성도 포인트가 1000점 이상인 고객에게 전체 5% 할인 적용\n",
      "\n"
     ]
    }
   ],
   "source": [
    "help(fidelity)"
   ]
  },
  {
   "cell_type": "code",
   "execution_count": 30,
   "id": "dffd8292-0873-4ca7-8706-52a076835b7a",
   "metadata": {},
   "outputs": [],
   "source": [
    "@promotion\n",
    "def bulk_item(order):\n",
    "    \"\"\"20개 이상의 동일 상품을 구입하면 10% 할인 적용\"\"\"\n",
    "    discount = 0\n",
    "    for item in order.cart:\n",
    "        if item.quantity >= 20:\n",
    "            discount += item.total() * 0.1\n",
    "    return discount"
   ]
  },
  {
   "cell_type": "code",
   "execution_count": 31,
   "id": "d055bf45-d4d1-425c-9c22-61b96c5e4298",
   "metadata": {},
   "outputs": [],
   "source": [
    "@promotion\n",
    "def large_order(order):\n",
    "    \"\"\"10종류 이상의 상품을 구입하면 전체 7% 할인 적용\"\"\"\n",
    "    distinct_items = {item.product for item in order.cart}\n",
    "    if len(distinct_items) >= 10:\n",
    "        return order.total() * 0.07\n",
    "    return 0"
   ]
  },
  {
   "cell_type": "code",
   "execution_count": 32,
   "id": "f29f16d2-bef2-4b12-937f-2bbc58dc4dbf",
   "metadata": {},
   "outputs": [],
   "source": [
    "def best_promo(order):\n",
    "    \"\"\"최대로 할인받을 금액을 반환한다.\"\"\"\n",
    "    return max(promo(order) for promo in promos)"
   ]
  },
  {
   "cell_type": "code",
   "execution_count": null,
   "id": "7ba10982-f6fb-49f7-b4e0-8fe02afacd41",
   "metadata": {},
   "outputs": [],
   "source": []
  },
  {
   "cell_type": "markdown",
   "id": "1ea60ddd-02a1-4c04-aaf6-aa2644521a4d",
   "metadata": {},
   "source": [
    "## 변수 범위 규칙 "
   ]
  },
  {
   "cell_type": "code",
   "execution_count": 9,
   "id": "e99c91a9-42fc-49f8-b8fe-a777ff013cdb",
   "metadata": {},
   "outputs": [],
   "source": [
    "def f1(a):\n",
    "    print (a)\n",
    "    print (b)"
   ]
  },
  {
   "cell_type": "markdown",
   "id": "5bdb03ab-08ec-46fa-944e-70c1a2661248",
   "metadata": {},
   "source": [
    "* b라는 변수가 정의되지 않아서 오류가 발생 "
   ]
  },
  {
   "cell_type": "code",
   "execution_count": 10,
   "id": "c046fb9b-012d-4a34-8bc1-765c790c53a0",
   "metadata": {},
   "outputs": [
    {
     "name": "stdout",
     "output_type": "stream",
     "text": [
      "3\n"
     ]
    },
    {
     "ename": "NameError",
     "evalue": "name 'b' is not defined",
     "output_type": "error",
     "traceback": [
      "\u001b[1;31m---------------------------------------------------------------------------\u001b[0m",
      "\u001b[1;31mNameError\u001b[0m                                 Traceback (most recent call last)",
      "\u001b[1;32m<ipython-input-10-db0f80b394ed>\u001b[0m in \u001b[0;36m<module>\u001b[1;34m\u001b[0m\n\u001b[1;32m----> 1\u001b[1;33m \u001b[0mf1\u001b[0m\u001b[1;33m(\u001b[0m\u001b[1;36m3\u001b[0m\u001b[1;33m)\u001b[0m\u001b[1;33m\u001b[0m\u001b[1;33m\u001b[0m\u001b[0m\n\u001b[0m",
      "\u001b[1;32m<ipython-input-9-6182e1289dbb>\u001b[0m in \u001b[0;36mf1\u001b[1;34m(a)\u001b[0m\n\u001b[0;32m      1\u001b[0m \u001b[1;32mdef\u001b[0m \u001b[0mf1\u001b[0m\u001b[1;33m(\u001b[0m\u001b[0ma\u001b[0m\u001b[1;33m)\u001b[0m\u001b[1;33m:\u001b[0m\u001b[1;33m\u001b[0m\u001b[1;33m\u001b[0m\u001b[0m\n\u001b[0;32m      2\u001b[0m     \u001b[0mprint\u001b[0m \u001b[1;33m(\u001b[0m\u001b[0ma\u001b[0m\u001b[1;33m)\u001b[0m\u001b[1;33m\u001b[0m\u001b[1;33m\u001b[0m\u001b[0m\n\u001b[1;32m----> 3\u001b[1;33m     \u001b[0mprint\u001b[0m \u001b[1;33m(\u001b[0m\u001b[0mb\u001b[0m\u001b[1;33m)\u001b[0m\u001b[1;33m\u001b[0m\u001b[1;33m\u001b[0m\u001b[0m\n\u001b[0m",
      "\u001b[1;31mNameError\u001b[0m: name 'b' is not defined"
     ]
    }
   ],
   "source": [
    "f1(3)"
   ]
  },
  {
   "cell_type": "markdown",
   "id": "4eae898a-3161-439d-835f-78ea64a71388",
   "metadata": {},
   "source": [
    "* 아래 코드에서 b를 6으로 할당. 해당 b라는 변수는 전역변수로 설정되어 있다. "
   ]
  },
  {
   "cell_type": "code",
   "execution_count": 11,
   "id": "770dbcdb-2c01-4dce-8474-be07e2e7351f",
   "metadata": {},
   "outputs": [],
   "source": [
    "b = 6"
   ]
  },
  {
   "cell_type": "code",
   "execution_count": 12,
   "id": "03579b86-a579-4018-b6f1-fe9e8b6f97af",
   "metadata": {},
   "outputs": [
    {
     "name": "stdout",
     "output_type": "stream",
     "text": [
      "3\n",
      "6\n"
     ]
    }
   ],
   "source": [
    "f1(3)"
   ]
  },
  {
   "cell_type": "markdown",
   "id": "43d1ad8e-b67e-4cf0-979c-a3fd12f99afe",
   "metadata": {},
   "source": [
    "* 함수 본체 안에서 할당된 변수는 지역 변수로 판단하고 해당 변수가 없을 경우 전역에서 변수를 찾는다. "
   ]
  },
  {
   "cell_type": "markdown",
   "id": "6da69d91-a235-4523-95d9-692cefc8b2f2",
   "metadata": {},
   "source": [
    "-------"
   ]
  },
  {
   "cell_type": "code",
   "execution_count": 13,
   "id": "1846f150-84f4-4fbf-9533-f05ed773ecbe",
   "metadata": {},
   "outputs": [],
   "source": [
    "b = 6\n",
    "def f2(a):\n",
    "    print (a)\n",
    "    print (b)\n",
    "    b = 9"
   ]
  },
  {
   "cell_type": "code",
   "execution_count": 14,
   "id": "e2e2fec8-20d5-47a1-aa63-a8724899501c",
   "metadata": {},
   "outputs": [
    {
     "name": "stdout",
     "output_type": "stream",
     "text": [
      "3\n"
     ]
    },
    {
     "ename": "UnboundLocalError",
     "evalue": "local variable 'b' referenced before assignment",
     "output_type": "error",
     "traceback": [
      "\u001b[1;31m---------------------------------------------------------------------------\u001b[0m",
      "\u001b[1;31mUnboundLocalError\u001b[0m                         Traceback (most recent call last)",
      "\u001b[1;32m<ipython-input-14-ddde86392cb4>\u001b[0m in \u001b[0;36m<module>\u001b[1;34m\u001b[0m\n\u001b[1;32m----> 1\u001b[1;33m \u001b[0mf2\u001b[0m\u001b[1;33m(\u001b[0m\u001b[1;36m3\u001b[0m\u001b[1;33m)\u001b[0m\u001b[1;33m\u001b[0m\u001b[1;33m\u001b[0m\u001b[0m\n\u001b[0m",
      "\u001b[1;32m<ipython-input-13-36368e198d16>\u001b[0m in \u001b[0;36mf2\u001b[1;34m(a)\u001b[0m\n\u001b[0;32m      2\u001b[0m \u001b[1;32mdef\u001b[0m \u001b[0mf2\u001b[0m\u001b[1;33m(\u001b[0m\u001b[0ma\u001b[0m\u001b[1;33m)\u001b[0m\u001b[1;33m:\u001b[0m\u001b[1;33m\u001b[0m\u001b[1;33m\u001b[0m\u001b[0m\n\u001b[0;32m      3\u001b[0m     \u001b[0mprint\u001b[0m \u001b[1;33m(\u001b[0m\u001b[0ma\u001b[0m\u001b[1;33m)\u001b[0m\u001b[1;33m\u001b[0m\u001b[1;33m\u001b[0m\u001b[0m\n\u001b[1;32m----> 4\u001b[1;33m     \u001b[0mprint\u001b[0m \u001b[1;33m(\u001b[0m\u001b[0mb\u001b[0m\u001b[1;33m)\u001b[0m\u001b[1;33m\u001b[0m\u001b[1;33m\u001b[0m\u001b[0m\n\u001b[0m\u001b[0;32m      5\u001b[0m     \u001b[0mb\u001b[0m \u001b[1;33m=\u001b[0m \u001b[1;36m9\u001b[0m\u001b[1;33m\u001b[0m\u001b[1;33m\u001b[0m\u001b[0m\n",
      "\u001b[1;31mUnboundLocalError\u001b[0m: local variable 'b' referenced before assignment"
     ]
    }
   ],
   "source": [
    "f2(3)"
   ]
  },
  {
   "cell_type": "markdown",
   "id": "ec87e8fe-1d91-4397-ba4b-ab4943962679",
   "metadata": {},
   "source": [
    "* 위의 코드에서 에러나는 이유는 파이썬이 함수 본체를 컴파일할 때 b가 함수 안에서 할당되므로 b를 지역 변수로 판단한다. "
   ]
  },
  {
   "cell_type": "markdown",
   "id": "57af7abb-21d0-45f2-ba54-0f18975d57e5",
   "metadata": {},
   "source": [
    "----\n",
    "* 아래 예제는 global 키워드를 사용해 b 변수를 전역으로 변경한 예제이다. "
   ]
  },
  {
   "cell_type": "code",
   "execution_count": 15,
   "id": "5fad2383-bf16-43de-a127-2db34470db8f",
   "metadata": {},
   "outputs": [],
   "source": [
    "b = 6 \n",
    "def f3(a):\n",
    "    global b \n",
    "    print (a)\n",
    "    print (b)\n",
    "    b = 9"
   ]
  },
  {
   "cell_type": "code",
   "execution_count": 16,
   "id": "39dab526-1c17-4268-b0c5-2a062514ed50",
   "metadata": {},
   "outputs": [
    {
     "name": "stdout",
     "output_type": "stream",
     "text": [
      "3\n",
      "6\n"
     ]
    }
   ],
   "source": [
    "f3(3)"
   ]
  },
  {
   "cell_type": "code",
   "execution_count": 17,
   "id": "6183a36a-3c84-4110-b73b-50ec89dbc6c0",
   "metadata": {},
   "outputs": [
    {
     "data": {
      "text/plain": [
       "9"
      ]
     },
     "execution_count": 17,
     "metadata": {},
     "output_type": "execute_result"
    }
   ],
   "source": [
    "b"
   ]
  },
  {
   "cell_type": "code",
   "execution_count": 18,
   "id": "9a5e3f46-a834-4e50-8b82-b3f0a45d61b4",
   "metadata": {},
   "outputs": [
    {
     "name": "stdout",
     "output_type": "stream",
     "text": [
      "3\n",
      "9\n"
     ]
    }
   ],
   "source": [
    "f3(3)"
   ]
  },
  {
   "cell_type": "code",
   "execution_count": 19,
   "id": "a00697df-29e8-4787-bd40-f15404d8ccf4",
   "metadata": {},
   "outputs": [],
   "source": [
    "b = 30"
   ]
  },
  {
   "cell_type": "code",
   "execution_count": 20,
   "id": "98279180-6b0e-457f-bc2d-a247bfa2d445",
   "metadata": {},
   "outputs": [
    {
     "data": {
      "text/plain": [
       "30"
      ]
     },
     "execution_count": 20,
     "metadata": {},
     "output_type": "execute_result"
    }
   ],
   "source": [
    "b"
   ]
  },
  {
   "cell_type": "code",
   "execution_count": 21,
   "id": "b483bbf4-ce52-4044-8c1b-ba1bb2dfd35a",
   "metadata": {},
   "outputs": [],
   "source": [
    "from dis import dis "
   ]
  },
  {
   "cell_type": "code",
   "execution_count": 22,
   "id": "986bb249-b191-4a34-b435-bc93c6966fec",
   "metadata": {},
   "outputs": [
    {
     "name": "stdout",
     "output_type": "stream",
     "text": [
      "  2           0 LOAD_GLOBAL              0 (print)\n",
      "              2 LOAD_FAST                0 (a)\n",
      "              4 CALL_FUNCTION            1\n",
      "              6 POP_TOP\n",
      "\n",
      "  3           8 LOAD_GLOBAL              0 (print)\n",
      "             10 LOAD_GLOBAL              1 (b)\n",
      "             12 CALL_FUNCTION            1\n",
      "             14 POP_TOP\n",
      "             16 LOAD_CONST               0 (None)\n",
      "             18 RETURN_VALUE\n"
     ]
    }
   ],
   "source": [
    "dis(f1)"
   ]
  },
  {
   "cell_type": "code",
   "execution_count": 23,
   "id": "33eb91ca-ecd3-47b2-bc72-5e5d2625409f",
   "metadata": {},
   "outputs": [
    {
     "name": "stdout",
     "output_type": "stream",
     "text": [
      "  3           0 LOAD_GLOBAL              0 (print)\n",
      "              2 LOAD_FAST                0 (a)\n",
      "              4 CALL_FUNCTION            1\n",
      "              6 POP_TOP\n",
      "\n",
      "  4           8 LOAD_GLOBAL              0 (print)\n",
      "             10 LOAD_FAST                1 (b)\n",
      "             12 CALL_FUNCTION            1\n",
      "             14 POP_TOP\n",
      "\n",
      "  5          16 LOAD_CONST               1 (9)\n",
      "             18 STORE_FAST               1 (b)\n",
      "             20 LOAD_CONST               0 (None)\n",
      "             22 RETURN_VALUE\n"
     ]
    }
   ],
   "source": [
    "dis(f2)"
   ]
  },
  {
   "cell_type": "markdown",
   "id": "13a268c7-dfec-470f-807e-1f6b9c2d949c",
   "metadata": {},
   "source": [
    "* \n",
    "LOAD_GLOBAL(namei)\n",
    "\n",
    "    co_names[namei]라는 이름의 전역을 스택에 로드합니다.\n",
    "    \n",
    "* \n",
    "LOAD_FAST(var_num)\n",
    "\n",
    "    지역 co_varnames[var_num]에 대한 참조를 스택으로 푸시합니다.\n",
    "\n"
   ]
  },
  {
   "cell_type": "code",
   "execution_count": null,
   "id": "9ed2a589-36b3-42de-8450-638cd130fcbc",
   "metadata": {},
   "outputs": [],
   "source": []
  }
 ],
 "metadata": {
  "kernelspec": {
   "display_name": "Python 3 (ipykernel)",
   "language": "python",
   "name": "python3"
  },
  "language_info": {
   "codemirror_mode": {
    "name": "ipython",
    "version": 3
   },
   "file_extension": ".py",
   "mimetype": "text/x-python",
   "name": "python",
   "nbconvert_exporter": "python",
   "pygments_lexer": "ipython3",
   "version": "3.10.12"
  }
 },
 "nbformat": 4,
 "nbformat_minor": 5
}
