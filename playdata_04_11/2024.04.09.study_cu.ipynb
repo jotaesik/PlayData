{
 "cells": [
  {
   "cell_type": "code",
   "execution_count": 94,
   "id": "1dc81e35-5167-4dcd-9605-76fabb6c0deb",
   "metadata": {},
   "outputs": [],
   "source": [
    "import pickle\n",
    "import pandas as pd\n",
    "import numpy as np"
   ]
  },
  {
   "cell_type": "code",
   "execution_count": 95,
   "id": "b2730ef6-c124-48fb-9ff9-ae1891787d91",
   "metadata": {},
   "outputs": [],
   "source": [
    "with open(\"./cu.pkl\",\"rb\") as f:\n",
    "    cu_df= pickle.load(f)"
   ]
  },
  {
   "cell_type": "code",
   "execution_count": 96,
   "id": "85899e1e-f0fc-4149-b436-c91b9c5a7e5e",
   "metadata": {},
   "outputs": [
    {
     "data": {
      "text/plain": [
       "(19550, 4)"
      ]
     },
     "execution_count": 96,
     "metadata": {},
     "output_type": "execute_result"
    }
   ],
   "source": [
    "cu_df.shape"
   ]
  },
  {
   "cell_type": "code",
   "execution_count": 97,
   "id": "eb81c268-6d53-4d71-a930-5c3b3e3903ac",
   "metadata": {},
   "outputs": [
    {
     "data": {
      "text/plain": [
       "1917"
      ]
     },
     "execution_count": 97,
     "metadata": {},
     "output_type": "execute_result"
    }
   ],
   "source": [
    "cu_df[\"store_name\"].duplicated().sum()"
   ]
  },
  {
   "cell_type": "code",
   "execution_count": 98,
   "id": "623d0450-e0ad-4c38-a7b3-babbbc71718d",
   "metadata": {},
   "outputs": [
    {
     "data": {
      "text/html": [
       "<div>\n",
       "<style scoped>\n",
       "    .dataframe tbody tr th:only-of-type {\n",
       "        vertical-align: middle;\n",
       "    }\n",
       "\n",
       "    .dataframe tbody tr th {\n",
       "        vertical-align: top;\n",
       "    }\n",
       "\n",
       "    .dataframe thead th {\n",
       "        text-align: right;\n",
       "    }\n",
       "</style>\n",
       "<table border=\"1\" class=\"dataframe\">\n",
       "  <thead>\n",
       "    <tr style=\"text-align: right;\">\n",
       "      <th></th>\n",
       "      <th>store_name</th>\n",
       "      <th>store_tel</th>\n",
       "      <th>store_address</th>\n",
       "      <th>store_service</th>\n",
       "    </tr>\n",
       "  </thead>\n",
       "  <tbody>\n",
       "    <tr>\n",
       "      <th>67</th>\n",
       "      <td>고양내유점</td>\n",
       "      <td></td>\n",
       "      <td>경기도 고양시 덕양구 유산길 22, (내유동)</td>\n",
       "      <td>[hour, delivery, fried, coffee, cash]</td>\n",
       "    </tr>\n",
       "    <tr>\n",
       "      <th>68</th>\n",
       "      <td>내유무지개점</td>\n",
       "      <td>031</td>\n",
       "      <td>경기도 고양시 덕양구 유산길 46, (내유동) 1층</td>\n",
       "      <td>[hour, delivery, fried, coffee, cash]</td>\n",
       "    </tr>\n",
       "    <tr>\n",
       "      <th>69</th>\n",
       "      <td>내유희망점</td>\n",
       "      <td>0319625273</td>\n",
       "      <td>경기도 고양시 덕양구 내유길 81, (내유동) 1층 101,102,103호</td>\n",
       "      <td>[hour, delivery, bakery, fried, coffee, cash]</td>\n",
       "    </tr>\n",
       "  </tbody>\n",
       "</table>\n",
       "</div>"
      ],
      "text/plain": [
       "   store_name   store_tel                              store_address  \\\n",
       "67      고양내유점                              경기도 고양시 덕양구 유산길 22, (내유동)   \n",
       "68     내유무지개점         031               경기도 고양시 덕양구 유산길 46, (내유동) 1층   \n",
       "69      내유희망점  0319625273  경기도 고양시 덕양구 내유길 81, (내유동) 1층 101,102,103호   \n",
       "\n",
       "                                    store_service  \n",
       "67          [hour, delivery, fried, coffee, cash]  \n",
       "68          [hour, delivery, fried, coffee, cash]  \n",
       "69  [hour, delivery, bakery, fried, coffee, cash]  "
      ]
     },
     "execution_count": 98,
     "metadata": {},
     "output_type": "execute_result"
    }
   ],
   "source": [
    "cu_df[cu_df[\"store_name\"].duplicated()].head(3) #중복된데이터만 출력"
   ]
  },
  {
   "cell_type": "code",
   "execution_count": 99,
   "id": "0105c13c-aa11-4a9f-bc26-e5c16e6cd8f9",
   "metadata": {},
   "outputs": [
    {
     "data": {
      "text/html": [
       "<div>\n",
       "<style scoped>\n",
       "    .dataframe tbody tr th:only-of-type {\n",
       "        vertical-align: middle;\n",
       "    }\n",
       "\n",
       "    .dataframe tbody tr th {\n",
       "        vertical-align: top;\n",
       "    }\n",
       "\n",
       "    .dataframe thead th {\n",
       "        text-align: right;\n",
       "    }\n",
       "</style>\n",
       "<table border=\"1\" class=\"dataframe\">\n",
       "  <thead>\n",
       "    <tr style=\"text-align: right;\">\n",
       "      <th></th>\n",
       "      <th>store_name</th>\n",
       "      <th>store_tel</th>\n",
       "      <th>store_address</th>\n",
       "      <th>store_service</th>\n",
       "    </tr>\n",
       "  </thead>\n",
       "  <tbody>\n",
       "    <tr>\n",
       "      <th>56</th>\n",
       "      <td>고양내유점</td>\n",
       "      <td></td>\n",
       "      <td>경기도 고양시 덕양구 유산길 22, (내유동)</td>\n",
       "      <td>[hour, delivery, fried, coffee, cash]</td>\n",
       "    </tr>\n",
       "    <tr>\n",
       "      <th>67</th>\n",
       "      <td>고양내유점</td>\n",
       "      <td></td>\n",
       "      <td>경기도 고양시 덕양구 유산길 22, (내유동)</td>\n",
       "      <td>[hour, delivery, fried, coffee, cash]</td>\n",
       "    </tr>\n",
       "  </tbody>\n",
       "</table>\n",
       "</div>"
      ],
      "text/plain": [
       "   store_name store_tel              store_address  \\\n",
       "56      고양내유점            경기도 고양시 덕양구 유산길 22, (내유동)   \n",
       "67      고양내유점            경기도 고양시 덕양구 유산길 22, (내유동)   \n",
       "\n",
       "                            store_service  \n",
       "56  [hour, delivery, fried, coffee, cash]  \n",
       "67  [hour, delivery, fried, coffee, cash]  "
      ]
     },
     "execution_count": 99,
     "metadata": {},
     "output_type": "execute_result"
    }
   ],
   "source": [
    "cu_df[cu_df.store_name==\"고양내유점\"]"
   ]
  },
  {
   "cell_type": "code",
   "execution_count": 100,
   "id": "91cbb1df-f038-414a-a2d1-0e9fa6ac74b4",
   "metadata": {},
   "outputs": [
    {
     "data": {
      "text/plain": [
       "['hour', 'delivery', 'fried', 'coffee', 'cash']"
      ]
     },
     "execution_count": 100,
     "metadata": {},
     "output_type": "execute_result"
    }
   ],
   "source": [
    "cu_df.store_service.loc[0]"
   ]
  },
  {
   "cell_type": "code",
   "execution_count": 101,
   "id": "ba08bfef-d1f3-4ed6-805d-9e8a375bf77f",
   "metadata": {},
   "outputs": [],
   "source": [
    "unique_cu = cu_df[~cu_df[\"store_name\"].duplicated()].copy()"
   ]
  },
  {
   "cell_type": "code",
   "execution_count": 102,
   "id": "c3e532e5-9990-416d-99b0-c5ae3bb3e057",
   "metadata": {},
   "outputs": [
    {
     "data": {
      "text/plain": [
       "(17633, 4)"
      ]
     },
     "execution_count": 102,
     "metadata": {},
     "output_type": "execute_result"
    }
   ],
   "source": [
    "unique_cu.shape"
   ]
  },
  {
   "cell_type": "code",
   "execution_count": 103,
   "id": "1ade5ade-1308-4281-81bc-fefed4682741",
   "metadata": {},
   "outputs": [
    {
     "data": {
      "text/plain": [
       "store_name       0\n",
       "store_tel        0\n",
       "store_address    0\n",
       "store_service    0\n",
       "dtype: int64"
      ]
     },
     "execution_count": 103,
     "metadata": {},
     "output_type": "execute_result"
    }
   ],
   "source": [
    "unique_cu.isnull().sum() "
   ]
  },
  {
   "cell_type": "code",
   "execution_count": 64,
   "id": "9eea560c-5b83-47b8-a851-ad07cb12e0bc",
   "metadata": {},
   "outputs": [
    {
     "data": {
      "text/plain": [
       "''"
      ]
     },
     "execution_count": 64,
     "metadata": {},
     "output_type": "execute_result"
    }
   ],
   "source": [
    "unique_cu.iloc[1,1] # '' 값으로되어있다"
   ]
  },
  {
   "cell_type": "code",
   "execution_count": 65,
   "id": "657a9b75-c552-4beb-894c-3a380880ca6e",
   "metadata": {},
   "outputs": [
    {
     "data": {
      "text/plain": [
       "(17633, 4)"
      ]
     },
     "execution_count": 65,
     "metadata": {},
     "output_type": "execute_result"
    }
   ],
   "source": [
    "unique_cu.shape"
   ]
  },
  {
   "cell_type": "code",
   "execution_count": 116,
   "id": "5456f291-b8fa-4262-a9cf-d996ad22bd26",
   "metadata": {},
   "outputs": [],
   "source": [
    "unique_cu['sido'] = unique_cu.store_address.apply(lambda x : x.split()[0]) #첫번째값 가져오기 "
   ]
  },
  {
   "cell_type": "code",
   "execution_count": 117,
   "id": "0bd64ecf-811d-487e-9e70-87d79fcf01bb",
   "metadata": {},
   "outputs": [
    {
     "data": {
      "text/plain": [
       "sido\n",
       "경기도        4770\n",
       "서울특별시      2859\n",
       "경상남도       1208\n",
       "부산광역시      1000\n",
       "충청남도        922\n",
       "인천광역시       915\n",
       "경상북도        905\n",
       "강원도         824\n",
       "충청북도        683\n",
       "제주특별자치도     618\n",
       "대구광역시       606\n",
       "전라북도        574\n",
       "전라남도        515\n",
       "대전광역시       427\n",
       "광주광역시       403\n",
       "울산광역시       370\n",
       "경남            5\n",
       "전북특별자치도       4\n",
       "경북            2\n",
       "충북            2\n",
       "대구시           2\n",
       "서울시           2\n",
       "전남            2\n",
       "서울            2\n",
       "경기            1\n",
       "광주            1\n",
       "대구            1\n",
       "부산광영시         1\n",
       "부산시           1\n",
       "아산시           1\n",
       "부산            1\n",
       "울산시           1\n",
       "인천            1\n",
       "인천광영시         1\n",
       "충천남도          1\n",
       "충청남남          1\n",
       "포천시           1\n",
       "Name: count, dtype: int64"
      ]
     },
     "execution_count": 117,
     "metadata": {},
     "output_type": "execute_result"
    }
   ],
   "source": [
    "unique_cu.value_counts('sido')\n",
    "#전처리가중요하다"
   ]
  },
  {
   "cell_type": "code",
   "execution_count": 118,
   "id": "1dd5cbf6-6573-41e5-9640-09adb371edc8",
   "metadata": {},
   "outputs": [],
   "source": [
    "tmp = set() #중복허용안함"
   ]
  },
  {
   "cell_type": "code",
   "execution_count": 119,
   "id": "f4a0675c-794e-4b42-81bf-44fd92a00bd4",
   "metadata": {},
   "outputs": [],
   "source": [
    "# tmp.add(\"a\")"
   ]
  },
  {
   "cell_type": "code",
   "execution_count": 137,
   "id": "8b16a60a-e150-465c-9e95-abef77789f1a",
   "metadata": {},
   "outputs": [
    {
     "data": {
      "text/html": [
       "<div>\n",
       "<style scoped>\n",
       "    .dataframe tbody tr th:only-of-type {\n",
       "        vertical-align: middle;\n",
       "    }\n",
       "\n",
       "    .dataframe tbody tr th {\n",
       "        vertical-align: top;\n",
       "    }\n",
       "\n",
       "    .dataframe thead th {\n",
       "        text-align: right;\n",
       "    }\n",
       "</style>\n",
       "<table border=\"1\" class=\"dataframe\">\n",
       "  <thead>\n",
       "    <tr style=\"text-align: right;\">\n",
       "      <th></th>\n",
       "      <th>company</th>\n",
       "      <th>store_name</th>\n",
       "      <th>sido</th>\n",
       "      <th>store_address</th>\n",
       "      <th>store_tel</th>\n",
       "      <th>hour</th>\n",
       "      <th>lotto</th>\n",
       "      <th>mix</th>\n",
       "      <th>battery</th>\n",
       "      <th>pos</th>\n",
       "      <th>bakery</th>\n",
       "      <th>fried</th>\n",
       "      <th>coffee</th>\n",
       "      <th>delivery</th>\n",
       "      <th>cash</th>\n",
       "      <th>toto</th>\n",
       "    </tr>\n",
       "  </thead>\n",
       "  <tbody>\n",
       "    <tr>\n",
       "      <th>0</th>\n",
       "      <td>cu</td>\n",
       "      <td>가평군청점</td>\n",
       "      <td>경기도</td>\n",
       "      <td>경기도 가평군 가평읍 석봉로 175, (읍내리) 1호</td>\n",
       "      <td>0315817570</td>\n",
       "      <td>1</td>\n",
       "      <td>0</td>\n",
       "      <td>0</td>\n",
       "      <td>0</td>\n",
       "      <td>0</td>\n",
       "      <td>False</td>\n",
       "      <td>1</td>\n",
       "      <td>1</td>\n",
       "      <td>1</td>\n",
       "      <td>1</td>\n",
       "      <td>0</td>\n",
       "    </tr>\n",
       "    <tr>\n",
       "      <th>1</th>\n",
       "      <td>cu</td>\n",
       "      <td>가평레일파크점</td>\n",
       "      <td>경기도</td>\n",
       "      <td>경기도 가평군 가평읍 연인길 2 (읍내리)</td>\n",
       "      <td></td>\n",
       "      <td>0</td>\n",
       "      <td>0</td>\n",
       "      <td>0</td>\n",
       "      <td>0</td>\n",
       "      <td>1</td>\n",
       "      <td>False</td>\n",
       "      <td>0</td>\n",
       "      <td>1</td>\n",
       "      <td>1</td>\n",
       "      <td>0</td>\n",
       "      <td>0</td>\n",
       "    </tr>\n",
       "    <tr>\n",
       "      <th>2</th>\n",
       "      <td>cu</td>\n",
       "      <td>가평본점</td>\n",
       "      <td>경기도</td>\n",
       "      <td>경기도 가평군 가화로 110-1 (가평읍) 1층</td>\n",
       "      <td></td>\n",
       "      <td>1</td>\n",
       "      <td>0</td>\n",
       "      <td>0</td>\n",
       "      <td>0</td>\n",
       "      <td>0</td>\n",
       "      <td>False</td>\n",
       "      <td>0</td>\n",
       "      <td>1</td>\n",
       "      <td>1</td>\n",
       "      <td>1</td>\n",
       "      <td>0</td>\n",
       "    </tr>\n",
       "    <tr>\n",
       "      <th>3</th>\n",
       "      <td>cu</td>\n",
       "      <td>가평센타점</td>\n",
       "      <td>경기도</td>\n",
       "      <td>경기도 가평군 가평읍 오리나무길 9 1층</td>\n",
       "      <td>0315817470</td>\n",
       "      <td>1</td>\n",
       "      <td>0</td>\n",
       "      <td>0</td>\n",
       "      <td>0</td>\n",
       "      <td>0</td>\n",
       "      <td>False</td>\n",
       "      <td>0</td>\n",
       "      <td>1</td>\n",
       "      <td>1</td>\n",
       "      <td>1</td>\n",
       "      <td>0</td>\n",
       "    </tr>\n",
       "    <tr>\n",
       "      <th>4</th>\n",
       "      <td>cu</td>\n",
       "      <td>가평오렌지점</td>\n",
       "      <td>경기도</td>\n",
       "      <td>경기도 가평군 가평읍 가화로 174, (읍내리)</td>\n",
       "      <td></td>\n",
       "      <td>1</td>\n",
       "      <td>0</td>\n",
       "      <td>0</td>\n",
       "      <td>0</td>\n",
       "      <td>0</td>\n",
       "      <td>False</td>\n",
       "      <td>0</td>\n",
       "      <td>1</td>\n",
       "      <td>1</td>\n",
       "      <td>1</td>\n",
       "      <td>0</td>\n",
       "    </tr>\n",
       "    <tr>\n",
       "      <th>...</th>\n",
       "      <td>...</td>\n",
       "      <td>...</td>\n",
       "      <td>...</td>\n",
       "      <td>...</td>\n",
       "      <td>...</td>\n",
       "      <td>...</td>\n",
       "      <td>...</td>\n",
       "      <td>...</td>\n",
       "      <td>...</td>\n",
       "      <td>...</td>\n",
       "      <td>...</td>\n",
       "      <td>...</td>\n",
       "      <td>...</td>\n",
       "      <td>...</td>\n",
       "      <td>...</td>\n",
       "      <td>...</td>\n",
       "    </tr>\n",
       "    <tr>\n",
       "      <th>19545</th>\n",
       "      <td>cu</td>\n",
       "      <td>울산학산옥교점</td>\n",
       "      <td>울산광역시</td>\n",
       "      <td>울산광역시 중구 옥교3길 76 (학산동)</td>\n",
       "      <td></td>\n",
       "      <td>1</td>\n",
       "      <td>0</td>\n",
       "      <td>0</td>\n",
       "      <td>0</td>\n",
       "      <td>0</td>\n",
       "      <td>False</td>\n",
       "      <td>1</td>\n",
       "      <td>1</td>\n",
       "      <td>1</td>\n",
       "      <td>0</td>\n",
       "      <td>0</td>\n",
       "    </tr>\n",
       "    <tr>\n",
       "      <th>19546</th>\n",
       "      <td>cu</td>\n",
       "      <td>울산학성점</td>\n",
       "      <td>울산광역시</td>\n",
       "      <td>울산광역시 중구 학성4길 65, (학성동)</td>\n",
       "      <td>0522971245</td>\n",
       "      <td>1</td>\n",
       "      <td>0</td>\n",
       "      <td>0</td>\n",
       "      <td>0</td>\n",
       "      <td>0</td>\n",
       "      <td>True</td>\n",
       "      <td>1</td>\n",
       "      <td>1</td>\n",
       "      <td>1</td>\n",
       "      <td>1</td>\n",
       "      <td>0</td>\n",
       "    </tr>\n",
       "    <tr>\n",
       "      <th>19547</th>\n",
       "      <td>cu</td>\n",
       "      <td>울산학성중앙점</td>\n",
       "      <td>울산광역시</td>\n",
       "      <td>울산광역시 중구 학성공원12길 20 (학성동)</td>\n",
       "      <td></td>\n",
       "      <td>1</td>\n",
       "      <td>0</td>\n",
       "      <td>0</td>\n",
       "      <td>0</td>\n",
       "      <td>0</td>\n",
       "      <td>True</td>\n",
       "      <td>1</td>\n",
       "      <td>1</td>\n",
       "      <td>1</td>\n",
       "      <td>1</td>\n",
       "      <td>0</td>\n",
       "    </tr>\n",
       "    <tr>\n",
       "      <th>19548</th>\n",
       "      <td>cu</td>\n",
       "      <td>학성동UBC점</td>\n",
       "      <td>울산광역시</td>\n",
       "      <td>울산광역시 중구 구역전1길 37-9</td>\n",
       "      <td>0522431329</td>\n",
       "      <td>1</td>\n",
       "      <td>0</td>\n",
       "      <td>0</td>\n",
       "      <td>1</td>\n",
       "      <td>0</td>\n",
       "      <td>False</td>\n",
       "      <td>0</td>\n",
       "      <td>1</td>\n",
       "      <td>1</td>\n",
       "      <td>1</td>\n",
       "      <td>0</td>\n",
       "    </tr>\n",
       "    <tr>\n",
       "      <th>19549</th>\n",
       "      <td>cu</td>\n",
       "      <td>학성드림점</td>\n",
       "      <td>울산광역시</td>\n",
       "      <td>울산광역시 중구 구교로 83</td>\n",
       "      <td></td>\n",
       "      <td>1</td>\n",
       "      <td>0</td>\n",
       "      <td>0</td>\n",
       "      <td>0</td>\n",
       "      <td>0</td>\n",
       "      <td>False</td>\n",
       "      <td>0</td>\n",
       "      <td>1</td>\n",
       "      <td>1</td>\n",
       "      <td>0</td>\n",
       "      <td>0</td>\n",
       "    </tr>\n",
       "  </tbody>\n",
       "</table>\n",
       "<p>17633 rows × 16 columns</p>\n",
       "</div>"
      ],
      "text/plain": [
       "      company store_name   sido                  store_address   store_tel  \\\n",
       "0          cu      가평군청점    경기도  경기도 가평군 가평읍 석봉로 175, (읍내리) 1호  0315817570   \n",
       "1          cu    가평레일파크점    경기도        경기도 가평군 가평읍 연인길 2 (읍내리)               \n",
       "2          cu       가평본점    경기도     경기도 가평군 가화로 110-1 (가평읍) 1층               \n",
       "3          cu      가평센타점    경기도         경기도 가평군 가평읍 오리나무길 9 1층  0315817470   \n",
       "4          cu     가평오렌지점    경기도     경기도 가평군 가평읍 가화로 174, (읍내리)               \n",
       "...       ...        ...    ...                            ...         ...   \n",
       "19545      cu    울산학산옥교점  울산광역시         울산광역시 중구 옥교3길 76 (학산동)               \n",
       "19546      cu      울산학성점  울산광역시        울산광역시 중구 학성4길 65, (학성동)  0522971245   \n",
       "19547      cu    울산학성중앙점  울산광역시      울산광역시 중구 학성공원12길 20 (학성동)               \n",
       "19548      cu    학성동UBC점  울산광역시            울산광역시 중구 구역전1길 37-9  0522431329   \n",
       "19549      cu      학성드림점  울산광역시                울산광역시 중구 구교로 83               \n",
       "\n",
       "       hour  lotto  mix  battery  pos  bakery  fried  coffee  delivery  cash  \\\n",
       "0         1      0    0        0    0   False      1       1         1     1   \n",
       "1         0      0    0        0    1   False      0       1         1     0   \n",
       "2         1      0    0        0    0   False      0       1         1     1   \n",
       "3         1      0    0        0    0   False      0       1         1     1   \n",
       "4         1      0    0        0    0   False      0       1         1     1   \n",
       "...     ...    ...  ...      ...  ...     ...    ...     ...       ...   ...   \n",
       "19545     1      0    0        0    0   False      1       1         1     0   \n",
       "19546     1      0    0        0    0    True      1       1         1     1   \n",
       "19547     1      0    0        0    0    True      1       1         1     1   \n",
       "19548     1      0    0        1    0   False      0       1         1     1   \n",
       "19549     1      0    0        0    0   False      0       1         1     0   \n",
       "\n",
       "       toto  \n",
       "0         0  \n",
       "1         0  \n",
       "2         0  \n",
       "3         0  \n",
       "4         0  \n",
       "...     ...  \n",
       "19545     0  \n",
       "19546     0  \n",
       "19547     0  \n",
       "19548     0  \n",
       "19549     0  \n",
       "\n",
       "[17633 rows x 16 columns]"
      ]
     },
     "execution_count": 137,
     "metadata": {},
     "output_type": "execute_result"
    }
   ],
   "source": [
    "unique_cu"
   ]
  },
  {
   "cell_type": "code",
   "execution_count": 135,
   "id": "59008ae9-120f-4411-90d0-45e47845e1c9",
   "metadata": {},
   "outputs": [
    {
     "ename": "KeyError",
     "evalue": "'store_service'",
     "output_type": "error",
     "traceback": [
      "\u001b[0;31m---------------------------------------------------------------------------\u001b[0m",
      "\u001b[0;31mKeyError\u001b[0m                                  Traceback (most recent call last)",
      "File \u001b[0;32m~/.local/lib/python3.10/site-packages/pandas/core/indexes/base.py:3805\u001b[0m, in \u001b[0;36mIndex.get_loc\u001b[0;34m(self, key)\u001b[0m\n\u001b[1;32m   3804\u001b[0m \u001b[38;5;28;01mtry\u001b[39;00m:\n\u001b[0;32m-> 3805\u001b[0m     \u001b[38;5;28;01mreturn\u001b[39;00m \u001b[38;5;28;43mself\u001b[39;49m\u001b[38;5;241;43m.\u001b[39;49m\u001b[43m_engine\u001b[49m\u001b[38;5;241;43m.\u001b[39;49m\u001b[43mget_loc\u001b[49m\u001b[43m(\u001b[49m\u001b[43mcasted_key\u001b[49m\u001b[43m)\u001b[49m\n\u001b[1;32m   3806\u001b[0m \u001b[38;5;28;01mexcept\u001b[39;00m \u001b[38;5;167;01mKeyError\u001b[39;00m \u001b[38;5;28;01mas\u001b[39;00m err:\n",
      "File \u001b[0;32mindex.pyx:167\u001b[0m, in \u001b[0;36mpandas._libs.index.IndexEngine.get_loc\u001b[0;34m()\u001b[0m\n",
      "File \u001b[0;32mindex.pyx:196\u001b[0m, in \u001b[0;36mpandas._libs.index.IndexEngine.get_loc\u001b[0;34m()\u001b[0m\n",
      "File \u001b[0;32mpandas/_libs/hashtable_class_helper.pxi:7081\u001b[0m, in \u001b[0;36mpandas._libs.hashtable.PyObjectHashTable.get_item\u001b[0;34m()\u001b[0m\n",
      "File \u001b[0;32mpandas/_libs/hashtable_class_helper.pxi:7089\u001b[0m, in \u001b[0;36mpandas._libs.hashtable.PyObjectHashTable.get_item\u001b[0;34m()\u001b[0m\n",
      "\u001b[0;31mKeyError\u001b[0m: 'store_service'",
      "\nThe above exception was the direct cause of the following exception:\n",
      "\u001b[0;31mKeyError\u001b[0m                                  Traceback (most recent call last)",
      "Cell \u001b[0;32mIn[135], line 2\u001b[0m\n\u001b[1;32m      1\u001b[0m service_set\u001b[38;5;241m=\u001b[39m\u001b[38;5;28mset\u001b[39m()\n\u001b[0;32m----> 2\u001b[0m \u001b[43munique_cu\u001b[49m\u001b[43m[\u001b[49m\u001b[38;5;124;43m'\u001b[39;49m\u001b[38;5;124;43mstore_service\u001b[39;49m\u001b[38;5;124;43m'\u001b[39;49m\u001b[43m]\u001b[49m\u001b[38;5;241m.\u001b[39mapply(\u001b[38;5;28;01mlambda\u001b[39;00m x : [service_set\u001b[38;5;241m.\u001b[39madd(y) \u001b[38;5;28;01mfor\u001b[39;00m y \u001b[38;5;129;01min\u001b[39;00m x]) \n",
      "File \u001b[0;32m~/.local/lib/python3.10/site-packages/pandas/core/frame.py:4090\u001b[0m, in \u001b[0;36mDataFrame.__getitem__\u001b[0;34m(self, key)\u001b[0m\n\u001b[1;32m   4088\u001b[0m \u001b[38;5;28;01mif\u001b[39;00m \u001b[38;5;28mself\u001b[39m\u001b[38;5;241m.\u001b[39mcolumns\u001b[38;5;241m.\u001b[39mnlevels \u001b[38;5;241m>\u001b[39m \u001b[38;5;241m1\u001b[39m:\n\u001b[1;32m   4089\u001b[0m     \u001b[38;5;28;01mreturn\u001b[39;00m \u001b[38;5;28mself\u001b[39m\u001b[38;5;241m.\u001b[39m_getitem_multilevel(key)\n\u001b[0;32m-> 4090\u001b[0m indexer \u001b[38;5;241m=\u001b[39m \u001b[38;5;28;43mself\u001b[39;49m\u001b[38;5;241;43m.\u001b[39;49m\u001b[43mcolumns\u001b[49m\u001b[38;5;241;43m.\u001b[39;49m\u001b[43mget_loc\u001b[49m\u001b[43m(\u001b[49m\u001b[43mkey\u001b[49m\u001b[43m)\u001b[49m\n\u001b[1;32m   4091\u001b[0m \u001b[38;5;28;01mif\u001b[39;00m is_integer(indexer):\n\u001b[1;32m   4092\u001b[0m     indexer \u001b[38;5;241m=\u001b[39m [indexer]\n",
      "File \u001b[0;32m~/.local/lib/python3.10/site-packages/pandas/core/indexes/base.py:3812\u001b[0m, in \u001b[0;36mIndex.get_loc\u001b[0;34m(self, key)\u001b[0m\n\u001b[1;32m   3807\u001b[0m     \u001b[38;5;28;01mif\u001b[39;00m \u001b[38;5;28misinstance\u001b[39m(casted_key, \u001b[38;5;28mslice\u001b[39m) \u001b[38;5;129;01mor\u001b[39;00m (\n\u001b[1;32m   3808\u001b[0m         \u001b[38;5;28misinstance\u001b[39m(casted_key, abc\u001b[38;5;241m.\u001b[39mIterable)\n\u001b[1;32m   3809\u001b[0m         \u001b[38;5;129;01mand\u001b[39;00m \u001b[38;5;28many\u001b[39m(\u001b[38;5;28misinstance\u001b[39m(x, \u001b[38;5;28mslice\u001b[39m) \u001b[38;5;28;01mfor\u001b[39;00m x \u001b[38;5;129;01min\u001b[39;00m casted_key)\n\u001b[1;32m   3810\u001b[0m     ):\n\u001b[1;32m   3811\u001b[0m         \u001b[38;5;28;01mraise\u001b[39;00m InvalidIndexError(key)\n\u001b[0;32m-> 3812\u001b[0m     \u001b[38;5;28;01mraise\u001b[39;00m \u001b[38;5;167;01mKeyError\u001b[39;00m(key) \u001b[38;5;28;01mfrom\u001b[39;00m \u001b[38;5;21;01merr\u001b[39;00m\n\u001b[1;32m   3813\u001b[0m \u001b[38;5;28;01mexcept\u001b[39;00m \u001b[38;5;167;01mTypeError\u001b[39;00m:\n\u001b[1;32m   3814\u001b[0m     \u001b[38;5;66;03m# If we have a listlike key, _check_indexing_error will raise\u001b[39;00m\n\u001b[1;32m   3815\u001b[0m     \u001b[38;5;66;03m#  InvalidIndexError. Otherwise we fall through and re-raise\u001b[39;00m\n\u001b[1;32m   3816\u001b[0m     \u001b[38;5;66;03m#  the TypeError.\u001b[39;00m\n\u001b[1;32m   3817\u001b[0m     \u001b[38;5;28mself\u001b[39m\u001b[38;5;241m.\u001b[39m_check_indexing_error(key)\n",
      "\u001b[0;31mKeyError\u001b[0m: 'store_service'"
     ]
    }
   ],
   "source": [
    "service_set=set()\n",
    "unique_cu['store_service'].apply(lambda x : [service_set.add(y) for y in x]) "
   ]
  },
  {
   "cell_type": "code",
   "execution_count": 136,
   "id": "c0f1db73-1084-4d33-b259-104eda75caee",
   "metadata": {},
   "outputs": [],
   "source": [
    "for service in service_set:\n",
    "    # print(x)\n",
    "    unique_cu[service]= unique_cu.store_service.apply(lambda x : 1 if service in x else 0)"
   ]
  },
  {
   "cell_type": "code",
   "execution_count": 105,
   "id": "5e851fe7-e088-496c-b633-9513e421057e",
   "metadata": {},
   "outputs": [
    {
     "data": {
      "text/plain": [
       "{'bakery',\n",
       " 'battery',\n",
       " 'cash',\n",
       " 'coffee',\n",
       " 'delivery',\n",
       " 'fried',\n",
       " 'hour',\n",
       " 'lotto',\n",
       " 'mix',\n",
       " 'pos',\n",
       " 'toto'}"
      ]
     },
     "execution_count": 105,
     "metadata": {},
     "output_type": "execute_result"
    }
   ],
   "source": [
    "service_set"
   ]
  },
  {
   "cell_type": "code",
   "execution_count": 106,
   "id": "f93bfdf4-9e66-40a5-a5b9-f525488a81a7",
   "metadata": {},
   "outputs": [],
   "source": [
    "#패턴잡기\n",
    "unique_cu[\"bakery\"]= unique_cu.store_service.apply(lambda x : True if \"bakery\" in x else False)"
   ]
  },
  {
   "cell_type": "code",
   "execution_count": 107,
   "id": "a21e574e-feb5-4370-8d32-6b813d0df01d",
   "metadata": {},
   "outputs": [
    {
     "data": {
      "text/plain": [
       "delivery\n",
       "1    0.824193\n",
       "0    0.175807\n",
       "Name: proportion, dtype: float64"
      ]
     },
     "execution_count": 107,
     "metadata": {},
     "output_type": "execute_result"
    }
   ],
   "source": [
    "unique_cu.value_counts('delivery',normalize=True)"
   ]
  },
  {
   "cell_type": "code",
   "execution_count": 108,
   "id": "a3ced444-d3fc-44e4-a8db-bf25adb2f36e",
   "metadata": {},
   "outputs": [
    {
     "data": {
      "text/plain": [
       "hour\n",
       "1    0.832757\n",
       "0    0.167243\n",
       "Name: proportion, dtype: float64"
      ]
     },
     "execution_count": 108,
     "metadata": {},
     "output_type": "execute_result"
    }
   ],
   "source": [
    "unique_cu.value_counts('hour',normalize=True)"
   ]
  },
  {
   "cell_type": "code",
   "execution_count": 121,
   "id": "b2c16276-6913-43ca-ac52-88627d547aa4",
   "metadata": {},
   "outputs": [
    {
     "data": {
      "text/html": [
       "<div>\n",
       "<style scoped>\n",
       "    .dataframe tbody tr th:only-of-type {\n",
       "        vertical-align: middle;\n",
       "    }\n",
       "\n",
       "    .dataframe tbody tr th {\n",
       "        vertical-align: top;\n",
       "    }\n",
       "\n",
       "    .dataframe thead th {\n",
       "        text-align: right;\n",
       "    }\n",
       "</style>\n",
       "<table border=\"1\" class=\"dataframe\">\n",
       "  <thead>\n",
       "    <tr style=\"text-align: right;\">\n",
       "      <th></th>\n",
       "      <th>store_name</th>\n",
       "      <th>store_tel</th>\n",
       "      <th>store_address</th>\n",
       "      <th>hour</th>\n",
       "      <th>lotto</th>\n",
       "      <th>mix</th>\n",
       "      <th>battery</th>\n",
       "      <th>pos</th>\n",
       "      <th>bakery</th>\n",
       "      <th>fried</th>\n",
       "      <th>coffee</th>\n",
       "      <th>delivery</th>\n",
       "      <th>cash</th>\n",
       "      <th>toto</th>\n",
       "      <th>sido</th>\n",
       "    </tr>\n",
       "  </thead>\n",
       "  <tbody>\n",
       "    <tr>\n",
       "      <th>7254</th>\n",
       "      <td>방배제일점</td>\n",
       "      <td>025888232</td>\n",
       "      <td>서울특별시 서초구 효령로23길 90, (방배동)</td>\n",
       "      <td>1</td>\n",
       "      <td>0</td>\n",
       "      <td>0</td>\n",
       "      <td>0</td>\n",
       "      <td>0</td>\n",
       "      <td>False</td>\n",
       "      <td>0</td>\n",
       "      <td>1</td>\n",
       "      <td>1</td>\n",
       "      <td>0</td>\n",
       "      <td>0</td>\n",
       "      <td>서울특별시</td>\n",
       "    </tr>\n",
       "    <tr>\n",
       "      <th>7260</th>\n",
       "      <td>서울백석대점</td>\n",
       "      <td>025259811</td>\n",
       "      <td>서울특별시 서초구 효령로28길 3 RNC빌딩</td>\n",
       "      <td>1</td>\n",
       "      <td>0</td>\n",
       "      <td>0</td>\n",
       "      <td>1</td>\n",
       "      <td>0</td>\n",
       "      <td>False</td>\n",
       "      <td>1</td>\n",
       "      <td>1</td>\n",
       "      <td>1</td>\n",
       "      <td>1</td>\n",
       "      <td>0</td>\n",
       "      <td>서울특별시</td>\n",
       "    </tr>\n",
       "    <tr>\n",
       "      <th>7264</th>\n",
       "      <td>서초그랑자이점</td>\n",
       "      <td></td>\n",
       "      <td>서울특별시 서초구 효령로403 서초그랑자이 1층 상가동 101, 110호</td>\n",
       "      <td>1</td>\n",
       "      <td>0</td>\n",
       "      <td>0</td>\n",
       "      <td>0</td>\n",
       "      <td>0</td>\n",
       "      <td>False</td>\n",
       "      <td>0</td>\n",
       "      <td>1</td>\n",
       "      <td>1</td>\n",
       "      <td>0</td>\n",
       "      <td>0</td>\n",
       "      <td>서울특별시</td>\n",
       "    </tr>\n",
       "    <tr>\n",
       "      <th>7269</th>\n",
       "      <td>남부터미널역점</td>\n",
       "      <td>025975601</td>\n",
       "      <td>서울특별시 서초구 효령로 279, (서초동)</td>\n",
       "      <td>1</td>\n",
       "      <td>0</td>\n",
       "      <td>0</td>\n",
       "      <td>0</td>\n",
       "      <td>0</td>\n",
       "      <td>False</td>\n",
       "      <td>0</td>\n",
       "      <td>1</td>\n",
       "      <td>1</td>\n",
       "      <td>1</td>\n",
       "      <td>0</td>\n",
       "      <td>서울특별시</td>\n",
       "    </tr>\n",
       "    <tr>\n",
       "      <th>7313</th>\n",
       "      <td>아크로텔강남역점</td>\n",
       "      <td>0234871577</td>\n",
       "      <td>서울특별시 서초구 효령로77길 34 아크로텔강남역 (서초동) 아크로텔강남역</td>\n",
       "      <td>1</td>\n",
       "      <td>0</td>\n",
       "      <td>0</td>\n",
       "      <td>0</td>\n",
       "      <td>0</td>\n",
       "      <td>False</td>\n",
       "      <td>0</td>\n",
       "      <td>1</td>\n",
       "      <td>1</td>\n",
       "      <td>0</td>\n",
       "      <td>0</td>\n",
       "      <td>서울특별시</td>\n",
       "    </tr>\n",
       "  </tbody>\n",
       "</table>\n",
       "</div>"
      ],
      "text/plain": [
       "     store_name   store_tel                              store_address  hour  \\\n",
       "7254      방배제일점   025888232                 서울특별시 서초구 효령로23길 90, (방배동)     1   \n",
       "7260     서울백석대점   025259811                   서울특별시 서초구 효령로28길 3 RNC빌딩     1   \n",
       "7264    서초그랑자이점               서울특별시 서초구 효령로403 서초그랑자이 1층 상가동 101, 110호     1   \n",
       "7269    남부터미널역점   025975601                   서울특별시 서초구 효령로 279, (서초동)     1   \n",
       "7313   아크로텔강남역점  0234871577  서울특별시 서초구 효령로77길 34 아크로텔강남역 (서초동) 아크로텔강남역     1   \n",
       "\n",
       "      lotto  mix  battery  pos  bakery  fried  coffee  delivery  cash  toto  \\\n",
       "7254      0    0        0    0   False      0       1         1     0     0   \n",
       "7260      0    0        1    0   False      1       1         1     1     0   \n",
       "7264      0    0        0    0   False      0       1         1     0     0   \n",
       "7269      0    0        0    0   False      0       1         1     1     0   \n",
       "7313      0    0        0    0   False      0       1         1     0     0   \n",
       "\n",
       "       sido  \n",
       "7254  서울특별시  \n",
       "7260  서울특별시  \n",
       "7264  서울특별시  \n",
       "7269  서울특별시  \n",
       "7313  서울특별시  "
      ]
     },
     "execution_count": 121,
     "metadata": {},
     "output_type": "execute_result"
    }
   ],
   "source": [
    "unique_cu[(unique_cu.delivery) & (unique_cu.store_address.str.find(\"효령로\")>-1) \\\n",
    "& (unique_cu.store_address.str.find(\"서울특별시\")>-1)]"
   ]
  },
  {
   "cell_type": "code",
   "execution_count": 110,
   "id": "76851d31-2f26-43d7-81ee-fbf6563f0986",
   "metadata": {},
   "outputs": [],
   "source": [
    "# unique_cu.drop(['store_service'],axis=1,inplace=True)"
   ]
  },
  {
   "cell_type": "code",
   "execution_count": 122,
   "id": "16d5f8d6-52d2-4f1a-97ad-56451b69e6e5",
   "metadata": {},
   "outputs": [
    {
     "data": {
      "text/html": [
       "<div>\n",
       "<style scoped>\n",
       "    .dataframe tbody tr th:only-of-type {\n",
       "        vertical-align: middle;\n",
       "    }\n",
       "\n",
       "    .dataframe tbody tr th {\n",
       "        vertical-align: top;\n",
       "    }\n",
       "\n",
       "    .dataframe thead th {\n",
       "        text-align: right;\n",
       "    }\n",
       "</style>\n",
       "<table border=\"1\" class=\"dataframe\">\n",
       "  <thead>\n",
       "    <tr style=\"text-align: right;\">\n",
       "      <th></th>\n",
       "      <th>store_name</th>\n",
       "      <th>store_tel</th>\n",
       "      <th>store_address</th>\n",
       "      <th>hour</th>\n",
       "      <th>lotto</th>\n",
       "      <th>mix</th>\n",
       "      <th>battery</th>\n",
       "      <th>pos</th>\n",
       "      <th>bakery</th>\n",
       "      <th>fried</th>\n",
       "      <th>coffee</th>\n",
       "      <th>delivery</th>\n",
       "      <th>cash</th>\n",
       "      <th>toto</th>\n",
       "      <th>sido</th>\n",
       "    </tr>\n",
       "  </thead>\n",
       "  <tbody>\n",
       "    <tr>\n",
       "      <th>0</th>\n",
       "      <td>가평군청점</td>\n",
       "      <td>0315817570</td>\n",
       "      <td>경기도 가평군 가평읍 석봉로 175, (읍내리) 1호</td>\n",
       "      <td>1</td>\n",
       "      <td>0</td>\n",
       "      <td>0</td>\n",
       "      <td>0</td>\n",
       "      <td>0</td>\n",
       "      <td>False</td>\n",
       "      <td>1</td>\n",
       "      <td>1</td>\n",
       "      <td>1</td>\n",
       "      <td>1</td>\n",
       "      <td>0</td>\n",
       "      <td>경기도</td>\n",
       "    </tr>\n",
       "    <tr>\n",
       "      <th>1</th>\n",
       "      <td>가평레일파크점</td>\n",
       "      <td></td>\n",
       "      <td>경기도 가평군 가평읍 연인길 2 (읍내리)</td>\n",
       "      <td>0</td>\n",
       "      <td>0</td>\n",
       "      <td>0</td>\n",
       "      <td>0</td>\n",
       "      <td>1</td>\n",
       "      <td>False</td>\n",
       "      <td>0</td>\n",
       "      <td>1</td>\n",
       "      <td>1</td>\n",
       "      <td>0</td>\n",
       "      <td>0</td>\n",
       "      <td>경기도</td>\n",
       "    </tr>\n",
       "    <tr>\n",
       "      <th>2</th>\n",
       "      <td>가평본점</td>\n",
       "      <td></td>\n",
       "      <td>경기도 가평군 가화로 110-1 (가평읍) 1층</td>\n",
       "      <td>1</td>\n",
       "      <td>0</td>\n",
       "      <td>0</td>\n",
       "      <td>0</td>\n",
       "      <td>0</td>\n",
       "      <td>False</td>\n",
       "      <td>0</td>\n",
       "      <td>1</td>\n",
       "      <td>1</td>\n",
       "      <td>1</td>\n",
       "      <td>0</td>\n",
       "      <td>경기도</td>\n",
       "    </tr>\n",
       "    <tr>\n",
       "      <th>3</th>\n",
       "      <td>가평센타점</td>\n",
       "      <td>0315817470</td>\n",
       "      <td>경기도 가평군 가평읍 오리나무길 9 1층</td>\n",
       "      <td>1</td>\n",
       "      <td>0</td>\n",
       "      <td>0</td>\n",
       "      <td>0</td>\n",
       "      <td>0</td>\n",
       "      <td>False</td>\n",
       "      <td>0</td>\n",
       "      <td>1</td>\n",
       "      <td>1</td>\n",
       "      <td>1</td>\n",
       "      <td>0</td>\n",
       "      <td>경기도</td>\n",
       "    </tr>\n",
       "    <tr>\n",
       "      <th>4</th>\n",
       "      <td>가평오렌지점</td>\n",
       "      <td></td>\n",
       "      <td>경기도 가평군 가평읍 가화로 174, (읍내리)</td>\n",
       "      <td>1</td>\n",
       "      <td>0</td>\n",
       "      <td>0</td>\n",
       "      <td>0</td>\n",
       "      <td>0</td>\n",
       "      <td>False</td>\n",
       "      <td>0</td>\n",
       "      <td>1</td>\n",
       "      <td>1</td>\n",
       "      <td>1</td>\n",
       "      <td>0</td>\n",
       "      <td>경기도</td>\n",
       "    </tr>\n",
       "    <tr>\n",
       "      <th>...</th>\n",
       "      <td>...</td>\n",
       "      <td>...</td>\n",
       "      <td>...</td>\n",
       "      <td>...</td>\n",
       "      <td>...</td>\n",
       "      <td>...</td>\n",
       "      <td>...</td>\n",
       "      <td>...</td>\n",
       "      <td>...</td>\n",
       "      <td>...</td>\n",
       "      <td>...</td>\n",
       "      <td>...</td>\n",
       "      <td>...</td>\n",
       "      <td>...</td>\n",
       "      <td>...</td>\n",
       "    </tr>\n",
       "    <tr>\n",
       "      <th>19545</th>\n",
       "      <td>울산학산옥교점</td>\n",
       "      <td></td>\n",
       "      <td>울산광역시 중구 옥교3길 76 (학산동)</td>\n",
       "      <td>1</td>\n",
       "      <td>0</td>\n",
       "      <td>0</td>\n",
       "      <td>0</td>\n",
       "      <td>0</td>\n",
       "      <td>False</td>\n",
       "      <td>1</td>\n",
       "      <td>1</td>\n",
       "      <td>1</td>\n",
       "      <td>0</td>\n",
       "      <td>0</td>\n",
       "      <td>울산광역시</td>\n",
       "    </tr>\n",
       "    <tr>\n",
       "      <th>19546</th>\n",
       "      <td>울산학성점</td>\n",
       "      <td>0522971245</td>\n",
       "      <td>울산광역시 중구 학성4길 65, (학성동)</td>\n",
       "      <td>1</td>\n",
       "      <td>0</td>\n",
       "      <td>0</td>\n",
       "      <td>0</td>\n",
       "      <td>0</td>\n",
       "      <td>True</td>\n",
       "      <td>1</td>\n",
       "      <td>1</td>\n",
       "      <td>1</td>\n",
       "      <td>1</td>\n",
       "      <td>0</td>\n",
       "      <td>울산광역시</td>\n",
       "    </tr>\n",
       "    <tr>\n",
       "      <th>19547</th>\n",
       "      <td>울산학성중앙점</td>\n",
       "      <td></td>\n",
       "      <td>울산광역시 중구 학성공원12길 20 (학성동)</td>\n",
       "      <td>1</td>\n",
       "      <td>0</td>\n",
       "      <td>0</td>\n",
       "      <td>0</td>\n",
       "      <td>0</td>\n",
       "      <td>True</td>\n",
       "      <td>1</td>\n",
       "      <td>1</td>\n",
       "      <td>1</td>\n",
       "      <td>1</td>\n",
       "      <td>0</td>\n",
       "      <td>울산광역시</td>\n",
       "    </tr>\n",
       "    <tr>\n",
       "      <th>19548</th>\n",
       "      <td>학성동UBC점</td>\n",
       "      <td>0522431329</td>\n",
       "      <td>울산광역시 중구 구역전1길 37-9</td>\n",
       "      <td>1</td>\n",
       "      <td>0</td>\n",
       "      <td>0</td>\n",
       "      <td>1</td>\n",
       "      <td>0</td>\n",
       "      <td>False</td>\n",
       "      <td>0</td>\n",
       "      <td>1</td>\n",
       "      <td>1</td>\n",
       "      <td>1</td>\n",
       "      <td>0</td>\n",
       "      <td>울산광역시</td>\n",
       "    </tr>\n",
       "    <tr>\n",
       "      <th>19549</th>\n",
       "      <td>학성드림점</td>\n",
       "      <td></td>\n",
       "      <td>울산광역시 중구 구교로 83</td>\n",
       "      <td>1</td>\n",
       "      <td>0</td>\n",
       "      <td>0</td>\n",
       "      <td>0</td>\n",
       "      <td>0</td>\n",
       "      <td>False</td>\n",
       "      <td>0</td>\n",
       "      <td>1</td>\n",
       "      <td>1</td>\n",
       "      <td>0</td>\n",
       "      <td>0</td>\n",
       "      <td>울산광역시</td>\n",
       "    </tr>\n",
       "  </tbody>\n",
       "</table>\n",
       "<p>17633 rows × 15 columns</p>\n",
       "</div>"
      ],
      "text/plain": [
       "      store_name   store_tel                  store_address  hour  lotto  mix  \\\n",
       "0          가평군청점  0315817570  경기도 가평군 가평읍 석봉로 175, (읍내리) 1호     1      0    0   \n",
       "1        가평레일파크점                    경기도 가평군 가평읍 연인길 2 (읍내리)     0      0    0   \n",
       "2           가평본점                 경기도 가평군 가화로 110-1 (가평읍) 1층     1      0    0   \n",
       "3          가평센타점  0315817470         경기도 가평군 가평읍 오리나무길 9 1층     1      0    0   \n",
       "4         가평오렌지점                 경기도 가평군 가평읍 가화로 174, (읍내리)     1      0    0   \n",
       "...          ...         ...                            ...   ...    ...  ...   \n",
       "19545    울산학산옥교점                     울산광역시 중구 옥교3길 76 (학산동)     1      0    0   \n",
       "19546      울산학성점  0522971245        울산광역시 중구 학성4길 65, (학성동)     1      0    0   \n",
       "19547    울산학성중앙점                  울산광역시 중구 학성공원12길 20 (학성동)     1      0    0   \n",
       "19548    학성동UBC점  0522431329            울산광역시 중구 구역전1길 37-9     1      0    0   \n",
       "19549      학성드림점                            울산광역시 중구 구교로 83     1      0    0   \n",
       "\n",
       "       battery  pos  bakery  fried  coffee  delivery  cash  toto   sido  \n",
       "0            0    0   False      1       1         1     1     0    경기도  \n",
       "1            0    1   False      0       1         1     0     0    경기도  \n",
       "2            0    0   False      0       1         1     1     0    경기도  \n",
       "3            0    0   False      0       1         1     1     0    경기도  \n",
       "4            0    0   False      0       1         1     1     0    경기도  \n",
       "...        ...  ...     ...    ...     ...       ...   ...   ...    ...  \n",
       "19545        0    0   False      1       1         1     0     0  울산광역시  \n",
       "19546        0    0    True      1       1         1     1     0  울산광역시  \n",
       "19547        0    0    True      1       1         1     1     0  울산광역시  \n",
       "19548        1    0   False      0       1         1     1     0  울산광역시  \n",
       "19549        0    0   False      0       1         1     0     0  울산광역시  \n",
       "\n",
       "[17633 rows x 15 columns]"
      ]
     },
     "execution_count": 122,
     "metadata": {},
     "output_type": "execute_result"
    }
   ],
   "source": [
    "unique_cu"
   ]
  },
  {
   "cell_type": "code",
   "execution_count": 123,
   "id": "27710545-d377-49c5-bee6-7f839d718f9d",
   "metadata": {},
   "outputs": [
    {
     "data": {
      "text/plain": [
       "sido\n",
       "경기도        4770\n",
       "서울특별시      2859\n",
       "경상남도       1208\n",
       "부산광역시      1000\n",
       "충청남도        922\n",
       "인천광역시       915\n",
       "경상북도        905\n",
       "강원도         824\n",
       "충청북도        683\n",
       "제주특별자치도     618\n",
       "대구광역시       606\n",
       "전라북도        574\n",
       "전라남도        515\n",
       "대전광역시       427\n",
       "광주광역시       403\n",
       "울산광역시       370\n",
       "경남            5\n",
       "전북특별자치도       4\n",
       "경북            2\n",
       "서울            2\n",
       "서울시           2\n",
       "전남            2\n",
       "대구시           2\n",
       "충북            2\n",
       "경기            1\n",
       "포천시           1\n",
       "부산            1\n",
       "부산광영시         1\n",
       "부산시           1\n",
       "아산시           1\n",
       "충천남도          1\n",
       "인천광영시         1\n",
       "충청남남          1\n",
       "인천            1\n",
       "대구            1\n",
       "광주            1\n",
       "울산시           1\n",
       "Name: count, dtype: int64"
      ]
     },
     "execution_count": 123,
     "metadata": {},
     "output_type": "execute_result"
    }
   ],
   "source": [
    "unique_cu.sido.value_counts()\n",
    "# 경기도        3401\n",
    "# 서울특별시      2047\n",
    "# 경상남도        671\n",
    "# 충청남도        665\n",
    "# 경상북도        605\n",
    "# 인천광역시       600\n",
    "# 대구광역시       582\n",
    "# 부산광역시       580\n",
    "# 강원도         569\n",
    "# 충청북도        501\n",
    "# 전라남도        492\n",
    "# 전라북도        440\n",
    "# 광주광역시       394\n",
    "# 대전광역시       350\n",
    "# 제주특별자치도     300\n",
    "# 울산광역시       220\n",
    "\n",
    "# 경기도        4770\n",
    "# 서울특별시      2859\n",
    "# 경상남도       1208\n",
    "# 부산광역시      1000\n",
    "# 충청남도        922\n",
    "# 인천광역시       915\n",
    "# 경상북도        905\n",
    "# 강원도         824\n",
    "# 충청북도        683\n",
    "# 제주특별자치도     618\n",
    "# 대구광역시       606\n",
    "# 전라북도        574\n",
    "# 전라남도        515\n",
    "# 대전광역시       427\n",
    "# 광주광역시       403\n",
    "# 울산광역시       370"
   ]
  },
  {
   "cell_type": "code",
   "execution_count": 124,
   "id": "02ad9dc2-0712-429c-9d32-ee74ad452320",
   "metadata": {},
   "outputs": [],
   "source": [
    "unique_cu.loc[unique_cu['sido'].str.find(\"경남\")>-1,\"sido\"]=\"경상남도\"\n",
    "unique_cu.loc[unique_cu['sido'].str.find(\"전북특별자치도\")>-1,\"sido\"]=\"전라북도\"\n",
    "unique_cu.loc[unique_cu['sido'].str.find(\"경북\")>-1,\"sido\"]=\"경상북도\"\n",
    "unique_cu.loc[unique_cu['sido'].str.find(\"서울\")>-1,\"sido\"]=\"서울특별시\"\n",
    "unique_cu.loc[unique_cu['sido'].str.find(\"서울시\")>-1,\"sido\"]=\"서울특별시\"\n",
    "unique_cu.loc[unique_cu['sido'].str.find(\"전남\")>-1,\"sido\"]=\"전라남도\"\n",
    "unique_cu.loc[unique_cu['sido'].str.find(\"대구시\")>-1,\"sido\"]=\"대구광역시\"\n",
    "unique_cu.loc[unique_cu['sido'].str.find(\"충북\")>-1,\"sido\"]=\"충청북도\"\n",
    "unique_cu.loc[unique_cu['sido'].str.find(\"경기\")>-1,\"sido\"]=\"경기도\"\n",
    "unique_cu.loc[unique_cu['sido'].str.find(\"포천시\")>-1,\"sido\"]=\"경기도\"\n",
    "unique_cu.loc[unique_cu['sido'].str.find(\"부산\")>-1,\"sido\"]=\"부산광역시\"\n",
    "unique_cu.loc[unique_cu['sido'].str.find(\"부산광영시\")>-1,\"sido\"]=\"부산광역시\"\n",
    "unique_cu.loc[unique_cu['sido'].str.find(\"부산시\")>-1,\"sido\"]=\"부산광역시\"\n",
    "unique_cu.loc[unique_cu['sido'].str.find(\"충천남도\")>-1,\"sido\"]=\"충청남도\"\n",
    "unique_cu.loc[unique_cu['sido'].str.find(\"인천광영시\")>-1,\"sido\"]=\"인천광역시\"\n",
    "unique_cu.loc[unique_cu['sido'].str.find(\"충청남남\")>-1,\"sido\"]=\"충청남도\"\n",
    "unique_cu.loc[unique_cu['sido'].str.find(\"인천\")>-1,\"sido\"]=\"인천광역시\"\n",
    "unique_cu.loc[unique_cu['sido'].str.find(\"대구\")>-1,\"sido\"]=\"대구광역시\"\n",
    "unique_cu.loc[unique_cu['sido'].str.find(\"광주\")>-1,\"sido\"]=\"광주광역시\"\n",
    "unique_cu.loc[unique_cu['sido'].str.find(\"울산시\")>-1,\"sido\"]=\"울산광역시\"\n",
    "unique_cu.loc[unique_cu['sido'].str.find(\"아산시\")>-1,\"sido\"]=\"충청남도\""
   ]
  },
  {
   "cell_type": "code",
   "execution_count": 125,
   "id": "0a3bfa10-8853-43ba-83e8-35646f9944f8",
   "metadata": {},
   "outputs": [
    {
     "data": {
      "text/plain": [
       "sido\n",
       "경기도        4772\n",
       "서울특별시      2863\n",
       "경상남도       1213\n",
       "부산광역시      1003\n",
       "충청남도        925\n",
       "인천광역시       917\n",
       "경상북도        907\n",
       "강원도         824\n",
       "충청북도        685\n",
       "제주특별자치도     618\n",
       "대구광역시       609\n",
       "전라북도        578\n",
       "전라남도        517\n",
       "대전광역시       427\n",
       "광주광역시       404\n",
       "울산광역시       371\n",
       "Name: count, dtype: int64"
      ]
     },
     "execution_count": 125,
     "metadata": {},
     "output_type": "execute_result"
    }
   ],
   "source": [
    "unique_cu.sido.value_counts()"
   ]
  },
  {
   "cell_type": "code",
   "execution_count": 126,
   "id": "c1b2bd06-506c-4c11-ae65-a2cc8962fdd5",
   "metadata": {},
   "outputs": [],
   "source": [
    "unique_cu['company']=\"cu\""
   ]
  },
  {
   "cell_type": "code",
   "execution_count": 127,
   "id": "8ff80558-6ae6-45d5-bad9-6058af980612",
   "metadata": {},
   "outputs": [
    {
     "data": {
      "text/plain": [
       "Index(['store_name', 'store_tel', 'store_address', 'hour', 'lotto', 'mix',\n",
       "       'battery', 'pos', 'bakery', 'fried', 'coffee', 'delivery', 'cash',\n",
       "       'toto', 'sido', 'company'],\n",
       "      dtype='object')"
      ]
     },
     "execution_count": 127,
     "metadata": {},
     "output_type": "execute_result"
    }
   ],
   "source": [
    "unique_cu.columns"
   ]
  },
  {
   "cell_type": "code",
   "execution_count": 128,
   "id": "2730ff40-b1c8-495a-af11-490d8069a0e2",
   "metadata": {},
   "outputs": [],
   "source": [
    "unique_cu = unique_cu[['company','store_name', \"sido\" , 'store_address',\"store_tel\", 'hour', 'lotto',\n",
    "       'mix', 'battery', 'pos', 'bakery', 'fried', 'coffee', 'delivery',\n",
    "       'cash', 'toto']]"
   ]
  },
  {
   "cell_type": "code",
   "execution_count": 86,
   "id": "7a13b7a9-eb9e-4aa1-acc5-40788faab7de",
   "metadata": {},
   "outputs": [],
   "source": [
    "# unique_cu.drop([\"store_tel\"],axis=1,inplace=True) #inplace하기전에 해도 괜찮은지 확인하기"
   ]
  },
  {
   "cell_type": "code",
   "execution_count": 131,
   "id": "3148863b-7a36-4658-a92e-1885ae5fad55",
   "metadata": {},
   "outputs": [],
   "source": [
    "# pd.melt(seven_df,id_vars=[\"\n",
    "cu_melt = pd.melt(unique_cu, id_vars=['company', 'store_name', 'sido', 'store_address',\"store_tel\"])"
   ]
  },
  {
   "cell_type": "code",
   "execution_count": 132,
   "id": "e03f4d56-1abd-4c19-91fc-17b1d1be6f69",
   "metadata": {},
   "outputs": [
    {
     "data": {
      "text/html": [
       "<div>\n",
       "<style scoped>\n",
       "    .dataframe tbody tr th:only-of-type {\n",
       "        vertical-align: middle;\n",
       "    }\n",
       "\n",
       "    .dataframe tbody tr th {\n",
       "        vertical-align: top;\n",
       "    }\n",
       "\n",
       "    .dataframe thead th {\n",
       "        text-align: right;\n",
       "    }\n",
       "</style>\n",
       "<table border=\"1\" class=\"dataframe\">\n",
       "  <thead>\n",
       "    <tr style=\"text-align: right;\">\n",
       "      <th></th>\n",
       "      <th>company</th>\n",
       "      <th>store_name</th>\n",
       "      <th>sido</th>\n",
       "      <th>store_address</th>\n",
       "      <th>store_tel</th>\n",
       "      <th>variable</th>\n",
       "      <th>value</th>\n",
       "    </tr>\n",
       "  </thead>\n",
       "  <tbody>\n",
       "    <tr>\n",
       "      <th>0</th>\n",
       "      <td>cu</td>\n",
       "      <td>가평군청점</td>\n",
       "      <td>경기도</td>\n",
       "      <td>경기도 가평군 가평읍 석봉로 175, (읍내리) 1호</td>\n",
       "      <td>0315817570</td>\n",
       "      <td>hour</td>\n",
       "      <td>1</td>\n",
       "    </tr>\n",
       "    <tr>\n",
       "      <th>1</th>\n",
       "      <td>cu</td>\n",
       "      <td>가평레일파크점</td>\n",
       "      <td>경기도</td>\n",
       "      <td>경기도 가평군 가평읍 연인길 2 (읍내리)</td>\n",
       "      <td></td>\n",
       "      <td>hour</td>\n",
       "      <td>0</td>\n",
       "    </tr>\n",
       "    <tr>\n",
       "      <th>2</th>\n",
       "      <td>cu</td>\n",
       "      <td>가평본점</td>\n",
       "      <td>경기도</td>\n",
       "      <td>경기도 가평군 가화로 110-1 (가평읍) 1층</td>\n",
       "      <td></td>\n",
       "      <td>hour</td>\n",
       "      <td>1</td>\n",
       "    </tr>\n",
       "    <tr>\n",
       "      <th>3</th>\n",
       "      <td>cu</td>\n",
       "      <td>가평센타점</td>\n",
       "      <td>경기도</td>\n",
       "      <td>경기도 가평군 가평읍 오리나무길 9 1층</td>\n",
       "      <td>0315817470</td>\n",
       "      <td>hour</td>\n",
       "      <td>1</td>\n",
       "    </tr>\n",
       "    <tr>\n",
       "      <th>4</th>\n",
       "      <td>cu</td>\n",
       "      <td>가평오렌지점</td>\n",
       "      <td>경기도</td>\n",
       "      <td>경기도 가평군 가평읍 가화로 174, (읍내리)</td>\n",
       "      <td></td>\n",
       "      <td>hour</td>\n",
       "      <td>1</td>\n",
       "    </tr>\n",
       "    <tr>\n",
       "      <th>...</th>\n",
       "      <td>...</td>\n",
       "      <td>...</td>\n",
       "      <td>...</td>\n",
       "      <td>...</td>\n",
       "      <td>...</td>\n",
       "      <td>...</td>\n",
       "      <td>...</td>\n",
       "    </tr>\n",
       "    <tr>\n",
       "      <th>193958</th>\n",
       "      <td>cu</td>\n",
       "      <td>울산학산옥교점</td>\n",
       "      <td>울산광역시</td>\n",
       "      <td>울산광역시 중구 옥교3길 76 (학산동)</td>\n",
       "      <td></td>\n",
       "      <td>toto</td>\n",
       "      <td>0</td>\n",
       "    </tr>\n",
       "    <tr>\n",
       "      <th>193959</th>\n",
       "      <td>cu</td>\n",
       "      <td>울산학성점</td>\n",
       "      <td>울산광역시</td>\n",
       "      <td>울산광역시 중구 학성4길 65, (학성동)</td>\n",
       "      <td>0522971245</td>\n",
       "      <td>toto</td>\n",
       "      <td>0</td>\n",
       "    </tr>\n",
       "    <tr>\n",
       "      <th>193960</th>\n",
       "      <td>cu</td>\n",
       "      <td>울산학성중앙점</td>\n",
       "      <td>울산광역시</td>\n",
       "      <td>울산광역시 중구 학성공원12길 20 (학성동)</td>\n",
       "      <td></td>\n",
       "      <td>toto</td>\n",
       "      <td>0</td>\n",
       "    </tr>\n",
       "    <tr>\n",
       "      <th>193961</th>\n",
       "      <td>cu</td>\n",
       "      <td>학성동UBC점</td>\n",
       "      <td>울산광역시</td>\n",
       "      <td>울산광역시 중구 구역전1길 37-9</td>\n",
       "      <td>0522431329</td>\n",
       "      <td>toto</td>\n",
       "      <td>0</td>\n",
       "    </tr>\n",
       "    <tr>\n",
       "      <th>193962</th>\n",
       "      <td>cu</td>\n",
       "      <td>학성드림점</td>\n",
       "      <td>울산광역시</td>\n",
       "      <td>울산광역시 중구 구교로 83</td>\n",
       "      <td></td>\n",
       "      <td>toto</td>\n",
       "      <td>0</td>\n",
       "    </tr>\n",
       "  </tbody>\n",
       "</table>\n",
       "<p>193963 rows × 7 columns</p>\n",
       "</div>"
      ],
      "text/plain": [
       "       company store_name   sido                  store_address   store_tel  \\\n",
       "0           cu      가평군청점    경기도  경기도 가평군 가평읍 석봉로 175, (읍내리) 1호  0315817570   \n",
       "1           cu    가평레일파크점    경기도        경기도 가평군 가평읍 연인길 2 (읍내리)               \n",
       "2           cu       가평본점    경기도     경기도 가평군 가화로 110-1 (가평읍) 1층               \n",
       "3           cu      가평센타점    경기도         경기도 가평군 가평읍 오리나무길 9 1층  0315817470   \n",
       "4           cu     가평오렌지점    경기도     경기도 가평군 가평읍 가화로 174, (읍내리)               \n",
       "...        ...        ...    ...                            ...         ...   \n",
       "193958      cu    울산학산옥교점  울산광역시         울산광역시 중구 옥교3길 76 (학산동)               \n",
       "193959      cu      울산학성점  울산광역시        울산광역시 중구 학성4길 65, (학성동)  0522971245   \n",
       "193960      cu    울산학성중앙점  울산광역시      울산광역시 중구 학성공원12길 20 (학성동)               \n",
       "193961      cu    학성동UBC점  울산광역시            울산광역시 중구 구역전1길 37-9  0522431329   \n",
       "193962      cu      학성드림점  울산광역시                울산광역시 중구 구교로 83               \n",
       "\n",
       "       variable value  \n",
       "0          hour     1  \n",
       "1          hour     0  \n",
       "2          hour     1  \n",
       "3          hour     1  \n",
       "4          hour     1  \n",
       "...         ...   ...  \n",
       "193958     toto     0  \n",
       "193959     toto     0  \n",
       "193960     toto     0  \n",
       "193961     toto     0  \n",
       "193962     toto     0  \n",
       "\n",
       "[193963 rows x 7 columns]"
      ]
     },
     "execution_count": 132,
     "metadata": {},
     "output_type": "execute_result"
    }
   ],
   "source": [
    "cu_melt"
   ]
  },
  {
   "cell_type": "code",
   "execution_count": 133,
   "id": "13f1a478-c2c5-4f11-aa7e-456e7e74e63a",
   "metadata": {},
   "outputs": [
    {
     "data": {
      "text/plain": [
       "Index(['company', 'store_name', 'sido', 'store_address', 'store_tel',\n",
       "       'variable', 'value'],\n",
       "      dtype='object')"
      ]
     },
     "execution_count": 133,
     "metadata": {},
     "output_type": "execute_result"
    }
   ],
   "source": [
    "cu_melt.columns"
   ]
  },
  {
   "cell_type": "code",
   "execution_count": 134,
   "id": "bc38f231-fd59-44e7-93bb-559bcfaa97b7",
   "metadata": {},
   "outputs": [],
   "source": [
    "cu_melt.rename(columns={\"variable\" : \"service_name\"},inplace=True)"
   ]
  },
  {
   "cell_type": "code",
   "execution_count": 89,
   "id": "7a9df0fd-536e-4688-9d5f-c93283f86363",
   "metadata": {},
   "outputs": [],
   "source": [
    "# sudo apt install mysql-server\n",
    "# sudo service mysql status /mysql 백그라운드 데몬이있는데 status값보여줘\n",
    "#  sudo service mysql start\n",
    "# wsl->윈도우->리얼->sudo systemctl enable mysql\n",
    "# sudo service mysql start stop status restart \n",
    " # sudo mysql -uroot -p\n",
    "#mysql 에서 select user, host from mysql.user;해보기\n",
    "# heidi sql\n",
    "# 3306 port mysql maridb\n",
    " # create user name@'%' identified by 'password!';\n",
    "# grant all privileges on *.* to name@'%';\n",
    "# exit;\n",
    "# mysql -uname -ppassword\n",
    "# sudo mysql -uname -ppassword socket에 접근을 못하므로 sudo를 적어준다\n",
    "# socket은 통신하는 프로그램인데 나와 db와 하는건데\n",
    "# 127.0.0.1만 허용해주겠다고 되어있는데 bind-address변환\n",
    "# cmd창열고 wsl -> cd ~ -> cd /etc/mysql/mysql.conf.d #mysql환경파일\n",
    "# mysql.cnf  mysqld.cnf\n",
    "# sudo vim mysqld.cnf 3자는읽ㄴ는거만가능해서\n",
    "# bind-address=0.0.0.0 모든ip접속허용\n",
    "#my sql 재가동\n",
    "# hash로 딕셔너리 키값만드므로 빠르다"
   ]
  },
  {
   "cell_type": "code",
   "execution_count": 68,
   "id": "5eb44695-d421-4171-bf36-4e6d539abea9",
   "metadata": {},
   "outputs": [
    {
     "name": "stdout",
     "output_type": "stream",
     "text": [
      "Defaulting to user installation because normal site-packages is not writeable\n",
      "Collecting sqlalchemy\n",
      "  Downloading SQLAlchemy-2.0.29-cp310-cp310-manylinux_2_17_x86_64.manylinux2014_x86_64.whl (3.1 MB)\n",
      "\u001b[2K     \u001b[90m━━━━━━━━━━━━━━━━━━━━━━━━━━━━━━━━━━━━━━━━\u001b[0m \u001b[32m3.1/3.1 MB\u001b[0m \u001b[31m15.0 MB/s\u001b[0m eta \u001b[36m0:00:00\u001b[0ma \u001b[36m0:00:01\u001b[0m\n",
      "\u001b[?25hRequirement already satisfied: typing-extensions>=4.6.0 in /home/jotaesik/.local/lib/python3.10/site-packages (from sqlalchemy) (4.10.0)\n",
      "Collecting greenlet!=0.4.17\n",
      "  Downloading greenlet-3.0.3-cp310-cp310-manylinux_2_24_x86_64.manylinux_2_28_x86_64.whl (616 kB)\n",
      "\u001b[2K     \u001b[90m━━━━━━━━━━━━━━━━━━━━━━━━━━━━━━━━━━━━━━\u001b[0m \u001b[32m616.0/616.0 KB\u001b[0m \u001b[31m25.1 MB/s\u001b[0m eta \u001b[36m0:00:00\u001b[0m\n",
      "\u001b[?25hInstalling collected packages: greenlet, sqlalchemy\n",
      "Successfully installed greenlet-3.0.3 sqlalchemy-2.0.29\n",
      "Note: you may need to restart the kernel to use updated packages.\n"
     ]
    }
   ],
   "source": [
    "pip install sqlalchemy"
   ]
  },
  {
   "cell_type": "code",
   "execution_count": null,
   "id": "b42924ac-ce01-49f1-aa9a-33f5986fd490",
   "metadata": {},
   "outputs": [],
   "source": [
    "# 세븐일레븐 db넣어보기"
   ]
  },
  {
   "cell_type": "code",
   "execution_count": 69,
   "id": "e992dd02-5a02-458e-b19a-7f03bd7cc704",
   "metadata": {},
   "outputs": [],
   "source": [
    "import sqlalchemy #orm 써봤다, 장고나 플라스크할때 alchemy로 스키마작성안해도 알아서넣어준다 \n",
    "#dbeaver\n",
    "from urllib import parse\n"
   ]
  },
  {
   "cell_type": "code",
   "execution_count": 70,
   "id": "e756edbb-1f9a-4527-9176-7e09e629fc28",
   "metadata": {},
   "outputs": [],
   "source": [
    "user = 'name'\n",
    "password = 'password'\n",
    "host='ip'\n",
    "port = 3306\n",
    "database = 'encore'\n",
    "password = parse.quote_plus(password)\n",
    "engine = sqlalchemy.create_engine(f\"mysql://{user}:{password}@{host}:{port}/{database}\")\n"
   ]
  },
  {
   "cell_type": "code",
   "execution_count": null,
   "id": "f2c1f779-4518-4744-992c-ac19ba28c0f8",
   "metadata": {},
   "outputs": [],
   "source": [
    "# ORM  객체관계매핑"
   ]
  },
  {
   "cell_type": "code",
   "execution_count": 72,
   "id": "7ff6f99c-80fa-4437-b6e5-7fee467751ed",
   "metadata": {},
   "outputs": [
    {
     "data": {
      "text/plain": [
       "17633"
      ]
     },
     "execution_count": 72,
     "metadata": {},
     "output_type": "execute_result"
    }
   ],
   "source": [
    "unique_cu.to_sql('cu',index=False,if_exists=\"append\",con=engine) "
   ]
  },
  {
   "cell_type": "code",
   "execution_count": 11,
   "id": "a1fcb183-73e0-43ff-a082-5fc6ac6e35f4",
   "metadata": {},
   "outputs": [],
   "source": [
    "# cu_df.drop_duplicates()"
   ]
  },
  {
   "cell_type": "markdown",
   "id": "9bf83dc8-eaa3-40f1-989c-f133f38a2cf3",
   "metadata": {},
   "source": [
    "DATABASE-RDBMS \n",
    "mysql\n",
    "    -MARIADB-스타트업기준\n",
    "    -LINE\n",
    "\n",
    "POostgresql-교보\n",
    "    -GRAPH DB많이만듬\n",
    "DB2-IBM회사\n",
    "oracle->비쌈\n",
    "      <=>google,sap\n",
    "\n",
    "SQL ==SEQUEL 시퀄\n",
    "ANSI SQL 2005\n",
    "\n",
    "BIGDATA\n",
    "Hadoop-data lake 접근시스템 ogdata 접근안하기위해서 \n",
    "    java로 구현, MapReduce필요\n",
    "    <==>meta facebook,instagram\n",
    "        sql->java변환 해주는게 hive\n",
    "        ML,DL->예측,분류\n",
    "\n",
    "        SCM-공동망관리\n",
    "        SPARCK-Hadoop 의 데이터를 분류(병렬처리) 속도 fast \n",
    "        fuctional program 함수->함수\n",
    "\n",
    "        Scala JVM\n",
    "        ->Pyspark, SparkR \n",
    "\n",
    "        UC버클리\n",
    "        Apach Spark\n",
    "        ->DataBricks 작년에 설립<=>Snowflake\n",
    "                                    워렌버핏이 투자함\n",
    "        11번가 spark\n",
    "\n",
    "\n",
    "\n",
    "ERP 전사적자원관리\n",
    "    1위 SAP\n",
    "        -SAMSUNG,LG,SK,...\n",
    "        -Abap\n",
    "        -회사업무를 프로그램하놓은것\n",
    "        -MM,SSD,PP,HR...\n",
    "        -Abap 월2,3천 consulting 5천\n",
    "        -POSCO-ORACLE\n",
    "    2위 HANA\n",
    "        -IN-MEMORY DB \n",
    "            FAST-건강관리협회"
   ]
  },
  {
   "cell_type": "code",
   "execution_count": 67,
   "id": "6b62cf8f-97d0-4bf4-9ff1-38cd461b90c3",
   "metadata": {},
   "outputs": [
    {
     "ename": "SyntaxError",
     "evalue": "invalid syntax (371399743.py, line 1)",
     "output_type": "error",
     "traceback": [
      "\u001b[0;36m  Cell \u001b[0;32mIn[67], line 1\u001b[0;36m\u001b[0m\n\u001b[0;31m    sudo apt install mysql-server\u001b[0m\n\u001b[0m         ^\u001b[0m\n\u001b[0;31mSyntaxError\u001b[0m\u001b[0;31m:\u001b[0m invalid syntax\n"
     ]
    }
   ],
   "source": []
  }
 ],
 "metadata": {
  "kernelspec": {
   "display_name": "Python 3 (ipykernel)",
   "language": "python",
   "name": "python3"
  },
  "language_info": {
   "codemirror_mode": {
    "name": "ipython",
    "version": 3
   },
   "file_extension": ".py",
   "mimetype": "text/x-python",
   "name": "python",
   "nbconvert_exporter": "python",
   "pygments_lexer": "ipython3",
   "version": "3.10.12"
  }
 },
 "nbformat": 4,
 "nbformat_minor": 5
}
