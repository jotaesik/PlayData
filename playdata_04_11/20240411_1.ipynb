{
 "cells": [
  {
   "cell_type": "code",
   "execution_count": 1,
   "id": "652b07f9-19cf-4bc7-8b21-a35719ec8c3d",
   "metadata": {},
   "outputs": [],
   "source": [
    "import pickle\n",
    "import pandas as pd "
   ]
  },
  {
   "cell_type": "code",
   "execution_count": 25,
   "id": "ccd64ba7-f89e-4a34-93b5-2294a8086b39",
   "metadata": {},
   "outputs": [],
   "source": [
    "with open(\"./seven_stores.pkl\", \"rb\") as f:\n",
    "    seven_df = pickle.load(f)"
   ]
  },
  {
   "cell_type": "code",
   "execution_count": 6,
   "id": "ac1f9cfc-ed99-40fd-b53d-d174f353cc11",
   "metadata": {},
   "outputs": [],
   "source": [
    "with open(\"./sevenEleven.pkl\", \"rb\") as f:\n",
    "    seven_df2 = pickle.load(f)"
   ]
  },
  {
   "cell_type": "code",
   "execution_count": 16,
   "id": "5ed2da5c-c356-49fe-8164-ad669e877e4a",
   "metadata": {},
   "outputs": [
    {
     "data": {
      "text/plain": [
       "0                                 [None, None, None, None]\n",
       "1                                             [None, None]\n",
       "2                     [None, None, None, None, None, None]\n",
       "3                                             [None, None]\n",
       "4                                       [None, None, None]\n",
       "                               ...                        \n",
       "12867                                         [None, None]\n",
       "12868                                         [None, None]\n",
       "12869    [None, None, None, None, None, None, None, Non...\n",
       "12870                                         [None, None]\n",
       "12871                                         [None, None]\n",
       "Name: able_services, Length: 12872, dtype: object"
      ]
     },
     "execution_count": 16,
     "metadata": {},
     "output_type": "execute_result"
    }
   ],
   "source": [
    "tmp = set()\n",
    "seven_df.able_services.apply(lambda x : [tmp.add(y) for y in x])"
   ]
  },
  {
   "cell_type": "code",
   "execution_count": 18,
   "id": "013a547c-5808-48dd-ba4f-7bea62e04891",
   "metadata": {},
   "outputs": [
    {
     "data": {
      "text/plain": [
       "15"
      ]
     },
     "execution_count": 18,
     "metadata": {},
     "output_type": "execute_result"
    }
   ],
   "source": [
    "tmp.__len__()"
   ]
  },
  {
   "cell_type": "code",
   "execution_count": 26,
   "id": "f29bd3d8-6dca-49ef-9c0a-32fc45948a77",
   "metadata": {},
   "outputs": [
    {
     "data": {
      "text/html": [
       "<div>\n",
       "<style scoped>\n",
       "    .dataframe tbody tr th:only-of-type {\n",
       "        vertical-align: middle;\n",
       "    }\n",
       "\n",
       "    .dataframe tbody tr th {\n",
       "        vertical-align: top;\n",
       "    }\n",
       "\n",
       "    .dataframe thead th {\n",
       "        text-align: right;\n",
       "    }\n",
       "</style>\n",
       "<table border=\"1\" class=\"dataframe\">\n",
       "  <thead>\n",
       "    <tr style=\"text-align: right;\">\n",
       "      <th></th>\n",
       "      <th>name</th>\n",
       "      <th>address</th>\n",
       "      <th>able_services</th>\n",
       "    </tr>\n",
       "  </thead>\n",
       "  <tbody>\n",
       "    <tr>\n",
       "      <th>0</th>\n",
       "      <td>강릉5주공점</td>\n",
       "      <td>강원도 강릉시 월대산로 43</td>\n",
       "      <td>[의약품, 무인택배접수, 페덱스서비스, 시디]</td>\n",
       "    </tr>\n",
       "  </tbody>\n",
       "</table>\n",
       "</div>"
      ],
      "text/plain": [
       "     name          address              able_services\n",
       "0  강릉5주공점  강원도 강릉시 월대산로 43  [의약품, 무인택배접수, 페덱스서비스, 시디]"
      ]
     },
     "execution_count": 26,
     "metadata": {},
     "output_type": "execute_result"
    }
   ],
   "source": [
    "seven_df.head(1)"
   ]
  },
  {
   "cell_type": "code",
   "execution_count": 29,
   "id": "22e39f15-530a-407c-939b-8c3abf410e4e",
   "metadata": {},
   "outputs": [],
   "source": [
    "# hardcoding \n",
    "#'24시간'"
   ]
  },
  {
   "cell_type": "code",
   "execution_count": 27,
   "id": "c038d579-19c6-4e7c-8b05-3d9b3c5d6671",
   "metadata": {},
   "outputs": [],
   "source": [
    "for service in tmp:\n",
    "    seven_df[service] = seven_df.able_services.apply(lambda x : 1 if service in x else 0)"
   ]
  },
  {
   "cell_type": "code",
   "execution_count": 32,
   "id": "120eceaf-216e-4e61-9cf2-100343399a22",
   "metadata": {},
   "outputs": [
    {
     "data": {
      "text/plain": [
       "2626"
      ]
     },
     "execution_count": 32,
     "metadata": {},
     "output_type": "execute_result"
    }
   ],
   "source": [
    "seven_df.ATM.sum()"
   ]
  },
  {
   "cell_type": "code",
   "execution_count": 36,
   "id": "9b698dfe-1de0-4e71-be2e-bc3ed3127e86",
   "metadata": {},
   "outputs": [
    {
     "data": {
      "text/plain": [
       "의약품\n",
       "0    0.612492\n",
       "1    0.387508\n",
       "Name: proportion, dtype: float64"
      ]
     },
     "execution_count": 36,
     "metadata": {},
     "output_type": "execute_result"
    }
   ],
   "source": [
    "seven_df.의약품.value_counts(normalize=True)"
   ]
  },
  {
   "cell_type": "code",
   "execution_count": 23,
   "id": "f0dde50e-0822-4cd0-9b8f-fb4383f8a237",
   "metadata": {},
   "outputs": [
    {
     "data": {
      "text/plain": [
       "0        0\n",
       "1        0\n",
       "2        1\n",
       "3        0\n",
       "4        0\n",
       "        ..\n",
       "12867    0\n",
       "12868    0\n",
       "12869    1\n",
       "12870    0\n",
       "12871    0\n",
       "Name: able_services, Length: 12872, dtype: int64"
      ]
     },
     "execution_count": 23,
     "metadata": {},
     "output_type": "execute_result"
    }
   ],
   "source": [
    "tmp\n",
    "seven_df.able_services.apply(lambda x : 1 if '24시간' in x else 0)"
   ]
  },
  {
   "cell_type": "code",
   "execution_count": 39,
   "id": "23f5d990-9180-4891-8ed3-fd2c1bd7ff32",
   "metadata": {},
   "outputs": [],
   "source": [
    "seven_df.drop(['able_services'], axis=1, inplace=True)"
   ]
  },
  {
   "cell_type": "code",
   "execution_count": 46,
   "id": "b5c337ec-aad6-42c3-9dbe-4605fd283612",
   "metadata": {},
   "outputs": [
    {
     "data": {
      "text/plain": [
       "(12872, 17)"
      ]
     },
     "execution_count": 46,
     "metadata": {},
     "output_type": "execute_result"
    }
   ],
   "source": [
    "seven_df.shape"
   ]
  },
  {
   "cell_type": "code",
   "execution_count": 45,
   "id": "c3d3e5df-0628-437e-8672-508701badb6e",
   "metadata": {},
   "outputs": [
    {
     "data": {
      "text/plain": [
       "(12417, 17)"
      ]
     },
     "execution_count": 45,
     "metadata": {},
     "output_type": "execute_result"
    }
   ],
   "source": [
    "seven_df.drop_duplicates().shape"
   ]
  },
  {
   "cell_type": "code",
   "execution_count": 47,
   "id": "adb51c46-1370-46b1-aede-7751dc2f5d39",
   "metadata": {},
   "outputs": [
    {
     "data": {
      "text/plain": [
       "(12417, 17)"
      ]
     },
     "execution_count": 47,
     "metadata": {},
     "output_type": "execute_result"
    }
   ],
   "source": [
    "seven_df[~seven_df.name.duplicated()].shape"
   ]
  },
  {
   "cell_type": "code",
   "execution_count": 48,
   "id": "43155113-4df5-492e-823c-b93fe5b7dcb7",
   "metadata": {},
   "outputs": [],
   "source": [
    "#seven_df = seven_df[~seven_df.name.duplicated()].copy()"
   ]
  },
  {
   "cell_type": "code",
   "execution_count": 50,
   "id": "bb106eff-d9e4-4c84-b3c2-27565ae33470",
   "metadata": {},
   "outputs": [],
   "source": [
    "seven_df.drop_duplicates(inplace=True)"
   ]
  },
  {
   "cell_type": "code",
   "execution_count": 51,
   "id": "9820d243-e6f4-499b-ab8b-b6d852438950",
   "metadata": {},
   "outputs": [
    {
     "data": {
      "text/plain": [
       "(12417, 17)"
      ]
     },
     "execution_count": 51,
     "metadata": {},
     "output_type": "execute_result"
    }
   ],
   "source": [
    "seven_df.shape"
   ]
  },
  {
   "cell_type": "code",
   "execution_count": 54,
   "id": "a9ad5c76-3495-42be-bd50-ccdc1d60d4cd",
   "metadata": {},
   "outputs": [
    {
     "data": {
      "text/plain": [
       "array(['강원도', '강원특별자치도', '강원', '경기도', '경기', '경기도김포시하성면하성로297',\n",
       "       '경기도시흥시복지로', '경기도이천시부발읍', '경상남도', '경남', '경남창원시', '경상북도', '경북',\n",
       "       '경상북도영주시광복로', '광주광역시', '광주', '광주동구제봉로222번길', '대구광역시', '대구', '대구남구',\n",
       "       '대구시달서구월배로', '대구광역시달서구상인서로', '대구달서구', '대구광역시달서구달구벌대로', '대구시',\n",
       "       '대구시달성군', '대전광역시', '대전', '대전시', '대전광영시', '대전광역시유성구대학로137번길',\n",
       "       '부산광역시', '부산시', '부산', '서울특별시', '서울', '서울시', '서울특별실', '서울동대문구',\n",
       "       '서울트별시', '주소', '서울특별시송파구송파대로345송파헬리오시티', '울산광역시', '울산', '인천광역시',\n",
       "       '인천시', '인천', '전라남도', '전남', '전라북도', '전북', '전북특별자치도', '전라북도전주시',\n",
       "       '제주특별자치도', '제주', '제주도', '제주특별자치도서귀포시', '제주특별시도', '충남', '충청남도',\n",
       "       '충남논산시', '충청북도', '충북'], dtype=object)"
      ]
     },
     "execution_count": 54,
     "metadata": {},
     "output_type": "execute_result"
    }
   ],
   "source": [
    "seven_df['address'].apply(lambda x : x.split()[0]).unique()"
   ]
  },
  {
   "cell_type": "code",
   "execution_count": 56,
   "id": "5c0b7288-70fb-4564-bb84-a200c164cc51",
   "metadata": {},
   "outputs": [],
   "source": [
    "seven_df['sido'] = seven_df['address'].apply(lambda x : x.split()[0])"
   ]
  },
  {
   "cell_type": "code",
   "execution_count": 60,
   "id": "adbb2cb9-6cfe-4ef1-961b-2c6b0c17d6a0",
   "metadata": {},
   "outputs": [],
   "source": [
    "pd.set_option('display.max_rows', 100)"
   ]
  },
  {
   "cell_type": "code",
   "execution_count": 62,
   "id": "9cca919d-0549-4f66-92aa-3e0de4fad064",
   "metadata": {},
   "outputs": [],
   "source": [
    "seven_df.loc[seven_df['sido'].str.find(\"서울\") > -1, 'sido'] = '서울특별시'"
   ]
  },
  {
   "cell_type": "code",
   "execution_count": 81,
   "id": "28e647fc-3906-4e40-8dfe-b1e3680e139f",
   "metadata": {},
   "outputs": [
    {
     "data": {
      "text/plain": [
       "sido\n",
       "경기도                 3220\n",
       "서울특별시               2046\n",
       "경상남도                 623\n",
       "충청남도                 618\n",
       "경상북도                 565\n",
       "인천광역시                563\n",
       "대구광역시                541\n",
       "강원도                  535\n",
       "부산광역시                513\n",
       "충청북도                 474\n",
       "전라남도                 459\n",
       "전라북도                 418\n",
       "광주광역시                334\n",
       "대전광역시                323\n",
       "제주특별자치도              286\n",
       "울산광역시                212\n",
       "경기                   178\n",
       "광주                    59\n",
       "경남                    46\n",
       "충남                    46\n",
       "부산시                   41\n",
       "경북                    39\n",
       "대구                    34\n",
       "전남                    33\n",
       "인천                    31\n",
       "충북                    27\n",
       "부산                    26\n",
       "대전                    24\n",
       "강원                    19\n",
       "강원특별자치도               15\n",
       "전북특별자치도               14\n",
       "제주                     9\n",
       "울산                     8\n",
       "전북                     6\n",
       "인천시                    6\n",
       "제주도                    3\n",
       "경남창원시                  2\n",
       "전라북도전주시                2\n",
       "경기도이천시부발읍              1\n",
       "대구시달성군                 1\n",
       "제주특별시도                 1\n",
       "경기도시흥시복지로              1\n",
       "경기도김포시하성면하성로297        1\n",
       "충남논산시                  1\n",
       "제주특별자치도서귀포시            1\n",
       "광주동구제봉로222번길           1\n",
       "경상북도영주시광복로             1\n",
       "대구남구                   1\n",
       "대구시달서구월배로              1\n",
       "대구광역시달서구상인서로           1\n",
       "주소                     1\n",
       "대구달서구                  1\n",
       "대구광역시달서구달구벌대로          1\n",
       "대구시                    1\n",
       "대전광역시유성구대학로137번길       1\n",
       "대전광영시                  1\n",
       "대전시                    1\n",
       "Name: count, dtype: int64"
      ]
     },
     "execution_count": 81,
     "metadata": {},
     "output_type": "execute_result"
    }
   ],
   "source": [
    "seven_df['sido'].value_counts()"
   ]
  },
  {
   "cell_type": "code",
   "execution_count": 76,
   "id": "b50df8c9-e562-4731-8630-1f9ed5dbe8b7",
   "metadata": {},
   "outputs": [],
   "source": [
    "import requests \n",
    "r = requests.post(\"https://www.7-eleven.co.kr/util/storeLayerPop.asp\")\n",
    "from bs4 import BeautifulSoup\n",
    "sido_name = [x.text for x in BeautifulSoup(r.text).find(\"select\", id=\"storeLaySido\").findAll('option')[1:]]"
   ]
  },
  {
   "cell_type": "code",
   "execution_count": 78,
   "id": "47b71e35-ecce-4a0e-ab67-fbad5211f7a4",
   "metadata": {},
   "outputs": [
    {
     "data": {
      "text/plain": [
       "17"
      ]
     },
     "execution_count": 78,
     "metadata": {},
     "output_type": "execute_result"
    }
   ],
   "source": [
    "sido_name.__len__()"
   ]
  },
  {
   "cell_type": "code",
   "execution_count": 82,
   "id": "1c36d40a-4882-449b-ad82-33924ab496ae",
   "metadata": {},
   "outputs": [],
   "source": [
    "change_dict = {'서울':\"서울특별시\", '경기':\"경기도\", '인천':\"인천광역시\", '강원':\"강원도\", '충북':\"충청북도\", '충남':\"충청남도\", '대전':\"대전광역시\", '경북':\"경상북도\", '경남':\"경상남도\", '대구':\"대구광역시\", '울산':\"울산광역시\", '부산':\"부산광역시\", '전북':\"전라북도\", '전남':\"전라남도\", '광주':\"광주광역시\", '제주':\"제주특별자치도\", '세종':\"세종특별자치시\"}\n",
    "\n",
    "for key, value in change_dict.items():\n",
    "  seven_df['sido'] = seven_df['sido'].apply(lambda x: value if key in x else x)"
   ]
  },
  {
   "cell_type": "code",
   "execution_count": 83,
   "id": "c959a088-9ef1-4652-a199-a2e48986a9d1",
   "metadata": {
    "scrolled": true
   },
   "outputs": [
    {
     "data": {
      "text/plain": [
       "sido\n",
       "경기도           3401\n",
       "서울특별시         2046\n",
       "경상남도           671\n",
       "충청남도           665\n",
       "경상북도           604\n",
       "인천광역시          600\n",
       "대구광역시          582\n",
       "부산광역시          580\n",
       "강원도            569\n",
       "충청북도           501\n",
       "전라남도           492\n",
       "전라북도           438\n",
       "광주광역시          394\n",
       "대전광역시          350\n",
       "제주특별자치도        300\n",
       "울산광역시          220\n",
       "전라북도전주시          2\n",
       "주소               1\n",
       "경상북도영주시광복로       1\n",
       "Name: count, dtype: int64"
      ]
     },
     "execution_count": 83,
     "metadata": {},
     "output_type": "execute_result"
    }
   ],
   "source": [
    "seven_df['sido'].value_counts()"
   ]
  },
  {
   "cell_type": "code",
   "execution_count": 85,
   "id": "df555ef2-f586-4282-9e5b-e8ec101c80e5",
   "metadata": {},
   "outputs": [],
   "source": [
    "seven_df.loc[seven_df.sido == '주소', 'address'] = \"서울시 서대문구 충정로7 구세군빌딩1층\"\n",
    "seven_df.loc[seven_df.sido == '주소', 'sido'] = \"서울특별시\""
   ]
  },
  {
   "cell_type": "code",
   "execution_count": 86,
   "id": "3f0989ab-a9cc-47bd-a53b-e81728b31676",
   "metadata": {},
   "outputs": [
    {
     "data": {
      "text/plain": [
       "sido\n",
       "경기도           3401\n",
       "서울특별시         2047\n",
       "경상남도           671\n",
       "충청남도           665\n",
       "경상북도           604\n",
       "인천광역시          600\n",
       "대구광역시          582\n",
       "부산광역시          580\n",
       "강원도            569\n",
       "충청북도           501\n",
       "전라남도           492\n",
       "전라북도           438\n",
       "광주광역시          394\n",
       "대전광역시          350\n",
       "제주특별자치도        300\n",
       "울산광역시          220\n",
       "전라북도전주시          2\n",
       "경상북도영주시광복로       1\n",
       "Name: count, dtype: int64"
      ]
     },
     "execution_count": 86,
     "metadata": {},
     "output_type": "execute_result"
    }
   ],
   "source": [
    "seven_df['sido'].value_counts()"
   ]
  },
  {
   "cell_type": "code",
   "execution_count": 87,
   "id": "b73d1e98-a5dc-4e00-a5e8-02bbf3b0da0d",
   "metadata": {},
   "outputs": [],
   "source": [
    "seven_df.loc[seven_df.sido == '전라북도전주시', 'sido'] = \"전라북도\"\n",
    "seven_df.loc[seven_df.sido == '경상북도영주시광복로', 'sido'] = \"경상북도\""
   ]
  },
  {
   "cell_type": "code",
   "execution_count": 93,
   "id": "31a902d4-b236-4e63-8d07-144970edd191",
   "metadata": {},
   "outputs": [
    {
     "data": {
      "text/plain": [
       "sido\n",
       "경기도        3401\n",
       "서울특별시      2047\n",
       "경상남도        671\n",
       "충청남도        665\n",
       "경상북도        605\n",
       "인천광역시       600\n",
       "대구광역시       582\n",
       "부산광역시       580\n",
       "강원도         569\n",
       "충청북도        501\n",
       "전라남도        492\n",
       "전라북도        440\n",
       "광주광역시       394\n",
       "대전광역시       350\n",
       "제주특별자치도     300\n",
       "울산광역시       220\n",
       "Name: count, dtype: int64"
      ]
     },
     "execution_count": 93,
     "metadata": {},
     "output_type": "execute_result"
    }
   ],
   "source": [
    "seven_df['sido'].value_counts()"
   ]
  },
  {
   "cell_type": "code",
   "execution_count": 96,
   "id": "8a6f5921-eb93-42d7-a9bc-4de0cf76f644",
   "metadata": {},
   "outputs": [
    {
     "data": {
      "text/html": [
       "<div>\n",
       "<style scoped>\n",
       "    .dataframe tbody tr th:only-of-type {\n",
       "        vertical-align: middle;\n",
       "    }\n",
       "\n",
       "    .dataframe tbody tr th {\n",
       "        vertical-align: top;\n",
       "    }\n",
       "\n",
       "    .dataframe thead th {\n",
       "        text-align: right;\n",
       "    }\n",
       "</style>\n",
       "<table border=\"1\" class=\"dataframe\">\n",
       "  <thead>\n",
       "    <tr style=\"text-align: right;\">\n",
       "      <th></th>\n",
       "      <th>name</th>\n",
       "      <th>address</th>\n",
       "      <th>24시간</th>\n",
       "      <th>무인택배접수</th>\n",
       "      <th>카페</th>\n",
       "      <th>베이커리</th>\n",
       "      <th>시디</th>\n",
       "      <th>ATM</th>\n",
       "      <th>무인락커</th>\n",
       "      <th>치킨</th>\n",
       "      <th>의약품</th>\n",
       "      <th>소프트아이스크림</th>\n",
       "      <th>토토</th>\n",
       "      <th>고구마·붕어빵</th>\n",
       "      <th>스마트픽</th>\n",
       "      <th>예약주문</th>\n",
       "      <th>페덱스서비스</th>\n",
       "      <th>sido</th>\n",
       "    </tr>\n",
       "  </thead>\n",
       "  <tbody>\n",
       "  </tbody>\n",
       "</table>\n",
       "</div>"
      ],
      "text/plain": [
       "Empty DataFrame\n",
       "Columns: [name, address, 24시간, 무인택배접수, 카페, 베이커리, 시디, ATM, 무인락커, 치킨, 의약품, 소프트아이스크림, 토토, 고구마·붕어빵, 스마트픽, 예약주문, 페덱스서비스, sido]\n",
       "Index: []"
      ]
     },
     "execution_count": 96,
     "metadata": {},
     "output_type": "execute_result"
    }
   ],
   "source": [
    "seven_df[seven_df.name.str.find(\"세종봉암중앙점\") > -1]"
   ]
  },
  {
   "cell_type": "code",
   "execution_count": null,
   "id": "91dcbadd-278b-4710-9164-404de071c285",
   "metadata": {},
   "outputs": [],
   "source": [
    "CREATE TAble convenience_store(\n",
    "    name VARCHAR(30) default not null, \n",
    "    address..\n",
    "    sido..\n",
    "    \n",
    "\n",
    ")"
   ]
  },
  {
   "cell_type": "code",
   "execution_count": 99,
   "id": "1495a59a-0ddd-4e88-919f-13e322d509f8",
   "metadata": {},
   "outputs": [],
   "source": [
    "seven_df['company'] = 'Seven'"
   ]
  },
  {
   "cell_type": "code",
   "execution_count": 101,
   "id": "dd0a6d20-091e-470f-871e-6dc8a4d065c3",
   "metadata": {},
   "outputs": [
    {
     "data": {
      "text/plain": [
       "Index(['name', 'address', '24시간', '무인택배접수', '카페', '베이커리', '시디', 'ATM', '무인락커',\n",
       "       '치킨', '의약품', '소프트아이스크림', '토토', '고구마·붕어빵', '스마트픽', '예약주문', '페덱스서비스',\n",
       "       'sido', 'company'],\n",
       "      dtype='object')"
      ]
     },
     "execution_count": 101,
     "metadata": {},
     "output_type": "execute_result"
    }
   ],
   "source": [
    "seven_df.columns"
   ]
  },
  {
   "cell_type": "code",
   "execution_count": 103,
   "id": "578a027d-b136-4e02-940f-e0c38fb96b1a",
   "metadata": {},
   "outputs": [],
   "source": [
    "seven_df = seven_df[['company', 'name', 'sido', 'address', '24시간', '무인택배접수', '카페', '베이커리', '시디', 'ATM', '무인락커',\n",
    "       '치킨', '의약품', '소프트아이스크림', '토토', '고구마·붕어빵', '스마트픽', '예약주문', '페덱스서비스',\n",
    "        ]].copy()"
   ]
  },
  {
   "cell_type": "code",
   "execution_count": 106,
   "id": "f21d6f2f-b7ac-40b0-9315-c04835e8eab7",
   "metadata": {},
   "outputs": [],
   "source": [
    "seven_melt = pd.melt(seven_df, id_vars=['company', 'name', 'sido', 'address'])"
   ]
  },
  {
   "cell_type": "code",
   "execution_count": 108,
   "id": "4c12bbf2-62ca-4e67-ad8b-66584541fb4a",
   "metadata": {},
   "outputs": [
    {
     "data": {
      "text/html": [
       "<div>\n",
       "<style scoped>\n",
       "    .dataframe tbody tr th:only-of-type {\n",
       "        vertical-align: middle;\n",
       "    }\n",
       "\n",
       "    .dataframe tbody tr th {\n",
       "        vertical-align: top;\n",
       "    }\n",
       "\n",
       "    .dataframe thead th {\n",
       "        text-align: right;\n",
       "    }\n",
       "</style>\n",
       "<table border=\"1\" class=\"dataframe\">\n",
       "  <thead>\n",
       "    <tr style=\"text-align: right;\">\n",
       "      <th></th>\n",
       "      <th>company</th>\n",
       "      <th>name</th>\n",
       "      <th>sido</th>\n",
       "      <th>address</th>\n",
       "      <th>variable</th>\n",
       "      <th>value</th>\n",
       "    </tr>\n",
       "  </thead>\n",
       "  <tbody>\n",
       "    <tr>\n",
       "      <th>0</th>\n",
       "      <td>Seven</td>\n",
       "      <td>강릉5주공점</td>\n",
       "      <td>강원도</td>\n",
       "      <td>강원도 강릉시 월대산로 43</td>\n",
       "      <td>24시간</td>\n",
       "      <td>0</td>\n",
       "    </tr>\n",
       "    <tr>\n",
       "      <th>12417</th>\n",
       "      <td>Seven</td>\n",
       "      <td>강릉5주공점</td>\n",
       "      <td>강원도</td>\n",
       "      <td>강원도 강릉시 월대산로 43</td>\n",
       "      <td>무인택배접수</td>\n",
       "      <td>1</td>\n",
       "    </tr>\n",
       "    <tr>\n",
       "      <th>24834</th>\n",
       "      <td>Seven</td>\n",
       "      <td>강릉5주공점</td>\n",
       "      <td>강원도</td>\n",
       "      <td>강원도 강릉시 월대산로 43</td>\n",
       "      <td>카페</td>\n",
       "      <td>0</td>\n",
       "    </tr>\n",
       "    <tr>\n",
       "      <th>37251</th>\n",
       "      <td>Seven</td>\n",
       "      <td>강릉5주공점</td>\n",
       "      <td>강원도</td>\n",
       "      <td>강원도 강릉시 월대산로 43</td>\n",
       "      <td>베이커리</td>\n",
       "      <td>0</td>\n",
       "    </tr>\n",
       "    <tr>\n",
       "      <th>49668</th>\n",
       "      <td>Seven</td>\n",
       "      <td>강릉5주공점</td>\n",
       "      <td>강원도</td>\n",
       "      <td>강원도 강릉시 월대산로 43</td>\n",
       "      <td>시디</td>\n",
       "      <td>1</td>\n",
       "    </tr>\n",
       "    <tr>\n",
       "      <th>62085</th>\n",
       "      <td>Seven</td>\n",
       "      <td>강릉5주공점</td>\n",
       "      <td>강원도</td>\n",
       "      <td>강원도 강릉시 월대산로 43</td>\n",
       "      <td>ATM</td>\n",
       "      <td>0</td>\n",
       "    </tr>\n",
       "    <tr>\n",
       "      <th>74502</th>\n",
       "      <td>Seven</td>\n",
       "      <td>강릉5주공점</td>\n",
       "      <td>강원도</td>\n",
       "      <td>강원도 강릉시 월대산로 43</td>\n",
       "      <td>무인락커</td>\n",
       "      <td>0</td>\n",
       "    </tr>\n",
       "    <tr>\n",
       "      <th>86919</th>\n",
       "      <td>Seven</td>\n",
       "      <td>강릉5주공점</td>\n",
       "      <td>강원도</td>\n",
       "      <td>강원도 강릉시 월대산로 43</td>\n",
       "      <td>치킨</td>\n",
       "      <td>0</td>\n",
       "    </tr>\n",
       "    <tr>\n",
       "      <th>99336</th>\n",
       "      <td>Seven</td>\n",
       "      <td>강릉5주공점</td>\n",
       "      <td>강원도</td>\n",
       "      <td>강원도 강릉시 월대산로 43</td>\n",
       "      <td>의약품</td>\n",
       "      <td>1</td>\n",
       "    </tr>\n",
       "    <tr>\n",
       "      <th>111753</th>\n",
       "      <td>Seven</td>\n",
       "      <td>강릉5주공점</td>\n",
       "      <td>강원도</td>\n",
       "      <td>강원도 강릉시 월대산로 43</td>\n",
       "      <td>소프트아이스크림</td>\n",
       "      <td>0</td>\n",
       "    </tr>\n",
       "    <tr>\n",
       "      <th>124170</th>\n",
       "      <td>Seven</td>\n",
       "      <td>강릉5주공점</td>\n",
       "      <td>강원도</td>\n",
       "      <td>강원도 강릉시 월대산로 43</td>\n",
       "      <td>토토</td>\n",
       "      <td>0</td>\n",
       "    </tr>\n",
       "    <tr>\n",
       "      <th>136587</th>\n",
       "      <td>Seven</td>\n",
       "      <td>강릉5주공점</td>\n",
       "      <td>강원도</td>\n",
       "      <td>강원도 강릉시 월대산로 43</td>\n",
       "      <td>고구마·붕어빵</td>\n",
       "      <td>0</td>\n",
       "    </tr>\n",
       "    <tr>\n",
       "      <th>149004</th>\n",
       "      <td>Seven</td>\n",
       "      <td>강릉5주공점</td>\n",
       "      <td>강원도</td>\n",
       "      <td>강원도 강릉시 월대산로 43</td>\n",
       "      <td>스마트픽</td>\n",
       "      <td>0</td>\n",
       "    </tr>\n",
       "    <tr>\n",
       "      <th>161421</th>\n",
       "      <td>Seven</td>\n",
       "      <td>강릉5주공점</td>\n",
       "      <td>강원도</td>\n",
       "      <td>강원도 강릉시 월대산로 43</td>\n",
       "      <td>예약주문</td>\n",
       "      <td>0</td>\n",
       "    </tr>\n",
       "    <tr>\n",
       "      <th>173838</th>\n",
       "      <td>Seven</td>\n",
       "      <td>강릉5주공점</td>\n",
       "      <td>강원도</td>\n",
       "      <td>강원도 강릉시 월대산로 43</td>\n",
       "      <td>페덱스서비스</td>\n",
       "      <td>1</td>\n",
       "    </tr>\n",
       "  </tbody>\n",
       "</table>\n",
       "</div>"
      ],
      "text/plain": [
       "       company    name sido          address  variable  value\n",
       "0        Seven  강릉5주공점  강원도  강원도 강릉시 월대산로 43      24시간      0\n",
       "12417    Seven  강릉5주공점  강원도  강원도 강릉시 월대산로 43    무인택배접수      1\n",
       "24834    Seven  강릉5주공점  강원도  강원도 강릉시 월대산로 43        카페      0\n",
       "37251    Seven  강릉5주공점  강원도  강원도 강릉시 월대산로 43      베이커리      0\n",
       "49668    Seven  강릉5주공점  강원도  강원도 강릉시 월대산로 43        시디      1\n",
       "62085    Seven  강릉5주공점  강원도  강원도 강릉시 월대산로 43       ATM      0\n",
       "74502    Seven  강릉5주공점  강원도  강원도 강릉시 월대산로 43      무인락커      0\n",
       "86919    Seven  강릉5주공점  강원도  강원도 강릉시 월대산로 43        치킨      0\n",
       "99336    Seven  강릉5주공점  강원도  강원도 강릉시 월대산로 43       의약품      1\n",
       "111753   Seven  강릉5주공점  강원도  강원도 강릉시 월대산로 43  소프트아이스크림      0\n",
       "124170   Seven  강릉5주공점  강원도  강원도 강릉시 월대산로 43        토토      0\n",
       "136587   Seven  강릉5주공점  강원도  강원도 강릉시 월대산로 43   고구마·붕어빵      0\n",
       "149004   Seven  강릉5주공점  강원도  강원도 강릉시 월대산로 43      스마트픽      0\n",
       "161421   Seven  강릉5주공점  강원도  강원도 강릉시 월대산로 43      예약주문      0\n",
       "173838   Seven  강릉5주공점  강원도  강원도 강릉시 월대산로 43    페덱스서비스      1"
      ]
     },
     "execution_count": 108,
     "metadata": {},
     "output_type": "execute_result"
    }
   ],
   "source": [
    "seven_melt[seven_melt.name == \"강릉5주공점\"]"
   ]
  },
  {
   "cell_type": "code",
   "execution_count": 110,
   "id": "e5689cbd-b90f-453e-91b6-153977279d99",
   "metadata": {},
   "outputs": [
    {
     "data": {
      "text/plain": [
       "Index(['company', 'name', 'sido', 'address', 'variable', 'value'], dtype='object')"
      ]
     },
     "execution_count": 110,
     "metadata": {},
     "output_type": "execute_result"
    }
   ],
   "source": [
    "seven_melt.columns = ['company', 'name', 'sido', 'address', 'service_name', 'value']"
   ]
  },
  {
   "cell_type": "code",
   "execution_count": 112,
   "id": "95cd44ec-936e-4598-8128-2193c9803c56",
   "metadata": {},
   "outputs": [],
   "source": [
    "seven_melt.rename(columns={'variable' : 'service_name'}, inplace=True)"
   ]
  },
  {
   "cell_type": "code",
   "execution_count": 113,
   "id": "7cde5091-d0d1-4fec-8ef3-83f2a0f24630",
   "metadata": {},
   "outputs": [
    {
     "data": {
      "text/html": [
       "<div>\n",
       "<style scoped>\n",
       "    .dataframe tbody tr th:only-of-type {\n",
       "        vertical-align: middle;\n",
       "    }\n",
       "\n",
       "    .dataframe tbody tr th {\n",
       "        vertical-align: top;\n",
       "    }\n",
       "\n",
       "    .dataframe thead th {\n",
       "        text-align: right;\n",
       "    }\n",
       "</style>\n",
       "<table border=\"1\" class=\"dataframe\">\n",
       "  <thead>\n",
       "    <tr style=\"text-align: right;\">\n",
       "      <th></th>\n",
       "      <th>company</th>\n",
       "      <th>name</th>\n",
       "      <th>sido</th>\n",
       "      <th>address</th>\n",
       "      <th>service_name</th>\n",
       "      <th>value</th>\n",
       "    </tr>\n",
       "  </thead>\n",
       "  <tbody>\n",
       "    <tr>\n",
       "      <th>0</th>\n",
       "      <td>Seven</td>\n",
       "      <td>강릉5주공점</td>\n",
       "      <td>강원도</td>\n",
       "      <td>강원도 강릉시 월대산로 43</td>\n",
       "      <td>24시간</td>\n",
       "      <td>0</td>\n",
       "    </tr>\n",
       "    <tr>\n",
       "      <th>1</th>\n",
       "      <td>Seven</td>\n",
       "      <td>강릉강문스타점</td>\n",
       "      <td>강원도</td>\n",
       "      <td>강원도 강릉시 창해로350번길 21 (강문동)</td>\n",
       "      <td>24시간</td>\n",
       "      <td>0</td>\n",
       "    </tr>\n",
       "    <tr>\n",
       "      <th>2</th>\n",
       "      <td>Seven</td>\n",
       "      <td>강릉강문점</td>\n",
       "      <td>강원도</td>\n",
       "      <td>강원도 강릉시 해안로 298-7 B블록 101호, 102호(강문동)</td>\n",
       "      <td>24시간</td>\n",
       "      <td>1</td>\n",
       "    </tr>\n",
       "    <tr>\n",
       "      <th>3</th>\n",
       "      <td>Seven</td>\n",
       "      <td>강릉강변로점</td>\n",
       "      <td>강원도</td>\n",
       "      <td>강원도 강릉시 강변로 262</td>\n",
       "      <td>24시간</td>\n",
       "      <td>0</td>\n",
       "    </tr>\n",
       "    <tr>\n",
       "      <th>4</th>\n",
       "      <td>Seven</td>\n",
       "      <td>강릉경포그린점</td>\n",
       "      <td>강원도</td>\n",
       "      <td>강원도 강릉시 경포로463번길 37, 제2호</td>\n",
       "      <td>24시간</td>\n",
       "      <td>0</td>\n",
       "    </tr>\n",
       "    <tr>\n",
       "      <th>...</th>\n",
       "      <td>...</td>\n",
       "      <td>...</td>\n",
       "      <td>...</td>\n",
       "      <td>...</td>\n",
       "      <td>...</td>\n",
       "      <td>...</td>\n",
       "    </tr>\n",
       "    <tr>\n",
       "      <th>186250</th>\n",
       "      <td>Seven</td>\n",
       "      <td>충주터미널점</td>\n",
       "      <td>충청북도</td>\n",
       "      <td>충청북도 충주시 봉계1길 49</td>\n",
       "      <td>페덱스서비스</td>\n",
       "      <td>1</td>\n",
       "    </tr>\n",
       "    <tr>\n",
       "      <th>186251</th>\n",
       "      <td>Seven</td>\n",
       "      <td>충주푸르지오점</td>\n",
       "      <td>충청북도</td>\n",
       "      <td>충청북도 충주시 봉계8길 2 , 1층</td>\n",
       "      <td>페덱스서비스</td>\n",
       "      <td>1</td>\n",
       "    </tr>\n",
       "    <tr>\n",
       "      <th>186252</th>\n",
       "      <td>Seven</td>\n",
       "      <td>충주호암점</td>\n",
       "      <td>충청북도</td>\n",
       "      <td>충청북도 충주시 호암중앙2로 32 101호(호암동)</td>\n",
       "      <td>페덱스서비스</td>\n",
       "      <td>1</td>\n",
       "    </tr>\n",
       "    <tr>\n",
       "      <th>186253</th>\n",
       "      <td>Seven</td>\n",
       "      <td>충주호암LH점</td>\n",
       "      <td>충청북도</td>\n",
       "      <td>충청북도 충주시 호암수청2로 56</td>\n",
       "      <td>페덱스서비스</td>\n",
       "      <td>1</td>\n",
       "    </tr>\n",
       "    <tr>\n",
       "      <th>186254</th>\n",
       "      <td>Seven</td>\n",
       "      <td>충주힐스테이트점</td>\n",
       "      <td>충청북도</td>\n",
       "      <td>충청북도 충주시 호암수청1로 29 (호암동, LH힐스테이트)</td>\n",
       "      <td>페덱스서비스</td>\n",
       "      <td>1</td>\n",
       "    </tr>\n",
       "  </tbody>\n",
       "</table>\n",
       "<p>186255 rows × 6 columns</p>\n",
       "</div>"
      ],
      "text/plain": [
       "       company      name  sido                                address  \\\n",
       "0        Seven    강릉5주공점   강원도                        강원도 강릉시 월대산로 43   \n",
       "1        Seven   강릉강문스타점   강원도              강원도 강릉시 창해로350번길 21 (강문동)   \n",
       "2        Seven     강릉강문점   강원도  강원도 강릉시 해안로 298-7 B블록 101호, 102호(강문동)   \n",
       "3        Seven    강릉강변로점   강원도                        강원도 강릉시 강변로 262   \n",
       "4        Seven   강릉경포그린점   강원도               강원도 강릉시 경포로463번길 37, 제2호   \n",
       "...        ...       ...   ...                                    ...   \n",
       "186250   Seven    충주터미널점  충청북도                       충청북도 충주시 봉계1길 49   \n",
       "186251   Seven   충주푸르지오점  충청북도                   충청북도 충주시 봉계8길 2 , 1층   \n",
       "186252   Seven     충주호암점  충청북도           충청북도 충주시 호암중앙2로 32 101호(호암동)   \n",
       "186253   Seven   충주호암LH점  충청북도                     충청북도 충주시 호암수청2로 56   \n",
       "186254   Seven  충주힐스테이트점  충청북도      충청북도 충주시 호암수청1로 29 (호암동, LH힐스테이트)   \n",
       "\n",
       "       service_name  value  \n",
       "0              24시간      0  \n",
       "1              24시간      0  \n",
       "2              24시간      1  \n",
       "3              24시간      0  \n",
       "4              24시간      0  \n",
       "...             ...    ...  \n",
       "186250       페덱스서비스      1  \n",
       "186251       페덱스서비스      1  \n",
       "186252       페덱스서비스      1  \n",
       "186253       페덱스서비스      1  \n",
       "186254       페덱스서비스      1  \n",
       "\n",
       "[186255 rows x 6 columns]"
      ]
     },
     "execution_count": 113,
     "metadata": {},
     "output_type": "execute_result"
    }
   ],
   "source": [
    "seven_melt"
   ]
  },
  {
   "cell_type": "code",
   "execution_count": 3,
   "id": "3c31383d-5044-447c-9859-1c9fe9f96315",
   "metadata": {},
   "outputs": [],
   "source": [
    "import pickle\n",
    "with open(\"./conveni_total_df.pkl\", \"rb\") as f:\n",
    "    df = pickle.load(f)"
   ]
  },
  {
   "cell_type": "code",
   "execution_count": 4,
   "id": "a19ac399-cf52-445e-a735-d3954513f476",
   "metadata": {},
   "outputs": [
    {
     "data": {
      "text/plain": [
       "(640498, 11)"
      ]
     },
     "execution_count": 4,
     "metadata": {},
     "output_type": "execute_result"
    }
   ],
   "source": [
    "df.shape"
   ]
  },
  {
   "cell_type": "code",
   "execution_count": 5,
   "id": "5f73adb9-178b-485a-8860-466acf063b36",
   "metadata": {},
   "outputs": [
    {
     "data": {
      "text/plain": [
       "2"
      ]
     },
     "execution_count": 5,
     "metadata": {},
     "output_type": "execute_result"
    }
   ],
   "source": [
    "df.values.ndim"
   ]
  },
  {
   "cell_type": "code",
   "execution_count": 6,
   "id": "8c9cb87c-592b-4766-97ee-a61f67fb6e9c",
   "metadata": {},
   "outputs": [],
   "source": [
    "import pymysql"
   ]
  },
  {
   "cell_type": "code",
   "execution_count": 85,
   "id": "d5c4aeec-14ca-47f8-a91d-56c0c7123e7e",
   "metadata": {},
   "outputs": [],
   "source": [
    "con =pymysql.connect(host='ip', user='id', password='password', db='encore', charset='utf8')\n",
    "cur = con.cursor()"
   ]
  },
  {
   "cell_type": "code",
   "execution_count": 8,
   "id": "94213eb9-283e-41ea-b04e-5d9b0a91d478",
   "metadata": {},
   "outputs": [
    {
     "data": {
      "text/plain": [
       "0"
      ]
     },
     "execution_count": 8,
     "metadata": {},
     "output_type": "execute_result"
    }
   ],
   "source": [
    "cur.execute(\"show tables\")"
   ]
  },
  {
   "cell_type": "code",
   "execution_count": 21,
   "id": "44dd1c4c-49f6-4dba-9139-a01beb5483f2",
   "metadata": {},
   "outputs": [
    {
     "data": {
      "text/html": [
       "<div>\n",
       "<style scoped>\n",
       "    .dataframe tbody tr th:only-of-type {\n",
       "        vertical-align: middle;\n",
       "    }\n",
       "\n",
       "    .dataframe tbody tr th {\n",
       "        vertical-align: top;\n",
       "    }\n",
       "\n",
       "    .dataframe thead th {\n",
       "        text-align: right;\n",
       "    }\n",
       "</style>\n",
       "<table border=\"1\" class=\"dataframe\">\n",
       "  <thead>\n",
       "    <tr style=\"text-align: right;\">\n",
       "      <th></th>\n",
       "      <th>brand</th>\n",
       "      <th>store_name</th>\n",
       "      <th>sido</th>\n",
       "      <th>store_tel</th>\n",
       "      <th>store_code</th>\n",
       "      <th>lat</th>\n",
       "      <th>longs</th>\n",
       "      <th>open_time</th>\n",
       "      <th>store_address</th>\n",
       "      <th>service</th>\n",
       "      <th>available</th>\n",
       "    </tr>\n",
       "  </thead>\n",
       "  <tbody>\n",
       "    <tr>\n",
       "      <th>0</th>\n",
       "      <td>seven</td>\n",
       "      <td>강릉5주공점</td>\n",
       "      <td>강원도</td>\n",
       "      <td>NaN</td>\n",
       "      <td>NaN</td>\n",
       "      <td>37.760113214</td>\n",
       "      <td>128.91519608</td>\n",
       "      <td>영업 시간 06:00 ~ 24:00</td>\n",
       "      <td>강원도 강릉시 월대산로 43</td>\n",
       "      <td>24시간</td>\n",
       "      <td>False</td>\n",
       "    </tr>\n",
       "  </tbody>\n",
       "</table>\n",
       "</div>"
      ],
      "text/plain": [
       "   brand store_name sido store_tel store_code           lat         longs  \\\n",
       "0  seven     강릉5주공점  강원도       NaN        NaN  37.760113214  128.91519608   \n",
       "\n",
       "             open_time    store_address service  available  \n",
       "0  영업 시간 06:00 ~ 24:00  강원도 강릉시 월대산로 43    24시간      False  "
      ]
     },
     "execution_count": 21,
     "metadata": {},
     "output_type": "execute_result"
    }
   ],
   "source": [
    "df[df.open_time.notnull()].head(1)"
   ]
  },
  {
   "cell_type": "code",
   "execution_count": 22,
   "id": "e2b7aca9-e021-4f77-b533-999a9442d013",
   "metadata": {},
   "outputs": [
    {
     "data": {
      "text/plain": [
       "(640498, 11)"
      ]
     },
     "execution_count": 22,
     "metadata": {},
     "output_type": "execute_result"
    }
   ],
   "source": [
    "df.shape"
   ]
  },
  {
   "cell_type": "code",
   "execution_count": 25,
   "id": "817a9ec8-ec58-459d-a16e-fea559a0be08",
   "metadata": {},
   "outputs": [
    {
     "name": "stdout",
     "output_type": "stream",
     "text": [
      "`brand`\n",
      "`store_name`\n",
      "`sido`\n",
      "`store_tel`\n",
      "`store_code`\n",
      "`lat`\n",
      "`longs`\n",
      "`open_time`\n",
      "`store_address`\n",
      "`service`\n",
      "`available`\n"
     ]
    }
   ],
   "source": [
    "for x in df.columns:\n",
    "    print(f\"`{x}`\")"
   ]
  },
  {
   "cell_type": "code",
   "execution_count": 32,
   "id": "12bb46e9-4090-470b-baf8-87bf0b1af07f",
   "metadata": {},
   "outputs": [
    {
     "name": "stdout",
     "output_type": "stream",
     "text": [
      "<class 'pandas.core.frame.DataFrame'>\n",
      "Index: 640498 entries, 0 to 186119\n",
      "Data columns (total 11 columns):\n",
      " #   Column         Non-Null Count   Dtype \n",
      "---  ------         --------------   ----- \n",
      " 0   brand          640498 non-null  object\n",
      " 1   store_name     640498 non-null  object\n",
      " 2   sido           640498 non-null  object\n",
      " 3   store_tel      193963 non-null  object\n",
      " 4   store_code     260415 non-null  object\n",
      " 5   lat            446475 non-null  object\n",
      " 6   longs          446475 non-null  object\n",
      " 7   open_time      186120 non-null  object\n",
      " 8   store_address  640498 non-null  object\n",
      " 9   service        640498 non-null  object\n",
      " 10  available      640498 non-null  bool  \n",
      "dtypes: bool(1), object(10)\n",
      "memory usage: 54.4+ MB\n"
     ]
    }
   ],
   "source": [
    "df.info()"
   ]
  },
  {
   "cell_type": "code",
   "execution_count": 35,
   "id": "f990cf49-f137-403b-ae9d-c846510a4a85",
   "metadata": {},
   "outputs": [
    {
     "data": {
      "text/plain": [
       "19"
      ]
     },
     "execution_count": 35,
     "metadata": {},
     "output_type": "execute_result"
    }
   ],
   "source": [
    "df[df.open_time.notnull()].open_time.apply(lambda x : len(x)).max()"
   ]
  },
  {
   "cell_type": "code",
   "execution_count": null,
   "id": "d1c8dd85-be26-4069-b1a0-a42ea170459b",
   "metadata": {},
   "outputs": [],
   "source": [
    "INSERT INTO store VALUES ('엔코아', '서초동이야', '서울', '02-777-7777', \n",
    "\t\t\t\t\t\t\tNULL, NULL, NULL, '08:00~21:30', '효령로 ....', '공부', 1);\n"
   ]
  },
  {
   "cell_type": "code",
   "execution_count": 36,
   "id": "7ba2f1a8-ba64-4450-b60d-8a93c3f84b73",
   "metadata": {},
   "outputs": [],
   "source": [
    "sql = \"INSERT INTO store VALUES (%s, %s, %s, %s, %s, %s, %s, %s, %s, %s, %s)\"\n"
   ]
  },
  {
   "cell_type": "code",
   "execution_count": 43,
   "id": "e7ecbd9c-eb90-4c03-bf79-8271b791755b",
   "metadata": {},
   "outputs": [
    {
     "data": {
      "text/html": [
       "<div>\n",
       "<style scoped>\n",
       "    .dataframe tbody tr th:only-of-type {\n",
       "        vertical-align: middle;\n",
       "    }\n",
       "\n",
       "    .dataframe tbody tr th {\n",
       "        vertical-align: top;\n",
       "    }\n",
       "\n",
       "    .dataframe thead th {\n",
       "        text-align: right;\n",
       "    }\n",
       "</style>\n",
       "<table border=\"1\" class=\"dataframe\">\n",
       "  <thead>\n",
       "    <tr style=\"text-align: right;\">\n",
       "      <th></th>\n",
       "      <th>brand</th>\n",
       "      <th>store_name</th>\n",
       "      <th>sido</th>\n",
       "      <th>store_tel</th>\n",
       "      <th>store_code</th>\n",
       "      <th>lat</th>\n",
       "      <th>longs</th>\n",
       "      <th>open_time</th>\n",
       "      <th>store_address</th>\n",
       "      <th>service</th>\n",
       "      <th>available</th>\n",
       "    </tr>\n",
       "  </thead>\n",
       "  <tbody>\n",
       "    <tr>\n",
       "      <th>0</th>\n",
       "      <td>True</td>\n",
       "      <td>True</td>\n",
       "      <td>True</td>\n",
       "      <td>True</td>\n",
       "      <td>False</td>\n",
       "      <td>False</td>\n",
       "      <td>False</td>\n",
       "      <td>False</td>\n",
       "      <td>True</td>\n",
       "      <td>True</td>\n",
       "      <td>True</td>\n",
       "    </tr>\n",
       "    <tr>\n",
       "      <th>1</th>\n",
       "      <td>True</td>\n",
       "      <td>True</td>\n",
       "      <td>True</td>\n",
       "      <td>True</td>\n",
       "      <td>False</td>\n",
       "      <td>False</td>\n",
       "      <td>False</td>\n",
       "      <td>False</td>\n",
       "      <td>True</td>\n",
       "      <td>True</td>\n",
       "      <td>True</td>\n",
       "    </tr>\n",
       "    <tr>\n",
       "      <th>2</th>\n",
       "      <td>True</td>\n",
       "      <td>True</td>\n",
       "      <td>True</td>\n",
       "      <td>True</td>\n",
       "      <td>False</td>\n",
       "      <td>False</td>\n",
       "      <td>False</td>\n",
       "      <td>False</td>\n",
       "      <td>True</td>\n",
       "      <td>True</td>\n",
       "      <td>True</td>\n",
       "    </tr>\n",
       "  </tbody>\n",
       "</table>\n",
       "</div>"
      ],
      "text/plain": [
       "   brand  store_name  sido  store_tel  store_code    lat  longs  open_time  \\\n",
       "0   True        True  True       True       False  False  False      False   \n",
       "1   True        True  True       True       False  False  False      False   \n",
       "2   True        True  True       True       False  False  False      False   \n",
       "\n",
       "   store_address  service  available  \n",
       "0           True     True       True  \n",
       "1           True     True       True  \n",
       "2           True     True       True  "
      ]
     },
     "execution_count": 43,
     "metadata": {},
     "output_type": "execute_result"
    }
   ],
   "source": [
    "pd.notnull(df).head(3)"
   ]
  },
  {
   "cell_type": "code",
   "execution_count": 47,
   "id": "a1b25940-3d84-454d-b397-40556fdce900",
   "metadata": {},
   "outputs": [],
   "source": [
    "df.store_tel = df.store_tel.replace(\"\", None)"
   ]
  },
  {
   "cell_type": "code",
   "execution_count": 49,
   "id": "2b6b3843-cb5a-4d25-9015-db1f8ad10687",
   "metadata": {},
   "outputs": [
    {
     "data": {
      "text/html": [
       "<div>\n",
       "<style scoped>\n",
       "    .dataframe tbody tr th:only-of-type {\n",
       "        vertical-align: middle;\n",
       "    }\n",
       "\n",
       "    .dataframe tbody tr th {\n",
       "        vertical-align: top;\n",
       "    }\n",
       "\n",
       "    .dataframe thead th {\n",
       "        text-align: right;\n",
       "    }\n",
       "</style>\n",
       "<table border=\"1\" class=\"dataframe\">\n",
       "  <thead>\n",
       "    <tr style=\"text-align: right;\">\n",
       "      <th></th>\n",
       "      <th>brand</th>\n",
       "      <th>store_name</th>\n",
       "      <th>sido</th>\n",
       "      <th>store_tel</th>\n",
       "      <th>store_code</th>\n",
       "      <th>lat</th>\n",
       "      <th>longs</th>\n",
       "      <th>open_time</th>\n",
       "      <th>store_address</th>\n",
       "      <th>service</th>\n",
       "      <th>available</th>\n",
       "    </tr>\n",
       "  </thead>\n",
       "  <tbody>\n",
       "    <tr>\n",
       "      <th>0</th>\n",
       "      <td>CU</td>\n",
       "      <td>가평군청점</td>\n",
       "      <td>경기도</td>\n",
       "      <td>0315817570</td>\n",
       "      <td>NaN</td>\n",
       "      <td>NaN</td>\n",
       "      <td>NaN</td>\n",
       "      <td>NaN</td>\n",
       "      <td>경기도 가평군 가평읍 석봉로 175, (읍내리) 1호</td>\n",
       "      <td>coffee</td>\n",
       "      <td>True</td>\n",
       "    </tr>\n",
       "    <tr>\n",
       "      <th>1</th>\n",
       "      <td>CU</td>\n",
       "      <td>가평레일파크점</td>\n",
       "      <td>경기도</td>\n",
       "      <td>None</td>\n",
       "      <td>NaN</td>\n",
       "      <td>NaN</td>\n",
       "      <td>NaN</td>\n",
       "      <td>NaN</td>\n",
       "      <td>경기도 가평군 가평읍 연인길 2 (읍내리)</td>\n",
       "      <td>coffee</td>\n",
       "      <td>True</td>\n",
       "    </tr>\n",
       "  </tbody>\n",
       "</table>\n",
       "</div>"
      ],
      "text/plain": [
       "  brand store_name sido   store_tel store_code  lat longs open_time  \\\n",
       "0    CU      가평군청점  경기도  0315817570        NaN  NaN   NaN       NaN   \n",
       "1    CU    가평레일파크점  경기도        None        NaN  NaN   NaN       NaN   \n",
       "\n",
       "                   store_address service  available  \n",
       "0  경기도 가평군 가평읍 석봉로 175, (읍내리) 1호  coffee       True  \n",
       "1        경기도 가평군 가평읍 연인길 2 (읍내리)  coffee       True  "
      ]
     },
     "execution_count": 49,
     "metadata": {},
     "output_type": "execute_result"
    }
   ],
   "source": [
    "df.head(2)"
   ]
  },
  {
   "cell_type": "code",
   "execution_count": 53,
   "id": "18dccc70-272c-4644-ab7b-b0cf8690c4fc",
   "metadata": {},
   "outputs": [
    {
     "data": {
      "text/html": [
       "<div>\n",
       "<style scoped>\n",
       "    .dataframe tbody tr th:only-of-type {\n",
       "        vertical-align: middle;\n",
       "    }\n",
       "\n",
       "    .dataframe tbody tr th {\n",
       "        vertical-align: top;\n",
       "    }\n",
       "\n",
       "    .dataframe thead th {\n",
       "        text-align: right;\n",
       "    }\n",
       "</style>\n",
       "<table border=\"1\" class=\"dataframe\">\n",
       "  <thead>\n",
       "    <tr style=\"text-align: right;\">\n",
       "      <th></th>\n",
       "      <th>brand</th>\n",
       "      <th>store_name</th>\n",
       "      <th>sido</th>\n",
       "      <th>store_tel</th>\n",
       "      <th>store_code</th>\n",
       "      <th>lat</th>\n",
       "      <th>longs</th>\n",
       "      <th>open_time</th>\n",
       "      <th>store_address</th>\n",
       "      <th>service</th>\n",
       "      <th>available</th>\n",
       "    </tr>\n",
       "  </thead>\n",
       "  <tbody>\n",
       "    <tr>\n",
       "      <th>0</th>\n",
       "      <td>True</td>\n",
       "      <td>True</td>\n",
       "      <td>True</td>\n",
       "      <td>True</td>\n",
       "      <td>False</td>\n",
       "      <td>False</td>\n",
       "      <td>False</td>\n",
       "      <td>False</td>\n",
       "      <td>True</td>\n",
       "      <td>True</td>\n",
       "      <td>True</td>\n",
       "    </tr>\n",
       "    <tr>\n",
       "      <th>1</th>\n",
       "      <td>True</td>\n",
       "      <td>True</td>\n",
       "      <td>True</td>\n",
       "      <td>False</td>\n",
       "      <td>False</td>\n",
       "      <td>False</td>\n",
       "      <td>False</td>\n",
       "      <td>False</td>\n",
       "      <td>True</td>\n",
       "      <td>True</td>\n",
       "      <td>True</td>\n",
       "    </tr>\n",
       "  </tbody>\n",
       "</table>\n",
       "</div>"
      ],
      "text/plain": [
       "   brand  store_name  sido  store_tel  store_code    lat  longs  open_time  \\\n",
       "0   True        True  True       True       False  False  False      False   \n",
       "1   True        True  True      False       False  False  False      False   \n",
       "\n",
       "   store_address  service  available  \n",
       "0           True     True       True  \n",
       "1           True     True       True  "
      ]
     },
     "execution_count": 53,
     "metadata": {},
     "output_type": "execute_result"
    }
   ],
   "source": [
    "pd.notnull(df).head(2)"
   ]
  },
  {
   "cell_type": "code",
   "execution_count": 55,
   "id": "b1ba400d-4f72-42c8-adb1-0c9d0a5cca5e",
   "metadata": {},
   "outputs": [],
   "source": [
    "df2 = df.where(pd.notnull(df), None)"
   ]
  },
  {
   "cell_type": "code",
   "execution_count": 56,
   "id": "851c9ca8-c57a-4539-af37-bdb1f5c8af3d",
   "metadata": {},
   "outputs": [
    {
     "data": {
      "text/plain": [
       "['CU',\n",
       " '가평군청점',\n",
       " '경기도',\n",
       " '0315817570',\n",
       " None,\n",
       " None,\n",
       " None,\n",
       " None,\n",
       " '경기도 가평군 가평읍 석봉로 175, (읍내리) 1호',\n",
       " 'coffee',\n",
       " True]"
      ]
     },
     "execution_count": 56,
     "metadata": {},
     "output_type": "execute_result"
    }
   ],
   "source": [
    "df2.iloc[0].values.tolist()"
   ]
  },
  {
   "cell_type": "code",
   "execution_count": 61,
   "id": "cca4f8f5-27fe-4fed-97e9-373d1aa78a35",
   "metadata": {},
   "outputs": [],
   "source": [
    "df2.available = df2.available.astype(int)"
   ]
  },
  {
   "cell_type": "code",
   "execution_count": 62,
   "id": "2b88c0da-a578-4665-a4c5-49f7d23e29c4",
   "metadata": {},
   "outputs": [
    {
     "data": {
      "text/plain": [
       "1"
      ]
     },
     "execution_count": 62,
     "metadata": {},
     "output_type": "execute_result"
    }
   ],
   "source": [
    "cur.execute(sql, df2.iloc[0].values.tolist())"
   ]
  },
  {
   "cell_type": "code",
   "execution_count": 63,
   "id": "713f3e46-959c-405b-be5d-91fa368a06f7",
   "metadata": {},
   "outputs": [],
   "source": [
    "con.commit()"
   ]
  },
  {
   "cell_type": "code",
   "execution_count": 72,
   "id": "b4d6f97e-5c43-4e54-a813-1e730255f996",
   "metadata": {},
   "outputs": [
    {
     "name": "stdout",
     "output_type": "stream",
     "text": [
      "hi 10\n"
     ]
    }
   ],
   "source": [
    "print(\"%s %d\" % (\"hi\", 10))"
   ]
  },
  {
   "cell_type": "code",
   "execution_count": 80,
   "id": "58f78ea2-727b-4edd-a895-3c8b798acccd",
   "metadata": {},
   "outputs": [],
   "source": [
    "from tqdm import tqdm"
   ]
  },
  {
   "cell_type": "code",
   "execution_count": 86,
   "id": "d8f13d18-e7bd-434d-9ad4-4359200a2a70",
   "metadata": {
    "scrolled": true
   },
   "outputs": [
    {
     "name": "stderr",
     "output_type": "stream",
     "text": [
      "640498it [06:52, 1551.94it/s]\n"
     ]
    }
   ],
   "source": [
    "for idx, row in tqdm(df2.iterrows()):\n",
    "    if idx == 0:\n",
    "        continue\n",
    "    try:\n",
    "        cur.execute(sql, row.tolist())\n",
    "    except Exception as e:\n",
    "        print(e)"
   ]
  },
  {
   "cell_type": "code",
   "execution_count": 87,
   "id": "4e47b2d7-67ad-4602-9d71-10b3949a3e09",
   "metadata": {},
   "outputs": [],
   "source": [
    "con.commit()"
   ]
  },
  {
   "cell_type": "code",
   "execution_count": 89,
   "id": "305666b1-ffc6-4a1f-bb79-eb89acd10023",
   "metadata": {},
   "outputs": [
    {
     "data": {
      "text/html": [
       "<div>\n",
       "<style scoped>\n",
       "    .dataframe tbody tr th:only-of-type {\n",
       "        vertical-align: middle;\n",
       "    }\n",
       "\n",
       "    .dataframe tbody tr th {\n",
       "        vertical-align: top;\n",
       "    }\n",
       "\n",
       "    .dataframe thead th {\n",
       "        text-align: right;\n",
       "    }\n",
       "</style>\n",
       "<table border=\"1\" class=\"dataframe\">\n",
       "  <thead>\n",
       "    <tr style=\"text-align: right;\">\n",
       "      <th></th>\n",
       "      <th>brand</th>\n",
       "      <th>store_name</th>\n",
       "      <th>sido</th>\n",
       "      <th>store_tel</th>\n",
       "      <th>store_code</th>\n",
       "      <th>lat</th>\n",
       "      <th>longs</th>\n",
       "      <th>open_time</th>\n",
       "      <th>store_address</th>\n",
       "      <th>service</th>\n",
       "      <th>available</th>\n",
       "    </tr>\n",
       "  </thead>\n",
       "  <tbody>\n",
       "    <tr>\n",
       "      <th>0</th>\n",
       "      <td>CU</td>\n",
       "      <td>가평군청점</td>\n",
       "      <td>경기도</td>\n",
       "      <td>0315817570</td>\n",
       "      <td>None</td>\n",
       "      <td>None</td>\n",
       "      <td>None</td>\n",
       "      <td>None</td>\n",
       "      <td>경기도 가평군 가평읍 석봉로 175, (읍내리) 1호</td>\n",
       "      <td>coffee</td>\n",
       "      <td>1</td>\n",
       "    </tr>\n",
       "    <tr>\n",
       "      <th>17633</th>\n",
       "      <td>CU</td>\n",
       "      <td>가평군청점</td>\n",
       "      <td>경기도</td>\n",
       "      <td>0315817570</td>\n",
       "      <td>None</td>\n",
       "      <td>None</td>\n",
       "      <td>None</td>\n",
       "      <td>None</td>\n",
       "      <td>경기도 가평군 가평읍 석봉로 175, (읍내리) 1호</td>\n",
       "      <td>delivery</td>\n",
       "      <td>1</td>\n",
       "    </tr>\n",
       "    <tr>\n",
       "      <th>35266</th>\n",
       "      <td>CU</td>\n",
       "      <td>가평군청점</td>\n",
       "      <td>경기도</td>\n",
       "      <td>0315817570</td>\n",
       "      <td>None</td>\n",
       "      <td>None</td>\n",
       "      <td>None</td>\n",
       "      <td>None</td>\n",
       "      <td>경기도 가평군 가평읍 석봉로 175, (읍내리) 1호</td>\n",
       "      <td>toto</td>\n",
       "      <td>0</td>\n",
       "    </tr>\n",
       "    <tr>\n",
       "      <th>52899</th>\n",
       "      <td>CU</td>\n",
       "      <td>가평군청점</td>\n",
       "      <td>경기도</td>\n",
       "      <td>0315817570</td>\n",
       "      <td>None</td>\n",
       "      <td>None</td>\n",
       "      <td>None</td>\n",
       "      <td>None</td>\n",
       "      <td>경기도 가평군 가평읍 석봉로 175, (읍내리) 1호</td>\n",
       "      <td>fried</td>\n",
       "      <td>1</td>\n",
       "    </tr>\n",
       "    <tr>\n",
       "      <th>70532</th>\n",
       "      <td>CU</td>\n",
       "      <td>가평군청점</td>\n",
       "      <td>경기도</td>\n",
       "      <td>0315817570</td>\n",
       "      <td>None</td>\n",
       "      <td>None</td>\n",
       "      <td>None</td>\n",
       "      <td>None</td>\n",
       "      <td>경기도 가평군 가평읍 석봉로 175, (읍내리) 1호</td>\n",
       "      <td>lotto</td>\n",
       "      <td>0</td>\n",
       "    </tr>\n",
       "    <tr>\n",
       "      <th>88165</th>\n",
       "      <td>CU</td>\n",
       "      <td>가평군청점</td>\n",
       "      <td>경기도</td>\n",
       "      <td>0315817570</td>\n",
       "      <td>None</td>\n",
       "      <td>None</td>\n",
       "      <td>None</td>\n",
       "      <td>None</td>\n",
       "      <td>경기도 가평군 가평읍 석봉로 175, (읍내리) 1호</td>\n",
       "      <td>cash</td>\n",
       "      <td>1</td>\n",
       "    </tr>\n",
       "    <tr>\n",
       "      <th>105798</th>\n",
       "      <td>CU</td>\n",
       "      <td>가평군청점</td>\n",
       "      <td>경기도</td>\n",
       "      <td>0315817570</td>\n",
       "      <td>None</td>\n",
       "      <td>None</td>\n",
       "      <td>None</td>\n",
       "      <td>None</td>\n",
       "      <td>경기도 가평군 가평읍 석봉로 175, (읍내리) 1호</td>\n",
       "      <td>pos</td>\n",
       "      <td>0</td>\n",
       "    </tr>\n",
       "    <tr>\n",
       "      <th>123431</th>\n",
       "      <td>CU</td>\n",
       "      <td>가평군청점</td>\n",
       "      <td>경기도</td>\n",
       "      <td>0315817570</td>\n",
       "      <td>None</td>\n",
       "      <td>None</td>\n",
       "      <td>None</td>\n",
       "      <td>None</td>\n",
       "      <td>경기도 가평군 가평읍 석봉로 175, (읍내리) 1호</td>\n",
       "      <td>bakery</td>\n",
       "      <td>0</td>\n",
       "    </tr>\n",
       "    <tr>\n",
       "      <th>141064</th>\n",
       "      <td>CU</td>\n",
       "      <td>가평군청점</td>\n",
       "      <td>경기도</td>\n",
       "      <td>0315817570</td>\n",
       "      <td>None</td>\n",
       "      <td>None</td>\n",
       "      <td>None</td>\n",
       "      <td>None</td>\n",
       "      <td>경기도 가평군 가평읍 석봉로 175, (읍내리) 1호</td>\n",
       "      <td>mix</td>\n",
       "      <td>0</td>\n",
       "    </tr>\n",
       "    <tr>\n",
       "      <th>158697</th>\n",
       "      <td>CU</td>\n",
       "      <td>가평군청점</td>\n",
       "      <td>경기도</td>\n",
       "      <td>0315817570</td>\n",
       "      <td>None</td>\n",
       "      <td>None</td>\n",
       "      <td>None</td>\n",
       "      <td>None</td>\n",
       "      <td>경기도 가평군 가평읍 석봉로 175, (읍내리) 1호</td>\n",
       "      <td>battery</td>\n",
       "      <td>0</td>\n",
       "    </tr>\n",
       "    <tr>\n",
       "      <th>176330</th>\n",
       "      <td>CU</td>\n",
       "      <td>가평군청점</td>\n",
       "      <td>경기도</td>\n",
       "      <td>0315817570</td>\n",
       "      <td>None</td>\n",
       "      <td>None</td>\n",
       "      <td>None</td>\n",
       "      <td>None</td>\n",
       "      <td>경기도 가평군 가평읍 석봉로 175, (읍내리) 1호</td>\n",
       "      <td>hour</td>\n",
       "      <td>1</td>\n",
       "    </tr>\n",
       "    <tr>\n",
       "      <th>568</th>\n",
       "      <td>seven</td>\n",
       "      <td>가평군청점</td>\n",
       "      <td>경기도</td>\n",
       "      <td>None</td>\n",
       "      <td>None</td>\n",
       "      <td>37.832177054</td>\n",
       "      <td>127.51027044</td>\n",
       "      <td>영업 시간 06:00 ~ 01:00</td>\n",
       "      <td>경기도 가평군 가평읍 석봉로 192 1층</td>\n",
       "      <td>24시간</td>\n",
       "      <td>0</td>\n",
       "    </tr>\n",
       "    <tr>\n",
       "      <th>12976</th>\n",
       "      <td>seven</td>\n",
       "      <td>가평군청점</td>\n",
       "      <td>경기도</td>\n",
       "      <td>None</td>\n",
       "      <td>None</td>\n",
       "      <td>37.832177054</td>\n",
       "      <td>127.51027044</td>\n",
       "      <td>영업 시간 06:00 ~ 01:00</td>\n",
       "      <td>경기도 가평군 가평읍 석봉로 192 1층</td>\n",
       "      <td>베이커리</td>\n",
       "      <td>0</td>\n",
       "    </tr>\n",
       "    <tr>\n",
       "      <th>25384</th>\n",
       "      <td>seven</td>\n",
       "      <td>가평군청점</td>\n",
       "      <td>경기도</td>\n",
       "      <td>None</td>\n",
       "      <td>None</td>\n",
       "      <td>37.832177054</td>\n",
       "      <td>127.51027044</td>\n",
       "      <td>영업 시간 06:00 ~ 01:00</td>\n",
       "      <td>경기도 가평군 가평읍 석봉로 192 1층</td>\n",
       "      <td>치킨</td>\n",
       "      <td>0</td>\n",
       "    </tr>\n",
       "    <tr>\n",
       "      <th>37792</th>\n",
       "      <td>seven</td>\n",
       "      <td>가평군청점</td>\n",
       "      <td>경기도</td>\n",
       "      <td>None</td>\n",
       "      <td>None</td>\n",
       "      <td>37.832177054</td>\n",
       "      <td>127.51027044</td>\n",
       "      <td>영업 시간 06:00 ~ 01:00</td>\n",
       "      <td>경기도 가평군 가평읍 석봉로 192 1층</td>\n",
       "      <td>의약품</td>\n",
       "      <td>0</td>\n",
       "    </tr>\n",
       "    <tr>\n",
       "      <th>50200</th>\n",
       "      <td>seven</td>\n",
       "      <td>가평군청점</td>\n",
       "      <td>경기도</td>\n",
       "      <td>None</td>\n",
       "      <td>None</td>\n",
       "      <td>37.832177054</td>\n",
       "      <td>127.51027044</td>\n",
       "      <td>영업 시간 06:00 ~ 01:00</td>\n",
       "      <td>경기도 가평군 가평읍 석봉로 192 1층</td>\n",
       "      <td>무인택배접수</td>\n",
       "      <td>1</td>\n",
       "    </tr>\n",
       "    <tr>\n",
       "      <th>62608</th>\n",
       "      <td>seven</td>\n",
       "      <td>가평군청점</td>\n",
       "      <td>경기도</td>\n",
       "      <td>None</td>\n",
       "      <td>None</td>\n",
       "      <td>37.832177054</td>\n",
       "      <td>127.51027044</td>\n",
       "      <td>영업 시간 06:00 ~ 01:00</td>\n",
       "      <td>경기도 가평군 가평읍 석봉로 192 1층</td>\n",
       "      <td>소프트아이스크림</td>\n",
       "      <td>0</td>\n",
       "    </tr>\n",
       "    <tr>\n",
       "      <th>75016</th>\n",
       "      <td>seven</td>\n",
       "      <td>가평군청점</td>\n",
       "      <td>경기도</td>\n",
       "      <td>None</td>\n",
       "      <td>None</td>\n",
       "      <td>37.832177054</td>\n",
       "      <td>127.51027044</td>\n",
       "      <td>영업 시간 06:00 ~ 01:00</td>\n",
       "      <td>경기도 가평군 가평읍 석봉로 192 1층</td>\n",
       "      <td>무인락커</td>\n",
       "      <td>0</td>\n",
       "    </tr>\n",
       "    <tr>\n",
       "      <th>87424</th>\n",
       "      <td>seven</td>\n",
       "      <td>가평군청점</td>\n",
       "      <td>경기도</td>\n",
       "      <td>None</td>\n",
       "      <td>None</td>\n",
       "      <td>37.832177054</td>\n",
       "      <td>127.51027044</td>\n",
       "      <td>영업 시간 06:00 ~ 01:00</td>\n",
       "      <td>경기도 가평군 가평읍 석봉로 192 1층</td>\n",
       "      <td>스마트픽</td>\n",
       "      <td>1</td>\n",
       "    </tr>\n",
       "    <tr>\n",
       "      <th>99832</th>\n",
       "      <td>seven</td>\n",
       "      <td>가평군청점</td>\n",
       "      <td>경기도</td>\n",
       "      <td>None</td>\n",
       "      <td>None</td>\n",
       "      <td>37.832177054</td>\n",
       "      <td>127.51027044</td>\n",
       "      <td>영업 시간 06:00 ~ 01:00</td>\n",
       "      <td>경기도 가평군 가평읍 석봉로 192 1층</td>\n",
       "      <td>ATM</td>\n",
       "      <td>0</td>\n",
       "    </tr>\n",
       "    <tr>\n",
       "      <th>112240</th>\n",
       "      <td>seven</td>\n",
       "      <td>가평군청점</td>\n",
       "      <td>경기도</td>\n",
       "      <td>None</td>\n",
       "      <td>None</td>\n",
       "      <td>37.832177054</td>\n",
       "      <td>127.51027044</td>\n",
       "      <td>영업 시간 06:00 ~ 01:00</td>\n",
       "      <td>경기도 가평군 가평읍 석봉로 192 1층</td>\n",
       "      <td>고구마·붕어빵</td>\n",
       "      <td>0</td>\n",
       "    </tr>\n",
       "    <tr>\n",
       "      <th>124648</th>\n",
       "      <td>seven</td>\n",
       "      <td>가평군청점</td>\n",
       "      <td>경기도</td>\n",
       "      <td>None</td>\n",
       "      <td>None</td>\n",
       "      <td>37.832177054</td>\n",
       "      <td>127.51027044</td>\n",
       "      <td>영업 시간 06:00 ~ 01:00</td>\n",
       "      <td>경기도 가평군 가평읍 석봉로 192 1층</td>\n",
       "      <td>시디</td>\n",
       "      <td>0</td>\n",
       "    </tr>\n",
       "    <tr>\n",
       "      <th>137056</th>\n",
       "      <td>seven</td>\n",
       "      <td>가평군청점</td>\n",
       "      <td>경기도</td>\n",
       "      <td>None</td>\n",
       "      <td>None</td>\n",
       "      <td>37.832177054</td>\n",
       "      <td>127.51027044</td>\n",
       "      <td>영업 시간 06:00 ~ 01:00</td>\n",
       "      <td>경기도 가평군 가평읍 석봉로 192 1층</td>\n",
       "      <td>카페</td>\n",
       "      <td>1</td>\n",
       "    </tr>\n",
       "    <tr>\n",
       "      <th>149464</th>\n",
       "      <td>seven</td>\n",
       "      <td>가평군청점</td>\n",
       "      <td>경기도</td>\n",
       "      <td>None</td>\n",
       "      <td>None</td>\n",
       "      <td>37.832177054</td>\n",
       "      <td>127.51027044</td>\n",
       "      <td>영업 시간 06:00 ~ 01:00</td>\n",
       "      <td>경기도 가평군 가평읍 석봉로 192 1층</td>\n",
       "      <td>페덱스서비스</td>\n",
       "      <td>1</td>\n",
       "    </tr>\n",
       "    <tr>\n",
       "      <th>161872</th>\n",
       "      <td>seven</td>\n",
       "      <td>가평군청점</td>\n",
       "      <td>경기도</td>\n",
       "      <td>None</td>\n",
       "      <td>None</td>\n",
       "      <td>37.832177054</td>\n",
       "      <td>127.51027044</td>\n",
       "      <td>영업 시간 06:00 ~ 01:00</td>\n",
       "      <td>경기도 가평군 가평읍 석봉로 192 1층</td>\n",
       "      <td>예약주문</td>\n",
       "      <td>1</td>\n",
       "    </tr>\n",
       "    <tr>\n",
       "      <th>174280</th>\n",
       "      <td>seven</td>\n",
       "      <td>가평군청점</td>\n",
       "      <td>경기도</td>\n",
       "      <td>None</td>\n",
       "      <td>None</td>\n",
       "      <td>37.832177054</td>\n",
       "      <td>127.51027044</td>\n",
       "      <td>영업 시간 06:00 ~ 01:00</td>\n",
       "      <td>경기도 가평군 가평읍 석봉로 192 1층</td>\n",
       "      <td>토토</td>\n",
       "      <td>0</td>\n",
       "    </tr>\n",
       "  </tbody>\n",
       "</table>\n",
       "</div>"
      ],
      "text/plain": [
       "        brand store_name sido   store_tel store_code           lat  \\\n",
       "0          CU      가평군청점  경기도  0315817570       None          None   \n",
       "17633      CU      가평군청점  경기도  0315817570       None          None   \n",
       "35266      CU      가평군청점  경기도  0315817570       None          None   \n",
       "52899      CU      가평군청점  경기도  0315817570       None          None   \n",
       "70532      CU      가평군청점  경기도  0315817570       None          None   \n",
       "88165      CU      가평군청점  경기도  0315817570       None          None   \n",
       "105798     CU      가평군청점  경기도  0315817570       None          None   \n",
       "123431     CU      가평군청점  경기도  0315817570       None          None   \n",
       "141064     CU      가평군청점  경기도  0315817570       None          None   \n",
       "158697     CU      가평군청점  경기도  0315817570       None          None   \n",
       "176330     CU      가평군청점  경기도  0315817570       None          None   \n",
       "568     seven      가평군청점  경기도        None       None  37.832177054   \n",
       "12976   seven      가평군청점  경기도        None       None  37.832177054   \n",
       "25384   seven      가평군청점  경기도        None       None  37.832177054   \n",
       "37792   seven      가평군청점  경기도        None       None  37.832177054   \n",
       "50200   seven      가평군청점  경기도        None       None  37.832177054   \n",
       "62608   seven      가평군청점  경기도        None       None  37.832177054   \n",
       "75016   seven      가평군청점  경기도        None       None  37.832177054   \n",
       "87424   seven      가평군청점  경기도        None       None  37.832177054   \n",
       "99832   seven      가평군청점  경기도        None       None  37.832177054   \n",
       "112240  seven      가평군청점  경기도        None       None  37.832177054   \n",
       "124648  seven      가평군청점  경기도        None       None  37.832177054   \n",
       "137056  seven      가평군청점  경기도        None       None  37.832177054   \n",
       "149464  seven      가평군청점  경기도        None       None  37.832177054   \n",
       "161872  seven      가평군청점  경기도        None       None  37.832177054   \n",
       "174280  seven      가평군청점  경기도        None       None  37.832177054   \n",
       "\n",
       "               longs            open_time                  store_address  \\\n",
       "0               None                 None  경기도 가평군 가평읍 석봉로 175, (읍내리) 1호   \n",
       "17633           None                 None  경기도 가평군 가평읍 석봉로 175, (읍내리) 1호   \n",
       "35266           None                 None  경기도 가평군 가평읍 석봉로 175, (읍내리) 1호   \n",
       "52899           None                 None  경기도 가평군 가평읍 석봉로 175, (읍내리) 1호   \n",
       "70532           None                 None  경기도 가평군 가평읍 석봉로 175, (읍내리) 1호   \n",
       "88165           None                 None  경기도 가평군 가평읍 석봉로 175, (읍내리) 1호   \n",
       "105798          None                 None  경기도 가평군 가평읍 석봉로 175, (읍내리) 1호   \n",
       "123431          None                 None  경기도 가평군 가평읍 석봉로 175, (읍내리) 1호   \n",
       "141064          None                 None  경기도 가평군 가평읍 석봉로 175, (읍내리) 1호   \n",
       "158697          None                 None  경기도 가평군 가평읍 석봉로 175, (읍내리) 1호   \n",
       "176330          None                 None  경기도 가평군 가평읍 석봉로 175, (읍내리) 1호   \n",
       "568     127.51027044  영업 시간 06:00 ~ 01:00         경기도 가평군 가평읍 석봉로 192 1층   \n",
       "12976   127.51027044  영업 시간 06:00 ~ 01:00         경기도 가평군 가평읍 석봉로 192 1층   \n",
       "25384   127.51027044  영업 시간 06:00 ~ 01:00         경기도 가평군 가평읍 석봉로 192 1층   \n",
       "37792   127.51027044  영업 시간 06:00 ~ 01:00         경기도 가평군 가평읍 석봉로 192 1층   \n",
       "50200   127.51027044  영업 시간 06:00 ~ 01:00         경기도 가평군 가평읍 석봉로 192 1층   \n",
       "62608   127.51027044  영업 시간 06:00 ~ 01:00         경기도 가평군 가평읍 석봉로 192 1층   \n",
       "75016   127.51027044  영업 시간 06:00 ~ 01:00         경기도 가평군 가평읍 석봉로 192 1층   \n",
       "87424   127.51027044  영업 시간 06:00 ~ 01:00         경기도 가평군 가평읍 석봉로 192 1층   \n",
       "99832   127.51027044  영업 시간 06:00 ~ 01:00         경기도 가평군 가평읍 석봉로 192 1층   \n",
       "112240  127.51027044  영업 시간 06:00 ~ 01:00         경기도 가평군 가평읍 석봉로 192 1층   \n",
       "124648  127.51027044  영업 시간 06:00 ~ 01:00         경기도 가평군 가평읍 석봉로 192 1층   \n",
       "137056  127.51027044  영업 시간 06:00 ~ 01:00         경기도 가평군 가평읍 석봉로 192 1층   \n",
       "149464  127.51027044  영업 시간 06:00 ~ 01:00         경기도 가평군 가평읍 석봉로 192 1층   \n",
       "161872  127.51027044  영업 시간 06:00 ~ 01:00         경기도 가평군 가평읍 석봉로 192 1층   \n",
       "174280  127.51027044  영업 시간 06:00 ~ 01:00         경기도 가평군 가평읍 석봉로 192 1층   \n",
       "\n",
       "         service  available  \n",
       "0         coffee          1  \n",
       "17633   delivery          1  \n",
       "35266       toto          0  \n",
       "52899      fried          1  \n",
       "70532      lotto          0  \n",
       "88165       cash          1  \n",
       "105798       pos          0  \n",
       "123431    bakery          0  \n",
       "141064       mix          0  \n",
       "158697   battery          0  \n",
       "176330      hour          1  \n",
       "568         24시간          0  \n",
       "12976       베이커리          0  \n",
       "25384         치킨          0  \n",
       "37792        의약품          0  \n",
       "50200     무인택배접수          1  \n",
       "62608   소프트아이스크림          0  \n",
       "75016       무인락커          0  \n",
       "87424       스마트픽          1  \n",
       "99832        ATM          0  \n",
       "112240   고구마·붕어빵          0  \n",
       "124648        시디          0  \n",
       "137056        카페          1  \n",
       "149464    페덱스서비스          1  \n",
       "161872      예약주문          1  \n",
       "174280        토토          0  "
      ]
     },
     "execution_count": 89,
     "metadata": {},
     "output_type": "execute_result"
    }
   ],
   "source": [
    "df2[df2.store_name == \"가평군청점\"]"
   ]
  }
 ],
 "metadata": {
  "kernelspec": {
   "display_name": "Python 3 (ipykernel)",
   "language": "python",
   "name": "python3"
  },
  "language_info": {
   "codemirror_mode": {
    "name": "ipython",
    "version": 3
   },
   "file_extension": ".py",
   "mimetype": "text/x-python",
   "name": "python",
   "nbconvert_exporter": "python",
   "pygments_lexer": "ipython3",
   "version": "3.10.12"
  }
 },
 "nbformat": 4,
 "nbformat_minor": 5
}
