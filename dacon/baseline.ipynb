{
 "cells": [
  {
   "cell_type": "markdown",
   "metadata": {},
   "source": [
    "### Import"
   ]
  },
  {
   "cell_type": "code",
   "execution_count": 4,
   "metadata": {},
   "outputs": [],
   "source": [
    "import pandas as pd\n",
    "import numpy as np\n",
    "import matplotlib.pyplot as plt\n",
    "import seaborn as sns\n",
    "\n",
    "from datetime import datetime\n",
    "\n",
    "import warnings\n",
    "warnings.simplefilter(action='ignore', category=FutureWarning)\n",
    "\n",
    "plt.style.use(\"ggplot\")\n",
    "plt.rc('font', family='NanumGothic')"
   ]
  },
  {
   "cell_type": "markdown",
   "metadata": {},
   "source": [
    "### Data Load"
   ]
  },
  {
   "cell_type": "code",
   "execution_count": 6,
   "metadata": {},
   "outputs": [],
   "source": [
    "customer = pd.read_csv('./customers.csv')\n",
    "location = pd.read_csv('./locations.csv')\n",
    "order_items = pd.read_csv('./order_items.csv')\n",
    "orders = pd.read_csv('./orders.csv')\n",
    "payments = pd.read_csv('./payments.csv')\n",
    "product = pd.read_csv('./products.csv')\n",
    "review = pd.read_csv('./reviews.csv')\n",
    "seller = pd.read_csv('./sellers.csv')"
   ]
  },
  {
   "cell_type": "markdown",
   "metadata": {},
   "source": [
    "### Data"
   ]
  },
  {
   "cell_type": "code",
   "execution_count": null,
   "metadata": {},
   "outputs": [],
   "source": [
    "customer.info()"
   ]
  },
  {
   "cell_type": "code",
   "execution_count": null,
   "metadata": {},
   "outputs": [],
   "source": [
    "orders.info()"
   ]
  },
  {
   "cell_type": "code",
   "execution_count": null,
   "metadata": {},
   "outputs": [],
   "source": [
    "order_items.info()"
   ]
  },
  {
   "cell_type": "markdown",
   "metadata": {},
   "source": [
    "### EDA"
   ]
  },
  {
   "cell_type": "markdown",
   "metadata": {},
   "source": [
    "#### Top10 제품 카테고리 시각화"
   ]
  },
  {
   "cell_type": "code",
   "execution_count": null,
   "metadata": {},
   "outputs": [],
   "source": [
    "# 카테고리별 주문 수 계산\n",
    "category_cnt = product['Product_category_name'].value_counts().head(10)\n",
    "\n",
    "plt.figure(figsize=(12, 8))\n",
    "bars = category_cnt.sort_values(ascending=True).plot(kind='barh', color='skyblue')\n",
    "\n",
    "plt.title('Top 10 제품 카테고리')\n",
    "plt.xlabel('주문 수')\n",
    "plt.ylabel('제품 카테고리')\n",
    "\n",
    "# 각 바 위에 값 표시\n",
    "for bar in bars.containers[0]:\n",
    "    plt.text(bar.get_width(), bar.get_y() + bar.get_height()/2,\n",
    "             f'{int(bar.get_width())}', va='center')\n",
    "\n",
    "plt.show()"
   ]
  },
  {
   "cell_type": "markdown",
   "metadata": {},
   "source": [
    "#### 고객 Top 10 도시 시각화"
   ]
  },
  {
   "cell_type": "code",
   "execution_count": null,
   "metadata": {},
   "outputs": [],
   "source": [
    "# 상위 10개 도시 선택\n",
    "top10_cities = customer['Customer_city'].value_counts().head(10).index\n",
    "\n",
    "# 상위 10개 도시에 대한 데이터만 필터링\n",
    "data = customer[customer['Customer_city'].isin(top10_cities)]\n",
    "\n",
    "# 시각화\n",
    "plt.figure(figsize=(8,6))\n",
    "ax = sns.countplot(x='Customer_city', data=data,\n",
    "                   order=data['Customer_city'].value_counts().index, \n",
    "                   palette='icefire_r')\n",
    "\n",
    "plt.title('Top 10 도시명')\n",
    "plt.xticks(rotation=45) # 도시 이름이 긴 경우를 위해 x축 라벨 회전\n",
    "\n",
    "# 각 바 위에 값 표시\n",
    "for p in ax.patches:\n",
    "    ax.annotate(format(p.get_height(), '.0f'), \n",
    "                (p.get_x() + p.get_width() / 2., p.get_height()), \n",
    "                ha = 'center', va = 'center', \n",
    "                xytext = (0, 10), \n",
    "                textcoords = 'offset points')\n",
    "\n",
    "plt.show()\n"
   ]
  },
  {
   "cell_type": "markdown",
   "metadata": {},
   "source": [
    "#### 지불형태 시각화"
   ]
  },
  {
   "cell_type": "code",
   "execution_count": null,
   "metadata": {},
   "outputs": [],
   "source": [
    "# 지불 형태별 개수 계산\n",
    "category_counts = payments['Payment_type'].value_counts()\n",
    "\n",
    "# 바 그래프 그리기\n",
    "fig, ax = plt.subplots(figsize=(12, 7))\n",
    "bars = ax.bar(category_counts.index, category_counts)\n",
    "\n",
    "# 각 바에 카운트 값 표시\n",
    "for bar in bars:\n",
    "    height = bar.get_height()\n",
    "    ax.annotate(f'{height}',\n",
    "                xy=(bar.get_x() + bar.get_width() / 2, height),\n",
    "                xytext=(0, 3),  # 3 points vertical offset\n",
    "                textcoords=\"offset points\",\n",
    "                ha='center', va='bottom')\n",
    "\n",
    "ax.set_xlabel('지불형태')\n",
    "ax.set_ylabel('갯수')\n",
    "ax.set_title('지불형태 종류')\n",
    "\n",
    "plt.show()"
   ]
  },
  {
   "cell_type": "markdown",
   "metadata": {},
   "source": [
    "### KPI Definition"
   ]
  },
  {
   "cell_type": "markdown",
   "metadata": {},
   "source": [
    "#### 월별 매출 시각화"
   ]
  },
  {
   "cell_type": "code",
   "execution_count": null,
   "metadata": {},
   "outputs": [],
   "source": [
    "order = orders.copy()\n",
    "\n",
    "order['Order_purchase_timestamp'] = pd.to_datetime(order['Order_purchase_timestamp'])\n",
    "order['YearMonth'] = order['Order_purchase_timestamp'].dt.strftime('%Y%m')\n",
    "\n",
    "merged_orders = pd.merge(order, order_items, on='Order_id', how='left')\n",
    "merged_orders['Revenue'] = merged_orders['Price'] * merged_orders['Order_item_id']\n",
    "monthly_revenue = merged_orders.groupby('YearMonth')['Revenue'].sum().reset_index()\n",
    "\n",
    "plt.figure(figsize=(10, 6))\n",
    "sns.lineplot(x='YearMonth', y='Revenue', data=monthly_revenue, marker='o')\n",
    "plt.title('월별 매출 추이')\n",
    "plt.xlabel('년월')\n",
    "plt.ylabel('매출')\n",
    "plt.xticks(rotation=45)\n",
    "plt.grid(True)\n",
    "plt.show()"
   ]
  },
  {
   "cell_type": "code",
   "execution_count": null,
   "metadata": {},
   "outputs": [],
   "source": [
    "orders_customers = pd.merge(order, customer, on='Customer_id', how='inner')\n",
    "orders_monthly_active = orders_customers.groupby('YearMonth')['Customer_unique_id'].nunique().reset_index()\n",
    "\n",
    "orders_monthly_active.head()"
   ]
  },
  {
   "cell_type": "markdown",
   "metadata": {},
   "source": [
    "#### MAU"
   ]
  },
  {
   "cell_type": "code",
   "execution_count": null,
   "metadata": {},
   "outputs": [],
   "source": [
    "# 바 차트 그리기\n",
    "plt.figure(figsize=(11, 5))\n",
    "bars = plt.bar(orders_monthly_active['YearMonth'], orders_monthly_active['Customer_unique_id'], color='skyblue')\n",
    "\n",
    "# 타이틀 및 라벨 설정\n",
    "plt.title('월별 활동 유저 : MAU')\n",
    "plt.xlabel('월')\n",
    "plt.ylabel('유저')\n",
    "plt.xticks(rotation=45)\n",
    "\n",
    "# 각 바 위에 값 표시\n",
    "for bar in bars:\n",
    "    yval = bar.get_height()\n",
    "    plt.text(bar.get_x() + bar.get_width()/2, yval + 0.5, yval, ha='center', va='bottom')\n",
    "\n",
    "plt.show()"
   ]
  },
  {
   "cell_type": "code",
   "execution_count": null,
   "metadata": {},
   "outputs": [],
   "source": [
    "orders_monthly_active['Monthlychange'] = orders_monthly_active['Customer_unique_id'].pct_change()\n",
    "\n",
    "\n",
    "filtered_data = orders_monthly_active.query(\"YearMonth > '201801'\")\n",
    "\n",
    "\n",
    "plt.figure(figsize=(14, 7))\n",
    "plt.plot(filtered_data['YearMonth'], filtered_data['Monthlychange'], marker='o', linestyle='-', color='blue')\n",
    "plt.title('월별 변화율', fontsize=15)\n",
    "plt.xlabel('년월', fontsize=12)\n",
    "plt.ylabel('변화율', fontsize=12)\n",
    "plt.xticks(rotation=45)\n",
    "plt.grid(True, linestyle='--', linewidth=0.5)\n",
    "plt.show()"
   ]
  }
 ],
 "metadata": {
  "kernelspec": {
   "display_name": "Python 3 (ipykernel)",
   "language": "python",
   "name": "python3"
  },
  "language_info": {
   "codemirror_mode": {
    "name": "ipython",
    "version": 3
   },
   "file_extension": ".py",
   "mimetype": "text/x-python",
   "name": "python",
   "nbconvert_exporter": "python",
   "pygments_lexer": "ipython3",
   "version": "3.10.12"
  }
 },
 "nbformat": 4,
 "nbformat_minor": 4
}
