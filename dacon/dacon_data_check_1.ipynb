{
 "cells": [
  {
   "cell_type": "code",
   "execution_count": 114,
   "id": "94c36475-c654-48cb-96d9-58901f04270d",
   "metadata": {},
   "outputs": [],
   "source": [
    "import pandas as pd\n",
    "import numpy as np\n",
    "import matplotlib.pyplot as plt\n",
    "import seaborn as sns\n",
    "from datetime import datetime\n",
    "import warnings\n",
    "warnings.simplefilter(action='ignore', category=FutureWarning)\n",
    "customers = pd.read_csv('./dacon_data/open/customers.csv')\n",
    "locations = pd.read_csv('./dacon_data/open/locations.csv')\n",
    "orders = pd.read_csv('./dacon_data/open/orders.csv')\n",
    "order_items = pd.read_csv('./dacon_data/open/order_items.csv')\n",
    "payments = pd.read_csv('./dacon_data/open/payments.csv')\n",
    "products = pd.read_csv('./dacon_data/open/products.csv')\n",
    "reviews = pd.read_csv('./dacon_data/open/reviews.csv')\n",
    "sellers = pd.read_csv('./dacon_data/open/sellers.csv')\n",
    "temp = pd.merge(reviews,order_items, how='inner',on='Order_id')\n",
    "temp = pd.merge(temp,orders, how='inner',on='Order_id')\n",
    "temp = pd.merge(temp,payments, how='inner',on='Order_id')\n",
    "temp = pd.merge(temp,products, how='inner',on='Product_id')\n",
    "temp = pd.merge(temp,customers, how='inner',on='Customer_id')\n",
    "temp = pd.merge(temp,sellers, how='inner',on='Seller_id')\n",
    "temp = temp.drop([\"Review_creation_date\",\"Review_answer_timestamp\",\"Order_status\",\"Payment_sequential\",\"Payment_type\",\"Payment_installments\"],axis=1)\n",
    "# temp = temp.drop([\"Product_weight_g\",\"Product_length_cm\",\"Product_height_cm\",\"Customer_zipcode_prefix\",\"Seller_zipcode_prefix\"],axis=1)\n",
    "# temp = temp.drop([\"Product_width_cm\"],axis=1)"
   ]
  },
  {
   "cell_type": "code",
   "execution_count": 115,
   "id": "5d42fbc6-c4bc-4a37-8470-a391a19c1bc8",
   "metadata": {},
   "outputs": [],
   "source": [
    "temp = temp.drop([\"Product_width_cm\"],axis=1)"
   ]
  },
  {
   "cell_type": "code",
   "execution_count": 116,
   "id": "f0cbccec-b444-4a2e-8540-f68b1d15d449",
   "metadata": {},
   "outputs": [],
   "source": [
    "temp = temp.drop([\"Product_weight_g\",\"Product_length_cm\",\"Product_height_cm\"],axis=1)"
   ]
  },
  {
   "cell_type": "code",
   "execution_count": 117,
   "id": "33454f98-41ab-419d-b498-76e899362ea6",
   "metadata": {},
   "outputs": [
    {
     "data": {
      "text/html": [
       "<div>\n",
       "<style scoped>\n",
       "    .dataframe tbody tr th:only-of-type {\n",
       "        vertical-align: middle;\n",
       "    }\n",
       "\n",
       "    .dataframe tbody tr th {\n",
       "        vertical-align: top;\n",
       "    }\n",
       "\n",
       "    .dataframe thead th {\n",
       "        text-align: right;\n",
       "    }\n",
       "</style>\n",
       "<table border=\"1\" class=\"dataframe\">\n",
       "  <thead>\n",
       "    <tr style=\"text-align: right;\">\n",
       "      <th></th>\n",
       "      <th>Review_id</th>\n",
       "      <th>Order_id</th>\n",
       "      <th>Review_score</th>\n",
       "      <th>Order_item_id</th>\n",
       "      <th>Product_id</th>\n",
       "      <th>Seller_id</th>\n",
       "      <th>Price</th>\n",
       "      <th>Freight_value</th>\n",
       "      <th>Customer_id</th>\n",
       "      <th>Order_purchase_timestamp</th>\n",
       "      <th>...</th>\n",
       "      <th>Order_estimated_delivery_date</th>\n",
       "      <th>Payment_value</th>\n",
       "      <th>Product_category_name</th>\n",
       "      <th>Customer_unique_id</th>\n",
       "      <th>Customer_zipcode_prefix</th>\n",
       "      <th>Customer_city</th>\n",
       "      <th>Customer_state</th>\n",
       "      <th>Seller_zipcode_prefix</th>\n",
       "      <th>Seller_city</th>\n",
       "      <th>Seller_state</th>\n",
       "    </tr>\n",
       "  </thead>\n",
       "  <tbody>\n",
       "    <tr>\n",
       "      <th>0</th>\n",
       "      <td>REVIEW_00000</td>\n",
       "      <td>ORDER_01674</td>\n",
       "      <td>4</td>\n",
       "      <td>1</td>\n",
       "      <td>PRODUCT_21853</td>\n",
       "      <td>SELLER_0286</td>\n",
       "      <td>185.0</td>\n",
       "      <td>13.63</td>\n",
       "      <td>CUSTOMER_38995</td>\n",
       "      <td>2019-01-11 15:30:49</td>\n",
       "      <td>...</td>\n",
       "      <td>2019-02-02</td>\n",
       "      <td>397.26</td>\n",
       "      <td>sports_leisure</td>\n",
       "      <td>CUSTOMER_Unique_38397</td>\n",
       "      <td>6030</td>\n",
       "      <td>osasco</td>\n",
       "      <td>SP</td>\n",
       "      <td>14600</td>\n",
       "      <td>sao joaquim da barra</td>\n",
       "      <td>SP</td>\n",
       "    </tr>\n",
       "  </tbody>\n",
       "</table>\n",
       "<p>1 rows × 22 columns</p>\n",
       "</div>"
      ],
      "text/plain": [
       "      Review_id     Order_id  Review_score  Order_item_id     Product_id  \\\n",
       "0  REVIEW_00000  ORDER_01674             4              1  PRODUCT_21853   \n",
       "\n",
       "     Seller_id  Price  Freight_value     Customer_id Order_purchase_timestamp  \\\n",
       "0  SELLER_0286  185.0          13.63  CUSTOMER_38995      2019-01-11 15:30:49   \n",
       "\n",
       "   ... Order_estimated_delivery_date Payment_value Product_category_name  \\\n",
       "0  ...                    2019-02-02        397.26        sports_leisure   \n",
       "\n",
       "      Customer_unique_id Customer_zipcode_prefix Customer_city  \\\n",
       "0  CUSTOMER_Unique_38397                    6030        osasco   \n",
       "\n",
       "   Customer_state Seller_zipcode_prefix           Seller_city  Seller_state  \n",
       "0              SP                 14600  sao joaquim da barra            SP  \n",
       "\n",
       "[1 rows x 22 columns]"
      ]
     },
     "execution_count": 117,
     "metadata": {},
     "output_type": "execute_result"
    }
   ],
   "source": [
    "temp.head(1)"
   ]
  },
  {
   "cell_type": "code",
   "execution_count": 118,
   "id": "d1d66b19-ae7d-4dd0-b633-cf1d4d506604",
   "metadata": {},
   "outputs": [
    {
     "data": {
      "text/html": [
       "<div>\n",
       "<style scoped>\n",
       "    .dataframe tbody tr th:only-of-type {\n",
       "        vertical-align: middle;\n",
       "    }\n",
       "\n",
       "    .dataframe tbody tr th {\n",
       "        vertical-align: top;\n",
       "    }\n",
       "\n",
       "    .dataframe thead th {\n",
       "        text-align: right;\n",
       "    }\n",
       "</style>\n",
       "<table border=\"1\" class=\"dataframe\">\n",
       "  <thead>\n",
       "    <tr style=\"text-align: right;\">\n",
       "      <th></th>\n",
       "      <th>Geolocation_zipcode_prefix</th>\n",
       "      <th>Geolocation_lat</th>\n",
       "      <th>Geolocation_lng</th>\n",
       "      <th>Geolocation_city</th>\n",
       "      <th>Geolocation_state</th>\n",
       "    </tr>\n",
       "  </thead>\n",
       "  <tbody>\n",
       "    <tr>\n",
       "      <th>0</th>\n",
       "      <td>1037</td>\n",
       "      <td>-23.545621</td>\n",
       "      <td>-46.639292</td>\n",
       "      <td>sao paulo</td>\n",
       "      <td>SP</td>\n",
       "    </tr>\n",
       "  </tbody>\n",
       "</table>\n",
       "</div>"
      ],
      "text/plain": [
       "   Geolocation_zipcode_prefix  Geolocation_lat  Geolocation_lng  \\\n",
       "0                        1037       -23.545621       -46.639292   \n",
       "\n",
       "  Geolocation_city Geolocation_state  \n",
       "0        sao paulo                SP  "
      ]
     },
     "execution_count": 118,
     "metadata": {},
     "output_type": "execute_result"
    }
   ],
   "source": [
    "locations.head(1)"
   ]
  },
  {
   "cell_type": "code",
   "execution_count": 119,
   "id": "62a96d48-264c-4d08-8d5e-fb76c89875fa",
   "metadata": {},
   "outputs": [
    {
     "data": {
      "text/html": [
       "<div>\n",
       "<style scoped>\n",
       "    .dataframe tbody tr th:only-of-type {\n",
       "        vertical-align: middle;\n",
       "    }\n",
       "\n",
       "    .dataframe tbody tr th {\n",
       "        vertical-align: top;\n",
       "    }\n",
       "\n",
       "    .dataframe thead th {\n",
       "        text-align: right;\n",
       "    }\n",
       "</style>\n",
       "<table border=\"1\" class=\"dataframe\">\n",
       "  <thead>\n",
       "    <tr style=\"text-align: right;\">\n",
       "      <th></th>\n",
       "      <th>Review_id</th>\n",
       "      <th>Order_id</th>\n",
       "      <th>Review_score</th>\n",
       "      <th>Order_item_id</th>\n",
       "      <th>Product_id</th>\n",
       "      <th>Seller_id</th>\n",
       "      <th>Price</th>\n",
       "      <th>Freight_value</th>\n",
       "      <th>Customer_id</th>\n",
       "      <th>Order_purchase_timestamp</th>\n",
       "      <th>...</th>\n",
       "      <th>Order_estimated_delivery_date</th>\n",
       "      <th>Payment_value</th>\n",
       "      <th>Product_category_name</th>\n",
       "      <th>Customer_unique_id</th>\n",
       "      <th>Customer_zipcode_prefix</th>\n",
       "      <th>Customer_city</th>\n",
       "      <th>Customer_state</th>\n",
       "      <th>Seller_zipcode_prefix</th>\n",
       "      <th>Seller_city</th>\n",
       "      <th>Seller_state</th>\n",
       "    </tr>\n",
       "  </thead>\n",
       "  <tbody>\n",
       "    <tr>\n",
       "      <th>0</th>\n",
       "      <td>REVIEW_00000</td>\n",
       "      <td>ORDER_01674</td>\n",
       "      <td>4</td>\n",
       "      <td>1</td>\n",
       "      <td>PRODUCT_21853</td>\n",
       "      <td>SELLER_0286</td>\n",
       "      <td>185.0</td>\n",
       "      <td>13.63</td>\n",
       "      <td>CUSTOMER_38995</td>\n",
       "      <td>2019-01-11 15:30:49</td>\n",
       "      <td>...</td>\n",
       "      <td>2019-02-02</td>\n",
       "      <td>397.26</td>\n",
       "      <td>sports_leisure</td>\n",
       "      <td>CUSTOMER_Unique_38397</td>\n",
       "      <td>6030</td>\n",
       "      <td>osasco</td>\n",
       "      <td>SP</td>\n",
       "      <td>14600</td>\n",
       "      <td>sao joaquim da barra</td>\n",
       "      <td>SP</td>\n",
       "    </tr>\n",
       "  </tbody>\n",
       "</table>\n",
       "<p>1 rows × 22 columns</p>\n",
       "</div>"
      ],
      "text/plain": [
       "      Review_id     Order_id  Review_score  Order_item_id     Product_id  \\\n",
       "0  REVIEW_00000  ORDER_01674             4              1  PRODUCT_21853   \n",
       "\n",
       "     Seller_id  Price  Freight_value     Customer_id Order_purchase_timestamp  \\\n",
       "0  SELLER_0286  185.0          13.63  CUSTOMER_38995      2019-01-11 15:30:49   \n",
       "\n",
       "   ... Order_estimated_delivery_date Payment_value Product_category_name  \\\n",
       "0  ...                    2019-02-02        397.26        sports_leisure   \n",
       "\n",
       "      Customer_unique_id Customer_zipcode_prefix Customer_city  \\\n",
       "0  CUSTOMER_Unique_38397                    6030        osasco   \n",
       "\n",
       "   Customer_state Seller_zipcode_prefix           Seller_city  Seller_state  \n",
       "0              SP                 14600  sao joaquim da barra            SP  \n",
       "\n",
       "[1 rows x 22 columns]"
      ]
     },
     "execution_count": 119,
     "metadata": {},
     "output_type": "execute_result"
    }
   ],
   "source": [
    "temp.head(1)"
   ]
  },
  {
   "cell_type": "code",
   "execution_count": 120,
   "id": "5a4fd205-52a7-4710-8fb2-b312753f32e6",
   "metadata": {},
   "outputs": [],
   "source": [
    "# locations[locations.Geolocation_zipcode_prefix == 14600]\n",
    "# location 중복된 우편번호?\n",
    "# locations.Geolocation_zipcode_prefix.unique().size #19015\n",
    "# locations.shape #1000163\n",
    "# locations.Geolocation_zipcode_prefix.value_counts().reset_index()\n",
    "locations_group_lat=locations.groupby([\"Geolocation_zipcode_prefix\"])[\"Geolocation_lat\"].mean().reset_index()\n",
    "locations_group_lng=locations.groupby([\"Geolocation_zipcode_prefix\"])[\"Geolocation_lng\"].mean().reset_index()"
   ]
  },
  {
   "cell_type": "code",
   "execution_count": 121,
   "id": "081b0f20-e9ce-4e0a-b5c1-d3441c9753ec",
   "metadata": {},
   "outputs": [
    {
     "data": {
      "text/html": [
       "<div>\n",
       "<style scoped>\n",
       "    .dataframe tbody tr th:only-of-type {\n",
       "        vertical-align: middle;\n",
       "    }\n",
       "\n",
       "    .dataframe tbody tr th {\n",
       "        vertical-align: top;\n",
       "    }\n",
       "\n",
       "    .dataframe thead th {\n",
       "        text-align: right;\n",
       "    }\n",
       "</style>\n",
       "<table border=\"1\" class=\"dataframe\">\n",
       "  <thead>\n",
       "    <tr style=\"text-align: right;\">\n",
       "      <th></th>\n",
       "      <th>Geolocation_zipcode_prefix</th>\n",
       "      <th>Geolocation_lat</th>\n",
       "    </tr>\n",
       "  </thead>\n",
       "  <tbody>\n",
       "    <tr>\n",
       "      <th>0</th>\n",
       "      <td>1001</td>\n",
       "      <td>-23.55019</td>\n",
       "    </tr>\n",
       "  </tbody>\n",
       "</table>\n",
       "</div>"
      ],
      "text/plain": [
       "   Geolocation_zipcode_prefix  Geolocation_lat\n",
       "0                        1001        -23.55019"
      ]
     },
     "execution_count": 121,
     "metadata": {},
     "output_type": "execute_result"
    }
   ],
   "source": [
    "locations_group_lat.head(1)"
   ]
  },
  {
   "cell_type": "code",
   "execution_count": 122,
   "id": "b3383050-51a4-41e6-9553-b1402b750f8c",
   "metadata": {},
   "outputs": [],
   "source": [
    "locations_group =  pd.merge(locations_group_lat, locations_group_lng, how = 'inner', on=\"Geolocation_zipcode_prefix\")"
   ]
  },
  {
   "cell_type": "code",
   "execution_count": 123,
   "id": "19eed104-ff76-4b7e-96e7-a94239ffd7d0",
   "metadata": {},
   "outputs": [
    {
     "data": {
      "text/html": [
       "<div>\n",
       "<style scoped>\n",
       "    .dataframe tbody tr th:only-of-type {\n",
       "        vertical-align: middle;\n",
       "    }\n",
       "\n",
       "    .dataframe tbody tr th {\n",
       "        vertical-align: top;\n",
       "    }\n",
       "\n",
       "    .dataframe thead th {\n",
       "        text-align: right;\n",
       "    }\n",
       "</style>\n",
       "<table border=\"1\" class=\"dataframe\">\n",
       "  <thead>\n",
       "    <tr style=\"text-align: right;\">\n",
       "      <th></th>\n",
       "      <th>Geolocation_zipcode_prefix</th>\n",
       "      <th>Geolocation_lat</th>\n",
       "    </tr>\n",
       "  </thead>\n",
       "  <tbody>\n",
       "    <tr>\n",
       "      <th>3069</th>\n",
       "      <td>6030</td>\n",
       "      <td>-23.557079</td>\n",
       "    </tr>\n",
       "  </tbody>\n",
       "</table>\n",
       "</div>"
      ],
      "text/plain": [
       "      Geolocation_zipcode_prefix  Geolocation_lat\n",
       "3069                        6030       -23.557079"
      ]
     },
     "execution_count": 123,
     "metadata": {},
     "output_type": "execute_result"
    }
   ],
   "source": [
    "# 6030\n",
    "locations_group_lat[locations_group_lat.Geolocation_zipcode_prefix==6030]"
   ]
  },
  {
   "cell_type": "code",
   "execution_count": 124,
   "id": "69013301-3108-41d1-8b6f-b0ca1d57edec",
   "metadata": {},
   "outputs": [],
   "source": [
    "temp = pd.merge(temp, locations_group, left_on = 'Customer_zipcode_prefix', right_on = 'Geolocation_zipcode_prefix', how = 'inner')"
   ]
  },
  {
   "cell_type": "code",
   "execution_count": 125,
   "id": "8616b686-64f7-4d66-a7c9-0c22b3de55cc",
   "metadata": {},
   "outputs": [
    {
     "data": {
      "text/html": [
       "<div>\n",
       "<style scoped>\n",
       "    .dataframe tbody tr th:only-of-type {\n",
       "        vertical-align: middle;\n",
       "    }\n",
       "\n",
       "    .dataframe tbody tr th {\n",
       "        vertical-align: top;\n",
       "    }\n",
       "\n",
       "    .dataframe thead th {\n",
       "        text-align: right;\n",
       "    }\n",
       "</style>\n",
       "<table border=\"1\" class=\"dataframe\">\n",
       "  <thead>\n",
       "    <tr style=\"text-align: right;\">\n",
       "      <th></th>\n",
       "      <th>Review_id</th>\n",
       "      <th>Order_id</th>\n",
       "      <th>Review_score</th>\n",
       "      <th>Order_item_id</th>\n",
       "      <th>Product_id</th>\n",
       "      <th>Seller_id</th>\n",
       "      <th>Price</th>\n",
       "      <th>Freight_value</th>\n",
       "      <th>Customer_id</th>\n",
       "      <th>Order_purchase_timestamp</th>\n",
       "      <th>...</th>\n",
       "      <th>Customer_unique_id</th>\n",
       "      <th>Customer_zipcode_prefix</th>\n",
       "      <th>Customer_city</th>\n",
       "      <th>Customer_state</th>\n",
       "      <th>Seller_zipcode_prefix</th>\n",
       "      <th>Seller_city</th>\n",
       "      <th>Seller_state</th>\n",
       "      <th>Geolocation_zipcode_prefix</th>\n",
       "      <th>Geolocation_lat</th>\n",
       "      <th>Geolocation_lng</th>\n",
       "    </tr>\n",
       "  </thead>\n",
       "  <tbody>\n",
       "    <tr>\n",
       "      <th>0</th>\n",
       "      <td>REVIEW_00000</td>\n",
       "      <td>ORDER_01674</td>\n",
       "      <td>4</td>\n",
       "      <td>1</td>\n",
       "      <td>PRODUCT_21853</td>\n",
       "      <td>SELLER_0286</td>\n",
       "      <td>185.0</td>\n",
       "      <td>13.63</td>\n",
       "      <td>CUSTOMER_38995</td>\n",
       "      <td>2019-01-11 15:30:49</td>\n",
       "      <td>...</td>\n",
       "      <td>CUSTOMER_Unique_38397</td>\n",
       "      <td>6030</td>\n",
       "      <td>osasco</td>\n",
       "      <td>SP</td>\n",
       "      <td>14600</td>\n",
       "      <td>sao joaquim da barra</td>\n",
       "      <td>SP</td>\n",
       "      <td>6030</td>\n",
       "      <td>-23.557079</td>\n",
       "      <td>-46.767579</td>\n",
       "    </tr>\n",
       "  </tbody>\n",
       "</table>\n",
       "<p>1 rows × 25 columns</p>\n",
       "</div>"
      ],
      "text/plain": [
       "      Review_id     Order_id  Review_score  Order_item_id     Product_id  \\\n",
       "0  REVIEW_00000  ORDER_01674             4              1  PRODUCT_21853   \n",
       "\n",
       "     Seller_id  Price  Freight_value     Customer_id Order_purchase_timestamp  \\\n",
       "0  SELLER_0286  185.0          13.63  CUSTOMER_38995      2019-01-11 15:30:49   \n",
       "\n",
       "   ...     Customer_unique_id Customer_zipcode_prefix Customer_city  \\\n",
       "0  ...  CUSTOMER_Unique_38397                    6030        osasco   \n",
       "\n",
       "   Customer_state Seller_zipcode_prefix           Seller_city  Seller_state  \\\n",
       "0              SP                 14600  sao joaquim da barra            SP   \n",
       "\n",
       "  Geolocation_zipcode_prefix Geolocation_lat  Geolocation_lng  \n",
       "0                       6030      -23.557079       -46.767579  \n",
       "\n",
       "[1 rows x 25 columns]"
      ]
     },
     "execution_count": 125,
     "metadata": {},
     "output_type": "execute_result"
    }
   ],
   "source": [
    "temp.head(1)"
   ]
  },
  {
   "cell_type": "code",
   "execution_count": 126,
   "id": "e8cc5976-c22c-45d6-abe5-f3fdc427ab76",
   "metadata": {},
   "outputs": [
    {
     "data": {
      "text/html": [
       "<div>\n",
       "<style scoped>\n",
       "    .dataframe tbody tr th:only-of-type {\n",
       "        vertical-align: middle;\n",
       "    }\n",
       "\n",
       "    .dataframe tbody tr th {\n",
       "        vertical-align: top;\n",
       "    }\n",
       "\n",
       "    .dataframe thead th {\n",
       "        text-align: right;\n",
       "    }\n",
       "</style>\n",
       "<table border=\"1\" class=\"dataframe\">\n",
       "  <thead>\n",
       "    <tr style=\"text-align: right;\">\n",
       "      <th></th>\n",
       "      <th>Review_id</th>\n",
       "      <th>Order_id</th>\n",
       "      <th>Review_score</th>\n",
       "      <th>Order_item_id</th>\n",
       "      <th>Product_id</th>\n",
       "      <th>Seller_id</th>\n",
       "      <th>Price</th>\n",
       "      <th>Freight_value</th>\n",
       "      <th>Customer_id</th>\n",
       "      <th>Order_purchase_timestamp</th>\n",
       "      <th>...</th>\n",
       "      <th>Customer_unique_id</th>\n",
       "      <th>Customer_zipcode_prefix</th>\n",
       "      <th>Customer_city</th>\n",
       "      <th>Customer_state</th>\n",
       "      <th>Seller_zipcode_prefix</th>\n",
       "      <th>Seller_city</th>\n",
       "      <th>Seller_state</th>\n",
       "      <th>Geolocation_zipcode_prefix</th>\n",
       "      <th>Customer_lat</th>\n",
       "      <th>Customer_lng</th>\n",
       "    </tr>\n",
       "  </thead>\n",
       "  <tbody>\n",
       "    <tr>\n",
       "      <th>0</th>\n",
       "      <td>REVIEW_00000</td>\n",
       "      <td>ORDER_01674</td>\n",
       "      <td>4</td>\n",
       "      <td>1</td>\n",
       "      <td>PRODUCT_21853</td>\n",
       "      <td>SELLER_0286</td>\n",
       "      <td>185.0</td>\n",
       "      <td>13.63</td>\n",
       "      <td>CUSTOMER_38995</td>\n",
       "      <td>2019-01-11 15:30:49</td>\n",
       "      <td>...</td>\n",
       "      <td>CUSTOMER_Unique_38397</td>\n",
       "      <td>6030</td>\n",
       "      <td>osasco</td>\n",
       "      <td>SP</td>\n",
       "      <td>14600</td>\n",
       "      <td>sao joaquim da barra</td>\n",
       "      <td>SP</td>\n",
       "      <td>6030</td>\n",
       "      <td>-23.557079</td>\n",
       "      <td>-46.767579</td>\n",
       "    </tr>\n",
       "  </tbody>\n",
       "</table>\n",
       "<p>1 rows × 25 columns</p>\n",
       "</div>"
      ],
      "text/plain": [
       "      Review_id     Order_id  Review_score  Order_item_id     Product_id  \\\n",
       "0  REVIEW_00000  ORDER_01674             4              1  PRODUCT_21853   \n",
       "\n",
       "     Seller_id  Price  Freight_value     Customer_id Order_purchase_timestamp  \\\n",
       "0  SELLER_0286  185.0          13.63  CUSTOMER_38995      2019-01-11 15:30:49   \n",
       "\n",
       "   ...     Customer_unique_id Customer_zipcode_prefix Customer_city  \\\n",
       "0  ...  CUSTOMER_Unique_38397                    6030        osasco   \n",
       "\n",
       "   Customer_state Seller_zipcode_prefix           Seller_city  Seller_state  \\\n",
       "0              SP                 14600  sao joaquim da barra            SP   \n",
       "\n",
       "  Geolocation_zipcode_prefix Customer_lat  Customer_lng  \n",
       "0                       6030   -23.557079    -46.767579  \n",
       "\n",
       "[1 rows x 25 columns]"
      ]
     },
     "execution_count": 126,
     "metadata": {},
     "output_type": "execute_result"
    }
   ],
   "source": [
    "temp = temp.rename(columns={'Geolocation_lat':'Customer_lat',\"Geolocation_lng\" : \"Customer_lng\" })\n",
    "temp.head(1)"
   ]
  },
  {
   "cell_type": "code",
   "execution_count": 127,
   "id": "b638945b-578d-473e-bb7c-3acbd3ab501b",
   "metadata": {},
   "outputs": [],
   "source": [
    "# temp.head(1)"
   ]
  },
  {
   "cell_type": "code",
   "execution_count": 128,
   "id": "4142e6be-b260-4be0-8093-58989cb10843",
   "metadata": {},
   "outputs": [],
   "source": [
    "# locations_group_lat=locations.groupby([\"Geolocation_zipcode_prefix\"])[\"Geolocation_lat\"].mean().reset_index()\n",
    "# locations_group_lng=locations.groupby([\"Geolocation_zipcode_prefix\"])[\"Geolocation_lng\"].mean().reset_index()\n",
    "# locations_group =  pd.merge(locations_group_lat, locations_group_lng, how = 'inner', on=\"Geolocation_zipcode_prefix\")\n",
    "temp = pd.merge(temp, locations_group, left_on = 'Seller_zipcode_prefix', right_on = 'Geolocation_zipcode_prefix', how = 'inner')\n",
    "temp = temp.rename(columns={'Geolocation_lat':'Seller_lat',\"Geolocation_lng\" : \"Seller_lng\" })"
   ]
  },
  {
   "cell_type": "code",
   "execution_count": 129,
   "id": "49c62e80-e038-4a86-900c-c4fa96a87d9f",
   "metadata": {},
   "outputs": [
    {
     "data": {
      "text/plain": [
       "Index(['Review_id', 'Order_id', 'Review_score', 'Order_item_id', 'Product_id',\n",
       "       'Seller_id', 'Price', 'Freight_value', 'Customer_id',\n",
       "       'Order_purchase_timestamp', 'Order_delivered_carrier_date',\n",
       "       'Order_delivered_customer_date', 'Order_estimated_delivery_date',\n",
       "       'Payment_value', 'Product_category_name', 'Customer_unique_id',\n",
       "       'Customer_zipcode_prefix', 'Customer_city', 'Customer_state',\n",
       "       'Seller_zipcode_prefix', 'Seller_city', 'Seller_state',\n",
       "       'Geolocation_zipcode_prefix_x', 'Customer_lat', 'Customer_lng',\n",
       "       'Geolocation_zipcode_prefix_y', 'Seller_lat', 'Seller_lng'],\n",
       "      dtype='object')"
      ]
     },
     "execution_count": 129,
     "metadata": {},
     "output_type": "execute_result"
    }
   ],
   "source": [
    "temp.columns"
   ]
  },
  {
   "cell_type": "code",
   "execution_count": 130,
   "id": "ce91806a-d4ff-45a7-b988-cefffb0b7cdf",
   "metadata": {},
   "outputs": [],
   "source": [
    "temp.drop([\"Geolocation_zipcode_prefix_x\",\"Geolocation_zipcode_prefix_y\",\"Customer_zipcode_prefix\", \"Seller_zipcode_prefix\"], axis=1,inplace=True)"
   ]
  },
  {
   "cell_type": "code",
   "execution_count": 131,
   "id": "7f9cdb1f-a6fe-4fdd-87f9-a3d1dcfd48b9",
   "metadata": {},
   "outputs": [
    {
     "data": {
      "text/plain": [
       "Index(['Review_id', 'Order_id', 'Review_score', 'Order_item_id', 'Product_id',\n",
       "       'Seller_id', 'Price', 'Freight_value', 'Customer_id',\n",
       "       'Order_purchase_timestamp', 'Order_delivered_carrier_date',\n",
       "       'Order_delivered_customer_date', 'Order_estimated_delivery_date',\n",
       "       'Payment_value', 'Product_category_name', 'Customer_unique_id',\n",
       "       'Customer_city', 'Customer_state', 'Seller_city', 'Seller_state',\n",
       "       'Customer_lat', 'Customer_lng', 'Seller_lat', 'Seller_lng'],\n",
       "      dtype='object')"
      ]
     },
     "execution_count": 131,
     "metadata": {},
     "output_type": "execute_result"
    }
   ],
   "source": [
    "temp.columns"
   ]
  },
  {
   "cell_type": "code",
   "execution_count": 132,
   "id": "a4d1d14e-78ce-47bd-a1f7-7a123852dbc9",
   "metadata": {},
   "outputs": [
    {
     "data": {
      "text/plain": [
       "<bound method DataFrame.drop of            Review_id     Order_id  Review_score  Order_item_id     Product_id  \\\n",
       "0       REVIEW_00000  ORDER_01674             4              1  PRODUCT_21853   \n",
       "1       REVIEW_00000  ORDER_01674             4              2  PRODUCT_21853   \n",
       "2       REVIEW_00001  ORDER_80140             5              1  PRODUCT_18124   \n",
       "3       REVIEW_00002  ORDER_69816             5              1  PRODUCT_07372   \n",
       "4       REVIEW_00003  ORDER_24398             5              1  PRODUCT_22159   \n",
       "...              ...          ...           ...            ...            ...   \n",
       "104431  REVIEW_87298  ORDER_58840             5              1  PRODUCT_25263   \n",
       "104432  REVIEW_87299  ORDER_75162             5              1  PRODUCT_03024   \n",
       "104433  REVIEW_87300  ORDER_08690             5              1  PRODUCT_24946   \n",
       "104434  REVIEW_87301  ORDER_25681             4              1  PRODUCT_20058   \n",
       "104435  REVIEW_87302  ORDER_45326             1              1  PRODUCT_01615   \n",
       "\n",
       "          Seller_id   Price  Freight_value     Customer_id  \\\n",
       "0       SELLER_0286  185.00          13.63  CUSTOMER_38995   \n",
       "1       SELLER_0286  185.00          13.63  CUSTOMER_38995   \n",
       "2       SELLER_0262   79.79           8.30  CUSTOMER_81808   \n",
       "3       SELLER_2445  149.00          45.12  CUSTOMER_27108   \n",
       "4       SELLER_2445  179.99          42.85  CUSTOMER_62103   \n",
       "...             ...     ...            ...             ...   \n",
       "104431  SELLER_0766  226.77          61.20  CUSTOMER_06636   \n",
       "104432  SELLER_2634  199.99           9.77  CUSTOMER_48218   \n",
       "104433  SELLER_1192  215.97          15.59  CUSTOMER_86112   \n",
       "104434  SELLER_0642   50.95          15.46  CUSTOMER_54637   \n",
       "104435  SELLER_1845   32.90           7.78  CUSTOMER_83783   \n",
       "\n",
       "       Order_purchase_timestamp  ...  Product_category_name  \\\n",
       "0           2019-01-11 15:30:49  ...         sports_leisure   \n",
       "1           2019-01-11 15:30:49  ...         sports_leisure   \n",
       "2           2019-02-28 12:25:19  ...  computers_accessories   \n",
       "3           2019-02-03 09:56:22  ...  computers_accessories   \n",
       "4           2018-04-09 17:41:13  ...           garden_tools   \n",
       "...                         ...  ...                    ...   \n",
       "104431      2019-06-27 17:31:29  ...        furniture_decor   \n",
       "104432      2018-12-03 21:45:23  ...                   toys   \n",
       "104433      2019-03-18 09:52:19  ...             stationery   \n",
       "104434      2019-06-22 16:47:28  ...         sports_leisure   \n",
       "104435      2018-06-29 10:43:25  ...  computers_accessories   \n",
       "\n",
       "           Customer_unique_id           Customer_city  Customer_state  \\\n",
       "0       CUSTOMER_Unique_38397                  osasco              SP   \n",
       "1       CUSTOMER_Unique_38397                  osasco              SP   \n",
       "2       CUSTOMER_Unique_79322             nova odessa              SP   \n",
       "3       CUSTOMER_Unique_26812  santo antonio de jesus              BA   \n",
       "4       CUSTOMER_Unique_60663                gravatal              SC   \n",
       "...                       ...                     ...             ...   \n",
       "104431  CUSTOMER_Unique_06622                 goiania              GO   \n",
       "104432  CUSTOMER_Unique_47339          rio de janeiro              RJ   \n",
       "104433  CUSTOMER_Unique_83387                  lavras              MG   \n",
       "104434  CUSTOMER_Unique_53535                   betim              MG   \n",
       "104435  CUSTOMER_Unique_81189               guarulhos              SP   \n",
       "\n",
       "                  Seller_city Seller_state Customer_lat Customer_lng  \\\n",
       "0        sao joaquim da barra           SP   -23.557079   -46.767579   \n",
       "1        sao joaquim da barra           SP   -23.557079   -46.767579   \n",
       "2         sao jose dos campos           SP   -22.785779   -47.312537   \n",
       "3                    ilicinea           MG   -12.967176   -39.243114   \n",
       "4                    ilicinea           MG   -28.328525   -49.049950   \n",
       "...                       ...          ...          ...          ...   \n",
       "104431            santo andre           SP   -16.701907   -49.239576   \n",
       "104432         rio de janeiro           RJ   -23.000619   -43.404718   \n",
       "104433                  betim           MG   -21.244709   -44.999202   \n",
       "104434  sao bernardo do campo           SP   -19.965626   -44.138683   \n",
       "104435              sao paulo           SP   -23.427721   -46.548094   \n",
       "\n",
       "       Seller_lat Seller_lng  \n",
       "0      -20.585751 -47.863693  \n",
       "1      -20.585751 -47.863693  \n",
       "2      -23.246681 -45.886909  \n",
       "3      -20.940578 -45.827237  \n",
       "4      -20.940578 -45.827237  \n",
       "...           ...        ...  \n",
       "104431 -23.640564 -46.494432  \n",
       "104432 -22.935263 -43.187264  \n",
       "104433 -19.943004 -44.113624  \n",
       "104434 -23.715050 -46.537268  \n",
       "104435 -23.716916 -46.694693  \n",
       "\n",
       "[104436 rows x 24 columns]>"
      ]
     },
     "execution_count": 132,
     "metadata": {},
     "output_type": "execute_result"
    }
   ],
   "source": [
    "temp.drop"
   ]
  },
  {
   "cell_type": "code",
   "execution_count": null,
   "id": "25a66f78-abfa-478d-a6a9-44258b365565",
   "metadata": {},
   "outputs": [],
   "source": []
  },
  {
   "cell_type": "code",
   "execution_count": 133,
   "id": "10faa490-2bed-4814-bf89-f51d92a0fc21",
   "metadata": {},
   "outputs": [],
   "source": [
    "temp[\"Distance\"] = ((temp[\"Customer_lat\"] - temp[\"Seller_lat\"])**2 + (temp[\"Customer_lng\"] - temp[\"Seller_lng\"])**2) **(1/2)"
   ]
  },
  {
   "cell_type": "code",
   "execution_count": 134,
   "id": "ed4d6267-641a-410e-95c5-de43ba0c3ff1",
   "metadata": {},
   "outputs": [
    {
     "data": {
      "text/plain": [
       "0          3.167057\n",
       "1          3.167057\n",
       "2          1.498281\n",
       "3         10.340494\n",
       "4          8.060251\n",
       "            ...    \n",
       "104431     7.461955\n",
       "104432     0.227064\n",
       "104433     1.574384\n",
       "104434     4.450999\n",
       "104435     0.324230\n",
       "Name: Distance, Length: 104436, dtype: float64"
      ]
     },
     "execution_count": 134,
     "metadata": {},
     "output_type": "execute_result"
    }
   ],
   "source": [
    "temp[\"Distance\"]"
   ]
  },
  {
   "cell_type": "code",
   "execution_count": 135,
   "id": "8a0b64e9-6559-47e3-88cd-d01f180e3169",
   "metadata": {},
   "outputs": [
    {
     "data": {
      "text/plain": [
       "Review_id                                 REVIEW_00000\n",
       "Order_id                                   ORDER_01674\n",
       "Review_score                                         4\n",
       "Order_item_id                                        2\n",
       "Product_id                               PRODUCT_21853\n",
       "Seller_id                                  SELLER_0286\n",
       "Price                                            185.0\n",
       "Freight_value                                    13.63\n",
       "Customer_id                             CUSTOMER_38995\n",
       "Order_purchase_timestamp           2019-01-11 15:30:49\n",
       "Order_delivered_carrier_date       2019-01-12 21:57:22\n",
       "Order_delivered_customer_date      2019-01-17 18:42:41\n",
       "Order_estimated_delivery_date               2019-02-02\n",
       "Payment_value                                   397.26\n",
       "Product_category_name                   sports_leisure\n",
       "Customer_unique_id               CUSTOMER_Unique_38397\n",
       "Customer_city                                   osasco\n",
       "Customer_state                                      SP\n",
       "Seller_city                       sao joaquim da barra\n",
       "Seller_state                                        SP\n",
       "Customer_lat                                -23.557079\n",
       "Customer_lng                                -46.767579\n",
       "Seller_lat                                  -20.585751\n",
       "Seller_lng                                  -47.863693\n",
       "Distance                                      3.167057\n",
       "Name: 1, dtype: object"
      ]
     },
     "execution_count": 135,
     "metadata": {},
     "output_type": "execute_result"
    }
   ],
   "source": [
    "temp.iloc[1]"
   ]
  },
  {
   "cell_type": "code",
   "execution_count": 149,
   "id": "d3a2063e-2cdd-443c-9690-ace45124b2e2",
   "metadata": {},
   "outputs": [],
   "source": [
    "# temp[temp.Distance==0] # 21개"
   ]
  },
  {
   "cell_type": "code",
   "execution_count": 150,
   "id": "e85a7a12-432b-45a1-b235-6a3d3a985c82",
   "metadata": {},
   "outputs": [],
   "source": [
    "# temp[temp.Freight_value==0] #384"
   ]
  },
  {
   "cell_type": "code",
   "execution_count": 146,
   "id": "03aba2be-9471-4cba-bb61-245dbbad22cd",
   "metadata": {},
   "outputs": [
    {
     "data": {
      "text/plain": [
       "count    104436.000000\n",
       "mean          5.549639\n",
       "std           5.326405\n",
       "min           0.000000\n",
       "25%           1.843026\n",
       "50%           4.096384\n",
       "75%           7.381872\n",
       "max          48.219429\n",
       "Name: Distance, dtype: float64"
      ]
     },
     "execution_count": 146,
     "metadata": {},
     "output_type": "execute_result"
    }
   ],
   "source": [
    "temp[\"Distance\"].describe()"
   ]
  },
  {
   "cell_type": "code",
   "execution_count": 137,
   "id": "e754e817-1b02-4119-9c06-53a730d4477b",
   "metadata": {},
   "outputs": [],
   "source": [
    "try:\n",
    "    if temp[\"Distance\"]==0:\n",
    "        temp[\"Pay_distance\"] = \n",
    "\n",
    "temp[\"Pay_distance\"] = temp[\"Freight_value\"] / temp[\"Distance\"]\n",
    "#5km 에 3000원이면 1km 600원인건지 "
   ]
  },
  {
   "cell_type": "code",
   "execution_count": 143,
   "id": "08da885d-def8-4908-8958-29701194affb",
   "metadata": {},
   "outputs": [],
   "source": [
    "pay_distance_list = temp.Pay_distance.tolist()"
   ]
  },
  {
   "cell_type": "code",
   "execution_count": 145,
   "id": "3bd5e208-3674-499e-8a51-6c76e39488d8",
   "metadata": {},
   "outputs": [
    {
     "data": {
      "text/plain": [
       "inf"
      ]
     },
     "execution_count": 145,
     "metadata": {},
     "output_type": "execute_result"
    }
   ],
   "source": [
    "np.mean(np.array(pay_distance_list))"
   ]
  },
  {
   "cell_type": "code",
   "execution_count": null,
   "id": "d2b50a65-7b84-49de-a4ab-fb714b6f45fd",
   "metadata": {},
   "outputs": [],
   "source": [
    "# 판매자 위도경도 구입자 위도경도 거리차이 운임\n",
    "# 무게랑 거리 효율성체크해봐야겟다.\n",
    "# 센터를 늘리거나, 중간 거점\n",
    "# 배송 비용\n",
    "# 운임 비용이 비싸서 손해가 발생한 거라면, \n",
    "# 배송 거리가 멀어서 운임 비용이 비싸진 거라면, 가까운 지역에 구매를 유도하자"
   ]
  },
  {
   "cell_type": "code",
   "execution_count": null,
   "id": "b65ed875-696f-4bde-a8bd-f89dbc2862de",
   "metadata": {},
   "outputs": [],
   "source": []
  }
 ],
 "metadata": {
  "kernelspec": {
   "display_name": "Python 3 (ipykernel)",
   "language": "python",
   "name": "python3"
  },
  "language_info": {
   "codemirror_mode": {
    "name": "ipython",
    "version": 3
   },
   "file_extension": ".py",
   "mimetype": "text/x-python",
   "name": "python",
   "nbconvert_exporter": "python",
   "pygments_lexer": "ipython3",
   "version": "3.10.12"
  }
 },
 "nbformat": 4,
 "nbformat_minor": 5
}
