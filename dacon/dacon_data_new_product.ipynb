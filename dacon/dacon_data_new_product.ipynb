{
 "cells": [
  {
   "cell_type": "code",
   "execution_count": 1,
   "id": "24a32b06-d07c-4ee8-a1e8-355ebb1e1e3f",
   "metadata": {},
   "outputs": [],
   "source": [
    "import pandas as pd\n",
    "import numpy as np\n",
    "import matplotlib.pyplot as plt\n",
    "import seaborn as sns\n",
    "from datetime import datetime\n",
    "import warnings\n",
    "warnings.simplefilter(action='ignore', category=FutureWarning)\n",
    "\n",
    "#데이터읽기\n",
    "customers = pd.read_csv('./dacon_data/open/customers.csv')\n",
    "locations = pd.read_csv('./dacon_data/open/locations.csv')\n",
    "orders = pd.read_csv('./dacon_data/open/orders.csv')\n",
    "order_items = pd.read_csv('./dacon_data/open/order_items.csv')\n",
    "payments = pd.read_csv('./dacon_data/open/payments.csv')\n",
    "products = pd.read_csv('./dacon_data/open/products.csv')\n",
    "reviews = pd.read_csv('./dacon_data/open/reviews.csv')\n",
    "sellers = pd.read_csv('./dacon_data/open/sellers.csv')\n",
    "# 데이터 merge하기\n",
    "temp = pd.merge(reviews,order_items, how='inner',on='Order_id')\n",
    "temp = pd.merge(temp,orders, how='inner',on='Order_id')\n",
    "temp = pd.merge(temp,payments, how='inner',on='Order_id')\n",
    "temp = pd.merge(temp,products, how='inner',on='Product_id')\n",
    "temp = pd.merge(temp,customers, how='inner',on='Customer_id')\n",
    "temp = pd.merge(temp,sellers, how='inner',on='Seller_id')"
   ]
  },
  {
   "cell_type": "code",
   "execution_count": 2,
   "id": "e80fb270-febe-49b6-8e17-65d5a798a523",
   "metadata": {},
   "outputs": [
    {
     "data": {
      "text/plain": [
       "(104956, 32)"
      ]
     },
     "execution_count": 2,
     "metadata": {},
     "output_type": "execute_result"
    }
   ],
   "source": [
    "temp.shape"
   ]
  },
  {
   "cell_type": "code",
   "execution_count": 82,
   "id": "29819894-991d-40aa-9ddb-4195a7030d0b",
   "metadata": {},
   "outputs": [],
   "source": [
    "# date 타입으로 변환\n",
    "temp['Order_purchase_timestamp']=pd.to_datetime(temp['Order_purchase_timestamp'])\n",
    "temp['Order_delivered_carrier_date']=pd.to_datetime(temp['Order_delivered_carrier_date'])\n",
    "temp['Order_delivered_customer_date']=pd.to_datetime(temp['Order_delivered_customer_date'])\n",
    "temp['Order_estimated_delivery_date']=pd.to_datetime(temp['Order_estimated_delivery_date'])\n",
    "# temp[['Order_delivered_carrier_date','Order_delivered_customer_date',\"Order_purchase_timestamp\"]] = temp[['Order_delivered_carrier_date','Order_delivered_customer_date',\"Order_purchase_timestamp\"]].apply(pd.to_datetime)"
   ]
  },
  {
   "cell_type": "code",
   "execution_count": 83,
   "id": "2b684535-1496-47b9-9fb5-b4b567a6be88",
   "metadata": {},
   "outputs": [],
   "source": [
    "temp['YearMonth'] = temp['Order_purchase_timestamp'].dt.strftime('%Y%m') #월별로 분류` "
   ]
  },
  {
   "cell_type": "code",
   "execution_count": null,
   "id": "e650d81e-6c57-4597-bc15-0572a597535e",
   "metadata": {},
   "outputs": [],
   "source": []
  },
  {
   "cell_type": "code",
   "execution_count": 84,
   "id": "88e08117-9a8d-4242-9511-4c657089f153",
   "metadata": {},
   "outputs": [],
   "source": [
    "temp = temp.drop([\"Review_id\",\"Order_id\",\"Review_creation_date\",\"Review_answer_timestamp\",\"Order_item_id\",\"Product_id\",\"Seller_id\"],axis=1)"
   ]
  },
  {
   "cell_type": "code",
   "execution_count": 85,
   "id": "11fb3519-fe51-4371-aa0e-95965992cfc9",
   "metadata": {},
   "outputs": [],
   "source": [
    "temp = temp.drop([\"Customer_id\",\"Order_status\",\"Order_purchase_timestamp\",\"Order_delivered_carrier_date\",\"Order_delivered_customer_date\",\"Order_estimated_delivery_date\",\"Payment_sequential\"],axis=1)"
   ]
  },
  {
   "cell_type": "code",
   "execution_count": 86,
   "id": "c1b1cab0-ece3-4101-8d43-ce3634265028",
   "metadata": {},
   "outputs": [],
   "source": [
    "temp = temp.drop([\"Payment_installments\",\"Payment_type\",\"Product_weight_g\",\"Product_length_cm\",\"Product_height_cm\",\"Product_width_cm\",\"Customer_unique_id\"],axis=1)"
   ]
  },
  {
   "cell_type": "code",
   "execution_count": 87,
   "id": "8d7899f6-5076-4775-96fd-4955f4e69804",
   "metadata": {},
   "outputs": [],
   "source": [
    "temp = temp.drop([\"Seller_state\",\"Seller_city\",\"Seller_zipcode_prefix\",\"Customer_state\",\"Customer_city\",\"Customer_zipcode_prefix\"],axis=1)"
   ]
  },
  {
   "cell_type": "code",
   "execution_count": 88,
   "id": "b60ef5be-c37a-41b7-b3e8-2c20c4b1fcaa",
   "metadata": {},
   "outputs": [
    {
     "data": {
      "text/plain": [
       "Index(['Review_score', 'Price', 'Freight_value', 'Payment_value',\n",
       "       'Product_category_name', 'YearMonth'],\n",
       "      dtype='object')"
      ]
     },
     "execution_count": 88,
     "metadata": {},
     "output_type": "execute_result"
    }
   ],
   "source": [
    "temp.columns"
   ]
  },
  {
   "cell_type": "code",
   "execution_count": 89,
   "id": "9157377c-ad0e-4ea0-a3ef-aaeb900bd61e",
   "metadata": {},
   "outputs": [
    {
     "data": {
      "text/html": [
       "<div>\n",
       "<style scoped>\n",
       "    .dataframe tbody tr th:only-of-type {\n",
       "        vertical-align: middle;\n",
       "    }\n",
       "\n",
       "    .dataframe tbody tr th {\n",
       "        vertical-align: top;\n",
       "    }\n",
       "\n",
       "    .dataframe thead th {\n",
       "        text-align: right;\n",
       "    }\n",
       "</style>\n",
       "<table border=\"1\" class=\"dataframe\">\n",
       "  <thead>\n",
       "    <tr style=\"text-align: right;\">\n",
       "      <th></th>\n",
       "      <th>Review_score</th>\n",
       "      <th>Price</th>\n",
       "      <th>Freight_value</th>\n",
       "      <th>Payment_value</th>\n",
       "      <th>Product_category_name</th>\n",
       "      <th>YearMonth</th>\n",
       "    </tr>\n",
       "  </thead>\n",
       "  <tbody>\n",
       "    <tr>\n",
       "      <th>0</th>\n",
       "      <td>4</td>\n",
       "      <td>185.0</td>\n",
       "      <td>13.63</td>\n",
       "      <td>397.26</td>\n",
       "      <td>sports_leisure</td>\n",
       "      <td>201901</td>\n",
       "    </tr>\n",
       "  </tbody>\n",
       "</table>\n",
       "</div>"
      ],
      "text/plain": [
       "   Review_score  Price  Freight_value  Payment_value Product_category_name  \\\n",
       "0             4  185.0          13.63         397.26        sports_leisure   \n",
       "\n",
       "  YearMonth  \n",
       "0    201901  "
      ]
     },
     "execution_count": 89,
     "metadata": {},
     "output_type": "execute_result"
    }
   ],
   "source": [
    "temp.head(1)"
   ]
  },
  {
   "cell_type": "code",
   "execution_count": 90,
   "id": "899c330d-ab81-42fb-b6e3-da57ffe21714",
   "metadata": {},
   "outputs": [],
   "source": [
    "temp_group_product_month = temp.groupby([\"Product_category_name\",\"YearMonth\"])[[\"Price\",\"Payment_value\"]].sum().reset_index()"
   ]
  },
  {
   "cell_type": "code",
   "execution_count": 91,
   "id": "3fb69403-2210-45e7-94e8-c7f1480261a8",
   "metadata": {},
   "outputs": [
    {
     "data": {
      "text/html": [
       "<div>\n",
       "<style scoped>\n",
       "    .dataframe tbody tr th:only-of-type {\n",
       "        vertical-align: middle;\n",
       "    }\n",
       "\n",
       "    .dataframe tbody tr th {\n",
       "        vertical-align: top;\n",
       "    }\n",
       "\n",
       "    .dataframe thead th {\n",
       "        text-align: right;\n",
       "    }\n",
       "</style>\n",
       "<table border=\"1\" class=\"dataframe\">\n",
       "  <thead>\n",
       "    <tr style=\"text-align: right;\">\n",
       "      <th></th>\n",
       "      <th>Product_category_name</th>\n",
       "      <th>YearMonth</th>\n",
       "      <th>Price</th>\n",
       "      <th>Payment_value</th>\n",
       "    </tr>\n",
       "  </thead>\n",
       "  <tbody>\n",
       "    <tr>\n",
       "      <th>0</th>\n",
       "      <td>Unknown</td>\n",
       "      <td>201710</td>\n",
       "      <td>65.89</td>\n",
       "      <td>95.92</td>\n",
       "    </tr>\n",
       "    <tr>\n",
       "      <th>1</th>\n",
       "      <td>Unknown</td>\n",
       "      <td>201801</td>\n",
       "      <td>1603.64</td>\n",
       "      <td>1928.49</td>\n",
       "    </tr>\n",
       "    <tr>\n",
       "      <th>2</th>\n",
       "      <td>Unknown</td>\n",
       "      <td>201802</td>\n",
       "      <td>8517.92</td>\n",
       "      <td>10345.63</td>\n",
       "    </tr>\n",
       "    <tr>\n",
       "      <th>3</th>\n",
       "      <td>Unknown</td>\n",
       "      <td>201803</td>\n",
       "      <td>6920.95</td>\n",
       "      <td>8774.41</td>\n",
       "    </tr>\n",
       "    <tr>\n",
       "      <th>4</th>\n",
       "      <td>Unknown</td>\n",
       "      <td>201804</td>\n",
       "      <td>9923.90</td>\n",
       "      <td>11940.29</td>\n",
       "    </tr>\n",
       "    <tr>\n",
       "      <th>...</th>\n",
       "      <td>...</td>\n",
       "      <td>...</td>\n",
       "      <td>...</td>\n",
       "      <td>...</td>\n",
       "    </tr>\n",
       "    <tr>\n",
       "      <th>1191</th>\n",
       "      <td>watches_gifts</td>\n",
       "      <td>201903</td>\n",
       "      <td>98546.24</td>\n",
       "      <td>107352.18</td>\n",
       "    </tr>\n",
       "    <tr>\n",
       "      <th>1192</th>\n",
       "      <td>watches_gifts</td>\n",
       "      <td>201904</td>\n",
       "      <td>96108.64</td>\n",
       "      <td>106580.61</td>\n",
       "    </tr>\n",
       "    <tr>\n",
       "      <th>1193</th>\n",
       "      <td>watches_gifts</td>\n",
       "      <td>201905</td>\n",
       "      <td>120976.88</td>\n",
       "      <td>145705.65</td>\n",
       "    </tr>\n",
       "    <tr>\n",
       "      <th>1194</th>\n",
       "      <td>watches_gifts</td>\n",
       "      <td>201906</td>\n",
       "      <td>85985.37</td>\n",
       "      <td>105089.24</td>\n",
       "    </tr>\n",
       "    <tr>\n",
       "      <th>1195</th>\n",
       "      <td>watches_gifts</td>\n",
       "      <td>201907</td>\n",
       "      <td>64286.96</td>\n",
       "      <td>70576.37</td>\n",
       "    </tr>\n",
       "  </tbody>\n",
       "</table>\n",
       "<p>1196 rows × 4 columns</p>\n",
       "</div>"
      ],
      "text/plain": [
       "     Product_category_name YearMonth      Price  Payment_value\n",
       "0                  Unknown    201710      65.89          95.92\n",
       "1                  Unknown    201801    1603.64        1928.49\n",
       "2                  Unknown    201802    8517.92       10345.63\n",
       "3                  Unknown    201803    6920.95        8774.41\n",
       "4                  Unknown    201804    9923.90       11940.29\n",
       "...                    ...       ...        ...            ...\n",
       "1191         watches_gifts    201903   98546.24      107352.18\n",
       "1192         watches_gifts    201904   96108.64      106580.61\n",
       "1193         watches_gifts    201905  120976.88      145705.65\n",
       "1194         watches_gifts    201906   85985.37      105089.24\n",
       "1195         watches_gifts    201907   64286.96       70576.37\n",
       "\n",
       "[1196 rows x 4 columns]"
      ]
     },
     "execution_count": 91,
     "metadata": {},
     "output_type": "execute_result"
    }
   ],
   "source": [
    "temp_group_product_month"
   ]
  },
  {
   "cell_type": "code",
   "execution_count": 92,
   "id": "0e321b92-2c7d-406d-87a3-898e0752d61c",
   "metadata": {},
   "outputs": [],
   "source": [
    "temp_group_product_month['Cumulative_Price'] = temp_group_product_month.groupby('Product_category_name')['Price'].cumsum()\n",
    "temp_group_product_month['Cumulative_Payment_value'] = temp_group_product_month.groupby('Product_category_name')['Payment_value'].cumsum()"
   ]
  },
  {
   "cell_type": "code",
   "execution_count": 93,
   "id": "eb8f95f8-7508-4280-bc6b-5f0185236a1f",
   "metadata": {},
   "outputs": [],
   "source": [
    "temp_group_product_month[\"Previous_Value\"] = temp_group_product_month.groupby(\"Product_category_name\")[\"Cumulative_Payment_value\"].shift(1)"
   ]
  },
  {
   "cell_type": "code",
   "execution_count": 94,
   "id": "561a5553-32ec-4c63-ad18-701e6bad53e1",
   "metadata": {},
   "outputs": [],
   "source": [
    "temp_group_product_month['Growth_Rate'] = ((temp_group_product_month['Cumulative_Payment_value'] - temp_group_product_month['Previous_Value']) / temp_group_product_month['Previous_Value']) * 100"
   ]
  },
  {
   "cell_type": "code",
   "execution_count": null,
   "id": "a037b9bd-41f3-4dee-9f1e-8f511f9ec450",
   "metadata": {},
   "outputs": [],
   "source": []
  },
  {
   "cell_type": "code",
   "execution_count": 95,
   "id": "ec037fe2-8483-43b8-ac2a-081d33b151ef",
   "metadata": {},
   "outputs": [],
   "source": [
    "temp_yearmonth_count = temp.groupby([\"Product_category_name\",\"YearMonth\"])[\"Price\"].count().reset_index()"
   ]
  },
  {
   "cell_type": "code",
   "execution_count": 96,
   "id": "817da90e-99e2-46e4-9d4c-60e159bd653e",
   "metadata": {},
   "outputs": [],
   "source": [
    "temp_yearmonth_count = temp_yearmonth_count.rename(columns={'Price':'Count'})"
   ]
  },
  {
   "cell_type": "code",
   "execution_count": 97,
   "id": "bc6f6653-4e58-4d70-926a-9e2be93c2f8e",
   "metadata": {},
   "outputs": [],
   "source": [
    "temp_group_product_month= pd.merge(temp_group_product_month, temp_yearmonth_count, on=['Product_category_name','YearMonth'], how='inner')"
   ]
  },
  {
   "cell_type": "code",
   "execution_count": 98,
   "id": "5b7397a8-c9d9-4a88-a61b-a852dd5b2ebc",
   "metadata": {},
   "outputs": [
    {
     "data": {
      "text/html": [
       "<div>\n",
       "<style scoped>\n",
       "    .dataframe tbody tr th:only-of-type {\n",
       "        vertical-align: middle;\n",
       "    }\n",
       "\n",
       "    .dataframe tbody tr th {\n",
       "        vertical-align: top;\n",
       "    }\n",
       "\n",
       "    .dataframe thead th {\n",
       "        text-align: right;\n",
       "    }\n",
       "</style>\n",
       "<table border=\"1\" class=\"dataframe\">\n",
       "  <thead>\n",
       "    <tr style=\"text-align: right;\">\n",
       "      <th></th>\n",
       "      <th>Product_category_name</th>\n",
       "      <th>YearMonth</th>\n",
       "      <th>Price</th>\n",
       "      <th>Payment_value</th>\n",
       "      <th>Cumulative_Price</th>\n",
       "      <th>Cumulative_Payment_value</th>\n",
       "      <th>Previous_Value</th>\n",
       "      <th>Growth_Rate</th>\n",
       "      <th>Count</th>\n",
       "    </tr>\n",
       "  </thead>\n",
       "  <tbody>\n",
       "    <tr>\n",
       "      <th>0</th>\n",
       "      <td>Unknown</td>\n",
       "      <td>201710</td>\n",
       "      <td>65.89</td>\n",
       "      <td>95.92</td>\n",
       "      <td>65.89</td>\n",
       "      <td>95.92</td>\n",
       "      <td>NaN</td>\n",
       "      <td>NaN</td>\n",
       "      <td>2</td>\n",
       "    </tr>\n",
       "    <tr>\n",
       "      <th>1</th>\n",
       "      <td>Unknown</td>\n",
       "      <td>201801</td>\n",
       "      <td>1603.64</td>\n",
       "      <td>1928.49</td>\n",
       "      <td>1669.53</td>\n",
       "      <td>2024.41</td>\n",
       "      <td>95.92</td>\n",
       "      <td>2010.519183</td>\n",
       "      <td>12</td>\n",
       "    </tr>\n",
       "    <tr>\n",
       "      <th>2</th>\n",
       "      <td>Unknown</td>\n",
       "      <td>201802</td>\n",
       "      <td>8517.92</td>\n",
       "      <td>10345.63</td>\n",
       "      <td>10187.45</td>\n",
       "      <td>12370.04</td>\n",
       "      <td>2024.41</td>\n",
       "      <td>511.044205</td>\n",
       "      <td>56</td>\n",
       "    </tr>\n",
       "    <tr>\n",
       "      <th>3</th>\n",
       "      <td>Unknown</td>\n",
       "      <td>201803</td>\n",
       "      <td>6920.95</td>\n",
       "      <td>8774.41</td>\n",
       "      <td>17108.40</td>\n",
       "      <td>21144.45</td>\n",
       "      <td>12370.04</td>\n",
       "      <td>70.932754</td>\n",
       "      <td>62</td>\n",
       "    </tr>\n",
       "    <tr>\n",
       "      <th>4</th>\n",
       "      <td>Unknown</td>\n",
       "      <td>201804</td>\n",
       "      <td>9923.90</td>\n",
       "      <td>11940.29</td>\n",
       "      <td>27032.30</td>\n",
       "      <td>33084.74</td>\n",
       "      <td>21144.45</td>\n",
       "      <td>56.470090</td>\n",
       "      <td>79</td>\n",
       "    </tr>\n",
       "  </tbody>\n",
       "</table>\n",
       "</div>"
      ],
      "text/plain": [
       "  Product_category_name YearMonth    Price  Payment_value  Cumulative_Price  \\\n",
       "0               Unknown    201710    65.89          95.92             65.89   \n",
       "1               Unknown    201801  1603.64        1928.49           1669.53   \n",
       "2               Unknown    201802  8517.92       10345.63          10187.45   \n",
       "3               Unknown    201803  6920.95        8774.41          17108.40   \n",
       "4               Unknown    201804  9923.90       11940.29          27032.30   \n",
       "\n",
       "   Cumulative_Payment_value  Previous_Value  Growth_Rate  Count  \n",
       "0                     95.92             NaN          NaN      2  \n",
       "1                   2024.41           95.92  2010.519183     12  \n",
       "2                  12370.04         2024.41   511.044205     56  \n",
       "3                  21144.45        12370.04    70.932754     62  \n",
       "4                  33084.74        21144.45    56.470090     79  "
      ]
     },
     "execution_count": 98,
     "metadata": {},
     "output_type": "execute_result"
    }
   ],
   "source": [
    "temp_group_product_month.head()"
   ]
  },
  {
   "cell_type": "code",
   "execution_count": 102,
   "id": "9f8aead8-5ccf-4597-a169-22cdf3479948",
   "metadata": {},
   "outputs": [],
   "source": [
    "temp_group_product_month['Cumulative_Count'] = temp_group_product_month.groupby('Product_category_name')['Count'].cumsum()\n",
    "temp_group_product_month[\"Previous_Count\"] = temp_group_product_month.groupby(\"Product_category_name\")[\"Cumulative_Count\"].shift(1)\n",
    "temp_group_product_month['Growth_Rate_Count'] = ((temp_group_product_month['Cumulative_Count'] - temp_group_product_month['Previous_Count']) / temp_group_product_month['Previous_Count']) * 100"
   ]
  },
  {
   "cell_type": "code",
   "execution_count": 112,
   "id": "869bf8c9-274d-466e-959a-302a677f55dc",
   "metadata": {},
   "outputs": [
    {
     "data": {
      "text/html": [
       "<div>\n",
       "<style scoped>\n",
       "    .dataframe tbody tr th:only-of-type {\n",
       "        vertical-align: middle;\n",
       "    }\n",
       "\n",
       "    .dataframe tbody tr th {\n",
       "        vertical-align: top;\n",
       "    }\n",
       "\n",
       "    .dataframe thead th {\n",
       "        text-align: right;\n",
       "    }\n",
       "</style>\n",
       "<table border=\"1\" class=\"dataframe\">\n",
       "  <thead>\n",
       "    <tr style=\"text-align: right;\">\n",
       "      <th></th>\n",
       "      <th>Product_category_name</th>\n",
       "      <th>YearMonth</th>\n",
       "      <th>Growth_Rate</th>\n",
       "      <th>Growth_Rate_Count</th>\n",
       "    </tr>\n",
       "  </thead>\n",
       "  <tbody>\n",
       "    <tr>\n",
       "      <th>0</th>\n",
       "      <td>Unknown</td>\n",
       "      <td>201710</td>\n",
       "      <td>NaN</td>\n",
       "      <td>NaN</td>\n",
       "    </tr>\n",
       "    <tr>\n",
       "      <th>1</th>\n",
       "      <td>Unknown</td>\n",
       "      <td>201801</td>\n",
       "      <td>2010.519183</td>\n",
       "      <td>600.000000</td>\n",
       "    </tr>\n",
       "    <tr>\n",
       "      <th>2</th>\n",
       "      <td>Unknown</td>\n",
       "      <td>201802</td>\n",
       "      <td>511.044205</td>\n",
       "      <td>400.000000</td>\n",
       "    </tr>\n",
       "    <tr>\n",
       "      <th>3</th>\n",
       "      <td>Unknown</td>\n",
       "      <td>201803</td>\n",
       "      <td>70.932754</td>\n",
       "      <td>88.571429</td>\n",
       "    </tr>\n",
       "    <tr>\n",
       "      <th>4</th>\n",
       "      <td>Unknown</td>\n",
       "      <td>201804</td>\n",
       "      <td>56.470090</td>\n",
       "      <td>59.848485</td>\n",
       "    </tr>\n",
       "  </tbody>\n",
       "</table>\n",
       "</div>"
      ],
      "text/plain": [
       "  Product_category_name YearMonth  Growth_Rate  Growth_Rate_Count\n",
       "0               Unknown    201710          NaN                NaN\n",
       "1               Unknown    201801  2010.519183         600.000000\n",
       "2               Unknown    201802   511.044205         400.000000\n",
       "3               Unknown    201803    70.932754          88.571429\n",
       "4               Unknown    201804    56.470090          59.848485"
      ]
     },
     "execution_count": 112,
     "metadata": {},
     "output_type": "execute_result"
    }
   ],
   "source": [
    "temp_group_product_month.head()"
   ]
  },
  {
   "cell_type": "code",
   "execution_count": 113,
   "id": "0d047975-dcb1-4a4c-a9b9-12c976d48817",
   "metadata": {},
   "outputs": [
    {
     "data": {
      "text/plain": [
       "Index(['Product_category_name', 'YearMonth', 'Growth_Rate',\n",
       "       'Growth_Rate_Count'],\n",
       "      dtype='object')"
      ]
     },
     "execution_count": 113,
     "metadata": {},
     "output_type": "execute_result"
    }
   ],
   "source": [
    "temp_group_product_month.columns"
   ]
  },
  {
   "cell_type": "code",
   "execution_count": 116,
   "id": "fcfc9b9a-0695-4ed6-8e80-579beeb71936",
   "metadata": {},
   "outputs": [],
   "source": [
    "# temp_group_product_month.info()"
   ]
  },
  {
   "cell_type": "code",
   "execution_count": 106,
   "id": "175c1868-7ab2-4808-a2c5-3a211ba58a28",
   "metadata": {},
   "outputs": [],
   "source": [
    "temp_group_product_month=temp_group_product_month.drop([\"Price\",\"Payment_value\",\"Payment_value\",\"Previous_Value\",\"Count\",\"Cumulative_Count\",\"Previous_Count\"],axis=1)"
   ]
  },
  {
   "cell_type": "code",
   "execution_count": 109,
   "id": "b32cdb88-ecc6-4abf-b929-6fb295de6e24",
   "metadata": {},
   "outputs": [],
   "source": [
    "temp_group_product_month=temp_group_product_month.drop([\"Cumulative_Price\",\"Cumulative_Payment_value\"],axis=1)"
   ]
  },
  {
   "cell_type": "code",
   "execution_count": 114,
   "id": "19900cd9-1506-48b8-a885-e94be8cf3fd7",
   "metadata": {},
   "outputs": [
    {
     "data": {
      "text/html": [
       "<style type=\"text/css\">\n",
       "#T_bce49_row0_col0, #T_bce49_row1_col1 {\n",
       "  background-color: #b40426;\n",
       "  color: #f1f1f1;\n",
       "}\n",
       "#T_bce49_row0_col1, #T_bce49_row1_col0 {\n",
       "  background-color: #3b4cc0;\n",
       "  color: #f1f1f1;\n",
       "}\n",
       "</style>\n",
       "<table id=\"T_bce49\">\n",
       "  <thead>\n",
       "    <tr>\n",
       "      <th class=\"blank level0\" >&nbsp;</th>\n",
       "      <th id=\"T_bce49_level0_col0\" class=\"col_heading level0 col0\" >Growth_Rate</th>\n",
       "      <th id=\"T_bce49_level0_col1\" class=\"col_heading level0 col1\" >Growth_Rate_Count</th>\n",
       "    </tr>\n",
       "  </thead>\n",
       "  <tbody>\n",
       "    <tr>\n",
       "      <th id=\"T_bce49_level0_row0\" class=\"row_heading level0 row0\" >Growth_Rate</th>\n",
       "      <td id=\"T_bce49_row0_col0\" class=\"data row0 col0\" >1.000000</td>\n",
       "      <td id=\"T_bce49_row0_col1\" class=\"data row0 col1\" >0.367110</td>\n",
       "    </tr>\n",
       "    <tr>\n",
       "      <th id=\"T_bce49_level0_row1\" class=\"row_heading level0 row1\" >Growth_Rate_Count</th>\n",
       "      <td id=\"T_bce49_row1_col0\" class=\"data row1 col0\" >0.367110</td>\n",
       "      <td id=\"T_bce49_row1_col1\" class=\"data row1 col1\" >1.000000</td>\n",
       "    </tr>\n",
       "  </tbody>\n",
       "</table>\n"
      ],
      "text/plain": [
       "<pandas.io.formats.style.Styler at 0x7ffad7d6f580>"
      ]
     },
     "execution_count": 114,
     "metadata": {},
     "output_type": "execute_result"
    }
   ],
   "source": [
    "temp_group_product_month.corr(numeric_only=True).style.background_gradient(cmap='coolwarm', axis=None)"
   ]
  },
  {
   "cell_type": "code",
   "execution_count": 99,
   "id": "6ed6a7ff-916c-484f-a326-e89b106e9f3b",
   "metadata": {},
   "outputs": [],
   "source": [
    "# 판매개수가 많아지면 이득이다 #0.36을 유의미한 값으로 잡아야하나"
   ]
  },
  {
   "cell_type": "code",
   "execution_count": 120,
   "id": "b4e3e63e-094a-484f-866b-aa5f0ef09662",
   "metadata": {},
   "outputs": [],
   "source": [
    "# temp_group_product_month"
   ]
  },
  {
   "cell_type": "code",
   "execution_count": 121,
   "id": "f58a1110-fa5f-41da-a5b3-e7f28b9430fa",
   "metadata": {},
   "outputs": [
    {
     "data": {
      "text/plain": [
       "array(['Unknown', 'agro_industry_and_commerce', 'air_conditioning',\n",
       "       'arts', 'arts_and_crafts', 'audio', 'automotive', 'baby',\n",
       "       'bed_bath_table', 'bedroom_furniture', 'blu_ray_dvds',\n",
       "       'books_general_interest', 'christmas_articles', 'cinema_photo',\n",
       "       'computers_accessories', 'consoles_games', 'construction_tools',\n",
       "       'construction_tools_construction', 'construction_tools_garden',\n",
       "       'construction_tools_lighting', 'construction_tools_safety',\n",
       "       'cool_stuff', 'diapers_hygiene', 'drinks', 'electronics',\n",
       "       'fashion_bags_accessories', 'fashion_childrens_clothes',\n",
       "       'fashion_mens_clothing', 'fashion_shoes', 'fashion_sport',\n",
       "       'fashion_underwear_beachwear', 'fashion_womens_clothing',\n",
       "       'flowers', 'food', 'food_drink', 'furniture_decor',\n",
       "       'furniture_mattress_and_upholstery', 'garden_tools',\n",
       "       'health_beauty', 'home_appliances', 'home_appliances_2',\n",
       "       'home_comfort', 'home_comfort_2', 'home_construction',\n",
       "       'home_utilities', 'imported_books',\n",
       "       'industry_commerce_and_business', 'insurance_and_services',\n",
       "       'kitchen_laundry_room_dining_garden_furniture', 'landline_phones',\n",
       "       'living_room_furniture', 'luggage_accessories', 'marketplace',\n",
       "       'music', 'musical_cds_dvds', 'musical_instruments',\n",
       "       'office_furniture', 'party_supplies', 'pcs', 'perfumery',\n",
       "       'pet_shop', 'portable_home_oven_and_coffee',\n",
       "       'signaling_and_security', 'small_appliances', 'sports_leisure',\n",
       "       'stationery', 'tablets_printing_image', 'technical_books',\n",
       "       'telephony', 'the_kitchen', 'toys', 'watches_gifts'], dtype=object)"
      ]
     },
     "execution_count": 121,
     "metadata": {},
     "output_type": "execute_result"
    }
   ],
   "source": [
    "temp_group_product_month.Product_category_name.unique()"
   ]
  },
  {
   "cell_type": "code",
   "execution_count": 124,
   "id": "c1510d0c-0235-4ccf-a3d6-ae51a70ebb43",
   "metadata": {},
   "outputs": [
    {
     "data": {
      "text/html": [
       "<div>\n",
       "<style scoped>\n",
       "    .dataframe tbody tr th:only-of-type {\n",
       "        vertical-align: middle;\n",
       "    }\n",
       "\n",
       "    .dataframe tbody tr th {\n",
       "        vertical-align: top;\n",
       "    }\n",
       "\n",
       "    .dataframe thead th {\n",
       "        text-align: right;\n",
       "    }\n",
       "</style>\n",
       "<table border=\"1\" class=\"dataframe\">\n",
       "  <thead>\n",
       "    <tr style=\"text-align: right;\">\n",
       "      <th></th>\n",
       "      <th>Product_category_name</th>\n",
       "      <th>YearMonth</th>\n",
       "      <th>Growth_Rate</th>\n",
       "      <th>Growth_Rate_Count</th>\n",
       "    </tr>\n",
       "  </thead>\n",
       "  <tbody>\n",
       "    <tr>\n",
       "      <th>58</th>\n",
       "      <td>arts</td>\n",
       "      <td>201803</td>\n",
       "      <td>NaN</td>\n",
       "      <td>NaN</td>\n",
       "    </tr>\n",
       "    <tr>\n",
       "      <th>59</th>\n",
       "      <td>arts</td>\n",
       "      <td>201804</td>\n",
       "      <td>57.713725</td>\n",
       "      <td>16.666667</td>\n",
       "    </tr>\n",
       "    <tr>\n",
       "      <th>60</th>\n",
       "      <td>arts</td>\n",
       "      <td>201805</td>\n",
       "      <td>1815.836587</td>\n",
       "      <td>85.714286</td>\n",
       "    </tr>\n",
       "    <tr>\n",
       "      <th>61</th>\n",
       "      <td>arts</td>\n",
       "      <td>201806</td>\n",
       "      <td>3.703478</td>\n",
       "      <td>46.153846</td>\n",
       "    </tr>\n",
       "    <tr>\n",
       "      <th>62</th>\n",
       "      <td>arts</td>\n",
       "      <td>201807</td>\n",
       "      <td>5.317718</td>\n",
       "      <td>15.789474</td>\n",
       "    </tr>\n",
       "    <tr>\n",
       "      <th>63</th>\n",
       "      <td>arts</td>\n",
       "      <td>201808</td>\n",
       "      <td>3.767719</td>\n",
       "      <td>18.181818</td>\n",
       "    </tr>\n",
       "    <tr>\n",
       "      <th>64</th>\n",
       "      <td>arts</td>\n",
       "      <td>201809</td>\n",
       "      <td>4.991279</td>\n",
       "      <td>11.538462</td>\n",
       "    </tr>\n",
       "    <tr>\n",
       "      <th>65</th>\n",
       "      <td>arts</td>\n",
       "      <td>201810</td>\n",
       "      <td>4.367872</td>\n",
       "      <td>10.344828</td>\n",
       "    </tr>\n",
       "    <tr>\n",
       "      <th>66</th>\n",
       "      <td>arts</td>\n",
       "      <td>201811</td>\n",
       "      <td>0.969637</td>\n",
       "      <td>6.250000</td>\n",
       "    </tr>\n",
       "    <tr>\n",
       "      <th>67</th>\n",
       "      <td>arts</td>\n",
       "      <td>201812</td>\n",
       "      <td>1.984824</td>\n",
       "      <td>11.764706</td>\n",
       "    </tr>\n",
       "    <tr>\n",
       "      <th>68</th>\n",
       "      <td>arts</td>\n",
       "      <td>201901</td>\n",
       "      <td>30.170800</td>\n",
       "      <td>50.000000</td>\n",
       "    </tr>\n",
       "    <tr>\n",
       "      <th>69</th>\n",
       "      <td>arts</td>\n",
       "      <td>201902</td>\n",
       "      <td>14.171336</td>\n",
       "      <td>22.807018</td>\n",
       "    </tr>\n",
       "    <tr>\n",
       "      <th>70</th>\n",
       "      <td>arts</td>\n",
       "      <td>201903</td>\n",
       "      <td>4.229684</td>\n",
       "      <td>10.000000</td>\n",
       "    </tr>\n",
       "    <tr>\n",
       "      <th>71</th>\n",
       "      <td>arts</td>\n",
       "      <td>201904</td>\n",
       "      <td>15.865327</td>\n",
       "      <td>31.168831</td>\n",
       "    </tr>\n",
       "    <tr>\n",
       "      <th>72</th>\n",
       "      <td>arts</td>\n",
       "      <td>201905</td>\n",
       "      <td>17.859488</td>\n",
       "      <td>34.653465</td>\n",
       "    </tr>\n",
       "    <tr>\n",
       "      <th>73</th>\n",
       "      <td>arts</td>\n",
       "      <td>201906</td>\n",
       "      <td>14.765439</td>\n",
       "      <td>20.588235</td>\n",
       "    </tr>\n",
       "    <tr>\n",
       "      <th>74</th>\n",
       "      <td>arts</td>\n",
       "      <td>201907</td>\n",
       "      <td>7.486385</td>\n",
       "      <td>10.365854</td>\n",
       "    </tr>\n",
       "  </tbody>\n",
       "</table>\n",
       "</div>"
      ],
      "text/plain": [
       "   Product_category_name YearMonth  Growth_Rate  Growth_Rate_Count\n",
       "58                  arts    201803          NaN                NaN\n",
       "59                  arts    201804    57.713725          16.666667\n",
       "60                  arts    201805  1815.836587          85.714286\n",
       "61                  arts    201806     3.703478          46.153846\n",
       "62                  arts    201807     5.317718          15.789474\n",
       "63                  arts    201808     3.767719          18.181818\n",
       "64                  arts    201809     4.991279          11.538462\n",
       "65                  arts    201810     4.367872          10.344828\n",
       "66                  arts    201811     0.969637           6.250000\n",
       "67                  arts    201812     1.984824          11.764706\n",
       "68                  arts    201901    30.170800          50.000000\n",
       "69                  arts    201902    14.171336          22.807018\n",
       "70                  arts    201903     4.229684          10.000000\n",
       "71                  arts    201904    15.865327          31.168831\n",
       "72                  arts    201905    17.859488          34.653465\n",
       "73                  arts    201906    14.765439          20.588235\n",
       "74                  arts    201907     7.486385          10.365854"
      ]
     },
     "execution_count": 124,
     "metadata": {},
     "output_type": "execute_result"
    }
   ],
   "source": [
    "temp_group_product_month_un = temp_group_product_month[temp_group_product_month.Product_category_name==\"arts\"]\n",
    "temp_group_product_month_un"
   ]
  },
  {
   "cell_type": "code",
   "execution_count": null,
   "id": "d3eba662-f1d9-4d98-a431-dc44e488853f",
   "metadata": {},
   "outputs": [],
   "source": [
    "# 어제 말한 물품준비시간을 50퍼를 줄이면 10퍼의 리뷰점수가 오르는 효과를 볼수있다를 제외하고는 딱히 유의미한 \n",
    "# 결과가 보이진 않습니다만\n",
    "# dataset info를 가지고 생각을 해봐도, kpi를 올리는 쪽으로 관계를 지어보면, 화물가격을 건들거나(하지만 이거는 안하기로 했음), \n",
    "# 배송날짜를 땡기는 쪽이 매출액을 올려준다는 근거가 있거나, 할부와 거래가치의 연관성이 설사 존재한다 하더라도 할부를 한다는게 \n",
    "# 거래가치를 올려준다는 근거가 없고, 제품의 무게,길이등은 연관성이 없다고 판단되며, 리뷰점수와 판매액을 연관지으려고 해도 \n",
    "# 물론 전처리 과정에서 어떻게 하냐에 따라서 상관계수가 다르게 나오겠지만 리뷰점수와 매출액이 양의 관계인가?는 잘 몰겠습니다."
   ]
  },
  {
   "cell_type": "code",
   "execution_count": null,
   "id": "7f0db87c-db2f-4480-ad5b-742b27443f61",
   "metadata": {},
   "outputs": [],
   "source": [
    "# Dataset Info.\n",
    "\n",
    "# customers.csv [파일]\n",
    "# 고객과 관련된 정보\n",
    "# Customer_id : 고객 ID\n",
    "# Customer_unique_id : 고객 고유 ID\n",
    "# Customer_zipcode_prefix : 고객 우편번호 앞부분\n",
    "# Customer_city : 고객 도시\n",
    "# Customer_state : 고객 주\n",
    "\n",
    "\n",
    "\\\n",
    "\n",
    "\n",
    "# order_items.csv [파일]\n",
    "# 주문 아이템과 관련된 정보\n",
    "# Order_id : 주문 고유 ID\n",
    "# Order_item_id : 동일한 주문에 포함된 품목 수를 식별하는 일련 번호\n",
    "# Product_id : 제품 고유 ID\n",
    "# Seller_id : 판매자 고유 ID\n",
    "# Price : 판매 가격\n",
    "# Freight_value : 품목 화물 가격\n",
    "\n",
    "\n",
    "# orders.csv [파일]\n",
    "# 주문과 관련된 정보\n",
    "# Order_id : 주문 고유 ID\n",
    "# Customer_id : 고객 ID\n",
    "# Order_status : 주문 상태\n",
    "# Order_purchase_timestamp : 구매 시간\n",
    "# Order_delivered_carrier_date : 물류 처리 시간\n",
    "# Order_delivered_customer_date : 실제 배송 날짜\n",
    "# Order_estimated_delivery_date : 기대 배송 날짜\n",
    "\n",
    "\n",
    "# payments.csv [파일]\n",
    "# 지불과 관련된 정보\n",
    "# Order_id : 주문 고유 ID\n",
    "# Payment_sequential : 결제 시퀀스(둘 이상의 결제 방법으로 결제 가능)\n",
    "# Payment_type : 지불 방법 \n",
    "# Payment_installments : 할부 횟수\n",
    "# Payment_value : 거래 가치\n",
    "\n",
    "\n",
    "# products.csv [파일]\n",
    "# 제품과 관련된 정보\n",
    "# Product_id : 제품 고유 ID\n",
    "# Product_category_name : 카테고리 이름\n",
    "# Product_weight_g : 제품 무게(g)\n",
    "# Product_length_cm : 제품 길이(cm)\n",
    "# Product_height_cm : 제품 높이(cm)\n",
    "# Product_width_cm : 제품 너비(cm)\n",
    "\n",
    "\n",
    "# reviews.csv[파일]\n",
    "# Review_id : 리뷰 고유 ID\n",
    "# Order_id : 주문 고유 ID\n",
    "# Review_score : 리뷰 점수\n",
    "# Review_creation_date : 리뷰 생성 시간\n",
    "# Review_answer_timestamp : 리뷰 답변 시간\n",
    "\n",
    "\n",
    "# sellers.csv[파일]\n",
    "# Seller_id : 판매자 고유 ID\n",
    "# Seller_zipcode_prefix : 판매자 우편번호 앞자리\n",
    "# Seller_city : 판매자 도시(city)\n",
    "# Seller_state : 판매자 주(state)"
   ]
  }
 ],
 "metadata": {
  "kernelspec": {
   "display_name": "Python 3 (ipykernel)",
   "language": "python",
   "name": "python3"
  },
  "language_info": {
   "codemirror_mode": {
    "name": "ipython",
    "version": 3
   },
   "file_extension": ".py",
   "mimetype": "text/x-python",
   "name": "python",
   "nbconvert_exporter": "python",
   "pygments_lexer": "ipython3",
   "version": "3.10.12"
  }
 },
 "nbformat": 4,
 "nbformat_minor": 5
}
