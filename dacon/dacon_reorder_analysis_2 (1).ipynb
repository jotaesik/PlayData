{
 "cells": [
  {
   "cell_type": "markdown",
   "id": "909019a0-626d-4c7a-a71b-3c93c1f3c2f1",
   "metadata": {},
   "source": [
    "# 취합된 데이터 파일 확인"
   ]
  },
  {
   "cell_type": "code",
   "execution_count": 367,
   "id": "ff6dc5dd-5619-449f-96da-486bd35f6f8e",
   "metadata": {},
   "outputs": [],
   "source": [
    "# 피클 import\n",
    "import pickle"
   ]
  },
  {
   "cell_type": "code",
   "execution_count": 368,
   "id": "e1efe86e-2cad-4a79-a9bb-cd5c8ec01385",
   "metadata": {},
   "outputs": [],
   "source": [
    "# pickle 주소위치 확인!! total_df에 저장\n",
    "with open (\"./dacon_total_df_240504_00.pkl\", \"rb\") as file:\n",
    "    total_df = pickle.load(file)"
   ]
  },
  {
   "cell_type": "code",
   "execution_count": 370,
   "id": "cf48fe03-4f0a-4222-8362-95acff36a5bb",
   "metadata": {},
   "outputs": [],
   "source": [
    "# total_df.shape"
   ]
  },
  {
   "cell_type": "code",
   "execution_count": 3,
   "id": "6fcf28aa-3047-460c-91fe-a0080faec639",
   "metadata": {},
   "outputs": [],
   "source": [
    "# pd.set_option('display.max_columns', None)\n",
    "# 필요없는 코드"
   ]
  },
  {
   "cell_type": "code",
   "execution_count": 372,
   "id": "114697aa-9779-4326-890e-5f33ae332263",
   "metadata": {},
   "outputs": [],
   "source": [
    "# total_df.iloc[0]"
   ]
  },
  {
   "cell_type": "code",
   "execution_count": 374,
   "id": "1058356b-c0c8-44d2-959e-4dde2d981871",
   "metadata": {},
   "outputs": [],
   "source": [
    "# 값 확인\n",
    "# total_df.head(1)"
   ]
  },
  {
   "cell_type": "code",
   "execution_count": 376,
   "id": "71adce52-6525-404e-941e-ad64cbb23907",
   "metadata": {},
   "outputs": [],
   "source": [
    "# tmp = total_df.groupby(['Customer_unique_id'])[['order_count', 'Freight_value', 'Price']].sum()\n",
    "# 필요없는코드"
   ]
  },
  {
   "cell_type": "code",
   "execution_count": 378,
   "id": "af370f4c-e38e-4be7-a216-f26076d4b270",
   "metadata": {},
   "outputs": [],
   "source": [
    "# total_df.columns"
   ]
  },
  {
   "cell_type": "code",
   "execution_count": 129,
   "id": "4320c8ad-0432-440d-9577-279add3659bc",
   "metadata": {},
   "outputs": [],
   "source": [
    "# total_df"
   ]
  },
  {
   "cell_type": "code",
   "execution_count": 382,
   "id": "c2b838eb-7c6e-4df7-b7e9-24467581d680",
   "metadata": {},
   "outputs": [],
   "source": [
    "# day 컬럼 추가\n",
    "total_df['Order_purchase_day'] = total_df.Order_purchase_timestamp.dt.day"
   ]
  },
  {
   "cell_type": "code",
   "execution_count": 383,
   "id": "3945c284-7b9b-4831-a527-100c750846b8",
   "metadata": {},
   "outputs": [],
   "source": [
    "#order_count 재구매여부에 오류가 있어서 수정들어간부\n",
    "just = total_df.groupby([\"Order_purchase_year\", \"Order_purchase_month\",\"Order_purchase_day\",\"Customer_unique_id\",\"Product_id\",\"Order_id\"])[\"YearMonth\"].value_counts().reset_index()"
   ]
  },
  {
   "cell_type": "code",
   "execution_count": 384,
   "id": "e85c4956-5513-4a83-b95d-91e3b910dec5",
   "metadata": {},
   "outputs": [
    {
     "data": {
      "text/html": [
       "<div>\n",
       "<style scoped>\n",
       "    .dataframe tbody tr th:only-of-type {\n",
       "        vertical-align: middle;\n",
       "    }\n",
       "\n",
       "    .dataframe tbody tr th {\n",
       "        vertical-align: top;\n",
       "    }\n",
       "\n",
       "    .dataframe thead th {\n",
       "        text-align: right;\n",
       "    }\n",
       "</style>\n",
       "<table border=\"1\" class=\"dataframe\">\n",
       "  <thead>\n",
       "    <tr style=\"text-align: right;\">\n",
       "      <th></th>\n",
       "      <th>Order_purchase_year</th>\n",
       "      <th>Order_purchase_month</th>\n",
       "      <th>Order_purchase_day</th>\n",
       "      <th>Customer_unique_id</th>\n",
       "      <th>Product_id</th>\n",
       "      <th>Order_id</th>\n",
       "      <th>YearMonth</th>\n",
       "      <th>count</th>\n",
       "    </tr>\n",
       "  </thead>\n",
       "  <tbody>\n",
       "    <tr>\n",
       "      <th>0</th>\n",
       "      <td>2017</td>\n",
       "      <td>10</td>\n",
       "      <td>3</td>\n",
       "      <td>CUSTOMER_Unique_06817</td>\n",
       "      <td>PRODUCT_21193</td>\n",
       "      <td>ORDER_86794</td>\n",
       "      <td>201710</td>\n",
       "      <td>1</td>\n",
       "    </tr>\n",
       "  </tbody>\n",
       "</table>\n",
       "</div>"
      ],
      "text/plain": [
       "   Order_purchase_year  Order_purchase_month  Order_purchase_day  \\\n",
       "0                 2017                    10                   3   \n",
       "\n",
       "      Customer_unique_id     Product_id     Order_id YearMonth  count  \n",
       "0  CUSTOMER_Unique_06817  PRODUCT_21193  ORDER_86794    201710      1  "
      ]
     },
     "execution_count": 384,
     "metadata": {},
     "output_type": "execute_result"
    }
   ],
   "source": [
    "just.head(1)"
   ]
  },
  {
   "cell_type": "code",
   "execution_count": 385,
   "id": "babe75f4-9202-4ae6-8582-620dba4b855f",
   "metadata": {},
   "outputs": [
    {
     "data": {
      "text/plain": [
       "(90193, 8)"
      ]
     },
     "execution_count": 385,
     "metadata": {},
     "output_type": "execute_result"
    }
   ],
   "source": [
    "just.shape"
   ]
  },
  {
   "cell_type": "code",
   "execution_count": 386,
   "id": "24fb4fea-08ba-4512-acce-ad0127a14dd2",
   "metadata": {},
   "outputs": [
    {
     "data": {
      "text/plain": [
       "(90193, 46)"
      ]
     },
     "execution_count": 386,
     "metadata": {},
     "output_type": "execute_result"
    }
   ],
   "source": [
    "total_df.shape"
   ]
  },
  {
   "cell_type": "code",
   "execution_count": 389,
   "id": "c0dbfa91-6d90-4187-beb0-79312252cf64",
   "metadata": {},
   "outputs": [],
   "source": [
    "# for문 돌리기 위한 unique값\n",
    "id_list = just['Customer_unique_id'].unique().tolist()"
   ]
  },
  {
   "cell_type": "code",
   "execution_count": 390,
   "id": "3f5eca21-0460-4403-b064-0bd9c1493363",
   "metadata": {},
   "outputs": [],
   "source": [
    "from tqdm import tqdm"
   ]
  },
  {
   "cell_type": "code",
   "execution_count": 391,
   "id": "845ca346-7cf8-449b-9e1e-0c4e8e57b83d",
   "metadata": {},
   "outputs": [
    {
     "name": "stderr",
     "output_type": "stream",
     "text": [
      "100%|█████████████████████████████████████████████████████████████████████████████| 84130/84130 [19:32<00:00, 71.78it/s]\n"
     ]
    }
   ],
   "source": [
    "for i in tqdm(range(len(id_list))):\n",
    "    # 임시로 하나씩 변환\n",
    "    temp1 = just[just.Customer_unique_id==id_list[i]]\n",
    "    # 같은 Customer_unique_id 일때 날짜가 다르게 산 개수는 몇개야? => number에 넣기\n",
    "    number =  temp1[~temp1.duplicated([\"Order_purchase_year\",\"Order_purchase_year\",\"Order_purchase_month\",\"Order_purchase_day\"])].shape[0]\n",
    "    # 그리고 그 값을 new_count로 정의해서 저장\n",
    "    just.loc[just.Customer_unique_id == id_list[i], \"new_count\"] = number"
   ]
  },
  {
   "cell_type": "code",
   "execution_count": 392,
   "id": "163ebc3c-e1df-42fb-83b2-f0a0b83e29a2",
   "metadata": {},
   "outputs": [],
   "source": [
    "# new_count가 1초과면 다른날짜에도 구매한 이력이 있다는거니 재구매에 1\n",
    "just[\"재구매\"] = just.new_count.apply(lambda x : 1 if x>1 else 0)"
   ]
  },
  {
   "cell_type": "code",
   "execution_count": 396,
   "id": "28d99189-8fc5-4105-b134-dbbeb593ad04",
   "metadata": {},
   "outputs": [],
   "source": [
    "# just"
   ]
  },
  {
   "cell_type": "code",
   "execution_count": 397,
   "id": "f10bd452-b35b-434d-ad7d-d41b1ca6f2a7",
   "metadata": {},
   "outputs": [],
   "source": [
    "# 필요없는 컬럼 삭제\n",
    "just.drop(\"count\",axis=1,inplace=True)"
   ]
  },
  {
   "cell_type": "code",
   "execution_count": 398,
   "id": "c39f42ce-928c-486f-ba22-b1f7421f00b7",
   "metadata": {},
   "outputs": [],
   "source": [
    "# just[just.Customer_unique_id==\"CUSTOMER_Unique_09766\"]\n",
    "# 확인용 예시"
   ]
  },
  {
   "cell_type": "code",
   "execution_count": 399,
   "id": "066aabca-d1b9-4e78-bc49-92b271f19c2a",
   "metadata": {},
   "outputs": [
    {
     "data": {
      "text/plain": [
       "(90193, 46)"
      ]
     },
     "execution_count": 399,
     "metadata": {},
     "output_type": "execute_result"
    }
   ],
   "source": [
    "total_df.shape"
   ]
  },
  {
   "cell_type": "code",
   "execution_count": 400,
   "id": "f43462fb-b368-4504-bedc-1f218e48151d",
   "metadata": {},
   "outputs": [
    {
     "data": {
      "text/plain": [
       "(90193, 9)"
      ]
     },
     "execution_count": 400,
     "metadata": {},
     "output_type": "execute_result"
    }
   ],
   "source": [
    "just.shape"
   ]
  },
  {
   "cell_type": "code",
   "execution_count": 401,
   "id": "2b917e46-cc84-493d-bd5c-fd652d2c95a5",
   "metadata": {},
   "outputs": [],
   "source": [
    "# just.head(1)"
   ]
  },
  {
   "cell_type": "code",
   "execution_count": 407,
   "id": "c05a8b23-0c12-4273-bfeb-1fe086f7b3dd",
   "metadata": {},
   "outputs": [
    {
     "data": {
      "text/plain": [
       "Index(['Order_purchase_year', 'Order_purchase_month', 'Order_purchase_day',\n",
       "       'Customer_unique_id', 'Product_id', 'Order_id', 'YearMonth',\n",
       "       'new_count', '재구매'],\n",
       "      dtype='object')"
      ]
     },
     "execution_count": 407,
     "metadata": {},
     "output_type": "execute_result"
    }
   ],
   "source": [
    "just.columns"
   ]
  },
  {
   "cell_type": "code",
   "execution_count": 405,
   "id": "8e624c8c-a219-41b8-9c05-1918512e118f",
   "metadata": {},
   "outputs": [
    {
     "data": {
      "text/plain": [
       "Index(['Order_id', 'Product_id', 'Seller_id', 'Order_purchase_year',\n",
       "       'Order_purchase_month', 'Review_id', 'Review_score',\n",
       "       'Review_creation_date', 'Review_answer_timestamp', 'Price',\n",
       "       'Freight_value', 'Customer_id', 'Order_status',\n",
       "       'Order_purchase_timestamp', 'Order_delivered_carrier_date',\n",
       "       'Order_delivered_customer_date', 'Order_estimated_delivery_date',\n",
       "       'Payment_type', 'Payment_installments', 'Product_category_name',\n",
       "       'Customer_unique_id', 'Customer_zipcode_prefix', 'Customer_city',\n",
       "       'Customer_state', 'Seller_zipcode_prefix', 'Seller_city',\n",
       "       'Seller_state', 'order_count', 'Order_purchase_quarter', '순이익', '매출액',\n",
       "       'Customer_lat', 'Customer_lng', 'Seller_lat', 'Seller_lng', 'Distance',\n",
       "       'time_diff_purchase_carrier', 'time_diff_purchase_customer',\n",
       "       'time_diff_carrier_customer', 'time_diff_customer_delivery',\n",
       "       'time_diff_purchase_carrier_second',\n",
       "       'time_diff_purchase_customer_second',\n",
       "       'time_diff_carrier_customer_second',\n",
       "       'time_diff_customer_delivery_second', 'YearMonth',\n",
       "       'Order_purchase_day'],\n",
       "      dtype='object')"
      ]
     },
     "execution_count": 405,
     "metadata": {},
     "output_type": "execute_result"
    }
   ],
   "source": [
    "total_df.columns"
   ]
  },
  {
   "cell_type": "code",
   "execution_count": 403,
   "id": "0cbafc91-dde5-4479-b05d-14078e5ceae2",
   "metadata": {},
   "outputs": [],
   "source": [
    "# total_df와 just의 컬럼 개수가 다르므로 left join으로 머지\n",
    "# 재구매와 new_count만 추가\n",
    "merged_df = pd.merge(just, total_df, on=['Order_purchase_year', 'Order_purchase_month', 'Order_purchase_day', 'Customer_unique_id', 'Product_id', 'Order_id', 'YearMonth'], how='left')"
   ]
  },
  {
   "cell_type": "code",
   "execution_count": 290,
   "id": "1eedc8e5-8ac3-4a08-85f9-5096bd29e228",
   "metadata": {},
   "outputs": [],
   "source": [
    "# just"
   ]
  },
  {
   "cell_type": "code",
   "execution_count": 408,
   "id": "6189f25e-4caa-4ebd-b7ae-d659b9a41421",
   "metadata": {},
   "outputs": [
    {
     "data": {
      "text/plain": [
       "Index(['Order_purchase_year', 'Order_purchase_month', 'Order_purchase_day',\n",
       "       'Customer_unique_id', 'Product_id', 'Order_id', 'YearMonth',\n",
       "       'new_count', '재구매', 'Seller_id', 'Review_id', 'Review_score',\n",
       "       'Review_creation_date', 'Review_answer_timestamp', 'Price',\n",
       "       'Freight_value', 'Customer_id', 'Order_status',\n",
       "       'Order_purchase_timestamp', 'Order_delivered_carrier_date',\n",
       "       'Order_delivered_customer_date', 'Order_estimated_delivery_date',\n",
       "       'Payment_type', 'Payment_installments', 'Product_category_name',\n",
       "       'Customer_zipcode_prefix', 'Customer_city', 'Customer_state',\n",
       "       'Seller_zipcode_prefix', 'Seller_city', 'Seller_state', 'order_count',\n",
       "       'Order_purchase_quarter', '순이익', '매출액', 'Customer_lat', 'Customer_lng',\n",
       "       'Seller_lat', 'Seller_lng', 'Distance', 'time_diff_purchase_carrier',\n",
       "       'time_diff_purchase_customer', 'time_diff_carrier_customer',\n",
       "       'time_diff_customer_delivery', 'time_diff_purchase_carrier_second',\n",
       "       'time_diff_purchase_customer_second',\n",
       "       'time_diff_carrier_customer_second',\n",
       "       'time_diff_customer_delivery_second'],\n",
       "      dtype='object')"
      ]
     },
     "execution_count": 408,
     "metadata": {},
     "output_type": "execute_result"
    }
   ],
   "source": [
    "merged_df.columns"
   ]
  },
  {
   "cell_type": "code",
   "execution_count": 409,
   "id": "ed52c3a1-5d31-4089-a6f8-b07c0c64ec3f",
   "metadata": {},
   "outputs": [],
   "source": [
    "# just[just.재구매==1]\n",
    "# 확인용"
   ]
  },
  {
   "cell_type": "code",
   "execution_count": 410,
   "id": "9ff5f6e6-0b52-4ef8-a36f-bd3aebe0312e",
   "metadata": {},
   "outputs": [],
   "source": [
    "import pandas as pd"
   ]
  },
  {
   "cell_type": "code",
   "execution_count": 734,
   "id": "d0566d54-2419-46d0-a7e6-8ac096cfe373",
   "metadata": {},
   "outputs": [
    {
     "ename": "KeyError",
     "evalue": "'Order_purchase_timestamp'",
     "output_type": "error",
     "traceback": [
      "\u001b[0;31m---------------------------------------------------------------------------\u001b[0m",
      "\u001b[0;31mKeyError\u001b[0m                                  Traceback (most recent call last)",
      "File \u001b[0;32m~/.local/lib/python3.10/site-packages/pandas/core/indexes/base.py:3805\u001b[0m, in \u001b[0;36mIndex.get_loc\u001b[0;34m(self, key)\u001b[0m\n\u001b[1;32m   3804\u001b[0m \u001b[38;5;28;01mtry\u001b[39;00m:\n\u001b[0;32m-> 3805\u001b[0m     \u001b[38;5;28;01mreturn\u001b[39;00m \u001b[38;5;28;43mself\u001b[39;49m\u001b[38;5;241;43m.\u001b[39;49m\u001b[43m_engine\u001b[49m\u001b[38;5;241;43m.\u001b[39;49m\u001b[43mget_loc\u001b[49m\u001b[43m(\u001b[49m\u001b[43mcasted_key\u001b[49m\u001b[43m)\u001b[49m\n\u001b[1;32m   3806\u001b[0m \u001b[38;5;28;01mexcept\u001b[39;00m \u001b[38;5;167;01mKeyError\u001b[39;00m \u001b[38;5;28;01mas\u001b[39;00m err:\n",
      "File \u001b[0;32mindex.pyx:167\u001b[0m, in \u001b[0;36mpandas._libs.index.IndexEngine.get_loc\u001b[0;34m()\u001b[0m\n",
      "File \u001b[0;32mindex.pyx:196\u001b[0m, in \u001b[0;36mpandas._libs.index.IndexEngine.get_loc\u001b[0;34m()\u001b[0m\n",
      "File \u001b[0;32mpandas/_libs/hashtable_class_helper.pxi:7081\u001b[0m, in \u001b[0;36mpandas._libs.hashtable.PyObjectHashTable.get_item\u001b[0;34m()\u001b[0m\n",
      "File \u001b[0;32mpandas/_libs/hashtable_class_helper.pxi:7089\u001b[0m, in \u001b[0;36mpandas._libs.hashtable.PyObjectHashTable.get_item\u001b[0;34m()\u001b[0m\n",
      "\u001b[0;31mKeyError\u001b[0m: 'Order_purchase_timestamp'",
      "\nThe above exception was the direct cause of the following exception:\n",
      "\u001b[0;31mKeyError\u001b[0m                                  Traceback (most recent call last)",
      "Cell \u001b[0;32mIn[734], line 1\u001b[0m\n\u001b[0;32m----> 1\u001b[0m merged_df[\u001b[38;5;124m'\u001b[39m\u001b[38;5;124mOrder_purchase_timestamp\u001b[39m\u001b[38;5;124m'\u001b[39m] \u001b[38;5;241m=\u001b[39m pd\u001b[38;5;241m.\u001b[39mto_datetime(\u001b[43mmerged_df\u001b[49m\u001b[43m[\u001b[49m\u001b[38;5;124;43m'\u001b[39;49m\u001b[38;5;124;43mOrder_purchase_timestamp\u001b[39;49m\u001b[38;5;124;43m'\u001b[39;49m\u001b[43m]\u001b[49m)\n\u001b[1;32m      2\u001b[0m \u001b[38;5;66;03m# Order_purchase_timestamp 데이트타입변경\u001b[39;00m\n",
      "File \u001b[0;32m~/.local/lib/python3.10/site-packages/pandas/core/frame.py:4090\u001b[0m, in \u001b[0;36mDataFrame.__getitem__\u001b[0;34m(self, key)\u001b[0m\n\u001b[1;32m   4088\u001b[0m \u001b[38;5;28;01mif\u001b[39;00m \u001b[38;5;28mself\u001b[39m\u001b[38;5;241m.\u001b[39mcolumns\u001b[38;5;241m.\u001b[39mnlevels \u001b[38;5;241m>\u001b[39m \u001b[38;5;241m1\u001b[39m:\n\u001b[1;32m   4089\u001b[0m     \u001b[38;5;28;01mreturn\u001b[39;00m \u001b[38;5;28mself\u001b[39m\u001b[38;5;241m.\u001b[39m_getitem_multilevel(key)\n\u001b[0;32m-> 4090\u001b[0m indexer \u001b[38;5;241m=\u001b[39m \u001b[38;5;28;43mself\u001b[39;49m\u001b[38;5;241;43m.\u001b[39;49m\u001b[43mcolumns\u001b[49m\u001b[38;5;241;43m.\u001b[39;49m\u001b[43mget_loc\u001b[49m\u001b[43m(\u001b[49m\u001b[43mkey\u001b[49m\u001b[43m)\u001b[49m\n\u001b[1;32m   4091\u001b[0m \u001b[38;5;28;01mif\u001b[39;00m is_integer(indexer):\n\u001b[1;32m   4092\u001b[0m     indexer \u001b[38;5;241m=\u001b[39m [indexer]\n",
      "File \u001b[0;32m~/.local/lib/python3.10/site-packages/pandas/core/indexes/base.py:3812\u001b[0m, in \u001b[0;36mIndex.get_loc\u001b[0;34m(self, key)\u001b[0m\n\u001b[1;32m   3807\u001b[0m     \u001b[38;5;28;01mif\u001b[39;00m \u001b[38;5;28misinstance\u001b[39m(casted_key, \u001b[38;5;28mslice\u001b[39m) \u001b[38;5;129;01mor\u001b[39;00m (\n\u001b[1;32m   3808\u001b[0m         \u001b[38;5;28misinstance\u001b[39m(casted_key, abc\u001b[38;5;241m.\u001b[39mIterable)\n\u001b[1;32m   3809\u001b[0m         \u001b[38;5;129;01mand\u001b[39;00m \u001b[38;5;28many\u001b[39m(\u001b[38;5;28misinstance\u001b[39m(x, \u001b[38;5;28mslice\u001b[39m) \u001b[38;5;28;01mfor\u001b[39;00m x \u001b[38;5;129;01min\u001b[39;00m casted_key)\n\u001b[1;32m   3810\u001b[0m     ):\n\u001b[1;32m   3811\u001b[0m         \u001b[38;5;28;01mraise\u001b[39;00m InvalidIndexError(key)\n\u001b[0;32m-> 3812\u001b[0m     \u001b[38;5;28;01mraise\u001b[39;00m \u001b[38;5;167;01mKeyError\u001b[39;00m(key) \u001b[38;5;28;01mfrom\u001b[39;00m \u001b[38;5;21;01merr\u001b[39;00m\n\u001b[1;32m   3813\u001b[0m \u001b[38;5;28;01mexcept\u001b[39;00m \u001b[38;5;167;01mTypeError\u001b[39;00m:\n\u001b[1;32m   3814\u001b[0m     \u001b[38;5;66;03m# If we have a listlike key, _check_indexing_error will raise\u001b[39;00m\n\u001b[1;32m   3815\u001b[0m     \u001b[38;5;66;03m#  InvalidIndexError. Otherwise we fall through and re-raise\u001b[39;00m\n\u001b[1;32m   3816\u001b[0m     \u001b[38;5;66;03m#  the TypeError.\u001b[39;00m\n\u001b[1;32m   3817\u001b[0m     \u001b[38;5;28mself\u001b[39m\u001b[38;5;241m.\u001b[39m_check_indexing_error(key)\n",
      "\u001b[0;31mKeyError\u001b[0m: 'Order_purchase_timestamp'"
     ]
    }
   ],
   "source": [
    "merged_df['Order_purchase_timestamp'] = pd.to_datetime(merged_df['Order_purchase_timestamp'])\n",
    "# Order_purchase_timestamp 데이트타입변경"
   ]
  },
  {
   "cell_type": "code",
   "execution_count": 412,
   "id": "b6e93c59-3d53-4cfd-a18a-25c0070b705f",
   "metadata": {},
   "outputs": [],
   "source": [
    "# 각 고객별 최근 주문 일시를 구합니다.\n",
    "max_order_timestamps = merged_df.groupby('Customer_unique_id')['Order_purchase_timestamp'].transform('max')\n",
    "# latest_order_timestamp 열에 각 고객별 최근 주문 일시를 할당합니다.\n",
    "merged_df['latest_order_timestamp'] = max_order_timestamps"
   ]
  },
  {
   "cell_type": "code",
   "execution_count": 413,
   "id": "7bc92bb1-a318-4397-9ff2-6cca68c904b5",
   "metadata": {},
   "outputs": [],
   "source": [
    "# 각 고객별 첫 주문 일시를 구합니다.\n",
    "min_order_timestamps = merged_df.groupby('Customer_unique_id')['Order_purchase_timestamp'].transform('min')\n",
    "# latest_order_timestamp 열에 각 고객별 첫 주문 일시를 할당합니다.\n",
    "merged_df['first_order_timestamp'] = min_order_timestamps"
   ]
  },
  {
   "cell_type": "code",
   "execution_count": 415,
   "id": "273b5770-cdbe-4a64-add3-ace3cbd41283",
   "metadata": {},
   "outputs": [],
   "source": [
    "# merged_df[merged_df.latest_order_timestamp!=merged_df.first_order_timestamp]\n",
    "# 값 확인용"
   ]
  },
  {
   "cell_type": "code",
   "execution_count": 417,
   "id": "ff4dafe1-24e9-448c-8521-7e1bc909e1b3",
   "metadata": {},
   "outputs": [],
   "source": [
    "# merged_df.iloc[0]"
   ]
  },
  {
   "cell_type": "code",
   "execution_count": 418,
   "id": "f5a11558-2600-4af0-8e49-cc6b7a600418",
   "metadata": {},
   "outputs": [],
   "source": [
    "# '재구매여부' 열 추가\n",
    "# 재구매컬럼에 대하여 이 값이 1이면 재구매한거나 Y 아니면 N저장\n",
    "merged_df['재구매여부'] = merged_df['재구매'].apply(lambda x: 'Y' if x ==1  else 'N')"
   ]
  },
  {
   "cell_type": "code",
   "execution_count": 420,
   "id": "2091107b-bf68-454d-9d29-f6b2aa0fb3ef",
   "metadata": {},
   "outputs": [],
   "source": [
    "# merged_df.head(1)"
   ]
  },
  {
   "cell_type": "code",
   "execution_count": 421,
   "id": "639cf4f8-fe9f-4538-9912-3a75c13428b6",
   "metadata": {},
   "outputs": [],
   "source": [
    "# '구매간격' 열 추가\n",
    "# latest_order_timestamp  first_order_timestamp 컬럼 데이트타입 변경\n",
    "merged_df['latest_order_timestamp'] = pd.to_datetime(merged_df['latest_order_timestamp'])\n",
    "merged_df['first_order_timestamp'] = pd.to_datetime(merged_df['first_order_timestamp'])\n",
    "\n",
    "# 두 값의 차이를 days로 변경\n",
    "merged_df['구매간격'] = (merged_df['latest_order_timestamp'] - merged_df['first_order_timestamp']).dt.days"
   ]
  },
  {
   "cell_type": "code",
   "execution_count": 423,
   "id": "a1e1bd1f-3552-4b5e-9f25-1f2f77e4a0d0",
   "metadata": {},
   "outputs": [],
   "source": [
    "# merged_df[\"구매간격\"].unique()\n",
    "# 값 출력"
   ]
  },
  {
   "cell_type": "code",
   "execution_count": 425,
   "id": "ddb7bf50-85d0-4705-b6d1-8ce881d6b51d",
   "metadata": {},
   "outputs": [],
   "source": [
    "# merged_df.iloc[0]\n",
    "# new_count 다른거구매횟수"
   ]
  },
  {
   "cell_type": "code",
   "execution_count": 429,
   "id": "f573b577-26aa-4ee0-b51f-ece1a9e8b03f",
   "metadata": {},
   "outputs": [],
   "source": [
    "# '구매주기' 열 추가\n",
    "# 만약 new_count의 값이 1이거나(한번만 샀다는거므로) 구매간격이 0이라면 => 한번만 샀거나 그날 산것이므로 구매주기에 0을 저장\n",
    "# 그게 아닐시 구매간격에서 new_count의 1뺀거를 나눈것이 구매주기 \n",
    "merged_df['구매주기'] = merged_df.apply\\\n",
    "(lambda row: 0 if (row['new_count'] - 1 == 0) or (row['구매간격'] == 0) else row['구매간격'] / (row['new_count'] - 1), axis=1)"
   ]
  },
  {
   "cell_type": "code",
   "execution_count": 431,
   "id": "e4fdef6c-6242-452b-bdc1-712396adf43a",
   "metadata": {},
   "outputs": [],
   "source": [
    "# merged_df.구매주기"
   ]
  },
  {
   "cell_type": "code",
   "execution_count": null,
   "id": "13fce59f-fddd-49d8-a675-8148f3fd2db6",
   "metadata": {},
   "outputs": [],
   "source": []
  },
  {
   "cell_type": "code",
   "execution_count": 433,
   "id": "8facab64-f44b-46e2-9712-48f214bde3e6",
   "metadata": {},
   "outputs": [],
   "source": [
    "# merged_df.구매주기.value_counts()\n",
    "# 값 확인"
   ]
  },
  {
   "cell_type": "code",
   "execution_count": 434,
   "id": "e3c496f5-ffc3-4ada-bc48-ae19048c21ed",
   "metadata": {},
   "outputs": [
    {
     "data": {
      "text/html": [
       "<div>\n",
       "<style scoped>\n",
       "    .dataframe tbody tr th:only-of-type {\n",
       "        vertical-align: middle;\n",
       "    }\n",
       "\n",
       "    .dataframe tbody tr th {\n",
       "        vertical-align: top;\n",
       "    }\n",
       "\n",
       "    .dataframe thead th {\n",
       "        text-align: right;\n",
       "    }\n",
       "</style>\n",
       "<table border=\"1\" class=\"dataframe\">\n",
       "  <thead>\n",
       "    <tr style=\"text-align: right;\">\n",
       "      <th></th>\n",
       "      <th>Order_purchase_year</th>\n",
       "      <th>Order_purchase_month</th>\n",
       "      <th>Order_purchase_day</th>\n",
       "      <th>Customer_unique_id</th>\n",
       "      <th>Product_id</th>\n",
       "      <th>Order_id</th>\n",
       "      <th>YearMonth</th>\n",
       "      <th>new_count</th>\n",
       "      <th>재구매</th>\n",
       "      <th>Seller_id</th>\n",
       "      <th>...</th>\n",
       "      <th>time_diff_customer_delivery</th>\n",
       "      <th>time_diff_purchase_carrier_second</th>\n",
       "      <th>time_diff_purchase_customer_second</th>\n",
       "      <th>time_diff_carrier_customer_second</th>\n",
       "      <th>time_diff_customer_delivery_second</th>\n",
       "      <th>latest_order_timestamp</th>\n",
       "      <th>first_order_timestamp</th>\n",
       "      <th>재구매여부</th>\n",
       "      <th>구매간격</th>\n",
       "      <th>구매주기</th>\n",
       "    </tr>\n",
       "  </thead>\n",
       "  <tbody>\n",
       "    <tr>\n",
       "      <th>1</th>\n",
       "      <td>2017</td>\n",
       "      <td>10</td>\n",
       "      <td>3</td>\n",
       "      <td>CUSTOMER_Unique_09766</td>\n",
       "      <td>PRODUCT_13424</td>\n",
       "      <td>ORDER_82627</td>\n",
       "      <td>201710</td>\n",
       "      <td>3.0</td>\n",
       "      <td>1</td>\n",
       "      <td>SELLER_1784</td>\n",
       "      <td>...</td>\n",
       "      <td>0 days 09:57:47</td>\n",
       "      <td>1743443.0</td>\n",
       "      <td>2002643.0</td>\n",
       "      <td>259200.0</td>\n",
       "      <td>35867.0</td>\n",
       "      <td>2019-06-28 11:46:04</td>\n",
       "      <td>2017-10-03 09:44:50</td>\n",
       "      <td>Y</td>\n",
       "      <td>633</td>\n",
       "      <td>316.5</td>\n",
       "    </tr>\n",
       "    <tr>\n",
       "      <th>8</th>\n",
       "      <td>2017</td>\n",
       "      <td>10</td>\n",
       "      <td>4</td>\n",
       "      <td>CUSTOMER_Unique_00436</td>\n",
       "      <td>PRODUCT_01434</td>\n",
       "      <td>ORDER_76292</td>\n",
       "      <td>201710</td>\n",
       "      <td>2.0</td>\n",
       "      <td>1</td>\n",
       "      <td>SELLER_1696</td>\n",
       "      <td>...</td>\n",
       "      <td>23 days 00:46:18</td>\n",
       "      <td>2229333.0</td>\n",
       "      <td>2363069.0</td>\n",
       "      <td>133736.0</td>\n",
       "      <td>1989978.0</td>\n",
       "      <td>2018-07-28 09:34:29</td>\n",
       "      <td>2017-10-04 14:49:13</td>\n",
       "      <td>Y</td>\n",
       "      <td>296</td>\n",
       "      <td>296.0</td>\n",
       "    </tr>\n",
       "    <tr>\n",
       "      <th>74</th>\n",
       "      <td>2017</td>\n",
       "      <td>10</td>\n",
       "      <td>5</td>\n",
       "      <td>CUSTOMER_Unique_17408</td>\n",
       "      <td>PRODUCT_09474</td>\n",
       "      <td>ORDER_76570</td>\n",
       "      <td>201710</td>\n",
       "      <td>2.0</td>\n",
       "      <td>1</td>\n",
       "      <td>SELLER_1696</td>\n",
       "      <td>...</td>\n",
       "      <td>40 days 07:56:14</td>\n",
       "      <td>444651.0</td>\n",
       "      <td>703851.0</td>\n",
       "      <td>259200.0</td>\n",
       "      <td>3484574.0</td>\n",
       "      <td>2019-03-13 22:28:21</td>\n",
       "      <td>2017-10-05 12:32:55</td>\n",
       "      <td>Y</td>\n",
       "      <td>524</td>\n",
       "      <td>524.0</td>\n",
       "    </tr>\n",
       "    <tr>\n",
       "      <th>85</th>\n",
       "      <td>2017</td>\n",
       "      <td>10</td>\n",
       "      <td>5</td>\n",
       "      <td>CUSTOMER_Unique_54276</td>\n",
       "      <td>PRODUCT_16635</td>\n",
       "      <td>ORDER_04066</td>\n",
       "      <td>201710</td>\n",
       "      <td>2.0</td>\n",
       "      <td>1</td>\n",
       "      <td>SELLER_2117</td>\n",
       "      <td>...</td>\n",
       "      <td>28 days 10:32:20</td>\n",
       "      <td>2132204.0</td>\n",
       "      <td>2218604.0</td>\n",
       "      <td>86400.0</td>\n",
       "      <td>2457140.0</td>\n",
       "      <td>2019-05-09 13:49:19</td>\n",
       "      <td>2017-10-05 21:10:56</td>\n",
       "      <td>Y</td>\n",
       "      <td>580</td>\n",
       "      <td>580.0</td>\n",
       "    </tr>\n",
       "    <tr>\n",
       "      <th>106</th>\n",
       "      <td>2017</td>\n",
       "      <td>10</td>\n",
       "      <td>6</td>\n",
       "      <td>CUSTOMER_Unique_01788</td>\n",
       "      <td>PRODUCT_04193</td>\n",
       "      <td>ORDER_76576</td>\n",
       "      <td>201710</td>\n",
       "      <td>2.0</td>\n",
       "      <td>1</td>\n",
       "      <td>SELLER_0453</td>\n",
       "      <td>...</td>\n",
       "      <td>42 days 07:38:03</td>\n",
       "      <td>1284503.0</td>\n",
       "      <td>1543703.0</td>\n",
       "      <td>259200.0</td>\n",
       "      <td>3656283.0</td>\n",
       "      <td>2019-06-07 19:03:12</td>\n",
       "      <td>2017-10-06 19:33:34</td>\n",
       "      <td>Y</td>\n",
       "      <td>608</td>\n",
       "      <td>608.0</td>\n",
       "    </tr>\n",
       "    <tr>\n",
       "      <th>...</th>\n",
       "      <td>...</td>\n",
       "      <td>...</td>\n",
       "      <td>...</td>\n",
       "      <td>...</td>\n",
       "      <td>...</td>\n",
       "      <td>...</td>\n",
       "      <td>...</td>\n",
       "      <td>...</td>\n",
       "      <td>...</td>\n",
       "      <td>...</td>\n",
       "      <td>...</td>\n",
       "      <td>...</td>\n",
       "      <td>...</td>\n",
       "      <td>...</td>\n",
       "      <td>...</td>\n",
       "      <td>...</td>\n",
       "      <td>...</td>\n",
       "      <td>...</td>\n",
       "      <td>...</td>\n",
       "      <td>...</td>\n",
       "      <td>...</td>\n",
       "    </tr>\n",
       "    <tr>\n",
       "      <th>90047</th>\n",
       "      <td>2019</td>\n",
       "      <td>7</td>\n",
       "      <td>26</td>\n",
       "      <td>CUSTOMER_Unique_01248</td>\n",
       "      <td>PRODUCT_20651</td>\n",
       "      <td>ORDER_35364</td>\n",
       "      <td>201907</td>\n",
       "      <td>2.0</td>\n",
       "      <td>1</td>\n",
       "      <td>SELLER_2283</td>\n",
       "      <td>...</td>\n",
       "      <td>3 days 08:24:05</td>\n",
       "      <td>75768.0</td>\n",
       "      <td>322963.0</td>\n",
       "      <td>247195.0</td>\n",
       "      <td>289445.0</td>\n",
       "      <td>2019-07-26 21:53:12</td>\n",
       "      <td>2019-04-19 06:47:26</td>\n",
       "      <td>Y</td>\n",
       "      <td>98</td>\n",
       "      <td>98.0</td>\n",
       "    </tr>\n",
       "    <tr>\n",
       "      <th>90084</th>\n",
       "      <td>2019</td>\n",
       "      <td>7</td>\n",
       "      <td>26</td>\n",
       "      <td>CUSTOMER_Unique_39181</td>\n",
       "      <td>PRODUCT_02009</td>\n",
       "      <td>ORDER_72486</td>\n",
       "      <td>201907</td>\n",
       "      <td>2.0</td>\n",
       "      <td>1</td>\n",
       "      <td>SELLER_1768</td>\n",
       "      <td>...</td>\n",
       "      <td>20 days 06:55:46</td>\n",
       "      <td>5546.0</td>\n",
       "      <td>375100.0</td>\n",
       "      <td>369554.0</td>\n",
       "      <td>1752946.0</td>\n",
       "      <td>2019-07-26 08:52:34</td>\n",
       "      <td>2018-05-16 12:32:35</td>\n",
       "      <td>Y</td>\n",
       "      <td>435</td>\n",
       "      <td>435.0</td>\n",
       "    </tr>\n",
       "    <tr>\n",
       "      <th>90085</th>\n",
       "      <td>2019</td>\n",
       "      <td>7</td>\n",
       "      <td>26</td>\n",
       "      <td>CUSTOMER_Unique_39181</td>\n",
       "      <td>PRODUCT_25671</td>\n",
       "      <td>ORDER_72486</td>\n",
       "      <td>201907</td>\n",
       "      <td>2.0</td>\n",
       "      <td>1</td>\n",
       "      <td>SELLER_0449</td>\n",
       "      <td>...</td>\n",
       "      <td>20 days 06:55:46</td>\n",
       "      <td>5546.0</td>\n",
       "      <td>375100.0</td>\n",
       "      <td>369554.0</td>\n",
       "      <td>1752946.0</td>\n",
       "      <td>2019-07-26 08:52:34</td>\n",
       "      <td>2018-05-16 12:32:35</td>\n",
       "      <td>Y</td>\n",
       "      <td>435</td>\n",
       "      <td>435.0</td>\n",
       "    </tr>\n",
       "    <tr>\n",
       "      <th>90093</th>\n",
       "      <td>2019</td>\n",
       "      <td>7</td>\n",
       "      <td>26</td>\n",
       "      <td>CUSTOMER_Unique_46789</td>\n",
       "      <td>PRODUCT_05898</td>\n",
       "      <td>ORDER_07516</td>\n",
       "      <td>201907</td>\n",
       "      <td>2.0</td>\n",
       "      <td>1</td>\n",
       "      <td>SELLER_0713</td>\n",
       "      <td>...</td>\n",
       "      <td>23 days 11:53:48</td>\n",
       "      <td>34461.0</td>\n",
       "      <td>383853.0</td>\n",
       "      <td>349392.0</td>\n",
       "      <td>2030028.0</td>\n",
       "      <td>2019-07-26 01:28:39</td>\n",
       "      <td>2019-07-03 17:28:51</td>\n",
       "      <td>Y</td>\n",
       "      <td>22</td>\n",
       "      <td>22.0</td>\n",
       "    </tr>\n",
       "    <tr>\n",
       "      <th>90166</th>\n",
       "      <td>2019</td>\n",
       "      <td>7</td>\n",
       "      <td>28</td>\n",
       "      <td>CUSTOMER_Unique_74408</td>\n",
       "      <td>PRODUCT_03335</td>\n",
       "      <td>ORDER_51588</td>\n",
       "      <td>201907</td>\n",
       "      <td>2.0</td>\n",
       "      <td>1</td>\n",
       "      <td>SELLER_0016</td>\n",
       "      <td>...</td>\n",
       "      <td>6 days 09:51:04</td>\n",
       "      <td>231267.0</td>\n",
       "      <td>306863.0</td>\n",
       "      <td>75596.0</td>\n",
       "      <td>553864.0</td>\n",
       "      <td>2019-07-28 00:54:33</td>\n",
       "      <td>2019-04-07 00:16:14</td>\n",
       "      <td>Y</td>\n",
       "      <td>112</td>\n",
       "      <td>112.0</td>\n",
       "    </tr>\n",
       "  </tbody>\n",
       "</table>\n",
       "<p>3976 rows × 53 columns</p>\n",
       "</div>"
      ],
      "text/plain": [
       "       Order_purchase_year  Order_purchase_month  Order_purchase_day  \\\n",
       "1                     2017                    10                   3   \n",
       "8                     2017                    10                   4   \n",
       "74                    2017                    10                   5   \n",
       "85                    2017                    10                   5   \n",
       "106                   2017                    10                   6   \n",
       "...                    ...                   ...                 ...   \n",
       "90047                 2019                     7                  26   \n",
       "90084                 2019                     7                  26   \n",
       "90085                 2019                     7                  26   \n",
       "90093                 2019                     7                  26   \n",
       "90166                 2019                     7                  28   \n",
       "\n",
       "          Customer_unique_id     Product_id     Order_id YearMonth  new_count  \\\n",
       "1      CUSTOMER_Unique_09766  PRODUCT_13424  ORDER_82627    201710        3.0   \n",
       "8      CUSTOMER_Unique_00436  PRODUCT_01434  ORDER_76292    201710        2.0   \n",
       "74     CUSTOMER_Unique_17408  PRODUCT_09474  ORDER_76570    201710        2.0   \n",
       "85     CUSTOMER_Unique_54276  PRODUCT_16635  ORDER_04066    201710        2.0   \n",
       "106    CUSTOMER_Unique_01788  PRODUCT_04193  ORDER_76576    201710        2.0   \n",
       "...                      ...            ...          ...       ...        ...   \n",
       "90047  CUSTOMER_Unique_01248  PRODUCT_20651  ORDER_35364    201907        2.0   \n",
       "90084  CUSTOMER_Unique_39181  PRODUCT_02009  ORDER_72486    201907        2.0   \n",
       "90085  CUSTOMER_Unique_39181  PRODUCT_25671  ORDER_72486    201907        2.0   \n",
       "90093  CUSTOMER_Unique_46789  PRODUCT_05898  ORDER_07516    201907        2.0   \n",
       "90166  CUSTOMER_Unique_74408  PRODUCT_03335  ORDER_51588    201907        2.0   \n",
       "\n",
       "       재구매    Seller_id  ... time_diff_customer_delivery  \\\n",
       "1        1  SELLER_1784  ...             0 days 09:57:47   \n",
       "8        1  SELLER_1696  ...            23 days 00:46:18   \n",
       "74       1  SELLER_1696  ...            40 days 07:56:14   \n",
       "85       1  SELLER_2117  ...            28 days 10:32:20   \n",
       "106      1  SELLER_0453  ...            42 days 07:38:03   \n",
       "...    ...          ...  ...                         ...   \n",
       "90047    1  SELLER_2283  ...             3 days 08:24:05   \n",
       "90084    1  SELLER_1768  ...            20 days 06:55:46   \n",
       "90085    1  SELLER_0449  ...            20 days 06:55:46   \n",
       "90093    1  SELLER_0713  ...            23 days 11:53:48   \n",
       "90166    1  SELLER_0016  ...             6 days 09:51:04   \n",
       "\n",
       "       time_diff_purchase_carrier_second time_diff_purchase_customer_second  \\\n",
       "1                              1743443.0                          2002643.0   \n",
       "8                              2229333.0                          2363069.0   \n",
       "74                              444651.0                           703851.0   \n",
       "85                             2132204.0                          2218604.0   \n",
       "106                            1284503.0                          1543703.0   \n",
       "...                                  ...                                ...   \n",
       "90047                            75768.0                           322963.0   \n",
       "90084                             5546.0                           375100.0   \n",
       "90085                             5546.0                           375100.0   \n",
       "90093                            34461.0                           383853.0   \n",
       "90166                           231267.0                           306863.0   \n",
       "\n",
       "      time_diff_carrier_customer_second  time_diff_customer_delivery_second  \\\n",
       "1                              259200.0                             35867.0   \n",
       "8                              133736.0                           1989978.0   \n",
       "74                             259200.0                           3484574.0   \n",
       "85                              86400.0                           2457140.0   \n",
       "106                            259200.0                           3656283.0   \n",
       "...                                 ...                                 ...   \n",
       "90047                          247195.0                            289445.0   \n",
       "90084                          369554.0                           1752946.0   \n",
       "90085                          369554.0                           1752946.0   \n",
       "90093                          349392.0                           2030028.0   \n",
       "90166                           75596.0                            553864.0   \n",
       "\n",
       "       latest_order_timestamp first_order_timestamp 재구매여부 구매간격   구매주기  \n",
       "1         2019-06-28 11:46:04   2017-10-03 09:44:50     Y  633  316.5  \n",
       "8         2018-07-28 09:34:29   2017-10-04 14:49:13     Y  296  296.0  \n",
       "74        2019-03-13 22:28:21   2017-10-05 12:32:55     Y  524  524.0  \n",
       "85        2019-05-09 13:49:19   2017-10-05 21:10:56     Y  580  580.0  \n",
       "106       2019-06-07 19:03:12   2017-10-06 19:33:34     Y  608  608.0  \n",
       "...                       ...                   ...   ...  ...    ...  \n",
       "90047     2019-07-26 21:53:12   2019-04-19 06:47:26     Y   98   98.0  \n",
       "90084     2019-07-26 08:52:34   2018-05-16 12:32:35     Y  435  435.0  \n",
       "90085     2019-07-26 08:52:34   2018-05-16 12:32:35     Y  435  435.0  \n",
       "90093     2019-07-26 01:28:39   2019-07-03 17:28:51     Y   22   22.0  \n",
       "90166     2019-07-28 00:54:33   2019-04-07 00:16:14     Y  112  112.0  \n",
       "\n",
       "[3976 rows x 53 columns]"
      ]
     },
     "execution_count": 434,
     "metadata": {},
     "output_type": "execute_result"
    }
   ],
   "source": [
    "merged_df[merged_df['구매주기'] > 0]\n",
    "# 값확인"
   ]
  },
  {
   "cell_type": "code",
   "execution_count": 436,
   "id": "a2c98e9c-d43f-4cdf-85cb-81dc725a7f54",
   "metadata": {},
   "outputs": [],
   "source": [
    "# merged_df[merged_df['Customer_unique_id'] == 'CUSTOMER_Unique_85216']\n",
    "#값 확인"
   ]
  },
  {
   "cell_type": "code",
   "execution_count": 732,
   "id": "a7fb91a7-729e-44d9-b7c5-0db8136c6579",
   "metadata": {},
   "outputs": [
    {
     "data": {
      "text/html": [
       "<div>\n",
       "<style scoped>\n",
       "    .dataframe tbody tr th:only-of-type {\n",
       "        vertical-align: middle;\n",
       "    }\n",
       "\n",
       "    .dataframe tbody tr th {\n",
       "        vertical-align: top;\n",
       "    }\n",
       "\n",
       "    .dataframe thead th {\n",
       "        text-align: right;\n",
       "    }\n",
       "</style>\n",
       "<table border=\"1\" class=\"dataframe\">\n",
       "  <thead>\n",
       "    <tr style=\"text-align: right;\">\n",
       "      <th></th>\n",
       "      <th>구매주기_구간</th>\n",
       "      <th>Customer_unique_id</th>\n",
       "      <th>new_count</th>\n",
       "      <th>Freight_value</th>\n",
       "      <th>Price</th>\n",
       "      <th>Payment_value</th>\n",
       "      <th>구매당순이익</th>\n",
       "      <th>구매당운송비</th>\n",
       "      <th>고객당순이익</th>\n",
       "      <th>고객당구매수</th>\n",
       "      <th>고객당매출액</th>\n",
       "      <th>구매주기_구간_7일 이내</th>\n",
       "      <th>구매주기_구간_14일 이내</th>\n",
       "      <th>구매주기_구간_21일 이내</th>\n",
       "      <th>구매주기_구간_28일 이내</th>\n",
       "      <th>구매주기_구간_29일 이상</th>\n",
       "    </tr>\n",
       "  </thead>\n",
       "  <tbody>\n",
       "  </tbody>\n",
       "</table>\n",
       "</div>"
      ],
      "text/plain": [
       "Empty DataFrame\n",
       "Columns: [구매주기_구간, Customer_unique_id, new_count, Freight_value, Price, Payment_value, 구매당순이익, 구매당운송비, 고객당순이익, 고객당구매수, 고객당매출액, 구매주기_구간_7일 이내, 구매주기_구간_14일 이내, 구매주기_구간_21일 이내, 구매주기_구간_28일 이내, 구매주기_구간_29일 이상]\n",
       "Index: []"
      ]
     },
     "execution_count": 732,
     "metadata": {},
     "output_type": "execute_result"
    }
   ],
   "source": [
    "merged_df[merged_df.Customer_unique_id.duplicated()]"
   ]
  },
  {
   "cell_type": "code",
   "execution_count": 439,
   "id": "0d7aff66-b9ea-4531-a5ba-dd9009951a67",
   "metadata": {},
   "outputs": [],
   "source": [
    "# merged_df[merged_df['new_count'] >= 2].sort_values(by='Customer_unique_id')\n",
    "# 값확인"
   ]
  },
  {
   "cell_type": "code",
   "execution_count": 455,
   "id": "ec91c40b-a552-4504-90ee-992e197092d1",
   "metadata": {},
   "outputs": [],
   "source": [
    "# Customer_unique_id로 묶어서 order_count Freight_value Price의 합 을 df로 \n",
    "# 이거 여기서 new_count sum()하는게 맞나?? 바로 아래 CUSTOMER_Unique_00004 예시를 보면 new_count를 쓰면 안된다.\n",
    "# 왜? 이미 new_count가 Customer_unique_id값으로 group_by한것의 sum()값이므로 \n",
    "tmp2 = merged_df.groupby(['Customer_unique_id'], as_index=False)[['Freight_value', 'Price']].sum()"
   ]
  },
  {
   "cell_type": "code",
   "execution_count": 733,
   "id": "30e25fa9-be0b-4483-96a1-cc40a23abacd",
   "metadata": {},
   "outputs": [
    {
     "data": {
      "text/html": [
       "<div>\n",
       "<style scoped>\n",
       "    .dataframe tbody tr th:only-of-type {\n",
       "        vertical-align: middle;\n",
       "    }\n",
       "\n",
       "    .dataframe tbody tr th {\n",
       "        vertical-align: top;\n",
       "    }\n",
       "\n",
       "    .dataframe thead th {\n",
       "        text-align: right;\n",
       "    }\n",
       "</style>\n",
       "<table border=\"1\" class=\"dataframe\">\n",
       "  <thead>\n",
       "    <tr style=\"text-align: right;\">\n",
       "      <th></th>\n",
       "      <th>구매주기_구간</th>\n",
       "      <th>Customer_unique_id</th>\n",
       "      <th>new_count</th>\n",
       "      <th>Freight_value</th>\n",
       "      <th>Price</th>\n",
       "      <th>Payment_value</th>\n",
       "      <th>구매당순이익</th>\n",
       "      <th>구매당운송비</th>\n",
       "      <th>고객당순이익</th>\n",
       "      <th>고객당구매수</th>\n",
       "      <th>고객당매출액</th>\n",
       "      <th>구매주기_구간_7일 이내</th>\n",
       "      <th>구매주기_구간_14일 이내</th>\n",
       "      <th>구매주기_구간_21일 이내</th>\n",
       "      <th>구매주기_구간_28일 이내</th>\n",
       "      <th>구매주기_구간_29일 이상</th>\n",
       "    </tr>\n",
       "  </thead>\n",
       "  <tbody>\n",
       "  </tbody>\n",
       "</table>\n",
       "</div>"
      ],
      "text/plain": [
       "Empty DataFrame\n",
       "Columns: [구매주기_구간, Customer_unique_id, new_count, Freight_value, Price, Payment_value, 구매당순이익, 구매당운송비, 고객당순이익, 고객당구매수, 고객당매출액, 구매주기_구간_7일 이내, 구매주기_구간_14일 이내, 구매주기_구간_21일 이내, 구매주기_구간_28일 이내, 구매주기_구간_29일 이상]\n",
       "Index: []"
      ]
     },
     "execution_count": 733,
     "metadata": {},
     "output_type": "execute_result"
    }
   ],
   "source": [
    "merged_df[merged_df.Customer_unique_id==\"CUSTOMER_Unique_00012\"]"
   ]
  },
  {
   "cell_type": "code",
   "execution_count": 459,
   "id": "6ea1fc7e-8820-4c57-a706-d1aec96559ad",
   "metadata": {},
   "outputs": [],
   "source": [
    "# merged_df.shape[0]\n",
    "# for문 돌릴 로우개수"
   ]
  },
  {
   "cell_type": "code",
   "execution_count": 478,
   "id": "9f9fef6d-191d-49ff-95a0-31b5a7a70d80",
   "metadata": {},
   "outputs": [],
   "source": [
    "# 유니크값이 1개인가를 확인해보자\n",
    "# len(merged_df[merged_df.Customer_unique_id==\"CUSTOMER_Unique_00012\"][\"new_count\"].unique())\n",
    "# 확인용 전부다 len길이가 1이어야만한다. 1이 아닌게 있다는건 전처리 과정에서 오류가 있었다는것\n",
    "# 즉 같은 Customer_unique_id에서 new_count 다른게 존재한다는것...\n",
    "unique_list=[]"
   ]
  },
  {
   "cell_type": "code",
   "execution_count": 480,
   "id": "040c5407-a339-4d36-95c1-5e64e05e0c61",
   "metadata": {},
   "outputs": [
    {
     "name": "stderr",
     "output_type": "stream",
     "text": [
      "100%|████████████████████████████████████████████████████████████████████████████| 84130/84130 [09:34<00:00, 146.39it/s]\n"
     ]
    }
   ],
   "source": [
    "# 안돌려도 되는코드\n",
    "for i in tqdm(range(len(id_list))):\n",
    "    # Customer_unique_id에 merge_df에서의 new_count값을 넣는다\n",
    "    # tmp2.loc[tmp2.Customer_unique_id==id_list[i] , \"new_count\"] = merged_df[merged_df.Customer_unique_id==id_list[i]][\"new_count\"].unique()\n",
    "    unique_list.append(len(merged_df[merged_df.Customer_unique_id==id_list[i]][\"new_count\"].unique()))"
   ]
  },
  {
   "cell_type": "code",
   "execution_count": 484,
   "id": "b97c1033-c1c2-4283-80b0-30ad7dc64c41",
   "metadata": {},
   "outputs": [
    {
     "name": "stdout",
     "output_type": "stream",
     "text": [
      "[1]\n"
     ]
    }
   ],
   "source": [
    "# 다행이 1이 나왔이제 값 이전...\n",
    "unique_values = list(set(unique_list))\n",
    "print(unique_values) "
   ]
  },
  {
   "cell_type": "code",
   "execution_count": 485,
   "id": "f8d7d426-24f3-4bef-90fe-73a8f8c80321",
   "metadata": {},
   "outputs": [
    {
     "name": "stderr",
     "output_type": "stream",
     "text": [
      "100%|█████████████████████████████████████████████████████████████████████████████| 84130/84130 [18:48<00:00, 74.52it/s]\n"
     ]
    }
   ],
   "source": [
    "for i in tqdm(range(len(id_list))):\n",
    "    # Customer_unique_id에 merge_df에서의 new_count값을 넣는다\n",
    "    tmp2.loc[tmp2.Customer_unique_id==id_list[i] , \"new_count\"] = merged_df[merged_df.Customer_unique_id==id_list[i]][\"new_count\"].unique()"
   ]
  },
  {
   "cell_type": "code",
   "execution_count": null,
   "id": "3020035a-202d-4ea3-a2c6-a6c6d7add00f",
   "metadata": {},
   "outputs": [],
   "source": []
  },
  {
   "cell_type": "code",
   "execution_count": 490,
   "id": "81907e52-cef9-46f1-911d-d52baabd18ed",
   "metadata": {},
   "outputs": [],
   "source": [
    "with open(\"./merged_df.pkl\", \"wb\") as file:\n",
    "    pickle.dump(merged_df, file)"
   ]
  },
  {
   "cell_type": "code",
   "execution_count": 491,
   "id": "213f8bcd-a6b7-4a23-8fb2-85ca1c03ac7f",
   "metadata": {},
   "outputs": [],
   "source": [
    "with open(\"./tmp2.pkl\", \"wb\") as file:\n",
    "    pickle.dump(tmp2, file)"
   ]
  },
  {
   "cell_type": "code",
   "execution_count": 661,
   "id": "f93d31ee-a2bb-42ac-aa81-31a1dd873215",
   "metadata": {},
   "outputs": [
    {
     "data": {
      "text/html": [
       "<div>\n",
       "<style scoped>\n",
       "    .dataframe tbody tr th:only-of-type {\n",
       "        vertical-align: middle;\n",
       "    }\n",
       "\n",
       "    .dataframe tbody tr th {\n",
       "        vertical-align: top;\n",
       "    }\n",
       "\n",
       "    .dataframe thead th {\n",
       "        text-align: right;\n",
       "    }\n",
       "</style>\n",
       "<table border=\"1\" class=\"dataframe\">\n",
       "  <thead>\n",
       "    <tr style=\"text-align: right;\">\n",
       "      <th></th>\n",
       "      <th>Order_purchase_year</th>\n",
       "      <th>Order_purchase_month</th>\n",
       "      <th>Order_purchase_day</th>\n",
       "      <th>Customer_unique_id</th>\n",
       "      <th>Product_id</th>\n",
       "      <th>Order_id</th>\n",
       "      <th>YearMonth</th>\n",
       "      <th>new_count</th>\n",
       "      <th>재구매</th>\n",
       "      <th>Seller_id</th>\n",
       "      <th>...</th>\n",
       "      <th>time_diff_customer_delivery</th>\n",
       "      <th>time_diff_purchase_carrier_second</th>\n",
       "      <th>time_diff_purchase_customer_second</th>\n",
       "      <th>time_diff_carrier_customer_second</th>\n",
       "      <th>time_diff_customer_delivery_second</th>\n",
       "      <th>latest_order_timestamp</th>\n",
       "      <th>first_order_timestamp</th>\n",
       "      <th>재구매여부</th>\n",
       "      <th>구매간격</th>\n",
       "      <th>구매주기</th>\n",
       "    </tr>\n",
       "  </thead>\n",
       "  <tbody>\n",
       "    <tr>\n",
       "      <th>24651</th>\n",
       "      <td>2018</td>\n",
       "      <td>9</td>\n",
       "      <td>14</td>\n",
       "      <td>CUSTOMER_Unique_00004</td>\n",
       "      <td>PRODUCT_24575</td>\n",
       "      <td>ORDER_61678</td>\n",
       "      <td>201809</td>\n",
       "      <td>2.0</td>\n",
       "      <td>1</td>\n",
       "      <td>SELLER_2293</td>\n",
       "      <td>...</td>\n",
       "      <td>5 days 06:27:17</td>\n",
       "      <td>357189.0</td>\n",
       "      <td>1207092.0</td>\n",
       "      <td>849903.0</td>\n",
       "      <td>455237.0</td>\n",
       "      <td>2018-10-15 12:44:13</td>\n",
       "      <td>2018-09-14 18:14:31</td>\n",
       "      <td>Y</td>\n",
       "      <td>30</td>\n",
       "      <td>30.0</td>\n",
       "    </tr>\n",
       "    <tr>\n",
       "      <th>29080</th>\n",
       "      <td>2018</td>\n",
       "      <td>10</td>\n",
       "      <td>15</td>\n",
       "      <td>CUSTOMER_Unique_00004</td>\n",
       "      <td>PRODUCT_23082</td>\n",
       "      <td>ORDER_84093</td>\n",
       "      <td>201810</td>\n",
       "      <td>2.0</td>\n",
       "      <td>1</td>\n",
       "      <td>SELLER_0807</td>\n",
       "      <td>...</td>\n",
       "      <td>13 days 06:59:56</td>\n",
       "      <td>199281.0</td>\n",
       "      <td>879351.0</td>\n",
       "      <td>680070.0</td>\n",
       "      <td>1148396.0</td>\n",
       "      <td>2018-10-15 12:44:13</td>\n",
       "      <td>2018-09-14 18:14:31</td>\n",
       "      <td>Y</td>\n",
       "      <td>30</td>\n",
       "      <td>30.0</td>\n",
       "    </tr>\n",
       "  </tbody>\n",
       "</table>\n",
       "<p>2 rows × 53 columns</p>\n",
       "</div>"
      ],
      "text/plain": [
       "       Order_purchase_year  Order_purchase_month  Order_purchase_day  \\\n",
       "24651                 2018                     9                  14   \n",
       "29080                 2018                    10                  15   \n",
       "\n",
       "          Customer_unique_id     Product_id     Order_id YearMonth  new_count  \\\n",
       "24651  CUSTOMER_Unique_00004  PRODUCT_24575  ORDER_61678    201809        2.0   \n",
       "29080  CUSTOMER_Unique_00004  PRODUCT_23082  ORDER_84093    201810        2.0   \n",
       "\n",
       "       재구매    Seller_id  ... time_diff_customer_delivery  \\\n",
       "24651    1  SELLER_2293  ...             5 days 06:27:17   \n",
       "29080    1  SELLER_0807  ...            13 days 06:59:56   \n",
       "\n",
       "       time_diff_purchase_carrier_second time_diff_purchase_customer_second  \\\n",
       "24651                           357189.0                          1207092.0   \n",
       "29080                           199281.0                           879351.0   \n",
       "\n",
       "      time_diff_carrier_customer_second  time_diff_customer_delivery_second  \\\n",
       "24651                          849903.0                            455237.0   \n",
       "29080                          680070.0                           1148396.0   \n",
       "\n",
       "       latest_order_timestamp first_order_timestamp 재구매여부 구매간격  구매주기  \n",
       "24651     2018-10-15 12:44:13   2018-09-14 18:14:31     Y   30  30.0  \n",
       "29080     2018-10-15 12:44:13   2018-09-14 18:14:31     Y   30  30.0  \n",
       "\n",
       "[2 rows x 53 columns]"
      ]
     },
     "execution_count": 661,
     "metadata": {},
     "output_type": "execute_result"
    }
   ],
   "source": [
    "merged_df[merged_df.Customer_unique_id==\"CUSTOMER_Unique_00004\"]"
   ]
  },
  {
   "cell_type": "code",
   "execution_count": null,
   "id": "7ea5c1b7-8835-4892-a7c9-a52707b74321",
   "metadata": {},
   "outputs": [],
   "source": []
  },
  {
   "cell_type": "code",
   "execution_count": null,
   "id": "a85a5404-4d35-4695-a9fb-b260322da647",
   "metadata": {},
   "outputs": [],
   "source": []
  },
  {
   "cell_type": "code",
   "execution_count": 492,
   "id": "2234b1ab-a5a6-409d-8909-8522cda0ee39",
   "metadata": {},
   "outputs": [
    {
     "data": {
      "text/plain": [
       "84130"
      ]
     },
     "execution_count": 492,
     "metadata": {},
     "output_type": "execute_result"
    }
   ],
   "source": [
    "len(id_list)\n",
    "# tmp2.shape의 로우개수가 같으니 for문돌린다=>돌림"
   ]
  },
  {
   "cell_type": "code",
   "execution_count": 463,
   "id": "19132413-26da-40b0-87f7-b20f813e8d54",
   "metadata": {},
   "outputs": [
    {
     "data": {
      "text/plain": [
       "(84130, 3)"
      ]
     },
     "execution_count": 463,
     "metadata": {},
     "output_type": "execute_result"
    }
   ],
   "source": [
    "tmp2.shape"
   ]
  },
  {
   "cell_type": "code",
   "execution_count": 493,
   "id": "e8f4efe5-9342-421f-bf87-b2abc3e161f2",
   "metadata": {},
   "outputs": [],
   "source": [
    "# tmp2.head(20)\n",
    "# 값 확인"
   ]
  },
  {
   "cell_type": "code",
   "execution_count": 494,
   "id": "aa169859-46e8-418c-ba91-3f66be290901",
   "metadata": {},
   "outputs": [],
   "source": [
    "#tmp3 = total_df.groupby(['Customer_unique_id'])[['재구매여부', '구매주기']]\n",
    "# tatal-df에서 컬럼 3개 추출해서 새로운 df로\n",
    "tmp3 = merged_df[['Customer_unique_id','재구매여부', '구매주기']]"
   ]
  },
  {
   "cell_type": "code",
   "execution_count": 496,
   "id": "8ad782e6-65c4-494e-b275-c9d141719183",
   "metadata": {},
   "outputs": [],
   "source": [
    "# tmp3.head\n",
    "# 값 확인"
   ]
  },
  {
   "cell_type": "code",
   "execution_count": 497,
   "id": "4f32de64-4c75-4847-b66d-7d490c7da02f",
   "metadata": {},
   "outputs": [
    {
     "data": {
      "text/html": [
       "<div>\n",
       "<style scoped>\n",
       "    .dataframe tbody tr th:only-of-type {\n",
       "        vertical-align: middle;\n",
       "    }\n",
       "\n",
       "    .dataframe tbody tr th {\n",
       "        vertical-align: top;\n",
       "    }\n",
       "\n",
       "    .dataframe thead th {\n",
       "        text-align: right;\n",
       "    }\n",
       "</style>\n",
       "<table border=\"1\" class=\"dataframe\">\n",
       "  <thead>\n",
       "    <tr style=\"text-align: right;\">\n",
       "      <th></th>\n",
       "      <th>Customer_unique_id</th>\n",
       "      <th>Freight_value</th>\n",
       "      <th>Price</th>\n",
       "      <th>new_count</th>\n",
       "      <th>재구매여부</th>\n",
       "      <th>구매주기</th>\n",
       "    </tr>\n",
       "  </thead>\n",
       "  <tbody>\n",
       "    <tr>\n",
       "      <th>0</th>\n",
       "      <td>CUSTOMER_Unique_00000</td>\n",
       "      <td>21.88</td>\n",
       "      <td>124.99</td>\n",
       "      <td>1.0</td>\n",
       "      <td>N</td>\n",
       "      <td>0.0</td>\n",
       "    </tr>\n",
       "    <tr>\n",
       "      <th>1</th>\n",
       "      <td>CUSTOMER_Unique_00001</td>\n",
       "      <td>46.48</td>\n",
       "      <td>289.00</td>\n",
       "      <td>1.0</td>\n",
       "      <td>N</td>\n",
       "      <td>0.0</td>\n",
       "    </tr>\n",
       "    <tr>\n",
       "      <th>2</th>\n",
       "      <td>CUSTOMER_Unique_00002</td>\n",
       "      <td>17.79</td>\n",
       "      <td>139.94</td>\n",
       "      <td>1.0</td>\n",
       "      <td>N</td>\n",
       "      <td>0.0</td>\n",
       "    </tr>\n",
       "    <tr>\n",
       "      <th>3</th>\n",
       "      <td>CUSTOMER_Unique_00003</td>\n",
       "      <td>23.36</td>\n",
       "      <td>149.94</td>\n",
       "      <td>1.0</td>\n",
       "      <td>N</td>\n",
       "      <td>0.0</td>\n",
       "    </tr>\n",
       "    <tr>\n",
       "      <th>4</th>\n",
       "      <td>CUSTOMER_Unique_00004</td>\n",
       "      <td>59.36</td>\n",
       "      <td>506.52</td>\n",
       "      <td>2.0</td>\n",
       "      <td>Y</td>\n",
       "      <td>30.0</td>\n",
       "    </tr>\n",
       "    <tr>\n",
       "      <th>...</th>\n",
       "      <td>...</td>\n",
       "      <td>...</td>\n",
       "      <td>...</td>\n",
       "      <td>...</td>\n",
       "      <td>...</td>\n",
       "      <td>...</td>\n",
       "    </tr>\n",
       "    <tr>\n",
       "      <th>90188</th>\n",
       "      <td>CUSTOMER_Unique_85234</td>\n",
       "      <td>13.88</td>\n",
       "      <td>74.90</td>\n",
       "      <td>1.0</td>\n",
       "      <td>N</td>\n",
       "      <td>0.0</td>\n",
       "    </tr>\n",
       "    <tr>\n",
       "      <th>90189</th>\n",
       "      <td>CUSTOMER_Unique_85235</td>\n",
       "      <td>14.16</td>\n",
       "      <td>114.90</td>\n",
       "      <td>1.0</td>\n",
       "      <td>N</td>\n",
       "      <td>0.0</td>\n",
       "    </tr>\n",
       "    <tr>\n",
       "      <th>90190</th>\n",
       "      <td>CUSTOMER_Unique_85236</td>\n",
       "      <td>19.04</td>\n",
       "      <td>37.00</td>\n",
       "      <td>1.0</td>\n",
       "      <td>N</td>\n",
       "      <td>0.0</td>\n",
       "    </tr>\n",
       "    <tr>\n",
       "      <th>90191</th>\n",
       "      <td>CUSTOMER_Unique_85237</td>\n",
       "      <td>22.07</td>\n",
       "      <td>689.00</td>\n",
       "      <td>1.0</td>\n",
       "      <td>N</td>\n",
       "      <td>0.0</td>\n",
       "    </tr>\n",
       "    <tr>\n",
       "      <th>90192</th>\n",
       "      <td>CUSTOMER_Unique_85238</td>\n",
       "      <td>7.78</td>\n",
       "      <td>13.99</td>\n",
       "      <td>1.0</td>\n",
       "      <td>N</td>\n",
       "      <td>0.0</td>\n",
       "    </tr>\n",
       "  </tbody>\n",
       "</table>\n",
       "<p>90193 rows × 6 columns</p>\n",
       "</div>"
      ],
      "text/plain": [
       "          Customer_unique_id  Freight_value   Price  new_count 재구매여부  구매주기\n",
       "0      CUSTOMER_Unique_00000          21.88  124.99        1.0     N   0.0\n",
       "1      CUSTOMER_Unique_00001          46.48  289.00        1.0     N   0.0\n",
       "2      CUSTOMER_Unique_00002          17.79  139.94        1.0     N   0.0\n",
       "3      CUSTOMER_Unique_00003          23.36  149.94        1.0     N   0.0\n",
       "4      CUSTOMER_Unique_00004          59.36  506.52        2.0     Y  30.0\n",
       "...                      ...            ...     ...        ...   ...   ...\n",
       "90188  CUSTOMER_Unique_85234          13.88   74.90        1.0     N   0.0\n",
       "90189  CUSTOMER_Unique_85235          14.16  114.90        1.0     N   0.0\n",
       "90190  CUSTOMER_Unique_85236          19.04   37.00        1.0     N   0.0\n",
       "90191  CUSTOMER_Unique_85237          22.07  689.00        1.0     N   0.0\n",
       "90192  CUSTOMER_Unique_85238           7.78   13.99        1.0     N   0.0\n",
       "\n",
       "[90193 rows x 6 columns]"
      ]
     },
     "execution_count": 497,
     "metadata": {},
     "output_type": "execute_result"
    }
   ],
   "source": [
    "# 위에서 뽑은 tmp2 tmp3를 Customer_unique_id 기준으로 left join\n",
    "reorder = pd.merge(tmp2, tmp3, on='Customer_unique_id', how='left')\n",
    "reorder"
   ]
  },
  {
   "cell_type": "code",
   "execution_count": 660,
   "id": "7cdf2484-06e7-42ea-8cfc-d7b17070f4e2",
   "metadata": {},
   "outputs": [
    {
     "data": {
      "text/html": [
       "<div>\n",
       "<style scoped>\n",
       "    .dataframe tbody tr th:only-of-type {\n",
       "        vertical-align: middle;\n",
       "    }\n",
       "\n",
       "    .dataframe tbody tr th {\n",
       "        vertical-align: top;\n",
       "    }\n",
       "\n",
       "    .dataframe thead th {\n",
       "        text-align: right;\n",
       "    }\n",
       "</style>\n",
       "<table border=\"1\" class=\"dataframe\">\n",
       "  <thead>\n",
       "    <tr style=\"text-align: right;\">\n",
       "      <th></th>\n",
       "      <th>Customer_unique_id</th>\n",
       "      <th>Freight_value</th>\n",
       "      <th>Price</th>\n",
       "      <th>new_count</th>\n",
       "      <th>재구매여부</th>\n",
       "      <th>구매주기</th>\n",
       "    </tr>\n",
       "  </thead>\n",
       "  <tbody>\n",
       "    <tr>\n",
       "      <th>4</th>\n",
       "      <td>CUSTOMER_Unique_00004</td>\n",
       "      <td>59.36</td>\n",
       "      <td>506.52</td>\n",
       "      <td>2.0</td>\n",
       "      <td>Y</td>\n",
       "      <td>30.0</td>\n",
       "    </tr>\n",
       "    <tr>\n",
       "      <th>5</th>\n",
       "      <td>CUSTOMER_Unique_00004</td>\n",
       "      <td>59.36</td>\n",
       "      <td>506.52</td>\n",
       "      <td>2.0</td>\n",
       "      <td>Y</td>\n",
       "      <td>30.0</td>\n",
       "    </tr>\n",
       "  </tbody>\n",
       "</table>\n",
       "</div>"
      ],
      "text/plain": [
       "      Customer_unique_id  Freight_value   Price  new_count 재구매여부  구매주기\n",
       "4  CUSTOMER_Unique_00004          59.36  506.52        2.0     Y  30.0\n",
       "5  CUSTOMER_Unique_00004          59.36  506.52        2.0     Y  30.0"
      ]
     },
     "execution_count": 660,
     "metadata": {},
     "output_type": "execute_result"
    }
   ],
   "source": [
    "# reorder[reorder.Customer_unique_id==\"CUSTOMER_Unique_00004\"]"
   ]
  },
  {
   "cell_type": "code",
   "execution_count": null,
   "id": "beb0c88e-a13c-4d51-ac5e-a46798fd5f6d",
   "metadata": {},
   "outputs": [],
   "source": []
  },
  {
   "cell_type": "code",
   "execution_count": 500,
   "id": "cc67d470-a59c-48a5-9bc0-3a34dda79dd8",
   "metadata": {},
   "outputs": [
    {
     "data": {
      "text/html": [
       "<div>\n",
       "<style scoped>\n",
       "    .dataframe tbody tr th:only-of-type {\n",
       "        vertical-align: middle;\n",
       "    }\n",
       "\n",
       "    .dataframe tbody tr th {\n",
       "        vertical-align: top;\n",
       "    }\n",
       "\n",
       "    .dataframe thead th {\n",
       "        text-align: right;\n",
       "    }\n",
       "</style>\n",
       "<table border=\"1\" class=\"dataframe\">\n",
       "  <thead>\n",
       "    <tr style=\"text-align: right;\">\n",
       "      <th></th>\n",
       "      <th>재구매여부</th>\n",
       "      <th>new_count</th>\n",
       "      <th>Freight_value</th>\n",
       "      <th>Price</th>\n",
       "      <th>Customer_unique_id</th>\n",
       "    </tr>\n",
       "  </thead>\n",
       "  <tbody>\n",
       "    <tr>\n",
       "      <th>0</th>\n",
       "      <td>N</td>\n",
       "      <td>86176.0</td>\n",
       "      <td>1878698.77</td>\n",
       "      <td>11478684.62</td>\n",
       "      <td>86176</td>\n",
       "    </tr>\n",
       "    <tr>\n",
       "      <th>1</th>\n",
       "      <td>Y</td>\n",
       "      <td>8941.0</td>\n",
       "      <td>189716.34</td>\n",
       "      <td>1060169.15</td>\n",
       "      <td>4017</td>\n",
       "    </tr>\n",
       "  </tbody>\n",
       "</table>\n",
       "</div>"
      ],
      "text/plain": [
       "  재구매여부  new_count  Freight_value        Price  Customer_unique_id\n",
       "0     N    86176.0     1878698.77  11478684.62               86176\n",
       "1     Y     8941.0      189716.34   1060169.15                4017"
      ]
     },
     "execution_count": 500,
     "metadata": {},
     "output_type": "execute_result"
    }
   ],
   "source": [
    "# 다시 재구매여부를 기준으로 sum출력\n",
    "temp = reorder.groupby(['재구매여부'], as_index=False)[['new_count', 'Freight_value', 'Price']].sum()\n",
    "\n",
    "# 재구여부를 기준으로 Customer_unique_id 개수새기\n",
    "temp2 = reorder.groupby(['재구매여부'], as_index=False)[['Customer_unique_id']].count()\n",
    "\n",
    "# merge하기 재구매여부를 기준\n",
    "reorder_yn = pd.merge(temp,temp2, on='재구매여부', how='inner')\n",
    "reorder_yn "
   ]
  },
  {
   "cell_type": "code",
   "execution_count": 501,
   "id": "83dc77b9-c5d6-43e9-bdf7-3ba7cda295db",
   "metadata": {},
   "outputs": [],
   "source": [
    "# 재구매여부에 따른 차지하는 비율 컬럼 생성\n",
    "reorder_yn[\"재구매여부_ratio\"] = reorder_yn[\"Customer_unique_id\"] / reorder_yn[\"Customer_unique_id\"].sum()"
   ]
  },
  {
   "cell_type": "code",
   "execution_count": 502,
   "id": "d25d2689-ff76-41c7-81ad-aa34b32cae3e",
   "metadata": {},
   "outputs": [
    {
     "data": {
      "text/html": [
       "<div>\n",
       "<style scoped>\n",
       "    .dataframe tbody tr th:only-of-type {\n",
       "        vertical-align: middle;\n",
       "    }\n",
       "\n",
       "    .dataframe tbody tr th {\n",
       "        vertical-align: top;\n",
       "    }\n",
       "\n",
       "    .dataframe thead th {\n",
       "        text-align: right;\n",
       "    }\n",
       "</style>\n",
       "<table border=\"1\" class=\"dataframe\">\n",
       "  <thead>\n",
       "    <tr style=\"text-align: right;\">\n",
       "      <th></th>\n",
       "      <th>재구매여부</th>\n",
       "      <th>new_count</th>\n",
       "      <th>Freight_value</th>\n",
       "      <th>Price</th>\n",
       "      <th>Customer_unique_id</th>\n",
       "      <th>재구매여부_ratio</th>\n",
       "    </tr>\n",
       "  </thead>\n",
       "  <tbody>\n",
       "    <tr>\n",
       "      <th>0</th>\n",
       "      <td>N</td>\n",
       "      <td>86176.0</td>\n",
       "      <td>1878698.77</td>\n",
       "      <td>11478684.62</td>\n",
       "      <td>86176</td>\n",
       "      <td>0.955462</td>\n",
       "    </tr>\n",
       "    <tr>\n",
       "      <th>1</th>\n",
       "      <td>Y</td>\n",
       "      <td>8941.0</td>\n",
       "      <td>189716.34</td>\n",
       "      <td>1060169.15</td>\n",
       "      <td>4017</td>\n",
       "      <td>0.044538</td>\n",
       "    </tr>\n",
       "  </tbody>\n",
       "</table>\n",
       "</div>"
      ],
      "text/plain": [
       "  재구매여부  new_count  Freight_value        Price  Customer_unique_id  \\\n",
       "0     N    86176.0     1878698.77  11478684.62               86176   \n",
       "1     Y     8941.0      189716.34   1060169.15                4017   \n",
       "\n",
       "   재구매여부_ratio  \n",
       "0     0.955462  \n",
       "1     0.044538  "
      ]
     },
     "execution_count": 502,
     "metadata": {},
     "output_type": "execute_result"
    }
   ],
   "source": [
    "reorder_yn\n",
    "# 값 확인"
   ]
  },
  {
   "cell_type": "code",
   "execution_count": 503,
   "id": "856ee3de-948a-47cf-9f2d-f292f07b5cb0",
   "metadata": {},
   "outputs": [
    {
     "data": {
      "text/html": [
       "<div>\n",
       "<style scoped>\n",
       "    .dataframe tbody tr th:only-of-type {\n",
       "        vertical-align: middle;\n",
       "    }\n",
       "\n",
       "    .dataframe tbody tr th {\n",
       "        vertical-align: top;\n",
       "    }\n",
       "\n",
       "    .dataframe thead th {\n",
       "        text-align: right;\n",
       "    }\n",
       "</style>\n",
       "<table border=\"1\" class=\"dataframe\">\n",
       "  <thead>\n",
       "    <tr style=\"text-align: right;\">\n",
       "      <th></th>\n",
       "      <th>재구매여부</th>\n",
       "      <th>new_count</th>\n",
       "      <th>Freight_value</th>\n",
       "      <th>Price</th>\n",
       "    </tr>\n",
       "  </thead>\n",
       "  <tbody>\n",
       "    <tr>\n",
       "      <th>0</th>\n",
       "      <td>N</td>\n",
       "      <td>86176.0</td>\n",
       "      <td>1878698.77</td>\n",
       "      <td>11478684.62</td>\n",
       "    </tr>\n",
       "    <tr>\n",
       "      <th>1</th>\n",
       "      <td>Y</td>\n",
       "      <td>8941.0</td>\n",
       "      <td>189716.34</td>\n",
       "      <td>1060169.15</td>\n",
       "    </tr>\n",
       "  </tbody>\n",
       "</table>\n",
       "</div>"
      ],
      "text/plain": [
       "  재구매여부  new_count  Freight_value        Price\n",
       "0     N    86176.0     1878698.77  11478684.62\n",
       "1     Y     8941.0      189716.34   1060169.15"
      ]
     },
     "execution_count": 503,
     "metadata": {},
     "output_type": "execute_result"
    }
   ],
   "source": [
    "temp\n",
    "# 값 확인"
   ]
  },
  {
   "cell_type": "code",
   "execution_count": 504,
   "id": "3d9fd76f-a535-41d1-bdfb-4eaafe2001e0",
   "metadata": {},
   "outputs": [],
   "source": [
    "# 운임비와 순수익을 더해서 매출액 컬럼 생성\n",
    "reorder_yn['Payment_value'] = reorder_yn['Freight_value'] + reorder_yn['Price']"
   ]
  },
  {
   "cell_type": "code",
   "execution_count": 505,
   "id": "1dba5578-ac53-461d-9939-6e062f3e0c5a",
   "metadata": {},
   "outputs": [
    {
     "data": {
      "text/html": [
       "<div>\n",
       "<style scoped>\n",
       "    .dataframe tbody tr th:only-of-type {\n",
       "        vertical-align: middle;\n",
       "    }\n",
       "\n",
       "    .dataframe tbody tr th {\n",
       "        vertical-align: top;\n",
       "    }\n",
       "\n",
       "    .dataframe thead th {\n",
       "        text-align: right;\n",
       "    }\n",
       "</style>\n",
       "<table border=\"1\" class=\"dataframe\">\n",
       "  <thead>\n",
       "    <tr style=\"text-align: right;\">\n",
       "      <th></th>\n",
       "      <th>재구매여부</th>\n",
       "      <th>new_count</th>\n",
       "      <th>Freight_value</th>\n",
       "      <th>Price</th>\n",
       "      <th>Customer_unique_id</th>\n",
       "      <th>재구매여부_ratio</th>\n",
       "      <th>Payment_value</th>\n",
       "    </tr>\n",
       "  </thead>\n",
       "  <tbody>\n",
       "    <tr>\n",
       "      <th>0</th>\n",
       "      <td>N</td>\n",
       "      <td>86176.0</td>\n",
       "      <td>1878698.77</td>\n",
       "      <td>11478684.62</td>\n",
       "      <td>86176</td>\n",
       "      <td>0.955462</td>\n",
       "      <td>13357383.39</td>\n",
       "    </tr>\n",
       "    <tr>\n",
       "      <th>1</th>\n",
       "      <td>Y</td>\n",
       "      <td>8941.0</td>\n",
       "      <td>189716.34</td>\n",
       "      <td>1060169.15</td>\n",
       "      <td>4017</td>\n",
       "      <td>0.044538</td>\n",
       "      <td>1249885.49</td>\n",
       "    </tr>\n",
       "  </tbody>\n",
       "</table>\n",
       "</div>"
      ],
      "text/plain": [
       "  재구매여부  new_count  Freight_value        Price  Customer_unique_id  \\\n",
       "0     N    86176.0     1878698.77  11478684.62               86176   \n",
       "1     Y     8941.0      189716.34   1060169.15                4017   \n",
       "\n",
       "   재구매여부_ratio  Payment_value  \n",
       "0     0.955462    13357383.39  \n",
       "1     0.044538     1249885.49  "
      ]
     },
     "execution_count": 505,
     "metadata": {},
     "output_type": "execute_result"
    }
   ],
   "source": [
    "reorder_yn"
   ]
  },
  {
   "cell_type": "code",
   "execution_count": 506,
   "id": "b0ed788a-3a22-4000-8087-db123080a5dd",
   "metadata": {},
   "outputs": [],
   "source": [
    "# 위의 표를 참고!\n",
    "reorder_yn['구매당순이익'] = round(reorder_yn['Price'] / reorder_yn['new_count'], 2)\n",
    "reorder_yn['구매당운송비'] = round(reorder_yn['Freight_value'] / reorder_yn['new_count'], 2)\n",
    "reorder_yn['고객당순이익'] = round(reorder_yn['Price'] / reorder_yn['Customer_unique_id'], 0)\n",
    "reorder_yn['고객당구매수'] = round(reorder_yn['new_count'] / reorder_yn['Customer_unique_id'], 2)\n",
    "reorder_yn['고객당매출액'] = round(reorder_yn['Payment_value'] / reorder_yn['Customer_unique_id'], 0)"
   ]
  },
  {
   "cell_type": "code",
   "execution_count": null,
   "id": "71d75b7b-f36f-4c29-80a9-eff4fdaf6db8",
   "metadata": {},
   "outputs": [],
   "source": []
  },
  {
   "cell_type": "code",
   "execution_count": 507,
   "id": "582c752e-020b-4010-b11e-5b229fe3e199",
   "metadata": {},
   "outputs": [
    {
     "data": {
      "text/html": [
       "<div>\n",
       "<style scoped>\n",
       "    .dataframe tbody tr th:only-of-type {\n",
       "        vertical-align: middle;\n",
       "    }\n",
       "\n",
       "    .dataframe tbody tr th {\n",
       "        vertical-align: top;\n",
       "    }\n",
       "\n",
       "    .dataframe thead th {\n",
       "        text-align: right;\n",
       "    }\n",
       "</style>\n",
       "<table border=\"1\" class=\"dataframe\">\n",
       "  <thead>\n",
       "    <tr style=\"text-align: right;\">\n",
       "      <th></th>\n",
       "      <th>재구매여부</th>\n",
       "      <th>new_count</th>\n",
       "      <th>Freight_value</th>\n",
       "      <th>Price</th>\n",
       "      <th>Customer_unique_id</th>\n",
       "      <th>재구매여부_ratio</th>\n",
       "      <th>Payment_value</th>\n",
       "      <th>구매당순이익</th>\n",
       "      <th>구매당운송비</th>\n",
       "      <th>고객당순이익</th>\n",
       "      <th>고객당구매수</th>\n",
       "      <th>고객당매출액</th>\n",
       "    </tr>\n",
       "  </thead>\n",
       "  <tbody>\n",
       "    <tr>\n",
       "      <th>0</th>\n",
       "      <td>N</td>\n",
       "      <td>86176.0</td>\n",
       "      <td>1878698.77</td>\n",
       "      <td>11478684.62</td>\n",
       "      <td>86176</td>\n",
       "      <td>0.955462</td>\n",
       "      <td>13357383.39</td>\n",
       "      <td>133.20</td>\n",
       "      <td>21.80</td>\n",
       "      <td>133.0</td>\n",
       "      <td>1.00</td>\n",
       "      <td>155.0</td>\n",
       "    </tr>\n",
       "    <tr>\n",
       "      <th>1</th>\n",
       "      <td>Y</td>\n",
       "      <td>8941.0</td>\n",
       "      <td>189716.34</td>\n",
       "      <td>1060169.15</td>\n",
       "      <td>4017</td>\n",
       "      <td>0.044538</td>\n",
       "      <td>1249885.49</td>\n",
       "      <td>118.57</td>\n",
       "      <td>21.22</td>\n",
       "      <td>264.0</td>\n",
       "      <td>2.23</td>\n",
       "      <td>311.0</td>\n",
       "    </tr>\n",
       "  </tbody>\n",
       "</table>\n",
       "</div>"
      ],
      "text/plain": [
       "  재구매여부  new_count  Freight_value        Price  Customer_unique_id  \\\n",
       "0     N    86176.0     1878698.77  11478684.62               86176   \n",
       "1     Y     8941.0      189716.34   1060169.15                4017   \n",
       "\n",
       "   재구매여부_ratio  Payment_value  구매당순이익  구매당운송비  고객당순이익  고객당구매수  고객당매출액  \n",
       "0     0.955462    13357383.39  133.20   21.80   133.0    1.00   155.0  \n",
       "1     0.044538     1249885.49  118.57   21.22   264.0    2.23   311.0  "
      ]
     },
     "execution_count": 507,
     "metadata": {},
     "output_type": "execute_result"
    }
   ],
   "source": [
    "reorder_yn"
   ]
  },
  {
   "cell_type": "code",
   "execution_count": 523,
   "id": "79fd742d-753d-4a19-b3b7-09b0d7856138",
   "metadata": {},
   "outputs": [
    {
     "data": {
      "text/plain": [
       "90193"
      ]
     },
     "execution_count": 523,
     "metadata": {},
     "output_type": "execute_result"
    }
   ],
   "source": [
    "reorder_yn.Customer_unique_id.sum()"
   ]
  },
  {
   "cell_type": "code",
   "execution_count": 524,
   "id": "d75f42ce-e2c7-4aa0-9a28-b721599107f7",
   "metadata": {},
   "outputs": [
    {
     "data": {
      "text/plain": [
       "(90193, 6)"
      ]
     },
     "execution_count": 524,
     "metadata": {},
     "output_type": "execute_result"
    }
   ],
   "source": [
    "reorder.shape"
   ]
  },
  {
   "cell_type": "code",
   "execution_count": 514,
   "id": "4511d4f8-dd58-47a2-bc6f-5acdc2e02e50",
   "metadata": {},
   "outputs": [],
   "source": [
    "# reorder"
   ]
  },
  {
   "cell_type": "code",
   "execution_count": 548,
   "id": "859d4922-8c16-4e6a-b9c3-e847f5227944",
   "metadata": {},
   "outputs": [],
   "source": [
    "# 구매주기가 0 초과인 애들 생성\n",
    "reorder_filtered = reorder[reorder['구매주기'] > 0]"
   ]
  },
  {
   "cell_type": "code",
   "execution_count": 549,
   "id": "01ce0ed1-c790-4dfd-a04a-5dc16cf524b6",
   "metadata": {},
   "outputs": [
    {
     "data": {
      "text/plain": [
       "(3976, 6)"
      ]
     },
     "execution_count": 549,
     "metadata": {},
     "output_type": "execute_result"
    }
   ],
   "source": [
    "reorder_filtered.shape"
   ]
  },
  {
   "cell_type": "code",
   "execution_count": 550,
   "id": "b76da221-6db5-4d02-a65f-276bbf33301d",
   "metadata": {},
   "outputs": [],
   "source": [
    "# 재구매가 없는 고객 그리고 구매주기가 0인 고객\n",
    "reorder_filtered_zero =  reorder[(reorder['구매주기'] == 0)]"
   ]
  },
  {
   "cell_type": "code",
   "execution_count": 551,
   "id": "40159457-b77a-4dba-aa6b-b7b9e17d1a2f",
   "metadata": {},
   "outputs": [],
   "source": [
    "# reorder_filtered_zero1 =  reorder[(reorder['구매주기'] ==0)]\n",
    "# 값이 다른이유는 우리는 일단위로 계산했기에 아래처럼 구매간격이 하루가 안넘으면 무조건 구매주기가 0이지만 재구매한케이스로 간주함 다르므로"
   ]
  },
  {
   "cell_type": "code",
   "execution_count": 540,
   "id": "d998c320-c352-44e7-8e93-0c4ec687767a",
   "metadata": {},
   "outputs": [
    {
     "data": {
      "text/html": [
       "<div>\n",
       "<style scoped>\n",
       "    .dataframe tbody tr th:only-of-type {\n",
       "        vertical-align: middle;\n",
       "    }\n",
       "\n",
       "    .dataframe tbody tr th {\n",
       "        vertical-align: top;\n",
       "    }\n",
       "\n",
       "    .dataframe thead th {\n",
       "        text-align: right;\n",
       "    }\n",
       "</style>\n",
       "<table border=\"1\" class=\"dataframe\">\n",
       "  <thead>\n",
       "    <tr style=\"text-align: right;\">\n",
       "      <th></th>\n",
       "      <th>Order_purchase_year</th>\n",
       "      <th>Order_purchase_month</th>\n",
       "      <th>Order_purchase_day</th>\n",
       "      <th>Customer_unique_id</th>\n",
       "      <th>Product_id</th>\n",
       "      <th>Order_id</th>\n",
       "      <th>YearMonth</th>\n",
       "      <th>new_count</th>\n",
       "      <th>재구매</th>\n",
       "      <th>Seller_id</th>\n",
       "      <th>...</th>\n",
       "      <th>time_diff_customer_delivery</th>\n",
       "      <th>time_diff_purchase_carrier_second</th>\n",
       "      <th>time_diff_purchase_customer_second</th>\n",
       "      <th>time_diff_carrier_customer_second</th>\n",
       "      <th>time_diff_customer_delivery_second</th>\n",
       "      <th>latest_order_timestamp</th>\n",
       "      <th>first_order_timestamp</th>\n",
       "      <th>재구매여부</th>\n",
       "      <th>구매간격</th>\n",
       "      <th>구매주기</th>\n",
       "    </tr>\n",
       "  </thead>\n",
       "  <tbody>\n",
       "    <tr>\n",
       "      <th>35706</th>\n",
       "      <td>2018</td>\n",
       "      <td>11</td>\n",
       "      <td>24</td>\n",
       "      <td>CUSTOMER_Unique_01223</td>\n",
       "      <td>PRODUCT_05244</td>\n",
       "      <td>ORDER_31451</td>\n",
       "      <td>201811</td>\n",
       "      <td>2.0</td>\n",
       "      <td>1</td>\n",
       "      <td>SELLER_0783</td>\n",
       "      <td>...</td>\n",
       "      <td>12 days 05:45:57</td>\n",
       "      <td>254277.0</td>\n",
       "      <td>1211707.0</td>\n",
       "      <td>957430.0</td>\n",
       "      <td>1057557.0</td>\n",
       "      <td>2018-11-25 00:16:56</td>\n",
       "      <td>2018-11-24 17:38:56</td>\n",
       "      <td>Y</td>\n",
       "      <td>0</td>\n",
       "      <td>0.0</td>\n",
       "    </tr>\n",
       "    <tr>\n",
       "      <th>36890</th>\n",
       "      <td>2018</td>\n",
       "      <td>11</td>\n",
       "      <td>25</td>\n",
       "      <td>CUSTOMER_Unique_01223</td>\n",
       "      <td>PRODUCT_11256</td>\n",
       "      <td>ORDER_12846</td>\n",
       "      <td>201811</td>\n",
       "      <td>2.0</td>\n",
       "      <td>1</td>\n",
       "      <td>SELLER_0530</td>\n",
       "      <td>...</td>\n",
       "      <td>18 days 05:11:09</td>\n",
       "      <td>236093.0</td>\n",
       "      <td>585115.0</td>\n",
       "      <td>349022.0</td>\n",
       "      <td>1573869.0</td>\n",
       "      <td>2018-11-25 00:16:56</td>\n",
       "      <td>2018-11-24 17:38:56</td>\n",
       "      <td>Y</td>\n",
       "      <td>0</td>\n",
       "      <td>0.0</td>\n",
       "    </tr>\n",
       "  </tbody>\n",
       "</table>\n",
       "<p>2 rows × 53 columns</p>\n",
       "</div>"
      ],
      "text/plain": [
       "       Order_purchase_year  Order_purchase_month  Order_purchase_day  \\\n",
       "35706                 2018                    11                  24   \n",
       "36890                 2018                    11                  25   \n",
       "\n",
       "          Customer_unique_id     Product_id     Order_id YearMonth  new_count  \\\n",
       "35706  CUSTOMER_Unique_01223  PRODUCT_05244  ORDER_31451    201811        2.0   \n",
       "36890  CUSTOMER_Unique_01223  PRODUCT_11256  ORDER_12846    201811        2.0   \n",
       "\n",
       "       재구매    Seller_id  ... time_diff_customer_delivery  \\\n",
       "35706    1  SELLER_0783  ...            12 days 05:45:57   \n",
       "36890    1  SELLER_0530  ...            18 days 05:11:09   \n",
       "\n",
       "       time_diff_purchase_carrier_second time_diff_purchase_customer_second  \\\n",
       "35706                           254277.0                          1211707.0   \n",
       "36890                           236093.0                           585115.0   \n",
       "\n",
       "      time_diff_carrier_customer_second  time_diff_customer_delivery_second  \\\n",
       "35706                          957430.0                           1057557.0   \n",
       "36890                          349022.0                           1573869.0   \n",
       "\n",
       "       latest_order_timestamp first_order_timestamp 재구매여부 구매간격 구매주기  \n",
       "35706     2018-11-25 00:16:56   2018-11-24 17:38:56     Y    0  0.0  \n",
       "36890     2018-11-25 00:16:56   2018-11-24 17:38:56     Y    0  0.0  \n",
       "\n",
       "[2 rows x 53 columns]"
      ]
     },
     "execution_count": 540,
     "metadata": {},
     "output_type": "execute_result"
    }
   ],
   "source": [
    "merged_df[merged_df.Customer_unique_id==\"CUSTOMER_Unique_01223\"]"
   ]
  },
  {
   "cell_type": "code",
   "execution_count": 545,
   "id": "a9564429-5020-476f-a157-4de3ebb4909e",
   "metadata": {},
   "outputs": [],
   "source": [
    "# reorder[(reorder['구매주기'] == 0) & (reorder.재구매여부==\"Y\")]"
   ]
  },
  {
   "cell_type": "code",
   "execution_count": null,
   "id": "c30ddc7f-2621-4b7d-8757-754aa167987c",
   "metadata": {},
   "outputs": [],
   "source": []
  },
  {
   "cell_type": "code",
   "execution_count": 552,
   "id": "d2ef2947-97cc-47e4-aad0-5f6c7aff3eb3",
   "metadata": {},
   "outputs": [
    {
     "data": {
      "text/plain": [
       "(3976, 6)"
      ]
     },
     "execution_count": 552,
     "metadata": {},
     "output_type": "execute_result"
    }
   ],
   "source": [
    "reorder_filtered.shape\n",
    "# 모양보기"
   ]
  },
  {
   "cell_type": "code",
   "execution_count": 553,
   "id": "b26b070a-7664-4b4c-b350-27421f581004",
   "metadata": {},
   "outputs": [
    {
     "data": {
      "text/plain": [
       "(86217, 6)"
      ]
     },
     "execution_count": 553,
     "metadata": {},
     "output_type": "execute_result"
    }
   ],
   "source": [
    "reorder_filtered_zero.shape"
   ]
  },
  {
   "cell_type": "code",
   "execution_count": 554,
   "id": "1953dae4-068d-4136-90a3-4a0c99c15844",
   "metadata": {},
   "outputs": [
    {
     "data": {
      "text/plain": [
       "90193"
      ]
     },
     "execution_count": 554,
     "metadata": {},
     "output_type": "execute_result"
    }
   ],
   "source": [
    "reorder_filtered_zero.shape[0] + reorder_filtered.shape[0]\n",
    "# 의미없는 코드"
   ]
  },
  {
   "cell_type": "code",
   "execution_count": 522,
   "id": "266b29d6-fd4a-41f2-a6f9-599d0ab2e57a",
   "metadata": {},
   "outputs": [],
   "source": [
    "# total_df.shape"
   ]
  },
  {
   "cell_type": "code",
   "execution_count": 555,
   "id": "c36d5546-cfb6-4576-a5f6-2e3afb6730d1",
   "metadata": {},
   "outputs": [
    {
     "data": {
      "text/html": [
       "<div>\n",
       "<style scoped>\n",
       "    .dataframe tbody tr th:only-of-type {\n",
       "        vertical-align: middle;\n",
       "    }\n",
       "\n",
       "    .dataframe tbody tr th {\n",
       "        vertical-align: top;\n",
       "    }\n",
       "\n",
       "    .dataframe thead th {\n",
       "        text-align: right;\n",
       "    }\n",
       "</style>\n",
       "<table border=\"1\" class=\"dataframe\">\n",
       "  <thead>\n",
       "    <tr style=\"text-align: right;\">\n",
       "      <th></th>\n",
       "      <th>Customer_unique_id</th>\n",
       "      <th>Freight_value</th>\n",
       "      <th>Price</th>\n",
       "      <th>new_count</th>\n",
       "      <th>재구매여부</th>\n",
       "      <th>구매주기</th>\n",
       "    </tr>\n",
       "  </thead>\n",
       "  <tbody>\n",
       "    <tr>\n",
       "      <th>0</th>\n",
       "      <td>CUSTOMER_Unique_00000</td>\n",
       "      <td>21.88</td>\n",
       "      <td>124.99</td>\n",
       "      <td>1.0</td>\n",
       "      <td>N</td>\n",
       "      <td>0.0</td>\n",
       "    </tr>\n",
       "    <tr>\n",
       "      <th>1</th>\n",
       "      <td>CUSTOMER_Unique_00001</td>\n",
       "      <td>46.48</td>\n",
       "      <td>289.00</td>\n",
       "      <td>1.0</td>\n",
       "      <td>N</td>\n",
       "      <td>0.0</td>\n",
       "    </tr>\n",
       "    <tr>\n",
       "      <th>2</th>\n",
       "      <td>CUSTOMER_Unique_00002</td>\n",
       "      <td>17.79</td>\n",
       "      <td>139.94</td>\n",
       "      <td>1.0</td>\n",
       "      <td>N</td>\n",
       "      <td>0.0</td>\n",
       "    </tr>\n",
       "    <tr>\n",
       "      <th>3</th>\n",
       "      <td>CUSTOMER_Unique_00003</td>\n",
       "      <td>23.36</td>\n",
       "      <td>149.94</td>\n",
       "      <td>1.0</td>\n",
       "      <td>N</td>\n",
       "      <td>0.0</td>\n",
       "    </tr>\n",
       "    <tr>\n",
       "      <th>6</th>\n",
       "      <td>CUSTOMER_Unique_00005</td>\n",
       "      <td>7.78</td>\n",
       "      <td>14.99</td>\n",
       "      <td>1.0</td>\n",
       "      <td>N</td>\n",
       "      <td>0.0</td>\n",
       "    </tr>\n",
       "    <tr>\n",
       "      <th>...</th>\n",
       "      <td>...</td>\n",
       "      <td>...</td>\n",
       "      <td>...</td>\n",
       "      <td>...</td>\n",
       "      <td>...</td>\n",
       "      <td>...</td>\n",
       "    </tr>\n",
       "    <tr>\n",
       "      <th>90188</th>\n",
       "      <td>CUSTOMER_Unique_85234</td>\n",
       "      <td>13.88</td>\n",
       "      <td>74.90</td>\n",
       "      <td>1.0</td>\n",
       "      <td>N</td>\n",
       "      <td>0.0</td>\n",
       "    </tr>\n",
       "    <tr>\n",
       "      <th>90189</th>\n",
       "      <td>CUSTOMER_Unique_85235</td>\n",
       "      <td>14.16</td>\n",
       "      <td>114.90</td>\n",
       "      <td>1.0</td>\n",
       "      <td>N</td>\n",
       "      <td>0.0</td>\n",
       "    </tr>\n",
       "    <tr>\n",
       "      <th>90190</th>\n",
       "      <td>CUSTOMER_Unique_85236</td>\n",
       "      <td>19.04</td>\n",
       "      <td>37.00</td>\n",
       "      <td>1.0</td>\n",
       "      <td>N</td>\n",
       "      <td>0.0</td>\n",
       "    </tr>\n",
       "    <tr>\n",
       "      <th>90191</th>\n",
       "      <td>CUSTOMER_Unique_85237</td>\n",
       "      <td>22.07</td>\n",
       "      <td>689.00</td>\n",
       "      <td>1.0</td>\n",
       "      <td>N</td>\n",
       "      <td>0.0</td>\n",
       "    </tr>\n",
       "    <tr>\n",
       "      <th>90192</th>\n",
       "      <td>CUSTOMER_Unique_85238</td>\n",
       "      <td>7.78</td>\n",
       "      <td>13.99</td>\n",
       "      <td>1.0</td>\n",
       "      <td>N</td>\n",
       "      <td>0.0</td>\n",
       "    </tr>\n",
       "  </tbody>\n",
       "</table>\n",
       "<p>86217 rows × 6 columns</p>\n",
       "</div>"
      ],
      "text/plain": [
       "          Customer_unique_id  Freight_value   Price  new_count 재구매여부  구매주기\n",
       "0      CUSTOMER_Unique_00000          21.88  124.99        1.0     N   0.0\n",
       "1      CUSTOMER_Unique_00001          46.48  289.00        1.0     N   0.0\n",
       "2      CUSTOMER_Unique_00002          17.79  139.94        1.0     N   0.0\n",
       "3      CUSTOMER_Unique_00003          23.36  149.94        1.0     N   0.0\n",
       "6      CUSTOMER_Unique_00005           7.78   14.99        1.0     N   0.0\n",
       "...                      ...            ...     ...        ...   ...   ...\n",
       "90188  CUSTOMER_Unique_85234          13.88   74.90        1.0     N   0.0\n",
       "90189  CUSTOMER_Unique_85235          14.16  114.90        1.0     N   0.0\n",
       "90190  CUSTOMER_Unique_85236          19.04   37.00        1.0     N   0.0\n",
       "90191  CUSTOMER_Unique_85237          22.07  689.00        1.0     N   0.0\n",
       "90192  CUSTOMER_Unique_85238           7.78   13.99        1.0     N   0.0\n",
       "\n",
       "[86217 rows x 6 columns]"
      ]
     },
     "execution_count": 555,
     "metadata": {},
     "output_type": "execute_result"
    }
   ],
   "source": [
    "reorder_filtered_zero"
   ]
  },
  {
   "cell_type": "code",
   "execution_count": 573,
   "id": "1c3827a7-574b-4050-82e1-39a87f02d164",
   "metadata": {},
   "outputs": [
    {
     "data": {
      "text/plain": [
       "(86217, 6)"
      ]
     },
     "execution_count": 573,
     "metadata": {},
     "output_type": "execute_result"
    }
   ],
   "source": [
    "reorder_filtered_zero.shape"
   ]
  },
  {
   "cell_type": "code",
   "execution_count": 654,
   "id": "d020e898-624c-43ee-b589-76a9064baee3",
   "metadata": {},
   "outputs": [],
   "source": [
    "with open(\"./reorder_filtered_zero.pkl\", \"wb\") as file:\n",
    "    pickle.dump(reorder_filtered_zero, file)\n",
    "#중간 피클파일추출"
   ]
  },
  {
   "cell_type": "code",
   "execution_count": 655,
   "id": "f4f95209-70b8-4078-925a-82a34e48bb12",
   "metadata": {},
   "outputs": [
    {
     "name": "stdout",
     "output_type": "stream",
     "text": [
      "100\n"
     ]
    }
   ],
   "source": [
    "# 중복값 출력되는지 확인\n",
    "# 중복행 안뽑기위해서 replace=False로 그래도 실패했으므로 \n",
    "count=0\n",
    "for i in range(100):\n",
    "    sample_df = reorder_filtered_zero.sample(frac=0.1, random_state=None,replace=False)\n",
    "    # print(sample_df)\n",
    "    if (sample_df.shape[0] == sample_df.duplicated().shape[0]):\n",
    "        count=count+1\n",
    "print(count)"
   ]
  },
  {
   "cell_type": "code",
   "execution_count": 664,
   "id": "23e5fc56-b417-4c91-8fb3-f33a8d833234",
   "metadata": {},
   "outputs": [],
   "source": [
    "# reorder_filtered_zero 중복행처리하기\n",
    "reorder_filtered_zero1 = reorder_filtered_zero.drop_duplicates()"
   ]
  },
  {
   "cell_type": "code",
   "execution_count": 658,
   "id": "6e78647b-0468-46c2-b349-4df038981826",
   "metadata": {},
   "outputs": [
    {
     "data": {
      "text/plain": [
       "(86217, 6)"
      ]
     },
     "execution_count": 658,
     "metadata": {},
     "output_type": "execute_result"
    }
   ],
   "source": [
    "reorder_filtered_zero.shape"
   ]
  },
  {
   "cell_type": "code",
   "execution_count": 657,
   "id": "2e7d3691-0a06-44c5-88de-ca32ddb996f7",
   "metadata": {},
   "outputs": [
    {
     "data": {
      "text/plain": [
       "(82391, 6)"
      ]
     },
     "execution_count": 657,
     "metadata": {},
     "output_type": "execute_result"
    }
   ],
   "source": [
    "reorder_filtered_zero1.shape"
   ]
  },
  {
   "cell_type": "code",
   "execution_count": 640,
   "id": "8fd14448-333a-4643-9ef5-86756148c427",
   "metadata": {},
   "outputs": [],
   "source": [
    "# reorder_filtered_zero.shape"
   ]
  },
  {
   "cell_type": "code",
   "execution_count": 665,
   "id": "96e36f4e-f540-4a1d-9619-93347fbab5ec",
   "metadata": {},
   "outputs": [],
   "source": [
    "sample_df = reorder_filtered_zero1.sample(frac=0.1, random_state=None,replace=False)"
   ]
  },
  {
   "cell_type": "code",
   "execution_count": 666,
   "id": "5055e200-a215-45c3-a1aa-6a0db763a49c",
   "metadata": {},
   "outputs": [
    {
     "data": {
      "text/plain": [
       "(8239, 6)"
      ]
     },
     "execution_count": 666,
     "metadata": {},
     "output_type": "execute_result"
    }
   ],
   "source": [
    "sample_df.shape"
   ]
  },
  {
   "cell_type": "code",
   "execution_count": 668,
   "id": "695d0027-cffc-479d-8c53-ca3865b89eb0",
   "metadata": {},
   "outputs": [],
   "source": [
    "# sample_df[sample_df.Customer_unique_id==\"CUSTOMER_Unique_49626\"]"
   ]
  },
  {
   "cell_type": "code",
   "execution_count": 667,
   "id": "c7e80cfb-701b-40b2-98fd-856179506507",
   "metadata": {},
   "outputs": [
    {
     "data": {
      "text/html": [
       "<div>\n",
       "<style scoped>\n",
       "    .dataframe tbody tr th:only-of-type {\n",
       "        vertical-align: middle;\n",
       "    }\n",
       "\n",
       "    .dataframe tbody tr th {\n",
       "        vertical-align: top;\n",
       "    }\n",
       "\n",
       "    .dataframe thead th {\n",
       "        text-align: right;\n",
       "    }\n",
       "</style>\n",
       "<table border=\"1\" class=\"dataframe\">\n",
       "  <thead>\n",
       "    <tr style=\"text-align: right;\">\n",
       "      <th></th>\n",
       "      <th>Customer_unique_id</th>\n",
       "      <th>Freight_value</th>\n",
       "      <th>Price</th>\n",
       "      <th>new_count</th>\n",
       "      <th>재구매여부</th>\n",
       "      <th>구매주기</th>\n",
       "    </tr>\n",
       "  </thead>\n",
       "  <tbody>\n",
       "  </tbody>\n",
       "</table>\n",
       "</div>"
      ],
      "text/plain": [
       "Empty DataFrame\n",
       "Columns: [Customer_unique_id, Freight_value, Price, new_count, 재구매여부, 구매주기]\n",
       "Index: []"
      ]
     },
     "execution_count": 667,
     "metadata": {},
     "output_type": "execute_result"
    }
   ],
   "source": [
    "sample_df[sample_df.duplicated()]"
   ]
  },
  {
   "cell_type": "code",
   "execution_count": null,
   "id": "48b97f8b-caaa-4412-aeb6-b0a801bc6f65",
   "metadata": {},
   "outputs": [],
   "source": []
  },
  {
   "cell_type": "code",
   "execution_count": null,
   "id": "e4c2927d-e874-4423-ac22-01765a65ff3c",
   "metadata": {},
   "outputs": [],
   "source": []
  },
  {
   "cell_type": "code",
   "execution_count": null,
   "id": "3255fa30-c3b0-42ed-8c6f-2de5096259b9",
   "metadata": {},
   "outputs": [],
   "source": []
  },
  {
   "cell_type": "code",
   "execution_count": 669,
   "id": "8a58d19f-c03d-43f4-854c-689434b3772a",
   "metadata": {},
   "outputs": [],
   "source": [
    "# 재구매를 하지 않는 고객에서 랜덤으로 매번 10퍼씩 뽑는\n",
    "# sample_df = reorder_filtered_zero.sample(frac=0.1, random_state=None)\n",
    "# print(sample_df)\n",
    "# sample_df.duplicated().shape[0]"
   ]
  },
  {
   "cell_type": "code",
   "execution_count": 670,
   "id": "fa7db510-838c-4379-88ec-0074ad530ee8",
   "metadata": {},
   "outputs": [
    {
     "data": {
      "text/html": [
       "<div>\n",
       "<style scoped>\n",
       "    .dataframe tbody tr th:only-of-type {\n",
       "        vertical-align: middle;\n",
       "    }\n",
       "\n",
       "    .dataframe tbody tr th {\n",
       "        vertical-align: top;\n",
       "    }\n",
       "\n",
       "    .dataframe thead th {\n",
       "        text-align: right;\n",
       "    }\n",
       "</style>\n",
       "<table border=\"1\" class=\"dataframe\">\n",
       "  <thead>\n",
       "    <tr style=\"text-align: right;\">\n",
       "      <th></th>\n",
       "      <th>Customer_unique_id</th>\n",
       "      <th>Freight_value</th>\n",
       "      <th>Price</th>\n",
       "      <th>new_count</th>\n",
       "      <th>재구매여부</th>\n",
       "      <th>구매주기</th>\n",
       "    </tr>\n",
       "  </thead>\n",
       "  <tbody>\n",
       "    <tr>\n",
       "      <th>89279</th>\n",
       "      <td>CUSTOMER_Unique_84351</td>\n",
       "      <td>34.38</td>\n",
       "      <td>82.99</td>\n",
       "      <td>1.0</td>\n",
       "      <td>N</td>\n",
       "      <td>0.0</td>\n",
       "    </tr>\n",
       "    <tr>\n",
       "      <th>20715</th>\n",
       "      <td>CUSTOMER_Unique_18998</td>\n",
       "      <td>34.35</td>\n",
       "      <td>78.00</td>\n",
       "      <td>1.0</td>\n",
       "      <td>N</td>\n",
       "      <td>0.0</td>\n",
       "    </tr>\n",
       "    <tr>\n",
       "      <th>54262</th>\n",
       "      <td>CUSTOMER_Unique_50599</td>\n",
       "      <td>20.10</td>\n",
       "      <td>174.90</td>\n",
       "      <td>1.0</td>\n",
       "      <td>N</td>\n",
       "      <td>0.0</td>\n",
       "    </tr>\n",
       "    <tr>\n",
       "      <th>46664</th>\n",
       "      <td>CUSTOMER_Unique_43368</td>\n",
       "      <td>25.74</td>\n",
       "      <td>129.00</td>\n",
       "      <td>1.0</td>\n",
       "      <td>N</td>\n",
       "      <td>0.0</td>\n",
       "    </tr>\n",
       "    <tr>\n",
       "      <th>40982</th>\n",
       "      <td>CUSTOMER_Unique_38012</td>\n",
       "      <td>50.62</td>\n",
       "      <td>899.00</td>\n",
       "      <td>1.0</td>\n",
       "      <td>N</td>\n",
       "      <td>0.0</td>\n",
       "    </tr>\n",
       "    <tr>\n",
       "      <th>...</th>\n",
       "      <td>...</td>\n",
       "      <td>...</td>\n",
       "      <td>...</td>\n",
       "      <td>...</td>\n",
       "      <td>...</td>\n",
       "      <td>...</td>\n",
       "    </tr>\n",
       "    <tr>\n",
       "      <th>36782</th>\n",
       "      <td>CUSTOMER_Unique_34062</td>\n",
       "      <td>15.10</td>\n",
       "      <td>27.90</td>\n",
       "      <td>1.0</td>\n",
       "      <td>N</td>\n",
       "      <td>0.0</td>\n",
       "    </tr>\n",
       "    <tr>\n",
       "      <th>85313</th>\n",
       "      <td>CUSTOMER_Unique_80481</td>\n",
       "      <td>20.35</td>\n",
       "      <td>158.00</td>\n",
       "      <td>1.0</td>\n",
       "      <td>N</td>\n",
       "      <td>0.0</td>\n",
       "    </tr>\n",
       "    <tr>\n",
       "      <th>79113</th>\n",
       "      <td>CUSTOMER_Unique_74452</td>\n",
       "      <td>11.85</td>\n",
       "      <td>48.90</td>\n",
       "      <td>1.0</td>\n",
       "      <td>N</td>\n",
       "      <td>0.0</td>\n",
       "    </tr>\n",
       "    <tr>\n",
       "      <th>66758</th>\n",
       "      <td>CUSTOMER_Unique_62544</td>\n",
       "      <td>23.34</td>\n",
       "      <td>108.90</td>\n",
       "      <td>1.0</td>\n",
       "      <td>N</td>\n",
       "      <td>0.0</td>\n",
       "    </tr>\n",
       "    <tr>\n",
       "      <th>629</th>\n",
       "      <td>CUSTOMER_Unique_00558</td>\n",
       "      <td>17.67</td>\n",
       "      <td>59.90</td>\n",
       "      <td>1.0</td>\n",
       "      <td>N</td>\n",
       "      <td>0.0</td>\n",
       "    </tr>\n",
       "  </tbody>\n",
       "</table>\n",
       "<p>8239 rows × 6 columns</p>\n",
       "</div>"
      ],
      "text/plain": [
       "          Customer_unique_id  Freight_value   Price  new_count 재구매여부  구매주기\n",
       "89279  CUSTOMER_Unique_84351          34.38   82.99        1.0     N   0.0\n",
       "20715  CUSTOMER_Unique_18998          34.35   78.00        1.0     N   0.0\n",
       "54262  CUSTOMER_Unique_50599          20.10  174.90        1.0     N   0.0\n",
       "46664  CUSTOMER_Unique_43368          25.74  129.00        1.0     N   0.0\n",
       "40982  CUSTOMER_Unique_38012          50.62  899.00        1.0     N   0.0\n",
       "...                      ...            ...     ...        ...   ...   ...\n",
       "36782  CUSTOMER_Unique_34062          15.10   27.90        1.0     N   0.0\n",
       "85313  CUSTOMER_Unique_80481          20.35  158.00        1.0     N   0.0\n",
       "79113  CUSTOMER_Unique_74452          11.85   48.90        1.0     N   0.0\n",
       "66758  CUSTOMER_Unique_62544          23.34  108.90        1.0     N   0.0\n",
       "629    CUSTOMER_Unique_00558          17.67   59.90        1.0     N   0.0\n",
       "\n",
       "[8239 rows x 6 columns]"
      ]
     },
     "execution_count": 670,
     "metadata": {},
     "output_type": "execute_result"
    }
   ],
   "source": [
    "sample_df"
   ]
  },
  {
   "cell_type": "code",
   "execution_count": null,
   "id": "1e1474ce-6b64-4c7d-b803-1e5c0f07ee53",
   "metadata": {},
   "outputs": [],
   "source": []
  },
  {
   "cell_type": "code",
   "execution_count": null,
   "id": "180603dd-ea35-45ed-9ed2-fda60fd3b9ff",
   "metadata": {},
   "outputs": [],
   "source": []
  },
  {
   "cell_type": "code",
   "execution_count": 671,
   "id": "64700177-4048-4b28-9f0f-70883636b42a",
   "metadata": {},
   "outputs": [
    {
     "data": {
      "text/html": [
       "<div>\n",
       "<style scoped>\n",
       "    .dataframe tbody tr th:only-of-type {\n",
       "        vertical-align: middle;\n",
       "    }\n",
       "\n",
       "    .dataframe tbody tr th {\n",
       "        vertical-align: top;\n",
       "    }\n",
       "\n",
       "    .dataframe thead th {\n",
       "        text-align: right;\n",
       "    }\n",
       "</style>\n",
       "<table border=\"1\" class=\"dataframe\">\n",
       "  <thead>\n",
       "    <tr style=\"text-align: right;\">\n",
       "      <th></th>\n",
       "      <th>Customer_unique_id</th>\n",
       "      <th>Freight_value</th>\n",
       "      <th>Price</th>\n",
       "      <th>new_count</th>\n",
       "      <th>재구매여부</th>\n",
       "      <th>구매주기</th>\n",
       "      <th>구매주기_구간</th>\n",
       "    </tr>\n",
       "  </thead>\n",
       "  <tbody>\n",
       "    <tr>\n",
       "      <th>4</th>\n",
       "      <td>CUSTOMER_Unique_00004</td>\n",
       "      <td>59.36</td>\n",
       "      <td>506.52</td>\n",
       "      <td>2.0</td>\n",
       "      <td>Y</td>\n",
       "      <td>30.0</td>\n",
       "      <td>29일 이상</td>\n",
       "    </tr>\n",
       "    <tr>\n",
       "      <th>5</th>\n",
       "      <td>CUSTOMER_Unique_00004</td>\n",
       "      <td>59.36</td>\n",
       "      <td>506.52</td>\n",
       "      <td>2.0</td>\n",
       "      <td>Y</td>\n",
       "      <td>30.0</td>\n",
       "      <td>29일 이상</td>\n",
       "    </tr>\n",
       "    <tr>\n",
       "      <th>14</th>\n",
       "      <td>CUSTOMER_Unique_00012</td>\n",
       "      <td>32.53</td>\n",
       "      <td>248.97</td>\n",
       "      <td>2.0</td>\n",
       "      <td>Y</td>\n",
       "      <td>90.0</td>\n",
       "      <td>29일 이상</td>\n",
       "    </tr>\n",
       "    <tr>\n",
       "      <th>15</th>\n",
       "      <td>CUSTOMER_Unique_00012</td>\n",
       "      <td>32.53</td>\n",
       "      <td>248.97</td>\n",
       "      <td>2.0</td>\n",
       "      <td>Y</td>\n",
       "      <td>90.0</td>\n",
       "      <td>29일 이상</td>\n",
       "    </tr>\n",
       "    <tr>\n",
       "      <th>32</th>\n",
       "      <td>CUSTOMER_Unique_00030</td>\n",
       "      <td>38.85</td>\n",
       "      <td>74.98</td>\n",
       "      <td>2.0</td>\n",
       "      <td>Y</td>\n",
       "      <td>43.0</td>\n",
       "      <td>29일 이상</td>\n",
       "    </tr>\n",
       "    <tr>\n",
       "      <th>...</th>\n",
       "      <td>...</td>\n",
       "      <td>...</td>\n",
       "      <td>...</td>\n",
       "      <td>...</td>\n",
       "      <td>...</td>\n",
       "      <td>...</td>\n",
       "      <td>...</td>\n",
       "    </tr>\n",
       "    <tr>\n",
       "      <th>87719</th>\n",
       "      <td>CUSTOMER_Unique_82832</td>\n",
       "      <td>59.35</td>\n",
       "      <td>225.88</td>\n",
       "      <td>2.0</td>\n",
       "      <td>Y</td>\n",
       "      <td>5.0</td>\n",
       "      <td>7일 이내</td>\n",
       "    </tr>\n",
       "    <tr>\n",
       "      <th>87720</th>\n",
       "      <td>CUSTOMER_Unique_82832</td>\n",
       "      <td>59.35</td>\n",
       "      <td>225.88</td>\n",
       "      <td>2.0</td>\n",
       "      <td>Y</td>\n",
       "      <td>5.0</td>\n",
       "      <td>7일 이내</td>\n",
       "    </tr>\n",
       "    <tr>\n",
       "      <th>87721</th>\n",
       "      <td>CUSTOMER_Unique_82832</td>\n",
       "      <td>59.35</td>\n",
       "      <td>225.88</td>\n",
       "      <td>2.0</td>\n",
       "      <td>Y</td>\n",
       "      <td>5.0</td>\n",
       "      <td>7일 이내</td>\n",
       "    </tr>\n",
       "    <tr>\n",
       "      <th>88848</th>\n",
       "      <td>CUSTOMER_Unique_83936</td>\n",
       "      <td>30.52</td>\n",
       "      <td>114.90</td>\n",
       "      <td>2.0</td>\n",
       "      <td>Y</td>\n",
       "      <td>89.0</td>\n",
       "      <td>29일 이상</td>\n",
       "    </tr>\n",
       "    <tr>\n",
       "      <th>88849</th>\n",
       "      <td>CUSTOMER_Unique_83936</td>\n",
       "      <td>30.52</td>\n",
       "      <td>114.90</td>\n",
       "      <td>2.0</td>\n",
       "      <td>Y</td>\n",
       "      <td>89.0</td>\n",
       "      <td>29일 이상</td>\n",
       "    </tr>\n",
       "  </tbody>\n",
       "</table>\n",
       "<p>3976 rows × 7 columns</p>\n",
       "</div>"
      ],
      "text/plain": [
       "          Customer_unique_id  Freight_value   Price  new_count 재구매여부  구매주기  \\\n",
       "4      CUSTOMER_Unique_00004          59.36  506.52        2.0     Y  30.0   \n",
       "5      CUSTOMER_Unique_00004          59.36  506.52        2.0     Y  30.0   \n",
       "14     CUSTOMER_Unique_00012          32.53  248.97        2.0     Y  90.0   \n",
       "15     CUSTOMER_Unique_00012          32.53  248.97        2.0     Y  90.0   \n",
       "32     CUSTOMER_Unique_00030          38.85   74.98        2.0     Y  43.0   \n",
       "...                      ...            ...     ...        ...   ...   ...   \n",
       "87719  CUSTOMER_Unique_82832          59.35  225.88        2.0     Y   5.0   \n",
       "87720  CUSTOMER_Unique_82832          59.35  225.88        2.0     Y   5.0   \n",
       "87721  CUSTOMER_Unique_82832          59.35  225.88        2.0     Y   5.0   \n",
       "88848  CUSTOMER_Unique_83936          30.52  114.90        2.0     Y  89.0   \n",
       "88849  CUSTOMER_Unique_83936          30.52  114.90        2.0     Y  89.0   \n",
       "\n",
       "      구매주기_구간  \n",
       "4      29일 이상  \n",
       "5      29일 이상  \n",
       "14     29일 이상  \n",
       "15     29일 이상  \n",
       "32     29일 이상  \n",
       "...       ...  \n",
       "87719   7일 이내  \n",
       "87720   7일 이내  \n",
       "87721   7일 이내  \n",
       "88848  29일 이상  \n",
       "88849  29일 이상  \n",
       "\n",
       "[3976 rows x 7 columns]"
      ]
     },
     "execution_count": 671,
     "metadata": {},
     "output_type": "execute_result"
    }
   ],
   "source": [
    "reorder_filtered"
   ]
  },
  {
   "cell_type": "code",
   "execution_count": 672,
   "id": "f8d3c22a-0a4c-44cd-832b-87f0663713f6",
   "metadata": {},
   "outputs": [
    {
     "name": "stderr",
     "output_type": "stream",
     "text": [
      "/tmp/ipykernel_96/3114017426.py:1: SettingWithCopyWarning: \n",
      "A value is trying to be set on a copy of a slice from a DataFrame.\n",
      "Try using .loc[row_indexer,col_indexer] = value instead\n",
      "\n",
      "See the caveats in the documentation: https://pandas.pydata.org/pandas-docs/stable/user_guide/indexing.html#returning-a-view-versus-a-copy\n",
      "  reorder_filtered['구매주기_구간'] = pd.cut(reorder_filtered['구매주기'], \\\n"
     ]
    }
   ],
   "source": [
    "reorder_filtered['구매주기_구간'] = pd.cut(reorder_filtered['구매주기'], \\\n",
    "                    bins=[-float('inf'), 7, 14, 21, 28, float('inf')], \\\n",
    "                    labels=['7일 이내', '14일 이내', '21일 이내', '28일 이내', '29일 이상'], right=False)\n",
    "# ~7일 미만, ~14일 미만 ~21일 미만 ~28일 미만 ~29이상"
   ]
  },
  {
   "cell_type": "code",
   "execution_count": 673,
   "id": "5fff92b1-d6b5-4a3a-bc06-6e68ab670b15",
   "metadata": {},
   "outputs": [],
   "source": [
    "# reorder_filtered.head(20)\n",
    "# 값 확인"
   ]
  },
  {
   "cell_type": "code",
   "execution_count": 674,
   "id": "a89d2791-1149-461b-9419-b159bb8260bc",
   "metadata": {},
   "outputs": [],
   "source": [
    "# 이상치를 제거하기 이ㅜ해서 컬럼 unique 리스트화\n",
    "reorder_구매주기_구간_list = reorder_filtered.구매주기_구간.unique().tolist()"
   ]
  },
  {
   "cell_type": "code",
   "execution_count": 675,
   "id": "e36340b5-36d1-4847-9f1f-fafa1f43da3b",
   "metadata": {},
   "outputs": [
    {
     "data": {
      "text/plain": [
       "['29일 이상', '28일 이내', '21일 이내', '14일 이내', '7일 이내']"
      ]
     },
     "execution_count": 675,
     "metadata": {},
     "output_type": "execute_result"
    }
   ],
   "source": [
    "reorder_구매주기_구간_list"
   ]
  },
  {
   "cell_type": "code",
   "execution_count": 676,
   "id": "d307a02e-329b-427b-8ca9-d953eab6fc63",
   "metadata": {},
   "outputs": [],
   "source": [
    "import numpy as np"
   ]
  },
  {
   "cell_type": "code",
   "execution_count": 677,
   "id": "e193904e-9459-438c-8c8c-daee70db6399",
   "metadata": {},
   "outputs": [
    {
     "data": {
      "text/plain": [
       "(3976, 7)"
      ]
     },
     "execution_count": 677,
     "metadata": {},
     "output_type": "execute_result"
    }
   ],
   "source": [
    "reorder_filtered.shape"
   ]
  },
  {
   "cell_type": "code",
   "execution_count": 678,
   "id": "e2063003-5e1a-4d82-a694-33563e70db11",
   "metadata": {},
   "outputs": [
    {
     "name": "stderr",
     "output_type": "stream",
     "text": [
      "/tmp/ipykernel_96/3379321410.py:13: FutureWarning: The default of observed=False is deprecated and will be changed to True in a future version of pandas. Pass observed=False to retain current behavior or observed=True to adopt the future default and silence this warning.\n",
      "  reorder_filtered_cleaned = reorder_filtered.groupby('구매주기_구간').apply(remove_outliers, column='Price').reset_index(drop=True)\n",
      "/tmp/ipykernel_96/3379321410.py:13: DeprecationWarning: DataFrameGroupBy.apply operated on the grouping columns. This behavior is deprecated, and in a future version of pandas the grouping columns will be excluded from the operation. Either pass `include_groups=False` to exclude the groupings or explicitly select the grouping columns after groupby to silence this warning.\n",
      "  reorder_filtered_cleaned = reorder_filtered.groupby('구매주기_구간').apply(remove_outliers, column='Price').reset_index(drop=True)\n"
     ]
    }
   ],
   "source": [
    "# 구매주기 구간에 있는 이상치를 제거하기\n",
    "def remove_outliers(df, column):\n",
    "    Q1 = df['Price'].quantile(0.25)\n",
    "    Q3 = df['Price'].quantile(0.75)\n",
    "    IQR = Q3 - Q1\n",
    "    lower_bound = Q1 - 1.5 * IQR\n",
    "    upper_bound = Q3 + 1.5 * IQR\n",
    "    df = df[(df['Price'] >= lower_bound) & (df['Price'] <= upper_bound)]\n",
    "\n",
    "    return df[(df[column] >= lower_bound) & (df[column] <= upper_bound)]\n",
    "\n",
    "# 구매주기 구간별로 이상치 제거\n",
    "reorder_filtered_cleaned = reorder_filtered.groupby('구매주기_구간').apply(remove_outliers, column='Price').reset_index(drop=True)"
   ]
  },
  {
   "cell_type": "code",
   "execution_count": 679,
   "id": "61f428f1-7007-416f-9f98-b4422070dd33",
   "metadata": {},
   "outputs": [
    {
     "name": "stderr",
     "output_type": "stream",
     "text": [
      "/tmp/ipykernel_96/4224174011.py:1: FutureWarning: The default of observed=False is deprecated and will be changed to True in a future version of pandas. Pass observed=False to retain current behavior or observed=True to adopt the future default and silence this warning.\n",
      "  reorderfiltered_cleaned = reorder_filtered.groupby('구매주기_구간').apply(remove_outliers, column='Price').reset_index(drop=True)\n",
      "/tmp/ipykernel_96/4224174011.py:1: DeprecationWarning: DataFrameGroupBy.apply operated on the grouping columns. This behavior is deprecated, and in a future version of pandas the grouping columns will be excluded from the operation. Either pass `include_groups=False` to exclude the groupings or explicitly select the grouping columns after groupby to silence this warning.\n",
      "  reorderfiltered_cleaned = reorder_filtered.groupby('구매주기_구간').apply(remove_outliers, column='Price').reset_index(drop=True)\n"
     ]
    }
   ],
   "source": [
    "reorderfiltered_cleaned = reorder_filtered.groupby('구매주기_구간').apply(remove_outliers, column='Price').reset_index(drop=True)"
   ]
  },
  {
   "cell_type": "code",
   "execution_count": 680,
   "id": "2ee0e4cd-5ad1-4a4a-96d8-67fd1f4cb7d4",
   "metadata": {},
   "outputs": [
    {
     "data": {
      "text/plain": [
       "<Axes: xlabel='구매주기_구간', ylabel='Price'>"
      ]
     },
     "execution_count": 680,
     "metadata": {},
     "output_type": "execute_result"
    },
    {
     "name": "stderr",
     "output_type": "stream",
     "text": [
      "/home/jotaesik/.local/lib/python3.10/site-packages/IPython/core/events.py:82: UserWarning: Glyph 51068 (\\N{HANGUL SYLLABLE IL}) missing from current font.\n",
      "  func(*args, **kwargs)\n",
      "/home/jotaesik/.local/lib/python3.10/site-packages/IPython/core/events.py:82: UserWarning: Glyph 51060 (\\N{HANGUL SYLLABLE I}) missing from current font.\n",
      "  func(*args, **kwargs)\n",
      "/home/jotaesik/.local/lib/python3.10/site-packages/IPython/core/events.py:82: UserWarning: Glyph 45236 (\\N{HANGUL SYLLABLE NAE}) missing from current font.\n",
      "  func(*args, **kwargs)\n",
      "/home/jotaesik/.local/lib/python3.10/site-packages/IPython/core/events.py:82: UserWarning: Glyph 49345 (\\N{HANGUL SYLLABLE SANG}) missing from current font.\n",
      "  func(*args, **kwargs)\n",
      "/home/jotaesik/.local/lib/python3.10/site-packages/IPython/core/events.py:82: UserWarning: Glyph 44396 (\\N{HANGUL SYLLABLE GU}) missing from current font.\n",
      "  func(*args, **kwargs)\n",
      "/home/jotaesik/.local/lib/python3.10/site-packages/IPython/core/events.py:82: UserWarning: Glyph 47588 (\\N{HANGUL SYLLABLE MAE}) missing from current font.\n",
      "  func(*args, **kwargs)\n",
      "/home/jotaesik/.local/lib/python3.10/site-packages/IPython/core/events.py:82: UserWarning: Glyph 51452 (\\N{HANGUL SYLLABLE JU}) missing from current font.\n",
      "  func(*args, **kwargs)\n",
      "/home/jotaesik/.local/lib/python3.10/site-packages/IPython/core/events.py:82: UserWarning: Glyph 44592 (\\N{HANGUL SYLLABLE GI}) missing from current font.\n",
      "  func(*args, **kwargs)\n",
      "/home/jotaesik/.local/lib/python3.10/site-packages/IPython/core/events.py:82: UserWarning: Glyph 44036 (\\N{HANGUL SYLLABLE GAN}) missing from current font.\n",
      "  func(*args, **kwargs)\n",
      "/home/jotaesik/.local/lib/python3.10/site-packages/IPython/core/pylabtools.py:152: UserWarning: Glyph 51068 (\\N{HANGUL SYLLABLE IL}) missing from current font.\n",
      "  fig.canvas.print_figure(bytes_io, **kw)\n",
      "/home/jotaesik/.local/lib/python3.10/site-packages/IPython/core/pylabtools.py:152: UserWarning: Glyph 51060 (\\N{HANGUL SYLLABLE I}) missing from current font.\n",
      "  fig.canvas.print_figure(bytes_io, **kw)\n",
      "/home/jotaesik/.local/lib/python3.10/site-packages/IPython/core/pylabtools.py:152: UserWarning: Glyph 45236 (\\N{HANGUL SYLLABLE NAE}) missing from current font.\n",
      "  fig.canvas.print_figure(bytes_io, **kw)\n",
      "/home/jotaesik/.local/lib/python3.10/site-packages/IPython/core/pylabtools.py:152: UserWarning: Glyph 49345 (\\N{HANGUL SYLLABLE SANG}) missing from current font.\n",
      "  fig.canvas.print_figure(bytes_io, **kw)\n",
      "/home/jotaesik/.local/lib/python3.10/site-packages/IPython/core/pylabtools.py:152: UserWarning: Glyph 44396 (\\N{HANGUL SYLLABLE GU}) missing from current font.\n",
      "  fig.canvas.print_figure(bytes_io, **kw)\n",
      "/home/jotaesik/.local/lib/python3.10/site-packages/IPython/core/pylabtools.py:152: UserWarning: Glyph 47588 (\\N{HANGUL SYLLABLE MAE}) missing from current font.\n",
      "  fig.canvas.print_figure(bytes_io, **kw)\n",
      "/home/jotaesik/.local/lib/python3.10/site-packages/IPython/core/pylabtools.py:152: UserWarning: Glyph 51452 (\\N{HANGUL SYLLABLE JU}) missing from current font.\n",
      "  fig.canvas.print_figure(bytes_io, **kw)\n",
      "/home/jotaesik/.local/lib/python3.10/site-packages/IPython/core/pylabtools.py:152: UserWarning: Glyph 44592 (\\N{HANGUL SYLLABLE GI}) missing from current font.\n",
      "  fig.canvas.print_figure(bytes_io, **kw)\n",
      "/home/jotaesik/.local/lib/python3.10/site-packages/IPython/core/pylabtools.py:152: UserWarning: Glyph 44036 (\\N{HANGUL SYLLABLE GAN}) missing from current font.\n",
      "  fig.canvas.print_figure(bytes_io, **kw)\n"
     ]
    },
    {
     "data": {
      "image/png": "[encoded data removed]",
      "text/plain": [
       "<Figure size 1500x600 with 1 Axes>"
      ]
     },
     "metadata": {},
     "output_type": "display_data"
    }
   ],
   "source": [
    "plt.figure(figsize=(15,6))\n",
    "sns.boxplot(data=reorder_filtered_cleaned, x='구매주기_구간', y='Price')"
   ]
  },
  {
   "cell_type": "code",
   "execution_count": null,
   "id": "3ecc3ee7-fc16-400a-b092-2ae457822938",
   "metadata": {},
   "outputs": [],
   "source": [
    "# 이상치를 제거해도 이상치가 뜬다. 왜 또 거기서 구하는거므로"
   ]
  },
  {
   "cell_type": "code",
   "execution_count": null,
   "id": "ee3741e7-18fb-4222-ad76-feb4ecdf94a7",
   "metadata": {},
   "outputs": [],
   "source": []
  },
  {
   "cell_type": "code",
   "execution_count": null,
   "id": "a3fed283-71b1-4629-83a0-9fafb8b5c0e9",
   "metadata": {},
   "outputs": [],
   "source": []
  },
  {
   "cell_type": "code",
   "execution_count": null,
   "id": "4ffcf937-2be2-459d-bfef-c68d12417fe2",
   "metadata": {},
   "outputs": [],
   "source": []
  },
  {
   "cell_type": "code",
   "execution_count": null,
   "id": "020a602f-5ef6-4228-946a-984fd0f524c0",
   "metadata": {},
   "outputs": [],
   "source": []
  },
  {
   "cell_type": "code",
   "execution_count": null,
   "id": "f26843b5-c806-41d3-a589-a0dd1a455619",
   "metadata": {},
   "outputs": [],
   "source": []
  },
  {
   "cell_type": "code",
   "execution_count": 681,
   "id": "00ae51f6-47a8-42c7-bf08-82defa8aacb5",
   "metadata": {},
   "outputs": [
    {
     "name": "stderr",
     "output_type": "stream",
     "text": [
      "/tmp/ipykernel_96/1356318949.py:1: FutureWarning: The default of observed=False is deprecated and will be changed to True in a future version of pandas. Pass observed=False to retain current behavior or observed=True to adopt the future default and silence this warning.\n",
      "  re_df = reorder_filtered_cleaned.groupby(['구매주기_구간'], as_index=False)[['Customer_unique_id']].count()\n"
     ]
    }
   ],
   "source": [
    "re_df = reorder_filtered_cleaned.groupby(['구매주기_구간'], as_index=False)[['Customer_unique_id']].count()"
   ]
  },
  {
   "cell_type": "code",
   "execution_count": 682,
   "id": "c2874bfd-fa3e-482d-ae09-05d0c14053d7",
   "metadata": {},
   "outputs": [
    {
     "data": {
      "text/plain": [
       "3719"
      ]
     },
     "execution_count": 682,
     "metadata": {},
     "output_type": "execute_result"
    }
   ],
   "source": [
    "reorder_filtered_cleaned.Customer_unique_id.count() # 370개"
   ]
  },
  {
   "cell_type": "code",
   "execution_count": 729,
   "id": "d9658510-1674-496e-9631-5dcc955f908e",
   "metadata": {},
   "outputs": [
    {
     "data": {
      "text/html": [
       "<div>\n",
       "<style scoped>\n",
       "    .dataframe tbody tr th:only-of-type {\n",
       "        vertical-align: middle;\n",
       "    }\n",
       "\n",
       "    .dataframe tbody tr th {\n",
       "        vertical-align: top;\n",
       "    }\n",
       "\n",
       "    .dataframe thead th {\n",
       "        text-align: right;\n",
       "    }\n",
       "</style>\n",
       "<table border=\"1\" class=\"dataframe\">\n",
       "  <thead>\n",
       "    <tr style=\"text-align: right;\">\n",
       "      <th></th>\n",
       "      <th>구매주기_구간</th>\n",
       "      <th>Customer_unique_id</th>\n",
       "    </tr>\n",
       "  </thead>\n",
       "  <tbody>\n",
       "    <tr>\n",
       "      <th>0</th>\n",
       "      <td>7일 이내</td>\n",
       "      <td>283</td>\n",
       "    </tr>\n",
       "    <tr>\n",
       "      <th>1</th>\n",
       "      <td>14일 이내</td>\n",
       "      <td>299</td>\n",
       "    </tr>\n",
       "    <tr>\n",
       "      <th>2</th>\n",
       "      <td>21일 이내</td>\n",
       "      <td>240</td>\n",
       "    </tr>\n",
       "    <tr>\n",
       "      <th>3</th>\n",
       "      <td>28일 이내</td>\n",
       "      <td>158</td>\n",
       "    </tr>\n",
       "    <tr>\n",
       "      <th>4</th>\n",
       "      <td>29일 이상</td>\n",
       "      <td>10978</td>\n",
       "    </tr>\n",
       "  </tbody>\n",
       "</table>\n",
       "</div>"
      ],
      "text/plain": [
       "  구매주기_구간  Customer_unique_id\n",
       "0   7일 이내                 283\n",
       "1  14일 이내                 299\n",
       "2  21일 이내                 240\n",
       "3  28일 이내                 158\n",
       "4  29일 이상               10978"
      ]
     },
     "execution_count": 729,
     "metadata": {},
     "output_type": "execute_result"
    }
   ],
   "source": [
    "re_df"
   ]
  },
  {
   "cell_type": "code",
   "execution_count": 684,
   "id": "eeb56b43-2697-4c4a-a6e8-5a9535ed83a7",
   "metadata": {},
   "outputs": [
    {
     "data": {
      "text/plain": [
       "8239"
      ]
     },
     "execution_count": 684,
     "metadata": {},
     "output_type": "execute_result"
    }
   ],
   "source": [
    "sample_df[\"Customer_unique_id\"].count()"
   ]
  },
  {
   "cell_type": "code",
   "execution_count": 685,
   "id": "1aa148d0-3975-4b30-a7e4-d42edeedbc7f",
   "metadata": {},
   "outputs": [
    {
     "data": {
      "text/plain": [
       "4    2739\n",
       "Name: Customer_unique_id, dtype: int64"
      ]
     },
     "execution_count": 685,
     "metadata": {},
     "output_type": "execute_result"
    }
   ],
   "source": [
    "re_df[re_df.구매주기_구간==\"29일 이상\"].Customer_unique_id"
   ]
  },
  {
   "cell_type": "code",
   "execution_count": 686,
   "id": "197db3f9-544f-4b32-8f48-877f769ca22c",
   "metadata": {},
   "outputs": [
    {
     "data": {
      "text/plain": [
       "8239"
      ]
     },
     "execution_count": 686,
     "metadata": {},
     "output_type": "execute_result"
    }
   ],
   "source": [
    "sample_df[\"Customer_unique_id\"].count()"
   ]
  },
  {
   "cell_type": "code",
   "execution_count": 687,
   "id": "902ca50f-e7c8-4309-b496-db46fcb892f5",
   "metadata": {},
   "outputs": [],
   "source": [
    "temp_sum = re_df[re_df.구매주기_구간==\"29일 이상\"][\"Customer_unique_id\"]+sample_df[\"Customer_unique_id\"].count()"
   ]
  },
  {
   "cell_type": "code",
   "execution_count": 688,
   "id": "9fe6495c-ef01-4ee5-b708-634e589202ee",
   "metadata": {},
   "outputs": [
    {
     "data": {
      "text/plain": [
       "4    10978\n",
       "Name: Customer_unique_id, dtype: int64"
      ]
     },
     "execution_count": 688,
     "metadata": {},
     "output_type": "execute_result"
    }
   ],
   "source": [
    "temp_sum"
   ]
  },
  {
   "cell_type": "code",
   "execution_count": 689,
   "id": "2ef6c453-0263-4fef-a3d6-44afeb843a4d",
   "metadata": {},
   "outputs": [],
   "source": [
    "# 위에서 재구매안한고객의 10퍼를 기존의 값과 더한\n",
    "re_df.loc[(re_df.구매주기_구간==\"29일 이상\"),\"Customer_unique_id\" ] = temp_sum"
   ]
  },
  {
   "cell_type": "code",
   "execution_count": 690,
   "id": "c25da0c7-c103-4324-9c68-a27e922f01eb",
   "metadata": {},
   "outputs": [
    {
     "data": {
      "text/html": [
       "<div>\n",
       "<style scoped>\n",
       "    .dataframe tbody tr th:only-of-type {\n",
       "        vertical-align: middle;\n",
       "    }\n",
       "\n",
       "    .dataframe tbody tr th {\n",
       "        vertical-align: top;\n",
       "    }\n",
       "\n",
       "    .dataframe thead th {\n",
       "        text-align: right;\n",
       "    }\n",
       "</style>\n",
       "<table border=\"1\" class=\"dataframe\">\n",
       "  <thead>\n",
       "    <tr style=\"text-align: right;\">\n",
       "      <th></th>\n",
       "      <th>구매주기_구간</th>\n",
       "      <th>Customer_unique_id</th>\n",
       "    </tr>\n",
       "  </thead>\n",
       "  <tbody>\n",
       "    <tr>\n",
       "      <th>0</th>\n",
       "      <td>7일 이내</td>\n",
       "      <td>283</td>\n",
       "    </tr>\n",
       "    <tr>\n",
       "      <th>1</th>\n",
       "      <td>14일 이내</td>\n",
       "      <td>299</td>\n",
       "    </tr>\n",
       "    <tr>\n",
       "      <th>2</th>\n",
       "      <td>21일 이내</td>\n",
       "      <td>240</td>\n",
       "    </tr>\n",
       "    <tr>\n",
       "      <th>3</th>\n",
       "      <td>28일 이내</td>\n",
       "      <td>158</td>\n",
       "    </tr>\n",
       "    <tr>\n",
       "      <th>4</th>\n",
       "      <td>29일 이상</td>\n",
       "      <td>10978</td>\n",
       "    </tr>\n",
       "  </tbody>\n",
       "</table>\n",
       "</div>"
      ],
      "text/plain": [
       "  구매주기_구간  Customer_unique_id\n",
       "0   7일 이내                 283\n",
       "1  14일 이내                 299\n",
       "2  21일 이내                 240\n",
       "3  28일 이내                 158\n",
       "4  29일 이상               10978"
      ]
     },
     "execution_count": 690,
     "metadata": {},
     "output_type": "execute_result"
    }
   ],
   "source": [
    "re_df"
   ]
  },
  {
   "cell_type": "code",
   "execution_count": 706,
   "id": "7c1553a1-4942-4a3d-8970-e015f256c5ca",
   "metadata": {},
   "outputs": [
    {
     "name": "stderr",
     "output_type": "stream",
     "text": [
      "/tmp/ipykernel_96/442011168.py:2: FutureWarning: The default of observed=False is deprecated and will be changed to True in a future version of pandas. Pass observed=False to retain current behavior or observed=True to adopt the future default and silence this warning.\n",
      "  re_df2 = reorder_filtered_cleaned.groupby(['구매주기_구간'], as_index=False)[['new_count', 'Freight_value', 'Price']].sum()\n"
     ]
    },
    {
     "data": {
      "text/html": [
       "<div>\n",
       "<style scoped>\n",
       "    .dataframe tbody tr th:only-of-type {\n",
       "        vertical-align: middle;\n",
       "    }\n",
       "\n",
       "    .dataframe tbody tr th {\n",
       "        vertical-align: top;\n",
       "    }\n",
       "\n",
       "    .dataframe thead th {\n",
       "        text-align: right;\n",
       "    }\n",
       "</style>\n",
       "<table border=\"1\" class=\"dataframe\">\n",
       "  <thead>\n",
       "    <tr style=\"text-align: right;\">\n",
       "      <th></th>\n",
       "      <th>구매주기_구간</th>\n",
       "      <th>new_count</th>\n",
       "      <th>Freight_value</th>\n",
       "      <th>Price</th>\n",
       "    </tr>\n",
       "  </thead>\n",
       "  <tbody>\n",
       "    <tr>\n",
       "      <th>0</th>\n",
       "      <td>7일 이내</td>\n",
       "      <td>570.0</td>\n",
       "      <td>11971.53</td>\n",
       "      <td>52998.20</td>\n",
       "    </tr>\n",
       "    <tr>\n",
       "      <th>1</th>\n",
       "      <td>14일 이내</td>\n",
       "      <td>620.0</td>\n",
       "      <td>13487.24</td>\n",
       "      <td>64022.87</td>\n",
       "    </tr>\n",
       "    <tr>\n",
       "      <th>2</th>\n",
       "      <td>21일 이내</td>\n",
       "      <td>572.0</td>\n",
       "      <td>11372.13</td>\n",
       "      <td>63205.37</td>\n",
       "    </tr>\n",
       "    <tr>\n",
       "      <th>3</th>\n",
       "      <td>28일 이내</td>\n",
       "      <td>329.0</td>\n",
       "      <td>5936.92</td>\n",
       "      <td>30091.62</td>\n",
       "    </tr>\n",
       "    <tr>\n",
       "      <th>4</th>\n",
       "      <td>29일 이상</td>\n",
       "      <td>6011.0</td>\n",
       "      <td>122815.01</td>\n",
       "      <td>591850.14</td>\n",
       "    </tr>\n",
       "  </tbody>\n",
       "</table>\n",
       "</div>"
      ],
      "text/plain": [
       "  구매주기_구간  new_count  Freight_value      Price\n",
       "0   7일 이내      570.0       11971.53   52998.20\n",
       "1  14일 이내      620.0       13487.24   64022.87\n",
       "2  21일 이내      572.0       11372.13   63205.37\n",
       "3  28일 이내      329.0        5936.92   30091.62\n",
       "4  29일 이상     6011.0      122815.01  591850.14"
      ]
     },
     "execution_count": 706,
     "metadata": {},
     "output_type": "execute_result"
    }
   ],
   "source": [
    "## 위에서 재구매안한고객의 10퍼를 기존의 값과 더한\n",
    "re_df2 = reorder_filtered_cleaned.groupby(['구매주기_구간'], as_index=False)[['new_count', 'Freight_value', 'Price']].sum()\n",
    "re_df2"
   ]
  },
  {
   "cell_type": "code",
   "execution_count": 696,
   "id": "68728d32-7e8a-4c1b-a760-a343ac00113e",
   "metadata": {},
   "outputs": [],
   "source": [
    "# sample_df[sample_df.Customer_unique_id==\"CUSTOMER_Unique_81692\"]"
   ]
  },
  {
   "cell_type": "code",
   "execution_count": 695,
   "id": "fc2ff560-3459-400d-bbd9-8fb7f7d166fc",
   "metadata": {},
   "outputs": [],
   "source": [
    "# sample_df[sample_df.duplicated()]"
   ]
  },
  {
   "cell_type": "code",
   "execution_count": 707,
   "id": "e270e2d0-dd73-410f-96e3-9e1cc3cccd59",
   "metadata": {},
   "outputs": [
    {
     "name": "stdout",
     "output_type": "stream",
     "text": [
      "8241.0 172114.47 1062111.6500000001\n"
     ]
    }
   ],
   "source": [
    "# sample_df\n",
    "sample_df_new_count_sum = sample_df['new_count'].sum()\n",
    "sample_df_Freight_value_sum = sample_df['Freight_value'].sum()\n",
    "sample_df_Price_sum = sample_df['Price'].sum()\n",
    "print(sample_df_new_count_sum, sample_df_Freight_value_sum, sample_df_Price_sum)"
   ]
  },
  {
   "cell_type": "code",
   "execution_count": 708,
   "id": "dd802f19-0982-46a3-846f-785928dde16d",
   "metadata": {},
   "outputs": [],
   "source": [
    "## 위에서 재구매안한고객의 10퍼를 기존의 값과 더한\n",
    "re_df2.loc[(re_df.구매주기_구간==\"29일 이상\"),\"new_count\"] = re_df2[re_df2.구매주기_구간==\"29일 이상\"][\"new_count\"]+sample_df_new_count_sum"
   ]
  },
  {
   "cell_type": "code",
   "execution_count": 709,
   "id": "e0cc8ae6-8a0e-482f-b3ef-bdc9d99ea917",
   "metadata": {},
   "outputs": [],
   "source": [
    "re_df2.loc[(re_df.구매주기_구간==\"29일 이상\"),\"Freight_value\"] = re_df2[re_df2.구매주기_구간==\"29일 이상\"][\"Freight_value\"]+sample_df_Freight_value_sum"
   ]
  },
  {
   "cell_type": "code",
   "execution_count": 710,
   "id": "14af67fb-ce59-44c5-89ce-1265f168848b",
   "metadata": {},
   "outputs": [],
   "source": [
    "re_df2.loc[(re_df.구매주기_구간==\"29일 이상\"),\"Price\"] = re_df2[re_df2.구매주기_구간==\"29일 이상\"][\"Price\"]+sample_df_Price_sum"
   ]
  },
  {
   "cell_type": "code",
   "execution_count": 711,
   "id": "e463db93-4cce-40b9-bf1e-22811adb6a2a",
   "metadata": {},
   "outputs": [
    {
     "data": {
      "text/html": [
       "<div>\n",
       "<style scoped>\n",
       "    .dataframe tbody tr th:only-of-type {\n",
       "        vertical-align: middle;\n",
       "    }\n",
       "\n",
       "    .dataframe tbody tr th {\n",
       "        vertical-align: top;\n",
       "    }\n",
       "\n",
       "    .dataframe thead th {\n",
       "        text-align: right;\n",
       "    }\n",
       "</style>\n",
       "<table border=\"1\" class=\"dataframe\">\n",
       "  <thead>\n",
       "    <tr style=\"text-align: right;\">\n",
       "      <th></th>\n",
       "      <th>구매주기_구간</th>\n",
       "      <th>new_count</th>\n",
       "      <th>Freight_value</th>\n",
       "      <th>Price</th>\n",
       "    </tr>\n",
       "  </thead>\n",
       "  <tbody>\n",
       "    <tr>\n",
       "      <th>0</th>\n",
       "      <td>7일 이내</td>\n",
       "      <td>570.0</td>\n",
       "      <td>11971.53</td>\n",
       "      <td>52998.20</td>\n",
       "    </tr>\n",
       "    <tr>\n",
       "      <th>1</th>\n",
       "      <td>14일 이내</td>\n",
       "      <td>620.0</td>\n",
       "      <td>13487.24</td>\n",
       "      <td>64022.87</td>\n",
       "    </tr>\n",
       "    <tr>\n",
       "      <th>2</th>\n",
       "      <td>21일 이내</td>\n",
       "      <td>572.0</td>\n",
       "      <td>11372.13</td>\n",
       "      <td>63205.37</td>\n",
       "    </tr>\n",
       "    <tr>\n",
       "      <th>3</th>\n",
       "      <td>28일 이내</td>\n",
       "      <td>329.0</td>\n",
       "      <td>5936.92</td>\n",
       "      <td>30091.62</td>\n",
       "    </tr>\n",
       "    <tr>\n",
       "      <th>4</th>\n",
       "      <td>29일 이상</td>\n",
       "      <td>14252.0</td>\n",
       "      <td>294929.48</td>\n",
       "      <td>1653961.79</td>\n",
       "    </tr>\n",
       "  </tbody>\n",
       "</table>\n",
       "</div>"
      ],
      "text/plain": [
       "  구매주기_구간  new_count  Freight_value       Price\n",
       "0   7일 이내      570.0       11971.53    52998.20\n",
       "1  14일 이내      620.0       13487.24    64022.87\n",
       "2  21일 이내      572.0       11372.13    63205.37\n",
       "3  28일 이내      329.0        5936.92    30091.62\n",
       "4  29일 이상    14252.0      294929.48  1653961.79"
      ]
     },
     "execution_count": 711,
     "metadata": {},
     "output_type": "execute_result"
    }
   ],
   "source": [
    "re_df2"
   ]
  },
  {
   "cell_type": "code",
   "execution_count": null,
   "id": "35bd89c8-42d2-4e9c-8212-6b6fd72ac640",
   "metadata": {},
   "outputs": [],
   "source": []
  },
  {
   "cell_type": "code",
   "execution_count": null,
   "id": "167bc8fa-d053-4348-b1eb-d71a48074903",
   "metadata": {},
   "outputs": [],
   "source": []
  },
  {
   "cell_type": "code",
   "execution_count": 712,
   "id": "90753b3e-87fc-4d9e-bc84-4d197c6aa37e",
   "metadata": {},
   "outputs": [
    {
     "data": {
      "text/html": [
       "<div>\n",
       "<style scoped>\n",
       "    .dataframe tbody tr th:only-of-type {\n",
       "        vertical-align: middle;\n",
       "    }\n",
       "\n",
       "    .dataframe tbody tr th {\n",
       "        vertical-align: top;\n",
       "    }\n",
       "\n",
       "    .dataframe thead th {\n",
       "        text-align: right;\n",
       "    }\n",
       "</style>\n",
       "<table border=\"1\" class=\"dataframe\">\n",
       "  <thead>\n",
       "    <tr style=\"text-align: right;\">\n",
       "      <th></th>\n",
       "      <th>구매주기_구간</th>\n",
       "      <th>Customer_unique_id</th>\n",
       "      <th>new_count</th>\n",
       "      <th>Freight_value</th>\n",
       "      <th>Price</th>\n",
       "    </tr>\n",
       "  </thead>\n",
       "  <tbody>\n",
       "    <tr>\n",
       "      <th>0</th>\n",
       "      <td>7일 이내</td>\n",
       "      <td>283</td>\n",
       "      <td>570.0</td>\n",
       "      <td>11971.53</td>\n",
       "      <td>52998.20</td>\n",
       "    </tr>\n",
       "    <tr>\n",
       "      <th>1</th>\n",
       "      <td>14일 이내</td>\n",
       "      <td>299</td>\n",
       "      <td>620.0</td>\n",
       "      <td>13487.24</td>\n",
       "      <td>64022.87</td>\n",
       "    </tr>\n",
       "    <tr>\n",
       "      <th>2</th>\n",
       "      <td>21일 이내</td>\n",
       "      <td>240</td>\n",
       "      <td>572.0</td>\n",
       "      <td>11372.13</td>\n",
       "      <td>63205.37</td>\n",
       "    </tr>\n",
       "    <tr>\n",
       "      <th>3</th>\n",
       "      <td>28일 이내</td>\n",
       "      <td>158</td>\n",
       "      <td>329.0</td>\n",
       "      <td>5936.92</td>\n",
       "      <td>30091.62</td>\n",
       "    </tr>\n",
       "    <tr>\n",
       "      <th>4</th>\n",
       "      <td>29일 이상</td>\n",
       "      <td>10978</td>\n",
       "      <td>14252.0</td>\n",
       "      <td>294929.48</td>\n",
       "      <td>1653961.79</td>\n",
       "    </tr>\n",
       "  </tbody>\n",
       "</table>\n",
       "</div>"
      ],
      "text/plain": [
       "  구매주기_구간  Customer_unique_id  new_count  Freight_value       Price\n",
       "0   7일 이내                 283      570.0       11971.53    52998.20\n",
       "1  14일 이내                 299      620.0       13487.24    64022.87\n",
       "2  21일 이내                 240      572.0       11372.13    63205.37\n",
       "3  28일 이내                 158      329.0        5936.92    30091.62\n",
       "4  29일 이상               10978    14252.0      294929.48  1653961.79"
      ]
     },
     "execution_count": 712,
     "metadata": {},
     "output_type": "execute_result"
    }
   ],
   "source": [
    "re_df3 = pd.merge(re_df, re_df2, on='구매주기_구간', how='inner')\n",
    "re_df3"
   ]
  },
  {
   "cell_type": "code",
   "execution_count": 714,
   "id": "3f52e1a2-b17a-46b3-b5bb-bc516b5fec87",
   "metadata": {},
   "outputs": [],
   "source": [
    "re_df3['Payment_value'] = re_df3['Freight_value'] + re_df3['Price']\n",
    "re_df3['구매당순이익'] = round(re_df3['Price'] / re_df3['new_count'], 2)\n",
    "re_df3['구매당운송비'] = round(re_df3['Freight_value'] / re_df3['new_count'], 2)\n",
    "re_df3['고객당순이익'] = round(re_df3['Price'] / re_df3['Customer_unique_id'], 0)\n",
    "re_df3['고객당구매수'] = round(re_df3['new_count'] / re_df3['Customer_unique_id'], 2)\n",
    "re_df3['고객당매출액'] = round(re_df3['Payment_value'] / re_df3['Customer_unique_id'], 0)"
   ]
  },
  {
   "cell_type": "code",
   "execution_count": 716,
   "id": "71690003-9621-4db8-b8aa-f34ddc04c5a1",
   "metadata": {},
   "outputs": [
    {
     "data": {
      "text/html": [
       "<div>\n",
       "<style scoped>\n",
       "    .dataframe tbody tr th:only-of-type {\n",
       "        vertical-align: middle;\n",
       "    }\n",
       "\n",
       "    .dataframe tbody tr th {\n",
       "        vertical-align: top;\n",
       "    }\n",
       "\n",
       "    .dataframe thead th {\n",
       "        text-align: right;\n",
       "    }\n",
       "</style>\n",
       "<table border=\"1\" class=\"dataframe\">\n",
       "  <thead>\n",
       "    <tr style=\"text-align: right;\">\n",
       "      <th></th>\n",
       "      <th>구매주기_구간</th>\n",
       "      <th>Customer_unique_id</th>\n",
       "      <th>new_count</th>\n",
       "      <th>Freight_value</th>\n",
       "      <th>Price</th>\n",
       "      <th>Payment_value</th>\n",
       "      <th>구매당순이익</th>\n",
       "      <th>구매당운송비</th>\n",
       "      <th>고객당순이익</th>\n",
       "      <th>고객당구매수</th>\n",
       "      <th>고객당매출액</th>\n",
       "    </tr>\n",
       "  </thead>\n",
       "  <tbody>\n",
       "    <tr>\n",
       "      <th>0</th>\n",
       "      <td>7일 이내</td>\n",
       "      <td>283</td>\n",
       "      <td>570.0</td>\n",
       "      <td>11971.53</td>\n",
       "      <td>52998.20</td>\n",
       "      <td>64969.73</td>\n",
       "      <td>92.98</td>\n",
       "      <td>21.00</td>\n",
       "      <td>187.0</td>\n",
       "      <td>2.01</td>\n",
       "      <td>230.0</td>\n",
       "    </tr>\n",
       "    <tr>\n",
       "      <th>1</th>\n",
       "      <td>14일 이내</td>\n",
       "      <td>299</td>\n",
       "      <td>620.0</td>\n",
       "      <td>13487.24</td>\n",
       "      <td>64022.87</td>\n",
       "      <td>77510.11</td>\n",
       "      <td>103.26</td>\n",
       "      <td>21.75</td>\n",
       "      <td>214.0</td>\n",
       "      <td>2.07</td>\n",
       "      <td>259.0</td>\n",
       "    </tr>\n",
       "    <tr>\n",
       "      <th>2</th>\n",
       "      <td>21일 이내</td>\n",
       "      <td>240</td>\n",
       "      <td>572.0</td>\n",
       "      <td>11372.13</td>\n",
       "      <td>63205.37</td>\n",
       "      <td>74577.50</td>\n",
       "      <td>110.50</td>\n",
       "      <td>19.88</td>\n",
       "      <td>263.0</td>\n",
       "      <td>2.38</td>\n",
       "      <td>311.0</td>\n",
       "    </tr>\n",
       "    <tr>\n",
       "      <th>3</th>\n",
       "      <td>28일 이내</td>\n",
       "      <td>158</td>\n",
       "      <td>329.0</td>\n",
       "      <td>5936.92</td>\n",
       "      <td>30091.62</td>\n",
       "      <td>36028.54</td>\n",
       "      <td>91.46</td>\n",
       "      <td>18.05</td>\n",
       "      <td>190.0</td>\n",
       "      <td>2.08</td>\n",
       "      <td>228.0</td>\n",
       "    </tr>\n",
       "    <tr>\n",
       "      <th>4</th>\n",
       "      <td>29일 이상</td>\n",
       "      <td>10978</td>\n",
       "      <td>14252.0</td>\n",
       "      <td>294929.48</td>\n",
       "      <td>1653961.79</td>\n",
       "      <td>1948891.27</td>\n",
       "      <td>116.05</td>\n",
       "      <td>20.69</td>\n",
       "      <td>151.0</td>\n",
       "      <td>1.30</td>\n",
       "      <td>178.0</td>\n",
       "    </tr>\n",
       "  </tbody>\n",
       "</table>\n",
       "</div>"
      ],
      "text/plain": [
       "  구매주기_구간  Customer_unique_id  new_count  Freight_value       Price  \\\n",
       "0   7일 이내                 283      570.0       11971.53    52998.20   \n",
       "1  14일 이내                 299      620.0       13487.24    64022.87   \n",
       "2  21일 이내                 240      572.0       11372.13    63205.37   \n",
       "3  28일 이내                 158      329.0        5936.92    30091.62   \n",
       "4  29일 이상               10978    14252.0      294929.48  1653961.79   \n",
       "\n",
       "   Payment_value  구매당순이익  구매당운송비  고객당순이익  고객당구매수  고객당매출액  \n",
       "0       64969.73   92.98   21.00   187.0    2.01   230.0  \n",
       "1       77510.11  103.26   21.75   214.0    2.07   259.0  \n",
       "2       74577.50  110.50   19.88   263.0    2.38   311.0  \n",
       "3       36028.54   91.46   18.05   190.0    2.08   228.0  \n",
       "4     1948891.27  116.05   20.69   151.0    1.30   178.0  "
      ]
     },
     "execution_count": 716,
     "metadata": {},
     "output_type": "execute_result"
    }
   ],
   "source": [
    "re_df3"
   ]
  },
  {
   "cell_type": "code",
   "execution_count": null,
   "id": "5ae83b61-6eb3-489f-a7ce-df761451ce7c",
   "metadata": {},
   "outputs": [],
   "source": [
    "# 폰트없어서 안돼\n",
    "# from matplotlib import font_manager, rc\n",
    "# font_path = \"/usr/share/fonts/truetype/nanum/NanumGothic.ttf\"\n",
    "# font_name = font_manager.FontProperties(fname = font_path).get_name()\n",
    "# rc('font', family=font_name)"
   ]
  },
  {
   "cell_type": "code",
   "execution_count": 715,
   "id": "57b235b8-2481-40eb-a18b-a3ddade6064d",
   "metadata": {},
   "outputs": [
    {
     "name": "stderr",
     "output_type": "stream",
     "text": [
      "/tmp/ipykernel_96/3075114023.py:8: FutureWarning: \n",
      "\n",
      "Passing `palette` without assigning `hue` is deprecated and will be removed in v0.14.0. Assign the `x` variable to `hue` and set `legend=False` for the same effect.\n",
      "\n",
      "  sns.barplot(x='구매주기_구간', y='고객당구매수', data=re_df3, palette='muted')\n",
      "/tmp/ipykernel_96/3075114023.py:14: FutureWarning: \n",
      "\n",
      "Passing `palette` without assigning `hue` is deprecated and will be removed in v0.14.0. Assign the `x` variable to `hue` and set `legend=False` for the same effect.\n",
      "\n",
      "  sns.barplot(x='구매주기_구간', y='고객당순이익', data=re_df3, palette='muted')\n",
      "/tmp/ipykernel_96/3075114023.py:20: FutureWarning: \n",
      "\n",
      "Passing `palette` without assigning `hue` is deprecated and will be removed in v0.14.0. Assign the `x` variable to `hue` and set `legend=False` for the same effect.\n",
      "\n",
      "  sns.barplot(x='구매주기_구간', y='고객당매출액', data=re_df3, palette='muted')\n",
      "/tmp/ipykernel_96/3075114023.py:25: UserWarning: Glyph 51068 (\\N{HANGUL SYLLABLE IL}) missing from current font.\n",
      "  plt.tight_layout()\n",
      "/tmp/ipykernel_96/3075114023.py:25: UserWarning: Glyph 51060 (\\N{HANGUL SYLLABLE I}) missing from current font.\n",
      "  plt.tight_layout()\n",
      "/tmp/ipykernel_96/3075114023.py:25: UserWarning: Glyph 45236 (\\N{HANGUL SYLLABLE NAE}) missing from current font.\n",
      "  plt.tight_layout()\n",
      "/tmp/ipykernel_96/3075114023.py:25: UserWarning: Glyph 49345 (\\N{HANGUL SYLLABLE SANG}) missing from current font.\n",
      "  plt.tight_layout()\n",
      "/tmp/ipykernel_96/3075114023.py:25: UserWarning: Glyph 44396 (\\N{HANGUL SYLLABLE GU}) missing from current font.\n",
      "  plt.tight_layout()\n",
      "/tmp/ipykernel_96/3075114023.py:25: UserWarning: Glyph 47588 (\\N{HANGUL SYLLABLE MAE}) missing from current font.\n",
      "  plt.tight_layout()\n",
      "/tmp/ipykernel_96/3075114023.py:25: UserWarning: Glyph 51452 (\\N{HANGUL SYLLABLE JU}) missing from current font.\n",
      "  plt.tight_layout()\n",
      "/tmp/ipykernel_96/3075114023.py:25: UserWarning: Glyph 44592 (\\N{HANGUL SYLLABLE GI}) missing from current font.\n",
      "  plt.tight_layout()\n",
      "/tmp/ipykernel_96/3075114023.py:25: UserWarning: Glyph 44036 (\\N{HANGUL SYLLABLE GAN}) missing from current font.\n",
      "  plt.tight_layout()\n",
      "/tmp/ipykernel_96/3075114023.py:25: UserWarning: Glyph 44256 (\\N{HANGUL SYLLABLE GO}) missing from current font.\n",
      "  plt.tight_layout()\n",
      "/tmp/ipykernel_96/3075114023.py:25: UserWarning: Glyph 44061 (\\N{HANGUL SYLLABLE GAEG}) missing from current font.\n",
      "  plt.tight_layout()\n",
      "/tmp/ipykernel_96/3075114023.py:25: UserWarning: Glyph 45817 (\\N{HANGUL SYLLABLE DANG}) missing from current font.\n",
      "  plt.tight_layout()\n",
      "/tmp/ipykernel_96/3075114023.py:25: UserWarning: Glyph 49688 (\\N{HANGUL SYLLABLE SU}) missing from current font.\n",
      "  plt.tight_layout()\n",
      "/tmp/ipykernel_96/3075114023.py:25: UserWarning: Glyph 48324 (\\N{HANGUL SYLLABLE BYEOL}) missing from current font.\n",
      "  plt.tight_layout()\n",
      "/tmp/ipykernel_96/3075114023.py:25: UserWarning: Glyph 54943 (\\N{HANGUL SYLLABLE HOES}) missing from current font.\n",
      "  plt.tight_layout()\n",
      "/tmp/ipykernel_96/3075114023.py:25: UserWarning: Glyph 49692 (\\N{HANGUL SYLLABLE SUN}) missing from current font.\n",
      "  plt.tight_layout()\n",
      "/tmp/ipykernel_96/3075114023.py:25: UserWarning: Glyph 51061 (\\N{HANGUL SYLLABLE IG}) missing from current font.\n",
      "  plt.tight_layout()\n",
      "/tmp/ipykernel_96/3075114023.py:25: UserWarning: Glyph 51064 (\\N{HANGUL SYLLABLE IN}) missing from current font.\n",
      "  plt.tight_layout()\n",
      "/tmp/ipykernel_96/3075114023.py:25: UserWarning: Glyph 52636 (\\N{HANGUL SYLLABLE CUL}) missing from current font.\n",
      "  plt.tight_layout()\n",
      "/tmp/ipykernel_96/3075114023.py:25: UserWarning: Glyph 50529 (\\N{HANGUL SYLLABLE AEG}) missing from current font.\n",
      "  plt.tight_layout()\n",
      "/tmp/ipykernel_96/3075114023.py:25: UserWarning: Glyph 54924 (\\N{HANGUL SYLLABLE HOE}) missing from current font.\n",
      "  plt.tight_layout()\n",
      "/home/jotaesik/.local/lib/python3.10/site-packages/IPython/core/pylabtools.py:152: UserWarning: Glyph 44256 (\\N{HANGUL SYLLABLE GO}) missing from current font.\n",
      "  fig.canvas.print_figure(bytes_io, **kw)\n",
      "/home/jotaesik/.local/lib/python3.10/site-packages/IPython/core/pylabtools.py:152: UserWarning: Glyph 44061 (\\N{HANGUL SYLLABLE GAEG}) missing from current font.\n",
      "  fig.canvas.print_figure(bytes_io, **kw)\n",
      "/home/jotaesik/.local/lib/python3.10/site-packages/IPython/core/pylabtools.py:152: UserWarning: Glyph 45817 (\\N{HANGUL SYLLABLE DANG}) missing from current font.\n",
      "  fig.canvas.print_figure(bytes_io, **kw)\n",
      "/home/jotaesik/.local/lib/python3.10/site-packages/IPython/core/pylabtools.py:152: UserWarning: Glyph 44396 (\\N{HANGUL SYLLABLE GU}) missing from current font.\n",
      "  fig.canvas.print_figure(bytes_io, **kw)\n",
      "/home/jotaesik/.local/lib/python3.10/site-packages/IPython/core/pylabtools.py:152: UserWarning: Glyph 47588 (\\N{HANGUL SYLLABLE MAE}) missing from current font.\n",
      "  fig.canvas.print_figure(bytes_io, **kw)\n",
      "/home/jotaesik/.local/lib/python3.10/site-packages/IPython/core/pylabtools.py:152: UserWarning: Glyph 49688 (\\N{HANGUL SYLLABLE SU}) missing from current font.\n",
      "  fig.canvas.print_figure(bytes_io, **kw)\n",
      "/home/jotaesik/.local/lib/python3.10/site-packages/IPython/core/pylabtools.py:152: UserWarning: Glyph 51452 (\\N{HANGUL SYLLABLE JU}) missing from current font.\n",
      "  fig.canvas.print_figure(bytes_io, **kw)\n",
      "/home/jotaesik/.local/lib/python3.10/site-packages/IPython/core/pylabtools.py:152: UserWarning: Glyph 44592 (\\N{HANGUL SYLLABLE GI}) missing from current font.\n",
      "  fig.canvas.print_figure(bytes_io, **kw)\n",
      "/home/jotaesik/.local/lib/python3.10/site-packages/IPython/core/pylabtools.py:152: UserWarning: Glyph 48324 (\\N{HANGUL SYLLABLE BYEOL}) missing from current font.\n",
      "  fig.canvas.print_figure(bytes_io, **kw)\n",
      "/home/jotaesik/.local/lib/python3.10/site-packages/IPython/core/pylabtools.py:152: UserWarning: Glyph 54943 (\\N{HANGUL SYLLABLE HOES}) missing from current font.\n",
      "  fig.canvas.print_figure(bytes_io, **kw)\n",
      "/home/jotaesik/.local/lib/python3.10/site-packages/IPython/core/pylabtools.py:152: UserWarning: Glyph 51068 (\\N{HANGUL SYLLABLE IL}) missing from current font.\n",
      "  fig.canvas.print_figure(bytes_io, **kw)\n",
      "/home/jotaesik/.local/lib/python3.10/site-packages/IPython/core/pylabtools.py:152: UserWarning: Glyph 51060 (\\N{HANGUL SYLLABLE I}) missing from current font.\n",
      "  fig.canvas.print_figure(bytes_io, **kw)\n",
      "/home/jotaesik/.local/lib/python3.10/site-packages/IPython/core/pylabtools.py:152: UserWarning: Glyph 45236 (\\N{HANGUL SYLLABLE NAE}) missing from current font.\n",
      "  fig.canvas.print_figure(bytes_io, **kw)\n",
      "/home/jotaesik/.local/lib/python3.10/site-packages/IPython/core/pylabtools.py:152: UserWarning: Glyph 49345 (\\N{HANGUL SYLLABLE SANG}) missing from current font.\n",
      "  fig.canvas.print_figure(bytes_io, **kw)\n",
      "/home/jotaesik/.local/lib/python3.10/site-packages/IPython/core/pylabtools.py:152: UserWarning: Glyph 44036 (\\N{HANGUL SYLLABLE GAN}) missing from current font.\n",
      "  fig.canvas.print_figure(bytes_io, **kw)\n",
      "/home/jotaesik/.local/lib/python3.10/site-packages/IPython/core/pylabtools.py:152: UserWarning: Glyph 49692 (\\N{HANGUL SYLLABLE SUN}) missing from current font.\n",
      "  fig.canvas.print_figure(bytes_io, **kw)\n",
      "/home/jotaesik/.local/lib/python3.10/site-packages/IPython/core/pylabtools.py:152: UserWarning: Glyph 51061 (\\N{HANGUL SYLLABLE IG}) missing from current font.\n",
      "  fig.canvas.print_figure(bytes_io, **kw)\n",
      "/home/jotaesik/.local/lib/python3.10/site-packages/IPython/core/pylabtools.py:152: UserWarning: Glyph 51064 (\\N{HANGUL SYLLABLE IN}) missing from current font.\n",
      "  fig.canvas.print_figure(bytes_io, **kw)\n",
      "/home/jotaesik/.local/lib/python3.10/site-packages/IPython/core/pylabtools.py:152: UserWarning: Glyph 52636 (\\N{HANGUL SYLLABLE CUL}) missing from current font.\n",
      "  fig.canvas.print_figure(bytes_io, **kw)\n",
      "/home/jotaesik/.local/lib/python3.10/site-packages/IPython/core/pylabtools.py:152: UserWarning: Glyph 50529 (\\N{HANGUL SYLLABLE AEG}) missing from current font.\n",
      "  fig.canvas.print_figure(bytes_io, **kw)\n",
      "/home/jotaesik/.local/lib/python3.10/site-packages/IPython/core/pylabtools.py:152: UserWarning: Glyph 54924 (\\N{HANGUL SYLLABLE HOE}) missing from current font.\n",
      "  fig.canvas.print_figure(bytes_io, **kw)\n"
     ]
    },
    {
     "data": {
      "image/png": "[encoded data removed]",
      "text/plain": [
       "<Figure size 1500x600 with 3 Axes>"
      ]
     },
     "metadata": {},
     "output_type": "display_data"
    }
   ],
   "source": [
    "import matplotlib.pyplot as plt\n",
    "import seaborn as sns\n",
    "\n",
    "\n",
    "fig, axes = plt.subplots(1, 3, figsize=(15,6))\n",
    "\n",
    "plt.subplot(1, 3, 1)\n",
    "sns.barplot(x='구매주기_구간', y='고객당구매수', data=re_df3, palette='muted')\n",
    "plt.title('구매주기별 고객당 구매횟수')\n",
    "for p in axes[0].patches:\n",
    "    axes[0].annotate(f'{p.get_height():.2f}', (p.get_x() + p.get_width() / 2., p.get_height()), ha='center', va='center', fontsize=10, color='black', xytext=(0, 5), textcoords='offset points')\n",
    "\n",
    "plt.subplot(1, 3, 2)\n",
    "sns.barplot(x='구매주기_구간', y='고객당순이익', data=re_df3, palette='muted')\n",
    "plt.title('구매주기별 인당 순수익')\n",
    "for p in axes[1].patches:\n",
    "    axes[1].annotate(f'{p.get_height():.2f}', (p.get_x() + p.get_width() / 2., p.get_height()), ha='center', va='center', fontsize=10, color='black', xytext=(0, 5), textcoords='offset points')\n",
    "\n",
    "plt.subplot(1, 3, 3)\n",
    "sns.barplot(x='구매주기_구간', y='고객당매출액', data=re_df3, palette='muted')\n",
    "plt.title('구매주기별 1회 구매당 매출액')\n",
    "for p in axes[2].patches:\n",
    "    axes[2].annotate(f'{p.get_height():.2f}', (p.get_x() + p.get_width() / 2., p.get_height()), ha='center', va='center', fontsize=10, color='black', xytext=(0, 5), textcoords='offset points')\n",
    "\n",
    "plt.tight_layout()\n",
    "plt.show()"
   ]
  },
  {
   "cell_type": "code",
   "execution_count": 717,
   "id": "2527a521-b66d-45c1-a835-ef25c9885f55",
   "metadata": {},
   "outputs": [
    {
     "data": {
      "text/html": [
       "<div>\n",
       "<style scoped>\n",
       "    .dataframe tbody tr th:only-of-type {\n",
       "        vertical-align: middle;\n",
       "    }\n",
       "\n",
       "    .dataframe tbody tr th {\n",
       "        vertical-align: top;\n",
       "    }\n",
       "\n",
       "    .dataframe thead th {\n",
       "        text-align: right;\n",
       "    }\n",
       "</style>\n",
       "<table border=\"1\" class=\"dataframe\">\n",
       "  <thead>\n",
       "    <tr style=\"text-align: right;\">\n",
       "      <th></th>\n",
       "      <th>구매주기_구간</th>\n",
       "      <th>Customer_unique_id</th>\n",
       "      <th>new_count</th>\n",
       "      <th>Freight_value</th>\n",
       "      <th>Price</th>\n",
       "      <th>Payment_value</th>\n",
       "      <th>구매당순이익</th>\n",
       "      <th>구매당운송비</th>\n",
       "      <th>고객당순이익</th>\n",
       "      <th>고객당구매수</th>\n",
       "      <th>고객당매출액</th>\n",
       "    </tr>\n",
       "  </thead>\n",
       "  <tbody>\n",
       "    <tr>\n",
       "      <th>2</th>\n",
       "      <td>21일 이내</td>\n",
       "      <td>240</td>\n",
       "      <td>572.0</td>\n",
       "      <td>11372.13</td>\n",
       "      <td>63205.37</td>\n",
       "      <td>74577.50</td>\n",
       "      <td>110.50</td>\n",
       "      <td>19.88</td>\n",
       "      <td>263.0</td>\n",
       "      <td>2.38</td>\n",
       "      <td>311.0</td>\n",
       "    </tr>\n",
       "    <tr>\n",
       "      <th>1</th>\n",
       "      <td>14일 이내</td>\n",
       "      <td>299</td>\n",
       "      <td>620.0</td>\n",
       "      <td>13487.24</td>\n",
       "      <td>64022.87</td>\n",
       "      <td>77510.11</td>\n",
       "      <td>103.26</td>\n",
       "      <td>21.75</td>\n",
       "      <td>214.0</td>\n",
       "      <td>2.07</td>\n",
       "      <td>259.0</td>\n",
       "    </tr>\n",
       "    <tr>\n",
       "      <th>3</th>\n",
       "      <td>28일 이내</td>\n",
       "      <td>158</td>\n",
       "      <td>329.0</td>\n",
       "      <td>5936.92</td>\n",
       "      <td>30091.62</td>\n",
       "      <td>36028.54</td>\n",
       "      <td>91.46</td>\n",
       "      <td>18.05</td>\n",
       "      <td>190.0</td>\n",
       "      <td>2.08</td>\n",
       "      <td>228.0</td>\n",
       "    </tr>\n",
       "    <tr>\n",
       "      <th>0</th>\n",
       "      <td>7일 이내</td>\n",
       "      <td>283</td>\n",
       "      <td>570.0</td>\n",
       "      <td>11971.53</td>\n",
       "      <td>52998.20</td>\n",
       "      <td>64969.73</td>\n",
       "      <td>92.98</td>\n",
       "      <td>21.00</td>\n",
       "      <td>187.0</td>\n",
       "      <td>2.01</td>\n",
       "      <td>230.0</td>\n",
       "    </tr>\n",
       "    <tr>\n",
       "      <th>4</th>\n",
       "      <td>29일 이상</td>\n",
       "      <td>10978</td>\n",
       "      <td>14252.0</td>\n",
       "      <td>294929.48</td>\n",
       "      <td>1653961.79</td>\n",
       "      <td>1948891.27</td>\n",
       "      <td>116.05</td>\n",
       "      <td>20.69</td>\n",
       "      <td>151.0</td>\n",
       "      <td>1.30</td>\n",
       "      <td>178.0</td>\n",
       "    </tr>\n",
       "  </tbody>\n",
       "</table>\n",
       "</div>"
      ],
      "text/plain": [
       "  구매주기_구간  Customer_unique_id  new_count  Freight_value       Price  \\\n",
       "2  21일 이내                 240      572.0       11372.13    63205.37   \n",
       "1  14일 이내                 299      620.0       13487.24    64022.87   \n",
       "3  28일 이내                 158      329.0        5936.92    30091.62   \n",
       "0   7일 이내                 283      570.0       11971.53    52998.20   \n",
       "4  29일 이상               10978    14252.0      294929.48  1653961.79   \n",
       "\n",
       "   Payment_value  구매당순이익  구매당운송비  고객당순이익  고객당구매수  고객당매출액  \n",
       "2       74577.50  110.50   19.88   263.0    2.38   311.0  \n",
       "1       77510.11  103.26   21.75   214.0    2.07   259.0  \n",
       "3       36028.54   91.46   18.05   190.0    2.08   228.0  \n",
       "0       64969.73   92.98   21.00   187.0    2.01   230.0  \n",
       "4     1948891.27  116.05   20.69   151.0    1.30   178.0  "
      ]
     },
     "execution_count": 717,
     "metadata": {},
     "output_type": "execute_result"
    }
   ],
   "source": [
    "re_df3.sort_values(by='고객당순이익', ascending=False)"
   ]
  },
  {
   "cell_type": "code",
   "execution_count": 718,
   "id": "097f6c30-a4fc-4b0a-bbd3-4eff96c0d621",
   "metadata": {},
   "outputs": [
    {
     "data": {
      "text/html": [
       "<div>\n",
       "<style scoped>\n",
       "    .dataframe tbody tr th:only-of-type {\n",
       "        vertical-align: middle;\n",
       "    }\n",
       "\n",
       "    .dataframe tbody tr th {\n",
       "        vertical-align: top;\n",
       "    }\n",
       "\n",
       "    .dataframe thead th {\n",
       "        text-align: right;\n",
       "    }\n",
       "</style>\n",
       "<table border=\"1\" class=\"dataframe\">\n",
       "  <thead>\n",
       "    <tr style=\"text-align: right;\">\n",
       "      <th></th>\n",
       "      <th>재구매여부</th>\n",
       "      <th>new_count</th>\n",
       "      <th>Freight_value</th>\n",
       "      <th>Price</th>\n",
       "      <th>Customer_unique_id</th>\n",
       "      <th>재구매여부_ratio</th>\n",
       "      <th>Payment_value</th>\n",
       "      <th>구매당순이익</th>\n",
       "      <th>구매당운송비</th>\n",
       "      <th>고객당순이익</th>\n",
       "      <th>고객당구매수</th>\n",
       "      <th>고객당매출액</th>\n",
       "    </tr>\n",
       "  </thead>\n",
       "  <tbody>\n",
       "    <tr>\n",
       "      <th>0</th>\n",
       "      <td>N</td>\n",
       "      <td>86176.0</td>\n",
       "      <td>1878698.77</td>\n",
       "      <td>11478684.62</td>\n",
       "      <td>86176</td>\n",
       "      <td>0.955462</td>\n",
       "      <td>13357383.39</td>\n",
       "      <td>133.20</td>\n",
       "      <td>21.80</td>\n",
       "      <td>133.0</td>\n",
       "      <td>1.00</td>\n",
       "      <td>155.0</td>\n",
       "    </tr>\n",
       "    <tr>\n",
       "      <th>1</th>\n",
       "      <td>Y</td>\n",
       "      <td>8941.0</td>\n",
       "      <td>189716.34</td>\n",
       "      <td>1060169.15</td>\n",
       "      <td>4017</td>\n",
       "      <td>0.044538</td>\n",
       "      <td>1249885.49</td>\n",
       "      <td>118.57</td>\n",
       "      <td>21.22</td>\n",
       "      <td>264.0</td>\n",
       "      <td>2.23</td>\n",
       "      <td>311.0</td>\n",
       "    </tr>\n",
       "  </tbody>\n",
       "</table>\n",
       "</div>"
      ],
      "text/plain": [
       "  재구매여부  new_count  Freight_value        Price  Customer_unique_id  \\\n",
       "0     N    86176.0     1878698.77  11478684.62               86176   \n",
       "1     Y     8941.0      189716.34   1060169.15                4017   \n",
       "\n",
       "   재구매여부_ratio  Payment_value  구매당순이익  구매당운송비  고객당순이익  고객당구매수  고객당매출액  \n",
       "0     0.955462    13357383.39  133.20   21.80   133.0    1.00   155.0  \n",
       "1     0.044538     1249885.49  118.57   21.22   264.0    2.23   311.0  "
      ]
     },
     "execution_count": 718,
     "metadata": {},
     "output_type": "execute_result"
    }
   ],
   "source": [
    "reorder_yn"
   ]
  },
  {
   "cell_type": "code",
   "execution_count": null,
   "id": "cfb62ccb-2cdd-4c8b-8ff2-8ec7c8a22142",
   "metadata": {},
   "outputs": [],
   "source": []
  },
  {
   "cell_type": "code",
   "execution_count": 719,
   "id": "fac462ba-c403-44b1-8913-3cd6f1da397b",
   "metadata": {},
   "outputs": [
    {
     "data": {
      "text/html": [
       "<div>\n",
       "<style scoped>\n",
       "    .dataframe tbody tr th:only-of-type {\n",
       "        vertical-align: middle;\n",
       "    }\n",
       "\n",
       "    .dataframe tbody tr th {\n",
       "        vertical-align: top;\n",
       "    }\n",
       "\n",
       "    .dataframe thead th {\n",
       "        text-align: right;\n",
       "    }\n",
       "</style>\n",
       "<table border=\"1\" class=\"dataframe\">\n",
       "  <thead>\n",
       "    <tr style=\"text-align: right;\">\n",
       "      <th></th>\n",
       "      <th>Customer_unique_id</th>\n",
       "      <th>Freight_value</th>\n",
       "      <th>Price</th>\n",
       "      <th>new_count</th>\n",
       "      <th>재구매여부</th>\n",
       "      <th>구매주기</th>\n",
       "      <th>구매주기_구간</th>\n",
       "    </tr>\n",
       "  </thead>\n",
       "  <tbody>\n",
       "    <tr>\n",
       "      <th>4</th>\n",
       "      <td>CUSTOMER_Unique_00004</td>\n",
       "      <td>59.36</td>\n",
       "      <td>506.52</td>\n",
       "      <td>2.0</td>\n",
       "      <td>Y</td>\n",
       "      <td>30.0</td>\n",
       "      <td>29일 이상</td>\n",
       "    </tr>\n",
       "    <tr>\n",
       "      <th>5</th>\n",
       "      <td>CUSTOMER_Unique_00004</td>\n",
       "      <td>59.36</td>\n",
       "      <td>506.52</td>\n",
       "      <td>2.0</td>\n",
       "      <td>Y</td>\n",
       "      <td>30.0</td>\n",
       "      <td>29일 이상</td>\n",
       "    </tr>\n",
       "    <tr>\n",
       "      <th>14</th>\n",
       "      <td>CUSTOMER_Unique_00012</td>\n",
       "      <td>32.53</td>\n",
       "      <td>248.97</td>\n",
       "      <td>2.0</td>\n",
       "      <td>Y</td>\n",
       "      <td>90.0</td>\n",
       "      <td>29일 이상</td>\n",
       "    </tr>\n",
       "    <tr>\n",
       "      <th>15</th>\n",
       "      <td>CUSTOMER_Unique_00012</td>\n",
       "      <td>32.53</td>\n",
       "      <td>248.97</td>\n",
       "      <td>2.0</td>\n",
       "      <td>Y</td>\n",
       "      <td>90.0</td>\n",
       "      <td>29일 이상</td>\n",
       "    </tr>\n",
       "    <tr>\n",
       "      <th>32</th>\n",
       "      <td>CUSTOMER_Unique_00030</td>\n",
       "      <td>38.85</td>\n",
       "      <td>74.98</td>\n",
       "      <td>2.0</td>\n",
       "      <td>Y</td>\n",
       "      <td>43.0</td>\n",
       "      <td>29일 이상</td>\n",
       "    </tr>\n",
       "    <tr>\n",
       "      <th>...</th>\n",
       "      <td>...</td>\n",
       "      <td>...</td>\n",
       "      <td>...</td>\n",
       "      <td>...</td>\n",
       "      <td>...</td>\n",
       "      <td>...</td>\n",
       "      <td>...</td>\n",
       "    </tr>\n",
       "    <tr>\n",
       "      <th>87719</th>\n",
       "      <td>CUSTOMER_Unique_82832</td>\n",
       "      <td>59.35</td>\n",
       "      <td>225.88</td>\n",
       "      <td>2.0</td>\n",
       "      <td>Y</td>\n",
       "      <td>5.0</td>\n",
       "      <td>7일 이내</td>\n",
       "    </tr>\n",
       "    <tr>\n",
       "      <th>87720</th>\n",
       "      <td>CUSTOMER_Unique_82832</td>\n",
       "      <td>59.35</td>\n",
       "      <td>225.88</td>\n",
       "      <td>2.0</td>\n",
       "      <td>Y</td>\n",
       "      <td>5.0</td>\n",
       "      <td>7일 이내</td>\n",
       "    </tr>\n",
       "    <tr>\n",
       "      <th>87721</th>\n",
       "      <td>CUSTOMER_Unique_82832</td>\n",
       "      <td>59.35</td>\n",
       "      <td>225.88</td>\n",
       "      <td>2.0</td>\n",
       "      <td>Y</td>\n",
       "      <td>5.0</td>\n",
       "      <td>7일 이내</td>\n",
       "    </tr>\n",
       "    <tr>\n",
       "      <th>88848</th>\n",
       "      <td>CUSTOMER_Unique_83936</td>\n",
       "      <td>30.52</td>\n",
       "      <td>114.90</td>\n",
       "      <td>2.0</td>\n",
       "      <td>Y</td>\n",
       "      <td>89.0</td>\n",
       "      <td>29일 이상</td>\n",
       "    </tr>\n",
       "    <tr>\n",
       "      <th>88849</th>\n",
       "      <td>CUSTOMER_Unique_83936</td>\n",
       "      <td>30.52</td>\n",
       "      <td>114.90</td>\n",
       "      <td>2.0</td>\n",
       "      <td>Y</td>\n",
       "      <td>89.0</td>\n",
       "      <td>29일 이상</td>\n",
       "    </tr>\n",
       "  </tbody>\n",
       "</table>\n",
       "<p>3976 rows × 7 columns</p>\n",
       "</div>"
      ],
      "text/plain": [
       "          Customer_unique_id  Freight_value   Price  new_count 재구매여부  구매주기  \\\n",
       "4      CUSTOMER_Unique_00004          59.36  506.52        2.0     Y  30.0   \n",
       "5      CUSTOMER_Unique_00004          59.36  506.52        2.0     Y  30.0   \n",
       "14     CUSTOMER_Unique_00012          32.53  248.97        2.0     Y  90.0   \n",
       "15     CUSTOMER_Unique_00012          32.53  248.97        2.0     Y  90.0   \n",
       "32     CUSTOMER_Unique_00030          38.85   74.98        2.0     Y  43.0   \n",
       "...                      ...            ...     ...        ...   ...   ...   \n",
       "87719  CUSTOMER_Unique_82832          59.35  225.88        2.0     Y   5.0   \n",
       "87720  CUSTOMER_Unique_82832          59.35  225.88        2.0     Y   5.0   \n",
       "87721  CUSTOMER_Unique_82832          59.35  225.88        2.0     Y   5.0   \n",
       "88848  CUSTOMER_Unique_83936          30.52  114.90        2.0     Y  89.0   \n",
       "88849  CUSTOMER_Unique_83936          30.52  114.90        2.0     Y  89.0   \n",
       "\n",
       "      구매주기_구간  \n",
       "4      29일 이상  \n",
       "5      29일 이상  \n",
       "14     29일 이상  \n",
       "15     29일 이상  \n",
       "32     29일 이상  \n",
       "...       ...  \n",
       "87719   7일 이내  \n",
       "87720   7일 이내  \n",
       "87721   7일 이내  \n",
       "88848  29일 이상  \n",
       "88849  29일 이상  \n",
       "\n",
       "[3976 rows x 7 columns]"
      ]
     },
     "execution_count": 719,
     "metadata": {},
     "output_type": "execute_result"
    }
   ],
   "source": [
    "reorder_filtered"
   ]
  },
  {
   "cell_type": "code",
   "execution_count": null,
   "id": "4a511e06-f9f6-443c-85cb-d44857b2180e",
   "metadata": {},
   "outputs": [],
   "source": [
    "# plt.figure(figsize=(15,6))\n",
    "# sns.boxplot(data = reorder_filtered_cleaned, x=\"구매주기_구간\", y=\"Price\")\n",
    "# # 이상치가 존재한다."
   ]
  },
  {
   "cell_type": "code",
   "execution_count": null,
   "id": "594541b1-ce93-439f-9df3-6c46c80654ba",
   "metadata": {},
   "outputs": [],
   "source": []
  },
  {
   "cell_type": "code",
   "execution_count": 720,
   "id": "19413d19-7c20-4304-aba3-650818bf1dd6",
   "metadata": {},
   "outputs": [
    {
     "data": {
      "text/html": [
       "<style type=\"text/css\">\n",
       "#T_d8f7c_row0_col0, #T_d8f7c_row0_col1, #T_d8f7c_row0_col2, #T_d8f7c_row0_col3, #T_d8f7c_row0_col4, #T_d8f7c_row1_col0, #T_d8f7c_row1_col1, #T_d8f7c_row1_col2, #T_d8f7c_row1_col3, #T_d8f7c_row1_col4, #T_d8f7c_row2_col0, #T_d8f7c_row2_col1, #T_d8f7c_row2_col2, #T_d8f7c_row2_col3, #T_d8f7c_row2_col4, #T_d8f7c_row3_col0, #T_d8f7c_row3_col1, #T_d8f7c_row3_col2, #T_d8f7c_row3_col3, #T_d8f7c_row3_col4, #T_d8f7c_row4_col0, #T_d8f7c_row4_col1, #T_d8f7c_row4_col2, #T_d8f7c_row4_col3, #T_d8f7c_row4_col4, #T_d8f7c_row5_col5, #T_d8f7c_row6_col6, #T_d8f7c_row7_col7, #T_d8f7c_row7_col9, #T_d8f7c_row8_col8, #T_d8f7c_row9_col7, #T_d8f7c_row9_col9 {\n",
       "  background-color: #b40426;\n",
       "  color: #f1f1f1;\n",
       "}\n",
       "#T_d8f7c_row0_col5, #T_d8f7c_row1_col5, #T_d8f7c_row2_col5, #T_d8f7c_row5_col0, #T_d8f7c_row5_col1, #T_d8f7c_row5_col2 {\n",
       "  background-color: #e57058;\n",
       "  color: #f1f1f1;\n",
       "}\n",
       "#T_d8f7c_row0_col6, #T_d8f7c_row6_col0 {\n",
       "  background-color: #edd1c2;\n",
       "  color: #000000;\n",
       "}\n",
       "#T_d8f7c_row0_col7, #T_d8f7c_row1_col7, #T_d8f7c_row2_col7, #T_d8f7c_row7_col0, #T_d8f7c_row7_col1, #T_d8f7c_row7_col2 {\n",
       "  background-color: #6485ec;\n",
       "  color: #f1f1f1;\n",
       "}\n",
       "#T_d8f7c_row0_col8, #T_d8f7c_row1_col8, #T_d8f7c_row2_col8, #T_d8f7c_row3_col8, #T_d8f7c_row4_col8, #T_d8f7c_row8_col0, #T_d8f7c_row8_col1, #T_d8f7c_row8_col2, #T_d8f7c_row8_col3, #T_d8f7c_row8_col4 {\n",
       "  background-color: #3b4cc0;\n",
       "  color: #f1f1f1;\n",
       "}\n",
       "#T_d8f7c_row0_col9, #T_d8f7c_row9_col0 {\n",
       "  background-color: #5b7ae5;\n",
       "  color: #f1f1f1;\n",
       "}\n",
       "#T_d8f7c_row1_col6, #T_d8f7c_row3_col6, #T_d8f7c_row4_col6, #T_d8f7c_row6_col1, #T_d8f7c_row6_col3, #T_d8f7c_row6_col4 {\n",
       "  background-color: #eed0c0;\n",
       "  color: #000000;\n",
       "}\n",
       "#T_d8f7c_row1_col9, #T_d8f7c_row2_col9, #T_d8f7c_row3_col9, #T_d8f7c_row4_col9, #T_d8f7c_row9_col1, #T_d8f7c_row9_col2, #T_d8f7c_row9_col3, #T_d8f7c_row9_col4 {\n",
       "  background-color: #5d7ce6;\n",
       "  color: #f1f1f1;\n",
       "}\n",
       "#T_d8f7c_row2_col6, #T_d8f7c_row6_col2 {\n",
       "  background-color: #efcfbf;\n",
       "  color: #000000;\n",
       "}\n",
       "#T_d8f7c_row3_col5, #T_d8f7c_row4_col5, #T_d8f7c_row5_col3, #T_d8f7c_row5_col4 {\n",
       "  background-color: #e46e56;\n",
       "  color: #f1f1f1;\n",
       "}\n",
       "#T_d8f7c_row3_col7, #T_d8f7c_row4_col7, #T_d8f7c_row7_col3, #T_d8f7c_row7_col4 {\n",
       "  background-color: #6687ed;\n",
       "  color: #f1f1f1;\n",
       "}\n",
       "#T_d8f7c_row5_col6, #T_d8f7c_row6_col5 {\n",
       "  background-color: #f7b89c;\n",
       "  color: #000000;\n",
       "}\n",
       "#T_d8f7c_row5_col7, #T_d8f7c_row7_col5 {\n",
       "  background-color: #dedcdb;\n",
       "  color: #000000;\n",
       "}\n",
       "#T_d8f7c_row5_col8, #T_d8f7c_row8_col5 {\n",
       "  background-color: #92b4fe;\n",
       "  color: #000000;\n",
       "}\n",
       "#T_d8f7c_row5_col9, #T_d8f7c_row9_col5 {\n",
       "  background-color: #d6dce4;\n",
       "  color: #000000;\n",
       "}\n",
       "#T_d8f7c_row6_col7, #T_d8f7c_row7_col6 {\n",
       "  background-color: #d1dae9;\n",
       "  color: #000000;\n",
       "}\n",
       "#T_d8f7c_row6_col8, #T_d8f7c_row8_col6 {\n",
       "  background-color: #b5cdfa;\n",
       "  color: #000000;\n",
       "}\n",
       "#T_d8f7c_row6_col9, #T_d8f7c_row9_col6 {\n",
       "  background-color: #d5dbe5;\n",
       "  color: #000000;\n",
       "}\n",
       "#T_d8f7c_row7_col8, #T_d8f7c_row8_col7 {\n",
       "  background-color: #ca3b37;\n",
       "  color: #f1f1f1;\n",
       "}\n",
       "#T_d8f7c_row8_col9, #T_d8f7c_row9_col8 {\n",
       "  background-color: #c53334;\n",
       "  color: #f1f1f1;\n",
       "}\n",
       "</style>\n",
       "<table id=\"T_d8f7c\">\n",
       "  <thead>\n",
       "    <tr>\n",
       "      <th class=\"blank level0\" >&nbsp;</th>\n",
       "      <th id=\"T_d8f7c_level0_col0\" class=\"col_heading level0 col0\" >Customer_unique_id</th>\n",
       "      <th id=\"T_d8f7c_level0_col1\" class=\"col_heading level0 col1\" >new_count</th>\n",
       "      <th id=\"T_d8f7c_level0_col2\" class=\"col_heading level0 col2\" >Freight_value</th>\n",
       "      <th id=\"T_d8f7c_level0_col3\" class=\"col_heading level0 col3\" >Price</th>\n",
       "      <th id=\"T_d8f7c_level0_col4\" class=\"col_heading level0 col4\" >Payment_value</th>\n",
       "      <th id=\"T_d8f7c_level0_col5\" class=\"col_heading level0 col5\" >구매당순이익</th>\n",
       "      <th id=\"T_d8f7c_level0_col6\" class=\"col_heading level0 col6\" >구매당운송비</th>\n",
       "      <th id=\"T_d8f7c_level0_col7\" class=\"col_heading level0 col7\" >고객당순이익</th>\n",
       "      <th id=\"T_d8f7c_level0_col8\" class=\"col_heading level0 col8\" >고객당구매수</th>\n",
       "      <th id=\"T_d8f7c_level0_col9\" class=\"col_heading level0 col9\" >고객당매출액</th>\n",
       "    </tr>\n",
       "  </thead>\n",
       "  <tbody>\n",
       "    <tr>\n",
       "      <th id=\"T_d8f7c_level0_row0\" class=\"row_heading level0 row0\" >Customer_unique_id</th>\n",
       "      <td id=\"T_d8f7c_row0_col0\" class=\"data row0 col0\" >1.000000</td>\n",
       "      <td id=\"T_d8f7c_row0_col1\" class=\"data row0 col1\" >0.999965</td>\n",
       "      <td id=\"T_d8f7c_row0_col2\" class=\"data row0 col2\" >0.999933</td>\n",
       "      <td id=\"T_d8f7c_row0_col3\" class=\"data row0 col3\" >0.999937</td>\n",
       "      <td id=\"T_d8f7c_row0_col4\" class=\"data row0 col4\" >0.999940</td>\n",
       "      <td id=\"T_d8f7c_row0_col5\" class=\"data row0 col5\" >0.690906</td>\n",
       "      <td id=\"T_d8f7c_row0_col6\" class=\"data row0 col6\" >0.175796</td>\n",
       "      <td id=\"T_d8f7c_row0_col7\" class=\"data row0 col7\" >-0.675344</td>\n",
       "      <td id=\"T_d8f7c_row0_col8\" class=\"data row0 col8\" >-0.933614</td>\n",
       "      <td id=\"T_d8f7c_row0_col9\" class=\"data row0 col9\" >-0.724136</td>\n",
       "    </tr>\n",
       "    <tr>\n",
       "      <th id=\"T_d8f7c_level0_row1\" class=\"row_heading level0 row1\" >new_count</th>\n",
       "      <td id=\"T_d8f7c_row1_col0\" class=\"data row1 col0\" >0.999965</td>\n",
       "      <td id=\"T_d8f7c_row1_col1\" class=\"data row1 col1\" >1.000000</td>\n",
       "      <td id=\"T_d8f7c_row1_col2\" class=\"data row1 col2\" >0.999989</td>\n",
       "      <td id=\"T_d8f7c_row1_col3\" class=\"data row1 col3\" >0.999988</td>\n",
       "      <td id=\"T_d8f7c_row1_col4\" class=\"data row1 col4\" >0.999992</td>\n",
       "      <td id=\"T_d8f7c_row1_col5\" class=\"data row1 col5\" >0.696108</td>\n",
       "      <td id=\"T_d8f7c_row1_col6\" class=\"data row1 col6\" >0.181601</td>\n",
       "      <td id=\"T_d8f7c_row1_col7\" class=\"data row1 col7\" >-0.670600</td>\n",
       "      <td id=\"T_d8f7c_row1_col8\" class=\"data row1 col8\" >-0.931835</td>\n",
       "      <td id=\"T_d8f7c_row1_col9\" class=\"data row1 col9\" >-0.719469</td>\n",
       "    </tr>\n",
       "    <tr>\n",
       "      <th id=\"T_d8f7c_level0_row2\" class=\"row_heading level0 row2\" >Freight_value</th>\n",
       "      <td id=\"T_d8f7c_row2_col0\" class=\"data row2 col0\" >0.999933</td>\n",
       "      <td id=\"T_d8f7c_row2_col1\" class=\"data row2 col1\" >0.999989</td>\n",
       "      <td id=\"T_d8f7c_row2_col2\" class=\"data row2 col2\" >1.000000</td>\n",
       "      <td id=\"T_d8f7c_row2_col3\" class=\"data row2 col3\" >0.999969</td>\n",
       "      <td id=\"T_d8f7c_row2_col4\" class=\"data row2 col4\" >0.999977</td>\n",
       "      <td id=\"T_d8f7c_row2_col5\" class=\"data row2 col5\" >0.696643</td>\n",
       "      <td id=\"T_d8f7c_row2_col6\" class=\"data row2 col6\" >0.185987</td>\n",
       "      <td id=\"T_d8f7c_row2_col7\" class=\"data row2 col7\" >-0.670875</td>\n",
       "      <td id=\"T_d8f7c_row2_col8\" class=\"data row2 col8\" >-0.932403</td>\n",
       "      <td id=\"T_d8f7c_row2_col9\" class=\"data row2 col9\" >-0.719546</td>\n",
       "    </tr>\n",
       "    <tr>\n",
       "      <th id=\"T_d8f7c_level0_row3\" class=\"row_heading level0 row3\" >Price</th>\n",
       "      <td id=\"T_d8f7c_row3_col0\" class=\"data row3 col0\" >0.999937</td>\n",
       "      <td id=\"T_d8f7c_row3_col1\" class=\"data row3 col1\" >0.999988</td>\n",
       "      <td id=\"T_d8f7c_row3_col2\" class=\"data row3 col2\" >0.999969</td>\n",
       "      <td id=\"T_d8f7c_row3_col3\" class=\"data row3 col3\" >1.000000</td>\n",
       "      <td id=\"T_d8f7c_row3_col4\" class=\"data row3 col4\" >0.999999</td>\n",
       "      <td id=\"T_d8f7c_row3_col5\" class=\"data row3 col5\" >0.698912</td>\n",
       "      <td id=\"T_d8f7c_row3_col6\" class=\"data row3 col6\" >0.180186</td>\n",
       "      <td id=\"T_d8f7c_row3_col7\" class=\"data row3 col7\" >-0.667433</td>\n",
       "      <td id=\"T_d8f7c_row3_col8\" class=\"data row3 col8\" >-0.930238</td>\n",
       "      <td id=\"T_d8f7c_row3_col9\" class=\"data row3 col9\" >-0.716607</td>\n",
       "    </tr>\n",
       "    <tr>\n",
       "      <th id=\"T_d8f7c_level0_row4\" class=\"row_heading level0 row4\" >Payment_value</th>\n",
       "      <td id=\"T_d8f7c_row4_col0\" class=\"data row4 col0\" >0.999940</td>\n",
       "      <td id=\"T_d8f7c_row4_col1\" class=\"data row4 col1\" >0.999992</td>\n",
       "      <td id=\"T_d8f7c_row4_col2\" class=\"data row4 col2\" >0.999977</td>\n",
       "      <td id=\"T_d8f7c_row4_col3\" class=\"data row4 col3\" >0.999999</td>\n",
       "      <td id=\"T_d8f7c_row4_col4\" class=\"data row4 col4\" >1.000000</td>\n",
       "      <td id=\"T_d8f7c_row4_col5\" class=\"data row4 col5\" >0.698572</td>\n",
       "      <td id=\"T_d8f7c_row4_col6\" class=\"data row4 col6\" >0.181061</td>\n",
       "      <td id=\"T_d8f7c_row4_col7\" class=\"data row4 col7\" >-0.667954</td>\n",
       "      <td id=\"T_d8f7c_row4_col8\" class=\"data row4 col8\" >-0.930568</td>\n",
       "      <td id=\"T_d8f7c_row4_col9\" class=\"data row4 col9\" >-0.717053</td>\n",
       "    </tr>\n",
       "    <tr>\n",
       "      <th id=\"T_d8f7c_level0_row5\" class=\"row_heading level0 row5\" >구매당순이익</th>\n",
       "      <td id=\"T_d8f7c_row5_col0\" class=\"data row5 col0\" >0.690906</td>\n",
       "      <td id=\"T_d8f7c_row5_col1\" class=\"data row5 col1\" >0.696108</td>\n",
       "      <td id=\"T_d8f7c_row5_col2\" class=\"data row5 col2\" >0.696643</td>\n",
       "      <td id=\"T_d8f7c_row5_col3\" class=\"data row5 col3\" >0.698912</td>\n",
       "      <td id=\"T_d8f7c_row5_col4\" class=\"data row5 col4\" >0.698572</td>\n",
       "      <td id=\"T_d8f7c_row5_col5\" class=\"data row5 col5\" >1.000000</td>\n",
       "      <td id=\"T_d8f7c_row5_col6\" class=\"data row5 col6\" >0.350669</td>\n",
       "      <td id=\"T_d8f7c_row5_col7\" class=\"data row5 col7\" >0.046879</td>\n",
       "      <td id=\"T_d8f7c_row5_col8\" class=\"data row5 col8\" >-0.426020</td>\n",
       "      <td id=\"T_d8f7c_row5_col9\" class=\"data row5 col9\" >-0.015359</td>\n",
       "    </tr>\n",
       "    <tr>\n",
       "      <th id=\"T_d8f7c_level0_row6\" class=\"row_heading level0 row6\" >구매당운송비</th>\n",
       "      <td id=\"T_d8f7c_row6_col0\" class=\"data row6 col0\" >0.175796</td>\n",
       "      <td id=\"T_d8f7c_row6_col1\" class=\"data row6 col1\" >0.181601</td>\n",
       "      <td id=\"T_d8f7c_row6_col2\" class=\"data row6 col2\" >0.185987</td>\n",
       "      <td id=\"T_d8f7c_row6_col3\" class=\"data row6 col3\" >0.180186</td>\n",
       "      <td id=\"T_d8f7c_row6_col4\" class=\"data row6 col4\" >0.181061</td>\n",
       "      <td id=\"T_d8f7c_row6_col5\" class=\"data row6 col5\" >0.350669</td>\n",
       "      <td id=\"T_d8f7c_row6_col6\" class=\"data row6 col6\" >1.000000</td>\n",
       "      <td id=\"T_d8f7c_row6_col7\" class=\"data row6 col7\" >-0.050287</td>\n",
       "      <td id=\"T_d8f7c_row6_col8\" class=\"data row6 col8\" >-0.224782</td>\n",
       "      <td id=\"T_d8f7c_row6_col9\" class=\"data row6 col9\" >-0.022880</td>\n",
       "    </tr>\n",
       "    <tr>\n",
       "      <th id=\"T_d8f7c_level0_row7\" class=\"row_heading level0 row7\" >고객당순이익</th>\n",
       "      <td id=\"T_d8f7c_row7_col0\" class=\"data row7 col0\" >-0.675344</td>\n",
       "      <td id=\"T_d8f7c_row7_col1\" class=\"data row7 col1\" >-0.670600</td>\n",
       "      <td id=\"T_d8f7c_row7_col2\" class=\"data row7 col2\" >-0.670875</td>\n",
       "      <td id=\"T_d8f7c_row7_col3\" class=\"data row7 col3\" >-0.667433</td>\n",
       "      <td id=\"T_d8f7c_row7_col4\" class=\"data row7 col4\" >-0.667954</td>\n",
       "      <td id=\"T_d8f7c_row7_col5\" class=\"data row7 col5\" >0.046879</td>\n",
       "      <td id=\"T_d8f7c_row7_col6\" class=\"data row7 col6\" >-0.050287</td>\n",
       "      <td id=\"T_d8f7c_row7_col7\" class=\"data row7 col7\" >1.000000</td>\n",
       "      <td id=\"T_d8f7c_row7_col8\" class=\"data row7 col8\" >0.883596</td>\n",
       "      <td id=\"T_d8f7c_row7_col9\" class=\"data row7 col9\" >0.996667</td>\n",
       "    </tr>\n",
       "    <tr>\n",
       "      <th id=\"T_d8f7c_level0_row8\" class=\"row_heading level0 row8\" >고객당구매수</th>\n",
       "      <td id=\"T_d8f7c_row8_col0\" class=\"data row8 col0\" >-0.933614</td>\n",
       "      <td id=\"T_d8f7c_row8_col1\" class=\"data row8 col1\" >-0.931835</td>\n",
       "      <td id=\"T_d8f7c_row8_col2\" class=\"data row8 col2\" >-0.932403</td>\n",
       "      <td id=\"T_d8f7c_row8_col3\" class=\"data row8 col3\" >-0.930238</td>\n",
       "      <td id=\"T_d8f7c_row8_col4\" class=\"data row8 col4\" >-0.930568</td>\n",
       "      <td id=\"T_d8f7c_row8_col5\" class=\"data row8 col5\" >-0.426020</td>\n",
       "      <td id=\"T_d8f7c_row8_col6\" class=\"data row8 col6\" >-0.224782</td>\n",
       "      <td id=\"T_d8f7c_row8_col7\" class=\"data row8 col7\" >0.883596</td>\n",
       "      <td id=\"T_d8f7c_row8_col8\" class=\"data row8 col8\" >1.000000</td>\n",
       "      <td id=\"T_d8f7c_row8_col9\" class=\"data row8 col9\" >0.908870</td>\n",
       "    </tr>\n",
       "    <tr>\n",
       "      <th id=\"T_d8f7c_level0_row9\" class=\"row_heading level0 row9\" >고객당매출액</th>\n",
       "      <td id=\"T_d8f7c_row9_col0\" class=\"data row9 col0\" >-0.724136</td>\n",
       "      <td id=\"T_d8f7c_row9_col1\" class=\"data row9 col1\" >-0.719469</td>\n",
       "      <td id=\"T_d8f7c_row9_col2\" class=\"data row9 col2\" >-0.719546</td>\n",
       "      <td id=\"T_d8f7c_row9_col3\" class=\"data row9 col3\" >-0.716607</td>\n",
       "      <td id=\"T_d8f7c_row9_col4\" class=\"data row9 col4\" >-0.717053</td>\n",
       "      <td id=\"T_d8f7c_row9_col5\" class=\"data row9 col5\" >-0.015359</td>\n",
       "      <td id=\"T_d8f7c_row9_col6\" class=\"data row9 col6\" >-0.022880</td>\n",
       "      <td id=\"T_d8f7c_row9_col7\" class=\"data row9 col7\" >0.996667</td>\n",
       "      <td id=\"T_d8f7c_row9_col8\" class=\"data row9 col8\" >0.908870</td>\n",
       "      <td id=\"T_d8f7c_row9_col9\" class=\"data row9 col9\" >1.000000</td>\n",
       "    </tr>\n",
       "  </tbody>\n",
       "</table>\n"
      ],
      "text/plain": [
       "<pandas.io.formats.style.Styler at 0x7f2eb504c8b0>"
      ]
     },
     "execution_count": 720,
     "metadata": {},
     "output_type": "execute_result"
    }
   ],
   "source": [
    "re_df3.corr(numeric_only=True).style.background_gradient(cmap='coolwarm', axis=None)"
   ]
  },
  {
   "cell_type": "code",
   "execution_count": null,
   "id": "5f227889-19d9-4581-9829-fb3deabfa9e0",
   "metadata": {},
   "outputs": [],
   "source": [
    "re_df3"
   ]
  },
  {
   "cell_type": "code",
   "execution_count": 721,
   "id": "1755e28d-8e7f-4804-9be9-a7081b48132b",
   "metadata": {},
   "outputs": [],
   "source": [
    "# 구매주기_구간 인코딩\n",
    "dummy_df = pd.get_dummies(re_df3['구매주기_구간'], prefix='구매주기_구간')"
   ]
  },
  {
   "cell_type": "code",
   "execution_count": 722,
   "id": "b34c4632-2c84-4066-847e-15ef3e41dfa2",
   "metadata": {},
   "outputs": [],
   "source": [
    "merged_df = pd.concat([re_df3, dummy_df], axis=1)"
   ]
  },
  {
   "cell_type": "code",
   "execution_count": 723,
   "id": "f6b6f85d-107f-494b-ac35-876ee9630663",
   "metadata": {},
   "outputs": [
    {
     "data": {
      "text/plain": [
       "Index(['구매주기_구간', 'Customer_unique_id', 'new_count', 'Freight_value', 'Price',\n",
       "       'Payment_value', '구매당순이익', '구매당운송비', '고객당순이익', '고객당구매수', '고객당매출액',\n",
       "       '구매주기_구간_7일 이내', '구매주기_구간_14일 이내', '구매주기_구간_21일 이내', '구매주기_구간_28일 이내',\n",
       "       '구매주기_구간_29일 이상'],\n",
       "      dtype='object')"
      ]
     },
     "execution_count": 723,
     "metadata": {},
     "output_type": "execute_result"
    }
   ],
   "source": [
    "merged_df.columns"
   ]
  },
  {
   "cell_type": "code",
   "execution_count": 724,
   "id": "16d94306-6c02-4dee-b685-11b565df74e8",
   "metadata": {},
   "outputs": [],
   "source": [
    "merged_drop_df = merged_df.drop([\"구매주기_구간\"],axis=1)"
   ]
  },
  {
   "cell_type": "code",
   "execution_count": 725,
   "id": "8ea55cb4-6ee8-4343-9405-53887b979190",
   "metadata": {},
   "outputs": [],
   "source": [
    "correlation_matrix = merged_drop_df.corr(numeric_only=True).style.background_gradient(cmap='coolwarm', axis=None)"
   ]
  },
  {
   "cell_type": "code",
   "execution_count": 726,
   "id": "1e14d5d6-e79c-419c-a2ef-5d735062e110",
   "metadata": {},
   "outputs": [
    {
     "data": {
      "text/html": [
       "<style type=\"text/css\">\n",
       "#T_d4c2f_row0_col0, #T_d4c2f_row0_col1, #T_d4c2f_row0_col2, #T_d4c2f_row0_col3, #T_d4c2f_row0_col4, #T_d4c2f_row0_col14, #T_d4c2f_row1_col0, #T_d4c2f_row1_col1, #T_d4c2f_row1_col2, #T_d4c2f_row1_col3, #T_d4c2f_row1_col4, #T_d4c2f_row1_col14, #T_d4c2f_row2_col0, #T_d4c2f_row2_col1, #T_d4c2f_row2_col2, #T_d4c2f_row2_col3, #T_d4c2f_row2_col4, #T_d4c2f_row2_col14, #T_d4c2f_row3_col0, #T_d4c2f_row3_col1, #T_d4c2f_row3_col2, #T_d4c2f_row3_col3, #T_d4c2f_row3_col4, #T_d4c2f_row3_col14, #T_d4c2f_row4_col0, #T_d4c2f_row4_col1, #T_d4c2f_row4_col2, #T_d4c2f_row4_col3, #T_d4c2f_row4_col4, #T_d4c2f_row4_col14, #T_d4c2f_row5_col5, #T_d4c2f_row6_col6, #T_d4c2f_row7_col7, #T_d4c2f_row7_col9, #T_d4c2f_row8_col8, #T_d4c2f_row9_col7, #T_d4c2f_row9_col9, #T_d4c2f_row10_col10, #T_d4c2f_row11_col11, #T_d4c2f_row12_col12, #T_d4c2f_row13_col13, #T_d4c2f_row14_col0, #T_d4c2f_row14_col1, #T_d4c2f_row14_col2, #T_d4c2f_row14_col3, #T_d4c2f_row14_col4, #T_d4c2f_row14_col14 {\n",
       "  background-color: #b40426;\n",
       "  color: #f1f1f1;\n",
       "}\n",
       "#T_d4c2f_row0_col5, #T_d4c2f_row1_col5, #T_d4c2f_row2_col5, #T_d4c2f_row5_col0, #T_d4c2f_row5_col1, #T_d4c2f_row5_col2 {\n",
       "  background-color: #e57058;\n",
       "  color: #f1f1f1;\n",
       "}\n",
       "#T_d4c2f_row0_col6, #T_d4c2f_row6_col0, #T_d4c2f_row7_col11, #T_d4c2f_row11_col7 {\n",
       "  background-color: #edd1c2;\n",
       "  color: #000000;\n",
       "}\n",
       "#T_d4c2f_row0_col7, #T_d4c2f_row1_col7, #T_d4c2f_row2_col7, #T_d4c2f_row7_col0, #T_d4c2f_row7_col1, #T_d4c2f_row7_col2, #T_d4c2f_row7_col14, #T_d4c2f_row14_col7 {\n",
       "  background-color: #6485ec;\n",
       "  color: #f1f1f1;\n",
       "}\n",
       "#T_d4c2f_row0_col8, #T_d4c2f_row1_col8, #T_d4c2f_row2_col8, #T_d4c2f_row3_col8, #T_d4c2f_row4_col8, #T_d4c2f_row8_col0, #T_d4c2f_row8_col1, #T_d4c2f_row8_col2, #T_d4c2f_row8_col3, #T_d4c2f_row8_col4, #T_d4c2f_row8_col14, #T_d4c2f_row14_col8 {\n",
       "  background-color: #3b4cc0;\n",
       "  color: #f1f1f1;\n",
       "}\n",
       "#T_d4c2f_row0_col9, #T_d4c2f_row9_col0, #T_d4c2f_row9_col14, #T_d4c2f_row14_col9 {\n",
       "  background-color: #5b7ae5;\n",
       "  color: #f1f1f1;\n",
       "}\n",
       "#T_d4c2f_row0_col10, #T_d4c2f_row0_col11, #T_d4c2f_row1_col10, #T_d4c2f_row1_col11, #T_d4c2f_row1_col12, #T_d4c2f_row2_col10, #T_d4c2f_row3_col11, #T_d4c2f_row3_col12, #T_d4c2f_row4_col11, #T_d4c2f_row4_col12, #T_d4c2f_row10_col0, #T_d4c2f_row10_col1, #T_d4c2f_row10_col2, #T_d4c2f_row11_col0, #T_d4c2f_row11_col1, #T_d4c2f_row11_col3, #T_d4c2f_row11_col4, #T_d4c2f_row12_col1, #T_d4c2f_row12_col3, #T_d4c2f_row12_col4 {\n",
       "  background-color: #b2ccfb;\n",
       "  color: #000000;\n",
       "}\n",
       "#T_d4c2f_row0_col12, #T_d4c2f_row2_col12, #T_d4c2f_row3_col10, #T_d4c2f_row4_col10, #T_d4c2f_row10_col3, #T_d4c2f_row10_col4, #T_d4c2f_row10_col11, #T_d4c2f_row10_col12, #T_d4c2f_row10_col13, #T_d4c2f_row10_col14, #T_d4c2f_row11_col10, #T_d4c2f_row11_col12, #T_d4c2f_row11_col13, #T_d4c2f_row11_col14, #T_d4c2f_row12_col0, #T_d4c2f_row12_col2, #T_d4c2f_row12_col10, #T_d4c2f_row12_col11, #T_d4c2f_row12_col13, #T_d4c2f_row12_col14, #T_d4c2f_row13_col10, #T_d4c2f_row13_col11, #T_d4c2f_row13_col12, #T_d4c2f_row13_col14, #T_d4c2f_row14_col10, #T_d4c2f_row14_col11, #T_d4c2f_row14_col12, #T_d4c2f_row14_col13 {\n",
       "  background-color: #b1cbfc;\n",
       "  color: #000000;\n",
       "}\n",
       "#T_d4c2f_row0_col13, #T_d4c2f_row13_col0 {\n",
       "  background-color: #afcafc;\n",
       "  color: #000000;\n",
       "}\n",
       "#T_d4c2f_row1_col6, #T_d4c2f_row3_col6, #T_d4c2f_row4_col6, #T_d4c2f_row6_col1, #T_d4c2f_row6_col3, #T_d4c2f_row6_col4 {\n",
       "  background-color: #eed0c0;\n",
       "  color: #000000;\n",
       "}\n",
       "#T_d4c2f_row1_col9, #T_d4c2f_row2_col9, #T_d4c2f_row3_col9, #T_d4c2f_row4_col9, #T_d4c2f_row9_col1, #T_d4c2f_row9_col2, #T_d4c2f_row9_col3, #T_d4c2f_row9_col4 {\n",
       "  background-color: #5d7ce6;\n",
       "  color: #f1f1f1;\n",
       "}\n",
       "#T_d4c2f_row1_col13, #T_d4c2f_row3_col13, #T_d4c2f_row4_col13, #T_d4c2f_row13_col1, #T_d4c2f_row13_col3, #T_d4c2f_row13_col4 {\n",
       "  background-color: #aec9fc;\n",
       "  color: #000000;\n",
       "}\n",
       "#T_d4c2f_row2_col6, #T_d4c2f_row6_col2 {\n",
       "  background-color: #efcfbf;\n",
       "  color: #000000;\n",
       "}\n",
       "#T_d4c2f_row2_col11, #T_d4c2f_row11_col2 {\n",
       "  background-color: #b3cdfb;\n",
       "  color: #000000;\n",
       "}\n",
       "#T_d4c2f_row2_col13, #T_d4c2f_row13_col2 {\n",
       "  background-color: #adc9fd;\n",
       "  color: #000000;\n",
       "}\n",
       "#T_d4c2f_row3_col5, #T_d4c2f_row4_col5, #T_d4c2f_row5_col3, #T_d4c2f_row5_col4 {\n",
       "  background-color: #e46e56;\n",
       "  color: #f1f1f1;\n",
       "}\n",
       "#T_d4c2f_row3_col7, #T_d4c2f_row4_col7, #T_d4c2f_row7_col3, #T_d4c2f_row7_col4 {\n",
       "  background-color: #6687ed;\n",
       "  color: #f1f1f1;\n",
       "}\n",
       "#T_d4c2f_row5_col6, #T_d4c2f_row6_col5 {\n",
       "  background-color: #f7b89c;\n",
       "  color: #000000;\n",
       "}\n",
       "#T_d4c2f_row5_col7, #T_d4c2f_row7_col5 {\n",
       "  background-color: #dedcdb;\n",
       "  color: #000000;\n",
       "}\n",
       "#T_d4c2f_row5_col8, #T_d4c2f_row8_col5 {\n",
       "  background-color: #92b4fe;\n",
       "  color: #000000;\n",
       "}\n",
       "#T_d4c2f_row5_col9, #T_d4c2f_row9_col5 {\n",
       "  background-color: #d6dce4;\n",
       "  color: #000000;\n",
       "}\n",
       "#T_d4c2f_row5_col10, #T_d4c2f_row10_col5 {\n",
       "  background-color: #81a4fb;\n",
       "  color: #f1f1f1;\n",
       "}\n",
       "#T_d4c2f_row5_col11, #T_d4c2f_row11_col5 {\n",
       "  background-color: #dbdcde;\n",
       "  color: #000000;\n",
       "}\n",
       "#T_d4c2f_row5_col12, #T_d4c2f_row12_col5 {\n",
       "  background-color: #f7b093;\n",
       "  color: #000000;\n",
       "}\n",
       "#T_d4c2f_row5_col13, #T_d4c2f_row13_col5 {\n",
       "  background-color: #7396f5;\n",
       "  color: #f1f1f1;\n",
       "}\n",
       "#T_d4c2f_row5_col14, #T_d4c2f_row14_col5 {\n",
       "  background-color: #e67259;\n",
       "  color: #f1f1f1;\n",
       "}\n",
       "#T_d4c2f_row6_col7, #T_d4c2f_row7_col6 {\n",
       "  background-color: #d1dae9;\n",
       "  color: #000000;\n",
       "}\n",
       "#T_d4c2f_row6_col8, #T_d4c2f_row8_col6 {\n",
       "  background-color: #b5cdfa;\n",
       "  color: #000000;\n",
       "}\n",
       "#T_d4c2f_row6_col9, #T_d4c2f_row9_col6 {\n",
       "  background-color: #d5dbe5;\n",
       "  color: #000000;\n",
       "}\n",
       "#T_d4c2f_row6_col10, #T_d4c2f_row10_col6 {\n",
       "  background-color: #f5c2aa;\n",
       "  color: #000000;\n",
       "}\n",
       "#T_d4c2f_row6_col11, #T_d4c2f_row11_col6 {\n",
       "  background-color: #f08b6e;\n",
       "  color: #f1f1f1;\n",
       "}\n",
       "#T_d4c2f_row6_col12, #T_d4c2f_row12_col6 {\n",
       "  background-color: #c0d4f5;\n",
       "  color: #000000;\n",
       "}\n",
       "#T_d4c2f_row6_col13, #T_d4c2f_row13_col6 {\n",
       "  background-color: #4358cb;\n",
       "  color: #f1f1f1;\n",
       "}\n",
       "#T_d4c2f_row6_col14, #T_d4c2f_row14_col6 {\n",
       "  background-color: #edd2c3;\n",
       "  color: #000000;\n",
       "}\n",
       "#T_d4c2f_row7_col8, #T_d4c2f_row8_col7 {\n",
       "  background-color: #ca3b37;\n",
       "  color: #f1f1f1;\n",
       "}\n",
       "#T_d4c2f_row7_col10, #T_d4c2f_row10_col7 {\n",
       "  background-color: #bbd1f8;\n",
       "  color: #000000;\n",
       "}\n",
       "#T_d4c2f_row7_col12, #T_d4c2f_row12_col7 {\n",
       "  background-color: #d1493f;\n",
       "  color: #f1f1f1;\n",
       "}\n",
       "#T_d4c2f_row7_col13, #T_d4c2f_row9_col13, #T_d4c2f_row13_col7, #T_d4c2f_row13_col9 {\n",
       "  background-color: #c1d4f4;\n",
       "  color: #000000;\n",
       "}\n",
       "#T_d4c2f_row8_col9, #T_d4c2f_row9_col8 {\n",
       "  background-color: #c53334;\n",
       "  color: #f1f1f1;\n",
       "}\n",
       "#T_d4c2f_row8_col10, #T_d4c2f_row10_col8 {\n",
       "  background-color: #e0dbd8;\n",
       "  color: #000000;\n",
       "}\n",
       "#T_d4c2f_row8_col11, #T_d4c2f_row11_col8 {\n",
       "  background-color: #ead4c8;\n",
       "  color: #000000;\n",
       "}\n",
       "#T_d4c2f_row8_col12, #T_d4c2f_row12_col8 {\n",
       "  background-color: #f18d6f;\n",
       "  color: #f1f1f1;\n",
       "}\n",
       "#T_d4c2f_row8_col13, #T_d4c2f_row13_col8 {\n",
       "  background-color: #ecd3c5;\n",
       "  color: #000000;\n",
       "}\n",
       "#T_d4c2f_row9_col10, #T_d4c2f_row10_col9 {\n",
       "  background-color: #c5d6f2;\n",
       "  color: #000000;\n",
       "}\n",
       "#T_d4c2f_row9_col11, #T_d4c2f_row11_col9 {\n",
       "  background-color: #f0cdbb;\n",
       "  color: #000000;\n",
       "}\n",
       "#T_d4c2f_row9_col12, #T_d4c2f_row12_col9 {\n",
       "  background-color: #d75445;\n",
       "  color: #f1f1f1;\n",
       "}\n",
       "</style>\n",
       "<table id=\"T_d4c2f\">\n",
       "  <thead>\n",
       "    <tr>\n",
       "      <th class=\"blank level0\" >&nbsp;</th>\n",
       "      <th id=\"T_d4c2f_level0_col0\" class=\"col_heading level0 col0\" >Customer_unique_id</th>\n",
       "      <th id=\"T_d4c2f_level0_col1\" class=\"col_heading level0 col1\" >new_count</th>\n",
       "      <th id=\"T_d4c2f_level0_col2\" class=\"col_heading level0 col2\" >Freight_value</th>\n",
       "      <th id=\"T_d4c2f_level0_col3\" class=\"col_heading level0 col3\" >Price</th>\n",
       "      <th id=\"T_d4c2f_level0_col4\" class=\"col_heading level0 col4\" >Payment_value</th>\n",
       "      <th id=\"T_d4c2f_level0_col5\" class=\"col_heading level0 col5\" >구매당순이익</th>\n",
       "      <th id=\"T_d4c2f_level0_col6\" class=\"col_heading level0 col6\" >구매당운송비</th>\n",
       "      <th id=\"T_d4c2f_level0_col7\" class=\"col_heading level0 col7\" >고객당순이익</th>\n",
       "      <th id=\"T_d4c2f_level0_col8\" class=\"col_heading level0 col8\" >고객당구매수</th>\n",
       "      <th id=\"T_d4c2f_level0_col9\" class=\"col_heading level0 col9\" >고객당매출액</th>\n",
       "      <th id=\"T_d4c2f_level0_col10\" class=\"col_heading level0 col10\" >구매주기_구간_7일 이내</th>\n",
       "      <th id=\"T_d4c2f_level0_col11\" class=\"col_heading level0 col11\" >구매주기_구간_14일 이내</th>\n",
       "      <th id=\"T_d4c2f_level0_col12\" class=\"col_heading level0 col12\" >구매주기_구간_21일 이내</th>\n",
       "      <th id=\"T_d4c2f_level0_col13\" class=\"col_heading level0 col13\" >구매주기_구간_28일 이내</th>\n",
       "      <th id=\"T_d4c2f_level0_col14\" class=\"col_heading level0 col14\" >구매주기_구간_29일 이상</th>\n",
       "    </tr>\n",
       "  </thead>\n",
       "  <tbody>\n",
       "    <tr>\n",
       "      <th id=\"T_d4c2f_level0_row0\" class=\"row_heading level0 row0\" >Customer_unique_id</th>\n",
       "      <td id=\"T_d4c2f_row0_col0\" class=\"data row0 col0\" >1.000000</td>\n",
       "      <td id=\"T_d4c2f_row0_col1\" class=\"data row0 col1\" >0.999965</td>\n",
       "      <td id=\"T_d4c2f_row0_col2\" class=\"data row0 col2\" >0.999933</td>\n",
       "      <td id=\"T_d4c2f_row0_col3\" class=\"data row0 col3\" >0.999937</td>\n",
       "      <td id=\"T_d4c2f_row0_col4\" class=\"data row0 col4\" >0.999940</td>\n",
       "      <td id=\"T_d4c2f_row0_col5\" class=\"data row0 col5\" >0.690906</td>\n",
       "      <td id=\"T_d4c2f_row0_col6\" class=\"data row0 col6\" >0.175796</td>\n",
       "      <td id=\"T_d4c2f_row0_col7\" class=\"data row0 col7\" >-0.675344</td>\n",
       "      <td id=\"T_d4c2f_row0_col8\" class=\"data row0 col8\" >-0.933614</td>\n",
       "      <td id=\"T_d4c2f_row0_col9\" class=\"data row0 col9\" >-0.724136</td>\n",
       "      <td id=\"T_d4c2f_row0_col10\" class=\"data row0 col10\" >-0.245558</td>\n",
       "      <td id=\"T_d4c2f_row0_col11\" class=\"data row0 col11\" >-0.243695</td>\n",
       "      <td id=\"T_d4c2f_row0_col12\" class=\"data row0 col12\" >-0.250566</td>\n",
       "      <td id=\"T_d4c2f_row0_col13\" class=\"data row0 col13\" >-0.260115</td>\n",
       "      <td id=\"T_d4c2f_row0_col14\" class=\"data row0 col14\" >0.999935</td>\n",
       "    </tr>\n",
       "    <tr>\n",
       "      <th id=\"T_d4c2f_level0_row1\" class=\"row_heading level0 row1\" >new_count</th>\n",
       "      <td id=\"T_d4c2f_row1_col0\" class=\"data row1 col0\" >0.999965</td>\n",
       "      <td id=\"T_d4c2f_row1_col1\" class=\"data row1 col1\" >1.000000</td>\n",
       "      <td id=\"T_d4c2f_row1_col2\" class=\"data row1 col2\" >0.999989</td>\n",
       "      <td id=\"T_d4c2f_row1_col3\" class=\"data row1 col3\" >0.999988</td>\n",
       "      <td id=\"T_d4c2f_row1_col4\" class=\"data row1 col4\" >0.999992</td>\n",
       "      <td id=\"T_d4c2f_row1_col5\" class=\"data row1 col5\" >0.696108</td>\n",
       "      <td id=\"T_d4c2f_row1_col6\" class=\"data row1 col6\" >0.181601</td>\n",
       "      <td id=\"T_d4c2f_row1_col7\" class=\"data row1 col7\" >-0.670600</td>\n",
       "      <td id=\"T_d4c2f_row1_col8\" class=\"data row1 col8\" >-0.931835</td>\n",
       "      <td id=\"T_d4c2f_row1_col9\" class=\"data row1 col9\" >-0.719469</td>\n",
       "      <td id=\"T_d4c2f_row1_col10\" class=\"data row1 col10\" >-0.245656</td>\n",
       "      <td id=\"T_d4c2f_row1_col11\" class=\"data row1 col11\" >-0.241104</td>\n",
       "      <td id=\"T_d4c2f_row1_col12\" class=\"data row1 col12\" >-0.245474</td>\n",
       "      <td id=\"T_d4c2f_row1_col13\" class=\"data row1 col13\" >-0.267594</td>\n",
       "      <td id=\"T_d4c2f_row1_col14\" class=\"data row1 col14\" >0.999829</td>\n",
       "    </tr>\n",
       "    <tr>\n",
       "      <th id=\"T_d4c2f_level0_row2\" class=\"row_heading level0 row2\" >Freight_value</th>\n",
       "      <td id=\"T_d4c2f_row2_col0\" class=\"data row2 col0\" >0.999933</td>\n",
       "      <td id=\"T_d4c2f_row2_col1\" class=\"data row2 col1\" >0.999989</td>\n",
       "      <td id=\"T_d4c2f_row2_col2\" class=\"data row2 col2\" >1.000000</td>\n",
       "      <td id=\"T_d4c2f_row2_col3\" class=\"data row2 col3\" >0.999969</td>\n",
       "      <td id=\"T_d4c2f_row2_col4\" class=\"data row2 col4\" >0.999977</td>\n",
       "      <td id=\"T_d4c2f_row2_col5\" class=\"data row2 col5\" >0.696643</td>\n",
       "      <td id=\"T_d4c2f_row2_col6\" class=\"data row2 col6\" >0.185987</td>\n",
       "      <td id=\"T_d4c2f_row2_col7\" class=\"data row2 col7\" >-0.670875</td>\n",
       "      <td id=\"T_d4c2f_row2_col8\" class=\"data row2 col8\" >-0.932403</td>\n",
       "      <td id=\"T_d4c2f_row2_col9\" class=\"data row2 col9\" >-0.719546</td>\n",
       "      <td id=\"T_d4c2f_row2_col10\" class=\"data row2 col10\" >-0.244311</td>\n",
       "      <td id=\"T_d4c2f_row2_col11\" class=\"data row2 col11\" >-0.237647</td>\n",
       "      <td id=\"T_d4c2f_row2_col12\" class=\"data row2 col12\" >-0.246947</td>\n",
       "      <td id=\"T_d4c2f_row2_col13\" class=\"data row2 col13\" >-0.270843</td>\n",
       "      <td id=\"T_d4c2f_row2_col14\" class=\"data row2 col14\" >0.999748</td>\n",
       "    </tr>\n",
       "    <tr>\n",
       "      <th id=\"T_d4c2f_level0_row3\" class=\"row_heading level0 row3\" >Price</th>\n",
       "      <td id=\"T_d4c2f_row3_col0\" class=\"data row3 col0\" >0.999937</td>\n",
       "      <td id=\"T_d4c2f_row3_col1\" class=\"data row3 col1\" >0.999988</td>\n",
       "      <td id=\"T_d4c2f_row3_col2\" class=\"data row3 col2\" >0.999969</td>\n",
       "      <td id=\"T_d4c2f_row3_col3\" class=\"data row3 col3\" >1.000000</td>\n",
       "      <td id=\"T_d4c2f_row3_col4\" class=\"data row3 col4\" >0.999999</td>\n",
       "      <td id=\"T_d4c2f_row3_col5\" class=\"data row3 col5\" >0.698912</td>\n",
       "      <td id=\"T_d4c2f_row3_col6\" class=\"data row3 col6\" >0.180186</td>\n",
       "      <td id=\"T_d4c2f_row3_col7\" class=\"data row3 col7\" >-0.667433</td>\n",
       "      <td id=\"T_d4c2f_row3_col8\" class=\"data row3 col8\" >-0.930238</td>\n",
       "      <td id=\"T_d4c2f_row3_col9\" class=\"data row3 col9\" >-0.716607</td>\n",
       "      <td id=\"T_d4c2f_row3_col10\" class=\"data row3 col10\" >-0.249628</td>\n",
       "      <td id=\"T_d4c2f_row3_col11\" class=\"data row3 col11\" >-0.241024</td>\n",
       "      <td id=\"T_d4c2f_row3_col12\" class=\"data row3 col12\" >-0.241662</td>\n",
       "      <td id=\"T_d4c2f_row3_col13\" class=\"data row3 col13\" >-0.267505</td>\n",
       "      <td id=\"T_d4c2f_row3_col14\" class=\"data row3 col14\" >0.999817</td>\n",
       "    </tr>\n",
       "    <tr>\n",
       "      <th id=\"T_d4c2f_level0_row4\" class=\"row_heading level0 row4\" >Payment_value</th>\n",
       "      <td id=\"T_d4c2f_row4_col0\" class=\"data row4 col0\" >0.999940</td>\n",
       "      <td id=\"T_d4c2f_row4_col1\" class=\"data row4 col1\" >0.999992</td>\n",
       "      <td id=\"T_d4c2f_row4_col2\" class=\"data row4 col2\" >0.999977</td>\n",
       "      <td id=\"T_d4c2f_row4_col3\" class=\"data row4 col3\" >0.999999</td>\n",
       "      <td id=\"T_d4c2f_row4_col4\" class=\"data row4 col4\" >1.000000</td>\n",
       "      <td id=\"T_d4c2f_row4_col5\" class=\"data row4 col5\" >0.698572</td>\n",
       "      <td id=\"T_d4c2f_row4_col6\" class=\"data row4 col6\" >0.181061</td>\n",
       "      <td id=\"T_d4c2f_row4_col7\" class=\"data row4 col7\" >-0.667954</td>\n",
       "      <td id=\"T_d4c2f_row4_col8\" class=\"data row4 col8\" >-0.930568</td>\n",
       "      <td id=\"T_d4c2f_row4_col9\" class=\"data row4 col9\" >-0.717053</td>\n",
       "      <td id=\"T_d4c2f_row4_col10\" class=\"data row4 col10\" >-0.248827</td>\n",
       "      <td id=\"T_d4c2f_row4_col11\" class=\"data row4 col11\" >-0.240516</td>\n",
       "      <td id=\"T_d4c2f_row4_col12\" class=\"data row4 col12\" >-0.242459</td>\n",
       "      <td id=\"T_d4c2f_row4_col13\" class=\"data row4 col13\" >-0.268009</td>\n",
       "      <td id=\"T_d4c2f_row4_col14\" class=\"data row4 col14\" >0.999811</td>\n",
       "    </tr>\n",
       "    <tr>\n",
       "      <th id=\"T_d4c2f_level0_row5\" class=\"row_heading level0 row5\" >구매당순이익</th>\n",
       "      <td id=\"T_d4c2f_row5_col0\" class=\"data row5 col0\" >0.690906</td>\n",
       "      <td id=\"T_d4c2f_row5_col1\" class=\"data row5 col1\" >0.696108</td>\n",
       "      <td id=\"T_d4c2f_row5_col2\" class=\"data row5 col2\" >0.696643</td>\n",
       "      <td id=\"T_d4c2f_row5_col3\" class=\"data row5 col3\" >0.698912</td>\n",
       "      <td id=\"T_d4c2f_row5_col4\" class=\"data row5 col4\" >0.698572</td>\n",
       "      <td id=\"T_d4c2f_row5_col5\" class=\"data row5 col5\" >1.000000</td>\n",
       "      <td id=\"T_d4c2f_row5_col6\" class=\"data row5 col6\" >0.350669</td>\n",
       "      <td id=\"T_d4c2f_row5_col7\" class=\"data row5 col7\" >0.046879</td>\n",
       "      <td id=\"T_d4c2f_row5_col8\" class=\"data row5 col8\" >-0.426020</td>\n",
       "      <td id=\"T_d4c2f_row5_col9\" class=\"data row5 col9\" >-0.015359</td>\n",
       "      <td id=\"T_d4c2f_row5_col10\" class=\"data row5 col10\" >-0.514465</td>\n",
       "      <td id=\"T_d4c2f_row5_col11\" class=\"data row5 col11\" >0.021371</td>\n",
       "      <td id=\"T_d4c2f_row5_col12\" class=\"data row5 col12\" >0.398749</td>\n",
       "      <td id=\"T_d4c2f_row5_col13\" class=\"data row5 col13\" >-0.593693</td>\n",
       "      <td id=\"T_d4c2f_row5_col14\" class=\"data row5 col14\" >0.688038</td>\n",
       "    </tr>\n",
       "    <tr>\n",
       "      <th id=\"T_d4c2f_level0_row6\" class=\"row_heading level0 row6\" >구매당운송비</th>\n",
       "      <td id=\"T_d4c2f_row6_col0\" class=\"data row6 col0\" >0.175796</td>\n",
       "      <td id=\"T_d4c2f_row6_col1\" class=\"data row6 col1\" >0.181601</td>\n",
       "      <td id=\"T_d4c2f_row6_col2\" class=\"data row6 col2\" >0.185987</td>\n",
       "      <td id=\"T_d4c2f_row6_col3\" class=\"data row6 col3\" >0.180186</td>\n",
       "      <td id=\"T_d4c2f_row6_col4\" class=\"data row6 col4\" >0.181061</td>\n",
       "      <td id=\"T_d4c2f_row6_col5\" class=\"data row6 col5\" >0.350669</td>\n",
       "      <td id=\"T_d4c2f_row6_col6\" class=\"data row6 col6\" >1.000000</td>\n",
       "      <td id=\"T_d4c2f_row6_col7\" class=\"data row6 col7\" >-0.050287</td>\n",
       "      <td id=\"T_d4c2f_row6_col8\" class=\"data row6 col8\" >-0.224782</td>\n",
       "      <td id=\"T_d4c2f_row6_col9\" class=\"data row6 col9\" >-0.022880</td>\n",
       "      <td id=\"T_d4c2f_row6_col10\" class=\"data row6 col10\" >0.287334</td>\n",
       "      <td id=\"T_d4c2f_row6_col11\" class=\"data row6 col11\" >0.584167</td>\n",
       "      <td id=\"T_d4c2f_row6_col12\" class=\"data row6 col12\" >-0.155936</td>\n",
       "      <td id=\"T_d4c2f_row6_col13\" class=\"data row6 col13\" >-0.880208</td>\n",
       "      <td id=\"T_d4c2f_row6_col14\" class=\"data row6 col14\" >0.164643</td>\n",
       "    </tr>\n",
       "    <tr>\n",
       "      <th id=\"T_d4c2f_level0_row7\" class=\"row_heading level0 row7\" >고객당순이익</th>\n",
       "      <td id=\"T_d4c2f_row7_col0\" class=\"data row7 col0\" >-0.675344</td>\n",
       "      <td id=\"T_d4c2f_row7_col1\" class=\"data row7 col1\" >-0.670600</td>\n",
       "      <td id=\"T_d4c2f_row7_col2\" class=\"data row7 col2\" >-0.670875</td>\n",
       "      <td id=\"T_d4c2f_row7_col3\" class=\"data row7 col3\" >-0.667433</td>\n",
       "      <td id=\"T_d4c2f_row7_col4\" class=\"data row7 col4\" >-0.667954</td>\n",
       "      <td id=\"T_d4c2f_row7_col5\" class=\"data row7 col5\" >0.046879</td>\n",
       "      <td id=\"T_d4c2f_row7_col6\" class=\"data row7 col6\" >-0.050287</td>\n",
       "      <td id=\"T_d4c2f_row7_col7\" class=\"data row7 col7\" >1.000000</td>\n",
       "      <td id=\"T_d4c2f_row7_col8\" class=\"data row7 col8\" >0.883596</td>\n",
       "      <td id=\"T_d4c2f_row7_col9\" class=\"data row7 col9\" >0.996667</td>\n",
       "      <td id=\"T_d4c2f_row7_col10\" class=\"data row7 col10\" >-0.189397</td>\n",
       "      <td id=\"T_d4c2f_row7_col11\" class=\"data row7 col11\" >0.175868</td>\n",
       "      <td id=\"T_d4c2f_row7_col12\" class=\"data row7 col12\" >0.838757</td>\n",
       "      <td id=\"T_d4c2f_row7_col13\" class=\"data row7 col13\" >-0.148812</td>\n",
       "      <td id=\"T_d4c2f_row7_col14\" class=\"data row7 col14\" >-0.676417</td>\n",
       "    </tr>\n",
       "    <tr>\n",
       "      <th id=\"T_d4c2f_level0_row8\" class=\"row_heading level0 row8\" >고객당구매수</th>\n",
       "      <td id=\"T_d4c2f_row8_col0\" class=\"data row8 col0\" >-0.933614</td>\n",
       "      <td id=\"T_d4c2f_row8_col1\" class=\"data row8 col1\" >-0.931835</td>\n",
       "      <td id=\"T_d4c2f_row8_col2\" class=\"data row8 col2\" >-0.932403</td>\n",
       "      <td id=\"T_d4c2f_row8_col3\" class=\"data row8 col3\" >-0.930238</td>\n",
       "      <td id=\"T_d4c2f_row8_col4\" class=\"data row8 col4\" >-0.930568</td>\n",
       "      <td id=\"T_d4c2f_row8_col5\" class=\"data row8 col5\" >-0.426020</td>\n",
       "      <td id=\"T_d4c2f_row8_col6\" class=\"data row8 col6\" >-0.224782</td>\n",
       "      <td id=\"T_d4c2f_row8_col7\" class=\"data row8 col7\" >0.883596</td>\n",
       "      <td id=\"T_d4c2f_row8_col8\" class=\"data row8 col8\" >1.000000</td>\n",
       "      <td id=\"T_d4c2f_row8_col9\" class=\"data row8 col9\" >0.908870</td>\n",
       "      <td id=\"T_d4c2f_row8_col10\" class=\"data row8 col10\" >0.058666</td>\n",
       "      <td id=\"T_d4c2f_row8_col11\" class=\"data row8 col11\" >0.142474</td>\n",
       "      <td id=\"T_d4c2f_row8_col12\" class=\"data row8 col12\" >0.575482</td>\n",
       "      <td id=\"T_d4c2f_row8_col13\" class=\"data row8 col13\" >0.156442</td>\n",
       "      <td id=\"T_d4c2f_row8_col14\" class=\"data row8 col14\" >-0.933063</td>\n",
       "    </tr>\n",
       "    <tr>\n",
       "      <th id=\"T_d4c2f_level0_row9\" class=\"row_heading level0 row9\" >고객당매출액</th>\n",
       "      <td id=\"T_d4c2f_row9_col0\" class=\"data row9 col0\" >-0.724136</td>\n",
       "      <td id=\"T_d4c2f_row9_col1\" class=\"data row9 col1\" >-0.719469</td>\n",
       "      <td id=\"T_d4c2f_row9_col2\" class=\"data row9 col2\" >-0.719546</td>\n",
       "      <td id=\"T_d4c2f_row9_col3\" class=\"data row9 col3\" >-0.716607</td>\n",
       "      <td id=\"T_d4c2f_row9_col4\" class=\"data row9 col4\" >-0.717053</td>\n",
       "      <td id=\"T_d4c2f_row9_col5\" class=\"data row9 col5\" >-0.015359</td>\n",
       "      <td id=\"T_d4c2f_row9_col6\" class=\"data row9 col6\" >-0.022880</td>\n",
       "      <td id=\"T_d4c2f_row9_col7\" class=\"data row9 col7\" >0.996667</td>\n",
       "      <td id=\"T_d4c2f_row9_col8\" class=\"data row9 col8\" >0.908870</td>\n",
       "      <td id=\"T_d4c2f_row9_col9\" class=\"data row9 col9\" >1.000000</td>\n",
       "      <td id=\"T_d4c2f_row9_col10\" class=\"data row9 col10\" >-0.128589</td>\n",
       "      <td id=\"T_d4c2f_row9_col11\" class=\"data row9 col11\" >0.204365</td>\n",
       "      <td id=\"T_d4c2f_row9_col12\" class=\"data row9 col12\" >0.801387</td>\n",
       "      <td id=\"T_d4c2f_row9_col13\" class=\"data row9 col13\" >-0.151552</td>\n",
       "      <td id=\"T_d4c2f_row9_col14\" class=\"data row9 col14\" >-0.725611</td>\n",
       "    </tr>\n",
       "    <tr>\n",
       "      <th id=\"T_d4c2f_level0_row10\" class=\"row_heading level0 row10\" >구매주기_구간_7일 이내</th>\n",
       "      <td id=\"T_d4c2f_row10_col0\" class=\"data row10 col0\" >-0.245558</td>\n",
       "      <td id=\"T_d4c2f_row10_col1\" class=\"data row10 col1\" >-0.245656</td>\n",
       "      <td id=\"T_d4c2f_row10_col2\" class=\"data row10 col2\" >-0.244311</td>\n",
       "      <td id=\"T_d4c2f_row10_col3\" class=\"data row10 col3\" >-0.249628</td>\n",
       "      <td id=\"T_d4c2f_row10_col4\" class=\"data row10 col4\" >-0.248827</td>\n",
       "      <td id=\"T_d4c2f_row10_col5\" class=\"data row10 col5\" >-0.514465</td>\n",
       "      <td id=\"T_d4c2f_row10_col6\" class=\"data row10 col6\" >0.287334</td>\n",
       "      <td id=\"T_d4c2f_row10_col7\" class=\"data row10 col7\" >-0.189397</td>\n",
       "      <td id=\"T_d4c2f_row10_col8\" class=\"data row10 col8\" >0.058666</td>\n",
       "      <td id=\"T_d4c2f_row10_col9\" class=\"data row10 col9\" >-0.128589</td>\n",
       "      <td id=\"T_d4c2f_row10_col10\" class=\"data row10 col10\" >1.000000</td>\n",
       "      <td id=\"T_d4c2f_row10_col11\" class=\"data row10 col11\" >-0.250000</td>\n",
       "      <td id=\"T_d4c2f_row10_col12\" class=\"data row10 col12\" >-0.250000</td>\n",
       "      <td id=\"T_d4c2f_row10_col13\" class=\"data row10 col13\" >-0.250000</td>\n",
       "      <td id=\"T_d4c2f_row10_col14\" class=\"data row10 col14\" >-0.250000</td>\n",
       "    </tr>\n",
       "    <tr>\n",
       "      <th id=\"T_d4c2f_level0_row11\" class=\"row_heading level0 row11\" >구매주기_구간_14일 이내</th>\n",
       "      <td id=\"T_d4c2f_row11_col0\" class=\"data row11 col0\" >-0.243695</td>\n",
       "      <td id=\"T_d4c2f_row11_col1\" class=\"data row11 col1\" >-0.241104</td>\n",
       "      <td id=\"T_d4c2f_row11_col2\" class=\"data row11 col2\" >-0.237647</td>\n",
       "      <td id=\"T_d4c2f_row11_col3\" class=\"data row11 col3\" >-0.241024</td>\n",
       "      <td id=\"T_d4c2f_row11_col4\" class=\"data row11 col4\" >-0.240516</td>\n",
       "      <td id=\"T_d4c2f_row11_col5\" class=\"data row11 col5\" >0.021371</td>\n",
       "      <td id=\"T_d4c2f_row11_col6\" class=\"data row11 col6\" >0.584167</td>\n",
       "      <td id=\"T_d4c2f_row11_col7\" class=\"data row11 col7\" >0.175868</td>\n",
       "      <td id=\"T_d4c2f_row11_col8\" class=\"data row11 col8\" >0.142474</td>\n",
       "      <td id=\"T_d4c2f_row11_col9\" class=\"data row11 col9\" >0.204365</td>\n",
       "      <td id=\"T_d4c2f_row11_col10\" class=\"data row11 col10\" >-0.250000</td>\n",
       "      <td id=\"T_d4c2f_row11_col11\" class=\"data row11 col11\" >1.000000</td>\n",
       "      <td id=\"T_d4c2f_row11_col12\" class=\"data row11 col12\" >-0.250000</td>\n",
       "      <td id=\"T_d4c2f_row11_col13\" class=\"data row11 col13\" >-0.250000</td>\n",
       "      <td id=\"T_d4c2f_row11_col14\" class=\"data row11 col14\" >-0.250000</td>\n",
       "    </tr>\n",
       "    <tr>\n",
       "      <th id=\"T_d4c2f_level0_row12\" class=\"row_heading level0 row12\" >구매주기_구간_21일 이내</th>\n",
       "      <td id=\"T_d4c2f_row12_col0\" class=\"data row12 col0\" >-0.250566</td>\n",
       "      <td id=\"T_d4c2f_row12_col1\" class=\"data row12 col1\" >-0.245474</td>\n",
       "      <td id=\"T_d4c2f_row12_col2\" class=\"data row12 col2\" >-0.246947</td>\n",
       "      <td id=\"T_d4c2f_row12_col3\" class=\"data row12 col3\" >-0.241662</td>\n",
       "      <td id=\"T_d4c2f_row12_col4\" class=\"data row12 col4\" >-0.242459</td>\n",
       "      <td id=\"T_d4c2f_row12_col5\" class=\"data row12 col5\" >0.398749</td>\n",
       "      <td id=\"T_d4c2f_row12_col6\" class=\"data row12 col6\" >-0.155936</td>\n",
       "      <td id=\"T_d4c2f_row12_col7\" class=\"data row12 col7\" >0.838757</td>\n",
       "      <td id=\"T_d4c2f_row12_col8\" class=\"data row12 col8\" >0.575482</td>\n",
       "      <td id=\"T_d4c2f_row12_col9\" class=\"data row12 col9\" >0.801387</td>\n",
       "      <td id=\"T_d4c2f_row12_col10\" class=\"data row12 col10\" >-0.250000</td>\n",
       "      <td id=\"T_d4c2f_row12_col11\" class=\"data row12 col11\" >-0.250000</td>\n",
       "      <td id=\"T_d4c2f_row12_col12\" class=\"data row12 col12\" >1.000000</td>\n",
       "      <td id=\"T_d4c2f_row12_col13\" class=\"data row12 col13\" >-0.250000</td>\n",
       "      <td id=\"T_d4c2f_row12_col14\" class=\"data row12 col14\" >-0.250000</td>\n",
       "    </tr>\n",
       "    <tr>\n",
       "      <th id=\"T_d4c2f_level0_row13\" class=\"row_heading level0 row13\" >구매주기_구간_28일 이내</th>\n",
       "      <td id=\"T_d4c2f_row13_col0\" class=\"data row13 col0\" >-0.260115</td>\n",
       "      <td id=\"T_d4c2f_row13_col1\" class=\"data row13 col1\" >-0.267594</td>\n",
       "      <td id=\"T_d4c2f_row13_col2\" class=\"data row13 col2\" >-0.270843</td>\n",
       "      <td id=\"T_d4c2f_row13_col3\" class=\"data row13 col3\" >-0.267505</td>\n",
       "      <td id=\"T_d4c2f_row13_col4\" class=\"data row13 col4\" >-0.268009</td>\n",
       "      <td id=\"T_d4c2f_row13_col5\" class=\"data row13 col5\" >-0.593693</td>\n",
       "      <td id=\"T_d4c2f_row13_col6\" class=\"data row13 col6\" >-0.880208</td>\n",
       "      <td id=\"T_d4c2f_row13_col7\" class=\"data row13 col7\" >-0.148812</td>\n",
       "      <td id=\"T_d4c2f_row13_col8\" class=\"data row13 col8\" >0.156442</td>\n",
       "      <td id=\"T_d4c2f_row13_col9\" class=\"data row13 col9\" >-0.151552</td>\n",
       "      <td id=\"T_d4c2f_row13_col10\" class=\"data row13 col10\" >-0.250000</td>\n",
       "      <td id=\"T_d4c2f_row13_col11\" class=\"data row13 col11\" >-0.250000</td>\n",
       "      <td id=\"T_d4c2f_row13_col12\" class=\"data row13 col12\" >-0.250000</td>\n",
       "      <td id=\"T_d4c2f_row13_col13\" class=\"data row13 col13\" >1.000000</td>\n",
       "      <td id=\"T_d4c2f_row13_col14\" class=\"data row13 col14\" >-0.250000</td>\n",
       "    </tr>\n",
       "    <tr>\n",
       "      <th id=\"T_d4c2f_level0_row14\" class=\"row_heading level0 row14\" >구매주기_구간_29일 이상</th>\n",
       "      <td id=\"T_d4c2f_row14_col0\" class=\"data row14 col0\" >0.999935</td>\n",
       "      <td id=\"T_d4c2f_row14_col1\" class=\"data row14 col1\" >0.999829</td>\n",
       "      <td id=\"T_d4c2f_row14_col2\" class=\"data row14 col2\" >0.999748</td>\n",
       "      <td id=\"T_d4c2f_row14_col3\" class=\"data row14 col3\" >0.999817</td>\n",
       "      <td id=\"T_d4c2f_row14_col4\" class=\"data row14 col4\" >0.999811</td>\n",
       "      <td id=\"T_d4c2f_row14_col5\" class=\"data row14 col5\" >0.688038</td>\n",
       "      <td id=\"T_d4c2f_row14_col6\" class=\"data row14 col6\" >0.164643</td>\n",
       "      <td id=\"T_d4c2f_row14_col7\" class=\"data row14 col7\" >-0.676417</td>\n",
       "      <td id=\"T_d4c2f_row14_col8\" class=\"data row14 col8\" >-0.933063</td>\n",
       "      <td id=\"T_d4c2f_row14_col9\" class=\"data row14 col9\" >-0.725611</td>\n",
       "      <td id=\"T_d4c2f_row14_col10\" class=\"data row14 col10\" >-0.250000</td>\n",
       "      <td id=\"T_d4c2f_row14_col11\" class=\"data row14 col11\" >-0.250000</td>\n",
       "      <td id=\"T_d4c2f_row14_col12\" class=\"data row14 col12\" >-0.250000</td>\n",
       "      <td id=\"T_d4c2f_row14_col13\" class=\"data row14 col13\" >-0.250000</td>\n",
       "      <td id=\"T_d4c2f_row14_col14\" class=\"data row14 col14\" >1.000000</td>\n",
       "    </tr>\n",
       "  </tbody>\n",
       "</table>\n"
      ],
      "text/plain": [
       "<pandas.io.formats.style.Styler at 0x7f2ea7259e40>"
      ]
     },
     "execution_count": 726,
     "metadata": {},
     "output_type": "execute_result"
    }
   ],
   "source": [
    "correlation_matrix"
   ]
  },
  {
   "cell_type": "code",
   "execution_count": 727,
   "id": "e8349f38-c5cd-4a89-8977-de270e72042c",
   "metadata": {},
   "outputs": [
    {
     "data": {
      "text/html": [
       "<div>\n",
       "<style scoped>\n",
       "    .dataframe tbody tr th:only-of-type {\n",
       "        vertical-align: middle;\n",
       "    }\n",
       "\n",
       "    .dataframe tbody tr th {\n",
       "        vertical-align: top;\n",
       "    }\n",
       "\n",
       "    .dataframe thead th {\n",
       "        text-align: right;\n",
       "    }\n",
       "</style>\n",
       "<table border=\"1\" class=\"dataframe\">\n",
       "  <thead>\n",
       "    <tr style=\"text-align: right;\">\n",
       "      <th></th>\n",
       "      <th>구매주기_구간</th>\n",
       "      <th>Customer_unique_id</th>\n",
       "      <th>new_count</th>\n",
       "      <th>Freight_value</th>\n",
       "      <th>Price</th>\n",
       "      <th>Payment_value</th>\n",
       "      <th>구매당순이익</th>\n",
       "      <th>구매당운송비</th>\n",
       "      <th>고객당순이익</th>\n",
       "      <th>고객당구매수</th>\n",
       "      <th>고객당매출액</th>\n",
       "      <th>구매주기_구간_7일 이내</th>\n",
       "      <th>구매주기_구간_14일 이내</th>\n",
       "      <th>구매주기_구간_21일 이내</th>\n",
       "      <th>구매주기_구간_28일 이내</th>\n",
       "      <th>구매주기_구간_29일 이상</th>\n",
       "    </tr>\n",
       "  </thead>\n",
       "  <tbody>\n",
       "    <tr>\n",
       "      <th>0</th>\n",
       "      <td>7일 이내</td>\n",
       "      <td>283</td>\n",
       "      <td>570.0</td>\n",
       "      <td>11971.53</td>\n",
       "      <td>52998.20</td>\n",
       "      <td>64969.73</td>\n",
       "      <td>92.98</td>\n",
       "      <td>21.00</td>\n",
       "      <td>187.0</td>\n",
       "      <td>2.01</td>\n",
       "      <td>230.0</td>\n",
       "      <td>True</td>\n",
       "      <td>False</td>\n",
       "      <td>False</td>\n",
       "      <td>False</td>\n",
       "      <td>False</td>\n",
       "    </tr>\n",
       "    <tr>\n",
       "      <th>1</th>\n",
       "      <td>14일 이내</td>\n",
       "      <td>299</td>\n",
       "      <td>620.0</td>\n",
       "      <td>13487.24</td>\n",
       "      <td>64022.87</td>\n",
       "      <td>77510.11</td>\n",
       "      <td>103.26</td>\n",
       "      <td>21.75</td>\n",
       "      <td>214.0</td>\n",
       "      <td>2.07</td>\n",
       "      <td>259.0</td>\n",
       "      <td>False</td>\n",
       "      <td>True</td>\n",
       "      <td>False</td>\n",
       "      <td>False</td>\n",
       "      <td>False</td>\n",
       "    </tr>\n",
       "    <tr>\n",
       "      <th>2</th>\n",
       "      <td>21일 이내</td>\n",
       "      <td>240</td>\n",
       "      <td>572.0</td>\n",
       "      <td>11372.13</td>\n",
       "      <td>63205.37</td>\n",
       "      <td>74577.50</td>\n",
       "      <td>110.50</td>\n",
       "      <td>19.88</td>\n",
       "      <td>263.0</td>\n",
       "      <td>2.38</td>\n",
       "      <td>311.0</td>\n",
       "      <td>False</td>\n",
       "      <td>False</td>\n",
       "      <td>True</td>\n",
       "      <td>False</td>\n",
       "      <td>False</td>\n",
       "    </tr>\n",
       "    <tr>\n",
       "      <th>3</th>\n",
       "      <td>28일 이내</td>\n",
       "      <td>158</td>\n",
       "      <td>329.0</td>\n",
       "      <td>5936.92</td>\n",
       "      <td>30091.62</td>\n",
       "      <td>36028.54</td>\n",
       "      <td>91.46</td>\n",
       "      <td>18.05</td>\n",
       "      <td>190.0</td>\n",
       "      <td>2.08</td>\n",
       "      <td>228.0</td>\n",
       "      <td>False</td>\n",
       "      <td>False</td>\n",
       "      <td>False</td>\n",
       "      <td>True</td>\n",
       "      <td>False</td>\n",
       "    </tr>\n",
       "    <tr>\n",
       "      <th>4</th>\n",
       "      <td>29일 이상</td>\n",
       "      <td>10978</td>\n",
       "      <td>14252.0</td>\n",
       "      <td>294929.48</td>\n",
       "      <td>1653961.79</td>\n",
       "      <td>1948891.27</td>\n",
       "      <td>116.05</td>\n",
       "      <td>20.69</td>\n",
       "      <td>151.0</td>\n",
       "      <td>1.30</td>\n",
       "      <td>178.0</td>\n",
       "      <td>False</td>\n",
       "      <td>False</td>\n",
       "      <td>False</td>\n",
       "      <td>False</td>\n",
       "      <td>True</td>\n",
       "    </tr>\n",
       "  </tbody>\n",
       "</table>\n",
       "</div>"
      ],
      "text/plain": [
       "  구매주기_구간  Customer_unique_id  new_count  Freight_value       Price  \\\n",
       "0   7일 이내                 283      570.0       11971.53    52998.20   \n",
       "1  14일 이내                 299      620.0       13487.24    64022.87   \n",
       "2  21일 이내                 240      572.0       11372.13    63205.37   \n",
       "3  28일 이내                 158      329.0        5936.92    30091.62   \n",
       "4  29일 이상               10978    14252.0      294929.48  1653961.79   \n",
       "\n",
       "   Payment_value  구매당순이익  구매당운송비  고객당순이익  고객당구매수  고객당매출액  구매주기_구간_7일 이내  \\\n",
       "0       64969.73   92.98   21.00   187.0    2.01   230.0           True   \n",
       "1       77510.11  103.26   21.75   214.0    2.07   259.0          False   \n",
       "2       74577.50  110.50   19.88   263.0    2.38   311.0          False   \n",
       "3       36028.54   91.46   18.05   190.0    2.08   228.0          False   \n",
       "4     1948891.27  116.05   20.69   151.0    1.30   178.0          False   \n",
       "\n",
       "   구매주기_구간_14일 이내  구매주기_구간_21일 이내  구매주기_구간_28일 이내  구매주기_구간_29일 이상  \n",
       "0           False           False           False           False  \n",
       "1            True           False           False           False  \n",
       "2           False            True           False           False  \n",
       "3           False           False            True           False  \n",
       "4           False           False           False            True  "
      ]
     },
     "execution_count": 727,
     "metadata": {},
     "output_type": "execute_result"
    }
   ],
   "source": [
    "merged_df"
   ]
  },
  {
   "cell_type": "code",
   "execution_count": null,
   "id": "ff5cd737-853e-4a9b-a42e-da836e498903",
   "metadata": {},
   "outputs": [],
   "source": []
  },
  {
   "cell_type": "code",
   "execution_count": 728,
   "id": "959db554-5b24-49cd-94df-c0ff9d795cca",
   "metadata": {},
   "outputs": [],
   "source": [
    "import pickle\n",
    "\n",
    "with open(\"./dacon_term2.pkl\", \"wb\") as file:\n",
    "    pickle.dump(re_df3, file)"
   ]
  }
 ],
 "metadata": {
  "kernelspec": {
   "display_name": "Python 3 (ipykernel)",
   "language": "python",
   "name": "python3"
  },
  "language_info": {
   "codemirror_mode": {
    "name": "ipython",
    "version": 3
   },
   "file_extension": ".py",
   "mimetype": "text/x-python",
   "name": "python",
   "nbconvert_exporter": "python",
   "pygments_lexer": "ipython3",
   "version": "3.10.12"
  }
 },
 "nbformat": 4,
 "nbformat_minor": 5
}
