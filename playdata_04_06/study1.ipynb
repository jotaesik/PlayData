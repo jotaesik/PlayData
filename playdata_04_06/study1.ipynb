{
 "cells": [
  {
   "cell_type": "code",
   "execution_count": 2,
   "id": "27548d86-e0af-4b51-a65e-e90c5cfff102",
   "metadata": {},
   "outputs": [],
   "source": [
    "from datetime import date,datetime\n",
    "import requests\n",
    "import pandas as pd\n",
    "def get_exchange(code_=\"USD\", date_=None):\n",
    "    \"\"\"\n",
    "     code_ = 통화코드 \n",
    "         예) USD \n",
    "     date_ = 예) '2024-01-02'\n",
    "    \"\"\"\n",
    "    payload = {\"ajax\": \"true\",\n",
    "            \"curCd\": \"\",\n",
    "            \"pbldDvCd\": \"0\",\n",
    "            \"pbldSqn\": \"\",\n",
    "            \"hid_key_data\": \"\",\n",
    "            \"inqKindCd\": \"1\",\n",
    "            \"hid_enc_data\": \"\",\n",
    "            \"requestTarget\": \"searchContentDiv\",}\n",
    "    #날짜 형식 검사\n",
    "    try:\n",
    "        datetime.strptime(date_,\"%Y-%m-%d\")\n",
    "    except:\n",
    "        print(\"값 확인해!!\") #return -1 값이 없으므로\n",
    "        # return -1\n",
    "        date_=str(date.today())  #오늘날짜가져오기\n",
    "    \n",
    "    \n",
    "    \n",
    "    payload['tmpInqStrDt'] = date_\n",
    "    payload['inqStrDt'] = date_.replace(\"-\", \"\")\n",
    "    url = \"https://www.kebhana.com/cms/rate/wpfxd651_01i_01.do\"\n",
    "    r = requests.post(url, data=payload)\n",
    "    exchange = pd.read_html(r.text)[0]\n",
    "    exchange.columns = [\"_\".join(x[:2]) for x in exchange.columns]\n",
    "    return exchange.loc[exchange['통화_통화'].str.find(f\"{code_.upper()}\") > -1, '현찰_파실 때'].iloc[0,0]\n",
    "# 웹으로하면 restapi \n",
    "# 이제 이거 내장함수로 변환\n"
   ]
  },
  {
   "cell_type": "code",
   "execution_count": 4,
   "id": "57215ff9-95a3-4c26-bbac-1a0f4ca6b345",
   "metadata": {},
   "outputs": [
    {
     "name": "stderr",
     "output_type": "stream",
     "text": [
      "C:\\Users\\Playdata2\\AppData\\Local\\Temp\\ipykernel_15032\\4288795060.py:32: FutureWarning: Passing literal html to 'read_html' is deprecated and will be removed in a future version. To read from a literal string, wrap it in a 'StringIO' object.\n",
      "  exchange = pd.read_html(r.text)[0]\n"
     ]
    },
    {
     "data": {
      "text/plain": [
       "1324.41"
      ]
     },
     "execution_count": 4,
     "metadata": {},
     "output_type": "execute_result"
    }
   ],
   "source": [
    "get_exchange(\"USD\",\"2024-04-03\")"
   ]
  }
 ],
 "metadata": {
  "kernelspec": {
   "display_name": "Python 3 (ipykernel)",
   "language": "python",
   "name": "python3"
  },
  "language_info": {
   "codemirror_mode": {
    "name": "ipython",
    "version": 3
   },
   "file_extension": ".py",
   "mimetype": "text/x-python",
   "name": "python",
   "nbconvert_exporter": "python",
   "pygments_lexer": "ipython3",
   "version": "3.9.19"
  }
 },
 "nbformat": 4,
 "nbformat_minor": 5
}
