{
 "cells": [
  {
   "cell_type": "code",
   "execution_count": 1,
   "id": "ef04a569-cd2c-479b-9b09-0b12b061e930",
   "metadata": {},
   "outputs": [
    {
     "name": "stdout",
     "output_type": "stream",
     "text": [
      "'2024.04.02 (1).ipynb'     20240403_2.ipynb   \u001b[0m\u001b[01;34mstock\u001b[0m/\n",
      " 2024.04.02-1.ipynb        Untitled.ipynb     \u001b[01;34mstock1\u001b[0m/\n",
      " 2024.04.02-1_user.ipynb   \u001b[01;34ma\u001b[0m/                 \u001b[01;34mstocks\u001b[0m/\n",
      " 2024.04.02.ipynb          \u001b[01;32mb.txt\u001b[0m*             \u001b[01;34mstocks1\u001b[0m/\n",
      " 2024.04.02_user.ipynb     \u001b[01;34mc\u001b[0m/                 \u001b[01;34mstudy\u001b[0m/\n",
      " 2024.04.04.ipynb          \u001b[01;34mlyric\u001b[0m/             study.ipynb\n",
      " 20240401.ipynb            \u001b[01;34mlyrics\u001b[0m/            test.ipynb\n",
      " 20240401.py               nohup.out          삼성전자.csv\n",
      " 20240402.ipynb            \u001b[01;34mproject\u001b[0m/           삼성전자1.csv\n",
      " 20240402_teacher.ipynb    requirements.txt\n",
      " 20240403_1.ipynb          result.csv\n"
     ]
    }
   ],
   "source": [
    "ls"
   ]
  },
  {
   "cell_type": "code",
   "execution_count": null,
   "id": "137e690a-541c-42af-ae09-e222d90256d4",
   "metadata": {},
   "outputs": [],
   "source": []
  },
  {
   "cell_type": "code",
   "execution_count": 2,
   "id": "56131dd6-1b03-4d0b-9a77-7c53aa90314e",
   "metadata": {},
   "outputs": [
    {
     "name": "stdout",
     "output_type": "stream",
     "text": [
      "/home/jotaesik\n"
     ]
    },
    {
     "name": "stderr",
     "output_type": "stream",
     "text": [
      "/home/jotaesik/.local/lib/python3.10/site-packages/IPython/core/magics/osm.py:393: UserWarning: This is now an optional IPython functionality, using bookmarks requires you to install the `pickleshare` library.\n",
      "  bkms = self.shell.db.get('bookmarks', {})\n",
      "/home/jotaesik/.local/lib/python3.10/site-packages/IPython/core/magics/osm.py:417: UserWarning: This is now an optional IPython functionality, setting dhist requires you to install the `pickleshare` library.\n",
      "  self.shell.db['dhist'] = compress_dhist(dhist)[-100:]\n"
     ]
    }
   ],
   "source": [
    "cd ~"
   ]
  },
  {
   "cell_type": "code",
   "execution_count": 3,
   "id": "85135d82-589c-48c4-a5ad-a7d2fc585674",
   "metadata": {},
   "outputs": [
    {
     "name": "stdout",
     "output_type": "stream",
     "text": [
      "a.txt                                     male\n",
      "\u001b[0m\u001b[01;34mdata\u001b[0m/                                     nohup.out\n",
      "\u001b[01;31mgoogle-chrome-stable_current_amd64.deb\u001b[0m    \u001b[01;34mworkspace\u001b[0m/\n",
      "google-chrome-stable_current_amd64.deb.1  \u001b[01;31m이름_생년_성별_10000.zip\u001b[0m\n",
      "google-chrome-stable_current_amd64.deb.2\n"
     ]
    }
   ],
   "source": [
    "ls"
   ]
  },
  {
   "cell_type": "code",
   "execution_count": 4,
   "id": "8fa15a8c-fe8c-45b4-8409-aad05b2d383e",
   "metadata": {},
   "outputs": [
    {
     "name": "stdout",
     "output_type": "stream",
     "text": [
      "/home/jotaesik/data\n"
     ]
    }
   ],
   "source": [
    "cd data"
   ]
  },
  {
   "cell_type": "code",
   "execution_count": 16,
   "id": "9a467d85-c94d-4427-8750-8b51b95bf27a",
   "metadata": {},
   "outputs": [],
   "source": [
    "ls > a.txt"
   ]
  },
  {
   "cell_type": "code",
   "execution_count": 17,
   "id": "04435e8e-968e-4398-b1b0-66d4535079a6",
   "metadata": {},
   "outputs": [
    {
     "name": "stdout",
     "output_type": "stream",
     "text": [
      "a.txt\n",
      "\u001b[0m\u001b[01;34mfemale\u001b[0m/\n",
      "\u001b[01;34mmale\u001b[0m/\n"
     ]
    }
   ],
   "source": [
    "cat a.txt"
   ]
  },
  {
   "cell_type": "code",
   "execution_count": 5,
   "id": "02a62386-191a-4195-8601-d1295df53f40",
   "metadata": {},
   "outputs": [
    {
     "data": {
      "text/plain": [
       "'/home/jotaesik/data'"
      ]
     },
     "execution_count": 5,
     "metadata": {},
     "output_type": "execute_result"
    }
   ],
   "source": [
    "pwd"
   ]
  },
  {
   "cell_type": "code",
   "execution_count": 19,
   "id": "d289fdc8-4f53-4512-8836-8fdd43b30d5b",
   "metadata": {},
   "outputs": [
    {
     "ename": "ValueError",
     "evalue": "Length mismatch: Expected axis has 0 elements, new values have 2 elements",
     "output_type": "error",
     "traceback": [
      "\u001b[0;31m---------------------------------------------------------------------------\u001b[0m",
      "\u001b[0;31mValueError\u001b[0m                                Traceback (most recent call last)",
      "Cell \u001b[0;32mIn[19], line 2\u001b[0m\n\u001b[1;32m      1\u001b[0m df\u001b[38;5;241m=\u001b[39mpd\u001b[38;5;241m.\u001b[39mDataFrame()\n\u001b[0;32m----> 2\u001b[0m \u001b[43mdf\u001b[49m\u001b[38;5;241;43m.\u001b[39;49m\u001b[43mcolumns\u001b[49m \u001b[38;5;241m=\u001b[39m [\u001b[38;5;124m'\u001b[39m\u001b[38;5;124mfemale\u001b[39m\u001b[38;5;124m'\u001b[39m, \u001b[38;5;124m'\u001b[39m\u001b[38;5;124mmale\u001b[39m\u001b[38;5;124m'\u001b[39m]\n\u001b[1;32m      3\u001b[0m \u001b[38;5;28mprint\u001b[39m(df)\n",
      "File \u001b[0;32m~/.local/lib/python3.10/site-packages/pandas/core/generic.py:6310\u001b[0m, in \u001b[0;36mNDFrame.__setattr__\u001b[0;34m(self, name, value)\u001b[0m\n\u001b[1;32m   6308\u001b[0m \u001b[38;5;28;01mtry\u001b[39;00m:\n\u001b[1;32m   6309\u001b[0m     \u001b[38;5;28mobject\u001b[39m\u001b[38;5;241m.\u001b[39m\u001b[38;5;21m__getattribute__\u001b[39m(\u001b[38;5;28mself\u001b[39m, name)\n\u001b[0;32m-> 6310\u001b[0m     \u001b[38;5;28;01mreturn\u001b[39;00m \u001b[38;5;28;43mobject\u001b[39;49m\u001b[38;5;241;43m.\u001b[39;49m\u001b[38;5;21;43m__setattr__\u001b[39;49m\u001b[43m(\u001b[49m\u001b[38;5;28;43mself\u001b[39;49m\u001b[43m,\u001b[49m\u001b[43m \u001b[49m\u001b[43mname\u001b[49m\u001b[43m,\u001b[49m\u001b[43m \u001b[49m\u001b[43mvalue\u001b[49m\u001b[43m)\u001b[49m\n\u001b[1;32m   6311\u001b[0m \u001b[38;5;28;01mexcept\u001b[39;00m \u001b[38;5;167;01mAttributeError\u001b[39;00m:\n\u001b[1;32m   6312\u001b[0m     \u001b[38;5;28;01mpass\u001b[39;00m\n",
      "File \u001b[0;32mproperties.pyx:69\u001b[0m, in \u001b[0;36mpandas._libs.properties.AxisProperty.__set__\u001b[0;34m()\u001b[0m\n",
      "File \u001b[0;32m~/.local/lib/python3.10/site-packages/pandas/core/generic.py:813\u001b[0m, in \u001b[0;36mNDFrame._set_axis\u001b[0;34m(self, axis, labels)\u001b[0m\n\u001b[1;32m    808\u001b[0m \u001b[38;5;250m\u001b[39m\u001b[38;5;124;03m\"\"\"\u001b[39;00m\n\u001b[1;32m    809\u001b[0m \u001b[38;5;124;03mThis is called from the cython code when we set the `index` attribute\u001b[39;00m\n\u001b[1;32m    810\u001b[0m \u001b[38;5;124;03mdirectly, e.g. `series.index = [1, 2, 3]`.\u001b[39;00m\n\u001b[1;32m    811\u001b[0m \u001b[38;5;124;03m\"\"\"\u001b[39;00m\n\u001b[1;32m    812\u001b[0m labels \u001b[38;5;241m=\u001b[39m ensure_index(labels)\n\u001b[0;32m--> 813\u001b[0m \u001b[38;5;28;43mself\u001b[39;49m\u001b[38;5;241;43m.\u001b[39;49m\u001b[43m_mgr\u001b[49m\u001b[38;5;241;43m.\u001b[39;49m\u001b[43mset_axis\u001b[49m\u001b[43m(\u001b[49m\u001b[43maxis\u001b[49m\u001b[43m,\u001b[49m\u001b[43m \u001b[49m\u001b[43mlabels\u001b[49m\u001b[43m)\u001b[49m\n\u001b[1;32m    814\u001b[0m \u001b[38;5;28mself\u001b[39m\u001b[38;5;241m.\u001b[39m_clear_item_cache()\n",
      "File \u001b[0;32m~/.local/lib/python3.10/site-packages/pandas/core/internals/managers.py:238\u001b[0m, in \u001b[0;36mBaseBlockManager.set_axis\u001b[0;34m(self, axis, new_labels)\u001b[0m\n\u001b[1;32m    236\u001b[0m \u001b[38;5;28;01mdef\u001b[39;00m \u001b[38;5;21mset_axis\u001b[39m(\u001b[38;5;28mself\u001b[39m, axis: AxisInt, new_labels: Index) \u001b[38;5;241m-\u001b[39m\u001b[38;5;241m>\u001b[39m \u001b[38;5;28;01mNone\u001b[39;00m:\n\u001b[1;32m    237\u001b[0m     \u001b[38;5;66;03m# Caller is responsible for ensuring we have an Index object.\u001b[39;00m\n\u001b[0;32m--> 238\u001b[0m     \u001b[38;5;28;43mself\u001b[39;49m\u001b[38;5;241;43m.\u001b[39;49m\u001b[43m_validate_set_axis\u001b[49m\u001b[43m(\u001b[49m\u001b[43maxis\u001b[49m\u001b[43m,\u001b[49m\u001b[43m \u001b[49m\u001b[43mnew_labels\u001b[49m\u001b[43m)\u001b[49m\n\u001b[1;32m    239\u001b[0m     \u001b[38;5;28mself\u001b[39m\u001b[38;5;241m.\u001b[39maxes[axis] \u001b[38;5;241m=\u001b[39m new_labels\n",
      "File \u001b[0;32m~/.local/lib/python3.10/site-packages/pandas/core/internals/base.py:98\u001b[0m, in \u001b[0;36mDataManager._validate_set_axis\u001b[0;34m(self, axis, new_labels)\u001b[0m\n\u001b[1;32m     95\u001b[0m     \u001b[38;5;28;01mpass\u001b[39;00m\n\u001b[1;32m     97\u001b[0m \u001b[38;5;28;01melif\u001b[39;00m new_len \u001b[38;5;241m!=\u001b[39m old_len:\n\u001b[0;32m---> 98\u001b[0m     \u001b[38;5;28;01mraise\u001b[39;00m \u001b[38;5;167;01mValueError\u001b[39;00m(\n\u001b[1;32m     99\u001b[0m         \u001b[38;5;124mf\u001b[39m\u001b[38;5;124m\"\u001b[39m\u001b[38;5;124mLength mismatch: Expected axis has \u001b[39m\u001b[38;5;132;01m{\u001b[39;00mold_len\u001b[38;5;132;01m}\u001b[39;00m\u001b[38;5;124m elements, new \u001b[39m\u001b[38;5;124m\"\u001b[39m\n\u001b[1;32m    100\u001b[0m         \u001b[38;5;124mf\u001b[39m\u001b[38;5;124m\"\u001b[39m\u001b[38;5;124mvalues have \u001b[39m\u001b[38;5;132;01m{\u001b[39;00mnew_len\u001b[38;5;132;01m}\u001b[39;00m\u001b[38;5;124m elements\u001b[39m\u001b[38;5;124m\"\u001b[39m\n\u001b[1;32m    101\u001b[0m     )\n",
      "\u001b[0;31mValueError\u001b[0m: Length mismatch: Expected axis has 0 elements, new values have 2 elements"
     ]
    }
   ],
   "source": [
    "df=pd.DataFrame()\n",
    "df.columns = ['female', 'male']\n",
    "print(df)"
   ]
  },
  {
   "cell_type": "code",
   "execution_count": 68,
   "id": "421bce03-ab67-4cb7-815d-e1ce519f5434",
   "metadata": {},
   "outputs": [
    {
     "ename": "Error",
     "evalue": "Destination path '/home/jotaesik/data/male/강주헌_19601129_1xxxxxx.txt' already exists",
     "output_type": "error",
     "traceback": [
      "\u001b[0;31m---------------------------------------------------------------------------\u001b[0m",
      "\u001b[0;31mError\u001b[0m                                     Traceback (most recent call last)",
      "Cell \u001b[0;32mIn[68], line 28\u001b[0m\n\u001b[1;32m     26\u001b[0m list_value\u001b[38;5;241m.\u001b[39mappend(a)\n\u001b[1;32m     27\u001b[0m \u001b[38;5;28;01mif\u001b[39;00m \u001b[38;5;28mint\u001b[39m(temp_split[\u001b[38;5;241m2\u001b[39m][\u001b[38;5;241m0\u001b[39m])\u001b[38;5;241m%\u001b[39m\u001b[38;5;241m2\u001b[39m\u001b[38;5;241m==\u001b[39m\u001b[38;5;241m1\u001b[39m:\n\u001b[0;32m---> 28\u001b[0m      \u001b[43mshutil\u001b[49m\u001b[38;5;241;43m.\u001b[39;49m\u001b[43mmove\u001b[49m\u001b[43m(\u001b[49m\u001b[38;5;124;43mf\u001b[39;49m\u001b[38;5;124;43m\"\u001b[39;49m\u001b[38;5;132;43;01m{\u001b[39;49;00m\u001b[43mroots\u001b[49m\u001b[38;5;132;43;01m}\u001b[39;49;00m\u001b[38;5;124;43m/\u001b[39;49m\u001b[38;5;132;43;01m{\u001b[39;49;00m\u001b[43mfile\u001b[49m\u001b[38;5;132;43;01m}\u001b[39;49;00m\u001b[38;5;124;43m\"\u001b[39;49m\u001b[43m,\u001b[49m\u001b[43m \u001b[49m\u001b[38;5;124;43m\"\u001b[39;49m\u001b[38;5;124;43m/home/jotaesik/data/male\u001b[39;49m\u001b[38;5;124;43m\"\u001b[39;49m\u001b[43m)\u001b[49m\n\u001b[1;32m     29\u001b[0m      list_gender\u001b[38;5;241m.\u001b[39mappend(\u001b[38;5;124m\"\u001b[39m\u001b[38;5;124mM\u001b[39m\u001b[38;5;124m\"\u001b[39m) \n\u001b[1;32m     30\u001b[0m \u001b[38;5;28;01melse\u001b[39;00m:\n",
      "File \u001b[0;32m/usr/lib/python3.10/shutil.py:814\u001b[0m, in \u001b[0;36mmove\u001b[0;34m(src, dst, copy_function)\u001b[0m\n\u001b[1;32m    811\u001b[0m     real_dst \u001b[38;5;241m=\u001b[39m os\u001b[38;5;241m.\u001b[39mpath\u001b[38;5;241m.\u001b[39mjoin(dst, _basename(src))\n\u001b[1;32m    813\u001b[0m     \u001b[38;5;28;01mif\u001b[39;00m os\u001b[38;5;241m.\u001b[39mpath\u001b[38;5;241m.\u001b[39mexists(real_dst):\n\u001b[0;32m--> 814\u001b[0m         \u001b[38;5;28;01mraise\u001b[39;00m Error(\u001b[38;5;124m\"\u001b[39m\u001b[38;5;124mDestination path \u001b[39m\u001b[38;5;124m'\u001b[39m\u001b[38;5;132;01m%s\u001b[39;00m\u001b[38;5;124m'\u001b[39m\u001b[38;5;124m already exists\u001b[39m\u001b[38;5;124m\"\u001b[39m \u001b[38;5;241m%\u001b[39m real_dst)\n\u001b[1;32m    815\u001b[0m \u001b[38;5;28;01mtry\u001b[39;00m:\n\u001b[1;32m    816\u001b[0m     os\u001b[38;5;241m.\u001b[39mrename(src, real_dst)\n",
      "\u001b[0;31mError\u001b[0m: Destination path '/home/jotaesik/data/male/강주헌_19601129_1xxxxxx.txt' already exists"
     ]
    }
   ],
   "source": [
    "import os\n",
    "import pandas as pd\n",
    "import shutil\n",
    "# f = open(\"./file.txt\", \"w\", encoding=\"utf-8\")\n",
    "if not os.path.isdir(\"./male\"):\n",
    "    os.mkdir(\"./male\")\n",
    "if not os.path.isdir(\"./female\"):\n",
    "    os.mkdir(\"./female\")\n",
    "# dict1={} #데이터프레임으로 바꿀거\n",
    "# 이름 생년월일 성별 값\n",
    "list_name=[]\n",
    "list_birthday=[]\n",
    "list_gender=[]\n",
    "list_value=[]\n",
    "i=0;\n",
    "for roots, dirs, files in os.walk(\"/home/jotaesik/data\"):\n",
    "    for file in files:\n",
    "        temp_split=file.split(\"_\") #파일명자르기\n",
    "        # ['강주헌', '19601129', '1xxxxxx.txt']\n",
    "        list_name.append(temp_split[0])\n",
    "        list_birthday.append(temp_split[1])\n",
    "        # 값불러오기\n",
    "        f=open(f\"{roots}/{file}\", \"r\")\n",
    "        a=f.readline().replace(\",\",\"\")\n",
    "        f.close()\n",
    "        list_value.append(a)\n",
    "        if int(temp_split[2][0])%2==1:\n",
    "             shutil.move(f\"{roots}/{file}\", \"/home/jotaesik/data/male\")\n",
    "             list_gender.append(\"M\") \n",
    "        else:\n",
    "             shutil.move(f\"{roots}/{file}\", \"/home/jotaesik/data/female\")\n",
    "             list_gender.append(\"F\")\n",
    "        # try:\n",
    "        #     if int(temp_split[2][0])%2==1:\n",
    "        #         list_gender.append(\"M\") \n",
    "        #         shutil.move(f\"{roots}/{file}\", \"/home/jotaesik/data/male\")\n",
    "        #     else:\n",
    "        #         list_gender.append(\"F\")\n",
    "        #         shutil.move(f\"{roots}/{file}\", \"/home/jotaesik/data/female\")        \n",
    "        # except:\n",
    "        #     print(\"\")\n",
    "    \n",
    "# print(list_name)\n",
    "# print(list_birthday)\n",
    "# print(list_gender)\n",
    "# print(list_value)\n",
    "dict={\"이름\" : list_name , \"생년월일\" : list_birthday, \"성별\" : list_gender, \"값\" : list_value}\n",
    "# print(len(list_name))\n",
    "# print(len(list_birthday))\n",
    "# print(len(list_value))\n",
    "# print(len(list_gender))\n",
    "# print(dict)\n",
    "\n",
    "       \n",
    "      "
   ]
  },
  {
   "cell_type": "code",
   "execution_count": 53,
   "id": "5ff7bc60-de28-46ea-a145-ce1ea4e06655",
   "metadata": {},
   "outputs": [
    {
     "name": "stdout",
     "output_type": "stream",
     "text": [
      "20000\n"
     ]
    }
   ],
   "source": []
  },
  {
   "cell_type": "code",
   "execution_count": 69,
   "id": "bc21ae97-18e4-4b3e-8761-553e345cf8e3",
   "metadata": {},
   "outputs": [
    {
     "name": "stdout",
     "output_type": "stream",
     "text": [
      "       이름      생년월일 성별         값\n",
      "0     강주헌  19601129  M  23472543\n",
      "1     배신화  19691226  F      7682\n",
      "2     문현설  19600509  M      1467\n",
      "3     강채빈  19900809  M     25709\n",
      "4     강민상  19921215  M     79182\n",
      "...   ...       ... ..       ...\n",
      "9995  이보민  19660126  M    345871\n",
      "9996  배원일  19800806  M      7490\n",
      "9997  고은한  19731011  F  91745789\n",
      "9998  정나현  19600725  F      4996\n",
      "9999  허재환  19940306  M   9618958\n",
      "\n",
      "[10000 rows x 4 columns]\n"
     ]
    },
    {
     "data": {
      "text/plain": [
       "이름      0\n",
       "생년월일    0\n",
       "성별      0\n",
       "값       0\n",
       "dtype: int64"
      ]
     },
     "execution_count": 69,
     "metadata": {},
     "output_type": "execute_result"
    }
   ],
   "source": [
    "df=pd.DataFrame(dict)\n",
    "print(df)\n",
    "\n",
    "        "
   ]
  },
  {
   "cell_type": "code",
   "execution_count": 71,
   "id": "18e79e53-2f8a-455a-8284-49eb2ba5e3c1",
   "metadata": {},
   "outputs": [
    {
     "data": {
      "text/html": [
       "<div>\n",
       "<style scoped>\n",
       "    .dataframe tbody tr th:only-of-type {\n",
       "        vertical-align: middle;\n",
       "    }\n",
       "\n",
       "    .dataframe tbody tr th {\n",
       "        vertical-align: top;\n",
       "    }\n",
       "\n",
       "    .dataframe thead th {\n",
       "        text-align: right;\n",
       "    }\n",
       "</style>\n",
       "<table border=\"1\" class=\"dataframe\">\n",
       "  <thead>\n",
       "    <tr style=\"text-align: right;\">\n",
       "      <th></th>\n",
       "      <th>이름</th>\n",
       "      <th>생년월일</th>\n",
       "      <th>성별</th>\n",
       "      <th>값</th>\n",
       "    </tr>\n",
       "  </thead>\n",
       "  <tbody>\n",
       "    <tr>\n",
       "      <th>9990</th>\n",
       "      <td>정채민</td>\n",
       "      <td>19681106</td>\n",
       "      <td>F</td>\n",
       "      <td>8865</td>\n",
       "    </tr>\n",
       "    <tr>\n",
       "      <th>9991</th>\n",
       "      <td>임지은</td>\n",
       "      <td>19980521</td>\n",
       "      <td>F</td>\n",
       "      <td>8899</td>\n",
       "    </tr>\n",
       "    <tr>\n",
       "      <th>9992</th>\n",
       "      <td>황세완</td>\n",
       "      <td>19620527</td>\n",
       "      <td>M</td>\n",
       "      <td>715468</td>\n",
       "    </tr>\n",
       "    <tr>\n",
       "      <th>9993</th>\n",
       "      <td>안해연</td>\n",
       "      <td>19900303</td>\n",
       "      <td>M</td>\n",
       "      <td>41289635</td>\n",
       "    </tr>\n",
       "    <tr>\n",
       "      <th>9994</th>\n",
       "      <td>임범세</td>\n",
       "      <td>19981103</td>\n",
       "      <td>F</td>\n",
       "      <td>8598</td>\n",
       "    </tr>\n",
       "    <tr>\n",
       "      <th>9995</th>\n",
       "      <td>이보민</td>\n",
       "      <td>19660126</td>\n",
       "      <td>M</td>\n",
       "      <td>345871</td>\n",
       "    </tr>\n",
       "    <tr>\n",
       "      <th>9996</th>\n",
       "      <td>배원일</td>\n",
       "      <td>19800806</td>\n",
       "      <td>M</td>\n",
       "      <td>7490</td>\n",
       "    </tr>\n",
       "    <tr>\n",
       "      <th>9997</th>\n",
       "      <td>고은한</td>\n",
       "      <td>19731011</td>\n",
       "      <td>F</td>\n",
       "      <td>91745789</td>\n",
       "    </tr>\n",
       "    <tr>\n",
       "      <th>9998</th>\n",
       "      <td>정나현</td>\n",
       "      <td>19600725</td>\n",
       "      <td>F</td>\n",
       "      <td>4996</td>\n",
       "    </tr>\n",
       "    <tr>\n",
       "      <th>9999</th>\n",
       "      <td>허재환</td>\n",
       "      <td>19940306</td>\n",
       "      <td>M</td>\n",
       "      <td>9618958</td>\n",
       "    </tr>\n",
       "  </tbody>\n",
       "</table>\n",
       "</div>"
      ],
      "text/plain": [
       "       이름      생년월일 성별         값\n",
       "9990  정채민  19681106  F      8865\n",
       "9991  임지은  19980521  F      8899\n",
       "9992  황세완  19620527  M    715468\n",
       "9993  안해연  19900303  M  41289635\n",
       "9994  임범세  19981103  F      8598\n",
       "9995  이보민  19660126  M    345871\n",
       "9996  배원일  19800806  M      7490\n",
       "9997  고은한  19731011  F  91745789\n",
       "9998  정나현  19600725  F      4996\n",
       "9999  허재환  19940306  M   9618958"
      ]
     },
     "execution_count": 71,
     "metadata": {},
     "output_type": "execute_result"
    }
   ],
   "source": [
    "df.tail(10)"
   ]
  },
  {
   "cell_type": "code",
   "execution_count": 33,
   "id": "b2dcbd52-073b-4718-8c55-2c5a080f7886",
   "metadata": {},
   "outputs": [
    {
     "data": {
      "text/plain": [
       "[]"
      ]
     },
     "execution_count": 33,
     "metadata": {},
     "output_type": "execute_result"
    }
   ],
   "source": [
    "list1"
   ]
  },
  {
   "cell_type": "code",
   "execution_count": null,
   "id": "517487e8-0802-4cfe-824b-9d400b90c15f",
   "metadata": {},
   "outputs": [],
   "source": [
    "import pickle \n",
    "# binary save , load \n",
    "# with open(\"./kbo.pkl\", \"wb\") as f:\n",
    "#     pickle.dump(playid, f)\n",
    "\n",
    "\n",
    "# import pickle\n",
    "# with open(\"./kbo.pkl\", \"rb\") as f:\n",
    "#     abc = pickle.load(f)\n"
   ]
  },
  {
   "cell_type": "code",
   "execution_count": 20,
   "id": "da26a41b-248e-4d6f-8b01-63d8b047a6c7",
   "metadata": {},
   "outputs": [
    {
     "name": "stdout",
     "output_type": "stream",
     "text": [
      "577565\n"
     ]
    }
   ],
   "source": [
    "# # with open(\"./male/정윤규_19970820_1xxxxxx.txt\", \"rb\") as f:\n",
    "# with open(\"./male/정윤규_19970820_1xxxxxx.txt\", \"r\") as f:\n",
    "#     test=f.readline().strip()\n",
    "# print(test)\n",
    "f=open(\"./male/양조은_19660410_3xxxxxx.txt\", \"r\")\n",
    "# 양조은_1966041+0_3xxxxxx.txt\n",
    "a=f.readline()\n",
    "a=a.replace(\",\",\"\")\n",
    "print(a)\n",
    "# type(f.read())\n",
    "# f.readline().replace(\",\",\"\")\n",
    "# print(int(f.readline().replace(\",\",\"\")))"
   ]
  },
  {
   "cell_type": "code",
   "execution_count": null,
   "id": "bf703a0d-d5da-4fe5-8d84-f20fc7e77041",
   "metadata": {},
   "outputs": [],
   "source": []
  }
 ],
 "metadata": {
  "kernelspec": {
   "display_name": "Python 3 (ipykernel)",
   "language": "python",
   "name": "python3"
  },
  "language_info": {
   "codemirror_mode": {
    "name": "ipython",
    "version": 3
   },
   "file_extension": ".py",
   "mimetype": "text/x-python",
   "name": "python",
   "nbconvert_exporter": "python",
   "pygments_lexer": "ipython3",
   "version": "3.10.12"
  }
 },
 "nbformat": 4,
 "nbformat_minor": 5
}
