{
 "cells": [
  {
   "cell_type": "code",
   "execution_count": 1,
   "id": "6824e85d",
   "metadata": {},
   "outputs": [],
   "source": [
    "import requests"
   ]
  },
  {
   "cell_type": "code",
   "execution_count": 2,
   "id": "c4344330",
   "metadata": {},
   "outputs": [],
   "source": [
    "url = \"https://www.genie.co.kr/chart/top200\""
   ]
  },
  {
   "cell_type": "code",
   "execution_count": 3,
   "id": "5f937e7f",
   "metadata": {},
   "outputs": [],
   "source": [
    "head = {\"User-Agent\": \\\n",
    "        \"Mozilla/5.0 (Windows NT 10.0; Win64; x64) AppleWebKit/537.36 (KHTML, like Gecko) Chrome/116.0.0.0 Safari/537.36 Edg/116.0.1938.62\"}"
   ]
  },
  {
   "cell_type": "code",
   "execution_count": 4,
   "id": "d1bcd5e8",
   "metadata": {},
   "outputs": [],
   "source": [
    "r = requests.get(url, headers=head)"
   ]
  },
  {
   "cell_type": "code",
   "execution_count": 39,
   "id": "6501fd23",
   "metadata": {},
   "outputs": [],
   "source": [
    "from bs4 import BeautifulSoup as BS \n",
    "#import pandas as pd \n",
    "#import numpy as np \n",
    "#import tensorflow as tf "
   ]
  },
  {
   "cell_type": "code",
   "execution_count": 40,
   "id": "0ff8b154",
   "metadata": {},
   "outputs": [],
   "source": [
    "bs = BS(r.text)"
   ]
  },
  {
   "cell_type": "code",
   "execution_count": 38,
   "id": "d6c81004",
   "metadata": {},
   "outputs": [
    {
     "name": "stderr",
     "output_type": "stream",
     "text": [
      "100%|██████████| 50/50 [00:07<00:00,  6.80it/s]\n"
     ]
    }
   ],
   "source": [
    "import os\n",
    "from tqdm import tqdm\n",
    "import re \n",
    "p = re.compile(\"[0-9]+\")\n",
    "lyrics_url = \"https://www.genie.co.kr/detail/songInfo?xgnm={}\"\n",
    "if not os.path.isdir(\"./lyrics\"):\n",
    "    os.mkdir(\"./lyrics\")\n",
    "for x in tqdm(bs.find(\"div\", {'class': \\\n",
    "                          \"music-list-wrap\"}).findAll(\"td\", {\"class\" : \"info\"})):\n",
    "    \n",
    "    title = x.find(\"a\", class_=\"title ellipsis\").text.strip()\n",
    "    artist = x.find(\"a\", class_=\"artist ellipsis\").text\n",
    "    with open(f\"./lyrics/{artist}_{title}.txt\", \"w\", encoding='utf-8') as f:\n",
    "        f.write(BeautifulSoup(r3.text).find(\"pre\", id=\"pLyrics\").text.strip())\n",
    "    #print(f\"{artist}-{title}.txt\")\n",
    "    r3 = requests.get(lyrics_url.format(p.findall(str(x))[0]),headers=head)"
   ]
  },
  {
   "cell_type": "code",
   "execution_count": null,
   "id": "01fee519",
   "metadata": {},
   "outputs": [],
   "source": []
  },
  {
   "cell_type": "code",
   "execution_count": 41,
   "id": "be10af5a",
   "metadata": {},
   "outputs": [],
   "source": [
    "url = \"https://m.stock.naver.com/front-api/v1/external/chart/domestic/info?symbol={}&requestType=1&startTime={}&endTime={}&timeframe=day\""
   ]
  },
  {
   "cell_type": "code",
   "execution_count": 44,
   "id": "93e2e2cf",
   "metadata": {},
   "outputs": [],
   "source": [
    "r = requests.get(url.format('005930', '20230102', '20240402'))"
   ]
  },
  {
   "cell_type": "code",
   "execution_count": 51,
   "id": "9e3da18e",
   "metadata": {},
   "outputs": [],
   "source": [
    "data = eval(r.text.strip())"
   ]
  },
  {
   "cell_type": "code",
   "execution_count": 53,
   "id": "ffbf4486",
   "metadata": {},
   "outputs": [],
   "source": [
    "import csv \n",
    "f = open(\"./삼성전자.csv\", 'w', newline='')\n",
    "write_stock = csv.writer(f)\n",
    "write_stock.writerows(data)\n",
    "f.close()"
   ]
  },
  {
   "cell_type": "code",
   "execution_count": 55,
   "id": "50266f14",
   "metadata": {},
   "outputs": [],
   "source": []
  },
  {
   "cell_type": "code",
   "execution_count": 56,
   "id": "9a7e75a1",
   "metadata": {},
   "outputs": [],
   "source": []
  },
  {
   "cell_type": "code",
   "execution_count": 57,
   "id": "d1ed25be",
   "metadata": {},
   "outputs": [],
   "source": []
  },
  {
   "cell_type": "code",
   "execution_count": 61,
   "id": "625347fb",
   "metadata": {},
   "outputs": [],
   "source": [
    "def get_naver_stock(code, start_date, end_date):\n",
    "    \"\"\"\n",
    "    code -> 종목 코드 넣어 \n",
    "    start_date -> 시작 날짜 \n",
    "    end_date -> 끝나는 날짜\n",
    "    \"\"\"\n",
    "    pass"
   ]
  },
  {
   "cell_type": "code",
   "execution_count": 62,
   "id": "c7a14dc1",
   "metadata": {},
   "outputs": [
    {
     "name": "stdout",
     "output_type": "stream",
     "text": [
      "Help on function get_naver_stock in module __main__:\n",
      "\n",
      "get_naver_stock(code, start_date, end_date)\n",
      "    code -> 종목 코드 넣어 \n",
      "    start_date -> 시작 날짜 \n",
      "    end_date -> 끝나는 날짜\n",
      "\n"
     ]
    }
   ],
   "source": [
    "help(get_naver_stock)"
   ]
  },
  {
   "cell_type": "code",
   "execution_count": 64,
   "id": "9b578a79",
   "metadata": {},
   "outputs": [],
   "source": [
    "payload = {\"bld\" : \"dbms/MDC/STAT/standard/MDCSTAT01901\",\n",
    "\"locale\" : \"ko_KR\",\n",
    "\"mktId\" : \"ALL\",\n",
    "\"share\" : \"1\",\n",
    "\"csvxls_isNo\" : \"false\",}"
   ]
  },
  {
   "cell_type": "code",
   "execution_count": 65,
   "id": "48ca0734",
   "metadata": {},
   "outputs": [],
   "source": [
    "url = \"http://data.krx.co.kr/comm/bldAttendant/getJsonData.cmd\""
   ]
  },
  {
   "cell_type": "code",
   "execution_count": 66,
   "id": "6b579af8",
   "metadata": {},
   "outputs": [],
   "source": [
    "r = requests.post(url, data=payload)"
   ]
  },
  {
   "cell_type": "code",
   "execution_count": 75,
   "id": "868f7d38",
   "metadata": {},
   "outputs": [],
   "source": [
    "# MKT_TP_NM, ISU_ABBRV, ISU_SRT_CD\n",
    "# dict comprehension \n",
    "master = {x['ISU_SRT_CD'] : x['ISU_ABBRV'] for x in r.json()['OutBlock_1']}"
   ]
  },
  {
   "cell_type": "code",
   "execution_count": 89,
   "id": "17a11305",
   "metadata": {},
   "outputs": [],
   "source": [
    "def tmp(a, b):\n",
    "    global c \n",
    "    d = 10 \n",
    "    c = 10\n",
    "    print (d)\n",
    "    return a + b"
   ]
  },
  {
   "cell_type": "code",
   "execution_count": 96,
   "id": "863b50a3",
   "metadata": {},
   "outputs": [],
   "source": [
    "def vol_up():\n",
    "    # Insert your code please \n",
    "    pass"
   ]
  },
  {
   "cell_type": "code",
   "execution_count": 91,
   "id": "eafad3a0",
   "metadata": {},
   "outputs": [],
   "source": [
    "d = 20 "
   ]
  },
  {
   "cell_type": "code",
   "execution_count": 92,
   "id": "52ee2b92",
   "metadata": {},
   "outputs": [
    {
     "name": "stdout",
     "output_type": "stream",
     "text": [
      "10\n"
     ]
    },
    {
     "data": {
      "text/plain": [
       "30"
      ]
     },
     "execution_count": 92,
     "metadata": {},
     "output_type": "execute_result"
    }
   ],
   "source": [
    "tmp(10,20)"
   ]
  },
  {
   "cell_type": "code",
   "execution_count": 99,
   "id": "b2947de4",
   "metadata": {},
   "outputs": [],
   "source": [
    "import csv \n",
    "def get_naver_stock(code, start_date, end_date):\n",
    "    \"\"\"\n",
    "    code -> 종목 코드 넣어 \n",
    "    start_date -> 시작 날짜 \n",
    "    end_date -> 끝나는 날짜\n",
    "    \"\"\"\n",
    "    if not os.path.isdir(\"./stocks\"):\n",
    "        os.mkdir(\"./stocks\")\n",
    "    url = \"https://m.stock.naver.com/front-api/v1/external/chart/domestic/info?symbol={}&requestType=1&startTime={}&endTime={}&timeframe=day\"\n",
    "    r = requests.get(url.format(code, start_date, end_date))\n",
    "    data = eval(r.text.strip())\n",
    "    \n",
    "    f = open(f\"./stocks/{master[code]}.csv\", 'w', newline='')\n",
    "    write_stock = csv.writer(f)\n",
    "    write_stock.writerows(data)\n",
    "    f.close()"
   ]
  },
  {
   "cell_type": "code",
   "execution_count": 101,
   "id": "96969705",
   "metadata": {},
   "outputs": [],
   "source": [
    "# ISU_ABBRV, ISU_SRT_CD\n",
    "for x in r.json()['OutBlock_1'][:10]:\n",
    "    if x['MKT_TP_NM'] == \"KOSPI\":\n",
    "        get_naver_stock(x['ISU_SRT_CD'], \"20230102\", \"20240402\")"
   ]
  },
  {
   "cell_type": "code",
   "execution_count": 108,
   "id": "a13665cf",
   "metadata": {},
   "outputs": [],
   "source": [
    "import csv \n",
    "def get_naver_stock(code, start_date, end_date):\n",
    "    \"\"\"\n",
    "    code -> 종목 코드 넣어 \n",
    "    start_date -> 시작 날짜 \n",
    "    end_date -> 끝나는 날짜\n",
    "    \"\"\"\n",
    "    url = \"https://m.stock.naver.com/front-api/v1/external/chart/domestic/info?symbol={}&requestType=1&startTime={}&endTime={}&timeframe=day\"\n",
    "    r = requests.get(url.format(code, start_date, end_date))\n",
    "    data = eval(r.text.strip())\n",
    "    # 폴더가 없어서 에러가 발생한다면... \n",
    "    try:\n",
    "        f = open(f\"./stocks/{master[code]}.csv\", 'w', newline='')\n",
    "    except Exception as e:\n",
    "        print(e)\n",
    "        os.mkdir(\"./stocks\")\n",
    "        f = open(f\"./stocks/{master[code]}.csv\", 'w', newline='')\n",
    "    write_stock = csv.writer(f)\n",
    "    write_stock.writerows(data)\n",
    "    f.close()"
   ]
  },
  {
   "cell_type": "code",
   "execution_count": 109,
   "id": "38a578e2",
   "metadata": {},
   "outputs": [
    {
     "name": "stdout",
     "output_type": "stream",
     "text": [
      "[Errno 2] No such file or directory: './stocks/AJ네트웍스.csv'\n"
     ]
    }
   ],
   "source": [
    "# ISU_ABBRV, ISU_SRT_CD\n",
    "for x in r.json()['OutBlock_1'][:10]:\n",
    "    if x['MKT_TP_NM'] == \"KOSPI\":\n",
    "        get_naver_stock(x['ISU_SRT_CD'], \"20230102\", \"20240402\")"
   ]
  },
  {
   "cell_type": "code",
   "execution_count": 5,
   "id": "5b233cb8",
   "metadata": {},
   "outputs": [
    {
     "name": "stdout",
     "output_type": "stream",
     "text": [
      "Defaulting to user installation because normal site-packages is not writeable\n",
      "Collecting pandas\n",
      "  Downloading pandas-2.2.1-cp310-cp310-manylinux_2_17_x86_64.manylinux2014_x86_64.whl (13.0 MB)\n",
      "\u001b[2K     \u001b[90m━━━━━━━━━━━━━━━━━━━━━━━━━━━━━━━━━━━━━━━━\u001b[0m \u001b[32m13.0/13.0 MB\u001b[0m \u001b[31m29.0 MB/s\u001b[0m eta \u001b[36m0:00:00\u001b[0m00:01\u001b[0m00:01\u001b[0m\n",
      "\u001b[?25hCollecting pytz>=2020.1\n",
      "  Downloading pytz-2024.1-py2.py3-none-any.whl (505 kB)\n",
      "\u001b[2K     \u001b[90m━━━━━━━━━━━━━━━━━━━━━━━━━━━━━━━━━━━━━━\u001b[0m \u001b[32m505.5/505.5 KB\u001b[0m \u001b[31m22.3 MB/s\u001b[0m eta \u001b[36m0:00:00\u001b[0m\n",
      "\u001b[?25hCollecting numpy<2,>=1.22.4\n",
      "  Downloading numpy-1.26.4-cp310-cp310-manylinux_2_17_x86_64.manylinux2014_x86_64.whl (18.2 MB)\n",
      "\u001b[2K     \u001b[90m━━━━━━━━━━━━━━━━━━━━━━━━━━━━━━━━━━━━━━━━\u001b[0m \u001b[32m18.2/18.2 MB\u001b[0m \u001b[31m15.5 MB/s\u001b[0m eta \u001b[36m0:00:00\u001b[0m00:01\u001b[0m00:01\u001b[0m\n",
      "\u001b[?25hCollecting tzdata>=2022.7\n",
      "  Downloading tzdata-2024.1-py2.py3-none-any.whl (345 kB)\n",
      "\u001b[2K     \u001b[90m━━━━━━━━━━━━━━━━━━━━━━━━━━━━━━━━━━━━━━\u001b[0m \u001b[32m345.4/345.4 KB\u001b[0m \u001b[31m19.6 MB/s\u001b[0m eta \u001b[36m0:00:00\u001b[0m\n",
      "\u001b[?25hRequirement already satisfied: python-dateutil>=2.8.2 in /home/jotaesik/.local/lib/python3.10/site-packages (from pandas) (2.9.0.post0)\n",
      "Requirement already satisfied: six>=1.5 in /usr/lib/python3/dist-packages (from python-dateutil>=2.8.2->pandas) (1.16.0)\n",
      "Installing collected packages: pytz, tzdata, numpy, pandas\n",
      "Successfully installed numpy-1.26.4 pandas-2.2.1 pytz-2024.1 tzdata-2024.1\n",
      "Note: you may need to restart the kernel to use updated packages.\n"
     ]
    }
   ],
   "source": [
    "pip install pandas\n"
   ]
  },
  {
   "cell_type": "code",
   "execution_count": 6,
   "id": "63bfcbfc-08e0-43b8-96d9-da2cbb7f79d4",
   "metadata": {},
   "outputs": [],
   "source": [
    "import pandas as pd"
   ]
  },
  {
   "cell_type": "code",
   "execution_count": 17,
   "id": "011f9b9b-aec4-4af4-8922-cd3f682702cb",
   "metadata": {},
   "outputs": [
    {
     "data": {
      "text/html": [
       "<div>\n",
       "<style scoped>\n",
       "    .dataframe tbody tr th:only-of-type {\n",
       "        vertical-align: middle;\n",
       "    }\n",
       "\n",
       "    .dataframe tbody tr th {\n",
       "        vertical-align: top;\n",
       "    }\n",
       "\n",
       "    .dataframe thead th {\n",
       "        text-align: right;\n",
       "    }\n",
       "</style>\n",
       "<table border=\"1\" class=\"dataframe\">\n",
       "  <thead>\n",
       "    <tr style=\"text-align: right;\">\n",
       "      <th></th>\n",
       "      <th>날짜</th>\n",
       "      <th>시가</th>\n",
       "      <th>고가</th>\n",
       "      <th>저가</th>\n",
       "      <th>종가</th>\n",
       "      <th>거래량</th>\n",
       "      <th>외국인소진율</th>\n",
       "    </tr>\n",
       "  </thead>\n",
       "  <tbody>\n",
       "    <tr>\n",
       "      <th>0</th>\n",
       "      <td>20230102</td>\n",
       "      <td>18501</td>\n",
       "      <td>18788</td>\n",
       "      <td>17258</td>\n",
       "      <td>17593</td>\n",
       "      <td>126681</td>\n",
       "      <td>2.28</td>\n",
       "    </tr>\n",
       "    <tr>\n",
       "      <th>1</th>\n",
       "      <td>20230103</td>\n",
       "      <td>18119</td>\n",
       "      <td>18645</td>\n",
       "      <td>17880</td>\n",
       "      <td>18263</td>\n",
       "      <td>82413</td>\n",
       "      <td>2.21</td>\n",
       "    </tr>\n",
       "    <tr>\n",
       "      <th>2</th>\n",
       "      <td>20230104</td>\n",
       "      <td>17832</td>\n",
       "      <td>18263</td>\n",
       "      <td>17784</td>\n",
       "      <td>18024</td>\n",
       "      <td>29849</td>\n",
       "      <td>2.18</td>\n",
       "    </tr>\n",
       "    <tr>\n",
       "      <th>3</th>\n",
       "      <td>20230105</td>\n",
       "      <td>17832</td>\n",
       "      <td>18119</td>\n",
       "      <td>17497</td>\n",
       "      <td>17689</td>\n",
       "      <td>34409</td>\n",
       "      <td>2.10</td>\n",
       "    </tr>\n",
       "    <tr>\n",
       "      <th>4</th>\n",
       "      <td>20230106</td>\n",
       "      <td>17641</td>\n",
       "      <td>17975</td>\n",
       "      <td>17497</td>\n",
       "      <td>17689</td>\n",
       "      <td>24057</td>\n",
       "      <td>2.10</td>\n",
       "    </tr>\n",
       "    <tr>\n",
       "      <th>...</th>\n",
       "      <td>...</td>\n",
       "      <td>...</td>\n",
       "      <td>...</td>\n",
       "      <td>...</td>\n",
       "      <td>...</td>\n",
       "      <td>...</td>\n",
       "      <td>...</td>\n",
       "    </tr>\n",
       "    <tr>\n",
       "      <th>303</th>\n",
       "      <td>20240327</td>\n",
       "      <td>28350</td>\n",
       "      <td>30150</td>\n",
       "      <td>27950</td>\n",
       "      <td>29300</td>\n",
       "      <td>351714</td>\n",
       "      <td>4.22</td>\n",
       "    </tr>\n",
       "    <tr>\n",
       "      <th>304</th>\n",
       "      <td>20240328</td>\n",
       "      <td>29300</td>\n",
       "      <td>30500</td>\n",
       "      <td>28700</td>\n",
       "      <td>28900</td>\n",
       "      <td>227174</td>\n",
       "      <td>3.75</td>\n",
       "    </tr>\n",
       "    <tr>\n",
       "      <th>305</th>\n",
       "      <td>20240329</td>\n",
       "      <td>29300</td>\n",
       "      <td>30600</td>\n",
       "      <td>28700</td>\n",
       "      <td>28950</td>\n",
       "      <td>308343</td>\n",
       "      <td>3.41</td>\n",
       "    </tr>\n",
       "    <tr>\n",
       "      <th>306</th>\n",
       "      <td>20240401</td>\n",
       "      <td>29250</td>\n",
       "      <td>29250</td>\n",
       "      <td>27150</td>\n",
       "      <td>27500</td>\n",
       "      <td>276142</td>\n",
       "      <td>2.68</td>\n",
       "    </tr>\n",
       "    <tr>\n",
       "      <th>307</th>\n",
       "      <td>20240402</td>\n",
       "      <td>27550</td>\n",
       "      <td>27600</td>\n",
       "      <td>26800</td>\n",
       "      <td>27100</td>\n",
       "      <td>111217</td>\n",
       "      <td>2.93</td>\n",
       "    </tr>\n",
       "  </tbody>\n",
       "</table>\n",
       "<p>308 rows × 7 columns</p>\n",
       "</div>"
      ],
      "text/plain": [
       "           날짜     시가     고가     저가     종가     거래량  외국인소진율\n",
       "0    20230102  18501  18788  17258  17593  126681    2.28\n",
       "1    20230103  18119  18645  17880  18263   82413    2.21\n",
       "2    20230104  17832  18263  17784  18024   29849    2.18\n",
       "3    20230105  17832  18119  17497  17689   34409    2.10\n",
       "4    20230106  17641  17975  17497  17689   24057    2.10\n",
       "..        ...    ...    ...    ...    ...     ...     ...\n",
       "303  20240327  28350  30150  27950  29300  351714    4.22\n",
       "304  20240328  29300  30500  28700  28900  227174    3.75\n",
       "305  20240329  29300  30600  28700  28950  308343    3.41\n",
       "306  20240401  29250  29250  27150  27500  276142    2.68\n",
       "307  20240402  27550  27600  26800  27100  111217    2.93\n",
       "\n",
       "[308 rows x 7 columns]"
      ]
     },
     "execution_count": 17,
     "metadata": {},
     "output_type": "execute_result"
    }
   ],
   "source": [
    "df=pd.read_csv(\"./stocks/가온전선.csv\")\n",
    "df"
   ]
  },
  {
   "cell_type": "code",
   "execution_count": 16,
   "id": "9757b39f-93c0-4053-a630-a21d90c461c5",
   "metadata": {},
   "outputs": [
    {
     "data": {
      "text/plain": [
       "(308, 7)"
      ]
     },
     "execution_count": 16,
     "metadata": {},
     "output_type": "execute_result"
    }
   ],
   "source": [
    "#코루틴 제네레이터 클로저 데코레이터 \n",
    "df.shape #형상을보고싶다\n",
    "#형상 결측치 중복값 기술통계값"
   ]
  },
  {
   "cell_type": "code",
   "execution_count": 21,
   "id": "90c90487-ae30-40ac-817e-4cf9dffaecf5",
   "metadata": {},
   "outputs": [
    {
     "data": {
      "text/plain": [
       "array([17593, 18263, 18024, 17689, 17689, 18358, 18024, 18024, 18071,\n",
       "       18024, 17784, 17689, 17498, 17737, 17737, 17679, 17775, 17880,\n",
       "       17813, 17823, 17326, 17115, 17096, 16981, 16962, 17000, 16207,\n",
       "       15863, 15662, 15949, 15404, 15518, 15968, 16082, 15882, 15624,\n",
       "       15729, 15614, 15480, 15604, 15729, 15719, 15614, 16063, 15853,\n",
       "       15910, 15681, 15308, 15298, 15557, 15337, 15490, 15480, 15260,\n",
       "       15184, 15107, 14945, 14820, 15126, 15193, 15231, 15356, 15624,\n",
       "       15518, 15461, 15298, 15203, 14973, 15298, 15872, 16044, 16255,\n",
       "       16647, 16102, 16742, 16360, 15901, 15767, 15853, 15777, 15624,\n",
       "       15499, 15767, 15662, 15624, 15777, 16656, 16436, 16522, 16417,\n",
       "       16255, 17957, 18119, 17832, 18081, 18052, 17861, 17651, 17402,\n",
       "       17153, 17278, 17479, 17469, 17995, 18569, 18205, 18349, 18272,\n",
       "       18941, 18855, 18569, 18913, 19219, 19123, 19008, 18836, 18846,\n",
       "       18616, 18645, 19114, 18951, 18808, 19267, 19792, 20127, 19553,\n",
       "       18961, 19840, 19362, 20796, 20701, 20318, 20032, 19792, 19601,\n",
       "       19362, 20318, 19506, 19506, 22374, 19697, 20892, 21179, 21705,\n",
       "       21514, 22470, 21131, 20510, 20366, 21131, 21609, 21992, 22661,\n",
       "       22757, 23426, 21705, 20940, 21848, 21609, 21753, 21609, 21800,\n",
       "       21753, 21275, 21657, 22613, 21514, 20749, 20271, 19506, 19506,\n",
       "       19697, 19888, 19840, 19056, 18951, 19458, 19840, 19649, 19553,\n",
       "       19047, 18855, 18024, 17584, 18387, 17450, 17048, 17479, 17641,\n",
       "       18024, 18502, 18521, 18693, 18626, 18511, 15738, 15480, 15279,\n",
       "       16102, 16130, 15843, 16006, 15777, 15184, 15346, 15824, 16149,\n",
       "       16398, 16111, 15930, 16010, 16000, 15620, 16500, 16610, 16590,\n",
       "       16600, 17320, 17750, 17750, 18300, 18710, 19300, 20050, 20350,\n",
       "       21000, 22650, 21300, 20750, 21400, 21500, 22100, 22050, 23000,\n",
       "       23250, 23150, 23650, 23400, 23150, 23300, 22300, 21250, 21650,\n",
       "       20800, 21200, 20450, 20850, 20550, 21300, 21000, 20550, 19990,\n",
       "       19820, 19500, 19300, 19240, 19220, 20400, 21750, 21750, 20950,\n",
       "       20700, 26250, 25100, 23050, 22650, 22400, 22800, 23400, 23400,\n",
       "       23600, 24350, 23950, 24350, 24100, 24000, 26150, 25350, 26800,\n",
       "       25950, 25250, 26900, 25750, 24650, 25050, 24150, 24750, 27400,\n",
       "       27150, 26600, 28100, 27050, 27950, 29100, 28950, 28450, 30500,\n",
       "       29550, 28550, 29500, 28700, 28050, 28400, 29300, 28900, 28950,\n",
       "       27500, 27100])"
      ]
     },
     "execution_count": 21,
     "metadata": {},
     "output_type": "execute_result"
    }
   ],
   "source": [
    "df.iloc[1,5] #인덱스접근\n",
    "df.loc[0,\"거래량\"]\n",
    "df['종가'] #series의 데이터 이게 n게 모이면 데이터프레임\n",
    "df.iloc[0,:] #하나씩빠지면 무조건 series\n",
    "df['종가'].values"
   ]
  },
  {
   "cell_type": "code",
   "execution_count": 22,
   "id": "181f5b0a-1abd-4f44-9d70-a08924d5515c",
   "metadata": {},
   "outputs": [
    {
     "data": {
      "text/plain": [
       "numpy.ndarray"
      ]
     },
     "execution_count": 22,
     "metadata": {},
     "output_type": "execute_result"
    }
   ],
   "source": [
    "type(df['종가'].values)\n",
    "#wsl -> crontab -e \n",
    "#아파치 에어플로우\n",
    "#애어비엔비\n",
    "#buffer는 메시자 queue first in first out\n",
    "#get post 는 request 자바스크립트가 아닌경우\n",
    "#자바스크립트인데 api가 복잡=>셀리늄"
   ]
  },
  {
   "cell_type": "code",
   "execution_count": 23,
   "id": "cbd6fe2f-7fc5-4ff6-9412-88e9110f67b6",
   "metadata": {},
   "outputs": [
    {
     "name": "stdout",
     "output_type": "stream",
     "text": [
      "Defaulting to user installation because normal site-packages is not writeable\n",
      "Collecting selenium\n",
      "  Downloading selenium-4.19.0-py3-none-any.whl (10.5 MB)\n",
      "\u001b[2K     \u001b[90m━━━━━━━━━━━━━━━━━━━━━━━━━━━━━━━━━━━━━━━━\u001b[0m \u001b[32m10.5/10.5 MB\u001b[0m \u001b[31m12.8 MB/s\u001b[0m eta \u001b[36m0:00:00\u001b[0m00:01\u001b[0m0:01\u001b[0m\n",
      "\u001b[?25hCollecting trio~=0.17\n",
      "  Downloading trio-0.25.0-py3-none-any.whl (467 kB)\n",
      "\u001b[2K     \u001b[90m━━━━━━━━━━━━━━━━━━━━━━━━━━━━━━━━━━━━━━\u001b[0m \u001b[32m467.2/467.2 KB\u001b[0m \u001b[31m17.9 MB/s\u001b[0m eta \u001b[36m0:00:00\u001b[0m\n",
      "\u001b[?25hRequirement already satisfied: typing_extensions>=4.9.0 in /home/jotaesik/.local/lib/python3.10/site-packages (from selenium) (4.10.0)\n",
      "Requirement already satisfied: certifi>=2021.10.8 in /home/jotaesik/.local/lib/python3.10/site-packages (from selenium) (2024.2.2)\n",
      "Collecting trio-websocket~=0.9\n",
      "  Downloading trio_websocket-0.11.1-py3-none-any.whl (17 kB)\n",
      "Requirement already satisfied: urllib3[socks]<3,>=1.26 in /home/jotaesik/.local/lib/python3.10/site-packages (from selenium) (2.2.1)\n",
      "Collecting sortedcontainers\n",
      "  Downloading sortedcontainers-2.4.0-py2.py3-none-any.whl (29 kB)\n",
      "Collecting outcome\n",
      "  Downloading outcome-1.3.0.post0-py2.py3-none-any.whl (10 kB)\n",
      "Requirement already satisfied: attrs>=23.2.0 in /home/jotaesik/.local/lib/python3.10/site-packages (from trio~=0.17->selenium) (23.2.0)\n",
      "Requirement already satisfied: exceptiongroup in /home/jotaesik/.local/lib/python3.10/site-packages (from trio~=0.17->selenium) (1.2.0)\n",
      "Requirement already satisfied: idna in /home/jotaesik/.local/lib/python3.10/site-packages (from trio~=0.17->selenium) (3.6)\n",
      "Requirement already satisfied: sniffio>=1.3.0 in /home/jotaesik/.local/lib/python3.10/site-packages (from trio~=0.17->selenium) (1.3.1)\n",
      "Collecting wsproto>=0.14\n",
      "  Downloading wsproto-1.2.0-py3-none-any.whl (24 kB)\n",
      "Collecting pysocks!=1.5.7,<2.0,>=1.5.6\n",
      "  Downloading PySocks-1.7.1-py3-none-any.whl (16 kB)\n",
      "Requirement already satisfied: h11<1,>=0.9.0 in /home/jotaesik/.local/lib/python3.10/site-packages (from wsproto>=0.14->trio-websocket~=0.9->selenium) (0.14.0)\n",
      "Installing collected packages: sortedcontainers, wsproto, pysocks, outcome, trio, trio-websocket, selenium\n",
      "Successfully installed outcome-1.3.0.post0 pysocks-1.7.1 selenium-4.19.0 sortedcontainers-2.4.0 trio-0.25.0 trio-websocket-0.11.1 wsproto-1.2.0\n",
      "Note: you may need to restart the kernel to use updated packages.\n"
     ]
    }
   ],
   "source": [
    "pip install selenium"
   ]
  },
  {
   "cell_type": "code",
   "execution_count": null,
   "id": "a3676799-cde2-4a7b-a1c8-31399c219f28",
   "metadata": {},
   "outputs": [],
   "source": [
    "#bi비즈니스 인텔리전시 데이터 시각화 태블로"
   ]
  }
 ],
 "metadata": {
  "kernelspec": {
   "display_name": "Python 3 (ipykernel)",
   "language": "python",
   "name": "python3"
  },
  "language_info": {
   "codemirror_mode": {
    "name": "ipython",
    "version": 3
   },
   "file_extension": ".py",
   "mimetype": "text/x-python",
   "name": "python",
   "nbconvert_exporter": "python",
   "pygments_lexer": "ipython3",
   "version": "3.10.12"
  }
 },
 "nbformat": 4,
 "nbformat_minor": 5
}
