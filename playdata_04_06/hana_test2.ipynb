{
 "cells": [
  {
   "cell_type": "code",
   "execution_count": 3,
   "id": "e0f34c71-ccb1-4bc9-88e4-e4d62352ce7c",
   "metadata": {},
   "outputs": [],
   "source": [
    "from hana import get_exchange"
   ]
  },
  {
   "cell_type": "code",
   "execution_count": 5,
   "id": "cabe6284-8bee-42a2-a462-876d0d4fa1b3",
   "metadata": {},
   "outputs": [
    {
     "name": "stderr",
     "output_type": "stream",
     "text": [
      "C:\\Users\\Playdata2\\hana.py:32: FutureWarning: Passing literal html to 'read_html' is deprecated and will be removed in a future version. To read from a literal string, wrap it in a 'StringIO' object.\n",
      "  exchange = pd.read_html(r.text)[0]\n"
     ]
    },
    {
     "data": {
      "text/plain": [
       "1324.41"
      ]
     },
     "execution_count": 5,
     "metadata": {},
     "output_type": "execute_result"
    }
   ],
   "source": [
    "get_exchange(\"usd\",\"2024-04-03\")"
   ]
  }
 ],
 "metadata": {
  "kernelspec": {
   "display_name": "Python 3 (ipykernel)",
   "language": "python",
   "name": "python3"
  },
  "language_info": {
   "codemirror_mode": {
    "name": "ipython",
    "version": 3
   },
   "file_extension": ".py",
   "mimetype": "text/x-python",
   "name": "python",
   "nbconvert_exporter": "python",
   "pygments_lexer": "ipython3",
   "version": "3.9.19"
  }
 },
 "nbformat": 4,
 "nbformat_minor": 5
}
