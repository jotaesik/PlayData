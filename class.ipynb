{
 "cells": [
  {
   "cell_type": "markdown",
   "metadata": {},
   "source": [
    "# 클래스(Class)\n",
    "- class란 객체 타입을 정의하는 기능 \n",
    "- 클래스를 기반으로 생성된 객체는 인스턴스(instance)라고 부름 \n",
    "- 같은 클래스의 여러 인스턴스는 같은 특성을 가지면서 각각 독립된 상태를 유지 \n",
    "\n",
    "## class 키워드를 이용한 클래스 정의 \n",
    "\n",
    "```\n",
    "class 클래스명(베이스 클래스):\n",
    "    def 메서드명(인수1, 인수2,....):\n",
    "        메서드에서 실행할 코드 \n",
    "        return 반환값\n",
    "```\n",
    "\n",
    "- 베이스 클래스를 지정하면 지정한 베이스 클래스의 특성을 상속해 서브 클래스를 정의할 수 있음 \n",
    "- 베이스 클래스를 지정할 때는 클래스 선언문의 매개변수를 생략할 수 있으며, 생략하면 object 클래스를 상속함 \n",
    "- 메서드(method)란 클래스에 종속된 함수를 의미함 "
   ]
  },
  {
   "cell_type": "code",
   "execution_count": 6,
   "metadata": {},
   "outputs": [],
   "source": [
    "class Page:\n",
    "    def __init__(self, num, content):\n",
    "        self.num = num \n",
    "        self.content = content\n",
    "    def output(self):\n",
    "        return f'{self.content}'"
   ]
  },
  {
   "cell_type": "code",
   "execution_count": 7,
   "metadata": {},
   "outputs": [
    {
     "data": {
      "text/plain": [
       "__main__.Page"
      ]
     },
     "execution_count": 7,
     "metadata": {},
     "output_type": "execute_result"
    }
   ],
   "source": [
    "# 클래스 객체 Page가 정의됨\n",
    "Page"
   ]
  },
  {
   "cell_type": "markdown",
   "metadata": {},
   "source": [
    "# 인스턴스 만들기 \n",
    "- 클래스 이름을 호출하면 인스턴스를 생성할 수 있음 \n",
    "- 이를 인스턴스화(instantation)라고도 부름 \n",
    "- 클래스 객체에 전달되는 인수를 __init__() 메서드에게 전달하여 인스턴스 초기화에 이용 "
   ]
  },
  {
   "cell_type": "code",
   "execution_count": 8,
   "metadata": {},
   "outputs": [],
   "source": [
    "title = Page(0, \"Hi!!!\")"
   ]
  },
  {
   "cell_type": "code",
   "execution_count": 9,
   "metadata": {},
   "outputs": [
    {
     "data": {
      "text/plain": [
       "True"
      ]
     },
     "execution_count": 9,
     "metadata": {},
     "output_type": "execute_result"
    }
   ],
   "source": [
    "# isinstance를 이용하여 Page 클래스의 인스턴인지 확인\n",
    "isinstance(title, Page)"
   ]
  },
  {
   "cell_type": "code",
   "execution_count": 10,
   "metadata": {},
   "outputs": [
    {
     "data": {
      "text/plain": [
       "True"
      ]
     },
     "execution_count": 10,
     "metadata": {},
     "output_type": "execute_result"
    }
   ],
   "source": [
    "isinstance(1.0,float)"
   ]
  },
  {
   "cell_type": "code",
   "execution_count": 12,
   "metadata": {},
   "outputs": [
    {
     "data": {
      "text/plain": [
       "['__class__',\n",
       " '__delattr__',\n",
       " '__dict__',\n",
       " '__dir__',\n",
       " '__doc__',\n",
       " '__eq__',\n",
       " '__format__',\n",
       " '__ge__',\n",
       " '__getattribute__',\n",
       " '__gt__',\n",
       " '__hash__',\n",
       " '__init__',\n",
       " '__init_subclass__',\n",
       " '__le__',\n",
       " '__lt__',\n",
       " '__module__',\n",
       " '__ne__',\n",
       " '__new__',\n",
       " '__reduce__',\n",
       " '__reduce_ex__',\n",
       " '__repr__',\n",
       " '__setattr__',\n",
       " '__sizeof__',\n",
       " '__str__',\n",
       " '__subclasshook__',\n",
       " '__weakref__',\n",
       " 'content',\n",
       " 'num',\n",
       " 'output']"
      ]
     },
     "execution_count": 12,
     "metadata": {},
     "output_type": "execute_result"
    }
   ],
   "source": [
    "# dir를 사용하여 인스턴스가 가진 속성을 확인 \n",
    "dir(title)"
   ]
  },
  {
   "cell_type": "markdown",
   "metadata": {},
   "source": [
    "# 인스턴스 \n",
    "- 인스턴스는 클래스 정의의 내용에 기술된 메서드나 변수를 가지고 있음 \n",
    "- 인스턴스가 가진 메서드를 인스턴스 메서드라고 부름 \n",
    "- 인스턴스 메서드에서는 그 처리 중에 인스턴스 자신에게 접속할 수 있음 \n",
    "- 인스턴스가 가진 인스턴스 변수는 각각 인스턴스 고유의 독립 데이터임 \n",
    "\n",
    "## 인스턴스 메서드 \n",
    "- 인스턴스 메서드를 정의하는 구문은 함수 정의와 거의 같음 \n",
    "- 클래스 정의 안에 정의된 첫 번째 인수에 self를 지정하는 것 외에는 일반적인 함수와 다르지 않음 \n",
    "- 첫 번째 인수에는 반드시 인스턴스 자신의 객체를 전달해야 하므로 관례적으로 self를 사용 \n",
    "\n",
    "```\n",
    "title.output()\n",
    "```\n",
    "\n",
    "- 위의 예제에서 호출 시 인수를 전달하지 않지만, 인스턴스 메서드의 첫 번째 인수에 self에는 인스턴스 메서드를 실행한 인스턴스 객체 자신을 전달함 "
   ]
  },
  {
   "cell_type": "code",
   "execution_count": 13,
   "metadata": {},
   "outputs": [],
   "source": [
    "class Klass:\n",
    "    def some_method(self):\n",
    "        print('method')\n",
    "        \n",
    "def some_function(self):\n",
    "    print('function')\n",
    "    "
   ]
  },
  {
   "cell_type": "code",
   "execution_count": 14,
   "metadata": {},
   "outputs": [
    {
     "data": {
      "text/plain": [
       "function"
      ]
     },
     "execution_count": 14,
     "metadata": {},
     "output_type": "execute_result"
    }
   ],
   "source": [
    "type(some_function)"
   ]
  },
  {
   "cell_type": "code",
   "execution_count": 15,
   "metadata": {},
   "outputs": [
    {
     "data": {
      "text/plain": [
       "function"
      ]
     },
     "execution_count": 15,
     "metadata": {},
     "output_type": "execute_result"
    }
   ],
   "source": [
    "type(Klass.some_method)"
   ]
  },
  {
   "cell_type": "code",
   "execution_count": 16,
   "metadata": {},
   "outputs": [
    {
     "data": {
      "text/plain": [
       "method"
      ]
     },
     "execution_count": 16,
     "metadata": {},
     "output_type": "execute_result"
    }
   ],
   "source": [
    "# 인스턴스를 통해 접근하면 method 클래스가 됨 \n",
    "kls = Klass()\n",
    "type(kls.some_method)"
   ]
  },
  {
   "cell_type": "markdown",
   "metadata": {},
   "source": [
    "## 인스턴스 변수 \n",
    "- 인스턴스의 속성에 값을 대입해 인스턴스 변수를 정의할 수 있음 \n",
    "- 인스턴스 변수는 각 인스턴스가 독립적으로 가짐 \n",
    "- 아래 예시는 title에 새로운 인스턴스 변수인 section을 정의할려고 함 \n",
    "- 그러나 다른 인스턴스 first_page에 그 속성은 존재하지 않으므로 접근하려고 하면 AttributeError가 발생 "
   ]
  },
  {
   "cell_type": "code",
   "execution_count": 17,
   "metadata": {},
   "outputs": [
    {
     "name": "stdout",
     "output_type": "stream",
     "text": [
      "0\n"
     ]
    }
   ],
   "source": [
    "title.section = 0\n",
    "print (title.section)"
   ]
  },
  {
   "cell_type": "code",
   "execution_count": 18,
   "metadata": {},
   "outputs": [
    {
     "ename": "AttributeError",
     "evalue": "'Page' object has no attribute 'section'",
     "output_type": "error",
     "traceback": [
      "\u001b[0;31m---------------------------------------------------------------------------\u001b[0m",
      "\u001b[0;31mAttributeError\u001b[0m                            Traceback (most recent call last)",
      "Cell \u001b[0;32mIn[18], line 3\u001b[0m\n\u001b[1;32m      1\u001b[0m \u001b[38;5;66;03m# first_page에는 section이 없기 때문에 에러가 남 \u001b[39;00m\n\u001b[1;32m      2\u001b[0m first_page \u001b[38;5;241m=\u001b[39m Page(\u001b[38;5;241m1\u001b[39m, \u001b[38;5;124m\"\u001b[39m\u001b[38;5;124mend\u001b[39m\u001b[38;5;124m\"\u001b[39m)\n\u001b[0;32m----> 3\u001b[0m \u001b[43mfirst_page\u001b[49m\u001b[38;5;241;43m.\u001b[39;49m\u001b[43msection\u001b[49m\n",
      "\u001b[0;31mAttributeError\u001b[0m: 'Page' object has no attribute 'section'"
     ]
    }
   ],
   "source": [
    "# first_page에는 section이 없기 때문에 에러가 남 \n",
    "first_page = Page(1, \"end\")\n",
    "first_page.section"
   ]
  },
  {
   "cell_type": "markdown",
   "metadata": {},
   "source": [
    "## 인스턴스 초기화 \n",
    "### __init__() \n",
    "- 인스턴스 초기화를 수행하는 특수 메서드 \n",
    "- __init__()은 인스턴스 생성 직후에 자동으로 호출\n",
    "- 일반적인 인스턴스 메서드와  같이 첫 번째 인수에 인스턴스 자신이 전달. 또한, 인스턴스화 시에 전달된 값이 두 번째 인수 이후에 그대로 전달되므로 이 값들을 이용할 수 있음 \n",
    "- 즉, 특수 메서드 __init__()은 인스턴스의 초기화에 이용할 수 있고, 여기에서 인스턴스에 속성을 추가하면 이 클래스의 모든 인스턴스가 그 속성을 갖게 됨 "
   ]
  },
  {
   "cell_type": "code",
   "execution_count": 11,
   "metadata": {},
   "outputs": [
    {
     "data": {
      "text/plain": [
       "'Hi'"
      ]
     },
     "execution_count": 11,
     "metadata": {},
     "output_type": "execute_result"
    }
   ],
   "source": [
    "class Page:\n",
    "    def __init__(self, num, content, section=None):\n",
    "        self.num = num\n",
    "        self.content = content \n",
    "        self.section = section \n",
    "    def output(self):\n",
    "        return f\"{self.content}\"\n",
    "    \n",
    "\n",
    "# 초기화 값으로 0과 Hi라는 문자열을 넘기, section은 기본값으로 None\n",
    "title = Page(0, \"Hi\")\n",
    "title.section\n",
    "title.output()"
   ]
  },
  {
   "cell_type": "markdown",
   "metadata": {},
   "source": [
    "## 프로퍼티\n",
    "### getter\n",
    "- 인스턴스 메서드를 인스턴스 변수와 같이 다룸 \n",
    "- @property가 붙은 인스턴스 메서드가 정의되면 이 인스턴스 메서드는 ()를 붙이지 않고도 호출이 가능 \n",
    "- 아래 예제에서 book.discounts에 접근하면 실제로는 인스턴스 변수 _discounts에 저장된 값이 반환 \n",
    "- 인스턴스 변수 book.price의 값은 _discounts에 설정된 할인율이 반영된 가격이 됨 \n",
    "- 이처럼 인스턴스 메서드를 마치 인스턴스 변수처럼 다루는 기능을 property라고 부르며 @property가 붙은 메서드는 값을 얻을 때 호출되기 때문에 getter라고도 부름 \n",
    "\n",
    "### setter\n",
    "- @discounts.setter가 붙어있는 인스턴스 메서드 discounts()도 정의되어 있음 \n",
    "- 이는 setter라고 불리며 book.discounts = 20과 같이 값을 대입할 때 호출 \n",
    "- 메서드 이름에는 @property를 붙인 메서드명을 그대로 이용해야 함 "
   ]
  },
  {
   "cell_type": "code",
   "execution_count": 19,
   "metadata": {},
   "outputs": [],
   "source": [
    "class Book:\n",
    "    def __init__(self, raw_price):\n",
    "        if raw_price < 0 :\n",
    "            raise ValueError('price must be positive') #의도적으로 ERROR를 만듬\n",
    "        self.raw_price = raw_price\n",
    "        self._discounts = 0\n",
    "        \n",
    "    @property #getter의 역할\n",
    "    def discounts(self):\n",
    "        return self._discounts\n",
    "    \n",
    "    @discounts.setter #setter의역할\n",
    "    def discounts(self, value):\n",
    "        if value < 0 or 100 < value: \n",
    "            raise ValueError('discounts must be between 0 and 100')\n",
    "        self._discounts = value \n",
    "        \n",
    "    @property\n",
    "    def price(self):\n",
    "        multi = 100 - self._discounts \n",
    "        return int(self.raw_price * multi / 100)"
   ]
  },
  {
   "cell_type": "code",
   "execution_count": 20,
   "metadata": {},
   "outputs": [
    {
     "ename": "ValueError",
     "evalue": "price must be positive",
     "output_type": "error",
     "traceback": [
      "\u001b[0;31m---------------------------------------------------------------------------\u001b[0m",
      "\u001b[0;31mValueError\u001b[0m                                Traceback (most recent call last)",
      "Cell \u001b[0;32mIn[20], line 1\u001b[0m\n\u001b[0;32m----> 1\u001b[0m a\u001b[38;5;241m=\u001b[39m\u001b[43mBook\u001b[49m\u001b[43m(\u001b[49m\u001b[38;5;241;43m-\u001b[39;49m\u001b[38;5;241;43m1\u001b[39;49m\u001b[43m)\u001b[49m\n",
      "Cell \u001b[0;32mIn[19], line 4\u001b[0m, in \u001b[0;36mBook.__init__\u001b[0;34m(self, raw_price)\u001b[0m\n\u001b[1;32m      2\u001b[0m \u001b[38;5;28;01mdef\u001b[39;00m \u001b[38;5;21m__init__\u001b[39m(\u001b[38;5;28mself\u001b[39m, raw_price):\n\u001b[1;32m      3\u001b[0m     \u001b[38;5;28;01mif\u001b[39;00m raw_price \u001b[38;5;241m<\u001b[39m \u001b[38;5;241m0\u001b[39m :\n\u001b[0;32m----> 4\u001b[0m         \u001b[38;5;28;01mraise\u001b[39;00m \u001b[38;5;167;01mValueError\u001b[39;00m(\u001b[38;5;124m'\u001b[39m\u001b[38;5;124mprice must be positive\u001b[39m\u001b[38;5;124m'\u001b[39m) \u001b[38;5;66;03m#의도적으로 ERROR를 만듬\u001b[39;00m\n\u001b[1;32m      5\u001b[0m     \u001b[38;5;28mself\u001b[39m\u001b[38;5;241m.\u001b[39mraw_price \u001b[38;5;241m=\u001b[39m raw_price\n\u001b[1;32m      6\u001b[0m     \u001b[38;5;28mself\u001b[39m\u001b[38;5;241m.\u001b[39m_discounts \u001b[38;5;241m=\u001b[39m \u001b[38;5;241m0\u001b[39m\n",
      "\u001b[0;31mValueError\u001b[0m: price must be positive"
     ]
    }
   ],
   "source": [
    "a=Book(-1)"
   ]
  },
  {
   "cell_type": "code",
   "execution_count": 21,
   "metadata": {},
   "outputs": [
    {
     "data": {
      "text/plain": [
       "0"
      ]
     },
     "execution_count": 21,
     "metadata": {},
     "output_type": "execute_result"
    }
   ],
   "source": [
    "book = Book(2000)\n",
    "book.discounts"
   ]
  },
  {
   "cell_type": "code",
   "execution_count": 24,
   "metadata": {},
   "outputs": [
    {
     "data": {
      "text/plain": [
       "2000"
      ]
     },
     "execution_count": 24,
     "metadata": {},
     "output_type": "execute_result"
    }
   ],
   "source": [
    "book.price"
   ]
  },
  {
   "cell_type": "code",
   "execution_count": 14,
   "metadata": {},
   "outputs": [
    {
     "data": {
      "text/plain": [
       "1600"
      ]
     },
     "execution_count": 14,
     "metadata": {},
     "output_type": "execute_result"
    }
   ],
   "source": [
    "book.discounts = 20\n",
    "book.price"
   ]
  },
  {
   "cell_type": "code",
   "execution_count": 15,
   "metadata": {},
   "outputs": [
    {
     "ename": "AttributeError",
     "evalue": "can't set attribute",
     "output_type": "error",
     "traceback": [
      "\u001b[1;31m---------------------------------------------------------------------------\u001b[0m",
      "\u001b[1;31mAttributeError\u001b[0m                            Traceback (most recent call last)",
      "\u001b[1;32m~\\AppData\\Local\\Temp\\ipykernel_13084\\696038091.py\u001b[0m in \u001b[0;36m<module>\u001b[1;34m\u001b[0m\n\u001b[0;32m      1\u001b[0m \u001b[1;31m# price.setter가 붙은 인스턴스 메서드가 정의되어 있지 않아 오류가 발생\u001b[0m\u001b[1;33m\u001b[0m\u001b[1;33m\u001b[0m\u001b[0m\n\u001b[1;32m----> 2\u001b[1;33m \u001b[0mbook\u001b[0m\u001b[1;33m.\u001b[0m\u001b[0mprice\u001b[0m \u001b[1;33m=\u001b[0m \u001b[1;36m100\u001b[0m\u001b[1;33m\u001b[0m\u001b[1;33m\u001b[0m\u001b[0m\n\u001b[0m",
      "\u001b[1;31mAttributeError\u001b[0m: can't set attribute"
     ]
    }
   ],
   "source": [
    "# price.setter가 붙은 인스턴스 메서드가 정의되어 있지 않아 오류가 발생 \n",
    "book.price = 100"
   ]
  },
  {
   "cell_type": "markdown",
   "metadata": {},
   "source": [
    "# 클래스와 인스턴스의 프라이빗 속성 \n",
    "## 언더스코어\n",
    "- 언더스코어(_)를 붙인 인스턴스 변수명 _discount를 이용 \n",
    "- 앞 문자에 _를 붙인 이유는 인스턴스 변수 _discount가 클래스나 인스턴스 사용자에게는 공개할 필요 없는 내부용 프라이빗 변수이기 때문임 \n",
    "- 즉 언드스코어로 시작하는 변수나 메서드는 속성이 프라이빗 속성임을 표현\n",
    "- 파이썬은 다른 언어처럼 프라이빗 속성을 강제로 할 수는 없음 \n",
    "\n",
    "## 더블언더스코어 \n",
    "- 속성 앞 문자에 언더스코어를 두개 붙이면 이름 수식을 실행 \n",
    "- 이름 수식이란 아래 예제처럼 사용자가 만든 클래스의 변수를 변환하는데 이는 서브 클래스에서의 이름이 충돌나는 것을 방지하기 위해 사용합니다. "
   ]
  },
  {
   "cell_type": "code",
   "execution_count": 16,
   "metadata": {},
   "outputs": [],
   "source": [
    "class Klass:\n",
    "    def __init__(self, x):\n",
    "        self.__x = x "
   ]
  },
  {
   "cell_type": "code",
   "execution_count": 17,
   "metadata": {},
   "outputs": [],
   "source": [
    "kls = Klass(10)"
   ]
  },
  {
   "cell_type": "code",
   "execution_count": 19,
   "metadata": {},
   "outputs": [
    {
     "data": {
      "text/plain": [
       "10"
      ]
     },
     "execution_count": 19,
     "metadata": {},
     "output_type": "execute_result"
    }
   ],
   "source": [
    "kls._Klass__x"
   ]
  },
  {
   "cell_type": "code",
   "execution_count": 18,
   "metadata": {},
   "outputs": [
    {
     "data": {
      "text/plain": [
       "['_Klass__x',\n",
       " '__class__',\n",
       " '__delattr__',\n",
       " '__dict__',\n",
       " '__dir__',\n",
       " '__doc__',\n",
       " '__eq__',\n",
       " '__format__',\n",
       " '__ge__',\n",
       " '__getattribute__',\n",
       " '__gt__',\n",
       " '__hash__',\n",
       " '__init__',\n",
       " '__init_subclass__',\n",
       " '__le__',\n",
       " '__lt__',\n",
       " '__module__',\n",
       " '__ne__',\n",
       " '__new__',\n",
       " '__reduce__',\n",
       " '__reduce_ex__',\n",
       " '__repr__',\n",
       " '__setattr__',\n",
       " '__sizeof__',\n",
       " '__str__',\n",
       " '__subclasshook__',\n",
       " '__weakref__']"
      ]
     },
     "execution_count": 18,
     "metadata": {},
     "output_type": "execute_result"
    }
   ],
   "source": [
    "dir(kls)"
   ]
  },
  {
   "cell_type": "markdown",
   "metadata": {},
   "source": [
    "# 클래스 \n",
    "- 인스턴스의 모형이 되는 객체 \n",
    "- 클래스는 인스턴스를 만들기 위한 모형 \n",
    "- 클래스에서 정의하는 것은 인스턴스 변수나 인스턴스 메서드뿐만 아니라 클래스 변수나 클래스 메서드도 클래스의 일부로 정의\n",
    "- 클래스 변수나 클래스 메서드는 클래스 객체의 속성이기 때문에 인스턴스가 없이도 이용할 수 있음 \n",
    "\n",
    "## 클래스 변수 \n",
    "- 클래스 객체에 속한 변수로 클래스 객체에서 참조할 수 있음 \n",
    "- 또한, 인스턴스 변수와 마찬가지로 그 클래스의 인스턴스에서도 클래스 변수를 참조할 수 있음 \n",
    "- 단 인스턴스 변수와 달리 해당 클래스의 모든 인스턴스에서 같은 변수를 공유 \n",
    "- 클래스 변수는 클래스 정의의 최상위에 변수를 정의해 만들수 있음 "
   ]
  },
  {
   "cell_type": "code",
   "execution_count": 20,
   "metadata": {},
   "outputs": [],
   "source": [
    "class Page:\n",
    "    book_title = \"Python Book\""
   ]
  },
  {
   "cell_type": "code",
   "execution_count": 21,
   "metadata": {},
   "outputs": [
    {
     "data": {
      "text/plain": [
       "'Python Book'"
      ]
     },
     "execution_count": 21,
     "metadata": {},
     "output_type": "execute_result"
    }
   ],
   "source": [
    "Page.book_title"
   ]
  },
  {
   "cell_type": "code",
   "execution_count": 22,
   "metadata": {},
   "outputs": [],
   "source": [
    "# 변수 업데이트\n",
    "Page.book_title = \"R\""
   ]
  },
  {
   "cell_type": "code",
   "execution_count": 23,
   "metadata": {},
   "outputs": [
    {
     "data": {
      "text/plain": [
       "'R'"
      ]
     },
     "execution_count": 23,
     "metadata": {},
     "output_type": "execute_result"
    }
   ],
   "source": [
    "Page.book_title"
   ]
  },
  {
   "cell_type": "markdown",
   "metadata": {},
   "source": [
    "- 클래스 변수는 클래스 객체뿐만 아니라 인스턴스에서도 참조할 수 있음 "
   ]
  },
  {
   "cell_type": "code",
   "execution_count": 24,
   "metadata": {},
   "outputs": [],
   "source": [
    "first_page = Page()\n",
    "second_page = Page()"
   ]
  },
  {
   "cell_type": "code",
   "execution_count": 25,
   "metadata": {},
   "outputs": [
    {
     "data": {
      "text/plain": [
       "'R'"
      ]
     },
     "execution_count": 25,
     "metadata": {},
     "output_type": "execute_result"
    }
   ],
   "source": [
    "first_page.book_title"
   ]
  },
  {
   "cell_type": "markdown",
   "metadata": {},
   "source": [
    "- 클래스 변수를 변경할 때는 주의해야 하는 점이 클래스 변수를 변경하고 싶을 때는 반드시 클래스 객체를 통해 대입 "
   ]
  },
  {
   "cell_type": "code",
   "execution_count": 26,
   "metadata": {},
   "outputs": [],
   "source": [
    "Page.book_title = \"R book\""
   ]
  },
  {
   "cell_type": "code",
   "execution_count": 27,
   "metadata": {},
   "outputs": [
    {
     "data": {
      "text/plain": [
       "'R book'"
      ]
     },
     "execution_count": 27,
     "metadata": {},
     "output_type": "execute_result"
    }
   ],
   "source": [
    "first_page.book_title"
   ]
  },
  {
   "cell_type": "markdown",
   "metadata": {},
   "source": [
    "- 만약 인스턴스를 통해 대입하면 클래스 변수가 변경되지는 않음 \n",
    "- 그 인스턴스에만 존재하는 새로운 인스턴스 변수가 됨 "
   ]
  },
  {
   "cell_type": "code",
   "execution_count": 28,
   "metadata": {},
   "outputs": [
    {
     "data": {
      "text/plain": [
       "'C book'"
      ]
     },
     "execution_count": 28,
     "metadata": {},
     "output_type": "execute_result"
    }
   ],
   "source": [
    "# 인스턴스 변수 \n",
    "first_page.book_title = \"C book\"\n",
    "first_page.book_title"
   ]
  },
  {
   "cell_type": "code",
   "execution_count": 29,
   "metadata": {},
   "outputs": [
    {
     "data": {
      "text/plain": [
       "'R book'"
      ]
     },
     "execution_count": 29,
     "metadata": {},
     "output_type": "execute_result"
    }
   ],
   "source": [
    "Page.book_title"
   ]
  },
  {
   "cell_type": "code",
   "execution_count": 30,
   "metadata": {},
   "outputs": [],
   "source": [
    "# 인스턴스 변수 삭제 \n",
    "del first_page.book_title"
   ]
  },
  {
   "cell_type": "code",
   "execution_count": 31,
   "metadata": {},
   "outputs": [
    {
     "data": {
      "text/plain": [
       "'R book'"
      ]
     },
     "execution_count": 31,
     "metadata": {},
     "output_type": "execute_result"
    }
   ],
   "source": [
    "first_page.book_title"
   ]
  },
  {
   "cell_type": "markdown",
   "metadata": {},
   "source": [
    "- 클래스 변수와 같은 이름의 인스턴스 변수를 정의하면 그 인스턴스의 속성을 사용해 클래스 변수에 접근할 수 없음 \n",
    "- 이는 클래스 객체의 속성보다 먼저 인스턴스 객체의 속성이 검색되기 때문임\n",
    "\n",
    "# 클래스 메서드\n",
    "- 클래스 메서드는 클래스에 속한 메서드로, 첫 번째 인수에 클래스 객체를 전달 \n",
    "- 클래스 메서드는 @classmethod를 붙이는 점 이외에는 인스턴스 메서드와 동일한 형태로 정의 \n",
    "- 단 첫번째 인수가 클래스 객체이므로 일반적으로 self가 아니라 cls라고 기술함 "
   ]
  },
  {
   "cell_type": "code",
   "execution_count": 32,
   "metadata": {},
   "outputs": [],
   "source": [
    "# 속성을 이용한 정렬에 사용할 수 있는 표준 라이브러리 임포트 \n",
    "from operator import attrgetter\n",
    "\n",
    "class Page:\n",
    "    book_title = \"Python book\"\n",
    "    def __init__(self, num, content, section=None):\n",
    "        self.num = num\n",
    "        self.content = content \n",
    "        self.section = section \n",
    "    def output(self):\n",
    "        return f\"{self.content}\"\n",
    "    # 클래스 메서드의 첫 번째 인수는 클래스 객체 \n",
    "    @classmethod\n",
    "    def print_pages(cls, *pages):\n",
    "        # 클래스 객체 이용 \n",
    "        print(cls.book_title)\n",
    "        # 정렬출력 \n",
    "        for page in sorted(pages, key=attrgetter('num')):\n",
    "            print(page.output())"
   ]
  },
  {
   "cell_type": "code",
   "execution_count": 33,
   "metadata": {},
   "outputs": [],
   "source": [
    "first = Page(1, \"first page\")\n",
    "second = Page(2, 'second page')\n",
    "third = Page(3, 'third page')"
   ]
  },
  {
   "cell_type": "code",
   "execution_count": 34,
   "metadata": {},
   "outputs": [
    {
     "name": "stdout",
     "output_type": "stream",
     "text": [
      "Python book\n",
      "first page\n",
      "second page\n",
      "third page\n"
     ]
    }
   ],
   "source": [
    "Page.print_pages(first, third, second)"
   ]
  },
  {
   "cell_type": "code",
   "execution_count": 28,
   "metadata": {},
   "outputs": [
    {
     "name": "stdout",
     "output_type": "stream",
     "text": [
      "Python book\n",
      "first page\n",
      "second page\n",
      "third page\n"
     ]
    }
   ],
   "source": [
    "first.print_pages(first, third, second)"
   ]
  },
  {
   "cell_type": "code",
   "execution_count": null,
   "metadata": {},
   "outputs": [],
   "source": []
  },
  {
   "cell_type": "markdown",
   "metadata": {},
   "source": [
    "### 스택틱 메서드 \n",
    "- 함수처럼 동작하는 메서드 \n",
    "- 클래스 메서드와 거의 같은 구문으로 @staticmethod를 사용해 만들 수 있음 \n",
    "- 스태틱 메서드의 인수에는 인스턴스나 클래스 객체는 전달되지 않고, 호출 시 전달한 값이 그대로 전달 \n",
    "- 즉 스태틱 메서드는 단순한 함수와 같음 "
   ]
  },
  {
   "cell_type": "code",
   "execution_count": 30,
   "metadata": {},
   "outputs": [],
   "source": [
    "class Page:\n",
    "    def __init__(self, num, content, section=None):\n",
    "        self.num = num\n",
    "        self.content = content \n",
    "        self.section = section \n",
    "    @staticmethod\n",
    "    def check_blank(page):\n",
    "        return bool(page.content)"
   ]
  },
  {
   "cell_type": "markdown",
   "metadata": {},
   "source": [
    "# 클래스 상속\n",
    "- 베이스 클래스(부모)의 속성을 상속 받는 개념 \n",
    "- 오버라이드 : 부모 클래스가 가진 메서드와 같은 이름의 메서드를 다시 정의 \n",
    "- super() : 부모의 클래스의 메서드를 호출"
   ]
  },
  {
   "cell_type": "code",
   "execution_count": 38,
   "metadata": {},
   "outputs": [],
   "source": [
    "class Page:\n",
    "    def __init__(self, num, content):\n",
    "        self.num = num \n",
    "        self.content = content\n",
    "    def output(self):\n",
    "        return f'{self.content}'\n",
    "    \n",
    "class TitlePage(Page):\n",
    "    def output(self):\n",
    "        title = super().output()\n",
    "        return title.upper()"
   ]
  },
  {
   "cell_type": "code",
   "execution_count": 39,
   "metadata": {},
   "outputs": [],
   "source": [
    "title = TitlePage(0, 'Python book')"
   ]
  },
  {
   "cell_type": "code",
   "execution_count": 40,
   "metadata": {},
   "outputs": [
    {
     "data": {
      "text/plain": [
       "'PYTHON BOOK'"
      ]
     },
     "execution_count": 40,
     "metadata": {},
     "output_type": "execute_result"
    }
   ],
   "source": [
    "title.output()"
   ]
  },
  {
   "cell_type": "markdown",
   "metadata": {},
   "source": [
    "# 다중 상속 \n",
    "- 여러 부모 클래스한테 상속 받습니다. "
   ]
  },
  {
   "cell_type": "code",
   "execution_count": 41,
   "metadata": {},
   "outputs": [],
   "source": [
    "class HTMLPageMixin:\n",
    "    def to_html(self):\n",
    "        return f'<html>{self.output()}<html>'\n",
    "    \n",
    "class WebPage(Page, HTMLPageMixin):\n",
    "    pass"
   ]
  },
  {
   "cell_type": "code",
   "execution_count": 43,
   "metadata": {},
   "outputs": [],
   "source": [
    "page = WebPage(0, 'web content')"
   ]
  },
  {
   "cell_type": "code",
   "execution_count": 44,
   "metadata": {},
   "outputs": [
    {
     "data": {
      "text/plain": [
       "'<html>web content<html>'"
      ]
     },
     "execution_count": 44,
     "metadata": {},
     "output_type": "execute_result"
    }
   ],
   "source": [
    "page.to_html()"
   ]
  },
  {
   "attachments": {
    "f1b489ef-2323-4796-a26a-710f456959d3.png": {
     "image/png": "[encoded data removed]"
    }
   },
   "cell_type": "markdown",
   "metadata": {},
   "source": [
    "![image.png](attachment:f1b489ef-2323-4796-a26a-710f456959d3.png)"
   ]
  },
  {
   "cell_type": "code",
   "execution_count": null,
   "metadata": {},
   "outputs": [],
   "source": []
  }
 ],
 "metadata": {
  "kernelspec": {
   "display_name": "Python 3 (ipykernel)",
   "language": "python",
   "name": "python3"
  },
  "language_info": {
   "codemirror_mode": {
    "name": "ipython",
    "version": 3
   },
   "file_extension": ".py",
   "mimetype": "text/x-python",
   "name": "python",
   "nbconvert_exporter": "python",
   "pygments_lexer": "ipython3",
   "version": "3.10.12"
  }
 },
 "nbformat": 4,
 "nbformat_minor": 4
}
