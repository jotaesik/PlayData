{
 "cells": [
  {
   "cell_type": "code",
   "execution_count": 9,
   "id": "b59dc88b-280c-4753-8aa1-625464681c77",
   "metadata": {},
   "outputs": [
    {
     "data": {
      "text/plain": [
       "['경기도',\n",
       " '서울특별시',\n",
       " '경상남도',\n",
       " '부산광역시',\n",
       " '인천광역시',\n",
       " '충청남도',\n",
       " '경상북도',\n",
       " '강원도',\n",
       " '충청북도',\n",
       " '제주특별자치도',\n",
       " '대구광역시',\n",
       " '전라북도',\n",
       " '전라남도',\n",
       " '대전광역시',\n",
       " '광주광역시',\n",
       " '울산광역시',\n",
       " '세종특별자치시',\n",
       " '강원특별자치도']"
      ]
     },
     "execution_count": 9,
     "metadata": {},
     "output_type": "execute_result"
    }
   ],
   "source": [
    "#cu\n",
    "import requests\n",
    "from bs4 import BeautifulSoup as BS\n",
    "r=requests.get(\"https://cu.bgfretail.com/store/list.do?category=store\")\n",
    "bs=BS(r.text)\n",
    "sido = [x.text for x in bs.find(\"select\", id=\"sido\") if x.text !=\"\\n\" and len(x.text)>2]\n",
    "# cu_url=\"https://cu.bgfretail.com/store/GugunList.do\"\n",
    "# cu_paylord\n"
   ]
  },
  {
   "cell_type": "code",
   "execution_count": null,
   "id": "b47ee674-80ee-40fc-9450-f53eea27689e",
   "metadata": {},
   "outputs": [],
   "source": [
    "cu_gun=\"https://cu.bgfretail.com/store/GugunList.do\"\n"
   ]
  }
 ],
 "metadata": {
  "kernelspec": {
   "display_name": "Python 3 (ipykernel)",
   "language": "python",
   "name": "python3"
  },
  "language_info": {
   "codemirror_mode": {
    "name": "ipython",
    "version": 3
   },
   "file_extension": ".py",
   "mimetype": "text/x-python",
   "name": "python",
   "nbconvert_exporter": "python",
   "pygments_lexer": "ipython3",
   "version": "3.10.12"
  }
 },
 "nbformat": 4,
 "nbformat_minor": 5
}
