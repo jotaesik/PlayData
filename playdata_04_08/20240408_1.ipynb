{
 "cells": [
  {
   "cell_type": "code",
   "execution_count": 33,
   "id": "6267d6e2-0482-454d-906f-92491b30d470",
   "metadata": {},
   "outputs": [],
   "source": [
    "import zipfile\n",
    "import os \n",
    "import pandas as pd\n",
    "import shutil"
   ]
  },
  {
   "cell_type": "code",
   "execution_count": null,
   "id": "0c9b4b60-a02f-4b4f-a459-4fa88df5cd1b",
   "metadata": {},
   "outputs": [],
   "source": [
    "with zipfile.Zipfile(\"./이름_생년_성별_10000.zip\", \"r\") as f:\n",
    "    f.extractall('./data/')"
   ]
  },
  {
   "cell_type": "code",
   "execution_count": 12,
   "id": "d4b74d09-1082-4333-b0c8-948a37ffbb6e",
   "metadata": {
    "scrolled": true
   },
   "outputs": [
    {
     "data": {
      "text/plain": [
       "'3'"
      ]
     },
     "execution_count": 12,
     "metadata": {},
     "output_type": "execute_result"
    }
   ],
   "source": [
    "gender = os.listdir(\"./data\")[0].split(\"_\")[-1][0] "
   ]
  },
  {
   "cell_type": "code",
   "execution_count": 18,
   "id": "3a0cc32c-f5de-4dab-b616-f4383d12005f",
   "metadata": {},
   "outputs": [
    {
     "data": {
      "text/plain": [
       "'┴ñ┐╣┴╓_19880710_2xxxxxx.txt'"
      ]
     },
     "execution_count": 18,
     "metadata": {},
     "output_type": "execute_result"
    }
   ],
   "source": [
    "file"
   ]
  },
  {
   "cell_type": "code",
   "execution_count": 35,
   "id": "50104b06-5f25-45d5-a767-88ee5ffc1086",
   "metadata": {
    "scrolled": true
   },
   "outputs": [],
   "source": [
    "male_list = []\n",
    "female_list = list()\n",
    "\n",
    "if not os.path.isdir(\"./남성\"):\n",
    "    os.mkdir(\"./남성\")\n",
    "if os.path.isdir(\"./여성\")  == False:\n",
    "    os.mkdir(\"./여성\")\n",
    "    \n",
    "for file in os.listdir(\"./data\"):\n",
    "    gender = file.split(\"_\")[-1][0]\n",
    "    #if gender == '1' or gender == '3':\n",
    "    #    print(gender)\n",
    "    if gender in ['1', '3']:\n",
    "        #print(\"남성\", end= \" ,\")\n",
    "        with open(f\"./data/{file}\", 'r', encoding='utf-8') as f:\n",
    "            male_list.append(['남성', f.read().replace(\",\",\"\")])\n",
    "        shutil.move(f\"./data/{file}\", f\"./남성/{file}\")\n",
    "    else:\n",
    "        #print(\"여성\", end=' ,')\n",
    "        with open(f\"./data/{file}\", 'r', encoding='utf-8') as f:\n",
    "            female_list.append(['여성', f.read().replace(\",\",\"\")])\n",
    "        shutil.move(f\"./data/{file}\", f\"./여성/{file}\")"
   ]
  },
  {
   "cell_type": "code",
   "execution_count": null,
   "id": "4cbf55f0-4b18-4a06-b16b-d8d58b238557",
   "metadata": {},
   "outputs": [],
   "source": []
  },
  {
   "cell_type": "code",
   "execution_count": null,
   "id": "f779d131-791f-4b65-828b-e8a1881283f6",
   "metadata": {},
   "outputs": [],
   "source": [
    "pd.concat([pd.DataFrame(female_list, columns=['성별', '금액']), \\\n",
    " pd.DataFrame(male_list, columns=['성별', '금액'])]).groupby(['성별'])['금액'].mean()"
   ]
  },
  {
   "cell_type": "code",
   "execution_count": null,
   "id": "cba25544-6fb7-4778-927d-27b067d4d7ff",
   "metadata": {},
   "outputs": [],
   "source": []
  }
 ],
 "metadata": {
  "kernelspec": {
   "display_name": "Python 3 (ipykernel)",
   "language": "python",
   "name": "python3"
  },
  "language_info": {
   "codemirror_mode": {
    "name": "ipython",
    "version": 3
   },
   "file_extension": ".py",
   "mimetype": "text/x-python",
   "name": "python",
   "nbconvert_exporter": "python",
   "pygments_lexer": "ipython3",
   "version": "3.10.12"
  }
 },
 "nbformat": 4,
 "nbformat_minor": 5
}
