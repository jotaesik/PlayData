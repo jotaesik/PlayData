{
 "cells": [
  {
   "cell_type": "code",
   "execution_count": 3,
   "id": "4baf5a06-e080-47ed-addb-b88ad57227f6",
   "metadata": {},
   "outputs": [
    {
     "name": "stdout",
     "output_type": "stream",
     "text": [
      "hour\n",
      "coffee\n",
      "cash\n"
     ]
    }
   ],
   "source": [
    "import requests \n",
    "import zipfile\n",
    "import os \n",
    "import pandas as pd\n",
    "import shutil\n",
    "from tqdm import tqdm\n",
    "from bs4 import BeautifulSoup as BS \n",
    "r= requests.get(\"https://cu.bgfretail.com/store/list.do?category=store#\")\n",
    "bs = BS(r.text)\n",
    "sido = [x.text for x in bs.find(\"select\", id=\"sido\") if x.text != '\\n' ][1:]\n",
    "cu_gugunurl = \"https://cu.bgfretail.com/store/GugunList.do\"\n",
    "payload = {\"pageIndex\" : \"1\",\n",
    "\"listType\" : \"\",\n",
    "\"jumpoCode\" : \"\",\n",
    "\"jumpoLotto\" : \"\",\n",
    "\"jumpoToto\" : \"\",\n",
    "\"jumpoCash\" : \"\",\n",
    "\"jumpoHour\" : \"\",\n",
    "\"jumpoCafe\" : \"\",\n",
    "\"jumpoDelivery\" : \"\",\n",
    "\"jumpoBakery\" : \"\",\n",
    "\"jumpoFry\" : \"\",\n",
    "\"jumpoMultiDevice\" : \"\",\n",
    "\"jumpoPosCash\" : \"\",\n",
    "\"jumpoBattery\" : \"\",\n",
    "\"jumpoAdderss\" : \"\",\n",
    "\"jumpoSido\" : \"서울특별시\",\n",
    "\"jumpoGugun\" : \"\",\n",
    "\"jumpodong\" : \"\",\n",
    "\"user_id\" : \"\",\n",
    "\"sido\" : \"서울특별시\",\n",
    "\"Gugun\" : \"\",\n",
    "\"jumpoName\" : \"\",}\n",
    "gugun_r = requests.post(cu_gugunurl, data=payload)\n",
    "[x['CODE_NAME'] for x in gugun_r.json()['GugunList']]\n",
    "cu_dong_url  = \"https://cu.bgfretail.com/store/DongList.do\"\n",
    "dong_payload= {\"pageIndex\": \"1\",\n",
    "\"listType\": \"\",\n",
    "\"jumpoCode\": \"\",\n",
    "\"jumpoLotto\": \"\",\n",
    "\"jumpoToto\": \"\",\n",
    "\"jumpoCash\": \"\",\n",
    "\"jumpoHour\": \"\",\n",
    "\"jumpoCafe\": \"\",\n",
    "\"jumpoDelivery\": \"\",\n",
    "\"jumpoBakery\": \"\",\n",
    "\"jumpoFry\": \"\",\n",
    "\"jumpoMultiDevice\": \"\",\n",
    "\"jumpoPosCash\": \"\",\n",
    "\"jumpoBattery\": \"\",\n",
    "\"jumpoAdderss\": \"\",\n",
    "\"jumpoSido\": \"서울특별시\",\n",
    "\"jumpoGugun\": \"강남구\",\n",
    "\"jumpodong\": \"\",\n",
    "\"user_id\": \"\",\n",
    "\"sido\": \"서울특별시\",\n",
    "\"Gugun\": \"강남구\",\n",
    "\"jumpoName\": \"\",}\n",
    "[x['CODE_NAME'] for x in requests.post(cu_dong_url, data=dong_payload).json()['GugunList']]\n",
    "target_payload = {\"pageIndex\" : \"7\",\n",
    "\"listType\" : \"\",\n",
    "\"jumpoCode\" : \"\",\n",
    "\"jumpoLotto\" : \"\",\n",
    "\"jumpoToto\" : \"\",\n",
    "\"jumpoCash\" : \"\",\n",
    "\"jumpoHour\" : \"\",\n",
    "\"jumpoCafe\" : \"\",\n",
    "\"jumpoDelivery\" : \"\",\n",
    "\"jumpoBakery\" : \"\",\n",
    "\"jumpoFry\" : \"\",\n",
    "\"jumpoMultiDevice\" : \"\",\n",
    "\"jumpoPosCash\" : \"\",\n",
    "\"jumpoBattery\" : \"\",\n",
    "\"jumpoAdderss\" : \"\",\n",
    "\"jumpoSido\" : \"서울특별시\",\n",
    "\"jumpoGugun\" : \"강남구\",\n",
    "\"jumpodong\" : \"논현동\",\n",
    "\"user_id\" : \"\",\n",
    "\"sido\" : \"서울특별시\",\n",
    "\"Gugun\" : \"강남구\",\n",
    "\"jumpoName\" : \"\",}\n",
    "target_url = \"https://cu.bgfretail.com/store/list_Ajax.do\"\n",
    "import warnings\n",
    "warnings.filterwarnings(action='ignore')\n",
    "pd.read_html(requests.post(target_url, data=target_payload).text)[0]\n",
    "target_bs = BS(requests.post(target_url, data=target_payload).text)\n",
    "rt = target_bs.find(\"table\", {'summary' : '매장 상세 정보'}).findAll(\"tr\")\n",
    "rt[0]\n",
    "rt[1].findAll(\"td\")[0].text.strip()\n",
    "rt[1].findAll(\"td\")[1].find(\"address\").text\n",
    "rt[1].findAll(\"td\")[1].findAll(\"img\")[0]['src'].split(\"/\")[-1].split(\"_\")[-1].replace(\".png\", \"\")\n",
    "import re\n",
    "p = re.compile(\"sevice[0-9]{2} on\")\n",
    "for x in rt[1].findAll(\"td\")[1].findAll(\"li\", {\"class\" : re.compile(\"sevice[0-9]{2} on\")}):\n",
    "    print(x.find(\"img\")['src'].split(\"/\")[-1].split(\"_\")[-1].replace(\".png\", \"\"))\n",
    "# for x in rt[1].findAll(\"td\")[1].findAll(\"img\"):\n",
    "#     print(x['src'].split(\"/\")[-1].split(\"_\")[-1].replace(\".png\", \"\"))    "
   ]
  },
  {
   "cell_type": "code",
   "execution_count": 4,
   "id": "bb0a169d-2bcf-43a6-9ee5-a2551d8c9590",
   "metadata": {},
   "outputs": [
    {
     "data": {
      "text/plain": [
       "'신사렉스점 025406103'"
      ]
     },
     "execution_count": 4,
     "metadata": {},
     "output_type": "execute_result"
    }
   ],
   "source": [
    "rt[1].findAll(\"td\")[0].text.strip()"
   ]
  },
  {
   "cell_type": "code",
   "execution_count": 5,
   "id": "8d9336b7-77a7-4a84-913b-d708b823dca2",
   "metadata": {},
   "outputs": [
    {
     "data": {
      "text/plain": [
       "['경기도',\n",
       " '서울특별시',\n",
       " '경상남도',\n",
       " '부산광역시',\n",
       " '인천광역시',\n",
       " '충청남도',\n",
       " '경상북도',\n",
       " '강원도',\n",
       " '충청북도',\n",
       " '제주특별자치도',\n",
       " '대구광역시',\n",
       " '전라북도',\n",
       " '전라남도',\n",
       " '대전광역시',\n",
       " '광주광역시',\n",
       " '울산광역시',\n",
       " '세종특별자치시',\n",
       " '강원특별자치도']"
      ]
     },
     "execution_count": 5,
     "metadata": {},
     "output_type": "execute_result"
    }
   ],
   "source": [
    "sido"
   ]
  },
  {
   "cell_type": "code",
   "execution_count": null,
   "id": "e6bb2bbe-2bee-481a-b1e2-66b7f640512e",
   "metadata": {},
   "outputs": [],
   "source": [
    "for i in tqdm(range(len(sido))):\n",
    "    payload[\"jumpoSido\"]=sido[i]\n",
    "    payload[\"sido\"]=sido[i]\n",
    "    gugun_r = requests.post(cu_gugunurl, data=payload)\n",
    "    gugun=[x['CODE_NAME'] for x in gugun_r.json()['GugunList']] #각 도시에 맞는 군들이 들어감\n",
    "    for j in range(len(gugun)):\n",
    "        dong_payload[\"jumpoSido\"]=sido[i]\n",
    "        dong_payload[\"sido\"]=sido[i]\n",
    "        dong_payload[\"jumpoGugun\"]=gugun[j]\n",
    "        dong_payload[\"Gugun\"]=gugun[j]\n",
    "        dong = [x['CODE_NAME'] for x in requests.post(cu_dong_url, data=dong_payload).json()['GugunList']]\n",
    "        # print(dong)\n",
    "        for k in range(len(dong)):\n",
    "            target_payload[\"jumpoSido\"]=sido[i]\n",
    "            target_payload[\"jumpoGugun\"]=gugun[j]\n",
    "            target_payload[\"jumpodong\"]=dong[k]\n",
    "            target_payload[\"sido\"]=sido[i]\n",
    "            target_payload[\"Gugun\"]=gugun[j]\n",
    "            for i in range(10):\n",
    "                target_payload[\"pageIndex\"]=f\"{i}\"\n",
    "                try:\n",
    "                    target_bs = BS(requests.post(target_url, data=target_payload).text)\n",
    "                    rt = target_bs.find(\"table\", {'summary' : '매장 상세 정보'}).findAll(\"tr\")\n",
    "                    print(rt[1].findAll(\"td\")[0].text.strip()+\"     \"+str(i))\n",
    "                    # print(rt[1].findAll(\"td\")[1].find(\"address\").text)\n",
    "                    # for x in rt[1].findAll(\"td\")[1].findAll(\"li\", {\"class\" : re.compile(\"sevice[0-9]{2} on\")}):\n",
    "                    #     print(x.find(\"img\")['src'].split(\"/\")[-1].split(\"_\")[-1].replace(\".png\", \"\"))\n",
    "                except:\n",
    "                    pass\n",
    "                # rt[1].findAll(\"td\")[0].text.strip()\n",
    "                \n",
    "            # for l in range(10):\n",
    "            #     target_payload[\"pageIndex\"]=l\n",
    "            # pd.read_html(requests.post(target_url, data=target_payload).text)[0]\n",
    "           \n",
    "            # print(rt[1].findAll(\"td\")[0].text.strip())\n",
    "            # print(rt[1].findAll(\"td\")[1].find(\"address\").text)\n",
    "            # print(rt)\n",
    "            \n",
    "      \n",
    "            # print(target_bs)\n",
    "    # print(gugun)\n",
    "        "
   ]
  },
  {
   "cell_type": "code",
   "execution_count": null,
   "id": "dddb6cb0-db4c-4f81-b4a5-c3bdf7e205b1",
   "metadata": {},
   "outputs": [],
   "source": []
  }
 ],
 "metadata": {
  "kernelspec": {
   "display_name": "Python 3 (ipykernel)",
   "language": "python",
   "name": "python3"
  },
  "language_info": {
   "codemirror_mode": {
    "name": "ipython",
    "version": 3
   },
   "file_extension": ".py",
   "mimetype": "text/x-python",
   "name": "python",
   "nbconvert_exporter": "python",
   "pygments_lexer": "ipython3",
   "version": "3.10.12"
  }
 },
 "nbformat": 4,
 "nbformat_minor": 5
}
