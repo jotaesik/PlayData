{
 "cells": [
  {
   "cell_type": "code",
   "execution_count": 161,
   "id": "ef04a569-cd2c-479b-9b09-0b12b061e930",
   "metadata": {},
   "outputs": [
    {
     "name": "stdout",
     "output_type": "stream",
     "text": [
      "\u001b[0m\u001b[01;34mfemale\u001b[0m/  \u001b[01;34mmale\u001b[0m/\n"
     ]
    }
   ],
   "source": [
    "ls"
   ]
  },
  {
   "cell_type": "code",
   "execution_count": null,
   "id": "137e690a-541c-42af-ae09-e222d90256d4",
   "metadata": {},
   "outputs": [],
   "source": []
  },
  {
   "cell_type": "code",
   "execution_count": 162,
   "id": "56131dd6-1b03-4d0b-9a77-7c53aa90314e",
   "metadata": {},
   "outputs": [
    {
     "name": "stdout",
     "output_type": "stream",
     "text": [
      "/home/jotaesik\n"
     ]
    },
    {
     "name": "stderr",
     "output_type": "stream",
     "text": [
      "/home/jotaesik/.local/lib/python3.10/site-packages/IPython/core/magics/osm.py:393: UserWarning: This is now an optional IPython functionality, using bookmarks requires you to install the `pickleshare` library.\n",
      "  bkms = self.shell.db.get('bookmarks', {})\n",
      "/home/jotaesik/.local/lib/python3.10/site-packages/IPython/core/magics/osm.py:417: UserWarning: This is now an optional IPython functionality, setting dhist requires you to install the `pickleshare` library.\n",
      "  self.shell.db['dhist'] = compress_dhist(dhist)[-100:]\n"
     ]
    }
   ],
   "source": [
    "cd ~"
   ]
  },
  {
   "cell_type": "code",
   "execution_count": 163,
   "id": "85135d82-589c-48c4-a5ad-a7d2fc585674",
   "metadata": {},
   "outputs": [
    {
     "name": "stdout",
     "output_type": "stream",
     "text": [
      "a.txt\n",
      "\u001b[0m\u001b[01;34mdata\u001b[0m/\n",
      "\u001b[01;34mdata_test\u001b[0m/\n",
      "\u001b[01;31mgoogle-chrome-stable_current_amd64.deb\u001b[0m\n",
      "google-chrome-stable_current_amd64.deb.1\n",
      "google-chrome-stable_current_amd64.deb.2\n",
      "male\n",
      "nohup.out\n",
      "\u001b[01;34mworkspace\u001b[0m/\n",
      "\u001b[01;31m이름_생년_성별_10000.zip\u001b[0m\n"
     ]
    }
   ],
   "source": [
    "ls"
   ]
  },
  {
   "cell_type": "code",
   "execution_count": 164,
   "id": "8fa15a8c-fe8c-45b4-8409-aad05b2d383e",
   "metadata": {},
   "outputs": [
    {
     "name": "stdout",
     "output_type": "stream",
     "text": [
      "/home/jotaesik/data\n"
     ]
    }
   ],
   "source": [
    "cd data"
   ]
  },
  {
   "cell_type": "code",
   "execution_count": 165,
   "id": "9a467d85-c94d-4427-8750-8b51b95bf27a",
   "metadata": {},
   "outputs": [],
   "source": [
    "ls > a.txt"
   ]
  },
  {
   "cell_type": "code",
   "execution_count": 166,
   "id": "04435e8e-968e-4398-b1b0-66d4535079a6",
   "metadata": {},
   "outputs": [
    {
     "name": "stdout",
     "output_type": "stream",
     "text": [
      "a.txt\n",
      "\u001b[0m\u001b[01;34mfemale\u001b[0m/\n",
      "\u001b[01;34mmale\u001b[0m/\n"
     ]
    }
   ],
   "source": [
    "cat a.txt"
   ]
  },
  {
   "cell_type": "code",
   "execution_count": 167,
   "id": "02a62386-191a-4195-8601-d1295df53f40",
   "metadata": {},
   "outputs": [
    {
     "data": {
      "text/plain": [
       "'/home/jotaesik/data'"
      ]
     },
     "execution_count": 167,
     "metadata": {},
     "output_type": "execute_result"
    }
   ],
   "source": [
    "pwd"
   ]
  },
  {
   "cell_type": "code",
   "execution_count": 168,
   "id": "d289fdc8-4f53-4512-8836-8fdd43b30d5b",
   "metadata": {},
   "outputs": [
    {
     "ename": "ValueError",
     "evalue": "Length mismatch: Expected axis has 0 elements, new values have 2 elements",
     "output_type": "error",
     "traceback": [
      "\u001b[0;31m---------------------------------------------------------------------------\u001b[0m",
      "\u001b[0;31mValueError\u001b[0m                                Traceback (most recent call last)",
      "Cell \u001b[0;32mIn[168], line 2\u001b[0m\n\u001b[1;32m      1\u001b[0m df\u001b[38;5;241m=\u001b[39mpd\u001b[38;5;241m.\u001b[39mDataFrame()\n\u001b[0;32m----> 2\u001b[0m \u001b[43mdf\u001b[49m\u001b[38;5;241;43m.\u001b[39;49m\u001b[43mcolumns\u001b[49m \u001b[38;5;241m=\u001b[39m [\u001b[38;5;124m'\u001b[39m\u001b[38;5;124mfemale\u001b[39m\u001b[38;5;124m'\u001b[39m, \u001b[38;5;124m'\u001b[39m\u001b[38;5;124mmale\u001b[39m\u001b[38;5;124m'\u001b[39m]\n\u001b[1;32m      3\u001b[0m \u001b[38;5;28mprint\u001b[39m(df)\n",
      "File \u001b[0;32m~/.local/lib/python3.10/site-packages/pandas/core/generic.py:6310\u001b[0m, in \u001b[0;36mNDFrame.__setattr__\u001b[0;34m(self, name, value)\u001b[0m\n\u001b[1;32m   6308\u001b[0m \u001b[38;5;28;01mtry\u001b[39;00m:\n\u001b[1;32m   6309\u001b[0m     \u001b[38;5;28mobject\u001b[39m\u001b[38;5;241m.\u001b[39m\u001b[38;5;21m__getattribute__\u001b[39m(\u001b[38;5;28mself\u001b[39m, name)\n\u001b[0;32m-> 6310\u001b[0m     \u001b[38;5;28;01mreturn\u001b[39;00m \u001b[38;5;28;43mobject\u001b[39;49m\u001b[38;5;241;43m.\u001b[39;49m\u001b[38;5;21;43m__setattr__\u001b[39;49m\u001b[43m(\u001b[49m\u001b[38;5;28;43mself\u001b[39;49m\u001b[43m,\u001b[49m\u001b[43m \u001b[49m\u001b[43mname\u001b[49m\u001b[43m,\u001b[49m\u001b[43m \u001b[49m\u001b[43mvalue\u001b[49m\u001b[43m)\u001b[49m\n\u001b[1;32m   6311\u001b[0m \u001b[38;5;28;01mexcept\u001b[39;00m \u001b[38;5;167;01mAttributeError\u001b[39;00m:\n\u001b[1;32m   6312\u001b[0m     \u001b[38;5;28;01mpass\u001b[39;00m\n",
      "File \u001b[0;32mproperties.pyx:69\u001b[0m, in \u001b[0;36mpandas._libs.properties.AxisProperty.__set__\u001b[0;34m()\u001b[0m\n",
      "File \u001b[0;32m~/.local/lib/python3.10/site-packages/pandas/core/generic.py:813\u001b[0m, in \u001b[0;36mNDFrame._set_axis\u001b[0;34m(self, axis, labels)\u001b[0m\n\u001b[1;32m    808\u001b[0m \u001b[38;5;250m\u001b[39m\u001b[38;5;124;03m\"\"\"\u001b[39;00m\n\u001b[1;32m    809\u001b[0m \u001b[38;5;124;03mThis is called from the cython code when we set the `index` attribute\u001b[39;00m\n\u001b[1;32m    810\u001b[0m \u001b[38;5;124;03mdirectly, e.g. `series.index = [1, 2, 3]`.\u001b[39;00m\n\u001b[1;32m    811\u001b[0m \u001b[38;5;124;03m\"\"\"\u001b[39;00m\n\u001b[1;32m    812\u001b[0m labels \u001b[38;5;241m=\u001b[39m ensure_index(labels)\n\u001b[0;32m--> 813\u001b[0m \u001b[38;5;28;43mself\u001b[39;49m\u001b[38;5;241;43m.\u001b[39;49m\u001b[43m_mgr\u001b[49m\u001b[38;5;241;43m.\u001b[39;49m\u001b[43mset_axis\u001b[49m\u001b[43m(\u001b[49m\u001b[43maxis\u001b[49m\u001b[43m,\u001b[49m\u001b[43m \u001b[49m\u001b[43mlabels\u001b[49m\u001b[43m)\u001b[49m\n\u001b[1;32m    814\u001b[0m \u001b[38;5;28mself\u001b[39m\u001b[38;5;241m.\u001b[39m_clear_item_cache()\n",
      "File \u001b[0;32m~/.local/lib/python3.10/site-packages/pandas/core/internals/managers.py:238\u001b[0m, in \u001b[0;36mBaseBlockManager.set_axis\u001b[0;34m(self, axis, new_labels)\u001b[0m\n\u001b[1;32m    236\u001b[0m \u001b[38;5;28;01mdef\u001b[39;00m \u001b[38;5;21mset_axis\u001b[39m(\u001b[38;5;28mself\u001b[39m, axis: AxisInt, new_labels: Index) \u001b[38;5;241m-\u001b[39m\u001b[38;5;241m>\u001b[39m \u001b[38;5;28;01mNone\u001b[39;00m:\n\u001b[1;32m    237\u001b[0m     \u001b[38;5;66;03m# Caller is responsible for ensuring we have an Index object.\u001b[39;00m\n\u001b[0;32m--> 238\u001b[0m     \u001b[38;5;28;43mself\u001b[39;49m\u001b[38;5;241;43m.\u001b[39;49m\u001b[43m_validate_set_axis\u001b[49m\u001b[43m(\u001b[49m\u001b[43maxis\u001b[49m\u001b[43m,\u001b[49m\u001b[43m \u001b[49m\u001b[43mnew_labels\u001b[49m\u001b[43m)\u001b[49m\n\u001b[1;32m    239\u001b[0m     \u001b[38;5;28mself\u001b[39m\u001b[38;5;241m.\u001b[39maxes[axis] \u001b[38;5;241m=\u001b[39m new_labels\n",
      "File \u001b[0;32m~/.local/lib/python3.10/site-packages/pandas/core/internals/base.py:98\u001b[0m, in \u001b[0;36mDataManager._validate_set_axis\u001b[0;34m(self, axis, new_labels)\u001b[0m\n\u001b[1;32m     95\u001b[0m     \u001b[38;5;28;01mpass\u001b[39;00m\n\u001b[1;32m     97\u001b[0m \u001b[38;5;28;01melif\u001b[39;00m new_len \u001b[38;5;241m!=\u001b[39m old_len:\n\u001b[0;32m---> 98\u001b[0m     \u001b[38;5;28;01mraise\u001b[39;00m \u001b[38;5;167;01mValueError\u001b[39;00m(\n\u001b[1;32m     99\u001b[0m         \u001b[38;5;124mf\u001b[39m\u001b[38;5;124m\"\u001b[39m\u001b[38;5;124mLength mismatch: Expected axis has \u001b[39m\u001b[38;5;132;01m{\u001b[39;00mold_len\u001b[38;5;132;01m}\u001b[39;00m\u001b[38;5;124m elements, new \u001b[39m\u001b[38;5;124m\"\u001b[39m\n\u001b[1;32m    100\u001b[0m         \u001b[38;5;124mf\u001b[39m\u001b[38;5;124m\"\u001b[39m\u001b[38;5;124mvalues have \u001b[39m\u001b[38;5;132;01m{\u001b[39;00mnew_len\u001b[38;5;132;01m}\u001b[39;00m\u001b[38;5;124m elements\u001b[39m\u001b[38;5;124m\"\u001b[39m\n\u001b[1;32m    101\u001b[0m     )\n",
      "\u001b[0;31mValueError\u001b[0m: Length mismatch: Expected axis has 0 elements, new values have 2 elements"
     ]
    }
   ],
   "source": [
    "df=pd.DataFrame()\n",
    "df.columns = ['female', 'male']\n",
    "print(df)"
   ]
  },
  {
   "cell_type": "code",
   "execution_count": null,
   "id": "1ac89440-2685-4219-ac3b-b4bbf7dcdd7e",
   "metadata": {},
   "outputs": [],
   "source": [
    "file_list=os.listdir(\"/home/jotaesik/data\")\n",
    "print(len(file_list))"
   ]
  },
  {
   "cell_type": "code",
   "execution_count": null,
   "id": "421bce03-ab67-4cb7-815d-e1ce519f5434",
   "metadata": {},
   "outputs": [],
   "source": [
    "import os\n",
    "import pandas as pd\n",
    "import shutil\n",
    "from tqdm import tqdm\n",
    "    # f = open(\"./file.txt\", \"w\", encoding=\"utf-8\")\n",
    "if not os.path.isdir(\"./male\"):\n",
    "    os.mkdir(\"./male\")\n",
    "if not os.path.isdir(\"./female\"):\n",
    "    os.mkdir(\"./female\")\n",
    "    # dict1={} #데이터프레임으로 바꿀거\n",
    "    # 이름 생년월일 성별 값\n",
    "list_name=[]\n",
    "list_birthday=[]\n",
    "list_gender=[]\n",
    "list_value=[]\n",
    "# for roots, dirs, files in tqdm(os.walk(\"/home/jotaesik/data\")):\n",
    "roots=\"/home/jotaesik/data\"\n",
    "# for file in tqdm(os.walk(\"/home/jotaesik/data\")):\n",
    "for file in tqdm(file_list):\n",
    "    temp_split=file.split(\"_\") #파일명자르기\n",
    "            # # ['강주헌', '19601129', '1xxxxxx.txt']\n",
    "    list_name.append(temp_split[0])\n",
    "    list_birthday.append(temp_split[1])\n",
    "        #     # # 값불러오기\n",
    "    try:\n",
    "        f=open(f\"{roots}/{file}\", \"r\")\n",
    "        a=f.readline().replace(\",\",\"\")\n",
    "        f.close()\n",
    "        list_value.append(a)\n",
    "    except:\n",
    "        print(f\"{roots}{file}\")\n",
    "    if int(temp_split[2][0])%2==1:\n",
    "        shutil.move(f\"{roots}/{file}\", \"/home/jotaesik/data/male\")\n",
    "        list_gender.append(\"M\") \n",
    "    else:\n",
    "        shutil.move(f\"{roots}/{file}\", \"/home/jotaesik/data/female\")\n",
    "        list_gender.append(\"F\")\n",
    "            \n",
    "        # if int(temp_split[2][0])%2==1:\n",
    "        #     shutil.move(f\"{roots}/{file}\", \"/home/jotaesik/data/male\")\n",
    "        #     list_gender.append(\"M\") \n",
    "        # else:\n",
    "        #     shutil.move(f\"{roots}/{file}\", \"/home/jotaesik/data/female\")\n",
    "        #     list_gender.append(\"F\")\n",
    "            # try:\n",
    "            #     if int(temp_split[2][0])%2==1:\n",
    "            #         list_gender.append(\"M\") \n",
    "            #         shutil.move(f\"{roots}/{file}\", \"/home/jotaesik/data/male\")\n",
    "            #         i+=1\n",
    "            #     else:\n",
    "            #         list_gender.append(\"F\")\n",
    "            #         shutil.move(f\"{roots}/{file}\", \"/home/jotaesik/data/female\") \n",
    "            #         j+=1\n",
    "            # except:\n",
    "            #     print(\"\")\n",
    "        \n",
    "    # print(list_name)\n",
    "    # print(list_birthday)\n",
    "    # print(list_gender)\n",
    "    # print(list_value)\n",
    "    \n",
    "    # print(len(list_name))\n",
    "    # print(len(list_birthday))\n",
    "    # print(len(list_value))\n",
    "    # print(len(list_gender))\n",
    "    # print(dict)\n",
    "    # print(i)\n",
    "    # print(j)\n",
    "    # print(k)\n",
    "\n",
    "# 남성, 여성 컬럼으로 DataFrame으로 \n",
    "# .to_csv(\"./report.csv\", index=False, encoding='utf-8-sig')\n",
    "        "
   ]
  },
  {
   "cell_type": "code",
   "execution_count": null,
   "id": "1694168e-6957-46d0-bc87-ee471c63dab3",
   "metadata": {},
   "outputs": [],
   "source": [
    "print(len(list_name))\n",
    "print(len(list_birthday))\n",
    "print(len(list_value))\n",
    "print(len(list_gender))\n",
    "# print(list_name)"
   ]
  },
  {
   "cell_type": "code",
   "execution_count": null,
   "id": "ff7e482b-115b-4e3c-a368-4a70379cb3dc",
   "metadata": {},
   "outputs": [],
   "source": [
    "dict1={\"이름\" : list_name , \"생년월일\" : list_birthday, \"성별\" : list_gender, \"값\" : list_value}"
   ]
  },
  {
   "cell_type": "code",
   "execution_count": null,
   "id": "5ff7bc60-de28-46ea-a145-ce1ea4e06655",
   "metadata": {},
   "outputs": [],
   "source": [
    "# print(list_name)\n",
    "# print(list_birthday)\n",
    "# print(list_gender)\n",
    "# print(list_value)\n",
    "# print(len(list_name))\n",
    "# print(len(list_birthday))\n",
    "# print(len(list_value))\n",
    "# print(len(list_gender))\n"
   ]
  },
  {
   "cell_type": "code",
   "execution_count": null,
   "id": "a50b0592-e0f1-4670-b5e9-17f687b5f224",
   "metadata": {},
   "outputs": [],
   "source": [
    "print(dict1)"
   ]
  },
  {
   "cell_type": "code",
   "execution_count": 175,
   "id": "bc21ae97-18e4-4b3e-8761-553e345cf8e3",
   "metadata": {},
   "outputs": [],
   "source": [
    "df=pd.DataFrame(dict1)\n",
    "df_male=df[df.성별==\"M\"].reset_index(drop=True)\n",
    "df_female=df[df.성별==\"F\"].reset_index(drop=True)\n",
    "df_male.shape\n",
    "df_male.to_csv(\"./male.csv\", index=False, encoding='utf-8-sig')\n",
    "# 남성, 여성 컬럼으로 DataFrame으로 \n",
    "# .to_csv(\"./report.csv\", index=False, encoding='utf-8-sig')\n",
    "        "
   ]
  },
  {
   "cell_type": "code",
   "execution_count": 176,
   "id": "a7601b1c-5005-4410-b1ed-5efb28048be2",
   "metadata": {},
   "outputs": [],
   "source": [
    "df_female.shape\n",
    "df_female.to_csv(\"./female.csv\", index=False, encoding='utf-8-sig')"
   ]
  },
  {
   "cell_type": "code",
   "execution_count": 169,
   "id": "18e79e53-2f8a-455a-8284-49eb2ba5e3c1",
   "metadata": {},
   "outputs": [
    {
     "data": {
      "text/html": [
       "<div>\n",
       "<style scoped>\n",
       "    .dataframe tbody tr th:only-of-type {\n",
       "        vertical-align: middle;\n",
       "    }\n",
       "\n",
       "    .dataframe tbody tr th {\n",
       "        vertical-align: top;\n",
       "    }\n",
       "\n",
       "    .dataframe thead th {\n",
       "        text-align: right;\n",
       "    }\n",
       "</style>\n",
       "<table border=\"1\" class=\"dataframe\">\n",
       "  <thead>\n",
       "    <tr style=\"text-align: right;\">\n",
       "      <th></th>\n",
       "      <th>이름</th>\n",
       "      <th>생년월일</th>\n",
       "      <th>성별</th>\n",
       "      <th>값</th>\n",
       "    </tr>\n",
       "  </thead>\n",
       "  <tbody>\n",
       "    <tr>\n",
       "      <th>0</th>\n",
       "      <td>배신화</td>\n",
       "      <td>19691226</td>\n",
       "      <td>F</td>\n",
       "      <td>7682</td>\n",
       "    </tr>\n",
       "    <tr>\n",
       "      <th>1</th>\n",
       "      <td>고다완</td>\n",
       "      <td>19770224</td>\n",
       "      <td>F</td>\n",
       "      <td>99911654</td>\n",
       "    </tr>\n",
       "    <tr>\n",
       "      <th>2</th>\n",
       "      <td>배종성</td>\n",
       "      <td>19621228</td>\n",
       "      <td>F</td>\n",
       "      <td>99779180</td>\n",
       "    </tr>\n",
       "    <tr>\n",
       "      <th>3</th>\n",
       "      <td>장지아</td>\n",
       "      <td>19950525</td>\n",
       "      <td>F</td>\n",
       "      <td>842901</td>\n",
       "    </tr>\n",
       "  </tbody>\n",
       "</table>\n",
       "</div>"
      ],
      "text/plain": [
       "    이름      생년월일 성별         값\n",
       "0  배신화  19691226  F      7682\n",
       "1  고다완  19770224  F  99911654\n",
       "2  배종성  19621228  F  99779180\n",
       "3  장지아  19950525  F    842901"
      ]
     },
     "execution_count": 169,
     "metadata": {},
     "output_type": "execute_result"
    }
   ],
   "source": [
    "df_female.head(4)"
   ]
  },
  {
   "cell_type": "code",
   "execution_count": null,
   "id": "b2dcbd52-073b-4718-8c55-2c5a080f7886",
   "metadata": {},
   "outputs": [],
   "source": [
    "list1"
   ]
  },
  {
   "cell_type": "code",
   "execution_count": null,
   "id": "517487e8-0802-4cfe-824b-9d400b90c15f",
   "metadata": {},
   "outputs": [],
   "source": [
    "import pickle \n",
    "# binary save , load \n",
    "# with open(\"./kbo.pkl\", \"wb\") as f:\n",
    "#     pickle.dump(playid, f)\n",
    "\n",
    "\n",
    "# import pickle\n",
    "# with open(\"./kbo.pkl\", \"rb\") as f:\n",
    "#     abc = pickle.load(f)\n"
   ]
  },
  {
   "cell_type": "code",
   "execution_count": null,
   "id": "da26a41b-248e-4d6f-8b01-63d8b047a6c7",
   "metadata": {},
   "outputs": [],
   "source": [
    "# # with open(\"./male/정윤규_19970820_1xxxxxx.txt\", \"rb\") as f:\n",
    "# with open(\"./male/정윤규_19970820_1xxxxxx.txt\", \"r\") as f:\n",
    "#     test=f.readline().strip()\n",
    "# print(test)\n",
    "f=open(\"./male/양조은_19660410_3xxxxxx.txt\", \"r\")\n",
    "# 양조은_1966041+0_3xxxxxx.txt\n",
    "a=f.readline()\n",
    "a=a.replace(\",\",\"\")\n",
    "print(a)\n",
    "# type(f.read())\n",
    "# f.readline().replace(\",\",\"\")\n",
    "# print(int(f.readline().replace(\",\",\"\")))"
   ]
  },
  {
   "cell_type": "code",
   "execution_count": null,
   "id": "bf703a0d-d5da-4fe5-8d84-f20fc7e77041",
   "metadata": {},
   "outputs": [],
   "source": []
  }
 ],
 "metadata": {
  "kernelspec": {
   "display_name": "Python 3 (ipykernel)",
   "language": "python",
   "name": "python3"
  },
  "language_info": {
   "codemirror_mode": {
    "name": "ipython",
    "version": 3
   },
   "file_extension": ".py",
   "mimetype": "text/x-python",
   "name": "python",
   "nbconvert_exporter": "python",
   "pygments_lexer": "ipython3",
   "version": "3.10.12"
  }
 },
 "nbformat": 4,
 "nbformat_minor": 5
}
