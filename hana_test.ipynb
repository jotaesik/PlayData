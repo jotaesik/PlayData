{
 "cells": [
  {
   "cell_type": "code",
   "execution_count": 1,
   "id": "d711ff2b-eabd-4390-9c60-d41b6f25c518",
   "metadata": {},
   "outputs": [],
   "source": [
    "import hana"
   ]
  },
  {
   "cell_type": "code",
   "execution_count": 2,
   "id": "76abf708-c595-4926-b899-6ebc68ba6fb8",
   "metadata": {},
   "outputs": [
    {
     "name": "stderr",
     "output_type": "stream",
     "text": [
      "C:\\Users\\Playdata2\\hana.py:32: FutureWarning: Passing literal html to 'read_html' is deprecated and will be removed in a future version. To read from a literal string, wrap it in a 'StringIO' object.\n",
      "  exchange = pd.read_html(r.text)[0]\n"
     ]
    },
    {
     "data": {
      "text/plain": [
       "1328.34"
      ]
     },
     "execution_count": 2,
     "metadata": {},
     "output_type": "execute_result"
    }
   ],
   "source": [
    "hana.get_exchange('usd','2024-04-04')"
   ]
  },
  {
   "cell_type": "code",
   "execution_count": 3,
   "id": "18736392-a322-47b2-91a5-7e3d527680b3",
   "metadata": {},
   "outputs": [],
   "source": [
    "from hana import get_exchange\n"
   ]
  },
  {
   "cell_type": "code",
   "execution_count": 4,
   "id": "241a813a-7a85-44a7-9c6d-198ad0c50c77",
   "metadata": {},
   "outputs": [
    {
     "name": "stdout",
     "output_type": "stream",
     "text": [
      "값 확인해!!\n"
     ]
    },
    {
     "name": "stderr",
     "output_type": "stream",
     "text": [
      "C:\\Users\\Playdata2\\hana.py:32: FutureWarning: Passing literal html to 'read_html' is deprecated and will be removed in a future version. To read from a literal string, wrap it in a 'StringIO' object.\n",
      "  exchange = pd.read_html(r.text)[0]\n"
     ]
    },
    {
     "data": {
      "text/plain": [
       "1329.43"
      ]
     },
     "execution_count": 4,
     "metadata": {},
     "output_type": "execute_result"
    }
   ],
   "source": [
    "get_exchange(\"usd\")"
   ]
  },
  {
   "cell_type": "code",
   "execution_count": 5,
   "id": "e532176d-1f83-4294-8af3-421661352b85",
   "metadata": {},
   "outputs": [],
   "source": [
    "import sys"
   ]
  },
  {
   "cell_type": "code",
   "execution_count": 6,
   "id": "e1e2932c-3f9b-49b7-a760-3d247719d82c",
   "metadata": {},
   "outputs": [
    {
     "data": {
      "text/plain": [
       "['C:\\\\Users\\\\Playdata2',\n",
       " 'C:\\\\Users\\\\Playdata2\\\\miniconda3\\\\envs\\\\encore_py39\\\\python39.zip',\n",
       " 'C:\\\\Users\\\\Playdata2\\\\miniconda3\\\\envs\\\\encore_py39\\\\DLLs',\n",
       " 'C:\\\\Users\\\\Playdata2\\\\miniconda3\\\\envs\\\\encore_py39\\\\lib',\n",
       " 'C:\\\\Users\\\\Playdata2\\\\miniconda3\\\\envs\\\\encore_py39',\n",
       " '',\n",
       " 'C:\\\\Users\\\\Playdata2\\\\miniconda3\\\\envs\\\\encore_py39\\\\lib\\\\site-packages',\n",
       " 'C:\\\\Users\\\\Playdata2\\\\miniconda3\\\\envs\\\\encore_py39\\\\lib\\\\site-packages\\\\win32',\n",
       " 'C:\\\\Users\\\\Playdata2\\\\miniconda3\\\\envs\\\\encore_py39\\\\lib\\\\site-packages\\\\win32\\\\lib',\n",
       " 'C:\\\\Users\\\\Playdata2\\\\miniconda3\\\\envs\\\\encore_py39\\\\lib\\\\site-packages\\\\Pythonwin']"
      ]
     },
     "execution_count": 6,
     "metadata": {},
     "output_type": "execute_result"
    }
   ],
   "source": [
    "sys.path #이 경로에만 있으면 hana.py를 쓸수있다.\n",
    "# 모듈은 파일명을 따라감\n",
    "# py파일을 독립적으로 실행할때는 __name__에 모듈이름이 저장 __name__ => __main__ 으로 인식\n",
    "# cmd python3에서 확인해보기 업데이트된 hana.py"
   ]
  }
 ],
 "metadata": {
  "kernelspec": {
   "display_name": "Python 3 (ipykernel)",
   "language": "python",
   "name": "python3"
  },
  "language_info": {
   "codemirror_mode": {
    "name": "ipython",
    "version": 3
   },
   "file_extension": ".py",
   "mimetype": "text/x-python",
   "name": "python",
   "nbconvert_exporter": "python",
   "pygments_lexer": "ipython3",
   "version": "3.9.19"
  }
 },
 "nbformat": 4,
 "nbformat_minor": 5
}
