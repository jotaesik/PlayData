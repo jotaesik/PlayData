{
 "cells": [
  {
   "cell_type": "code",
   "execution_count": 1,
   "id": "b59bc127",
   "metadata": {},
   "outputs": [
    {
     "name": "stdout",
     "output_type": "stream",
     "text": [
      "Defaulting to user installation because normal site-packages is not writeable\n",
      "Requirement already satisfied: wordcloud in /home/hadoop/.local/lib/python3.10/site-packages (1.9.3)\n",
      "Requirement already satisfied: numpy>=1.6.1 in /home/hadoop/.local/lib/python3.10/site-packages (from wordcloud) (2.0.0)\n",
      "Requirement already satisfied: pillow in /home/hadoop/.local/lib/python3.10/site-packages (from wordcloud) (10.4.0)\n",
      "Requirement already satisfied: matplotlib in /home/hadoop/.local/lib/python3.10/site-packages (from wordcloud) (3.9.0)\n",
      "Requirement already satisfied: pyparsing>=2.3.1 in /usr/lib/python3/dist-packages (from matplotlib->wordcloud) (2.4.7)\n",
      "Requirement already satisfied: python-dateutil>=2.7 in /home/hadoop/.local/lib/python3.10/site-packages (from matplotlib->wordcloud) (2.9.0.post0)\n",
      "Requirement already satisfied: fonttools>=4.22.0 in /home/hadoop/.local/lib/python3.10/site-packages (from matplotlib->wordcloud) (4.53.0)\n",
      "Requirement already satisfied: contourpy>=1.0.1 in /home/hadoop/.local/lib/python3.10/site-packages (from matplotlib->wordcloud) (1.2.1)\n",
      "Requirement already satisfied: kiwisolver>=1.3.1 in /home/hadoop/.local/lib/python3.10/site-packages (from matplotlib->wordcloud) (1.4.5)\n",
      "Requirement already satisfied: packaging>=20.0 in /home/hadoop/.local/lib/python3.10/site-packages (from matplotlib->wordcloud) (24.1)\n",
      "Requirement already satisfied: cycler>=0.10 in /home/hadoop/.local/lib/python3.10/site-packages (from matplotlib->wordcloud) (0.12.1)\n",
      "Requirement already satisfied: six>=1.5 in /usr/lib/python3/dist-packages (from python-dateutil>=2.7->matplotlib->wordcloud) (1.16.0)\n"
     ]
    }
   ],
   "source": [
    "!pip install wordcloud"
   ]
  },
  {
   "cell_type": "code",
   "execution_count": 26,
   "id": "ea025a0f",
   "metadata": {},
   "outputs": [],
   "source": [
    "from dotenv import load_dotenv\n",
    "import os\n",
    "dotenv_path = '../.env'\n",
    "load_dotenv(dotenv_path)\n",
    "host = os.getenv('HOST')\n",
    "port = os.getenv('PORT')\n",
    "db = os.getenv('DB')\n",
    "user = os.getenv('USER')\n",
    "pwd = os.getenv('PWD')\n",
    "hadoop_host = os.getenv('HADOOP_HOST')\n",
    "hadoop_port = os.getenv('HADOOP_PORT')"
   ]
  },
  {
   "cell_type": "code",
   "execution_count": 133,
   "id": "ce9ce32e-0477-4c57-88d1-c106ae6fc4d4",
   "metadata": {},
   "outputs": [
    {
     "data": {
      "text/html": [
       "\n",
       "            <div>\n",
       "                <p><b>SparkSession - in-memory</b></p>\n",
       "                \n",
       "        <div>\n",
       "            <p><b>SparkContext</b></p>\n",
       "\n",
       "            <p><a href=\"http://producer:4040\">Spark UI</a></p>\n",
       "\n",
       "            <dl>\n",
       "              <dt>Version</dt>\n",
       "                <dd><code>v3.5.1</code></dd>\n",
       "              <dt>Master</dt>\n",
       "                <dd><code>spark://192.168.0.251:5055</code></dd>\n",
       "              <dt>AppName</dt>\n",
       "                <dd><code>test</code></dd>\n",
       "            </dl>\n",
       "        </div>\n",
       "        \n",
       "            </div>\n",
       "        "
      ],
      "text/plain": [
       "<pyspark.sql.session.SparkSession at 0x7fed22235750>"
      ]
     },
     "execution_count": 133,
     "metadata": {},
     "output_type": "execute_result"
    }
   ],
   "source": [
    "\n",
    "import pyspark\n",
    "from pyspark.sql import SparkSession\n",
    "from pyspark.sql import SparkSession\n",
    "from wordcloud import WordCloud, STOPWORDS\n",
    "conf = pyspark.SparkConf().setAppName(\"test\").\\\n",
    "        setMaster(f\"spark://{hadoop_host}:5055\").\\\n",
    "        set(\"spark.executor.instances\", \"3\").\\\n",
    "        set(\"spark.executor.memory\", \"4g\").\\\n",
    "        set(\"spark.executor.cores\", \"2\").\\\n",
    "        set(\"spark.shuffle.service.enabled\", \"false\").\\\n",
    "        set(\"spark.dynamicAllocation.enabled\", \"false\")\n",
    "spark = SparkSession.builder.config(conf=conf).getOrCreate()\n",
    "spark = SparkSession.builder.getOrCreate()\n",
    "spark\n",
    "# 웹ui는 8080 마스터 7077"
   ]
  },
  {
   "cell_type": "markdown",
   "id": "761ca010",
   "metadata": {},
   "source": [
    "# | id(auto_increment) | 뉴스연월일(datetime) | main_sec | sub_sub | 단어 | 단어 빈도수 |"
   ]
  },
  {
   "cell_type": "markdown",
   "id": "8698a1ae",
   "metadata": {},
   "source": []
  },
  {
   "cell_type": "code",
   "execution_count": 132,
   "id": "95aaa2e2",
   "metadata": {},
   "outputs": [],
   "source": [
    "spark.stop()"
   ]
  },
  {
   "cell_type": "code",
   "execution_count": 8,
   "id": "3ab23191",
   "metadata": {},
   "outputs": [],
   "source": [
    "from pyspark.sql import SparkSession\n",
    "from wordcloud import WordCloud, STOPWORDS"
   ]
  },
  {
   "cell_type": "code",
   "execution_count": 7,
   "id": "8f40cbf9",
   "metadata": {},
   "outputs": [],
   "source": [
    "# pip install MeCab"
   ]
  },
  {
   "cell_type": "code",
   "execution_count": 28,
   "id": "ddd2e354",
   "metadata": {},
   "outputs": [],
   "source": [
    "# pip install MeCab\n",
    "# sudo apt-get install mecab libmecab-dev mecab-ipadic mecab-ipadic-utf8\n",
    "# pip install mecab-python3"
   ]
  },
  {
   "cell_type": "code",
   "execution_count": 9,
   "id": "eafb5876",
   "metadata": {},
   "outputs": [],
   "source": [
    "stopwords = set(STOPWORDS)"
   ]
  },
  {
   "cell_type": "code",
   "execution_count": 16,
   "id": "dd5e1a80",
   "metadata": {},
   "outputs": [
    {
     "data": {
      "text/plain": [
       "'/home/hadoop/DE31-3rd_team3/Crawler'"
      ]
     },
     "execution_count": 16,
     "metadata": {},
     "output_type": "execute_result"
    }
   ],
   "source": [
    "pwd"
   ]
  },
  {
   "cell_type": "code",
   "execution_count": 2,
   "id": "7b82db7d",
   "metadata": {},
   "outputs": [
    {
     "name": "stdout",
     "output_type": "stream",
     "text": [
      "Defaulting to user installation because normal site-packages is not writeable\n",
      "Collecting pandas\n",
      "  Downloading pandas-2.2.2-cp310-cp310-manylinux_2_17_x86_64.manylinux2014_x86_64.whl (13.0 MB)\n",
      "\u001b[2K     \u001b[90m━━━━━━━━━━━━━━━━━━━━━━━━━━━━━━━━━━━━━━━━\u001b[0m \u001b[32m13.0/13.0 MB\u001b[0m \u001b[31m17.9 MB/s\u001b[0m eta \u001b[36m0:00:00\u001b[0m00:01\u001b[0m00:01\u001b[0m\n",
      "\u001b[?25hCollecting tzdata>=2022.7\n",
      "  Downloading tzdata-2024.1-py2.py3-none-any.whl (345 kB)\n",
      "\u001b[2K     \u001b[90m━━━━━━━━━━━━━━━━━━━━━━━━━━━━━━━━━━━━━━\u001b[0m \u001b[32m345.4/345.4 KB\u001b[0m \u001b[31m30.8 MB/s\u001b[0m eta \u001b[36m0:00:00\u001b[0m\n",
      "\u001b[?25hRequirement already satisfied: numpy>=1.22.4 in /home/hadoop/.local/lib/python3.10/site-packages (from pandas) (2.0.0)\n",
      "Requirement already satisfied: pytz>=2020.1 in /usr/lib/python3/dist-packages (from pandas) (2022.1)\n",
      "Requirement already satisfied: python-dateutil>=2.8.2 in /home/hadoop/.local/lib/python3.10/site-packages (from pandas) (2.9.0.post0)\n",
      "Requirement already satisfied: six>=1.5 in /usr/lib/python3/dist-packages (from python-dateutil>=2.8.2->pandas) (1.16.0)\n",
      "Installing collected packages: tzdata, pandas\n",
      "Successfully installed pandas-2.2.2 tzdata-2024.1\n",
      "Note: you may need to restart the kernel to use updated packages.\n"
     ]
    }
   ],
   "source": [
    "pip install pandas"
   ]
  },
  {
   "cell_type": "code",
   "execution_count": 1,
   "id": "61c91f22",
   "metadata": {},
   "outputs": [
    {
     "name": "stdout",
     "output_type": "stream",
     "text": [
      "Defaulting to user installation because normal site-packages is not writeable\n",
      "Collecting pymysql\n",
      "  Downloading PyMySQL-1.1.1-py3-none-any.whl (44 kB)\n",
      "\u001b[2K     \u001b[90m━━━━━━━━━━━━━━━━━━━━━━━━━━━━━━━━━━━━━━━━\u001b[0m \u001b[32m45.0/45.0 KB\u001b[0m \u001b[31m1.1 MB/s\u001b[0m eta \u001b[36m0:00:00\u001b[0m\n",
      "\u001b[?25hInstalling collected packages: pymysql\n",
      "Successfully installed pymysql-1.1.1\n",
      "Note: you may need to restart the kernel to use updated packages.\n"
     ]
    }
   ],
   "source": [
    "pip install pymysql"
   ]
  },
  {
   "cell_type": "code",
   "execution_count": 51,
   "id": "57a8e7c8",
   "metadata": {},
   "outputs": [],
   "source": [
    "import MeCab\n",
    "def word_tokenize(line):\n",
    "    try:\n",
    "        mecab = MeCab.Tagger('-d /usr/lib/x86_64-linux-gnu/mecab/dic/mecab-ko-dic')\n",
    "        result = mecab.parse(line)\n",
    "        return result.strip()\n",
    "    \n",
    "    except Exception as e:\n",
    "        print(f\"Error occurred: {e}\")\n",
    "        return None"
   ]
  },
  {
   "cell_type": "code",
   "execution_count": 135,
   "id": "2c783b67",
   "metadata": {},
   "outputs": [
    {
     "name": "stdout",
     "output_type": "stream",
     "text": [
      "하둡\tNNP,*,T,하둡,*,*,*,*,*\n",
      "은\tJX,*,T,은,*,*,*,*,*\n",
      "상용\tNNG,*,T,상용,*,*,*,*,*\n",
      "하드웨어\tNNG,*,F,하드웨어,*,*,*,*,*\n",
      "의\tJKG,*,F,의,*,*,*,*,*\n",
      "클러스터\tNNG,*,F,클러스터,*,*,*,*,*\n",
      "에\tJKB,*,F,에,*,*,*,*,*\n",
      "방대\tXR,*,F,방대,*,*,*,*,*\n",
      "한\tXSA+ETM,*,T,한,Inflect,XSA,ETM,하/XSA+ᆫ/ETM,*\n",
      "데이터\tNNG,*,F,데이터,*,*,*,*,*\n",
      "세트\tNNG,*,F,세트,*,*,*,*,*\n",
      "를\tJKO,*,T,를,*,*,*,*,*\n",
      "분산\tNNG,*,T,분산,*,*,*,*,*\n",
      "할\tXSV+ETM,*,T,할,Inflect,XSV,ETM,하/XSV+ᆯ/ETM,*\n",
      "수\tNNB,*,F,수,*,*,*,*,*\n",
      "있\tVV,*,T,있,*,*,*,*,*\n",
      "는\tETM,*,T,는,*,*,*,*,*\n",
      "프레임워크\tNNP,*,F,프레임워크,Compound,*,*,프레임+워크,프레임/NNG/*/1/1+프레임워크/Compound/*/0/2+워크/NNG/*/1/1\n",
      "입니다\tVCP+EF,*,F,입니다,Inflect,VCP,EF,이/VCP+ᄇ니다/EF,*\n",
      ".\tSF,*,*,*,*,*,*,*,*\n",
      "하둡\tNNP,*,T,하둡,*,*,*,*,*\n",
      "의\tJKG,*,F,의,*,*,*,*,*\n",
      "처리\tNNG,*,F,처리,*,*,*,*,*\n",
      "는\tJX,*,T,는,*,*,*,*,*\n",
      "여러\tMM,~가산명사,F,여러,*,*,*,*,*\n",
      "서버\tNNG,*,F,서버,*,*,*,*,*\n",
      "에서\tJKB,*,F,에서,*,*,*,*,*\n",
      "동시\tNNG,*,F,동시,*,*,*,*,*\n",
      "에\tJKB,*,F,에,*,*,*,*,*\n",
      "병렬\tNNG,*,T,병렬,*,*,*,*,*\n",
      "로\tJKB,*,F,로,*,*,*,*,*\n",
      "수행\tNNG,*,T,수행,*,*,*,*,*\n",
      "됩니다\tXSV+EF,*,F,됩니다,Inflect,XSV,EF,되/XSV+ᄇ니다/EF,*\n",
      ".\tSF,*,*,*,*,*,*,*,*\n",
      "고객\tNNG,*,T,고객,*,*,*,*,*\n",
      "은\tJX,*,T,은,*,*,*,*,*\n",
      "데이터\tNNG,*,F,데이터,*,*,*,*,*\n",
      "와\tJC,*,F,와,*,*,*,*,*\n",
      "프로그램\tNNG,*,T,프로그램,*,*,*,*,*\n",
      "을\tJKO,*,T,을,*,*,*,*,*\n",
      "하둡\tNNP,*,T,하둡,*,*,*,*,*\n",
      "에\tJKB,*,F,에,*,*,*,*,*\n",
      "제출\tNNG,*,T,제출,*,*,*,*,*\n",
      "합니다\tXSV+EF,*,F,합니다,Inflect,XSV,EF,하/XSV+ᄇ니다/EF,*\n",
      ".\tSF,*,*,*,*,*,*,*,*\n",
      "간단히\tMAG,성분부사/양태부사,F,간단히,*,*,*,*,*\n",
      "말\tNNG,*,T,말,*,*,*,*,*\n",
      "해\tXSV+EC,*,F,해,Inflect,XSV,EC,하/XSV+아/EC,*\n",
      ",\tSC,*,*,*,*,*,*,*,*\n",
      "HDFS\tSL,*,*,*,*,*,*,*,*\n",
      "(\tSSO,*,*,*,*,*,*,*,*\n",
      "하둡\tNNP,*,T,하둡,*,*,*,*,*\n",
      "의\tJKG,*,F,의,*,*,*,*,*\n",
      "핵심\tNNG,*,T,핵심,*,*,*,*,*\n",
      "구성\tNNG,*,T,구성,*,*,*,*,*\n",
      "요소\tNNG,*,F,요소,*,*,*,*,*\n",
      ")\tSSC,*,*,*,*,*,*,*,*\n",
      "는\tJX,*,T,는,*,*,*,*,*\n",
      "메타데이터\tNNP,*,F,메타데이터,*,*,*,*,*\n",
      "와\tJC,*,F,와,*,*,*,*,*\n",
      "분산\tNNG,*,T,분산,*,*,*,*,*\n",
      "형\tXSN,*,T,형,*,*,*,*,*\n",
      "파일\tNNG,*,T,파일,*,*,*,*,*\n",
      "시스템\tNNG,*,T,시스템,*,*,*,*,*\n",
      "을\tJKO,*,T,을,*,*,*,*,*\n",
      "처리\tNNG,*,F,처리,*,*,*,*,*\n",
      "합니다\tXSV+EF,*,F,합니다,Inflect,XSV,EF,하/XSV+ᄇ니다/EF,*\n",
      ".\tSF,*,*,*,*,*,*,*,*\n",
      "EOS\n"
     ]
    },
    {
     "name": "stderr",
     "output_type": "stream",
     "text": [
      "24/07/04 02:06:41 WARN TaskSchedulerImpl: Initial job has not accepted any resources; check your cluster UI to ensure that workers are registered and have sufficient resources\n",
      "24/07/04 02:06:56 WARN TaskSchedulerImpl: Initial job has not accepted any resources; check your cluster UI to ensure that workers are registered and have sufficient resources\n",
      "24/07/04 02:07:11 WARN TaskSchedulerImpl: Initial job has not accepted any resources; check your cluster UI to ensure that workers are registered and have sufficient resources\n"
     ]
    }
   ],
   "source": [
    "file_path = \"/home/hadoop/DE31-3rd_team3/Crawler/counter.txt\"\n",
    "text_file_rdd = spark.sparkContext.textFile(file_path)\n",
    "with open(file_path, 'r', encoding='utf-8') as file:\n",
    "    text_file = file.read()  \n",
    "\n",
    "tokens = word_tokenize(text_file)\n",
    "print(tokens)\n"
   ]
  },
  {
   "cell_type": "code",
   "execution_count": null,
   "id": "4c4ff673",
   "metadata": {},
   "outputs": [],
   "source": [
    "# tokens가 str이므로..."
   ]
  },
  {
   "cell_type": "code",
   "execution_count": 101,
   "id": "ce2c26c1",
   "metadata": {},
   "outputs": [],
   "source": [
    "lines = tokens.strip().split('\\n')\n"
   ]
  },
  {
   "cell_type": "code",
   "execution_count": 78,
   "id": "81dc7a41",
   "metadata": {},
   "outputs": [],
   "source": [
    "from collections import Counter"
   ]
  },
  {
   "cell_type": "code",
   "execution_count": 95,
   "id": "b4511916",
   "metadata": {},
   "outputs": [],
   "source": [
    "dic = dict()"
   ]
  },
  {
   "cell_type": "code",
   "execution_count": 102,
   "id": "91bd22a9",
   "metadata": {},
   "outputs": [
    {
     "data": {
      "text/plain": [
       "['하둡\\tNNP,*,T,하둡,*,*,*,*,*',\n",
       " '은\\tJX,*,T,은,*,*,*,*,*',\n",
       " '상용\\tNNG,*,T,상용,*,*,*,*,*']"
      ]
     },
     "execution_count": 102,
     "metadata": {},
     "output_type": "execute_result"
    }
   ],
   "source": [
    "lines[0:3]"
   ]
  },
  {
   "cell_type": "code",
   "execution_count": 124,
   "id": "6aa51839",
   "metadata": {},
   "outputs": [
    {
     "name": "stdout",
     "output_type": "stream",
     "text": [
      "EOS ------>error\n"
     ]
    }
   ],
   "source": [
    "for i in lines:\n",
    "    try:\n",
    "        word= i.split(\"\\t\")[0]\n",
    "        stop_check = i.split(\"\\t\")[1].split(\",\")[0]\n",
    "        # print(stop_check)\n",
    "        if stop_check[0] ==\"N\":\n",
    "            if word not in dic:\n",
    "                dic[word]=1\n",
    "            else:\n",
    "                dic[word]+=1\n",
    "\n",
    "    except IndexError:\n",
    "        print(f\"{i} ------>error\") #끝에 EOS\n",
    "        continue\n",
    "    # word = i.split(\"\\t\")\n",
    "    # print(len(i.split(\"\\t\")))\n",
    "    # stop_check = i.split(\"\\t\")[2]\n",
    "    # print(word)\n",
    "    # print(word[1])\n",
    "    # if word not in dic:\n",
    "    #     dic[word]=1\n",
    "    # else:\n",
    "    #     dic[word]+=1"
   ]
  },
  {
   "cell_type": "code",
   "execution_count": 136,
   "id": "59a097b4",
   "metadata": {},
   "outputs": [
    {
     "name": "stdout",
     "output_type": "stream",
     "text": [
      "하둡: 8\n",
      "상용: 2\n",
      "하드웨어: 2\n",
      "클러스터: 2\n",
      "데이터: 4\n",
      "세트: 2\n",
      "분산: 4\n",
      "수: 2\n",
      "프레임워크: 2\n",
      "처리: 4\n",
      "서버: 2\n",
      "동시: 2\n",
      "병렬: 2\n",
      "수행: 2\n",
      "고객: 2\n",
      "프로그램: 2\n",
      "제출: 2\n",
      "말: 2\n",
      "핵심: 2\n",
      "구성: 2\n",
      "요소: 2\n",
      "메타데이터: 2\n",
      "파일: 2\n",
      "시스템: 2\n"
     ]
    },
    {
     "name": "stderr",
     "output_type": "stream",
     "text": [
      "24/07/04 02:07:26 WARN TaskSchedulerImpl: Initial job has not accepted any resources; check your cluster UI to ensure that workers are registered and have sufficient resources\n",
      "24/07/04 02:07:41 WARN TaskSchedulerImpl: Initial job has not accepted any resources; check your cluster UI to ensure that workers are registered and have sufficient resources\n",
      "24/07/04 02:07:56 WARN TaskSchedulerImpl: Initial job has not accepted any resources; check your cluster UI to ensure that workers are registered and have sufficient resources\n",
      "24/07/04 02:08:11 WARN TaskSchedulerImpl: Initial job has not accepted any resources; check your cluster UI to ensure that workers are registered and have sufficient resources\n",
      "24/07/04 02:08:26 WARN TaskSchedulerImpl: Initial job has not accepted any resources; check your cluster UI to ensure that workers are registered and have sufficient resources\n",
      "24/07/04 02:08:41 WARN TaskSchedulerImpl: Initial job has not accepted any resources; check your cluster UI to ensure that workers are registered and have sufficient resources\n",
      "24/07/04 02:08:56 WARN TaskSchedulerImpl: Initial job has not accepted any resources; check your cluster UI to ensure that workers are registered and have sufficient resources\n",
      "24/07/04 02:09:11 WARN TaskSchedulerImpl: Initial job has not accepted any resources; check your cluster UI to ensure that workers are registered and have sufficient resources\n",
      "24/07/04 02:09:26 WARN TaskSchedulerImpl: Initial job has not accepted any resources; check your cluster UI to ensure that workers are registered and have sufficient resources\n",
      "24/07/04 02:09:41 WARN TaskSchedulerImpl: Initial job has not accepted any resources; check your cluster UI to ensure that workers are registered and have sufficient resources\n",
      "24/07/04 02:09:56 WARN TaskSchedulerImpl: Initial job has not accepted any resources; check your cluster UI to ensure that workers are registered and have sufficient resources\n",
      "24/07/04 02:10:11 WARN TaskSchedulerImpl: Initial job has not accepted any resources; check your cluster UI to ensure that workers are registered and have sufficient resources\n",
      "24/07/04 02:10:26 WARN TaskSchedulerImpl: Initial job has not accepted any resources; check your cluster UI to ensure that workers are registered and have sufficient resources\n",
      "24/07/04 02:10:41 WARN TaskSchedulerImpl: Initial job has not accepted any resources; check your cluster UI to ensure that workers are registered and have sufficient resources\n",
      "24/07/04 02:10:56 WARN TaskSchedulerImpl: Initial job has not accepted any resources; check your cluster UI to ensure that workers are registered and have sufficient resources\n",
      "24/07/04 02:11:11 WARN TaskSchedulerImpl: Initial job has not accepted any resources; check your cluster UI to ensure that workers are registered and have sufficient resources\n",
      "24/07/04 02:11:26 WARN TaskSchedulerImpl: Initial job has not accepted any resources; check your cluster UI to ensure that workers are registered and have sufficient resources\n",
      "24/07/04 02:11:41 WARN TaskSchedulerImpl: Initial job has not accepted any resources; check your cluster UI to ensure that workers are registered and have sufficient resources\n",
      "24/07/04 02:11:56 WARN TaskSchedulerImpl: Initial job has not accepted any resources; check your cluster UI to ensure that workers are registered and have sufficient resources\n",
      "24/07/04 02:12:11 WARN TaskSchedulerImpl: Initial job has not accepted any resources; check your cluster UI to ensure that workers are registered and have sufficient resources\n",
      "24/07/04 02:12:26 WARN TaskSchedulerImpl: Initial job has not accepted any resources; check your cluster UI to ensure that workers are registered and have sufficient resources\n",
      "24/07/04 02:12:41 WARN TaskSchedulerImpl: Initial job has not accepted any resources; check your cluster UI to ensure that workers are registered and have sufficient resources\n",
      "24/07/04 02:12:56 WARN TaskSchedulerImpl: Initial job has not accepted any resources; check your cluster UI to ensure that workers are registered and have sufficient resources\n",
      "24/07/04 02:13:11 WARN TaskSchedulerImpl: Initial job has not accepted any resources; check your cluster UI to ensure that workers are registered and have sufficient resources\n",
      "24/07/04 02:13:26 WARN TaskSchedulerImpl: Initial job has not accepted any resources; check your cluster UI to ensure that workers are registered and have sufficient resources\n",
      "24/07/04 02:13:41 WARN TaskSchedulerImpl: Initial job has not accepted any resources; check your cluster UI to ensure that workers are registered and have sufficient resources\n",
      "24/07/04 02:13:56 WARN TaskSchedulerImpl: Initial job has not accepted any resources; check your cluster UI to ensure that workers are registered and have sufficient resources\n",
      "24/07/04 02:14:11 WARN TaskSchedulerImpl: Initial job has not accepted any resources; check your cluster UI to ensure that workers are registered and have sufficient resources\n",
      "24/07/04 02:14:26 WARN TaskSchedulerImpl: Initial job has not accepted any resources; check your cluster UI to ensure that workers are registered and have sufficient resources\n",
      "[Stage 0:>                                                          (0 + 0) / 1]\r"
     ]
    }
   ],
   "source": [
    "for word, count in dic.items():\n",
    "    print(f'{word}: {count}')\n",
    "    # pass"
   ]
  }
 ],
 "metadata": {
  "kernelspec": {
   "display_name": "Python 3 (ipykernel)",
   "language": "python",
   "name": "python3"
  },
  "language_info": {
   "codemirror_mode": {
    "name": "ipython",
    "version": 3
   },
   "file_extension": ".py",
   "mimetype": "text/x-python",
   "name": "python",
   "nbconvert_exporter": "python",
   "pygments_lexer": "ipython3",
   "version": "3.10.12"
  }
 },
 "nbformat": 4,
 "nbformat_minor": 5
}
