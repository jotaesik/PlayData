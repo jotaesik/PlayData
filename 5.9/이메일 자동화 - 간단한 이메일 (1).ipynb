{
 "cells": [
  {
   "cell_type": "markdown",
   "metadata": {},
   "source": [
    "# 이메일 자동화 - 간단한 이메일"
   ]
  },
  {
   "cell_type": "markdown",
   "metadata": {},
   "source": [
    "* smtplib는 메일 정보를 SMTP 형태로 보내주는 라이브러리\n",
    "* email은 메일 발송을 필요한 정보를 편리하게 사용할 수 있게 해주는  라이브러리입니다. "
   ]
  },
  {
   "cell_type": "code",
   "execution_count": 1,
   "metadata": {},
   "outputs": [],
   "source": [
    "import smtplib\n",
    "from email.mime.multipart import MIMEMultipart\n",
    "from email.mime.text import MIMEText\n",
    "from email.utils import formatdate"
   ]
  },
  {
   "cell_type": "markdown",
   "metadata": {},
   "source": [
    "# g-mail 설정\n",
    "* gmail를 사용하여 메일을 보내겠습니다.\n",
    "* gmail의 smtp를 사용하기 위해서 보안 수준을 조정해야 합니다.(아래 주소 참조)\n",
    "    - https://myaccount.google.com/lesssecureapps\n",
    "    \n",
    "----\n",
    "* 메일 제공 업체의 smtp 정보    \n",
    "    > gmail : smtp.gmail.com / 465\n",
    "    \n",
    "    > naver : smtp.naver.com / 465\n",
    "    \n",
    "    > daum  : smtp.daum.net / 465"
   ]
  },
  {
   "cell_type": "markdown",
   "metadata": {},
   "source": [
    "* 아래 코드는 계정 정보를 위해서..."
   ]
  },
  {
   "cell_type": "markdown",
   "metadata": {},
   "source": [
    "with open(\"./mypass.txt\", \"r\") as f:\n",
    "    for x in f:\n",
    "        id_, pass_, to_ = x.split(\",\")"
   ]
  },
  {
   "cell_type": "code",
   "execution_count": 3,
   "metadata": {},
   "outputs": [],
   "source": [
    "id_ = \"email\"\n",
    "pass_ = 'pass'    "
   ]
  },
  {
   "cell_type": "code",
   "execution_count": 4,
   "metadata": {},
   "outputs": [
    {
     "data": {
      "text/plain": [
       "(235, b'2.7.0 Accepted')"
      ]
     },
     "execution_count": 4,
     "metadata": {},
     "output_type": "execute_result"
    }
   ],
   "source": [
    "smtp = smtplib.SMTP_SSL(\"smtp.gmail.com\", 465) \n",
    "smtp.login(id_, pass_)"
   ]
  },
  {
   "cell_type": "markdown",
   "metadata": {},
   "source": [
    "## 메일 내용 설정"
   ]
  },
  {
   "cell_type": "code",
   "execution_count": 6,
   "metadata": {},
   "outputs": [],
   "source": [
    "email_from = id_\n",
    "email_to = \"email\"\n",
    "email_date = formatdate(localtime=True)\n",
    "email_subject = \"영화 달콤한 인생 - 명대사\"\n",
    "email_message = \"\"\"\n",
    "안녕하세요. \n",
    "\n",
    "제가 좋아하는 영화의 좋아하는 대사를 적어봅니다. \n",
    "\n",
    "어느 맑은 봄날, 바람에 이리저리 휘날리는 나뭇가지를 바라보며 제자가 물었다.\n",
    "\n",
    "스승님, 저것은 나뭇가지가 움직이는 겁니까, 바람이 움직이는 겁니까? \n",
    "\n",
    "스승은 제자가 가리키는 곳은 보지도 않은 채, 웃으며 말했다.\n",
    "\n",
    "무릇, 움직이는 것은 나뭇가지도 아니고, 바람도 아니며, 네 마음뿐이다.\n",
    "\"\"\""
   ]
  },
  {
   "cell_type": "markdown",
   "metadata": {},
   "source": [
    "* MIMEMultipart는 이메일 전송에 필요한 정보를 담고 있습니다.\n",
    "* MIMEText는 텍스트 내용을 첨부하기 위해서 사용합니다. \n",
    "----\n",
    "* MIME(Multipurpose Internet Mail Extensions) : 이메일 표준 형식 "
   ]
  },
  {
   "cell_type": "markdown",
   "metadata": {},
   "source": [
    "* MIMEMultipart를 사용하여 msg 클래스 변수를 생성 \n",
    "* alternative는 MIMEMultipart의 타입을 의미 \n",
    "    > 첨부파일이 포함되는 메일이라면 mixed로 설정(기본값)"
   ]
  },
  {
   "cell_type": "code",
   "execution_count": 7,
   "metadata": {},
   "outputs": [],
   "source": [
    "msg = MIMEMultipart('alternative')\n",
    "\n",
    "# 보내는 사람 \n",
    "msg['From'] = email_from\n",
    "\n",
    "# 받는 사람 \n",
    "msg['To'] = email_to\n",
    "\n",
    "# 날짜\n",
    "msg['Date'] = email_date\n",
    "\n",
    "# 제목\n",
    "msg['Subject'] = email_subject\n"
   ]
  },
  {
   "cell_type": "markdown",
   "metadata": {},
   "source": [
    "* MIMEText를 사용하여 내용 문자열을 MIMEText 클래스 변수 형태로 반환\n",
    "* html 형식으로 보낼 경우 본문 내용을 html 형태로 작성해야 합니다."
   ]
  },
  {
   "cell_type": "code",
   "execution_count": 8,
   "metadata": {},
   "outputs": [],
   "source": [
    "email_message_html = \"\"\"\n",
    "안녕하세요. \n",
    "\n",
    "제가 좋아하는 영화의 좋아하는 대사를 적어봅니다. <br>\n",
    "\n",
    "어느 맑은 봄날, 바람에 이리저리 휘날리는 나뭇가지를 바라보며 제자가 물었다.\n",
    "\n",
    "스승님, 저것은 나뭇가지가 움직이는 겁니까, 바람이 움직이는 겁니까? <br>\n",
    "\n",
    "스승은 제자가 가리키는 곳은 보지도 않은 채, 웃으며 말했다.\n",
    "\n",
    "무릇, 움직이는 것은 나뭇가지도 아니고, 바람도 아니며, 네 마음뿐이다.\n",
    "\"\"\""
   ]
  },
  {
   "cell_type": "code",
   "execution_count": 9,
   "metadata": {},
   "outputs": [],
   "source": [
    "# 본문 추가 (html형식으로 인코딩 방식은 utf-8)\n",
    "#msg.attach(MIMEText(email_message_html, \"html\", _charset=\"utf-8\"))\n",
    "msg.attach(MIMEText(email_message))"
   ]
  },
  {
   "cell_type": "markdown",
   "metadata": {},
   "source": [
    "## 메일 보내기\n",
    "* sendmail() 메소드를 사용해서 메일을 발송합니다. \n",
    "* sendmail()의 보내는 사람, 받는 사람, 본문 내용 순서로 전달합니다. \n",
    "* MIMEMultipart에서 설정한 보내는 사람, 받는 사람은 이메일이 아니라 이름을 의미합니다. \n",
    "* 여러 명에서 이메일을 전송하고 싶다면 아래 to_ 부분을 메일 목록을 리스트로 작성하여 전달합면 됩니다."
   ]
  },
  {
   "cell_type": "code",
   "execution_count": 11,
   "metadata": {},
   "outputs": [
    {
     "data": {
      "text/plain": [
       "{}"
      ]
     },
     "execution_count": 11,
     "metadata": {},
     "output_type": "execute_result"
    }
   ],
   "source": [
    "smtp.sendmail(id_,email_to, msg.as_string())"
   ]
  },
  {
   "cell_type": "code",
   "execution_count": null,
   "metadata": {},
   "outputs": [],
   "source": []
  }
 ],
 "metadata": {
  "kernelspec": {
   "display_name": "Python 3 (ipykernel)",
   "language": "python",
   "name": "python3"
  },
  "language_info": {
   "codemirror_mode": {
    "name": "ipython",
    "version": 3
   },
   "file_extension": ".py",
   "mimetype": "text/x-python",
   "name": "python",
   "nbconvert_exporter": "python",
   "pygments_lexer": "ipython3",
   "version": "3.10.12"
  }
 },
 "nbformat": 4,
 "nbformat_minor": 4
}
