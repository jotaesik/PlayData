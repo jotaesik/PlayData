{
 "cells": [
  {
   "cell_type": "code",
   "execution_count": 2,
   "id": "94c36475-c654-48cb-96d9-58901f04270d",
   "metadata": {},
   "outputs": [],
   "source": [
    "import pandas as pd\n",
    "import numpy as np\n",
    "import matplotlib.pyplot as plt\n",
    "import seaborn as sns\n",
    "from datetime import datetime\n",
    "import warnings\n",
    "warnings.simplefilter(action='ignore', category=FutureWarning)\n",
    "customers = pd.read_csv('./dacon_data/open/customers.csv')\n",
    "locations = pd.read_csv('./dacon_data/open/locations.csv')\n",
    "orders = pd.read_csv('./dacon_data/open/orders.csv')\n",
    "order_items = pd.read_csv('./dacon_data/open/order_items.csv')\n",
    "payments = pd.read_csv('./dacon_data/open/payments.csv')\n",
    "products = pd.read_csv('./dacon_data/open/products.csv')\n",
    "reviews = pd.read_csv('./dacon_data/open/reviews.csv')\n",
    "sellers = pd.read_csv('./dacon_data/open/sellers.csv')\n",
    "temp = pd.merge(reviews,order_items, how='inner',on='Order_id')\n",
    "temp = pd.merge(temp,orders, how='inner',on='Order_id')\n",
    "temp = pd.merge(temp,payments, how='inner',on='Order_id')\n",
    "temp = pd.merge(temp,products, how='inner',on='Product_id')\n",
    "temp = pd.merge(temp,customers, how='inner',on='Customer_id')\n",
    "temp = pd.merge(temp,sellers, how='inner',on='Seller_id')\n",
    "temp = temp.drop([\"Review_creation_date\",\"Review_answer_timestamp\",\"Order_status\",\"Payment_sequential\",\"Payment_type\",\"Payment_installments\"],axis=1)\n",
    "# temp = temp.drop([\"Product_weight_g\",\"Product_length_cm\",\"Product_height_cm\",\"Customer_zipcode_prefix\",\"Seller_zipcode_prefix\"],axis=1)\n",
    "# temp = temp.drop([\"Product_width_cm\"],axis=1)"
   ]
  },
  {
   "cell_type": "code",
   "execution_count": 510,
   "id": "5d42fbc6-c4bc-4a37-8470-a391a19c1bc8",
   "metadata": {},
   "outputs": [],
   "source": [
    "# temp = temp.drop([\"Product_width_cm\"],axis=1)"
   ]
  },
  {
   "cell_type": "code",
   "execution_count": 3,
   "id": "c03470f4-aeb5-4d97-8e19-6e922ad35ad9",
   "metadata": {},
   "outputs": [
    {
     "data": {
      "text/plain": [
       "(104956, 26)"
      ]
     },
     "execution_count": 3,
     "metadata": {},
     "output_type": "execute_result"
    }
   ],
   "source": [
    "temp.shape"
   ]
  },
  {
   "cell_type": "code",
   "execution_count": 511,
   "id": "f0cbccec-b444-4a2e-8540-f68b1d15d449",
   "metadata": {},
   "outputs": [],
   "source": [
    "# temp = temp.drop([\"Product_weight_g\",\"Product_length_cm\",\"Product_height_cm\"],axis=1)"
   ]
  },
  {
   "cell_type": "code",
   "execution_count": 4,
   "id": "5a4fd205-52a7-4710-8fb2-b312753f32e6",
   "metadata": {},
   "outputs": [],
   "source": [
    "# locations[locations.Geolocation_zipcode_prefix == 14600]\n",
    "# location 중복된 우편번호?\n",
    "# locations.Geolocation_zipcode_prefix.unique().size #19015\n",
    "# locations.shape #1000163\n",
    "# locations.Geolocation_zipcode_prefix.value_counts().reset_index()\n",
    "locations_group_lat=locations.groupby([\"Geolocation_zipcode_prefix\"])[\"Geolocation_lat\"].mean().reset_index()\n",
    "locations_group_lng=locations.groupby([\"Geolocation_zipcode_prefix\"])[\"Geolocation_lng\"].mean().reset_index()"
   ]
  },
  {
   "cell_type": "code",
   "execution_count": 5,
   "id": "b3383050-51a4-41e6-9553-b1402b750f8c",
   "metadata": {},
   "outputs": [],
   "source": [
    "locations_group =  pd.merge(locations_group_lat, locations_group_lng, how = 'inner', on=\"Geolocation_zipcode_prefix\")"
   ]
  },
  {
   "cell_type": "code",
   "execution_count": 6,
   "id": "19eed104-ff76-4b7e-96e7-a94239ffd7d0",
   "metadata": {},
   "outputs": [
    {
     "data": {
      "text/html": [
       "<div>\n",
       "<style scoped>\n",
       "    .dataframe tbody tr th:only-of-type {\n",
       "        vertical-align: middle;\n",
       "    }\n",
       "\n",
       "    .dataframe tbody tr th {\n",
       "        vertical-align: top;\n",
       "    }\n",
       "\n",
       "    .dataframe thead th {\n",
       "        text-align: right;\n",
       "    }\n",
       "</style>\n",
       "<table border=\"1\" class=\"dataframe\">\n",
       "  <thead>\n",
       "    <tr style=\"text-align: right;\">\n",
       "      <th></th>\n",
       "      <th>Geolocation_zipcode_prefix</th>\n",
       "      <th>Geolocation_lat</th>\n",
       "    </tr>\n",
       "  </thead>\n",
       "  <tbody>\n",
       "    <tr>\n",
       "      <th>3069</th>\n",
       "      <td>6030</td>\n",
       "      <td>-23.557079</td>\n",
       "    </tr>\n",
       "  </tbody>\n",
       "</table>\n",
       "</div>"
      ],
      "text/plain": [
       "      Geolocation_zipcode_prefix  Geolocation_lat\n",
       "3069                        6030       -23.557079"
      ]
     },
     "execution_count": 6,
     "metadata": {},
     "output_type": "execute_result"
    }
   ],
   "source": [
    "# 6030\n",
    "locations_group_lat[locations_group_lat.Geolocation_zipcode_prefix==6030]"
   ]
  },
  {
   "cell_type": "code",
   "execution_count": 7,
   "id": "69013301-3108-41d1-8b6f-b0ca1d57edec",
   "metadata": {},
   "outputs": [],
   "source": [
    "temp = pd.merge(temp, locations_group, left_on = 'Customer_zipcode_prefix', right_on = 'Geolocation_zipcode_prefix', how = 'inner')"
   ]
  },
  {
   "cell_type": "code",
   "execution_count": 8,
   "id": "e8cc5976-c22c-45d6-abe5-f3fdc427ab76",
   "metadata": {},
   "outputs": [],
   "source": [
    "temp = temp.rename(columns={'Geolocation_lat':'Customer_lat',\"Geolocation_lng\" : \"Customer_lng\" })"
   ]
  },
  {
   "cell_type": "code",
   "execution_count": 9,
   "id": "4142e6be-b260-4be0-8093-58989cb10843",
   "metadata": {},
   "outputs": [],
   "source": [
    "# locations_group_lat=locations.groupby([\"Geolocation_zipcode_prefix\"])[\"Geolocation_lat\"].mean().reset_index()\n",
    "# locations_group_lng=locations.groupby([\"Geolocation_zipcode_prefix\"])[\"Geolocation_lng\"].mean().reset_index()\n",
    "# locations_group =  pd.merge(locations_group_lat, locations_group_lng, how = 'inner', on=\"Geolocation_zipcode_prefix\")\n",
    "temp = pd.merge(temp, locations_group, left_on = 'Seller_zipcode_prefix', right_on = 'Geolocation_zipcode_prefix', how = 'inner')\n",
    "temp = temp.rename(columns={'Geolocation_lat':'Seller_lat',\"Geolocation_lng\" : \"Seller_lng\" })"
   ]
  },
  {
   "cell_type": "code",
   "execution_count": 10,
   "id": "ce91806a-d4ff-45a7-b988-cefffb0b7cdf",
   "metadata": {},
   "outputs": [],
   "source": [
    "temp.drop([\"Geolocation_zipcode_prefix_x\",\"Geolocation_zipcode_prefix_y\",\"Customer_zipcode_prefix\", \"Seller_zipcode_prefix\"], axis=1,inplace=True)"
   ]
  },
  {
   "cell_type": "code",
   "execution_count": 11,
   "id": "10faa490-2bed-4814-bf89-f51d92a0fc21",
   "metadata": {},
   "outputs": [],
   "source": [
    "temp[\"Distance\"] = ((temp[\"Customer_lat\"] - temp[\"Seller_lat\"])**2 + (temp[\"Customer_lng\"] - temp[\"Seller_lng\"])**2) **(1/2)"
   ]
  },
  {
   "cell_type": "code",
   "execution_count": 520,
   "id": "b72e52e5-9d8a-48ef-bda2-f6cfdff542e9",
   "metadata": {},
   "outputs": [
    {
     "data": {
      "text/plain": [
       "0.0036768930253935424"
      ]
     },
     "execution_count": 520,
     "metadata": {},
     "output_type": "execute_result"
    }
   ],
   "source": [
    "384 / temp.shape[0]"
   ]
  },
  {
   "cell_type": "code",
   "execution_count": 521,
   "id": "d3a2063e-2cdd-443c-9690-ace45124b2e2",
   "metadata": {},
   "outputs": [],
   "source": [
    "# temp[temp.Distance==0] # 21개"
   ]
  },
  {
   "cell_type": "code",
   "execution_count": 441,
   "id": "e85a7a12-432b-45a1-b235-6a3d3a985c82",
   "metadata": {},
   "outputs": [],
   "source": [
    "# temp[temp.Freight_value==0] #384 0.3퍼라서 무시가능"
   ]
  },
  {
   "cell_type": "code",
   "execution_count": 442,
   "id": "0133b070-40aa-40ad-bd40-2c8034afbc14",
   "metadata": {},
   "outputs": [],
   "source": [
    "# temp[temp.Distance==0][\"Freight_value\"] #이동거리가 없는데 왜 요금을 받을까? 어떻게 처리할까=>무시하자"
   ]
  },
  {
   "cell_type": "code",
   "execution_count": 443,
   "id": "03aba2be-9471-4cba-bb61-245dbbad22cd",
   "metadata": {},
   "outputs": [],
   "source": [
    "# temp[\"Distance\"].describe()"
   ]
  },
  {
   "cell_type": "code",
   "execution_count": 12,
   "id": "97122cd1-5994-4dfc-8144-e9ad64c32a73",
   "metadata": {},
   "outputs": [],
   "source": [
    "temp_drop = temp[temp.Distance!=0]"
   ]
  },
  {
   "cell_type": "code",
   "execution_count": 13,
   "id": "e7f8e442-ec62-45d1-98bc-b98d9f689b12",
   "metadata": {},
   "outputs": [
    {
     "data": {
      "text/plain": [
       "21"
      ]
     },
     "execution_count": 13,
     "metadata": {},
     "output_type": "execute_result"
    }
   ],
   "source": [
    "temp.shape[0]- temp_drop.shape[0]"
   ]
  },
  {
   "cell_type": "code",
   "execution_count": 14,
   "id": "1829d008-1981-456c-b226-6ab9359d57d0",
   "metadata": {},
   "outputs": [
    {
     "data": {
      "text/plain": [
       "104415"
      ]
     },
     "execution_count": 14,
     "metadata": {},
     "output_type": "execute_result"
    }
   ],
   "source": [
    "temp_drop.shape[0]"
   ]
  },
  {
   "cell_type": "code",
   "execution_count": 15,
   "id": "3295c875-d72d-4bba-95d3-13e551ca2ca1",
   "metadata": {},
   "outputs": [],
   "source": [
    "temp_drop = temp_drop[temp_drop.Freight_value!=0]"
   ]
  },
  {
   "cell_type": "code",
   "execution_count": 16,
   "id": "97383093-5046-45c5-8111-2da8906eab0c",
   "metadata": {},
   "outputs": [
    {
     "data": {
      "text/plain": [
       "104031"
      ]
     },
     "execution_count": 16,
     "metadata": {},
     "output_type": "execute_result"
    }
   ],
   "source": [
    "temp_drop.shape[0]"
   ]
  },
  {
   "cell_type": "code",
   "execution_count": 17,
   "id": "de423420-ab4e-4206-a815-11edf4a22e17",
   "metadata": {},
   "outputs": [
    {
     "data": {
      "text/plain": [
       "count    104031.000000\n",
       "mean          5.548139\n",
       "std           5.328310\n",
       "min           0.000488\n",
       "25%           1.829185\n",
       "50%           4.093069\n",
       "75%           7.382681\n",
       "max          48.219429\n",
       "Name: Distance, dtype: float64"
      ]
     },
     "execution_count": 17,
     "metadata": {},
     "output_type": "execute_result"
    }
   ],
   "source": [
    "temp_drop.Distance.describe()"
   ]
  },
  {
   "cell_type": "code",
   "execution_count": 18,
   "id": "7ed7214c-2bf8-4abb-a311-7144c042a369",
   "metadata": {},
   "outputs": [
    {
     "data": {
      "text/plain": [
       "count    104031.000000\n",
       "mean         19.847675\n",
       "std          15.363738\n",
       "min           0.010000\n",
       "25%          13.080000\n",
       "50%          16.180000\n",
       "75%          20.990000\n",
       "max         409.680000\n",
       "Name: Freight_value, dtype: float64"
      ]
     },
     "execution_count": 18,
     "metadata": {},
     "output_type": "execute_result"
    }
   ],
   "source": [
    "temp_drop.Freight_value.describe()"
   ]
  },
  {
   "cell_type": "code",
   "execution_count": 19,
   "id": "e754e817-1b02-4119-9c06-53a730d4477b",
   "metadata": {},
   "outputs": [],
   "source": [
    "temp_drop[\"Pay_distance\"] = temp_drop[\"Freight_value\"] / temp_drop[\"Distance\"]\n",
    "#5km 에 3000원이면 1km 600원인건지 "
   ]
  },
  {
   "cell_type": "code",
   "execution_count": 20,
   "id": "64f6b2ff-a682-4522-b6ff-ba074176fe05",
   "metadata": {},
   "outputs": [
    {
     "data": {
      "text/plain": [
       "count    104031.000000\n",
       "mean         17.129127\n",
       "std          90.265786\n",
       "min           0.001198\n",
       "25%           2.583370\n",
       "50%           4.279616\n",
       "75%           9.260592\n",
       "max       15943.628976\n",
       "Name: Pay_distance, dtype: float64"
      ]
     },
     "execution_count": 20,
     "metadata": {},
     "output_type": "execute_result"
    }
   ],
   "source": [
    "temp_drop.Pay_distance.describe()"
   ]
  },
  {
   "cell_type": "code",
   "execution_count": 21,
   "id": "9e931c01-e569-451e-8955-a0df572e1b96",
   "metadata": {},
   "outputs": [],
   "source": [
    "data_pay_distance = np.array(temp_drop.Pay_distance)"
   ]
  },
  {
   "cell_type": "code",
   "execution_count": 22,
   "id": "baecbafd-8604-4ec0-9912-271cfec55d2b",
   "metadata": {},
   "outputs": [],
   "source": [
    "Q1 = np.percentile(data_pay_distance, 25)\n",
    "Q3 = np.percentile(data_pay_distance, 75)\n",
    "IQR = Q3 - Q1\n",
    "lower_bound = Q1 - 1.5 * IQR\n",
    "upper_bound = Q3 + 1.5 * IQR\n",
    "outliers = data_pay_distance[(data_pay_distance < lower_bound) | (data_pay_distance > upper_bound)]"
   ]
  },
  {
   "cell_type": "code",
   "execution_count": 23,
   "id": "6f36111b-d05e-476d-b1b3-3b855aba619b",
   "metadata": {},
   "outputs": [
    {
     "data": {
      "text/plain": [
       "(15112,)"
      ]
     },
     "execution_count": 23,
     "metadata": {},
     "output_type": "execute_result"
    }
   ],
   "source": [
    "outliers.shape #이상치의 개수가 15112 개다"
   ]
  },
  {
   "cell_type": "code",
   "execution_count": 24,
   "id": "d53b6ead-d984-4e0d-a985-a87d8767d613",
   "metadata": {},
   "outputs": [
    {
     "data": {
      "text/plain": [
       "104031"
      ]
     },
     "execution_count": 24,
     "metadata": {},
     "output_type": "execute_result"
    }
   ],
   "source": [
    "temp_drop.shape[0] #이상치에 포함이 안되는것은 104031개다"
   ]
  },
  {
   "cell_type": "code",
   "execution_count": 25,
   "id": "b7e7041e-a7f4-473b-8e3a-fe0e5887b083",
   "metadata": {},
   "outputs": [
    {
     "data": {
      "text/plain": [
       "6.883999470619376"
      ]
     },
     "execution_count": 25,
     "metadata": {},
     "output_type": "execute_result"
    }
   ],
   "source": [
    "temp_drop.shape[0] / outliers.shape[0]  # 7퍼를 무시할수있을까"
   ]
  },
  {
   "cell_type": "code",
   "execution_count": 26,
   "id": "684de66b-79b7-4a58-a090-d4501acb492b",
   "metadata": {},
   "outputs": [],
   "source": [
    "temp_drop[\"Outliers\"] = (temp_drop['Pay_distance'] < lower_bound) | (temp_drop['Pay_distance'] > upper_bound)"
   ]
  },
  {
   "cell_type": "code",
   "execution_count": 459,
   "id": "3a721d07-df53-4c88-97cf-8150d611532f",
   "metadata": {},
   "outputs": [],
   "source": [
    "# temp_drop[temp_drop[\"Outliers\"]==True] #개수확인 15112개 맞다"
   ]
  },
  {
   "cell_type": "code",
   "execution_count": 27,
   "id": "bf431c8e-c7f6-4ab0-81f7-8beea58fa25f",
   "metadata": {},
   "outputs": [],
   "source": [
    "temp_drop[\"earn\"] = temp_drop['Price']* temp_drop['Order_item_id'] #화물가치빼기"
   ]
  },
  {
   "cell_type": "code",
   "execution_count": 28,
   "id": "96823ac1-f653-4e3f-8c0f-d97c6bcdfe12",
   "metadata": {},
   "outputs": [
    {
     "data": {
      "text/plain": [
       "14105158.81"
      ]
     },
     "execution_count": 28,
     "metadata": {},
     "output_type": "execute_result"
    }
   ],
   "source": [
    "all_earn_sum = temp_drop[\"earn\"].sum()\n",
    "all_earn_sum  # 11665320.41  운임요금과 거리가 0인걸 제거해도 큰차이가 나지않는다\n",
    "# 11762681.18"
   ]
  },
  {
   "cell_type": "code",
   "execution_count": 29,
   "id": "78eb54f9-5499-4ae0-b21a-01e6cba9c57c",
   "metadata": {},
   "outputs": [],
   "source": [
    "temp_drop_Outliers = temp_drop.groupby([\"Outliers\"])[\"earn\"].sum()"
   ]
  },
  {
   "cell_type": "code",
   "execution_count": 30,
   "id": "2b7069a6-15a4-4719-9df9-d076c94d642a",
   "metadata": {},
   "outputs": [
    {
     "data": {
      "text/plain": [
       "Outliers\n",
       "False    11864735.12\n",
       "True      2240423.69\n",
       "Name: earn, dtype: float64"
      ]
     },
     "execution_count": 30,
     "metadata": {},
     "output_type": "execute_result"
    }
   ],
   "source": [
    "temp_drop_Outliers #True => 1928918.77"
   ]
  },
  {
   "cell_type": "code",
   "execution_count": 31,
   "id": "50ecf9fe-95cd-496d-8d28-cfffa095c687",
   "metadata": {},
   "outputs": [
    {
     "data": {
      "text/plain": [
       "0.15883718291860904"
      ]
     },
     "execution_count": 31,
     "metadata": {},
     "output_type": "execute_result"
    }
   ],
   "source": [
    "temp_drop_Outliers[1] / all_earn_sum #16퍼를 차지하기에 무시못한다 이상치를 고려해줘야한다."
   ]
  },
  {
   "cell_type": "code",
   "execution_count": 465,
   "id": "135a1f63-57a6-42e8-9751-c1bd683b7bd1",
   "metadata": {},
   "outputs": [],
   "source": [
    "# temp_drop.iloc[0]"
   ]
  },
  {
   "cell_type": "code",
   "execution_count": 466,
   "id": "ea784811-910a-4f30-b594-5e4d717d2793",
   "metadata": {},
   "outputs": [],
   "source": [
    "# temp_drop['Product_weight_g'].head(10)"
   ]
  },
  {
   "cell_type": "code",
   "execution_count": 32,
   "id": "9ca61d7d-7394-4ee8-a3d7-fc516ae04a48",
   "metadata": {},
   "outputs": [],
   "source": [
    "temp_drop['Product_weight_g'] = temp_drop['Product_weight_g'].replace('Unknown', np.nan).fillna(0).astype(float)"
   ]
  },
  {
   "cell_type": "code",
   "execution_count": 33,
   "id": "3e847576-6f91-47c8-881c-7b312581a0e0",
   "metadata": {},
   "outputs": [
    {
     "data": {
      "text/html": [
       "<div>\n",
       "<style scoped>\n",
       "    .dataframe tbody tr th:only-of-type {\n",
       "        vertical-align: middle;\n",
       "    }\n",
       "\n",
       "    .dataframe tbody tr th {\n",
       "        vertical-align: top;\n",
       "    }\n",
       "\n",
       "    .dataframe thead th {\n",
       "        text-align: right;\n",
       "    }\n",
       "</style>\n",
       "<table border=\"1\" class=\"dataframe\">\n",
       "  <thead>\n",
       "    <tr style=\"text-align: right;\">\n",
       "      <th></th>\n",
       "      <th>Freight_value</th>\n",
       "      <th>Distance</th>\n",
       "      <th>Product_weight_g</th>\n",
       "    </tr>\n",
       "  </thead>\n",
       "  <tbody>\n",
       "    <tr>\n",
       "      <th>Freight_value</th>\n",
       "      <td>1.000000</td>\n",
       "      <td>0.391769</td>\n",
       "      <td>0.616224</td>\n",
       "    </tr>\n",
       "    <tr>\n",
       "      <th>Distance</th>\n",
       "      <td>0.391769</td>\n",
       "      <td>1.000000</td>\n",
       "      <td>-0.008208</td>\n",
       "    </tr>\n",
       "    <tr>\n",
       "      <th>Product_weight_g</th>\n",
       "      <td>0.616224</td>\n",
       "      <td>-0.008208</td>\n",
       "      <td>1.000000</td>\n",
       "    </tr>\n",
       "  </tbody>\n",
       "</table>\n",
       "</div>"
      ],
      "text/plain": [
       "                  Freight_value  Distance  Product_weight_g\n",
       "Freight_value          1.000000  0.391769          0.616224\n",
       "Distance               0.391769  1.000000         -0.008208\n",
       "Product_weight_g       0.616224 -0.008208          1.000000"
      ]
     },
     "execution_count": 33,
     "metadata": {},
     "output_type": "execute_result"
    }
   ],
   "source": [
    "temp_drop[['Freight_value', 'Distance',\"Product_weight_g\"]].corr()  #0.392 정도 운임요금과 거리 0.616무게와 더 연관성이 있다 \n",
    "#거의 40퍼와 60퍼\n",
    "# 거리는 줄일수있지만 무게는 줄일수없다. \n",
    "# 무게는 같은 품목일경우 근처로 정해주자"
   ]
  },
  {
   "cell_type": "code",
   "execution_count": 34,
   "id": "398cbb1f-f55e-4c68-9f51-b266b7341ae6",
   "metadata": {},
   "outputs": [],
   "source": [
    "# Product_id : 제품 고유 ID\n",
    "# Product_category_name : 카테고리 이름\n",
    "# Product_weight_g : 제품 무게(g)\n",
    "# Product_length_cm : 제품 길이(cm)\n",
    "# Product_height_cm : 제품 높이(cm)\n",
    "# Product_width_cm : 제품 너비(cm)"
   ]
  },
  {
   "cell_type": "code",
   "execution_count": 35,
   "id": "69621aba-0402-442f-931f-86ced55d6f80",
   "metadata": {},
   "outputs": [
    {
     "data": {
      "text/plain": [
       "count            104031\n",
       "unique            29190\n",
       "top       PRODUCT_08596\n",
       "freq                497\n",
       "Name: Product_id, dtype: object"
      ]
     },
     "execution_count": 35,
     "metadata": {},
     "output_type": "execute_result"
    }
   ],
   "source": [
    "temp_drop['Product_id'].describe() #총 29190개 "
   ]
  },
  {
   "cell_type": "code",
   "execution_count": 36,
   "id": "e390518c-52b6-407f-8bd7-1b2a3b2721de",
   "metadata": {},
   "outputs": [],
   "source": [
    "product_id_counts = temp_drop['Product_id'].value_counts()"
   ]
  },
  {
   "cell_type": "code",
   "execution_count": 37,
   "id": "8aa7a43b-8383-4215-b9dd-c8006ebcb19e",
   "metadata": {},
   "outputs": [
    {
     "data": {
      "text/plain": [
       "count    29190.000000\n",
       "mean         3.563926\n",
       "std         10.550529\n",
       "min          1.000000\n",
       "25%          1.000000\n",
       "50%          1.000000\n",
       "75%          3.000000\n",
       "max        497.000000\n",
       "Name: count, dtype: float64"
      ]
     },
     "execution_count": 37,
     "metadata": {},
     "output_type": "execute_result"
    }
   ],
   "source": [
    "product_id_counts.describe()"
   ]
  },
  {
   "cell_type": "code",
   "execution_count": 38,
   "id": "ae7b6576-9815-40a9-b17c-47ec445cfc8f",
   "metadata": {},
   "outputs": [],
   "source": [
    "product_id_counts_over_10 = product_id_counts[product_id_counts >= 10]"
   ]
  },
  {
   "cell_type": "code",
   "execution_count": 474,
   "id": "bf518fbd-0ee4-4586-af61-9cc1ccdb4c2d",
   "metadata": {},
   "outputs": [],
   "source": [
    "# for i in range(1,100,5):\n",
    "#     print(np.percentile(product_id_counts, i))\n",
    "# 백분위 계산"
   ]
  },
  {
   "cell_type": "code",
   "execution_count": 39,
   "id": "e9220223-cbfa-46d0-89fd-0fe909cd2ae9",
   "metadata": {},
   "outputs": [
    {
     "data": {
      "text/plain": [
       "(1864,)"
      ]
     },
     "execution_count": 39,
     "metadata": {},
     "output_type": "execute_result"
    }
   ],
   "source": [
    "product_id_counts_over_10.shape"
   ]
  },
  {
   "cell_type": "code",
   "execution_count": 40,
   "id": "874543d5-0d7f-4c07-ae42-b12bf846e945",
   "metadata": {},
   "outputs": [],
   "source": [
    "product_id_df = product_id_counts.reset_index()"
   ]
  },
  {
   "cell_type": "code",
   "execution_count": 41,
   "id": "dfd67199-ce5c-4eeb-ae4e-467165d88006",
   "metadata": {},
   "outputs": [],
   "source": [
    "product_id_df_over_10 = product_id_df[product_id_df[\"count\"] >=10]"
   ]
  },
  {
   "cell_type": "code",
   "execution_count": 42,
   "id": "46c93a72-1e55-49db-b566-3de5cba6556d",
   "metadata": {},
   "outputs": [],
   "source": [
    "product_id_list = product_id_df_over_10.Product_id #10개가 넘는 품목의 리스트를 저장"
   ]
  },
  {
   "cell_type": "code",
   "execution_count": 43,
   "id": "a66079fd-bc6f-4968-8c9d-ee7f8ca699b2",
   "metadata": {},
   "outputs": [],
   "source": [
    "temp_drop_10 = temp_drop[temp_drop[\"Product_id\"].isin(product_id_list)] #10개가 넘는 품목의 리스트를 저장하는 데이터프레임"
   ]
  },
  {
   "cell_type": "code",
   "execution_count": 44,
   "id": "2b4493c3-c3a8-4a55-9691-e46ff871d0e1",
   "metadata": {},
   "outputs": [
    {
     "data": {
      "text/plain": [
       "5616745.29"
      ]
     },
     "execution_count": 44,
     "metadata": {},
     "output_type": "execute_result"
    }
   ],
   "source": [
    "temp_drop_10.earn.sum() #총 합 4530190.869999999 나중에 비교해보기위해서"
   ]
  },
  {
   "cell_type": "code",
   "execution_count": 481,
   "id": "5b9c473e-0c1a-4de3-8023-76852b8277f5",
   "metadata": {},
   "outputs": [],
   "source": [
    "#같은 물건을 파는 사람들을 더 거리가 가까운 지점으로 옮기는거야\n",
    "# PRODUCT_08596 \n",
    "# test_temp = temp_drop_10[temp_drop_10.Product_id==\"PRODUCT_08596\"]"
   ]
  },
  {
   "cell_type": "code",
   "execution_count": 482,
   "id": "d5138d93-4533-4336-996e-7f624e0eacd9",
   "metadata": {},
   "outputs": [],
   "source": [
    "# test_temp.Distance.describe()"
   ]
  },
  {
   "cell_type": "code",
   "execution_count": 483,
   "id": "f6d350e0-945d-484a-a3d0-e82fac60d304",
   "metadata": {},
   "outputs": [],
   "source": [
    "# temp_drop_10.iloc[0]"
   ]
  },
  {
   "cell_type": "code",
   "execution_count": 45,
   "id": "ef8a199f-709b-4333-80d5-8d95f5d17226",
   "metadata": {},
   "outputs": [],
   "source": [
    "min_values = temp_drop_10.groupby('Product_id')['Freight_value'].min().reset_index() #각 product_id에 따른 운임요금의 최소값"
   ]
  },
  {
   "cell_type": "code",
   "execution_count": 46,
   "id": "a6d907a9-ba9c-40da-a664-51f39babd8fc",
   "metadata": {},
   "outputs": [
    {
     "data": {
      "text/html": [
       "<div>\n",
       "<style scoped>\n",
       "    .dataframe tbody tr th:only-of-type {\n",
       "        vertical-align: middle;\n",
       "    }\n",
       "\n",
       "    .dataframe tbody tr th {\n",
       "        vertical-align: top;\n",
       "    }\n",
       "\n",
       "    .dataframe thead th {\n",
       "        text-align: right;\n",
       "    }\n",
       "</style>\n",
       "<table border=\"1\" class=\"dataframe\">\n",
       "  <thead>\n",
       "    <tr style=\"text-align: right;\">\n",
       "      <th></th>\n",
       "      <th>Product_id</th>\n",
       "      <th>Freight_value</th>\n",
       "    </tr>\n",
       "  </thead>\n",
       "  <tbody>\n",
       "    <tr>\n",
       "      <th>0</th>\n",
       "      <td>PRODUCT_00006</td>\n",
       "      <td>14.08</td>\n",
       "    </tr>\n",
       "  </tbody>\n",
       "</table>\n",
       "</div>"
      ],
      "text/plain": [
       "      Product_id  Freight_value\n",
       "0  PRODUCT_00006          14.08"
      ]
     },
     "execution_count": 46,
     "metadata": {},
     "output_type": "execute_result"
    }
   ],
   "source": [
    "min_values.head(1)"
   ]
  },
  {
   "cell_type": "code",
   "execution_count": 47,
   "id": "84992896-fcb0-4a67-a5e2-1149b76a1605",
   "metadata": {},
   "outputs": [],
   "source": [
    "temp_drop_10_1 = temp_drop_10.copy()"
   ]
  },
  {
   "cell_type": "code",
   "execution_count": 48,
   "id": "212c2f40-0072-4154-9798-50c0bee700d7",
   "metadata": {},
   "outputs": [],
   "source": [
    "temp_drop_10_merged = pd.merge(temp_drop_10_1,min_values, how='inner',on='Product_id')"
   ]
  },
  {
   "cell_type": "code",
   "execution_count": 488,
   "id": "53711527-9e9b-4980-a7ea-8948f932a966",
   "metadata": {},
   "outputs": [],
   "source": [
    "# temp_drop_10_merged.iloc[1] #Freight_value_x  Freight_value_y"
   ]
  },
  {
   "cell_type": "code",
   "execution_count": 49,
   "id": "950f58b6-03ae-45ca-83ca-aa2d8d5305a6",
   "metadata": {},
   "outputs": [
    {
     "data": {
      "text/html": [
       "<div>\n",
       "<style scoped>\n",
       "    .dataframe tbody tr th:only-of-type {\n",
       "        vertical-align: middle;\n",
       "    }\n",
       "\n",
       "    .dataframe tbody tr th {\n",
       "        vertical-align: top;\n",
       "    }\n",
       "\n",
       "    .dataframe thead th {\n",
       "        text-align: right;\n",
       "    }\n",
       "</style>\n",
       "<table border=\"1\" class=\"dataframe\">\n",
       "  <thead>\n",
       "    <tr style=\"text-align: right;\">\n",
       "      <th></th>\n",
       "      <th>Review_id</th>\n",
       "      <th>Order_id</th>\n",
       "      <th>Review_score</th>\n",
       "      <th>Order_item_id</th>\n",
       "      <th>Product_id</th>\n",
       "      <th>Seller_id</th>\n",
       "      <th>Price</th>\n",
       "      <th>Freight_value_x</th>\n",
       "      <th>Customer_id</th>\n",
       "      <th>Order_purchase_timestamp</th>\n",
       "      <th>...</th>\n",
       "      <th>Seller_state</th>\n",
       "      <th>Customer_lat</th>\n",
       "      <th>Customer_lng</th>\n",
       "      <th>Seller_lat</th>\n",
       "      <th>Seller_lng</th>\n",
       "      <th>Distance</th>\n",
       "      <th>Pay_distance</th>\n",
       "      <th>Outliers</th>\n",
       "      <th>earn</th>\n",
       "      <th>Freight_value_y</th>\n",
       "    </tr>\n",
       "  </thead>\n",
       "  <tbody>\n",
       "    <tr>\n",
       "      <th>0</th>\n",
       "      <td>REVIEW_00001</td>\n",
       "      <td>ORDER_80140</td>\n",
       "      <td>5</td>\n",
       "      <td>1</td>\n",
       "      <td>PRODUCT_18124</td>\n",
       "      <td>SELLER_0262</td>\n",
       "      <td>79.79</td>\n",
       "      <td>8.3</td>\n",
       "      <td>CUSTOMER_81808</td>\n",
       "      <td>2019-02-28 12:25:19</td>\n",
       "      <td>...</td>\n",
       "      <td>SP</td>\n",
       "      <td>-22.785779</td>\n",
       "      <td>-47.312537</td>\n",
       "      <td>-23.246681</td>\n",
       "      <td>-45.886909</td>\n",
       "      <td>1.498281</td>\n",
       "      <td>5.539682</td>\n",
       "      <td>False</td>\n",
       "      <td>79.79</td>\n",
       "      <td>8.3</td>\n",
       "    </tr>\n",
       "  </tbody>\n",
       "</table>\n",
       "<p>1 rows × 33 columns</p>\n",
       "</div>"
      ],
      "text/plain": [
       "      Review_id     Order_id  Review_score  Order_item_id     Product_id  \\\n",
       "0  REVIEW_00001  ORDER_80140             5              1  PRODUCT_18124   \n",
       "\n",
       "     Seller_id  Price  Freight_value_x     Customer_id  \\\n",
       "0  SELLER_0262  79.79              8.3  CUSTOMER_81808   \n",
       "\n",
       "  Order_purchase_timestamp  ... Seller_state Customer_lat Customer_lng  \\\n",
       "0      2019-02-28 12:25:19  ...           SP   -22.785779   -47.312537   \n",
       "\n",
       "   Seller_lat Seller_lng  Distance Pay_distance Outliers   earn  \\\n",
       "0  -23.246681 -45.886909  1.498281     5.539682    False  79.79   \n",
       "\n",
       "  Freight_value_y  \n",
       "0             8.3  \n",
       "\n",
       "[1 rows x 33 columns]"
      ]
     },
     "execution_count": 49,
     "metadata": {},
     "output_type": "execute_result"
    }
   ],
   "source": [
    "temp_drop_10_merged.head(1) #기존의 earn을 덮자"
   ]
  },
  {
   "cell_type": "code",
   "execution_count": 53,
   "id": "405b51e1-a162-4bdf-8376-3c93accddc83",
   "metadata": {},
   "outputs": [],
   "source": [
    "temp_drop_10_merged[\"earn\"] = temp_drop['Price']* temp_drop['Order_item_id']"
   ]
  },
  {
   "cell_type": "code",
   "execution_count": 54,
   "id": "b6585e8e-ff81-454b-be04-7c607eb60518",
   "metadata": {},
   "outputs": [
    {
     "data": {
      "text/plain": [
       "6404974.82"
      ]
     },
     "execution_count": 54,
     "metadata": {},
     "output_type": "execute_result"
    }
   ],
   "source": [
    "temp_drop_10_merged.earn.sum() #수정후 바뀐값"
   ]
  },
  {
   "cell_type": "code",
   "execution_count": 55,
   "id": "52d6034f-21f5-49d0-8d03-c4429a8e3972",
   "metadata": {},
   "outputs": [
    {
     "data": {
      "text/plain": [
       "788229.5300000003"
      ]
     },
     "execution_count": 55,
     "metadata": {},
     "output_type": "execute_result"
    }
   ],
   "source": [
    "temp_drop_10_merged.earn.sum() - temp_drop_10.earn.sum() "
   ]
  },
  {
   "cell_type": "code",
   "execution_count": null,
   "id": "4547f3af-3dab-42d5-8bcd-0b6bda9c8293",
   "metadata": {},
   "outputs": [],
   "source": []
  },
  {
   "cell_type": "code",
   "execution_count": 493,
   "id": "d89213df-2476-4aa4-a2aa-4438ea855e8d",
   "metadata": {},
   "outputs": [],
   "source": [
    "# 센터를 늘리거나, 중간 거점\n",
    "# 운임 비용이 비싸서 손해가 발생한 거라면, \n",
    "# 배송 거리가 멀어서 운임 비용이 비싸진 거라면, 가까운 지역에 구매를 유도하자"
   ]
  },
  {
   "cell_type": "code",
   "execution_count": null,
   "id": "6e9aa60b-b370-49ad-ad0d-c477e4ff4b5a",
   "metadata": {},
   "outputs": [],
   "source": []
  },
  {
   "cell_type": "code",
   "execution_count": null,
   "id": "f50b85b5-2a8a-49d5-8e8f-94a6d4612ee4",
   "metadata": {},
   "outputs": [],
   "source": []
  },
  {
   "cell_type": "code",
   "execution_count": null,
   "id": "3109d8a2-36b3-4dd4-9fb8-563224bf6a7c",
   "metadata": {},
   "outputs": [],
   "source": []
  },
  {
   "cell_type": "code",
   "execution_count": null,
   "id": "ed12b56c-9f9b-4423-9664-7ead431f0230",
   "metadata": {},
   "outputs": [],
   "source": []
  },
  {
   "cell_type": "code",
   "execution_count": null,
   "id": "7a240fb6-800e-4c73-ae3b-6a2c8fe0027a",
   "metadata": {},
   "outputs": [],
   "source": []
  },
  {
   "cell_type": "code",
   "execution_count": null,
   "id": "8627b7a4-87ef-4bf4-8679-a44422108f06",
   "metadata": {},
   "outputs": [],
   "source": []
  },
  {
   "cell_type": "code",
   "execution_count": null,
   "id": "2d9af5ab-a096-4725-bb8e-823f1d422961",
   "metadata": {},
   "outputs": [],
   "source": []
  },
  {
   "cell_type": "code",
   "execution_count": 494,
   "id": "01719cd4-2434-4233-8a58-79913758f3ef",
   "metadata": {},
   "outputs": [
    {
     "data": {
      "image/png": "[encoded data removed]",
      "text/plain": [
       "<Figure size 640x480 with 1 Axes>"
      ]
     },
     "metadata": {},
     "output_type": "display_data"
    }
   ],
   "source": [
    "import seaborn as sns\n",
    "sns.boxplot(temp_drop.Pay_distance)\n",
    "plt.show()"
   ]
  },
  {
   "cell_type": "code",
   "execution_count": null,
   "id": "08da885d-def8-4908-8958-29701194affb",
   "metadata": {},
   "outputs": [],
   "source": []
  },
  {
   "cell_type": "code",
   "execution_count": null,
   "id": "3bd5e208-3674-499e-8a51-6c76e39488d8",
   "metadata": {},
   "outputs": [],
   "source": []
  },
  {
   "cell_type": "code",
   "execution_count": null,
   "id": "d2b50a65-7b84-49de-a4ab-fb714b6f45fd",
   "metadata": {},
   "outputs": [],
   "source": []
  },
  {
   "cell_type": "code",
   "execution_count": null,
   "id": "b65ed875-696f-4bde-a8bd-f89dbc2862de",
   "metadata": {},
   "outputs": [],
   "source": [
    "\n"
   ]
  }
 ],
 "metadata": {
  "kernelspec": {
   "display_name": "Python 3 (ipykernel)",
   "language": "python",
   "name": "python3"
  },
  "language_info": {
   "codemirror_mode": {
    "name": "ipython",
    "version": 3
   },
   "file_extension": ".py",
   "mimetype": "text/x-python",
   "name": "python",
   "nbconvert_exporter": "python",
   "pygments_lexer": "ipython3",
   "version": "3.10.12"
  }
 },
 "nbformat": 4,
 "nbformat_minor": 5
}
