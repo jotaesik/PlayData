{
 "cells": [
  {
   "cell_type": "code",
   "execution_count": 11,
   "id": "def1bcc1-8267-4a5f-b57c-96b722feb567",
   "metadata": {},
   "outputs": [],
   "source": [
    "from konlpy.tag import Okt, Komoran, Kkma"
   ]
  },
  {
   "cell_type": "code",
   "execution_count": 2,
   "id": "303c0b7c-d9c0-4166-9d13-ca5ebfd73d23",
   "metadata": {},
   "outputs": [],
   "source": [
    "okt= Okt()"
   ]
  },
  {
   "cell_type": "code",
   "execution_count": 3,
   "id": "5a54b4c5-17f1-4558-be01-242e9b71100b",
   "metadata": {},
   "outputs": [],
   "source": [
    "text=\"아버지가방에들어가신다\""
   ]
  },
  {
   "cell_type": "code",
   "execution_count": 5,
   "id": "095f9a98-ae83-48d1-9046-630b8ace9795",
   "metadata": {},
   "outputs": [
    {
     "data": {
      "text/plain": [
       "[('아버지', 'Noun'), ('가방', 'Noun'), ('에', 'Josa'), ('들어가신다', 'Verb')]"
      ]
     },
     "execution_count": 5,
     "metadata": {},
     "output_type": "execute_result"
    }
   ],
   "source": [
    "okt.pos(text)"
   ]
  },
  {
   "cell_type": "code",
   "execution_count": 9,
   "id": "1a5b0f77-ef05-40aa-b04f-4ca1b223da8e",
   "metadata": {},
   "outputs": [],
   "source": [
    "kom = Komoran()"
   ]
  },
  {
   "cell_type": "code",
   "execution_count": 10,
   "id": "e0c294e5-3403-43fe-b00b-107f1ce6da57",
   "metadata": {},
   "outputs": [
    {
     "data": {
      "text/plain": [
       "[('아버지', 'NNG'),\n",
       " ('가방', 'NNP'),\n",
       " ('에', 'JKB'),\n",
       " ('들어가', 'VV'),\n",
       " ('시', 'EP'),\n",
       " ('ㄴ다', 'EC')]"
      ]
     },
     "execution_count": 10,
     "metadata": {},
     "output_type": "execute_result"
    }
   ],
   "source": [
    "kom.pos(text)"
   ]
  },
  {
   "cell_type": "markdown",
   "id": "7587d6c5-4676-4bf4-89a7-c8f7f1e76c37",
   "metadata": {},
   "source": [
    "corpus(말뭉치)"
   ]
  },
  {
   "cell_type": "markdown",
   "id": "2c43b555-ef79-4b09-841f-dc637adeb048",
   "metadata": {},
   "source": [
    "불용어(stop words) - ㅋㅋㅋㅋㅋ, ㅠㅠ"
   ]
  },
  {
   "cell_type": "code",
   "execution_count": 12,
   "id": "077db6b3-f1d7-4160-bdac-773a87bfdb16",
   "metadata": {},
   "outputs": [],
   "source": [
    "kkma = Kkma()"
   ]
  },
  {
   "cell_type": "code",
   "execution_count": 13,
   "id": "98bfb726-e4d2-42f8-871e-67b06ba90ea5",
   "metadata": {},
   "outputs": [
    {
     "data": {
      "text/plain": [
       "[('아버지', 'NNG'),\n",
       " ('가방', 'NNG'),\n",
       " ('에', 'JKM'),\n",
       " ('들어가', 'VV'),\n",
       " ('시', 'EPH'),\n",
       " ('ㄴ다', 'EFN')]"
      ]
     },
     "execution_count": 13,
     "metadata": {},
     "output_type": "execute_result"
    }
   ],
   "source": [
    "kkma.pos(text)"
   ]
  }
 ],
 "metadata": {
  "kernelspec": {
   "display_name": "Python 3 (ipykernel)",
   "language": "python",
   "name": "python3"
  },
  "language_info": {
   "codemirror_mode": {
    "name": "ipython",
    "version": 3
   },
   "file_extension": ".py",
   "mimetype": "text/x-python",
   "name": "python",
   "nbconvert_exporter": "python",
   "pygments_lexer": "ipython3",
   "version": "3.10.12"
  }
 },
 "nbformat": 4,
 "nbformat_minor": 5
}
