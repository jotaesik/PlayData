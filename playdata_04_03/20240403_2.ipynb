{
 "cells": [
  {
   "cell_type": "code",
   "execution_count": 1,
   "id": "6824e85d",
   "metadata": {},
   "outputs": [],
   "source": [
    "import requests"
   ]
  },
  {
   "cell_type": "code",
   "execution_count": 2,
   "id": "c4344330",
   "metadata": {},
   "outputs": [],
   "source": [
    "url = \"https://www.genie.co.kr/chart/top200\""
   ]
  },
  {
   "cell_type": "code",
   "execution_count": 3,
   "id": "5f937e7f",
   "metadata": {},
   "outputs": [],
   "source": [
    "head = {\"User-Agent\": \\\n",
    "        \"Mozilla/5.0 (Windows NT 10.0; Win64; x64) AppleWebKit/537.36 (KHTML, like Gecko) Chrome/116.0.0.0 Safari/537.36 Edg/116.0.1938.62\"}"
   ]
  },
  {
   "cell_type": "code",
   "execution_count": 4,
   "id": "d1bcd5e8",
   "metadata": {},
   "outputs": [],
   "source": [
    "r = requests.get(url, headers=head)"
   ]
  },
  {
   "cell_type": "code",
   "execution_count": 39,
   "id": "6501fd23",
   "metadata": {},
   "outputs": [],
   "source": [
    "from bs4 import BeautifulSoup as BS \n",
    "#import pandas as pd \n",
    "#import numpy as np \n",
    "#import tensorflow as tf "
   ]
  },
  {
   "cell_type": "code",
   "execution_count": 40,
   "id": "0ff8b154",
   "metadata": {},
   "outputs": [],
   "source": [
    "bs = BS(r.text)"
   ]
  },
  {
   "cell_type": "code",
   "execution_count": 38,
   "id": "d6c81004",
   "metadata": {},
   "outputs": [
    {
     "name": "stderr",
     "output_type": "stream",
     "text": [
      "100%|██████████| 50/50 [00:07<00:00,  6.80it/s]\n"
     ]
    }
   ],
   "source": [
    "import os\n",
    "from tqdm import tqdm\n",
    "import re \n",
    "p = re.compile(\"[0-9]+\")\n",
    "lyrics_url = \"https://www.genie.co.kr/detail/songInfo?xgnm={}\"\n",
    "if not os.path.isdir(\"./lyrics\"):\n",
    "    os.mkdir(\"./lyrics\")\n",
    "for x in tqdm(bs.find(\"div\", {'class': \\\n",
    "                          \"music-list-wrap\"}).findAll(\"td\", {\"class\" : \"info\"})):\n",
    "    \n",
    "    title = x.find(\"a\", class_=\"title ellipsis\").text.strip()\n",
    "    artist = x.find(\"a\", class_=\"artist ellipsis\").text\n",
    "    with open(f\"./lyrics/{artist}_{title}.txt\", \"w\", encoding='utf-8') as f:\n",
    "        f.write(BeautifulSoup(r3.text).find(\"pre\", id=\"pLyrics\").text.strip())\n",
    "    #print(f\"{artist}-{title}.txt\")\n",
    "    r3 = requests.get(lyrics_url.format(p.findall(str(x))[0]),headers=head)"
   ]
  },
  {
   "cell_type": "code",
   "execution_count": null,
   "id": "01fee519",
   "metadata": {},
   "outputs": [],
   "source": []
  },
  {
   "cell_type": "code",
   "execution_count": 41,
   "id": "be10af5a",
   "metadata": {},
   "outputs": [],
   "source": [
    "url = \"https://m.stock.naver.com/front-api/v1/external/chart/domestic/info?symbol={}&requestType=1&startTime={}&endTime={}&timeframe=day\""
   ]
  },
  {
   "cell_type": "code",
   "execution_count": 44,
   "id": "93e2e2cf",
   "metadata": {},
   "outputs": [],
   "source": [
    "r = requests.get(url.format('005930', '20230102', '20240402'))"
   ]
  },
  {
   "cell_type": "code",
   "execution_count": 51,
   "id": "9e3da18e",
   "metadata": {},
   "outputs": [],
   "source": [
    "data = eval(r.text.strip())"
   ]
  },
  {
   "cell_type": "code",
   "execution_count": 53,
   "id": "ffbf4486",
   "metadata": {},
   "outputs": [],
   "source": [
    "import csv \n",
    "f = open(\"./삼성전자.csv\", 'w', newline='')\n",
    "write_stock = csv.writer(f)\n",
    "write_stock.writerows(data)\n",
    "f.close()"
   ]
  },
  {
   "cell_type": "code",
   "execution_count": 55,
   "id": "50266f14",
   "metadata": {},
   "outputs": [],
   "source": []
  },
  {
   "cell_type": "code",
   "execution_count": 56,
   "id": "9a7e75a1",
   "metadata": {},
   "outputs": [],
   "source": []
  },
  {
   "cell_type": "code",
   "execution_count": 57,
   "id": "d1ed25be",
   "metadata": {},
   "outputs": [],
   "source": []
  },
  {
   "cell_type": "code",
   "execution_count": 61,
   "id": "625347fb",
   "metadata": {},
   "outputs": [],
   "source": [
    "def get_naver_stock(code, start_date, end_date):\n",
    "    \"\"\"\n",
    "    code -> 종목 코드 넣어 \n",
    "    start_date -> 시작 날짜 \n",
    "    end_date -> 끝나는 날짜\n",
    "    \"\"\"\n",
    "    pass"
   ]
  },
  {
   "cell_type": "code",
   "execution_count": 62,
   "id": "c7a14dc1",
   "metadata": {},
   "outputs": [
    {
     "name": "stdout",
     "output_type": "stream",
     "text": [
      "Help on function get_naver_stock in module __main__:\n",
      "\n",
      "get_naver_stock(code, start_date, end_date)\n",
      "    code -> 종목 코드 넣어 \n",
      "    start_date -> 시작 날짜 \n",
      "    end_date -> 끝나는 날짜\n",
      "\n"
     ]
    }
   ],
   "source": [
    "help(get_naver_stock)"
   ]
  },
  {
   "cell_type": "code",
   "execution_count": 64,
   "id": "9b578a79",
   "metadata": {},
   "outputs": [],
   "source": [
    "payload = {\"bld\" : \"dbms/MDC/STAT/standard/MDCSTAT01901\",\n",
    "\"locale\" : \"ko_KR\",\n",
    "\"mktId\" : \"ALL\",\n",
    "\"share\" : \"1\",\n",
    "\"csvxls_isNo\" : \"false\",}"
   ]
  },
  {
   "cell_type": "code",
   "execution_count": 65,
   "id": "48ca0734",
   "metadata": {},
   "outputs": [],
   "source": [
    "url = \"http://data.krx.co.kr/comm/bldAttendant/getJsonData.cmd\""
   ]
  },
  {
   "cell_type": "code",
   "execution_count": 66,
   "id": "6b579af8",
   "metadata": {},
   "outputs": [],
   "source": [
    "r = requests.post(url, data=payload)"
   ]
  },
  {
   "cell_type": "code",
   "execution_count": 75,
   "id": "868f7d38",
   "metadata": {},
   "outputs": [],
   "source": [
    "# MKT_TP_NM, ISU_ABBRV, ISU_SRT_CD\n",
    "# dict comprehension \n",
    "master = {x['ISU_SRT_CD'] : x['ISU_ABBRV'] for x in r.json()['OutBlock_1']}"
   ]
  },
  {
   "cell_type": "code",
   "execution_count": 89,
   "id": "17a11305",
   "metadata": {},
   "outputs": [],
   "source": [
    "def tmp(a, b):\n",
    "    global c \n",
    "    d = 10 \n",
    "    c = 10\n",
    "    print (d)\n",
    "    return a + b"
   ]
  },
  {
   "cell_type": "code",
   "execution_count": 96,
   "id": "863b50a3",
   "metadata": {},
   "outputs": [],
   "source": [
    "def vol_up():\n",
    "    # Insert your code please \n",
    "    pass"
   ]
  },
  {
   "cell_type": "code",
   "execution_count": 91,
   "id": "eafad3a0",
   "metadata": {},
   "outputs": [],
   "source": [
    "d = 20 "
   ]
  },
  {
   "cell_type": "code",
   "execution_count": 92,
   "id": "52ee2b92",
   "metadata": {},
   "outputs": [
    {
     "name": "stdout",
     "output_type": "stream",
     "text": [
      "10\n"
     ]
    },
    {
     "data": {
      "text/plain": [
       "30"
      ]
     },
     "execution_count": 92,
     "metadata": {},
     "output_type": "execute_result"
    }
   ],
   "source": [
    "tmp(10,20)"
   ]
  },
  {
   "cell_type": "code",
   "execution_count": 99,
   "id": "b2947de4",
   "metadata": {},
   "outputs": [],
   "source": [
    "import csv \n",
    "def get_naver_stock(code, start_date, end_date):\n",
    "    \"\"\"\n",
    "    code -> 종목 코드 넣어 \n",
    "    start_date -> 시작 날짜 \n",
    "    end_date -> 끝나는 날짜\n",
    "    \"\"\"\n",
    "    if not os.path.isdir(\"./stocks\"):\n",
    "        os.mkdir(\"./stocks\")\n",
    "    url = \"https://m.stock.naver.com/front-api/v1/external/chart/domestic/info?symbol={}&requestType=1&startTime={}&endTime={}&timeframe=day\"\n",
    "    r = requests.get(url.format(code, start_date, end_date))\n",
    "    data = eval(r.text.strip())\n",
    "    \n",
    "    f = open(f\"./stocks/{master[code]}.csv\", 'w', newline='')\n",
    "    write_stock = csv.writer(f)\n",
    "    write_stock.writerows(data)\n",
    "    f.close()"
   ]
  },
  {
   "cell_type": "code",
   "execution_count": 101,
   "id": "96969705",
   "metadata": {},
   "outputs": [],
   "source": [
    "# ISU_ABBRV, ISU_SRT_CD\n",
    "for x in r.json()['OutBlock_1'][:10]:\n",
    "    if x['MKT_TP_NM'] == \"KOSPI\":\n",
    "        get_naver_stock(x['ISU_SRT_CD'], \"20230102\", \"20240402\")"
   ]
  },
  {
   "cell_type": "code",
   "execution_count": 108,
   "id": "a13665cf",
   "metadata": {},
   "outputs": [],
   "source": [
    "import csv \n",
    "def get_naver_stock(code, start_date, end_date):\n",
    "    \"\"\"\n",
    "    code -> 종목 코드 넣어 \n",
    "    start_date -> 시작 날짜 \n",
    "    end_date -> 끝나는 날짜\n",
    "    \"\"\"\n",
    "    url = \"https://m.stock.naver.com/front-api/v1/external/chart/domestic/info?symbol={}&requestType=1&startTime={}&endTime={}&timeframe=day\"\n",
    "    r = requests.get(url.format(code, start_date, end_date))\n",
    "    data = eval(r.text.strip())\n",
    "    # 폴더가 없어서 에러가 발생한다면... \n",
    "    try:\n",
    "        f = open(f\"./stocks/{master[code]}.csv\", 'w', newline='')\n",
    "    except Exception as e:\n",
    "        print(e)\n",
    "        os.mkdir(\"./stocks\")\n",
    "        f = open(f\"./stocks/{master[code]}.csv\", 'w', newline='')\n",
    "    write_stock = csv.writer(f)\n",
    "    write_stock.writerows(data)\n",
    "    f.close()"
   ]
  },
  {
   "cell_type": "code",
   "execution_count": 109,
   "id": "38a578e2",
   "metadata": {},
   "outputs": [
    {
     "name": "stdout",
     "output_type": "stream",
     "text": [
      "[Errno 2] No such file or directory: './stocks/AJ네트웍스.csv'\n"
     ]
    }
   ],
   "source": [
    "# ISU_ABBRV, ISU_SRT_CD\n",
    "for x in r.json()['OutBlock_1'][:10]:\n",
    "    if x['MKT_TP_NM'] == \"KOSPI\":\n",
    "        get_naver_stock(x['ISU_SRT_CD'], \"20230102\", \"20240402\")"
   ]
  },
  {
   "cell_type": "code",
   "execution_count": null,
   "id": "5b233cb8",
   "metadata": {},
   "outputs": [],
   "source": []
  }
 ],
 "metadata": {
  "kernelspec": {
   "display_name": "Python 3 (ipykernel)",
   "language": "python",
   "name": "python3"
  },
  "language_info": {
   "codemirror_mode": {
    "name": "ipython",
    "version": 3
   },
   "file_extension": ".py",
   "mimetype": "text/x-python",
   "name": "python",
   "nbconvert_exporter": "python",
   "pygments_lexer": "ipython3",
   "version": "3.8.12"
  }
 },
 "nbformat": 4,
 "nbformat_minor": 5
}
