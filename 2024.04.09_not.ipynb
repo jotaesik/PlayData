{
 "cells": [
  {
   "cell_type": "code",
   "execution_count": null,
   "id": "a7be2f4a-a16e-473b-9e20-cb3c25821648",
   "metadata": {},
   "outputs": [],
   "source": [
    "from bs4 import BeautifulSoup\n",
    "# BeautifulSoup.find(\"div\",class_ _붙이는 이유는 class와 헷갈리지않기위해서\n",
    "# a=10\n",
    "# id(a) 메모리주소가나온다"
   ]
  },
  {
   "cell_type": "code",
   "execution_count": null,
   "id": "9bb0be3f-b966-4ac5-aca8-9344c00d45c9",
   "metadata": {},
   "outputs": [],
   "source": [
    "class #예약어"
   ]
  },
  {
   "cell_type": "code",
   "execution_count": 4,
   "id": "20853b75-e172-4f30-9302-e62902c88159",
   "metadata": {},
   "outputs": [],
   "source": [
    "# a=10\n",
    "# id(a)\n",
    "# b=20\n",
    "# id(b)"
   ]
  },
  {
   "cell_type": "code",
   "execution_count": 5,
   "id": "579bcf41-e440-450a-a2d9-7a471c576483",
   "metadata": {},
   "outputs": [],
   "source": [
    "a=10"
   ]
  },
  {
   "cell_type": "code",
   "execution_count": 6,
   "id": "ac172c68-4438-47ed-bcf4-dd219f2320e6",
   "metadata": {},
   "outputs": [
    {
     "data": {
      "text/plain": [
       "139936123568656"
      ]
     },
     "execution_count": 6,
     "metadata": {},
     "output_type": "execute_result"
    }
   ],
   "source": [
    "id(a)"
   ]
  },
  {
   "cell_type": "code",
   "execution_count": 7,
   "id": "b9cf319a-fd7a-4543-842c-5bf355547dd6",
   "metadata": {},
   "outputs": [],
   "source": [
    "b=20"
   ]
  },
  {
   "cell_type": "code",
   "execution_count": 8,
   "id": "cd27781a-a9eb-4fd7-99a8-cc12127f4c7e",
   "metadata": {},
   "outputs": [
    {
     "data": {
      "text/plain": [
       "139936123568976"
      ]
     },
     "execution_count": 8,
     "metadata": {},
     "output_type": "execute_result"
    }
   ],
   "source": [
    "id(b)"
   ]
  },
  {
   "cell_type": "code",
   "execution_count": 9,
   "id": "dbfe1789-5f42-4cc2-9edd-22b7c7443da9",
   "metadata": {},
   "outputs": [],
   "source": [
    "c=a"
   ]
  },
  {
   "cell_type": "code",
   "execution_count": 10,
   "id": "0dd61c24-7e14-421f-9752-a62d280462e3",
   "metadata": {},
   "outputs": [
    {
     "data": {
      "text/plain": [
       "139936123568656"
      ]
     },
     "execution_count": 10,
     "metadata": {},
     "output_type": "execute_result"
    }
   ],
   "source": [
    "id(c) #얇은복사 깊은복사"
   ]
  },
  {
   "cell_type": "code",
   "execution_count": null,
   "id": "b5e30c6d-21f3-4b5d-aa8f-a3e95e5386f5",
   "metadata": {},
   "outputs": [],
   "source": [
    "class crawling():\n",
    "    "
   ]
  }
 ],
 "metadata": {
  "kernelspec": {
   "display_name": "Python 3 (ipykernel)",
   "language": "python",
   "name": "python3"
  },
  "language_info": {
   "codemirror_mode": {
    "name": "ipython",
    "version": 3
   },
   "file_extension": ".py",
   "mimetype": "text/x-python",
   "name": "python",
   "nbconvert_exporter": "python",
   "pygments_lexer": "ipython3",
   "version": "3.10.12"
  }
 },
 "nbformat": 4,
 "nbformat_minor": 5
}
