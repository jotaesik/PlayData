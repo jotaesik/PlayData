{
 "cells": [
  {
   "cell_type": "markdown",
   "id": "b6620401-01ef-461e-9fd4-d14e2daab4a7",
   "metadata": {},
   "source": [
    "# pycharm"
   ]
  },
  {
   "cell_type": "code",
   "execution_count": null,
   "id": "c5b76dbe",
   "metadata": {},
   "outputs": [],
   "source": [
    "# wsl에서 장고 하는법\n",
    "# pip install virtualenv\n",
    "# cd workspace/\n",
    "# pip install django\n",
    "# django-admin\n",
    "# django-admin startproject mysite ->안전하게 하려고 가상환경\n",
    "# ls | grep mysite ->폴더확인"
   ]
  },
  {
   "cell_type": "code",
   "execution_count": 1,
   "id": "1ecb3deb",
   "metadata": {},
   "outputs": [
    {
     "data": {
      "text/plain": [
       "8"
      ]
     },
     "execution_count": 1,
     "metadata": {},
     "output_type": "execute_result"
    }
   ],
   "source": [
    "# virtualenv -> python module, 현재설치된 파이썬 버전 따라감\n",
    "# python -m virtualenv venv // venv라는 폴더생성\n",
    "# 가상환경 사용하기 로그인할때는 venv폴더밑에 source ./venv/bin/activate 실행하자!\n",
    "    # python3 -m virtualenv venv\n",
    "    # source ./v\n",
    "    # source ./venv/bin/activate //이제 venv로 들어가진다\n",
    "# which python - 내가 어느 파이썬을 실행하겠다 /home/jotaesik/workspace/venv/bin/python, 시스템상의 파이썬이 아닌 독립적인파이썬\n",
    "# pip list | grep djang     //장고버전알아보자 안뜰시\n",
    "# pip install django 장고설치하기\n",
    "# django-admin startproject mysite\n",
    "\n",
    "\n",
    "# conda - anaconda, miniconda를 설치해야 사용 가능 , 32bit 환경세팅가능, 다양한 파이썬 버전 세팅가능"
   ]
  },
  {
   "cell_type": "code",
   "execution_count": null,
   "id": "f584564b",
   "metadata": {},
   "outputs": [],
   "source": [
    "# file-open 들어가서 /home/jotaesik/workspace/mysite\n",
    "# cd ..\n",
    "# source ./venv/bin/activate \n",
    "# ls -al - 버전확인\n",
    "\n",
    "# 서버가동\n",
    "# python manage.py runserver //런서버라는 매개변수\n",
    "# 실시간 웹에보여준다\n",
    "# sqlite3 내장db이다\n",
    "\n",
    "# setting.py에서 두줄바꾸기\n",
    "# LANGUAGE_CODE = 'ko'\n",
    "# TIME_ZONE = 'Asia/Seoul'\n",
    "\n",
    "# python manage.py migrate"
   ]
  }
 ],
 "metadata": {
  "kernelspec": {
   "display_name": "Python 3 (ipykernel)",
   "language": "python",
   "name": "python3"
  },
  "language_info": {
   "codemirror_mode": {
    "name": "ipython",
    "version": 3
   },
   "file_extension": ".py",
   "mimetype": "text/x-python",
   "name": "python",
   "nbconvert_exporter": "python",
   "pygments_lexer": "ipython3",
   "version": "3.10.12"
  }
 },
 "nbformat": 4,
 "nbformat_minor": 5
}
