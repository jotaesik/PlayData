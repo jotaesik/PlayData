{
 "cells": [
  {
   "cell_type": "code",
   "execution_count": 1,
   "id": "1b6ae141-50cf-4cda-a3c4-00a9a2d90d56",
   "metadata": {},
   "outputs": [],
   "source": [
    "from pyspark.sql import SparkSession\n",
    "spark = SparkSession.builder.getOrCreate()"
   ]
  },
  {
   "cell_type": "code",
   "execution_count": 2,
   "id": "1b1988ed-a6ae-4f94-9b10-3724cdedb1b9",
   "metadata": {},
   "outputs": [],
   "source": [
    "import zipfile"
   ]
  },
  {
   "cell_type": "code",
   "execution_count": 3,
   "id": "2994f0dd-ea9d-4035-850a-67326635f98b",
   "metadata": {},
   "outputs": [
    {
     "data": {
      "text/plain": [
       "'/home/hadoop'"
      ]
     },
     "execution_count": 3,
     "metadata": {},
     "output_type": "execute_result"
    }
   ],
   "source": [
    "pwd"
   ]
  },
  {
   "cell_type": "code",
   "execution_count": 4,
   "id": "133e756c-0476-4b3b-a229-dbada1e95820",
   "metadata": {},
   "outputs": [
    {
     "name": "stdout",
     "output_type": "stream",
     "text": [
      "'${system:java.io.tmpdir}'      hadoop_test1\n",
      " 2024.06.17.spark2.ipynb        hflight.csv\n",
      " 2024.06.17.spark.ipynb         hive\n",
      " 2024.06.18.spark.ipynb         hive3\n",
      " 2024.06.19.spark2.ipynb        miniconda3\n",
      " 2024.06.19.spark.ipynb         Miniconda3-py310_24.4.0-0-Linux-x86_64.sh\n",
      " 2024-06-20-spark.ipynb         nohup.out\n",
      " 2024-06-24-1.ipynb\t        retail_data\n",
      " apache-hive-3.1.3-bin.tar.gz   retail-data-20240620T002036Z-001.zip\n",
      " apache-hive-4.0.0-bin.tar.gz   solo_study\n",
      " hadoop\t\t\t        test.txt\n",
      " hadoop_data\t\t        Untitled1.ipynb\n",
      " hadoop.tar.gz\n"
     ]
    }
   ],
   "source": [
    "!ls"
   ]
  },
  {
   "cell_type": "code",
   "execution_count": 5,
   "id": "eaf3171e-baf4-44ff-aa26-44889b4daae9",
   "metadata": {},
   "outputs": [],
   "source": [
    "files = zipfile.ZipFile(\"./retail-data-20240620T002036Z-001.zip\")\n",
    "files.extractall(path=\"./retail_data\")"
   ]
  },
  {
   "cell_type": "code",
   "execution_count": 6,
   "id": "b63e6a5d-d328-493a-9bc7-cca797bc899e",
   "metadata": {},
   "outputs": [
    {
     "name": "stderr",
     "output_type": "stream",
     "text": [
      "                                                                                \r"
     ]
    }
   ],
   "source": [
    "df = spark.read.format(\"csv\").\\\n",
    "    option(\"header\", \"true\").\\\n",
    "    option(\"inferSchema\", \"true\").\\\n",
    "    load(\"file:///home/hadoop/retail_data/retail-data/by-day/*\")"
   ]
  },
  {
   "cell_type": "code",
   "execution_count": 7,
   "id": "72098d20-e693-48ed-9982-7eaa1776171f",
   "metadata": {},
   "outputs": [
    {
     "name": "stderr",
     "output_type": "stream",
     "text": [
      "                                                                                \r"
     ]
    },
    {
     "data": {
      "text/plain": [
       "531694"
      ]
     },
     "execution_count": 7,
     "metadata": {},
     "output_type": "execute_result"
    }
   ],
   "source": [
    "df.count()"
   ]
  },
  {
   "cell_type": "code",
   "execution_count": 8,
   "id": "f70bb464-7765-44be-8737-3491c1a17a12",
   "metadata": {},
   "outputs": [
    {
     "name": "stdout",
     "output_type": "stream",
     "text": [
      "+---------+---------+--------------------+--------+-------------------+---------+----------+--------------+\n",
      "|InvoiceNo|StockCode|         Description|Quantity|        InvoiceDate|UnitPrice|CustomerID|       Country|\n",
      "+---------+---------+--------------------+--------+-------------------+---------+----------+--------------+\n",
      "|   580538|    23084|  RABBIT NIGHT LIGHT|      48|2011-12-05 08:38:00|     1.79|   14075.0|United Kingdom|\n",
      "|   580538|    23077| DOUGHNUT LIP GLOSS |      20|2011-12-05 08:38:00|     1.25|   14075.0|United Kingdom|\n",
      "|   580538|    22906|12 MESSAGE CARDS ...|      24|2011-12-05 08:38:00|     1.65|   14075.0|United Kingdom|\n",
      "+---------+---------+--------------------+--------+-------------------+---------+----------+--------------+\n",
      "\n"
     ]
    }
   ],
   "source": [
    "df.limit(3).show()"
   ]
  },
  {
   "cell_type": "code",
   "execution_count": 9,
   "id": "7164303a-9934-433b-b6d9-0c58c997afc5",
   "metadata": {},
   "outputs": [],
   "source": [
    "df.createOrReplaceTempView(\"dfTable\")"
   ]
  },
  {
   "cell_type": "code",
   "execution_count": 10,
   "id": "fafc20a5-7332-45fe-bf16-9592e1efefe6",
   "metadata": {},
   "outputs": [],
   "source": [
    "from pyspark.sql.functions import lit,col"
   ]
  },
  {
   "cell_type": "code",
   "execution_count": 11,
   "id": "6a732457-ea21-4c6a-a416-1ae2cf7c220f",
   "metadata": {},
   "outputs": [
    {
     "name": "stdout",
     "output_type": "stream",
     "text": [
      "+---+----+---+\n",
      "|  5|five|5.0|\n",
      "+---+----+---+\n",
      "|  5|five|5.0|\n",
      "|  5|five|5.0|\n",
      "|  5|five|5.0|\n",
      "+---+----+---+\n",
      "\n"
     ]
    }
   ],
   "source": [
    "df.select(lit(5), lit(\"five\") , lit(5.0)).limit(3).show()"
   ]
  },
  {
   "cell_type": "code",
   "execution_count": 12,
   "id": "120117dc-4117-43b2-b379-8ee8dbddb13a",
   "metadata": {},
   "outputs": [
    {
     "name": "stdout",
     "output_type": "stream",
     "text": [
      "+---------+---------+------------------+--------+-------------------+---------+----------+--------------+\n",
      "|InvoiceNo|StockCode|       Description|Quantity|        InvoiceDate|UnitPrice|CustomerID|       Country|\n",
      "+---------+---------+------------------+--------+-------------------+---------+----------+--------------+\n",
      "|   580538|    23084|RABBIT NIGHT LIGHT|      48|2011-12-05 08:38:00|     1.79|   14075.0|United Kingdom|\n",
      "+---------+---------+------------------+--------+-------------------+---------+----------+--------------+\n",
      "\n"
     ]
    }
   ],
   "source": [
    "df.limit(1).show()"
   ]
  },
  {
   "cell_type": "markdown",
   "id": "24203829-0458-4afa-a59a-6e9f19240bcd",
   "metadata": {},
   "source": [
    "# InvoiceNo 가 536365인 row값에서 InvoiceNo,Description 만 출력"
   ]
  },
  {
   "cell_type": "code",
   "execution_count": 13,
   "id": "1c0ecdc9-dd78-4170-910b-ac5f31a37668",
   "metadata": {},
   "outputs": [
    {
     "name": "stderr",
     "output_type": "stream",
     "text": [
      "[Stage 12:======================================>                   (4 + 2) / 6]\r"
     ]
    },
    {
     "name": "stdout",
     "output_type": "stream",
     "text": [
      "+---------+--------------------+\n",
      "|InvoiceNo|         Description|\n",
      "+---------+--------------------+\n",
      "|   536365|WHITE HANGING HEA...|\n",
      "|   536365| WHITE METAL LANTERN|\n",
      "|   536365|CREAM CUPID HEART...|\n",
      "|   536365|KNITTED UNION FLA...|\n",
      "|   536365|RED WOOLLY HOTTIE...|\n",
      "|   536365|SET 7 BABUSHKA NE...|\n",
      "|   536365|GLASS STAR FROSTE...|\n",
      "+---------+--------------------+\n",
      "\n"
     ]
    },
    {
     "name": "stderr",
     "output_type": "stream",
     "text": [
      "                                                                                \r"
     ]
    }
   ],
   "source": [
    "df.filter(col(\"InvoiceNo\") ==536365).select(\"InvoiceNo\",\"Description\").show()"
   ]
  },
  {
   "cell_type": "code",
   "execution_count": 14,
   "id": "664f5186-2e4e-413f-b4d3-d283337cf0a2",
   "metadata": {},
   "outputs": [],
   "source": [
    "from pyspark.sql.functions import instr\n",
    "\n",
    "filter_ = col(\"UnitPrice\") > 600\n",
    "filter_2 = instr(df.Description, \"POSTAGE\") >= 1\n"
   ]
  },
  {
   "cell_type": "code",
   "execution_count": 15,
   "id": "a205c7d2-8d7e-4eb9-8a5b-f6017e4129c0",
   "metadata": {},
   "outputs": [
    {
     "name": "stdout",
     "output_type": "stream",
     "text": [
      "+---------+---------+--------------------+--------+-------------------+---------+----------+--------------+\n",
      "|InvoiceNo|StockCode|         Description|Quantity|        InvoiceDate|UnitPrice|CustomerID|       Country|\n",
      "+---------+---------+--------------------+--------+-------------------+---------+----------+--------------+\n",
      "|   580538|    23084|  RABBIT NIGHT LIGHT|      48|2011-12-05 08:38:00|     1.79|   14075.0|United Kingdom|\n",
      "|   580538|    23077| DOUGHNUT LIP GLOSS |      20|2011-12-05 08:38:00|     1.25|   14075.0|United Kingdom|\n",
      "|   580538|    22906|12 MESSAGE CARDS ...|      24|2011-12-05 08:38:00|     1.65|   14075.0|United Kingdom|\n",
      "|   580538|    21914|BLUE HARMONICA IN...|      24|2011-12-05 08:38:00|     1.25|   14075.0|United Kingdom|\n",
      "|   580538|    22467|   GUMBALL COAT RACK|       6|2011-12-05 08:38:00|     2.55|   14075.0|United Kingdom|\n",
      "+---------+---------+--------------------+--------+-------------------+---------+----------+--------------+\n",
      "\n"
     ]
    }
   ],
   "source": [
    "df.limit(5).show()"
   ]
  },
  {
   "cell_type": "code",
   "execution_count": 16,
   "id": "5ceb09ff-1b94-4751-83be-74daa0cdebb5",
   "metadata": {},
   "outputs": [
    {
     "name": "stdout",
     "output_type": "stream",
     "text": [
      "+---------+---------+--------------+--------+-------------------+---------+----------+--------------+\n",
      "|InvoiceNo|StockCode|   Description|Quantity|        InvoiceDate|UnitPrice|CustomerID|       Country|\n",
      "+---------+---------+--------------+--------+-------------------+---------+----------+--------------+\n",
      "|   580610|      DOT|DOTCOM POSTAGE|       1|2011-12-05 11:48:00|  2196.67|      null|United Kingdom|\n",
      "+---------+---------+--------------+--------+-------------------+---------+----------+--------------+\n",
      "\n"
     ]
    }
   ],
   "source": [
    "df.where(df.StockCode.isin(\"DOT\")).\\\n",
    "    where(filter_ | filter_2).limit(1).show()"
   ]
  },
  {
   "cell_type": "code",
   "execution_count": 17,
   "id": "d81454bc-9299-4f6b-8f59-f46515c5d20a",
   "metadata": {},
   "outputs": [],
   "source": [
    "sql=\"\"\"select * from dfTable where UnitPrice > 600 or instr(Description,\"POSTAGE\") >=1 LIMIT 1\n",
    "\"\"\""
   ]
  },
  {
   "cell_type": "code",
   "execution_count": 18,
   "id": "4771cb29-0eb1-4109-bf25-93e44d121a07",
   "metadata": {},
   "outputs": [
    {
     "name": "stdout",
     "output_type": "stream",
     "text": [
      "+---------+---------+-----------+--------+-------------------+---------+----------+--------+\n",
      "|InvoiceNo|StockCode|Description|Quantity|        InvoiceDate|UnitPrice|CustomerID| Country|\n",
      "+---------+---------+-----------+--------+-------------------+---------+----------+--------+\n",
      "|   580545|     POST|    POSTAGE|       1|2011-12-05 09:16:00|     28.0|   12782.0|Portugal|\n",
      "+---------+---------+-----------+--------+-------------------+---------+----------+--------+\n",
      "\n"
     ]
    }
   ],
   "source": [
    "spark.sql(sql).show()"
   ]
  },
  {
   "cell_type": "code",
   "execution_count": 19,
   "id": "0a18cda8-e86d-48eb-944e-28b2e2a4790e",
   "metadata": {},
   "outputs": [],
   "source": [
    "sql=\"\"\"select * from dfTable where StockCode in (\"DOT\") AND (UnitPrice > 600 or instr(Description,\"POSTAGE\") >=1) LIMIT 3\n",
    "\"\"\""
   ]
  },
  {
   "cell_type": "code",
   "execution_count": 20,
   "id": "9cfd85c8-c95a-4abe-b815-a6925877f971",
   "metadata": {},
   "outputs": [
    {
     "name": "stdout",
     "output_type": "stream",
     "text": [
      "+---------+---------+--------------+--------+-------------------+---------+----------+--------------+\n",
      "|InvoiceNo|StockCode|   Description|Quantity|        InvoiceDate|UnitPrice|CustomerID|       Country|\n",
      "+---------+---------+--------------+--------+-------------------+---------+----------+--------------+\n",
      "|   580610|      DOT|DOTCOM POSTAGE|       1|2011-12-05 11:48:00|  2196.67|      null|United Kingdom|\n",
      "|   580612|      DOT|DOTCOM POSTAGE|       1|2011-12-05 11:58:00|   2114.0|      null|United Kingdom|\n",
      "|   580727|      DOT|DOTCOM POSTAGE|       1|2011-12-05 17:17:00|  1599.26|   14096.0|United Kingdom|\n",
      "+---------+---------+--------------+--------+-------------------+---------+----------+--------------+\n",
      "\n"
     ]
    }
   ],
   "source": [
    "spark.sql(sql).show()"
   ]
  },
  {
   "cell_type": "code",
   "execution_count": 21,
   "id": "67a24948-43c2-4bbd-b27d-792b26109b22",
   "metadata": {},
   "outputs": [],
   "source": [
    "filter_1 = col(\"StockCode\") == \"DOT\"\n",
    "filter_2 = col(\"UnitPrice\") >600\n",
    "filter_3 = instr(col(\"Description\") , \"POSTAGE\") >=1"
   ]
  },
  {
   "cell_type": "code",
   "execution_count": 22,
   "id": "5f9771a6-5854-488a-81f8-9ba615218acc",
   "metadata": {},
   "outputs": [],
   "source": [
    "# df.withColumn(\"isExpensive\",filter_1 & (filter_2 | filter_3)).show()"
   ]
  },
  {
   "cell_type": "code",
   "execution_count": 23,
   "id": "9e2b3a54-593f-4723-9507-f7fe65472275",
   "metadata": {},
   "outputs": [],
   "source": [
    "# df.withColumn(\"isExpensive\",filter_1 & (filter_2 | filter_3)).\\\n",
    "#     where(\"isExpensive\").limit(5).show()"
   ]
  },
  {
   "cell_type": "code",
   "execution_count": 24,
   "id": "4e854ceb-9094-41c8-a29c-3363c57626ca",
   "metadata": {},
   "outputs": [
    {
     "name": "stdout",
     "output_type": "stream",
     "text": [
      "+---------+-----------+\n",
      "|unitPrice|isExpensive|\n",
      "+---------+-----------+\n",
      "|  2196.67|       true|\n",
      "|   2114.0|       true|\n",
      "|  1599.26|       true|\n",
      "|   1172.1|       true|\n",
      "|   845.23|       true|\n",
      "+---------+-----------+\n",
      "\n"
     ]
    }
   ],
   "source": [
    "df.withColumn(\"isExpensive\",filter_1 & (filter_2 | filter_3)).\\\n",
    "    where(\"isExpensive\").limit(5).\\\n",
    "    select(\"unitPrice\",\"isExpensive\").limit(5).show()"
   ]
  },
  {
   "cell_type": "code",
   "execution_count": 25,
   "id": "49399063-045f-4449-a63e-088ea5b06866",
   "metadata": {},
   "outputs": [
    {
     "name": "stdout",
     "output_type": "stream",
     "text": [
      "+---------+-----------+\n",
      "|unitPrice|isExpensive|\n",
      "+---------+-----------+\n",
      "|  2196.67|       True|\n",
      "|   2114.0|       True|\n",
      "|  1599.26|       True|\n",
      "|   1172.1|       True|\n",
      "|   845.23|       True|\n",
      "+---------+-----------+\n",
      "\n"
     ]
    }
   ],
   "source": [
    "# filter_1 = col(\"StockCode\") == \"DOT\"\n",
    "# filter_2 = col(\"UnitPrice\") >600\n",
    "# filter_3 = instr(col(\"Description\") , \"POSTAGE\") >=1\n",
    "sql=\"\"\"select unitPrice,isExpensive from (select *,\n",
    "CASE WHEN (StockCode = 'DOT' AND (UnitPrice > 600 OR INSTR(Description, 'POSTAGE') >= 1)) \n",
    "THEN 'True' \n",
    "ELSE 'False' \n",
    "END AS isExpensive\n",
    "from dfTable) A \n",
    "where A.isExpensive ==True\n",
    "limit 5\n",
    "\"\"\"\n",
    "spark.sql(sql).show()"
   ]
  },
  {
   "cell_type": "code",
   "execution_count": 26,
   "id": "59efe8d6-1eb2-4a25-bf11-3d08379592fc",
   "metadata": {},
   "outputs": [],
   "source": [
    "encore = spark.read \\\n",
    "    .format(\"jdbc\") \\\n",
    "    .option(\"driver\",\"com.mysql.cj.jdbc.Driver\") \\\n",
    "    .option(\"url\", \"jdbc:mysql://ip:port/encore_web\") \\\n",
    "    .option(\"dbtable\",\"encore_question\") \\\n",
    "    .option(\"numPartitions\",5) \\\n",
    "    .option(\"user\", \"user\") \\\n",
    "    .option(\"password\", 'password') \\\n",
    "    .load()"
   ]
  },
  {
   "cell_type": "code",
   "execution_count": 27,
   "id": "31777ce9-5b61-4c95-8640-e7f9cd37b5c4",
   "metadata": {},
   "outputs": [
    {
     "name": "stdout",
     "output_type": "stream",
     "text": [
      "root\n",
      " |-- id: long (nullable = true)\n",
      " |-- subject: string (nullable = true)\n",
      " |-- content: string (nullable = true)\n",
      " |-- create_date: timestamp (nullable = true)\n",
      " |-- quthor_id: integer (nullable = true)\n",
      "\n"
     ]
    }
   ],
   "source": [
    "encore.printSchema()"
   ]
  },
  {
   "cell_type": "code",
   "execution_count": 28,
   "id": "ba5fc6e1-728b-4f63-9f1c-98189221bffe",
   "metadata": {},
   "outputs": [
    {
     "name": "stdout",
     "output_type": "stream",
     "text": [
      "+---+-------+-------+--------------------+---------+\n",
      "| id|subject|content|         create_date|quthor_id|\n",
      "+---+-------+-------+--------------------+---------+\n",
      "|  1|      d|      d|2024-05-14 06:37:...|        1|\n",
      "|  2|      d|      d|2024-05-14 06:37:...|        1|\n",
      "|  3|      d|      d|2024-05-14 06:37:...|        1|\n",
      "|  4|sdfasdf| fasadf|2024-05-14 06:38:...|        1|\n",
      "|  5|   우와|   우와|2024-05-14 06:38:...|        1|\n",
      "+---+-------+-------+--------------------+---------+\n",
      "\n"
     ]
    }
   ],
   "source": [
    "encore.limit(5).show()"
   ]
  },
  {
   "cell_type": "code",
   "execution_count": 29,
   "id": "9fd31a6f-4251-407b-b6e1-bd914a31209c",
   "metadata": {},
   "outputs": [],
   "source": [
    "from pyspark.sql.functions import instr"
   ]
  },
  {
   "cell_type": "code",
   "execution_count": 30,
   "id": "955c67db-b9c6-42ac-8b0d-59f52da343a8",
   "metadata": {},
   "outputs": [
    {
     "name": "stdout",
     "output_type": "stream",
     "text": [
      "+---+------------------------+-------+--------------------+---------+\n",
      "| id|                 subject|content|         create_date|quthor_id|\n",
      "+---+------------------------+-------+--------------------+---------+\n",
      "| 77|내일 점심 뭐 드실건가요?| 배고픔|2024-05-16 06:20:...|        1|\n",
      "+---+------------------------+-------+--------------------+---------+\n",
      "\n"
     ]
    }
   ],
   "source": [
    "encore.where(instr(col(\"subject\"),\"점심\") >=1).show()"
   ]
  },
  {
   "cell_type": "code",
   "execution_count": 31,
   "id": "5166fae8-4416-40f7-b1cb-def6be40adff",
   "metadata": {},
   "outputs": [],
   "source": [
    "# encore.filter(col(\"subject\").like(\"%점심%\")).limit(5).show()"
   ]
  },
  {
   "cell_type": "code",
   "execution_count": 32,
   "id": "c1216c7b-80b9-42c5-9187-456a571577d7",
   "metadata": {},
   "outputs": [],
   "source": [
    "from pyspark.sql.functions import expr, pow"
   ]
  },
  {
   "cell_type": "code",
   "execution_count": 33,
   "id": "a49717e2-45de-4965-b422-7bafa155f602",
   "metadata": {},
   "outputs": [
    {
     "data": {
      "text/plain": [
       "Column<'(POWER((Quantity * UnitPrice), 2) + 5)'>"
      ]
     },
     "execution_count": 33,
     "metadata": {},
     "output_type": "execute_result"
    }
   ],
   "source": [
    "pow(col(\"Quantity\")*col(\"UnitPrice\"),2)+5"
   ]
  },
  {
   "cell_type": "code",
   "execution_count": 34,
   "id": "681d8c54-e495-4c6d-b505-30aa36b0a03f",
   "metadata": {},
   "outputs": [
    {
     "name": "stdout",
     "output_type": "stream",
     "text": [
      "+----------+------------------+\n",
      "|CustomerId|      realQuantity|\n",
      "+----------+------------------+\n",
      "|   14075.0|         7387.2464|\n",
      "|   14075.0|             630.0|\n",
      "|   14075.0|1573.1599999999996|\n",
      "+----------+------------------+\n",
      "\n"
     ]
    }
   ],
   "source": [
    "# (현재 수량 * 단가)^2 + 5 \n",
    "condition1 = pow(col(\"Quantity\") * col(\"UnitPrice\"), 2) + 5 \n",
    "df.select(col(\"CustomerId\"), condition1.alias(\"realQuantity\")   ).limit(3).show()"
   ]
  },
  {
   "cell_type": "code",
   "execution_count": 35,
   "id": "557b4eb6-db23-4396-bd5b-eac53e09c0b2",
   "metadata": {},
   "outputs": [
    {
     "name": "stdout",
     "output_type": "stream",
     "text": [
      "+---------+---------+------------------+--------+-------------------+---------+----------+--------------+\n",
      "|InvoiceNo|StockCode|       Description|Quantity|        InvoiceDate|UnitPrice|CustomerID|       Country|\n",
      "+---------+---------+------------------+--------+-------------------+---------+----------+--------------+\n",
      "|   580538|    23084|RABBIT NIGHT LIGHT|      48|2011-12-05 08:38:00|     1.79|   14075.0|United Kingdom|\n",
      "+---------+---------+------------------+--------+-------------------+---------+----------+--------------+\n",
      "only showing top 1 row\n",
      "\n"
     ]
    }
   ],
   "source": [
    "df.show(1)"
   ]
  },
  {
   "cell_type": "code",
   "execution_count": 36,
   "id": "86ae3cea-1b24-43ed-98f0-34522b806fd5",
   "metadata": {},
   "outputs": [],
   "source": [
    "sql = \"\"\"\n",
    "select CustomerId, POWER((Quantity * UnitPrice), 2) + 5 as realQuantity\n",
    "from dfTable\n",
    "limit 10\n",
    "\"\"\""
   ]
  },
  {
   "cell_type": "code",
   "execution_count": 37,
   "id": "98799c99-0250-4d28-b012-2b71bbf06fc1",
   "metadata": {},
   "outputs": [
    {
     "name": "stdout",
     "output_type": "stream",
     "text": [
      "+----------+------------------+\n",
      "|CustomerId|      realQuantity|\n",
      "+----------+------------------+\n",
      "|   14075.0|         7387.2464|\n",
      "|   14075.0|             630.0|\n",
      "|   14075.0|1573.1599999999996|\n",
      "|   14075.0|             905.0|\n",
      "|   14075.0|239.08999999999997|\n",
      "|   14075.0|1669.6399999999999|\n",
      "|   14075.0|           1573.16|\n",
      "|   14075.0|1650.1136000000001|\n",
      "|   18180.0|             294.0|\n",
      "|   18180.0|             294.0|\n",
      "+----------+------------------+\n",
      "\n"
     ]
    }
   ],
   "source": [
    "spark.sql(sql).show()"
   ]
  },
  {
   "cell_type": "code",
   "execution_count": 38,
   "id": "d1322a7e-a812-43c7-a5fd-bae98e11a612",
   "metadata": {},
   "outputs": [],
   "source": [
    "from pyspark.sql.functions import round , bround, lit"
   ]
  },
  {
   "cell_type": "code",
   "execution_count": 39,
   "id": "48305536-8aaf-44c3-b2d2-5b9c17f7c7af",
   "metadata": {},
   "outputs": [
    {
     "name": "stdout",
     "output_type": "stream",
     "text": [
      "+-------------+--------------+\n",
      "|round(2.5, 0)|bround(2.5, 0)|\n",
      "+-------------+--------------+\n",
      "|          3.0|           2.0|\n",
      "|          3.0|           2.0|\n",
      "|          3.0|           2.0|\n",
      "|          3.0|           2.0|\n",
      "|          3.0|           2.0|\n",
      "|          3.0|           2.0|\n",
      "|          3.0|           2.0|\n",
      "|          3.0|           2.0|\n",
      "|          3.0|           2.0|\n",
      "|          3.0|           2.0|\n",
      "|          3.0|           2.0|\n",
      "|          3.0|           2.0|\n",
      "|          3.0|           2.0|\n",
      "|          3.0|           2.0|\n",
      "|          3.0|           2.0|\n",
      "|          3.0|           2.0|\n",
      "|          3.0|           2.0|\n",
      "|          3.0|           2.0|\n",
      "|          3.0|           2.0|\n",
      "|          3.0|           2.0|\n",
      "+-------------+--------------+\n",
      "only showing top 20 rows\n",
      "\n"
     ]
    }
   ],
   "source": [
    "from pyspark.sql.functions import round, bround, lit\n",
    "df.select(round(lit(\"2.5\")), bround(lit(\"2.5\"))     ).show()\n"
   ]
  },
  {
   "cell_type": "code",
   "execution_count": 40,
   "id": "57850b50-5e3b-4926-9233-173798066e41",
   "metadata": {},
   "outputs": [
    {
     "name": "stdout",
     "output_type": "stream",
     "text": [
      "+-------------+\n",
      "|round(2.4, 0)|\n",
      "+-------------+\n",
      "|          2.0|\n",
      "|          2.0|\n",
      "|          2.0|\n",
      "|          2.0|\n",
      "|          2.0|\n",
      "|          2.0|\n",
      "|          2.0|\n",
      "|          2.0|\n",
      "|          2.0|\n",
      "|          2.0|\n",
      "|          2.0|\n",
      "|          2.0|\n",
      "|          2.0|\n",
      "|          2.0|\n",
      "|          2.0|\n",
      "|          2.0|\n",
      "|          2.0|\n",
      "|          2.0|\n",
      "|          2.0|\n",
      "|          2.0|\n",
      "+-------------+\n",
      "only showing top 20 rows\n",
      "\n"
     ]
    }
   ],
   "source": [
    "df.select(round(lit(\"2.4\"))).show()"
   ]
  },
  {
   "cell_type": "code",
   "execution_count": 41,
   "id": "faaf00e1-8c50-48ad-9574-6a99ca2f099c",
   "metadata": {},
   "outputs": [],
   "source": [
    "from pyspark.sql.functions import corr"
   ]
  },
  {
   "cell_type": "code",
   "execution_count": 42,
   "id": "d5f0fa07-8cfc-48d7-8a7c-99458e131501",
   "metadata": {},
   "outputs": [
    {
     "name": "stderr",
     "output_type": "stream",
     "text": [
      "[Stage 26:=============================================>           (8 + 2) / 10]\r"
     ]
    },
    {
     "name": "stdout",
     "output_type": "stream",
     "text": [
      "+-------------------------+\n",
      "|corr(Quantity, UnitPrice)|\n",
      "+-------------------------+\n",
      "|     -0.00122463128643...|\n",
      "+-------------------------+\n",
      "\n"
     ]
    },
    {
     "name": "stderr",
     "output_type": "stream",
     "text": [
      "                                                                                \r"
     ]
    }
   ],
   "source": [
    "df.select(corr(\"Quantity\",\"UnitPrice\")).show()"
   ]
  },
  {
   "cell_type": "code",
   "execution_count": 43,
   "id": "d283059e-607b-4caf-98b3-a9608c0138b9",
   "metadata": {},
   "outputs": [
    {
     "name": "stderr",
     "output_type": "stream",
     "text": [
      "24/06/20 03:29:31 WARN package: Truncated the string representation of a plan since it was too large. This behavior can be adjusted by setting 'spark.sql.debug.maxToStringFields'.\n",
      "[Stage 29:===================================================>     (9 + 1) / 10]\r"
     ]
    },
    {
     "name": "stdout",
     "output_type": "stream",
     "text": [
      "+-------+------------------+------------------+--------------------+------------------+-----------------+------------------+-----------+\n",
      "|summary|         InvoiceNo|         StockCode|         Description|          Quantity|        UnitPrice|        CustomerID|    Country|\n",
      "+-------+------------------+------------------+--------------------+------------------+-----------------+------------------+-----------+\n",
      "|  count|            531694|            531694|              530257|            531694|           531694|            401575|     531694|\n",
      "|   mean| 560143.9877866305|27611.865304620373|             20713.0|  9.61681719184343|4.616183771117624| 15282.84867832908|       null|\n",
      "| stddev|13382.920102875296|16779.170172522252|                null|219.96052512423964|97.64344281865462|1713.3126527231266|       null|\n",
      "|    min|            536365|             10002| 4 PURPLE FLOCK D...|            -80995|        -11062.06|           12346.0|  Australia|\n",
      "|    max|           C581569|                 m|   wrongly sold sets|             80995|          38970.0|           18287.0|Unspecified|\n",
      "+-------+------------------+------------------+--------------------+------------------+-----------------+------------------+-----------+\n",
      "\n"
     ]
    },
    {
     "name": "stderr",
     "output_type": "stream",
     "text": [
      "                                                                                \r"
     ]
    }
   ],
   "source": [
    "df.describe().show()"
   ]
  },
  {
   "cell_type": "code",
   "execution_count": 44,
   "id": "ae7990b6-915a-464a-96d8-e9b85cafe9a8",
   "metadata": {},
   "outputs": [
    {
     "name": "stderr",
     "output_type": "stream",
     "text": [
      "[Stage 32:=============================================>           (8 + 2) / 10]\r"
     ]
    },
    {
     "name": "stdout",
     "output_type": "stream",
     "text": [
      "+-------+------------------+-----------------+\n",
      "|summary|          Quantity|        UnitPrice|\n",
      "+-------+------------------+-----------------+\n",
      "|  count|            531694|           531694|\n",
      "|   mean|  9.61681719184343|4.616183771117624|\n",
      "| stddev|219.96052512423964|97.64344281865462|\n",
      "|    min|            -80995|        -11062.06|\n",
      "|    max|             80995|          38970.0|\n",
      "+-------+------------------+-----------------+\n",
      "\n"
     ]
    },
    {
     "name": "stderr",
     "output_type": "stream",
     "text": [
      "                                                                                \r"
     ]
    }
   ],
   "source": [
    "df.select(col(\"Quantity\"),col(\"UnitPrice\")).describe().show()"
   ]
  },
  {
   "cell_type": "code",
   "execution_count": 45,
   "id": "d1ac1307-3db5-493b-89f5-b3711b1c2597",
   "metadata": {},
   "outputs": [],
   "source": [
    "from pyspark.sql.functions import count , mean, stddev_pop, min, max"
   ]
  },
  {
   "cell_type": "code",
   "execution_count": 46,
   "id": "79b14b85-9ed7-4c8f-b0ee-ade8998381ee",
   "metadata": {},
   "outputs": [
    {
     "name": "stderr",
     "output_type": "stream",
     "text": [
      "[Stage 35:=======================================>                 (7 + 2) / 10]\r"
     ]
    },
    {
     "name": "stdout",
     "output_type": "stream",
     "text": [
      "+-----------------+\n",
      "|   avg(UnitPrice)|\n",
      "+-----------------+\n",
      "|4.616183771117624|\n",
      "+-----------------+\n",
      "\n"
     ]
    },
    {
     "name": "stderr",
     "output_type": "stream",
     "text": [
      "                                                                                \r"
     ]
    }
   ],
   "source": [
    "df.select(mean(\"UnitPrice\")).show()"
   ]
  },
  {
   "cell_type": "code",
   "execution_count": 47,
   "id": "4a52c53b-519a-4b7b-8517-57a95bba5da6",
   "metadata": {},
   "outputs": [
    {
     "name": "stderr",
     "output_type": "stream",
     "text": [
      "[Stage 38:=============================================>           (8 + 2) / 10]\r"
     ]
    },
    {
     "name": "stdout",
     "output_type": "stream",
     "text": [
      "+-----------------+---------------------+\n",
      "|   avg(UnitPrice)|stddev_pop(UnitPrice)|\n",
      "+-----------------+---------------------+\n",
      "|4.616183771117624|    97.64335099564296|\n",
      "+-----------------+---------------------+\n",
      "\n"
     ]
    },
    {
     "name": "stderr",
     "output_type": "stream",
     "text": [
      "                                                                                \r"
     ]
    }
   ],
   "source": [
    "df.select(mean(\"UnitPrice\"),stddev_pop(\"UnitPrice\")).show()"
   ]
  },
  {
   "cell_type": "code",
   "execution_count": 48,
   "id": "9f1d79c3-06d6-4808-bead-e6ac9da3130c",
   "metadata": {},
   "outputs": [
    {
     "name": "stderr",
     "output_type": "stream",
     "text": [
      "                                                                                \r"
     ]
    },
    {
     "data": {
      "text/plain": [
       "[2.08]"
      ]
     },
     "execution_count": 48,
     "metadata": {},
     "output_type": "execute_result"
    }
   ],
   "source": [
    "df.stat.approxQuantile(\"UnitPrice\",[0.5],0.05)"
   ]
  },
  {
   "cell_type": "code",
   "execution_count": 49,
   "id": "1007f614-9e8a-4275-a786-513edb8c7588",
   "metadata": {},
   "outputs": [
    {
     "name": "stderr",
     "output_type": "stream",
     "text": [
      "                                                                                \r"
     ]
    },
    {
     "data": {
      "text/plain": [
       "[2.08]"
      ]
     },
     "execution_count": 49,
     "metadata": {},
     "output_type": "execute_result"
    }
   ],
   "source": [
    "df.stat.approxQuantile(\"UnitPrice\",[0.5],0)"
   ]
  },
  {
   "cell_type": "code",
   "execution_count": 50,
   "id": "57bc7f7f-e061-4787-9171-ae2a5a8458b5",
   "metadata": {},
   "outputs": [],
   "source": [
    "from pyspark.sql.functions import initcap, col, lower, upper"
   ]
  },
  {
   "cell_type": "code",
   "execution_count": 51,
   "id": "bf20a1af-dc23-4825-ba98-1347288754e0",
   "metadata": {},
   "outputs": [
    {
     "name": "stdout",
     "output_type": "stream",
     "text": [
      "+-------------------+\n",
      "|        Description|\n",
      "+-------------------+\n",
      "| RABBIT NIGHT LIGHT|\n",
      "|DOUGHNUT LIP GLOSS |\n",
      "+-------------------+\n",
      "\n"
     ]
    }
   ],
   "source": [
    "df.select((col(\"Description\"))).limit(2).show() "
   ]
  },
  {
   "cell_type": "code",
   "execution_count": 52,
   "id": "0055c131-6854-4692-a6b6-a0c62e2a54ea",
   "metadata": {},
   "outputs": [
    {
     "name": "stdout",
     "output_type": "stream",
     "text": [
      "+--------------------+\n",
      "|initcap(Description)|\n",
      "+--------------------+\n",
      "|  Rabbit Night Light|\n",
      "| Doughnut Lip Gloss |\n",
      "+--------------------+\n",
      "\n"
     ]
    }
   ],
   "source": [
    "df.select(initcap(col(\"Description\"))).limit(2).show()"
   ]
  },
  {
   "cell_type": "code",
   "execution_count": 53,
   "id": "6427cec0-478a-4ce0-a8b8-856e8ce198cd",
   "metadata": {},
   "outputs": [
    {
     "name": "stdout",
     "output_type": "stream",
     "text": [
      "+--------------------+--------------------+--------------------+\n",
      "|         Description|  lower(Description)|  upper(Description)|\n",
      "+--------------------+--------------------+--------------------+\n",
      "|  RABBIT NIGHT LIGHT|  rabbit night light|  RABBIT NIGHT LIGHT|\n",
      "| DOUGHNUT LIP GLOSS | doughnut lip gloss | DOUGHNUT LIP GLOSS |\n",
      "|12 MESSAGE CARDS ...|12 message cards ...|12 MESSAGE CARDS ...|\n",
      "+--------------------+--------------------+--------------------+\n",
      "\n"
     ]
    }
   ],
   "source": [
    "df.select(col(\"Description\"), lower(col(\"Description\")),upper(col(\"Description\"))).limit(3).show()"
   ]
  },
  {
   "cell_type": "code",
   "execution_count": 54,
   "id": "9d86141b-5ace-42e8-9e0d-1da3ddde8af2",
   "metadata": {},
   "outputs": [
    {
     "name": "stdout",
     "output_type": "stream",
     "text": [
      "+--------------------+--------------------+--------------------+\n",
      "|         Description|  lower(Description)|  upper(Description)|\n",
      "+--------------------+--------------------+--------------------+\n",
      "|  RABBIT NIGHT LIGHT|  rabbit night light|  RABBIT NIGHT LIGHT|\n",
      "| DOUGHNUT LIP GLOSS | doughnut lip gloss | DOUGHNUT LIP GLOSS |\n",
      "|12 MESSAGE CARDS ...|12 message cards ...|12 MESSAGE CARDS ...|\n",
      "|BLUE HARMONICA IN...|blue harmonica in...|BLUE HARMONICA IN...|\n",
      "|   GUMBALL COAT RACK|   gumball coat rack|   GUMBALL COAT RACK|\n",
      "|SKULLS  WATER TRA...|skulls  water tra...|SKULLS  WATER TRA...|\n",
      "|FELTCRAFT GIRL AM...|feltcraft girl am...|FELTCRAFT GIRL AM...|\n",
      "|CAMOUFLAGE LED TORCH|camouflage led torch|CAMOUFLAGE LED TORCH|\n",
      "|WHITE SKULL HOT W...|white skull hot w...|WHITE SKULL HOT W...|\n",
      "|ENGLISH ROSE HOT ...|english rose hot ...|ENGLISH ROSE HOT ...|\n",
      "|HOT WATER BOTTLE ...|hot water bottle ...|HOT WATER BOTTLE ...|\n",
      "|SCOTTIE DOG HOT W...|scottie dog hot w...|SCOTTIE DOG HOT W...|\n",
      "|ROSE CARAVAN DOOR...|rose caravan door...|ROSE CARAVAN DOOR...|\n",
      "|GINGHAM HEART  DO...|gingham heart  do...|GINGHAM HEART  DO...|\n",
      "|STORAGE TIN VINTA...|storage tin vinta...|STORAGE TIN VINTA...|\n",
      "|SET OF 4 KNICK KN...|set of 4 knick kn...|SET OF 4 KNICK KN...|\n",
      "|      POPCORN HOLDER|      popcorn holder|      POPCORN HOLDER|\n",
      "|GROW A FLYTRAP OR...|grow a flytrap or...|GROW A FLYTRAP OR...|\n",
      "|AIRLINE BAG VINTA...|airline bag vinta...|AIRLINE BAG VINTA...|\n",
      "|AIRLINE BAG VINTA...|airline bag vinta...|AIRLINE BAG VINTA...|\n",
      "+--------------------+--------------------+--------------------+\n",
      "only showing top 20 rows\n",
      "\n"
     ]
    }
   ],
   "source": [
    "spark.sql(\"\"\"select Description, lower(Description), upper(Description) from dfTable\"\"\").show()"
   ]
  },
  {
   "cell_type": "code",
   "execution_count": 55,
   "id": "955abcd8-5647-416d-9687-0b087f26bdea",
   "metadata": {},
   "outputs": [],
   "source": [
    "from pyspark.sql.functions import lit, ltrim, rtrim, rpad, lpad, trim"
   ]
  },
  {
   "cell_type": "code",
   "execution_count": 56,
   "id": "9fd4da73-09f6-4afa-8303-e68123749192",
   "metadata": {},
   "outputs": [
    {
     "name": "stdout",
     "output_type": "stream",
     "text": [
      "+----------------------+--------------------+---------------------+---------------+\n",
      "|ltrim(       Hi      )|rtrim(       Hi    )|trim(       Hi      )|rpad(hi, 10, -)|\n",
      "+----------------------+--------------------+---------------------+---------------+\n",
      "|              Hi      |                  Hi|                   Hi|     hi--------|\n",
      "|              Hi      |                  Hi|                   Hi|     hi--------|\n",
      "|              Hi      |                  Hi|                   Hi|     hi--------|\n",
      "|              Hi      |                  Hi|                   Hi|     hi--------|\n",
      "|              Hi      |                  Hi|                   Hi|     hi--------|\n",
      "|              Hi      |                  Hi|                   Hi|     hi--------|\n",
      "|              Hi      |                  Hi|                   Hi|     hi--------|\n",
      "|              Hi      |                  Hi|                   Hi|     hi--------|\n",
      "|              Hi      |                  Hi|                   Hi|     hi--------|\n",
      "|              Hi      |                  Hi|                   Hi|     hi--------|\n",
      "|              Hi      |                  Hi|                   Hi|     hi--------|\n",
      "|              Hi      |                  Hi|                   Hi|     hi--------|\n",
      "|              Hi      |                  Hi|                   Hi|     hi--------|\n",
      "|              Hi      |                  Hi|                   Hi|     hi--------|\n",
      "|              Hi      |                  Hi|                   Hi|     hi--------|\n",
      "|              Hi      |                  Hi|                   Hi|     hi--------|\n",
      "|              Hi      |                  Hi|                   Hi|     hi--------|\n",
      "|              Hi      |                  Hi|                   Hi|     hi--------|\n",
      "|              Hi      |                  Hi|                   Hi|     hi--------|\n",
      "|              Hi      |                  Hi|                   Hi|     hi--------|\n",
      "+----------------------+--------------------+---------------------+---------------+\n",
      "only showing top 20 rows\n",
      "\n"
     ]
    }
   ],
   "source": [
    "df.select(ltrim(lit(\"       Hi      \")),  rtrim(lit(\"       Hi    \")) ,\n",
    "         trim(lit(\"       Hi      \")), \n",
    "         rpad(lit(\"hi\"), 10, \"-\")).show()\n"
   ]
  },
  {
   "cell_type": "code",
   "execution_count": 57,
   "id": "f349e2c3-ad03-4045-9aa9-dfd697fe7338",
   "metadata": {},
   "outputs": [],
   "source": [
    "from pyspark.sql.functions import regexp_extract, regexp_replace"
   ]
  },
  {
   "cell_type": "code",
   "execution_count": 58,
   "id": "df986253-b983-48e6-83eb-7d2a01def256",
   "metadata": {},
   "outputs": [],
   "source": [
    "regex_string = \"BLACK|WHITE|RED|GREEN|BLUE\""
   ]
  },
  {
   "cell_type": "code",
   "execution_count": 59,
   "id": "1af0f68d-c25b-4ca2-92db-d163305ebc16",
   "metadata": {},
   "outputs": [
    {
     "name": "stdout",
     "output_type": "stream",
     "text": [
      "+-------------------------------+-------------------------------+\n",
      "|color                          |Description                    |\n",
      "+-------------------------------+-------------------------------+\n",
      "|RABBIT NIGHT LIGHT             |RABBIT NIGHT LIGHT             |\n",
      "|DOUGHNUT LIP GLOSS             |DOUGHNUT LIP GLOSS             |\n",
      "|12 MESSAGE CARDS WITH ENVELOPES|12 MESSAGE CARDS WITH ENVELOPES|\n",
      "|COLOR HARMONICA IN BOX         |BLUE HARMONICA IN BOX          |\n",
      "|GUMBALL COAT RACK              |GUMBALL COAT RACK              |\n",
      "|SKULLS  WATER TRANSFER TATTOOS |SKULLS  WATER TRANSFER TATTOOS |\n",
      "|FELTCRAFT GIRL AMELIE KIT      |FELTCRAFT GIRL AMELIE KIT      |\n",
      "|CAMOUFLAGE LED TORCH           |CAMOUFLAGE LED TORCH           |\n",
      "|COLOR SKULL HOT WATER BOTTLE   |WHITE SKULL HOT WATER BOTTLE   |\n",
      "|ENGLISH ROSE HOT WATER BOTTLE  |ENGLISH ROSE HOT WATER BOTTLE  |\n",
      "+-------------------------------+-------------------------------+\n",
      "\n"
     ]
    }
   ],
   "source": [
    "df.select(regexp_replace(col(\"Description\"), regex_string,\"COLOR\").alias(\"color\"),\n",
    "              col(\"Description\")).limit(10).show(truncate=False)"
   ]
  },
  {
   "cell_type": "code",
   "execution_count": 60,
   "id": "62fa72ba-f83d-4bb1-95dd-10fbdc8a39b2",
   "metadata": {},
   "outputs": [
    {
     "name": "stdout",
     "output_type": "stream",
     "text": [
      "+-----------------------------------+-----------------------------------+\n",
      "|color                              |Description                        |\n",
      "+-----------------------------------+-----------------------------------+\n",
      "|RABBIT NIGHT LIGHT                 |RABBIT NIGHT LIGHT                 |\n",
      "|DOUGHNUT LIP GLOSS                 |DOUGHNUT LIP GLOSS                 |\n",
      "|12 MESSAGE CARDS WITH ENVELOPES    |12 MESSAGE CARDS WITH ENVELOPES    |\n",
      "|color HARMONICA IN BOX             |BLUE HARMONICA IN BOX              |\n",
      "|GUMBALL COAT RACK                  |GUMBALL COAT RACK                  |\n",
      "|SKULLS  WATER TRANSFER TATTOOS     |SKULLS  WATER TRANSFER TATTOOS     |\n",
      "|FELTCRAFT GIRL AMELIE KIT          |FELTCRAFT GIRL AMELIE KIT          |\n",
      "|CAMOUFLAGE LED TORCH               |CAMOUFLAGE LED TORCH               |\n",
      "|color SKULL HOT WATER BOTTLE       |WHITE SKULL HOT WATER BOTTLE       |\n",
      "|ENGLISH ROSE HOT WATER BOTTLE      |ENGLISH ROSE HOT WATER BOTTLE      |\n",
      "|HOT WATER BOTTLE KEEP CALM         |HOT WATER BOTTLE KEEP CALM         |\n",
      "|SCOTTIE DOG HOT WATER BOTTLE       |SCOTTIE DOG HOT WATER BOTTLE       |\n",
      "|ROSE CARAVAN DOORSTOP              |ROSE CARAVAN DOORSTOP              |\n",
      "|GINGHAM HEART  DOORSTOP color      |GINGHAM HEART  DOORSTOP RED        |\n",
      "|STORAGE TIN VINTAGE LEAF           |STORAGE TIN VINTAGE LEAF           |\n",
      "|SET OF 4 KNICK KNACK TINS POPPIES  |SET OF 4 KNICK KNACK TINS POPPIES  |\n",
      "|POPCORN HOLDER                     |POPCORN HOLDER                     |\n",
      "|GROW A FLYTRAP OR SUNFLOWER IN TIN |GROW A FLYTRAP OR SUNFLOWER IN TIN |\n",
      "|AIRLINE BAG VINTAGE WORLD CHAMPION |AIRLINE BAG VINTAGE WORLD CHAMPION |\n",
      "|AIRLINE BAG VINTAGE JET SET BROWN  |AIRLINE BAG VINTAGE JET SET BROWN  |\n",
      "+-----------------------------------+-----------------------------------+\n",
      "only showing top 20 rows\n",
      "\n"
     ]
    }
   ],
   "source": [
    "spark.sql(\"\"\" select regexp_replace(Description, \"BLACK|WHITE|RED|GREEN|BLUE\", \"color\")\n",
    "    as color, Description from dfTable\n",
    "\n",
    "\"\"\").show(truncate=False)\n"
   ]
  },
  {
   "cell_type": "code",
   "execution_count": 61,
   "id": "fa52cbcb-3328-4068-80ff-85066c0ee8ee",
   "metadata": {},
   "outputs": [
    {
     "name": "stdout",
     "output_type": "stream",
     "text": [
      "+-----+-------------------------------+\n",
      "|color|Description                    |\n",
      "+-----+-------------------------------+\n",
      "|     |RABBIT NIGHT LIGHT             |\n",
      "|     |DOUGHNUT LIP GLOSS             |\n",
      "|     |12 MESSAGE CARDS WITH ENVELOPES|\n",
      "|BLUE |BLUE HARMONICA IN BOX          |\n",
      "|     |GUMBALL COAT RACK              |\n",
      "|     |SKULLS  WATER TRANSFER TATTOOS |\n",
      "|     |FELTCRAFT GIRL AMELIE KIT      |\n",
      "|     |CAMOUFLAGE LED TORCH           |\n",
      "|WHITE|WHITE SKULL HOT WATER BOTTLE   |\n",
      "|     |ENGLISH ROSE HOT WATER BOTTLE  |\n",
      "+-----+-------------------------------+\n",
      "\n"
     ]
    }
   ],
   "source": [
    "df.select( regexp_extract(col(\"Description\"), regex_string, 0).alias(\"color\"),\n",
    "            col(\"Description\")).limit(10).show(truncate=False)\n"
   ]
  }
 ],
 "metadata": {
  "kernelspec": {
   "display_name": "Python 3 (ipykernel)",
   "language": "python",
   "name": "python3"
  },
  "language_info": {
   "codemirror_mode": {
    "name": "ipython",
    "version": 3
   },
   "file_extension": ".py",
   "mimetype": "text/x-python",
   "name": "python",
   "nbconvert_exporter": "python",
   "pygments_lexer": "ipython3",
   "version": "3.10.14"
  }
 },
 "nbformat": 4,
 "nbformat_minor": 5
}
