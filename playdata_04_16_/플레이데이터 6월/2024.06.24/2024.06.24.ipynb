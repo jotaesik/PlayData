{
 "cells": [
  {
   "cell_type": "code",
   "execution_count": 1,
   "id": "81d6b450-1703-440f-a655-1c23bc362ca8",
   "metadata": {},
   "outputs": [
    {
     "name": "stderr",
     "output_type": "stream",
     "text": [
      "24/06/24 05:22:05 WARN SparkSession: Using an existing Spark session; only runtime SQL configurations will take effect.\n"
     ]
    },
    {
     "data": {
      "text/html": [
       "\n",
       "            <div>\n",
       "                <p><b>SparkSession - hive</b></p>\n",
       "                \n",
       "        <div>\n",
       "            <p><b>SparkContext</b></p>\n",
       "\n",
       "            <p><a href=\"http://broker1:4040\">Spark UI</a></p>\n",
       "\n",
       "            <dl>\n",
       "              <dt>Version</dt>\n",
       "                <dd><code>v3.4.3</code></dd>\n",
       "              <dt>Master</dt>\n",
       "                <dd><code>spark://master:7077</code></dd>\n",
       "              <dt>AppName</dt>\n",
       "                <dd><code>PySparkShell</code></dd>\n",
       "            </dl>\n",
       "        </div>\n",
       "        \n",
       "            </div>\n",
       "        "
      ],
      "text/plain": [
       "<pyspark.sql.session.SparkSession at 0x7f15013439a0>"
      ]
     },
     "execution_count": 1,
     "metadata": {},
     "output_type": "execute_result"
    }
   ],
   "source": [
    "import pyspark\n",
    "from pyspark.sql import SparkSession\n",
    "\n",
    "\n",
    "conf = pyspark.SparkConf().setAppName(\"gen\").\\\n",
    "        setMaster(\"spark://master:7077\").\\\n",
    "        set(\"spark.executor.instances\", \"2\") \n",
    "spark = SparkSession.builder.config(conf=conf).getOrCreate()\n",
    "\n",
    "spark\n"
   ]
  },
  {
   "cell_type": "code",
   "execution_count": 2,
   "id": "0e8403b8-1a22-492d-a02e-d2d946e2b308",
   "metadata": {},
   "outputs": [],
   "source": [
    "from pyspark.sql.functions import current_date, current_timestamp, \\\n",
    "    date_add, date_sub, datediff, months_between, to_date, lit, to_timestamp"
   ]
  },
  {
   "cell_type": "code",
   "execution_count": 9,
   "id": "dae9d276-95ca-4d4c-a28a-aaa5e7a9d1b9",
   "metadata": {},
   "outputs": [],
   "source": [
    "dateDF = spark.range(10).\\\n",
    "    withColumn(\"today\",current_date()).\\\n",
    "    withColumn(\"now\",current_timestamp())"
   ]
  },
  {
   "cell_type": "code",
   "execution_count": 10,
   "id": "5c655b7f-e9f8-4c14-8a0a-22fe638ade22",
   "metadata": {},
   "outputs": [
    {
     "name": "stdout",
     "output_type": "stream",
     "text": [
      "== Physical Plan ==\n",
      "*(1) Project [id#72L, 2024-06-24 AS today#74, 2024-06-24 05:36:24.455507 AS now#77]\n",
      "+- *(1) Range (0, 10, step=1, splits=4)\n",
      "\n",
      "\n"
     ]
    }
   ],
   "source": [
    "dateDF.explain()"
   ]
  },
  {
   "cell_type": "code",
   "execution_count": 12,
   "id": "d63c97c5-30d0-4f81-9582-957036393f09",
   "metadata": {},
   "outputs": [
    {
     "name": "stdout",
     "output_type": "stream",
     "text": [
      "+--------------------+\n",
      "|date_add(today, 100)|\n",
      "+--------------------+\n",
      "|          2024-10-02|\n",
      "|          2024-10-02|\n",
      "|          2024-10-02|\n",
      "|          2024-10-02|\n",
      "|          2024-10-02|\n",
      "|          2024-10-02|\n",
      "|          2024-10-02|\n",
      "|          2024-10-02|\n",
      "|          2024-10-02|\n",
      "|          2024-10-02|\n",
      "+--------------------+\n",
      "\n"
     ]
    }
   ],
   "source": [
    "dateDF.select(date_add(\"today\", 100)).show()"
   ]
  },
  {
   "cell_type": "code",
   "execution_count": 17,
   "id": "5e79e5b0-f891-47c3-8401-34541d252f05",
   "metadata": {},
   "outputs": [
    {
     "name": "stdout",
     "output_type": "stream",
     "text": [
      "+----------+----------+----------+\n",
      "|     today|     100일|    -100일|\n",
      "+----------+----------+----------+\n",
      "|2024-06-24|2024-10-02|2024-03-16|\n",
      "|2024-06-24|2024-10-02|2024-03-16|\n",
      "|2024-06-24|2024-10-02|2024-03-16|\n",
      "|2024-06-24|2024-10-02|2024-03-16|\n",
      "|2024-06-24|2024-10-02|2024-03-16|\n",
      "|2024-06-24|2024-10-02|2024-03-16|\n",
      "|2024-06-24|2024-10-02|2024-03-16|\n",
      "|2024-06-24|2024-10-02|2024-03-16|\n",
      "|2024-06-24|2024-10-02|2024-03-16|\n",
      "|2024-06-24|2024-10-02|2024-03-16|\n",
      "+----------+----------+----------+\n",
      "\n"
     ]
    }
   ],
   "source": [
    "dateDF.select(\"today\", date_add(\"today\", 100).alias(\"100일\"), date_sub(\"today\", 100).alias(\"-100일\")).show()"
   ]
  },
  {
   "cell_type": "code",
   "execution_count": 13,
   "id": "fb9868e7-bce0-4201-b902-ef2e4ea49eb7",
   "metadata": {},
   "outputs": [
    {
     "name": "stdout",
     "output_type": "stream",
     "text": [
      "+--------------------+\n",
      "|date_sub(today, 100)|\n",
      "+--------------------+\n",
      "|          2024-03-16|\n",
      "|          2024-03-16|\n",
      "|          2024-03-16|\n",
      "|          2024-03-16|\n",
      "|          2024-03-16|\n",
      "|          2024-03-16|\n",
      "|          2024-03-16|\n",
      "|          2024-03-16|\n",
      "|          2024-03-16|\n",
      "|          2024-03-16|\n",
      "+--------------------+\n",
      "\n"
     ]
    }
   ],
   "source": [
    "dateDF.select(date_sub(\"today\", 100)).show()"
   ]
  },
  {
   "cell_type": "code",
   "execution_count": 14,
   "id": "d03fd93b-e65b-4568-ad2e-f625a21efae2",
   "metadata": {},
   "outputs": [
    {
     "name": "stdout",
     "output_type": "stream",
     "text": [
      "root\n",
      " |-- id: long (nullable = false)\n",
      " |-- today: date (nullable = false)\n",
      " |-- now: timestamp (nullable = false)\n",
      "\n"
     ]
    }
   ],
   "source": [
    "dateDF.printSchema()"
   ]
  },
  {
   "cell_type": "code",
   "execution_count": 18,
   "id": "88157c88-21e3-43ac-aa91-f68e70848dc7",
   "metadata": {},
   "outputs": [
    {
     "name": "stdout",
     "output_type": "stream",
     "text": [
      "+-------------------------+\n",
      "|datediff(week_ago, today)|\n",
      "+-------------------------+\n",
      "|                       -7|\n",
      "|                       -7|\n",
      "|                       -7|\n",
      "|                       -7|\n",
      "|                       -7|\n",
      "|                       -7|\n",
      "|                       -7|\n",
      "|                       -7|\n",
      "|                       -7|\n",
      "|                       -7|\n",
      "+-------------------------+\n",
      "\n"
     ]
    }
   ],
   "source": [
    "dateDF.withColumn(\"week_ago\", date_sub(\"today\", 7)).\\\n",
    "            select(datediff(\"week_ago\", \"today\")).show()\n"
   ]
  },
  {
   "cell_type": "code",
   "execution_count": 24,
   "id": "653e0f54-9390-448d-be53-4eb7c449843d",
   "metadata": {},
   "outputs": [
    {
     "name": "stdout",
     "output_type": "stream",
     "text": [
      "+--------------------------------+--------------------+\n",
      "|months_between(end, start, true)|datediff(end, start)|\n",
      "+--------------------------------+--------------------+\n",
      "|                      5.83870968|                 179|\n",
      "|                      5.83870968|                 179|\n",
      "|                      5.83870968|                 179|\n",
      "|                      5.83870968|                 179|\n",
      "|                      5.83870968|                 179|\n",
      "|                      5.83870968|                 179|\n",
      "|                      5.83870968|                 179|\n",
      "|                      5.83870968|                 179|\n",
      "|                      5.83870968|                 179|\n",
      "|                      5.83870968|                 179|\n",
      "+--------------------------------+--------------------+\n",
      "\n"
     ]
    }
   ],
   "source": [
    "dateDF.select(to_date(lit('2024-04-01')).alias('start'), \n",
    "             to_date(lit('2024-09-27')).alias('end')).\\\n",
    "        select(months_between(\"end\", \"start\"), datediff(\"end\", \"start\")).show()"
   ]
  },
  {
   "cell_type": "code",
   "execution_count": 25,
   "id": "4778b932-1615-40d3-bf2d-5e9e27f14b34",
   "metadata": {},
   "outputs": [
    {
     "name": "stdout",
     "output_type": "stream",
     "text": [
      "+--------------------------------+--------------------+\n",
      "|months_between(end, start, true)|datediff(end, start)|\n",
      "+--------------------------------+--------------------+\n",
      "|                      0.06451613|                   2|\n",
      "|                      0.06451613|                   2|\n",
      "|                      0.06451613|                   2|\n",
      "|                      0.06451613|                   2|\n",
      "|                      0.06451613|                   2|\n",
      "|                      0.06451613|                   2|\n",
      "|                      0.06451613|                   2|\n",
      "|                      0.06451613|                   2|\n",
      "|                      0.06451613|                   2|\n",
      "|                      0.06451613|                   2|\n",
      "+--------------------------------+--------------------+\n",
      "\n"
     ]
    }
   ],
   "source": [
    "dateDF.select(to_date(lit('2024-04-01')).alias('start'), \n",
    "             to_date(lit('2024-04-03')).alias('end')).\\\n",
    "        select(months_between(\"end\", \"start\"), datediff(\"end\", \"start\")).show()"
   ]
  },
  {
   "cell_type": "code",
   "execution_count": 31,
   "id": "90c4fe5b-17f8-4846-b09b-a624192977bd",
   "metadata": {},
   "outputs": [
    {
     "name": "stdout",
     "output_type": "stream",
     "text": [
      "+-------------------------------+\n",
      "|to_date(2024-12-11, yyyy-dd-MM)|\n",
      "+-------------------------------+\n",
      "|                     2024-11-12|\n",
      "+-------------------------------+\n",
      "\n"
     ]
    }
   ],
   "source": [
    "dateFormat = \"yyyy-dd-MM\"\n",
    "cleanDataDF = spark.range(1).select(to_date(lit('2024-12-11'),dateFormat)).show()"
   ]
  },
  {
   "cell_type": "code",
   "execution_count": 32,
   "id": "62331fd7-ca02-4cf6-82e0-ea58e837e430",
   "metadata": {},
   "outputs": [
    {
     "name": "stdout",
     "output_type": "stream",
     "text": [
      "+---------------------------+\n",
      "|to_date(24/06/24, yy/MM/dd)|\n",
      "+---------------------------+\n",
      "|                 2024-06-24|\n",
      "+---------------------------+\n",
      "\n"
     ]
    }
   ],
   "source": [
    "# 날짜 데이터 파싱 \n",
    "dateFormat = \"yy/MM/dd\"\n",
    "cleanDataDF = spark.range(1).select(to_date(lit('24/06/24'), dateFormat)).show()\n"
   ]
  },
  {
   "cell_type": "code",
   "execution_count": 65,
   "id": "a526a20d-c753-4020-afa8-542d67f9badc",
   "metadata": {},
   "outputs": [],
   "source": [
    "import requests\n",
    "import xml.etree.ElementTree as ET\n",
    "\n",
    "url = \"http://openapi.molit.go.kr/OpenAPI_ToolInstallPackage/service/rest/RTMSOBJSvc/getRTMSDataSvcAptTradeDev?serviceKey=34lIyWAciAsJlGtIZ4ltpLy2sLZDR%2BBRWvAv8RgoADNEd%2BKCgHe84XiSRUwL8JMMIubzsFW3ddjcNlhZHhvJIQ%3D%3D&pageNo=1&numOfRows=1000&LAWD_CD=11680&DEAL_YMD=202405\"\n",
    "\n",
    "column_list = []\n",
    "data_list = []\n",
    "check = 0\n",
    "r = requests.get(url)\n",
    "root = ET.fromstring(r.content)\n",
    "for item in root.iter('item'):\n",
    "    tmp = []\n",
    "    if check==0:\n",
    "        for child in item:\n",
    "            # print(child.tag, child.text)\n",
    "            column_list.append(child.tag)\n",
    "            tmp.append(child.text)\n",
    "            check=1\n",
    "    else:\n",
    "        for child in item:\n",
    "            # print(child.tag, child.text)\n",
    "            # column_list.append(child.tag)\n",
    "            tmp.append(child.text)\n",
    "            \n",
    "        \n",
    "    data_list.append(tmp)\n",
    "import pandas as pd\n",
    "df = pd.DataFrame(data_list,columns=column_list)        \n",
    "    "
   ]
  },
  {
   "cell_type": "code",
   "execution_count": 69,
   "id": "c1f84798-7b11-496b-8856-c59e21159e90",
   "metadata": {},
   "outputs": [
    {
     "name": "stdout",
     "output_type": "stream",
     "text": [
      "Defaulting to user installation because normal site-packages is not writeable\n",
      "Collecting pandas\n",
      "  Downloading pandas-2.2.2-cp310-cp310-manylinux_2_17_x86_64.manylinux2014_x86_64.whl (13.0 MB)\n",
      "\u001b[2K     \u001b[90m━━━━━━━━━━━━━━━━━━━━━━━━━━━━━━━━━━━━━━━━\u001b[0m \u001b[32m13.0/13.0 MB\u001b[0m \u001b[31m23.5 MB/s\u001b[0m eta \u001b[36m0:00:00\u001b[0m00:01\u001b[0m00:01\u001b[0m\n",
      "\u001b[?25hCollecting tzdata>=2022.7\n",
      "  Downloading tzdata-2024.1-py2.py3-none-any.whl (345 kB)\n",
      "\u001b[2K     \u001b[90m━━━━━━━━━━━━━━━━━━━━━━━━━━━━━━━━━━━━━━\u001b[0m \u001b[32m345.4/345.4 KB\u001b[0m \u001b[31m51.8 MB/s\u001b[0m eta \u001b[36m0:00:00\u001b[0m\n",
      "\u001b[?25hRequirement already satisfied: pytz>=2020.1 in /usr/lib/python3/dist-packages (from pandas) (2022.1)\n",
      "Collecting numpy>=1.22.4\n",
      "  Downloading numpy-2.0.0-cp310-cp310-manylinux_2_17_x86_64.manylinux2014_x86_64.whl (19.3 MB)\n",
      "\u001b[2K     \u001b[90m━━━━━━━━━━━━━━━━━━━━━━━━━━━━━━━━━━━━━━━━\u001b[0m \u001b[32m19.3/19.3 MB\u001b[0m \u001b[31m19.3 MB/s\u001b[0m eta \u001b[36m0:00:00\u001b[0m00:01\u001b[0m00:01\u001b[0m\n",
      "\u001b[?25hRequirement already satisfied: python-dateutil>=2.8.2 in /home/kafka/.local/lib/python3.10/site-packages (from pandas) (2.9.0.post0)\n",
      "Requirement already satisfied: six>=1.5 in /usr/lib/python3/dist-packages (from python-dateutil>=2.8.2->pandas) (1.16.0)\n",
      "Installing collected packages: tzdata, numpy, pandas\n",
      "Successfully installed numpy-2.0.0 pandas-2.2.2 tzdata-2024.1\n",
      "Note: you may need to restart the kernel to use updated packages.\n"
     ]
    }
   ],
   "source": [
    "pip install pandas"
   ]
  },
  {
   "cell_type": "code",
   "execution_count": 77,
   "id": "2e2fb937-c528-48f6-81f6-7fa385635b6b",
   "metadata": {},
   "outputs": [],
   "source": [
    "import xml.etree.ElementTree as ET\n",
    "root = ET.fromstring(r.text)\n",
    "items = root.iter(tag='item')\n",
    "# for x in items:\n",
    "#     for y in x:\n",
    "#         print(y.tag, y.text)\n",
    "\n",
    "apt =pd.DataFrame([{y.tag : y.text for y in x} for x in items])"
   ]
  },
  {
   "cell_type": "code",
   "execution_count": 79,
   "id": "e09d74b3-2aa7-4ae7-8fa1-c39505fd1d5e",
   "metadata": {},
   "outputs": [
    {
     "data": {
      "text/plain": [
       "(266, 32)"
      ]
     },
     "execution_count": 79,
     "metadata": {},
     "output_type": "execute_result"
    }
   ],
   "source": [
    "apt.shape"
   ]
  },
  {
   "cell_type": "code",
   "execution_count": 80,
   "id": "a1a76d0b-31bc-4aeb-8699-dbbba1366d55",
   "metadata": {},
   "outputs": [],
   "source": [
    "apt_spark_df = spark.createDataFrame(apt)"
   ]
  },
  {
   "cell_type": "code",
   "execution_count": 81,
   "id": "73fe76e1-6f27-489d-94ef-580ae7ca5ef9",
   "metadata": {},
   "outputs": [
    {
     "name": "stderr",
     "output_type": "stream",
     "text": [
      "24/06/24 06:44:00 WARN package: Truncated the string representation of a plan since it was too large. This behavior can be adjusted by setting 'spark.sql.debug.maxToStringFields'.\n",
      "[Stage 18:>                                                         (0 + 1) / 1]\r"
     ]
    },
    {
     "name": "stdout",
     "output_type": "stream",
     "text": [
      "+----------+--------+--------+----+------+--------------------+--------------------+----------------+------------------+------------------+----------+---+--------+------+------+-------+--------------+--------------+----------------+----------------+--------------+------------+---+---+----------+--------+------------+------+--------+---+--------------+--------+\n",
      "|거래금액  |거래유형|건축년도|년  |도로명|도로명건물본번호코드|도로명건물부번호코드|도로명시군구코드|도로명일련번호코드|도로명지상지하코드|도로명코드|동 |등기일자|매도자|매수자|법정동 |법정동본번코드|법정동부번코드|법정동시군구코드|법정동읍면동코드|법정동지번코드|아파트      |월 |일 |일련번호  |전용면적|중개사소재지|지번  |지역코드|층 |해제사유발생일|해제여부|\n",
      "+----------+--------+--------+----+------+--------------------+--------------------+----------------+------------------+------------------+----------+---+--------+------+------+-------+--------------+--------------+----------------+----------------+--------------+------------+---+---+----------+--------+------------+------+--------+---+--------------+--------+\n",
      "|   143,000|중개거래|1997    |2024|언주로|00316               |00000               |11680           |01                |0                 |3005086   |   |        |개인  |개인  | 역삼동|0761          |0010          |11680           |10100           |1             |대림역삼    |5  |1  |11680-236 |59.66   |서울 강남구 |761-10|11680   |12 |              |        |\n",
      "|   200,000|중개거래|1998    |2024|선릉로|00423               |00000               |11680           |01                |0                 |3122006   |   |        |개인  |개인  | 역삼동|0716          |0000          |11680           |10100           |1             |동부센트레빌|5  |3  |11680-237 |84.97   |서울 강남구 |716   |11680   |17 |              |        |\n",
      "|   260,000|중개거래|2016    |2024|언주로|00420               |00000               |11680           |00                |NaN               |3005086   |   |        |개인  |개인  | 역삼동|0711          |0003          |11680           |10100           |1             |역삼자이    |5  |3  |11680-4515|84.993  |서울 강남구 |711-3 |11680   |13 |              |        |\n",
      "+----------+--------+--------+----+------+--------------------+--------------------+----------------+------------------+------------------+----------+---+--------+------+------+-------+--------------+--------------+----------------+----------------+--------------+------------+---+---+----------+--------+------------+------+--------+---+--------------+--------+\n",
      "\n"
     ]
    },
    {
     "name": "stderr",
     "output_type": "stream",
     "text": [
      "                                                                                \r"
     ]
    }
   ],
   "source": [
    "apt_spark_df.limit(3).show(truncate=False)"
   ]
  },
  {
   "cell_type": "code",
   "execution_count": 82,
   "id": "3db42364-accd-43c4-9535-a2b19a148996",
   "metadata": {},
   "outputs": [
    {
     "data": {
      "text/plain": [
       "0       5-1\n",
       "1       5-3\n",
       "2       5-3\n",
       "3       5-3\n",
       "4       5-3\n",
       "       ... \n",
       "261    5-28\n",
       "262    5-29\n",
       "263    5-29\n",
       "264    5-30\n",
       "265    5-30\n",
       "Length: 266, dtype: object"
      ]
     },
     "execution_count": 82,
     "metadata": {},
     "output_type": "execute_result"
    }
   ],
   "source": [
    "apt['월'] + \"-\" + apt[\"일\"]"
   ]
  },
  {
   "cell_type": "code",
   "execution_count": 84,
   "id": "db08a751-84a4-46eb-94eb-556fb36d9b2c",
   "metadata": {},
   "outputs": [],
   "source": [
    "apt[\"날짜\"] = apt['월'].apply(lambda x : \"{:02d}\".format(int(x))) + \"-\" + apt['일']"
   ]
  },
  {
   "cell_type": "code",
   "execution_count": 85,
   "id": "dca64764-06d9-4402-b1d8-6344c1c8ecc1",
   "metadata": {},
   "outputs": [
    {
     "name": "stderr",
     "output_type": "stream",
     "text": [
      "/tmp/ipykernel_2519/776745167.py:1: FutureWarning: Series.__getitem__ treating keys as positions is deprecated. In a future version, integer keys will always be treated as labels (consistent with DataFrame behavior). To access a value by position, use `ser.iloc[pos]`\n",
      "  apt['날짜'] = apt[['월', '일']].apply(lambda x : \"2024-\" + \"{:02d}\".format(int(x[0])) + \"-\" + \"{:02d}\".format(int(x[1])) ,axis=1)\n"
     ]
    }
   ],
   "source": [
    "apt['날짜'] = apt[['월', '일']].apply(lambda x : \"2024-\" + \"{:02d}\".format(int(x[0])) + \"-\" + \"{:02d}\".format(int(x[1])) ,axis=1)"
   ]
  },
  {
   "cell_type": "code",
   "execution_count": 94,
   "id": "c3854d95-ffdb-4b14-8be5-cd1b66e3456b",
   "metadata": {},
   "outputs": [
    {
     "name": "stdout",
     "output_type": "stream",
     "text": [
      "+----------+--------+--------+----+------+--------------------+--------------------+----------------+------------------+------------------+----------+---+--------+------+------+-------+--------------+--------------+----------------+----------------+--------------+------------+---+---+----------+--------+------------+------+--------+---+--------------+--------+----------+\n",
      "|  거래금액|거래유형|건축년도|  년|도로명|도로명건물본번호코드|도로명건물부번호코드|도로명시군구코드|도로명일련번호코드|도로명지상지하코드|도로명코드| 동|등기일자|매도자|매수자| 법정동|법정동본번코드|법정동부번코드|법정동시군구코드|법정동읍면동코드|법정동지번코드|      아파트| 월| 일|  일련번호|전용면적|중개사소재지|  지번|지역코드| 층|해제사유발생일|해제여부|      날짜|\n",
      "+----------+--------+--------+----+------+--------------------+--------------------+----------------+------------------+------------------+----------+---+--------+------+------+-------+--------------+--------------+----------------+----------------+--------------+------------+---+---+----------+--------+------------+------+--------+---+--------------+--------+----------+\n",
      "|   143,000|중개거래|    1997|2024|언주로|               00316|               00000|           11680|                01|                 0|   3005086|   |        |  개인|  개인| 역삼동|          0761|          0010|           11680|           10100|             1|    대림역삼|  5|  1| 11680-236|   59.66| 서울 강남구|761-10|   11680| 12|              |        |2024-05-01|\n",
      "|   200,000|중개거래|    1998|2024|선릉로|               00423|               00000|           11680|                01|                 0|   3122006|   |        |  개인|  개인| 역삼동|          0716|          0000|           11680|           10100|             1|동부센트레빌|  5|  3| 11680-237|   84.97| 서울 강남구|   716|   11680| 17|              |        |2024-05-03|\n",
      "|   260,000|중개거래|    2016|2024|언주로|               00420|               00000|           11680|                00|               NaN|   3005086|   |        |  개인|  개인| 역삼동|          0711|          0003|           11680|           10100|             1|    역삼자이|  5|  3|11680-4515|  84.993| 서울 강남구| 711-3|   11680| 13|              |        |2024-05-03|\n",
      "+----------+--------+--------+----+------+--------------------+--------------------+----------------+------------------+------------------+----------+---+--------+------+------+-------+--------------+--------------+----------------+----------------+--------------+------------+---+---+----------+--------+------------+------+--------+---+--------------+--------+----------+\n",
      "\n"
     ]
    }
   ],
   "source": [
    "from pyspark.sql.functions import concat, format_string,col\n",
    "apt_spark_df2 = apt_spark_df.withColumn(\"날짜\", concat(lit('2024-'), \n",
    "                        format_string(\"%02d\", col(\"월\").cast('int')), lit(\"-\"), \n",
    "                        format_string(\"%02d\", col(\"일\").cast('int')))).limit(3).show()\n"
   ]
  },
  {
   "cell_type": "code",
   "execution_count": 97,
   "id": "b452a1e2-892a-4826-a878-815bcdfcde0e",
   "metadata": {},
   "outputs": [],
   "source": [
    "from pyspark.sql.functions import concat, format_string,col\n",
    "apt_spark_df2 = apt_spark_df.withColumn(\"날짜\", concat(lit('2024-'), \n",
    "                        format_string(\"%02d\", col(\"월\").cast('int')), lit(\"-\"), \n",
    "                        format_string(\"%02d\", col(\"일\").cast('int'))))\n"
   ]
  },
  {
   "cell_type": "code",
   "execution_count": 98,
   "id": "2e58e16f-2115-4752-b874-3d1661594014",
   "metadata": {},
   "outputs": [
    {
     "name": "stdout",
     "output_type": "stream",
     "text": [
      "== Physical Plan ==\n",
      "*(1) Project [거래금액#243, 거래유형#244, 건축년도#245, 년#246, 도로명#247, 도로명건물본번호코드#248, 도로명건물부번호코드#249, 도로명시군구코드#250, 도로명일련번호코드#251, 도로명지상지하코드#252, 도로명코드#253, 동#254, 등기일자#255, 매도자#256, 매수자#257, 법정동#258, 법정동본번코드#259, 법정동부번코드#260, 법정동시군구코드#261, 법정동읍면동코드#262, 법정동지번코드#263, 아파트#264, 월#265, 일#266, ... 9 more fields]\n",
      "+- *(1) Scan ExistingRDD[거래금액#243,거래유형#244,건축년도#245,년#246,도로명#247,도로명건물본번호코드#248,도로명건물부번호코드#249,도로명시군구코드#250,도로명일련번호코드#251,도로명지상지하코드#252,도로명코드#253,동#254,등기일자#255,매도자#256,매수자#257,법정동#258,법정동본번코드#259,법정동부번코드#260,법정동시군구코드#261,법정동읍면동코드#262,법정동지번코드#263,아파트#264,월#265,일#266,... 8 more fields]\n",
      "\n",
      "\n"
     ]
    }
   ],
   "source": [
    "apt_spark_df2.explain()"
   ]
  },
  {
   "cell_type": "code",
   "execution_count": 99,
   "id": "a34a6ec6-de28-4f57-aba3-ea81380011af",
   "metadata": {},
   "outputs": [
    {
     "name": "stdout",
     "output_type": "stream",
     "text": [
      "+----------+\n",
      "|      날짜|\n",
      "+----------+\n",
      "|2024-05-01|\n",
      "|2024-05-03|\n",
      "|2024-05-03|\n",
      "+----------+\n",
      "\n"
     ]
    }
   ],
   "source": [
    "apt_spark_df2.select(\"날짜\").limit(3).show()"
   ]
  },
  {
   "cell_type": "code",
   "execution_count": 100,
   "id": "5880b6be-2665-4032-8482-8aa72e530699",
   "metadata": {},
   "outputs": [
    {
     "name": "stdout",
     "output_type": "stream",
     "text": [
      "+----------+--------+--------+----+------+--------------------+--------------------+----------------+------------------+------------------+----------+---+--------+------+------+-------+--------------+--------------+----------------+----------------+--------------+------------+---+---+----------+--------+------------+------+--------+---+--------------+--------+----------+\n",
      "|  거래금액|거래유형|건축년도|  년|도로명|도로명건물본번호코드|도로명건물부번호코드|도로명시군구코드|도로명일련번호코드|도로명지상지하코드|도로명코드| 동|등기일자|매도자|매수자| 법정동|법정동본번코드|법정동부번코드|법정동시군구코드|법정동읍면동코드|법정동지번코드|      아파트| 월| 일|  일련번호|전용면적|중개사소재지|  지번|지역코드| 층|해제사유발생일|해제여부|      날짜|\n",
      "+----------+--------+--------+----+------+--------------------+--------------------+----------------+------------------+------------------+----------+---+--------+------+------+-------+--------------+--------------+----------------+----------------+--------------+------------+---+---+----------+--------+------------+------+--------+---+--------------+--------+----------+\n",
      "|   143,000|중개거래|    1997|2024|언주로|               00316|               00000|           11680|                01|                 0|   3005086|   |        |  개인|  개인| 역삼동|          0761|          0010|           11680|           10100|             1|    대림역삼|  5|  1| 11680-236|   59.66| 서울 강남구|761-10|   11680| 12|              |        |2024-05-01|\n",
      "|   200,000|중개거래|    1998|2024|선릉로|               00423|               00000|           11680|                01|                 0|   3122006|   |        |  개인|  개인| 역삼동|          0716|          0000|           11680|           10100|             1|동부센트레빌|  5|  3| 11680-237|   84.97| 서울 강남구|   716|   11680| 17|              |        |2024-05-03|\n",
      "|   260,000|중개거래|    2016|2024|언주로|               00420|               00000|           11680|                00|               NaN|   3005086|   |        |  개인|  개인| 역삼동|          0711|          0003|           11680|           10100|             1|    역삼자이|  5|  3|11680-4515|  84.993| 서울 강남구| 711-3|   11680| 13|              |        |2024-05-03|\n",
      "+----------+--------+--------+----+------+--------------------+--------------------+----------------+------------------+------------------+----------+---+--------+------+------+-------+--------------+--------------+----------------+----------------+--------------+------------+---+---+----------+--------+------------+------+--------+---+--------------+--------+----------+\n",
      "\n"
     ]
    }
   ],
   "source": [
    "apt_spark_df2.withColumn(\"날짜\",to_date(\"날짜\",\"yyyy-MM-dd\")).limit(3).show()"
   ]
  },
  {
   "cell_type": "code",
   "execution_count": 101,
   "id": "ec7c57bb-cadf-4e03-8cb5-f691c6a702bd",
   "metadata": {},
   "outputs": [],
   "source": [
    "apt_spark_df3 = apt_spark_df2.withColumn(\"날짜\",to_date(\"날짜\",\"yyyy-MM-dd\"))"
   ]
  },
  {
   "cell_type": "code",
   "execution_count": 102,
   "id": "390ec52c-0288-4b32-87d0-46920dd60af2",
   "metadata": {},
   "outputs": [
    {
     "name": "stdout",
     "output_type": "stream",
     "text": [
      "root\n",
      " |-- 거래금액: string (nullable = true)\n",
      " |-- 거래유형: string (nullable = true)\n",
      " |-- 건축년도: string (nullable = true)\n",
      " |-- 년: string (nullable = true)\n",
      " |-- 도로명: string (nullable = true)\n",
      " |-- 도로명건물본번호코드: string (nullable = true)\n",
      " |-- 도로명건물부번호코드: string (nullable = true)\n",
      " |-- 도로명시군구코드: string (nullable = true)\n",
      " |-- 도로명일련번호코드: string (nullable = true)\n",
      " |-- 도로명지상지하코드: string (nullable = true)\n",
      " |-- 도로명코드: string (nullable = true)\n",
      " |-- 동: string (nullable = true)\n",
      " |-- 등기일자: string (nullable = true)\n",
      " |-- 매도자: string (nullable = true)\n",
      " |-- 매수자: string (nullable = true)\n",
      " |-- 법정동: string (nullable = true)\n",
      " |-- 법정동본번코드: string (nullable = true)\n",
      " |-- 법정동부번코드: string (nullable = true)\n",
      " |-- 법정동시군구코드: string (nullable = true)\n",
      " |-- 법정동읍면동코드: string (nullable = true)\n",
      " |-- 법정동지번코드: string (nullable = true)\n",
      " |-- 아파트: string (nullable = true)\n",
      " |-- 월: string (nullable = true)\n",
      " |-- 일: string (nullable = true)\n",
      " |-- 일련번호: string (nullable = true)\n",
      " |-- 전용면적: string (nullable = true)\n",
      " |-- 중개사소재지: string (nullable = true)\n",
      " |-- 지번: string (nullable = true)\n",
      " |-- 지역코드: string (nullable = true)\n",
      " |-- 층: string (nullable = true)\n",
      " |-- 해제사유발생일: string (nullable = true)\n",
      " |-- 해제여부: string (nullable = true)\n",
      " |-- 날짜: date (nullable = true)\n",
      "\n"
     ]
    }
   ],
   "source": [
    "apt_spark_df3.printSchema()"
   ]
  },
  {
   "cell_type": "code",
   "execution_count": 103,
   "id": "a5abd0e8-4f03-4b68-843d-cd5de9f6f56e",
   "metadata": {},
   "outputs": [
    {
     "data": {
      "text/plain": [
       "Row(거래금액='   143,000', 거래유형='중개거래', 건축년도='1997', 년='2024', 도로명='언주로', 도로명건물본번호코드='00316', 도로명건물부번호코드='00000', 도로명시군구코드='11680', 도로명일련번호코드='01', 도로명지상지하코드='0', 도로명코드='3005086', 동=' ', 등기일자=' ', 매도자='개인', 매수자='개인', 법정동=' 역삼동', 법정동본번코드='0761', 법정동부번코드='0010', 법정동시군구코드='11680', 법정동읍면동코드='10100', 법정동지번코드='1', 아파트='대림역삼', 월='5', 일='1', 일련번호='11680-236', 전용면적='59.66', 중개사소재지='서울 강남구', 지번='761-10', 지역코드='11680', 층='12', 해제사유발생일=' ', 해제여부=' ', 날짜=datetime.date(2024, 5, 1))"
      ]
     },
     "execution_count": 103,
     "metadata": {},
     "output_type": "execute_result"
    }
   ],
   "source": [
    "apt_spark_df3.first()"
   ]
  },
  {
   "cell_type": "code",
   "execution_count": 104,
   "id": "2147f0e4-4d70-49b6-a295-257b265cf18a",
   "metadata": {},
   "outputs": [],
   "source": [
    "apt[\"건축년도\"] = apt[\"건축년도\"].astype(int)"
   ]
  },
  {
   "cell_type": "code",
   "execution_count": 106,
   "id": "398d05db-2648-4227-8e40-18d85f1e810e",
   "metadata": {},
   "outputs": [
    {
     "data": {
      "text/plain": [
       "np.float64(22.481203007518797)"
      ]
     },
     "execution_count": 106,
     "metadata": {},
     "output_type": "execute_result"
    }
   ],
   "source": [
    "(2024 - apt[\"건축년도\"]).mean()"
   ]
  },
  {
   "cell_type": "code",
   "execution_count": 108,
   "id": "f33ee820-d22e-40ba-8bf9-b9a4db4695f1",
   "metadata": {},
   "outputs": [],
   "source": [
    "apt_spark_df3 = apt_spark_df3.withColumn(\"건축년도\",col(\"건축년도\").cast(\"int\"))"
   ]
  },
  {
   "cell_type": "code",
   "execution_count": 110,
   "id": "ffce0f02-bc09-43b0-8be2-cc872b433204",
   "metadata": {},
   "outputs": [
    {
     "name": "stdout",
     "output_type": "stream",
     "text": [
      "+--------+----+\n",
      "|건축년도|연식|\n",
      "+--------+----+\n",
      "|    1997|  27|\n",
      "|    1998|  26|\n",
      "|    2016|   8|\n",
      "+--------+----+\n",
      "\n"
     ]
    }
   ],
   "source": [
    "from pyspark.sql.functions import expr\n",
    "apt_spark_df3.select(\"건축년도\", expr(\"2024 - `건축년도`\").alias(\"연식\")).limit(3).show()"
   ]
  },
  {
   "cell_type": "code",
   "execution_count": 112,
   "id": "142cd818-cfea-434a-9e16-b60804d16f0c",
   "metadata": {},
   "outputs": [
    {
     "name": "stdout",
     "output_type": "stream",
     "text": [
      "+------------------+\n",
      "|         avg(연식)|\n",
      "+------------------+\n",
      "|22.481203007518797|\n",
      "+------------------+\n",
      "\n"
     ]
    }
   ],
   "source": [
    "from pyspark.sql.functions import expr, mean, avg\n",
    "apt_spark_df3.select(\"건축년도\", expr(\"2024 - `건축년도`\").alias(\"연식\")).\\\n",
    "    select(mean(\"연식\")).limit(3).show()\n"
   ]
  },
  {
   "cell_type": "code",
   "execution_count": 113,
   "id": "bd626763-a3f6-451f-9d32-2350ffd972b0",
   "metadata": {},
   "outputs": [],
   "source": [
    "apt_spark_df3.createOrReplaceTempView(\"apt\")"
   ]
  },
  {
   "cell_type": "code",
   "execution_count": 114,
   "id": "bcc82774-f787-4656-87a4-cb5c50729022",
   "metadata": {},
   "outputs": [
    {
     "name": "stdout",
     "output_type": "stream",
     "text": [
      "+----------+--------+--------+----+------+--------------------+--------------------+----------------+------------------+------------------+----------+---+--------+------+------+-------+--------------+--------------+----------------+----------------+--------------+------------+---+---+----------+--------+------------+------+--------+---+--------------+--------+----------+\n",
      "|  거래금액|거래유형|건축년도|  년|도로명|도로명건물본번호코드|도로명건물부번호코드|도로명시군구코드|도로명일련번호코드|도로명지상지하코드|도로명코드| 동|등기일자|매도자|매수자| 법정동|법정동본번코드|법정동부번코드|법정동시군구코드|법정동읍면동코드|법정동지번코드|      아파트| 월| 일|  일련번호|전용면적|중개사소재지|  지번|지역코드| 층|해제사유발생일|해제여부|      날짜|\n",
      "+----------+--------+--------+----+------+--------------------+--------------------+----------------+------------------+------------------+----------+---+--------+------+------+-------+--------------+--------------+----------------+----------------+--------------+------------+---+---+----------+--------+------------+------+--------+---+--------------+--------+----------+\n",
      "|   143,000|중개거래|    1997|2024|언주로|               00316|               00000|           11680|                01|                 0|   3005086|   |        |  개인|  개인| 역삼동|          0761|          0010|           11680|           10100|             1|    대림역삼|  5|  1| 11680-236|   59.66| 서울 강남구|761-10|   11680| 12|              |        |2024-05-01|\n",
      "|   200,000|중개거래|    1998|2024|선릉로|               00423|               00000|           11680|                01|                 0|   3122006|   |        |  개인|  개인| 역삼동|          0716|          0000|           11680|           10100|             1|동부센트레빌|  5|  3| 11680-237|   84.97| 서울 강남구|   716|   11680| 17|              |        |2024-05-03|\n",
      "|   260,000|중개거래|    2016|2024|언주로|               00420|               00000|           11680|                00|               NaN|   3005086|   |        |  개인|  개인| 역삼동|          0711|          0003|           11680|           10100|             1|    역삼자이|  5|  3|11680-4515|  84.993| 서울 강남구| 711-3|   11680| 13|              |        |2024-05-03|\n",
      "+----------+--------+--------+----+------+--------------------+--------------------+----------------+------------------+------------------+----------+---+--------+------+------+-------+--------------+--------------+----------------+----------------+--------------+------------+---+---+----------+--------+------------+------+--------+---+--------------+--------+----------+\n",
      "\n"
     ]
    }
   ],
   "source": [
    "spark.sql(\"select * from apt limit 3\").show()"
   ]
  }
 ],
 "metadata": {
  "kernelspec": {
   "display_name": "Python 3 (ipykernel)",
   "language": "python",
   "name": "python3"
  },
  "language_info": {
   "codemirror_mode": {
    "name": "ipython",
    "version": 3
   },
   "file_extension": ".py",
   "mimetype": "text/x-python",
   "name": "python",
   "nbconvert_exporter": "python",
   "pygments_lexer": "ipython3",
   "version": "3.10.12"
  }
 },
 "nbformat": 4,
 "nbformat_minor": 5
}
