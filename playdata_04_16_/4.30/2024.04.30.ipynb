{
 "cells": [
  {
   "cell_type": "code",
   "execution_count": 1,
   "id": "1de17ebf-b946-42b7-9c8c-2652960b6bd4",
   "metadata": {},
   "outputs": [],
   "source": [
    "#연결 리스트 구현\n",
    "class Node:\n",
    "    def __init__(self, data, next=None): #Node가 생성되면 바로 init생성 \n",
    "        #self가 없는 건 class method와 static method가있다\n",
    "        self.data=data\n",
    "        self.next=next"
   ]
  },
  {
   "cell_type": "code",
   "execution_count": 54,
   "id": "659b1c37-a5c3-49e0-9136-b96c6e52eddb",
   "metadata": {},
   "outputs": [],
   "source": [
    "class LinkedList:\n",
    "    def __init__(self):\n",
    "        self.head=None\n",
    "        \n",
    "    def append(self,data):\n",
    "        if not self.head: #head가 있다면\n",
    "            self.head =Node(data)\n",
    "            return \n",
    "        current = self.head\n",
    "        while current.next:\n",
    "            current = current.next\n",
    "        current.next=Node(data)\n",
    "\n",
    "    def print_list(self):\n",
    "        current = self.head #current는 def안에서만 정의 \n",
    "\n",
    "        if self.head: #head가 있다면\n",
    "            print(self.head.data)\n",
    "            \n",
    "        while current.next:\n",
    "            current = current.next\n",
    "            print(current.data)   \n",
    "\n",
    "    \n",
    "    def search(self, target): #사용자가 찾는 데이터가 있으면 True 없으면 False 리턴\n",
    "        # current = self.head\n",
    "        if not self.head: \n",
    "            return False\n",
    "        current = self.head\n",
    "        if current.data ==target:\n",
    "                return True\n",
    "        while current.next:\n",
    "            current = current.next\n",
    "            if current.data ==target:\n",
    "                return True\n",
    "        return False\n",
    "\n",
    "        # 강사님꺼\n",
    "        # if self.head==None:\n",
    "            # return False\n",
    "        # current = self.head\n",
    "        # if self.head.data==target:\n",
    "        #     return True\n",
    "        # while current.next:\n",
    "        #     if current.data==target:\n",
    "        #         return True\n",
    "        #     current= current.next\n",
    "        # return False"
   ]
  },
  {
   "cell_type": "code",
   "execution_count": null,
   "id": "b3e0a27d-7888-4c45-b808-68a29db0489b",
   "metadata": {},
   "outputs": [],
   "source": [
    "# # 교수님꺼\n",
    "#  def search(self, target):\n",
    "#         \"\"\"\n",
    "#             사용자 찾는 데이터 있으면 True return \n",
    "#             없으면 false \n",
    "#         \"\"\"\n",
    "#         if self.head == None:\n",
    "#             return False\n",
    "#         current = self.head \n",
    "#         if self.head.data == target:\n",
    "#             return True \n",
    "#         while current.next:\n",
    "#             if current.data == target:\n",
    "#                 return True \n",
    "#             current = current.next\n",
    "#         return False\n",
    "\n",
    "#삭제도 생각해보기\n"
   ]
  },
  {
   "cell_type": "code",
   "execution_count": null,
   "id": "66e73e5e-9da8-479f-a6d7-096e61351490",
   "metadata": {},
   "outputs": [],
   "source": [
    "# 이중링크드 리스트, 환영 링크드 리스트"
   ]
  },
  {
   "cell_type": "code",
   "execution_count": 55,
   "id": "a6770f3a-e2c2-4ef9-a67b-8e235ddd7ff1",
   "metadata": {},
   "outputs": [],
   "source": [
    "linked_list=LinkedList()"
   ]
  },
  {
   "cell_type": "code",
   "execution_count": 56,
   "id": "9cb2e319-535a-419d-b1b6-e5196c603f82",
   "metadata": {},
   "outputs": [],
   "source": [
    "linked_list.append(\"hi\")"
   ]
  },
  {
   "cell_type": "code",
   "execution_count": 62,
   "id": "df3eaf54-f490-42e3-8b69-687fff69e731",
   "metadata": {},
   "outputs": [],
   "source": [
    "linked_list.append(\"encore\")\n",
    "linked_list.append(\"sk networkd\")"
   ]
  },
  {
   "cell_type": "code",
   "execution_count": 63,
   "id": "3e10d8ed-de93-4c40-a6c3-9ef1e5479948",
   "metadata": {},
   "outputs": [
    {
     "name": "stdout",
     "output_type": "stream",
     "text": [
      "hi\n",
      "encore\n",
      "encore\n",
      "sk networkd\n"
     ]
    }
   ],
   "source": [
    "linked_list.print_list()"
   ]
  },
  {
   "cell_type": "code",
   "execution_count": 61,
   "id": "ef9a7629-3a94-4823-bc2c-c0c281b7c938",
   "metadata": {},
   "outputs": [
    {
     "data": {
      "text/plain": [
       "True"
      ]
     },
     "execution_count": 61,
     "metadata": {},
     "output_type": "execute_result"
    }
   ],
   "source": [
    "linked_list.search(\"encore\")"
   ]
  }
 ],
 "metadata": {
  "kernelspec": {
   "display_name": "Python 3 (ipykernel)",
   "language": "python",
   "name": "python3"
  },
  "language_info": {
   "codemirror_mode": {
    "name": "ipython",
    "version": 3
   },
   "file_extension": ".py",
   "mimetype": "text/x-python",
   "name": "python",
   "nbconvert_exporter": "python",
   "pygments_lexer": "ipython3",
   "version": "3.10.12"
  }
 },
 "nbformat": 4,
 "nbformat_minor": 5
}
