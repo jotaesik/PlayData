{
 "cells": [
  {
   "cell_type": "code",
   "execution_count": 5,
   "id": "f2612e9e-8ed5-457d-a766-1ef5e8bd260b",
   "metadata": {},
   "outputs": [],
   "source": [
    "import pymysql\n",
    "import pandas as pd\n",
    "import glob \n",
    "import pandas as pd\n",
    "import os\n",
    "con =pymysql.connect(host='ip', user='id', password='pw', db='db', charset='utf8')\n",
    "cur = con.cursor()"
   ]
  },
  {
   "cell_type": "code",
   "execution_count": 6,
   "id": "22bd8eef-8173-4c8a-a135-41dd94040374",
   "metadata": {},
   "outputs": [],
   "source": [
    "customers = pd.read_csv('./dacon_data/open/customers.csv')"
   ]
  },
  {
   "cell_type": "code",
   "execution_count": 8,
   "id": "94802380-a8c9-49e3-980a-1c1e96b99a14",
   "metadata": {},
   "outputs": [
    {
     "data": {
      "text/html": [
       "<div>\n",
       "<style scoped>\n",
       "    .dataframe tbody tr th:only-of-type {\n",
       "        vertical-align: middle;\n",
       "    }\n",
       "\n",
       "    .dataframe tbody tr th {\n",
       "        vertical-align: top;\n",
       "    }\n",
       "\n",
       "    .dataframe thead th {\n",
       "        text-align: right;\n",
       "    }\n",
       "</style>\n",
       "<table border=\"1\" class=\"dataframe\">\n",
       "  <thead>\n",
       "    <tr style=\"text-align: right;\">\n",
       "      <th></th>\n",
       "      <th>Customer_id</th>\n",
       "      <th>Customer_unique_id</th>\n",
       "      <th>Customer_zipcode_prefix</th>\n",
       "      <th>Customer_city</th>\n",
       "      <th>Customer_state</th>\n",
       "    </tr>\n",
       "  </thead>\n",
       "  <tbody>\n",
       "    <tr>\n",
       "      <th>0</th>\n",
       "      <td>CUSTOMER_00000</td>\n",
       "      <td>CUSTOMER_Unique_00000</td>\n",
       "      <td>14409</td>\n",
       "      <td>franca</td>\n",
       "      <td>SP</td>\n",
       "    </tr>\n",
       "    <tr>\n",
       "      <th>1</th>\n",
       "      <td>CUSTOMER_00001</td>\n",
       "      <td>CUSTOMER_Unique_00001</td>\n",
       "      <td>9790</td>\n",
       "      <td>sao bernardo do campo</td>\n",
       "      <td>SP</td>\n",
       "    </tr>\n",
       "  </tbody>\n",
       "</table>\n",
       "</div>"
      ],
      "text/plain": [
       "      Customer_id     Customer_unique_id  Customer_zipcode_prefix  \\\n",
       "0  CUSTOMER_00000  CUSTOMER_Unique_00000                    14409   \n",
       "1  CUSTOMER_00001  CUSTOMER_Unique_00001                     9790   \n",
       "\n",
       "           Customer_city Customer_state  \n",
       "0                 franca             SP  \n",
       "1  sao bernardo do campo             SP  "
      ]
     },
     "execution_count": 8,
     "metadata": {},
     "output_type": "execute_result"
    }
   ],
   "source": [
    "customers.head(2)"
   ]
  },
  {
   "cell_type": "code",
   "execution_count": 16,
   "id": "49611efe-fa6a-4a4c-89e4-61c490362c8d",
   "metadata": {},
   "outputs": [],
   "source": [
    "from sqlalchemy import create_engine, MetaData, Table, Column, Integer, String, BigInteger, DateTime, Date,Float"
   ]
  },
  {
   "cell_type": "code",
   "execution_count": 10,
   "id": "ff2514b7-68fa-4fea-a046-f58e42f59042",
   "metadata": {},
   "outputs": [],
   "source": [
    "import sqlalchemy\n",
    "from urllib import parse\n",
    "user = 'id'\n",
    "password = 'pw'\n",
    "host='ip'\n",
    "port = port\n",
    "database = 'db'\n",
    "password = parse.quote_plus(password)\n",
    "engine = sqlalchemy.create_engine(f\"mysql://{user}:{password}@{host}:{port}/{database}\")"
   ]
  },
  {
   "cell_type": "code",
   "execution_count": 11,
   "id": "97f19689-6f10-4ae4-ba3c-6cd5169ad7ec",
   "metadata": {},
   "outputs": [],
   "source": [
    "metadata = MetaData()"
   ]
  },
  {
   "cell_type": "code",
   "execution_count": 12,
   "id": "2b6bb1bc-4b67-4dfa-92a1-a2d40bea8eb4",
   "metadata": {},
   "outputs": [
    {
     "data": {
      "text/plain": [
       "Table('dacon_customers', MetaData(), Column('Customer_id', String(length=100), table=<dacon_customers>), Column('Customer_unique_id', String(length=100), table=<dacon_customers>), Column('Customer_zipcode_prefix', Integer(), table=<dacon_customers>), Column('Customer_city', String(length=100), table=<dacon_customers>), Column('Customer_state', String(length=100), table=<dacon_customers>), schema=None)"
      ]
     },
     "execution_count": 12,
     "metadata": {},
     "output_type": "execute_result"
    }
   ],
   "source": [
    "Table(\"dacon_customers\", metadata, \n",
    "      Column('Customer_id', String(100)),\n",
    "      Column(\"Customer_unique_id\", String(100)),\n",
    "      Column(\"Customer_zipcode_prefix\", Integer),\n",
    "      Column(\"Customer_city\", String(100)),\n",
    "      Column(\"Customer_state\", String(100))\n",
    "     )"
   ]
  },
  {
   "cell_type": "code",
   "execution_count": 13,
   "id": "e476ed85-7314-4667-ad0e-99403c4c95b7",
   "metadata": {},
   "outputs": [
    {
     "data": {
      "text/plain": [
       "87955"
      ]
     },
     "execution_count": 13,
     "metadata": {},
     "output_type": "execute_result"
    }
   ],
   "source": [
    "metadata.create_all(engine)\n",
    "customers.to_sql(\"dacon_customers\", if_exists='append', con=engine, index=False)"
   ]
  },
  {
   "cell_type": "code",
   "execution_count": 15,
   "id": "4a7eb662-f2e1-44da-964a-2300ddeeea61",
   "metadata": {},
   "outputs": [
    {
     "data": {
      "text/html": [
       "<div>\n",
       "<style scoped>\n",
       "    .dataframe tbody tr th:only-of-type {\n",
       "        vertical-align: middle;\n",
       "    }\n",
       "\n",
       "    .dataframe tbody tr th {\n",
       "        vertical-align: top;\n",
       "    }\n",
       "\n",
       "    .dataframe thead th {\n",
       "        text-align: right;\n",
       "    }\n",
       "</style>\n",
       "<table border=\"1\" class=\"dataframe\">\n",
       "  <thead>\n",
       "    <tr style=\"text-align: right;\">\n",
       "      <th></th>\n",
       "      <th>Geolocation_zipcode_prefix</th>\n",
       "      <th>Geolocation_lat</th>\n",
       "      <th>Geolocation_lng</th>\n",
       "      <th>Geolocation_city</th>\n",
       "      <th>Geolocation_state</th>\n",
       "    </tr>\n",
       "  </thead>\n",
       "  <tbody>\n",
       "    <tr>\n",
       "      <th>0</th>\n",
       "      <td>1037</td>\n",
       "      <td>-23.545621</td>\n",
       "      <td>-46.639292</td>\n",
       "      <td>sao paulo</td>\n",
       "      <td>SP</td>\n",
       "    </tr>\n",
       "    <tr>\n",
       "      <th>1</th>\n",
       "      <td>1046</td>\n",
       "      <td>-23.546081</td>\n",
       "      <td>-46.644820</td>\n",
       "      <td>sao paulo</td>\n",
       "      <td>SP</td>\n",
       "    </tr>\n",
       "  </tbody>\n",
       "</table>\n",
       "</div>"
      ],
      "text/plain": [
       "   Geolocation_zipcode_prefix  Geolocation_lat  Geolocation_lng  \\\n",
       "0                        1037       -23.545621       -46.639292   \n",
       "1                        1046       -23.546081       -46.644820   \n",
       "\n",
       "  Geolocation_city Geolocation_state  \n",
       "0        sao paulo                SP  \n",
       "1        sao paulo                SP  "
      ]
     },
     "execution_count": 15,
     "metadata": {},
     "output_type": "execute_result"
    }
   ],
   "source": [
    "locations = pd.read_csv('./dacon_data/open/locations.csv')\n",
    "locations.head(2)"
   ]
  },
  {
   "cell_type": "code",
   "execution_count": 17,
   "id": "65cbedda-1724-4420-a2e8-04a646ada1a6",
   "metadata": {},
   "outputs": [
    {
     "data": {
      "text/plain": [
       "1000163"
      ]
     },
     "execution_count": 17,
     "metadata": {},
     "output_type": "execute_result"
    }
   ],
   "source": [
    "metadata = MetaData()\n",
    "Table(\"dacon_locations\", metadata, \n",
    "      Column('Geolocation_zipcode_prefix', Integer),\n",
    "      Column(\"Geolocation_lat\", Float),\n",
    "      Column(\"Geolocation_lng\", Float),\n",
    "      Column(\"Geolocation_city\", String(100)),\n",
    "      Column(\"Geolocation_state\", String(100))\n",
    "     )\n",
    "metadata.create_all(engine)\n",
    "locations.to_sql(\"dacon_locations\", if_exists='append', con=engine, index=False)"
   ]
  },
  {
   "cell_type": "code",
   "execution_count": 19,
   "id": "2860f6ed-835c-4a96-b117-6a83c3a920c7",
   "metadata": {},
   "outputs": [
    {
     "data": {
      "text/html": [
       "<div>\n",
       "<style scoped>\n",
       "    .dataframe tbody tr th:only-of-type {\n",
       "        vertical-align: middle;\n",
       "    }\n",
       "\n",
       "    .dataframe tbody tr th {\n",
       "        vertical-align: top;\n",
       "    }\n",
       "\n",
       "    .dataframe thead th {\n",
       "        text-align: right;\n",
       "    }\n",
       "</style>\n",
       "<table border=\"1\" class=\"dataframe\">\n",
       "  <thead>\n",
       "    <tr style=\"text-align: right;\">\n",
       "      <th></th>\n",
       "      <th>Order_id</th>\n",
       "      <th>Order_item_id</th>\n",
       "      <th>Product_id</th>\n",
       "      <th>Seller_id</th>\n",
       "      <th>Price</th>\n",
       "      <th>Freight_value</th>\n",
       "    </tr>\n",
       "  </thead>\n",
       "  <tbody>\n",
       "    <tr>\n",
       "      <th>0</th>\n",
       "      <td>ORDER_75477</td>\n",
       "      <td>1</td>\n",
       "      <td>PRODUCT_23128</td>\n",
       "      <td>SELLER_0452</td>\n",
       "      <td>58.9</td>\n",
       "      <td>13.29</td>\n",
       "    </tr>\n",
       "    <tr>\n",
       "      <th>1</th>\n",
       "      <td>ORDER_63604</td>\n",
       "      <td>1</td>\n",
       "      <td>PRODUCT_24351</td>\n",
       "      <td>SELLER_0414</td>\n",
       "      <td>239.9</td>\n",
       "      <td>19.93</td>\n",
       "    </tr>\n",
       "  </tbody>\n",
       "</table>\n",
       "</div>"
      ],
      "text/plain": [
       "      Order_id  Order_item_id     Product_id    Seller_id  Price  \\\n",
       "0  ORDER_75477              1  PRODUCT_23128  SELLER_0452   58.9   \n",
       "1  ORDER_63604              1  PRODUCT_24351  SELLER_0414  239.9   \n",
       "\n",
       "   Freight_value  \n",
       "0          13.29  \n",
       "1          19.93  "
      ]
     },
     "execution_count": 19,
     "metadata": {},
     "output_type": "execute_result"
    }
   ],
   "source": [
    "order_items = pd.read_csv('./dacon_data/open/order_items.csv')\n",
    "order_items.head(2)"
   ]
  },
  {
   "cell_type": "code",
   "execution_count": 20,
   "id": "92d07daa-ac3a-419f-a158-cfb13d64896d",
   "metadata": {},
   "outputs": [
    {
     "data": {
      "text/plain": [
       "100557"
      ]
     },
     "execution_count": 20,
     "metadata": {},
     "output_type": "execute_result"
    }
   ],
   "source": [
    "metadata = MetaData()\n",
    "Table(\"dacon_order_items\", metadata, \n",
    "      Column('Order_id', String(100)),\n",
    "      Column(\"Order_item_id\", Integer),\n",
    "      Column(\"Product_id\", String(100)),\n",
    "      Column(\"Seller_id\", String(100)),\n",
    "      Column(\"Price\", Float),\n",
    "      Column(\"Freight_value\", Float)\n",
    "     )\n",
    "metadata.create_all(engine)\n",
    "order_items.to_sql(\"dacon_order_items\", if_exists='append', con=engine, index=False)"
   ]
  },
  {
   "cell_type": "code",
   "execution_count": 21,
   "id": "8286e3b6-0904-4d6e-862a-efa22554ef21",
   "metadata": {},
   "outputs": [
    {
     "data": {
      "text/html": [
       "<div>\n",
       "<style scoped>\n",
       "    .dataframe tbody tr th:only-of-type {\n",
       "        vertical-align: middle;\n",
       "    }\n",
       "\n",
       "    .dataframe tbody tr th {\n",
       "        vertical-align: top;\n",
       "    }\n",
       "\n",
       "    .dataframe thead th {\n",
       "        text-align: right;\n",
       "    }\n",
       "</style>\n",
       "<table border=\"1\" class=\"dataframe\">\n",
       "  <thead>\n",
       "    <tr style=\"text-align: right;\">\n",
       "      <th></th>\n",
       "      <th>Order_id</th>\n",
       "      <th>Customer_id</th>\n",
       "      <th>Order_status</th>\n",
       "      <th>Order_purchase_timestamp</th>\n",
       "      <th>Order_delivered_carrier_date</th>\n",
       "      <th>Order_delivered_customer_date</th>\n",
       "      <th>Order_estimated_delivery_date</th>\n",
       "    </tr>\n",
       "  </thead>\n",
       "  <tbody>\n",
       "    <tr>\n",
       "      <th>0</th>\n",
       "      <td>ORDER_00000</td>\n",
       "      <td>CUSTOMER_62232</td>\n",
       "      <td>delivered</td>\n",
       "      <td>2018-10-02 10:56:33</td>\n",
       "      <td>2018-10-04 19:55:00</td>\n",
       "      <td>2018-10-10 21:25:13</td>\n",
       "      <td>2018-10-18</td>\n",
       "    </tr>\n",
       "    <tr>\n",
       "      <th>1</th>\n",
       "      <td>ORDER_00001</td>\n",
       "      <td>CUSTOMER_54059</td>\n",
       "      <td>delivered</td>\n",
       "      <td>2018-11-18 19:28:06</td>\n",
       "      <td>2018-11-22 13:39:59</td>\n",
       "      <td>2018-12-02 00:28:42</td>\n",
       "      <td>2018-12-15</td>\n",
       "    </tr>\n",
       "  </tbody>\n",
       "</table>\n",
       "</div>"
      ],
      "text/plain": [
       "      Order_id     Customer_id Order_status Order_purchase_timestamp  \\\n",
       "0  ORDER_00000  CUSTOMER_62232    delivered      2018-10-02 10:56:33   \n",
       "1  ORDER_00001  CUSTOMER_54059    delivered      2018-11-18 19:28:06   \n",
       "\n",
       "  Order_delivered_carrier_date Order_delivered_customer_date  \\\n",
       "0          2018-10-04 19:55:00           2018-10-10 21:25:13   \n",
       "1          2018-11-22 13:39:59           2018-12-02 00:28:42   \n",
       "\n",
       "  Order_estimated_delivery_date  \n",
       "0                    2018-10-18  \n",
       "1                    2018-12-15  "
      ]
     },
     "execution_count": 21,
     "metadata": {},
     "output_type": "execute_result"
    }
   ],
   "source": [
    "orders = pd.read_csv('./dacon_data/open/orders.csv')\n",
    "orders.head(2)"
   ]
  },
  {
   "cell_type": "code",
   "execution_count": 22,
   "id": "0cf8d73a-147f-44c9-bcb0-aedef4442b2c",
   "metadata": {},
   "outputs": [
    {
     "data": {
      "text/plain": [
       "87955"
      ]
     },
     "execution_count": 22,
     "metadata": {},
     "output_type": "execute_result"
    }
   ],
   "source": [
    "metadata = MetaData()\n",
    "Table(\"dacon_orders\", metadata, \n",
    "      Column('Order_id', String(100)),\n",
    "      Column(\"Customer_id\", String(100)),\n",
    "      Column(\"Order_status\", String(100)),\n",
    "      Column(\"Order_purchase_timestamp\", String(100)),\n",
    "      Column(\"Order_delivered_carrier_date\", String(100)),\n",
    "      Column(\"Order_delivered_customer_date\", String(100)),\n",
    "      Column(\"Order_estimated_delivery_date\", String(100)),\n",
    "     )\n",
    "metadata.create_all(engine)\n",
    "orders.to_sql(\"dacon_orders\", if_exists='append', con=engine, index=False)"
   ]
  },
  {
   "cell_type": "code",
   "execution_count": 23,
   "id": "2889bd68-d9d5-4a62-9f97-b110776e69e5",
   "metadata": {},
   "outputs": [
    {
     "data": {
      "text/html": [
       "<div>\n",
       "<style scoped>\n",
       "    .dataframe tbody tr th:only-of-type {\n",
       "        vertical-align: middle;\n",
       "    }\n",
       "\n",
       "    .dataframe tbody tr th {\n",
       "        vertical-align: top;\n",
       "    }\n",
       "\n",
       "    .dataframe thead th {\n",
       "        text-align: right;\n",
       "    }\n",
       "</style>\n",
       "<table border=\"1\" class=\"dataframe\">\n",
       "  <thead>\n",
       "    <tr style=\"text-align: right;\">\n",
       "      <th></th>\n",
       "      <th>Order_id</th>\n",
       "      <th>Payment_sequential</th>\n",
       "      <th>Payment_type</th>\n",
       "      <th>Payment_installments</th>\n",
       "      <th>Payment_value</th>\n",
       "    </tr>\n",
       "  </thead>\n",
       "  <tbody>\n",
       "    <tr>\n",
       "      <th>0</th>\n",
       "      <td>ORDER_66617</td>\n",
       "      <td>1</td>\n",
       "      <td>credit_card</td>\n",
       "      <td>8</td>\n",
       "      <td>99.33</td>\n",
       "    </tr>\n",
       "    <tr>\n",
       "      <th>1</th>\n",
       "      <td>ORDER_86954</td>\n",
       "      <td>1</td>\n",
       "      <td>credit_card</td>\n",
       "      <td>1</td>\n",
       "      <td>24.39</td>\n",
       "    </tr>\n",
       "  </tbody>\n",
       "</table>\n",
       "</div>"
      ],
      "text/plain": [
       "      Order_id  Payment_sequential Payment_type  Payment_installments  \\\n",
       "0  ORDER_66617                   1  credit_card                     8   \n",
       "1  ORDER_86954                   1  credit_card                     1   \n",
       "\n",
       "   Payment_value  \n",
       "0          99.33  \n",
       "1          24.39  "
      ]
     },
     "execution_count": 23,
     "metadata": {},
     "output_type": "execute_result"
    }
   ],
   "source": [
    "payments = pd.read_csv('./dacon_data/open/payments.csv')\n",
    "payments.head(2)"
   ]
  },
  {
   "cell_type": "code",
   "execution_count": 24,
   "id": "edd78b78-dc10-4933-8174-db65b3d89f58",
   "metadata": {},
   "outputs": [
    {
     "data": {
      "text/plain": [
       "91971"
      ]
     },
     "execution_count": 24,
     "metadata": {},
     "output_type": "execute_result"
    }
   ],
   "source": [
    "metadata = MetaData()\n",
    "Table(\"dacon_payments\", metadata, \n",
    "      Column('Order_id', String(100)),\n",
    "      Column(\"Payment_sequential\", Integer),\n",
    "      Column(\"Payment_type\", String(100)),\n",
    "      Column(\"Payment_installments\", Integer),\n",
    "      Column(\"Payment_value\", Float)\n",
    "     )\n",
    "metadata.create_all(engine)\n",
    "payments.to_sql(\"dacon_payments\", if_exists='append', con=engine, index=False)"
   ]
  },
  {
   "cell_type": "code",
   "execution_count": 40,
   "id": "d87d32e3-86cc-4cbb-9f51-9217cfe49030",
   "metadata": {},
   "outputs": [
    {
     "data": {
      "text/html": [
       "<div>\n",
       "<style scoped>\n",
       "    .dataframe tbody tr th:only-of-type {\n",
       "        vertical-align: middle;\n",
       "    }\n",
       "\n",
       "    .dataframe tbody tr th {\n",
       "        vertical-align: top;\n",
       "    }\n",
       "\n",
       "    .dataframe thead th {\n",
       "        text-align: right;\n",
       "    }\n",
       "</style>\n",
       "<table border=\"1\" class=\"dataframe\">\n",
       "  <thead>\n",
       "    <tr style=\"text-align: right;\">\n",
       "      <th></th>\n",
       "      <th>Product_id</th>\n",
       "      <th>Product_category_name</th>\n",
       "      <th>Product_weight_g</th>\n",
       "      <th>Product_length_cm</th>\n",
       "      <th>Product_height_cm</th>\n",
       "      <th>Product_width_cm</th>\n",
       "    </tr>\n",
       "  </thead>\n",
       "  <tbody>\n",
       "    <tr>\n",
       "      <th>0</th>\n",
       "      <td>PRODUCT_00000</td>\n",
       "      <td>perfumery</td>\n",
       "      <td>225.0</td>\n",
       "      <td>16.0</td>\n",
       "      <td>10.0</td>\n",
       "      <td>14.0</td>\n",
       "    </tr>\n",
       "    <tr>\n",
       "      <th>1</th>\n",
       "      <td>PRODUCT_00001</td>\n",
       "      <td>arts</td>\n",
       "      <td>1000.0</td>\n",
       "      <td>30.0</td>\n",
       "      <td>18.0</td>\n",
       "      <td>20.0</td>\n",
       "    </tr>\n",
       "  </tbody>\n",
       "</table>\n",
       "</div>"
      ],
      "text/plain": [
       "      Product_id Product_category_name Product_weight_g Product_length_cm  \\\n",
       "0  PRODUCT_00000             perfumery            225.0              16.0   \n",
       "1  PRODUCT_00001                  arts           1000.0              30.0   \n",
       "\n",
       "  Product_height_cm Product_width_cm  \n",
       "0              10.0             14.0  \n",
       "1              18.0             20.0  "
      ]
     },
     "execution_count": 40,
     "metadata": {},
     "output_type": "execute_result"
    }
   ],
   "source": [
    "products = pd.read_csv('./dacon_data/open/products.csv')\n",
    "products.head(2)"
   ]
  },
  {
   "cell_type": "code",
   "execution_count": 52,
   "id": "1dfbd9ca-277f-4132-b945-7689c9e41cbb",
   "metadata": {},
   "outputs": [
    {
     "data": {
      "text/html": [
       "<div>\n",
       "<style scoped>\n",
       "    .dataframe tbody tr th:only-of-type {\n",
       "        vertical-align: middle;\n",
       "    }\n",
       "\n",
       "    .dataframe tbody tr th {\n",
       "        vertical-align: top;\n",
       "    }\n",
       "\n",
       "    .dataframe thead th {\n",
       "        text-align: right;\n",
       "    }\n",
       "</style>\n",
       "<table border=\"1\" class=\"dataframe\">\n",
       "  <thead>\n",
       "    <tr style=\"text-align: right;\">\n",
       "      <th></th>\n",
       "      <th>Product_id</th>\n",
       "      <th>Product_category_name</th>\n",
       "      <th>Product_weight_g</th>\n",
       "      <th>Product_length_cm</th>\n",
       "      <th>Product_height_cm</th>\n",
       "      <th>Product_width_cm</th>\n",
       "    </tr>\n",
       "  </thead>\n",
       "  <tbody>\n",
       "    <tr>\n",
       "      <th>0</th>\n",
       "      <td>PRODUCT_00000</td>\n",
       "      <td>perfumery</td>\n",
       "      <td>225.0</td>\n",
       "      <td>16.0</td>\n",
       "      <td>10.0</td>\n",
       "      <td>14.0</td>\n",
       "    </tr>\n",
       "    <tr>\n",
       "      <th>1</th>\n",
       "      <td>PRODUCT_00001</td>\n",
       "      <td>arts</td>\n",
       "      <td>1000.0</td>\n",
       "      <td>30.0</td>\n",
       "      <td>18.0</td>\n",
       "      <td>20.0</td>\n",
       "    </tr>\n",
       "    <tr>\n",
       "      <th>2</th>\n",
       "      <td>PRODUCT_00002</td>\n",
       "      <td>sports_leisure</td>\n",
       "      <td>154.0</td>\n",
       "      <td>18.0</td>\n",
       "      <td>9.0</td>\n",
       "      <td>15.0</td>\n",
       "    </tr>\n",
       "    <tr>\n",
       "      <th>3</th>\n",
       "      <td>PRODUCT_00003</td>\n",
       "      <td>home_utilities</td>\n",
       "      <td>625.0</td>\n",
       "      <td>20.0</td>\n",
       "      <td>17.0</td>\n",
       "      <td>13.0</td>\n",
       "    </tr>\n",
       "    <tr>\n",
       "      <th>4</th>\n",
       "      <td>PRODUCT_00004</td>\n",
       "      <td>musical_instruments</td>\n",
       "      <td>200.0</td>\n",
       "      <td>38.0</td>\n",
       "      <td>5.0</td>\n",
       "      <td>11.0</td>\n",
       "    </tr>\n",
       "    <tr>\n",
       "      <th>...</th>\n",
       "      <td>...</td>\n",
       "      <td>...</td>\n",
       "      <td>...</td>\n",
       "      <td>...</td>\n",
       "      <td>...</td>\n",
       "      <td>...</td>\n",
       "    </tr>\n",
       "    <tr>\n",
       "      <th>29466</th>\n",
       "      <td>PRODUCT_29466</td>\n",
       "      <td>furniture_decor</td>\n",
       "      <td>12300.0</td>\n",
       "      <td>40.0</td>\n",
       "      <td>40.0</td>\n",
       "      <td>40.0</td>\n",
       "    </tr>\n",
       "    <tr>\n",
       "      <th>29467</th>\n",
       "      <td>PRODUCT_29467</td>\n",
       "      <td>construction_tools_lighting</td>\n",
       "      <td>1700.0</td>\n",
       "      <td>16.0</td>\n",
       "      <td>19.0</td>\n",
       "      <td>16.0</td>\n",
       "    </tr>\n",
       "    <tr>\n",
       "      <th>29468</th>\n",
       "      <td>PRODUCT_29468</td>\n",
       "      <td>bed_bath_table</td>\n",
       "      <td>1400.0</td>\n",
       "      <td>27.0</td>\n",
       "      <td>7.0</td>\n",
       "      <td>27.0</td>\n",
       "    </tr>\n",
       "    <tr>\n",
       "      <th>29469</th>\n",
       "      <td>PRODUCT_29469</td>\n",
       "      <td>computers_accessories</td>\n",
       "      <td>700.0</td>\n",
       "      <td>31.0</td>\n",
       "      <td>13.0</td>\n",
       "      <td>20.0</td>\n",
       "    </tr>\n",
       "    <tr>\n",
       "      <th>29470</th>\n",
       "      <td>PRODUCT_29470</td>\n",
       "      <td>bed_bath_table</td>\n",
       "      <td>2083.0</td>\n",
       "      <td>12.0</td>\n",
       "      <td>2.0</td>\n",
       "      <td>7.0</td>\n",
       "    </tr>\n",
       "  </tbody>\n",
       "</table>\n",
       "<p>29471 rows × 6 columns</p>\n",
       "</div>"
      ],
      "text/plain": [
       "          Product_id        Product_category_name Product_weight_g  \\\n",
       "0      PRODUCT_00000                    perfumery            225.0   \n",
       "1      PRODUCT_00001                         arts           1000.0   \n",
       "2      PRODUCT_00002               sports_leisure            154.0   \n",
       "3      PRODUCT_00003               home_utilities            625.0   \n",
       "4      PRODUCT_00004          musical_instruments            200.0   \n",
       "...              ...                          ...              ...   \n",
       "29466  PRODUCT_29466              furniture_decor          12300.0   \n",
       "29467  PRODUCT_29467  construction_tools_lighting           1700.0   \n",
       "29468  PRODUCT_29468               bed_bath_table           1400.0   \n",
       "29469  PRODUCT_29469        computers_accessories            700.0   \n",
       "29470  PRODUCT_29470               bed_bath_table           2083.0   \n",
       "\n",
       "      Product_length_cm Product_height_cm Product_width_cm  \n",
       "0                  16.0              10.0             14.0  \n",
       "1                  30.0              18.0             20.0  \n",
       "2                  18.0               9.0             15.0  \n",
       "3                  20.0              17.0             13.0  \n",
       "4                  38.0               5.0             11.0  \n",
       "...                 ...               ...              ...  \n",
       "29466              40.0              40.0             40.0  \n",
       "29467              16.0              19.0             16.0  \n",
       "29468              27.0               7.0             27.0  \n",
       "29469              31.0              13.0             20.0  \n",
       "29470              12.0               2.0              7.0  \n",
       "\n",
       "[29471 rows x 6 columns]"
      ]
     },
     "execution_count": 52,
     "metadata": {},
     "output_type": "execute_result"
    }
   ],
   "source": [
    "products"
   ]
  },
  {
   "cell_type": "code",
   "execution_count": 53,
   "id": "eefdffbf-050b-47da-89ae-5d4854209169",
   "metadata": {},
   "outputs": [],
   "source": [
    "# products.Product_category_name.unique()"
   ]
  },
  {
   "cell_type": "code",
   "execution_count": 54,
   "id": "3df5b793-670d-4a4c-8607-536aec7d4edd",
   "metadata": {},
   "outputs": [
    {
     "data": {
      "text/plain": [
       "Product_id                        PRODUCT_07429\n",
       "Product_category_name    books_general_interest\n",
       "Product_weight_g                         1200.0\n",
       "Product_length_cm                          15.0\n",
       "Product_height_cm                          15.0\n",
       "Product_width_cm                           19.0\n",
       "Name: 7429, dtype: object"
      ]
     },
     "execution_count": 54,
     "metadata": {},
     "output_type": "execute_result"
    }
   ],
   "source": [
    "products.loc[7429]"
   ]
  },
  {
   "cell_type": "code",
   "execution_count": 29,
   "id": "252fa92e-69a6-4044-8bff-b2b7763741d6",
   "metadata": {},
   "outputs": [
    {
     "data": {
      "text/plain": [
       "pandas.core.series.Series"
      ]
     },
     "execution_count": 29,
     "metadata": {},
     "output_type": "execute_result"
    }
   ],
   "source": [
    "# type(products.Product_weight_g)"
   ]
  },
  {
   "cell_type": "code",
   "execution_count": 57,
   "id": "a0bbe3e1-47e4-4a28-9871-373988947ed3",
   "metadata": {},
   "outputs": [
    {
     "data": {
      "text/plain": [
       "Table('dacon_products', MetaData(), Column('Product_id', String(length=200), table=<dacon_products>), Column('Product_category_name', String(length=200), table=<dacon_products>), Column('Product_weight_g', String(length=200), table=<dacon_products>), Column('Product_length_cm', String(length=200), table=<dacon_products>), Column('Product_height_cm', String(length=200), table=<dacon_products>), Column('Product_width_cm', String(length=200), table=<dacon_products>), schema=None)"
      ]
     },
     "execution_count": 57,
     "metadata": {},
     "output_type": "execute_result"
    }
   ],
   "source": [
    "metadata = MetaData()\n",
    "Table(\"dacon_products\", metadata, \n",
    "      Column('Product_id', String(200)),\n",
    "      Column(\"Product_category_name\", String(200)),\n",
    "      Column(\"Product_weight_g\", String(200)),\n",
    "      Column(\"Product_length_cm\", String(200)),\n",
    "      Column(\"Product_height_cm\", String(200)),\n",
    "      Column(\"Product_width_cm\", String(200))\n",
    "     )\n",
    "# metadata.create_all(engine)\n",
    "# products.to_sql(\"dacon_products\", if_exists='append', con=engine, index=False)"
   ]
  },
  {
   "cell_type": "code",
   "execution_count": 58,
   "id": "990470ac-58f9-4710-84fa-c52a56ade19b",
   "metadata": {},
   "outputs": [],
   "source": [
    "metadata.create_all(engine)"
   ]
  },
  {
   "cell_type": "code",
   "execution_count": null,
   "id": "7191d83f-f876-49f4-b750-3fbb5028fa08",
   "metadata": {},
   "outputs": [],
   "source": []
  },
  {
   "cell_type": "code",
   "execution_count": 59,
   "id": "c68d0622-72ce-4358-b704-965a7781fad6",
   "metadata": {},
   "outputs": [
    {
     "data": {
      "text/plain": [
       "29471"
      ]
     },
     "execution_count": 59,
     "metadata": {},
     "output_type": "execute_result"
    }
   ],
   "source": [
    "products.to_sql(\"dacon_products\", if_exists='append', con=engine, index=False)"
   ]
  },
  {
   "cell_type": "code",
   "execution_count": 60,
   "id": "dd28d191-e653-4c19-a89f-60d0f0c1c09b",
   "metadata": {},
   "outputs": [
    {
     "data": {
      "text/html": [
       "<div>\n",
       "<style scoped>\n",
       "    .dataframe tbody tr th:only-of-type {\n",
       "        vertical-align: middle;\n",
       "    }\n",
       "\n",
       "    .dataframe tbody tr th {\n",
       "        vertical-align: top;\n",
       "    }\n",
       "\n",
       "    .dataframe thead th {\n",
       "        text-align: right;\n",
       "    }\n",
       "</style>\n",
       "<table border=\"1\" class=\"dataframe\">\n",
       "  <thead>\n",
       "    <tr style=\"text-align: right;\">\n",
       "      <th></th>\n",
       "      <th>Review_id</th>\n",
       "      <th>Order_id</th>\n",
       "      <th>Review_score</th>\n",
       "      <th>Review_creation_date</th>\n",
       "      <th>Review_answer_timestamp</th>\n",
       "    </tr>\n",
       "  </thead>\n",
       "  <tbody>\n",
       "    <tr>\n",
       "      <th>0</th>\n",
       "      <td>REVIEW_00000</td>\n",
       "      <td>ORDER_01674</td>\n",
       "      <td>4</td>\n",
       "      <td>2019-01-18 00:00:00</td>\n",
       "      <td>2019-01-18 21:46:59</td>\n",
       "    </tr>\n",
       "    <tr>\n",
       "      <th>1</th>\n",
       "      <td>REVIEW_00001</td>\n",
       "      <td>ORDER_80140</td>\n",
       "      <td>5</td>\n",
       "      <td>2019-03-10 00:00:00</td>\n",
       "      <td>2019-03-11 03:05:13</td>\n",
       "    </tr>\n",
       "  </tbody>\n",
       "</table>\n",
       "</div>"
      ],
      "text/plain": [
       "      Review_id     Order_id  Review_score Review_creation_date  \\\n",
       "0  REVIEW_00000  ORDER_01674             4  2019-01-18 00:00:00   \n",
       "1  REVIEW_00001  ORDER_80140             5  2019-03-10 00:00:00   \n",
       "\n",
       "  Review_answer_timestamp  \n",
       "0     2019-01-18 21:46:59  \n",
       "1     2019-03-11 03:05:13  "
      ]
     },
     "execution_count": 60,
     "metadata": {},
     "output_type": "execute_result"
    }
   ],
   "source": [
    "\n",
    "reviews = pd.read_csv('./dacon_data/open/reviews.csv')\n",
    "reviews.head(2)"
   ]
  },
  {
   "cell_type": "code",
   "execution_count": 61,
   "id": "2d97e053-68ea-460d-995f-fce0a3772d20",
   "metadata": {},
   "outputs": [
    {
     "data": {
      "text/plain": [
       "87873"
      ]
     },
     "execution_count": 61,
     "metadata": {},
     "output_type": "execute_result"
    }
   ],
   "source": [
    "metadata = MetaData()\n",
    "Table(\"dacon_reviews\", metadata, \n",
    "      Column('Review_id', String(200)),\n",
    "      Column(\"Order_id\", String(200)),\n",
    "      Column(\"Review_score\", Integer),\n",
    "      Column(\"Review_creation_date\", String(200)),\n",
    "      Column(\"Review_answer_timestamp\", String(200))\n",
    "     )\n",
    "metadata.create_all(engine)\n",
    "reviews.to_sql(\"dacon_reviews\", if_exists='append', con=engine, index=False)"
   ]
  },
  {
   "cell_type": "code",
   "execution_count": 62,
   "id": "b8f20ef0-09e3-426e-b906-59869c8e39a1",
   "metadata": {},
   "outputs": [
    {
     "data": {
      "text/html": [
       "<div>\n",
       "<style scoped>\n",
       "    .dataframe tbody tr th:only-of-type {\n",
       "        vertical-align: middle;\n",
       "    }\n",
       "\n",
       "    .dataframe tbody tr th {\n",
       "        vertical-align: top;\n",
       "    }\n",
       "\n",
       "    .dataframe thead th {\n",
       "        text-align: right;\n",
       "    }\n",
       "</style>\n",
       "<table border=\"1\" class=\"dataframe\">\n",
       "  <thead>\n",
       "    <tr style=\"text-align: right;\">\n",
       "      <th></th>\n",
       "      <th>Seller_id</th>\n",
       "      <th>Seller_zipcode_prefix</th>\n",
       "      <th>Seller_city</th>\n",
       "      <th>Seller_state</th>\n",
       "    </tr>\n",
       "  </thead>\n",
       "  <tbody>\n",
       "    <tr>\n",
       "      <th>0</th>\n",
       "      <td>SELLER_0000</td>\n",
       "      <td>13023</td>\n",
       "      <td>campinas</td>\n",
       "      <td>SP</td>\n",
       "    </tr>\n",
       "    <tr>\n",
       "      <th>1</th>\n",
       "      <td>SELLER_0001</td>\n",
       "      <td>13844</td>\n",
       "      <td>mogi guacu</td>\n",
       "      <td>SP</td>\n",
       "    </tr>\n",
       "  </tbody>\n",
       "</table>\n",
       "</div>"
      ],
      "text/plain": [
       "     Seller_id  Seller_zipcode_prefix Seller_city Seller_state\n",
       "0  SELLER_0000                  13023    campinas           SP\n",
       "1  SELLER_0001                  13844  mogi guacu           SP"
      ]
     },
     "execution_count": 62,
     "metadata": {},
     "output_type": "execute_result"
    }
   ],
   "source": [
    "\n",
    "sellers = pd.read_csv('./dacon_data/open/sellers.csv')\n",
    "sellers.head(2)"
   ]
  },
  {
   "cell_type": "code",
   "execution_count": 64,
   "id": "27e913f6-bf96-4ea0-a802-6f5761275640",
   "metadata": {},
   "outputs": [
    {
     "data": {
      "text/plain": [
       "2763"
      ]
     },
     "execution_count": 64,
     "metadata": {},
     "output_type": "execute_result"
    }
   ],
   "source": [
    "metadata = MetaData()\n",
    "Table(\"dacon_sellers\", metadata, \n",
    "      Column('Seller_id', String(200)),\n",
    "      Column(\"Seller_zipcode_prefix\", Integer),\n",
    "      Column(\"Seller_city\", String(100)),\n",
    "      Column(\"Seller_state\", String(100))\n",
    "     )\n",
    "metadata.create_all(engine)\n",
    "sellers.to_sql(\"dacon_sellers\", if_exists='append', con=engine, index=False)"
   ]
  }
 ],
 "metadata": {
  "kernelspec": {
   "display_name": "Python 3 (ipykernel)",
   "language": "python",
   "name": "python3"
  },
  "language_info": {
   "codemirror_mode": {
    "name": "ipython",
    "version": 3
   },
   "file_extension": ".py",
   "mimetype": "text/x-python",
   "name": "python",
   "nbconvert_exporter": "python",
   "pygments_lexer": "ipython3",
   "version": "3.10.12"
  }
 },
 "nbformat": 4,
 "nbformat_minor": 5
}
