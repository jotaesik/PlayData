{
 "cells": [
  {
   "cell_type": "code",
   "execution_count": 2,
   "id": "5305252b-3372-4a97-84e2-27be3c14f5d7",
   "metadata": {},
   "outputs": [],
   "source": [
    "# 필요한 데이터를 받는 과정\n",
    "# https://github.com/billyrohh/instacart_dataset\n",
    "# sudo service mysql start\n",
    "# ~/workspace$ git clone https://github.com/billyrohh/instacart_dataset\n",
    "# cd instacart_dataset/"
   ]
  },
  {
   "cell_type": "code",
   "execution_count": 7,
   "id": "c9b66290-2eda-488c-844b-5acdd18db561",
   "metadata": {},
   "outputs": [],
   "source": [
    "import pandas as pd\n",
    "import os,glob"
   ]
  },
  {
   "cell_type": "code",
   "execution_count": 8,
   "id": "48abad03-1ade-4716-b8e2-202e4b7abf1b",
   "metadata": {},
   "outputs": [
    {
     "data": {
      "text/plain": [
       "'/home/jotaesik/workspace'"
      ]
     },
     "execution_count": 8,
     "metadata": {},
     "output_type": "execute_result"
    }
   ],
   "source": [
    "pwd"
   ]
  },
  {
   "cell_type": "code",
   "execution_count": 16,
   "id": "fb9bd9ef-179b-4a3b-ad17-d0f6817c5816",
   "metadata": {},
   "outputs": [
    {
     "name": "stdout",
     "output_type": "stream",
     "text": [
      "./instacart_dataset/aisles.csv\n",
      "./instacart_dataset/departments.csv\n",
      "./instacart_dataset/products.csv\n",
      "./instacart_dataset/orders.csv\n",
      "./instacart_dataset/order_products__prior.csv\n"
     ]
    }
   ],
   "source": [
    "for file in glob.glob(\"./instacart_dataset/*.csv\"):\n",
    "    locals()[file.split(\"/\")[-1].split(\".\")[0]] = pd.read_csv(file)\n",
    "    print(file)"
   ]
  },
  {
   "cell_type": "code",
   "execution_count": 23,
   "id": "96ecd525-62f4-45e0-8521-48ea6fa01487",
   "metadata": {},
   "outputs": [
    {
     "name": "stdout",
     "output_type": "stream",
     "text": [
      "Defaulting to user installation because normal site-packages is not writeable\n",
      "Requirement already satisfied: sqlalchemy in /home/jotaesik/.local/lib/python3.10/site-packages (2.0.29)\n",
      "Requirement already satisfied: greenlet!=0.4.17 in /home/jotaesik/.local/lib/python3.10/site-packages (from sqlalchemy) (3.0.3)\n",
      "Requirement already satisfied: typing-extensions>=4.6.0 in /home/jotaesik/.local/lib/python3.10/site-packages (from sqlalchemy) (4.10.0)\n",
      "Note: you may need to restart the kernel to use updated packages.\n"
     ]
    }
   ],
   "source": [
    "pip install sqlalchemy"
   ]
  },
  {
   "cell_type": "code",
   "execution_count": 44,
   "id": "7c82fa1f-81fa-4c64-9fe8-96f6e7ba3bb3",
   "metadata": {},
   "outputs": [],
   "source": [
    "from sqlalchemy import create_engine, MetaData, Table, Column, Integer, String, BigInteger, DateTime, Date"
   ]
  },
  {
   "cell_type": "code",
   "execution_count": 46,
   "id": "7ef32483-9447-48d4-81e1-0ba50882edb3",
   "metadata": {},
   "outputs": [],
   "source": [
    "import sqlalchemy\n",
    "from urllib import parse\n",
    "user = 'id'\n",
    "password = 'pw'\n",
    "host='localhost'\n",
    "port = port\n",
    "database = 'db'\n",
    "password = parse.quote_plus(password)\n",
    "engine = sqlalchemy.create_engine(f\"mysql://{user}:{password}@{host}:{port}/{database}\")"
   ]
  },
  {
   "cell_type": "code",
   "execution_count": 48,
   "id": "1c98f5f6-9fa5-47c3-a061-07b3b6cb875c",
   "metadata": {},
   "outputs": [
    {
     "data": {
      "text/html": [
       "<div>\n",
       "<style scoped>\n",
       "    .dataframe tbody tr th:only-of-type {\n",
       "        vertical-align: middle;\n",
       "    }\n",
       "\n",
       "    .dataframe tbody tr th {\n",
       "        vertical-align: top;\n",
       "    }\n",
       "\n",
       "    .dataframe thead th {\n",
       "        text-align: right;\n",
       "    }\n",
       "</style>\n",
       "<table border=\"1\" class=\"dataframe\">\n",
       "  <thead>\n",
       "    <tr style=\"text-align: right;\">\n",
       "      <th></th>\n",
       "      <th>aisle_id</th>\n",
       "      <th>aisle</th>\n",
       "    </tr>\n",
       "  </thead>\n",
       "  <tbody>\n",
       "    <tr>\n",
       "      <th>0</th>\n",
       "      <td>1</td>\n",
       "      <td>prepared soups salads</td>\n",
       "    </tr>\n",
       "    <tr>\n",
       "      <th>1</th>\n",
       "      <td>2</td>\n",
       "      <td>specialty cheeses</td>\n",
       "    </tr>\n",
       "  </tbody>\n",
       "</table>\n",
       "</div>"
      ],
      "text/plain": [
       "   aisle_id                  aisle\n",
       "0         1  prepared soups salads\n",
       "1         2      specialty cheeses"
      ]
     },
     "execution_count": 48,
     "metadata": {},
     "output_type": "execute_result"
    }
   ],
   "source": [
    "aisles.head(2)"
   ]
  },
  {
   "cell_type": "code",
   "execution_count": 49,
   "id": "52b708eb-3cf9-4f2a-8308-97e9ff7b90a2",
   "metadata": {},
   "outputs": [],
   "source": [
    "metadata = MetaData()\n",
    "#databricks를 쓴다면 spark를 쓸확률이 높다\n",
    "# r\"주소\" ->raw값 그대로 읽어라"
   ]
  },
  {
   "cell_type": "code",
   "execution_count": 51,
   "id": "bd0d6e25-4111-4db1-88fd-0ea65e2b87b0",
   "metadata": {},
   "outputs": [
    {
     "data": {
      "text/plain": [
       "Table('aisles', MetaData(), Column('aisle_id', Integer(), table=<aisles>), Column('aisle', String(length=100), table=<aisles>), schema=None)"
      ]
     },
     "execution_count": 51,
     "metadata": {},
     "output_type": "execute_result"
    }
   ],
   "source": [
    "Table(\"aisles\", metadata, \n",
    "      Column('aisle_id', Integer),\n",
    "      Column(\"aisle\", String(100)),\n",
    "     )"
   ]
  },
  {
   "cell_type": "code",
   "execution_count": 52,
   "id": "c4f50583-e308-41ba-b618-cd66f0c4f614",
   "metadata": {},
   "outputs": [],
   "source": [
    "metadata.create_all(engine)"
   ]
  },
  {
   "cell_type": "code",
   "execution_count": null,
   "id": "59599c5a-b924-49ce-a21c-5e2bff6d9713",
   "metadata": {},
   "outputs": [],
   "source": [
    "#ORM"
   ]
  },
  {
   "cell_type": "code",
   "execution_count": 55,
   "id": "5186bf1f-f8c0-4aee-a727-36a375efea46",
   "metadata": {},
   "outputs": [
    {
     "data": {
      "text/plain": [
       "134"
      ]
     },
     "execution_count": 55,
     "metadata": {},
     "output_type": "execute_result"
    }
   ],
   "source": [
    "aisles.to_sql(\"aisles\", if_exists='append', con=engine, index=False)"
   ]
  },
  {
   "cell_type": "code",
   "execution_count": null,
   "id": "b3ae9f02-6a69-42f8-b987-17442acefe0a",
   "metadata": {},
   "outputs": [],
   "source": []
  },
  {
   "cell_type": "code",
   "execution_count": 75,
   "id": "69015097-6893-4bbc-8640-4f94bab50b03",
   "metadata": {},
   "outputs": [],
   "source": [
    "# departments.head(2)"
   ]
  },
  {
   "cell_type": "code",
   "execution_count": 84,
   "id": "f6a9a387-28ac-44ea-ac2f-fbb6f1bb1cae",
   "metadata": {},
   "outputs": [
    {
     "data": {
      "text/html": [
       "<div>\n",
       "<style scoped>\n",
       "    .dataframe tbody tr th:only-of-type {\n",
       "        vertical-align: middle;\n",
       "    }\n",
       "\n",
       "    .dataframe tbody tr th {\n",
       "        vertical-align: top;\n",
       "    }\n",
       "\n",
       "    .dataframe thead th {\n",
       "        text-align: right;\n",
       "    }\n",
       "</style>\n",
       "<table border=\"1\" class=\"dataframe\">\n",
       "  <thead>\n",
       "    <tr style=\"text-align: right;\">\n",
       "      <th></th>\n",
       "      <th>product_id</th>\n",
       "      <th>product_name</th>\n",
       "      <th>aisle_id</th>\n",
       "      <th>department_id</th>\n",
       "    </tr>\n",
       "  </thead>\n",
       "  <tbody>\n",
       "    <tr>\n",
       "      <th>0</th>\n",
       "      <td>1</td>\n",
       "      <td>Chocolate Sandwich Cookies</td>\n",
       "      <td>61</td>\n",
       "      <td>19</td>\n",
       "    </tr>\n",
       "    <tr>\n",
       "      <th>1</th>\n",
       "      <td>10</td>\n",
       "      <td>Sparkling Orange Juice &amp; Prickly Pear Beverage</td>\n",
       "      <td>115</td>\n",
       "      <td>7</td>\n",
       "    </tr>\n",
       "  </tbody>\n",
       "</table>\n",
       "</div>"
      ],
      "text/plain": [
       "   product_id                                    product_name  aisle_id  \\\n",
       "0           1                      Chocolate Sandwich Cookies        61   \n",
       "1          10  Sparkling Orange Juice & Prickly Pear Beverage       115   \n",
       "\n",
       "   department_id  \n",
       "0             19  \n",
       "1              7  "
      ]
     },
     "execution_count": 84,
     "metadata": {},
     "output_type": "execute_result"
    }
   ],
   "source": [
    "products.head(2)"
   ]
  },
  {
   "cell_type": "code",
   "execution_count": 92,
   "id": "98ac170e-e83e-4cbd-9ba8-b958cf496d36",
   "metadata": {},
   "outputs": [],
   "source": [
    "# departments.head(2)\n",
    "# orders.head(2)\n",
    "# order_products__prior.head(2)\n",
    "metadata = MetaData()\n",
    "Table(\"products_1\", metadata, \n",
    "      Column('product_id', Integer),\n",
    "      Column(\"product_name\", String(300)),\n",
    "      Column(\"aisle_id\", Integer),\n",
    "      Column(\"department_id\",Integer)\n",
    "     )\n",
    "metadata.create_all(engine)\n"
   ]
  },
  {
   "cell_type": "code",
   "execution_count": 93,
   "id": "a339393f-1821-4c11-aba3-812dfb8cdbd6",
   "metadata": {},
   "outputs": [
    {
     "data": {
      "text/plain": [
       "9288"
      ]
     },
     "execution_count": 93,
     "metadata": {},
     "output_type": "execute_result"
    }
   ],
   "source": [
    "products.to_sql(\"products_1\", if_exists='append', con=engine, index=False)"
   ]
  },
  {
   "cell_type": "code",
   "execution_count": 103,
   "id": "fc0cae30-f9cd-48c7-8e26-ae6b4e2a9749",
   "metadata": {},
   "outputs": [
    {
     "data": {
      "text/html": [
       "<div>\n",
       "<style scoped>\n",
       "    .dataframe tbody tr th:only-of-type {\n",
       "        vertical-align: middle;\n",
       "    }\n",
       "\n",
       "    .dataframe tbody tr th {\n",
       "        vertical-align: top;\n",
       "    }\n",
       "\n",
       "    .dataframe thead th {\n",
       "        text-align: right;\n",
       "    }\n",
       "</style>\n",
       "<table border=\"1\" class=\"dataframe\">\n",
       "  <thead>\n",
       "    <tr style=\"text-align: right;\">\n",
       "      <th></th>\n",
       "      <th>order_id</th>\n",
       "      <th>user_id</th>\n",
       "      <th>eval_set</th>\n",
       "      <th>order_number</th>\n",
       "      <th>order_dow</th>\n",
       "      <th>order_hour_of_day</th>\n",
       "      <th>days_since_prior_order</th>\n",
       "    </tr>\n",
       "  </thead>\n",
       "  <tbody>\n",
       "    <tr>\n",
       "      <th>0</th>\n",
       "      <td>2352815</td>\n",
       "      <td>185282</td>\n",
       "      <td>prior</td>\n",
       "      <td>5</td>\n",
       "      <td>2</td>\n",
       "      <td>9</td>\n",
       "      <td>6</td>\n",
       "    </tr>\n",
       "    <tr>\n",
       "      <th>1</th>\n",
       "      <td>1414622</td>\n",
       "      <td>41949</td>\n",
       "      <td>prior</td>\n",
       "      <td>9</td>\n",
       "      <td>0</td>\n",
       "      <td>16</td>\n",
       "      <td>6</td>\n",
       "    </tr>\n",
       "  </tbody>\n",
       "</table>\n",
       "</div>"
      ],
      "text/plain": [
       "   order_id  user_id eval_set  order_number  order_dow  order_hour_of_day  \\\n",
       "0   2352815   185282    prior             5          2                  9   \n",
       "1   1414622    41949    prior             9          0                 16   \n",
       "\n",
       "   days_since_prior_order  \n",
       "0                       6  \n",
       "1                       6  "
      ]
     },
     "execution_count": 103,
     "metadata": {},
     "output_type": "execute_result"
    }
   ],
   "source": [
    "orders.head(2)"
   ]
  },
  {
   "cell_type": "code",
   "execution_count": 97,
   "id": "746987db-1a6f-41bf-98cf-7521527887d0",
   "metadata": {},
   "outputs": [],
   "source": [
    "metadata = MetaData()\n",
    "Table(\"orders_1\", metadata, \n",
    "      Column('order_id', Integer),\n",
    "      Column(\"user_id\", Integer),\n",
    "      Column(\"eval_set\", String(100)),\n",
    "      Column(\"order_number\",Integer),\n",
    "      Column(\"order_dow\",Integer),\n",
    "      Column(\"order_hour_of_day\",Integer),\n",
    "      Column(\"days_since_prior_order\",Integer)\n",
    "     )\n",
    "metadata.create_all(engine)"
   ]
  },
  {
   "cell_type": "code",
   "execution_count": 98,
   "id": "6da23886-30cf-42d8-8baa-8821d9e33486",
   "metadata": {},
   "outputs": [
    {
     "data": {
      "text/plain": [
       "3220"
      ]
     },
     "execution_count": 98,
     "metadata": {},
     "output_type": "execute_result"
    }
   ],
   "source": [
    "orders.to_sql(\"orders_1\", if_exists='append', con=engine, index=False)"
   ]
  },
  {
   "cell_type": "code",
   "execution_count": 99,
   "id": "6ed9da80-ba4e-4499-808b-b1f12396dc12",
   "metadata": {},
   "outputs": [
    {
     "data": {
      "text/html": [
       "<div>\n",
       "<style scoped>\n",
       "    .dataframe tbody tr th:only-of-type {\n",
       "        vertical-align: middle;\n",
       "    }\n",
       "\n",
       "    .dataframe tbody tr th {\n",
       "        vertical-align: top;\n",
       "    }\n",
       "\n",
       "    .dataframe thead th {\n",
       "        text-align: right;\n",
       "    }\n",
       "</style>\n",
       "<table border=\"1\" class=\"dataframe\">\n",
       "  <thead>\n",
       "    <tr style=\"text-align: right;\">\n",
       "      <th></th>\n",
       "      <th>order_id</th>\n",
       "      <th>product_id</th>\n",
       "      <th>add_to_cart_order</th>\n",
       "      <th>reordered</th>\n",
       "    </tr>\n",
       "  </thead>\n",
       "  <tbody>\n",
       "    <tr>\n",
       "      <th>0</th>\n",
       "      <td>2581</td>\n",
       "      <td>40174</td>\n",
       "      <td>1</td>\n",
       "      <td>0</td>\n",
       "    </tr>\n",
       "    <tr>\n",
       "      <th>1</th>\n",
       "      <td>2581</td>\n",
       "      <td>17461</td>\n",
       "      <td>2</td>\n",
       "      <td>0</td>\n",
       "    </tr>\n",
       "  </tbody>\n",
       "</table>\n",
       "</div>"
      ],
      "text/plain": [
       "   order_id  product_id  add_to_cart_order  reordered\n",
       "0      2581       40174                  1          0\n",
       "1      2581       17461                  2          0"
      ]
     },
     "execution_count": 99,
     "metadata": {},
     "output_type": "execute_result"
    }
   ],
   "source": [
    "order_products__prior.head(2)"
   ]
  },
  {
   "cell_type": "code",
   "execution_count": 100,
   "id": "a5f47392-7971-4e57-a8bd-c3f12d1059f0",
   "metadata": {},
   "outputs": [],
   "source": [
    "metadata = MetaData()\n",
    "Table(\"order_products__prior\", metadata, \n",
    "      Column('order_id', Integer),\n",
    "      Column(\"product_id\", Integer),\n",
    "      Column(\"add_to_cart_order\", String(100)),\n",
    "      Column(\"reordered\",Integer)\n",
    "     )\n",
    "metadata.create_all(engine)"
   ]
  },
  {
   "cell_type": "code",
   "execution_count": 101,
   "id": "d5120fe3-d7bf-4fc0-a7d4-481343a6271f",
   "metadata": {},
   "outputs": [
    {
     "data": {
      "text/plain": [
       "32290"
      ]
     },
     "execution_count": 101,
     "metadata": {},
     "output_type": "execute_result"
    }
   ],
   "source": [
    "order_products__prior.to_sql(\"order_products__prior\", if_exists='append', con=engine, index=False)"
   ]
  },
  {
   "cell_type": "code",
   "execution_count": 107,
   "id": "cae35fee-355c-425e-b8cf-0706796b7714",
   "metadata": {},
   "outputs": [
    {
     "data": {
      "text/html": [
       "<div>\n",
       "<style scoped>\n",
       "    .dataframe tbody tr th:only-of-type {\n",
       "        vertical-align: middle;\n",
       "    }\n",
       "\n",
       "    .dataframe tbody tr th {\n",
       "        vertical-align: top;\n",
       "    }\n",
       "\n",
       "    .dataframe thead th {\n",
       "        text-align: right;\n",
       "    }\n",
       "</style>\n",
       "<table border=\"1\" class=\"dataframe\">\n",
       "  <thead>\n",
       "    <tr style=\"text-align: right;\">\n",
       "      <th></th>\n",
       "      <th>order_id</th>\n",
       "      <th>user_id</th>\n",
       "      <th>eval_set</th>\n",
       "      <th>order_number</th>\n",
       "      <th>order_dow</th>\n",
       "      <th>order_hour_of_day</th>\n",
       "      <th>days_since_prior_order</th>\n",
       "    </tr>\n",
       "  </thead>\n",
       "  <tbody>\n",
       "    <tr>\n",
       "      <th>0</th>\n",
       "      <td>2352815</td>\n",
       "      <td>185282</td>\n",
       "      <td>prior</td>\n",
       "      <td>5</td>\n",
       "      <td>2</td>\n",
       "      <td>9</td>\n",
       "      <td>6</td>\n",
       "    </tr>\n",
       "    <tr>\n",
       "      <th>1</th>\n",
       "      <td>1414622</td>\n",
       "      <td>41949</td>\n",
       "      <td>prior</td>\n",
       "      <td>9</td>\n",
       "      <td>0</td>\n",
       "      <td>16</td>\n",
       "      <td>6</td>\n",
       "    </tr>\n",
       "  </tbody>\n",
       "</table>\n",
       "</div>"
      ],
      "text/plain": [
       "   order_id  user_id eval_set  order_number  order_dow  order_hour_of_day  \\\n",
       "0   2352815   185282    prior             5          2                  9   \n",
       "1   1414622    41949    prior             9          0                 16   \n",
       "\n",
       "   days_since_prior_order  \n",
       "0                       6  \n",
       "1                       6  "
      ]
     },
     "execution_count": 107,
     "metadata": {},
     "output_type": "execute_result"
    }
   ],
   "source": [
    "orders.head(2)"
   ]
  },
  {
   "cell_type": "code",
   "execution_count": null,
   "id": "4d150344-3328-4c51-a8b1-b5a5dfa7cc4f",
   "metadata": {},
   "outputs": [],
   "source": [
    "# \n",
    "# orders table \n",
    "# 1. 주문 건수 구하기 \n",
    "# 2. 구매자 수 구하기 \n",
    "# 3. 상품별 주문 건수 \n",
    "# - order_products__prior , products \n"
   ]
  },
  {
   "cell_type": "code",
   "execution_count": null,
   "id": "65a074d7-5c21-4eac-8124-30f4b999136e",
   "metadata": {},
   "outputs": [],
   "source": [
    "# 계정이 ?일때 password ?(백업)\n",
    "# mysqldump -u? -p? db_name > ~/instacart.sql\n",
    "\n",
    "# (복원)\n",
    "# mysql -u? -p? db_name < ~/instacart.sql\n",
    "# 비밀번호 변경 \n",
    "# alter user '?'@'%' identified by '?';\n"
   ]
  },
  {
   "cell_type": "code",
   "execution_count": 106,
   "id": "c4bb7e1c-6e4f-4c23-a3b6-647d16b00048",
   "metadata": {},
   "outputs": [
    {
     "data": {
      "text/html": [
       "<div>\n",
       "<style scoped>\n",
       "    .dataframe tbody tr th:only-of-type {\n",
       "        vertical-align: middle;\n",
       "    }\n",
       "\n",
       "    .dataframe tbody tr th {\n",
       "        vertical-align: top;\n",
       "    }\n",
       "\n",
       "    .dataframe thead th {\n",
       "        text-align: right;\n",
       "    }\n",
       "</style>\n",
       "<table border=\"1\" class=\"dataframe\">\n",
       "  <thead>\n",
       "    <tr style=\"text-align: right;\">\n",
       "      <th></th>\n",
       "      <th>product_id</th>\n",
       "      <th>product_name</th>\n",
       "      <th>aisle_id</th>\n",
       "      <th>department_id</th>\n",
       "    </tr>\n",
       "  </thead>\n",
       "  <tbody>\n",
       "    <tr>\n",
       "      <th>0</th>\n",
       "      <td>1</td>\n",
       "      <td>Chocolate Sandwich Cookies</td>\n",
       "      <td>61</td>\n",
       "      <td>19</td>\n",
       "    </tr>\n",
       "    <tr>\n",
       "      <th>1</th>\n",
       "      <td>10</td>\n",
       "      <td>Sparkling Orange Juice &amp; Prickly Pear Beverage</td>\n",
       "      <td>115</td>\n",
       "      <td>7</td>\n",
       "    </tr>\n",
       "  </tbody>\n",
       "</table>\n",
       "</div>"
      ],
      "text/plain": [
       "   product_id                                    product_name  aisle_id  \\\n",
       "0           1                      Chocolate Sandwich Cookies        61   \n",
       "1          10  Sparkling Orange Juice & Prickly Pear Beverage       115   \n",
       "\n",
       "   department_id  \n",
       "0             19  \n",
       "1              7  "
      ]
     },
     "execution_count": 106,
     "metadata": {},
     "output_type": "execute_result"
    }
   ],
   "source": [
    "products.head(2)"
   ]
  },
  {
   "cell_type": "code",
   "execution_count": 105,
   "id": "000981ed-d3ce-4261-a3dd-47bff06a66a5",
   "metadata": {},
   "outputs": [
    {
     "data": {
      "text/html": [
       "<div>\n",
       "<style scoped>\n",
       "    .dataframe tbody tr th:only-of-type {\n",
       "        vertical-align: middle;\n",
       "    }\n",
       "\n",
       "    .dataframe tbody tr th {\n",
       "        vertical-align: top;\n",
       "    }\n",
       "\n",
       "    .dataframe thead th {\n",
       "        text-align: right;\n",
       "    }\n",
       "</style>\n",
       "<table border=\"1\" class=\"dataframe\">\n",
       "  <thead>\n",
       "    <tr style=\"text-align: right;\">\n",
       "      <th></th>\n",
       "      <th>order_id</th>\n",
       "      <th>product_id</th>\n",
       "      <th>add_to_cart_order</th>\n",
       "      <th>reordered</th>\n",
       "    </tr>\n",
       "  </thead>\n",
       "  <tbody>\n",
       "    <tr>\n",
       "      <th>0</th>\n",
       "      <td>2581</td>\n",
       "      <td>40174</td>\n",
       "      <td>1</td>\n",
       "      <td>0</td>\n",
       "    </tr>\n",
       "    <tr>\n",
       "      <th>1</th>\n",
       "      <td>2581</td>\n",
       "      <td>17461</td>\n",
       "      <td>2</td>\n",
       "      <td>0</td>\n",
       "    </tr>\n",
       "  </tbody>\n",
       "</table>\n",
       "</div>"
      ],
      "text/plain": [
       "   order_id  product_id  add_to_cart_order  reordered\n",
       "0      2581       40174                  1          0\n",
       "1      2581       17461                  2          0"
      ]
     },
     "execution_count": 105,
     "metadata": {},
     "output_type": "execute_result"
    }
   ],
   "source": [
    "order_products__prior.head(2)"
   ]
  },
  {
   "cell_type": "code",
   "execution_count": null,
   "id": "887b03de-2e3f-44a8-ac8f-5b3f8cb6487a",
   "metadata": {},
   "outputs": [],
   "source": []
  },
  {
   "cell_type": "code",
   "execution_count": 102,
   "id": "3076d345-c80a-44ef-a207-5c2c43f5bbba",
   "metadata": {},
   "outputs": [],
   "source": [
    "# SELECT COUNT(*) FROM orders_1\n",
    "# SELECT COUNT(DISTINCT(user_id))\n",
    "# FROM orders_1\n",
    "# SELECT order_id, SUM(order_number)\n",
    "# FROM orders_1\n",
    "# GROUP BY order_id"
   ]
  },
  {
   "cell_type": "code",
   "execution_count": 112,
   "id": "1a00381f-3771-4c18-9993-fd880ce45472",
   "metadata": {},
   "outputs": [],
   "source": [
    "import pymysql\n",
    "import warnings\n",
    "warnings.filterwarnings('ignore')\n",
    "con =pymysql.connect(host='localhost', user='id', password='pw', db='db', charset='utf8')\n",
    "cur = con.cursor()\n",
    "orders_1 = pd.read_sql_query(\"select * from orders_1\", con=con)"
   ]
  },
  {
   "cell_type": "code",
   "execution_count": 113,
   "id": "99a22bcd-fe9d-4e7b-b656-0b29f84fa9f0",
   "metadata": {},
   "outputs": [
    {
     "data": {
      "text/html": [
       "<div>\n",
       "<style scoped>\n",
       "    .dataframe tbody tr th:only-of-type {\n",
       "        vertical-align: middle;\n",
       "    }\n",
       "\n",
       "    .dataframe tbody tr th {\n",
       "        vertical-align: top;\n",
       "    }\n",
       "\n",
       "    .dataframe thead th {\n",
       "        text-align: right;\n",
       "    }\n",
       "</style>\n",
       "<table border=\"1\" class=\"dataframe\">\n",
       "  <thead>\n",
       "    <tr style=\"text-align: right;\">\n",
       "      <th></th>\n",
       "      <th>order_id</th>\n",
       "      <th>user_id</th>\n",
       "      <th>eval_set</th>\n",
       "      <th>order_number</th>\n",
       "      <th>order_dow</th>\n",
       "      <th>order_hour_of_day</th>\n",
       "      <th>days_since_prior_order</th>\n",
       "    </tr>\n",
       "  </thead>\n",
       "  <tbody>\n",
       "    <tr>\n",
       "      <th>0</th>\n",
       "      <td>2352815</td>\n",
       "      <td>185282</td>\n",
       "      <td>prior</td>\n",
       "      <td>5</td>\n",
       "      <td>2</td>\n",
       "      <td>9</td>\n",
       "      <td>6</td>\n",
       "    </tr>\n",
       "    <tr>\n",
       "      <th>1</th>\n",
       "      <td>1414622</td>\n",
       "      <td>41949</td>\n",
       "      <td>prior</td>\n",
       "      <td>9</td>\n",
       "      <td>0</td>\n",
       "      <td>16</td>\n",
       "      <td>6</td>\n",
       "    </tr>\n",
       "    <tr>\n",
       "      <th>2</th>\n",
       "      <td>2534064</td>\n",
       "      <td>24631</td>\n",
       "      <td>prior</td>\n",
       "      <td>66</td>\n",
       "      <td>1</td>\n",
       "      <td>13</td>\n",
       "      <td>4</td>\n",
       "    </tr>\n",
       "    <tr>\n",
       "      <th>3</th>\n",
       "      <td>338572</td>\n",
       "      <td>95289</td>\n",
       "      <td>prior</td>\n",
       "      <td>4</td>\n",
       "      <td>2</td>\n",
       "      <td>14</td>\n",
       "      <td>18</td>\n",
       "    </tr>\n",
       "    <tr>\n",
       "      <th>4</th>\n",
       "      <td>2578618</td>\n",
       "      <td>170417</td>\n",
       "      <td>prior</td>\n",
       "      <td>5</td>\n",
       "      <td>1</td>\n",
       "      <td>13</td>\n",
       "      <td>14</td>\n",
       "    </tr>\n",
       "    <tr>\n",
       "      <th>...</th>\n",
       "      <td>...</td>\n",
       "      <td>...</td>\n",
       "      <td>...</td>\n",
       "      <td>...</td>\n",
       "      <td>...</td>\n",
       "      <td>...</td>\n",
       "      <td>...</td>\n",
       "    </tr>\n",
       "    <tr>\n",
       "      <th>3215</th>\n",
       "      <td>2825511</td>\n",
       "      <td>128559</td>\n",
       "      <td>prior</td>\n",
       "      <td>2</td>\n",
       "      <td>0</td>\n",
       "      <td>17</td>\n",
       "      <td>0</td>\n",
       "    </tr>\n",
       "    <tr>\n",
       "      <th>3216</th>\n",
       "      <td>1472727</td>\n",
       "      <td>145051</td>\n",
       "      <td>prior</td>\n",
       "      <td>3</td>\n",
       "      <td>0</td>\n",
       "      <td>18</td>\n",
       "      <td>20</td>\n",
       "    </tr>\n",
       "    <tr>\n",
       "      <th>3217</th>\n",
       "      <td>800018</td>\n",
       "      <td>156428</td>\n",
       "      <td>prior</td>\n",
       "      <td>8</td>\n",
       "      <td>5</td>\n",
       "      <td>14</td>\n",
       "      <td>2</td>\n",
       "    </tr>\n",
       "    <tr>\n",
       "      <th>3218</th>\n",
       "      <td>2212555</td>\n",
       "      <td>71701</td>\n",
       "      <td>prior</td>\n",
       "      <td>9</td>\n",
       "      <td>5</td>\n",
       "      <td>11</td>\n",
       "      <td>17</td>\n",
       "    </tr>\n",
       "    <tr>\n",
       "      <th>3219</th>\n",
       "      <td>1407617</td>\n",
       "      <td>49695</td>\n",
       "      <td>prior</td>\n",
       "      <td>31</td>\n",
       "      <td>3</td>\n",
       "      <td>13</td>\n",
       "      <td>0</td>\n",
       "    </tr>\n",
       "  </tbody>\n",
       "</table>\n",
       "<p>3220 rows × 7 columns</p>\n",
       "</div>"
      ],
      "text/plain": [
       "      order_id  user_id eval_set  order_number  order_dow  order_hour_of_day  \\\n",
       "0      2352815   185282    prior             5          2                  9   \n",
       "1      1414622    41949    prior             9          0                 16   \n",
       "2      2534064    24631    prior            66          1                 13   \n",
       "3       338572    95289    prior             4          2                 14   \n",
       "4      2578618   170417    prior             5          1                 13   \n",
       "...        ...      ...      ...           ...        ...                ...   \n",
       "3215   2825511   128559    prior             2          0                 17   \n",
       "3216   1472727   145051    prior             3          0                 18   \n",
       "3217    800018   156428    prior             8          5                 14   \n",
       "3218   2212555    71701    prior             9          5                 11   \n",
       "3219   1407617    49695    prior            31          3                 13   \n",
       "\n",
       "      days_since_prior_order  \n",
       "0                          6  \n",
       "1                          6  \n",
       "2                          4  \n",
       "3                         18  \n",
       "4                         14  \n",
       "...                      ...  \n",
       "3215                       0  \n",
       "3216                      20  \n",
       "3217                       2  \n",
       "3218                      17  \n",
       "3219                       0  \n",
       "\n",
       "[3220 rows x 7 columns]"
      ]
     },
     "execution_count": 113,
     "metadata": {},
     "output_type": "execute_result"
    }
   ],
   "source": [
    "orders_1\n",
    "#3220 3159유니크 61?"
   ]
  },
  {
   "cell_type": "code",
   "execution_count": 121,
   "id": "a3fdf2d6-ce5c-4933-9a3d-f9274c8fdc4e",
   "metadata": {},
   "outputs": [
    {
     "data": {
      "text/html": [
       "<div>\n",
       "<style scoped>\n",
       "    .dataframe tbody tr th:only-of-type {\n",
       "        vertical-align: middle;\n",
       "    }\n",
       "\n",
       "    .dataframe tbody tr th {\n",
       "        vertical-align: top;\n",
       "    }\n",
       "\n",
       "    .dataframe thead th {\n",
       "        text-align: right;\n",
       "    }\n",
       "</style>\n",
       "<table border=\"1\" class=\"dataframe\">\n",
       "  <thead>\n",
       "    <tr style=\"text-align: right;\">\n",
       "      <th></th>\n",
       "      <th>order_id</th>\n",
       "      <th>product_id</th>\n",
       "      <th>add_to_cart_order</th>\n",
       "      <th>reordered</th>\n",
       "    </tr>\n",
       "  </thead>\n",
       "  <tbody>\n",
       "    <tr>\n",
       "      <th>0</th>\n",
       "      <td>2581</td>\n",
       "      <td>40174</td>\n",
       "      <td>1</td>\n",
       "      <td>0</td>\n",
       "    </tr>\n",
       "  </tbody>\n",
       "</table>\n",
       "</div>"
      ],
      "text/plain": [
       "   order_id  product_id  add_to_cart_order  reordered\n",
       "0      2581       40174                  1          0"
      ]
     },
     "execution_count": 121,
     "metadata": {},
     "output_type": "execute_result"
    }
   ],
   "source": [
    "# products.head(1)\n",
    "order_products__prior.head(1)"
   ]
  },
  {
   "cell_type": "code",
   "execution_count": 126,
   "id": "7b25701b-ffba-402d-a29d-2caa440940ff",
   "metadata": {},
   "outputs": [
    {
     "data": {
      "text/plain": [
       "3220"
      ]
     },
     "execution_count": 126,
     "metadata": {},
     "output_type": "execute_result"
    }
   ],
   "source": [
    "orders_1.order_id.unique().size"
   ]
  },
  {
   "cell_type": "code",
   "execution_count": 127,
   "id": "2417574c-80a6-4d06-89e9-50dd6bc48ed1",
   "metadata": {},
   "outputs": [
    {
     "data": {
      "text/plain": [
       "61"
      ]
     },
     "execution_count": 127,
     "metadata": {},
     "output_type": "execute_result"
    }
   ],
   "source": [
    "orders_1.user_id.duplicated().sum()"
   ]
  },
  {
   "cell_type": "code",
   "execution_count": null,
   "id": "b70eef55-a41b-4d62-b818-b80d92235932",
   "metadata": {},
   "outputs": [],
   "source": [
    "# SELECT B.product_name , COUNT(DISTINCT A.order_id) cnt\n",
    "# FROM order_products__prior A\n",
    "# LEFT JOIN products_1 B\n",
    "# ON A.product_id=B.product_id\n",
    "# GROUP BY 1\n",
    "# ORDER BY 2 DESC"
   ]
  },
  {
   "cell_type": "code",
   "execution_count": 129,
   "id": "3184af4d-5207-4362-a838-7e49dbd86083",
   "metadata": {},
   "outputs": [
    {
     "data": {
      "text/html": [
       "<div>\n",
       "<style scoped>\n",
       "    .dataframe tbody tr th:only-of-type {\n",
       "        vertical-align: middle;\n",
       "    }\n",
       "\n",
       "    .dataframe tbody tr th {\n",
       "        vertical-align: top;\n",
       "    }\n",
       "\n",
       "    .dataframe thead th {\n",
       "        text-align: right;\n",
       "    }\n",
       "</style>\n",
       "<table border=\"1\" class=\"dataframe\">\n",
       "  <thead>\n",
       "    <tr style=\"text-align: right;\">\n",
       "      <th></th>\n",
       "      <th>order_id</th>\n",
       "      <th>product_id</th>\n",
       "      <th>add_to_cart_order</th>\n",
       "      <th>reordered</th>\n",
       "    </tr>\n",
       "  </thead>\n",
       "  <tbody>\n",
       "    <tr>\n",
       "      <th>0</th>\n",
       "      <td>2581</td>\n",
       "      <td>40174</td>\n",
       "      <td>1</td>\n",
       "      <td>0</td>\n",
       "    </tr>\n",
       "    <tr>\n",
       "      <th>1</th>\n",
       "      <td>2581</td>\n",
       "      <td>17461</td>\n",
       "      <td>2</td>\n",
       "      <td>0</td>\n",
       "    </tr>\n",
       "    <tr>\n",
       "      <th>2</th>\n",
       "      <td>2581</td>\n",
       "      <td>19731</td>\n",
       "      <td>3</td>\n",
       "      <td>1</td>\n",
       "    </tr>\n",
       "    <tr>\n",
       "      <th>3</th>\n",
       "      <td>5880</td>\n",
       "      <td>24838</td>\n",
       "      <td>1</td>\n",
       "      <td>1</td>\n",
       "    </tr>\n",
       "    <tr>\n",
       "      <th>4</th>\n",
       "      <td>5880</td>\n",
       "      <td>24852</td>\n",
       "      <td>2</td>\n",
       "      <td>1</td>\n",
       "    </tr>\n",
       "    <tr>\n",
       "      <th>...</th>\n",
       "      <td>...</td>\n",
       "      <td>...</td>\n",
       "      <td>...</td>\n",
       "      <td>...</td>\n",
       "    </tr>\n",
       "    <tr>\n",
       "      <th>32285</th>\n",
       "      <td>3420098</td>\n",
       "      <td>46676</td>\n",
       "      <td>9</td>\n",
       "      <td>0</td>\n",
       "    </tr>\n",
       "    <tr>\n",
       "      <th>32286</th>\n",
       "      <td>3420098</td>\n",
       "      <td>5240</td>\n",
       "      <td>10</td>\n",
       "      <td>0</td>\n",
       "    </tr>\n",
       "    <tr>\n",
       "      <th>32287</th>\n",
       "      <td>3420098</td>\n",
       "      <td>23375</td>\n",
       "      <td>11</td>\n",
       "      <td>0</td>\n",
       "    </tr>\n",
       "    <tr>\n",
       "      <th>32288</th>\n",
       "      <td>3420098</td>\n",
       "      <td>42342</td>\n",
       "      <td>12</td>\n",
       "      <td>0</td>\n",
       "    </tr>\n",
       "    <tr>\n",
       "      <th>32289</th>\n",
       "      <td>3420098</td>\n",
       "      <td>17706</td>\n",
       "      <td>13</td>\n",
       "      <td>1</td>\n",
       "    </tr>\n",
       "  </tbody>\n",
       "</table>\n",
       "<p>32290 rows × 4 columns</p>\n",
       "</div>"
      ],
      "text/plain": [
       "       order_id  product_id  add_to_cart_order  reordered\n",
       "0          2581       40174                  1          0\n",
       "1          2581       17461                  2          0\n",
       "2          2581       19731                  3          1\n",
       "3          5880       24838                  1          1\n",
       "4          5880       24852                  2          1\n",
       "...         ...         ...                ...        ...\n",
       "32285   3420098       46676                  9          0\n",
       "32286   3420098        5240                 10          0\n",
       "32287   3420098       23375                 11          0\n",
       "32288   3420098       42342                 12          0\n",
       "32289   3420098       17706                 13          1\n",
       "\n",
       "[32290 rows x 4 columns]"
      ]
     },
     "execution_count": 129,
     "metadata": {},
     "output_type": "execute_result"
    }
   ],
   "source": [
    "order_products__prior"
   ]
  },
  {
   "cell_type": "code",
   "execution_count": 128,
   "id": "3d102736-a2a0-463d-b729-f0cbd8f14742",
   "metadata": {},
   "outputs": [
    {
     "data": {
      "text/html": [
       "<div>\n",
       "<style scoped>\n",
       "    .dataframe tbody tr th:only-of-type {\n",
       "        vertical-align: middle;\n",
       "    }\n",
       "\n",
       "    .dataframe tbody tr th {\n",
       "        vertical-align: top;\n",
       "    }\n",
       "\n",
       "    .dataframe thead th {\n",
       "        text-align: right;\n",
       "    }\n",
       "</style>\n",
       "<table border=\"1\" class=\"dataframe\">\n",
       "  <thead>\n",
       "    <tr style=\"text-align: right;\">\n",
       "      <th></th>\n",
       "      <th>product_id</th>\n",
       "      <th>product_name</th>\n",
       "      <th>aisle_id</th>\n",
       "      <th>department_id</th>\n",
       "    </tr>\n",
       "  </thead>\n",
       "  <tbody>\n",
       "    <tr>\n",
       "      <th>0</th>\n",
       "      <td>1</td>\n",
       "      <td>Chocolate Sandwich Cookies</td>\n",
       "      <td>61</td>\n",
       "      <td>19</td>\n",
       "    </tr>\n",
       "    <tr>\n",
       "      <th>1</th>\n",
       "      <td>10</td>\n",
       "      <td>Sparkling Orange Juice &amp; Prickly Pear Beverage</td>\n",
       "      <td>115</td>\n",
       "      <td>7</td>\n",
       "    </tr>\n",
       "    <tr>\n",
       "      <th>2</th>\n",
       "      <td>11</td>\n",
       "      <td>Peach Mango Juice</td>\n",
       "      <td>31</td>\n",
       "      <td>7</td>\n",
       "    </tr>\n",
       "    <tr>\n",
       "      <th>3</th>\n",
       "      <td>23</td>\n",
       "      <td>Organic Turkey Burgers</td>\n",
       "      <td>49</td>\n",
       "      <td>12</td>\n",
       "    </tr>\n",
       "    <tr>\n",
       "      <th>4</th>\n",
       "      <td>25</td>\n",
       "      <td>Salted Caramel Lean Protein &amp; Fiber Bar</td>\n",
       "      <td>3</td>\n",
       "      <td>19</td>\n",
       "    </tr>\n",
       "    <tr>\n",
       "      <th>...</th>\n",
       "      <td>...</td>\n",
       "      <td>...</td>\n",
       "      <td>...</td>\n",
       "      <td>...</td>\n",
       "    </tr>\n",
       "    <tr>\n",
       "      <th>9283</th>\n",
       "      <td>49677</td>\n",
       "      <td>Thick &amp; Chunky Sloppy Joe Sauce</td>\n",
       "      <td>59</td>\n",
       "      <td>15</td>\n",
       "    </tr>\n",
       "    <tr>\n",
       "      <th>9284</th>\n",
       "      <td>49678</td>\n",
       "      <td>Large Chicken &amp; Cheese Taquitos</td>\n",
       "      <td>129</td>\n",
       "      <td>1</td>\n",
       "    </tr>\n",
       "    <tr>\n",
       "      <th>9285</th>\n",
       "      <td>49680</td>\n",
       "      <td>All Natural Creamy Caesar Dressing</td>\n",
       "      <td>89</td>\n",
       "      <td>13</td>\n",
       "    </tr>\n",
       "    <tr>\n",
       "      <th>9286</th>\n",
       "      <td>49682</td>\n",
       "      <td>California Limeade</td>\n",
       "      <td>98</td>\n",
       "      <td>7</td>\n",
       "    </tr>\n",
       "    <tr>\n",
       "      <th>9287</th>\n",
       "      <td>49683</td>\n",
       "      <td>Cucumber Kirby</td>\n",
       "      <td>83</td>\n",
       "      <td>4</td>\n",
       "    </tr>\n",
       "  </tbody>\n",
       "</table>\n",
       "<p>9288 rows × 4 columns</p>\n",
       "</div>"
      ],
      "text/plain": [
       "      product_id                                    product_name  aisle_id  \\\n",
       "0              1                      Chocolate Sandwich Cookies        61   \n",
       "1             10  Sparkling Orange Juice & Prickly Pear Beverage       115   \n",
       "2             11                               Peach Mango Juice        31   \n",
       "3             23                          Organic Turkey Burgers        49   \n",
       "4             25         Salted Caramel Lean Protein & Fiber Bar         3   \n",
       "...          ...                                             ...       ...   \n",
       "9283       49677                 Thick & Chunky Sloppy Joe Sauce        59   \n",
       "9284       49678                 Large Chicken & Cheese Taquitos       129   \n",
       "9285       49680              All Natural Creamy Caesar Dressing        89   \n",
       "9286       49682                              California Limeade        98   \n",
       "9287       49683                                  Cucumber Kirby        83   \n",
       "\n",
       "      department_id  \n",
       "0                19  \n",
       "1                 7  \n",
       "2                 7  \n",
       "3                12  \n",
       "4                19  \n",
       "...             ...  \n",
       "9283             15  \n",
       "9284              1  \n",
       "9285             13  \n",
       "9286              7  \n",
       "9287              4  \n",
       "\n",
       "[9288 rows x 4 columns]"
      ]
     },
     "execution_count": 128,
     "metadata": {},
     "output_type": "execute_result"
    }
   ],
   "source": [
    "products"
   ]
  },
  {
   "cell_type": "code",
   "execution_count": 130,
   "id": "a066f2de-3326-4459-a678-d7a143a5ec93",
   "metadata": {},
   "outputs": [
    {
     "data": {
      "text/plain": [
       "'SELECT B.product_name , COUNT(DISTINCT A.order_id) cnt\\nFROM order_products__prior A\\nLEFT JOIN products_1 B\\nON A.product_id=B.product_id\\nGROUP BY 1\\nORDER BY 2 DESC'"
      ]
     },
     "execution_count": 130,
     "metadata": {},
     "output_type": "execute_result"
    }
   ],
   "source": [
    "\"\"\"SELECT B.product_name , COUNT(DISTINCT A.order_id) cnt\n",
    "FROM order_products__prior A\n",
    "LEFT JOIN products_1 B\n",
    "ON A.product_id=B.product_id\n",
    "GROUP BY 1\n",
    "ORDER BY 2 DESC\"\"\""
   ]
  },
  {
   "cell_type": "code",
   "execution_count": 135,
   "id": "7954176f-15c4-49d2-880c-90e69edad9ee",
   "metadata": {},
   "outputs": [
    {
     "data": {
      "text/plain": [
       "product_name\n",
       "Banana                                                    486\n",
       "Bag of Organic Bananas                                    387\n",
       "Organic Strawberries                                      289\n",
       "Organic Baby Spinach                                      235\n",
       "Organic Hass Avocado                                      210\n",
       "                                                         ... \n",
       "1% Milkfat Low Fat Vitamin A & D Milk                       1\n",
       "1.5% Milkfat Grade A Pasteurized Lowfat Cottage Cheese      1\n",
       "1/3 Less Fat Chive & Onion Cream Cheese                     1\n",
       "10 Grams Protein Cranberry Almond Instant Oatmeal           1\n",
       "100% Baby Kale                                              1\n",
       "Name: order_id, Length: 9288, dtype: int64"
      ]
     },
     "execution_count": 135,
     "metadata": {},
     "output_type": "execute_result"
    }
   ],
   "source": [
    "pd.merge(order_products__prior, \\\n",
    "         products, on=\"product_id\", how=\"left\").groupby([\"product_name\"])[\"order_id\"].count().sort_values(ascending=False)"
   ]
  }
 ],
 "metadata": {
  "kernelspec": {
   "display_name": "Python 3 (ipykernel)",
   "language": "python",
   "name": "python3"
  },
  "language_info": {
   "codemirror_mode": {
    "name": "ipython",
    "version": 3
   },
   "file_extension": ".py",
   "mimetype": "text/x-python",
   "name": "python",
   "nbconvert_exporter": "python",
   "pygments_lexer": "ipython3",
   "version": "3.10.12"
  }
 },
 "nbformat": 4,
 "nbformat_minor": 5
}
