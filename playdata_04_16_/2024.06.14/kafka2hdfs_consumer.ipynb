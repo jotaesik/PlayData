from confluent_kafka import Consumer

conf = {'bootstrap.servers': "ip:port", 
        'group.id' : 'test-group',
         'auto.offset.reset' : 'earliest'}
consumer = Consumer(conf)

consumer.subscribe(['encore_mort'])

while(True):
    msg = consumer.poll(timeout=0.1)
    if msg is None:
        continue
    if msg.error():
        print(msg.error())
    else:
        print(msg.value().decode('utf-8'))
consumer.close()