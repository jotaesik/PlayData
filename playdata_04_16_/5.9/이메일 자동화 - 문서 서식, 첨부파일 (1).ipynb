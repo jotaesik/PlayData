{
 "cells": [
  {
   "cell_type": "markdown",
   "metadata": {},
   "source": [
    "# 이메일 자동화 - 간단한 이메일"
   ]
  },
  {
   "cell_type": "markdown",
   "metadata": {},
   "source": [
    "* smtplib는 메일 정보를 SMTP 형태로 보내주는 라이브러리\n",
    "* email은 메일 발송을 필요한 정보를 편리하게 사용할 수 있게 해주는  라이브러리입니다. "
   ]
  },
  {
   "cell_type": "code",
   "execution_count": 1,
   "metadata": {},
   "outputs": [],
   "source": [
    "import smtplib\n",
    "from email.mime.multipart import MIMEMultipart\n",
    "from email.mime.text import MIMEText\n",
    "from email.utils import formatdate"
   ]
  },
  {
   "cell_type": "markdown",
   "metadata": {},
   "source": [
    "# g-mail 설정\n",
    "* gmail를 사용하여 메일을 보내겠습니다.\n",
    "* gmail의 smtp를 사용하기 위해서 보안 수준을 조정해야 합니다.(아래 주소 참조)\n",
    "    - https://myaccount.google.com/lesssecureapps\n",
    "    \n",
    "----\n",
    "* 메일 제공 업체의 smtp 정보    \n",
    "    > gmail : smtp.gmail.com / 465\n",
    "    \n",
    "    > naver : smtp.naver.com / 465\n",
    "    \n",
    "    > daum  : smtp.daum.net / 465"
   ]
  },
  {
   "cell_type": "markdown",
   "metadata": {},
   "source": [
    "* 아래 코드는 계정 정보를 위해서..."
   ]
  },
  {
   "cell_type": "code",
   "execution_count": 2,
   "metadata": {},
   "outputs": [
    {
     "ename": "FileNotFoundError",
     "evalue": "[Errno 2] No such file or directory: './mypass.txt'",
     "output_type": "error",
     "traceback": [
      "\u001b[0;31m---------------------------------------------------------------------------\u001b[0m",
      "\u001b[0;31mFileNotFoundError\u001b[0m                         Traceback (most recent call last)",
      "Cell \u001b[0;32mIn[2], line 1\u001b[0m\n\u001b[0;32m----> 1\u001b[0m \u001b[38;5;28;01mwith\u001b[39;00m \u001b[38;5;28;43mopen\u001b[39;49m\u001b[43m(\u001b[49m\u001b[38;5;124;43m\"\u001b[39;49m\u001b[38;5;124;43m./mypass.txt\u001b[39;49m\u001b[38;5;124;43m\"\u001b[39;49m\u001b[43m,\u001b[49m\u001b[43m \u001b[49m\u001b[38;5;124;43m\"\u001b[39;49m\u001b[38;5;124;43mr\u001b[39;49m\u001b[38;5;124;43m\"\u001b[39;49m\u001b[43m)\u001b[49m \u001b[38;5;28;01mas\u001b[39;00m f:\n\u001b[1;32m      2\u001b[0m     \u001b[38;5;28;01mfor\u001b[39;00m x \u001b[38;5;129;01min\u001b[39;00m f:\n\u001b[1;32m      3\u001b[0m         id_, pass_, to_ \u001b[38;5;241m=\u001b[39m x\u001b[38;5;241m.\u001b[39msplit(\u001b[38;5;124m\"\u001b[39m\u001b[38;5;124m,\u001b[39m\u001b[38;5;124m\"\u001b[39m)\n",
      "File \u001b[0;32m~/.local/lib/python3.10/site-packages/IPython/core/interactiveshell.py:324\u001b[0m, in \u001b[0;36m_modified_open\u001b[0;34m(file, *args, **kwargs)\u001b[0m\n\u001b[1;32m    317\u001b[0m \u001b[38;5;28;01mif\u001b[39;00m file \u001b[38;5;129;01min\u001b[39;00m {\u001b[38;5;241m0\u001b[39m, \u001b[38;5;241m1\u001b[39m, \u001b[38;5;241m2\u001b[39m}:\n\u001b[1;32m    318\u001b[0m     \u001b[38;5;28;01mraise\u001b[39;00m \u001b[38;5;167;01mValueError\u001b[39;00m(\n\u001b[1;32m    319\u001b[0m         \u001b[38;5;124mf\u001b[39m\u001b[38;5;124m\"\u001b[39m\u001b[38;5;124mIPython won\u001b[39m\u001b[38;5;124m'\u001b[39m\u001b[38;5;124mt let you open fd=\u001b[39m\u001b[38;5;132;01m{\u001b[39;00mfile\u001b[38;5;132;01m}\u001b[39;00m\u001b[38;5;124m by default \u001b[39m\u001b[38;5;124m\"\u001b[39m\n\u001b[1;32m    320\u001b[0m         \u001b[38;5;124m\"\u001b[39m\u001b[38;5;124mas it is likely to crash IPython. If you know what you are doing, \u001b[39m\u001b[38;5;124m\"\u001b[39m\n\u001b[1;32m    321\u001b[0m         \u001b[38;5;124m\"\u001b[39m\u001b[38;5;124myou can use builtins\u001b[39m\u001b[38;5;124m'\u001b[39m\u001b[38;5;124m open.\u001b[39m\u001b[38;5;124m\"\u001b[39m\n\u001b[1;32m    322\u001b[0m     )\n\u001b[0;32m--> 324\u001b[0m \u001b[38;5;28;01mreturn\u001b[39;00m \u001b[43mio_open\u001b[49m\u001b[43m(\u001b[49m\u001b[43mfile\u001b[49m\u001b[43m,\u001b[49m\u001b[43m \u001b[49m\u001b[38;5;241;43m*\u001b[39;49m\u001b[43margs\u001b[49m\u001b[43m,\u001b[49m\u001b[43m \u001b[49m\u001b[38;5;241;43m*\u001b[39;49m\u001b[38;5;241;43m*\u001b[39;49m\u001b[43mkwargs\u001b[49m\u001b[43m)\u001b[49m\n",
      "\u001b[0;31mFileNotFoundError\u001b[0m: [Errno 2] No such file or directory: './mypass.txt'"
     ]
    }
   ],
   "source": [
    "with open(\"./mypass.txt\", \"r\") as f:\n",
    "    for x in f:\n",
    "        id_, pass_, to_ = x.split(\",\")"
   ]
  },
  {
   "cell_type": "code",
   "execution_count": 3,
   "metadata": {},
   "outputs": [
    {
     "data": {
      "text/plain": [
       "(235, b'2.7.0 Accepted')"
      ]
     },
     "execution_count": 3,
     "metadata": {},
     "output_type": "execute_result"
    }
   ],
   "source": [
    "smtp = smtplib.SMTP_SSL(\"smtp.gmail.com\", 465) \n",
    "smtp.login(id_, pass_)"
   ]
  },
  {
   "cell_type": "markdown",
   "metadata": {},
   "source": [
    "## 메일 내용 설정"
   ]
  },
  {
   "cell_type": "code",
   "execution_count": 4,
   "metadata": {},
   "outputs": [],
   "source": [
    "email_from = id_\n",
    "email_to = to_\n",
    "email_date = formatdate(localtime=True)\n",
    "email_subject = \"2019년 8월말 온라인 펀드 판매 현황\"\n"
   ]
  },
  {
   "cell_type": "code",
   "execution_count": 5,
   "metadata": {},
   "outputs": [],
   "source": [
    "email_message_html = \"\"\"안녕하세요. <br>\n",
    "\n",
    "<h1> 이번 달 온라인 펀드 판매 현황을 보고서를 첨부합니다. </h1>\n",
    "\n",
    "<p><span style=\"font-weight:bold\">감사합니다.</span> </p>\n",
    "\n",
    "\"\"\""
   ]
  },
  {
   "cell_type": "markdown",
   "metadata": {},
   "source": [
    "* MIMEMultipart는 이메일 전송에 필요한 정보를 담고 있습니다.\n",
    "* MIMEText는 텍스트 내용을 첨부하기 위해서 사용합니다. \n",
    "----\n",
    "* MIME(Multipurpose Internet Mail Extensions) : 이메일 표준 형식 "
   ]
  },
  {
   "cell_type": "markdown",
   "metadata": {},
   "source": [
    "* MIMEMultipart를 사용하여 msg 클래스 변수를 생성 \n",
    "* alternative는 MIMEMultipart의 타입을 의미 \n",
    "    > 첨부파일이 포함되는 메일이라면 mixed로 설정(기본값)"
   ]
  },
  {
   "cell_type": "code",
   "execution_count": 6,
   "metadata": {},
   "outputs": [],
   "source": [
    "msg = MIMEMultipart('mixed')\n",
    "\n",
    "# 보내는 사람 \n",
    "msg['From'] = email_from\n",
    "\n",
    "# 받는 사람 \n",
    "msg['To'] = email_to\n",
    "\n",
    "# 날짜\n",
    "msg['Date'] = email_date\n",
    "\n",
    "# 제목\n",
    "msg['Subject'] = email_subject\n"
   ]
  },
  {
   "cell_type": "markdown",
   "metadata": {},
   "source": [
    "* MIMEText를 사용하여 내용 문자열을 MIMEText 클래스 변수 형태로 반환\n",
    "* html 형식으로 보낼 경우 본문 내용을 html 형태로 작성해야 합니다."
   ]
  },
  {
   "cell_type": "code",
   "execution_count": 7,
   "metadata": {},
   "outputs": [],
   "source": [
    "# 본문 추가 (html형식으로 인코딩 방식은 utf-8)\n",
    "msg.attach(MIMEText(email_message_html, \"html\", _charset=\"utf-8\"))\n",
    "#msg.attach(MIMEText(email_message))"
   ]
  },
  {
   "cell_type": "markdown",
   "metadata": {},
   "source": [
    "## 첨부파일 보내기"
   ]
  },
  {
   "cell_type": "code",
   "execution_count": 8,
   "metadata": {},
   "outputs": [],
   "source": [
    "from email.mime.application import MIMEApplication\n",
    "from email.mime.base import MIMEBase\n",
    "from email.encoders import encode_base64\n",
    "from email.header import Header"
   ]
  },
  {
   "cell_type": "markdown",
   "metadata": {},
   "source": [
    "* encode_base64는 encode를 6비트(2^6) 64개의 문자로 변환합니다.\n",
    "* MIMEBase에서 파일 전송 형태는 아래 주소에서 확인할 수 있습니다.\n",
    "    - https://www.iana.org/assignments/media-types/media-types.xhtml#application"
   ]
  },
  {
   "cell_type": "code",
   "execution_count": 9,
   "metadata": {},
   "outputs": [],
   "source": [
    "# 실제 파일 경로를 open함수로 read 한다.\n",
    "filename = \"fund_result.docx\"\n",
    "target_file = \"./\" + filename\n",
    "with open(target_file, \"rb\") as attach_file:\n",
    "    # application, octet-stream은 모든 종류의 파일을 전송할 때 사용하는 타입 \n",
    "    file_data = MIMEBase(\"application\", \"octet-stream\")\n",
    "    file_data.set_payload(attach_file.read())\n",
    "    encode_base64(file_data)\n",
    "    # add_header에 filename를 전달해야 첨부된 파일명이 보입니다. \n",
    "    file_data.add_header('Content-Disposition', 'attachment', filename=filename)\n",
    "    msg.attach(file_data)"
   ]
  },
  {
   "cell_type": "markdown",
   "metadata": {},
   "source": [
    "## 메일 보내기\n",
    "* sendmail() 메소드를 사용해서 메일을 발송합니다. \n",
    "* sendmail()의 보내는 사람, 받는 사람, 본문 내용 순서로 전달합니다. \n",
    "* MIMEMultipart에서 설정한 보내는 사람, 받는 사람은 이메일이 아니라 이름을 의미합니다. \n",
    "* 여러 명에서 이메일을 전송하고 싶다면 아래 to_ 부분을 메일 목록을 리스트로 작성하여 전달합면 됩니다."
   ]
  },
  {
   "cell_type": "code",
   "execution_count": 10,
   "metadata": {},
   "outputs": [
    {
     "data": {
      "text/plain": [
       "{}"
      ]
     },
     "execution_count": 10,
     "metadata": {},
     "output_type": "execute_result"
    }
   ],
   "source": [
    "smtp.sendmail(id_,to_, msg.as_string())"
   ]
  },
  {
   "attachments": {
    "image.png": {
     "image/png": "[encoded data removed]"
    }
   },
   "cell_type": "markdown",
   "metadata": {},
   "source": [
    "![image.png](attachment:image.png)"
   ]
  },
  {
   "cell_type": "code",
   "execution_count": null,
   "metadata": {},
   "outputs": [],
   "source": []
  }
 ],
 "metadata": {
  "kernelspec": {
   "display_name": "Python 3 (ipykernel)",
   "language": "python",
   "name": "python3"
  },
  "language_info": {
   "codemirror_mode": {
    "name": "ipython",
    "version": 3
   },
   "file_extension": ".py",
   "mimetype": "text/x-python",
   "name": "python",
   "nbconvert_exporter": "python",
   "pygments_lexer": "ipython3",
   "version": "3.10.12"
  }
 },
 "nbformat": 4,
 "nbformat_minor": 4
}
