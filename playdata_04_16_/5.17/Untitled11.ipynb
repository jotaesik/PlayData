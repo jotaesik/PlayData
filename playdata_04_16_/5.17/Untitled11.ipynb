{
 "cells": [
  {
   "cell_type": "code",
   "execution_count": 3,
   "id": "302e9229-c0fc-4799-a9eb-55b8452b3bda",
   "metadata": {},
   "outputs": [],
   "source": [
    "import pandas as pd\n",
    "# news = pd.read_csv(\"./KBS_20240101_20240517.csv\",delimiter=\";\")['originNewsContents'].tolist()"
   ]
  },
  {
   "cell_type": "code",
   "execution_count": 20,
   "id": "7717ad57-8258-46b0-9905-b179a4b5f1fe",
   "metadata": {},
   "outputs": [],
   "source": [
    "# news.__len__()"
   ]
  },
  {
   "cell_type": "code",
   "execution_count": 13,
   "id": "19c60ce3-c9d4-4402-a31f-aaf5be1d9c4c",
   "metadata": {},
   "outputs": [],
   "source": []
  },
  {
   "cell_type": "code",
   "execution_count": 21,
   "id": "c3b4afb3-d6f1-418d-9a41-13914adee7a9",
   "metadata": {},
   "outputs": [],
   "source": [
    "# news[10]"
   ]
  },
  {
   "cell_type": "code",
   "execution_count": 4,
   "id": "5e1333a8-03f3-4ba6-b040-ad881c81c5a4",
   "metadata": {},
   "outputs": [
    {
     "data": {
      "text/html": [
       "<div>\n",
       "<style scoped>\n",
       "    .dataframe tbody tr th:only-of-type {\n",
       "        vertical-align: middle;\n",
       "    }\n",
       "\n",
       "    .dataframe tbody tr th {\n",
       "        vertical-align: top;\n",
       "    }\n",
       "\n",
       "    .dataframe thead th {\n",
       "        text-align: right;\n",
       "    }\n",
       "</style>\n",
       "<table border=\"1\" class=\"dataframe\">\n",
       "  <thead>\n",
       "    <tr style=\"text-align: right;\">\n",
       "      <th></th>\n",
       "      <th>Unnamed: 0</th>\n",
       "      <th>regDate</th>\n",
       "      <th>originNewsTitle</th>\n",
       "      <th>originNewsContents</th>\n",
       "      <th>contentsName</th>\n",
       "      <th>institution</th>\n",
       "    </tr>\n",
       "  </thead>\n",
       "  <tbody>\n",
       "    <tr>\n",
       "      <th>0</th>\n",
       "      <td>0</td>\n",
       "      <td>2024-05-17 13:41:59</td>\n",
       "      <td>[지금뉴스]슬로바키아 총리 '피격' 범행에 \"정치적 동기\"</td>\n",
       "      <td>총격범의 피습을 받은 피코 슬로바키아 총리가 병원 중환자실에서 치료를 받고 있습니...</td>\n",
       "      <td>국제</td>\n",
       "      <td>KBS</td>\n",
       "    </tr>\n",
       "  </tbody>\n",
       "</table>\n",
       "</div>"
      ],
      "text/plain": [
       "   Unnamed: 0              regDate                   originNewsTitle  \\\n",
       "0           0  2024-05-17 13:41:59  [지금뉴스]슬로바키아 총리 '피격' 범행에 \"정치적 동기\"   \n",
       "\n",
       "                                  originNewsContents contentsName institution  \n",
       "0   총격범의 피습을 받은 피코 슬로바키아 총리가 병원 중환자실에서 치료를 받고 있습니...           국제         KBS  "
      ]
     },
     "execution_count": 4,
     "metadata": {},
     "output_type": "execute_result"
    }
   ],
   "source": [
    "df = pd.read_csv(\"./KBS_20240101_20240517.csv\",delimiter=\";\")\n",
    "df.head(1)"
   ]
  },
  {
   "cell_type": "code",
   "execution_count": 22,
   "id": "31502359-d478-4d3d-860c-87ab3ced6b79",
   "metadata": {},
   "outputs": [],
   "source": [
    "news = df.dropna(subset=['originNewsContents'])['originNewsContents'].tolist()"
   ]
  },
  {
   "cell_type": "code",
   "execution_count": 23,
   "id": "bf4bfb82-ec8b-471c-b8e5-96f03e1067d3",
   "metadata": {},
   "outputs": [
    {
     "data": {
      "text/plain": [
       "contentsName\n",
       "사회          17058\n",
       "국제          12392\n",
       "정치          10623\n",
       "경제           5468\n",
       "재난·기후·환경     1618\n",
       "문화           1531\n",
       "뉴스           1382\n",
       "IT·과학         678\n",
       "생활·건강         109\n",
       "식품              1\n",
       "Name: count, dtype: int64"
      ]
     },
     "execution_count": 23,
     "metadata": {},
     "output_type": "execute_result"
    }
   ],
   "source": [
    "df.contentsName.value_counts()"
   ]
  },
  {
   "cell_type": "code",
   "execution_count": 35,
   "id": "9ddff513-448c-464f-963a-12c8c8e14ee9",
   "metadata": {},
   "outputs": [],
   "source": [
    "from konlpy.tag import Okt,Komoran"
   ]
  },
  {
   "cell_type": "code",
   "execution_count": 36,
   "id": "63b11288-ef51-4854-b384-8e648c5f47ec",
   "metadata": {},
   "outputs": [],
   "source": [
    "komoran=Komoran()"
   ]
  },
  {
   "cell_type": "code",
   "execution_count": 37,
   "id": "dac287fd-a25e-460f-87c9-e5a36267b071",
   "metadata": {},
   "outputs": [
    {
     "data": {
      "text/plain": [
       "[('총격', 'NNG'),\n",
       " ('범', 'NNG'),\n",
       " ('의', 'JKG'),\n",
       " ('피습', 'NNG'),\n",
       " ('을', 'JKO'),\n",
       " ('받', 'VV'),\n",
       " ('은', 'ETM'),\n",
       " ('피코', 'NNP'),\n",
       " ('슬로바키아', 'NNP'),\n",
       " ('총리', 'NNG'),\n",
       " ('가', 'JKS'),\n",
       " ('병원', 'NNG'),\n",
       " ('중환자실', 'NNG'),\n",
       " ('에서', 'JKB'),\n",
       " ('치료', 'NNG'),\n",
       " ('를', 'JKO'),\n",
       " ('받', 'VV'),\n",
       " ('고', 'EC'),\n",
       " ('있', 'VX'),\n",
       " ('습니다', 'EF'),\n",
       " ('.', 'SF'),\n",
       " ('<', 'SS'),\n",
       " ('br', 'SL'),\n",
       " ('/', 'SP'),\n",
       " ('>', 'SS'),\n",
       " ('현지', 'NNG'),\n",
       " ('언론', 'NNG'),\n",
       " ('은', 'JX'),\n",
       " ('총격', 'NNG'),\n",
       " ('범', 'NNG'),\n",
       " ('이', 'JKS'),\n",
       " ('사설', 'NNG'),\n",
       " ('보안', 'NNP'),\n",
       " ('업체', 'NNG'),\n",
       " ('71', 'SN'),\n",
       " ('살', 'NNB'),\n",
       " ('직원', 'NNG'),\n",
       " ('이', 'VCP'),\n",
       " ('자', 'EC'),\n",
       " (',', 'SP'),\n",
       " ('시집', 'NNP'),\n",
       " ('3', 'SN'),\n",
       " ('권', 'NNB'),\n",
       " ('을', 'JKO'),\n",
       " ('출간', 'NNG'),\n",
       " ('하', 'XSV'),\n",
       " ('ㄴ', 'ETM'),\n",
       " ('작가', 'NNG'),\n",
       " ('협회', 'NNG'),\n",
       " ('회원', 'NNG'),\n",
       " ('이', 'VCP'),\n",
       " ('라고', 'EC'),\n",
       " ('보도', 'NNG'),\n",
       " ('하', 'XSV'),\n",
       " ('았', 'EP'),\n",
       " ('습니다', 'EF'),\n",
       " ('.', 'SF'),\n",
       " ('<', 'SS'),\n",
       " ('br', 'SL'),\n",
       " ('/', 'SP'),\n",
       " ('>', 'SS'),\n",
       " ('<', 'SS'),\n",
       " ('br', 'SL'),\n",
       " ('/', 'SP'),\n",
       " ('>', 'SS'),\n",
       " ('슬로바키아', 'NNP'),\n",
       " ('정부', 'NNG'),\n",
       " ('는', 'JX'),\n",
       " ('범인', 'NNG'),\n",
       " ('이', 'JKS'),\n",
       " ('정치', 'NNG'),\n",
       " ('적', 'XSN'),\n",
       " ('동기', 'NNG'),\n",
       " ('에서', 'JKB'),\n",
       " ('계획', 'NNG'),\n",
       " ('적', 'XSN'),\n",
       " ('으로', 'JKB'),\n",
       " ('피', 'NNG'),\n",
       " ('초', 'NNB'),\n",
       " ('총리', 'NNG'),\n",
       " ('를', 'JKO'),\n",
       " ('암살', 'NNG'),\n",
       " ('하', 'XSV'),\n",
       " ('려고', 'EC'),\n",
       " ('하', 'VV'),\n",
       " ('았', 'EP'),\n",
       " ('던', 'ETM'),\n",
       " ('것', 'NNB'),\n",
       " ('으로', 'JKB'),\n",
       " ('보', 'VV'),\n",
       " ('고', 'EC'),\n",
       " ('있', 'VX'),\n",
       " ('습니다', 'EF'),\n",
       " ('.', 'SF'),\n",
       " ('<', 'SS'),\n",
       " ('br', 'SL'),\n",
       " ('/', 'SP'),\n",
       " ('>', 'SS'),\n",
       " ('<', 'SS'),\n",
       " ('br', 'SL'),\n",
       " ('/', 'SP'),\n",
       " ('>', 'SS'),\n",
       " ('또', 'MAJ'),\n",
       " ('총격', 'NNG'),\n",
       " ('범', 'NNG'),\n",
       " ('이', 'JKS'),\n",
       " ('반', 'XPN'),\n",
       " ('정부', 'NNG'),\n",
       " ('시위', 'NNG'),\n",
       " ('에', 'JKB'),\n",
       " ('참여', 'NNG'),\n",
       " ('하', 'XSV'),\n",
       " ('았', 'EP'),\n",
       " ('던', 'ETM'),\n",
       " ('것', 'NNB'),\n",
       " ('으로', 'JKB'),\n",
       " ('확인', 'NNG'),\n",
       " ('하', 'XSV'),\n",
       " ('았', 'EP'),\n",
       " ('습니다', 'EF'),\n",
       " ('.', 'SF'),\n",
       " ('<', 'SS'),\n",
       " ('br', 'SL'),\n",
       " ('/', 'SP'),\n",
       " ('>', 'SS'),\n",
       " ('<', 'SS'),\n",
       " ('br', 'SL'),\n",
       " ('/', 'SP'),\n",
       " ('>', 'SS'),\n",
       " ('극단', 'NNP'),\n",
       " ('적', 'XSN'),\n",
       " ('으로', 'JKB'),\n",
       " ('대립', 'NNG'),\n",
       " ('하', 'XSV'),\n",
       " ('던', 'ETM'),\n",
       " ('슬로', 'NNG'),\n",
       " ('바', 'NNB'),\n",
       " ('이카', 'NNP'),\n",
       " ('여야', 'NNG'),\n",
       " ('정치', 'NNG'),\n",
       " ('권', 'XSN'),\n",
       " ('은', 'JX'),\n",
       " ('피', 'NNG'),\n",
       " ('초', 'NNB'),\n",
       " ('총리', 'NNG'),\n",
       " ('피습', 'NNG'),\n",
       " ('이후', 'NNG'),\n",
       " ('증오', 'NNP'),\n",
       " ('정치', 'NNG'),\n",
       " ('를', 'JKO'),\n",
       " ('끝내', 'VV'),\n",
       " ('자는', 'ETM'),\n",
       " ('공동', 'NNG'),\n",
       " ('성명', 'NNG'),\n",
       " ('을', 'JKO'),\n",
       " ('발표', 'NNG'),\n",
       " ('하', 'XSV'),\n",
       " ('았', 'EP'),\n",
       " ('습니다', 'EF'),\n",
       " ('.', 'SF'),\n",
       " ('<', 'SS'),\n",
       " ('br', 'SL'),\n",
       " ('/', 'SP'),\n",
       " ('>', 'SS'),\n",
       " ('<', 'SS'),\n",
       " ('br', 'SL'),\n",
       " ('/', 'SP'),\n",
       " ('>', 'SS'),\n",
       " ('<', 'SS'),\n",
       " ('br', 'SL'),\n",
       " ('/', 'SP'),\n",
       " ('>', 'SS'),\n",
       " ('<', 'SS'),\n",
       " ('br', 'SL'),\n",
       " ('/', 'SP'),\n",
       " ('>', 'SS'),\n",
       " ('<', 'SS'),\n",
       " ('br', 'SL'),\n",
       " ('/', 'SP'),\n",
       " ('>', 'SS')]"
      ]
     },
     "execution_count": 37,
     "metadata": {},
     "output_type": "execute_result"
    }
   ],
   "source": [
    "komoran.pos(news[0]) #Noun이 명사"
   ]
  },
  {
   "cell_type": "code",
   "execution_count": null,
   "id": "bf76fced-bcda-4878-a5a6-f1a671ebb682",
   "metadata": {},
   "outputs": [],
   "source": []
  },
  {
   "cell_type": "code",
   "execution_count": 30,
   "id": "46d619a8-2ce5-4099-9225-cf148fe543d1",
   "metadata": {},
   "outputs": [
    {
     "data": {
      "text/plain": [
       "41042"
      ]
     },
     "execution_count": 30,
     "metadata": {},
     "output_type": "execute_result"
    }
   ],
   "source": [
    "len(news)"
   ]
  },
  {
   "cell_type": "code",
   "execution_count": 26,
   "id": "72f58fae-eb09-41c0-a7aa-9fde62b0695b",
   "metadata": {},
   "outputs": [],
   "source": [
    "okt=Okt()"
   ]
  },
  {
   "cell_type": "code",
   "execution_count": 29,
   "id": "87fab4de-50fe-4994-914b-7eb88d7022ba",
   "metadata": {},
   "outputs": [],
   "source": []
  },
  {
   "cell_type": "code",
   "execution_count": 31,
   "id": "85afa628-f358-4118-9a38-8f4197d6a4fb",
   "metadata": {},
   "outputs": [],
   "source": [
    "a = okt.pos(news[0]) #Noun이 명사"
   ]
  },
  {
   "cell_type": "code",
   "execution_count": null,
   "id": "0de0cdea-f01b-4889-a05c-86ce0942953f",
   "metadata": {},
   "outputs": [],
   "source": []
  },
  {
   "cell_type": "code",
   "execution_count": 45,
   "id": "5f280760-f498-4201-9465-d8ca1400e24b",
   "metadata": {},
   "outputs": [
    {
     "name": "stderr",
     "output_type": "stream",
     "text": [
      "100%|█████████████████████████████████████████████████████████████████████████████| 41042/41042 [23:12<00:00, 29.47it/s]\n"
     ]
    }
   ],
   "source": [
    "stop_words = [('.<', 'br','/>')]\n",
    "from tqdm import tqdm\n",
    "news_total=[]\n",
    "for content in tqdm(news):\n",
    "    tmp = []\n",
    "    for word,type_ in okt.pos(content):\n",
    "        if type_==\"Noun\":\n",
    "            tmp.append(word)\n",
    "    news_total.append(tmp)\n",
    "    \n",
    "\n"
   ]
  },
  {
   "cell_type": "code",
   "execution_count": 50,
   "id": "10c44118-42bf-44ee-92fc-eba8d7ce7e5d",
   "metadata": {},
   "outputs": [],
   "source": [
    "total2 = [ [y for y in x if len(y) >=2] for x in news_total]"
   ]
  },
  {
   "cell_type": "code",
   "execution_count": 14,
   "id": "b7c598d0-7e79-4cd1-9bce-f9a97be9e08a",
   "metadata": {},
   "outputs": [
    {
     "ename": "UnpicklingError",
     "evalue": "pickle data was truncated",
     "output_type": "error",
     "traceback": [
      "\u001b[0;31m---------------------------------------------------------------------------\u001b[0m",
      "\u001b[0;31mUnpicklingError\u001b[0m                           Traceback (most recent call last)",
      "Cell \u001b[0;32mIn[14], line 4\u001b[0m\n\u001b[1;32m      1\u001b[0m \u001b[38;5;28;01mimport\u001b[39;00m \u001b[38;5;21;01mpickle\u001b[39;00m \n\u001b[1;32m      3\u001b[0m \u001b[38;5;28;01mwith\u001b[39;00m \u001b[38;5;28mopen\u001b[39m(\u001b[38;5;124m\"\u001b[39m\u001b[38;5;124m./word.pkl\u001b[39m\u001b[38;5;124m\"\u001b[39m, \u001b[38;5;124m\"\u001b[39m\u001b[38;5;124mrb\u001b[39m\u001b[38;5;124m\"\u001b[39m) \u001b[38;5;28;01mas\u001b[39;00m f:\n\u001b[0;32m----> 4\u001b[0m     total2 \u001b[38;5;241m=\u001b[39m \u001b[43mpickle\u001b[49m\u001b[38;5;241;43m.\u001b[39;49m\u001b[43mload\u001b[49m\u001b[43m(\u001b[49m\u001b[43mf\u001b[49m\u001b[43m)\u001b[49m\n",
      "\u001b[0;31mUnpicklingError\u001b[0m: pickle data was truncated"
     ]
    }
   ],
   "source": [
    "import pickle \n",
    "\n",
    "with open(\"./word.pkl\", \"rb\") as f:\n",
    "    total2 = pickle.load(f)"
   ]
  },
  {
   "cell_type": "code",
   "execution_count": 10,
   "id": "1a3ea643-80ac-4112-bd9d-8219a3bad2d9",
   "metadata": {},
   "outputs": [],
   "source": [
    "import pickle\n"
   ]
  },
  {
   "cell_type": "code",
   "execution_count": null,
   "id": "736e17dc-f671-4780-bd9e-24eb6ad25cd0",
   "metadata": {},
   "outputs": [],
   "source": [
    "with open(\"./word.pkl\", \"rb\") as f:\n",
    "    total2=pickle.load(f)"
   ]
  },
  {
   "cell_type": "code",
   "execution_count": 53,
   "id": "98b0d8ff-e69a-438f-9743-3e8c04cc4a5d",
   "metadata": {},
   "outputs": [],
   "source": [
    "# total2[0]"
   ]
  },
  {
   "cell_type": "code",
   "execution_count": null,
   "id": "6ba9821b-71ef-48d3-8dfa-900259285e28",
   "metadata": {},
   "outputs": [],
   "source": [
    "# 자연어처리패키지"
   ]
  },
  {
   "cell_type": "code",
   "execution_count": 54,
   "id": "0dcf2c84-0c55-4b9a-9376-edfcfecf28bc",
   "metadata": {},
   "outputs": [
    {
     "name": "stdout",
     "output_type": "stream",
     "text": [
      "Defaulting to user installation because normal site-packages is not writeable\n",
      "Collecting gensim\n",
      "  Downloading gensim-4.3.2-cp310-cp310-manylinux_2_17_x86_64.manylinux2014_x86_64.whl (26.5 MB)\n",
      "\u001b[2K     \u001b[90m━━━━━━━━━━━━━━━━━━━━━━━━━━━━━━━━━━━━━━━━\u001b[0m \u001b[32m26.5/26.5 MB\u001b[0m \u001b[31m22.7 MB/s\u001b[0m eta \u001b[36m0:00:00\u001b[0m00:01\u001b[0m00:01\u001b[0m\n",
      "\u001b[?25hRequirement already satisfied: scipy>=1.7.0 in /home/jotaesik/.local/lib/python3.10/site-packages (from gensim) (1.13.0)\n",
      "Collecting smart-open>=1.8.1\n",
      "  Downloading smart_open-7.0.4-py3-none-any.whl (61 kB)\n",
      "\u001b[2K     \u001b[90m━━━━━━━━━━━━━━━━━━━━━━━━━━━━━━━━━━━━━━━━\u001b[0m \u001b[32m61.2/61.2 KB\u001b[0m \u001b[31m10.2 MB/s\u001b[0m eta \u001b[36m0:00:00\u001b[0m\n",
      "\u001b[?25hRequirement already satisfied: numpy>=1.18.5 in /home/jotaesik/.local/lib/python3.10/site-packages (from gensim) (1.26.4)\n",
      "Requirement already satisfied: wrapt in /home/jotaesik/.local/lib/python3.10/site-packages (from smart-open>=1.8.1->gensim) (1.16.0)\n",
      "Installing collected packages: smart-open, gensim\n",
      "Successfully installed gensim-4.3.2 smart-open-7.0.4\n",
      "Note: you may need to restart the kernel to use updated packages.\n"
     ]
    }
   ],
   "source": [
    "pip install gensim"
   ]
  },
  {
   "cell_type": "code",
   "execution_count": 67,
   "id": "4620f107-67d5-454e-9d9f-98a2fc163a0f",
   "metadata": {},
   "outputs": [
    {
     "name": "stdout",
     "output_type": "stream",
     "text": [
      "\u001b[33mWARNING: Skipping scipy as it is not installed.\u001b[0m\u001b[33m\n",
      "\u001b[0mNote: you may need to restart the kernel to use updated packages.\n"
     ]
    }
   ],
   "source": [
    "pip uninstall scipy -y"
   ]
  },
  {
   "cell_type": "code",
   "execution_count": 68,
   "id": "1b2f2bc5-745e-45e1-9c80-9c80d57fe380",
   "metadata": {},
   "outputs": [
    {
     "name": "stdout",
     "output_type": "stream",
     "text": [
      "Defaulting to user installation because normal site-packages is not writeable\n",
      "Collecting scipy==1.10.1\n",
      "  Using cached scipy-1.10.1-cp310-cp310-manylinux_2_17_x86_64.manylinux2014_x86_64.whl (34.4 MB)\n",
      "Requirement already satisfied: numpy<1.27.0,>=1.19.5 in /home/jotaesik/.local/lib/python3.10/site-packages (from scipy==1.10.1) (1.26.4)\n",
      "Installing collected packages: scipy\n",
      "Successfully installed scipy-1.10.1\n",
      "Note: you may need to restart the kernel to use updated packages.\n"
     ]
    }
   ],
   "source": [
    "pip install scipy==1.10.1"
   ]
  },
  {
   "cell_type": "code",
   "execution_count": 1,
   "id": "0843b22a-be29-4cbf-bc46-7ca95dd80bdf",
   "metadata": {},
   "outputs": [],
   "source": [
    "from gensim.models import word2vec"
   ]
  },
  {
   "cell_type": "code",
   "execution_count": null,
   "id": "050d9704-d33c-4dd7-a3eb-8e5c8f3578c3",
   "metadata": {},
   "outputs": [],
   "source": []
  },
  {
   "cell_type": "code",
   "execution_count": 2,
   "id": "bf516153-0631-4b9a-9b9b-3f12d9da805f",
   "metadata": {},
   "outputs": [
    {
     "ename": "NameError",
     "evalue": "name 'total2' is not defined",
     "output_type": "error",
     "traceback": [
      "\u001b[0;31m---------------------------------------------------------------------------\u001b[0m",
      "\u001b[0;31mNameError\u001b[0m                                 Traceback (most recent call last)",
      "Cell \u001b[0;32mIn[2], line 1\u001b[0m\n\u001b[0;32m----> 1\u001b[0m model \u001b[38;5;241m=\u001b[39m word2vec\u001b[38;5;241m.\u001b[39mWord2Vec(\u001b[43mtotal2\u001b[49m, workers\u001b[38;5;241m=\u001b[39m\u001b[38;5;241m4\u001b[39m, size\u001b[38;5;241m=\u001b[39m\u001b[38;5;241m500\u001b[39m, min_count\u001b[38;5;241m=\u001b[39m\u001b[38;5;241m30\u001b[39m, window\u001b[38;5;241m=\u001b[39m\u001b[38;5;241m10\u001b[39m, sample\u001b[38;5;241m=\u001b[39m\u001b[38;5;241m0.001\u001b[39m)\n",
      "\u001b[0;31mNameError\u001b[0m: name 'total2' is not defined"
     ]
    }
   ],
   "source": [
    "model = word2vec.Word2Vec(total2, workers=4, size=500, min_count=30, window=10, sample=0.001)"
   ]
  }
 ],
 "metadata": {
  "kernelspec": {
   "display_name": "Python 3 (ipykernel)",
   "language": "python",
   "name": "python3"
  },
  "language_info": {
   "codemirror_mode": {
    "name": "ipython",
    "version": 3
   },
   "file_extension": ".py",
   "mimetype": "text/x-python",
   "name": "python",
   "nbconvert_exporter": "python",
   "pygments_lexer": "ipython3",
   "version": "3.10.12"
  }
 },
 "nbformat": 4,
 "nbformat_minor": 5
}
