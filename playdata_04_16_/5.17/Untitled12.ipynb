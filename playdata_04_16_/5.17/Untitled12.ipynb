{
 "cells": [
  {
   "cell_type": "code",
   "execution_count": 2,
   "id": "ebb4e0b7-be1c-40b4-8ebf-b990ecae4f32",
   "metadata": {},
   "outputs": [],
   "source": [
    "import pickle \n",
    "\n",
    "with open(\"./word.pkl\", \"rb\") as f:\n",
    "    total2 = pickle.load(f)"
   ]
  },
  {
   "cell_type": "code",
   "execution_count": 3,
   "id": "6838d01d-01b8-41b0-ba9c-a684e80170a6",
   "metadata": {},
   "outputs": [
    {
     "name": "stdout",
     "output_type": "stream",
     "text": [
      "Defaulting to user installation because normal site-packages is not writeable\n",
      "Requirement already satisfied: gensim in /home/jotaesik/.local/lib/python3.10/site-packages (4.3.2)\n",
      "Requirement already satisfied: smart-open>=1.8.1 in /home/jotaesik/.local/lib/python3.10/site-packages (from gensim) (7.0.4)\n",
      "Requirement already satisfied: scipy>=1.7.0 in /home/jotaesik/.local/lib/python3.10/site-packages (from gensim) (1.10.1)\n",
      "Requirement already satisfied: numpy>=1.18.5 in /home/jotaesik/.local/lib/python3.10/site-packages (from gensim) (1.26.4)\n",
      "Requirement already satisfied: wrapt in /home/jotaesik/.local/lib/python3.10/site-packages (from smart-open>=1.8.1->gensim) (1.16.0)\n",
      "Note: you may need to restart the kernel to use updated packages.\n"
     ]
    }
   ],
   "source": [
    "pip install gensim"
   ]
  },
  {
   "cell_type": "code",
   "execution_count": 4,
   "id": "65bab48d-b3d4-42aa-9b2b-ac011a878589",
   "metadata": {},
   "outputs": [
    {
     "name": "stdout",
     "output_type": "stream",
     "text": [
      "Found existing installation: scipy 1.10.1\n",
      "Uninstalling scipy-1.10.1:\n",
      "  Successfully uninstalled scipy-1.10.1\n",
      "Note: you may need to restart the kernel to use updated packages.\n"
     ]
    }
   ],
   "source": [
    "pip uninstall scipy -y"
   ]
  },
  {
   "cell_type": "code",
   "execution_count": 5,
   "id": "460cf16d-1ec2-4126-84b7-343a380c3bed",
   "metadata": {},
   "outputs": [
    {
     "name": "stdout",
     "output_type": "stream",
     "text": [
      "Defaulting to user installation because normal site-packages is not writeable\n",
      "Collecting scipy==1.10.1\n",
      "  Using cached scipy-1.10.1-cp310-cp310-manylinux_2_17_x86_64.manylinux2014_x86_64.whl (34.4 MB)\n",
      "Requirement already satisfied: numpy<1.27.0,>=1.19.5 in /home/jotaesik/.local/lib/python3.10/site-packages (from scipy==1.10.1) (1.26.4)\n",
      "Installing collected packages: scipy\n",
      "Successfully installed scipy-1.10.1\n",
      "Note: you may need to restart the kernel to use updated packages.\n"
     ]
    }
   ],
   "source": [
    "pip install scipy==1.10.1"
   ]
  },
  {
   "cell_type": "code",
   "execution_count": 6,
   "id": "2f796611-62b3-47a5-9a37-fa52f80493bb",
   "metadata": {},
   "outputs": [],
   "source": [
    "from gensim.models import word2vec"
   ]
  },
  {
   "cell_type": "code",
   "execution_count": 8,
   "id": "f205a70d-9fb3-4d42-a87f-58de5e910d9e",
   "metadata": {},
   "outputs": [],
   "source": [
    "model = word2vec.Word2Vec(total2, workers=4, vector_size=500, min_count=30, window=10, sample=0.001)"
   ]
  },
  {
   "cell_type": "code",
   "execution_count": 11,
   "id": "0e641717-a67d-43cf-8bab-881bb2fc6024",
   "metadata": {},
   "outputs": [
    {
     "data": {
      "text/plain": [
       "[('방탄소년단', 0.855185329914093),\n",
       " ('아티스트', 0.8450707197189331),\n",
       " ('걸그룹', 0.8310737609863281),\n",
       " ('컴백', 0.8298027515411377),\n",
       " ('멤버', 0.8267979621887207),\n",
       " ('아이브', 0.8013952374458313),\n",
       " ('세라핌', 0.795059859752655),\n",
       " ('데뷔', 0.7922260761260986),\n",
       " ('소속사', 0.786994218826294),\n",
       " ('빅히트', 0.7816575169563293)]"
      ]
     },
     "execution_count": 11,
     "metadata": {},
     "output_type": "execute_result"
    }
   ],
   "source": [
    "model.wv.most_similar(\"뉴진스\")"
   ]
  }
 ],
 "metadata": {
  "kernelspec": {
   "display_name": "Python 3 (ipykernel)",
   "language": "python",
   "name": "python3"
  },
  "language_info": {
   "codemirror_mode": {
    "name": "ipython",
    "version": 3
   },
   "file_extension": ".py",
   "mimetype": "text/x-python",
   "name": "python",
   "nbconvert_exporter": "python",
   "pygments_lexer": "ipython3",
   "version": "3.10.12"
  }
 },
 "nbformat": 4,
 "nbformat_minor": 5
}
