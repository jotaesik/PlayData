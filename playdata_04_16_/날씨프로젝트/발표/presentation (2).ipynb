{
 "cells": [
  {
   "cell_type": "markdown",
   "id": "0f25ddf2-c730-412b-a0e4-54be13bedd05",
   "metadata": {},
   "source": [
    "기상청 api와 naver 과거날씨를 받아서 미래 날씨를 예측해보자"
   ]
  },
  {
   "cell_type": "code",
   "execution_count": 5,
   "id": "9b797183-0f53-44b3-bcd7-eea4c08f2dbc",
   "metadata": {},
   "outputs": [],
   "source": [
    "import csv\n",
    "import pandas as pd\n",
    "import requests\n",
    "from bs4 import BeautifulSoup as bs\n",
    "from datetime import datetime, timedelta\n",
    "from tqdm import tqdm\n",
    "import numpy as np\n",
    "scaler_data = pd.read_csv('./weather_kor4.csv')\n",
    "naver_data = pd.read_csv('./new_data.csv')"
   ]
  },
  {
   "cell_type": "code",
   "execution_count": 4,
   "id": "d9cb9f0e-6e97-4897-ad26-56b6479bc46c",
   "metadata": {},
   "outputs": [
    {
     "data": {
      "text/html": [
       "<div>\n",
       "<style scoped>\n",
       "    .dataframe tbody tr th:only-of-type {\n",
       "        vertical-align: middle;\n",
       "    }\n",
       "\n",
       "    .dataframe tbody tr th {\n",
       "        vertical-align: top;\n",
       "    }\n",
       "\n",
       "    .dataframe thead th {\n",
       "        text-align: right;\n",
       "    }\n",
       "</style>\n",
       "<table border=\"1\" class=\"dataframe\">\n",
       "  <thead>\n",
       "    <tr style=\"text-align: right;\">\n",
       "      <th></th>\n",
       "      <th>Unnamed: 0</th>\n",
       "      <th>날짜</th>\n",
       "      <th>기온</th>\n",
       "      <th>강수량</th>\n",
       "      <th>풍속_num</th>\n",
       "      <th>풍향_num</th>\n",
       "      <th>습도</th>\n",
       "      <th>현지기압</th>\n",
       "      <th>전운량</th>\n",
       "      <th>aplYmd</th>\n",
       "      <th>...</th>\n",
       "      <th>현상번호_split</th>\n",
       "      <th>weather_1</th>\n",
       "      <th>weather_2</th>\n",
       "      <th>풍속</th>\n",
       "      <th>풍향</th>\n",
       "      <th>일조량</th>\n",
       "      <th>시간당 강수량</th>\n",
       "      <th>timestamp</th>\n",
       "      <th>W1</th>\n",
       "      <th>W2</th>\n",
       "    </tr>\n",
       "  </thead>\n",
       "  <tbody>\n",
       "    <tr>\n",
       "      <th>0</th>\n",
       "      <td>0</td>\n",
       "      <td>2019-12-29 00:00</td>\n",
       "      <td>1.4</td>\n",
       "      <td>0.0</td>\n",
       "      <td>1.8</td>\n",
       "      <td>50.0</td>\n",
       "      <td>57</td>\n",
       "      <td>1018.2</td>\n",
       "      <td>3.0</td>\n",
       "      <td>20191229</td>\n",
       "      <td>...</td>\n",
       "      <td>['92', '01']</td>\n",
       "      <td>맑음</td>\n",
       "      <td>둘다아님</td>\n",
       "      <td>약한 강한 바람</td>\n",
       "      <td>NE</td>\n",
       "      <td>-1.0</td>\n",
       "      <td>없음</td>\n",
       "      <td>2019-12-29 00:00:00</td>\n",
       "      <td>1</td>\n",
       "      <td>1</td>\n",
       "    </tr>\n",
       "  </tbody>\n",
       "</table>\n",
       "<p>1 rows × 23 columns</p>\n",
       "</div>"
      ],
      "text/plain": [
       "   Unnamed: 0                날짜   기온  강수량  풍속_num  풍향_num  습도    현지기압  전운량  \\\n",
       "0           0  2019-12-29 00:00  1.4  0.0     1.8    50.0  57  1018.2  3.0   \n",
       "\n",
       "     aplYmd  ...    현상번호_split weather_1 weather_2        풍속  풍향  일조량 시간당 강수량  \\\n",
       "0  20191229  ...  ['92', '01']        맑음      둘다아님  약한 강한 바람  NE -1.0      없음   \n",
       "\n",
       "             timestamp  W1 W2  \n",
       "0  2019-12-29 00:00:00   1  1  \n",
       "\n",
       "[1 rows x 23 columns]"
      ]
     },
     "execution_count": 4,
     "metadata": {},
     "output_type": "execute_result"
    }
   ],
   "source": [
    "scaler_data.head(1)"
   ]
  },
  {
   "cell_type": "markdown",
   "id": "25022bf9-a392-4fdd-821c-d17ced72b074",
   "metadata": {},
   "source": [
    "그 외의 nan => fillna(0)"
   ]
  },
  {
   "cell_type": "code",
   "execution_count": null,
   "id": "47502d3f-1810-4061-8394-357c2ec424e0",
   "metadata": {},
   "outputs": [],
   "source": [
    "# 기상청 api의 nan값 존재시 근처의 +-3 시간대가 존재한다면 선형회귀로로\n",
    "# ex) 10 20 30 nan 50 60 70\n",
    "data = np.array(predict_array).reshape(-1, 1)\n",
    "model = LinearRegression()\n",
    "x_train = np.where(~np.isnan(data))[0].reshape(-1, 1) #행렬로 변환\n",
    "y_train = data[~np.isnan(data)].reshape(-1, 1)\n",
    "model.fit(x_train, y_train)\n",
    "X_pred = np.where(np.isnan(data))[0].reshape(-1, 1)\n",
    "y_pred = model.predict(X_pred)\n",
    "joblib.dump(model, 'linear_regression_model.joblib')\n",
    "print(\"예측 결과:\", y_pred.flatten()) #2차원 배열 1차원으로 "
   ]
  },
  {
   "cell_type": "markdown",
   "id": "bd1d9046-5d81-4900-a78c-5005946ed28a",
   "metadata": {},
   "source": [
    "나머지 nan 값은 5개와 68개 식으로 전체 개수에 비해 미미했으므로 drop"
   ]
  },
  {
   "cell_type": "code",
   "execution_count": null,
   "id": "e3799d1f-cd7d-420e-8ec9-3326891c6f32",
   "metadata": {},
   "outputs": [],
   "source": [
    "wd_direction = {\"20\": \"NNE\",\n",
    "\"50\": \"NE\",\n",
    "\"70\": \"ENE\",\n",
    "\"90\": \"E\",\n",
    "\"110\": \"ESE\",\n",
    "\"140\": \"SE\",\n",
    "\"160\": \"SSE\",\n",
    "\"180\": \"S\",\n",
    "\"200\": \"SSW\",\n",
    "\"230\": \"SW\",\n",
    "\"250\": \"WSW\" ,\n",
    "\"270\": \"W\",\n",
    "\"290\": \"WNW\",\n",
    "\"320\": \"NW\",\n",
    "\"340\": \"NNW\",\n",
    "\"360\": \"N\"}"
   ]
  },
  {
   "cell_type": "code",
   "execution_count": null,
   "id": "5468fcb1-b3fa-4c0e-b601-f1a8c66cb28b",
   "metadata": {},
   "outputs": [],
   "source": [
    "기상청 데이터를 2018년부터 받아왔으나 naver 과거날씨를 받아오는 과정에서 naver는 과거날씨를 하루전체를 통일되게 보여주므로\n",
    "2020년 기록부터 있었으므로 2019.12.29~ 2024.05.23 11:00 까지 데이터 join\n",
    "24개의 시간대가 하루이므로 => 일단은 전체를 wetrTxt를 넣어놓은 다음"
   ]
  },
  {
   "cell_type": "code",
   "execution_count": 6,
   "id": "1d6d3093-8af7-4813-82e5-236140c0205a",
   "metadata": {},
   "outputs": [
    {
     "data": {
      "text/html": [
       "<div>\n",
       "<style scoped>\n",
       "    .dataframe tbody tr th:only-of-type {\n",
       "        vertical-align: middle;\n",
       "    }\n",
       "\n",
       "    .dataframe tbody tr th {\n",
       "        vertical-align: top;\n",
       "    }\n",
       "\n",
       "    .dataframe thead th {\n",
       "        text-align: right;\n",
       "    }\n",
       "</style>\n",
       "<table border=\"1\" class=\"dataframe\">\n",
       "  <thead>\n",
       "    <tr style=\"text-align: right;\">\n",
       "      <th></th>\n",
       "      <th>aplYmd</th>\n",
       "      <th>lareaNm</th>\n",
       "      <th>mareaNm</th>\n",
       "      <th>wetrCd</th>\n",
       "      <th>wetrTxt</th>\n",
       "    </tr>\n",
       "  </thead>\n",
       "  <tbody>\n",
       "    <tr>\n",
       "      <th>0</th>\n",
       "      <td>20191229.0</td>\n",
       "      <td>서울특별시</td>\n",
       "      <td>종로구</td>\n",
       "      <td>9.0</td>\n",
       "      <td>흐림/비</td>\n",
       "    </tr>\n",
       "  </tbody>\n",
       "</table>\n",
       "</div>"
      ],
      "text/plain": [
       "       aplYmd lareaNm mareaNm  wetrCd wetrTxt\n",
       "0  20191229.0   서울특별시     종로구     9.0    흐림/비"
      ]
     },
     "execution_count": 6,
     "metadata": {},
     "output_type": "execute_result"
    }
   ],
   "source": [
    "naver_data.head(1)"
   ]
  },
  {
   "cell_type": "code",
   "execution_count": 7,
   "id": "82da38f0-28bd-4e4e-aaf4-4cb7dc3c6a1b",
   "metadata": {},
   "outputs": [
    {
     "data": {
      "text/html": [
       "<div>\n",
       "<style scoped>\n",
       "    .dataframe tbody tr th:only-of-type {\n",
       "        vertical-align: middle;\n",
       "    }\n",
       "\n",
       "    .dataframe tbody tr th {\n",
       "        vertical-align: top;\n",
       "    }\n",
       "\n",
       "    .dataframe thead th {\n",
       "        text-align: right;\n",
       "    }\n",
       "</style>\n",
       "<table border=\"1\" class=\"dataframe\">\n",
       "  <thead>\n",
       "    <tr style=\"text-align: right;\">\n",
       "      <th></th>\n",
       "      <th>Unnamed: 0</th>\n",
       "      <th>날짜</th>\n",
       "      <th>기온</th>\n",
       "      <th>강수량</th>\n",
       "      <th>풍속_num</th>\n",
       "      <th>풍향_num</th>\n",
       "      <th>습도</th>\n",
       "      <th>현지기압</th>\n",
       "      <th>전운량</th>\n",
       "      <th>aplYmd</th>\n",
       "      <th>...</th>\n",
       "      <th>현상번호_split</th>\n",
       "      <th>weather_1</th>\n",
       "      <th>weather_2</th>\n",
       "      <th>풍속</th>\n",
       "      <th>풍향</th>\n",
       "      <th>일조량</th>\n",
       "      <th>시간당 강수량</th>\n",
       "      <th>timestamp</th>\n",
       "      <th>W1</th>\n",
       "      <th>W2</th>\n",
       "    </tr>\n",
       "  </thead>\n",
       "  <tbody>\n",
       "    <tr>\n",
       "      <th>0</th>\n",
       "      <td>0</td>\n",
       "      <td>2019-12-29 00:00</td>\n",
       "      <td>1.4</td>\n",
       "      <td>0.0</td>\n",
       "      <td>1.8</td>\n",
       "      <td>50.0</td>\n",
       "      <td>57</td>\n",
       "      <td>1018.2</td>\n",
       "      <td>3.0</td>\n",
       "      <td>20191229</td>\n",
       "      <td>...</td>\n",
       "      <td>['92', '01']</td>\n",
       "      <td>맑음</td>\n",
       "      <td>둘다아님</td>\n",
       "      <td>약한 강한 바람</td>\n",
       "      <td>NE</td>\n",
       "      <td>-1.0</td>\n",
       "      <td>없음</td>\n",
       "      <td>2019-12-29 00:00:00</td>\n",
       "      <td>1</td>\n",
       "      <td>1</td>\n",
       "    </tr>\n",
       "  </tbody>\n",
       "</table>\n",
       "<p>1 rows × 23 columns</p>\n",
       "</div>"
      ],
      "text/plain": [
       "   Unnamed: 0                날짜   기온  강수량  풍속_num  풍향_num  습도    현지기압  전운량  \\\n",
       "0           0  2019-12-29 00:00  1.4  0.0     1.8    50.0  57  1018.2  3.0   \n",
       "\n",
       "     aplYmd  ...    현상번호_split weather_1 weather_2        풍속  풍향  일조량 시간당 강수량  \\\n",
       "0  20191229  ...  ['92', '01']        맑음      둘다아님  약한 강한 바람  NE -1.0      없음   \n",
       "\n",
       "             timestamp  W1 W2  \n",
       "0  2019-12-29 00:00:00   1  1  \n",
       "\n",
       "[1 rows x 23 columns]"
      ]
     },
     "execution_count": 7,
     "metadata": {},
     "output_type": "execute_result"
    }
   ],
   "source": [
    "scaler_data.head(1)"
   ]
  },
  {
   "cell_type": "code",
   "execution_count": null,
   "id": "6c422995-4fd8-4f4d-ab73-3d6fc0c86be7",
   "metadata": {},
   "outputs": [],
   "source": [
    "과거의 날씨는 그 날 하루의 평균 기상 상태가 나오므로 기상청에서 받아온 데이터와 join 시킬때\n",
    "아래의 문서를 보면서 기압과 강수량, 기온을 보고 시간대에 많는 weather_1과 weather_2만듬\n",
    "그렇게 해서 각 시간대별로 맑음,흐림,구름많음 비,눈,둘다안옴 판단"
   ]
  },
  {
   "cell_type": "code",
   "execution_count": null,
   "id": "572effc9-f084-4067-b219-2cec0ff981a5",
   "metadata": {},
   "outputs": [],
   "source": [
    "for i in range(len(df)):\n",
    "    if \"05\" in df.loc[i, \"new_list\"]: #그 시간대에 일별데이터에 눈이 포함되어있고\n",
    "        if df.loc[i,\"rn\"] > 0 :\n",
    "            df.loc[i,\"weather_2\"] = \"눈\"\n",
    "        "
   ]
  },
  {
   "cell_type": "markdown",
   "id": "50c3cae7-a0a4-4288-a555-245b57d71f0f",
   "metadata": {},
   "source": [
    "기상청 api의 문서를 보고 \n",
    "https://www.weather.go.kr/w/community/knowledge/fct-term-exp.do\n",
    "맑음, 구름많음, 흐림 구분\n",
    "풍향 구분\n",
    "풍속 구분"
   ]
  },
  {
   "cell_type": "code",
   "execution_count": null,
   "id": "f315d2e1-ff19-4e05-9883-b433b6b21648",
   "metadata": {},
   "outputs": [],
   "source": [
    "# 저 위의 weather_1과 weather_2 기준으로 라벨인코딩\n",
    "df.reset_index(drop=True,inplace=True)\n",
    "# weather_1에 라벨인코딩\n",
    "encoder = LabelEncoder()\n",
    "encoder.fit(df[\"weather_1\"])\n",
    "encoded_data = encoder.transform(df[\"weather_1\"])\n",
    "# # weather_2에 라벨인코딩\n",
    "encoder1 = LabelEncoder()\n",
    "encoder1.fit(df[\"weather_2\"])\n",
    "encoded_data1 = encoder1.transform(df[\"weather_2\"])\n",
    "# data_Frame으로 변환\n",
    "encoded_data_df = pd.DataFrame(encoded_data,columns=['W1'])\n",
    "# data_Frame으로 변환\n",
    "encoded_data_df1 = pd.DataFrame(encoded_data1,columns=['W2'])"
   ]
  },
  {
   "cell_type": "code",
   "execution_count": null,
   "id": "b0df3e20-9223-49de-b8aa-b4b00d29ab54",
   "metadata": {},
   "outputs": [],
   "source": [
    "input_features = ['기온', '강수량', '풍속_num', '풍향_num','습도','현지기압','전운량','W1','W2']\n",
    "output_features = ['기온', '강수량', '풍속_num', '풍향_num','습도','현지기압','전운량','W1','W2']"
   ]
  },
  {
   "cell_type": "code",
   "execution_count": null,
   "id": "d66ccff4-be66-4dd5-9323-feacf402576f",
   "metadata": {},
   "outputs": [],
   "source": [
    "scalers = {}\n",
    "for feature in input_features:\n",
    "    scaler = MinMaxScaler()\n",
    "    df[feature] = scaler.fit_transform(df[[feature]])\n",
    "    scalers[feature] = scaler\n",
    "# 내가 보고싶은 시간대 마지막 데이터가 2023-05-23 11:00 시이므로 1시간간격으로\n",
    "FUTURE_TARGET = 48 "
   ]
  },
  {
   "cell_type": "code",
   "execution_count": null,
   "id": "fc0ccf5c-ea7b-4fa2-bf4c-69ba17f5c3fc",
   "metadata": {},
   "outputs": [],
   "source": [
    "# 시계열 데이터이므로 sequnece_length를 720으로 잡음\n",
    "for i in tqdm(range(len(df) - sequence_length)):\n",
    "    # 각 변수에 해당하는 데이터를 스케일링하여 저장\n",
    "    scaled_features = []\n",
    "    for feature in input_features:\n",
    "        # 그 feature에 관한 값을 시퀀스길이만큼 스케일러로 변환\n",
    "        scaled_feature = scalers[feature].transform(df[[feature]].iloc[i:i+sequence_length])\n",
    "        scaled_features.append(scaled_feature)\n",
    "    # 각 변수를 열로 가지는 2차원 배열로 변환하여 X에 추가\n",
    "    X1.append(np.concatenate(scaled_features, axis=1))\n",
    "    # 출력 변수는 스케일링할 필요가 없으므로 그대로 추가\n",
    "    # i+sequence_length를 해서 720시간 뒤의 y값을 저장\n",
    "    Y1.append(df[output_features].iloc[i+sequence_length])\n",
    "X2 = np.array(X1)\n",
    "Y2 = np.array(Y1)\n"
   ]
  },
  {
   "cell_type": "code",
   "execution_count": null,
   "id": "9fda0b94-037a-4a97-a002-85817ad5b212",
   "metadata": {},
   "outputs": [],
   "source": [
    "model_2_1_2_2 에 shape있음"
   ]
  },
  {
   "cell_type": "markdown",
   "id": "cc290782-b423-4297-a1aa-96383265aa70",
   "metadata": {},
   "source": [
    "X2와 Y2를 먼저 8대 2로 TRAIN,TEST로 나누고 TRAIN에서 또 8:2로 TRAIN,VALID 나눔"
   ]
  },
  {
   "cell_type": "code",
   "execution_count": null,
   "id": "e3a63621-7450-41bc-8747-44524bbfaacc",
   "metadata": {},
   "outputs": [],
   "source": [
    "# LSTM 모델 구성\n",
    "# 100,50은 뉴런의 수 조절해야하는 파라미터 과적합 조심!\n",
    "model = tf.keras.models.Sequential([\n",
    "    tf.keras.layers.LSTM(100, return_sequences=True, input_shape=(x_train.shape[1], x_train.shape[2])),\n",
    "    tf.keras.layers.Dropout(0.2),\n",
    "    tf.keras.layers.LSTM(50,return_sequences=True),\n",
    "    tf.keras.layers.Dropout(0.2),\n",
    "    tf.keras.layers.Dense(len(output_features))\n",
    "])"
   ]
  },
  {
   "cell_type": "code",
   "execution_count": null,
   "id": "e7767ac7-17f0-40ba-934f-d076a082dda4",
   "metadata": {},
   "outputs": [],
   "source": [
    "model.compile(loss='mse', optimizer='adam')"
   ]
  },
  {
   "cell_type": "code",
   "execution_count": null,
   "id": "84a8bef6-f520-46ff-83ce-3dbc66c018d7",
   "metadata": {},
   "outputs": [],
   "source": [
    "# 모델 성능이 개선되지 않을때 대비\n",
    "early_stopping_callback = tf.keras.callbacks.EarlyStopping(\n",
    "    monitor='val_loss',  \n",
    "    patience=20,        \n",
    "    restore_best_weights=True  \n",
    ")"
   ]
  },
  {
   "cell_type": "code",
   "execution_count": null,
   "id": "3e9a9afc-ac69-4999-8475-8f9e690e84d4",
   "metadata": {},
   "outputs": [],
   "source": [
    "# 모델 학습\n",
    "history = model.fit(\n",
    "    x_train, y_train,\n",
    "    epochs=5,\n",
    "    batch_size=32,\n",
    "    validation_data=(x_val, y_val),\n",
    "    callbacks=[early_stopping_callback]  \n",
    ")"
   ]
  },
  {
   "cell_type": "code",
   "execution_count": null,
   "id": "243d686b-91dd-4bf2-968f-7fc61256db5f",
   "metadata": {},
   "outputs": [],
   "source": [
    "y_pred = model.predict(x_test)\n",
    "y_pred_class = np.argmax(y_pred, axis=1)\n",
    "# 정확도 계산\n",
    "accuracy = accuracy_score(np.argmax(y_test, axis=1), y_pred_class)\n",
    "print(\"Accuracy:\", accuracy)\n",
    "# 0.48"
   ]
  },
  {
   "cell_type": "markdown",
   "id": "42becca4-b748-44f2-a191-9e174137487d",
   "metadata": {},
   "source": [
    "gradio(2) 파일 2번째 셀\n",
    "gradio 실행시켜서 사이트열기"
   ]
  },
  {
   "cell_type": "code",
   "execution_count": null,
   "id": "25d79fce-d9f5-4afb-8752-4531f7e585a3",
   "metadata": {},
   "outputs": [],
   "source": [
    "모델 입출력변수 통일? 각변수 각각 스케일러? epoch 5? 더 복잡한 모델 층? , 입력변수들의 상관관계 가중치를 넣으면 더 좋지않았을까"
   ]
  },
  {
   "cell_type": "code",
   "execution_count": null,
   "id": "f5f3d7c7-9b89-4e22-8f4a-7150462a887a",
   "metadata": {},
   "outputs": [],
   "source": []
  }
 ],
 "metadata": {
  "kernelspec": {
   "display_name": "Python 3 (ipykernel)",
   "language": "python",
   "name": "python3"
  },
  "language_info": {
   "codemirror_mode": {
    "name": "ipython",
    "version": 3
   },
   "file_extension": ".py",
   "mimetype": "text/x-python",
   "name": "python",
   "nbconvert_exporter": "python",
   "pygments_lexer": "ipython3",
   "version": "3.10.13"
  }
 },
 "nbformat": 4,
 "nbformat_minor": 5
}
