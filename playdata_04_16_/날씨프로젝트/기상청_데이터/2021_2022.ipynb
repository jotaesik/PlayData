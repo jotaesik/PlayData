{
 "cells": [
  {
   "cell_type": "code",
   "execution_count": 1,
   "id": "35bc83ed-6485-41a8-8513-3d401273b7ac",
   "metadata": {},
   "outputs": [],
   "source": [
    "import requests\n",
    "from bs4 import BeautifulSoup as bs\n",
    "from datetime import datetime\n",
    "import pandas as pd\n",
    "from datetime import datetime, timedelta\n",
    "import pandas as pd\n",
    "from tqdm import tqdm\n",
    "start_date=\"20210101\"\n",
    "end_date = \"20230101\"\n",
    "# 시작 날짜와 끝 날짜를 datetime 객체로 변환\n",
    "start_datetime = datetime.strptime(start_date, \"%Y%m%d\")\n",
    "end_datetime = datetime.strptime(end_date, \"%Y%m%d\")\n",
    "# 시작 날짜부터 끝 날짜까지의 모든 날짜를 리스트로 만들기\n",
    "date_list = []\n",
    "current_datetime = start_datetime\n",
    "while current_datetime <= end_datetime:\n",
    "    date_list.append(current_datetime.strftime(\"%Y%m%d\"))\n",
    "    current_datetime += timedelta(days=1)"
   ]
  },
  {
   "cell_type": "code",
   "execution_count": 4,
   "id": "abc14fff-d5bc-4bb3-89f4-29e96b8cc753",
   "metadata": {},
   "outputs": [],
   "source": [
    "# date_list"
   ]
  },
  {
   "cell_type": "code",
   "execution_count": 2,
   "id": "647246e8-0fc5-4fdb-a7db-6954c3a1ca58",
   "metadata": {},
   "outputs": [],
   "source": [
    "all_df = pd.DataFrame()"
   ]
  },
  {
   "cell_type": "code",
   "execution_count": null,
   "id": "22b906fd-0fed-4763-a059-9908ec5c0270",
   "metadata": {},
   "outputs": [],
   "source": []
  },
  {
   "cell_type": "code",
   "execution_count": null,
   "id": "a27f2a45-6a19-4c39-85a6-abf8732c9fd4",
   "metadata": {},
   "outputs": [
    {
     "name": "stderr",
     "output_type": "stream",
     "text": [
      "  1%|          | 5/731 [00:17<36:06,  2.98s/it]  "
     ]
    }
   ],
   "source": [
    "df_list=[]\n",
    "for i in tqdm(range(len(date_list))):\n",
    "    start_date=date_list[i]\n",
    "    url = \"\"\n",
    "    try:\n",
    "        res = requests.get(url)\n",
    "        temp = res.json()\n",
    "        df = pd.DataFrame(temp[\"response\"][\"body\"][\"items\"][\"item\"])\n",
    "        df_list.append(df)\n",
    "    except:\n",
    "        print(i)\n",
    "    "
   ]
  },
  {
   "cell_type": "code",
   "execution_count": null,
   "id": "6185f6ec-0d95-4eeb-8deb-59a06bf75936",
   "metadata": {},
   "outputs": [],
   "source": []
  },
  {
   "cell_type": "code",
   "execution_count": 18,
   "id": "33189c67-b783-4acf-88f8-36516d18cb3b",
   "metadata": {},
   "outputs": [
    {
     "data": {
      "text/plain": [
       "(3432, 38)"
      ]
     },
     "execution_count": 18,
     "metadata": {},
     "output_type": "execute_result"
    }
   ],
   "source": [
    "all_df.shape"
   ]
  },
  {
   "cell_type": "markdown",
   "id": "677afbc6-b3a5-4796-b1d4-1828c9e9e084",
   "metadata": {},
   "source": [
    "2024-01-31 데이터가 빠졌으므로 넣자"
   ]
  },
  {
   "cell_type": "code",
   "execution_count": 19,
   "id": "71b3b5e3-292b-4b52-b8e0-425a855875d3",
   "metadata": {},
   "outputs": [
    {
     "data": {
      "text/plain": [
       "'20240131'"
      ]
     },
     "execution_count": 19,
     "metadata": {},
     "output_type": "execute_result"
    }
   ],
   "source": [
    "date_list[30]"
   ]
  },
  {
   "cell_type": "code",
   "execution_count": 20,
   "id": "6144929d-6f0d-4667-ab8c-91a14a165649",
   "metadata": {},
   "outputs": [],
   "source": [
    "start_date=\"20240131\"\n",
    "url = \"\"\n",
    "#2022.01.01 00:00 ~ 2023.12.31 23:59:59\n",
    "res = requests.get(url)\n",
    "temp=res.json()"
   ]
  },
  {
   "cell_type": "code",
   "execution_count": 24,
   "id": "3fe2288a-a47c-4135-9eb6-d060f3c91c5f",
   "metadata": {},
   "outputs": [],
   "source": [
    "len(temp[\"response\"][\"body\"][\"items\"][\"item\"])\n",
    "add_temp_df = pd.DataFrame(temp[\"response\"][\"body\"][\"items\"][\"item\"])"
   ]
  },
  {
   "cell_type": "code",
   "execution_count": 25,
   "id": "6bd1baa0-1ddd-40b5-9925-c4b0d842cfc8",
   "metadata": {},
   "outputs": [],
   "source": [
    "add_all_df = pd.concat([all_df,add_temp_df])"
   ]
  },
  {
   "cell_type": "code",
   "execution_count": 26,
   "id": "e5deb0c1-f842-4232-b974-77bb24c09b74",
   "metadata": {},
   "outputs": [
    {
     "data": {
      "text/plain": [
       "(3456, 38)"
      ]
     },
     "execution_count": 26,
     "metadata": {},
     "output_type": "execute_result"
    }
   ],
   "source": [
    "add_all_df.shape"
   ]
  },
  {
   "cell_type": "code",
   "execution_count": 27,
   "id": "c75b2cd1-59c9-4472-9ae0-f03ee3d3e394",
   "metadata": {},
   "outputs": [],
   "source": [
    "add_all_df.to_csv('2024.csv', index=False, encoding='utf-8-sig')"
   ]
  }
 ],
 "metadata": {
  "kernelspec": {
   "display_name": "Python 3 (ipykernel)",
   "language": "python",
   "name": "python3"
  },
  "language_info": {
   "codemirror_mode": {
    "name": "ipython",
    "version": 3
   },
   "file_extension": ".py",
   "mimetype": "text/x-python",
   "name": "python",
   "nbconvert_exporter": "python",
   "pygments_lexer": "ipython3",
   "version": "3.10.13"
  }
 },
 "nbformat": 4,
 "nbformat_minor": 5
}
