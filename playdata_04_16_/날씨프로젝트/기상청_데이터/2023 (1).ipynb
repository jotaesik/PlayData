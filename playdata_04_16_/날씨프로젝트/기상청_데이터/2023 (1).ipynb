{
 "cells": [
  {
   "cell_type": "code",
   "execution_count": 34,
   "id": "6588abb0-3176-45dc-8e3a-dd1a2b8f409b",
   "metadata": {},
   "outputs": [
    {
     "name": "stdout",
     "output_type": "stream",
     "text": [
      "Requirement already satisfied: pyOpenSSL in /home/encore/miniconda3/lib/python3.10/site-packages (24.0.0)\n",
      "Requirement already satisfied: cryptography<43,>=41.0.5 in /home/encore/miniconda3/lib/python3.10/site-packages (from pyOpenSSL) (42.0.2)\n",
      "Requirement already satisfied: cffi>=1.12 in /home/encore/miniconda3/lib/python3.10/site-packages (from cryptography<43,>=41.0.5->pyOpenSSL) (1.16.0)\n",
      "Requirement already satisfied: pycparser in /home/encore/miniconda3/lib/python3.10/site-packages (from cffi>=1.12->cryptography<43,>=41.0.5->pyOpenSSL) (2.21)\n",
      "Note: you may need to restart the kernel to use updated packages.\n"
     ]
    }
   ],
   "source": [
    "pip install pyOpenSSL"
   ]
  },
  {
   "cell_type": "code",
   "execution_count": 20,
   "id": "35bc83ed-6485-41a8-8513-3d401273b7ac",
   "metadata": {},
   "outputs": [],
   "source": [
    "import requests\n",
    "from bs4 import BeautifulSoup as bs\n",
    "from datetime import datetime\n",
    "import pandas as pd\n",
    "# tm=\"2022.01.01 00:00\"\n",
    "start_date=\"20230101\"\n",
    "url = \"\"\n",
    "#2022.01.01 00:00 ~ 2023.12.31 23:59:59\n",
    "res = requests.get(url)\n",
    "temp=res.json()\n",
    "# res.json()"
   ]
  },
  {
   "cell_type": "code",
   "execution_count": 39,
   "id": "eb03058c-9e6a-4fc1-98b7-8a8d463cccba",
   "metadata": {},
   "outputs": [],
   "source": [
    "# temp"
   ]
  },
  {
   "cell_type": "code",
   "execution_count": 22,
   "id": "54cb8c68-95a7-470f-84d4-2273cde3a72e",
   "metadata": {},
   "outputs": [],
   "source": [
    "from datetime import datetime, timedelta\n",
    "\n",
    "start_date = \"20230101\"\n",
    "end_date = \"20231231\"\n",
    "\n",
    "# 시작 날짜와 끝 날짜를 datetime 객체로 변환\n",
    "start_datetime = datetime.strptime(start_date, \"%Y%m%d\")\n",
    "end_datetime = datetime.strptime(end_date, \"%Y%m%d\")\n",
    "\n",
    "# 시작 날짜부터 끝 날짜까지의 모든 날짜를 리스트로 만들기\n",
    "date_list = []\n",
    "current_datetime = start_datetime\n",
    "while current_datetime <= end_datetime:\n",
    "    date_list.append(current_datetime.strftime(\"%Y%m%d\"))\n",
    "    current_datetime += timedelta(days=1)\n"
   ]
  },
  {
   "cell_type": "code",
   "execution_count": 31,
   "id": "abc14fff-d5bc-4bb3-89f4-29e96b8cc753",
   "metadata": {},
   "outputs": [],
   "source": [
    "# date_list"
   ]
  },
  {
   "cell_type": "code",
   "execution_count": 32,
   "id": "317549de-3cdf-4432-bc9f-eee3aeab0e1d",
   "metadata": {},
   "outputs": [],
   "source": [
    "# temp"
   ]
  },
  {
   "cell_type": "code",
   "execution_count": 33,
   "id": "8d1776d1-d1c7-400d-b971-43827f49108f",
   "metadata": {},
   "outputs": [],
   "source": [
    "# temp[\"response\"][\"body\"][\"items\"][\"item\"] #len가 24개"
   ]
  },
  {
   "cell_type": "code",
   "execution_count": 26,
   "id": "09ed06aa-9bb7-4932-a89a-b93e53dd02eb",
   "metadata": {},
   "outputs": [],
   "source": [
    "import pandas as pd\n",
    "from tqdm import tqdm"
   ]
  },
  {
   "cell_type": "code",
   "execution_count": 34,
   "id": "4e1033a3-9d28-44df-8bc0-083f9a409dc6",
   "metadata": {},
   "outputs": [],
   "source": [
    "# date_list[177]"
   ]
  },
  {
   "cell_type": "code",
   "execution_count": 28,
   "id": "647246e8-0fc5-4fdb-a7db-6954c3a1ca58",
   "metadata": {},
   "outputs": [],
   "source": [
    "all_df = pd.DataFrame()"
   ]
  },
  {
   "cell_type": "code",
   "execution_count": 29,
   "id": "b93478ec-cded-4032-b1ba-b8464b195c99",
   "metadata": {},
   "outputs": [],
   "source": [
    "\n",
    "# for i in tqdm(range(len(date_list))):\n",
    "#     start_date=date_list[i]\n",
    "#     url = \"\"\n",
    "#     print(url)"
   ]
  },
  {
   "cell_type": "code",
   "execution_count": 30,
   "id": "a27f2a45-6a19-4c39-85a6-abf8732c9fd4",
   "metadata": {},
   "outputs": [
    {
     "name": "stderr",
     "output_type": "stream",
     "text": [
      "100%|██████████| 365/365 [05:57<00:00,  1.02it/s]\n"
     ]
    }
   ],
   "source": [
    "for i in tqdm(range(len(date_list))):\n",
    "    start_date=date_list[i]\n",
    "    url = \"\"\n",
    "        res = requests.get(url)\n",
    "        temp = res.json()\n",
    "        df = pd.DataFrame(temp[\"response\"][\"body\"][\"items\"][\"item\"])\n",
    "        all_df = pd.concat([all_df,df])\n",
    "    except:\n",
    "        print(i)\n",
    "    "
   ]
  },
  {
   "cell_type": "code",
   "execution_count": 36,
   "id": "ba77ea33-0417-4bde-9f38-224902451b80",
   "metadata": {},
   "outputs": [],
   "source": [
    "# all_df \n",
    "# 2023-01-01 01:00 ~ 2023-12-31 01:00\n"
   ]
  },
  {
   "cell_type": "markdown",
   "id": "035c16fc-20e3-4211-9e77-43014a216f08",
   "metadata": {},
   "source": [
    "2023-01-01 00:00\n",
    "2023-12-31 02:00 ~ 2023-12-31 23:00 필요"
   ]
  },
  {
   "cell_type": "code",
   "execution_count": 125,
   "id": "75ddab7c-b7f9-4675-be64-162226d0a598",
   "metadata": {},
   "outputs": [],
   "source": [
    "add_start_date=\"20230101\"\n",
    "add_url = \"\"\n",
    "add_res = requests.get(add_url)\n",
    "add_temp=add_res.json()\n",
    "# res.json()"
   ]
  },
  {
   "cell_type": "code",
   "execution_count": 86,
   "id": "d0dacbe0-3532-42bd-83f3-63c419fecae2",
   "metadata": {},
   "outputs": [
    {
     "data": {
      "text/plain": [
       "(8737, 38)"
      ]
     },
     "execution_count": 86,
     "metadata": {},
     "output_type": "execute_result"
    }
   ],
   "source": [
    "all_df.shape #추가하기전 data"
   ]
  },
  {
   "cell_type": "code",
   "execution_count": 127,
   "id": "ae41c741-bf96-4837-9a5f-d9350f0ff6bd",
   "metadata": {},
   "outputs": [],
   "source": [
    "import csv\n",
    "import pandas as pd\n",
    "all_df = pd.read_csv('2023.csv')"
   ]
  },
  {
   "cell_type": "code",
   "execution_count": null,
   "id": "daf2c679-2f63-419b-aee0-b10c81422b0a",
   "metadata": {},
   "outputs": [],
   "source": []
  },
  {
   "cell_type": "code",
   "execution_count": 128,
   "id": "15bf1f30-0e99-462d-8e09-9d9187a28101",
   "metadata": {},
   "outputs": [],
   "source": [
    "add_temp[\"response\"][\"body\"][\"items\"][\"item\"]\n",
    "add_temp_df = pd.DataFrame(add_temp[\"response\"][\"body\"][\"items\"][\"item\"])\n",
    "add_all_df = pd.DataFrame()"
   ]
  },
  {
   "cell_type": "code",
   "execution_count": 129,
   "id": "60311dcd-f03d-441c-a925-91fd509508a6",
   "metadata": {},
   "outputs": [],
   "source": [
    "add_all_df = pd.concat([all_df,add_temp_df])"
   ]
  },
  {
   "cell_type": "code",
   "execution_count": 99,
   "id": "6ec9e2f1-f503-4628-a176-1653c19ad759",
   "metadata": {},
   "outputs": [
    {
     "data": {
      "text/plain": [
       "(8738, 38)"
      ]
     },
     "execution_count": 99,
     "metadata": {},
     "output_type": "execute_result"
    }
   ],
   "source": [
    "add_all_df.shape"
   ]
  },
  {
   "cell_type": "code",
   "execution_count": 77,
   "id": "cbc75929-39ed-4bd6-9c94-2a1fb3f60958",
   "metadata": {},
   "outputs": [],
   "source": [
    "# add_all_df[add_all_df.tm==\"2023-01-01 01:00\"]"
   ]
  },
  {
   "cell_type": "code",
   "execution_count": 130,
   "id": "1a412c80-51bb-4d50-b37e-d6fef0365cd8",
   "metadata": {},
   "outputs": [
    {
     "name": "stdout",
     "output_type": "stream",
     "text": [
      "0     2023-01-01 00:00\n",
      "1     2023-01-01 01:00\n",
      "2     2023-01-01 02:00\n",
      "3     2023-01-01 03:00\n",
      "4     2023-01-01 04:00\n",
      "5     2023-01-01 05:00\n",
      "6     2023-01-01 06:00\n",
      "7     2023-01-01 07:00\n",
      "8     2023-01-01 08:00\n",
      "9     2023-01-01 09:00\n",
      "10    2023-01-01 10:00\n",
      "11    2023-01-01 11:00\n",
      "12    2023-01-01 12:00\n",
      "13    2023-01-01 13:00\n",
      "14    2023-01-01 14:00\n",
      "15    2023-01-01 15:00\n",
      "16    2023-01-01 16:00\n",
      "17    2023-01-01 17:00\n",
      "18    2023-01-01 18:00\n",
      "19    2023-01-01 19:00\n",
      "20    2023-01-01 20:00\n",
      "21    2023-01-01 21:00\n",
      "22    2023-01-01 22:00\n",
      "23    2023-01-01 23:00\n",
      "0     2023-01-01 00:00\n",
      "1     2023-01-01 01:00\n",
      "2     2023-01-01 02:00\n",
      "3     2023-01-01 03:00\n",
      "4     2023-01-01 04:00\n",
      "5     2023-01-01 05:00\n",
      "6     2023-01-01 06:00\n",
      "7     2023-01-01 07:00\n",
      "8     2023-01-01 08:00\n",
      "9     2023-01-01 09:00\n",
      "10    2023-01-01 10:00\n",
      "11    2023-01-01 11:00\n",
      "12    2023-01-01 12:00\n",
      "13    2023-01-01 13:00\n",
      "14    2023-01-01 14:00\n",
      "15    2023-01-01 15:00\n",
      "16    2023-01-01 16:00\n",
      "17    2023-01-01 17:00\n",
      "18    2023-01-01 18:00\n",
      "19    2023-01-01 19:00\n",
      "20    2023-01-01 20:00\n",
      "21    2023-01-01 21:00\n",
      "22    2023-01-01 22:00\n",
      "23    2023-01-01 23:00\n",
      "Name: tm, dtype: object\n"
     ]
    }
   ],
   "source": [
    "# 중복된 tm값 제거\n",
    "print(add_all_df[add_all_df.duplicated(subset=['tm'], keep=False)][\"tm\"])"
   ]
  },
  {
   "cell_type": "code",
   "execution_count": 90,
   "id": "01cf0465-ffd4-44ed-b773-05fbd00779db",
   "metadata": {},
   "outputs": [],
   "source": [
    "add_all_df.drop_duplicates(subset=['tm'], keep='first', inplace=True) "
   ]
  },
  {
   "cell_type": "code",
   "execution_count": 91,
   "id": "9a9faf59-08ea-4bc9-85bd-aefaba3c9e60",
   "metadata": {},
   "outputs": [
    {
     "data": {
      "text/html": [
       "<div>\n",
       "<style scoped>\n",
       "    .dataframe tbody tr th:only-of-type {\n",
       "        vertical-align: middle;\n",
       "    }\n",
       "\n",
       "    .dataframe tbody tr th {\n",
       "        vertical-align: top;\n",
       "    }\n",
       "\n",
       "    .dataframe thead th {\n",
       "        text-align: right;\n",
       "    }\n",
       "</style>\n",
       "<table border=\"1\" class=\"dataframe\">\n",
       "  <thead>\n",
       "    <tr style=\"text-align: right;\">\n",
       "      <th></th>\n",
       "      <th>tm</th>\n",
       "      <th>rnum</th>\n",
       "      <th>stnId</th>\n",
       "      <th>stnNm</th>\n",
       "      <th>ta</th>\n",
       "      <th>taQcflg</th>\n",
       "      <th>rn</th>\n",
       "      <th>rnQcflg</th>\n",
       "      <th>ws</th>\n",
       "      <th>wsQcflg</th>\n",
       "      <th>...</th>\n",
       "      <th>lcsCh</th>\n",
       "      <th>vs</th>\n",
       "      <th>gndSttCd</th>\n",
       "      <th>dmstMtphNo</th>\n",
       "      <th>ts</th>\n",
       "      <th>tsQcflg</th>\n",
       "      <th>m005Te</th>\n",
       "      <th>m01Te</th>\n",
       "      <th>m02Te</th>\n",
       "      <th>m03Te</th>\n",
       "    </tr>\n",
       "  </thead>\n",
       "  <tbody>\n",
       "    <tr>\n",
       "      <th>0</th>\n",
       "      <td>2023-01-01 01:00</td>\n",
       "      <td>1</td>\n",
       "      <td>108</td>\n",
       "      <td>서울</td>\n",
       "      <td>1.5</td>\n",
       "      <td></td>\n",
       "      <td></td>\n",
       "      <td></td>\n",
       "      <td>1.9</td>\n",
       "      <td></td>\n",
       "      <td>...</td>\n",
       "      <td>12</td>\n",
       "      <td>1104</td>\n",
       "      <td></td>\n",
       "      <td></td>\n",
       "      <td>-1.4</td>\n",
       "      <td></td>\n",
       "      <td>-0.3</td>\n",
       "      <td>-0.5</td>\n",
       "      <td>-0.5</td>\n",
       "      <td>0.6</td>\n",
       "    </tr>\n",
       "  </tbody>\n",
       "</table>\n",
       "<p>1 rows × 38 columns</p>\n",
       "</div>"
      ],
      "text/plain": [
       "                 tm rnum stnId stnNm   ta taQcflg rn rnQcflg   ws wsQcflg  \\\n",
       "0  2023-01-01 01:00    1   108    서울  1.5                     1.9           \n",
       "\n",
       "   ... lcsCh    vs gndSttCd dmstMtphNo    ts tsQcflg m005Te m01Te m02Te m03Te  \n",
       "0  ...    12  1104                      -1.4           -0.3  -0.5  -0.5   0.6  \n",
       "\n",
       "[1 rows x 38 columns]"
      ]
     },
     "execution_count": 91,
     "metadata": {},
     "output_type": "execute_result"
    }
   ],
   "source": [
    "add_all_df[add_all_df[\"tm\"]==\"2023-01-01 01:00\"]"
   ]
  },
  {
   "cell_type": "code",
   "execution_count": 92,
   "id": "9a97ee92-4dcd-4060-87e7-3a45538100ff",
   "metadata": {},
   "outputs": [
    {
     "data": {
      "text/plain": [
       "(8738, 38)"
      ]
     },
     "execution_count": 92,
     "metadata": {},
     "output_type": "execute_result"
    }
   ],
   "source": [
    "add_all_df.shape"
   ]
  },
  {
   "cell_type": "code",
   "execution_count": 106,
   "id": "4bbab000-d2ca-4973-bbcb-5e78ecb49b8c",
   "metadata": {},
   "outputs": [],
   "source": [
    "# 2023-12-31 02:00 ~ 2023-12-31 23:00 필요\n",
    "add_start_date1=\"20231231\"\n",
    "add_url1 = \"\"\n",
    "add_res1 = requests.get(add_url1)\n",
    "add_temp1=add_res1.json()\n",
    "# res.json()"
   ]
  },
  {
   "cell_type": "code",
   "execution_count": null,
   "id": "ce2cd166-8bb2-4c0d-8f9c-43c6db3c399a",
   "metadata": {},
   "outputs": [],
   "source": []
  },
  {
   "cell_type": "code",
   "execution_count": 107,
   "id": "1c3a4d0a-7232-4936-9ccc-e5670e17afb4",
   "metadata": {},
   "outputs": [],
   "source": [
    "add_temp1[\"response\"][\"body\"][\"items\"][\"item\"]\n",
    "add_temp_df1 = pd.DataFrame(add_temp1[\"response\"][\"body\"][\"items\"][\"item\"])\n",
    "add_all_df1 = pd.DataFrame()"
   ]
  },
  {
   "cell_type": "code",
   "execution_count": null,
   "id": "f95e3a37-0979-449c-9d83-3909d4710413",
   "metadata": {},
   "outputs": [],
   "source": []
  },
  {
   "cell_type": "code",
   "execution_count": 108,
   "id": "58067df9-fb34-44a9-9560-75bc052198ef",
   "metadata": {},
   "outputs": [],
   "source": [
    "add_all_df1 = pd.concat([add_all_df,add_temp_df1])"
   ]
  },
  {
   "cell_type": "code",
   "execution_count": 109,
   "id": "d324fdb1-0d09-42f5-8cfa-36e86d7b8357",
   "metadata": {},
   "outputs": [
    {
     "data": {
      "text/plain": [
       "(8761, 38)"
      ]
     },
     "execution_count": 109,
     "metadata": {},
     "output_type": "execute_result"
    }
   ],
   "source": [
    "add_all_df1.shape"
   ]
  },
  {
   "cell_type": "code",
   "execution_count": 110,
   "id": "fa3ba461-aa45-4ed0-abc2-7d3124e2be60",
   "metadata": {},
   "outputs": [],
   "source": [
    "add_all_df1.drop_duplicates(subset=['tm'], keep='first', inplace=True) "
   ]
  },
  {
   "cell_type": "code",
   "execution_count": 111,
   "id": "7155e546-0813-4b40-9a59-fe22e7f0a13a",
   "metadata": {},
   "outputs": [
    {
     "data": {
      "text/plain": [
       "(8761, 38)"
      ]
     },
     "execution_count": 111,
     "metadata": {},
     "output_type": "execute_result"
    }
   ],
   "source": [
    "add_all_df1.shape"
   ]
  },
  {
   "cell_type": "code",
   "execution_count": 113,
   "id": "1e2108c9-9568-4320-98f3-a1212ff12cee",
   "metadata": {},
   "outputs": [],
   "source": [
    "# add_all_df1"
   ]
  },
  {
   "cell_type": "code",
   "execution_count": 121,
   "id": "f9a3bf56-f207-4fad-be59-5037279cddf4",
   "metadata": {},
   "outputs": [],
   "source": [
    "df_sorted = add_all_df1.sort_values(by='tm')"
   ]
  },
  {
   "cell_type": "code",
   "execution_count": null,
   "id": "85ae1d12-07c0-42f8-a8d2-bdb35dcba8fb",
   "metadata": {},
   "outputs": [],
   "source": []
  },
  {
   "cell_type": "code",
   "execution_count": 122,
   "id": "344fe4c1-18e2-4ba3-b988-7a9c9f5034d1",
   "metadata": {},
   "outputs": [],
   "source": [
    "df_sorted.to_csv('2023.csv', index=False, encoding='utf-8-sig')"
   ]
  }
 ],
 "metadata": {
  "kernelspec": {
   "display_name": "Python 3 (ipykernel)",
   "language": "python",
   "name": "python3"
  },
  "language_info": {
   "codemirror_mode": {
    "name": "ipython",
    "version": 3
   },
   "file_extension": ".py",
   "mimetype": "text/x-python",
   "name": "python",
   "nbconvert_exporter": "python",
   "pygments_lexer": "ipython3",
   "version": "3.10.13"
  }
 },
 "nbformat": 4,
 "nbformat_minor": 5
}
