{
 "cells": [
  {
   "cell_type": "code",
   "execution_count": 7,
   "id": "35bc83ed-6485-41a8-8513-3d401273b7ac",
   "metadata": {},
   "outputs": [],
   "source": [
    "import requests\n",
    "from bs4 import BeautifulSoup as bs\n",
    "from datetime import datetime\n",
    "import pandas as pd\n",
    "from datetime import datetime, timedelta\n",
    "import pandas as pd\n",
    "from tqdm import tqdm\n",
    "\n",
    "\n",
    "start_date=\"20240101\"\n",
    "\n",
    "# res = requests.get(url)\n",
    "# temp=res.json()\n",
    "# res.json()"
   ]
  },
  {
   "cell_type": "code",
   "execution_count": 4,
   "id": "54cb8c68-95a7-470f-84d4-2273cde3a72e",
   "metadata": {},
   "outputs": [],
   "source": [
    "start_date = \"20240101\"\n",
    "end_date = \"20240523\"\n",
    "# 시작 날짜와 끝 날짜를 datetime 객체로 변환\n",
    "start_datetime = datetime.strptime(start_date, \"%Y%m%d\")\n",
    "end_datetime = datetime.strptime(end_date, \"%Y%m%d\")\n",
    "# 시작 날짜부터 끝 날짜까지의 모든 날짜를 리스트로 만들기\n",
    "date_list = []\n",
    "current_datetime = start_datetime\n",
    "while current_datetime <= end_datetime:\n",
    "    date_list.append(current_datetime.strftime(\"%Y%m%d\"))\n",
    "    current_datetime += timedelta(days=1)"
   ]
  },
  {
   "cell_type": "code",
   "execution_count": 6,
   "id": "abc14fff-d5bc-4bb3-89f4-29e96b8cc753",
   "metadata": {},
   "outputs": [],
   "source": [
    "# date_list"
   ]
  },
  {
   "cell_type": "code",
   "execution_count": 32,
   "id": "317549de-3cdf-4432-bc9f-eee3aeab0e1d",
   "metadata": {},
   "outputs": [],
   "source": [
    "# temp"
   ]
  },
  {
   "cell_type": "code",
   "execution_count": 33,
   "id": "8d1776d1-d1c7-400d-b971-43827f49108f",
   "metadata": {},
   "outputs": [],
   "source": [
    "# temp[\"response\"][\"body\"][\"items\"][\"item\"] #len가 24개"
   ]
  },
  {
   "cell_type": "code",
   "execution_count": 16,
   "id": "647246e8-0fc5-4fdb-a7db-6954c3a1ca58",
   "metadata": {},
   "outputs": [],
   "source": [
    "all_df = pd.DataFrame()"
   ]
  },
  {
   "cell_type": "code",
   "execution_count": 17,
   "id": "a27f2a45-6a19-4c39-85a6-abf8732c9fd4",
   "metadata": {},
   "outputs": [
    {
     "name": "stderr",
     "output_type": "stream",
     "text": [
      " 22%|██▏       | 31/144 [00:38<09:16,  4.93s/it]"
     ]
    },
    {
     "name": "stdout",
     "output_type": "stream",
     "text": [
      "30\n"
     ]
    },
    {
     "name": "stderr",
     "output_type": "stream",
     "text": [
      "100%|██████████| 144/144 [01:38<00:00,  1.46it/s]\n"
     ]
    }
   ],
   "source": [
    "for i in tqdm(range(len(date_list))):\n",
    "    start_date=date_list[i]\n",
    "    url = \"\"\n",
    "    try:\n",
    "        res = requests.get(url)\n",
    "        temp = res.json()\n",
    "        df = pd.DataFrame(temp[\"response\"][\"body\"][\"items\"][\"item\"])\n",
    "        all_df = pd.concat([all_df,df])\n",
    "    except:\n",
    "        print(i)\n",
    "    "
   ]
  },
  {
   "cell_type": "code",
   "execution_count": 18,
   "id": "33189c67-b783-4acf-88f8-36516d18cb3b",
   "metadata": {},
   "outputs": [
    {
     "data": {
      "text/plain": [
       "(3432, 38)"
      ]
     },
     "execution_count": 18,
     "metadata": {},
     "output_type": "execute_result"
    }
   ],
   "source": [
    "all_df.shape"
   ]
  },
  {
   "cell_type": "markdown",
   "id": "677afbc6-b3a5-4796-b1d4-1828c9e9e084",
   "metadata": {},
   "source": [
    "2024-01-31 데이터가 빠졌으므로 넣자"
   ]
  },
  {
   "cell_type": "code",
   "execution_count": 19,
   "id": "71b3b5e3-292b-4b52-b8e0-425a855875d3",
   "metadata": {},
   "outputs": [
    {
     "data": {
      "text/plain": [
       "'20240131'"
      ]
     },
     "execution_count": 19,
     "metadata": {},
     "output_type": "execute_result"
    }
   ],
   "source": [
    "date_list[30]"
   ]
  },
  {
   "cell_type": "code",
   "execution_count": 20,
   "id": "6144929d-6f0d-4667-ab8c-91a14a165649",
   "metadata": {},
   "outputs": [],
   "source": [
    "start_date=\"20240131\"\n",
    "url =\"\"\n",
    "#2022.01.01 00:00 ~ 2023.12.31 23:59:59\n",
    "res = requests.get(url)\n",
    "temp=res.json()"
   ]
  },
  {
   "cell_type": "code",
   "execution_count": 24,
   "id": "3fe2288a-a47c-4135-9eb6-d060f3c91c5f",
   "metadata": {},
   "outputs": [],
   "source": [
    "len(temp[\"response\"][\"body\"][\"items\"][\"item\"])\n",
    "add_temp_df = pd.DataFrame(temp[\"response\"][\"body\"][\"items\"][\"item\"])"
   ]
  },
  {
   "cell_type": "code",
   "execution_count": 25,
   "id": "6bd1baa0-1ddd-40b5-9925-c4b0d842cfc8",
   "metadata": {},
   "outputs": [],
   "source": [
    "add_all_df = pd.concat([all_df,add_temp_df])"
   ]
  },
  {
   "cell_type": "code",
   "execution_count": 26,
   "id": "e5deb0c1-f842-4232-b974-77bb24c09b74",
   "metadata": {},
   "outputs": [
    {
     "data": {
      "text/plain": [
       "(3456, 38)"
      ]
     },
     "execution_count": 26,
     "metadata": {},
     "output_type": "execute_result"
    }
   ],
   "source": [
    "add_all_df.shape"
   ]
  },
  {
   "cell_type": "code",
   "execution_count": 27,
   "id": "c75b2cd1-59c9-4472-9ae0-f03ee3d3e394",
   "metadata": {},
   "outputs": [],
   "source": [
    "add_all_df.to_csv('2024.csv', index=False, encoding='utf-8-sig')"
   ]
  },
  {
   "cell_type": "code",
   "execution_count": 29,
   "id": "c380303f-6eb5-48e8-aedc-fbaed1f6b820",
   "metadata": {},
   "outputs": [],
   "source": [
    "test =pd.read_csv('2024.csv')"
   ]
  },
  {
   "cell_type": "code",
   "execution_count": 34,
   "id": "087821d3-00e9-4a32-bca4-fd2d059ae8ed",
   "metadata": {},
   "outputs": [
    {
     "data": {
      "text/html": [
       "<div>\n",
       "<style scoped>\n",
       "    .dataframe tbody tr th:only-of-type {\n",
       "        vertical-align: middle;\n",
       "    }\n",
       "\n",
       "    .dataframe tbody tr th {\n",
       "        vertical-align: top;\n",
       "    }\n",
       "\n",
       "    .dataframe thead th {\n",
       "        text-align: right;\n",
       "    }\n",
       "</style>\n",
       "<table border=\"1\" class=\"dataframe\">\n",
       "  <thead>\n",
       "    <tr style=\"text-align: right;\">\n",
       "      <th></th>\n",
       "      <th>tm</th>\n",
       "      <th>rnum</th>\n",
       "      <th>stnId</th>\n",
       "      <th>stnNm</th>\n",
       "      <th>ta</th>\n",
       "      <th>taQcflg</th>\n",
       "      <th>rn</th>\n",
       "      <th>rnQcflg</th>\n",
       "      <th>ws</th>\n",
       "      <th>wsQcflg</th>\n",
       "      <th>...</th>\n",
       "      <th>lcsCh</th>\n",
       "      <th>vs</th>\n",
       "      <th>gndSttCd</th>\n",
       "      <th>dmstMtphNo</th>\n",
       "      <th>ts</th>\n",
       "      <th>tsQcflg</th>\n",
       "      <th>m005Te</th>\n",
       "      <th>m01Te</th>\n",
       "      <th>m02Te</th>\n",
       "      <th>m03Te</th>\n",
       "    </tr>\n",
       "  </thead>\n",
       "  <tbody>\n",
       "    <tr>\n",
       "      <th>2988</th>\n",
       "      <td>2024-05-05 12:00</td>\n",
       "      <td>13</td>\n",
       "      <td>108</td>\n",
       "      <td>서울</td>\n",
       "      <td>18.3</td>\n",
       "      <td>NaN</td>\n",
       "      <td>4.5</td>\n",
       "      <td>NaN</td>\n",
       "      <td>2.5</td>\n",
       "      <td>NaN</td>\n",
       "      <td>...</td>\n",
       "      <td>3.0</td>\n",
       "      <td>403</td>\n",
       "      <td>NaN</td>\n",
       "      <td>1901.0</td>\n",
       "      <td>19.9</td>\n",
       "      <td>NaN</td>\n",
       "      <td>19.1</td>\n",
       "      <td>19.2</td>\n",
       "      <td>19.1</td>\n",
       "      <td>19.1</td>\n",
       "    </tr>\n",
       "  </tbody>\n",
       "</table>\n",
       "<p>1 rows × 38 columns</p>\n",
       "</div>"
      ],
      "text/plain": [
       "                    tm  rnum  stnId stnNm    ta  taQcflg   rn  rnQcflg   ws  \\\n",
       "2988  2024-05-05 12:00    13    108    서울  18.3      NaN  4.5      NaN  2.5   \n",
       "\n",
       "      wsQcflg  ...  lcsCh   vs  gndSttCd  dmstMtphNo    ts  tsQcflg  m005Te  \\\n",
       "2988      NaN  ...    3.0  403       NaN      1901.0  19.9      NaN    19.1   \n",
       "\n",
       "      m01Te  m02Te  m03Te  \n",
       "2988   19.2   19.1   19.1  \n",
       "\n",
       "[1 rows x 38 columns]"
      ]
     },
     "execution_count": 34,
     "metadata": {},
     "output_type": "execute_result"
    }
   ],
   "source": [
    "test[test[\"tm\"]==\"2024-05-05 12:00\"]"
   ]
  }
 ],
 "metadata": {
  "kernelspec": {
   "display_name": "Python 3 (ipykernel)",
   "language": "python",
   "name": "python3"
  },
  "language_info": {
   "codemirror_mode": {
    "name": "ipython",
    "version": 3
   },
   "file_extension": ".py",
   "mimetype": "text/x-python",
   "name": "python",
   "nbconvert_exporter": "python",
   "pygments_lexer": "ipython3",
   "version": "3.10.13"
  }
 },
 "nbformat": 4,
 "nbformat_minor": 5
}
