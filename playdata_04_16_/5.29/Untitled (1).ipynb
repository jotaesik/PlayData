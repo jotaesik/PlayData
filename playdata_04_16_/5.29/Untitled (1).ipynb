{
 "cells": [
  {
   "cell_type": "code",
   "execution_count": 1,
   "id": "b9125a4d-f2ae-4134-8ade-6fa01dc92020",
   "metadata": {},
   "outputs": [
    {
     "name": "stdin",
     "output_type": "stream",
     "text": [
      " 6 (())()) (((()())() (()())((())) ((()()(()))(((())))() ()()()()(()()())() (()((())()(\n"
     ]
    }
   ],
   "source": [
    "input = input()\n",
    "input_list = input.split(\" \")"
   ]
  },
  {
   "cell_type": "code",
   "execution_count": null,
   "id": "1d59ada0-9edd-4696-97c3-9cf5eaf57ae2",
   "metadata": {},
   "outputs": [],
   "source": [
    "input_list"
   ]
  },
  {
   "cell_type": "code",
   "execution_count": 2,
   "id": "f4199536-c46a-42df-b019-632e939c3fe0",
   "metadata": {},
   "outputs": [],
   "source": [
    "input_number = int(input_list[0])"
   ]
  },
  {
   "cell_type": "code",
   "execution_count": 3,
   "id": "478ccf4a-ab69-40a9-9e59-1561d0d326af",
   "metadata": {},
   "outputs": [],
   "source": [
    "real_input_list = input_list[1:]"
   ]
  },
  {
   "cell_type": "code",
   "execution_count": 4,
   "id": "d2520294-60e9-49e4-aa5c-85dcfe8f5e90",
   "metadata": {},
   "outputs": [],
   "source": [
    "answer_list=[]"
   ]
  },
  {
   "cell_type": "code",
   "execution_count": 4,
   "id": "bb6f318b-13f6-4d45-a1fd-b5afe0445a0c",
   "metadata": {},
   "outputs": [],
   "source": [
    "answer_list=[]"
   ]
  },
  {
   "cell_type": "code",
   "execution_count": 5,
   "id": "4aabf53e-3ff7-4c2a-93b2-aaeb87170f2c",
   "metadata": {},
   "outputs": [
    {
     "name": "stdout",
     "output_type": "stream",
     "text": [
      "['(', '(', ')', ')', '(', ')', ')']\n",
      "-1\n",
      "['NO']\n",
      "['(', '(', '(', '(', ')', '(', ')', ')', '(', ')']\n",
      "2\n",
      "['NO', 'NO']\n",
      "['(', '(', ')', '(', ')', ')', '(', '(', '(', ')', ')', ')']\n",
      "0\n",
      "['NO', 'NO', 'YES']\n",
      "['(', '(', '(', ')', '(', ')', '(', '(', ')', ')', ')', '(', '(', '(', '(', ')', ')', ')', ')', '(', ')']\n",
      "1\n",
      "['NO', 'NO', 'YES', 'NO']\n",
      "['(', ')', '(', ')', '(', ')', '(', ')', '(', '(', ')', '(', ')', '(', ')', ')', '(', ')']\n",
      "0\n",
      "['NO', 'NO', 'YES', 'NO', 'YES']\n",
      "['(', '(', ')', '(', '(', '(', ')', ')', '(', ')', '(']\n",
      "3\n",
      "['NO', 'NO', 'YES', 'NO', 'YES', 'NO']\n"
     ]
    }
   ],
   "source": [
    "for i in range(input_number):\n",
    "    temp = real_input_list[i]\n",
    "    temp_list = list(temp)\n",
    "    print(temp_list)\n",
    "    count = 0\n",
    "    text = 0 #값들어갔는지 확인하기\n",
    "    for j in range(len(temp_list)):\n",
    "        if temp_list[0] == \")\":\n",
    "            answer_list.append(\"NO\")\n",
    "            text = 1\n",
    "            break\n",
    "        else:\n",
    "            if temp_list[j]==\"(\":\n",
    "                count+=1\n",
    "            elif temp_list[j]==\")\": # ( ))\n",
    "                count-=1\n",
    "            if count<0:\n",
    "                answer_list.append(\"NO\")\n",
    "                text = 1\n",
    "                break\n",
    "    # print(count)\n",
    "    \n",
    "    if count==0 and text == 0:\n",
    "        answer_list.append(\"YES\")\n",
    "    elif count!=0 and text==0:\n",
    "        answer_list.append(\"NO\")\n",
    "    print(answer_list)"
   ]
  },
  {
   "cell_type": "code",
   "execution_count": 6,
   "id": "269dac8a-9ba8-4897-9c81-54fe536ccef5",
   "metadata": {},
   "outputs": [
    {
     "data": {
      "text/plain": [
       "['NO', 'NO', 'YES', 'NO', 'YES', 'NO']"
      ]
     },
     "execution_count": 6,
     "metadata": {},
     "output_type": "execute_result"
    }
   ],
   "source": [
    "answer_list"
   ]
  }
 ],
 "metadata": {
  "kernelspec": {
   "display_name": "Python 3 (ipykernel)",
   "language": "python",
   "name": "python3"
  },
  "language_info": {
   "codemirror_mode": {
    "name": "ipython",
    "version": 3
   },
   "file_extension": ".py",
   "mimetype": "text/x-python",
   "name": "python",
   "nbconvert_exporter": "python",
   "pygments_lexer": "ipython3",
   "version": "3.10.13"
  }
 },
 "nbformat": 4,
 "nbformat_minor": 5
}
