{
 "cells": [
  {
   "cell_type": "markdown",
   "metadata": {},
   "source": [
    "# 1.문제 \n",
    "- 출발 공항에 대해서 도착 공항별로 평균 출발 지연시간 평균 도착지연시간을 구해서 DataFrame을 생성\n"
   ]
  },
  {
   "cell_type": "code",
   "execution_count": null,
   "metadata": {},
   "outputs": [],
   "source": [
    "#heidi 도구 csv가져오기, 제어문자는 , 테이블은 새 테이블로하고 중복행처리는 insert"
   ]
  },
  {
   "cell_type": "code",
   "execution_count": null,
   "metadata": {},
   "outputs": [],
   "source": [
    "# pre training or 전이학습"
   ]
  },
  {
   "cell_type": "code",
   "execution_count": 2,
   "metadata": {},
   "outputs": [],
   "source": [
    "import pandas as pd\n",
    "import numpy as np\n",
    "import matplotlib.pyplot as plt\n",
    "import seaborn as sns\n",
    "from datetime import datetime\n",
    "import warnings\n",
    "warnings.simplefilter(action='ignore', category=FutureWarning)\n",
    "hflight = pd.read_csv('./hflight.csv')"
   ]
  },
  {
   "cell_type": "code",
   "execution_count": 9,
   "metadata": {},
   "outputs": [],
   "source": [
    "hflight_group = hflight.groupby([\"Origin\",\"Dest\"])[[\"ArrDelay\",\"DepDelay\"]].mean().reset_index()"
   ]
  },
  {
   "cell_type": "code",
   "execution_count": 3,
   "metadata": {},
   "outputs": [],
   "source": [
    "hflight_group = hflight.groupby([\"Origin\",\"Dest\"],as_index=False)[[\"ArrDelay\",\"DepDelay\"]].mean()"
   ]
  },
  {
   "cell_type": "code",
   "execution_count": null,
   "metadata": {},
   "outputs": [],
   "source": [
    "# CREATE TABLE hflight_group\n",
    "# SELECT Origin, Dest,AVG(ArrDelay),AVG(DepDelay)\n",
    "# FROM hflight\n",
    "# GROUP BY Origin,Dest\t"
   ]
  },
  {
   "cell_type": "code",
   "execution_count": null,
   "metadata": {},
   "outputs": [],
   "source": [
    "# SELECT Origin, Dest, round(AVG(ArrDelay),2) Arrive_Delay,  round(AVG(DepDelay),2) DepDelay\n",
    "# FROM hflight\n",
    "# GROUP BY Origin,Dest\t"
   ]
  },
  {
   "cell_type": "markdown",
   "metadata": {},
   "source": [
    "# 문제 2\n",
    "- 목적지 공항에 대해 연착 건수를 구하고, 연착 건수가 2000회 이상인 공항에 대한 데이터만 추출\n",
    "- col -> Dest :목적지 공항 ArrDelay (연착은 5분이상)"
   ]
  },
  {
   "cell_type": "code",
   "execution_count": 9,
   "metadata": {},
   "outputs": [
    {
     "data": {
      "text/plain": [
       "Year                      0\n",
       "Month                     0\n",
       "DayofMonth                0\n",
       "DayOfWeek                 0\n",
       "DepTime                2905\n",
       "ArrTime                3066\n",
       "UniqueCarrier             0\n",
       "FlightNum                 0\n",
       "TailNum                 795\n",
       "ActualElapsedTime      3622\n",
       "AirTime                3622\n",
       "ArrDelay               3622\n",
       "DepDelay               2905\n",
       "Origin                    0\n",
       "Dest                      0\n",
       "Distance                  0\n",
       "TaxiIn                 3066\n",
       "TaxiOut                2947\n",
       "Cancelled                 0\n",
       "CancellationCode     224523\n",
       "Diverted                  0\n",
       "dtype: int64"
      ]
     },
     "execution_count": 9,
     "metadata": {},
     "output_type": "execute_result"
    }
   ],
   "source": [
    "hflight.isnull().sum()"
   ]
  },
  {
   "cell_type": "code",
   "execution_count": 13,
   "metadata": {},
   "outputs": [],
   "source": [
    "tmp2 = hflight[hflight.ArrDelay >=5].groupby([\"Dest\"],as_index=False)[[\"Year\"]].count() "
   ]
  },
  {
   "cell_type": "code",
   "execution_count": 17,
   "metadata": {},
   "outputs": [],
   "source": [
    "hflight2 = hflight.Dest.isin(tmp2[tmp2.Year>=2000].Dest)"
   ]
  },
  {
   "cell_type": "code",
   "execution_count": 34,
   "metadata": {},
   "outputs": [
    {
     "data": {
      "text/plain": [
       "count     227496\n",
       "unique         2\n",
       "top        False\n",
       "freq      185235\n",
       "Name: Dest, dtype: object"
      ]
     },
     "execution_count": 34,
     "metadata": {},
     "output_type": "execute_result"
    }
   ],
   "source": [
    "hflight2.describe()"
   ]
  },
  {
   "cell_type": "code",
   "execution_count": 20,
   "metadata": {},
   "outputs": [],
   "source": [
    "hflight_2_result = hflight[hflight2].copy()"
   ]
  },
  {
   "cell_type": "code",
   "execution_count": 21,
   "metadata": {},
   "outputs": [
    {
     "data": {
      "text/plain": [
       "Dest\n",
       "DAL    9820\n",
       "ATL    7886\n",
       "MSY    6823\n",
       "LAX    6064\n",
       "DEN    5920\n",
       "ORD    5748\n",
       "Name: count, dtype: int64"
      ]
     },
     "execution_count": 21,
     "metadata": {},
     "output_type": "execute_result"
    }
   ],
   "source": [
    "hflight_2_result.Dest.value_counts()"
   ]
  },
  {
   "cell_type": "code",
   "execution_count": null,
   "metadata": {},
   "outputs": [],
   "source": []
  },
  {
   "cell_type": "code",
   "execution_count": 14,
   "metadata": {},
   "outputs": [],
   "source": [
    "hflight[\"ArrDelay_is\"] = hflight[\"ArrDelay\"].apply(lambda x : 1 if x>=5  else 0)"
   ]
  },
  {
   "cell_type": "code",
   "execution_count": 19,
   "metadata": {},
   "outputs": [],
   "source": [
    "hflight_delay_group = hflight.groupby([\"Dest\"])[\"ArrDelay_is\"].sum().reset_index()"
   ]
  },
  {
   "cell_type": "code",
   "execution_count": 21,
   "metadata": {},
   "outputs": [],
   "source": [
    "hflight_delay_group_2000 = hflight_delay_group[hflight_delay_group.ArrDelay_is>=2000]"
   ]
  },
  {
   "cell_type": "code",
   "execution_count": 88,
   "metadata": {},
   "outputs": [
    {
     "data": {
      "text/html": [
       "<div>\n",
       "<style scoped>\n",
       "    .dataframe tbody tr th:only-of-type {\n",
       "        vertical-align: middle;\n",
       "    }\n",
       "\n",
       "    .dataframe tbody tr th {\n",
       "        vertical-align: top;\n",
       "    }\n",
       "\n",
       "    .dataframe thead th {\n",
       "        text-align: right;\n",
       "    }\n",
       "</style>\n",
       "<table border=\"1\" class=\"dataframe\">\n",
       "  <thead>\n",
       "    <tr style=\"text-align: right;\">\n",
       "      <th></th>\n",
       "      <th>Dest</th>\n",
       "      <th>ArrDelay_is</th>\n",
       "    </tr>\n",
       "  </thead>\n",
       "  <tbody>\n",
       "    <tr>\n",
       "      <th>6</th>\n",
       "      <td>ATL</td>\n",
       "      <td>2657</td>\n",
       "    </tr>\n",
       "    <tr>\n",
       "      <th>28</th>\n",
       "      <td>DAL</td>\n",
       "      <td>3360</td>\n",
       "    </tr>\n",
       "    <tr>\n",
       "      <th>31</th>\n",
       "      <td>DEN</td>\n",
       "      <td>2315</td>\n",
       "    </tr>\n",
       "    <tr>\n",
       "      <th>59</th>\n",
       "      <td>LAX</td>\n",
       "      <td>2641</td>\n",
       "    </tr>\n",
       "    <tr>\n",
       "      <th>78</th>\n",
       "      <td>MSY</td>\n",
       "      <td>2361</td>\n",
       "    </tr>\n",
       "    <tr>\n",
       "      <th>84</th>\n",
       "      <td>ORD</td>\n",
       "      <td>2220</td>\n",
       "    </tr>\n",
       "  </tbody>\n",
       "</table>\n",
       "</div>"
      ],
      "text/plain": [
       "   Dest  ArrDelay_is\n",
       "6   ATL         2657\n",
       "28  DAL         3360\n",
       "31  DEN         2315\n",
       "59  LAX         2641\n",
       "78  MSY         2361\n",
       "84  ORD         2220"
      ]
     },
     "execution_count": 88,
     "metadata": {},
     "output_type": "execute_result"
    }
   ],
   "source": [
    "hflight_delay_group_2000"
   ]
  },
  {
   "cell_type": "code",
   "execution_count": null,
   "metadata": {},
   "outputs": [],
   "source": [
    "# SELECT B.Dest, B.ad\n",
    "# FROM\n",
    "# (SELECT A.DEST, SUM(A.ArrDelay_is) ad\n",
    "# From\n",
    "# (SELECT Dest,CASE WHEN ArrDelay >=5 THEN 1\n",
    "# ELSE 0 END ArrDelay_is\t\n",
    "# FROM hflight) A\n",
    "# GROUP BY A.DEST) B\n",
    "# WHERE B.ad>=2000"
   ]
  },
  {
   "cell_type": "code",
   "execution_count": null,
   "metadata": {},
   "outputs": [],
   "source": [
    "# SELECT Dest, COUNT(DAYOFWEEK) cnt\n",
    "# FROM hflight\n",
    "# WHERE ArrDelay >=5\n",
    "# GROUP BY Dest\n",
    "# HAVING cnt>=2000"
   ]
  },
  {
   "cell_type": "markdown",
   "metadata": {},
   "source": [
    "# 문제 3\n",
    "-  위의 결과를 바탕으로 목적지 공항 별 결항 횟수, 회항 횟수\n",
    "- 운항 횟수를 구하시오 (Cancelled, Diverted, Air)\n",
    "- 운항 횟수는 결항과 회항을 제외한 것 "
   ]
  },
  {
   "cell_type": "code",
   "execution_count": 24,
   "metadata": {},
   "outputs": [],
   "source": [
    "a = hflight_2_result.groupby([\"Dest\"])[\"Cancelled\"].sum()"
   ]
  },
  {
   "cell_type": "code",
   "execution_count": 25,
   "metadata": {},
   "outputs": [],
   "source": [
    "b = hflight_2_result.groupby([\"Dest\"])[\"Diverted\"].sum()"
   ]
  },
  {
   "cell_type": "code",
   "execution_count": 26,
   "metadata": {},
   "outputs": [],
   "source": [
    "c = hflight_2_result.groupby([\"Dest\"])[\"Year\"].count()"
   ]
  },
  {
   "cell_type": "code",
   "execution_count": 29,
   "metadata": {},
   "outputs": [],
   "source": [
    "d  = c-b-a"
   ]
  },
  {
   "cell_type": "code",
   "execution_count": 32,
   "metadata": {},
   "outputs": [
    {
     "data": {
      "text/html": [
       "<div>\n",
       "<style scoped>\n",
       "    .dataframe tbody tr th:only-of-type {\n",
       "        vertical-align: middle;\n",
       "    }\n",
       "\n",
       "    .dataframe tbody tr th {\n",
       "        vertical-align: top;\n",
       "    }\n",
       "\n",
       "    .dataframe thead th {\n",
       "        text-align: right;\n",
       "    }\n",
       "</style>\n",
       "<table border=\"1\" class=\"dataframe\">\n",
       "  <thead>\n",
       "    <tr style=\"text-align: right;\">\n",
       "      <th></th>\n",
       "      <th>Cancelled</th>\n",
       "      <th>Diverted</th>\n",
       "      <th>air</th>\n",
       "    </tr>\n",
       "    <tr>\n",
       "      <th>Dest</th>\n",
       "      <th></th>\n",
       "      <th></th>\n",
       "      <th></th>\n",
       "    </tr>\n",
       "  </thead>\n",
       "  <tbody>\n",
       "    <tr>\n",
       "      <th>ATL</th>\n",
       "      <td>141</td>\n",
       "      <td>28</td>\n",
       "      <td>7717</td>\n",
       "    </tr>\n",
       "    <tr>\n",
       "      <th>DAL</th>\n",
       "      <td>442</td>\n",
       "      <td>27</td>\n",
       "      <td>9351</td>\n",
       "    </tr>\n",
       "    <tr>\n",
       "      <th>DEN</th>\n",
       "      <td>28</td>\n",
       "      <td>24</td>\n",
       "      <td>5868</td>\n",
       "    </tr>\n",
       "    <tr>\n",
       "      <th>LAX</th>\n",
       "      <td>33</td>\n",
       "      <td>14</td>\n",
       "      <td>6017</td>\n",
       "    </tr>\n",
       "    <tr>\n",
       "      <th>MSY</th>\n",
       "      <td>40</td>\n",
       "      <td>3</td>\n",
       "      <td>6780</td>\n",
       "    </tr>\n",
       "    <tr>\n",
       "      <th>ORD</th>\n",
       "      <td>99</td>\n",
       "      <td>15</td>\n",
       "      <td>5634</td>\n",
       "    </tr>\n",
       "  </tbody>\n",
       "</table>\n",
       "</div>"
      ],
      "text/plain": [
       "      Cancelled  Diverted   air\n",
       "Dest                           \n",
       "ATL         141        28  7717\n",
       "DAL         442        27  9351\n",
       "DEN          28        24  5868\n",
       "LAX          33        14  6017\n",
       "MSY          40         3  6780\n",
       "ORD          99        15  5634"
      ]
     },
     "execution_count": 32,
     "metadata": {},
     "output_type": "execute_result"
    }
   ],
   "source": [
    "# pd.concat([a,b,d],axis=1).rename(columns={0 : \"air\"})\n",
    "pd.concat([a,b,(c-b-a)],axis=1).rename(columns={0 : \"air\"})"
   ]
  },
  {
   "cell_type": "code",
   "execution_count": null,
   "metadata": {},
   "outputs": [],
   "source": []
  },
  {
   "cell_type": "code",
   "execution_count": null,
   "metadata": {},
   "outputs": [],
   "source": []
  },
  {
   "cell_type": "code",
   "execution_count": null,
   "metadata": {},
   "outputs": [],
   "source": []
  },
  {
   "cell_type": "code",
   "execution_count": null,
   "metadata": {},
   "outputs": [],
   "source": []
  },
  {
   "cell_type": "code",
   "execution_count": null,
   "metadata": {},
   "outputs": [],
   "source": []
  },
  {
   "cell_type": "code",
   "execution_count": 28,
   "metadata": {},
   "outputs": [],
   "source": [
    "hflight_count_group = hflight.groupby([\"Dest\"])[[\"Cancelled\",\"Diverted\"]].sum().reset_index()"
   ]
  },
  {
   "cell_type": "code",
   "execution_count": 46,
   "metadata": {},
   "outputs": [],
   "source": [
    "hflight_count_group_only = hflight.groupby([\"Dest\"])[\"ArrDelay_is\"].count().reset_index()"
   ]
  },
  {
   "cell_type": "code",
   "execution_count": 48,
   "metadata": {},
   "outputs": [],
   "source": [
    "hflight_count_group = pd.merge(hflight_count_group,hflight_count_group_only, on=\"Dest\", how=\"inner\")"
   ]
  },
  {
   "cell_type": "code",
   "execution_count": 50,
   "metadata": {},
   "outputs": [],
   "source": [
    "hflight_count_group[\"real\"] = hflight_count_group[\"ArrDelay_is\"] - hflight_count_group[\"Cancelled\"] - hflight_count_group[\"Diverted\"]"
   ]
  },
  {
   "cell_type": "code",
   "execution_count": 53,
   "metadata": {},
   "outputs": [],
   "source": [
    "hflight_count_group_ans = hflight_count_group[[\"Dest\",\"real\"]]"
   ]
  },
  {
   "cell_type": "code",
   "execution_count": 55,
   "metadata": {},
   "outputs": [],
   "source": [
    "# hflight_count_group_ans"
   ]
  },
  {
   "cell_type": "code",
   "execution_count": 89,
   "metadata": {},
   "outputs": [
    {
     "data": {
      "text/plain": [
       "Year                   2011\n",
       "Month                     1\n",
       "DayofMonth                1\n",
       "DayOfWeek                 6\n",
       "DepTime              1400.0\n",
       "ArrTime              1500.0\n",
       "UniqueCarrier            AA\n",
       "FlightNum               428\n",
       "TailNum              N576AA\n",
       "ActualElapsedTime      60.0\n",
       "AirTime                40.0\n",
       "ArrDelay              -10.0\n",
       "DepDelay                0.0\n",
       "Origin                  IAH\n",
       "Dest                    DFW\n",
       "Distance                224\n",
       "TaxiIn                  7.0\n",
       "TaxiOut                13.0\n",
       "Cancelled                 0\n",
       "CancellationCode        NaN\n",
       "Diverted                  0\n",
       "ArrDelay_is               0\n",
       "Name: 0, dtype: object"
      ]
     },
     "execution_count": 89,
     "metadata": {},
     "output_type": "execute_result"
    }
   ],
   "source": [
    "hflight.iloc[0]"
   ]
  },
  {
   "cell_type": "code",
   "execution_count": null,
   "metadata": {},
   "outputs": [],
   "source": [
    "# sudo apt install mysql-server\n",
    "# sudo service mysql start\n",
    "# 해보고\n",
    "# sudo service mysql status"
   ]
  },
  {
   "cell_type": "code",
   "execution_count": null,
   "metadata": {},
   "outputs": [],
   "source": []
  },
  {
   "cell_type": "code",
   "execution_count": 69,
   "metadata": {},
   "outputs": [],
   "source": [
    "from sqlalchemy import create_engine, MetaData, Table, Column, Integer, String, BigInteger, DateTime, Date,Float"
   ]
  },
  {
   "cell_type": "code",
   "execution_count": 70,
   "metadata": {},
   "outputs": [],
   "source": [
    "import sqlalchemy\n",
    "from urllib import parse\n",
    "user = 'id'\n",
    "password = 'pw'\n",
    "host='ip'\n",
    "port = port\n",
    "database = 'kpi'\n",
    "password = parse.quote_plus(password)\n",
    "engine = sqlalchemy.create_engine(f\"mysql://{user}:{password}@{host}:{port}/{database}\")"
   ]
  },
  {
   "cell_type": "code",
   "execution_count": 71,
   "metadata": {},
   "outputs": [],
   "source": [
    "metadata = MetaData()"
   ]
  },
  {
   "cell_type": "code",
   "execution_count": 81,
   "metadata": {},
   "outputs": [],
   "source": [
    "# hflight.columns"
   ]
  },
  {
   "cell_type": "code",
   "execution_count": 82,
   "metadata": {},
   "outputs": [],
   "source": [
    "# hflight.iloc[0]"
   ]
  },
  {
   "cell_type": "code",
   "execution_count": 83,
   "metadata": {},
   "outputs": [],
   "source": [
    "# hflight.info()"
   ]
  },
  {
   "cell_type": "code",
   "execution_count": 78,
   "metadata": {},
   "outputs": [
    {
     "data": {
      "text/plain": [
       "Table('hflight', MetaData(), Column('Year', Integer(), table=<hflight>), Column('Month', Integer(), table=<hflight>), Column('DayofMonth', Integer(), table=<hflight>), Column('DayOfWeek', Integer(), table=<hflight>), Column('DepTime', Float(), table=<hflight>), Column('ArrTime', Float(), table=<hflight>), Column('UniqueCarrier', String(length=100), table=<hflight>), Column('FlightNum', Integer(), table=<hflight>), Column('TailNum', String(length=100), table=<hflight>), Column('ActualElapsedTime', Float(), table=<hflight>), Column('AirTime', Float(), table=<hflight>), Column('ArrDelay', Float(), table=<hflight>), Column('DepDelay', Float(), table=<hflight>), Column('Origin', String(length=100), table=<hflight>), Column('Dest', String(length=100), table=<hflight>), Column('Distance', Integer(), table=<hflight>), Column('TaxiIn', Float(), table=<hflight>), Column('TaxiOut', Float(), table=<hflight>), Column('Cancelled', Integer(), table=<hflight>), Column('CancellationCode', String(length=100), table=<hflight>), Column('Diverted', Integer(), table=<hflight>), Column('ArrDelay_is', Integer(), table=<hflight>), schema=None)"
      ]
     },
     "execution_count": 78,
     "metadata": {},
     "output_type": "execute_result"
    }
   ],
   "source": [
    "Table(\"hflight\", metadata, \n",
    "      Column('Year', Integer),\n",
    "      Column(\"Month\", Integer),\n",
    "      Column(\"DayofMonth\", Integer),\n",
    "      Column(\"DayOfWeek\", Integer),\n",
    "      Column(\"DepTime\", Float),\n",
    "      Column(\"ArrTime\", Float),\n",
    "      Column(\"UniqueCarrier\", String(100)),\n",
    "      Column(\"FlightNum\", Integer),\n",
    "      Column(\"TailNum\", String(100)),\n",
    "      Column(\"ActualElapsedTime\", Float),\n",
    "      Column(\"AirTime\", Float),\n",
    "      Column(\"ArrDelay\", Float),\n",
    "      Column(\"DepDelay\", Float),\n",
    "      Column(\"Origin\", String(100)),\n",
    "      Column(\"Dest\", String(100)),\n",
    "      Column(\"Distance\", Integer),\n",
    "      Column(\"TaxiIn\", Float),\n",
    "      Column(\"TaxiOut\", Float),\n",
    "      Column(\"Cancelled\", Integer),\n",
    "      Column(\"CancellationCode\", String(100)),\n",
    "      Column(\"Diverted\", Integer),\n",
    "      Column(\"ArrDelay_is\", Integer)\n",
    "     )"
   ]
  },
  {
   "cell_type": "code",
   "execution_count": 79,
   "metadata": {},
   "outputs": [
    {
     "data": {
      "text/plain": [
       "227496"
      ]
     },
     "execution_count": 79,
     "metadata": {},
     "output_type": "execute_result"
    }
   ],
   "source": [
    "metadata.create_all(engine)\n",
    "customers.to_sql(\"hflight\", if_exists='append', con=engine, index=False)\n",
    "# customers.to_sql(\"hflight\", if_exists='replace', con=engine, index=False) #이걸로하면 table 만들지않고서도 넣을수있다."
   ]
  },
  {
   "cell_type": "code",
   "execution_count": null,
   "metadata": {},
   "outputs": [],
   "source": [
    "# SELECT A.Dest , A.a3-A.a2-A.a1\n",
    "# FROM \n",
    "# (SELECT Dest, SUM(Cancelled) a1, SUM(Diverted) a2, COUNT(Cancelled) a3\n",
    "# FROM hflight\n",
    "# GROUP BY Dest) A\n"
   ]
  },
  {
   "cell_type": "code",
   "execution_count": null,
   "metadata": {},
   "outputs": [],
   "source": [
    "# CREATE VIEW hflight2 AS\n",
    "# SELECT * FROM hflight WHERE Dest IN\n",
    "# \t(SELECT Dest FROM \n",
    "# \t\t(SELECT Dest, COUNT(DAYOFWEEK) cnt\n",
    "# \t\tFROM hflight\n",
    "# \t\tWHERE ArrDelay >=5\n",
    "# \t\tGROUP BY Dest\n",
    "# \t\tHAVING cnt>=2000\n",
    "# \t\t) \n",
    "# \ta) \n",
    "\n",
    "# SELECT Dest, COUNT(*) total \n",
    "# FROM hflight2 \n",
    "# GROUP BY Dest;\n",
    "\n",
    "\t\n",
    "\t\n",
    "# SELECT Dest, COUNT(*) total\n",
    "# FROM hflight2\n",
    "# WHERE Cancelled =1 \n",
    "# GROUP BY Dest \n",
    "\n",
    "# SELECT Dest, COUNT(*) total\n",
    "# FROM hflight2\n",
    "# WHERE Diverted =1 \n",
    "# GROUP BY Dest \n",
    "\n",
    "\n",
    "# SELECT a.Dest, a.total, b.Cancelled, c.Diverted, ( a.total- b.Cancelled- c.Diverted) AS air\n",
    "# FROM (SELECT Dest, COUNT(*) total\n",
    "# \t\tFROM hflight2\n",
    "# \t\tGROUP BY Dest ) a\n",
    "# LEFT JOIN(\n",
    "# \t\tSELECT Dest, COUNT(*) Cancelled\n",
    "# \t\tFROM hflight2\n",
    "# \t\tWHERE Cancelled =1 \n",
    "# \t\tGROUP BY Dest \n",
    "# \t) b\n",
    "# ON a.Dest = b.Dest\n",
    "# LEFT JOIN (\n",
    "# \t\tSELECT Dest, COUNT(*) Diverted\n",
    "# \t\tFROM hflight2\n",
    "# \t\tWHERE Diverted =1 \n",
    "# \t\tGROUP BY Dest \t\n",
    "# \t\t) c \n",
    "#  ON a.Dest=c.Dest"
   ]
  }
 ],
 "metadata": {
  "kernelspec": {
   "display_name": "Python 3 (ipykernel)",
   "language": "python",
   "name": "python3"
  },
  "language_info": {
   "codemirror_mode": {
    "name": "ipython",
    "version": 3
   },
   "file_extension": ".py",
   "mimetype": "text/x-python",
   "name": "python",
   "nbconvert_exporter": "python",
   "pygments_lexer": "ipython3",
   "version": "3.10.12"
  }
 },
 "nbformat": 4,
 "nbformat_minor": 4
}
