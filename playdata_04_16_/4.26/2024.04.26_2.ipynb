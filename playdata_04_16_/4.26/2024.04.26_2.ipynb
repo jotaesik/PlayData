{
 "cells": [
  {
   "cell_type": "code",
   "execution_count": 1,
   "id": "735e592d-c836-46e3-a87b-eab36922bd98",
   "metadata": {},
   "outputs": [],
   "source": [
    "import pickle"
   ]
  },
  {
   "cell_type": "code",
   "execution_count": 2,
   "id": "02c67383-2a52-41d5-bc02-1763b29571e1",
   "metadata": {},
   "outputs": [],
   "source": [
    "with open(\"./model/knn_class_model.pkl\",\"rb\") as f:\n",
    "    model1 = pickle.load(f)\n",
    "#표준화시켰다는 증거로 분산잉 있따."
   ]
  },
  {
   "cell_type": "code",
   "execution_count": 15,
   "id": "2862fe65-6500-4983-8788-8568dbce851c",
   "metadata": {},
   "outputs": [],
   "source": [
    "# model1"
   ]
  },
  {
   "cell_type": "code",
   "execution_count": 8,
   "id": "5aae05c8-73f0-4594-9505-4acb65440a8b",
   "metadata": {},
   "outputs": [],
   "source": [
    "#정규화를 해줘야한다 물어보기전에.\n",
    "import numpy as np\n",
    "train_scaled = (np.array([11.8, 9.9]) - model1['mean']) / model1[\"std\"]"
   ]
  },
  {
   "cell_type": "code",
   "execution_count": 12,
   "id": "c5dd8f29-4cb9-4ff6-b536-0ca9fec371bf",
   "metadata": {},
   "outputs": [
    {
     "data": {
      "text/plain": [
       "array([[-1.55244793, -1.37395199]])"
      ]
     },
     "execution_count": 12,
     "metadata": {},
     "output_type": "execute_result"
    }
   ],
   "source": [
    "train_scaled  #array([-1.55244793, -1.37395199])\n",
    "train_scaled.reshape(1,2) #이차원으로바꿪누다\n",
    "# [[11.8, 9.9]]"
   ]
  },
  {
   "cell_type": "code",
   "execution_count": 17,
   "id": "9c616aa3-4547-4ea2-9a6e-945d27c62185",
   "metadata": {},
   "outputs": [
    {
     "name": "stdout",
     "output_type": "stream",
     "text": [
      "{result : 도미}\n"
     ]
    }
   ],
   "source": [
    "if model1[\"model\"].predict(train_scaled.reshape(1,2)).tolist()[0] == 0.0:  #에러뜨므로 차원을 늘린다\n",
    "    print(\"{result : 도미}\") \n",
    "else:\n",
    "    print(\"{result : 빙어}\") "
   ]
  }
 ],
 "metadata": {
  "kernelspec": {
   "display_name": "Python 3 (ipykernel)",
   "language": "python",
   "name": "python3"
  },
  "language_info": {
   "codemirror_mode": {
    "name": "ipython",
    "version": 3
   },
   "file_extension": ".py",
   "mimetype": "text/x-python",
   "name": "python",
   "nbconvert_exporter": "python",
   "pygments_lexer": "ipython3",
   "version": "3.10.12"
  }
 },
 "nbformat": 4,
 "nbformat_minor": 5
}
