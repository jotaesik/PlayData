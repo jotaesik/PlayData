{
 "cells": [
  {
   "cell_type": "code",
   "execution_count": 1,
   "id": "582d06a3-aec1-47d9-aaa1-e9bcf3d2c412",
   "metadata": {},
   "outputs": [],
   "source": [
    "import pandas as pd"
   ]
  },
  {
   "cell_type": "code",
   "execution_count": 2,
   "id": "7d098b75-05d5-41a7-bab6-0309311c1583",
   "metadata": {},
   "outputs": [],
   "source": [
    "order = pd.read_csv(\"./instacart_dataset/orders.csv\")"
   ]
  },
  {
   "cell_type": "code",
   "execution_count": 3,
   "id": "11257c51-b427-4c14-87a8-ba7483cf624a",
   "metadata": {},
   "outputs": [
    {
     "data": {
      "text/html": [
       "<div>\n",
       "<style scoped>\n",
       "    .dataframe tbody tr th:only-of-type {\n",
       "        vertical-align: middle;\n",
       "    }\n",
       "\n",
       "    .dataframe tbody tr th {\n",
       "        vertical-align: top;\n",
       "    }\n",
       "\n",
       "    .dataframe thead th {\n",
       "        text-align: right;\n",
       "    }\n",
       "</style>\n",
       "<table border=\"1\" class=\"dataframe\">\n",
       "  <thead>\n",
       "    <tr style=\"text-align: right;\">\n",
       "      <th></th>\n",
       "      <th>order_id</th>\n",
       "      <th>user_id</th>\n",
       "      <th>eval_set</th>\n",
       "      <th>order_number</th>\n",
       "      <th>order_dow</th>\n",
       "      <th>order_hour_of_day</th>\n",
       "      <th>days_since_prior_order</th>\n",
       "    </tr>\n",
       "  </thead>\n",
       "  <tbody>\n",
       "    <tr>\n",
       "      <th>0</th>\n",
       "      <td>2352815</td>\n",
       "      <td>185282</td>\n",
       "      <td>prior</td>\n",
       "      <td>5</td>\n",
       "      <td>2</td>\n",
       "      <td>9</td>\n",
       "      <td>6</td>\n",
       "    </tr>\n",
       "    <tr>\n",
       "      <th>1</th>\n",
       "      <td>1414622</td>\n",
       "      <td>41949</td>\n",
       "      <td>prior</td>\n",
       "      <td>9</td>\n",
       "      <td>0</td>\n",
       "      <td>16</td>\n",
       "      <td>6</td>\n",
       "    </tr>\n",
       "    <tr>\n",
       "      <th>2</th>\n",
       "      <td>2534064</td>\n",
       "      <td>24631</td>\n",
       "      <td>prior</td>\n",
       "      <td>66</td>\n",
       "      <td>1</td>\n",
       "      <td>13</td>\n",
       "      <td>4</td>\n",
       "    </tr>\n",
       "  </tbody>\n",
       "</table>\n",
       "</div>"
      ],
      "text/plain": [
       "   order_id  user_id eval_set  order_number  order_dow  order_hour_of_day  \\\n",
       "0   2352815   185282    prior             5          2                  9   \n",
       "1   1414622    41949    prior             9          0                 16   \n",
       "2   2534064    24631    prior            66          1                 13   \n",
       "\n",
       "   days_since_prior_order  \n",
       "0                       6  \n",
       "1                       6  \n",
       "2                       4  "
      ]
     },
     "execution_count": 3,
     "metadata": {},
     "output_type": "execute_result"
    }
   ],
   "source": [
    "# 시간별 주문 건수 \n",
    "order.head(3)"
   ]
  },
  {
   "cell_type": "code",
   "execution_count": 4,
   "id": "83406ded-6f6d-4392-a9bd-17691507d0e2",
   "metadata": {},
   "outputs": [
    {
     "data": {
      "text/plain": [
       "order_hour_of_day\n",
       "0      21\n",
       "1      12\n",
       "2       3\n",
       "3       7\n",
       "4       2\n",
       "5       4\n",
       "6      33\n",
       "7      95\n",
       "8     163\n",
       "9     239\n",
       "10    277\n",
       "11    242\n",
       "12    271\n",
       "13    291\n",
       "14    266\n",
       "15    250\n",
       "16    254\n",
       "17    220\n",
       "18    170\n",
       "19    135\n",
       "20    102\n",
       "21     63\n",
       "22     54\n",
       "23     46\n",
       "Name: count, dtype: int64"
      ]
     },
     "execution_count": 4,
     "metadata": {},
     "output_type": "execute_result"
    }
   ],
   "source": [
    "order.value_counts(\"order_hour_of_day\").sort_index()"
   ]
  },
  {
   "cell_type": "code",
   "execution_count": 5,
   "id": "eb8dea1f-f56d-4d32-ba47-3d9508d36bad",
   "metadata": {},
   "outputs": [
    {
     "data": {
      "text/plain": [
       "order_hour_of_day\n",
       "0      21\n",
       "1      12\n",
       "2       3\n",
       "3       7\n",
       "4       2\n",
       "5       4\n",
       "6      33\n",
       "7      95\n",
       "8     163\n",
       "9     239\n",
       "10    277\n",
       "11    242\n",
       "12    271\n",
       "13    291\n",
       "14    266\n",
       "15    250\n",
       "16    254\n",
       "17    220\n",
       "18    170\n",
       "19    135\n",
       "20    102\n",
       "21     63\n",
       "22     54\n",
       "23     46\n",
       "Name: order_id, dtype: int64"
      ]
     },
     "execution_count": 5,
     "metadata": {},
     "output_type": "execute_result"
    }
   ],
   "source": [
    "order.groupby(['order_hour_of_day'])['order_id'].count()"
   ]
  },
  {
   "cell_type": "code",
   "execution_count": 6,
   "id": "28c4f748-2c7e-4792-90ba-51e5f25136ff",
   "metadata": {},
   "outputs": [
    {
     "data": {
      "text/html": [
       "<div>\n",
       "<style scoped>\n",
       "    .dataframe tbody tr th:only-of-type {\n",
       "        vertical-align: middle;\n",
       "    }\n",
       "\n",
       "    .dataframe tbody tr th {\n",
       "        vertical-align: top;\n",
       "    }\n",
       "\n",
       "    .dataframe thead th {\n",
       "        text-align: right;\n",
       "    }\n",
       "</style>\n",
       "<table border=\"1\" class=\"dataframe\">\n",
       "  <thead>\n",
       "    <tr style=\"text-align: right;\">\n",
       "      <th></th>\n",
       "      <th>order_id</th>\n",
       "      <th>user_id</th>\n",
       "      <th>eval_set</th>\n",
       "      <th>order_number</th>\n",
       "      <th>order_dow</th>\n",
       "      <th>order_hour_of_day</th>\n",
       "      <th>days_since_prior_order</th>\n",
       "    </tr>\n",
       "  </thead>\n",
       "  <tbody>\n",
       "    <tr>\n",
       "      <th>0</th>\n",
       "      <td>2352815</td>\n",
       "      <td>185282</td>\n",
       "      <td>prior</td>\n",
       "      <td>5</td>\n",
       "      <td>2</td>\n",
       "      <td>9</td>\n",
       "      <td>6</td>\n",
       "    </tr>\n",
       "  </tbody>\n",
       "</table>\n",
       "</div>"
      ],
      "text/plain": [
       "   order_id  user_id eval_set  order_number  order_dow  order_hour_of_day  \\\n",
       "0   2352815   185282    prior             5          2                  9   \n",
       "\n",
       "   days_since_prior_order  \n",
       "0                       6  "
      ]
     },
     "execution_count": 6,
     "metadata": {},
     "output_type": "execute_result"
    }
   ],
   "source": [
    "# 첫 구매 후 다음 구매까지 걸린 평균 일수 \n",
    "order[order.user_id == 185282]"
   ]
  },
  {
   "cell_type": "code",
   "execution_count": 7,
   "id": "603a2730-6491-418b-98d9-cfb48db94b2b",
   "metadata": {},
   "outputs": [
    {
     "data": {
      "text/plain": [
       "13.651785714285714"
      ]
     },
     "execution_count": 7,
     "metadata": {},
     "output_type": "execute_result"
    }
   ],
   "source": [
    "order[order.order_number == 2]['days_since_prior_order'].mean()"
   ]
  },
  {
   "cell_type": "code",
   "execution_count": 8,
   "id": "440ccab8-1c91-4198-bf82-b7a2ffe3d494",
   "metadata": {},
   "outputs": [],
   "source": [
    "order_products__prior = pd.read_csv(\"./instacart_dataset/order_products__prior.csv\")"
   ]
  },
  {
   "cell_type": "code",
   "execution_count": 9,
   "id": "46df7da7-b4db-4cc4-b702-1404fdf8cc32",
   "metadata": {},
   "outputs": [
    {
     "data": {
      "text/plain": [
       "10.046670815183571"
      ]
     },
     "execution_count": 9,
     "metadata": {},
     "output_type": "execute_result"
    }
   ],
   "source": [
    "# 주문 건당 평균 구매 상품 수 \n",
    "order_products__prior.product_id.count() / order_products__prior.order_id.unique().size"
   ]
  },
  {
   "cell_type": "code",
   "execution_count": 10,
   "id": "68e3cca0-68e7-40ff-89cf-1fa89dce07ae",
   "metadata": {},
   "outputs": [
    {
     "data": {
      "text/html": [
       "<div>\n",
       "<style scoped>\n",
       "    .dataframe tbody tr th:only-of-type {\n",
       "        vertical-align: middle;\n",
       "    }\n",
       "\n",
       "    .dataframe tbody tr th {\n",
       "        vertical-align: top;\n",
       "    }\n",
       "\n",
       "    .dataframe thead th {\n",
       "        text-align: right;\n",
       "    }\n",
       "</style>\n",
       "<table border=\"1\" class=\"dataframe\">\n",
       "  <thead>\n",
       "    <tr style=\"text-align: right;\">\n",
       "      <th></th>\n",
       "      <th>order_id</th>\n",
       "      <th>product_id</th>\n",
       "      <th>add_to_cart_order</th>\n",
       "      <th>reordered</th>\n",
       "    </tr>\n",
       "  </thead>\n",
       "  <tbody>\n",
       "    <tr>\n",
       "      <th>0</th>\n",
       "      <td>2581</td>\n",
       "      <td>40174</td>\n",
       "      <td>1</td>\n",
       "      <td>0</td>\n",
       "    </tr>\n",
       "    <tr>\n",
       "      <th>1</th>\n",
       "      <td>2581</td>\n",
       "      <td>17461</td>\n",
       "      <td>2</td>\n",
       "      <td>0</td>\n",
       "    </tr>\n",
       "    <tr>\n",
       "      <th>2</th>\n",
       "      <td>2581</td>\n",
       "      <td>19731</td>\n",
       "      <td>3</td>\n",
       "      <td>1</td>\n",
       "    </tr>\n",
       "    <tr>\n",
       "      <th>3</th>\n",
       "      <td>5880</td>\n",
       "      <td>24838</td>\n",
       "      <td>1</td>\n",
       "      <td>1</td>\n",
       "    </tr>\n",
       "    <tr>\n",
       "      <th>4</th>\n",
       "      <td>5880</td>\n",
       "      <td>24852</td>\n",
       "      <td>2</td>\n",
       "      <td>1</td>\n",
       "    </tr>\n",
       "    <tr>\n",
       "      <th>...</th>\n",
       "      <td>...</td>\n",
       "      <td>...</td>\n",
       "      <td>...</td>\n",
       "      <td>...</td>\n",
       "    </tr>\n",
       "    <tr>\n",
       "      <th>32285</th>\n",
       "      <td>3420098</td>\n",
       "      <td>46676</td>\n",
       "      <td>9</td>\n",
       "      <td>0</td>\n",
       "    </tr>\n",
       "    <tr>\n",
       "      <th>32286</th>\n",
       "      <td>3420098</td>\n",
       "      <td>5240</td>\n",
       "      <td>10</td>\n",
       "      <td>0</td>\n",
       "    </tr>\n",
       "    <tr>\n",
       "      <th>32287</th>\n",
       "      <td>3420098</td>\n",
       "      <td>23375</td>\n",
       "      <td>11</td>\n",
       "      <td>0</td>\n",
       "    </tr>\n",
       "    <tr>\n",
       "      <th>32288</th>\n",
       "      <td>3420098</td>\n",
       "      <td>42342</td>\n",
       "      <td>12</td>\n",
       "      <td>0</td>\n",
       "    </tr>\n",
       "    <tr>\n",
       "      <th>32289</th>\n",
       "      <td>3420098</td>\n",
       "      <td>17706</td>\n",
       "      <td>13</td>\n",
       "      <td>1</td>\n",
       "    </tr>\n",
       "  </tbody>\n",
       "</table>\n",
       "<p>32290 rows × 4 columns</p>\n",
       "</div>"
      ],
      "text/plain": [
       "       order_id  product_id  add_to_cart_order  reordered\n",
       "0          2581       40174                  1          0\n",
       "1          2581       17461                  2          0\n",
       "2          2581       19731                  3          1\n",
       "3          5880       24838                  1          1\n",
       "4          5880       24852                  2          1\n",
       "...         ...         ...                ...        ...\n",
       "32285   3420098       46676                  9          0\n",
       "32286   3420098        5240                 10          0\n",
       "32287   3420098       23375                 11          0\n",
       "32288   3420098       42342                 12          0\n",
       "32289   3420098       17706                 13          1\n",
       "\n",
       "[32290 rows x 4 columns]"
      ]
     },
     "execution_count": 10,
     "metadata": {},
     "output_type": "execute_result"
    }
   ],
   "source": [
    "order_products__prior"
   ]
  },
  {
   "cell_type": "code",
   "execution_count": 15,
   "id": "753d096a-06b6-4f7d-95b1-179ce2f721af",
   "metadata": {},
   "outputs": [
    {
     "data": {
      "text/plain": [
       "product_id\n",
       "1        0.333333\n",
       "10       0.500000\n",
       "11       0.000000\n",
       "23       1.000000\n",
       "25       1.000000\n",
       "           ...   \n",
       "49677    1.000000\n",
       "49678    1.000000\n",
       "49680    1.000000\n",
       "49682    1.000000\n",
       "49683    0.703297\n",
       "Name: reordered, Length: 9288, dtype: float64"
      ]
     },
     "execution_count": 15,
     "metadata": {},
     "output_type": "execute_result"
    }
   ],
   "source": [
    "# 상품별 재구매율 계산, 1~10, 상품명\n",
    "order_products__prior.groupby(['product_id'])['reordered'].sum() /order_products__prior.groupby(['product_id'])['reordered'].count()"
   ]
  },
  {
   "cell_type": "code",
   "execution_count": 12,
   "id": "7065a7dd-becc-4781-8030-a92c23112bb0",
   "metadata": {},
   "outputs": [],
   "source": [
    "product = pd.read_csv(\"./instacart_dataset/products.csv\")"
   ]
  },
  {
   "cell_type": "code",
   "execution_count": 13,
   "id": "fd8bc211-0c89-4792-a72b-33ebc9c82592",
   "metadata": {},
   "outputs": [
    {
     "data": {
      "text/html": [
       "<div>\n",
       "<style scoped>\n",
       "    .dataframe tbody tr th:only-of-type {\n",
       "        vertical-align: middle;\n",
       "    }\n",
       "\n",
       "    .dataframe tbody tr th {\n",
       "        vertical-align: top;\n",
       "    }\n",
       "\n",
       "    .dataframe thead th {\n",
       "        text-align: right;\n",
       "    }\n",
       "</style>\n",
       "<table border=\"1\" class=\"dataframe\">\n",
       "  <thead>\n",
       "    <tr style=\"text-align: right;\">\n",
       "      <th></th>\n",
       "      <th>reordered</th>\n",
       "      <th>product_name</th>\n",
       "    </tr>\n",
       "    <tr>\n",
       "      <th>product_id</th>\n",
       "      <th></th>\n",
       "      <th></th>\n",
       "    </tr>\n",
       "  </thead>\n",
       "  <tbody>\n",
       "    <tr>\n",
       "      <th>47</th>\n",
       "      <td>1.0</td>\n",
       "      <td>Onion Flavor Organic Roasted Seaweed Snack</td>\n",
       "    </tr>\n",
       "    <tr>\n",
       "      <th>40</th>\n",
       "      <td>1.0</td>\n",
       "      <td>Beef Hot Links Beef Smoked Sausage With Chile ...</td>\n",
       "    </tr>\n",
       "    <tr>\n",
       "      <th>49682</th>\n",
       "      <td>1.0</td>\n",
       "      <td>California Limeade</td>\n",
       "    </tr>\n",
       "    <tr>\n",
       "      <th>49680</th>\n",
       "      <td>1.0</td>\n",
       "      <td>All Natural Creamy Caesar Dressing</td>\n",
       "    </tr>\n",
       "    <tr>\n",
       "      <th>49678</th>\n",
       "      <td>1.0</td>\n",
       "      <td>Large Chicken &amp; Cheese Taquitos</td>\n",
       "    </tr>\n",
       "    <tr>\n",
       "      <th>...</th>\n",
       "      <td>...</td>\n",
       "      <td>...</td>\n",
       "    </tr>\n",
       "    <tr>\n",
       "      <th>9473</th>\n",
       "      <td>0.0</td>\n",
       "      <td>Cabernet Sauvignon, California, 2011</td>\n",
       "    </tr>\n",
       "    <tr>\n",
       "      <th>9497</th>\n",
       "      <td>0.0</td>\n",
       "      <td>Smoothie Fruits Squished The Purple One Over 6...</td>\n",
       "    </tr>\n",
       "    <tr>\n",
       "      <th>9511</th>\n",
       "      <td>0.0</td>\n",
       "      <td>Small Breed Grain-Free Adult Dog Food</td>\n",
       "    </tr>\n",
       "    <tr>\n",
       "      <th>9537</th>\n",
       "      <td>0.0</td>\n",
       "      <td>Arugula</td>\n",
       "    </tr>\n",
       "    <tr>\n",
       "      <th>9587</th>\n",
       "      <td>0.0</td>\n",
       "      <td>Organic Shiitake &amp; Vegetable Potstickers</td>\n",
       "    </tr>\n",
       "  </tbody>\n",
       "</table>\n",
       "<p>9288 rows × 2 columns</p>\n",
       "</div>"
      ],
      "text/plain": [
       "            reordered                                       product_name\n",
       "product_id                                                              \n",
       "47                1.0         Onion Flavor Organic Roasted Seaweed Snack\n",
       "40                1.0  Beef Hot Links Beef Smoked Sausage With Chile ...\n",
       "49682             1.0                                 California Limeade\n",
       "49680             1.0                 All Natural Creamy Caesar Dressing\n",
       "49678             1.0                    Large Chicken & Cheese Taquitos\n",
       "...               ...                                                ...\n",
       "9473              0.0               Cabernet Sauvignon, California, 2011\n",
       "9497              0.0  Smoothie Fruits Squished The Purple One Over 6...\n",
       "9511              0.0              Small Breed Grain-Free Adult Dog Food\n",
       "9537              0.0                                            Arugula\n",
       "9587              0.0           Organic Shiitake & Vegetable Potstickers\n",
       "\n",
       "[9288 rows x 2 columns]"
      ]
     },
     "execution_count": 13,
     "metadata": {},
     "output_type": "execute_result"
    }
   ],
   "source": [
    "pd.concat([order_products__prior.groupby(['product_id'])['reordered'].sum() /\n",
    "    order_products__prior.groupby(['product_id'])['reordered'].count(), \n",
    "    product.set_index(\"product_id\")['product_name'] ] , axis=1).sort_values(by=['reordered'], ascending=False)"
   ]
  },
  {
   "cell_type": "code",
   "execution_count": null,
   "id": "d607793d-8015-46f4-bcf9-935bacb9557f",
   "metadata": {},
   "outputs": [],
   "source": []
  },
  {
   "cell_type": "code",
   "execution_count": null,
   "id": "f579e5cc-bd3a-4423-8d97-2b5012032efb",
   "metadata": {},
   "outputs": [],
   "source": []
  }
 ],
 "metadata": {
  "kernelspec": {
   "display_name": "Python 3 (ipykernel)",
   "language": "python",
   "name": "python3"
  },
  "language_info": {
   "codemirror_mode": {
    "name": "ipython",
    "version": 3
   },
   "file_extension": ".py",
   "mimetype": "text/x-python",
   "name": "python",
   "nbconvert_exporter": "python",
   "pygments_lexer": "ipython3",
   "version": "3.10.12"
  }
 },
 "nbformat": 4,
 "nbformat_minor": 5
}
