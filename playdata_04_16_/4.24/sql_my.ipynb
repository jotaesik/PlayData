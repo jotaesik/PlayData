{
 "cells": [
  {
   "cell_type": "code",
   "execution_count": 1,
   "id": "ba049db9-f1d2-4d7a-ac47-d9d24233a0de",
   "metadata": {},
   "outputs": [],
   "source": [
    "import pandas as pd"
   ]
  },
  {
   "cell_type": "code",
   "execution_count": 3,
   "id": "170e4b8a-f4c9-4439-89fd-afae2bd5f733",
   "metadata": {},
   "outputs": [],
   "source": [
    "order = pd.read_csv(\"./instacart_dataset/orders.csv\")"
   ]
  },
  {
   "cell_type": "code",
   "execution_count": 4,
   "id": "dac60b8a-e76f-4c63-aaf0-e434a475f85d",
   "metadata": {},
   "outputs": [
    {
     "data": {
      "text/html": [
       "<div>\n",
       "<style scoped>\n",
       "    .dataframe tbody tr th:only-of-type {\n",
       "        vertical-align: middle;\n",
       "    }\n",
       "\n",
       "    .dataframe tbody tr th {\n",
       "        vertical-align: top;\n",
       "    }\n",
       "\n",
       "    .dataframe thead th {\n",
       "        text-align: right;\n",
       "    }\n",
       "</style>\n",
       "<table border=\"1\" class=\"dataframe\">\n",
       "  <thead>\n",
       "    <tr style=\"text-align: right;\">\n",
       "      <th></th>\n",
       "      <th>order_id</th>\n",
       "      <th>user_id</th>\n",
       "      <th>eval_set</th>\n",
       "      <th>order_number</th>\n",
       "      <th>order_dow</th>\n",
       "      <th>order_hour_of_day</th>\n",
       "      <th>days_since_prior_order</th>\n",
       "    </tr>\n",
       "  </thead>\n",
       "  <tbody>\n",
       "    <tr>\n",
       "      <th>0</th>\n",
       "      <td>2352815</td>\n",
       "      <td>185282</td>\n",
       "      <td>prior</td>\n",
       "      <td>5</td>\n",
       "      <td>2</td>\n",
       "      <td>9</td>\n",
       "      <td>6</td>\n",
       "    </tr>\n",
       "    <tr>\n",
       "      <th>1</th>\n",
       "      <td>1414622</td>\n",
       "      <td>41949</td>\n",
       "      <td>prior</td>\n",
       "      <td>9</td>\n",
       "      <td>0</td>\n",
       "      <td>16</td>\n",
       "      <td>6</td>\n",
       "    </tr>\n",
       "    <tr>\n",
       "      <th>2</th>\n",
       "      <td>2534064</td>\n",
       "      <td>24631</td>\n",
       "      <td>prior</td>\n",
       "      <td>66</td>\n",
       "      <td>1</td>\n",
       "      <td>13</td>\n",
       "      <td>4</td>\n",
       "    </tr>\n",
       "  </tbody>\n",
       "</table>\n",
       "</div>"
      ],
      "text/plain": [
       "   order_id  user_id eval_set  order_number  order_dow  order_hour_of_day  \\\n",
       "0   2352815   185282    prior             5          2                  9   \n",
       "1   1414622    41949    prior             9          0                 16   \n",
       "2   2534064    24631    prior            66          1                 13   \n",
       "\n",
       "   days_since_prior_order  \n",
       "0                       6  \n",
       "1                       6  \n",
       "2                       4  "
      ]
     },
     "execution_count": 4,
     "metadata": {},
     "output_type": "execute_result"
    }
   ],
   "source": [
    "#시간별 주문건수\n",
    "order.head(3)"
   ]
  },
  {
   "cell_type": "code",
   "execution_count": 9,
   "id": "056e0260-065f-41ab-901b-a551318c7cd1",
   "metadata": {},
   "outputs": [
    {
     "data": {
      "text/plain": [
       "order_hour_of_day\n",
       "0      21\n",
       "1      12\n",
       "2       3\n",
       "3       7\n",
       "4       2\n",
       "5       4\n",
       "6      33\n",
       "7      95\n",
       "8     163\n",
       "9     239\n",
       "10    277\n",
       "11    242\n",
       "12    271\n",
       "13    291\n",
       "14    266\n",
       "15    250\n",
       "16    254\n",
       "17    220\n",
       "18    170\n",
       "19    135\n",
       "20    102\n",
       "21     63\n",
       "22     54\n",
       "23     46\n",
       "Name: count, dtype: int64"
      ]
     },
     "execution_count": 9,
     "metadata": {},
     "output_type": "execute_result"
    }
   ],
   "source": [
    "order.value_counts(\"order_hour_of_day\").sort_index()"
   ]
  },
  {
   "cell_type": "code",
   "execution_count": 7,
   "id": "e60423f7-c044-4456-86f0-ecf4aabb0b0b",
   "metadata": {},
   "outputs": [
    {
     "data": {
      "text/plain": [
       "order_hour_of_day\n",
       "0      21\n",
       "1      12\n",
       "2       3\n",
       "3       7\n",
       "4       2\n",
       "5       4\n",
       "6      33\n",
       "7      95\n",
       "8     163\n",
       "9     239\n",
       "10    277\n",
       "11    242\n",
       "12    271\n",
       "13    291\n",
       "14    266\n",
       "15    250\n",
       "16    254\n",
       "17    220\n",
       "18    170\n",
       "19    135\n",
       "20    102\n",
       "21     63\n",
       "22     54\n",
       "23     46\n",
       "Name: order_id, dtype: int64"
      ]
     },
     "execution_count": 7,
     "metadata": {},
     "output_type": "execute_result"
    }
   ],
   "source": [
    "order.groupby([\"order_hour_of_day\"])[\"order_id\"].count()"
   ]
  },
  {
   "cell_type": "code",
   "execution_count": 12,
   "id": "0919b816-7112-4e79-b2a2-0bf8ddeeab18",
   "metadata": {},
   "outputs": [
    {
     "data": {
      "text/html": [
       "<div>\n",
       "<style scoped>\n",
       "    .dataframe tbody tr th:only-of-type {\n",
       "        vertical-align: middle;\n",
       "    }\n",
       "\n",
       "    .dataframe tbody tr th {\n",
       "        vertical-align: top;\n",
       "    }\n",
       "\n",
       "    .dataframe thead th {\n",
       "        text-align: right;\n",
       "    }\n",
       "</style>\n",
       "<table border=\"1\" class=\"dataframe\">\n",
       "  <thead>\n",
       "    <tr style=\"text-align: right;\">\n",
       "      <th></th>\n",
       "      <th>order_id</th>\n",
       "      <th>user_id</th>\n",
       "      <th>eval_set</th>\n",
       "      <th>order_number</th>\n",
       "      <th>order_dow</th>\n",
       "      <th>order_hour_of_day</th>\n",
       "      <th>days_since_prior_order</th>\n",
       "    </tr>\n",
       "  </thead>\n",
       "  <tbody>\n",
       "    <tr>\n",
       "      <th>0</th>\n",
       "      <td>2352815</td>\n",
       "      <td>185282</td>\n",
       "      <td>prior</td>\n",
       "      <td>5</td>\n",
       "      <td>2</td>\n",
       "      <td>9</td>\n",
       "      <td>6</td>\n",
       "    </tr>\n",
       "  </tbody>\n",
       "</table>\n",
       "</div>"
      ],
      "text/plain": [
       "   order_id  user_id eval_set  order_number  order_dow  order_hour_of_day  \\\n",
       "0   2352815   185282    prior             5          2                  9   \n",
       "\n",
       "   days_since_prior_order  \n",
       "0                       6  "
      ]
     },
     "execution_count": 12,
     "metadata": {},
     "output_type": "execute_result"
    }
   ],
   "source": [
    "#이 유저의 5번째 주문이고 주문간격은 6일이다\n",
    "order[order.user_id==185282] "
   ]
  },
  {
   "cell_type": "code",
   "execution_count": 19,
   "id": "1efedb25-8d19-4d35-9f9e-0666f3dfcfc1",
   "metadata": {},
   "outputs": [
    {
     "data": {
      "text/plain": [
       "13.651785714285714"
      ]
     },
     "execution_count": 19,
     "metadata": {},
     "output_type": "execute_result"
    }
   ],
   "source": [
    "order[order.order_number==2].days_since_prior_order.mean()"
   ]
  },
  {
   "cell_type": "code",
   "execution_count": 24,
   "id": "60c3eb55-3437-46ed-9a96-f32415a02946",
   "metadata": {},
   "outputs": [],
   "source": [
    "order_proeducts__prior=pd.read_csv(\"./instacart_dataset/order_products__prior.csv\")"
   ]
  },
  {
   "cell_type": "code",
   "execution_count": 28,
   "id": "1b02b5aa-fe65-42d8-bf9c-a53a3f1d7e93",
   "metadata": {},
   "outputs": [
    {
     "data": {
      "text/plain": [
       "10.046670815183571"
      ]
     },
     "execution_count": 28,
     "metadata": {},
     "output_type": "execute_result"
    }
   ],
   "source": [
    "# 주문 건당 평균 구매 상품 수 \n",
    "order_proeducts__prior.product_id.count() / order_proeducts__prior.order_id.unique().size"
   ]
  },
  {
   "cell_type": "code",
   "execution_count": 33,
   "id": "80dee642-073a-467e-9216-1ef0e38811d0",
   "metadata": {},
   "outputs": [
    {
     "data": {
      "text/html": [
       "<div>\n",
       "<style scoped>\n",
       "    .dataframe tbody tr th:only-of-type {\n",
       "        vertical-align: middle;\n",
       "    }\n",
       "\n",
       "    .dataframe tbody tr th {\n",
       "        vertical-align: top;\n",
       "    }\n",
       "\n",
       "    .dataframe thead th {\n",
       "        text-align: right;\n",
       "    }\n",
       "</style>\n",
       "<table border=\"1\" class=\"dataframe\">\n",
       "  <thead>\n",
       "    <tr style=\"text-align: right;\">\n",
       "      <th></th>\n",
       "      <th>order_id</th>\n",
       "      <th>product_id</th>\n",
       "      <th>add_to_cart_order</th>\n",
       "      <th>reordered</th>\n",
       "    </tr>\n",
       "  </thead>\n",
       "  <tbody>\n",
       "    <tr>\n",
       "      <th>0</th>\n",
       "      <td>2581</td>\n",
       "      <td>40174</td>\n",
       "      <td>1</td>\n",
       "      <td>0</td>\n",
       "    </tr>\n",
       "    <tr>\n",
       "      <th>1</th>\n",
       "      <td>2581</td>\n",
       "      <td>17461</td>\n",
       "      <td>2</td>\n",
       "      <td>0</td>\n",
       "    </tr>\n",
       "    <tr>\n",
       "      <th>2</th>\n",
       "      <td>2581</td>\n",
       "      <td>19731</td>\n",
       "      <td>3</td>\n",
       "      <td>1</td>\n",
       "    </tr>\n",
       "  </tbody>\n",
       "</table>\n",
       "</div>"
      ],
      "text/plain": [
       "   order_id  product_id  add_to_cart_order  reordered\n",
       "0      2581       40174                  1          0\n",
       "1      2581       17461                  2          0\n",
       "2      2581       19731                  3          1"
      ]
     },
     "execution_count": 33,
     "metadata": {},
     "output_type": "execute_result"
    }
   ],
   "source": [
    "order_proeducts__prior.head(3)"
   ]
  },
  {
   "cell_type": "code",
   "execution_count": 67,
   "id": "679a9cff-93a7-4a46-8b0e-f6d9ebcc9c5e",
   "metadata": {},
   "outputs": [
    {
     "data": {
      "text/plain": [
       "product_id\n",
       "1         3\n",
       "10        2\n",
       "11        1\n",
       "23        1\n",
       "25        1\n",
       "         ..\n",
       "49677     1\n",
       "49678     1\n",
       "49680     1\n",
       "49682     1\n",
       "49683    91\n",
       "Name: reordered, Length: 9288, dtype: int64"
      ]
     },
     "execution_count": 67,
     "metadata": {},
     "output_type": "execute_result"
    }
   ],
   "source": [
    "order_proeducts__prior.groupby([\"product_id\"])[\"reordered\"].count()"
   ]
  },
  {
   "cell_type": "code",
   "execution_count": 68,
   "id": "d86374e3-5f8c-4a3b-a61c-49033c8afbeb",
   "metadata": {},
   "outputs": [
    {
     "data": {
      "text/plain": [
       "product_id\n",
       "1         1\n",
       "10        1\n",
       "11        0\n",
       "23        1\n",
       "25        1\n",
       "         ..\n",
       "49677     1\n",
       "49678     1\n",
       "49680     1\n",
       "49682     1\n",
       "49683    64\n",
       "Name: reordered, Length: 9288, dtype: int64"
      ]
     },
     "execution_count": 68,
     "metadata": {},
     "output_type": "execute_result"
    }
   ],
   "source": [
    "order_proeducts__prior.groupby([\"product_id\"])[\"reordered\"].sum()"
   ]
  },
  {
   "cell_type": "code",
   "execution_count": 55,
   "id": "587c0520-508f-4910-ba8a-457173f8ee81",
   "metadata": {},
   "outputs": [],
   "source": [
    "# order_proeducts__prior.reordered.level\n",
    "# 상품별 재구매율 계산,1~10위 상품명\n",
    "temp = (order_proeducts__prior.groupby([\"product_id\"])[\"reordered\"].sum() / order_proeducts__prior.groupby([\"product_id\"])[\"reordered\"].count()).reset_index()"
   ]
  },
  {
   "cell_type": "code",
   "execution_count": 75,
   "id": "36fbfb15-c692-4d40-ba85-7eb0096f480f",
   "metadata": {},
   "outputs": [
    {
     "data": {
      "text/html": [
       "<div>\n",
       "<style scoped>\n",
       "    .dataframe tbody tr th:only-of-type {\n",
       "        vertical-align: middle;\n",
       "    }\n",
       "\n",
       "    .dataframe tbody tr th {\n",
       "        vertical-align: top;\n",
       "    }\n",
       "\n",
       "    .dataframe thead th {\n",
       "        text-align: right;\n",
       "    }\n",
       "</style>\n",
       "<table border=\"1\" class=\"dataframe\">\n",
       "  <thead>\n",
       "    <tr style=\"text-align: right;\">\n",
       "      <th></th>\n",
       "      <th>product_id</th>\n",
       "      <th>reordered</th>\n",
       "    </tr>\n",
       "  </thead>\n",
       "  <tbody>\n",
       "    <tr>\n",
       "      <th>3</th>\n",
       "      <td>23</td>\n",
       "      <td>1.0</td>\n",
       "    </tr>\n",
       "    <tr>\n",
       "      <th>4</th>\n",
       "      <td>25</td>\n",
       "      <td>1.0</td>\n",
       "    </tr>\n",
       "    <tr>\n",
       "      <th>5</th>\n",
       "      <td>29</td>\n",
       "      <td>1.0</td>\n",
       "    </tr>\n",
       "    <tr>\n",
       "      <th>6</th>\n",
       "      <td>32</td>\n",
       "      <td>1.0</td>\n",
       "    </tr>\n",
       "    <tr>\n",
       "      <th>9</th>\n",
       "      <td>37</td>\n",
       "      <td>1.0</td>\n",
       "    </tr>\n",
       "    <tr>\n",
       "      <th>...</th>\n",
       "      <td>...</td>\n",
       "      <td>...</td>\n",
       "    </tr>\n",
       "    <tr>\n",
       "      <th>9277</th>\n",
       "      <td>49638</td>\n",
       "      <td>1.0</td>\n",
       "    </tr>\n",
       "    <tr>\n",
       "      <th>9283</th>\n",
       "      <td>49677</td>\n",
       "      <td>1.0</td>\n",
       "    </tr>\n",
       "    <tr>\n",
       "      <th>9284</th>\n",
       "      <td>49678</td>\n",
       "      <td>1.0</td>\n",
       "    </tr>\n",
       "    <tr>\n",
       "      <th>9285</th>\n",
       "      <td>49680</td>\n",
       "      <td>1.0</td>\n",
       "    </tr>\n",
       "    <tr>\n",
       "      <th>9286</th>\n",
       "      <td>49682</td>\n",
       "      <td>1.0</td>\n",
       "    </tr>\n",
       "  </tbody>\n",
       "</table>\n",
       "<p>3161 rows × 2 columns</p>\n",
       "</div>"
      ],
      "text/plain": [
       "      product_id  reordered\n",
       "3             23        1.0\n",
       "4             25        1.0\n",
       "5             29        1.0\n",
       "6             32        1.0\n",
       "9             37        1.0\n",
       "...          ...        ...\n",
       "9277       49638        1.0\n",
       "9283       49677        1.0\n",
       "9284       49678        1.0\n",
       "9285       49680        1.0\n",
       "9286       49682        1.0\n",
       "\n",
       "[3161 rows x 2 columns]"
      ]
     },
     "execution_count": 75,
     "metadata": {},
     "output_type": "execute_result"
    }
   ],
   "source": [
    "temp[temp.reordered==1]"
   ]
  },
  {
   "cell_type": "code",
   "execution_count": 60,
   "id": "c16633c3-12c8-4c2c-a251-252825aba9b3",
   "metadata": {},
   "outputs": [],
   "source": [
    "top10 = temp.sort_values([\"reordered\"],ascending=False)[:10]"
   ]
  },
  {
   "cell_type": "code",
   "execution_count": 61,
   "id": "2709808a-f0b5-4f5a-b3e0-c30d25b049b1",
   "metadata": {},
   "outputs": [],
   "source": [
    "products=pd.read_csv(\"./instacart_dataset/products.csv\")"
   ]
  },
  {
   "cell_type": "code",
   "execution_count": 70,
   "id": "3c04f5cc-8fae-4749-85bc-2e5d8e0ddcda",
   "metadata": {},
   "outputs": [
    {
     "data": {
      "text/plain": [
       "product_id\n",
       "1                            Chocolate Sandwich Cookies\n",
       "10       Sparkling Orange Juice & Prickly Pear Beverage\n",
       "11                                    Peach Mango Juice\n",
       "23                               Organic Turkey Burgers\n",
       "25              Salted Caramel Lean Protein & Fiber Bar\n",
       "                              ...                      \n",
       "49677                   Thick & Chunky Sloppy Joe Sauce\n",
       "49678                   Large Chicken & Cheese Taquitos\n",
       "49680                All Natural Creamy Caesar Dressing\n",
       "49682                                California Limeade\n",
       "49683                                    Cucumber Kirby\n",
       "Name: product_name, Length: 9288, dtype: object"
      ]
     },
     "execution_count": 70,
     "metadata": {},
     "output_type": "execute_result"
    }
   ],
   "source": [
    "products.set_index(\"product_id\")[\"product_name\"]"
   ]
  },
  {
   "cell_type": "code",
   "execution_count": 73,
   "id": "30b31304-160e-46fe-9a84-96326743a66e",
   "metadata": {},
   "outputs": [],
   "source": [
    "# pd.concat([order_proeducts__prior.groupby([\"product_id\"])[\"reordered\"].sum() / order_proeducts__prior.groupby([\"product_id\"])[\"reordered\"].count()],[products.set_index(\"product_id\")[\"product_name\"]])"
   ]
  },
  {
   "cell_type": "code",
   "execution_count": 76,
   "id": "f910be96-8407-46d0-b58a-98cbf5fb9f08",
   "metadata": {},
   "outputs": [
    {
     "data": {
      "text/html": [
       "<div>\n",
       "<style scoped>\n",
       "    .dataframe tbody tr th:only-of-type {\n",
       "        vertical-align: middle;\n",
       "    }\n",
       "\n",
       "    .dataframe tbody tr th {\n",
       "        vertical-align: top;\n",
       "    }\n",
       "\n",
       "    .dataframe thead th {\n",
       "        text-align: right;\n",
       "    }\n",
       "</style>\n",
       "<table border=\"1\" class=\"dataframe\">\n",
       "  <thead>\n",
       "    <tr style=\"text-align: right;\">\n",
       "      <th></th>\n",
       "      <th>product_id</th>\n",
       "      <th>reordered</th>\n",
       "      <th>product_name</th>\n",
       "      <th>aisle_id</th>\n",
       "      <th>department_id</th>\n",
       "    </tr>\n",
       "  </thead>\n",
       "  <tbody>\n",
       "    <tr>\n",
       "      <th>0</th>\n",
       "      <td>47</td>\n",
       "      <td>1.0</td>\n",
       "      <td>Onion Flavor Organic Roasted Seaweed Snack</td>\n",
       "      <td>66</td>\n",
       "      <td>6</td>\n",
       "    </tr>\n",
       "    <tr>\n",
       "      <th>1</th>\n",
       "      <td>40</td>\n",
       "      <td>1.0</td>\n",
       "      <td>Beef Hot Links Beef Smoked Sausage With Chile ...</td>\n",
       "      <td>106</td>\n",
       "      <td>12</td>\n",
       "    </tr>\n",
       "    <tr>\n",
       "      <th>2</th>\n",
       "      <td>49682</td>\n",
       "      <td>1.0</td>\n",
       "      <td>California Limeade</td>\n",
       "      <td>98</td>\n",
       "      <td>7</td>\n",
       "    </tr>\n",
       "    <tr>\n",
       "      <th>3</th>\n",
       "      <td>49680</td>\n",
       "      <td>1.0</td>\n",
       "      <td>All Natural Creamy Caesar Dressing</td>\n",
       "      <td>89</td>\n",
       "      <td>13</td>\n",
       "    </tr>\n",
       "    <tr>\n",
       "      <th>4</th>\n",
       "      <td>49678</td>\n",
       "      <td>1.0</td>\n",
       "      <td>Large Chicken &amp; Cheese Taquitos</td>\n",
       "      <td>129</td>\n",
       "      <td>1</td>\n",
       "    </tr>\n",
       "    <tr>\n",
       "      <th>5</th>\n",
       "      <td>23</td>\n",
       "      <td>1.0</td>\n",
       "      <td>Organic Turkey Burgers</td>\n",
       "      <td>49</td>\n",
       "      <td>12</td>\n",
       "    </tr>\n",
       "    <tr>\n",
       "      <th>6</th>\n",
       "      <td>49451</td>\n",
       "      <td>1.0</td>\n",
       "      <td>Artichoke Spinach Dip</td>\n",
       "      <td>67</td>\n",
       "      <td>20</td>\n",
       "    </tr>\n",
       "    <tr>\n",
       "      <th>7</th>\n",
       "      <td>37</td>\n",
       "      <td>1.0</td>\n",
       "      <td>Noodle Soup Mix With Chicken Broth</td>\n",
       "      <td>69</td>\n",
       "      <td>15</td>\n",
       "    </tr>\n",
       "    <tr>\n",
       "      <th>8</th>\n",
       "      <td>49488</td>\n",
       "      <td>1.0</td>\n",
       "      <td>Jasmine Green Iced Tea</td>\n",
       "      <td>66</td>\n",
       "      <td>6</td>\n",
       "    </tr>\n",
       "    <tr>\n",
       "      <th>9</th>\n",
       "      <td>49426</td>\n",
       "      <td>1.0</td>\n",
       "      <td>Hommus Balsamic Caramelized Onion</td>\n",
       "      <td>67</td>\n",
       "      <td>20</td>\n",
       "    </tr>\n",
       "  </tbody>\n",
       "</table>\n",
       "</div>"
      ],
      "text/plain": [
       "   product_id  reordered                                       product_name  \\\n",
       "0          47        1.0         Onion Flavor Organic Roasted Seaweed Snack   \n",
       "1          40        1.0  Beef Hot Links Beef Smoked Sausage With Chile ...   \n",
       "2       49682        1.0                                 California Limeade   \n",
       "3       49680        1.0                 All Natural Creamy Caesar Dressing   \n",
       "4       49678        1.0                    Large Chicken & Cheese Taquitos   \n",
       "5          23        1.0                             Organic Turkey Burgers   \n",
       "6       49451        1.0                              Artichoke Spinach Dip   \n",
       "7          37        1.0                 Noodle Soup Mix With Chicken Broth   \n",
       "8       49488        1.0                             Jasmine Green Iced Tea   \n",
       "9       49426        1.0                  Hommus Balsamic Caramelized Onion   \n",
       "\n",
       "   aisle_id  department_id  \n",
       "0        66              6  \n",
       "1       106             12  \n",
       "2        98              7  \n",
       "3        89             13  \n",
       "4       129              1  \n",
       "5        49             12  \n",
       "6        67             20  \n",
       "7        69             15  \n",
       "8        66              6  \n",
       "9        67             20  "
      ]
     },
     "execution_count": 76,
     "metadata": {},
     "output_type": "execute_result"
    }
   ],
   "source": [
    "pd.merge(left = top10 , right = products, how = \"inner\", on = \"product_id\")"
   ]
  },
  {
   "cell_type": "code",
   "execution_count": null,
   "id": "c8f463fe-2f58-44eb-b3f8-35513cf94419",
   "metadata": {},
   "outputs": [],
   "source": []
  },
  {
   "cell_type": "code",
   "execution_count": 66,
   "id": "0b8f6da0-d6d5-40e9-9285-c5014ea81d7b",
   "metadata": {},
   "outputs": [
    {
     "data": {
      "text/plain": [
       "32290"
      ]
     },
     "execution_count": 66,
     "metadata": {},
     "output_type": "execute_result"
    }
   ],
   "source": [
    "order_proeducts__prior.shape[0]"
   ]
  },
  {
   "cell_type": "code",
   "execution_count": 65,
   "id": "ec429bbc-2954-4a20-afe1-e36686b1a1e3",
   "metadata": {},
   "outputs": [
    {
     "data": {
      "text/plain": [
       "product_id\n",
       "1        0.000031\n",
       "10       0.000031\n",
       "11       0.000000\n",
       "23       0.000031\n",
       "25       0.000031\n",
       "           ...   \n",
       "49677    0.000031\n",
       "49678    0.000031\n",
       "49680    0.000031\n",
       "49682    0.000031\n",
       "49683    0.001982\n",
       "Name: reordered, Length: 9288, dtype: float64"
      ]
     },
     "execution_count": 65,
     "metadata": {},
     "output_type": "execute_result"
    }
   ],
   "source": [
    "order_proeducts__prior.groupby([\"product_id\"])[\"reordered\"].sum() / order_proeducts__prior.shape[0]"
   ]
  },
  {
   "cell_type": "code",
   "execution_count": null,
   "id": "b1d347f6-46be-47ea-8781-a3c4d9f8b68c",
   "metadata": {},
   "outputs": [],
   "source": [
    "# SELECT order_hour_of_day,\n",
    "# COUNT(DISTINCT order_id) result\n",
    "# FROM orders_1\n",
    "# GROUP BY 1\n",
    "# ORDER BY 1"
   ]
  },
  {
   "cell_type": "code",
   "execution_count": null,
   "id": "f126bf34-b384-4138-a7ad-af92588a97d7",
   "metadata": {},
   "outputs": [],
   "source": [
    "# SELECT AVG(days_since_prior_order)\n",
    "# FROM orders_1\n",
    "# WHERE order_number=2"
   ]
  },
  {
   "cell_type": "code",
   "execution_count": null,
   "id": "545c6514-1f22-4684-aa61-d8afce670b96",
   "metadata": {},
   "outputs": [],
   "source": [
    "# SELECT COUNT(product_id)/COUNT(DISTINCT order_id)\n",
    "# FROM order_products__prior"
   ]
  },
  {
   "cell_type": "code",
   "execution_count": null,
   "id": "e247e262-72ca-40b6-8792-2b2e6216fb8f",
   "metadata": {},
   "outputs": [],
   "source": [
    "# #DHCP\n",
    "# SELECT B.product_id, temp , product_name FROM (SELECT *  FROM (SELECT product_id, SUM(reordered), COUNT(reordered),  SUM(reordered)/COUNT(reordered) AS temp\n",
    "# FROM order_products__prior\n",
    "# GROUP BY 1\n",
    "# ORDER BY temp DESC) A LIMIT 10) B\n",
    "# LEFT JOIN\n",
    "# products_1 C\n",
    "# ON B.product_id=C.product_id"
   ]
  },
  {
   "cell_type": "code",
   "execution_count": null,
   "id": "0ea6d350-575d-4f84-8b25-8f08048d812e",
   "metadata": {},
   "outputs": [],
   "source": [
    "# SELECT A.product_id, B.product_name, A.result\n",
    "# FROM \n",
    "# (SELECT product_id , result\n",
    "# FROM order_products__prior\n",
    "# GROUP BY 1) A\n",
    "# LEFT JOIN products_1 B\n",
    "# ON A.product_id=B.product_id\n",
    "# ORDER BY 3 DESC"
   ]
  }
 ],
 "metadata": {
  "kernelspec": {
   "display_name": "Python 3 (ipykernel)",
   "language": "python",
   "name": "python3"
  },
  "language_info": {
   "codemirror_mode": {
    "name": "ipython",
    "version": 3
   },
   "file_extension": ".py",
   "mimetype": "text/x-python",
   "name": "python",
   "nbconvert_exporter": "python",
   "pygments_lexer": "ipython3",
   "version": "3.10.12"
  }
 },
 "nbformat": 4,
 "nbformat_minor": 5
}
