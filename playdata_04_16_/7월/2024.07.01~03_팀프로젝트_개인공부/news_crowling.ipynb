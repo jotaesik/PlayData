{
 "cells": [
  {
   "cell_type": "code",
   "execution_count": 1,
   "id": "0e9ca9b3-0acf-4835-850b-c44077263fab",
   "metadata": {},
   "outputs": [],
   "source": [
    "import requests\n",
    "import pandas as pd \n",
    "import xml.etree.ElementTree as ET\n",
    "from bs4 import BeautifulSoup"
   ]
  },
  {
   "cell_type": "code",
   "execution_count": 2,
   "id": "401337f8-51cc-4c39-b6c0-149ed1ac9a36",
   "metadata": {},
   "outputs": [],
   "source": [
    "main_section = [100,101,102,103,105,104] # 정치 경제 사회 생활/문화 it/과학 세계"
   ]
  },
  {
   "cell_type": "code",
   "execution_count": 3,
   "id": "ab5d8848-6649-45ea-b207-04705e02d38c",
   "metadata": {},
   "outputs": [],
   "source": [
    "sub_section_100 = [264,265,268,266,267,269]\n",
    "sub_section_101 = [259,258,261,771,260,262,310.,263] \n",
    "sub_section_102 = [249,250,251,254,252,\"59b\",255,256,276,257] \n",
    "sub_section_103 = [241,239,240,237,238,376,242,243,244,248,245] \n",
    "sub_section_105 = [731,226,227,230,732,283,229,228] \n",
    "sub_section_104 = [231,232,233,234,322]"
   ]
  },
  {
   "cell_type": "code",
   "execution_count": 4,
   "id": "8d9a1061-33dc-4e62-83af-f39473b8f74a",
   "metadata": {},
   "outputs": [],
   "source": [
    "date_time = []"
   ]
  },
  {
   "cell_type": "code",
   "execution_count": 5,
   "id": "2a71505d-9218-4348-9463-6de226b61451",
   "metadata": {},
   "outputs": [],
   "source": [
    "from datetime import datetime, timedelta\n",
    "start_date = datetime(2024, 6, 1)\n",
    "end_date = datetime(2024, 6, 30)\n",
    "current_date = start_date\n",
    "while current_date <= end_date:\n",
    "    formatted_date = current_date.strftime(\"%Y%m%d\")\n",
    "    # print(formatted_date)\n",
    "    date_time.append(formatted_date)\n",
    "    current_date += timedelta(days=1)"
   ]
  },
  {
   "cell_type": "code",
   "execution_count": 6,
   "id": "d3ad6225-f89b-4fa8-95ca-9ee511c1041a",
   "metadata": {},
   "outputs": [],
   "source": [
    "from tqdm import tqdm"
   ]
  },
  {
   "cell_type": "code",
   "execution_count": 7,
   "id": "15955969-2186-40d1-bfce-826b26456065",
   "metadata": {},
   "outputs": [],
   "source": [
    "hrefs = [] # 전체 저장할 href"
   ]
  },
  {
   "cell_type": "code",
   "execution_count": 8,
   "id": "d5938081-169b-4a3b-a7ab-2458e4b8d449",
   "metadata": {},
   "outputs": [],
   "source": [
    "def func(i,j,hrefs):\n",
    "    default_url = f\"https://news.naver.com/breakingnews/section/{i}/{j}?date={date_time[-1]}\" #무조건 첫페이지...\n",
    "    pageNo = 0 #페이지인지해줘야한다\n",
    "    # link_number\n",
    "    # has_next\n",
    "    # link_number\n",
    "    # 0번째 뉴스 읽기..\n",
    " \n",
    "    r = requests.get(default_url)\n",
    "    soup = BeautifulSoup(r.text, 'html.parser')\n",
    "    link_number = soup.find(class_='section_latest_article _CONTENT_LIST _PERSIST_META')[\"data-cursor\"] #첫번째꺼에만..요걸루\n",
    "    has_next = soup.find(class_='section_latest_article _CONTENT_LIST _PERSIST_META')[\"data-has-next\"]\n",
    "    links = soup.find_all(class_ = \"sa_text_title\")\n",
    "    hrefs.extend([link.get('href') for link in links])\n",
    "    while True:\n",
    "        if has_next == 'true':\n",
    "            # print(\"A\")\n",
    "            pageNo+=1 #이제 읽을거니깐\n",
    "            new_url = f\"https://news.naver.com/section/template/SECTION_ARTICLE_LIST_FOR_LATEST?sid={main_section[0]}&sid2={sub_section_100[0]}&cluid=&pageNo={pageNo}&date={date_time[-1]}&next={link_number}\"\n",
    "            # print(new_url)\n",
    "            r1 = requests.get(new_url)\n",
    "            json_r1 = r1.json()\n",
    "            json_r1_link_number1 = json_r1[\"renderedComponent\"][\"SECTION_ARTICLE_LIST_FOR_LATEST\"]\n",
    "            soup1 = BeautifulSoup(json_r1_link_number1, \"html.parser\")\n",
    "            link_number = soup1.find(class_='section_latest_article _CONTENT_LIST _PERSIST_META')[\"data-cursor\"]\n",
    "            # print(link_number)\n",
    "            has_next = soup1.find(class_='section_latest_article _CONTENT_LIST _PERSIST_META')[\"data-has-next\"]\n",
    "            links = soup1.find_all(class_ = \"sa_text_title\")\n",
    "            hrefs.append([link.get('href') for link in links])\n",
    "            # break\n",
    "            # print(has_next1)\n",
    "            # if has_next== 'false':\n",
    "                    # break  # 더 이상 다음 페이지가 없으면 반복문 종료\n",
    "        else:\n",
    "            break  # 첫 번째 페이지에서 has_next가 false인 경우 바로 종료\n",
    "    return hrefs"
   ]
  },
  {
   "cell_type": "code",
   "execution_count": 9,
   "id": "27119f40-9e44-4bb4-8c0e-8a1fc056871a",
   "metadata": {},
   "outputs": [
    {
     "name": "stderr",
     "output_type": "stream",
     "text": [
      " 17%|██████████████▏                                                                      | 1/6 [00:09<00:45,  9.04s/it]\n"
     ]
    },
    {
     "ename": "TypeError",
     "evalue": "'NoneType' object is not subscriptable",
     "output_type": "error",
     "traceback": [
      "\u001b[0;31m---------------------------------------------------------------------------\u001b[0m",
      "\u001b[0;31mTypeError\u001b[0m                                 Traceback (most recent call last)",
      "Cell \u001b[0;32mIn[9], line 7\u001b[0m\n\u001b[1;32m      5\u001b[0m \u001b[38;5;28;01melif\u001b[39;00m i \u001b[38;5;241m==\u001b[39m \u001b[38;5;241m101\u001b[39m:\n\u001b[1;32m      6\u001b[0m     \u001b[38;5;28;01mfor\u001b[39;00m j \u001b[38;5;129;01min\u001b[39;00m sub_section_101:\n\u001b[0;32m----> 7\u001b[0m         \u001b[43mfunc\u001b[49m\u001b[43m(\u001b[49m\u001b[43mi\u001b[49m\u001b[43m,\u001b[49m\u001b[43mj\u001b[49m\u001b[43m,\u001b[49m\u001b[43mhrefs\u001b[49m\u001b[43m)\u001b[49m\n\u001b[1;32m      8\u001b[0m \u001b[38;5;28;01melif\u001b[39;00m i \u001b[38;5;241m==\u001b[39m \u001b[38;5;241m102\u001b[39m:\n\u001b[1;32m      9\u001b[0m     \u001b[38;5;28;01mfor\u001b[39;00m j \u001b[38;5;129;01min\u001b[39;00m sub_section_102:\n",
      "Cell \u001b[0;32mIn[8], line 11\u001b[0m, in \u001b[0;36mfunc\u001b[0;34m(i, j, hrefs)\u001b[0m\n\u001b[1;32m      9\u001b[0m r \u001b[38;5;241m=\u001b[39m requests\u001b[38;5;241m.\u001b[39mget(default_url)\n\u001b[1;32m     10\u001b[0m soup \u001b[38;5;241m=\u001b[39m BeautifulSoup(r\u001b[38;5;241m.\u001b[39mtext, \u001b[38;5;124m'\u001b[39m\u001b[38;5;124mhtml.parser\u001b[39m\u001b[38;5;124m'\u001b[39m)\n\u001b[0;32m---> 11\u001b[0m link_number \u001b[38;5;241m=\u001b[39m \u001b[43msoup\u001b[49m\u001b[38;5;241;43m.\u001b[39;49m\u001b[43mfind\u001b[49m\u001b[43m(\u001b[49m\u001b[43mclass_\u001b[49m\u001b[38;5;241;43m=\u001b[39;49m\u001b[38;5;124;43m'\u001b[39;49m\u001b[38;5;124;43msection_latest_article _CONTENT_LIST _PERSIST_META\u001b[39;49m\u001b[38;5;124;43m'\u001b[39;49m\u001b[43m)\u001b[49m\u001b[43m[\u001b[49m\u001b[38;5;124;43m\"\u001b[39;49m\u001b[38;5;124;43mdata-cursor\u001b[39;49m\u001b[38;5;124;43m\"\u001b[39;49m\u001b[43m]\u001b[49m \u001b[38;5;66;03m#첫번째꺼에만..요걸루\u001b[39;00m\n\u001b[1;32m     12\u001b[0m has_next \u001b[38;5;241m=\u001b[39m soup\u001b[38;5;241m.\u001b[39mfind(class_\u001b[38;5;241m=\u001b[39m\u001b[38;5;124m'\u001b[39m\u001b[38;5;124msection_latest_article _CONTENT_LIST _PERSIST_META\u001b[39m\u001b[38;5;124m'\u001b[39m)[\u001b[38;5;124m\"\u001b[39m\u001b[38;5;124mdata-has-next\u001b[39m\u001b[38;5;124m\"\u001b[39m]\n\u001b[1;32m     13\u001b[0m links \u001b[38;5;241m=\u001b[39m soup\u001b[38;5;241m.\u001b[39mfind_all(class_ \u001b[38;5;241m=\u001b[39m \u001b[38;5;124m\"\u001b[39m\u001b[38;5;124msa_text_title\u001b[39m\u001b[38;5;124m\"\u001b[39m)\n",
      "\u001b[0;31mTypeError\u001b[0m: 'NoneType' object is not subscriptable"
     ]
    }
   ],
   "source": [
    "for i in tqdm(main_section):\n",
    "    if i == 100:\n",
    "        for j in sub_section_100:\n",
    "            func(i,j,hrefs)\n",
    "    elif i == 101:\n",
    "        for j in sub_section_101:\n",
    "            func(i,j,hrefs)\n",
    "    elif i == 102:\n",
    "        for j in sub_section_102:\n",
    "            func(i,j,hrefs)\n",
    "    elif i == 103:\n",
    "        for j in sub_section_103:\n",
    "            func(i,j,hrefs)\n",
    "    elif i ==104:\n",
    "        for j in sub_section_104:\n",
    "            func(i,j,hrefs)\n",
    "    elif i ==105:\n",
    "        for j in sub_section_105:\n",
    "            func(i,j,hrefs)\n",
    "    else:\n",
    "        print(\"존재하지 않는 main_section\")"
   ]
  },
  {
   "cell_type": "code",
   "execution_count": null,
   "id": "c85e8ecf-5cd7-43f0-b508-20b1d5a6f7fb",
   "metadata": {},
   "outputs": [],
   "source": []
  },
  {
   "cell_type": "markdown",
   "id": "3509c706-c6d0-440f-b321-9c07e1797d71",
   "metadata": {},
   "source": [
    "# bottom_up 방식"
   ]
  },
  {
   "cell_type": "code",
   "execution_count": null,
   "id": "30d42ba1-2c41-4c1d-8e9f-6587d6d35be4",
   "metadata": {},
   "outputs": [],
   "source": [
    "pageNo+=1"
   ]
  },
  {
   "cell_type": "code",
   "execution_count": null,
   "id": "8771e047-5800-449b-b606-ff5009c1dc73",
   "metadata": {},
   "outputs": [],
   "source": [
    "new_url = f\"https://news.naver.com/section/template/SECTION_ARTICLE_LIST_FOR_LATEST?sid={main_section[0]}&sid2={sub_section_100[0]}&cluid=&pageNo={pageNo}&date={date_time[-1]}&next={link_number1}\""
   ]
  },
  {
   "cell_type": "code",
   "execution_count": null,
   "id": "d7bb976b-d06f-4d50-a5a4-cb8d64493968",
   "metadata": {},
   "outputs": [],
   "source": [
    "new_url"
   ]
  },
  {
   "cell_type": "code",
   "execution_count": null,
   "id": "0e52e736-97f4-451c-a727-7704287d293b",
   "metadata": {},
   "outputs": [],
   "source": [
    "r2 = requests.get('https://news.naver.com/section/template/SECTION_ARTICLE_LIST_FOR_LATEST?sid=100&sid2=264&cluid=&pageNo=1&date=20240630&next=2024063010581933008')\n",
    "json_r2 = r2.json()\n",
    "json_r2_link_number2 = json_r2[\"renderedComponent\"][\"SECTION_ARTICLE_LIST_FOR_LATEST\"]\n",
    "soup2 = BeautifulSoup(json_r2_link_number2, \"html.parser\")\n",
    "link_number2 = soup2.find(class_='section_latest_article _CONTENT_LIST _PERSIST_META')[\"data-cursor\"]\n",
    "link_number2\n",
    "has_next2 = soup2.find(class_='section_latest_article _CONTENT_LIST _PERSIST_META')[\"data-has-next\"]\n",
    "has_next2\n",
    "# has_true = soup2.find(class_='section_latest_article _CONTENT_LIST _PERSIST_META')[\"data-persist-meta\"]\n",
    "# has_true"
   ]
  },
  {
   "cell_type": "code",
   "execution_count": null,
   "id": "9ffa029b-2a0c-4f80-a994-c3f22df270c9",
   "metadata": {},
   "outputs": [],
   "source": [
    "# soup2.find(class_='section_latest_article _CONTENT_LIST _PERSIST_META')"
   ]
  },
  {
   "cell_type": "code",
   "execution_count": null,
   "id": "fc8ea515-678d-4117-97dd-b7a2090a5c99",
   "metadata": {},
   "outputs": [],
   "source": [
    "new_url = f\"https://news.naver.com/section/template/SECTION_ARTICLE_LIST_FOR_LATEST?sid={main_section[0]}&sid2={sub_section_100[0]}&cluid=&pageNo={pageNo}&date={date_time[-1]}&next={link_number2}\""
   ]
  },
  {
   "cell_type": "code",
   "execution_count": null,
   "id": "2d718849-c8e4-440c-87d8-df8f7817a05f",
   "metadata": {},
   "outputs": [],
   "source": [
    "pageNo+=1"
   ]
  },
  {
   "cell_type": "code",
   "execution_count": null,
   "id": "2b570c90-5cc1-4561-88ae-7bf61f7414ab",
   "metadata": {},
   "outputs": [],
   "source": [
    "r2 = requests.get(new_url)\n",
    "json_r2 = r2.json()\n",
    "json_r2_link_number2 = json_r2[\"renderedComponent\"][\"SECTION_ARTICLE_LIST_FOR_LATEST\"]\n",
    "soup2 = BeautifulSoup(json_r2_link_number2, \"html.parser\")\n",
    "link_number2 = soup2.find(class_='section_latest_article _CONTENT_LIST _PERSIST_META')[\"data-cursor\"]\n",
    "link_number2\n",
    "has_next2 = soup2.find(class_='section_latest_article _CONTENT_LIST _PERSIST_META')[\"data-has-next\"]\n",
    "has_next2\n",
    "# has_true = soup2.find(class_='section_latest_article _CONTENT_LIST _PERSIST_META')[\"data-persist-meta\"]\n",
    "# has_true"
   ]
  },
  {
   "cell_type": "code",
   "execution_count": null,
   "id": "e3c2172d-167e-493b-8d13-3469aee5835c",
   "metadata": {},
   "outputs": [],
   "source": [
    "# section article list\n",
    "# news comment count \n",
    "# 맨마지막에 news_Comment에 다 있다"
   ]
  },
  {
   "cell_type": "code",
   "execution_count": null,
   "id": "b89c72fd-6f84-470d-88e7-c30085e01f1b",
   "metadata": {},
   "outputs": [],
   "source": [
    "# has_next가 false면 그만받고"
   ]
  },
  {
   "cell_type": "code",
   "execution_count": null,
   "id": "1d209cc7-ade4-4f31-988c-2d7ce51c4843",
   "metadata": {},
   "outputs": [],
   "source": [
    "# soup2"
   ]
  },
  {
   "cell_type": "code",
   "execution_count": null,
   "id": "73fa407b-7975-40b3-b0d7-0f92dae899df",
   "metadata": {},
   "outputs": [],
   "source": [
    "soup2.find_all(class_ = \"section_latest\")"
   ]
  },
  {
   "cell_type": "code",
   "execution_count": null,
   "id": "b0546433-d632-4130-ac40-6cb17fbe1653",
   "metadata": {},
   "outputs": [],
   "source": [
    "new_url"
   ]
  }
 ],
 "metadata": {
  "kernelspec": {
   "display_name": "Python 3 (ipykernel)",
   "language": "python",
   "name": "python3"
  },
  "language_info": {
   "codemirror_mode": {
    "name": "ipython",
    "version": 3
   },
   "file_extension": ".py",
   "mimetype": "text/x-python",
   "name": "python",
   "nbconvert_exporter": "python",
   "pygments_lexer": "ipython3",
   "version": "3.10.14"
  }
 },
 "nbformat": 4,
 "nbformat_minor": 5
}
