{
 "cells": [
  {
   "cell_type": "code",
   "execution_count": 14,
   "id": "9154f059-ee12-4565-bc5d-c003a44a130f",
   "metadata": {},
   "outputs": [],
   "source": [
    "import csv\n",
    "import pandas as pd\n",
    "import requests\n",
    "from bs4 import BeautifulSoup as bs\n",
    "from datetime import datetime, timedelta\n",
    "from tqdm import tqdm\n",
    "import json\n",
    "df = pd.read_csv('data_processing1.csv')"
   ]
  },
  {
   "cell_type": "code",
   "execution_count": 15,
   "id": "c02948a6-9e39-4809-9cda-890d13aab519",
   "metadata": {},
   "outputs": [
    {
     "data": {
      "text/html": [
       "<div>\n",
       "<style scoped>\n",
       "    .dataframe tbody tr th:only-of-type {\n",
       "        vertical-align: middle;\n",
       "    }\n",
       "\n",
       "    .dataframe tbody tr th {\n",
       "        vertical-align: top;\n",
       "    }\n",
       "\n",
       "    .dataframe thead th {\n",
       "        text-align: right;\n",
       "    }\n",
       "</style>\n",
       "<table border=\"1\" class=\"dataframe\">\n",
       "  <thead>\n",
       "    <tr style=\"text-align: right;\">\n",
       "      <th></th>\n",
       "      <th>tm</th>\n",
       "      <th>ta</th>\n",
       "      <th>rn</th>\n",
       "      <th>ws</th>\n",
       "      <th>wd</th>\n",
       "      <th>hm</th>\n",
       "      <th>pa</th>\n",
       "      <th>dc10Tca</th>\n",
       "      <th>dmstMtphNo</th>\n",
       "      <th>aplYmd</th>\n",
       "      <th>lareaNm</th>\n",
       "      <th>mareaNm</th>\n",
       "      <th>wetrCd</th>\n",
       "      <th>wetrTxt</th>\n",
       "      <th>wetrSplit</th>\n",
       "      <th>new_list</th>\n",
       "    </tr>\n",
       "  </thead>\n",
       "  <tbody>\n",
       "    <tr>\n",
       "      <th>0</th>\n",
       "      <td>2019-12-29 00:00</td>\n",
       "      <td>1.4</td>\n",
       "      <td>0.0</td>\n",
       "      <td>1.8</td>\n",
       "      <td>50.0</td>\n",
       "      <td>57</td>\n",
       "      <td>1018.2</td>\n",
       "      <td>3.0</td>\n",
       "      <td>NaN</td>\n",
       "      <td>20191229</td>\n",
       "      <td>서울특별시</td>\n",
       "      <td>종로구</td>\n",
       "      <td>9.0</td>\n",
       "      <td>흐림/비</td>\n",
       "      <td>['흐림', '비']</td>\n",
       "      <td>['92', '01']</td>\n",
       "    </tr>\n",
       "  </tbody>\n",
       "</table>\n",
       "</div>"
      ],
      "text/plain": [
       "                 tm   ta   rn   ws    wd  hm      pa  dc10Tca  dmstMtphNo  \\\n",
       "0  2019-12-29 00:00  1.4  0.0  1.8  50.0  57  1018.2      3.0         NaN   \n",
       "\n",
       "     aplYmd lareaNm mareaNm  wetrCd wetrTxt    wetrSplit      new_list  \n",
       "0  20191229   서울특별시     종로구     9.0    흐림/비  ['흐림', '비']  ['92', '01']  "
      ]
     },
     "execution_count": 15,
     "metadata": {},
     "output_type": "execute_result"
    }
   ],
   "source": [
    "df.head(1)"
   ]
  },
  {
   "cell_type": "code",
   "execution_count": 16,
   "id": "f7f8ffad-4b7a-424b-a4b5-623ed9535c90",
   "metadata": {},
   "outputs": [],
   "source": [
    "# 날씨1 날씨2 컬럼만들기\n",
    "df[\"weather_1\"] = None\n",
    "df[\"weather_2\"] = None"
   ]
  },
  {
   "cell_type": "code",
   "execution_count": 17,
   "id": "d0fb6666-acca-43ce-8415-32709dfe905e",
   "metadata": {},
   "outputs": [
    {
     "name": "stderr",
     "output_type": "stream",
     "text": [
      "100%|███████████████████████████████████████████████████████████████████████████| 37776/37776 [00:06<00:00, 5861.20it/s]\n"
     ]
    }
   ],
   "source": [
    "for i in tqdm(range(len(df))):\n",
    "    if pd.isna(df.loc[i, \"dc10Tca\"])==False:\n",
    "        value = df.loc[i,\"dc10Tca\"]\n",
    "        if value<6:\n",
    "            df.loc[i,\"weather_1\"] = \"맑음\"\n",
    "        elif value<9:\n",
    "            df.loc[i,\"weather_1\"] = \"구름많음\"\n",
    "        else:\n",
    "            df.loc[i,\"weather_1\"] = \"흐림\"\n",
    "    else:\n",
    "        df.loc[i,\"weather_1\"] = \"모름\""
   ]
  },
  {
   "cell_type": "code",
   "execution_count": 18,
   "id": "0057a3f8-712c-4e4b-b183-d473699ce525",
   "metadata": {},
   "outputs": [],
   "source": [
    "df[\"풍속\"] = None"
   ]
  },
  {
   "cell_type": "code",
   "execution_count": 19,
   "id": "981a2bf7-a69c-47e1-a60c-91ecdb7d3aac",
   "metadata": {},
   "outputs": [],
   "source": [
    "df = df.drop(columns=[\"lareaNm\",\"mareaNm\"],axis=1)"
   ]
  },
  {
   "cell_type": "code",
   "execution_count": 20,
   "id": "4b43621d-9ddd-42e0-a33b-05849911d593",
   "metadata": {},
   "outputs": [
    {
     "name": "stderr",
     "output_type": "stream",
     "text": [
      "100%|███████████████████████████████████████████████████████████████████████████| 37776/37776 [00:05<00:00, 6508.78it/s]\n"
     ]
    }
   ],
   "source": [
    "for i in tqdm(range(len(df))):\n",
    "    if pd.isna(df.loc[i, \"ws\"])==False:\n",
    "        value = df.loc[i,\"ws\"]\n",
    "        if value<9:\n",
    "            df.loc[i,\"풍속\"] = \"약한 강한 바\"\n",
    "        elif value<14:\n",
    "            df.loc[i,\"풍속\"] = \"강한 바람\"\n",
    "        else:\n",
    "            df.loc[i,\"풍속\"] = \"매우 강한 바람\"\n",
    "    else:\n",
    "        df.loc[i,\"풍속\"] = \"모름\""
   ]
  },
  {
   "cell_type": "code",
   "execution_count": 21,
   "id": "f1e3d8d9-948a-4f4e-883b-df6ab2ffa4c5",
   "metadata": {},
   "outputs": [],
   "source": [
    "df[\"풍향\"] = None"
   ]
  },
  {
   "cell_type": "code",
   "execution_count": 22,
   "id": "bf08bf55-dccf-4f86-b96c-e68fe83b5e64",
   "metadata": {},
   "outputs": [
    {
     "name": "stderr",
     "output_type": "stream",
     "text": [
      "100%|███████████████████████████████████████████████████████████████████████████| 37776/37776 [00:05<00:00, 6647.57it/s]\n"
     ]
    }
   ],
   "source": [
    "for i in tqdm(range(len(df))):\n",
    "    if pd.isna(df.loc[i, \"ws\"])==False:\n",
    "        value = df.loc[i,\"ws\"]\n",
    "        if value<9:\n",
    "            df.loc[i,\"풍속\"] = \"약한 강한 바람\"\n",
    "        elif value<14:\n",
    "            df.loc[i,\"풍속\"] = \"강한 바람\"\n",
    "        else:\n",
    "            df.loc[i,\"풍속\"] = \"매우 강한 바람\"\n",
    "    else:\n",
    "        df.loc[i,\"풍속\"] = \"모름\""
   ]
  },
  {
   "cell_type": "code",
   "execution_count": null,
   "id": "676e04c2-bb6e-4d9c-95fe-6d6c9f105130",
   "metadata": {},
   "outputs": [],
   "source": []
  },
  {
   "cell_type": "code",
   "execution_count": 23,
   "id": "9238a234-311c-4b23-869d-fa9bc1225af1",
   "metadata": {},
   "outputs": [],
   "source": [
    "wd_where = [20,50,70,90,110,140,160,180,200,230,250,270,290,320,240,360]"
   ]
  },
  {
   "cell_type": "code",
   "execution_count": 24,
   "id": "305572ce-866d-49c5-b5be-7d1705e7b797",
   "metadata": {},
   "outputs": [],
   "source": [
    "wd_direction = {\"20\": \"NNE\",\n",
    "\"50\": \"NE\",\n",
    "\"70\": \"ENE\",\n",
    "\"90\": \"E\",\n",
    "\"110\": \"ESE\",\n",
    "\"140\": \"SE\",\n",
    "\"160\": \"SSE\",\n",
    "\"180\": \"S\",\n",
    "\"200\": \"SSW\",\n",
    "\"230\": \"SW\",\n",
    "\"250\": \"WSW\" ,\n",
    "\"270\": \"W\",\n",
    "\"290\": \"WNW\",\n",
    "\"320\": \"NW\",\n",
    "\"340\": \"NNW\",\n",
    "\"360\": \"N\"}"
   ]
  },
  {
   "cell_type": "code",
   "execution_count": 25,
   "id": "35597c24-b8cb-4044-ac30-b590d33acd30",
   "metadata": {},
   "outputs": [
    {
     "name": "stderr",
     "output_type": "stream",
     "text": [
      "100%|███████████████████████████████████████████████████████████████████████████| 37776/37776 [00:06<00:00, 5697.97it/s]\n"
     ]
    }
   ],
   "source": [
    "for i in tqdm(range(len(df))):\n",
    "    if pd.isna(df.loc[i, \"wd\"])==False:\n",
    "        value = df.loc[i,\"wd\"]\n",
    "        diff_list = abs(wd_where - value)\n",
    "        min_ = min(diff_list)\n",
    "        # print(min_)\n",
    "        diff_list = diff_list.tolist()\n",
    "        index = diff_list.index(min_)\n",
    "        # print(wd_direction[str(wd_where[index])])\n",
    "        df.loc[i,\"풍향\"] = wd_direction[str(wd_where[index])]\n",
    "    else:\n",
    "        df.loc[i,\"풍향\"] = \"모름\""
   ]
  },
  {
   "cell_type": "code",
   "execution_count": 26,
   "id": "38b87357-d954-4ee8-96b7-96d908f31d5d",
   "metadata": {},
   "outputs": [
    {
     "data": {
      "text/html": [
       "<div>\n",
       "<style scoped>\n",
       "    .dataframe tbody tr th:only-of-type {\n",
       "        vertical-align: middle;\n",
       "    }\n",
       "\n",
       "    .dataframe tbody tr th {\n",
       "        vertical-align: top;\n",
       "    }\n",
       "\n",
       "    .dataframe thead th {\n",
       "        text-align: right;\n",
       "    }\n",
       "</style>\n",
       "<table border=\"1\" class=\"dataframe\">\n",
       "  <thead>\n",
       "    <tr style=\"text-align: right;\">\n",
       "      <th></th>\n",
       "      <th>tm</th>\n",
       "      <th>ta</th>\n",
       "      <th>rn</th>\n",
       "      <th>ws</th>\n",
       "      <th>wd</th>\n",
       "      <th>hm</th>\n",
       "      <th>pa</th>\n",
       "      <th>dc10Tca</th>\n",
       "      <th>dmstMtphNo</th>\n",
       "      <th>aplYmd</th>\n",
       "      <th>wetrCd</th>\n",
       "      <th>wetrTxt</th>\n",
       "      <th>wetrSplit</th>\n",
       "      <th>new_list</th>\n",
       "      <th>weather_1</th>\n",
       "      <th>weather_2</th>\n",
       "      <th>풍속</th>\n",
       "      <th>풍향</th>\n",
       "    </tr>\n",
       "  </thead>\n",
       "  <tbody>\n",
       "    <tr>\n",
       "      <th>0</th>\n",
       "      <td>2019-12-29 00:00</td>\n",
       "      <td>1.4</td>\n",
       "      <td>0.0</td>\n",
       "      <td>1.8</td>\n",
       "      <td>50.0</td>\n",
       "      <td>57</td>\n",
       "      <td>1018.2</td>\n",
       "      <td>3.0</td>\n",
       "      <td>NaN</td>\n",
       "      <td>20191229</td>\n",
       "      <td>9.0</td>\n",
       "      <td>흐림/비</td>\n",
       "      <td>['흐림', '비']</td>\n",
       "      <td>['92', '01']</td>\n",
       "      <td>맑음</td>\n",
       "      <td>None</td>\n",
       "      <td>약한 강한 바람</td>\n",
       "      <td>NE</td>\n",
       "    </tr>\n",
       "  </tbody>\n",
       "</table>\n",
       "</div>"
      ],
      "text/plain": [
       "                 tm   ta   rn   ws    wd  hm      pa  dc10Tca  dmstMtphNo  \\\n",
       "0  2019-12-29 00:00  1.4  0.0  1.8  50.0  57  1018.2      3.0         NaN   \n",
       "\n",
       "     aplYmd  wetrCd wetrTxt    wetrSplit      new_list weather_1 weather_2  \\\n",
       "0  20191229     9.0    흐림/비  ['흐림', '비']  ['92', '01']        맑음      None   \n",
       "\n",
       "         풍속  풍향  \n",
       "0  약한 강한 바람  NE  "
      ]
     },
     "execution_count": 26,
     "metadata": {},
     "output_type": "execute_result"
    }
   ],
   "source": [
    "df.head(1)"
   ]
  },
  {
   "cell_type": "code",
   "execution_count": 27,
   "id": "3951f6ae-8c01-440e-8407-3255999e26e7",
   "metadata": {},
   "outputs": [],
   "source": [
    "for i in range(len(df)):\n",
    "    if \"05\" in df.loc[i, \"new_list\"]: #그 시간대에 일별데이터에 눈이 포함되어있고\n",
    "        if df.loc[i,\"rn\"] > 0 :\n",
    "            df.loc[i,\"weather_2\"] = \"눈\"\n",
    "        "
   ]
  },
  {
   "cell_type": "code",
   "execution_count": 28,
   "id": "96ead109-2db1-4b27-9490-16761058fc1b",
   "metadata": {},
   "outputs": [],
   "source": [
    "for i in range(len(df)):\n",
    "    if \"01\" in df.loc[i, \"new_list\"]: #그 시간대에 일별데이터에 비이 포함되어있고\n",
    "        if df.loc[i,\"rn\"] > 0 :\n",
    "            df.loc[i,\"weather_2\"] = \"비\""
   ]
  },
  {
   "cell_type": "code",
   "execution_count": 29,
   "id": "022a86c1-c0dc-48a0-a6d8-9342999115f4",
   "metadata": {},
   "outputs": [],
   "source": [
    "df[\"weather_2\"] = df[\"weather_2\"].fillna(\"둘다아님\")"
   ]
  },
  {
   "cell_type": "code",
   "execution_count": 30,
   "id": "95a7484b-a995-4cdb-8bad-48926d8a88a9",
   "metadata": {},
   "outputs": [
    {
     "data": {
      "text/plain": [
       "tm                0\n",
       "ta                0\n",
       "rn                0\n",
       "ws               68\n",
       "wd               68\n",
       "hm                0\n",
       "pa                8\n",
       "dc10Tca           5\n",
       "dmstMtphNo    27246\n",
       "aplYmd            0\n",
       "wetrCd            0\n",
       "wetrTxt           0\n",
       "wetrSplit         0\n",
       "new_list          0\n",
       "weather_1         0\n",
       "weather_2         0\n",
       "풍속                0\n",
       "풍향                0\n",
       "dtype: int64"
      ]
     },
     "execution_count": 30,
     "metadata": {},
     "output_type": "execute_result"
    }
   ],
   "source": [
    "df.isna().sum()"
   ]
  },
  {
   "cell_type": "code",
   "execution_count": 31,
   "id": "cf53d83e-810c-4f83-ac87-a1b67384c43d",
   "metadata": {},
   "outputs": [],
   "source": [
    "df.to_csv('data_processing2.csv', index=False, encoding='utf-8-sig')"
   ]
  },
  {
   "cell_type": "code",
   "execution_count": 32,
   "id": "29932eba-0ad1-46ee-a50e-50973808f152",
   "metadata": {},
   "outputs": [
    {
     "data": {
      "text/html": [
       "<div>\n",
       "<style scoped>\n",
       "    .dataframe tbody tr th:only-of-type {\n",
       "        vertical-align: middle;\n",
       "    }\n",
       "\n",
       "    .dataframe tbody tr th {\n",
       "        vertical-align: top;\n",
       "    }\n",
       "\n",
       "    .dataframe thead th {\n",
       "        text-align: right;\n",
       "    }\n",
       "</style>\n",
       "<table border=\"1\" class=\"dataframe\">\n",
       "  <thead>\n",
       "    <tr style=\"text-align: right;\">\n",
       "      <th></th>\n",
       "      <th>tm</th>\n",
       "      <th>ta</th>\n",
       "      <th>rn</th>\n",
       "      <th>ws</th>\n",
       "      <th>wd</th>\n",
       "      <th>hm</th>\n",
       "      <th>pa</th>\n",
       "      <th>dc10Tca</th>\n",
       "      <th>dmstMtphNo</th>\n",
       "      <th>aplYmd</th>\n",
       "      <th>wetrCd</th>\n",
       "      <th>wetrTxt</th>\n",
       "      <th>wetrSplit</th>\n",
       "      <th>new_list</th>\n",
       "      <th>weather_1</th>\n",
       "      <th>weather_2</th>\n",
       "      <th>풍속</th>\n",
       "      <th>풍향</th>\n",
       "    </tr>\n",
       "  </thead>\n",
       "  <tbody>\n",
       "    <tr>\n",
       "      <th>0</th>\n",
       "      <td>2019-12-29 00:00</td>\n",
       "      <td>1.4</td>\n",
       "      <td>0.0</td>\n",
       "      <td>1.8</td>\n",
       "      <td>50.0</td>\n",
       "      <td>57</td>\n",
       "      <td>1018.2</td>\n",
       "      <td>3.0</td>\n",
       "      <td>NaN</td>\n",
       "      <td>20191229</td>\n",
       "      <td>9.0</td>\n",
       "      <td>흐림/비</td>\n",
       "      <td>['흐림', '비']</td>\n",
       "      <td>['92', '01']</td>\n",
       "      <td>맑음</td>\n",
       "      <td>둘다아님</td>\n",
       "      <td>약한 강한 바람</td>\n",
       "      <td>NE</td>\n",
       "    </tr>\n",
       "    <tr>\n",
       "      <th>1</th>\n",
       "      <td>2019-12-29 01:00</td>\n",
       "      <td>1.2</td>\n",
       "      <td>0.0</td>\n",
       "      <td>1.8</td>\n",
       "      <td>70.0</td>\n",
       "      <td>54</td>\n",
       "      <td>1017.9</td>\n",
       "      <td>6.0</td>\n",
       "      <td>NaN</td>\n",
       "      <td>20191229</td>\n",
       "      <td>9.0</td>\n",
       "      <td>흐림/비</td>\n",
       "      <td>['흐림', '비']</td>\n",
       "      <td>['92', '01']</td>\n",
       "      <td>구름많음</td>\n",
       "      <td>둘다아님</td>\n",
       "      <td>약한 강한 바람</td>\n",
       "      <td>ENE</td>\n",
       "    </tr>\n",
       "    <tr>\n",
       "      <th>2</th>\n",
       "      <td>2019-12-29 02:00</td>\n",
       "      <td>1.3</td>\n",
       "      <td>0.0</td>\n",
       "      <td>2.4</td>\n",
       "      <td>70.0</td>\n",
       "      <td>53</td>\n",
       "      <td>1017.9</td>\n",
       "      <td>4.0</td>\n",
       "      <td>NaN</td>\n",
       "      <td>20191229</td>\n",
       "      <td>9.0</td>\n",
       "      <td>흐림/비</td>\n",
       "      <td>['흐림', '비']</td>\n",
       "      <td>['92', '01']</td>\n",
       "      <td>맑음</td>\n",
       "      <td>둘다아님</td>\n",
       "      <td>약한 강한 바람</td>\n",
       "      <td>ENE</td>\n",
       "    </tr>\n",
       "    <tr>\n",
       "      <th>3</th>\n",
       "      <td>2019-12-29 03:00</td>\n",
       "      <td>1.4</td>\n",
       "      <td>0.0</td>\n",
       "      <td>1.8</td>\n",
       "      <td>70.0</td>\n",
       "      <td>52</td>\n",
       "      <td>1017.9</td>\n",
       "      <td>5.0</td>\n",
       "      <td>NaN</td>\n",
       "      <td>20191229</td>\n",
       "      <td>9.0</td>\n",
       "      <td>흐림/비</td>\n",
       "      <td>['흐림', '비']</td>\n",
       "      <td>['92', '01']</td>\n",
       "      <td>맑음</td>\n",
       "      <td>둘다아님</td>\n",
       "      <td>약한 강한 바람</td>\n",
       "      <td>ENE</td>\n",
       "    </tr>\n",
       "    <tr>\n",
       "      <th>4</th>\n",
       "      <td>2019-12-29 04:00</td>\n",
       "      <td>1.4</td>\n",
       "      <td>0.0</td>\n",
       "      <td>2.6</td>\n",
       "      <td>70.0</td>\n",
       "      <td>51</td>\n",
       "      <td>1017.1</td>\n",
       "      <td>5.0</td>\n",
       "      <td>NaN</td>\n",
       "      <td>20191229</td>\n",
       "      <td>9.0</td>\n",
       "      <td>흐림/비</td>\n",
       "      <td>['흐림', '비']</td>\n",
       "      <td>['92', '01']</td>\n",
       "      <td>맑음</td>\n",
       "      <td>둘다아님</td>\n",
       "      <td>약한 강한 바람</td>\n",
       "      <td>ENE</td>\n",
       "    </tr>\n",
       "  </tbody>\n",
       "</table>\n",
       "</div>"
      ],
      "text/plain": [
       "                 tm   ta   rn   ws    wd  hm      pa  dc10Tca  dmstMtphNo  \\\n",
       "0  2019-12-29 00:00  1.4  0.0  1.8  50.0  57  1018.2      3.0         NaN   \n",
       "1  2019-12-29 01:00  1.2  0.0  1.8  70.0  54  1017.9      6.0         NaN   \n",
       "2  2019-12-29 02:00  1.3  0.0  2.4  70.0  53  1017.9      4.0         NaN   \n",
       "3  2019-12-29 03:00  1.4  0.0  1.8  70.0  52  1017.9      5.0         NaN   \n",
       "4  2019-12-29 04:00  1.4  0.0  2.6  70.0  51  1017.1      5.0         NaN   \n",
       "\n",
       "     aplYmd  wetrCd wetrTxt    wetrSplit      new_list weather_1 weather_2  \\\n",
       "0  20191229     9.0    흐림/비  ['흐림', '비']  ['92', '01']        맑음      둘다아님   \n",
       "1  20191229     9.0    흐림/비  ['흐림', '비']  ['92', '01']      구름많음      둘다아님   \n",
       "2  20191229     9.0    흐림/비  ['흐림', '비']  ['92', '01']        맑음      둘다아님   \n",
       "3  20191229     9.0    흐림/비  ['흐림', '비']  ['92', '01']        맑음      둘다아님   \n",
       "4  20191229     9.0    흐림/비  ['흐림', '비']  ['92', '01']        맑음      둘다아님   \n",
       "\n",
       "         풍속   풍향  \n",
       "0  약한 강한 바람   NE  \n",
       "1  약한 강한 바람  ENE  \n",
       "2  약한 강한 바람  ENE  \n",
       "3  약한 강한 바람  ENE  \n",
       "4  약한 강한 바람  ENE  "
      ]
     },
     "execution_count": 32,
     "metadata": {},
     "output_type": "execute_result"
    }
   ],
   "source": [
    "df.head()"
   ]
  },
  {
   "cell_type": "markdown",
   "id": "a7c0ba37-6370-4a99-ab3e-e305617b5f24",
   "metadata": {},
   "source": [
    "tm 날짜\n",
    "ta 기온\n",
    "rn 강수량\n",
    "ws 풍속\n",
    "wd 풍향\n",
    " hm 습도\n",
    " pa 현지기압\n",
    " ss 일조\n",
    " dc10Tca 전운량\n",
    " dmstMtphNo 현상번호 - 눈 비인지 알수있음\n",
    " aplYmd 날짜\n",
    " lareaNm 서울특별시 고정\n",
    " mareaNm 중구 고정\n",
    " wetrCd 날씨코드\n",
    " wetrTxt 날씨코드설명"
   ]
  },
  {
   "cell_type": "markdown",
   "id": "087dbd26-0863-4444-b0be-c1320f191c1f",
   "metadata": {},
   "source": [
    "날씨1 - 구름많음 흐림 맑음 - 전우량 \n",
    "날씨2 - 비, 눈<- 네이버 일별dmts\n",
    "기압1000이하고 영하면=> 눈\n",
    "기압 1000이하고 영상=>비\n",
    "기압 1000이상이면 전운량따라 구름많음,흐름,맑음"
   ]
  }
 ],
 "metadata": {
  "kernelspec": {
   "display_name": "Python 3 (ipykernel)",
   "language": "python",
   "name": "python3"
  },
  "language_info": {
   "codemirror_mode": {
    "name": "ipython",
    "version": 3
   },
   "file_extension": ".py",
   "mimetype": "text/x-python",
   "name": "python",
   "nbconvert_exporter": "python",
   "pygments_lexer": "ipython3",
   "version": "3.10.13"
  }
 },
 "nbformat": 4,
 "nbformat_minor": 5
}
