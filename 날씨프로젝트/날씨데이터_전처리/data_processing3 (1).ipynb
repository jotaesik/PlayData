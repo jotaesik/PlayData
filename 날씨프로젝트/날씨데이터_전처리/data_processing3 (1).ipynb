{
 "cells": [
  {
   "cell_type": "code",
   "execution_count": 6,
   "id": "31041667-988d-45ab-b3e2-0a5ec6605d67",
   "metadata": {},
   "outputs": [],
   "source": [
    "import csv\n",
    "import pandas as pd\n",
    "import requests\n",
    "from bs4 import BeautifulSoup as bs\n",
    "from datetime import datetime, timedelta\n",
    "from tqdm import tqdm\n",
    "import json\n",
    "df = pd.read_csv('data_processing2.csv')"
   ]
  },
  {
   "cell_type": "code",
   "execution_count": 7,
   "id": "d1c0bbdd-935e-4d97-9a43-6aac22e855f7",
   "metadata": {},
   "outputs": [
    {
     "name": "stderr",
     "output_type": "stream",
     "text": [
      "100%|███████████████████████████████████████████████████████████████████████████| 37776/37776 [00:11<00:00, 3236.51it/s]\n"
     ]
    }
   ],
   "source": [
    "for i in tqdm(range(len(df))):\n",
    "    if pd.isna(df.loc[i, \"dc10Tca\"])==False:\n",
    "        value = df.loc[i,\"dc10Tca\"]\n",
    "        if value<6:\n",
    "            df.loc[i,\"weather_1\"] = \"맑음\"\n",
    "        elif value<9:\n",
    "            df.loc[i,\"weather_1\"] = \"구름많음\"\n",
    "        else:\n",
    "            df.loc[i,\"weather_1\"] = \"흐림\"\n",
    "    else:\n",
    "        df.loc[i,\"weather_1\"] = \"모름\""
   ]
  },
  {
   "cell_type": "code",
   "execution_count": 8,
   "id": "4620645e-7b6b-4d06-8959-c73211e93325",
   "metadata": {},
   "outputs": [
    {
     "data": {
      "text/plain": [
       "array(['맑음', '구름많음', '흐림', '모름'], dtype=object)"
      ]
     },
     "execution_count": 8,
     "metadata": {},
     "output_type": "execute_result"
    }
   ],
   "source": [
    "df[\"weather_1\"].unique()"
   ]
  },
  {
   "cell_type": "code",
   "execution_count": 9,
   "id": "945c68dd-49e3-4a1a-a92a-d17c722557a9",
   "metadata": {},
   "outputs": [],
   "source": [
    "df.to_csv('data_processing3.csv', index=False, encoding='utf-8-sig')"
   ]
  }
 ],
 "metadata": {
  "kernelspec": {
   "display_name": "Python 3 (ipykernel)",
   "language": "python",
   "name": "python3"
  },
  "language_info": {
   "codemirror_mode": {
    "name": "ipython",
    "version": 3
   },
   "file_extension": ".py",
   "mimetype": "text/x-python",
   "name": "python",
   "nbconvert_exporter": "python",
   "pygments_lexer": "ipython3",
   "version": "3.10.13"
  }
 },
 "nbformat": 4,
 "nbformat_minor": 5
}
