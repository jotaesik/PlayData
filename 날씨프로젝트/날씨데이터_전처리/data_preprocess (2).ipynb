{
 "cells": [
  {
   "cell_type": "code",
   "execution_count": 1,
   "id": "a5f51f71-460c-4bbc-97db-767c86d9ec6b",
   "metadata": {},
   "outputs": [],
   "source": [
    "import csv\n",
    "import pandas as pd\n",
    "import requests\n",
    "from bs4 import BeautifulSoup as bs\n",
    "from datetime import datetime, timedelta\n",
    "from tqdm import tqdm\n",
    "import json\n",
    "kma_data = pd.read_csv('weather_20180101_20240523_2.csv')\n",
    "naver_data = pd.read_csv('new_data.csv')"
   ]
  },
  {
   "cell_type": "code",
   "execution_count": 2,
   "id": "b787c5b2-62b8-45c2-bcbd-21c21c655381",
   "metadata": {},
   "outputs": [],
   "source": [
    "# tm 날짜\n",
    "# ta 기온\n",
    "# rn 강수량\n",
    "# ws 풍속\n",
    "# wd 풍향\n",
    "# hm 습도\n",
    "# pa 현지기압\n",
    "# ss 일조\n",
    "# dc10Tca 전운량\n",
    "# dmstMtphNo 현상번호 - 눈 비인지 알수있음"
   ]
  },
  {
   "cell_type": "code",
   "execution_count": 3,
   "id": "df60c002-11d6-4ade-a51e-c71e486c7ed8",
   "metadata": {},
   "outputs": [],
   "source": [
    "kma_data = kma_data[[\"tm\",\"ta\",\"rn\",\"ws\",\"wd\",\"hm\",\"pa\",\"ss\",\"dc10Tca\",\"dmstMtphNo\"]]"
   ]
  },
  {
   "cell_type": "code",
   "execution_count": 4,
   "id": "35951b6f-5c9c-43ba-8e8d-4e38d788c5f2",
   "metadata": {},
   "outputs": [],
   "source": [
    "# 필요한 컬럼만 정제해서 저장\n",
    "kma_data.to_csv('kma_data.csv', index=False, encoding='utf-8-sig')"
   ]
  },
  {
   "cell_type": "code",
   "execution_count": 5,
   "id": "f5fe299e-037e-4f5f-8866-704ea9664cb5",
   "metadata": {},
   "outputs": [
    {
     "data": {
      "text/plain": [
       "tm                0\n",
       "ta                1\n",
       "rn            49739\n",
       "ws               79\n",
       "wd               79\n",
       "hm                0\n",
       "pa               10\n",
       "ss            25340\n",
       "dc10Tca        1118\n",
       "dmstMtphNo    39283\n",
       "dtype: int64"
      ]
     },
     "execution_count": 5,
     "metadata": {},
     "output_type": "execute_result"
    }
   ],
   "source": [
    "kma_data.isna().sum()"
   ]
  },
  {
   "cell_type": "code",
   "execution_count": 6,
   "id": "b04bd9e6-3076-4fd7-a607-492e383506ab",
   "metadata": {},
   "outputs": [
    {
     "name": "stdout",
     "output_type": "stream",
     "text": [
      "<class 'pandas.core.frame.DataFrame'>\n",
      "RangeIndex: 1583 entries, 0 to 1582\n",
      "Data columns (total 5 columns):\n",
      " #   Column   Non-Null Count  Dtype  \n",
      "---  ------   --------------  -----  \n",
      " 0   aplYmd   1582 non-null   float64\n",
      " 1   lareaNm  1582 non-null   object \n",
      " 2   mareaNm  1582 non-null   object \n",
      " 3   wetrCd   1582 non-null   float64\n",
      " 4   wetrTxt  1582 non-null   object \n",
      "dtypes: float64(2), object(3)\n",
      "memory usage: 62.0+ KB\n"
     ]
    }
   ],
   "source": [
    "naver_data.info()"
   ]
  },
  {
   "cell_type": "code",
   "execution_count": 7,
   "id": "a6a2b397-06f9-4be4-9010-c32782fa2eff",
   "metadata": {},
   "outputs": [
    {
     "name": "stdout",
     "output_type": "stream",
     "text": [
      "      aplYmd lareaNm mareaNm  wetrCd wetrTxt\n",
      "1582     NaN     NaN     NaN     NaN     NaN\n",
      "Empty DataFrame\n",
      "Columns: [aplYmd, lareaNm, mareaNm, wetrCd, wetrTxt]\n",
      "Index: []\n"
     ]
    }
   ],
   "source": [
    "print(naver_data[naver_data['aplYmd'].isna()])\n",
    "print(naver_data[naver_data['aplYmd'] == float('inf')]) \n",
    "# 지금 1581 행이 다 결측값으로 들어가있음 왜지??"
   ]
  },
  {
   "cell_type": "code",
   "execution_count": 8,
   "id": "199f197b-385e-4857-9607-952d35889dc3",
   "metadata": {},
   "outputs": [],
   "source": [
    "# 마지막 행 삭제\n",
    "naver_data.drop(naver_data.tail(1).index, inplace=True)"
   ]
  },
  {
   "cell_type": "code",
   "execution_count": 9,
   "id": "9739dc2d-158a-4fa9-8466-503342da4e32",
   "metadata": {},
   "outputs": [
    {
     "name": "stdout",
     "output_type": "stream",
     "text": [
      "Empty DataFrame\n",
      "Columns: [aplYmd, lareaNm, mareaNm, wetrCd, wetrTxt]\n",
      "Index: []\n",
      "Empty DataFrame\n",
      "Columns: [aplYmd, lareaNm, mareaNm, wetrCd, wetrTxt]\n",
      "Index: []\n"
     ]
    }
   ],
   "source": [
    "print(naver_data[naver_data['aplYmd'].isna()])\n",
    "print(naver_data[naver_data['aplYmd'] == float('inf')]) "
   ]
  },
  {
   "cell_type": "code",
   "execution_count": 10,
   "id": "a982b4f6-3a8d-4dfe-bc9a-7eec1e9c6e63",
   "metadata": {},
   "outputs": [],
   "source": [
    "# 왜 float으로 되어있는지는 모르지만 int형으로 변경\n",
    "naver_data[\"aplYmd\"] = naver_data['aplYmd'].astype(int)"
   ]
  },
  {
   "cell_type": "code",
   "execution_count": 11,
   "id": "5e99857a-2dc9-4405-8697-01380276b055",
   "metadata": {},
   "outputs": [],
   "source": [
    "# join 하기위해서 새로운 컬럼 생성\n",
    "kma_data[\"new_tm\"] = pd.to_datetime(kma_data['tm']).dt.strftime('%Y%m%d')"
   ]
  },
  {
   "cell_type": "markdown",
   "id": "1b7c9f27-948d-4d79-b3a0-c170b641fa26",
   "metadata": {},
   "source": [
    "naver_data의 aplYmd값이 20191229에서 20240524까지 있으므로 kma_data도 맞추어서 정리"
   ]
  },
  {
   "cell_type": "code",
   "execution_count": 12,
   "id": "c06babd9-fbce-4bb9-9700-d963d8cc11e4",
   "metadata": {},
   "outputs": [],
   "source": [
    "# datetime 형식으로 변환\n",
    "kma_data['new_tm'] = pd.to_datetime(kma_data['new_tm'])"
   ]
  },
  {
   "cell_type": "code",
   "execution_count": 13,
   "id": "9eea9476-74fa-4236-9e81-a838bfca3b5f",
   "metadata": {},
   "outputs": [],
   "source": [
    "filter_kma_data = kma_data[(kma_data['new_tm'] >= '2019-12-29') & (kma_data['new_tm'] <= '2024-05-24')]"
   ]
  },
  {
   "cell_type": "code",
   "execution_count": 14,
   "id": "a4f358a4-5353-449c-8afe-3eeac2f7b6d1",
   "metadata": {},
   "outputs": [],
   "source": [
    "# kma_data가 20240523까지밖에 없으므로 naver_data 20240524 로우 삭제\n",
    "naver_data.drop(naver_data.tail(1).index, inplace=True)"
   ]
  },
  {
   "cell_type": "code",
   "execution_count": 15,
   "id": "2f7fd66b-cec7-4d81-b6ec-9bd2b987a9a6",
   "metadata": {},
   "outputs": [
    {
     "name": "stderr",
     "output_type": "stream",
     "text": [
      "/tmp/ipykernel_2165/1065656092.py:2: SettingWithCopyWarning: \n",
      "A value is trying to be set on a copy of a slice from a DataFrame.\n",
      "Try using .loc[row_indexer,col_indexer] = value instead\n",
      "\n",
      "See the caveats in the documentation: https://pandas.pydata.org/pandas-docs/stable/user_guide/indexing.html#returning-a-view-versus-a-copy\n",
      "  filter_kma_data['new_tm'] = pd.to_datetime(filter_kma_data['tm']).dt.strftime('%Y%m%d')\n"
     ]
    }
   ],
   "source": [
    "# join 하기 위해서 다시 int로\n",
    "filter_kma_data['new_tm'] = pd.to_datetime(filter_kma_data['tm']).dt.strftime('%Y%m%d')"
   ]
  },
  {
   "cell_type": "code",
   "execution_count": 16,
   "id": "7f16410a-10a3-45d8-8452-7a15a5b7352d",
   "metadata": {},
   "outputs": [
    {
     "data": {
      "text/html": [
       "<div>\n",
       "<style scoped>\n",
       "    .dataframe tbody tr th:only-of-type {\n",
       "        vertical-align: middle;\n",
       "    }\n",
       "\n",
       "    .dataframe tbody tr th {\n",
       "        vertical-align: top;\n",
       "    }\n",
       "\n",
       "    .dataframe thead th {\n",
       "        text-align: right;\n",
       "    }\n",
       "</style>\n",
       "<table border=\"1\" class=\"dataframe\">\n",
       "  <thead>\n",
       "    <tr style=\"text-align: right;\">\n",
       "      <th></th>\n",
       "      <th>tm</th>\n",
       "      <th>ta</th>\n",
       "      <th>rn</th>\n",
       "      <th>ws</th>\n",
       "      <th>wd</th>\n",
       "      <th>hm</th>\n",
       "      <th>pa</th>\n",
       "      <th>ss</th>\n",
       "      <th>dc10Tca</th>\n",
       "      <th>dmstMtphNo</th>\n",
       "      <th>new_tm</th>\n",
       "    </tr>\n",
       "  </thead>\n",
       "  <tbody>\n",
       "    <tr>\n",
       "      <th>17304</th>\n",
       "      <td>2019-12-29 00:00</td>\n",
       "      <td>1.4</td>\n",
       "      <td>NaN</td>\n",
       "      <td>1.8</td>\n",
       "      <td>50.0</td>\n",
       "      <td>57</td>\n",
       "      <td>1018.2</td>\n",
       "      <td>NaN</td>\n",
       "      <td>3.0</td>\n",
       "      <td>NaN</td>\n",
       "      <td>20191229</td>\n",
       "    </tr>\n",
       "    <tr>\n",
       "      <th>17305</th>\n",
       "      <td>2019-12-29 01:00</td>\n",
       "      <td>1.2</td>\n",
       "      <td>NaN</td>\n",
       "      <td>1.8</td>\n",
       "      <td>70.0</td>\n",
       "      <td>54</td>\n",
       "      <td>1017.9</td>\n",
       "      <td>NaN</td>\n",
       "      <td>6.0</td>\n",
       "      <td>NaN</td>\n",
       "      <td>20191229</td>\n",
       "    </tr>\n",
       "    <tr>\n",
       "      <th>17306</th>\n",
       "      <td>2019-12-29 02:00</td>\n",
       "      <td>1.3</td>\n",
       "      <td>NaN</td>\n",
       "      <td>2.4</td>\n",
       "      <td>70.0</td>\n",
       "      <td>53</td>\n",
       "      <td>1017.9</td>\n",
       "      <td>NaN</td>\n",
       "      <td>4.0</td>\n",
       "      <td>NaN</td>\n",
       "      <td>20191229</td>\n",
       "    </tr>\n",
       "    <tr>\n",
       "      <th>17307</th>\n",
       "      <td>2019-12-29 03:00</td>\n",
       "      <td>1.4</td>\n",
       "      <td>NaN</td>\n",
       "      <td>1.8</td>\n",
       "      <td>70.0</td>\n",
       "      <td>52</td>\n",
       "      <td>1017.9</td>\n",
       "      <td>NaN</td>\n",
       "      <td>5.0</td>\n",
       "      <td>NaN</td>\n",
       "      <td>20191229</td>\n",
       "    </tr>\n",
       "    <tr>\n",
       "      <th>17308</th>\n",
       "      <td>2019-12-29 04:00</td>\n",
       "      <td>1.4</td>\n",
       "      <td>NaN</td>\n",
       "      <td>2.6</td>\n",
       "      <td>70.0</td>\n",
       "      <td>51</td>\n",
       "      <td>1017.1</td>\n",
       "      <td>NaN</td>\n",
       "      <td>5.0</td>\n",
       "      <td>NaN</td>\n",
       "      <td>20191229</td>\n",
       "    </tr>\n",
       "  </tbody>\n",
       "</table>\n",
       "</div>"
      ],
      "text/plain": [
       "                     tm   ta  rn   ws    wd  hm      pa  ss  dc10Tca  \\\n",
       "17304  2019-12-29 00:00  1.4 NaN  1.8  50.0  57  1018.2 NaN      3.0   \n",
       "17305  2019-12-29 01:00  1.2 NaN  1.8  70.0  54  1017.9 NaN      6.0   \n",
       "17306  2019-12-29 02:00  1.3 NaN  2.4  70.0  53  1017.9 NaN      4.0   \n",
       "17307  2019-12-29 03:00  1.4 NaN  1.8  70.0  52  1017.9 NaN      5.0   \n",
       "17308  2019-12-29 04:00  1.4 NaN  2.6  70.0  51  1017.1 NaN      5.0   \n",
       "\n",
       "       dmstMtphNo    new_tm  \n",
       "17304         NaN  20191229  \n",
       "17305         NaN  20191229  \n",
       "17306         NaN  20191229  \n",
       "17307         NaN  20191229  \n",
       "17308         NaN  20191229  "
      ]
     },
     "execution_count": 16,
     "metadata": {},
     "output_type": "execute_result"
    }
   ],
   "source": [
    "filter_kma_data.head()"
   ]
  },
  {
   "cell_type": "code",
   "execution_count": 17,
   "id": "2081d573-c2ca-4a69-a7a9-5dcafbeddcfd",
   "metadata": {},
   "outputs": [
    {
     "data": {
      "text/html": [
       "<div>\n",
       "<style scoped>\n",
       "    .dataframe tbody tr th:only-of-type {\n",
       "        vertical-align: middle;\n",
       "    }\n",
       "\n",
       "    .dataframe tbody tr th {\n",
       "        vertical-align: top;\n",
       "    }\n",
       "\n",
       "    .dataframe thead th {\n",
       "        text-align: right;\n",
       "    }\n",
       "</style>\n",
       "<table border=\"1\" class=\"dataframe\">\n",
       "  <thead>\n",
       "    <tr style=\"text-align: right;\">\n",
       "      <th></th>\n",
       "      <th>aplYmd</th>\n",
       "      <th>lareaNm</th>\n",
       "      <th>mareaNm</th>\n",
       "      <th>wetrCd</th>\n",
       "      <th>wetrTxt</th>\n",
       "    </tr>\n",
       "  </thead>\n",
       "  <tbody>\n",
       "    <tr>\n",
       "      <th>0</th>\n",
       "      <td>20191229</td>\n",
       "      <td>서울특별시</td>\n",
       "      <td>종로구</td>\n",
       "      <td>9.0</td>\n",
       "      <td>흐림/비</td>\n",
       "    </tr>\n",
       "    <tr>\n",
       "      <th>1</th>\n",
       "      <td>20191230</td>\n",
       "      <td>서울특별시</td>\n",
       "      <td>종로구</td>\n",
       "      <td>12.0</td>\n",
       "      <td>구름많음/눈/비/안개</td>\n",
       "    </tr>\n",
       "    <tr>\n",
       "      <th>2</th>\n",
       "      <td>20191231</td>\n",
       "      <td>서울특별시</td>\n",
       "      <td>종로구</td>\n",
       "      <td>12.0</td>\n",
       "      <td>맑음/눈</td>\n",
       "    </tr>\n",
       "    <tr>\n",
       "      <th>3</th>\n",
       "      <td>20200101</td>\n",
       "      <td>서울특별시</td>\n",
       "      <td>종로구</td>\n",
       "      <td>12.0</td>\n",
       "      <td>흐림/눈/안개</td>\n",
       "    </tr>\n",
       "    <tr>\n",
       "      <th>4</th>\n",
       "      <td>20200102</td>\n",
       "      <td>서울특별시</td>\n",
       "      <td>종로구</td>\n",
       "      <td>17.0</td>\n",
       "      <td>구름많음/안개</td>\n",
       "    </tr>\n",
       "  </tbody>\n",
       "</table>\n",
       "</div>"
      ],
      "text/plain": [
       "     aplYmd lareaNm mareaNm  wetrCd      wetrTxt\n",
       "0  20191229   서울특별시     종로구     9.0         흐림/비\n",
       "1  20191230   서울특별시     종로구    12.0  구름많음/눈/비/안개\n",
       "2  20191231   서울특별시     종로구    12.0         맑음/눈\n",
       "3  20200101   서울특별시     종로구    12.0      흐림/눈/안개\n",
       "4  20200102   서울특별시     종로구    17.0      구름많음/안개"
      ]
     },
     "execution_count": 17,
     "metadata": {},
     "output_type": "execute_result"
    }
   ],
   "source": [
    "naver_data.head()"
   ]
  },
  {
   "cell_type": "code",
   "execution_count": 18,
   "id": "f55958d0-8dd5-4883-89b8-3d0ef08ee181",
   "metadata": {},
   "outputs": [
    {
     "name": "stderr",
     "output_type": "stream",
     "text": [
      "/tmp/ipykernel_2165/3236204979.py:2: SettingWithCopyWarning: \n",
      "A value is trying to be set on a copy of a slice from a DataFrame\n",
      "\n",
      "See the caveats in the documentation: https://pandas.pydata.org/pandas-docs/stable/user_guide/indexing.html#returning-a-view-versus-a-copy\n",
      "  filter_kma_data.rename(columns={'new_tm': 'aplYmd'}, inplace=True)\n"
     ]
    }
   ],
   "source": [
    "# join 하기위해서 colum명 변경 어차피 저거 임시로 만든컬럼이라 ㄴ 상관\n",
    "filter_kma_data.rename(columns={'new_tm': 'aplYmd'}, inplace=True)"
   ]
  },
  {
   "cell_type": "code",
   "execution_count": 19,
   "id": "7c38cb87-c50b-473e-887e-4fd633a479ff",
   "metadata": {},
   "outputs": [
    {
     "name": "stderr",
     "output_type": "stream",
     "text": [
      "/tmp/ipykernel_2165/677594474.py:2: SettingWithCopyWarning: \n",
      "A value is trying to be set on a copy of a slice from a DataFrame.\n",
      "Try using .loc[row_indexer,col_indexer] = value instead\n",
      "\n",
      "See the caveats in the documentation: https://pandas.pydata.org/pandas-docs/stable/user_guide/indexing.html#returning-a-view-versus-a-copy\n",
      "  filter_kma_data[\"aplYmd\"] = filter_kma_data['aplYmd'].astype(int)\n"
     ]
    }
   ],
   "source": [
    "# type이 object 여서 int로 바꾸기\n",
    "filter_kma_data[\"aplYmd\"] = filter_kma_data['aplYmd'].astype(int)"
   ]
  },
  {
   "cell_type": "code",
   "execution_count": 20,
   "id": "e4341a94-1786-46e2-af8f-6fd7c38360eb",
   "metadata": {},
   "outputs": [],
   "source": [
    "total_df = pd.merge(filter_kma_data, naver_data, on='aplYmd', how='inner')"
   ]
  },
  {
   "cell_type": "code",
   "execution_count": 21,
   "id": "94f5caf8-9116-468d-8bb6-0a6792fe4a65",
   "metadata": {},
   "outputs": [
    {
     "data": {
      "text/html": [
       "<div>\n",
       "<style scoped>\n",
       "    .dataframe tbody tr th:only-of-type {\n",
       "        vertical-align: middle;\n",
       "    }\n",
       "\n",
       "    .dataframe tbody tr th {\n",
       "        vertical-align: top;\n",
       "    }\n",
       "\n",
       "    .dataframe thead th {\n",
       "        text-align: right;\n",
       "    }\n",
       "</style>\n",
       "<table border=\"1\" class=\"dataframe\">\n",
       "  <thead>\n",
       "    <tr style=\"text-align: right;\">\n",
       "      <th></th>\n",
       "      <th>tm</th>\n",
       "      <th>ta</th>\n",
       "      <th>rn</th>\n",
       "      <th>ws</th>\n",
       "      <th>wd</th>\n",
       "      <th>hm</th>\n",
       "      <th>pa</th>\n",
       "      <th>ss</th>\n",
       "      <th>dc10Tca</th>\n",
       "      <th>dmstMtphNo</th>\n",
       "      <th>aplYmd</th>\n",
       "      <th>lareaNm</th>\n",
       "      <th>mareaNm</th>\n",
       "      <th>wetrCd</th>\n",
       "      <th>wetrTxt</th>\n",
       "    </tr>\n",
       "  </thead>\n",
       "  <tbody>\n",
       "    <tr>\n",
       "      <th>0</th>\n",
       "      <td>2019-12-29 00:00</td>\n",
       "      <td>1.4</td>\n",
       "      <td>NaN</td>\n",
       "      <td>1.8</td>\n",
       "      <td>50.0</td>\n",
       "      <td>57</td>\n",
       "      <td>1018.2</td>\n",
       "      <td>NaN</td>\n",
       "      <td>3.0</td>\n",
       "      <td>NaN</td>\n",
       "      <td>20191229</td>\n",
       "      <td>서울특별시</td>\n",
       "      <td>종로구</td>\n",
       "      <td>9.0</td>\n",
       "      <td>흐림/비</td>\n",
       "    </tr>\n",
       "    <tr>\n",
       "      <th>1</th>\n",
       "      <td>2019-12-29 01:00</td>\n",
       "      <td>1.2</td>\n",
       "      <td>NaN</td>\n",
       "      <td>1.8</td>\n",
       "      <td>70.0</td>\n",
       "      <td>54</td>\n",
       "      <td>1017.9</td>\n",
       "      <td>NaN</td>\n",
       "      <td>6.0</td>\n",
       "      <td>NaN</td>\n",
       "      <td>20191229</td>\n",
       "      <td>서울특별시</td>\n",
       "      <td>종로구</td>\n",
       "      <td>9.0</td>\n",
       "      <td>흐림/비</td>\n",
       "    </tr>\n",
       "    <tr>\n",
       "      <th>2</th>\n",
       "      <td>2019-12-29 02:00</td>\n",
       "      <td>1.3</td>\n",
       "      <td>NaN</td>\n",
       "      <td>2.4</td>\n",
       "      <td>70.0</td>\n",
       "      <td>53</td>\n",
       "      <td>1017.9</td>\n",
       "      <td>NaN</td>\n",
       "      <td>4.0</td>\n",
       "      <td>NaN</td>\n",
       "      <td>20191229</td>\n",
       "      <td>서울특별시</td>\n",
       "      <td>종로구</td>\n",
       "      <td>9.0</td>\n",
       "      <td>흐림/비</td>\n",
       "    </tr>\n",
       "    <tr>\n",
       "      <th>3</th>\n",
       "      <td>2019-12-29 03:00</td>\n",
       "      <td>1.4</td>\n",
       "      <td>NaN</td>\n",
       "      <td>1.8</td>\n",
       "      <td>70.0</td>\n",
       "      <td>52</td>\n",
       "      <td>1017.9</td>\n",
       "      <td>NaN</td>\n",
       "      <td>5.0</td>\n",
       "      <td>NaN</td>\n",
       "      <td>20191229</td>\n",
       "      <td>서울특별시</td>\n",
       "      <td>종로구</td>\n",
       "      <td>9.0</td>\n",
       "      <td>흐림/비</td>\n",
       "    </tr>\n",
       "    <tr>\n",
       "      <th>4</th>\n",
       "      <td>2019-12-29 04:00</td>\n",
       "      <td>1.4</td>\n",
       "      <td>NaN</td>\n",
       "      <td>2.6</td>\n",
       "      <td>70.0</td>\n",
       "      <td>51</td>\n",
       "      <td>1017.1</td>\n",
       "      <td>NaN</td>\n",
       "      <td>5.0</td>\n",
       "      <td>NaN</td>\n",
       "      <td>20191229</td>\n",
       "      <td>서울특별시</td>\n",
       "      <td>종로구</td>\n",
       "      <td>9.0</td>\n",
       "      <td>흐림/비</td>\n",
       "    </tr>\n",
       "    <tr>\n",
       "      <th>...</th>\n",
       "      <td>...</td>\n",
       "      <td>...</td>\n",
       "      <td>...</td>\n",
       "      <td>...</td>\n",
       "      <td>...</td>\n",
       "      <td>...</td>\n",
       "      <td>...</td>\n",
       "      <td>...</td>\n",
       "      <td>...</td>\n",
       "      <td>...</td>\n",
       "      <td>...</td>\n",
       "      <td>...</td>\n",
       "      <td>...</td>\n",
       "      <td>...</td>\n",
       "      <td>...</td>\n",
       "    </tr>\n",
       "    <tr>\n",
       "      <th>37771</th>\n",
       "      <td>2024-05-23 19:00</td>\n",
       "      <td>22.5</td>\n",
       "      <td>NaN</td>\n",
       "      <td>3.5</td>\n",
       "      <td>270.0</td>\n",
       "      <td>55</td>\n",
       "      <td>999.5</td>\n",
       "      <td>1.0</td>\n",
       "      <td>0.0</td>\n",
       "      <td>NaN</td>\n",
       "      <td>20240523</td>\n",
       "      <td>서울특별시</td>\n",
       "      <td>종로구</td>\n",
       "      <td>17.0</td>\n",
       "      <td>맑음/안개</td>\n",
       "    </tr>\n",
       "    <tr>\n",
       "      <th>37772</th>\n",
       "      <td>2024-05-23 20:00</td>\n",
       "      <td>20.5</td>\n",
       "      <td>NaN</td>\n",
       "      <td>3.0</td>\n",
       "      <td>290.0</td>\n",
       "      <td>68</td>\n",
       "      <td>1000.3</td>\n",
       "      <td>0.0</td>\n",
       "      <td>0.0</td>\n",
       "      <td>NaN</td>\n",
       "      <td>20240523</td>\n",
       "      <td>서울특별시</td>\n",
       "      <td>종로구</td>\n",
       "      <td>17.0</td>\n",
       "      <td>맑음/안개</td>\n",
       "    </tr>\n",
       "    <tr>\n",
       "      <th>37773</th>\n",
       "      <td>2024-05-23 21:00</td>\n",
       "      <td>18.6</td>\n",
       "      <td>NaN</td>\n",
       "      <td>2.8</td>\n",
       "      <td>270.0</td>\n",
       "      <td>73</td>\n",
       "      <td>1001.0</td>\n",
       "      <td>NaN</td>\n",
       "      <td>0.0</td>\n",
       "      <td>NaN</td>\n",
       "      <td>20240523</td>\n",
       "      <td>서울특별시</td>\n",
       "      <td>종로구</td>\n",
       "      <td>17.0</td>\n",
       "      <td>맑음/안개</td>\n",
       "    </tr>\n",
       "    <tr>\n",
       "      <th>37774</th>\n",
       "      <td>2024-05-23 22:00</td>\n",
       "      <td>17.7</td>\n",
       "      <td>NaN</td>\n",
       "      <td>2.9</td>\n",
       "      <td>290.0</td>\n",
       "      <td>79</td>\n",
       "      <td>1001.6</td>\n",
       "      <td>NaN</td>\n",
       "      <td>0.0</td>\n",
       "      <td>NaN</td>\n",
       "      <td>20240523</td>\n",
       "      <td>서울특별시</td>\n",
       "      <td>종로구</td>\n",
       "      <td>17.0</td>\n",
       "      <td>맑음/안개</td>\n",
       "    </tr>\n",
       "    <tr>\n",
       "      <th>37775</th>\n",
       "      <td>2024-05-23 23:00</td>\n",
       "      <td>16.8</td>\n",
       "      <td>NaN</td>\n",
       "      <td>3.1</td>\n",
       "      <td>250.0</td>\n",
       "      <td>83</td>\n",
       "      <td>1001.6</td>\n",
       "      <td>NaN</td>\n",
       "      <td>0.0</td>\n",
       "      <td>19.0</td>\n",
       "      <td>20240523</td>\n",
       "      <td>서울특별시</td>\n",
       "      <td>종로구</td>\n",
       "      <td>17.0</td>\n",
       "      <td>맑음/안개</td>\n",
       "    </tr>\n",
       "  </tbody>\n",
       "</table>\n",
       "<p>37776 rows × 15 columns</p>\n",
       "</div>"
      ],
      "text/plain": [
       "                     tm    ta  rn   ws     wd  hm      pa   ss  dc10Tca  \\\n",
       "0      2019-12-29 00:00   1.4 NaN  1.8   50.0  57  1018.2  NaN      3.0   \n",
       "1      2019-12-29 01:00   1.2 NaN  1.8   70.0  54  1017.9  NaN      6.0   \n",
       "2      2019-12-29 02:00   1.3 NaN  2.4   70.0  53  1017.9  NaN      4.0   \n",
       "3      2019-12-29 03:00   1.4 NaN  1.8   70.0  52  1017.9  NaN      5.0   \n",
       "4      2019-12-29 04:00   1.4 NaN  2.6   70.0  51  1017.1  NaN      5.0   \n",
       "...                 ...   ...  ..  ...    ...  ..     ...  ...      ...   \n",
       "37771  2024-05-23 19:00  22.5 NaN  3.5  270.0  55   999.5  1.0      0.0   \n",
       "37772  2024-05-23 20:00  20.5 NaN  3.0  290.0  68  1000.3  0.0      0.0   \n",
       "37773  2024-05-23 21:00  18.6 NaN  2.8  270.0  73  1001.0  NaN      0.0   \n",
       "37774  2024-05-23 22:00  17.7 NaN  2.9  290.0  79  1001.6  NaN      0.0   \n",
       "37775  2024-05-23 23:00  16.8 NaN  3.1  250.0  83  1001.6  NaN      0.0   \n",
       "\n",
       "       dmstMtphNo    aplYmd lareaNm mareaNm  wetrCd wetrTxt  \n",
       "0             NaN  20191229   서울특별시     종로구     9.0    흐림/비  \n",
       "1             NaN  20191229   서울특별시     종로구     9.0    흐림/비  \n",
       "2             NaN  20191229   서울특별시     종로구     9.0    흐림/비  \n",
       "3             NaN  20191229   서울특별시     종로구     9.0    흐림/비  \n",
       "4             NaN  20191229   서울특별시     종로구     9.0    흐림/비  \n",
       "...           ...       ...     ...     ...     ...     ...  \n",
       "37771         NaN  20240523   서울특별시     종로구    17.0   맑음/안개  \n",
       "37772         NaN  20240523   서울특별시     종로구    17.0   맑음/안개  \n",
       "37773         NaN  20240523   서울특별시     종로구    17.0   맑음/안개  \n",
       "37774         NaN  20240523   서울특별시     종로구    17.0   맑음/안개  \n",
       "37775        19.0  20240523   서울특별시     종로구    17.0   맑음/안개  \n",
       "\n",
       "[37776 rows x 15 columns]"
      ]
     },
     "execution_count": 21,
     "metadata": {},
     "output_type": "execute_result"
    }
   ],
   "source": [
    "total_df"
   ]
  },
  {
   "cell_type": "code",
   "execution_count": 22,
   "id": "60f40980-6cd0-425e-bb14-c3f71b52b075",
   "metadata": {},
   "outputs": [],
   "source": [
    "total_df.to_csv('2020_now_merge_df.csv', index=False, encoding='utf-8-sig')"
   ]
  }
 ],
 "metadata": {
  "kernelspec": {
   "display_name": "Python 3 (ipykernel)",
   "language": "python",
   "name": "python3"
  },
  "language_info": {
   "codemirror_mode": {
    "name": "ipython",
    "version": 3
   },
   "file_extension": ".py",
   "mimetype": "text/x-python",
   "name": "python",
   "nbconvert_exporter": "python",
   "pygments_lexer": "ipython3",
   "version": "3.10.13"
  }
 },
 "nbformat": 4,
 "nbformat_minor": 5
}
