{
 "cells": [
  {
   "cell_type": "code",
   "execution_count": 288,
   "id": "2d7e0362-f92e-4f68-89f0-54be881c5155",
   "metadata": {},
   "outputs": [],
   "source": [
    "import csv\n",
    "import pandas as pd\n",
    "import requests\n",
    "from bs4 import BeautifulSoup as bs\n",
    "from datetime import datetime, timedelta\n",
    "from tqdm import tqdm\n",
    "import json\n",
    "df = pd.read_csv('2020_now_merge_df.csv')"
   ]
  },
  {
   "cell_type": "markdown",
   "id": "e15abfa6-388c-4dfd-9cba-d033d82093b4",
   "metadata": {},
   "source": [
    "# tm 날짜\n",
    "# ta 기온\n",
    "# rn 강수량\n",
    "# ws 풍속\n",
    "# wd 풍향\n",
    "# hm 습도\n",
    "# pa 현지기압\n",
    "# ss 일조\n",
    "# dc10Tca 전운량\n",
    "# dmstMtphNo 현상번호 - 눈 비인지 알수있음\n",
    "# aplYmd 날짜\n",
    "# lareaNm 서울특별시 고정\n",
    "# mareaNm 중구 고정\n",
    "# wetrCd 날씨코드\n",
    "# wetrTxt 날씨코드설명"
   ]
  },
  {
   "cell_type": "code",
   "execution_count": 289,
   "id": "1560a2a7-9594-45eb-bfbd-2e889bb5cc3d",
   "metadata": {},
   "outputs": [
    {
     "data": {
      "text/html": [
       "<div>\n",
       "<style scoped>\n",
       "    .dataframe tbody tr th:only-of-type {\n",
       "        vertical-align: middle;\n",
       "    }\n",
       "\n",
       "    .dataframe tbody tr th {\n",
       "        vertical-align: top;\n",
       "    }\n",
       "\n",
       "    .dataframe thead th {\n",
       "        text-align: right;\n",
       "    }\n",
       "</style>\n",
       "<table border=\"1\" class=\"dataframe\">\n",
       "  <thead>\n",
       "    <tr style=\"text-align: right;\">\n",
       "      <th></th>\n",
       "      <th>tm</th>\n",
       "      <th>ta</th>\n",
       "      <th>rn</th>\n",
       "      <th>ws</th>\n",
       "      <th>wd</th>\n",
       "      <th>hm</th>\n",
       "      <th>pa</th>\n",
       "      <th>ss</th>\n",
       "      <th>dc10Tca</th>\n",
       "      <th>dmstMtphNo</th>\n",
       "      <th>aplYmd</th>\n",
       "      <th>lareaNm</th>\n",
       "      <th>mareaNm</th>\n",
       "      <th>wetrCd</th>\n",
       "      <th>wetrTxt</th>\n",
       "    </tr>\n",
       "  </thead>\n",
       "  <tbody>\n",
       "    <tr>\n",
       "      <th>0</th>\n",
       "      <td>2019-12-29 00:00</td>\n",
       "      <td>1.4</td>\n",
       "      <td>NaN</td>\n",
       "      <td>1.8</td>\n",
       "      <td>50.0</td>\n",
       "      <td>57</td>\n",
       "      <td>1018.2</td>\n",
       "      <td>NaN</td>\n",
       "      <td>3.0</td>\n",
       "      <td>NaN</td>\n",
       "      <td>20191229</td>\n",
       "      <td>서울특별시</td>\n",
       "      <td>종로구</td>\n",
       "      <td>9.0</td>\n",
       "      <td>흐림/비</td>\n",
       "    </tr>\n",
       "  </tbody>\n",
       "</table>\n",
       "</div>"
      ],
      "text/plain": [
       "                 tm   ta  rn   ws    wd  hm      pa  ss  dc10Tca  dmstMtphNo  \\\n",
       "0  2019-12-29 00:00  1.4 NaN  1.8  50.0  57  1018.2 NaN      3.0         NaN   \n",
       "\n",
       "     aplYmd lareaNm mareaNm  wetrCd wetrTxt  \n",
       "0  20191229   서울특별시     종로구     9.0    흐림/비  "
      ]
     },
     "execution_count": 289,
     "metadata": {},
     "output_type": "execute_result"
    }
   ],
   "source": [
    "df.head(1)"
   ]
  },
  {
   "cell_type": "code",
   "execution_count": 290,
   "id": "718d5f71-2def-4c01-84c8-c2e92301d0d3",
   "metadata": {},
   "outputs": [],
   "source": [
    "# 강수랑 nan값은 다 0으로 저장\n",
    "df[\"rn\"] = df[\"rn\"].fillna(0)"
   ]
  },
  {
   "cell_type": "code",
   "execution_count": 291,
   "id": "55c00576-bdab-410d-ae92-ff65d796bba6",
   "metadata": {},
   "outputs": [
    {
     "data": {
      "text/plain": [
       "tm                0\n",
       "ta                0\n",
       "rn                0\n",
       "ws               70\n",
       "wd               70\n",
       "hm                0\n",
       "pa               10\n",
       "ss            17165\n",
       "dc10Tca          20\n",
       "dmstMtphNo    27246\n",
       "aplYmd            0\n",
       "lareaNm           0\n",
       "mareaNm           0\n",
       "wetrCd            0\n",
       "wetrTxt           0\n",
       "dtype: int64"
      ]
     },
     "execution_count": 291,
     "metadata": {},
     "output_type": "execute_result"
    }
   ],
   "source": [
    "df.isna().sum() "
   ]
  },
  {
   "cell_type": "code",
   "execution_count": 292,
   "id": "2caba2fa-b55c-4bb9-a5a4-c38c37e7f563",
   "metadata": {},
   "outputs": [],
   "source": [
    "# 일조를 어디다가 쓰나요? => 일단지움\n",
    "# 혹시모르니\n",
    "ss_no_df = df.drop(columns=[\"ss\"],axis=1).copy()"
   ]
  },
  {
   "cell_type": "code",
   "execution_count": 293,
   "id": "a0ecdd9c-b67e-455a-8831-c5d1af787051",
   "metadata": {},
   "outputs": [
    {
     "data": {
      "text/plain": [
       "tm                0\n",
       "ta                0\n",
       "rn                0\n",
       "ws               70\n",
       "wd               70\n",
       "hm                0\n",
       "pa               10\n",
       "dc10Tca          20\n",
       "dmstMtphNo    27246\n",
       "aplYmd            0\n",
       "lareaNm           0\n",
       "mareaNm           0\n",
       "wetrCd            0\n",
       "wetrTxt           0\n",
       "dtype: int64"
      ]
     },
     "execution_count": 293,
     "metadata": {},
     "output_type": "execute_result"
    }
   ],
   "source": [
    "ss_no_df.isna().sum()"
   ]
  },
  {
   "cell_type": "code",
   "execution_count": 294,
   "id": "25ba9555-2f0a-4264-8a81-3058194fb9a6",
   "metadata": {},
   "outputs": [
    {
     "data": {
      "text/html": [
       "<div>\n",
       "<style scoped>\n",
       "    .dataframe tbody tr th:only-of-type {\n",
       "        vertical-align: middle;\n",
       "    }\n",
       "\n",
       "    .dataframe tbody tr th {\n",
       "        vertical-align: top;\n",
       "    }\n",
       "\n",
       "    .dataframe thead th {\n",
       "        text-align: right;\n",
       "    }\n",
       "</style>\n",
       "<table border=\"1\" class=\"dataframe\">\n",
       "  <thead>\n",
       "    <tr style=\"text-align: right;\">\n",
       "      <th></th>\n",
       "      <th>tm</th>\n",
       "      <th>ta</th>\n",
       "      <th>rn</th>\n",
       "      <th>ws</th>\n",
       "      <th>wd</th>\n",
       "      <th>hm</th>\n",
       "      <th>pa</th>\n",
       "      <th>dc10Tca</th>\n",
       "      <th>dmstMtphNo</th>\n",
       "      <th>aplYmd</th>\n",
       "      <th>lareaNm</th>\n",
       "      <th>mareaNm</th>\n",
       "      <th>wetrCd</th>\n",
       "      <th>wetrTxt</th>\n",
       "    </tr>\n",
       "  </thead>\n",
       "  <tbody>\n",
       "    <tr>\n",
       "      <th>9011</th>\n",
       "      <td>2021-01-07 11:00</td>\n",
       "      <td>-14.8</td>\n",
       "      <td>0.0</td>\n",
       "      <td>NaN</td>\n",
       "      <td>NaN</td>\n",
       "      <td>48</td>\n",
       "      <td>1016.9</td>\n",
       "      <td>0.0</td>\n",
       "      <td>NaN</td>\n",
       "      <td>20210107</td>\n",
       "      <td>서울특별시</td>\n",
       "      <td>종로구</td>\n",
       "      <td>1.0</td>\n",
       "      <td>맑음</td>\n",
       "    </tr>\n",
       "    <tr>\n",
       "      <th>9012</th>\n",
       "      <td>2021-01-07 12:00</td>\n",
       "      <td>-13.8</td>\n",
       "      <td>0.0</td>\n",
       "      <td>NaN</td>\n",
       "      <td>NaN</td>\n",
       "      <td>45</td>\n",
       "      <td>1016.4</td>\n",
       "      <td>0.0</td>\n",
       "      <td>NaN</td>\n",
       "      <td>20210107</td>\n",
       "      <td>서울특별시</td>\n",
       "      <td>종로구</td>\n",
       "      <td>1.0</td>\n",
       "      <td>맑음</td>\n",
       "    </tr>\n",
       "    <tr>\n",
       "      <th>33793</th>\n",
       "      <td>2023-12-10 01:00</td>\n",
       "      <td>11.6</td>\n",
       "      <td>0.0</td>\n",
       "      <td>NaN</td>\n",
       "      <td>NaN</td>\n",
       "      <td>87</td>\n",
       "      <td>1010.4</td>\n",
       "      <td>10.0</td>\n",
       "      <td>19.0</td>\n",
       "      <td>20231210</td>\n",
       "      <td>서울특별시</td>\n",
       "      <td>종로구</td>\n",
       "      <td>9.0</td>\n",
       "      <td>구름많음/비/안개</td>\n",
       "    </tr>\n",
       "    <tr>\n",
       "      <th>33794</th>\n",
       "      <td>2023-12-10 02:00</td>\n",
       "      <td>11.4</td>\n",
       "      <td>0.0</td>\n",
       "      <td>NaN</td>\n",
       "      <td>NaN</td>\n",
       "      <td>86</td>\n",
       "      <td>1010.7</td>\n",
       "      <td>9.0</td>\n",
       "      <td>19.0</td>\n",
       "      <td>20231210</td>\n",
       "      <td>서울특별시</td>\n",
       "      <td>종로구</td>\n",
       "      <td>9.0</td>\n",
       "      <td>구름많음/비/안개</td>\n",
       "    </tr>\n",
       "    <tr>\n",
       "      <th>33795</th>\n",
       "      <td>2023-12-10 03:00</td>\n",
       "      <td>10.8</td>\n",
       "      <td>0.0</td>\n",
       "      <td>NaN</td>\n",
       "      <td>NaN</td>\n",
       "      <td>82</td>\n",
       "      <td>1010.9</td>\n",
       "      <td>2.0</td>\n",
       "      <td>19.0</td>\n",
       "      <td>20231210</td>\n",
       "      <td>서울특별시</td>\n",
       "      <td>종로구</td>\n",
       "      <td>9.0</td>\n",
       "      <td>구름많음/비/안개</td>\n",
       "    </tr>\n",
       "    <tr>\n",
       "      <th>...</th>\n",
       "      <td>...</td>\n",
       "      <td>...</td>\n",
       "      <td>...</td>\n",
       "      <td>...</td>\n",
       "      <td>...</td>\n",
       "      <td>...</td>\n",
       "      <td>...</td>\n",
       "      <td>...</td>\n",
       "      <td>...</td>\n",
       "      <td>...</td>\n",
       "      <td>...</td>\n",
       "      <td>...</td>\n",
       "      <td>...</td>\n",
       "      <td>...</td>\n",
       "    </tr>\n",
       "    <tr>\n",
       "      <th>36037</th>\n",
       "      <td>2024-03-12 13:00</td>\n",
       "      <td>7.8</td>\n",
       "      <td>0.0</td>\n",
       "      <td>NaN</td>\n",
       "      <td>NaN</td>\n",
       "      <td>76</td>\n",
       "      <td>1004.1</td>\n",
       "      <td>9.0</td>\n",
       "      <td>NaN</td>\n",
       "      <td>20240312</td>\n",
       "      <td>서울특별시</td>\n",
       "      <td>종로구</td>\n",
       "      <td>9.0</td>\n",
       "      <td>구름많음/비/안개/우박</td>\n",
       "    </tr>\n",
       "    <tr>\n",
       "      <th>36038</th>\n",
       "      <td>2024-03-12 14:00</td>\n",
       "      <td>7.9</td>\n",
       "      <td>0.0</td>\n",
       "      <td>NaN</td>\n",
       "      <td>NaN</td>\n",
       "      <td>73</td>\n",
       "      <td>1003.6</td>\n",
       "      <td>10.0</td>\n",
       "      <td>1.0</td>\n",
       "      <td>20240312</td>\n",
       "      <td>서울특별시</td>\n",
       "      <td>종로구</td>\n",
       "      <td>9.0</td>\n",
       "      <td>구름많음/비/안개/우박</td>\n",
       "    </tr>\n",
       "    <tr>\n",
       "      <th>36039</th>\n",
       "      <td>2024-03-12 15:00</td>\n",
       "      <td>9.4</td>\n",
       "      <td>0.0</td>\n",
       "      <td>NaN</td>\n",
       "      <td>NaN</td>\n",
       "      <td>67</td>\n",
       "      <td>1003.3</td>\n",
       "      <td>8.0</td>\n",
       "      <td>1.0</td>\n",
       "      <td>20240312</td>\n",
       "      <td>서울특별시</td>\n",
       "      <td>종로구</td>\n",
       "      <td>9.0</td>\n",
       "      <td>구름많음/비/안개/우박</td>\n",
       "    </tr>\n",
       "    <tr>\n",
       "      <th>36040</th>\n",
       "      <td>2024-03-12 16:00</td>\n",
       "      <td>9.2</td>\n",
       "      <td>0.0</td>\n",
       "      <td>NaN</td>\n",
       "      <td>NaN</td>\n",
       "      <td>68</td>\n",
       "      <td>1003.6</td>\n",
       "      <td>7.0</td>\n",
       "      <td>1301.0</td>\n",
       "      <td>20240312</td>\n",
       "      <td>서울특별시</td>\n",
       "      <td>종로구</td>\n",
       "      <td>9.0</td>\n",
       "      <td>구름많음/비/안개/우박</td>\n",
       "    </tr>\n",
       "    <tr>\n",
       "      <th>36041</th>\n",
       "      <td>2024-03-12 17:00</td>\n",
       "      <td>8.5</td>\n",
       "      <td>0.0</td>\n",
       "      <td>NaN</td>\n",
       "      <td>NaN</td>\n",
       "      <td>73</td>\n",
       "      <td>1004.2</td>\n",
       "      <td>8.0</td>\n",
       "      <td>1.0</td>\n",
       "      <td>20240312</td>\n",
       "      <td>서울특별시</td>\n",
       "      <td>종로구</td>\n",
       "      <td>9.0</td>\n",
       "      <td>구름많음/비/안개/우박</td>\n",
       "    </tr>\n",
       "  </tbody>\n",
       "</table>\n",
       "<p>70 rows × 14 columns</p>\n",
       "</div>"
      ],
      "text/plain": [
       "                     tm    ta   rn  ws  wd  hm      pa  dc10Tca  dmstMtphNo  \\\n",
       "9011   2021-01-07 11:00 -14.8  0.0 NaN NaN  48  1016.9      0.0         NaN   \n",
       "9012   2021-01-07 12:00 -13.8  0.0 NaN NaN  45  1016.4      0.0         NaN   \n",
       "33793  2023-12-10 01:00  11.6  0.0 NaN NaN  87  1010.4     10.0        19.0   \n",
       "33794  2023-12-10 02:00  11.4  0.0 NaN NaN  86  1010.7      9.0        19.0   \n",
       "33795  2023-12-10 03:00  10.8  0.0 NaN NaN  82  1010.9      2.0        19.0   \n",
       "...                 ...   ...  ...  ..  ..  ..     ...      ...         ...   \n",
       "36037  2024-03-12 13:00   7.8  0.0 NaN NaN  76  1004.1      9.0         NaN   \n",
       "36038  2024-03-12 14:00   7.9  0.0 NaN NaN  73  1003.6     10.0         1.0   \n",
       "36039  2024-03-12 15:00   9.4  0.0 NaN NaN  67  1003.3      8.0         1.0   \n",
       "36040  2024-03-12 16:00   9.2  0.0 NaN NaN  68  1003.6      7.0      1301.0   \n",
       "36041  2024-03-12 17:00   8.5  0.0 NaN NaN  73  1004.2      8.0         1.0   \n",
       "\n",
       "         aplYmd lareaNm mareaNm  wetrCd       wetrTxt  \n",
       "9011   20210107   서울특별시     종로구     1.0            맑음  \n",
       "9012   20210107   서울특별시     종로구     1.0            맑음  \n",
       "33793  20231210   서울특별시     종로구     9.0     구름많음/비/안개  \n",
       "33794  20231210   서울특별시     종로구     9.0     구름많음/비/안개  \n",
       "33795  20231210   서울특별시     종로구     9.0     구름많음/비/안개  \n",
       "...         ...     ...     ...     ...           ...  \n",
       "36037  20240312   서울특별시     종로구     9.0  구름많음/비/안개/우박  \n",
       "36038  20240312   서울특별시     종로구     9.0  구름많음/비/안개/우박  \n",
       "36039  20240312   서울특별시     종로구     9.0  구름많음/비/안개/우박  \n",
       "36040  20240312   서울특별시     종로구     9.0  구름많음/비/안개/우박  \n",
       "36041  20240312   서울특별시     종로구     9.0  구름많음/비/안개/우박  \n",
       "\n",
       "[70 rows x 14 columns]"
      ]
     },
     "execution_count": 294,
     "metadata": {},
     "output_type": "execute_result"
    }
   ],
   "source": [
    "ss_no_df[ss_no_df[\"ws\"].isna()]"
   ]
  },
  {
   "cell_type": "code",
   "execution_count": 295,
   "id": "1800f725-4ef2-48b5-a97f-59447aaae1f1",
   "metadata": {},
   "outputs": [],
   "source": [
    "# 풍향을 예측하는거 index 저장\n",
    "wd_index = ss_no_df[ss_no_df[\"wd\"].isna()].index"
   ]
  },
  {
   "cell_type": "code",
   "execution_count": 296,
   "id": "e82f6d34-a7ea-4c0d-8c17-ac639bb11827",
   "metadata": {},
   "outputs": [
    {
     "data": {
      "text/plain": [
       "Index([ 9011,  9012, 33793, 33794, 33795, 33796, 33797, 33798, 33799, 33800,\n",
       "       33801, 33802, 33803, 33804, 33805, 33806, 33807, 33808, 33809, 33810,\n",
       "       33811, 33812, 33813, 33814, 33815, 33816, 33817, 33818, 33819, 33820,\n",
       "       33821, 33822, 33823, 33824, 33825, 33826, 33827, 33828, 33829, 36004,\n",
       "       36005, 36006, 36007, 36008, 36009, 36010, 36018, 36019, 36020, 36021,\n",
       "       36022, 36023, 36024, 36025, 36026, 36027, 36028, 36029, 36030, 36031,\n",
       "       36032, 36033, 36034, 36035, 36036, 36037, 36038, 36039, 36040, 36041],\n",
       "      dtype='int64')"
      ]
     },
     "execution_count": 296,
     "metadata": {},
     "output_type": "execute_result"
    }
   ],
   "source": [
    "wd_index"
   ]
  },
  {
   "cell_type": "code",
   "execution_count": 297,
   "id": "718bb56f-07c7-4cb3-b422-f52610fe77e0",
   "metadata": {},
   "outputs": [
    {
     "name": "stdout",
     "output_type": "stream",
     "text": [
      "인덱스 9011와 인덱스 9012 사이의 간격: 1\n",
      "인덱스 9012와 인덱스 33793 사이의 간격: 24781\n",
      "인덱스 33793와 인덱스 33794 사이의 간격: 1\n",
      "인덱스 33794와 인덱스 33795 사이의 간격: 1\n",
      "인덱스 33795와 인덱스 33796 사이의 간격: 1\n",
      "인덱스 33796와 인덱스 33797 사이의 간격: 1\n",
      "인덱스 33797와 인덱스 33798 사이의 간격: 1\n",
      "인덱스 33798와 인덱스 33799 사이의 간격: 1\n",
      "인덱스 33799와 인덱스 33800 사이의 간격: 1\n",
      "인덱스 33800와 인덱스 33801 사이의 간격: 1\n",
      "인덱스 33801와 인덱스 33802 사이의 간격: 1\n",
      "인덱스 33802와 인덱스 33803 사이의 간격: 1\n",
      "인덱스 33803와 인덱스 33804 사이의 간격: 1\n",
      "인덱스 33804와 인덱스 33805 사이의 간격: 1\n",
      "인덱스 33805와 인덱스 33806 사이의 간격: 1\n",
      "인덱스 33806와 인덱스 33807 사이의 간격: 1\n",
      "인덱스 33807와 인덱스 33808 사이의 간격: 1\n",
      "인덱스 33808와 인덱스 33809 사이의 간격: 1\n",
      "인덱스 33809와 인덱스 33810 사이의 간격: 1\n",
      "인덱스 33810와 인덱스 33811 사이의 간격: 1\n",
      "인덱스 33811와 인덱스 33812 사이의 간격: 1\n",
      "인덱스 33812와 인덱스 33813 사이의 간격: 1\n",
      "인덱스 33813와 인덱스 33814 사이의 간격: 1\n",
      "인덱스 33814와 인덱스 33815 사이의 간격: 1\n",
      "인덱스 33815와 인덱스 33816 사이의 간격: 1\n",
      "인덱스 33816와 인덱스 33817 사이의 간격: 1\n",
      "인덱스 33817와 인덱스 33818 사이의 간격: 1\n",
      "인덱스 33818와 인덱스 33819 사이의 간격: 1\n",
      "인덱스 33819와 인덱스 33820 사이의 간격: 1\n",
      "인덱스 33820와 인덱스 33821 사이의 간격: 1\n",
      "인덱스 33821와 인덱스 33822 사이의 간격: 1\n",
      "인덱스 33822와 인덱스 33823 사이의 간격: 1\n",
      "인덱스 33823와 인덱스 33824 사이의 간격: 1\n",
      "인덱스 33824와 인덱스 33825 사이의 간격: 1\n",
      "인덱스 33825와 인덱스 33826 사이의 간격: 1\n",
      "인덱스 33826와 인덱스 33827 사이의 간격: 1\n",
      "인덱스 33827와 인덱스 33828 사이의 간격: 1\n",
      "인덱스 33828와 인덱스 33829 사이의 간격: 1\n",
      "인덱스 33829와 인덱스 36004 사이의 간격: 2175\n",
      "인덱스 36004와 인덱스 36005 사이의 간격: 1\n",
      "인덱스 36005와 인덱스 36006 사이의 간격: 1\n",
      "인덱스 36006와 인덱스 36007 사이의 간격: 1\n",
      "인덱스 36007와 인덱스 36008 사이의 간격: 1\n",
      "인덱스 36008와 인덱스 36009 사이의 간격: 1\n",
      "인덱스 36009와 인덱스 36010 사이의 간격: 1\n",
      "인덱스 36010와 인덱스 36018 사이의 간격: 8\n",
      "인덱스 36018와 인덱스 36019 사이의 간격: 1\n",
      "인덱스 36019와 인덱스 36020 사이의 간격: 1\n",
      "인덱스 36020와 인덱스 36021 사이의 간격: 1\n",
      "인덱스 36021와 인덱스 36022 사이의 간격: 1\n",
      "인덱스 36022와 인덱스 36023 사이의 간격: 1\n",
      "인덱스 36023와 인덱스 36024 사이의 간격: 1\n",
      "인덱스 36024와 인덱스 36025 사이의 간격: 1\n",
      "인덱스 36025와 인덱스 36026 사이의 간격: 1\n",
      "인덱스 36026와 인덱스 36027 사이의 간격: 1\n",
      "인덱스 36027와 인덱스 36028 사이의 간격: 1\n",
      "인덱스 36028와 인덱스 36029 사이의 간격: 1\n",
      "인덱스 36029와 인덱스 36030 사이의 간격: 1\n",
      "인덱스 36030와 인덱스 36031 사이의 간격: 1\n",
      "인덱스 36031와 인덱스 36032 사이의 간격: 1\n",
      "인덱스 36032와 인덱스 36033 사이의 간격: 1\n",
      "인덱스 36033와 인덱스 36034 사이의 간격: 1\n",
      "인덱스 36034와 인덱스 36035 사이의 간격: 1\n",
      "인덱스 36035와 인덱스 36036 사이의 간격: 1\n",
      "인덱스 36036와 인덱스 36037 사이의 간격: 1\n",
      "인덱스 36037와 인덱스 36038 사이의 간격: 1\n",
      "인덱스 36038와 인덱스 36039 사이의 간격: 1\n",
      "인덱스 36039와 인덱스 36040 사이의 간격: 1\n",
      "인덱스 36040와 인덱스 36041 사이의 간격: 1\n"
     ]
    }
   ],
   "source": [
    "for i in range(len(wd_index) - 1):\n",
    "    gap = wd_index[i + 1] - wd_index[i]\n",
    "    print(f\"인덱스 {wd_index[i]}와 인덱스 {wd_index[i + 1]} 사이의 간격: {gap}\")\n",
    "# 9011 9012 앞뒤가 비어있지않은값만 보기"
   ]
  },
  {
   "cell_type": "code",
   "execution_count": 298,
   "id": "c428d8f6-33c4-4c36-8cd2-71ddada0eaa3",
   "metadata": {},
   "outputs": [],
   "source": [
    "import numpy as np\n",
    "from sklearn.linear_model import LinearRegression\n",
    "# 풍향 예측하기\n",
    "# 9011 9012 앞뒤가 비어있지않은값만 예측"
   ]
  },
  {
   "cell_type": "code",
   "execution_count": 299,
   "id": "61b72e8a-1605-496e-9590-76d5d2f877c9",
   "metadata": {},
   "outputs": [],
   "source": [
    "predict_array = ss_no_df.loc[9006:9017,\"wd\"]"
   ]
  },
  {
   "cell_type": "code",
   "execution_count": 300,
   "id": "1567142c-e6ec-4c49-9c82-61474abb0016",
   "metadata": {},
   "outputs": [],
   "source": [
    "predict_array_df = pd.DataFrame(predict_array)\n"
   ]
  },
  {
   "cell_type": "code",
   "execution_count": 301,
   "id": "c6794bf4-da23-4092-af2e-5b655e4cac5f",
   "metadata": {},
   "outputs": [],
   "source": [
    "predict_array_df.to_csv('predict_array_df.csv', index=False, encoding='utf-8-sig')"
   ]
  },
  {
   "cell_type": "code",
   "execution_count": 302,
   "id": "1807b294-a912-4f6c-8b19-2ec2c038f737",
   "metadata": {},
   "outputs": [
    {
     "name": "stdout",
     "output_type": "stream",
     "text": [
      "예측 결과: [279.54385965 280.45614035]\n"
     ]
    }
   ],
   "source": [
    "import joblib\n",
    "data = np.array(predict_array).reshape(-1, 1)\n",
    "model = LinearRegression()\n",
    "x_train = np.where(~np.isnan(data))[0].reshape(-1, 1)\n",
    "y_train = data[~np.isnan(data)].reshape(-1, 1)\n",
    "model.fit(x_train, y_train)\n",
    "X_pred = np.where(np.isnan(data))[0].reshape(-1, 1)\n",
    "y_pred = model.predict(X_pred)\n",
    "joblib.dump(model, 'linear_regression_model.joblib')\n",
    "print(\"예측 결과:\", y_pred.flatten())"
   ]
  },
  {
   "cell_type": "code",
   "execution_count": 303,
   "id": "d7693a2e-1456-422f-8909-cee7b97dd2d9",
   "metadata": {},
   "outputs": [],
   "source": [
    "ss_no_df.loc[9011,\"wd\"] = 279.54385965"
   ]
  },
  {
   "cell_type": "code",
   "execution_count": 304,
   "id": "fa3ce3ba-916c-4e50-94c0-3c888001ff82",
   "metadata": {},
   "outputs": [],
   "source": [
    "ss_no_df.loc[9012,\"wd\"] = 280.45614035"
   ]
  },
  {
   "cell_type": "code",
   "execution_count": 305,
   "id": "f63eeb31-79de-49cb-bb5f-b43ac16b8ece",
   "metadata": {},
   "outputs": [],
   "source": [
    "# 풍향을 예측하는거 index 저장\n",
    "ws_index = ss_no_df[ss_no_df[\"ws\"].isna()].index"
   ]
  },
  {
   "cell_type": "code",
   "execution_count": 306,
   "id": "cc3123a9-0998-4b49-8e46-aa115c919e8a",
   "metadata": {},
   "outputs": [
    {
     "data": {
      "text/plain": [
       "Index([ 9011,  9012, 33793, 33794, 33795, 33796, 33797, 33798, 33799, 33800,\n",
       "       33801, 33802, 33803, 33804, 33805, 33806, 33807, 33808, 33809, 33810,\n",
       "       33811, 33812, 33813, 33814, 33815, 33816, 33817, 33818, 33819, 33820,\n",
       "       33821, 33822, 33823, 33824, 33825, 33826, 33827, 33828, 33829, 36004,\n",
       "       36005, 36006, 36007, 36008, 36009, 36010, 36018, 36019, 36020, 36021,\n",
       "       36022, 36023, 36024, 36025, 36026, 36027, 36028, 36029, 36030, 36031,\n",
       "       36032, 36033, 36034, 36035, 36036, 36037, 36038, 36039, 36040, 36041],\n",
       "      dtype='int64')"
      ]
     },
     "execution_count": 306,
     "metadata": {},
     "output_type": "execute_result"
    }
   ],
   "source": [
    "ws_index"
   ]
  },
  {
   "cell_type": "code",
   "execution_count": 307,
   "id": "468f3197-28b8-465c-bcaa-8a6ecefbdcef",
   "metadata": {},
   "outputs": [],
   "source": [
    "for i in range(len(ws_index) - 1):\n",
    "    gap = ws_index[i + 1] - ws_index[i]\n",
    "    # print(f\"인덱스 {ws_index[i]}와 인덱스 {ws_index[i + 1]} 사이의 간격: {gap}\")\n",
    "# 9011 9012 앞뒤가 비어있지않은값만 보기"
   ]
  },
  {
   "cell_type": "code",
   "execution_count": 308,
   "id": "c8eca971-ddd6-4ada-ab45-6ec319ca4608",
   "metadata": {},
   "outputs": [
    {
     "name": "stdout",
     "output_type": "stream",
     "text": [
      "예측 결과: [4.59649123 4.56350877]\n"
     ]
    }
   ],
   "source": [
    "predict_array = ss_no_df.loc[9006:9017,\"ws\"]\n",
    "data = np.array(predict_array).reshape(-1, 1)\n",
    "model = LinearRegression()\n",
    "x_train = np.where(~np.isnan(data))[0].reshape(-1, 1)\n",
    "y_train = data[~np.isnan(data)].reshape(-1, 1)\n",
    "model.fit(x_train, y_train)\n",
    "X_pred = np.where(np.isnan(data))[0].reshape(-1, 1)\n",
    "y_pred = model.predict(X_pred)\n",
    "print(\"예측 결과:\", y_pred.flatten())\n",
    "\n",
    "ss_no_df.loc[9011,\"ws\"] = 4.59649123\n",
    "ss_no_df.loc[9012,\"ws\"] = 4.56350877"
   ]
  },
  {
   "cell_type": "code",
   "execution_count": 309,
   "id": "1fbbba06-5a95-4417-859b-1c78b4994826",
   "metadata": {},
   "outputs": [
    {
     "data": {
      "text/plain": [
       "tm                0\n",
       "ta                0\n",
       "rn                0\n",
       "ws               68\n",
       "wd               68\n",
       "hm                0\n",
       "pa               10\n",
       "dc10Tca          20\n",
       "dmstMtphNo    27246\n",
       "aplYmd            0\n",
       "lareaNm           0\n",
       "mareaNm           0\n",
       "wetrCd            0\n",
       "wetrTxt           0\n",
       "dtype: int64"
      ]
     },
     "execution_count": 309,
     "metadata": {},
     "output_type": "execute_result"
    }
   ],
   "source": [
    "ss_no_df.isna().sum()"
   ]
  },
  {
   "cell_type": "code",
   "execution_count": 310,
   "id": "fba0b9ef-19dc-4cae-9a07-743728f74afa",
   "metadata": {},
   "outputs": [],
   "source": [
    "# 기압을 예측하는거 index 저장\n",
    "pa_index = ss_no_df[ss_no_df[\"pa\"].isna()].index"
   ]
  },
  {
   "cell_type": "code",
   "execution_count": 311,
   "id": "00206692-c4ee-44dd-9e0e-fd33f33b5265",
   "metadata": {},
   "outputs": [
    {
     "name": "stdout",
     "output_type": "stream",
     "text": [
      "인덱스 6210와 인덱스 6211 사이의 간격: 1\n",
      "인덱스 6211와 인덱스 6212 사이의 간격: 1\n",
      "인덱스 6212와 인덱스 6213 사이의 간격: 1\n",
      "인덱스 6213와 인덱스 6214 사이의 간격: 1\n",
      "인덱스 6214와 인덱스 6215 사이의 간격: 1\n",
      "인덱스 6215와 인덱스 6216 사이의 간격: 1\n",
      "인덱스 6216와 인덱스 6217 사이의 간격: 1\n",
      "인덱스 6217와 인덱스 8033 사이의 간격: 1816\n",
      "인덱스 8033와 인덱스 8034 사이의 간격: 1\n"
     ]
    }
   ],
   "source": [
    "for i in range(len(pa_index) - 1):\n",
    "    gap = pa_index[i + 1] - pa_index[i]\n",
    "    print(f\"인덱스 {pa_index[i]}와 인덱스 {pa_index[i + 1]} 사이의 간격: {gap}\")\n",
    "# 8033  8034  앞뒤가 비어있지않은값만 보기"
   ]
  },
  {
   "cell_type": "code",
   "execution_count": 312,
   "id": "faf5a79f-19e5-40ed-b8cb-25d962589ecf",
   "metadata": {},
   "outputs": [
    {
     "name": "stdout",
     "output_type": "stream",
     "text": [
      "예측 결과: [1015.23061674 1015.46938326]\n"
     ]
    }
   ],
   "source": [
    "predict_array = ss_no_df.loc[8027:8040,\"pa\"]\n",
    "data = np.array(predict_array).reshape(-1, 1)\n",
    "model = LinearRegression()\n",
    "x_train = np.where(~np.isnan(data))[0].reshape(-1, 1)\n",
    "y_train = data[~np.isnan(data)].reshape(-1, 1)\n",
    "model.fit(x_train, y_train)\n",
    "X_pred = np.where(np.isnan(data))[0].reshape(-1, 1)\n",
    "y_pred = model.predict(X_pred)\n",
    "print(\"예측 결과:\", y_pred.flatten())"
   ]
  },
  {
   "cell_type": "code",
   "execution_count": 313,
   "id": "0d9eb8ad-140c-4414-9cc2-51a8d9f81de8",
   "metadata": {},
   "outputs": [],
   "source": [
    "ss_no_df.loc[8033,\"pa\"] = 1015.23061674 \n",
    "ss_no_df.loc[8034,\"pa\"] = 1015.46938326"
   ]
  },
  {
   "cell_type": "code",
   "execution_count": 314,
   "id": "113170c5-b884-4e4d-ab43-5a18fe33f961",
   "metadata": {
    "scrolled": true
   },
   "outputs": [
    {
     "data": {
      "text/plain": [
       "tm                0\n",
       "ta                0\n",
       "rn                0\n",
       "ws               68\n",
       "wd               68\n",
       "hm                0\n",
       "pa                8\n",
       "dc10Tca          20\n",
       "dmstMtphNo    27246\n",
       "aplYmd            0\n",
       "lareaNm           0\n",
       "mareaNm           0\n",
       "wetrCd            0\n",
       "wetrTxt           0\n",
       "dtype: int64"
      ]
     },
     "execution_count": 314,
     "metadata": {},
     "output_type": "execute_result"
    }
   ],
   "source": [
    "ss_no_df.isna().sum()"
   ]
  },
  {
   "cell_type": "code",
   "execution_count": 315,
   "id": "400e0a60-598d-4422-b44c-7c0351a57467",
   "metadata": {},
   "outputs": [],
   "source": [
    "# 전운량을 예측하는거 index 저장\n",
    "dc10Tca_index = ss_no_df[ss_no_df[\"dc10Tca\"].isna()].index"
   ]
  },
  {
   "cell_type": "code",
   "execution_count": 316,
   "id": "3cc39c05-d48e-41b7-8f1c-eeea3db87662",
   "metadata": {},
   "outputs": [
    {
     "data": {
      "text/plain": [
       "Index([  139,  1249,  1250,  1393,  4342,  4343,  4582,  4583,  4699,  4700,\n",
       "        4702,  4703,  4705,  4706,  4727,  4729,  5516,  7892, 14179, 14227],\n",
       "      dtype='int64')"
      ]
     },
     "execution_count": 316,
     "metadata": {},
     "output_type": "execute_result"
    }
   ],
   "source": [
    "dc10Tca_index"
   ]
  },
  {
   "cell_type": "code",
   "execution_count": 317,
   "id": "2cc6e7aa-8fa8-4645-b6e8-2160eaa0a7ad",
   "metadata": {},
   "outputs": [],
   "source": [
    "for i in range(len(dc10Tca_index) - 1):\n",
    "    gap = dc10Tca_index[i + 1] - dc10Tca_index[i]\n",
    "    # print(f\"인덱스 {dc10Tca_index[i]}와 인덱스 {dc10Tca_index[i + 1]} 사이의 간격: {gap}\")\n",
    "dc10Tca_predict_list = [139, 1249, 1250,1393,4342, 4343, 4582, 4583, 4699,4727,4729,5516,7892,14179,14227]\n",
    "# 139 1249 1250 1393 4342 4343 4582 4583 4699  앞뒤가 비어있지않은값만 보기"
   ]
  },
  {
   "cell_type": "code",
   "execution_count": 318,
   "id": "8c8ba913-1f9a-487c-b280-4754622a58f9",
   "metadata": {},
   "outputs": [],
   "source": [
    "for i in range(len(dc10Tca_predict_list)):\n",
    "    predict_array = ss_no_df.loc[dc10Tca_predict_list[i]-6:dc10Tca_predict_list[i]+6,\"dc10Tca\"]\n",
    "    data = np.array(predict_array).reshape(-1, 1)\n",
    "    model = LinearRegression()\n",
    "    x_train = np.where(~np.isnan(data))[0].reshape(-1, 1)\n",
    "    y_train = data[~np.isnan(data)].reshape(-1, 1)\n",
    "    model.fit(x_train, y_train)\n",
    "    X_pred = np.where(np.isnan(data))[0].reshape(-1, 1)\n",
    "    y_pred = model.predict(X_pred)\n",
    "    # print(\"예측 결과:\", y_pred.flatten())\n",
    "    # print(len(y_pred))\n",
    "    ss_no_df.loc[dc10Tca_predict_list[i],\"dc10Tca\"] = y_pred[0]"
   ]
  },
  {
   "cell_type": "code",
   "execution_count": 319,
   "id": "f78309a9-a6d2-4f93-8b0c-f3f72f09ead1",
   "metadata": {},
   "outputs": [],
   "source": [
    "ss_no_df['wetrTxt'] = ss_no_df['wetrTxt'].astype(str)"
   ]
  },
  {
   "cell_type": "code",
   "execution_count": 320,
   "id": "f89923b2-afd3-42f1-807b-5a33059d9faa",
   "metadata": {},
   "outputs": [
    {
     "data": {
      "text/plain": [
       "str"
      ]
     },
     "execution_count": 320,
     "metadata": {},
     "output_type": "execute_result"
    }
   ],
   "source": [
    "type(ss_no_df.loc[0,\"wetrTxt\"])"
   ]
  },
  {
   "cell_type": "code",
   "execution_count": 321,
   "id": "c4de4ac7-5eb7-41ae-9c2e-d00ee96bed4d",
   "metadata": {},
   "outputs": [],
   "source": [
    "# dmstMtphNo 일단 naver_data로 채워넣기\n",
    "ss_no_df[\"wetrSplit\"] = ss_no_df[\"wetrTxt\"].str.split(\"/\")"
   ]
  },
  {
   "cell_type": "code",
   "execution_count": 322,
   "id": "e19bbad6-339c-45ff-ad1c-ecfc8fe788d4",
   "metadata": {},
   "outputs": [
    {
     "data": {
      "text/plain": [
       "(37776, 15)"
      ]
     },
     "execution_count": 322,
     "metadata": {},
     "output_type": "execute_result"
    }
   ],
   "source": [
    "ss_no_df.shape"
   ]
  },
  {
   "cell_type": "code",
   "execution_count": 323,
   "id": "e773fe29-4d46-4b5f-b9ad-83a65d010eaf",
   "metadata": {},
   "outputs": [],
   "source": [
    "all_values_set = set().union(*ss_no_df['wetrSplit'])"
   ]
  },
  {
   "cell_type": "code",
   "execution_count": 324,
   "id": "842ede33-45dd-4c39-ab45-91f487c7a799",
   "metadata": {},
   "outputs": [
    {
     "data": {
      "text/plain": [
       "{'구름많음',\n",
       " '구름조금',\n",
       " '눈',\n",
       " '맑음',\n",
       " '비',\n",
       " '소나기',\n",
       " '소낙눈',\n",
       " '안개',\n",
       " '우박',\n",
       " '이슬비',\n",
       " '진눈개비',\n",
       " '천둥번개',\n",
       " '황사',\n",
       " '흐림'}"
      ]
     },
     "execution_count": 324,
     "metadata": {},
     "output_type": "execute_result"
    }
   ],
   "source": [
    "all_values_set"
   ]
  },
  {
   "cell_type": "code",
   "execution_count": 325,
   "id": "037c9168-e215-4f3f-b7bf-2c6160f54e2e",
   "metadata": {},
   "outputs": [],
   "source": [
    "weather_dict = {\"구름많음\" : \"91\" ,\n",
    "               \"구름조금\" : \"91\",\n",
    "               \"눈\" : \"05\",\n",
    "               \"맑음\" : \"90\",\n",
    "               \"비\" : \"01\",\n",
    "               \"소나기\" : \"01\",\n",
    "               \"소낙눈\" : \"05\",\n",
    "               \"이슬비\" : \"01\",\n",
    "               \"진눈개비\" : \"05\",\n",
    "               \"흐림\" : \"92\",\n",
    "               }"
   ]
  },
  {
   "cell_type": "code",
   "execution_count": null,
   "id": "3dac33ab-68b1-4e82-9821-e27be81729dc",
   "metadata": {},
   "outputs": [],
   "source": []
  },
  {
   "cell_type": "code",
   "execution_count": 326,
   "id": "a8a64218-fcb9-44a3-bf41-2fcdf2dbbe88",
   "metadata": {},
   "outputs": [],
   "source": [
    "ss_no_df = ss_no_df.reset_index(drop=True)"
   ]
  },
  {
   "cell_type": "code",
   "execution_count": 327,
   "id": "6c0aa217-319d-4d61-a2ed-71e18260fafa",
   "metadata": {},
   "outputs": [],
   "source": [
    "all_weather_list=[]"
   ]
  },
  {
   "cell_type": "code",
   "execution_count": 328,
   "id": "197acccc-51c5-4260-ba2a-9dd2dfc124b1",
   "metadata": {},
   "outputs": [],
   "source": [
    "for i in range(len(ss_no_df)):\n",
    "    new_list = []\n",
    "    weather_list = ss_no_df.loc[i, \"wetrSplit\"]\n",
    "    for weather in weather_list:\n",
    "        for key, value in weather_dict.items():\n",
    "            if key == weather:\n",
    "                new_list.append(value)\n",
    "    all_weather_list.append(new_list)\n",
    "    # ss_no_df.loc[i, \"wetrList\"] = new_list\n",
    "    # ss_no_df.loc[i, \"wetrList\"] = new_list\n"
   ]
  },
  {
   "cell_type": "code",
   "execution_count": 329,
   "id": "3347d999-6e30-4728-961b-94bdeb002ce9",
   "metadata": {},
   "outputs": [],
   "source": [
    "ss_no_df[\"new_list\"] = None"
   ]
  },
  {
   "cell_type": "code",
   "execution_count": 330,
   "id": "ae6d6c35-c53c-4d75-bf2e-733098b184aa",
   "metadata": {},
   "outputs": [],
   "source": [
    "ss_no_df['new_list'] = all_weather_list"
   ]
  },
  {
   "cell_type": "code",
   "execution_count": 331,
   "id": "e374b091-ca26-4db5-9403-6cb7e83f828a",
   "metadata": {},
   "outputs": [
    {
     "data": {
      "text/html": [
       "<div>\n",
       "<style scoped>\n",
       "    .dataframe tbody tr th:only-of-type {\n",
       "        vertical-align: middle;\n",
       "    }\n",
       "\n",
       "    .dataframe tbody tr th {\n",
       "        vertical-align: top;\n",
       "    }\n",
       "\n",
       "    .dataframe thead th {\n",
       "        text-align: right;\n",
       "    }\n",
       "</style>\n",
       "<table border=\"1\" class=\"dataframe\">\n",
       "  <thead>\n",
       "    <tr style=\"text-align: right;\">\n",
       "      <th></th>\n",
       "      <th>tm</th>\n",
       "      <th>ta</th>\n",
       "      <th>rn</th>\n",
       "      <th>ws</th>\n",
       "      <th>wd</th>\n",
       "      <th>hm</th>\n",
       "      <th>pa</th>\n",
       "      <th>dc10Tca</th>\n",
       "      <th>dmstMtphNo</th>\n",
       "      <th>aplYmd</th>\n",
       "      <th>lareaNm</th>\n",
       "      <th>mareaNm</th>\n",
       "      <th>wetrCd</th>\n",
       "      <th>wetrTxt</th>\n",
       "      <th>wetrSplit</th>\n",
       "      <th>new_list</th>\n",
       "    </tr>\n",
       "  </thead>\n",
       "  <tbody>\n",
       "    <tr>\n",
       "      <th>0</th>\n",
       "      <td>2019-12-29 00:00</td>\n",
       "      <td>1.4</td>\n",
       "      <td>0.0</td>\n",
       "      <td>1.8</td>\n",
       "      <td>50.0</td>\n",
       "      <td>57</td>\n",
       "      <td>1018.2</td>\n",
       "      <td>3.0</td>\n",
       "      <td>NaN</td>\n",
       "      <td>20191229</td>\n",
       "      <td>서울특별시</td>\n",
       "      <td>종로구</td>\n",
       "      <td>9.0</td>\n",
       "      <td>흐림/비</td>\n",
       "      <td>[흐림, 비]</td>\n",
       "      <td>[92, 01]</td>\n",
       "    </tr>\n",
       "    <tr>\n",
       "      <th>1</th>\n",
       "      <td>2019-12-29 01:00</td>\n",
       "      <td>1.2</td>\n",
       "      <td>0.0</td>\n",
       "      <td>1.8</td>\n",
       "      <td>70.0</td>\n",
       "      <td>54</td>\n",
       "      <td>1017.9</td>\n",
       "      <td>6.0</td>\n",
       "      <td>NaN</td>\n",
       "      <td>20191229</td>\n",
       "      <td>서울특별시</td>\n",
       "      <td>종로구</td>\n",
       "      <td>9.0</td>\n",
       "      <td>흐림/비</td>\n",
       "      <td>[흐림, 비]</td>\n",
       "      <td>[92, 01]</td>\n",
       "    </tr>\n",
       "    <tr>\n",
       "      <th>2</th>\n",
       "      <td>2019-12-29 02:00</td>\n",
       "      <td>1.3</td>\n",
       "      <td>0.0</td>\n",
       "      <td>2.4</td>\n",
       "      <td>70.0</td>\n",
       "      <td>53</td>\n",
       "      <td>1017.9</td>\n",
       "      <td>4.0</td>\n",
       "      <td>NaN</td>\n",
       "      <td>20191229</td>\n",
       "      <td>서울특별시</td>\n",
       "      <td>종로구</td>\n",
       "      <td>9.0</td>\n",
       "      <td>흐림/비</td>\n",
       "      <td>[흐림, 비]</td>\n",
       "      <td>[92, 01]</td>\n",
       "    </tr>\n",
       "    <tr>\n",
       "      <th>3</th>\n",
       "      <td>2019-12-29 03:00</td>\n",
       "      <td>1.4</td>\n",
       "      <td>0.0</td>\n",
       "      <td>1.8</td>\n",
       "      <td>70.0</td>\n",
       "      <td>52</td>\n",
       "      <td>1017.9</td>\n",
       "      <td>5.0</td>\n",
       "      <td>NaN</td>\n",
       "      <td>20191229</td>\n",
       "      <td>서울특별시</td>\n",
       "      <td>종로구</td>\n",
       "      <td>9.0</td>\n",
       "      <td>흐림/비</td>\n",
       "      <td>[흐림, 비]</td>\n",
       "      <td>[92, 01]</td>\n",
       "    </tr>\n",
       "    <tr>\n",
       "      <th>4</th>\n",
       "      <td>2019-12-29 04:00</td>\n",
       "      <td>1.4</td>\n",
       "      <td>0.0</td>\n",
       "      <td>2.6</td>\n",
       "      <td>70.0</td>\n",
       "      <td>51</td>\n",
       "      <td>1017.1</td>\n",
       "      <td>5.0</td>\n",
       "      <td>NaN</td>\n",
       "      <td>20191229</td>\n",
       "      <td>서울특별시</td>\n",
       "      <td>종로구</td>\n",
       "      <td>9.0</td>\n",
       "      <td>흐림/비</td>\n",
       "      <td>[흐림, 비]</td>\n",
       "      <td>[92, 01]</td>\n",
       "    </tr>\n",
       "    <tr>\n",
       "      <th>...</th>\n",
       "      <td>...</td>\n",
       "      <td>...</td>\n",
       "      <td>...</td>\n",
       "      <td>...</td>\n",
       "      <td>...</td>\n",
       "      <td>...</td>\n",
       "      <td>...</td>\n",
       "      <td>...</td>\n",
       "      <td>...</td>\n",
       "      <td>...</td>\n",
       "      <td>...</td>\n",
       "      <td>...</td>\n",
       "      <td>...</td>\n",
       "      <td>...</td>\n",
       "      <td>...</td>\n",
       "      <td>...</td>\n",
       "    </tr>\n",
       "    <tr>\n",
       "      <th>37771</th>\n",
       "      <td>2024-05-23 19:00</td>\n",
       "      <td>22.5</td>\n",
       "      <td>0.0</td>\n",
       "      <td>3.5</td>\n",
       "      <td>270.0</td>\n",
       "      <td>55</td>\n",
       "      <td>999.5</td>\n",
       "      <td>0.0</td>\n",
       "      <td>NaN</td>\n",
       "      <td>20240523</td>\n",
       "      <td>서울특별시</td>\n",
       "      <td>종로구</td>\n",
       "      <td>17.0</td>\n",
       "      <td>맑음/안개</td>\n",
       "      <td>[맑음, 안개]</td>\n",
       "      <td>[90]</td>\n",
       "    </tr>\n",
       "    <tr>\n",
       "      <th>37772</th>\n",
       "      <td>2024-05-23 20:00</td>\n",
       "      <td>20.5</td>\n",
       "      <td>0.0</td>\n",
       "      <td>3.0</td>\n",
       "      <td>290.0</td>\n",
       "      <td>68</td>\n",
       "      <td>1000.3</td>\n",
       "      <td>0.0</td>\n",
       "      <td>NaN</td>\n",
       "      <td>20240523</td>\n",
       "      <td>서울특별시</td>\n",
       "      <td>종로구</td>\n",
       "      <td>17.0</td>\n",
       "      <td>맑음/안개</td>\n",
       "      <td>[맑음, 안개]</td>\n",
       "      <td>[90]</td>\n",
       "    </tr>\n",
       "    <tr>\n",
       "      <th>37773</th>\n",
       "      <td>2024-05-23 21:00</td>\n",
       "      <td>18.6</td>\n",
       "      <td>0.0</td>\n",
       "      <td>2.8</td>\n",
       "      <td>270.0</td>\n",
       "      <td>73</td>\n",
       "      <td>1001.0</td>\n",
       "      <td>0.0</td>\n",
       "      <td>NaN</td>\n",
       "      <td>20240523</td>\n",
       "      <td>서울특별시</td>\n",
       "      <td>종로구</td>\n",
       "      <td>17.0</td>\n",
       "      <td>맑음/안개</td>\n",
       "      <td>[맑음, 안개]</td>\n",
       "      <td>[90]</td>\n",
       "    </tr>\n",
       "    <tr>\n",
       "      <th>37774</th>\n",
       "      <td>2024-05-23 22:00</td>\n",
       "      <td>17.7</td>\n",
       "      <td>0.0</td>\n",
       "      <td>2.9</td>\n",
       "      <td>290.0</td>\n",
       "      <td>79</td>\n",
       "      <td>1001.6</td>\n",
       "      <td>0.0</td>\n",
       "      <td>NaN</td>\n",
       "      <td>20240523</td>\n",
       "      <td>서울특별시</td>\n",
       "      <td>종로구</td>\n",
       "      <td>17.0</td>\n",
       "      <td>맑음/안개</td>\n",
       "      <td>[맑음, 안개]</td>\n",
       "      <td>[90]</td>\n",
       "    </tr>\n",
       "    <tr>\n",
       "      <th>37775</th>\n",
       "      <td>2024-05-23 23:00</td>\n",
       "      <td>16.8</td>\n",
       "      <td>0.0</td>\n",
       "      <td>3.1</td>\n",
       "      <td>250.0</td>\n",
       "      <td>83</td>\n",
       "      <td>1001.6</td>\n",
       "      <td>0.0</td>\n",
       "      <td>19.0</td>\n",
       "      <td>20240523</td>\n",
       "      <td>서울특별시</td>\n",
       "      <td>종로구</td>\n",
       "      <td>17.0</td>\n",
       "      <td>맑음/안개</td>\n",
       "      <td>[맑음, 안개]</td>\n",
       "      <td>[90]</td>\n",
       "    </tr>\n",
       "  </tbody>\n",
       "</table>\n",
       "<p>37776 rows × 16 columns</p>\n",
       "</div>"
      ],
      "text/plain": [
       "                     tm    ta   rn   ws     wd  hm      pa  dc10Tca  \\\n",
       "0      2019-12-29 00:00   1.4  0.0  1.8   50.0  57  1018.2      3.0   \n",
       "1      2019-12-29 01:00   1.2  0.0  1.8   70.0  54  1017.9      6.0   \n",
       "2      2019-12-29 02:00   1.3  0.0  2.4   70.0  53  1017.9      4.0   \n",
       "3      2019-12-29 03:00   1.4  0.0  1.8   70.0  52  1017.9      5.0   \n",
       "4      2019-12-29 04:00   1.4  0.0  2.6   70.0  51  1017.1      5.0   \n",
       "...                 ...   ...  ...  ...    ...  ..     ...      ...   \n",
       "37771  2024-05-23 19:00  22.5  0.0  3.5  270.0  55   999.5      0.0   \n",
       "37772  2024-05-23 20:00  20.5  0.0  3.0  290.0  68  1000.3      0.0   \n",
       "37773  2024-05-23 21:00  18.6  0.0  2.8  270.0  73  1001.0      0.0   \n",
       "37774  2024-05-23 22:00  17.7  0.0  2.9  290.0  79  1001.6      0.0   \n",
       "37775  2024-05-23 23:00  16.8  0.0  3.1  250.0  83  1001.6      0.0   \n",
       "\n",
       "       dmstMtphNo    aplYmd lareaNm mareaNm  wetrCd wetrTxt wetrSplit  \\\n",
       "0             NaN  20191229   서울특별시     종로구     9.0    흐림/비   [흐림, 비]   \n",
       "1             NaN  20191229   서울특별시     종로구     9.0    흐림/비   [흐림, 비]   \n",
       "2             NaN  20191229   서울특별시     종로구     9.0    흐림/비   [흐림, 비]   \n",
       "3             NaN  20191229   서울특별시     종로구     9.0    흐림/비   [흐림, 비]   \n",
       "4             NaN  20191229   서울특별시     종로구     9.0    흐림/비   [흐림, 비]   \n",
       "...           ...       ...     ...     ...     ...     ...       ...   \n",
       "37771         NaN  20240523   서울특별시     종로구    17.0   맑음/안개  [맑음, 안개]   \n",
       "37772         NaN  20240523   서울특별시     종로구    17.0   맑음/안개  [맑음, 안개]   \n",
       "37773         NaN  20240523   서울특별시     종로구    17.0   맑음/안개  [맑음, 안개]   \n",
       "37774         NaN  20240523   서울특별시     종로구    17.0   맑음/안개  [맑음, 안개]   \n",
       "37775        19.0  20240523   서울특별시     종로구    17.0   맑음/안개  [맑음, 안개]   \n",
       "\n",
       "       new_list  \n",
       "0      [92, 01]  \n",
       "1      [92, 01]  \n",
       "2      [92, 01]  \n",
       "3      [92, 01]  \n",
       "4      [92, 01]  \n",
       "...         ...  \n",
       "37771      [90]  \n",
       "37772      [90]  \n",
       "37773      [90]  \n",
       "37774      [90]  \n",
       "37775      [90]  \n",
       "\n",
       "[37776 rows x 16 columns]"
      ]
     },
     "execution_count": 331,
     "metadata": {},
     "output_type": "execute_result"
    }
   ],
   "source": [
    "ss_no_df"
   ]
  },
  {
   "cell_type": "code",
   "execution_count": 332,
   "id": "71ecfcbf-73f3-47ce-950d-2aaba2062e3c",
   "metadata": {},
   "outputs": [],
   "source": [
    "ss_no_df.to_csv('data_processing1.csv', index=False, encoding='utf-8-sig')"
   ]
  },
  {
   "cell_type": "code",
   "execution_count": null,
   "id": "32f178f9-ca0d-4279-ba06-800ad11c0070",
   "metadata": {},
   "outputs": [],
   "source": []
  },
  {
   "cell_type": "markdown",
   "id": "aca77505-16c7-4290-a319-10da31dff8ac",
   "metadata": {},
   "source": []
  }
 ],
 "metadata": {
  "kernelspec": {
   "display_name": "Python 3 (ipykernel)",
   "language": "python",
   "name": "python3"
  },
  "language_info": {
   "codemirror_mode": {
    "name": "ipython",
    "version": 3
   },
   "file_extension": ".py",
   "mimetype": "text/x-python",
   "name": "python",
   "nbconvert_exporter": "python",
   "pygments_lexer": "ipython3",
   "version": "3.10.13"
  }
 },
 "nbformat": 4,
 "nbformat_minor": 5
}
