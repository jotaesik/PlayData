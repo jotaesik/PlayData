{
 "cells": [
  {
   "cell_type": "code",
   "execution_count": 1,
   "metadata": {},
   "outputs": [],
   "source": [
    "import requests\n",
    "from bs4 import BeautifulSoup as bs\n",
    "from datetime import datetime, timedelta\n",
    "import pandas as pd\n",
    "from tqdm import tqdm\n",
    "import json"
   ]
  },
  {
   "cell_type": "code",
   "execution_count": 2,
   "metadata": {},
   "outputs": [],
   "source": [
    "base_payload_str = \"\"\"{\"pastWetr\":{\"naverRgnCd\":\"09110178\",\"aplYm\":\"\"}}\"\"\"\n",
    "base_payload = json.loads(base_payload_str)  \n",
    "aplYm_list = []\n",
    "for year in range(2020, 2025):\n",
    "    for month in range(1, 13):\n",
    "        aplYm = f\"{year}{month:02d}\"  \n",
    "        if int(aplYm) <= 202405:  \n",
    "            base_payload[\"pastWetr\"][\"aplYm\"] = aplYm\n",
    "            aplYm_list.append(json.dumps(base_payload))  "
   ]
  },
  {
   "cell_type": "code",
   "execution_count": 3,
   "metadata": {},
   "outputs": [
    {
     "name": "stderr",
     "output_type": "stream",
     "text": [
      " 66%|██████████████████████████████████████████████████████▊                            | 35/53 [00:04<00:02,  8.70it/s]"
     ]
    },
    {
     "name": "stdout",
     "output_type": "stream",
     "text": [
      "{\"pastWetr\": {\"naverRgnCd\": \"09110178\", \"aplYm\": \"202209\"}}\n"
     ]
    },
    {
     "name": "stderr",
     "output_type": "stream",
     "text": [
      "100%|███████████████████████████████████████████████████████████████████████████████████| 53/53 [00:06<00:00,  7.78it/s]"
     ]
    },
    {
     "name": "stdout",
     "output_type": "stream",
     "text": [
      "{\"pastWetr\": {\"naverRgnCd\": \"09110178\", \"aplYm\": \"202405\"}}\n"
     ]
    },
    {
     "name": "stderr",
     "output_type": "stream",
     "text": [
      "\n"
     ]
    }
   ],
   "source": [
    "all_df = pd.DataFrame()\n",
    "for i in tqdm(range(len(aplYm_list))):\n",
    "    url = \"\"\n",
    "    try:\n",
    "        r = requests.get(url)\n",
    "        past_wetr_list = [data['pastWetr'] for data in r.json()['results']['choiceResult']['pastWetr']['pastWetrCalendarList']]\n",
    "        df = pd.DataFrame(past_wetr_list)\n",
    "        all_df = pd.concat([all_df,df])\n",
    "    except:\n",
    "        print(aplYm_list[i])\n",
    "    "
   ]
  },
  {
   "cell_type": "markdown",
   "metadata": {},
   "source": [
    "# 아래 2케이스의 값 수기로 받아오기\n",
    "{\"pastWetr\": {\"naverRgnCd\": \"09140104\", \"aplYm\": \"202209\"}}\n",
    "{\"pastWetr\": {\"naverRgnCd\": \"09140104\", \"aplYm\": \"202405\"}}"
   ]
  },
  {
   "cell_type": "code",
   "execution_count": 4,
   "metadata": {},
   "outputs": [],
   "source": [
    "add_payload = \"\"\"{\"pastWetr\":{\"naverRgnCd\":\"09110178\",\"aplYm\":\"202209\"}}\"\"\"\n",
    "add_url = \"\"\n",
    "add_r = requests.get(add_url)\n",
    "add_past_wetr_list = [data['pastWetr'] for data in add_r.json()['results']['choiceResult']['pastWetr']['pastWetrCalendarList']]\n",
    "# none값 오류뜸\n",
    "add_df = pd.DataFrame([{k: v for k, v in data.items() if k != 'reportYmdt'} for data in add_past_wetr_list  if data])"
   ]
  },
  {
   "cell_type": "code",
   "execution_count": 5,
   "metadata": {},
   "outputs": [],
   "source": [
    "add_payload_1 = \"\"\"{\"pastWetr\":{\"naverRgnCd\":\"09110178\",\"aplYm\":\"202405\"}}\"\"\"\n",
    "add_url_1 = \"\"\n",
    "add_r_1 = requests.get(add_url_1)\n",
    "add_past_wetr_list_1 = [data['pastWetr'] for data in add_r_1.json()['results']['choiceResult']['pastWetr']['pastWetrCalendarList']]\n",
    "# none값 오류뜸 + data 없는값 존재\n",
    "add_df_1 = pd.DataFrame([{k: v for k, v in data.items() if k != 'reportYmdt'} for data in add_past_wetr_list_1 if data])"
   ]
  },
  {
   "cell_type": "code",
   "execution_count": 6,
   "metadata": {},
   "outputs": [
    {
     "data": {
      "text/plain": [
       "Index([    'aplYmd',    'lareaNm',    'mareaNm',     'wetrCd',    'wetrTxt',\n",
       "          'minTmpr',    'maxTmpr',    'rainAmt', 'reportYmdt',            0],\n",
       "      dtype='object')"
      ]
     },
     "execution_count": 6,
     "metadata": {},
     "output_type": "execute_result"
    }
   ],
   "source": [
    "all_df.columns"
   ]
  },
  {
   "cell_type": "code",
   "execution_count": 7,
   "metadata": {},
   "outputs": [
    {
     "data": {
      "text/plain": [
       "Index(['aplYmd', 'lareaNm', 'mareaNm', 'wetrCd', 'wetrTxt', 'minTmpr',\n",
       "       'maxTmpr', 'rainAmt'],\n",
       "      dtype='object')"
      ]
     },
     "execution_count": 7,
     "metadata": {},
     "output_type": "execute_result"
    }
   ],
   "source": [
    "add_df.columns"
   ]
  },
  {
   "cell_type": "code",
   "execution_count": 8,
   "metadata": {},
   "outputs": [
    {
     "data": {
      "text/plain": [
       "Index(['aplYmd', 'lareaNm', 'mareaNm', 'wetrCd', 'wetrTxt', 'minTmpr',\n",
       "       'maxTmpr', 'rainAmt'],\n",
       "      dtype='object')"
      ]
     },
     "execution_count": 8,
     "metadata": {},
     "output_type": "execute_result"
    }
   ],
   "source": [
    "add_df_1.columns"
   ]
  },
  {
   "cell_type": "code",
   "execution_count": 9,
   "metadata": {},
   "outputs": [],
   "source": [
    "# all_df add_df add_df_1 데이터 통함\n",
    "all_df.drop(columns=[\"minTmpr\", \"maxTmpr\", \"rainAmt\", \"reportYmdt\", 0], axis=1, inplace=True)\n",
    "add_df.drop(columns=[\"minTmpr\", \"maxTmpr\", \"rainAmt\"], axis=1, inplace=True)\n",
    "add_df_1.drop(columns=[\"minTmpr\", \"maxTmpr\", \"rainAmt\"], axis=1, inplace=True)"
   ]
  },
  {
   "cell_type": "code",
   "execution_count": 10,
   "metadata": {},
   "outputs": [
    {
     "data": {
      "text/html": [
       "<div>\n",
       "<style scoped>\n",
       "    .dataframe tbody tr th:only-of-type {\n",
       "        vertical-align: middle;\n",
       "    }\n",
       "\n",
       "    .dataframe tbody tr th {\n",
       "        vertical-align: top;\n",
       "    }\n",
       "\n",
       "    .dataframe thead th {\n",
       "        text-align: right;\n",
       "    }\n",
       "</style>\n",
       "<table border=\"1\" class=\"dataframe\">\n",
       "  <thead>\n",
       "    <tr style=\"text-align: right;\">\n",
       "      <th></th>\n",
       "      <th>aplYmd</th>\n",
       "      <th>lareaNm</th>\n",
       "      <th>mareaNm</th>\n",
       "      <th>wetrCd</th>\n",
       "      <th>wetrTxt</th>\n",
       "    </tr>\n",
       "  </thead>\n",
       "  <tbody>\n",
       "    <tr>\n",
       "      <th>0</th>\n",
       "      <td>20191229</td>\n",
       "      <td>서울특별시</td>\n",
       "      <td>종로구</td>\n",
       "      <td>9</td>\n",
       "      <td>흐림/비</td>\n",
       "    </tr>\n",
       "  </tbody>\n",
       "</table>\n",
       "</div>"
      ],
      "text/plain": [
       "     aplYmd lareaNm mareaNm wetrCd wetrTxt\n",
       "0  20191229   서울특별시     종로구      9    흐림/비"
      ]
     },
     "metadata": {},
     "output_type": "display_data"
    },
    {
     "data": {
      "text/html": [
       "<div>\n",
       "<style scoped>\n",
       "    .dataframe tbody tr th:only-of-type {\n",
       "        vertical-align: middle;\n",
       "    }\n",
       "\n",
       "    .dataframe tbody tr th {\n",
       "        vertical-align: top;\n",
       "    }\n",
       "\n",
       "    .dataframe thead th {\n",
       "        text-align: right;\n",
       "    }\n",
       "</style>\n",
       "<table border=\"1\" class=\"dataframe\">\n",
       "  <thead>\n",
       "    <tr style=\"text-align: right;\">\n",
       "      <th></th>\n",
       "      <th>aplYmd</th>\n",
       "      <th>lareaNm</th>\n",
       "      <th>mareaNm</th>\n",
       "      <th>wetrCd</th>\n",
       "      <th>wetrTxt</th>\n",
       "    </tr>\n",
       "  </thead>\n",
       "  <tbody>\n",
       "    <tr>\n",
       "      <th>0</th>\n",
       "      <td>20220828</td>\n",
       "      <td>서울특별시</td>\n",
       "      <td>종로구</td>\n",
       "      <td>3</td>\n",
       "      <td>구름조금</td>\n",
       "    </tr>\n",
       "  </tbody>\n",
       "</table>\n",
       "</div>"
      ],
      "text/plain": [
       "     aplYmd lareaNm mareaNm wetrCd wetrTxt\n",
       "0  20220828   서울특별시     종로구      3    구름조금"
      ]
     },
     "metadata": {},
     "output_type": "display_data"
    },
    {
     "data": {
      "text/html": [
       "<div>\n",
       "<style scoped>\n",
       "    .dataframe tbody tr th:only-of-type {\n",
       "        vertical-align: middle;\n",
       "    }\n",
       "\n",
       "    .dataframe tbody tr th {\n",
       "        vertical-align: top;\n",
       "    }\n",
       "\n",
       "    .dataframe thead th {\n",
       "        text-align: right;\n",
       "    }\n",
       "</style>\n",
       "<table border=\"1\" class=\"dataframe\">\n",
       "  <thead>\n",
       "    <tr style=\"text-align: right;\">\n",
       "      <th></th>\n",
       "      <th>aplYmd</th>\n",
       "      <th>lareaNm</th>\n",
       "      <th>mareaNm</th>\n",
       "      <th>wetrCd</th>\n",
       "      <th>wetrTxt</th>\n",
       "    </tr>\n",
       "  </thead>\n",
       "  <tbody>\n",
       "    <tr>\n",
       "      <th>0</th>\n",
       "      <td>20240428</td>\n",
       "      <td>서울특별시</td>\n",
       "      <td>종로구</td>\n",
       "      <td>5</td>\n",
       "      <td>구름많음</td>\n",
       "    </tr>\n",
       "  </tbody>\n",
       "</table>\n",
       "</div>"
      ],
      "text/plain": [
       "     aplYmd lareaNm mareaNm wetrCd wetrTxt\n",
       "0  20240428   서울특별시     종로구      5    구름많음"
      ]
     },
     "metadata": {},
     "output_type": "display_data"
    }
   ],
   "source": [
    "display(all_df.head(1))\n",
    "display(add_df.head(1))\n",
    "display(add_df_1.head(1))"
   ]
  },
  {
   "cell_type": "markdown",
   "metadata": {},
   "source": [
    "aplYmd 날짜\n",
    "lareaNm 서울특별시\n",
    "mareaNm 중구\n",
    "wetrCd 날씨코드\n",
    "wetrTxt 날씨설명!\n",
    "minTmpr 최저온도\t\n",
    "maxTmpr 최고온도\n",
    "rainAmt 강수"
   ]
  },
  {
   "cell_type": "code",
   "execution_count": 11,
   "metadata": {},
   "outputs": [],
   "source": [
    "new_all_df = pd.concat([all_df,add_df,add_df_1])"
   ]
  },
  {
   "cell_type": "code",
   "execution_count": 12,
   "metadata": {},
   "outputs": [
    {
     "data": {
      "text/html": [
       "<div>\n",
       "<style scoped>\n",
       "    .dataframe tbody tr th:only-of-type {\n",
       "        vertical-align: middle;\n",
       "    }\n",
       "\n",
       "    .dataframe tbody tr th {\n",
       "        vertical-align: top;\n",
       "    }\n",
       "\n",
       "    .dataframe thead th {\n",
       "        text-align: right;\n",
       "    }\n",
       "</style>\n",
       "<table border=\"1\" class=\"dataframe\">\n",
       "  <thead>\n",
       "    <tr style=\"text-align: right;\">\n",
       "      <th></th>\n",
       "      <th>aplYmd</th>\n",
       "      <th>lareaNm</th>\n",
       "      <th>mareaNm</th>\n",
       "      <th>wetrCd</th>\n",
       "      <th>wetrTxt</th>\n",
       "    </tr>\n",
       "  </thead>\n",
       "  <tbody>\n",
       "    <tr>\n",
       "      <th>28</th>\n",
       "      <td>20200126</td>\n",
       "      <td>서울특별시</td>\n",
       "      <td>종로구</td>\n",
       "      <td>17</td>\n",
       "      <td>구름많음/안개</td>\n",
       "    </tr>\n",
       "    <tr>\n",
       "      <th>0</th>\n",
       "      <td>20200126</td>\n",
       "      <td>서울특별시</td>\n",
       "      <td>종로구</td>\n",
       "      <td>17</td>\n",
       "      <td>구름많음/안개</td>\n",
       "    </tr>\n",
       "  </tbody>\n",
       "</table>\n",
       "</div>"
      ],
      "text/plain": [
       "      aplYmd lareaNm mareaNm wetrCd  wetrTxt\n",
       "28  20200126   서울특별시     종로구     17  구름많음/안개\n",
       "0   20200126   서울특별시     종로구     17  구름많음/안개"
      ]
     },
     "execution_count": 12,
     "metadata": {},
     "output_type": "execute_result"
    }
   ],
   "source": [
    "new_all_df[new_all_df[\"aplYmd\"] == \"20200126\"]"
   ]
  },
  {
   "cell_type": "code",
   "execution_count": 13,
   "metadata": {},
   "outputs": [
    {
     "name": "stdout",
     "output_type": "stream",
     "text": [
      "28    20200126\n",
      "29    20200127\n",
      "30    20200128\n",
      "31    20200129\n",
      "32    20200130\n",
      "        ...   \n",
      "2     20240430\n",
      "3     20240501\n",
      "4     20240502\n",
      "5     20240503\n",
      "6     20240504\n",
      "Name: aplYmd, Length: 658, dtype: object\n"
     ]
    }
   ],
   "source": [
    "print(new_all_df[new_all_df.duplicated(subset=['aplYmd'], keep=False)][\"aplYmd\"])\n",
    "# 20200126"
   ]
  },
  {
   "cell_type": "code",
   "execution_count": 14,
   "metadata": {},
   "outputs": [],
   "source": [
    "new_all_df.drop_duplicates(subset=['aplYmd'], keep='first', inplace=True) "
   ]
  },
  {
   "cell_type": "code",
   "execution_count": 15,
   "metadata": {},
   "outputs": [
    {
     "data": {
      "text/html": [
       "<div>\n",
       "<style scoped>\n",
       "    .dataframe tbody tr th:only-of-type {\n",
       "        vertical-align: middle;\n",
       "    }\n",
       "\n",
       "    .dataframe tbody tr th {\n",
       "        vertical-align: top;\n",
       "    }\n",
       "\n",
       "    .dataframe thead th {\n",
       "        text-align: right;\n",
       "    }\n",
       "</style>\n",
       "<table border=\"1\" class=\"dataframe\">\n",
       "  <thead>\n",
       "    <tr style=\"text-align: right;\">\n",
       "      <th></th>\n",
       "      <th>aplYmd</th>\n",
       "      <th>lareaNm</th>\n",
       "      <th>mareaNm</th>\n",
       "      <th>wetrCd</th>\n",
       "      <th>wetrTxt</th>\n",
       "    </tr>\n",
       "  </thead>\n",
       "  <tbody>\n",
       "    <tr>\n",
       "      <th>28</th>\n",
       "      <td>20200126</td>\n",
       "      <td>서울특별시</td>\n",
       "      <td>종로구</td>\n",
       "      <td>17</td>\n",
       "      <td>구름많음/안개</td>\n",
       "    </tr>\n",
       "  </tbody>\n",
       "</table>\n",
       "</div>"
      ],
      "text/plain": [
       "      aplYmd lareaNm mareaNm wetrCd  wetrTxt\n",
       "28  20200126   서울특별시     종로구     17  구름많음/안개"
      ]
     },
     "execution_count": 15,
     "metadata": {},
     "output_type": "execute_result"
    }
   ],
   "source": [
    "new_all_df[new_all_df[\"aplYmd\"] == \"20200126\"]"
   ]
  },
  {
   "cell_type": "code",
   "execution_count": 16,
   "metadata": {},
   "outputs": [],
   "source": [
    "new_all_df = new_all_df.sort_values(by='aplYmd')"
   ]
  },
  {
   "cell_type": "code",
   "execution_count": 17,
   "metadata": {},
   "outputs": [],
   "source": [
    "new_all_df.to_csv('new_data.csv', index=False, encoding='utf-8-sig')"
   ]
  }
 ],
 "metadata": {
  "kernelspec": {
   "display_name": "Python 3 (ipykernel)",
   "language": "python",
   "name": "python3"
  },
  "language_info": {
   "codemirror_mode": {
    "name": "ipython",
    "version": 3
   },
   "file_extension": ".py",
   "mimetype": "text/x-python",
   "name": "python",
   "nbconvert_exporter": "python",
   "pygments_lexer": "ipython3",
   "version": "3.10.13"
  }
 },
 "nbformat": 4,
 "nbformat_minor": 4
}
