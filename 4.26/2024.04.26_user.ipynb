{
 "cells": [
  {
   "cell_type": "code",
   "execution_count": 1,
   "id": "ef266f05-1fcf-474a-b06f-1788f7d76058",
   "metadata": {},
   "outputs": [],
   "source": [
    "import pandas as pd\n",
    "import matplotlib.pyplot as plt\n",
    "from sklearn.datasets import load_wine\n",
    "\n",
    "wine_load = load_wine()\n"
   ]
  },
  {
   "cell_type": "code",
   "execution_count": 2,
   "id": "51a4c415-b876-42b0-9ab8-7f2e1ae6747f",
   "metadata": {},
   "outputs": [],
   "source": [
    "wine = pd.DataFrame(wine_load.data, columns=wine_load.feature_names)"
   ]
  },
  {
   "cell_type": "code",
   "execution_count": 5,
   "id": "1dbb4981-a129-4732-91ba-186fbcf01072",
   "metadata": {},
   "outputs": [],
   "source": [
    "# wine_load"
   ]
  },
  {
   "cell_type": "code",
   "execution_count": 6,
   "id": "e10d1f3e-3e10-4549-9447-96c304107416",
   "metadata": {},
   "outputs": [
    {
     "data": {
      "text/plain": [
       "array([0, 0, 0, 0, 0, 0, 0, 0, 0, 0, 0, 0, 0, 0, 0, 0, 0, 0, 0, 0, 0, 0,\n",
       "       0, 0, 0, 0, 0, 0, 0, 0, 0, 0, 0, 0, 0, 0, 0, 0, 0, 0, 0, 0, 0, 0,\n",
       "       0, 0, 0, 0, 0, 0, 0, 0, 0, 0, 0, 0, 0, 0, 0, 1, 1, 1, 1, 1, 1, 1,\n",
       "       1, 1, 1, 1, 1, 1, 1, 1, 1, 1, 1, 1, 1, 1, 1, 1, 1, 1, 1, 1, 1, 1,\n",
       "       1, 1, 1, 1, 1, 1, 1, 1, 1, 1, 1, 1, 1, 1, 1, 1, 1, 1, 1, 1, 1, 1,\n",
       "       1, 1, 1, 1, 1, 1, 1, 1, 1, 1, 1, 1, 1, 1, 1, 1, 1, 1, 1, 1, 2, 2,\n",
       "       2, 2, 2, 2, 2, 2, 2, 2, 2, 2, 2, 2, 2, 2, 2, 2, 2, 2, 2, 2, 2, 2,\n",
       "       2, 2, 2, 2, 2, 2, 2, 2, 2, 2, 2, 2, 2, 2, 2, 2, 2, 2, 2, 2, 2, 2,\n",
       "       2, 2])"
      ]
     },
     "execution_count": 6,
     "metadata": {},
     "output_type": "execute_result"
    }
   ],
   "source": [
    "wine_load.target #다중분류문"
   ]
  },
  {
   "cell_type": "code",
   "execution_count": 8,
   "id": "9f05f58d-0910-4c63-a5db-03291ee0136e",
   "metadata": {},
   "outputs": [],
   "source": [
    "# ?wine.assign 사용법알아보기"
   ]
  },
  {
   "cell_type": "code",
   "execution_count": 10,
   "id": "2b99e46e-3348-416b-9faa-c7c451f88267",
   "metadata": {},
   "outputs": [],
   "source": [
    "wine2 = wine.assign(Class=lambda x : 1)"
   ]
  },
  {
   "cell_type": "code",
   "execution_count": 12,
   "id": "2f885743-8ccc-4fba-8b19-2246adb4eab9",
   "metadata": {},
   "outputs": [],
   "source": [
    "wine['Class'] = wine_load.target"
   ]
  },
  {
   "cell_type": "code",
   "execution_count": 14,
   "id": "76ffff23-8d7a-46db-b097-b432f692657b",
   "metadata": {},
   "outputs": [],
   "source": [
    "# wine.assign({\"Class\" : wine_load.target})"
   ]
  },
  {
   "cell_type": "code",
   "execution_count": 15,
   "id": "04f9b4eb-03e0-42ed-998c-828958914453",
   "metadata": {},
   "outputs": [
    {
     "data": {
      "text/plain": [
       "0      class_0\n",
       "1      class_0\n",
       "2      class_0\n",
       "3      class_0\n",
       "4      class_0\n",
       "        ...   \n",
       "173    class_2\n",
       "174    class_2\n",
       "175    class_2\n",
       "176    class_2\n",
       "177    class_2\n",
       "Name: Class, Length: 178, dtype: object"
      ]
     },
     "execution_count": 15,
     "metadata": {},
     "output_type": "execute_result"
    }
   ],
   "source": [
    "wine['Class'].map({0:'class_0', 1 : 'class_1', 2 : \"class_2\"})"
   ]
  },
  {
   "cell_type": "code",
   "execution_count": null,
   "id": "e0ba6486-b319-4bb0-a612-6a0fe172037f",
   "metadata": {},
   "outputs": [],
   "source": [
    "#한번 박스플롯그려보기"
   ]
  },
  {
   "cell_type": "code",
   "execution_count": 18,
   "id": "22c8a490-d719-41c4-a78e-92139881e60f",
   "metadata": {},
   "outputs": [
    {
     "data": {
      "image/png": "[encoded data removed]",
      "text/plain": [
       "<Figure size 640x480 with 1 Axes>"
      ]
     },
     "metadata": {},
     "output_type": "display_data"
    }
   ],
   "source": [
    "import matplotlib.pyplot as plt\n",
    "\n",
    "plt.boxplot(wine['color_intensity'], whis=1.5)\n",
    "plt.title('color_intensity')\n",
    "plt.show()\n"
   ]
  },
  {
   "cell_type": "code",
   "execution_count": 19,
   "id": "5811197a-85d1-4e4b-9357-ae7579b70a6c",
   "metadata": {},
   "outputs": [],
   "source": [
    "import numpy as np\n",
    "\n",
    "def outliers_iqr(dt, col):\n",
    "    quartile_1, quartile_3 = np.percentile(dt[col], [25, 75])\n",
    "    iqr = quartile_3 - quartile_1\n",
    "    lower_whis = quartile_1 - (iqr * 1.5)\n",
    "    upper_whis = quartile_3 + (iqr * 1.5)\n",
    "    outliers = dt[(dt[col] > upper_whis) | (dt[col] < lower_whis)]\n",
    "    return outliers[[col]]\n"
   ]
  },
  {
   "cell_type": "code",
   "execution_count": 21,
   "id": "33c4aac4-37f7-40b3-9ba6-7e9b796f049b",
   "metadata": {},
   "outputs": [
    {
     "data": {
      "text/plain": [
       "4"
      ]
     },
     "execution_count": 21,
     "metadata": {},
     "output_type": "execute_result"
    }
   ],
   "source": [
    "8>>1"
   ]
  },
  {
   "cell_type": "code",
   "execution_count": 22,
   "id": "8b6a2681-d98f-48cb-b3b7-a5c939fc4a4c",
   "metadata": {},
   "outputs": [
    {
     "name": "stdout",
     "output_type": "stream",
     "text": [
      "7.76 ns ± 0.942 ns per loop (mean ± std. dev. of 7 runs, 100,000,000 loops each)\n"
     ]
    }
   ],
   "source": [
    "%%timeit\n",
    "2<<18"
   ]
  },
  {
   "cell_type": "code",
   "execution_count": null,
   "id": "3ccb3763-f91f-4260-a950-e7c9ea0d8310",
   "metadata": {},
   "outputs": [],
   "source": [
    "%%timeit\n",
    "# 2**10000000000000"
   ]
  },
  {
   "cell_type": "code",
   "execution_count": 20,
   "id": "9799e932-fed5-4962-91a1-0b5245b85a16",
   "metadata": {},
   "outputs": [
    {
     "data": {
      "text/plain": [
       "4"
      ]
     },
     "execution_count": 20,
     "metadata": {},
     "output_type": "execute_result"
    }
   ],
   "source": [
    "1 << 2"
   ]
  },
  {
   "cell_type": "code",
   "execution_count": 23,
   "id": "81942021-f5c3-4b2d-ad9f-77750c513900",
   "metadata": {},
   "outputs": [
    {
     "data": {
      "text/html": [
       "<div>\n",
       "<style scoped>\n",
       "    .dataframe tbody tr th:only-of-type {\n",
       "        vertical-align: middle;\n",
       "    }\n",
       "\n",
       "    .dataframe tbody tr th {\n",
       "        vertical-align: top;\n",
       "    }\n",
       "\n",
       "    .dataframe thead th {\n",
       "        text-align: right;\n",
       "    }\n",
       "</style>\n",
       "<table border=\"1\" class=\"dataframe\">\n",
       "  <thead>\n",
       "    <tr style=\"text-align: right;\">\n",
       "      <th></th>\n",
       "      <th>color_intensity</th>\n",
       "    </tr>\n",
       "  </thead>\n",
       "  <tbody>\n",
       "    <tr>\n",
       "      <th>151</th>\n",
       "      <td>10.80</td>\n",
       "    </tr>\n",
       "    <tr>\n",
       "      <th>158</th>\n",
       "      <td>13.00</td>\n",
       "    </tr>\n",
       "    <tr>\n",
       "      <th>159</th>\n",
       "      <td>11.75</td>\n",
       "    </tr>\n",
       "    <tr>\n",
       "      <th>166</th>\n",
       "      <td>10.68</td>\n",
       "    </tr>\n",
       "  </tbody>\n",
       "</table>\n",
       "</div>"
      ],
      "text/plain": [
       "     color_intensity\n",
       "151            10.80\n",
       "158            13.00\n",
       "159            11.75\n",
       "166            10.68"
      ]
     },
     "execution_count": 23,
     "metadata": {},
     "output_type": "execute_result"
    }
   ],
   "source": [
    "outliers_iqr(wine,\"color_intensity\") "
   ]
  },
  {
   "cell_type": "code",
   "execution_count": 25,
   "id": "fa6455da-fd66-47b0-b257-b58c5c1cedb4",
   "metadata": {},
   "outputs": [],
   "source": [
    "wine_outliers = wine.drop(index=outliers_iqr(wine,\"color_intensity\").index)"
   ]
  },
  {
   "cell_type": "code",
   "execution_count": 26,
   "id": "f3ddc905-4e29-4d31-8e20-9ca7b508d9d9",
   "metadata": {},
   "outputs": [
    {
     "data": {
      "text/plain": [
       "(178, 14)"
      ]
     },
     "execution_count": 26,
     "metadata": {},
     "output_type": "execute_result"
    }
   ],
   "source": [
    "wine.shape"
   ]
  },
  {
   "cell_type": "code",
   "execution_count": 27,
   "id": "ce21fc92-2061-4333-a021-b5b08582ed28",
   "metadata": {},
   "outputs": [
    {
     "data": {
      "text/plain": [
       "(174, 14)"
      ]
     },
     "execution_count": 27,
     "metadata": {},
     "output_type": "execute_result"
    }
   ],
   "source": [
    "wine_outliers.shape"
   ]
  },
  {
   "cell_type": "code",
   "execution_count": 63,
   "id": "670f1b88-abd2-4ce4-9ae3-b4fc291d3b56",
   "metadata": {},
   "outputs": [
    {
     "data": {
      "text/plain": [
       "5.058089882022472"
      ]
     },
     "execution_count": 63,
     "metadata": {},
     "output_type": "execute_result"
    }
   ],
   "source": [
    "wine['color_intensity'].mean()"
   ]
  },
  {
   "cell_type": "code",
   "execution_count": 65,
   "id": "695a18dc-203c-4374-a71f-b271345534df",
   "metadata": {},
   "outputs": [],
   "source": [
    "wine.loc[outliers_iqr(wine,\"color_intensity\").index, \"color_intensity\"] = np.NaN"
   ]
  },
  {
   "cell_type": "code",
   "execution_count": 66,
   "id": "b50e436c-1fe9-4b31-83a7-7b94b53d3a41",
   "metadata": {},
   "outputs": [
    {
     "data": {
      "text/plain": [
       "4.908678155172414"
      ]
     },
     "execution_count": 66,
     "metadata": {},
     "output_type": "execute_result"
    }
   ],
   "source": [
    "wine['color_intensity'].mean() #null값 제외"
   ]
  },
  {
   "cell_type": "code",
   "execution_count": 67,
   "id": "7df3f948-3be6-41d8-9d14-2e8e5dffbec1",
   "metadata": {},
   "outputs": [
    {
     "data": {
      "text/plain": [
       "0       5.64\n",
       "1       4.38\n",
       "2       5.68\n",
       "3       7.80\n",
       "4       4.32\n",
       "       ...  \n",
       "173     7.70\n",
       "174     7.30\n",
       "175    10.20\n",
       "176     9.30\n",
       "177     9.20\n",
       "Name: color_intensity, Length: 178, dtype: float64"
      ]
     },
     "execution_count": 67,
     "metadata": {},
     "output_type": "execute_result"
    }
   ],
   "source": [
    "wine[\"color_intensity\"].fillna(wine[\"color_intensity\"].mean())"
   ]
  },
  {
   "cell_type": "markdown",
   "id": "74be5362-bcfa-49fb-aed4-e90290eca5c1",
   "metadata": {},
   "source": [
    "# 범주형"
   ]
  },
  {
   "cell_type": "code",
   "execution_count": null,
   "id": "341898c5-9478-4f1b-b645-f1f0f3b9a3ab",
   "metadata": {},
   "outputs": [],
   "source": [
    "# 원핫인코딩\n",
    "#라벨인코딩"
   ]
  },
  {
   "cell_type": "code",
   "execution_count": 57,
   "id": "0534d65d-328a-40b7-8a9d-048407b622b7",
   "metadata": {},
   "outputs": [],
   "source": [
    "import pandas as pd\n",
    "from sklearn.datasets import load_iris\n",
    "\n",
    "iris = load_iris()"
   ]
  },
  {
   "cell_type": "code",
   "execution_count": 58,
   "id": "7fbfbbdb-294d-4e6a-a29d-fad1157c91d0",
   "metadata": {},
   "outputs": [
    {
     "data": {
      "text/plain": [
       "dict_keys(['data', 'target', 'frame', 'target_names', 'DESCR', 'feature_names', 'filename', 'data_module'])"
      ]
     },
     "execution_count": 58,
     "metadata": {},
     "output_type": "execute_result"
    }
   ],
   "source": [
    "iris.keys()"
   ]
  },
  {
   "cell_type": "code",
   "execution_count": 59,
   "id": "a72d4155-2cd5-47f6-85d3-dddaf6ac9cf5",
   "metadata": {},
   "outputs": [],
   "source": [
    "iris_df = pd.DataFrame(data=iris.data, columns=iris.feature_names)\n",
    "iris_df['Class'] = list(map(lambda x : {0 : 'Setosa', 1: 'Versicolour', 2:'Virginica'}[x], iris.target))\n",
    "\n",
    "\n",
    "iris_df['Class'] = pd.Categorical(iris_df['Class'])\n"
   ]
  },
  {
   "cell_type": "code",
   "execution_count": 60,
   "id": "cfe5f4e8-8be7-487e-8cdd-b4a18b9d2219",
   "metadata": {},
   "outputs": [
    {
     "name": "stdout",
     "output_type": "stream",
     "text": [
      "<class 'pandas.core.frame.DataFrame'>\n",
      "RangeIndex: 150 entries, 0 to 149\n",
      "Data columns (total 5 columns):\n",
      " #   Column             Non-Null Count  Dtype   \n",
      "---  ------             --------------  -----   \n",
      " 0   sepal length (cm)  150 non-null    float64 \n",
      " 1   sepal width (cm)   150 non-null    float64 \n",
      " 2   petal length (cm)  150 non-null    float64 \n",
      " 3   petal width (cm)   150 non-null    float64 \n",
      " 4   Class              150 non-null    category\n",
      "dtypes: category(1), float64(4)\n",
      "memory usage: 5.1 KB\n"
     ]
    }
   ],
   "source": [
    "iris_df.info()"
   ]
  },
  {
   "cell_type": "code",
   "execution_count": 68,
   "id": "b812000a-af37-4326-a7ce-4228c3d8ec5c",
   "metadata": {},
   "outputs": [
    {
     "data": {
      "text/html": [
       "<div>\n",
       "<style scoped>\n",
       "    .dataframe tbody tr th:only-of-type {\n",
       "        vertical-align: middle;\n",
       "    }\n",
       "\n",
       "    .dataframe tbody tr th {\n",
       "        vertical-align: top;\n",
       "    }\n",
       "\n",
       "    .dataframe thead th {\n",
       "        text-align: right;\n",
       "    }\n",
       "</style>\n",
       "<table border=\"1\" class=\"dataframe\">\n",
       "  <thead>\n",
       "    <tr style=\"text-align: right;\">\n",
       "      <th></th>\n",
       "      <th>sepal length (cm)</th>\n",
       "      <th>sepal width (cm)</th>\n",
       "      <th>petal length (cm)</th>\n",
       "      <th>petal width (cm)</th>\n",
       "      <th>Class_Setosa</th>\n",
       "      <th>Class_Versicolour</th>\n",
       "      <th>Class_Virginica</th>\n",
       "    </tr>\n",
       "  </thead>\n",
       "  <tbody>\n",
       "    <tr>\n",
       "      <th>0</th>\n",
       "      <td>5.1</td>\n",
       "      <td>3.5</td>\n",
       "      <td>1.4</td>\n",
       "      <td>0.2</td>\n",
       "      <td>True</td>\n",
       "      <td>False</td>\n",
       "      <td>False</td>\n",
       "    </tr>\n",
       "    <tr>\n",
       "      <th>1</th>\n",
       "      <td>4.9</td>\n",
       "      <td>3.0</td>\n",
       "      <td>1.4</td>\n",
       "      <td>0.2</td>\n",
       "      <td>True</td>\n",
       "      <td>False</td>\n",
       "      <td>False</td>\n",
       "    </tr>\n",
       "    <tr>\n",
       "      <th>2</th>\n",
       "      <td>4.7</td>\n",
       "      <td>3.2</td>\n",
       "      <td>1.3</td>\n",
       "      <td>0.2</td>\n",
       "      <td>True</td>\n",
       "      <td>False</td>\n",
       "      <td>False</td>\n",
       "    </tr>\n",
       "    <tr>\n",
       "      <th>3</th>\n",
       "      <td>4.6</td>\n",
       "      <td>3.1</td>\n",
       "      <td>1.5</td>\n",
       "      <td>0.2</td>\n",
       "      <td>True</td>\n",
       "      <td>False</td>\n",
       "      <td>False</td>\n",
       "    </tr>\n",
       "    <tr>\n",
       "      <th>4</th>\n",
       "      <td>5.0</td>\n",
       "      <td>3.6</td>\n",
       "      <td>1.4</td>\n",
       "      <td>0.2</td>\n",
       "      <td>True</td>\n",
       "      <td>False</td>\n",
       "      <td>False</td>\n",
       "    </tr>\n",
       "    <tr>\n",
       "      <th>...</th>\n",
       "      <td>...</td>\n",
       "      <td>...</td>\n",
       "      <td>...</td>\n",
       "      <td>...</td>\n",
       "      <td>...</td>\n",
       "      <td>...</td>\n",
       "      <td>...</td>\n",
       "    </tr>\n",
       "    <tr>\n",
       "      <th>145</th>\n",
       "      <td>6.7</td>\n",
       "      <td>3.0</td>\n",
       "      <td>5.2</td>\n",
       "      <td>2.3</td>\n",
       "      <td>False</td>\n",
       "      <td>False</td>\n",
       "      <td>True</td>\n",
       "    </tr>\n",
       "    <tr>\n",
       "      <th>146</th>\n",
       "      <td>6.3</td>\n",
       "      <td>2.5</td>\n",
       "      <td>5.0</td>\n",
       "      <td>1.9</td>\n",
       "      <td>False</td>\n",
       "      <td>False</td>\n",
       "      <td>True</td>\n",
       "    </tr>\n",
       "    <tr>\n",
       "      <th>147</th>\n",
       "      <td>6.5</td>\n",
       "      <td>3.0</td>\n",
       "      <td>5.2</td>\n",
       "      <td>2.0</td>\n",
       "      <td>False</td>\n",
       "      <td>False</td>\n",
       "      <td>True</td>\n",
       "    </tr>\n",
       "    <tr>\n",
       "      <th>148</th>\n",
       "      <td>6.2</td>\n",
       "      <td>3.4</td>\n",
       "      <td>5.4</td>\n",
       "      <td>2.3</td>\n",
       "      <td>False</td>\n",
       "      <td>False</td>\n",
       "      <td>True</td>\n",
       "    </tr>\n",
       "    <tr>\n",
       "      <th>149</th>\n",
       "      <td>5.9</td>\n",
       "      <td>3.0</td>\n",
       "      <td>5.1</td>\n",
       "      <td>1.8</td>\n",
       "      <td>False</td>\n",
       "      <td>False</td>\n",
       "      <td>True</td>\n",
       "    </tr>\n",
       "  </tbody>\n",
       "</table>\n",
       "<p>150 rows × 7 columns</p>\n",
       "</div>"
      ],
      "text/plain": [
       "     sepal length (cm)  sepal width (cm)  petal length (cm)  petal width (cm)  \\\n",
       "0                  5.1               3.5                1.4               0.2   \n",
       "1                  4.9               3.0                1.4               0.2   \n",
       "2                  4.7               3.2                1.3               0.2   \n",
       "3                  4.6               3.1                1.5               0.2   \n",
       "4                  5.0               3.6                1.4               0.2   \n",
       "..                 ...               ...                ...               ...   \n",
       "145                6.7               3.0                5.2               2.3   \n",
       "146                6.3               2.5                5.0               1.9   \n",
       "147                6.5               3.0                5.2               2.0   \n",
       "148                6.2               3.4                5.4               2.3   \n",
       "149                5.9               3.0                5.1               1.8   \n",
       "\n",
       "     Class_Setosa  Class_Versicolour  Class_Virginica  \n",
       "0            True              False            False  \n",
       "1            True              False            False  \n",
       "2            True              False            False  \n",
       "3            True              False            False  \n",
       "4            True              False            False  \n",
       "..            ...                ...              ...  \n",
       "145         False              False             True  \n",
       "146         False              False             True  \n",
       "147         False              False             True  \n",
       "148         False              False             True  \n",
       "149         False              False             True  \n",
       "\n",
       "[150 rows x 7 columns]"
      ]
     },
     "execution_count": 68,
     "metadata": {},
     "output_type": "execute_result"
    }
   ],
   "source": [
    "pd.get_dummies(iris_df,columns=[\"Class\"])\n",
    "# 한컬럼을 지움으로서 전부다 0이면 그 지운컬럼값을 가졋구나라고 예측가능"
   ]
  },
  {
   "cell_type": "markdown",
   "id": "8fcdbb29-10c4-409a-ba13-6eeaaccd2ad3",
   "metadata": {},
   "source": [
    "# 데이터 분할"
   ]
  },
  {
   "cell_type": "code",
   "execution_count": 69,
   "id": "7bfa5146-cb91-40b6-ab72-bf899da7d8a4",
   "metadata": {},
   "outputs": [],
   "source": [
    "from sklearn.model_selection import train_test_split\n",
    "\n",
    "# 8 2 train test\n",
    "# 7 2 1 train test valid\n",
    "# cross_validation\n",
    "# k-fold\n",
    "\n",
    "# stratify 아 비율 잘섞이게 도와주는거"
   ]
  },
  {
   "cell_type": "code",
   "execution_count": 71,
   "id": "5ac1aa6c-daec-4311-a404-80228c2d460c",
   "metadata": {},
   "outputs": [],
   "source": [
    "# ?train_test_split"
   ]
  },
  {
   "cell_type": "code",
   "execution_count": 72,
   "id": "917bf252-e025-42bd-908f-bb6d1058ad9e",
   "metadata": {},
   "outputs": [],
   "source": [
    "# 변수개수에 따라 리스트로 패킹한다\n",
    "tmp =train_test_split(iris_df.drop(columns='Class'), iris_df['Class'], test_size = 0.2)"
   ]
  },
  {
   "cell_type": "code",
   "execution_count": 73,
   "id": "3bdb5a7d-543f-49dc-8d32-30d0a87e2749",
   "metadata": {},
   "outputs": [
    {
     "data": {
      "text/plain": [
       "4"
      ]
     },
     "execution_count": 73,
     "metadata": {},
     "output_type": "execute_result"
    }
   ],
   "source": [
    "tmp.__len__()"
   ]
  },
  {
   "cell_type": "code",
   "execution_count": 79,
   "id": "b36480b4-a30a-45d9-a381-1d05dd8be12e",
   "metadata": {},
   "outputs": [],
   "source": [
    "X_train, X_test, y_train, y_test = train_test_split(iris_df.drop(columns='Class'), iris_df['Class'], test_size = 0.2,\n",
    "                                                   stratify=iris_df[\"Class\"])"
   ]
  },
  {
   "cell_type": "code",
   "execution_count": 80,
   "id": "c59f2fa2-ff0d-4b8e-86d8-1ead320bdccf",
   "metadata": {},
   "outputs": [
    {
     "data": {
      "text/plain": [
       "Class\n",
       "Setosa         0.333333\n",
       "Versicolour    0.333333\n",
       "Virginica      0.333333\n",
       "Name: proportion, dtype: float64"
      ]
     },
     "execution_count": 80,
     "metadata": {},
     "output_type": "execute_result"
    }
   ],
   "source": [
    "y_train.value_counts(normalize=True)"
   ]
  },
  {
   "cell_type": "code",
   "execution_count": 81,
   "id": "ce28690e-cef5-4708-8d85-aba2cc4c2220",
   "metadata": {},
   "outputs": [
    {
     "data": {
      "text/plain": [
       "Class\n",
       "Setosa         0.333333\n",
       "Versicolour    0.333333\n",
       "Virginica      0.333333\n",
       "Name: proportion, dtype: float64"
      ]
     },
     "execution_count": 81,
     "metadata": {},
     "output_type": "execute_result"
    }
   ],
   "source": [
    "y_test.value_counts(normalize=True)"
   ]
  },
  {
   "cell_type": "markdown",
   "id": "907d6de8-f3f3-429d-ad12-f2f8511fd94b",
   "metadata": {},
   "source": [
    "# 데이터스케일링"
   ]
  },
  {
   "cell_type": "code",
   "execution_count": 83,
   "id": "df0d2ca5-e985-4912-90df-e953067b38c2",
   "metadata": {},
   "outputs": [],
   "source": [
    "from sklearn.preprocessing import StandardScaler, MinMaxScaler"
   ]
  },
  {
   "cell_type": "code",
   "execution_count": 85,
   "id": "9041dc06-9540-473b-9432-53854d36e017",
   "metadata": {},
   "outputs": [],
   "source": [
    "from sklearn.preprocessing import StandardScaler, MinMaxScaler\n",
    "StdScaler = StandardScaler()\n",
    "\n",
    "# Train 데이터의 fitting과 스케일링\n",
    "StdScaler.fit(X_train)\n",
    "X_train_sc = StdScaler.transform(X_train)\n",
    "# StdScaler.fit_transform(X_train)\n",
    "# Test 데이터의 스케일링\n",
    "X_test_sc = StdScaler.transform(X_test)\n",
    "# TRAIN 시킨 스케일러러로 TEST 데이터 트랜스폼\n",
    "\n"
   ]
  },
  {
   "cell_type": "code",
   "execution_count": 86,
   "id": "db64bac8-2a34-4d09-9c10-1e8d43cff040",
   "metadata": {},
   "outputs": [
    {
     "name": "stdout",
     "output_type": "stream",
     "text": [
      "\t\t(min, max) (mean, std)\n",
      "Train_scaled (-2.50, 2.73) (0.00, 1.00)\n",
      "Test_scaled (-2.03, 3.21) (0.03, 1.09)\n"
     ]
    }
   ],
   "source": [
    "print(\"\\t\\t(min, max) (mean, std)\")\n",
    "print(\"Train_scaled (%.2f, %.2f) (%.2f, %.2f)\"%(X_train_sc.min(), X_train_sc.max(),  X_train_sc.mean(),  X_train_sc.std()))\n",
    "print(\"Test_scaled (%.2f, %.2f) (%.2f, %.2f)\"%(X_test_sc.min(), X_test_sc.max(),  X_test_sc.mean(),  X_test_sc.std()))\n"
   ]
  },
  {
   "cell_type": "code",
   "execution_count": null,
   "id": "e230dc6b-67ec-47fd-a6b7-20bdcafa92da",
   "metadata": {},
   "outputs": [],
   "source": [
    "# 표준화 방식\n",
    "# 컬럼들의 평균 0 표편1\n",
    "# 최솟값,최대값 없다\n",
    "# 이상치에 민감하다\n",
    "# 회귀보다 분류에 유용"
   ]
  },
  {
   "cell_type": "code",
   "execution_count": 87,
   "id": "6f50933a-9d69-46db-8d4b-8a014c3d0bda",
   "metadata": {},
   "outputs": [
    {
     "name": "stdout",
     "output_type": "stream",
     "text": [
      "\t\t(min, max) (mean, std)\n",
      "Train_scaled (0.00, 1.00) (0.46, 0.27)\n",
      "Test_scaled (-0.03, 1.09) (0.47, 0.28)\n"
     ]
    }
   ],
   "source": [
    "MmScaler = MinMaxScaler()\n",
    "\n",
    "# Train 데이터의 fitting과 스케일링\n",
    "MmScaler.fit(X_train)\n",
    "X_train_sc = MmScaler.transform(X_train)\n",
    "\n",
    "# Test 데이터의 스케일링\n",
    "X_test_sc = MmScaler.transform(X_test)\n",
    "\n",
    "\n",
    "print(\"\\t\\t(min, max) (mean, std)\")\n",
    "print(\"Train_scaled (%.2f, %.2f) (%.2f, %.2f)\"%(X_train_sc.min(), X_train_sc.max(),  X_train_sc.mean(),  X_train_sc.std()))\n",
    "print(\"Test_scaled (%.2f, %.2f) (%.2f, %.2f)\"%(X_test_sc.min(), X_test_sc.max(),  X_test_sc.mean(),  X_test_sc.std()))\n",
    "     \n",
    "# 컬럼들의 값이 0과 1사이로 국한된다\n",
    "# 분류보다 회귀에 유용"
   ]
  },
  {
   "cell_type": "code",
   "execution_count": 88,
   "id": "b68aa2d5-f0d5-470f-bf91-8f0aa8febda5",
   "metadata": {},
   "outputs": [
    {
     "name": "stdout",
     "output_type": "stream",
     "text": [
      "\t\t(min, max) (mean, std)\n",
      "Train_scaled (0.04, 1.00) (0.63, 0.24)\n",
      "Test_scaled (0.04, 1.05) (0.63, 0.25)\n"
     ]
    }
   ],
   "source": [
    "from sklearn.preprocessing import MaxAbsScaler\n",
    "\n",
    "MaScaler = MaxAbsScaler()\n",
    "\n",
    "# Train 데이터의 fitting과 스케일링\n",
    "MaScaler.fit(X_train)\n",
    "X_train_sc = MaScaler.transform(X_train)\n",
    "\n",
    "# Test 데이터의 스케일링\n",
    "X_test_sc = MaScaler.transform(X_test)\n",
    "\n",
    "\n",
    "print(\"\\t\\t(min, max) (mean, std)\")\n",
    "print(\"Train_scaled (%.2f, %.2f) (%.2f, %.2f)\"%(X_train_sc.min(), X_train_sc.max(),  X_train_sc.mean(),  X_train_sc.std()))\n",
    "print(\"Test_scaled (%.2f, %.2f) (%.2f, %.2f)\"%(X_test_sc.min(), X_test_sc.max(),  X_test_sc.mean(),  X_test_sc.std()))\n",
    "# - 최대절댓값과 0이 각각 1, 0이 되도록 스케일링\n",
    "# 모든값이 -1 ~ 1 사이에 표현\n",
    "# 데ㅣ터가 양수만 있을경우 MIN MAX와 동일\n",
    "# 이상치에 매우 미감\n",
    "# 분류보다 회구에 유\n"
   ]
  },
  {
   "cell_type": "code",
   "execution_count": 89,
   "id": "33e77d0f-aef9-42c5-a070-15b35ae7d545",
   "metadata": {},
   "outputs": [
    {
     "name": "stdout",
     "output_type": "stream",
     "text": [
      "\t\t(min, max) (mean, std)\n",
      "Train_scaled (-2.00, 2.40) (-0.02, 0.64)\n",
      "Test_scaled (-1.60, 2.80) (-0.00, 0.71)\n"
     ]
    }
   ],
   "source": [
    "from sklearn.preprocessing import RobustScaler\n",
    "\n",
    "RuScaler = RobustScaler()\n",
    "\n",
    "# Train 데이터의 fitting과 스케일링\n",
    "RuScaler.fit(X_train)\n",
    "X_train_sc = RuScaler.transform(X_train)\n",
    "\n",
    "# Test 데이터의 스케일링\n",
    "X_test_sc = RuScaler.transform(X_test)\n",
    "\n",
    "\n",
    "print(\"\\t\\t(min, max) (mean, std)\")\n",
    "print(\"Train_scaled (%.2f, %.2f) (%.2f, %.2f)\"%(X_train_sc.min(), X_train_sc.max(),  X_train_sc.mean(),  X_train_sc.std()))\n",
    "print(\"Test_scaled (%.2f, %.2f) (%.2f, %.2f)\"%(X_test_sc.min(), X_test_sc.max(),  X_test_sc.mean(),  X_test_sc.std()))\n",
    "# 이상치에 강건하다 민감하다\n",
    "# 평균과 분산 대신 중앙값과 사분위값 \n",
    "# 중앙값을 0으로 설정 IQR 이상치 영향을 최소화\n",
    "# quantile_range 파라미터를 조정ㅎ여 이상치 제어"
   ]
  },
  {
   "cell_type": "code",
   "execution_count": 90,
   "id": "54d4e7f6-28f6-4287-8b80-a2dfe25f4690",
   "metadata": {},
   "outputs": [
    {
     "data": {
      "text/html": [
       "<div>\n",
       "<style scoped>\n",
       "    .dataframe tbody tr th:only-of-type {\n",
       "        vertical-align: middle;\n",
       "    }\n",
       "\n",
       "    .dataframe tbody tr th {\n",
       "        vertical-align: top;\n",
       "    }\n",
       "\n",
       "    .dataframe thead th {\n",
       "        text-align: right;\n",
       "    }\n",
       "</style>\n",
       "<table border=\"1\" class=\"dataframe\">\n",
       "  <thead>\n",
       "    <tr style=\"text-align: right;\">\n",
       "      <th></th>\n",
       "      <th>0</th>\n",
       "      <th>1</th>\n",
       "      <th>2</th>\n",
       "      <th>3</th>\n",
       "    </tr>\n",
       "  </thead>\n",
       "  <tbody>\n",
       "    <tr>\n",
       "      <th>0</th>\n",
       "      <td>-0.230769</td>\n",
       "      <td>-1.4</td>\n",
       "      <td>-0.085714</td>\n",
       "      <td>0.000000</td>\n",
       "    </tr>\n",
       "    <tr>\n",
       "      <th>1</th>\n",
       "      <td>0.846154</td>\n",
       "      <td>0.4</td>\n",
       "      <td>0.400000</td>\n",
       "      <td>0.666667</td>\n",
       "    </tr>\n",
       "    <tr>\n",
       "      <th>2</th>\n",
       "      <td>0.769231</td>\n",
       "      <td>0.4</td>\n",
       "      <td>0.457143</td>\n",
       "      <td>0.666667</td>\n",
       "    </tr>\n",
       "  </tbody>\n",
       "</table>\n",
       "</div>"
      ],
      "text/plain": [
       "          0    1         2         3\n",
       "0 -0.230769 -1.4 -0.085714  0.000000\n",
       "1  0.846154  0.4  0.400000  0.666667\n",
       "2  0.769231  0.4  0.457143  0.666667"
      ]
     },
     "metadata": {},
     "output_type": "display_data"
    },
    {
     "data": {
      "text/html": [
       "<div>\n",
       "<style scoped>\n",
       "    .dataframe tbody tr th:only-of-type {\n",
       "        vertical-align: middle;\n",
       "    }\n",
       "\n",
       "    .dataframe tbody tr th {\n",
       "        vertical-align: top;\n",
       "    }\n",
       "\n",
       "    .dataframe thead th {\n",
       "        text-align: right;\n",
       "    }\n",
       "</style>\n",
       "<table border=\"1\" class=\"dataframe\">\n",
       "  <thead>\n",
       "    <tr style=\"text-align: right;\">\n",
       "      <th></th>\n",
       "      <th>0</th>\n",
       "      <th>1</th>\n",
       "      <th>2</th>\n",
       "      <th>3</th>\n",
       "    </tr>\n",
       "  </thead>\n",
       "  <tbody>\n",
       "    <tr>\n",
       "      <th>0</th>\n",
       "      <td>5.5</td>\n",
       "      <td>2.3</td>\n",
       "      <td>4.0</td>\n",
       "      <td>1.3</td>\n",
       "    </tr>\n",
       "    <tr>\n",
       "      <th>1</th>\n",
       "      <td>6.9</td>\n",
       "      <td>3.2</td>\n",
       "      <td>5.7</td>\n",
       "      <td>2.3</td>\n",
       "    </tr>\n",
       "    <tr>\n",
       "      <th>2</th>\n",
       "      <td>6.8</td>\n",
       "      <td>3.2</td>\n",
       "      <td>5.9</td>\n",
       "      <td>2.3</td>\n",
       "    </tr>\n",
       "  </tbody>\n",
       "</table>\n",
       "</div>"
      ],
      "text/plain": [
       "     0    1    2    3\n",
       "0  5.5  2.3  4.0  1.3\n",
       "1  6.9  3.2  5.7  2.3\n",
       "2  6.8  3.2  5.9  2.3"
      ]
     },
     "metadata": {},
     "output_type": "display_data"
    }
   ],
   "source": [
    "# - 데이터 원복 \n",
    "display(pd.DataFrame(X_train_sc).head(3))\n",
    "X_Original = RuScaler.inverse_transform(X_train_sc)\n",
    "display(pd.DataFrame(X_Original).head(3))\n"
   ]
  },
  {
   "cell_type": "markdown",
   "id": "eb6ca457-15dd-46ce-8c08-c835470cd34b",
   "metadata": {},
   "source": [
    "# 차원의저주"
   ]
  },
  {
   "cell_type": "code",
   "execution_count": 91,
   "id": "a6b66b3d-910d-43bb-8891-994b2ce2a739",
   "metadata": {},
   "outputs": [
    {
     "data": {
      "text/html": [
       "<div>\n",
       "<style scoped>\n",
       "    .dataframe tbody tr th:only-of-type {\n",
       "        vertical-align: middle;\n",
       "    }\n",
       "\n",
       "    .dataframe tbody tr th {\n",
       "        vertical-align: top;\n",
       "    }\n",
       "\n",
       "    .dataframe thead th {\n",
       "        text-align: right;\n",
       "    }\n",
       "</style>\n",
       "<table border=\"1\" class=\"dataframe\">\n",
       "  <thead>\n",
       "    <tr style=\"text-align: right;\">\n",
       "      <th></th>\n",
       "      <th>0</th>\n",
       "      <th>1</th>\n",
       "      <th>2</th>\n",
       "      <th>3</th>\n",
       "    </tr>\n",
       "  </thead>\n",
       "  <tbody>\n",
       "    <tr>\n",
       "      <th>0</th>\n",
       "      <td>-0.900681</td>\n",
       "      <td>1.019004</td>\n",
       "      <td>-1.340227</td>\n",
       "      <td>-1.315444</td>\n",
       "    </tr>\n",
       "    <tr>\n",
       "      <th>1</th>\n",
       "      <td>-1.143017</td>\n",
       "      <td>-0.131979</td>\n",
       "      <td>-1.340227</td>\n",
       "      <td>-1.315444</td>\n",
       "    </tr>\n",
       "    <tr>\n",
       "      <th>2</th>\n",
       "      <td>-1.385353</td>\n",
       "      <td>0.328414</td>\n",
       "      <td>-1.397064</td>\n",
       "      <td>-1.315444</td>\n",
       "    </tr>\n",
       "    <tr>\n",
       "      <th>3</th>\n",
       "      <td>-1.506521</td>\n",
       "      <td>0.098217</td>\n",
       "      <td>-1.283389</td>\n",
       "      <td>-1.315444</td>\n",
       "    </tr>\n",
       "    <tr>\n",
       "      <th>4</th>\n",
       "      <td>-1.021849</td>\n",
       "      <td>1.249201</td>\n",
       "      <td>-1.340227</td>\n",
       "      <td>-1.315444</td>\n",
       "    </tr>\n",
       "  </tbody>\n",
       "</table>\n",
       "</div>"
      ],
      "text/plain": [
       "          0         1         2         3\n",
       "0 -0.900681  1.019004 -1.340227 -1.315444\n",
       "1 -1.143017 -0.131979 -1.340227 -1.315444\n",
       "2 -1.385353  0.328414 -1.397064 -1.315444\n",
       "3 -1.506521  0.098217 -1.283389 -1.315444\n",
       "4 -1.021849  1.249201 -1.340227 -1.315444"
      ]
     },
     "execution_count": 91,
     "metadata": {},
     "output_type": "execute_result"
    }
   ],
   "source": [
    "# 수치형 데이터만 추출\n",
    "features = ['수치형변수1', '수치형변수2']\n",
    "x = iris_df.drop(columns = 'Class')\n",
    "\n",
    "# 수치형 변수 정규화\n",
    "from sklearn.preprocessing import StandardScaler\n",
    "x = StandardScaler().fit_transform(x)\n",
    "\n",
    "pd.DataFrame(x).head()\n",
    " \n"
   ]
  },
  {
   "cell_type": "code",
   "execution_count": 92,
   "id": "71e8720f-ddce-4dd6-8bc4-68edbf498319",
   "metadata": {},
   "outputs": [
    {
     "name": "stdout",
     "output_type": "stream",
     "text": [
      "고유 값 :  [20.92306556 11.7091661   4.69185798  1.76273239]\n",
      "분산 설명력:  [0.72962445 0.22850762 0.03668922 0.00517871]\n"
     ]
    }
   ],
   "source": [
    "from sklearn.decomposition import PCA\n",
    "pca = PCA( n_components = 4) \n",
    "pca_fit = pca.fit(x)\n",
    "\n",
    "print(\"고유 값 : \", pca.singular_values_)\n",
    "print(\"분산 설명력: \", pca.explained_variance_ratio_)\n"
   ]
  },
  {
   "cell_type": "code",
   "execution_count": 93,
   "id": "69524ce2-4207-4280-b144-43989fec0c40",
   "metadata": {},
   "outputs": [
    {
     "data": {
      "image/png": "[encoded data removed]",
      "text/plain": [
       "<Figure size 640x480 with 1 Axes>"
      ]
     },
     "metadata": {},
     "output_type": "display_data"
    }
   ],
   "source": [
    "import matplotlib.pyplot as plt\n",
    "\n",
    "plt.title('Scree Plot')\n",
    "plt.xlabel('Number of Components')\n",
    "plt.ylabel('Cumulative Explained Variance')\n",
    "plt.plot(pca.explained_variance_ratio_ , 'o-')\n",
    "plt.show()\n"
   ]
  },
  {
   "cell_type": "code",
   "execution_count": 94,
   "id": "a3083df4-4a13-4070-897a-db3c9e88ec9e",
   "metadata": {},
   "outputs": [
    {
     "data": {
      "text/html": [
       "<div>\n",
       "<style scoped>\n",
       "    .dataframe tbody tr th:only-of-type {\n",
       "        vertical-align: middle;\n",
       "    }\n",
       "\n",
       "    .dataframe tbody tr th {\n",
       "        vertical-align: top;\n",
       "    }\n",
       "\n",
       "    .dataframe thead th {\n",
       "        text-align: right;\n",
       "    }\n",
       "</style>\n",
       "<table border=\"1\" class=\"dataframe\">\n",
       "  <thead>\n",
       "    <tr style=\"text-align: right;\">\n",
       "      <th></th>\n",
       "      <th>pc1</th>\n",
       "      <th>pc2</th>\n",
       "    </tr>\n",
       "  </thead>\n",
       "  <tbody>\n",
       "    <tr>\n",
       "      <th>0</th>\n",
       "      <td>-2.264703</td>\n",
       "      <td>0.480027</td>\n",
       "    </tr>\n",
       "    <tr>\n",
       "      <th>1</th>\n",
       "      <td>-2.080961</td>\n",
       "      <td>-0.674134</td>\n",
       "    </tr>\n",
       "    <tr>\n",
       "      <th>2</th>\n",
       "      <td>-2.364229</td>\n",
       "      <td>-0.341908</td>\n",
       "    </tr>\n",
       "    <tr>\n",
       "      <th>3</th>\n",
       "      <td>-2.299384</td>\n",
       "      <td>-0.597395</td>\n",
       "    </tr>\n",
       "    <tr>\n",
       "      <th>4</th>\n",
       "      <td>-2.389842</td>\n",
       "      <td>0.646835</td>\n",
       "    </tr>\n",
       "  </tbody>\n",
       "</table>\n",
       "</div>"
      ],
      "text/plain": [
       "        pc1       pc2\n",
       "0 -2.264703  0.480027\n",
       "1 -2.080961 -0.674134\n",
       "2 -2.364229 -0.341908\n",
       "3 -2.299384 -0.597395\n",
       "4 -2.389842  0.646835"
      ]
     },
     "execution_count": 94,
     "metadata": {},
     "output_type": "execute_result"
    }
   ],
   "source": [
    "pca= PCA(n_components=2) #pca 객체분석\n",
    "principalComponents = pca.fit_transform(x)\n",
    "principal_iris = pd.DataFrame(data = principalComponents,columns=[\"pc1\",\"pc2\"])\n",
    "principal_iris.head()"
   ]
  },
  {
   "cell_type": "code",
   "execution_count": 95,
   "id": "fbe3bef1-2b1a-4249-b3e8-210cb6c9691b",
   "metadata": {},
   "outputs": [
    {
     "data": {
      "image/png": "[encoded data removed]",
      "text/plain": [
       "<Figure size 640x480 with 1 Axes>"
      ]
     },
     "metadata": {},
     "output_type": "display_data"
    }
   ],
   "source": [
    "import matplotlib.pyplot as plt\n",
    "import seaborn as sns\n",
    "\n",
    "plt.title('2 component PCA' )\n",
    "sns.scatterplot(x = 'pc1', y = 'pc2', hue = iris_df.Class,  data = principal_iris)\n",
    "plt.show()\n"
   ]
  },
  {
   "cell_type": "code",
   "execution_count": null,
   "id": "22efc685-8ba1-4c00-a11e-a09535acb573",
   "metadata": {},
   "outputs": [],
   "source": [
    "# 새로운 인공지능 기술 GAN !! GPU가 필요해서 COLAB을 사용"
   ]
  },
  {
   "cell_type": "code",
   "execution_count": null,
   "id": "78e8479f-6095-4a5f-b4d1-e0353887fd48",
   "metadata": {},
   "outputs": [],
   "source": [
    "# iris_df = pd.DataFrame(data=iris.data, columns=iris.feature_names)"
   ]
  },
  {
   "cell_type": "code",
   "execution_count": 54,
   "id": "ed36d1d6-3947-47ea-b95b-ddc5162af4ef",
   "metadata": {},
   "outputs": [],
   "source": [
    "# iris_df[\"Class\"] = list(map(lambda x : {0 : \"Setosa\" , 1 : \"Versicolour\", 2 : \"Virginica\"}[x], iris.target))"
   ]
  },
  {
   "cell_type": "code",
   "execution_count": 55,
   "id": "ec8aa76c-55b3-4837-adfc-d14a64893e7e",
   "metadata": {},
   "outputs": [],
   "source": [
    "# iris_df = pd.Categorical(iris_df[\"Class\"])"
   ]
  },
  {
   "cell_type": "code",
   "execution_count": 39,
   "id": "153237b7-6bea-457c-8cb4-d534b658e570",
   "metadata": {},
   "outputs": [],
   "source": [
    "# iris_df"
   ]
  },
  {
   "cell_type": "code",
   "execution_count": 56,
   "id": "47312522-b4bb-4f1d-aca1-48089e217484",
   "metadata": {},
   "outputs": [],
   "source": [
    "# iris_df.info()"
   ]
  },
  {
   "cell_type": "code",
   "execution_count": 29,
   "id": "ba616a8b-f100-4716-ab88-36113880c56f",
   "metadata": {},
   "outputs": [],
   "source": [
    "# wine.iloc[0]\n",
    "#원본데이터유지"
   ]
  }
 ],
 "metadata": {
  "kernelspec": {
   "display_name": "Python 3 (ipykernel)",
   "language": "python",
   "name": "python3"
  },
  "language_info": {
   "codemirror_mode": {
    "name": "ipython",
    "version": 3
   },
   "file_extension": ".py",
   "mimetype": "text/x-python",
   "name": "python",
   "nbconvert_exporter": "python",
   "pygments_lexer": "ipython3",
   "version": "3.10.12"
  }
 },
 "nbformat": 4,
 "nbformat_minor": 5
}
